{
 "cells": [
  {
   "cell_type": "markdown",
   "id": "b1df530d",
   "metadata": {},
   "source": [
    "# FM 24 Moneyball"
   ]
  },
  {
   "cell_type": "code",
   "execution_count": null,
   "id": "a0d6d750",
   "metadata": {},
   "outputs": [],
   "source": [
    "import numpy as np\n",
    "import pandas as pd \n",
    "import matplotlib.pyplot as plt\n",
    "import plotly.express as px\n",
    "import re\n",
    "\n",
    "# Import created functions\n",
    "import sys\n",
    "sys.path.append(r'C:\\Users\\kevmi\\Documents\\FM 24 Moneyball\\FM-24-Moneyball')\n",
    "\n",
    "from money_ball_util import *\n",
    "\n",
    "# Ignore warnings\n",
    "import warnings\n",
    "warnings.filterwarnings('ignore')\n",
    "\n",
    "# Show all columns in pandas\n",
    "pd.set_option('display.max_columns', 500) \n",
    "\n",
    "%matplotlib inline"
   ]
  },
  {
   "cell_type": "markdown",
   "id": "bd53e3cd",
   "metadata": {},
   "source": [
    "## Ingest and clean data"
   ]
  },
  {
   "cell_type": "code",
   "execution_count": null,
   "id": "7355e71f",
   "metadata": {},
   "outputs": [],
   "source": [
    "### Read raw data\n",
    "\n",
    "# Select file path for raw data\n",
    "path = r\"C:\\Users\\kevmi\\Documents\\FM 24 Moneyball\\FM Data Lab\\Man Utd\\FM 24 exports\\Summer 2024\\Strikers.html\"\n",
    "\n",
    "# Ingest in a dataframe\n",
    "df_players_raw = pd.read_html(path, encoding='utf-8')[0]\n",
    "\n",
    "# Format column names \n",
    "df_players_raw.columns = [x.lower().strip().replace(' ', '_').replace('-', '_') for x in df_players_raw.columns]\n",
    "\n",
    "# ---------------------------------------------------------------------------------------------------------------------\n",
    "\n",
    "### Read processed Data lab data\n",
    "\n",
    "# Select file path for processed data\n",
    "path = r\"C:\\Users\\kevmi\\Documents\\FM 24 Moneyball\\FM Data Lab\\Man Utd\\FM Data Lab outputs\\Winter 2023\\Strikers.csv\"\n",
    "\n",
    "# Ingest in a dataframe \n",
    "df_players = pd.read_csv(path)   \n",
    "\n",
    "# Format column names \n",
    "df_players.columns = [x.lower().strip().replace(' ', '_').replace('-', '_') for x in df_players.columns]\n",
    "\n",
    "# Bring ID from raw data\n",
    "df_players = df_players.merge(df_players_raw[['name', 'age', 'height', 'weight', 'uid']], \n",
    "                 left_on=['name', 'age', 'height', 'weight'], \n",
    "                 right_on=['name', 'age', 'height', 'weight']).reset_index().rename(columns={'level_0': 'id'})\n",
    "\n",
    "df_players['id'] = df_players['uid']\n",
    "\n",
    "df_players.drop(columns='uid', inplace=True)"
   ]
  },
  {
   "cell_type": "markdown",
   "id": "a4833287",
   "metadata": {},
   "source": [
    "## Data cleaning"
   ]
  },
  {
   "cell_type": "code",
   "execution_count": 29,
   "id": "31affa79",
   "metadata": {},
   "outputs": [
    {
     "data": {
      "text/html": [
       "<div>\n",
       "<style scoped>\n",
       "    .dataframe tbody tr th:only-of-type {\n",
       "        vertical-align: middle;\n",
       "    }\n",
       "\n",
       "    .dataframe tbody tr th {\n",
       "        vertical-align: top;\n",
       "    }\n",
       "\n",
       "    .dataframe thead th {\n",
       "        text-align: right;\n",
       "    }\n",
       "</style>\n",
       "<table border=\"1\" class=\"dataframe\">\n",
       "  <thead>\n",
       "    <tr style=\"text-align: right;\">\n",
       "      <th></th>\n",
       "      <th>id</th>\n",
       "      <th>name</th>\n",
       "      <th>position</th>\n",
       "      <th>age</th>\n",
       "      <th>height</th>\n",
       "      <th>weight</th>\n",
       "      <th>inf</th>\n",
       "      <th>club</th>\n",
       "      <th>division</th>\n",
       "      <th>nationality</th>\n",
       "      <th>home_grown</th>\n",
       "      <th>personality</th>\n",
       "      <th>media_handling</th>\n",
       "      <th>wage</th>\n",
       "      <th>transfer_value</th>\n",
       "      <th>asking_price</th>\n",
       "      <th>preferred_foot</th>\n",
       "      <th>starts</th>\n",
       "      <th>minutes_played</th>\n",
       "      <th>average_rating</th>\n",
       "      <th>sub_appearances</th>\n",
       "      <th>minutes/game</th>\n",
       "      <th>index</th>\n",
       "      <th>goals/90</th>\n",
       "      <th>minutes/goal</th>\n",
       "      <th>xg/90</th>\n",
       "      <th>xg/shot</th>\n",
       "      <th>xg_overperformance/90</th>\n",
       "      <th>non_pen_goals/90</th>\n",
       "      <th>non_pen_goals/shot</th>\n",
       "      <th>minutes/non_pen_goal</th>\n",
       "      <th>non_pen_xg/90</th>\n",
       "      <th>non_pen_goals___non_pens_xg_/90</th>\n",
       "      <th>non_pen_xg/shot</th>\n",
       "      <th>non_pen_xg_overperformance/90</th>\n",
       "      <th>goals_outside_box/90</th>\n",
       "      <th>assists/90</th>\n",
       "      <th>minutes/assist</th>\n",
       "      <th>xa/90</th>\n",
       "      <th>xa_overperformance</th>\n",
       "      <th>xa_overperformance/90</th>\n",
       "      <th>assists/clear_cut_chances_created</th>\n",
       "      <th>goal_contributions/90</th>\n",
       "      <th>xgc/90</th>\n",
       "      <th>xgc_overperformance/90</th>\n",
       "      <th>non_pen_goal_contributions/90</th>\n",
       "      <th>non_pen_xgc/90</th>\n",
       "      <th>non_pen_xgc_overperformance/90</th>\n",
       "      <th>conversion_%</th>\n",
       "      <th>shots/90</th>\n",
       "      <th>shots_on_target/90</th>\n",
       "      <th>shots_on_target_%</th>\n",
       "      <th>shots_outside_box/90</th>\n",
       "      <th>passes_attempted/90</th>\n",
       "      <th>passes_completed/90</th>\n",
       "      <th>pass_completion_%</th>\n",
       "      <th>progressive_passes/90</th>\n",
       "      <th>progressive_pass_rate</th>\n",
       "      <th>key_passes/90</th>\n",
       "      <th>key_pass_%</th>\n",
       "      <th>open_play_key_passes/90</th>\n",
       "      <th>open_play_key_pass_%</th>\n",
       "      <th>chances_created/90</th>\n",
       "      <th>clear_cut_chances_created/90</th>\n",
       "      <th>pressures_attempted/90</th>\n",
       "      <th>pressures_completed/90</th>\n",
       "      <th>pressure_success_%</th>\n",
       "      <th>possession_won/90</th>\n",
       "      <th>possession_lost/90</th>\n",
       "      <th>poss+_/90</th>\n",
       "      <th>poss+__%</th>\n",
       "      <th>dribbles/90</th>\n",
       "      <th>headers_attempted/90</th>\n",
       "      <th>headers_won/90</th>\n",
       "      <th>headers_won_%</th>\n",
       "      <th>headers_lost/90</th>\n",
       "      <th>headers_lost_%</th>\n",
       "      <th>key_headers/90</th>\n",
       "      <th>aerial_challenges_attempted/90</th>\n",
       "      <th>duels_win_%</th>\n",
       "      <th>player_of_the_match</th>\n",
       "      <th>mistakes_leading_to_goal</th>\n",
       "      <th>sprints/90</th>\n",
       "      <th>attacking_actions/90</th>\n",
       "      <th>creative_actions/90</th>\n",
       "      <th>defensive_actions/90</th>\n",
       "      <th>goalkeeping_actions/90</th>\n",
       "      <th>excitement_factor/90</th>\n",
       "      <th>general_performance</th>\n",
       "      <th>goalkeeping</th>\n",
       "      <th>defensive_defender</th>\n",
       "      <th>creative_defender</th>\n",
       "      <th>attacking_defender</th>\n",
       "      <th>creative_midfielder</th>\n",
       "      <th>attacking_midfielder</th>\n",
       "      <th>creative_winger</th>\n",
       "      <th>attacking_winger</th>\n",
       "      <th>creative_forward</th>\n",
       "      <th>attacking_forward</th>\n",
       "      <th>finisher</th>\n",
       "      <th>aerial_threat</th>\n",
       "      <th>reader</th>\n",
       "      <th>assister</th>\n",
       "    </tr>\n",
       "  </thead>\n",
       "  <tbody>\n",
       "    <tr>\n",
       "      <th>0</th>\n",
       "      <td>168222</td>\n",
       "      <td>Mats Seuntjens</td>\n",
       "      <td>M (LC), AM (RLC), ST (C)</td>\n",
       "      <td>31</td>\n",
       "      <td>187 cm</td>\n",
       "      <td>78 kg</td>\n",
       "      <td>Unh</td>\n",
       "      <td>RKC Waalwijk</td>\n",
       "      <td>Eredivisie</td>\n",
       "      <td>NED</td>\n",
       "      <td>-</td>\n",
       "      <td>-</td>\n",
       "      <td>Scouting Required</td>\n",
       "      <td>$3,200 p/w</td>\n",
       "      <td>$160K - $1.6M</td>\n",
       "      <td>-</td>\n",
       "      <td>Right</td>\n",
       "      <td>15</td>\n",
       "      <td>1305</td>\n",
       "      <td>6.60</td>\n",
       "      <td>0</td>\n",
       "      <td>87.00</td>\n",
       "      <td>0</td>\n",
       "      <td>0.07</td>\n",
       "      <td>1305.00</td>\n",
       "      <td>0.07</td>\n",
       "      <td>0.06</td>\n",
       "      <td>0.00</td>\n",
       "      <td>0.07</td>\n",
       "      <td>0.07</td>\n",
       "      <td>1305.00</td>\n",
       "      <td>0.07</td>\n",
       "      <td>0.00</td>\n",
       "      <td>0.06</td>\n",
       "      <td>0.00</td>\n",
       "      <td>0.00</td>\n",
       "      <td>0.14</td>\n",
       "      <td>652.50</td>\n",
       "      <td>0.08</td>\n",
       "      <td>0.79</td>\n",
       "      <td>0.05</td>\n",
       "      <td>0.00</td>\n",
       "      <td>0.21</td>\n",
       "      <td>0.15</td>\n",
       "      <td>0.06</td>\n",
       "      <td>0.21</td>\n",
       "      <td>0.15</td>\n",
       "      <td>0.06</td>\n",
       "      <td>7</td>\n",
       "      <td>1.03</td>\n",
       "      <td>0.48</td>\n",
       "      <td>47</td>\n",
       "      <td>0.48</td>\n",
       "      <td>31.45</td>\n",
       "      <td>25.45</td>\n",
       "      <td>81</td>\n",
       "      <td>1.03</td>\n",
       "      <td>3.29</td>\n",
       "      <td>0.90</td>\n",
       "      <td>2.85</td>\n",
       "      <td>0.62</td>\n",
       "      <td>1.97</td>\n",
       "      <td>0.07</td>\n",
       "      <td>0.07</td>\n",
       "      <td>9.38</td>\n",
       "      <td>1.59</td>\n",
       "      <td>16.91</td>\n",
       "      <td>5.38</td>\n",
       "      <td>11.52</td>\n",
       "      <td>-6.14</td>\n",
       "      <td>-53.30</td>\n",
       "      <td>2.00</td>\n",
       "      <td>8.69</td>\n",
       "      <td>4.00</td>\n",
       "      <td>46.03</td>\n",
       "      <td>4.69</td>\n",
       "      <td>53.97</td>\n",
       "      <td>0.00</td>\n",
       "      <td>8.69</td>\n",
       "      <td>52.20</td>\n",
       "      <td>0</td>\n",
       "      <td>0</td>\n",
       "      <td>12.07</td>\n",
       "      <td>2.52</td>\n",
       "      <td>1.03</td>\n",
       "      <td>8.99</td>\n",
       "      <td>0</td>\n",
       "      <td>4.55</td>\n",
       "      <td>18</td>\n",
       "      <td>100</td>\n",
       "      <td>65</td>\n",
       "      <td>57</td>\n",
       "      <td>51</td>\n",
       "      <td>7</td>\n",
       "      <td>5</td>\n",
       "      <td>20</td>\n",
       "      <td>25</td>\n",
       "      <td>16</td>\n",
       "      <td>13</td>\n",
       "      <td>6</td>\n",
       "      <td>51</td>\n",
       "      <td>59</td>\n",
       "      <td>54</td>\n",
       "    </tr>\n",
       "    <tr>\n",
       "      <th>1</th>\n",
       "      <td>211522</td>\n",
       "      <td>Chris Bedia</td>\n",
       "      <td>ST (C)</td>\n",
       "      <td>27</td>\n",
       "      <td>190 cm</td>\n",
       "      <td>85 kg</td>\n",
       "      <td>-</td>\n",
       "      <td>Union Berlin</td>\n",
       "      <td>Bundesliga</td>\n",
       "      <td>CIV (FRA)</td>\n",
       "      <td>-</td>\n",
       "      <td>-</td>\n",
       "      <td>Scouting Required</td>\n",
       "      <td>$24,500 p/w</td>\n",
       "      <td>$450K - $4.4M</td>\n",
       "      <td>-</td>\n",
       "      <td>Left</td>\n",
       "      <td>11</td>\n",
       "      <td>1095</td>\n",
       "      <td>6.73</td>\n",
       "      <td>7</td>\n",
       "      <td>60.83</td>\n",
       "      <td>1</td>\n",
       "      <td>0.16</td>\n",
       "      <td>547.50</td>\n",
       "      <td>0.26</td>\n",
       "      <td>0.14</td>\n",
       "      <td>-0.10</td>\n",
       "      <td>0.16</td>\n",
       "      <td>0.09</td>\n",
       "      <td>547.50</td>\n",
       "      <td>0.26</td>\n",
       "      <td>-0.10</td>\n",
       "      <td>0.14</td>\n",
       "      <td>-0.10</td>\n",
       "      <td>0.00</td>\n",
       "      <td>0.08</td>\n",
       "      <td>1095.00</td>\n",
       "      <td>0.04</td>\n",
       "      <td>0.51</td>\n",
       "      <td>0.04</td>\n",
       "      <td>0.00</td>\n",
       "      <td>0.25</td>\n",
       "      <td>0.30</td>\n",
       "      <td>-0.06</td>\n",
       "      <td>0.25</td>\n",
       "      <td>0.30</td>\n",
       "      <td>-0.06</td>\n",
       "      <td>9</td>\n",
       "      <td>1.89</td>\n",
       "      <td>0.66</td>\n",
       "      <td>35</td>\n",
       "      <td>0.33</td>\n",
       "      <td>24.49</td>\n",
       "      <td>20.14</td>\n",
       "      <td>82</td>\n",
       "      <td>0.49</td>\n",
       "      <td>2.01</td>\n",
       "      <td>0.49</td>\n",
       "      <td>2.01</td>\n",
       "      <td>0.41</td>\n",
       "      <td>1.68</td>\n",
       "      <td>0.50</td>\n",
       "      <td>0.08</td>\n",
       "      <td>7.23</td>\n",
       "      <td>1.15</td>\n",
       "      <td>15.91</td>\n",
       "      <td>5.42</td>\n",
       "      <td>8.96</td>\n",
       "      <td>-3.54</td>\n",
       "      <td>-39.51</td>\n",
       "      <td>1.32</td>\n",
       "      <td>12.49</td>\n",
       "      <td>6.00</td>\n",
       "      <td>48.03</td>\n",
       "      <td>6.49</td>\n",
       "      <td>51.97</td>\n",
       "      <td>0.08</td>\n",
       "      <td>12.49</td>\n",
       "      <td>50.00</td>\n",
       "      <td>0</td>\n",
       "      <td>0</td>\n",
       "      <td>7.32</td>\n",
       "      <td>2.04</td>\n",
       "      <td>0.58</td>\n",
       "      <td>10.08</td>\n",
       "      <td>0</td>\n",
       "      <td>3.86</td>\n",
       "      <td>4</td>\n",
       "      <td>100</td>\n",
       "      <td>48</td>\n",
       "      <td>11</td>\n",
       "      <td>9</td>\n",
       "      <td>2</td>\n",
       "      <td>1</td>\n",
       "      <td>2</td>\n",
       "      <td>3</td>\n",
       "      <td>6</td>\n",
       "      <td>2</td>\n",
       "      <td>14</td>\n",
       "      <td>82</td>\n",
       "      <td>77</td>\n",
       "      <td>29</td>\n",
       "    </tr>\n",
       "    <tr>\n",
       "      <th>2</th>\n",
       "      <td>11022221</td>\n",
       "      <td>Vedat Muriqi</td>\n",
       "      <td>ST (C)</td>\n",
       "      <td>29</td>\n",
       "      <td>194 cm</td>\n",
       "      <td>92 kg</td>\n",
       "      <td>-</td>\n",
       "      <td>Mallorca</td>\n",
       "      <td>LaLiga EA Sports</td>\n",
       "      <td>KOS (ALB)</td>\n",
       "      <td>-</td>\n",
       "      <td>-</td>\n",
       "      <td>Scouting Required</td>\n",
       "      <td>$82,000 p/w</td>\n",
       "      <td>$24M - $30M</td>\n",
       "      <td>-</td>\n",
       "      <td>Left</td>\n",
       "      <td>19</td>\n",
       "      <td>1341</td>\n",
       "      <td>6.88</td>\n",
       "      <td>0</td>\n",
       "      <td>70.58</td>\n",
       "      <td>2</td>\n",
       "      <td>0.47</td>\n",
       "      <td>191.57</td>\n",
       "      <td>0.36</td>\n",
       "      <td>0.20</td>\n",
       "      <td>0.11</td>\n",
       "      <td>0.34</td>\n",
       "      <td>0.19</td>\n",
       "      <td>268.20</td>\n",
       "      <td>0.26</td>\n",
       "      <td>0.08</td>\n",
       "      <td>0.14</td>\n",
       "      <td>0.08</td>\n",
       "      <td>0.00</td>\n",
       "      <td>0.00</td>\n",
       "      <td>0.00</td>\n",
       "      <td>0.03</td>\n",
       "      <td>-0.49</td>\n",
       "      <td>-0.03</td>\n",
       "      <td>0.00</td>\n",
       "      <td>0.47</td>\n",
       "      <td>0.39</td>\n",
       "      <td>0.08</td>\n",
       "      <td>0.34</td>\n",
       "      <td>0.29</td>\n",
       "      <td>0.04</td>\n",
       "      <td>26</td>\n",
       "      <td>1.81</td>\n",
       "      <td>0.94</td>\n",
       "      <td>52</td>\n",
       "      <td>0.13</td>\n",
       "      <td>27.85</td>\n",
       "      <td>22.08</td>\n",
       "      <td>79</td>\n",
       "      <td>0.40</td>\n",
       "      <td>1.45</td>\n",
       "      <td>0.40</td>\n",
       "      <td>1.45</td>\n",
       "      <td>0.40</td>\n",
       "      <td>1.45</td>\n",
       "      <td>0.13</td>\n",
       "      <td>0.13</td>\n",
       "      <td>9.33</td>\n",
       "      <td>2.42</td>\n",
       "      <td>25.90</td>\n",
       "      <td>6.04</td>\n",
       "      <td>9.19</td>\n",
       "      <td>-3.15</td>\n",
       "      <td>-34.28</td>\n",
       "      <td>0.74</td>\n",
       "      <td>14.56</td>\n",
       "      <td>7.85</td>\n",
       "      <td>53.92</td>\n",
       "      <td>6.71</td>\n",
       "      <td>46.08</td>\n",
       "      <td>0.07</td>\n",
       "      <td>14.56</td>\n",
       "      <td>54.72</td>\n",
       "      <td>1</td>\n",
       "      <td>0</td>\n",
       "      <td>9.53</td>\n",
       "      <td>2.00</td>\n",
       "      <td>0.54</td>\n",
       "      <td>12.27</td>\n",
       "      <td>0</td>\n",
       "      <td>3.15</td>\n",
       "      <td>5</td>\n",
       "      <td>100</td>\n",
       "      <td>24</td>\n",
       "      <td>0</td>\n",
       "      <td>3</td>\n",
       "      <td>4</td>\n",
       "      <td>11</td>\n",
       "      <td>1</td>\n",
       "      <td>9</td>\n",
       "      <td>12</td>\n",
       "      <td>15</td>\n",
       "      <td>57</td>\n",
       "      <td>80</td>\n",
       "      <td>83</td>\n",
       "      <td>2</td>\n",
       "    </tr>\n",
       "    <tr>\n",
       "      <th>3</th>\n",
       "      <td>11024744</td>\n",
       "      <td>Myrto Uzuni</td>\n",
       "      <td>M (L), AM (RLC), ST (C)</td>\n",
       "      <td>28</td>\n",
       "      <td>178 cm</td>\n",
       "      <td>72 kg</td>\n",
       "      <td>-</td>\n",
       "      <td>Granada</td>\n",
       "      <td>LaLiga EA Sports</td>\n",
       "      <td>ALB</td>\n",
       "      <td>-</td>\n",
       "      <td>-</td>\n",
       "      <td>Scouting Required</td>\n",
       "      <td>$11,500 p/w</td>\n",
       "      <td>$90K - $8.8M</td>\n",
       "      <td>-</td>\n",
       "      <td>Right</td>\n",
       "      <td>12</td>\n",
       "      <td>996</td>\n",
       "      <td>6.59</td>\n",
       "      <td>2</td>\n",
       "      <td>71.14</td>\n",
       "      <td>3</td>\n",
       "      <td>0.18</td>\n",
       "      <td>498.00</td>\n",
       "      <td>0.16</td>\n",
       "      <td>0.15</td>\n",
       "      <td>0.02</td>\n",
       "      <td>0.18</td>\n",
       "      <td>0.17</td>\n",
       "      <td>498.00</td>\n",
       "      <td>0.16</td>\n",
       "      <td>0.02</td>\n",
       "      <td>0.15</td>\n",
       "      <td>0.02</td>\n",
       "      <td>0.00</td>\n",
       "      <td>0.09</td>\n",
       "      <td>996.00</td>\n",
       "      <td>0.10</td>\n",
       "      <td>-0.06</td>\n",
       "      <td>-0.01</td>\n",
       "      <td>0.00</td>\n",
       "      <td>0.27</td>\n",
       "      <td>0.26</td>\n",
       "      <td>0.01</td>\n",
       "      <td>0.27</td>\n",
       "      <td>0.26</td>\n",
       "      <td>0.01</td>\n",
       "      <td>17</td>\n",
       "      <td>1.08</td>\n",
       "      <td>0.45</td>\n",
       "      <td>42</td>\n",
       "      <td>0.27</td>\n",
       "      <td>33.43</td>\n",
       "      <td>28.73</td>\n",
       "      <td>86</td>\n",
       "      <td>1.72</td>\n",
       "      <td>5.14</td>\n",
       "      <td>0.81</td>\n",
       "      <td>2.43</td>\n",
       "      <td>0.54</td>\n",
       "      <td>1.62</td>\n",
       "      <td>0.18</td>\n",
       "      <td>0.18</td>\n",
       "      <td>15.45</td>\n",
       "      <td>3.07</td>\n",
       "      <td>19.88</td>\n",
       "      <td>7.14</td>\n",
       "      <td>12.29</td>\n",
       "      <td>-5.15</td>\n",
       "      <td>-41.90</td>\n",
       "      <td>2.44</td>\n",
       "      <td>5.96</td>\n",
       "      <td>1.81</td>\n",
       "      <td>30.30</td>\n",
       "      <td>4.16</td>\n",
       "      <td>69.70</td>\n",
       "      <td>0.00</td>\n",
       "      <td>5.96</td>\n",
       "      <td>50.89</td>\n",
       "      <td>0</td>\n",
       "      <td>0</td>\n",
       "      <td>15.72</td>\n",
       "      <td>3.07</td>\n",
       "      <td>1.08</td>\n",
       "      <td>11.11</td>\n",
       "      <td>0</td>\n",
       "      <td>5.60</td>\n",
       "      <td>42</td>\n",
       "      <td>100</td>\n",
       "      <td>94</td>\n",
       "      <td>72</td>\n",
       "      <td>48</td>\n",
       "      <td>22</td>\n",
       "      <td>17</td>\n",
       "      <td>51</td>\n",
       "      <td>30</td>\n",
       "      <td>37</td>\n",
       "      <td>16</td>\n",
       "      <td>17</td>\n",
       "      <td>26</td>\n",
       "      <td>82</td>\n",
       "      <td>43</td>\n",
       "    </tr>\n",
       "    <tr>\n",
       "      <th>4</th>\n",
       "      <td>12092528</td>\n",
       "      <td>Datro Fofana</td>\n",
       "      <td>AM (R), ST (C)</td>\n",
       "      <td>21</td>\n",
       "      <td>181 cm</td>\n",
       "      <td>76 kg</td>\n",
       "      <td>-</td>\n",
       "      <td>Burnley</td>\n",
       "      <td>Premier League</td>\n",
       "      <td>CIV</td>\n",
       "      <td>-</td>\n",
       "      <td>-</td>\n",
       "      <td>Scouting Required</td>\n",
       "      <td>$69,000 p/w</td>\n",
       "      <td>$21M - $33M</td>\n",
       "      <td>-</td>\n",
       "      <td>Right</td>\n",
       "      <td>13</td>\n",
       "      <td>1187</td>\n",
       "      <td>6.93</td>\n",
       "      <td>6</td>\n",
       "      <td>62.47</td>\n",
       "      <td>4</td>\n",
       "      <td>0.30</td>\n",
       "      <td>296.75</td>\n",
       "      <td>0.33</td>\n",
       "      <td>0.13</td>\n",
       "      <td>-0.02</td>\n",
       "      <td>0.30</td>\n",
       "      <td>0.12</td>\n",
       "      <td>296.75</td>\n",
       "      <td>0.33</td>\n",
       "      <td>-0.03</td>\n",
       "      <td>0.13</td>\n",
       "      <td>-0.02</td>\n",
       "      <td>0.15</td>\n",
       "      <td>0.30</td>\n",
       "      <td>296.75</td>\n",
       "      <td>0.14</td>\n",
       "      <td>2.11</td>\n",
       "      <td>0.16</td>\n",
       "      <td>0.67</td>\n",
       "      <td>0.61</td>\n",
       "      <td>0.47</td>\n",
       "      <td>0.14</td>\n",
       "      <td>0.61</td>\n",
       "      <td>0.47</td>\n",
       "      <td>0.14</td>\n",
       "      <td>12</td>\n",
       "      <td>2.50</td>\n",
       "      <td>1.36</td>\n",
       "      <td>55</td>\n",
       "      <td>0.99</td>\n",
       "      <td>20.62</td>\n",
       "      <td>17.51</td>\n",
       "      <td>85</td>\n",
       "      <td>1.06</td>\n",
       "      <td>5.15</td>\n",
       "      <td>1.06</td>\n",
       "      <td>5.15</td>\n",
       "      <td>0.99</td>\n",
       "      <td>4.78</td>\n",
       "      <td>1.29</td>\n",
       "      <td>0.45</td>\n",
       "      <td>8.11</td>\n",
       "      <td>1.82</td>\n",
       "      <td>22.43</td>\n",
       "      <td>4.63</td>\n",
       "      <td>8.95</td>\n",
       "      <td>-4.32</td>\n",
       "      <td>-48.27</td>\n",
       "      <td>1.67</td>\n",
       "      <td>11.07</td>\n",
       "      <td>3.18</td>\n",
       "      <td>28.77</td>\n",
       "      <td>7.89</td>\n",
       "      <td>71.23</td>\n",
       "      <td>0.08</td>\n",
       "      <td>11.07</td>\n",
       "      <td>36.05</td>\n",
       "      <td>0</td>\n",
       "      <td>1</td>\n",
       "      <td>8.19</td>\n",
       "      <td>3.82</td>\n",
       "      <td>1.82</td>\n",
       "      <td>8.33</td>\n",
       "      <td>0</td>\n",
       "      <td>7.05</td>\n",
       "      <td>79</td>\n",
       "      <td>100</td>\n",
       "      <td>40</td>\n",
       "      <td>63</td>\n",
       "      <td>73</td>\n",
       "      <td>80</td>\n",
       "      <td>83</td>\n",
       "      <td>65</td>\n",
       "      <td>83</td>\n",
       "      <td>70</td>\n",
       "      <td>86</td>\n",
       "      <td>58</td>\n",
       "      <td>72</td>\n",
       "      <td>48</td>\n",
       "      <td>94</td>\n",
       "    </tr>\n",
       "  </tbody>\n",
       "</table>\n",
       "</div>"
      ],
      "text/plain": [
       "         id            name                  position  age  height weight  \\\n",
       "0    168222  Mats Seuntjens  M (LC), AM (RLC), ST (C)   31  187 cm  78 kg   \n",
       "1    211522     Chris Bedia                    ST (C)   27  190 cm  85 kg   \n",
       "2  11022221    Vedat Muriqi                    ST (C)   29  194 cm  92 kg   \n",
       "3  11024744     Myrto Uzuni   M (L), AM (RLC), ST (C)   28  178 cm  72 kg   \n",
       "4  12092528    Datro Fofana            AM (R), ST (C)   21  181 cm  76 kg   \n",
       "\n",
       "   inf          club          division nationality home_grown personality  \\\n",
       "0  Unh  RKC Waalwijk        Eredivisie         NED          -           -   \n",
       "1    -  Union Berlin        Bundesliga   CIV (FRA)          -           -   \n",
       "2    -      Mallorca  LaLiga EA Sports   KOS (ALB)          -           -   \n",
       "3    -       Granada  LaLiga EA Sports         ALB          -           -   \n",
       "4    -       Burnley    Premier League         CIV          -           -   \n",
       "\n",
       "      media_handling         wage transfer_value asking_price preferred_foot  \\\n",
       "0  Scouting Required   $3,200 p/w  $160K - $1.6M            -          Right   \n",
       "1  Scouting Required  $24,500 p/w  $450K - $4.4M            -           Left   \n",
       "2  Scouting Required  $82,000 p/w    $24M - $30M            -           Left   \n",
       "3  Scouting Required  $11,500 p/w   $90K - $8.8M            -          Right   \n",
       "4  Scouting Required  $69,000 p/w    $21M - $33M            -          Right   \n",
       "\n",
       "   starts  minutes_played  average_rating  sub_appearances  minutes/game  \\\n",
       "0      15            1305            6.60                0         87.00   \n",
       "1      11            1095            6.73                7         60.83   \n",
       "2      19            1341            6.88                0         70.58   \n",
       "3      12             996            6.59                2         71.14   \n",
       "4      13            1187            6.93                6         62.47   \n",
       "\n",
       "   index  goals/90  minutes/goal  xg/90  xg/shot  xg_overperformance/90  \\\n",
       "0      0      0.07       1305.00   0.07     0.06                   0.00   \n",
       "1      1      0.16        547.50   0.26     0.14                  -0.10   \n",
       "2      2      0.47        191.57   0.36     0.20                   0.11   \n",
       "3      3      0.18        498.00   0.16     0.15                   0.02   \n",
       "4      4      0.30        296.75   0.33     0.13                  -0.02   \n",
       "\n",
       "   non_pen_goals/90  non_pen_goals/shot  minutes/non_pen_goal  non_pen_xg/90  \\\n",
       "0              0.07                0.07               1305.00           0.07   \n",
       "1              0.16                0.09                547.50           0.26   \n",
       "2              0.34                0.19                268.20           0.26   \n",
       "3              0.18                0.17                498.00           0.16   \n",
       "4              0.30                0.12                296.75           0.33   \n",
       "\n",
       "   non_pen_goals___non_pens_xg_/90  non_pen_xg/shot  \\\n",
       "0                             0.00             0.06   \n",
       "1                            -0.10             0.14   \n",
       "2                             0.08             0.14   \n",
       "3                             0.02             0.15   \n",
       "4                            -0.03             0.13   \n",
       "\n",
       "   non_pen_xg_overperformance/90  goals_outside_box/90  assists/90  \\\n",
       "0                           0.00                  0.00        0.14   \n",
       "1                          -0.10                  0.00        0.08   \n",
       "2                           0.08                  0.00        0.00   \n",
       "3                           0.02                  0.00        0.09   \n",
       "4                          -0.02                  0.15        0.30   \n",
       "\n",
       "   minutes/assist  xa/90  xa_overperformance  xa_overperformance/90  \\\n",
       "0          652.50   0.08                0.79                   0.05   \n",
       "1         1095.00   0.04                0.51                   0.04   \n",
       "2            0.00   0.03               -0.49                  -0.03   \n",
       "3          996.00   0.10               -0.06                  -0.01   \n",
       "4          296.75   0.14                2.11                   0.16   \n",
       "\n",
       "   assists/clear_cut_chances_created  goal_contributions/90  xgc/90  \\\n",
       "0                               0.00                   0.21    0.15   \n",
       "1                               0.00                   0.25    0.30   \n",
       "2                               0.00                   0.47    0.39   \n",
       "3                               0.00                   0.27    0.26   \n",
       "4                               0.67                   0.61    0.47   \n",
       "\n",
       "   xgc_overperformance/90  non_pen_goal_contributions/90  non_pen_xgc/90  \\\n",
       "0                    0.06                           0.21            0.15   \n",
       "1                   -0.06                           0.25            0.30   \n",
       "2                    0.08                           0.34            0.29   \n",
       "3                    0.01                           0.27            0.26   \n",
       "4                    0.14                           0.61            0.47   \n",
       "\n",
       "   non_pen_xgc_overperformance/90  conversion_%  shots/90  shots_on_target/90  \\\n",
       "0                            0.06             7      1.03                0.48   \n",
       "1                           -0.06             9      1.89                0.66   \n",
       "2                            0.04            26      1.81                0.94   \n",
       "3                            0.01            17      1.08                0.45   \n",
       "4                            0.14            12      2.50                1.36   \n",
       "\n",
       "   shots_on_target_%  shots_outside_box/90  passes_attempted/90  \\\n",
       "0                 47                  0.48                31.45   \n",
       "1                 35                  0.33                24.49   \n",
       "2                 52                  0.13                27.85   \n",
       "3                 42                  0.27                33.43   \n",
       "4                 55                  0.99                20.62   \n",
       "\n",
       "   passes_completed/90  pass_completion_%  progressive_passes/90  \\\n",
       "0                25.45                 81                   1.03   \n",
       "1                20.14                 82                   0.49   \n",
       "2                22.08                 79                   0.40   \n",
       "3                28.73                 86                   1.72   \n",
       "4                17.51                 85                   1.06   \n",
       "\n",
       "   progressive_pass_rate  key_passes/90  key_pass_%  open_play_key_passes/90  \\\n",
       "0                   3.29           0.90        2.85                     0.62   \n",
       "1                   2.01           0.49        2.01                     0.41   \n",
       "2                   1.45           0.40        1.45                     0.40   \n",
       "3                   5.14           0.81        2.43                     0.54   \n",
       "4                   5.15           1.06        5.15                     0.99   \n",
       "\n",
       "   open_play_key_pass_%  chances_created/90  clear_cut_chances_created/90  \\\n",
       "0                  1.97                0.07                          0.07   \n",
       "1                  1.68                0.50                          0.08   \n",
       "2                  1.45                0.13                          0.13   \n",
       "3                  1.62                0.18                          0.18   \n",
       "4                  4.78                1.29                          0.45   \n",
       "\n",
       "   pressures_attempted/90  pressures_completed/90  pressure_success_%  \\\n",
       "0                    9.38                    1.59               16.91   \n",
       "1                    7.23                    1.15               15.91   \n",
       "2                    9.33                    2.42               25.90   \n",
       "3                   15.45                    3.07               19.88   \n",
       "4                    8.11                    1.82               22.43   \n",
       "\n",
       "   possession_won/90  possession_lost/90  poss+_/90  poss+__%  dribbles/90  \\\n",
       "0               5.38               11.52      -6.14    -53.30         2.00   \n",
       "1               5.42                8.96      -3.54    -39.51         1.32   \n",
       "2               6.04                9.19      -3.15    -34.28         0.74   \n",
       "3               7.14               12.29      -5.15    -41.90         2.44   \n",
       "4               4.63                8.95      -4.32    -48.27         1.67   \n",
       "\n",
       "   headers_attempted/90  headers_won/90  headers_won_%  headers_lost/90  \\\n",
       "0                  8.69            4.00          46.03             4.69   \n",
       "1                 12.49            6.00          48.03             6.49   \n",
       "2                 14.56            7.85          53.92             6.71   \n",
       "3                  5.96            1.81          30.30             4.16   \n",
       "4                 11.07            3.18          28.77             7.89   \n",
       "\n",
       "   headers_lost_%  key_headers/90  aerial_challenges_attempted/90  \\\n",
       "0           53.97            0.00                            8.69   \n",
       "1           51.97            0.08                           12.49   \n",
       "2           46.08            0.07                           14.56   \n",
       "3           69.70            0.00                            5.96   \n",
       "4           71.23            0.08                           11.07   \n",
       "\n",
       "   duels_win_%  player_of_the_match  mistakes_leading_to_goal  sprints/90  \\\n",
       "0        52.20                    0                         0       12.07   \n",
       "1        50.00                    0                         0        7.32   \n",
       "2        54.72                    1                         0        9.53   \n",
       "3        50.89                    0                         0       15.72   \n",
       "4        36.05                    0                         1        8.19   \n",
       "\n",
       "   attacking_actions/90  creative_actions/90  defensive_actions/90  \\\n",
       "0                  2.52                 1.03                  8.99   \n",
       "1                  2.04                 0.58                 10.08   \n",
       "2                  2.00                 0.54                 12.27   \n",
       "3                  3.07                 1.08                 11.11   \n",
       "4                  3.82                 1.82                  8.33   \n",
       "\n",
       "   goalkeeping_actions/90  excitement_factor/90  general_performance  \\\n",
       "0                       0                  4.55                   18   \n",
       "1                       0                  3.86                    4   \n",
       "2                       0                  3.15                    5   \n",
       "3                       0                  5.60                   42   \n",
       "4                       0                  7.05                   79   \n",
       "\n",
       "   goalkeeping  defensive_defender  creative_defender  attacking_defender  \\\n",
       "0          100                  65                 57                  51   \n",
       "1          100                  48                 11                   9   \n",
       "2          100                  24                  0                   3   \n",
       "3          100                  94                 72                  48   \n",
       "4          100                  40                 63                  73   \n",
       "\n",
       "   creative_midfielder  attacking_midfielder  creative_winger  \\\n",
       "0                    7                     5               20   \n",
       "1                    2                     1                2   \n",
       "2                    4                    11                1   \n",
       "3                   22                    17               51   \n",
       "4                   80                    83               65   \n",
       "\n",
       "   attacking_winger  creative_forward  attacking_forward  finisher  \\\n",
       "0                25                16                 13         6   \n",
       "1                 3                 6                  2        14   \n",
       "2                 9                12                 15        57   \n",
       "3                30                37                 16        17   \n",
       "4                83                70                 86        58   \n",
       "\n",
       "   aerial_threat  reader  assister  \n",
       "0             51      59        54  \n",
       "1             82      77        29  \n",
       "2             80      83         2  \n",
       "3             26      82        43  \n",
       "4             72      48        94  "
      ]
     },
     "execution_count": 29,
     "metadata": {},
     "output_type": "execute_result"
    }
   ],
   "source": [
    "df_players.head()"
   ]
  },
  {
   "cell_type": "code",
   "execution_count": 30,
   "id": "5b106302",
   "metadata": {},
   "outputs": [],
   "source": [
    "# # Keep only natural DMs\n",
    "# path = 'data/Natural DMs.html'\n",
    "\n",
    "# # Ingest in a dataframe\n",
    "# df_dms = pd.read_html(path, encoding='utf-8')[0]\n",
    "\n",
    "# # Format column names \n",
    "# df_dms.columns = [x.lower().strip().replace(' ', '_').replace('-', '_') for x in df_dms.columns]\n",
    "\n",
    "# df_dms['natural_dm'] = 'Yes'\n",
    "\n",
    "# df_dms = df_dms[['uid', 'natural_dm']]\n",
    "\n",
    "# df_players = df_players.merge(df_dms, \n",
    "#                               left_on='id',\n",
    "#                               right_on='uid',\n",
    "#                               how='left')\n",
    "\n",
    "# df_players = df_players[df_players['natural_dm'] == 'Yes']"
   ]
  },
  {
   "cell_type": "code",
   "execution_count": null,
   "id": "103e9075",
   "metadata": {},
   "outputs": [],
   "source": [
    "# Apply to your DataFrame\n",
    "df_players['price_estimate_M'] = df_players['transfer_value'].apply(parse_transfer_value) / 1000000"
   ]
  },
  {
   "cell_type": "markdown",
   "id": "22683d93",
   "metadata": {},
   "source": [
    "## Chance conversion analysis"
   ]
  },
  {
   "cell_type": "markdown",
   "id": "5c2da36b",
   "metadata": {},
   "source": [
    "### Full universe"
   ]
  },
  {
   "cell_type": "code",
   "execution_count": 33,
   "id": "c953fb7b",
   "metadata": {},
   "outputs": [
    {
     "data": {
      "application/vnd.plotly.v1+json": {
       "config": {
        "plotlyServerURL": "https://plot.ly"
       },
       "data": [
        {
         "customdata": [
          [
           "Mats Seuntjens",
           "RKC Waalwijk"
          ],
          [
           "Chris Bedia",
           "Union Berlin"
          ],
          [
           "Vedat Muriqi",
           "Mallorca"
          ],
          [
           "Myrto Uzuni",
           "Granada"
          ],
          [
           "Datro Fofana",
           "Burnley"
          ],
          [
           "Bamba Dieng",
           "Lorient"
          ],
          [
           "Vakoun Issouf Bayo",
           "Watford"
          ],
          [
           "Victor Osimhen",
           "Napoli"
          ],
          [
           "Stephen Odey",
           "Randers FC"
          ],
          [
           "Mohammed Kudus",
           "West Ham"
          ],
          [
           "Mostafa Mohamed",
           "Nantes"
          ],
          [
           "Leandro Díaz",
           "Lanús"
          ],
          [
           "Roberto Pereyra",
           "Udinese"
          ],
          [
           "Guido Carrillo",
           "Estudiantes (LP)"
          ],
          [
           "Carlos Auzqui",
           "San Lorenzo"
          ],
          [
           "Lucas Ocampos",
           "Sevilla"
          ],
          [
           "Jonathan Calleri",
           "SPO"
          ],
          [
           "Bruno Sepúlveda",
           "Banfield"
          ],
          [
           "Juan Martín Lucero",
           "FOR"
          ],
          [
           "Joaquín Correa",
           "Marseille"
          ],
          [
           "Francisco Pizzini",
           "Vélez"
          ],
          [
           "Alexis Canelo",
           "Independiente"
          ],
          [
           "Braian Romero",
           "Vélez"
          ],
          [
           "Nicolás Servetto",
           "Atl. Tucumán"
          ],
          [
           "Héctor Fertoli",
           "Huracán"
          ],
          [
           "Lucas Passerini",
           "Belgrano"
          ],
          [
           "Roger Martínez",
           "Racing Club"
          ],
          [
           "Juan Dinenno",
           "CEC"
          ],
          [
           "Franco Troyansky",
           "Gimnasia (LP)"
          ],
          [
           "Ignacio Pussetto",
           "Huracán"
          ],
          [
           "Tomás Conechny",
           "Godoy Cruz"
          ],
          [
           "Lautaro Martínez",
           "Inter"
          ],
          [
           "Lucas Boyé",
           "Granada"
          ],
          [
           "Alexis Domínguez",
           "Barracas Central"
          ],
          [
           "Nicolás Reniero",
           "Racing Club"
          ],
          [
           "Nahuel Barrios",
           "San Lorenzo"
          ],
          [
           "Nicolás Fernández",
           "Defensa y Justicia"
          ],
          [
           "Jonatan Torres",
           "Lanús"
          ],
          [
           "Agustín Fontana",
           "Sarmiento (Junín)"
          ],
          [
           "Nahuel Bustos",
           "Talleres"
          ],
          [
           "Tomás Molina",
           "Central Córdoba (SdE)"
          ],
          [
           "Norberto Briasco",
           "Boca"
          ],
          [
           "Maximiliano Salas",
           "Racing Club"
          ],
          [
           "Santiago Rodríguez",
           "Instituto"
          ],
          [
           "Milton Giménez",
           "Banfield"
          ],
          [
           "Jonás Acevedo",
           "Instituto"
          ],
          [
           "Lucas Brochero",
           "Barracas Central"
          ],
          [
           "Mauro Luna Diale",
           "Unión (SF)"
          ],
          [
           "Nicolás Leguizamón",
           "Colón"
          ],
          [
           "Marcelo Estigarribia",
           "Atl. Tucumán"
          ],
          [
           "Eric Ramírez",
           "Gimnasia (LP)"
          ],
          [
           "Tomás Sandoval",
           "Colón"
          ],
          [
           "Ezequiel Cañete",
           "Banfield"
          ],
          [
           "Mateo Retegui",
           "Genoa"
          ],
          [
           "Facundo Colidio",
           "River"
          ],
          [
           "Nicolás González",
           "Fiorentina"
          ],
          [
           "Julián Álvarez",
           "Man City"
          ],
          [
           "Federico Girotti",
           "Talleres"
          ],
          [
           "Agustín Obando",
           "Platense"
          ],
          [
           "Mateo Coronel",
           "Atl. Tucumán"
          ],
          [
           "Alan Marinelli",
           "Platense"
          ],
          [
           "Justo Giani",
           "Atl. Tucumán"
          ],
          [
           "Gastón Verón",
           "Argentinos Jrs."
          ],
          [
           "Pablo Solari",
           "River"
          ],
          [
           "Matías Godoy",
           "Central Córdoba (SdE)"
          ],
          [
           "Matías Polvera",
           "Huracán"
          ],
          [
           "Diego Azcurra",
           "Sarmiento (Junín)"
          ],
          [
           "Jeremías Perales",
           "Banfield"
          ],
          [
           "Rodrigo Castillo",
           "Gimnasia (LP)"
          ],
          [
           "Juan Cruz Esquivel",
           "Tigre"
          ],
          [
           "Flabián Londoño",
           "Tigre"
          ],
          [
           "Hernán López Muñoz",
           "Godoy Cruz"
          ],
          [
           "Matías Benítez",
           "Arsenal (Sarandí)"
          ],
          [
           "Gonzalo Flores",
           "Tigre"
          ],
          [
           "Tomás Ortíz",
           "Arsenal (Sarandí)"
          ],
          [
           "Thiago Nuss",
           "Central Córdoba (SdE)"
          ],
          [
           "Brian Aguirre",
           "Newell's"
          ],
          [
           "Jeremías Gallard",
           "Talleres"
          ],
          [
           "Ivo Mammini",
           "Gimnasia (LP)"
          ],
          [
           "Luciano Gondou",
           "Argentinos Jrs."
          ],
          [
           "Axel Ovejero",
           "Banfield"
          ],
          [
           "Luciano Pereyra",
           "Colón"
          ],
          [
           "Lautaro Giaccone",
           "Rosario Central"
          ],
          [
           "Ignacio Russo",
           "Instituto"
          ],
          [
           "Juan Román Pucheta",
           "Argentinos Jrs."
          ],
          [
           "Matías Giménez Rojas",
           "Independiente"
          ],
          [
           "Alan Cantero",
           "GOI"
          ],
          [
           "Ezequiel Naya",
           "Estudiantes (LP)"
          ],
          [
           "Santiago Solari",
           "Racing Club"
          ],
          [
           "Karim Onisiwo",
           "Mainz 05"
          ],
          [
           "Michael Gregoritsch",
           "SC Freiburg"
          ],
          [
           "Karim Adeyemi",
           "Borussia Dortmund"
          ],
          [
           "Romelu Lukaku",
           "Roma"
          ],
          [
           "Divock Origi",
           "Nottm Forest"
          ],
          [
           "Leandro Trossard",
           "Arsenal"
          ],
          [
           "Othmane Boussaid",
           "FC Utrecht"
          ],
          [
           "Ryan Mmaee",
           "Stoke"
          ],
          [
           "Loïs Openda",
           "RB Leipzig"
          ],
          [
           "Bryan Limbombe",
           "Heracles Almelo"
          ],
          [
           "Jonathan David",
           "Lille"
          ],
          [
           "Charles De Ketelaere",
           "Atalanta"
          ],
          [
           "Nikão",
           "SPO"
          ],
          [
           "João Pedro Galvão",
           "GRE"
          ],
          [
           "Lucas Moura",
           "SPO"
          ],
          [
           "Willian José",
           "Real Betis"
          ],
          [
           "Eduardo Sasha",
           "RB Bragantino"
          ],
          [
           "Tiquinho Soares",
           "BOT"
          ],
          [
           "Felipe Anderson",
           "Lazio"
          ],
          [
           "Everaldo",
           "BAH"
          ],
          [
           "Edu",
           "CTB"
          ],
          [
           "Pablo",
           "Athlético Paranaense"
          ],
          [
           "Yago Pikachu",
           "FOR"
          ],
          [
           "Bruno Duarte",
           "Sp. Farense"
          ],
          [
           "Brenner",
           "AMG"
          ],
          [
           "Luciano",
           "SPO"
          ],
          [
           "Matheus Aiás",
           "Moreirense"
          ],
          [
           "Gabriel Jesus",
           "Arsenal"
          ],
          [
           "Robson Fernandes",
           "CTB"
          ],
          [
           "Nathan",
           "GRE"
          ],
          [
           "Clayson",
           "CUI"
          ],
          [
           "Gustavo Silva",
           "COR"
          ],
          [
           "David",
           "Vasco da Gama"
          ],
          [
           "Rony",
           "SEP"
          ],
          [
           "Bruno Henrique",
           "FLA"
          ],
          [
           "Pedro",
           "FLA"
          ],
          [
           "Éverton Galdino",
           "GRE"
          ],
          [
           "André Silva",
           "Vit. Guimarães"
          ],
          [
           "Arthur Cabral",
           "SL Benfica"
          ],
          [
           "Breno Lopes",
           "SEP"
          ],
          [
           "Vinícius Júnior",
           "Real Madrid"
          ],
          [
           "Paulinho",
           "ATM"
          ],
          [
           "Rodrygo",
           "Real Madrid"
          ],
          [
           "Fabrício Daniel",
           "CTB"
          ],
          [
           "Yuri Alberto",
           "COR"
          ],
          [
           "Matheus Cunha",
           "Wolves"
          ],
          [
           "Vitinho",
           "RB Bragantino"
          ],
          [
           "Evanilson",
           "FC Porto"
          ],
          [
           "Kaio Jorge",
           "Frosinone"
          ],
          [
           "Lucas Braga",
           "SAN"
          ],
          [
           "David da Hora",
           "FOR"
          ],
          [
           "Marrony",
           "FC Midtjylland"
          ],
          [
           "Gabriel Martinelli",
           "Arsenal"
          ],
          [
           "Bruno Marques",
           "SAN"
          ],
          [
           "Calebe",
           "FOR"
          ],
          [
           "Júnior Santos",
           "BOT"
          ],
          [
           "Lázaro",
           "SEP"
          ],
          [
           "João Pedro",
           "Brighton"
          ],
          [
           "Luiz Henrique",
           "BOT"
          ],
          [
           "Marcos Leonardo",
           "SL Benfica"
          ],
          [
           "Igor Paixão",
           "Feyenoord"
          ],
          [
           "Juan Santos",
           "SPO"
          ],
          [
           "John Kennedy",
           "FLU"
          ],
          [
           "Matheus Nascimento",
           "BOT"
          ],
          [
           "Patati",
           "SAN"
          ],
          [
           "Matheus Babi",
           "Athlético Paranaense"
          ],
          [
           "Clayton",
           "Casa Pia"
          ],
          [
           "Haji Wright",
           "Coventry"
          ],
          [
           "Mehdi Taremi",
           "FC Porto"
          ],
          [
           "Ante Budimir",
           "Osasuna"
          ],
          [
           "Andrej Kramarić",
           "TSG Hoffenheim"
          ],
          [
           "Ondřej Lingr",
           "Feyenoord"
          ],
          [
           "Martin Braithwaite",
           "Bournemouth"
          ],
          [
           "Kasper Kusk",
           "Silkeborg IF"
          ],
          [
           "Bashkim Kadrii",
           "OB"
          ],
          [
           "Frederik Gytkjær",
           "Lyngby"
          ],
          [
           "Yussuf Poulsen",
           "RB Leipzig"
          ],
          [
           "Marcus Ingvartsen",
           "FC Nordsjælland"
          ],
          [
           "Christian Jakobsen",
           "Hvidovre IF"
          ],
          [
           "Rezan Çorlu",
           "Lyngby"
          ],
          [
           "Tonni Adamsen",
           "Silkeborg IF"
          ],
          [
           "Jens Odgaard",
           "Bologna"
          ],
          [
           "Jonas Wind",
           "VfL Wolfsburg"
          ],
          [
           "Mikkel Damsgaard",
           "Brentford"
          ],
          [
           "Nikolai Frederiksen",
           "Lyngby"
          ],
          [
           "Søren Tengstedt",
           "Go Ahead Eagles"
          ],
          [
           "Mileta Rajović",
           "Watford"
          ],
          [
           "Aral Şimşir",
           "FC Midtjylland"
          ],
          [
           "Lirim Qamili",
           "Hvidovre IF"
          ],
          [
           "Max Fenger",
           "OB"
          ],
          [
           "Alexander Lind",
           "Silkeborg IF"
          ],
          [
           "Victor Lind",
           "Vejle"
          ],
          [
           "Rasmus Højlund",
           "Man Utd"
          ],
          [
           "Don Deedson",
           "OB"
          ],
          [
           "Anosike Ementa",
           "Viborg FF"
          ],
          [
           "Matt Godden",
           "Coventry"
          ],
          [
           "Will Keane",
           "Preston"
          ],
          [
           "Harry Kane",
           "FC Bayern"
          ],
          [
           "Serge Gnabry",
           "FC Bayern"
          ],
          [
           "Cauley Woodrow",
           "Birmingham"
          ],
          [
           "Carlton Morris",
           "Luton"
          ],
          [
           "Adam Armstrong",
           "Southampton"
          ],
          [
           "Nathan Broadhead",
           "Ipswich"
          ],
          [
           "Marcus Rashford",
           "Man Utd"
          ],
          [
           "Iké Ugbo",
           "Sheffield Wednesday"
          ],
          [
           "Josh Maja",
           "West Brom"
          ],
          [
           "Marcus Forss",
           "Middlesbrough"
          ],
          [
           "Bobby Adekanye",
           "Go Ahead Eagles"
          ],
          [
           "Phil Foden",
           "Man City"
          ],
          [
           "Tyrese Campbell",
           "Stoke"
          ],
          [
           "Dwight McNeil",
           "Everton"
          ],
          [
           "Anthony Gordon",
           "Newcastle"
          ],
          [
           "Ellis Simms",
           "Coventry"
          ],
          [
           "Largie Ramazani",
           "Almería"
          ],
          [
           "Cole Palmer",
           "Chelsea"
          ],
          [
           "Mason Greenwood",
           "Getafe"
          ],
          [
           "Sam Greenwood",
           "Middlesbrough"
          ],
          [
           "Troy Parrott",
           "Excelsior"
          ],
          [
           "Liam Delap",
           "Hull"
          ],
          [
           "Danny Ings",
           "West Ham"
          ],
          [
           "Tom Bradshaw",
           "Millwall"
          ],
          [
           "Josh Windass",
           "Sheffield Wednesday"
          ],
          [
           "Jamal Lowe",
           "Swansea"
          ],
          [
           "Bradley Dack",
           "Sunderland"
          ],
          [
           "Sam Gallagher",
           "Blackburn"
          ],
          [
           "Sammie Szmodics",
           "Blackburn"
          ],
          [
           "Oli McBurnie",
           "Ipswich"
          ],
          [
           "Ollie Watkins",
           "Aston Villa"
          ],
          [
           "Nabil Fekir",
           "Real Betis"
          ],
          [
           "Jonathan Bamba",
           "Celta"
          ],
          [
           "Conor Chaplin",
           "Ipswich"
          ],
          [
           "Karlan Grant",
           "Cardiff"
          ],
          [
           "Dominic Calvert-Lewin",
           "Everton"
          ],
          [
           "Dominic Solanke",
           "Bournemouth"
          ],
          [
           "Scott McTominay",
           "Man Utd"
          ],
          [
           "Jarrod Bowen",
           "West Ham"
          ],
          [
           "Simon Banza",
           "Sp. Braga"
          ],
          [
           "Ademola Lookman",
           "Atalanta"
          ],
          [
           "Scott Twine",
           "Bristol City"
          ],
          [
           "Ben Brereton Díaz",
           "Sheff Utd"
          ],
          [
           "Jacob Brown",
           "Luton"
          ],
          [
           "Erling Haaland",
           "Man City"
          ],
          [
           "Morgan Whittaker",
           "Plymouth"
          ],
          [
           "Tyrhys Dolan",
           "Blackburn"
          ],
          [
           "Cameron Archer",
           "Sheff Utd"
          ],
          [
           "Jay Stansfield",
           "Birmingham"
          ],
          [
           "Jordan Hugill",
           "Rotherham"
          ],
          [
           "Gabriel Barbosa",
           "FLA"
          ],
          [
           "Fredrik Jensen",
           "Augsburg"
          ],
          [
           "Oliver Antman",
           "FC Nordsjælland"
          ],
          [
           "Jordan Ayew",
           "Crystal Palace"
          ],
          [
           "Alexandre Lacazette",
           "Lyon"
          ],
          [
           "Jürgen Locadia",
           "Norwich"
          ],
          [
           "Memphis Depay",
           "Atlético"
          ],
          [
           "Wout Weghorst",
           "TSG Hoffenheim"
          ],
          [
           "Pelle van Amersfoort",
           "sc Heerenveen"
          ],
          [
           "Steven Bergwijn",
           "Ajax"
          ],
          [
           "Albert Guðmundsson",
           "Genoa"
          ],
          [
           "Gianluca Scamacca",
           "Atalanta"
          ],
          [
           "Donyell Malen",
           "Borussia Dortmund"
          ],
          [
           "Zian Flemming",
           "Millwall"
          ],
          [
           "Kaj Sierhuis",
           "Fortuna Sittard"
          ],
          [
           "Sam Lammers",
           "FC Utrecht"
          ],
          [
           "Guus Til",
           "PSV"
          ],
          [
           "Tahith Chong",
           "Luton"
          ],
          [
           "Delano Burgzorg",
           "Huddersfield"
          ],
          [
           "Joshua Zirkzee",
           "Bologna"
          ],
          [
           "Myron Boadu",
           "FC Twente"
          ],
          [
           "Cody Gakpo",
           "Liverpool"
          ],
          [
           "Zakaria Aboukhlal",
           "Toulouse"
          ],
          [
           "Brian Brobbey",
           "Ajax"
          ],
          [
           "Anthony Musaba",
           "Sheffield Wednesday"
          ],
          [
           "Sydney van Hooijdonk",
           "Norwich"
          ],
          [
           "Tijjani Noslin",
           "Hellas Verona"
          ],
          [
           "Ole Romeny",
           "FC Utrecht"
          ],
          [
           "Ibrahim Cissoko",
           "Toulouse"
          ],
          [
           "Yorbe Vertessen",
           "Union Berlin"
          ],
          [
           "Naci Ünüvar",
           "FC Twente"
          ],
          [
           "Fodé Fofana",
           "Vitesse"
          ],
          [
           "Mexx Meerdink",
           "Vitesse"
          ],
          [
           "Emanuel Emegha",
           "Strasbourg"
          ],
          [
           "Stephan El Shaarawy",
           "Roma"
          ],
          [
           "Federico Chiesa",
           "Juventus"
          ],
          [
           "Umar Sadiq",
           "Real Sociedad"
          ],
          [
           "Christian Kouamé",
           "Fiorentina"
          ],
          [
           "Emmanuel Latte Lath",
           "Middlesbrough"
          ],
          [
           "Andrea Pinamonti",
           "Sassuolo"
          ],
          [
           "Nicolò Zaniolo",
           "Aston Villa"
          ],
          [
           "Nicolò Cambiaghi",
           "Empoli"
          ],
          [
           "Samuele Mulattieri",
           "Sunderland"
          ],
          [
           "Lorenzo Lucca",
           "Udinese"
          ],
          [
           "Lorenzo Colombo",
           "Monza"
          ],
          [
           "Gaetano Oristanio",
           "Cagliari"
          ],
          [
           "Wilfried Gnonto",
           "Leeds"
          ],
          [
           "Stiven Shpendi",
           "Empoli"
          ],
          [
           "Keito Nakamura",
           "Stade Reims"
          ],
          [
           "Romain Del Castillo",
           "Brest"
          ],
          [
           "Odsonne Edouard",
           "Crystal Palace"
          ],
          [
           "Marcus Thuram",
           "Inter"
          ],
          [
           "Yann Kitala",
           "Almere City"
          ],
          [
           "Martin Terrier",
           "Rennes"
          ],
          [
           "Bryan Mbeumo",
           "Brentford"
          ],
          [
           "Ismaïla Sarr",
           "Marseille"
          ],
          [
           "Frank Magri",
           "Toulouse"
          ],
          [
           "Randal Kolo Muani",
           "PSG"
          ],
          [
           "Samuel Essende",
           "Vizela"
          ],
          [
           "Moussa Diaby",
           "Aston Villa"
          ],
          [
           "Amine Gouiri",
           "Rennes"
          ],
          [
           "Mohamed Bayo",
           "Havre AC"
          ],
          [
           "Georges Mikautadze",
           "Metz"
          ],
          [
           "Ignatius Ganago",
           "Nantes"
          ],
          [
           "Georginio Rutter",
           "Leeds"
          ],
          [
           "Arnaud Kalimuendo",
           "Rennes"
          ],
          [
           "Lassine Sinayoko",
           "FC Midtjylland"
          ],
          [
           "Hugo Ekitiké",
           "Eintracht Frankfurt"
          ],
          [
           "Boulaye Dia",
           "Salernitana"
          ],
          [
           "Jérémy Le Douaron",
           "Brest"
          ],
          [
           "Raúl Jiménez",
           "Fulham"
          ],
          [
           "Hirving Lozano",
           "PSV"
          ],
          [
           "Santiago Giménez",
           "Feyenoord"
          ],
          [
           "Chiedozie Ogbene",
           "Luton"
          ],
          [
           "Ohi Omoijuanfo",
           "Brøndby IF"
          ],
          [
           "Alexander Sørloth",
           "Villarreal"
          ],
          [
           "Ola Brynhildsen",
           "FC Midtjylland"
          ],
          [
           "Tobias Lauritsen",
           "Sparta Rotterdam"
          ],
          [
           "Jørgen Strand Larsen",
           "Celta"
          ],
          [
           "Victor Boniface",
           "Bayer 04"
          ],
          [
           "Ivan Cavaleiro",
           "Lille"
          ],
          [
           "Deyverson",
           "CUI"
          ],
          [
           "Rafa",
           "SL Benfica"
          ],
          [
           "Ricardo Horta",
           "Sp. Braga"
          ],
          [
           "Ronaldo Tavares",
           "CF Estrela Amadora"
          ],
          [
           "Diogo Jota",
           "Liverpool"
          ],
          [
           "Alexey Miranchuk",
           "Atalanta"
          ],
          [
           "German Onugha",
           "Vejle"
          ],
          [
           "Ion Nicolăescu",
           "sc Heerenveen"
          ],
          [
           "Khvicha Kvaratskhelia",
           "Napoli"
          ],
          [
           "Dušan Vlahović",
           "Juventus"
          ],
          [
           "Issah Abass",
           "Desp. Chaves"
          ],
          [
           "Benjamin Šeško",
           "RB Leipzig"
          ],
          [
           "Róbert Boženík",
           "Boavista"
          ],
          [
           "Marko Divković",
           "Brøndby IF"
          ],
          [
           "Samson Akinyoola",
           "Montpellier"
          ],
          [
           "Haris Vučkić",
           "N.E.C. Nijmegen"
          ],
          [
           "Cho Gue-Sung",
           "FC Midtjylland"
          ],
          [
           "Antoine Griezmann",
           "Atlético"
          ],
          [
           "Gerard Moreno",
           "Villarreal"
          ],
          [
           "Álvaro Morata",
           "Atlético"
          ],
          [
           "Sandro",
           "Las Palmas"
          ],
          [
           "Raúl De Tomás",
           "Rayo Vallecano"
          ],
          [
           "Ayoze Pérez",
           "Real Betis"
          ],
          [
           "Munir",
           "Las Palmas"
          ],
          [
           "Antonio Sanabria",
           "Torino"
          ],
          [
           "Iñaki Williams",
           "Athletic"
          ],
          [
           "Iñigo Córdoba",
           "Fortuna Sittard"
          ],
          [
           "Cristo",
           "Arouca"
          ],
          [
           "Borja Mayoral",
           "Getafe"
          ],
          [
           "José Arnáiz",
           "Osasuna"
          ],
          [
           "Toni Martínez",
           "FC Porto"
          ],
          [
           "Mikel Oyarzábal",
           "Real Sociedad"
          ],
          [
           "Youssef En-Nesyri",
           "Sevilla"
          ],
          [
           "Abel Ruiz",
           "Sp. Braga"
          ],
          [
           "Pep Biel",
           "Augsburg"
          ],
          [
           "Chris Ramos",
           "Cádiz"
          ],
          [
           "Hugo Duro",
           "Valencia"
          ],
          [
           "Ansu Fati",
           "Brighton"
          ],
          [
           "Álex Baena",
           "Villarreal"
          ],
          [
           "Pablo Gozálbez",
           "Valencia"
          ],
          [
           "Isaac Romero",
           "Sevilla"
          ],
          [
           "Yeremy Pino",
           "Villarreal"
          ],
          [
           "Nazariy Rusyn",
           "Sunderland"
          ],
          [
           "Artem Dovbyk",
           "Girona"
          ],
          [
           "Rhys Healey",
           "Huddersfield"
          ],
          [
           "Duván Zapata",
           "Torino"
          ],
          [
           "Miguel Borja",
           "River"
          ],
          [
           "Alfredo Morelos",
           "SAN"
          ],
          [
           "Rafael Santos Borré",
           "SV Werder"
          ],
          [
           "Óscar Estupiñán",
           "BAH"
          ],
          [
           "Luis Suárez",
           "Almería"
          ],
          [
           "Jhon Arias",
           "FLU"
          ],
          [
           "Gonzalo Mastriani",
           "Athlético Paranaense"
          ],
          [
           "David Terans",
           "FLU"
          ],
          [
           "Miguel Merentiel",
           "Boca"
          ],
          [
           "Maximiliano Gómez",
           "Cádiz"
          ],
          [
           "Edwuin Cetré",
           "Estudiantes (LP)"
          ],
          [
           "Darwin Núñez",
           "Liverpool"
          ],
          [
           "Matías Arezo",
           "Granada"
          ],
          [
           "Salomón Rodríguez",
           "Godoy Cruz"
          ],
          [
           "Thiago Borbas",
           "RB Bragantino"
          ],
          [
           "Diogo",
           "CTB"
          ],
          [
           "Ángel Romero",
           "COR"
          ],
          [
           "Rodrigo Bogarín",
           "Defensa y Justicia"
          ],
          [
           "Adam Bareiro",
           "San Lorenzo"
          ],
          [
           "Ronaldo Martínez",
           "Platense"
          ],
          [
           "Blas Armoa",
           "Tigre"
          ],
          [
           "Isidro Pitta",
           "CUI"
          ],
          [
           "Marcelo Pérez",
           "Huracán"
          ],
          [
           "Rafael Leão",
           "Milan"
          ],
          [
           "João Félix",
           "Barcelona"
          ],
          [
           "Aziz Yakubu",
           "Rio Ave"
          ],
          [
           "Henrique Araújo",
           "Famalicão"
          ],
          [
           "Malik Abubakari",
           "Viborg FF"
          ],
          [
           "Julian von Moos",
           "Plymouth"
          ],
          [
           "Zeki Amdouni",
           "Burnley"
          ],
          [
           "Florian Thauvin",
           "Udinese"
          ],
          [
           "Alassane Pléa",
           "Mönchengladbach"
          ],
          [
           "Gaëtan Laborde",
           "Nice"
          ],
          [
           "Serhou Guirassy",
           "VfB Stuttgart"
          ],
          [
           "Famara Diédhiou",
           "Cardiff"
          ],
          [
           "Grejohn Kyei",
           "Clermont"
          ],
          [
           "Kylian Mbappé",
           "PSG"
          ],
          [
           "Yoane Wissa",
           "Brentford"
          ],
          [
           "Darwin Machís",
           "Cádiz"
          ],
          [
           "Yeferson Soteldo",
           "GRE"
          ],
          [
           "Ronie Carrillo",
           "Portimonense"
          ],
          [
           "Che Adams",
           "Southampton"
          ],
          [
           "Peniel Mlapa",
           "Casa Pia"
          ],
          [
           "Kevin Volland",
           "Union Berlin"
          ],
          [
           "Philipp Hofmann",
           "VfL Bochum"
          ],
          [
           "Maximilian Philipp",
           "SC Freiburg"
          ],
          [
           "Davie Selke",
           "FC Köln"
          ],
          [
           "Lucas Höler",
           "SC Freiburg"
          ],
          [
           "Kai Havertz",
           "Arsenal"
          ],
          [
           "Vangelis Pavlidis",
           "AZ"
          ],
          [
           "Ermedin Demirović",
           "Augsburg"
          ],
          [
           "Luca Pfeiffer",
           "Darmstadt 98"
          ],
          [
           "Malik Tillman",
           "PSV"
          ],
          [
           "Eren Dinkci",
           "FC Heidenheim"
          ],
          [
           "Maximilian Beier",
           "TSG Hoffenheim"
          ],
          [
           "Mario Engels",
           "Heracles Almelo"
          ],
          [
           "Nicola Sansone",
           "Lecce"
          ],
          [
           "Lennart Thy",
           "PEC Zwolle"
          ],
          [
           "Niclas Füllkrug",
           "Borussia Dortmund"
          ],
          [
           "Heung-Min Son",
           "Tottenham"
          ],
          [
           "Marvin Ducksch",
           "SV Werder"
          ],
          [
           "Timo Werner",
           "Tottenham"
          ],
          [
           "Tim Kleindienst",
           "FC Heidenheim"
          ],
          [
           "Tim Skarke",
           "Darmstadt 98"
          ],
          [
           "Lukas Daschner",
           "VfL Bochum"
          ],
          [
           "Braydon Manu",
           "Darmstadt 98"
          ],
          [
           "Jordan Larsson",
           "FC København"
          ],
          [
           "Victor Edvardsen",
           "Go Ahead Eagles"
          ],
          [
           "Joel Asoro",
           "Metz"
          ],
          [
           "Viktor Gyökeres",
           "Sporting CP"
          ],
          [
           "Alexander Isak",
           "Newcastle"
          ],
          [
           "Jesper Karlsson",
           "Bologna"
          ],
          [
           "Benjamin Nygren",
           "FC Nordsjælland"
          ],
          [
           "Rafa Mujica",
           "Arouca"
          ],
          [
           "Zito Luvumbo",
           "Cagliari"
          ],
          [
           "Depú",
           "Gil Vicente"
          ],
          [
           "Karol Świderski",
           "Hellas Verona"
          ],
          [
           "Michaël Frey",
           "QPR"
          ],
          [
           "Mohamed Salah",
           "Liverpool"
          ],
          [
           "Mykola Kukharevych",
           "Swansea"
          ],
          [
           "Ernest Poku",
           "AZ"
          ],
          [
           "Erison",
           "SPO"
          ],
          [
           "Franculino Djú",
           "FC Midtjylland"
          ],
          [
           "Figueiredo",
           "CTB"
          ],
          [
           "José Manuel López",
           "SEP"
          ],
          [
           "Ruben van Bommel",
           "AZ"
          ],
          [
           "Lucas Besozzi",
           "GRE"
          ],
          [
           "Gonzalo Morales",
           "Unión (SF)"
          ],
          [
           "Victor Hugo",
           "FLA"
          ],
          [
           "Ez Abde",
           "Real Betis"
          ],
          [
           "Ângelo",
           "Strasbourg"
          ],
          [
           "Diego López",
           "Valencia"
          ],
          [
           "Jeremías Pérez Tica",
           "Newell's"
          ],
          [
           "Facundo Echevarría",
           "Defensa y Justicia"
          ],
          [
           "Garang Kuol",
           "FC Volendam"
          ],
          [
           "Paulo Victor",
           "Desp. Chaves"
          ],
          [
           "Ighor Gabryel",
           "AMG"
          ],
          [
           "Lucca Holanda",
           "INT"
          ],
          [
           "Roony Bardghji",
           "FC København"
          ],
          [
           "Santiago Fernández",
           "Banfield"
          ],
          [
           "Vivaldo Semedo",
           "FC Volendam"
          ],
          [
           "Juan Peinipil",
           "Arsenal (Sarandí)"
          ],
          [
           "Antoine Joujou",
           "Havre AC"
          ],
          [
           "Renato Marques",
           "AMG"
          ],
          [
           "Jhosefer",
           "CEC"
          ],
          [
           "Jason van Duiven",
           "Almere City"
          ],
          [
           "Erick Marcus",
           "Vasco da Gama"
          ],
          [
           "Pedrinho",
           "COR"
          ],
          [
           "Giovane",
           "COR"
          ],
          [
           "Juan Ruiz",
           "Vélez"
          ],
          [
           "Aidomo Emakhu",
           "Millwall"
          ],
          [
           "Santiago Hidalgo",
           "Independiente"
          ],
          [
           "Jerónimo Domina",
           "Unión (SF)"
          ],
          [
           "Franco Rami",
           "Belgrano"
          ],
          [
           "Jobe Bellingham",
           "Sunderland"
          ],
          [
           "Samu Omorodion",
           "Alavés"
          ],
          [
           "Rodrigo Cezar",
           "SAN"
          ],
          [
           "Endrick",
           "SEP"
          ],
          [
           "Pedrinho",
           "GOI"
          ],
          [
           "Ricardo Mathias",
           "INT"
          ],
          [
           "Mauro Paparello",
           "Huracán"
          ],
          [
           "João Paulo",
           "GOI"
          ],
          [
           "Ibrahim Osman",
           "FC Nordsjælland"
          ],
          [
           "Robert",
           "CEC"
          ],
          [
           "Hwaskar",
           "GOI"
          ],
          [
           "Tiago Benzi",
           "Belgrano"
          ],
          [
           "Jean Gabriel",
           "CTB"
          ]
         ],
         "hovertemplate": "<b>%{customdata[0]}</b><br><b>%{customdata[1]}</b><br><br>non_pen_xg/90: %{x}<br>non_pen_goals/90: %{y}<br>non_pen_goals/shot: %{marker.color}<extra></extra>",
         "legendgroup": "",
         "marker": {
          "color": {
           "bdata": "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",
           "dtype": "f8"
          },
          "coloraxis": "coloraxis",
          "size": 10,
          "symbol": "circle"
         },
         "mode": "markers",
         "name": "",
         "orientation": "v",
         "showlegend": false,
         "textfont": {
          "size": 10
         },
         "textposition": "top center",
         "type": "scatter",
         "x": {
          "bdata": "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",
          "dtype": "f8"
         },
         "xaxis": "x",
         "y": {
          "bdata": "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",
          "dtype": "f8"
         },
         "yaxis": "y"
        }
       ],
       "layout": {
        "coloraxis": {
         "colorbar": {
          "title": {
           "text": "non_pen_goals/shot"
          }
         },
         "colorscale": [
          [
           0,
           "rgb(165,0,38)"
          ],
          [
           0.1,
           "rgb(215,48,39)"
          ],
          [
           0.2,
           "rgb(244,109,67)"
          ],
          [
           0.3,
           "rgb(253,174,97)"
          ],
          [
           0.4,
           "rgb(254,224,139)"
          ],
          [
           0.5,
           "rgb(255,255,191)"
          ],
          [
           0.6,
           "rgb(217,239,139)"
          ],
          [
           0.7,
           "rgb(166,217,106)"
          ],
          [
           0.8,
           "rgb(102,189,99)"
          ],
          [
           0.9,
           "rgb(26,152,80)"
          ],
          [
           1,
           "rgb(0,104,55)"
          ]
         ],
         "showscale": false
        },
        "height": 700,
        "legend": {
         "tracegroupgap": 0
        },
        "paper_bgcolor": "darkgray",
        "plot_bgcolor": "darkgray",
        "template": {
         "data": {
          "bar": [
           {
            "error_x": {
             "color": "#2a3f5f"
            },
            "error_y": {
             "color": "#2a3f5f"
            },
            "marker": {
             "line": {
              "color": "#E5ECF6",
              "width": 0.5
             },
             "pattern": {
              "fillmode": "overlay",
              "size": 10,
              "solidity": 0.2
             }
            },
            "type": "bar"
           }
          ],
          "barpolar": [
           {
            "marker": {
             "line": {
              "color": "#E5ECF6",
              "width": 0.5
             },
             "pattern": {
              "fillmode": "overlay",
              "size": 10,
              "solidity": 0.2
             }
            },
            "type": "barpolar"
           }
          ],
          "carpet": [
           {
            "aaxis": {
             "endlinecolor": "#2a3f5f",
             "gridcolor": "white",
             "linecolor": "white",
             "minorgridcolor": "white",
             "startlinecolor": "#2a3f5f"
            },
            "baxis": {
             "endlinecolor": "#2a3f5f",
             "gridcolor": "white",
             "linecolor": "white",
             "minorgridcolor": "white",
             "startlinecolor": "#2a3f5f"
            },
            "type": "carpet"
           }
          ],
          "choropleth": [
           {
            "colorbar": {
             "outlinewidth": 0,
             "ticks": ""
            },
            "type": "choropleth"
           }
          ],
          "contour": [
           {
            "colorbar": {
             "outlinewidth": 0,
             "ticks": ""
            },
            "colorscale": [
             [
              0,
              "#0d0887"
             ],
             [
              0.1111111111111111,
              "#46039f"
             ],
             [
              0.2222222222222222,
              "#7201a8"
             ],
             [
              0.3333333333333333,
              "#9c179e"
             ],
             [
              0.4444444444444444,
              "#bd3786"
             ],
             [
              0.5555555555555556,
              "#d8576b"
             ],
             [
              0.6666666666666666,
              "#ed7953"
             ],
             [
              0.7777777777777778,
              "#fb9f3a"
             ],
             [
              0.8888888888888888,
              "#fdca26"
             ],
             [
              1,
              "#f0f921"
             ]
            ],
            "type": "contour"
           }
          ],
          "contourcarpet": [
           {
            "colorbar": {
             "outlinewidth": 0,
             "ticks": ""
            },
            "type": "contourcarpet"
           }
          ],
          "heatmap": [
           {
            "colorbar": {
             "outlinewidth": 0,
             "ticks": ""
            },
            "colorscale": [
             [
              0,
              "#0d0887"
             ],
             [
              0.1111111111111111,
              "#46039f"
             ],
             [
              0.2222222222222222,
              "#7201a8"
             ],
             [
              0.3333333333333333,
              "#9c179e"
             ],
             [
              0.4444444444444444,
              "#bd3786"
             ],
             [
              0.5555555555555556,
              "#d8576b"
             ],
             [
              0.6666666666666666,
              "#ed7953"
             ],
             [
              0.7777777777777778,
              "#fb9f3a"
             ],
             [
              0.8888888888888888,
              "#fdca26"
             ],
             [
              1,
              "#f0f921"
             ]
            ],
            "type": "heatmap"
           }
          ],
          "histogram": [
           {
            "marker": {
             "pattern": {
              "fillmode": "overlay",
              "size": 10,
              "solidity": 0.2
             }
            },
            "type": "histogram"
           }
          ],
          "histogram2d": [
           {
            "colorbar": {
             "outlinewidth": 0,
             "ticks": ""
            },
            "colorscale": [
             [
              0,
              "#0d0887"
             ],
             [
              0.1111111111111111,
              "#46039f"
             ],
             [
              0.2222222222222222,
              "#7201a8"
             ],
             [
              0.3333333333333333,
              "#9c179e"
             ],
             [
              0.4444444444444444,
              "#bd3786"
             ],
             [
              0.5555555555555556,
              "#d8576b"
             ],
             [
              0.6666666666666666,
              "#ed7953"
             ],
             [
              0.7777777777777778,
              "#fb9f3a"
             ],
             [
              0.8888888888888888,
              "#fdca26"
             ],
             [
              1,
              "#f0f921"
             ]
            ],
            "type": "histogram2d"
           }
          ],
          "histogram2dcontour": [
           {
            "colorbar": {
             "outlinewidth": 0,
             "ticks": ""
            },
            "colorscale": [
             [
              0,
              "#0d0887"
             ],
             [
              0.1111111111111111,
              "#46039f"
             ],
             [
              0.2222222222222222,
              "#7201a8"
             ],
             [
              0.3333333333333333,
              "#9c179e"
             ],
             [
              0.4444444444444444,
              "#bd3786"
             ],
             [
              0.5555555555555556,
              "#d8576b"
             ],
             [
              0.6666666666666666,
              "#ed7953"
             ],
             [
              0.7777777777777778,
              "#fb9f3a"
             ],
             [
              0.8888888888888888,
              "#fdca26"
             ],
             [
              1,
              "#f0f921"
             ]
            ],
            "type": "histogram2dcontour"
           }
          ],
          "mesh3d": [
           {
            "colorbar": {
             "outlinewidth": 0,
             "ticks": ""
            },
            "type": "mesh3d"
           }
          ],
          "parcoords": [
           {
            "line": {
             "colorbar": {
              "outlinewidth": 0,
              "ticks": ""
             }
            },
            "type": "parcoords"
           }
          ],
          "pie": [
           {
            "automargin": true,
            "type": "pie"
           }
          ],
          "scatter": [
           {
            "fillpattern": {
             "fillmode": "overlay",
             "size": 10,
             "solidity": 0.2
            },
            "type": "scatter"
           }
          ],
          "scatter3d": [
           {
            "line": {
             "colorbar": {
              "outlinewidth": 0,
              "ticks": ""
             }
            },
            "marker": {
             "colorbar": {
              "outlinewidth": 0,
              "ticks": ""
             }
            },
            "type": "scatter3d"
           }
          ],
          "scattercarpet": [
           {
            "marker": {
             "colorbar": {
              "outlinewidth": 0,
              "ticks": ""
             }
            },
            "type": "scattercarpet"
           }
          ],
          "scattergeo": [
           {
            "marker": {
             "colorbar": {
              "outlinewidth": 0,
              "ticks": ""
             }
            },
            "type": "scattergeo"
           }
          ],
          "scattergl": [
           {
            "marker": {
             "colorbar": {
              "outlinewidth": 0,
              "ticks": ""
             }
            },
            "type": "scattergl"
           }
          ],
          "scattermap": [
           {
            "marker": {
             "colorbar": {
              "outlinewidth": 0,
              "ticks": ""
             }
            },
            "type": "scattermap"
           }
          ],
          "scattermapbox": [
           {
            "marker": {
             "colorbar": {
              "outlinewidth": 0,
              "ticks": ""
             }
            },
            "type": "scattermapbox"
           }
          ],
          "scatterpolar": [
           {
            "marker": {
             "colorbar": {
              "outlinewidth": 0,
              "ticks": ""
             }
            },
            "type": "scatterpolar"
           }
          ],
          "scatterpolargl": [
           {
            "marker": {
             "colorbar": {
              "outlinewidth": 0,
              "ticks": ""
             }
            },
            "type": "scatterpolargl"
           }
          ],
          "scatterternary": [
           {
            "marker": {
             "colorbar": {
              "outlinewidth": 0,
              "ticks": ""
             }
            },
            "type": "scatterternary"
           }
          ],
          "surface": [
           {
            "colorbar": {
             "outlinewidth": 0,
             "ticks": ""
            },
            "colorscale": [
             [
              0,
              "#0d0887"
             ],
             [
              0.1111111111111111,
              "#46039f"
             ],
             [
              0.2222222222222222,
              "#7201a8"
             ],
             [
              0.3333333333333333,
              "#9c179e"
             ],
             [
              0.4444444444444444,
              "#bd3786"
             ],
             [
              0.5555555555555556,
              "#d8576b"
             ],
             [
              0.6666666666666666,
              "#ed7953"
             ],
             [
              0.7777777777777778,
              "#fb9f3a"
             ],
             [
              0.8888888888888888,
              "#fdca26"
             ],
             [
              1,
              "#f0f921"
             ]
            ],
            "type": "surface"
           }
          ],
          "table": [
           {
            "cells": {
             "fill": {
              "color": "#EBF0F8"
             },
             "line": {
              "color": "white"
             }
            },
            "header": {
             "fill": {
              "color": "#C8D4E3"
             },
             "line": {
              "color": "white"
             }
            },
            "type": "table"
           }
          ]
         },
         "layout": {
          "annotationdefaults": {
           "arrowcolor": "#2a3f5f",
           "arrowhead": 0,
           "arrowwidth": 1
          },
          "autotypenumbers": "strict",
          "coloraxis": {
           "colorbar": {
            "outlinewidth": 0,
            "ticks": ""
           }
          },
          "colorscale": {
           "diverging": [
            [
             0,
             "#8e0152"
            ],
            [
             0.1,
             "#c51b7d"
            ],
            [
             0.2,
             "#de77ae"
            ],
            [
             0.3,
             "#f1b6da"
            ],
            [
             0.4,
             "#fde0ef"
            ],
            [
             0.5,
             "#f7f7f7"
            ],
            [
             0.6,
             "#e6f5d0"
            ],
            [
             0.7,
             "#b8e186"
            ],
            [
             0.8,
             "#7fbc41"
            ],
            [
             0.9,
             "#4d9221"
            ],
            [
             1,
             "#276419"
            ]
           ],
           "sequential": [
            [
             0,
             "#0d0887"
            ],
            [
             0.1111111111111111,
             "#46039f"
            ],
            [
             0.2222222222222222,
             "#7201a8"
            ],
            [
             0.3333333333333333,
             "#9c179e"
            ],
            [
             0.4444444444444444,
             "#bd3786"
            ],
            [
             0.5555555555555556,
             "#d8576b"
            ],
            [
             0.6666666666666666,
             "#ed7953"
            ],
            [
             0.7777777777777778,
             "#fb9f3a"
            ],
            [
             0.8888888888888888,
             "#fdca26"
            ],
            [
             1,
             "#f0f921"
            ]
           ],
           "sequentialminus": [
            [
             0,
             "#0d0887"
            ],
            [
             0.1111111111111111,
             "#46039f"
            ],
            [
             0.2222222222222222,
             "#7201a8"
            ],
            [
             0.3333333333333333,
             "#9c179e"
            ],
            [
             0.4444444444444444,
             "#bd3786"
            ],
            [
             0.5555555555555556,
             "#d8576b"
            ],
            [
             0.6666666666666666,
             "#ed7953"
            ],
            [
             0.7777777777777778,
             "#fb9f3a"
            ],
            [
             0.8888888888888888,
             "#fdca26"
            ],
            [
             1,
             "#f0f921"
            ]
           ]
          },
          "colorway": [
           "#636efa",
           "#EF553B",
           "#00cc96",
           "#ab63fa",
           "#FFA15A",
           "#19d3f3",
           "#FF6692",
           "#B6E880",
           "#FF97FF",
           "#FECB52"
          ],
          "font": {
           "color": "#2a3f5f"
          },
          "geo": {
           "bgcolor": "white",
           "lakecolor": "white",
           "landcolor": "#E5ECF6",
           "showlakes": true,
           "showland": true,
           "subunitcolor": "white"
          },
          "hoverlabel": {
           "align": "left"
          },
          "hovermode": "closest",
          "mapbox": {
           "style": "light"
          },
          "paper_bgcolor": "white",
          "plot_bgcolor": "#E5ECF6",
          "polar": {
           "angularaxis": {
            "gridcolor": "white",
            "linecolor": "white",
            "ticks": ""
           },
           "bgcolor": "#E5ECF6",
           "radialaxis": {
            "gridcolor": "white",
            "linecolor": "white",
            "ticks": ""
           }
          },
          "scene": {
           "xaxis": {
            "backgroundcolor": "#E5ECF6",
            "gridcolor": "white",
            "gridwidth": 2,
            "linecolor": "white",
            "showbackground": true,
            "ticks": "",
            "zerolinecolor": "white"
           },
           "yaxis": {
            "backgroundcolor": "#E5ECF6",
            "gridcolor": "white",
            "gridwidth": 2,
            "linecolor": "white",
            "showbackground": true,
            "ticks": "",
            "zerolinecolor": "white"
           },
           "zaxis": {
            "backgroundcolor": "#E5ECF6",
            "gridcolor": "white",
            "gridwidth": 2,
            "linecolor": "white",
            "showbackground": true,
            "ticks": "",
            "zerolinecolor": "white"
           }
          },
          "shapedefaults": {
           "line": {
            "color": "#2a3f5f"
           }
          },
          "ternary": {
           "aaxis": {
            "gridcolor": "white",
            "linecolor": "white",
            "ticks": ""
           },
           "baxis": {
            "gridcolor": "white",
            "linecolor": "white",
            "ticks": ""
           },
           "bgcolor": "#E5ECF6",
           "caxis": {
            "gridcolor": "white",
            "linecolor": "white",
            "ticks": ""
           }
          },
          "title": {
           "x": 0.05
          },
          "xaxis": {
           "automargin": true,
           "gridcolor": "white",
           "linecolor": "white",
           "ticks": "",
           "title": {
            "standoff": 15
           },
           "zerolinecolor": "white",
           "zerolinewidth": 2
          },
          "yaxis": {
           "automargin": true,
           "gridcolor": "white",
           "linecolor": "white",
           "ticks": "",
           "title": {
            "standoff": 15
           },
           "zerolinecolor": "white",
           "zerolinewidth": 2
          }
         }
        },
        "title": {
         "text": "Chance conversion ( 490)",
         "x": 0.5,
         "xanchor": "center"
        },
        "width": 1200,
        "xaxis": {
         "anchor": "y",
         "domain": [
          0,
          1
         ],
         "gridcolor": "white",
         "showgrid": true,
         "title": {
          "text": "non_pen_xg/90"
         },
         "zeroline": false
        },
        "yaxis": {
         "anchor": "x",
         "domain": [
          0,
          1
         ],
         "gridcolor": "white",
         "showgrid": true,
         "title": {
          "text": "non_pen_goals/90"
         },
         "zeroline": false
        }
       }
      }
     },
     "metadata": {},
     "output_type": "display_data"
    }
   ],
   "source": [
    "# Initialize list of targets\n",
    "targets = df_players['id']\n",
    "\n",
    "scatter_plot(df_players,\n",
    "             x_metric='non_pen_xg/90', \n",
    "             y_metric='non_pen_goals/90',\n",
    "             z_metric='non_pen_goals/shot',\n",
    "             title='Chance conversion', \n",
    "             show_name_label=False\n",
    ")"
   ]
  },
  {
   "cell_type": "code",
   "execution_count": 34,
   "id": "a312cf0a",
   "metadata": {},
   "outputs": [
    {
     "data": {
      "application/vnd.plotly.v1+json": {
       "config": {
        "plotlyServerURL": "https://plot.ly"
       },
       "data": [
        {
         "customdata": [
          [
           "Datro Fofana",
           "Burnley"
          ],
          [
           "Bamba Dieng",
           "Lorient"
          ],
          [
           "Vakoun Issouf Bayo",
           "Watford"
          ],
          [
           "Victor Osimhen",
           "Napoli"
          ],
          [
           "Stephen Odey",
           "Randers FC"
          ],
          [
           "Mostafa Mohamed",
           "Nantes"
          ],
          [
           "Franco Troyansky",
           "Gimnasia (LP)"
          ],
          [
           "Tomás Conechny",
           "Godoy Cruz"
          ],
          [
           "Lautaro Martínez",
           "Inter"
          ],
          [
           "Nahuel Barrios",
           "San Lorenzo"
          ],
          [
           "Jonatan Torres",
           "Lanús"
          ],
          [
           "Nahuel Bustos",
           "Talleres"
          ],
          [
           "Maximiliano Salas",
           "Racing Club"
          ],
          [
           "Santiago Rodríguez",
           "Instituto"
          ],
          [
           "Lucas Brochero",
           "Barracas Central"
          ],
          [
           "Mauro Luna Diale",
           "Unión (SF)"
          ],
          [
           "Tomás Sandoval",
           "Colón"
          ],
          [
           "Ezequiel Cañete",
           "Banfield"
          ],
          [
           "Facundo Colidio",
           "River"
          ],
          [
           "Julián Álvarez",
           "Man City"
          ],
          [
           "Federico Girotti",
           "Talleres"
          ],
          [
           "Agustín Obando",
           "Platense"
          ],
          [
           "Justo Giani",
           "Atl. Tucumán"
          ],
          [
           "Pablo Solari",
           "River"
          ],
          [
           "Matías Godoy",
           "Central Córdoba (SdE)"
          ],
          [
           "Matías Polvera",
           "Huracán"
          ],
          [
           "Diego Azcurra",
           "Sarmiento (Junín)"
          ],
          [
           "Jeremías Perales",
           "Banfield"
          ],
          [
           "Rodrigo Castillo",
           "Gimnasia (LP)"
          ],
          [
           "Juan Cruz Esquivel",
           "Tigre"
          ],
          [
           "Flabián Londoño",
           "Tigre"
          ],
          [
           "Hernán López Muñoz",
           "Godoy Cruz"
          ],
          [
           "Gonzalo Flores",
           "Tigre"
          ],
          [
           "Tomás Ortíz",
           "Arsenal (Sarandí)"
          ],
          [
           "Thiago Nuss",
           "Central Córdoba (SdE)"
          ],
          [
           "Jeremías Gallard",
           "Talleres"
          ],
          [
           "Ivo Mammini",
           "Gimnasia (LP)"
          ],
          [
           "Luciano Gondou",
           "Argentinos Jrs."
          ],
          [
           "Axel Ovejero",
           "Banfield"
          ],
          [
           "Luciano Pereyra",
           "Colón"
          ],
          [
           "Ignacio Russo",
           "Instituto"
          ],
          [
           "Juan Román Pucheta",
           "Argentinos Jrs."
          ],
          [
           "Matías Giménez Rojas",
           "Independiente"
          ],
          [
           "Alan Cantero",
           "GOI"
          ],
          [
           "Ezequiel Naya",
           "Estudiantes (LP)"
          ],
          [
           "Santiago Solari",
           "Racing Club"
          ],
          [
           "Karim Adeyemi",
           "Borussia Dortmund"
          ],
          [
           "Othmane Boussaid",
           "FC Utrecht"
          ],
          [
           "Loïs Openda",
           "RB Leipzig"
          ],
          [
           "Bryan Limbombe",
           "Heracles Almelo"
          ],
          [
           "Jonathan David",
           "Lille"
          ],
          [
           "Matheus Aiás",
           "Moreirense"
          ],
          [
           "Gabriel Jesus",
           "Arsenal"
          ],
          [
           "Gustavo Silva",
           "COR"
          ],
          [
           "Pedro",
           "FLA"
          ],
          [
           "Éverton Galdino",
           "GRE"
          ],
          [
           "André Silva",
           "Vit. Guimarães"
          ],
          [
           "Arthur Cabral",
           "SL Benfica"
          ],
          [
           "Paulinho",
           "ATM"
          ],
          [
           "Rodrygo",
           "Real Madrid"
          ],
          [
           "Fabrício Daniel",
           "CTB"
          ],
          [
           "Yuri Alberto",
           "COR"
          ],
          [
           "Vitinho",
           "RB Bragantino"
          ],
          [
           "David da Hora",
           "FOR"
          ],
          [
           "Marrony",
           "FC Midtjylland"
          ],
          [
           "Bruno Marques",
           "SAN"
          ],
          [
           "Calebe",
           "FOR"
          ],
          [
           "Lázaro",
           "SEP"
          ],
          [
           "Luiz Henrique",
           "BOT"
          ],
          [
           "Marcos Leonardo",
           "SL Benfica"
          ],
          [
           "Igor Paixão",
           "Feyenoord"
          ],
          [
           "John Kennedy",
           "FLU"
          ],
          [
           "Matheus Nascimento",
           "BOT"
          ],
          [
           "Patati",
           "SAN"
          ],
          [
           "Matheus Babi",
           "Athlético Paranaense"
          ],
          [
           "Clayton",
           "Casa Pia"
          ],
          [
           "Haji Wright",
           "Coventry"
          ],
          [
           "Ondřej Lingr",
           "Feyenoord"
          ],
          [
           "Rezan Çorlu",
           "Lyngby"
          ],
          [
           "Jens Odgaard",
           "Bologna"
          ],
          [
           "Mikkel Damsgaard",
           "Brentford"
          ],
          [
           "Nikolai Frederiksen",
           "Lyngby"
          ],
          [
           "Søren Tengstedt",
           "Go Ahead Eagles"
          ],
          [
           "Mileta Rajović",
           "Watford"
          ],
          [
           "Aral Şimşir",
           "FC Midtjylland"
          ],
          [
           "Lirim Qamili",
           "Hvidovre IF"
          ],
          [
           "Max Fenger",
           "OB"
          ],
          [
           "Alexander Lind",
           "Silkeborg IF"
          ],
          [
           "Don Deedson",
           "OB"
          ],
          [
           "Anosike Ementa",
           "Viborg FF"
          ],
          [
           "Adam Armstrong",
           "Southampton"
          ],
          [
           "Marcus Rashford",
           "Man Utd"
          ],
          [
           "Iké Ugbo",
           "Sheffield Wednesday"
          ],
          [
           "Josh Maja",
           "West Brom"
          ],
          [
           "Marcus Forss",
           "Middlesbrough"
          ],
          [
           "Bobby Adekanye",
           "Go Ahead Eagles"
          ],
          [
           "Phil Foden",
           "Man City"
          ],
          [
           "Tyrese Campbell",
           "Stoke"
          ],
          [
           "Dwight McNeil",
           "Everton"
          ],
          [
           "Anthony Gordon",
           "Newcastle"
          ],
          [
           "Ellis Simms",
           "Coventry"
          ],
          [
           "Largie Ramazani",
           "Almería"
          ],
          [
           "Mason Greenwood",
           "Getafe"
          ],
          [
           "Sam Greenwood",
           "Middlesbrough"
          ],
          [
           "Troy Parrott",
           "Excelsior"
          ],
          [
           "Liam Delap",
           "Hull"
          ],
          [
           "Conor Chaplin",
           "Ipswich"
          ],
          [
           "Dominic Calvert-Lewin",
           "Everton"
          ],
          [
           "Dominic Solanke",
           "Bournemouth"
          ],
          [
           "Ademola Lookman",
           "Atalanta"
          ],
          [
           "Jacob Brown",
           "Luton"
          ],
          [
           "Erling Haaland",
           "Man City"
          ],
          [
           "Morgan Whittaker",
           "Plymouth"
          ],
          [
           "Cameron Archer",
           "Sheff Utd"
          ],
          [
           "Fredrik Jensen",
           "Augsburg"
          ],
          [
           "Steven Bergwijn",
           "Ajax"
          ],
          [
           "Albert Guðmundsson",
           "Genoa"
          ],
          [
           "Gianluca Scamacca",
           "Atalanta"
          ],
          [
           "Zian Flemming",
           "Millwall"
          ],
          [
           "Kaj Sierhuis",
           "Fortuna Sittard"
          ],
          [
           "Sam Lammers",
           "FC Utrecht"
          ],
          [
           "Guus Til",
           "PSV"
          ],
          [
           "Delano Burgzorg",
           "Huddersfield"
          ],
          [
           "Joshua Zirkzee",
           "Bologna"
          ],
          [
           "Myron Boadu",
           "FC Twente"
          ],
          [
           "Zakaria Aboukhlal",
           "Toulouse"
          ],
          [
           "Brian Brobbey",
           "Ajax"
          ],
          [
           "Sydney van Hooijdonk",
           "Norwich"
          ],
          [
           "Ole Romeny",
           "FC Utrecht"
          ],
          [
           "Ibrahim Cissoko",
           "Toulouse"
          ],
          [
           "Yorbe Vertessen",
           "Union Berlin"
          ],
          [
           "Naci Ünüvar",
           "FC Twente"
          ],
          [
           "Fodé Fofana",
           "Vitesse"
          ],
          [
           "Emanuel Emegha",
           "Strasbourg"
          ],
          [
           "Federico Chiesa",
           "Juventus"
          ],
          [
           "Christian Kouamé",
           "Fiorentina"
          ],
          [
           "Emmanuel Latte Lath",
           "Middlesbrough"
          ],
          [
           "Andrea Pinamonti",
           "Sassuolo"
          ],
          [
           "Nicolò Zaniolo",
           "Aston Villa"
          ],
          [
           "Nicolò Cambiaghi",
           "Empoli"
          ],
          [
           "Samuele Mulattieri",
           "Sunderland"
          ],
          [
           "Lorenzo Lucca",
           "Udinese"
          ],
          [
           "Lorenzo Colombo",
           "Monza"
          ],
          [
           "Keito Nakamura",
           "Stade Reims"
          ],
          [
           "Odsonne Edouard",
           "Crystal Palace"
          ],
          [
           "Marcus Thuram",
           "Inter"
          ],
          [
           "Yann Kitala",
           "Almere City"
          ],
          [
           "Martin Terrier",
           "Rennes"
          ],
          [
           "Bryan Mbeumo",
           "Brentford"
          ],
          [
           "Ismaïla Sarr",
           "Marseille"
          ],
          [
           "Frank Magri",
           "Toulouse"
          ],
          [
           "Randal Kolo Muani",
           "PSG"
          ],
          [
           "Amine Gouiri",
           "Rennes"
          ],
          [
           "Georges Mikautadze",
           "Metz"
          ],
          [
           "Georginio Rutter",
           "Leeds"
          ],
          [
           "Hugo Ekitiké",
           "Eintracht Frankfurt"
          ],
          [
           "Santiago Giménez",
           "Feyenoord"
          ],
          [
           "Chiedozie Ogbene",
           "Luton"
          ],
          [
           "Jørgen Strand Larsen",
           "Celta"
          ],
          [
           "Victor Boniface",
           "Bayer 04"
          ],
          [
           "Ronaldo Tavares",
           "CF Estrela Amadora"
          ],
          [
           "Ion Nicolăescu",
           "sc Heerenveen"
          ],
          [
           "Khvicha Kvaratskhelia",
           "Napoli"
          ],
          [
           "Issah Abass",
           "Desp. Chaves"
          ],
          [
           "Benjamin Šeško",
           "RB Leipzig"
          ],
          [
           "Róbert Boženík",
           "Boavista"
          ],
          [
           "Samson Akinyoola",
           "Montpellier"
          ],
          [
           "Cho Gue-Sung",
           "FC Midtjylland"
          ],
          [
           "Toni Martínez",
           "FC Porto"
          ],
          [
           "Youssef En-Nesyri",
           "Sevilla"
          ],
          [
           "Abel Ruiz",
           "Sp. Braga"
          ],
          [
           "Chris Ramos",
           "Cádiz"
          ],
          [
           "Álex Baena",
           "Villarreal"
          ],
          [
           "Pablo Gozálbez",
           "Valencia"
          ],
          [
           "Isaac Romero",
           "Sevilla"
          ],
          [
           "Óscar Estupiñán",
           "BAH"
          ],
          [
           "Luis Suárez",
           "Almería"
          ],
          [
           "Edwuin Cetré",
           "Estudiantes (LP)"
          ],
          [
           "Darwin Núñez",
           "Liverpool"
          ],
          [
           "Salomón Rodríguez",
           "Godoy Cruz"
          ],
          [
           "Thiago Borbas",
           "RB Bragantino"
          ],
          [
           "Rodrigo Bogarín",
           "Defensa y Justicia"
          ],
          [
           "Blas Armoa",
           "Tigre"
          ],
          [
           "Isidro Pitta",
           "CUI"
          ],
          [
           "Marcelo Pérez",
           "Huracán"
          ],
          [
           "Rafael Leão",
           "Milan"
          ],
          [
           "João Félix",
           "Barcelona"
          ],
          [
           "Aziz Yakubu",
           "Rio Ave"
          ],
          [
           "Henrique Araújo",
           "Famalicão"
          ],
          [
           "Malik Abubakari",
           "Viborg FF"
          ],
          [
           "Julian von Moos",
           "Plymouth"
          ],
          [
           "Zeki Amdouni",
           "Burnley"
          ],
          [
           "Kylian Mbappé",
           "PSG"
          ],
          [
           "Kai Havertz",
           "Arsenal"
          ],
          [
           "Vangelis Pavlidis",
           "AZ"
          ],
          [
           "Malik Tillman",
           "PSV"
          ],
          [
           "Braydon Manu",
           "Darmstadt 98"
          ],
          [
           "Jordan Larsson",
           "FC København"
          ],
          [
           "Joel Asoro",
           "Metz"
          ],
          [
           "Viktor Gyökeres",
           "Sporting CP"
          ],
          [
           "Alexander Isak",
           "Newcastle"
          ],
          [
           "Jesper Karlsson",
           "Bologna"
          ],
          [
           "Benjamin Nygren",
           "FC Nordsjælland"
          ],
          [
           "Rafa Mujica",
           "Arouca"
          ],
          [
           "Karol Świderski",
           "Hellas Verona"
          ],
          [
           "Ernest Poku",
           "AZ"
          ],
          [
           "Franculino Djú",
           "FC Midtjylland"
          ],
          [
           "Figueiredo",
           "CTB"
          ],
          [
           "José Manuel López",
           "SEP"
          ],
          [
           "Lucas Besozzi",
           "GRE"
          ],
          [
           "Gonzalo Morales",
           "Unión (SF)"
          ],
          [
           "Victor Hugo",
           "FLA"
          ],
          [
           "Ez Abde",
           "Real Betis"
          ],
          [
           "Ângelo",
           "Strasbourg"
          ],
          [
           "Jeremías Pérez Tica",
           "Newell's"
          ],
          [
           "Facundo Echevarría",
           "Defensa y Justicia"
          ],
          [
           "Paulo Victor",
           "Desp. Chaves"
          ],
          [
           "Lucca Holanda",
           "INT"
          ],
          [
           "Roony Bardghji",
           "FC København"
          ],
          [
           "Santiago Fernández",
           "Banfield"
          ],
          [
           "Vivaldo Semedo",
           "FC Volendam"
          ],
          [
           "Antoine Joujou",
           "Havre AC"
          ],
          [
           "Renato Marques",
           "AMG"
          ],
          [
           "Jason van Duiven",
           "Almere City"
          ],
          [
           "Erick Marcus",
           "Vasco da Gama"
          ],
          [
           "Pedrinho",
           "COR"
          ],
          [
           "Giovane",
           "COR"
          ],
          [
           "Aidomo Emakhu",
           "Millwall"
          ],
          [
           "Santiago Hidalgo",
           "Independiente"
          ],
          [
           "Jerónimo Domina",
           "Unión (SF)"
          ],
          [
           "Franco Rami",
           "Belgrano"
          ],
          [
           "Jobe Bellingham",
           "Sunderland"
          ],
          [
           "Samu Omorodion",
           "Alavés"
          ],
          [
           "Rodrigo Cezar",
           "SAN"
          ],
          [
           "Endrick",
           "SEP"
          ],
          [
           "Pedrinho",
           "GOI"
          ],
          [
           "Ricardo Mathias",
           "INT"
          ],
          [
           "Mauro Paparello",
           "Huracán"
          ],
          [
           "João Paulo",
           "GOI"
          ],
          [
           "Ibrahim Osman",
           "FC Nordsjælland"
          ],
          [
           "Robert",
           "CEC"
          ],
          [
           "Tiago Benzi",
           "Belgrano"
          ],
          [
           "Jean Gabriel",
           "CTB"
          ]
         ],
         "hovertemplate": "<b>%{customdata[0]}</b><br><b>%{customdata[1]}</b><br><br>non_pen_xg/90: %{x}<br>non_pen_goals/90: %{y}<br>non_pen_goals/shot: %{marker.color}<extra></extra>",
         "legendgroup": "",
         "marker": {
          "color": {
           "bdata": "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",
           "dtype": "f8"
          },
          "coloraxis": "coloraxis",
          "size": 10,
          "symbol": "circle"
         },
         "mode": "markers",
         "name": "",
         "orientation": "v",
         "showlegend": false,
         "textfont": {
          "size": 10
         },
         "textposition": "top center",
         "type": "scatter",
         "x": {
          "bdata": "H4XrUbge1T9xPQrXo3DNP/YoXI/C9dg/exSuR+F61D8K16NwPQrXP3sUrkfhetQ/H4XrUbge1T8pXI/C9SjMP+F6FK5H4do/MzMzMzMzwz8K16NwPQrXPzMzMzMzM9M/7FG4HoXr0T/hehSuR+HKP3sUrkfhesQ/MzMzMzMzwz+amZmZmZnJPwrXo3A9Csc/w/UoXI/C1T/Xo3A9CtfTP3sUrkfhetQ/UrgehetRyD8zMzMzMzPTPwAAAAAAANA/mpmZmZmZyT+uR+F6FK7XPwAAAAAAANA/pHA9Ctej0D8K16NwPQrXP8P1KFyPwsU/uB6F61G4zj/Xo3A9CtfTP2ZmZmZmZtY/uB6F61G4zj8UrkfhehTeP5qZmZmZmck/UrgehetR2D9cj8L1KFzfPwrXo3A9Ctc/4XoUrkfhyj8K16NwPQrHPylcj8L1KMw/pHA9Ctej4D8zMzMzMzPTP5qZmZmZmdk/mpmZmZmZyT8AAAAAAADQP8P1KFyPwsU/uB6F61G43j+F61G4HoXjPx+F61G4HtU/9ihcj8L12D8K16NwPQrXP1K4HoXrUcg/PQrXo3A92j+4HoXrUbi+Px+F61G4HtU/9ihcj8L12D/hehSuR+HKP+F6FK5H4eI/exSuR+F61D9I4XoUrkfRPwrXo3A9Csc/j8L1KFyP0j/D9Shcj8LVP6RwPQrXo9A/cT0K16NwzT/D9Shcj8LVP3E9CtejcM0/KVyPwvUo5D9xPQrXo3DNP/YoXI/C9eA/16NwPQrX0z8pXI/C9SjMPylcj8L1KNw/mpmZmZmZ2T8K16NwPQrXP1K4HoXrUdg/UrgehetRyD+kcD0K16PQP8P1KFyPwsU/H4XrUbge1T9SuB6F61HIPz0K16NwPeI/SOF6FK5H4T+4HoXrUbjOP8P1KFyPwtU/mpmZmZmZ2T+amZmZmZm5P5qZmZmZmeE/exSuR+F61D9mZmZmZmbWP4XrUbgehds/AAAAAAAA0D9xPQrXo3DdP+xRuB6F69E/7FG4HoXrwT8pXI/C9SjcP3sUrkfhesQ/SOF6FK5H0T+amZmZmZnZP7gehetRuL4/exSuR+F6xD8K16NwPQrHP1K4HoXrUcg/FK5H4XoU3j+kcD0K16PAP5qZmZmZmeE/MzMzMzMz0z8pXI/C9SjcP5qZmZmZmdk/FK5H4XoU7j8pXI/C9SjMP65H4XoUrtc/UrgehetRyD+4HoXrUbjOP3sUrkfhetQ/16NwPQrX0z+4HoXrUbi+P+xRuB6F69E/9ihcj8L12D8zMzMzMzPTP1K4HoXrUcg/pHA9Ctej0D/2KFyPwvXYP65H4XoUrtc/CtejcD0K1z8AAAAAAADgPwrXo3A9Csc/uB6F61G4vj8pXI/C9Si8PwrXo3A9Csc/H4XrUbge1T8AAAAAAADQP+xRuB6F69E/w/UoXI/C1T8AAAAAAADQP7gehetRuN4/hetRuB6F2z9I4XoUrkfRP9ejcD0K19M/uB6F61G43j9I4XoUrkfRP2ZmZmZmZtY/CtejcD0Kxz89CtejcD3aP6RwPQrXo9A/cT0K16NwzT97FK5H4XrEP1K4HoXrUcg/MzMzMzMzwz8UrkfhehTeP3E9CtejcOU/16NwPQrX0z9mZmZmZmbWP/YoXI/C9dg/zczMzMzM3D8AAAAAAADQP1K4HoXrUdg/9ihcj8L12D/hehSuR+HaP5qZmZmZmdk/UrgehetR4D+4HoXrUbjOP9ejcD0K1+M/7FG4HoXr0T9mZmZmZmbWP8P1KFyPwtU/cT0K16Nw3T9xPQrXo3DNP83MzMzMzNw/7FG4HoXr0T+4HoXrUbi+PzMzMzMzM8M/mpmZmZmZyT/sUbgehevRP65H4XoUrtc/CtejcD0Kxz+F61G4HoXbP+F6FK5H4do/H4XrUbge1T/sUbgehevBP3E9CtejcM0/AAAAAAAA6D+PwvUoXI/SP5qZmZmZmeE/pHA9Ctej0D97FK5H4XrUP+xRuB6F6+E/w/UoXI/C1T8pXI/C9SjMP8P1KFyPwsU/KVyPwvUo3D8zMzMzMzPTP5qZmZmZmdk/ZmZmZmZm1j/Xo3A9CtfTP3sUrkfheuQ/MzMzMzMz0z+uR+F6FK7XP3sUrkfhetQ/pHA9Ctej0D8K16NwPQrHP4XrUbgehds/pHA9Ctej0D8zMzMzMzPjPx+F61G4HuU/16NwPQrX0z8pXI/C9SjkPzMzMzMzM8M/16NwPQrX0z/Xo3A9CtfTP1K4HoXrUcg/MzMzMzMzwz8pXI/C9SjMP65H4XoUrtc/mpmZmZmZyT+PwvUoXI/SP+xRuB6F69E/16NwPQrX0z8AAAAAAADgP+xRuB6F68E/CtejcD0Kxz9SuB6F61HIP65H4XoUrtc/KVyPwvUozD+amZmZmZnJP7gehetRuM4/pHA9CtejwD9xPQrXo3DdP83MzMzMzNw/mpmZmZmZuT8pXI/C9SjkP8P1KFyPwsU/pHA9Ctej0D97FK5H4XrEP6RwPQrXo9A/9ihcj8L14D8fhetRuB7VP65H4XoUrtc/KVyPwvUozD/sUbgehevRP8P1KFyPwsU/",
          "dtype": "f8"
         },
         "xaxis": "x",
         "y": {
          "bdata": "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",
          "dtype": "f8"
         },
         "yaxis": "y"
        }
       ],
       "layout": {
        "coloraxis": {
         "colorbar": {
          "title": {
           "text": "non_pen_goals/shot"
          }
         },
         "colorscale": [
          [
           0,
           "rgb(165,0,38)"
          ],
          [
           0.1,
           "rgb(215,48,39)"
          ],
          [
           0.2,
           "rgb(244,109,67)"
          ],
          [
           0.3,
           "rgb(253,174,97)"
          ],
          [
           0.4,
           "rgb(254,224,139)"
          ],
          [
           0.5,
           "rgb(255,255,191)"
          ],
          [
           0.6,
           "rgb(217,239,139)"
          ],
          [
           0.7,
           "rgb(166,217,106)"
          ],
          [
           0.8,
           "rgb(102,189,99)"
          ],
          [
           0.9,
           "rgb(26,152,80)"
          ],
          [
           1,
           "rgb(0,104,55)"
          ]
         ],
         "showscale": false
        },
        "height": 700,
        "legend": {
         "tracegroupgap": 0
        },
        "paper_bgcolor": "darkgray",
        "plot_bgcolor": "darkgray",
        "template": {
         "data": {
          "bar": [
           {
            "error_x": {
             "color": "#2a3f5f"
            },
            "error_y": {
             "color": "#2a3f5f"
            },
            "marker": {
             "line": {
              "color": "#E5ECF6",
              "width": 0.5
             },
             "pattern": {
              "fillmode": "overlay",
              "size": 10,
              "solidity": 0.2
             }
            },
            "type": "bar"
           }
          ],
          "barpolar": [
           {
            "marker": {
             "line": {
              "color": "#E5ECF6",
              "width": 0.5
             },
             "pattern": {
              "fillmode": "overlay",
              "size": 10,
              "solidity": 0.2
             }
            },
            "type": "barpolar"
           }
          ],
          "carpet": [
           {
            "aaxis": {
             "endlinecolor": "#2a3f5f",
             "gridcolor": "white",
             "linecolor": "white",
             "minorgridcolor": "white",
             "startlinecolor": "#2a3f5f"
            },
            "baxis": {
             "endlinecolor": "#2a3f5f",
             "gridcolor": "white",
             "linecolor": "white",
             "minorgridcolor": "white",
             "startlinecolor": "#2a3f5f"
            },
            "type": "carpet"
           }
          ],
          "choropleth": [
           {
            "colorbar": {
             "outlinewidth": 0,
             "ticks": ""
            },
            "type": "choropleth"
           }
          ],
          "contour": [
           {
            "colorbar": {
             "outlinewidth": 0,
             "ticks": ""
            },
            "colorscale": [
             [
              0,
              "#0d0887"
             ],
             [
              0.1111111111111111,
              "#46039f"
             ],
             [
              0.2222222222222222,
              "#7201a8"
             ],
             [
              0.3333333333333333,
              "#9c179e"
             ],
             [
              0.4444444444444444,
              "#bd3786"
             ],
             [
              0.5555555555555556,
              "#d8576b"
             ],
             [
              0.6666666666666666,
              "#ed7953"
             ],
             [
              0.7777777777777778,
              "#fb9f3a"
             ],
             [
              0.8888888888888888,
              "#fdca26"
             ],
             [
              1,
              "#f0f921"
             ]
            ],
            "type": "contour"
           }
          ],
          "contourcarpet": [
           {
            "colorbar": {
             "outlinewidth": 0,
             "ticks": ""
            },
            "type": "contourcarpet"
           }
          ],
          "heatmap": [
           {
            "colorbar": {
             "outlinewidth": 0,
             "ticks": ""
            },
            "colorscale": [
             [
              0,
              "#0d0887"
             ],
             [
              0.1111111111111111,
              "#46039f"
             ],
             [
              0.2222222222222222,
              "#7201a8"
             ],
             [
              0.3333333333333333,
              "#9c179e"
             ],
             [
              0.4444444444444444,
              "#bd3786"
             ],
             [
              0.5555555555555556,
              "#d8576b"
             ],
             [
              0.6666666666666666,
              "#ed7953"
             ],
             [
              0.7777777777777778,
              "#fb9f3a"
             ],
             [
              0.8888888888888888,
              "#fdca26"
             ],
             [
              1,
              "#f0f921"
             ]
            ],
            "type": "heatmap"
           }
          ],
          "histogram": [
           {
            "marker": {
             "pattern": {
              "fillmode": "overlay",
              "size": 10,
              "solidity": 0.2
             }
            },
            "type": "histogram"
           }
          ],
          "histogram2d": [
           {
            "colorbar": {
             "outlinewidth": 0,
             "ticks": ""
            },
            "colorscale": [
             [
              0,
              "#0d0887"
             ],
             [
              0.1111111111111111,
              "#46039f"
             ],
             [
              0.2222222222222222,
              "#7201a8"
             ],
             [
              0.3333333333333333,
              "#9c179e"
             ],
             [
              0.4444444444444444,
              "#bd3786"
             ],
             [
              0.5555555555555556,
              "#d8576b"
             ],
             [
              0.6666666666666666,
              "#ed7953"
             ],
             [
              0.7777777777777778,
              "#fb9f3a"
             ],
             [
              0.8888888888888888,
              "#fdca26"
             ],
             [
              1,
              "#f0f921"
             ]
            ],
            "type": "histogram2d"
           }
          ],
          "histogram2dcontour": [
           {
            "colorbar": {
             "outlinewidth": 0,
             "ticks": ""
            },
            "colorscale": [
             [
              0,
              "#0d0887"
             ],
             [
              0.1111111111111111,
              "#46039f"
             ],
             [
              0.2222222222222222,
              "#7201a8"
             ],
             [
              0.3333333333333333,
              "#9c179e"
             ],
             [
              0.4444444444444444,
              "#bd3786"
             ],
             [
              0.5555555555555556,
              "#d8576b"
             ],
             [
              0.6666666666666666,
              "#ed7953"
             ],
             [
              0.7777777777777778,
              "#fb9f3a"
             ],
             [
              0.8888888888888888,
              "#fdca26"
             ],
             [
              1,
              "#f0f921"
             ]
            ],
            "type": "histogram2dcontour"
           }
          ],
          "mesh3d": [
           {
            "colorbar": {
             "outlinewidth": 0,
             "ticks": ""
            },
            "type": "mesh3d"
           }
          ],
          "parcoords": [
           {
            "line": {
             "colorbar": {
              "outlinewidth": 0,
              "ticks": ""
             }
            },
            "type": "parcoords"
           }
          ],
          "pie": [
           {
            "automargin": true,
            "type": "pie"
           }
          ],
          "scatter": [
           {
            "fillpattern": {
             "fillmode": "overlay",
             "size": 10,
             "solidity": 0.2
            },
            "type": "scatter"
           }
          ],
          "scatter3d": [
           {
            "line": {
             "colorbar": {
              "outlinewidth": 0,
              "ticks": ""
             }
            },
            "marker": {
             "colorbar": {
              "outlinewidth": 0,
              "ticks": ""
             }
            },
            "type": "scatter3d"
           }
          ],
          "scattercarpet": [
           {
            "marker": {
             "colorbar": {
              "outlinewidth": 0,
              "ticks": ""
             }
            },
            "type": "scattercarpet"
           }
          ],
          "scattergeo": [
           {
            "marker": {
             "colorbar": {
              "outlinewidth": 0,
              "ticks": ""
             }
            },
            "type": "scattergeo"
           }
          ],
          "scattergl": [
           {
            "marker": {
             "colorbar": {
              "outlinewidth": 0,
              "ticks": ""
             }
            },
            "type": "scattergl"
           }
          ],
          "scattermap": [
           {
            "marker": {
             "colorbar": {
              "outlinewidth": 0,
              "ticks": ""
             }
            },
            "type": "scattermap"
           }
          ],
          "scattermapbox": [
           {
            "marker": {
             "colorbar": {
              "outlinewidth": 0,
              "ticks": ""
             }
            },
            "type": "scattermapbox"
           }
          ],
          "scatterpolar": [
           {
            "marker": {
             "colorbar": {
              "outlinewidth": 0,
              "ticks": ""
             }
            },
            "type": "scatterpolar"
           }
          ],
          "scatterpolargl": [
           {
            "marker": {
             "colorbar": {
              "outlinewidth": 0,
              "ticks": ""
             }
            },
            "type": "scatterpolargl"
           }
          ],
          "scatterternary": [
           {
            "marker": {
             "colorbar": {
              "outlinewidth": 0,
              "ticks": ""
             }
            },
            "type": "scatterternary"
           }
          ],
          "surface": [
           {
            "colorbar": {
             "outlinewidth": 0,
             "ticks": ""
            },
            "colorscale": [
             [
              0,
              "#0d0887"
             ],
             [
              0.1111111111111111,
              "#46039f"
             ],
             [
              0.2222222222222222,
              "#7201a8"
             ],
             [
              0.3333333333333333,
              "#9c179e"
             ],
             [
              0.4444444444444444,
              "#bd3786"
             ],
             [
              0.5555555555555556,
              "#d8576b"
             ],
             [
              0.6666666666666666,
              "#ed7953"
             ],
             [
              0.7777777777777778,
              "#fb9f3a"
             ],
             [
              0.8888888888888888,
              "#fdca26"
             ],
             [
              1,
              "#f0f921"
             ]
            ],
            "type": "surface"
           }
          ],
          "table": [
           {
            "cells": {
             "fill": {
              "color": "#EBF0F8"
             },
             "line": {
              "color": "white"
             }
            },
            "header": {
             "fill": {
              "color": "#C8D4E3"
             },
             "line": {
              "color": "white"
             }
            },
            "type": "table"
           }
          ]
         },
         "layout": {
          "annotationdefaults": {
           "arrowcolor": "#2a3f5f",
           "arrowhead": 0,
           "arrowwidth": 1
          },
          "autotypenumbers": "strict",
          "coloraxis": {
           "colorbar": {
            "outlinewidth": 0,
            "ticks": ""
           }
          },
          "colorscale": {
           "diverging": [
            [
             0,
             "#8e0152"
            ],
            [
             0.1,
             "#c51b7d"
            ],
            [
             0.2,
             "#de77ae"
            ],
            [
             0.3,
             "#f1b6da"
            ],
            [
             0.4,
             "#fde0ef"
            ],
            [
             0.5,
             "#f7f7f7"
            ],
            [
             0.6,
             "#e6f5d0"
            ],
            [
             0.7,
             "#b8e186"
            ],
            [
             0.8,
             "#7fbc41"
            ],
            [
             0.9,
             "#4d9221"
            ],
            [
             1,
             "#276419"
            ]
           ],
           "sequential": [
            [
             0,
             "#0d0887"
            ],
            [
             0.1111111111111111,
             "#46039f"
            ],
            [
             0.2222222222222222,
             "#7201a8"
            ],
            [
             0.3333333333333333,
             "#9c179e"
            ],
            [
             0.4444444444444444,
             "#bd3786"
            ],
            [
             0.5555555555555556,
             "#d8576b"
            ],
            [
             0.6666666666666666,
             "#ed7953"
            ],
            [
             0.7777777777777778,
             "#fb9f3a"
            ],
            [
             0.8888888888888888,
             "#fdca26"
            ],
            [
             1,
             "#f0f921"
            ]
           ],
           "sequentialminus": [
            [
             0,
             "#0d0887"
            ],
            [
             0.1111111111111111,
             "#46039f"
            ],
            [
             0.2222222222222222,
             "#7201a8"
            ],
            [
             0.3333333333333333,
             "#9c179e"
            ],
            [
             0.4444444444444444,
             "#bd3786"
            ],
            [
             0.5555555555555556,
             "#d8576b"
            ],
            [
             0.6666666666666666,
             "#ed7953"
            ],
            [
             0.7777777777777778,
             "#fb9f3a"
            ],
            [
             0.8888888888888888,
             "#fdca26"
            ],
            [
             1,
             "#f0f921"
            ]
           ]
          },
          "colorway": [
           "#636efa",
           "#EF553B",
           "#00cc96",
           "#ab63fa",
           "#FFA15A",
           "#19d3f3",
           "#FF6692",
           "#B6E880",
           "#FF97FF",
           "#FECB52"
          ],
          "font": {
           "color": "#2a3f5f"
          },
          "geo": {
           "bgcolor": "white",
           "lakecolor": "white",
           "landcolor": "#E5ECF6",
           "showlakes": true,
           "showland": true,
           "subunitcolor": "white"
          },
          "hoverlabel": {
           "align": "left"
          },
          "hovermode": "closest",
          "mapbox": {
           "style": "light"
          },
          "paper_bgcolor": "white",
          "plot_bgcolor": "#E5ECF6",
          "polar": {
           "angularaxis": {
            "gridcolor": "white",
            "linecolor": "white",
            "ticks": ""
           },
           "bgcolor": "#E5ECF6",
           "radialaxis": {
            "gridcolor": "white",
            "linecolor": "white",
            "ticks": ""
           }
          },
          "scene": {
           "xaxis": {
            "backgroundcolor": "#E5ECF6",
            "gridcolor": "white",
            "gridwidth": 2,
            "linecolor": "white",
            "showbackground": true,
            "ticks": "",
            "zerolinecolor": "white"
           },
           "yaxis": {
            "backgroundcolor": "#E5ECF6",
            "gridcolor": "white",
            "gridwidth": 2,
            "linecolor": "white",
            "showbackground": true,
            "ticks": "",
            "zerolinecolor": "white"
           },
           "zaxis": {
            "backgroundcolor": "#E5ECF6",
            "gridcolor": "white",
            "gridwidth": 2,
            "linecolor": "white",
            "showbackground": true,
            "ticks": "",
            "zerolinecolor": "white"
           }
          },
          "shapedefaults": {
           "line": {
            "color": "#2a3f5f"
           }
          },
          "ternary": {
           "aaxis": {
            "gridcolor": "white",
            "linecolor": "white",
            "ticks": ""
           },
           "baxis": {
            "gridcolor": "white",
            "linecolor": "white",
            "ticks": ""
           },
           "bgcolor": "#E5ECF6",
           "caxis": {
            "gridcolor": "white",
            "linecolor": "white",
            "ticks": ""
           }
          },
          "title": {
           "x": 0.05
          },
          "xaxis": {
           "automargin": true,
           "gridcolor": "white",
           "linecolor": "white",
           "ticks": "",
           "title": {
            "standoff": 15
           },
           "zerolinecolor": "white",
           "zerolinewidth": 2
          },
          "yaxis": {
           "automargin": true,
           "gridcolor": "white",
           "linecolor": "white",
           "ticks": "",
           "title": {
            "standoff": 15
           },
           "zerolinecolor": "white",
           "zerolinewidth": 2
          }
         }
        },
        "title": {
         "text": "Chance conversion ( 243)",
         "x": 0.5,
         "xanchor": "center"
        },
        "width": 1200,
        "xaxis": {
         "anchor": "y",
         "domain": [
          0,
          1
         ],
         "gridcolor": "white",
         "showgrid": true,
         "title": {
          "text": "non_pen_xg/90"
         },
         "zeroline": false
        },
        "yaxis": {
         "anchor": "x",
         "domain": [
          0,
          1
         ],
         "gridcolor": "white",
         "showgrid": true,
         "title": {
          "text": "non_pen_goals/90"
         },
         "zeroline": false
        }
       }
      }
     },
     "metadata": {},
     "output_type": "display_data"
    }
   ],
   "source": [
    "# Create new metric \n",
    "df_players['non_pen_goals/non_pen_xg/90'] = df_players['non_pen_goals/90'] / df_players['non_pen_xg/90'] \n",
    "\n",
    "# Filter data \n",
    "mask = (\n",
    "        (df_players['non_pen_xg/90'] >= 0.1) & \\\n",
    "        (df_players['non_pen_goals/90'] >= 0.1) & \\\n",
    "        (df_players['non_pen_goals/shot'] >= 0.04) & \\\n",
    "        (df_players['non_pen_goals/non_pen_xg/90'] >= 0.75) & \\\n",
    "        (df_players['age'] <= 26) & \\\n",
    "        (df_players['id'].isin(targets))\n",
    "        \n",
    "        \n",
    ")\n",
    "\n",
    "df_targets = df_players[mask]\n",
    "\n",
    "scatter_plot(df_targets,\n",
    "             x_metric='non_pen_xg/90', \n",
    "             y_metric='non_pen_goals/90',\n",
    "             z_metric='non_pen_goals/shot',\n",
    "             title='Chance conversion', \n",
    "             show_name_label=False\n",
    ")\n",
    "\n",
    "# Keep only players that fulfill criteria\n",
    "#targets = list(df_targets['id'])"
   ]
  },
  {
   "cell_type": "code",
   "execution_count": 35,
   "id": "582b2f09",
   "metadata": {},
   "outputs": [
    {
     "data": {
      "text/html": [
       "<div>\n",
       "<style scoped>\n",
       "    .dataframe tbody tr th:only-of-type {\n",
       "        vertical-align: middle;\n",
       "    }\n",
       "\n",
       "    .dataframe tbody tr th {\n",
       "        vertical-align: top;\n",
       "    }\n",
       "\n",
       "    .dataframe thead th {\n",
       "        text-align: right;\n",
       "    }\n",
       "</style>\n",
       "<table border=\"1\" class=\"dataframe\">\n",
       "  <thead>\n",
       "    <tr style=\"text-align: right;\">\n",
       "      <th></th>\n",
       "      <th>id</th>\n",
       "      <th>name</th>\n",
       "      <th>position</th>\n",
       "      <th>age</th>\n",
       "      <th>height</th>\n",
       "      <th>weight</th>\n",
       "      <th>inf</th>\n",
       "      <th>club</th>\n",
       "      <th>division</th>\n",
       "      <th>nationality</th>\n",
       "      <th>home_grown</th>\n",
       "      <th>personality</th>\n",
       "      <th>media_handling</th>\n",
       "      <th>wage</th>\n",
       "      <th>transfer_value</th>\n",
       "      <th>asking_price</th>\n",
       "      <th>preferred_foot</th>\n",
       "      <th>starts</th>\n",
       "      <th>minutes_played</th>\n",
       "      <th>average_rating</th>\n",
       "      <th>sub_appearances</th>\n",
       "      <th>minutes/game</th>\n",
       "      <th>index</th>\n",
       "      <th>goals/90</th>\n",
       "      <th>minutes/goal</th>\n",
       "      <th>xg/90</th>\n",
       "      <th>xg/shot</th>\n",
       "      <th>xg_overperformance/90</th>\n",
       "      <th>non_pen_goals/90</th>\n",
       "      <th>non_pen_goals/shot</th>\n",
       "      <th>minutes/non_pen_goal</th>\n",
       "      <th>non_pen_xg/90</th>\n",
       "      <th>non_pen_goals___non_pens_xg_/90</th>\n",
       "      <th>non_pen_xg/shot</th>\n",
       "      <th>non_pen_xg_overperformance/90</th>\n",
       "      <th>goals_outside_box/90</th>\n",
       "      <th>assists/90</th>\n",
       "      <th>minutes/assist</th>\n",
       "      <th>xa/90</th>\n",
       "      <th>xa_overperformance</th>\n",
       "      <th>xa_overperformance/90</th>\n",
       "      <th>assists/clear_cut_chances_created</th>\n",
       "      <th>goal_contributions/90</th>\n",
       "      <th>xgc/90</th>\n",
       "      <th>xgc_overperformance/90</th>\n",
       "      <th>non_pen_goal_contributions/90</th>\n",
       "      <th>non_pen_xgc/90</th>\n",
       "      <th>non_pen_xgc_overperformance/90</th>\n",
       "      <th>conversion_%</th>\n",
       "      <th>shots/90</th>\n",
       "      <th>shots_on_target/90</th>\n",
       "      <th>shots_on_target_%</th>\n",
       "      <th>shots_outside_box/90</th>\n",
       "      <th>passes_attempted/90</th>\n",
       "      <th>passes_completed/90</th>\n",
       "      <th>pass_completion_%</th>\n",
       "      <th>progressive_passes/90</th>\n",
       "      <th>progressive_pass_rate</th>\n",
       "      <th>key_passes/90</th>\n",
       "      <th>key_pass_%</th>\n",
       "      <th>open_play_key_passes/90</th>\n",
       "      <th>open_play_key_pass_%</th>\n",
       "      <th>chances_created/90</th>\n",
       "      <th>clear_cut_chances_created/90</th>\n",
       "      <th>pressures_attempted/90</th>\n",
       "      <th>pressures_completed/90</th>\n",
       "      <th>pressure_success_%</th>\n",
       "      <th>possession_won/90</th>\n",
       "      <th>possession_lost/90</th>\n",
       "      <th>poss+_/90</th>\n",
       "      <th>poss+__%</th>\n",
       "      <th>dribbles/90</th>\n",
       "      <th>headers_attempted/90</th>\n",
       "      <th>headers_won/90</th>\n",
       "      <th>headers_won_%</th>\n",
       "      <th>headers_lost/90</th>\n",
       "      <th>headers_lost_%</th>\n",
       "      <th>key_headers/90</th>\n",
       "      <th>aerial_challenges_attempted/90</th>\n",
       "      <th>duels_win_%</th>\n",
       "      <th>player_of_the_match</th>\n",
       "      <th>mistakes_leading_to_goal</th>\n",
       "      <th>sprints/90</th>\n",
       "      <th>attacking_actions/90</th>\n",
       "      <th>creative_actions/90</th>\n",
       "      <th>defensive_actions/90</th>\n",
       "      <th>goalkeeping_actions/90</th>\n",
       "      <th>excitement_factor/90</th>\n",
       "      <th>general_performance</th>\n",
       "      <th>goalkeeping</th>\n",
       "      <th>defensive_defender</th>\n",
       "      <th>creative_defender</th>\n",
       "      <th>attacking_defender</th>\n",
       "      <th>creative_midfielder</th>\n",
       "      <th>attacking_midfielder</th>\n",
       "      <th>creative_winger</th>\n",
       "      <th>attacking_winger</th>\n",
       "      <th>creative_forward</th>\n",
       "      <th>attacking_forward</th>\n",
       "      <th>finisher</th>\n",
       "      <th>aerial_threat</th>\n",
       "      <th>reader</th>\n",
       "      <th>assister</th>\n",
       "      <th>price_estimate_M</th>\n",
       "      <th>non_pen_goals/non_pen_xg/90</th>\n",
       "    </tr>\n",
       "  </thead>\n",
       "  <tbody>\n",
       "    <tr>\n",
       "      <th>0</th>\n",
       "      <td>168222</td>\n",
       "      <td>Mats Seuntjens</td>\n",
       "      <td>M (LC), AM (RLC), ST (C)</td>\n",
       "      <td>31</td>\n",
       "      <td>187 cm</td>\n",
       "      <td>78 kg</td>\n",
       "      <td>Unh</td>\n",
       "      <td>RKC Waalwijk</td>\n",
       "      <td>Eredivisie</td>\n",
       "      <td>NED</td>\n",
       "      <td>-</td>\n",
       "      <td>-</td>\n",
       "      <td>Scouting Required</td>\n",
       "      <td>$3,200 p/w</td>\n",
       "      <td>$160K - $1.6M</td>\n",
       "      <td>-</td>\n",
       "      <td>Right</td>\n",
       "      <td>15</td>\n",
       "      <td>1305</td>\n",
       "      <td>6.60</td>\n",
       "      <td>0</td>\n",
       "      <td>87.00</td>\n",
       "      <td>0</td>\n",
       "      <td>0.07</td>\n",
       "      <td>1305.0</td>\n",
       "      <td>0.07</td>\n",
       "      <td>0.06</td>\n",
       "      <td>0.0</td>\n",
       "      <td>0.07</td>\n",
       "      <td>0.07</td>\n",
       "      <td>1305.0</td>\n",
       "      <td>0.07</td>\n",
       "      <td>0.0</td>\n",
       "      <td>0.06</td>\n",
       "      <td>0.0</td>\n",
       "      <td>0.0</td>\n",
       "      <td>0.14</td>\n",
       "      <td>652.5</td>\n",
       "      <td>0.08</td>\n",
       "      <td>0.79</td>\n",
       "      <td>0.05</td>\n",
       "      <td>0.0</td>\n",
       "      <td>0.21</td>\n",
       "      <td>0.15</td>\n",
       "      <td>0.06</td>\n",
       "      <td>0.21</td>\n",
       "      <td>0.15</td>\n",
       "      <td>0.06</td>\n",
       "      <td>7</td>\n",
       "      <td>1.03</td>\n",
       "      <td>0.48</td>\n",
       "      <td>47</td>\n",
       "      <td>0.48</td>\n",
       "      <td>31.45</td>\n",
       "      <td>25.45</td>\n",
       "      <td>81</td>\n",
       "      <td>1.03</td>\n",
       "      <td>3.29</td>\n",
       "      <td>0.90</td>\n",
       "      <td>2.85</td>\n",
       "      <td>0.62</td>\n",
       "      <td>1.97</td>\n",
       "      <td>0.07</td>\n",
       "      <td>0.07</td>\n",
       "      <td>9.38</td>\n",
       "      <td>1.59</td>\n",
       "      <td>16.91</td>\n",
       "      <td>5.38</td>\n",
       "      <td>11.52</td>\n",
       "      <td>-6.14</td>\n",
       "      <td>-53.30</td>\n",
       "      <td>2.00</td>\n",
       "      <td>8.69</td>\n",
       "      <td>4.0</td>\n",
       "      <td>46.03</td>\n",
       "      <td>4.69</td>\n",
       "      <td>53.97</td>\n",
       "      <td>0.00</td>\n",
       "      <td>8.69</td>\n",
       "      <td>52.2</td>\n",
       "      <td>0</td>\n",
       "      <td>0</td>\n",
       "      <td>12.07</td>\n",
       "      <td>2.52</td>\n",
       "      <td>1.03</td>\n",
       "      <td>8.99</td>\n",
       "      <td>0</td>\n",
       "      <td>4.55</td>\n",
       "      <td>18</td>\n",
       "      <td>100</td>\n",
       "      <td>65</td>\n",
       "      <td>57</td>\n",
       "      <td>51</td>\n",
       "      <td>7</td>\n",
       "      <td>5</td>\n",
       "      <td>20</td>\n",
       "      <td>25</td>\n",
       "      <td>16</td>\n",
       "      <td>13</td>\n",
       "      <td>6</td>\n",
       "      <td>51</td>\n",
       "      <td>59</td>\n",
       "      <td>54</td>\n",
       "      <td>1.056</td>\n",
       "      <td>1.000000</td>\n",
       "    </tr>\n",
       "    <tr>\n",
       "      <th>1</th>\n",
       "      <td>211522</td>\n",
       "      <td>Chris Bedia</td>\n",
       "      <td>ST (C)</td>\n",
       "      <td>27</td>\n",
       "      <td>190 cm</td>\n",
       "      <td>85 kg</td>\n",
       "      <td>-</td>\n",
       "      <td>Union Berlin</td>\n",
       "      <td>Bundesliga</td>\n",
       "      <td>CIV (FRA)</td>\n",
       "      <td>-</td>\n",
       "      <td>-</td>\n",
       "      <td>Scouting Required</td>\n",
       "      <td>$24,500 p/w</td>\n",
       "      <td>$450K - $4.4M</td>\n",
       "      <td>-</td>\n",
       "      <td>Left</td>\n",
       "      <td>11</td>\n",
       "      <td>1095</td>\n",
       "      <td>6.73</td>\n",
       "      <td>7</td>\n",
       "      <td>60.83</td>\n",
       "      <td>1</td>\n",
       "      <td>0.16</td>\n",
       "      <td>547.5</td>\n",
       "      <td>0.26</td>\n",
       "      <td>0.14</td>\n",
       "      <td>-0.1</td>\n",
       "      <td>0.16</td>\n",
       "      <td>0.09</td>\n",
       "      <td>547.5</td>\n",
       "      <td>0.26</td>\n",
       "      <td>-0.1</td>\n",
       "      <td>0.14</td>\n",
       "      <td>-0.1</td>\n",
       "      <td>0.0</td>\n",
       "      <td>0.08</td>\n",
       "      <td>1095.0</td>\n",
       "      <td>0.04</td>\n",
       "      <td>0.51</td>\n",
       "      <td>0.04</td>\n",
       "      <td>0.0</td>\n",
       "      <td>0.25</td>\n",
       "      <td>0.30</td>\n",
       "      <td>-0.06</td>\n",
       "      <td>0.25</td>\n",
       "      <td>0.30</td>\n",
       "      <td>-0.06</td>\n",
       "      <td>9</td>\n",
       "      <td>1.89</td>\n",
       "      <td>0.66</td>\n",
       "      <td>35</td>\n",
       "      <td>0.33</td>\n",
       "      <td>24.49</td>\n",
       "      <td>20.14</td>\n",
       "      <td>82</td>\n",
       "      <td>0.49</td>\n",
       "      <td>2.01</td>\n",
       "      <td>0.49</td>\n",
       "      <td>2.01</td>\n",
       "      <td>0.41</td>\n",
       "      <td>1.68</td>\n",
       "      <td>0.50</td>\n",
       "      <td>0.08</td>\n",
       "      <td>7.23</td>\n",
       "      <td>1.15</td>\n",
       "      <td>15.91</td>\n",
       "      <td>5.42</td>\n",
       "      <td>8.96</td>\n",
       "      <td>-3.54</td>\n",
       "      <td>-39.51</td>\n",
       "      <td>1.32</td>\n",
       "      <td>12.49</td>\n",
       "      <td>6.0</td>\n",
       "      <td>48.03</td>\n",
       "      <td>6.49</td>\n",
       "      <td>51.97</td>\n",
       "      <td>0.08</td>\n",
       "      <td>12.49</td>\n",
       "      <td>50.0</td>\n",
       "      <td>0</td>\n",
       "      <td>0</td>\n",
       "      <td>7.32</td>\n",
       "      <td>2.04</td>\n",
       "      <td>0.58</td>\n",
       "      <td>10.08</td>\n",
       "      <td>0</td>\n",
       "      <td>3.86</td>\n",
       "      <td>4</td>\n",
       "      <td>100</td>\n",
       "      <td>48</td>\n",
       "      <td>11</td>\n",
       "      <td>9</td>\n",
       "      <td>2</td>\n",
       "      <td>1</td>\n",
       "      <td>2</td>\n",
       "      <td>3</td>\n",
       "      <td>6</td>\n",
       "      <td>2</td>\n",
       "      <td>14</td>\n",
       "      <td>82</td>\n",
       "      <td>77</td>\n",
       "      <td>29</td>\n",
       "      <td>2.910</td>\n",
       "      <td>0.615385</td>\n",
       "    </tr>\n",
       "  </tbody>\n",
       "</table>\n",
       "</div>"
      ],
      "text/plain": [
       "       id            name                  position  age  height weight  inf  \\\n",
       "0  168222  Mats Seuntjens  M (LC), AM (RLC), ST (C)   31  187 cm  78 kg  Unh   \n",
       "1  211522     Chris Bedia                    ST (C)   27  190 cm  85 kg    -   \n",
       "\n",
       "           club    division nationality home_grown personality  \\\n",
       "0  RKC Waalwijk  Eredivisie         NED          -           -   \n",
       "1  Union Berlin  Bundesliga   CIV (FRA)          -           -   \n",
       "\n",
       "      media_handling         wage transfer_value asking_price preferred_foot  \\\n",
       "0  Scouting Required   $3,200 p/w  $160K - $1.6M            -          Right   \n",
       "1  Scouting Required  $24,500 p/w  $450K - $4.4M            -           Left   \n",
       "\n",
       "   starts  minutes_played  average_rating  sub_appearances  minutes/game  \\\n",
       "0      15            1305            6.60                0         87.00   \n",
       "1      11            1095            6.73                7         60.83   \n",
       "\n",
       "   index  goals/90  minutes/goal  xg/90  xg/shot  xg_overperformance/90  \\\n",
       "0      0      0.07        1305.0   0.07     0.06                    0.0   \n",
       "1      1      0.16         547.5   0.26     0.14                   -0.1   \n",
       "\n",
       "   non_pen_goals/90  non_pen_goals/shot  minutes/non_pen_goal  non_pen_xg/90  \\\n",
       "0              0.07                0.07                1305.0           0.07   \n",
       "1              0.16                0.09                 547.5           0.26   \n",
       "\n",
       "   non_pen_goals___non_pens_xg_/90  non_pen_xg/shot  \\\n",
       "0                              0.0             0.06   \n",
       "1                             -0.1             0.14   \n",
       "\n",
       "   non_pen_xg_overperformance/90  goals_outside_box/90  assists/90  \\\n",
       "0                            0.0                   0.0        0.14   \n",
       "1                           -0.1                   0.0        0.08   \n",
       "\n",
       "   minutes/assist  xa/90  xa_overperformance  xa_overperformance/90  \\\n",
       "0           652.5   0.08                0.79                   0.05   \n",
       "1          1095.0   0.04                0.51                   0.04   \n",
       "\n",
       "   assists/clear_cut_chances_created  goal_contributions/90  xgc/90  \\\n",
       "0                                0.0                   0.21    0.15   \n",
       "1                                0.0                   0.25    0.30   \n",
       "\n",
       "   xgc_overperformance/90  non_pen_goal_contributions/90  non_pen_xgc/90  \\\n",
       "0                    0.06                           0.21            0.15   \n",
       "1                   -0.06                           0.25            0.30   \n",
       "\n",
       "   non_pen_xgc_overperformance/90  conversion_%  shots/90  shots_on_target/90  \\\n",
       "0                            0.06             7      1.03                0.48   \n",
       "1                           -0.06             9      1.89                0.66   \n",
       "\n",
       "   shots_on_target_%  shots_outside_box/90  passes_attempted/90  \\\n",
       "0                 47                  0.48                31.45   \n",
       "1                 35                  0.33                24.49   \n",
       "\n",
       "   passes_completed/90  pass_completion_%  progressive_passes/90  \\\n",
       "0                25.45                 81                   1.03   \n",
       "1                20.14                 82                   0.49   \n",
       "\n",
       "   progressive_pass_rate  key_passes/90  key_pass_%  open_play_key_passes/90  \\\n",
       "0                   3.29           0.90        2.85                     0.62   \n",
       "1                   2.01           0.49        2.01                     0.41   \n",
       "\n",
       "   open_play_key_pass_%  chances_created/90  clear_cut_chances_created/90  \\\n",
       "0                  1.97                0.07                          0.07   \n",
       "1                  1.68                0.50                          0.08   \n",
       "\n",
       "   pressures_attempted/90  pressures_completed/90  pressure_success_%  \\\n",
       "0                    9.38                    1.59               16.91   \n",
       "1                    7.23                    1.15               15.91   \n",
       "\n",
       "   possession_won/90  possession_lost/90  poss+_/90  poss+__%  dribbles/90  \\\n",
       "0               5.38               11.52      -6.14    -53.30         2.00   \n",
       "1               5.42                8.96      -3.54    -39.51         1.32   \n",
       "\n",
       "   headers_attempted/90  headers_won/90  headers_won_%  headers_lost/90  \\\n",
       "0                  8.69             4.0          46.03             4.69   \n",
       "1                 12.49             6.0          48.03             6.49   \n",
       "\n",
       "   headers_lost_%  key_headers/90  aerial_challenges_attempted/90  \\\n",
       "0           53.97            0.00                            8.69   \n",
       "1           51.97            0.08                           12.49   \n",
       "\n",
       "   duels_win_%  player_of_the_match  mistakes_leading_to_goal  sprints/90  \\\n",
       "0         52.2                    0                         0       12.07   \n",
       "1         50.0                    0                         0        7.32   \n",
       "\n",
       "   attacking_actions/90  creative_actions/90  defensive_actions/90  \\\n",
       "0                  2.52                 1.03                  8.99   \n",
       "1                  2.04                 0.58                 10.08   \n",
       "\n",
       "   goalkeeping_actions/90  excitement_factor/90  general_performance  \\\n",
       "0                       0                  4.55                   18   \n",
       "1                       0                  3.86                    4   \n",
       "\n",
       "   goalkeeping  defensive_defender  creative_defender  attacking_defender  \\\n",
       "0          100                  65                 57                  51   \n",
       "1          100                  48                 11                   9   \n",
       "\n",
       "   creative_midfielder  attacking_midfielder  creative_winger  \\\n",
       "0                    7                     5               20   \n",
       "1                    2                     1                2   \n",
       "\n",
       "   attacking_winger  creative_forward  attacking_forward  finisher  \\\n",
       "0                25                16                 13         6   \n",
       "1                 3                 6                  2        14   \n",
       "\n",
       "   aerial_threat  reader  assister  price_estimate_M  \\\n",
       "0             51      59        54             1.056   \n",
       "1             82      77        29             2.910   \n",
       "\n",
       "   non_pen_goals/non_pen_xg/90  \n",
       "0                     1.000000  \n",
       "1                     0.615385  "
      ]
     },
     "execution_count": 35,
     "metadata": {},
     "output_type": "execute_result"
    }
   ],
   "source": [
    "df_players.head(2)"
   ]
  },
  {
   "cell_type": "markdown",
   "id": "db5f786f",
   "metadata": {},
   "source": [
    "## Goal efficiency"
   ]
  },
  {
   "cell_type": "code",
   "execution_count": 36,
   "id": "c382547d",
   "metadata": {},
   "outputs": [
    {
     "data": {
      "application/vnd.plotly.v1+json": {
       "config": {
        "plotlyServerURL": "https://plot.ly"
       },
       "data": [
        {
         "customdata": [
          [
           "Datro Fofana",
           "Burnley"
          ],
          [
           "Bamba Dieng",
           "Lorient"
          ],
          [
           "Vakoun Issouf Bayo",
           "Watford"
          ],
          [
           "Victor Osimhen",
           "Napoli"
          ],
          [
           "Stephen Odey",
           "Randers FC"
          ],
          [
           "Mostafa Mohamed",
           "Nantes"
          ],
          [
           "Franco Troyansky",
           "Gimnasia (LP)"
          ],
          [
           "Tomás Conechny",
           "Godoy Cruz"
          ],
          [
           "Lautaro Martínez",
           "Inter"
          ],
          [
           "Nahuel Barrios",
           "San Lorenzo"
          ],
          [
           "Jonatan Torres",
           "Lanús"
          ],
          [
           "Nahuel Bustos",
           "Talleres"
          ],
          [
           "Maximiliano Salas",
           "Racing Club"
          ],
          [
           "Santiago Rodríguez",
           "Instituto"
          ],
          [
           "Lucas Brochero",
           "Barracas Central"
          ],
          [
           "Mauro Luna Diale",
           "Unión (SF)"
          ],
          [
           "Tomás Sandoval",
           "Colón"
          ],
          [
           "Ezequiel Cañete",
           "Banfield"
          ],
          [
           "Facundo Colidio",
           "River"
          ],
          [
           "Julián Álvarez",
           "Man City"
          ],
          [
           "Federico Girotti",
           "Talleres"
          ],
          [
           "Agustín Obando",
           "Platense"
          ],
          [
           "Justo Giani",
           "Atl. Tucumán"
          ],
          [
           "Pablo Solari",
           "River"
          ],
          [
           "Matías Godoy",
           "Central Córdoba (SdE)"
          ],
          [
           "Matías Polvera",
           "Huracán"
          ],
          [
           "Diego Azcurra",
           "Sarmiento (Junín)"
          ],
          [
           "Jeremías Perales",
           "Banfield"
          ],
          [
           "Rodrigo Castillo",
           "Gimnasia (LP)"
          ],
          [
           "Juan Cruz Esquivel",
           "Tigre"
          ],
          [
           "Flabián Londoño",
           "Tigre"
          ],
          [
           "Hernán López Muñoz",
           "Godoy Cruz"
          ],
          [
           "Gonzalo Flores",
           "Tigre"
          ],
          [
           "Tomás Ortíz",
           "Arsenal (Sarandí)"
          ],
          [
           "Thiago Nuss",
           "Central Córdoba (SdE)"
          ],
          [
           "Jeremías Gallard",
           "Talleres"
          ],
          [
           "Ivo Mammini",
           "Gimnasia (LP)"
          ],
          [
           "Luciano Gondou",
           "Argentinos Jrs."
          ],
          [
           "Axel Ovejero",
           "Banfield"
          ],
          [
           "Luciano Pereyra",
           "Colón"
          ],
          [
           "Ignacio Russo",
           "Instituto"
          ],
          [
           "Juan Román Pucheta",
           "Argentinos Jrs."
          ],
          [
           "Matías Giménez Rojas",
           "Independiente"
          ],
          [
           "Alan Cantero",
           "GOI"
          ],
          [
           "Ezequiel Naya",
           "Estudiantes (LP)"
          ],
          [
           "Santiago Solari",
           "Racing Club"
          ],
          [
           "Karim Adeyemi",
           "Borussia Dortmund"
          ],
          [
           "Othmane Boussaid",
           "FC Utrecht"
          ],
          [
           "Loïs Openda",
           "RB Leipzig"
          ],
          [
           "Bryan Limbombe",
           "Heracles Almelo"
          ],
          [
           "Jonathan David",
           "Lille"
          ],
          [
           "Matheus Aiás",
           "Moreirense"
          ],
          [
           "Gabriel Jesus",
           "Arsenal"
          ],
          [
           "Gustavo Silva",
           "COR"
          ],
          [
           "Pedro",
           "FLA"
          ],
          [
           "Éverton Galdino",
           "GRE"
          ],
          [
           "André Silva",
           "Vit. Guimarães"
          ],
          [
           "Arthur Cabral",
           "SL Benfica"
          ],
          [
           "Paulinho",
           "ATM"
          ],
          [
           "Rodrygo",
           "Real Madrid"
          ],
          [
           "Fabrício Daniel",
           "CTB"
          ],
          [
           "Yuri Alberto",
           "COR"
          ],
          [
           "Vitinho",
           "RB Bragantino"
          ],
          [
           "David da Hora",
           "FOR"
          ],
          [
           "Marrony",
           "FC Midtjylland"
          ],
          [
           "Bruno Marques",
           "SAN"
          ],
          [
           "Calebe",
           "FOR"
          ],
          [
           "Lázaro",
           "SEP"
          ],
          [
           "Luiz Henrique",
           "BOT"
          ],
          [
           "Marcos Leonardo",
           "SL Benfica"
          ],
          [
           "Igor Paixão",
           "Feyenoord"
          ],
          [
           "John Kennedy",
           "FLU"
          ],
          [
           "Matheus Nascimento",
           "BOT"
          ],
          [
           "Patati",
           "SAN"
          ],
          [
           "Matheus Babi",
           "Athlético Paranaense"
          ],
          [
           "Clayton",
           "Casa Pia"
          ],
          [
           "Haji Wright",
           "Coventry"
          ],
          [
           "Ondřej Lingr",
           "Feyenoord"
          ],
          [
           "Rezan Çorlu",
           "Lyngby"
          ],
          [
           "Jens Odgaard",
           "Bologna"
          ],
          [
           "Mikkel Damsgaard",
           "Brentford"
          ],
          [
           "Nikolai Frederiksen",
           "Lyngby"
          ],
          [
           "Søren Tengstedt",
           "Go Ahead Eagles"
          ],
          [
           "Mileta Rajović",
           "Watford"
          ],
          [
           "Aral Şimşir",
           "FC Midtjylland"
          ],
          [
           "Lirim Qamili",
           "Hvidovre IF"
          ],
          [
           "Max Fenger",
           "OB"
          ],
          [
           "Alexander Lind",
           "Silkeborg IF"
          ],
          [
           "Don Deedson",
           "OB"
          ],
          [
           "Anosike Ementa",
           "Viborg FF"
          ],
          [
           "Adam Armstrong",
           "Southampton"
          ],
          [
           "Marcus Rashford",
           "Man Utd"
          ],
          [
           "Iké Ugbo",
           "Sheffield Wednesday"
          ],
          [
           "Josh Maja",
           "West Brom"
          ],
          [
           "Marcus Forss",
           "Middlesbrough"
          ],
          [
           "Bobby Adekanye",
           "Go Ahead Eagles"
          ],
          [
           "Phil Foden",
           "Man City"
          ],
          [
           "Tyrese Campbell",
           "Stoke"
          ],
          [
           "Dwight McNeil",
           "Everton"
          ],
          [
           "Anthony Gordon",
           "Newcastle"
          ],
          [
           "Ellis Simms",
           "Coventry"
          ],
          [
           "Largie Ramazani",
           "Almería"
          ],
          [
           "Mason Greenwood",
           "Getafe"
          ],
          [
           "Sam Greenwood",
           "Middlesbrough"
          ],
          [
           "Troy Parrott",
           "Excelsior"
          ],
          [
           "Liam Delap",
           "Hull"
          ],
          [
           "Conor Chaplin",
           "Ipswich"
          ],
          [
           "Dominic Calvert-Lewin",
           "Everton"
          ],
          [
           "Dominic Solanke",
           "Bournemouth"
          ],
          [
           "Ademola Lookman",
           "Atalanta"
          ],
          [
           "Jacob Brown",
           "Luton"
          ],
          [
           "Erling Haaland",
           "Man City"
          ],
          [
           "Morgan Whittaker",
           "Plymouth"
          ],
          [
           "Cameron Archer",
           "Sheff Utd"
          ],
          [
           "Fredrik Jensen",
           "Augsburg"
          ],
          [
           "Steven Bergwijn",
           "Ajax"
          ],
          [
           "Albert Guðmundsson",
           "Genoa"
          ],
          [
           "Gianluca Scamacca",
           "Atalanta"
          ],
          [
           "Zian Flemming",
           "Millwall"
          ],
          [
           "Kaj Sierhuis",
           "Fortuna Sittard"
          ],
          [
           "Sam Lammers",
           "FC Utrecht"
          ],
          [
           "Guus Til",
           "PSV"
          ],
          [
           "Delano Burgzorg",
           "Huddersfield"
          ],
          [
           "Joshua Zirkzee",
           "Bologna"
          ],
          [
           "Myron Boadu",
           "FC Twente"
          ],
          [
           "Zakaria Aboukhlal",
           "Toulouse"
          ],
          [
           "Brian Brobbey",
           "Ajax"
          ],
          [
           "Sydney van Hooijdonk",
           "Norwich"
          ],
          [
           "Ole Romeny",
           "FC Utrecht"
          ],
          [
           "Ibrahim Cissoko",
           "Toulouse"
          ],
          [
           "Yorbe Vertessen",
           "Union Berlin"
          ],
          [
           "Naci Ünüvar",
           "FC Twente"
          ],
          [
           "Fodé Fofana",
           "Vitesse"
          ],
          [
           "Emanuel Emegha",
           "Strasbourg"
          ],
          [
           "Federico Chiesa",
           "Juventus"
          ],
          [
           "Christian Kouamé",
           "Fiorentina"
          ],
          [
           "Emmanuel Latte Lath",
           "Middlesbrough"
          ],
          [
           "Andrea Pinamonti",
           "Sassuolo"
          ],
          [
           "Nicolò Zaniolo",
           "Aston Villa"
          ],
          [
           "Nicolò Cambiaghi",
           "Empoli"
          ],
          [
           "Samuele Mulattieri",
           "Sunderland"
          ],
          [
           "Lorenzo Lucca",
           "Udinese"
          ],
          [
           "Lorenzo Colombo",
           "Monza"
          ],
          [
           "Keito Nakamura",
           "Stade Reims"
          ],
          [
           "Odsonne Edouard",
           "Crystal Palace"
          ],
          [
           "Marcus Thuram",
           "Inter"
          ],
          [
           "Yann Kitala",
           "Almere City"
          ],
          [
           "Martin Terrier",
           "Rennes"
          ],
          [
           "Bryan Mbeumo",
           "Brentford"
          ],
          [
           "Ismaïla Sarr",
           "Marseille"
          ],
          [
           "Frank Magri",
           "Toulouse"
          ],
          [
           "Randal Kolo Muani",
           "PSG"
          ],
          [
           "Amine Gouiri",
           "Rennes"
          ],
          [
           "Georges Mikautadze",
           "Metz"
          ],
          [
           "Georginio Rutter",
           "Leeds"
          ],
          [
           "Hugo Ekitiké",
           "Eintracht Frankfurt"
          ],
          [
           "Santiago Giménez",
           "Feyenoord"
          ],
          [
           "Chiedozie Ogbene",
           "Luton"
          ],
          [
           "Jørgen Strand Larsen",
           "Celta"
          ],
          [
           "Victor Boniface",
           "Bayer 04"
          ],
          [
           "Ronaldo Tavares",
           "CF Estrela Amadora"
          ],
          [
           "Ion Nicolăescu",
           "sc Heerenveen"
          ],
          [
           "Khvicha Kvaratskhelia",
           "Napoli"
          ],
          [
           "Issah Abass",
           "Desp. Chaves"
          ],
          [
           "Benjamin Šeško",
           "RB Leipzig"
          ],
          [
           "Róbert Boženík",
           "Boavista"
          ],
          [
           "Samson Akinyoola",
           "Montpellier"
          ],
          [
           "Cho Gue-Sung",
           "FC Midtjylland"
          ],
          [
           "Toni Martínez",
           "FC Porto"
          ],
          [
           "Youssef En-Nesyri",
           "Sevilla"
          ],
          [
           "Abel Ruiz",
           "Sp. Braga"
          ],
          [
           "Chris Ramos",
           "Cádiz"
          ],
          [
           "Álex Baena",
           "Villarreal"
          ],
          [
           "Pablo Gozálbez",
           "Valencia"
          ],
          [
           "Isaac Romero",
           "Sevilla"
          ],
          [
           "Óscar Estupiñán",
           "BAH"
          ],
          [
           "Luis Suárez",
           "Almería"
          ],
          [
           "Edwuin Cetré",
           "Estudiantes (LP)"
          ],
          [
           "Darwin Núñez",
           "Liverpool"
          ],
          [
           "Salomón Rodríguez",
           "Godoy Cruz"
          ],
          [
           "Thiago Borbas",
           "RB Bragantino"
          ],
          [
           "Rodrigo Bogarín",
           "Defensa y Justicia"
          ],
          [
           "Blas Armoa",
           "Tigre"
          ],
          [
           "Isidro Pitta",
           "CUI"
          ],
          [
           "Marcelo Pérez",
           "Huracán"
          ],
          [
           "Rafael Leão",
           "Milan"
          ],
          [
           "João Félix",
           "Barcelona"
          ],
          [
           "Aziz Yakubu",
           "Rio Ave"
          ],
          [
           "Henrique Araújo",
           "Famalicão"
          ],
          [
           "Malik Abubakari",
           "Viborg FF"
          ],
          [
           "Julian von Moos",
           "Plymouth"
          ],
          [
           "Zeki Amdouni",
           "Burnley"
          ],
          [
           "Kylian Mbappé",
           "PSG"
          ],
          [
           "Kai Havertz",
           "Arsenal"
          ],
          [
           "Vangelis Pavlidis",
           "AZ"
          ],
          [
           "Malik Tillman",
           "PSV"
          ],
          [
           "Braydon Manu",
           "Darmstadt 98"
          ],
          [
           "Jordan Larsson",
           "FC København"
          ],
          [
           "Joel Asoro",
           "Metz"
          ],
          [
           "Viktor Gyökeres",
           "Sporting CP"
          ],
          [
           "Alexander Isak",
           "Newcastle"
          ],
          [
           "Jesper Karlsson",
           "Bologna"
          ],
          [
           "Benjamin Nygren",
           "FC Nordsjælland"
          ],
          [
           "Rafa Mujica",
           "Arouca"
          ],
          [
           "Karol Świderski",
           "Hellas Verona"
          ],
          [
           "Ernest Poku",
           "AZ"
          ],
          [
           "Franculino Djú",
           "FC Midtjylland"
          ],
          [
           "Figueiredo",
           "CTB"
          ],
          [
           "José Manuel López",
           "SEP"
          ],
          [
           "Lucas Besozzi",
           "GRE"
          ],
          [
           "Gonzalo Morales",
           "Unión (SF)"
          ],
          [
           "Victor Hugo",
           "FLA"
          ],
          [
           "Ez Abde",
           "Real Betis"
          ],
          [
           "Ângelo",
           "Strasbourg"
          ],
          [
           "Jeremías Pérez Tica",
           "Newell's"
          ],
          [
           "Facundo Echevarría",
           "Defensa y Justicia"
          ],
          [
           "Paulo Victor",
           "Desp. Chaves"
          ],
          [
           "Lucca Holanda",
           "INT"
          ],
          [
           "Roony Bardghji",
           "FC København"
          ],
          [
           "Santiago Fernández",
           "Banfield"
          ],
          [
           "Vivaldo Semedo",
           "FC Volendam"
          ],
          [
           "Antoine Joujou",
           "Havre AC"
          ],
          [
           "Renato Marques",
           "AMG"
          ],
          [
           "Jason van Duiven",
           "Almere City"
          ],
          [
           "Erick Marcus",
           "Vasco da Gama"
          ],
          [
           "Pedrinho",
           "COR"
          ],
          [
           "Giovane",
           "COR"
          ],
          [
           "Aidomo Emakhu",
           "Millwall"
          ],
          [
           "Santiago Hidalgo",
           "Independiente"
          ],
          [
           "Jerónimo Domina",
           "Unión (SF)"
          ],
          [
           "Franco Rami",
           "Belgrano"
          ],
          [
           "Jobe Bellingham",
           "Sunderland"
          ],
          [
           "Samu Omorodion",
           "Alavés"
          ],
          [
           "Rodrigo Cezar",
           "SAN"
          ],
          [
           "Endrick",
           "SEP"
          ],
          [
           "Pedrinho",
           "GOI"
          ],
          [
           "Ricardo Mathias",
           "INT"
          ],
          [
           "Mauro Paparello",
           "Huracán"
          ],
          [
           "João Paulo",
           "GOI"
          ],
          [
           "Ibrahim Osman",
           "FC Nordsjælland"
          ],
          [
           "Robert",
           "CEC"
          ],
          [
           "Tiago Benzi",
           "Belgrano"
          ],
          [
           "Jean Gabriel",
           "CTB"
          ]
         ],
         "hovertemplate": "<b>%{customdata[0]}</b><br><b>%{customdata[1]}</b><br><br>shots/90: %{x}<br>conversion_%: %{y}<br>non_pen_xg_overperformance/90: %{marker.color}<extra></extra>",
         "legendgroup": "",
         "marker": {
          "color": {
           "bdata": "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",
           "dtype": "f8"
          },
          "coloraxis": "coloraxis",
          "size": 10,
          "symbol": "circle"
         },
         "mode": "markers",
         "name": "",
         "orientation": "v",
         "showlegend": false,
         "textfont": {
          "size": 10
         },
         "textposition": "top center",
         "type": "scatter",
         "x": {
          "bdata": "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",
          "dtype": "f8"
         },
         "xaxis": "x",
         "y": {
          "bdata": "DA0ODy4QEBAZDRQOEBIOFAgLHhQVChIMDAwNDhUMDhAPDhANEBIKDQkJDBMQDRERFRwPGREKFQgOGBMXChkPEwoTChUPHRYZDAoQDxMVGBAUExQpDxgTFAsdGA4eEhQNCxMNGhIRHgcaGhESEhYaGAwQFQwhFwcXJBcTHRoVEBMXDwsJJBgWDhsmHA4MEQ4YIxUZChMPGxQXHRcXEBsiFwwtHxoPEhoSFw8cFgsODxMXERYLFQ0PFBYhFhYVIBMZIRcaDx0fFSsXDhEYIR0gDw4HDQ4PCxAZGREUGRoTEyQODRMpBhQNFRIMEBoWCgwWERAV",
          "dtype": "i1"
         },
         "yaxis": "y"
        }
       ],
       "layout": {
        "coloraxis": {
         "colorbar": {
          "title": {
           "text": "non_pen_xg_overperformance/90"
          }
         },
         "colorscale": [
          [
           0,
           "rgb(165,0,38)"
          ],
          [
           0.1,
           "rgb(215,48,39)"
          ],
          [
           0.2,
           "rgb(244,109,67)"
          ],
          [
           0.3,
           "rgb(253,174,97)"
          ],
          [
           0.4,
           "rgb(254,224,139)"
          ],
          [
           0.5,
           "rgb(255,255,191)"
          ],
          [
           0.6,
           "rgb(217,239,139)"
          ],
          [
           0.7,
           "rgb(166,217,106)"
          ],
          [
           0.8,
           "rgb(102,189,99)"
          ],
          [
           0.9,
           "rgb(26,152,80)"
          ],
          [
           1,
           "rgb(0,104,55)"
          ]
         ],
         "showscale": false
        },
        "height": 700,
        "legend": {
         "tracegroupgap": 0
        },
        "paper_bgcolor": "darkgray",
        "plot_bgcolor": "darkgray",
        "template": {
         "data": {
          "bar": [
           {
            "error_x": {
             "color": "#2a3f5f"
            },
            "error_y": {
             "color": "#2a3f5f"
            },
            "marker": {
             "line": {
              "color": "#E5ECF6",
              "width": 0.5
             },
             "pattern": {
              "fillmode": "overlay",
              "size": 10,
              "solidity": 0.2
             }
            },
            "type": "bar"
           }
          ],
          "barpolar": [
           {
            "marker": {
             "line": {
              "color": "#E5ECF6",
              "width": 0.5
             },
             "pattern": {
              "fillmode": "overlay",
              "size": 10,
              "solidity": 0.2
             }
            },
            "type": "barpolar"
           }
          ],
          "carpet": [
           {
            "aaxis": {
             "endlinecolor": "#2a3f5f",
             "gridcolor": "white",
             "linecolor": "white",
             "minorgridcolor": "white",
             "startlinecolor": "#2a3f5f"
            },
            "baxis": {
             "endlinecolor": "#2a3f5f",
             "gridcolor": "white",
             "linecolor": "white",
             "minorgridcolor": "white",
             "startlinecolor": "#2a3f5f"
            },
            "type": "carpet"
           }
          ],
          "choropleth": [
           {
            "colorbar": {
             "outlinewidth": 0,
             "ticks": ""
            },
            "type": "choropleth"
           }
          ],
          "contour": [
           {
            "colorbar": {
             "outlinewidth": 0,
             "ticks": ""
            },
            "colorscale": [
             [
              0,
              "#0d0887"
             ],
             [
              0.1111111111111111,
              "#46039f"
             ],
             [
              0.2222222222222222,
              "#7201a8"
             ],
             [
              0.3333333333333333,
              "#9c179e"
             ],
             [
              0.4444444444444444,
              "#bd3786"
             ],
             [
              0.5555555555555556,
              "#d8576b"
             ],
             [
              0.6666666666666666,
              "#ed7953"
             ],
             [
              0.7777777777777778,
              "#fb9f3a"
             ],
             [
              0.8888888888888888,
              "#fdca26"
             ],
             [
              1,
              "#f0f921"
             ]
            ],
            "type": "contour"
           }
          ],
          "contourcarpet": [
           {
            "colorbar": {
             "outlinewidth": 0,
             "ticks": ""
            },
            "type": "contourcarpet"
           }
          ],
          "heatmap": [
           {
            "colorbar": {
             "outlinewidth": 0,
             "ticks": ""
            },
            "colorscale": [
             [
              0,
              "#0d0887"
             ],
             [
              0.1111111111111111,
              "#46039f"
             ],
             [
              0.2222222222222222,
              "#7201a8"
             ],
             [
              0.3333333333333333,
              "#9c179e"
             ],
             [
              0.4444444444444444,
              "#bd3786"
             ],
             [
              0.5555555555555556,
              "#d8576b"
             ],
             [
              0.6666666666666666,
              "#ed7953"
             ],
             [
              0.7777777777777778,
              "#fb9f3a"
             ],
             [
              0.8888888888888888,
              "#fdca26"
             ],
             [
              1,
              "#f0f921"
             ]
            ],
            "type": "heatmap"
           }
          ],
          "histogram": [
           {
            "marker": {
             "pattern": {
              "fillmode": "overlay",
              "size": 10,
              "solidity": 0.2
             }
            },
            "type": "histogram"
           }
          ],
          "histogram2d": [
           {
            "colorbar": {
             "outlinewidth": 0,
             "ticks": ""
            },
            "colorscale": [
             [
              0,
              "#0d0887"
             ],
             [
              0.1111111111111111,
              "#46039f"
             ],
             [
              0.2222222222222222,
              "#7201a8"
             ],
             [
              0.3333333333333333,
              "#9c179e"
             ],
             [
              0.4444444444444444,
              "#bd3786"
             ],
             [
              0.5555555555555556,
              "#d8576b"
             ],
             [
              0.6666666666666666,
              "#ed7953"
             ],
             [
              0.7777777777777778,
              "#fb9f3a"
             ],
             [
              0.8888888888888888,
              "#fdca26"
             ],
             [
              1,
              "#f0f921"
             ]
            ],
            "type": "histogram2d"
           }
          ],
          "histogram2dcontour": [
           {
            "colorbar": {
             "outlinewidth": 0,
             "ticks": ""
            },
            "colorscale": [
             [
              0,
              "#0d0887"
             ],
             [
              0.1111111111111111,
              "#46039f"
             ],
             [
              0.2222222222222222,
              "#7201a8"
             ],
             [
              0.3333333333333333,
              "#9c179e"
             ],
             [
              0.4444444444444444,
              "#bd3786"
             ],
             [
              0.5555555555555556,
              "#d8576b"
             ],
             [
              0.6666666666666666,
              "#ed7953"
             ],
             [
              0.7777777777777778,
              "#fb9f3a"
             ],
             [
              0.8888888888888888,
              "#fdca26"
             ],
             [
              1,
              "#f0f921"
             ]
            ],
            "type": "histogram2dcontour"
           }
          ],
          "mesh3d": [
           {
            "colorbar": {
             "outlinewidth": 0,
             "ticks": ""
            },
            "type": "mesh3d"
           }
          ],
          "parcoords": [
           {
            "line": {
             "colorbar": {
              "outlinewidth": 0,
              "ticks": ""
             }
            },
            "type": "parcoords"
           }
          ],
          "pie": [
           {
            "automargin": true,
            "type": "pie"
           }
          ],
          "scatter": [
           {
            "fillpattern": {
             "fillmode": "overlay",
             "size": 10,
             "solidity": 0.2
            },
            "type": "scatter"
           }
          ],
          "scatter3d": [
           {
            "line": {
             "colorbar": {
              "outlinewidth": 0,
              "ticks": ""
             }
            },
            "marker": {
             "colorbar": {
              "outlinewidth": 0,
              "ticks": ""
             }
            },
            "type": "scatter3d"
           }
          ],
          "scattercarpet": [
           {
            "marker": {
             "colorbar": {
              "outlinewidth": 0,
              "ticks": ""
             }
            },
            "type": "scattercarpet"
           }
          ],
          "scattergeo": [
           {
            "marker": {
             "colorbar": {
              "outlinewidth": 0,
              "ticks": ""
             }
            },
            "type": "scattergeo"
           }
          ],
          "scattergl": [
           {
            "marker": {
             "colorbar": {
              "outlinewidth": 0,
              "ticks": ""
             }
            },
            "type": "scattergl"
           }
          ],
          "scattermap": [
           {
            "marker": {
             "colorbar": {
              "outlinewidth": 0,
              "ticks": ""
             }
            },
            "type": "scattermap"
           }
          ],
          "scattermapbox": [
           {
            "marker": {
             "colorbar": {
              "outlinewidth": 0,
              "ticks": ""
             }
            },
            "type": "scattermapbox"
           }
          ],
          "scatterpolar": [
           {
            "marker": {
             "colorbar": {
              "outlinewidth": 0,
              "ticks": ""
             }
            },
            "type": "scatterpolar"
           }
          ],
          "scatterpolargl": [
           {
            "marker": {
             "colorbar": {
              "outlinewidth": 0,
              "ticks": ""
             }
            },
            "type": "scatterpolargl"
           }
          ],
          "scatterternary": [
           {
            "marker": {
             "colorbar": {
              "outlinewidth": 0,
              "ticks": ""
             }
            },
            "type": "scatterternary"
           }
          ],
          "surface": [
           {
            "colorbar": {
             "outlinewidth": 0,
             "ticks": ""
            },
            "colorscale": [
             [
              0,
              "#0d0887"
             ],
             [
              0.1111111111111111,
              "#46039f"
             ],
             [
              0.2222222222222222,
              "#7201a8"
             ],
             [
              0.3333333333333333,
              "#9c179e"
             ],
             [
              0.4444444444444444,
              "#bd3786"
             ],
             [
              0.5555555555555556,
              "#d8576b"
             ],
             [
              0.6666666666666666,
              "#ed7953"
             ],
             [
              0.7777777777777778,
              "#fb9f3a"
             ],
             [
              0.8888888888888888,
              "#fdca26"
             ],
             [
              1,
              "#f0f921"
             ]
            ],
            "type": "surface"
           }
          ],
          "table": [
           {
            "cells": {
             "fill": {
              "color": "#EBF0F8"
             },
             "line": {
              "color": "white"
             }
            },
            "header": {
             "fill": {
              "color": "#C8D4E3"
             },
             "line": {
              "color": "white"
             }
            },
            "type": "table"
           }
          ]
         },
         "layout": {
          "annotationdefaults": {
           "arrowcolor": "#2a3f5f",
           "arrowhead": 0,
           "arrowwidth": 1
          },
          "autotypenumbers": "strict",
          "coloraxis": {
           "colorbar": {
            "outlinewidth": 0,
            "ticks": ""
           }
          },
          "colorscale": {
           "diverging": [
            [
             0,
             "#8e0152"
            ],
            [
             0.1,
             "#c51b7d"
            ],
            [
             0.2,
             "#de77ae"
            ],
            [
             0.3,
             "#f1b6da"
            ],
            [
             0.4,
             "#fde0ef"
            ],
            [
             0.5,
             "#f7f7f7"
            ],
            [
             0.6,
             "#e6f5d0"
            ],
            [
             0.7,
             "#b8e186"
            ],
            [
             0.8,
             "#7fbc41"
            ],
            [
             0.9,
             "#4d9221"
            ],
            [
             1,
             "#276419"
            ]
           ],
           "sequential": [
            [
             0,
             "#0d0887"
            ],
            [
             0.1111111111111111,
             "#46039f"
            ],
            [
             0.2222222222222222,
             "#7201a8"
            ],
            [
             0.3333333333333333,
             "#9c179e"
            ],
            [
             0.4444444444444444,
             "#bd3786"
            ],
            [
             0.5555555555555556,
             "#d8576b"
            ],
            [
             0.6666666666666666,
             "#ed7953"
            ],
            [
             0.7777777777777778,
             "#fb9f3a"
            ],
            [
             0.8888888888888888,
             "#fdca26"
            ],
            [
             1,
             "#f0f921"
            ]
           ],
           "sequentialminus": [
            [
             0,
             "#0d0887"
            ],
            [
             0.1111111111111111,
             "#46039f"
            ],
            [
             0.2222222222222222,
             "#7201a8"
            ],
            [
             0.3333333333333333,
             "#9c179e"
            ],
            [
             0.4444444444444444,
             "#bd3786"
            ],
            [
             0.5555555555555556,
             "#d8576b"
            ],
            [
             0.6666666666666666,
             "#ed7953"
            ],
            [
             0.7777777777777778,
             "#fb9f3a"
            ],
            [
             0.8888888888888888,
             "#fdca26"
            ],
            [
             1,
             "#f0f921"
            ]
           ]
          },
          "colorway": [
           "#636efa",
           "#EF553B",
           "#00cc96",
           "#ab63fa",
           "#FFA15A",
           "#19d3f3",
           "#FF6692",
           "#B6E880",
           "#FF97FF",
           "#FECB52"
          ],
          "font": {
           "color": "#2a3f5f"
          },
          "geo": {
           "bgcolor": "white",
           "lakecolor": "white",
           "landcolor": "#E5ECF6",
           "showlakes": true,
           "showland": true,
           "subunitcolor": "white"
          },
          "hoverlabel": {
           "align": "left"
          },
          "hovermode": "closest",
          "mapbox": {
           "style": "light"
          },
          "paper_bgcolor": "white",
          "plot_bgcolor": "#E5ECF6",
          "polar": {
           "angularaxis": {
            "gridcolor": "white",
            "linecolor": "white",
            "ticks": ""
           },
           "bgcolor": "#E5ECF6",
           "radialaxis": {
            "gridcolor": "white",
            "linecolor": "white",
            "ticks": ""
           }
          },
          "scene": {
           "xaxis": {
            "backgroundcolor": "#E5ECF6",
            "gridcolor": "white",
            "gridwidth": 2,
            "linecolor": "white",
            "showbackground": true,
            "ticks": "",
            "zerolinecolor": "white"
           },
           "yaxis": {
            "backgroundcolor": "#E5ECF6",
            "gridcolor": "white",
            "gridwidth": 2,
            "linecolor": "white",
            "showbackground": true,
            "ticks": "",
            "zerolinecolor": "white"
           },
           "zaxis": {
            "backgroundcolor": "#E5ECF6",
            "gridcolor": "white",
            "gridwidth": 2,
            "linecolor": "white",
            "showbackground": true,
            "ticks": "",
            "zerolinecolor": "white"
           }
          },
          "shapedefaults": {
           "line": {
            "color": "#2a3f5f"
           }
          },
          "ternary": {
           "aaxis": {
            "gridcolor": "white",
            "linecolor": "white",
            "ticks": ""
           },
           "baxis": {
            "gridcolor": "white",
            "linecolor": "white",
            "ticks": ""
           },
           "bgcolor": "#E5ECF6",
           "caxis": {
            "gridcolor": "white",
            "linecolor": "white",
            "ticks": ""
           }
          },
          "title": {
           "x": 0.05
          },
          "xaxis": {
           "automargin": true,
           "gridcolor": "white",
           "linecolor": "white",
           "ticks": "",
           "title": {
            "standoff": 15
           },
           "zerolinecolor": "white",
           "zerolinewidth": 2
          },
          "yaxis": {
           "automargin": true,
           "gridcolor": "white",
           "linecolor": "white",
           "ticks": "",
           "title": {
            "standoff": 15
           },
           "zerolinecolor": "white",
           "zerolinewidth": 2
          }
         }
        },
        "title": {
         "text": "Efficiency ( 243)",
         "x": 0.5,
         "xanchor": "center"
        },
        "width": 1200,
        "xaxis": {
         "anchor": "y",
         "domain": [
          0,
          1
         ],
         "gridcolor": "white",
         "showgrid": true,
         "title": {
          "text": "shots/90"
         },
         "zeroline": false
        },
        "yaxis": {
         "anchor": "x",
         "domain": [
          0,
          1
         ],
         "gridcolor": "white",
         "showgrid": true,
         "title": {
          "text": "conversion_%"
         },
         "zeroline": false
        }
       }
      }
     },
     "metadata": {},
     "output_type": "display_data"
    }
   ],
   "source": [
    "# Full universe \n",
    "scatter_plot(df_targets,\n",
    "             x_metric='shots/90', \n",
    "             y_metric='conversion_%',\n",
    "             z_metric='non_pen_xg_overperformance/90',\n",
    "             title='Efficiency', \n",
    "             show_name_label=False\n",
    ")"
   ]
  },
  {
   "cell_type": "code",
   "execution_count": 37,
   "id": "4647b74a",
   "metadata": {},
   "outputs": [
    {
     "data": {
      "application/vnd.plotly.v1+json": {
       "config": {
        "plotlyServerURL": "https://plot.ly"
       },
       "data": [
        {
         "customdata": [
          [
           "Stephen Odey",
           "Randers FC"
          ],
          [
           "Mostafa Mohamed",
           "Nantes"
          ],
          [
           "Tomás Conechny",
           "Godoy Cruz"
          ],
          [
           "Lautaro Martínez",
           "Inter"
          ],
          [
           "Jonatan Torres",
           "Lanús"
          ],
          [
           "Nahuel Bustos",
           "Talleres"
          ],
          [
           "Maximiliano Salas",
           "Racing Club"
          ],
          [
           "Santiago Rodríguez",
           "Instituto"
          ],
          [
           "Jonás Acevedo",
           "Instituto"
          ],
          [
           "Lucas Brochero",
           "Barracas Central"
          ],
          [
           "Mauro Luna Diale",
           "Unión (SF)"
          ],
          [
           "Facundo Colidio",
           "River"
          ],
          [
           "Julián Álvarez",
           "Man City"
          ],
          [
           "Federico Girotti",
           "Talleres"
          ],
          [
           "Justo Giani",
           "Atl. Tucumán"
          ],
          [
           "Jeremías Perales",
           "Banfield"
          ],
          [
           "Rodrigo Castillo",
           "Gimnasia (LP)"
          ],
          [
           "Flabián Londoño",
           "Tigre"
          ],
          [
           "Gonzalo Flores",
           "Tigre"
          ],
          [
           "Thiago Nuss",
           "Central Córdoba (SdE)"
          ],
          [
           "Ivo Mammini",
           "Gimnasia (LP)"
          ],
          [
           "Alan Cantero",
           "GOI"
          ],
          [
           "Ezequiel Naya",
           "Estudiantes (LP)"
          ],
          [
           "Karim Adeyemi",
           "Borussia Dortmund"
          ],
          [
           "Othmane Boussaid",
           "FC Utrecht"
          ],
          [
           "Loïs Openda",
           "RB Leipzig"
          ],
          [
           "Bryan Limbombe",
           "Heracles Almelo"
          ],
          [
           "Pedro",
           "FLA"
          ],
          [
           "Arthur Cabral",
           "SL Benfica"
          ],
          [
           "Paulinho",
           "ATM"
          ],
          [
           "Rodrygo",
           "Real Madrid"
          ],
          [
           "Yuri Alberto",
           "COR"
          ],
          [
           "Vitinho",
           "RB Bragantino"
          ],
          [
           "David da Hora",
           "FOR"
          ],
          [
           "Bruno Marques",
           "SAN"
          ],
          [
           "Lázaro",
           "SEP"
          ],
          [
           "Marcos Leonardo",
           "SL Benfica"
          ],
          [
           "Igor Paixão",
           "Feyenoord"
          ],
          [
           "John Kennedy",
           "FLU"
          ],
          [
           "Matheus Babi",
           "Athlético Paranaense"
          ],
          [
           "Haji Wright",
           "Coventry"
          ],
          [
           "Ondřej Lingr",
           "Feyenoord"
          ],
          [
           "Rezan Çorlu",
           "Lyngby"
          ],
          [
           "Jens Odgaard",
           "Bologna"
          ],
          [
           "Mikkel Damsgaard",
           "Brentford"
          ],
          [
           "Søren Tengstedt",
           "Go Ahead Eagles"
          ],
          [
           "Mileta Rajović",
           "Watford"
          ],
          [
           "Aral Şimşir",
           "FC Midtjylland"
          ],
          [
           "Lirim Qamili",
           "Hvidovre IF"
          ],
          [
           "Alexander Lind",
           "Silkeborg IF"
          ],
          [
           "Anosike Ementa",
           "Viborg FF"
          ],
          [
           "Adam Armstrong",
           "Southampton"
          ],
          [
           "Marcus Rashford",
           "Man Utd"
          ],
          [
           "Iké Ugbo",
           "Sheffield Wednesday"
          ],
          [
           "Josh Maja",
           "West Brom"
          ],
          [
           "Tyrese Campbell",
           "Stoke"
          ],
          [
           "Anthony Gordon",
           "Newcastle"
          ],
          [
           "Ellis Simms",
           "Coventry"
          ],
          [
           "Mason Greenwood",
           "Getafe"
          ],
          [
           "Troy Parrott",
           "Excelsior"
          ],
          [
           "Liam Delap",
           "Hull"
          ],
          [
           "Conor Chaplin",
           "Ipswich"
          ],
          [
           "Dominic Calvert-Lewin",
           "Everton"
          ],
          [
           "Dominic Solanke",
           "Bournemouth"
          ],
          [
           "Ademola Lookman",
           "Atalanta"
          ],
          [
           "Jacob Brown",
           "Luton"
          ],
          [
           "Erling Haaland",
           "Man City"
          ],
          [
           "Fredrik Jensen",
           "Augsburg"
          ],
          [
           "Albert Guðmundsson",
           "Genoa"
          ],
          [
           "Gianluca Scamacca",
           "Atalanta"
          ],
          [
           "Kaj Sierhuis",
           "Fortuna Sittard"
          ],
          [
           "Sam Lammers",
           "FC Utrecht"
          ],
          [
           "Guus Til",
           "PSV"
          ],
          [
           "Delano Burgzorg",
           "Huddersfield"
          ],
          [
           "Joshua Zirkzee",
           "Bologna"
          ],
          [
           "Myron Boadu",
           "FC Twente"
          ],
          [
           "Zakaria Aboukhlal",
           "Toulouse"
          ],
          [
           "Brian Brobbey",
           "Ajax"
          ],
          [
           "Sydney van Hooijdonk",
           "Norwich"
          ],
          [
           "Ole Romeny",
           "FC Utrecht"
          ],
          [
           "Fodé Fofana",
           "Vitesse"
          ],
          [
           "Emanuel Emegha",
           "Strasbourg"
          ],
          [
           "Federico Chiesa",
           "Juventus"
          ],
          [
           "Emmanuel Latte Lath",
           "Middlesbrough"
          ],
          [
           "Andrea Pinamonti",
           "Sassuolo"
          ],
          [
           "Nicolò Zaniolo",
           "Aston Villa"
          ],
          [
           "Lorenzo Lucca",
           "Udinese"
          ],
          [
           "Lorenzo Colombo",
           "Monza"
          ],
          [
           "Keito Nakamura",
           "Stade Reims"
          ],
          [
           "Odsonne Edouard",
           "Crystal Palace"
          ],
          [
           "Marcus Thuram",
           "Inter"
          ],
          [
           "Yann Kitala",
           "Almere City"
          ],
          [
           "Ismaïla Sarr",
           "Marseille"
          ],
          [
           "Frank Magri",
           "Toulouse"
          ],
          [
           "Randal Kolo Muani",
           "PSG"
          ],
          [
           "Amine Gouiri",
           "Rennes"
          ],
          [
           "Georges Mikautadze",
           "Metz"
          ],
          [
           "Georginio Rutter",
           "Leeds"
          ],
          [
           "Hugo Ekitiké",
           "Eintracht Frankfurt"
          ],
          [
           "Chiedozie Ogbene",
           "Luton"
          ],
          [
           "Jørgen Strand Larsen",
           "Celta"
          ],
          [
           "Victor Boniface",
           "Bayer 04"
          ],
          [
           "Ion Nicolăescu",
           "sc Heerenveen"
          ],
          [
           "Khvicha Kvaratskhelia",
           "Napoli"
          ],
          [
           "Issah Abass",
           "Desp. Chaves"
          ],
          [
           "Róbert Boženík",
           "Boavista"
          ],
          [
           "Samson Akinyoola",
           "Montpellier"
          ],
          [
           "Cho Gue-Sung",
           "FC Midtjylland"
          ],
          [
           "Toni Martínez",
           "FC Porto"
          ],
          [
           "Youssef En-Nesyri",
           "Sevilla"
          ],
          [
           "Abel Ruiz",
           "Sp. Braga"
          ],
          [
           "Chris Ramos",
           "Cádiz"
          ],
          [
           "Isaac Romero",
           "Sevilla"
          ],
          [
           "Óscar Estupiñán",
           "BAH"
          ],
          [
           "Luis Suárez",
           "Almería"
          ],
          [
           "Edwuin Cetré",
           "Estudiantes (LP)"
          ],
          [
           "Darwin Núñez",
           "Liverpool"
          ],
          [
           "Thiago Borbas",
           "RB Bragantino"
          ],
          [
           "Blas Armoa",
           "Tigre"
          ],
          [
           "Isidro Pitta",
           "CUI"
          ],
          [
           "Marcelo Pérez",
           "Huracán"
          ],
          [
           "Rafael Leão",
           "Milan"
          ],
          [
           "João Félix",
           "Barcelona"
          ],
          [
           "Aziz Yakubu",
           "Rio Ave"
          ],
          [
           "Malik Abubakari",
           "Viborg FF"
          ],
          [
           "Kylian Mbappé",
           "PSG"
          ],
          [
           "Kai Havertz",
           "Arsenal"
          ],
          [
           "Vangelis Pavlidis",
           "AZ"
          ],
          [
           "Braydon Manu",
           "Darmstadt 98"
          ],
          [
           "Jordan Larsson",
           "FC København"
          ],
          [
           "Joel Asoro",
           "Metz"
          ],
          [
           "Viktor Gyökeres",
           "Sporting CP"
          ],
          [
           "Alexander Isak",
           "Newcastle"
          ],
          [
           "Benjamin Nygren",
           "FC Nordsjælland"
          ],
          [
           "Ernest Poku",
           "AZ"
          ],
          [
           "Franculino Djú",
           "FC Midtjylland"
          ],
          [
           "Figueiredo",
           "CTB"
          ],
          [
           "José Manuel López",
           "SEP"
          ],
          [
           "Victor Hugo",
           "FLA"
          ],
          [
           "Ez Abde",
           "Real Betis"
          ],
          [
           "Jeremías Pérez Tica",
           "Newell's"
          ],
          [
           "Facundo Echevarría",
           "Defensa y Justicia"
          ],
          [
           "Paulo Victor",
           "Desp. Chaves"
          ],
          [
           "Lucca Holanda",
           "INT"
          ],
          [
           "Roony Bardghji",
           "FC København"
          ],
          [
           "Santiago Fernández",
           "Banfield"
          ],
          [
           "Vivaldo Semedo",
           "FC Volendam"
          ],
          [
           "Antoine Joujou",
           "Havre AC"
          ],
          [
           "Renato Marques",
           "AMG"
          ],
          [
           "Jason van Duiven",
           "Almere City"
          ],
          [
           "Giovane",
           "COR"
          ],
          [
           "Aidomo Emakhu",
           "Millwall"
          ],
          [
           "Jerónimo Domina",
           "Unión (SF)"
          ],
          [
           "Jobe Bellingham",
           "Sunderland"
          ],
          [
           "Samu Omorodion",
           "Alavés"
          ],
          [
           "Endrick",
           "SEP"
          ],
          [
           "Pedrinho",
           "GOI"
          ],
          [
           "Ricardo Mathias",
           "INT"
          ],
          [
           "Ibrahim Osman",
           "FC Nordsjælland"
          ],
          [
           "Robert",
           "CEC"
          ],
          [
           "Tiago Benzi",
           "Belgrano"
          ],
          [
           "Jean Gabriel",
           "CTB"
          ]
         ],
         "hovertemplate": "<b>%{customdata[0]}</b><br><b>%{customdata[1]}</b><br><br>shots/90: %{x}<br>conversion_%: %{y}<br>non_pen_xg_overperformance/90: %{marker.color}<extra></extra>",
         "legendgroup": "",
         "marker": {
          "color": {
           "bdata": "SOF6FK5H0T8AAAAAAAAAALgehetRuK4/exSuR+F6pD97FK5H4XrEP3sUrkfheoQ/7FG4HoXrsT/sUbgeheuxP7gehetRuK4/7FG4HoXrsT8K16NwPQq3PwAAAAAAANA/exSuR+F6lD9I4XoUrkfRP5qZmZmZmak/CtejcD0Ktz/Xo3A9CtfTP3sUrkfheoQ/uB6F61G4rj97FK5H4XqEP5qZmZmZmak/KVyPwvUovD/sUbgeheuxP5qZmZmZmak/AAAAAAAAAADsUbgeheuxPylcj8L1KMw/KVyPwvUozD97FK5H4XrEP+F6FK5H4co/mpmZmZmZuT+kcD0K16PAP3sUrkfheqQ/MzMzMzMzwz/sUbgehevBPwrXo3A9Crc/uB6F61G4rj/D9Shcj8LFP1K4HoXrUdg/CtejcD0Ktz+amZmZmZm5P+xRuB6F68E/CtejcD0Ktz+4HoXrUbieP6RwPQrXo8A/CtejcD0Kxz8AAAAAAADgPwAAAAAAAAAASOF6FK5H0T/sUbgeheuxP3E9CtejcN0/w/UoXI/CxT97FK5H4XqUP7gehetRuL4/mpmZmZmZqT97FK5H4Xq0P3sUrkfheqQ/exSuR+F6pD+PwvUoXI/SP1K4HoXrUcg/mpmZmZmZuT+4HoXrUbiuP+xRuB6F67E/pHA9CtejwD8zMzMzMzPDP7gehetRuK4/mpmZmZmZqT+4HoXrUbiuP+F6FK5H4co/H4XrUbge1T97FK5H4XqUPwrXo3A9Csc/exSuR+F6pD8pXI/C9Si8Pylcj8L1KLw/w/UoXI/CxT97FK5H4XqkP3sUrkfheoQ/exSuR+F6tD+kcD0K16PAPwAAAAAAANA/mpmZmZmZqT+amZmZmZm5P3sUrkfherQ/7FG4HoXr0T/Xo3A9CtfTP3sUrkfheqQ/AAAAAAAAAAC4HoXrUbieP3E9CtejcM0/exSuR+F6tD+4HoXrUbiePwAAAAAAAAAAw/UoXI/CxT/sUbgeheuxP3sUrkfhepQ/mpmZmZmZqT97FK5H4XqUPwrXo3A9Crc/CtejcD0Kxz97FK5H4XrUP7gehetRuJ4/MzMzMzMzwz8pXI/C9SjMP+xRuB6F67E/mpmZmZmZuT/sUbgehevBPwAAAAAAAAAAexSuR+F6pD+4HoXrUbieP3sUrkfhepQ/cT0K16NwzT+amZmZmZm5P1K4HoXrUcg/exSuR+F6pD97FK5H4XqkP1K4HoXrUcg/pHA9CtejwD97FK5H4Xq0P3sUrkfhetQ/CtejcD0Kxz/NzMzMzMzcP5qZmZmZmbk/7FG4HoXrsT+amZmZmZnJP7gehetRuM4/exSuR+F6tD97FK5H4XrEP3sUrkfherQ/mpmZmZmZuT97FK5H4XqkP5qZmZmZmck/exSuR+F6hD+4HoXrUbi+P6RwPQrXo8A/w/UoXI/C1T+amZmZmZm5P3sUrkfheoQ/uB6F61G4nj8AAAAAAAAAAClcj8L1KLw/CtejcD0Kxz/sUbgehevBPwrXo3A9Csc/exSuR+F6xD+uR+F6FK7XP3E9CtejcM0/uB6F61G4vj/D9Shcj8LFP6RwPQrXo8A/mpmZmZmZyT9cj8L1KFzfP7gehetRuJ4/exSuR+F6xD8AAAAAAAAAAArXo3A9Crc/UrgehetR2D+PwvUoXI/SPzMzMzMzM8M/mpmZmZmZuT+4HoXrUbi+P1K4HoXrUcg/",
           "dtype": "f8"
          },
          "coloraxis": "coloraxis",
          "size": 10,
          "symbol": "circle"
         },
         "mode": "markers",
         "name": "",
         "orientation": "v",
         "showlegend": false,
         "textfont": {
          "size": 10
         },
         "textposition": "top center",
         "type": "scatter",
         "x": {
          "bdata": "7FG4HoXr9T9I4XoUrkcDQKRwPQrXo/w/AAAAAAAAAEBmZmZmZmYGQB+F61G4HgFAexSuR+F6CECPwvUoXI/+Px+F61G4HvU/ZmZmZmZm+j8AAAAAAAD0PwrXo3A9Cv8/7FG4HoXr+T/Xo3A9CtcHQOF6FK5H4f4/ZmZmZmZmBEApXI/C9SgKQM3MzMzMzPw/16NwPQrXBUBmZmZmZmYIQNejcD0K1wVA9ihcj8L1AED2KFyPwvUGQAAAAAAAAPw/AAAAAAAA8D8fhetRuB4FQK5H4XoUrgdAuB6F61G4CkBmZmZmZmYCQAAAAAAAAAJAKVyPwvUoCEB7FK5H4Xr8PwAAAAAAAPg/KVyPwvUoAkDNzMzMzMwAQBSuR+F6FABAH4XrUbgeA0CamZmZmZn9P8P1KFyPwg1A9ihcj8L1DED2KFyPwvUCQOxRuB6F6wNAj8L1KFyP8j/D9Shcj8L9P1K4HoXrUfg/FK5H4XoU/j/2KFyPwvUEQHsUrkfhegxASOF6FK5HAUCkcD0K16MCQK5H4XoUrgtAexSuR+F6BEAzMzMzMzMHQB+F61G4Hv0/PQrXo3A9+j/D9Shcj8IFQI/C9Shcj/I/XI/C9ShcB0DXo3A9Ctf3PzMzMzMzM/c/MzMzMzMzAUC4HoXrUbjyPxSuR+F6FAxAH4XrUbgeA0DsUbgehesFQNejcD0K1/s/j8L1KFyPEkC4HoXrUbjyP5qZmZmZmfk/uB6F61G4BkDsUbgehev5P3sUrkfhevw/16NwPQrX9z/NzMzMzMz4P1K4HoXrUfQ/H4XrUbgeAUAUrkfhehQAQHsUrkfhegJAexSuR+F6CkBI4XoUrkf1PxSuR+F6FPo/UrgehetRAEAAAAAAAAD8P1yPwvUoXP8/AAAAAAAAAED2KFyPwvUEQGZmZmZmZghAmpmZmZmZ/T/2KFyPwvX4P+F6FK5H4fI/pHA9CtejAkBmZmZmZmbyP83MzMzMzPg/hetRuB6F8z8zMzMzMzMHQK5H4XoUrglAhetRuB6F+z8fhetRuB75P83MzMzMzABAcT0K16Nw+T9mZmZmZmYAQLgehetRuAJAH4XrUbge+T8zMzMzMzMHQLgehetRuPY/zczMzMzMAEAUrkfhehT+PwrXo3A9Cv8/XI/C9ShcAUB7FK5H4Xr8P1yPwvUoXAFA4XoUrkfhAkBcj8L1KFz/PwAAAAAAAAZAexSuR+F6/D9mZmZmZmb6PwrXo3A9CglAH4XrUbgeA0CkcD0K16MEQB+F61G4HhVA9ihcj8L1AEDD9Shcj8IJQArXo3A9Cvs/hetRuB6F+z/hehSuR+H6PzMzMzMzMwlAcT0K16Nw/T/hehSuR+EAQJqZmZmZmfU/j8L1KFyPBEBxPQrXo3D5P7gehetRuP4/CtejcD0K+z97FK5H4Xr8P1K4HoXrUQRACtejcD0KC0DD9Shcj8IFQEjhehSuRxJAXI/C9ShcA0CF61G4HoXzP6RwPQrXowBAuB6F61G4AkBxPQrXo3D1P+xRuB6F6wVA16NwPQrXAUDXo3A9CtcFQKRwPQrXowZAcT0K16Nw9T9I4XoUrkf9P5qZmZmZmfE/uB6F61G4AEBSuB6F61H8P65H4XoUrgVA16NwPQrX8z9mZmZmZmYMQHsUrkfhegJAZmZmZmZmAEAAAAAAAAAEQPYoXI/C9QJA4XoUrkfh/j+amZmZmZkHQI/C9Shcj/o/",
          "dtype": "f8"
         },
         "xaxis": "x",
         "y": {
          "bdata": "LhAQGRQOEBIPDhQeFBUSDhUODxAQExARERUcFRgTFxkPExMVHRYZEBMVGBAUFCkPGBQdGA4eEhMaEh4aGhESEhYaGBUhFxckFxMdGhUQExckGBYbJhwRDhgjFRkPGxQXHRcXGyIXLR8aEhoSFw8cFg8TFxEWFQ8UFiEWFiAhFxodHxUrFxEdIA8ODg8QGRkRFBkaExMkEykUFRIQGhYWERAV",
          "dtype": "i1"
         },
         "yaxis": "y"
        }
       ],
       "layout": {
        "coloraxis": {
         "colorbar": {
          "title": {
           "text": "non_pen_xg_overperformance/90"
          }
         },
         "colorscale": [
          [
           0,
           "rgb(165,0,38)"
          ],
          [
           0.1,
           "rgb(215,48,39)"
          ],
          [
           0.2,
           "rgb(244,109,67)"
          ],
          [
           0.3,
           "rgb(253,174,97)"
          ],
          [
           0.4,
           "rgb(254,224,139)"
          ],
          [
           0.5,
           "rgb(255,255,191)"
          ],
          [
           0.6,
           "rgb(217,239,139)"
          ],
          [
           0.7,
           "rgb(166,217,106)"
          ],
          [
           0.8,
           "rgb(102,189,99)"
          ],
          [
           0.9,
           "rgb(26,152,80)"
          ],
          [
           1,
           "rgb(0,104,55)"
          ]
         ],
         "showscale": false
        },
        "height": 700,
        "legend": {
         "tracegroupgap": 0
        },
        "paper_bgcolor": "darkgray",
        "plot_bgcolor": "darkgray",
        "template": {
         "data": {
          "bar": [
           {
            "error_x": {
             "color": "#2a3f5f"
            },
            "error_y": {
             "color": "#2a3f5f"
            },
            "marker": {
             "line": {
              "color": "#E5ECF6",
              "width": 0.5
             },
             "pattern": {
              "fillmode": "overlay",
              "size": 10,
              "solidity": 0.2
             }
            },
            "type": "bar"
           }
          ],
          "barpolar": [
           {
            "marker": {
             "line": {
              "color": "#E5ECF6",
              "width": 0.5
             },
             "pattern": {
              "fillmode": "overlay",
              "size": 10,
              "solidity": 0.2
             }
            },
            "type": "barpolar"
           }
          ],
          "carpet": [
           {
            "aaxis": {
             "endlinecolor": "#2a3f5f",
             "gridcolor": "white",
             "linecolor": "white",
             "minorgridcolor": "white",
             "startlinecolor": "#2a3f5f"
            },
            "baxis": {
             "endlinecolor": "#2a3f5f",
             "gridcolor": "white",
             "linecolor": "white",
             "minorgridcolor": "white",
             "startlinecolor": "#2a3f5f"
            },
            "type": "carpet"
           }
          ],
          "choropleth": [
           {
            "colorbar": {
             "outlinewidth": 0,
             "ticks": ""
            },
            "type": "choropleth"
           }
          ],
          "contour": [
           {
            "colorbar": {
             "outlinewidth": 0,
             "ticks": ""
            },
            "colorscale": [
             [
              0,
              "#0d0887"
             ],
             [
              0.1111111111111111,
              "#46039f"
             ],
             [
              0.2222222222222222,
              "#7201a8"
             ],
             [
              0.3333333333333333,
              "#9c179e"
             ],
             [
              0.4444444444444444,
              "#bd3786"
             ],
             [
              0.5555555555555556,
              "#d8576b"
             ],
             [
              0.6666666666666666,
              "#ed7953"
             ],
             [
              0.7777777777777778,
              "#fb9f3a"
             ],
             [
              0.8888888888888888,
              "#fdca26"
             ],
             [
              1,
              "#f0f921"
             ]
            ],
            "type": "contour"
           }
          ],
          "contourcarpet": [
           {
            "colorbar": {
             "outlinewidth": 0,
             "ticks": ""
            },
            "type": "contourcarpet"
           }
          ],
          "heatmap": [
           {
            "colorbar": {
             "outlinewidth": 0,
             "ticks": ""
            },
            "colorscale": [
             [
              0,
              "#0d0887"
             ],
             [
              0.1111111111111111,
              "#46039f"
             ],
             [
              0.2222222222222222,
              "#7201a8"
             ],
             [
              0.3333333333333333,
              "#9c179e"
             ],
             [
              0.4444444444444444,
              "#bd3786"
             ],
             [
              0.5555555555555556,
              "#d8576b"
             ],
             [
              0.6666666666666666,
              "#ed7953"
             ],
             [
              0.7777777777777778,
              "#fb9f3a"
             ],
             [
              0.8888888888888888,
              "#fdca26"
             ],
             [
              1,
              "#f0f921"
             ]
            ],
            "type": "heatmap"
           }
          ],
          "histogram": [
           {
            "marker": {
             "pattern": {
              "fillmode": "overlay",
              "size": 10,
              "solidity": 0.2
             }
            },
            "type": "histogram"
           }
          ],
          "histogram2d": [
           {
            "colorbar": {
             "outlinewidth": 0,
             "ticks": ""
            },
            "colorscale": [
             [
              0,
              "#0d0887"
             ],
             [
              0.1111111111111111,
              "#46039f"
             ],
             [
              0.2222222222222222,
              "#7201a8"
             ],
             [
              0.3333333333333333,
              "#9c179e"
             ],
             [
              0.4444444444444444,
              "#bd3786"
             ],
             [
              0.5555555555555556,
              "#d8576b"
             ],
             [
              0.6666666666666666,
              "#ed7953"
             ],
             [
              0.7777777777777778,
              "#fb9f3a"
             ],
             [
              0.8888888888888888,
              "#fdca26"
             ],
             [
              1,
              "#f0f921"
             ]
            ],
            "type": "histogram2d"
           }
          ],
          "histogram2dcontour": [
           {
            "colorbar": {
             "outlinewidth": 0,
             "ticks": ""
            },
            "colorscale": [
             [
              0,
              "#0d0887"
             ],
             [
              0.1111111111111111,
              "#46039f"
             ],
             [
              0.2222222222222222,
              "#7201a8"
             ],
             [
              0.3333333333333333,
              "#9c179e"
             ],
             [
              0.4444444444444444,
              "#bd3786"
             ],
             [
              0.5555555555555556,
              "#d8576b"
             ],
             [
              0.6666666666666666,
              "#ed7953"
             ],
             [
              0.7777777777777778,
              "#fb9f3a"
             ],
             [
              0.8888888888888888,
              "#fdca26"
             ],
             [
              1,
              "#f0f921"
             ]
            ],
            "type": "histogram2dcontour"
           }
          ],
          "mesh3d": [
           {
            "colorbar": {
             "outlinewidth": 0,
             "ticks": ""
            },
            "type": "mesh3d"
           }
          ],
          "parcoords": [
           {
            "line": {
             "colorbar": {
              "outlinewidth": 0,
              "ticks": ""
             }
            },
            "type": "parcoords"
           }
          ],
          "pie": [
           {
            "automargin": true,
            "type": "pie"
           }
          ],
          "scatter": [
           {
            "fillpattern": {
             "fillmode": "overlay",
             "size": 10,
             "solidity": 0.2
            },
            "type": "scatter"
           }
          ],
          "scatter3d": [
           {
            "line": {
             "colorbar": {
              "outlinewidth": 0,
              "ticks": ""
             }
            },
            "marker": {
             "colorbar": {
              "outlinewidth": 0,
              "ticks": ""
             }
            },
            "type": "scatter3d"
           }
          ],
          "scattercarpet": [
           {
            "marker": {
             "colorbar": {
              "outlinewidth": 0,
              "ticks": ""
             }
            },
            "type": "scattercarpet"
           }
          ],
          "scattergeo": [
           {
            "marker": {
             "colorbar": {
              "outlinewidth": 0,
              "ticks": ""
             }
            },
            "type": "scattergeo"
           }
          ],
          "scattergl": [
           {
            "marker": {
             "colorbar": {
              "outlinewidth": 0,
              "ticks": ""
             }
            },
            "type": "scattergl"
           }
          ],
          "scattermap": [
           {
            "marker": {
             "colorbar": {
              "outlinewidth": 0,
              "ticks": ""
             }
            },
            "type": "scattermap"
           }
          ],
          "scattermapbox": [
           {
            "marker": {
             "colorbar": {
              "outlinewidth": 0,
              "ticks": ""
             }
            },
            "type": "scattermapbox"
           }
          ],
          "scatterpolar": [
           {
            "marker": {
             "colorbar": {
              "outlinewidth": 0,
              "ticks": ""
             }
            },
            "type": "scatterpolar"
           }
          ],
          "scatterpolargl": [
           {
            "marker": {
             "colorbar": {
              "outlinewidth": 0,
              "ticks": ""
             }
            },
            "type": "scatterpolargl"
           }
          ],
          "scatterternary": [
           {
            "marker": {
             "colorbar": {
              "outlinewidth": 0,
              "ticks": ""
             }
            },
            "type": "scatterternary"
           }
          ],
          "surface": [
           {
            "colorbar": {
             "outlinewidth": 0,
             "ticks": ""
            },
            "colorscale": [
             [
              0,
              "#0d0887"
             ],
             [
              0.1111111111111111,
              "#46039f"
             ],
             [
              0.2222222222222222,
              "#7201a8"
             ],
             [
              0.3333333333333333,
              "#9c179e"
             ],
             [
              0.4444444444444444,
              "#bd3786"
             ],
             [
              0.5555555555555556,
              "#d8576b"
             ],
             [
              0.6666666666666666,
              "#ed7953"
             ],
             [
              0.7777777777777778,
              "#fb9f3a"
             ],
             [
              0.8888888888888888,
              "#fdca26"
             ],
             [
              1,
              "#f0f921"
             ]
            ],
            "type": "surface"
           }
          ],
          "table": [
           {
            "cells": {
             "fill": {
              "color": "#EBF0F8"
             },
             "line": {
              "color": "white"
             }
            },
            "header": {
             "fill": {
              "color": "#C8D4E3"
             },
             "line": {
              "color": "white"
             }
            },
            "type": "table"
           }
          ]
         },
         "layout": {
          "annotationdefaults": {
           "arrowcolor": "#2a3f5f",
           "arrowhead": 0,
           "arrowwidth": 1
          },
          "autotypenumbers": "strict",
          "coloraxis": {
           "colorbar": {
            "outlinewidth": 0,
            "ticks": ""
           }
          },
          "colorscale": {
           "diverging": [
            [
             0,
             "#8e0152"
            ],
            [
             0.1,
             "#c51b7d"
            ],
            [
             0.2,
             "#de77ae"
            ],
            [
             0.3,
             "#f1b6da"
            ],
            [
             0.4,
             "#fde0ef"
            ],
            [
             0.5,
             "#f7f7f7"
            ],
            [
             0.6,
             "#e6f5d0"
            ],
            [
             0.7,
             "#b8e186"
            ],
            [
             0.8,
             "#7fbc41"
            ],
            [
             0.9,
             "#4d9221"
            ],
            [
             1,
             "#276419"
            ]
           ],
           "sequential": [
            [
             0,
             "#0d0887"
            ],
            [
             0.1111111111111111,
             "#46039f"
            ],
            [
             0.2222222222222222,
             "#7201a8"
            ],
            [
             0.3333333333333333,
             "#9c179e"
            ],
            [
             0.4444444444444444,
             "#bd3786"
            ],
            [
             0.5555555555555556,
             "#d8576b"
            ],
            [
             0.6666666666666666,
             "#ed7953"
            ],
            [
             0.7777777777777778,
             "#fb9f3a"
            ],
            [
             0.8888888888888888,
             "#fdca26"
            ],
            [
             1,
             "#f0f921"
            ]
           ],
           "sequentialminus": [
            [
             0,
             "#0d0887"
            ],
            [
             0.1111111111111111,
             "#46039f"
            ],
            [
             0.2222222222222222,
             "#7201a8"
            ],
            [
             0.3333333333333333,
             "#9c179e"
            ],
            [
             0.4444444444444444,
             "#bd3786"
            ],
            [
             0.5555555555555556,
             "#d8576b"
            ],
            [
             0.6666666666666666,
             "#ed7953"
            ],
            [
             0.7777777777777778,
             "#fb9f3a"
            ],
            [
             0.8888888888888888,
             "#fdca26"
            ],
            [
             1,
             "#f0f921"
            ]
           ]
          },
          "colorway": [
           "#636efa",
           "#EF553B",
           "#00cc96",
           "#ab63fa",
           "#FFA15A",
           "#19d3f3",
           "#FF6692",
           "#B6E880",
           "#FF97FF",
           "#FECB52"
          ],
          "font": {
           "color": "#2a3f5f"
          },
          "geo": {
           "bgcolor": "white",
           "lakecolor": "white",
           "landcolor": "#E5ECF6",
           "showlakes": true,
           "showland": true,
           "subunitcolor": "white"
          },
          "hoverlabel": {
           "align": "left"
          },
          "hovermode": "closest",
          "mapbox": {
           "style": "light"
          },
          "paper_bgcolor": "white",
          "plot_bgcolor": "#E5ECF6",
          "polar": {
           "angularaxis": {
            "gridcolor": "white",
            "linecolor": "white",
            "ticks": ""
           },
           "bgcolor": "#E5ECF6",
           "radialaxis": {
            "gridcolor": "white",
            "linecolor": "white",
            "ticks": ""
           }
          },
          "scene": {
           "xaxis": {
            "backgroundcolor": "#E5ECF6",
            "gridcolor": "white",
            "gridwidth": 2,
            "linecolor": "white",
            "showbackground": true,
            "ticks": "",
            "zerolinecolor": "white"
           },
           "yaxis": {
            "backgroundcolor": "#E5ECF6",
            "gridcolor": "white",
            "gridwidth": 2,
            "linecolor": "white",
            "showbackground": true,
            "ticks": "",
            "zerolinecolor": "white"
           },
           "zaxis": {
            "backgroundcolor": "#E5ECF6",
            "gridcolor": "white",
            "gridwidth": 2,
            "linecolor": "white",
            "showbackground": true,
            "ticks": "",
            "zerolinecolor": "white"
           }
          },
          "shapedefaults": {
           "line": {
            "color": "#2a3f5f"
           }
          },
          "ternary": {
           "aaxis": {
            "gridcolor": "white",
            "linecolor": "white",
            "ticks": ""
           },
           "baxis": {
            "gridcolor": "white",
            "linecolor": "white",
            "ticks": ""
           },
           "bgcolor": "#E5ECF6",
           "caxis": {
            "gridcolor": "white",
            "linecolor": "white",
            "ticks": ""
           }
          },
          "title": {
           "x": 0.05
          },
          "xaxis": {
           "automargin": true,
           "gridcolor": "white",
           "linecolor": "white",
           "ticks": "",
           "title": {
            "standoff": 15
           },
           "zerolinecolor": "white",
           "zerolinewidth": 2
          },
          "yaxis": {
           "automargin": true,
           "gridcolor": "white",
           "linecolor": "white",
           "ticks": "",
           "title": {
            "standoff": 15
           },
           "zerolinecolor": "white",
           "zerolinewidth": 2
          }
         }
        },
        "title": {
         "text": "Efficiency ( 162)",
         "x": 0.5,
         "xanchor": "center"
        },
        "width": 1200,
        "xaxis": {
         "anchor": "y",
         "domain": [
          0,
          1
         ],
         "gridcolor": "white",
         "showgrid": true,
         "title": {
          "text": "shots/90"
         },
         "zeroline": false
        },
        "yaxis": {
         "anchor": "x",
         "domain": [
          0,
          1
         ],
         "gridcolor": "white",
         "showgrid": true,
         "title": {
          "text": "conversion_%"
         },
         "zeroline": false
        }
       }
      }
     },
     "metadata": {},
     "output_type": "display_data"
    }
   ],
   "source": [
    "# Filter data \n",
    "mask = (\n",
    "        (df_players['shots/90'] >= 1) & \\\n",
    "        (df_players['conversion_%'] >= 14) & \\\n",
    "        (df_players['non_pen_xg_overperformance/90'] >= 0) & \\\n",
    "        (df_players['age'] <= 26) & \\\n",
    "        (df_players['id'].isin(targets))\n",
    "        \n",
    "        \n",
    ")\n",
    "\n",
    "df_targets = df_players[mask]\n",
    "\n",
    "scatter_plot(df_targets,\n",
    "             x_metric='shots/90', \n",
    "             y_metric='conversion_%',\n",
    "             z_metric='non_pen_xg_overperformance/90',\n",
    "             title='Efficiency', \n",
    "             show_name_label=False\n",
    ")\n",
    "\n",
    "# Keep only players that fulfill criteria\n",
    "targets = list(df_targets['id'])"
   ]
  },
  {
   "cell_type": "markdown",
   "id": "05fd5ca0",
   "metadata": {},
   "source": [
    "## Creativity"
   ]
  },
  {
   "cell_type": "code",
   "execution_count": 38,
   "id": "75023675",
   "metadata": {},
   "outputs": [
    {
     "data": {
      "text/html": [
       "<div>\n",
       "<style scoped>\n",
       "    .dataframe tbody tr th:only-of-type {\n",
       "        vertical-align: middle;\n",
       "    }\n",
       "\n",
       "    .dataframe tbody tr th {\n",
       "        vertical-align: top;\n",
       "    }\n",
       "\n",
       "    .dataframe thead th {\n",
       "        text-align: right;\n",
       "    }\n",
       "</style>\n",
       "<table border=\"1\" class=\"dataframe\">\n",
       "  <thead>\n",
       "    <tr style=\"text-align: right;\">\n",
       "      <th></th>\n",
       "      <th>id</th>\n",
       "      <th>name</th>\n",
       "      <th>position</th>\n",
       "      <th>age</th>\n",
       "      <th>height</th>\n",
       "      <th>weight</th>\n",
       "      <th>inf</th>\n",
       "      <th>club</th>\n",
       "      <th>division</th>\n",
       "      <th>nationality</th>\n",
       "      <th>home_grown</th>\n",
       "      <th>personality</th>\n",
       "      <th>media_handling</th>\n",
       "      <th>wage</th>\n",
       "      <th>transfer_value</th>\n",
       "      <th>asking_price</th>\n",
       "      <th>preferred_foot</th>\n",
       "      <th>starts</th>\n",
       "      <th>minutes_played</th>\n",
       "      <th>average_rating</th>\n",
       "      <th>sub_appearances</th>\n",
       "      <th>minutes/game</th>\n",
       "      <th>index</th>\n",
       "      <th>goals/90</th>\n",
       "      <th>minutes/goal</th>\n",
       "      <th>xg/90</th>\n",
       "      <th>xg/shot</th>\n",
       "      <th>xg_overperformance/90</th>\n",
       "      <th>non_pen_goals/90</th>\n",
       "      <th>non_pen_goals/shot</th>\n",
       "      <th>minutes/non_pen_goal</th>\n",
       "      <th>non_pen_xg/90</th>\n",
       "      <th>non_pen_goals___non_pens_xg_/90</th>\n",
       "      <th>non_pen_xg/shot</th>\n",
       "      <th>non_pen_xg_overperformance/90</th>\n",
       "      <th>goals_outside_box/90</th>\n",
       "      <th>assists/90</th>\n",
       "      <th>minutes/assist</th>\n",
       "      <th>xa/90</th>\n",
       "      <th>xa_overperformance</th>\n",
       "      <th>xa_overperformance/90</th>\n",
       "      <th>assists/clear_cut_chances_created</th>\n",
       "      <th>goal_contributions/90</th>\n",
       "      <th>xgc/90</th>\n",
       "      <th>xgc_overperformance/90</th>\n",
       "      <th>non_pen_goal_contributions/90</th>\n",
       "      <th>non_pen_xgc/90</th>\n",
       "      <th>non_pen_xgc_overperformance/90</th>\n",
       "      <th>conversion_%</th>\n",
       "      <th>shots/90</th>\n",
       "      <th>shots_on_target/90</th>\n",
       "      <th>shots_on_target_%</th>\n",
       "      <th>shots_outside_box/90</th>\n",
       "      <th>passes_attempted/90</th>\n",
       "      <th>passes_completed/90</th>\n",
       "      <th>pass_completion_%</th>\n",
       "      <th>progressive_passes/90</th>\n",
       "      <th>progressive_pass_rate</th>\n",
       "      <th>key_passes/90</th>\n",
       "      <th>key_pass_%</th>\n",
       "      <th>open_play_key_passes/90</th>\n",
       "      <th>open_play_key_pass_%</th>\n",
       "      <th>chances_created/90</th>\n",
       "      <th>clear_cut_chances_created/90</th>\n",
       "      <th>pressures_attempted/90</th>\n",
       "      <th>pressures_completed/90</th>\n",
       "      <th>pressure_success_%</th>\n",
       "      <th>possession_won/90</th>\n",
       "      <th>possession_lost/90</th>\n",
       "      <th>poss+_/90</th>\n",
       "      <th>poss+__%</th>\n",
       "      <th>dribbles/90</th>\n",
       "      <th>headers_attempted/90</th>\n",
       "      <th>headers_won/90</th>\n",
       "      <th>headers_won_%</th>\n",
       "      <th>headers_lost/90</th>\n",
       "      <th>headers_lost_%</th>\n",
       "      <th>key_headers/90</th>\n",
       "      <th>aerial_challenges_attempted/90</th>\n",
       "      <th>duels_win_%</th>\n",
       "      <th>player_of_the_match</th>\n",
       "      <th>mistakes_leading_to_goal</th>\n",
       "      <th>sprints/90</th>\n",
       "      <th>attacking_actions/90</th>\n",
       "      <th>creative_actions/90</th>\n",
       "      <th>defensive_actions/90</th>\n",
       "      <th>goalkeeping_actions/90</th>\n",
       "      <th>excitement_factor/90</th>\n",
       "      <th>general_performance</th>\n",
       "      <th>goalkeeping</th>\n",
       "      <th>defensive_defender</th>\n",
       "      <th>creative_defender</th>\n",
       "      <th>attacking_defender</th>\n",
       "      <th>creative_midfielder</th>\n",
       "      <th>attacking_midfielder</th>\n",
       "      <th>creative_winger</th>\n",
       "      <th>attacking_winger</th>\n",
       "      <th>creative_forward</th>\n",
       "      <th>attacking_forward</th>\n",
       "      <th>finisher</th>\n",
       "      <th>aerial_threat</th>\n",
       "      <th>reader</th>\n",
       "      <th>assister</th>\n",
       "      <th>price_estimate_M</th>\n",
       "      <th>non_pen_goals/non_pen_xg/90</th>\n",
       "    </tr>\n",
       "  </thead>\n",
       "  <tbody>\n",
       "    <tr>\n",
       "      <th>0</th>\n",
       "      <td>168222</td>\n",
       "      <td>Mats Seuntjens</td>\n",
       "      <td>M (LC), AM (RLC), ST (C)</td>\n",
       "      <td>31</td>\n",
       "      <td>187 cm</td>\n",
       "      <td>78 kg</td>\n",
       "      <td>Unh</td>\n",
       "      <td>RKC Waalwijk</td>\n",
       "      <td>Eredivisie</td>\n",
       "      <td>NED</td>\n",
       "      <td>-</td>\n",
       "      <td>-</td>\n",
       "      <td>Scouting Required</td>\n",
       "      <td>$3,200 p/w</td>\n",
       "      <td>$160K - $1.6M</td>\n",
       "      <td>-</td>\n",
       "      <td>Right</td>\n",
       "      <td>15</td>\n",
       "      <td>1305</td>\n",
       "      <td>6.60</td>\n",
       "      <td>0</td>\n",
       "      <td>87.00</td>\n",
       "      <td>0</td>\n",
       "      <td>0.07</td>\n",
       "      <td>1305.00</td>\n",
       "      <td>0.07</td>\n",
       "      <td>0.06</td>\n",
       "      <td>0.00</td>\n",
       "      <td>0.07</td>\n",
       "      <td>0.07</td>\n",
       "      <td>1305.00</td>\n",
       "      <td>0.07</td>\n",
       "      <td>0.00</td>\n",
       "      <td>0.06</td>\n",
       "      <td>0.00</td>\n",
       "      <td>0.00</td>\n",
       "      <td>0.14</td>\n",
       "      <td>652.50</td>\n",
       "      <td>0.08</td>\n",
       "      <td>0.79</td>\n",
       "      <td>0.05</td>\n",
       "      <td>0.00</td>\n",
       "      <td>0.21</td>\n",
       "      <td>0.15</td>\n",
       "      <td>0.06</td>\n",
       "      <td>0.21</td>\n",
       "      <td>0.15</td>\n",
       "      <td>0.06</td>\n",
       "      <td>7</td>\n",
       "      <td>1.03</td>\n",
       "      <td>0.48</td>\n",
       "      <td>47</td>\n",
       "      <td>0.48</td>\n",
       "      <td>31.45</td>\n",
       "      <td>25.45</td>\n",
       "      <td>81</td>\n",
       "      <td>1.03</td>\n",
       "      <td>3.29</td>\n",
       "      <td>0.90</td>\n",
       "      <td>2.85</td>\n",
       "      <td>0.62</td>\n",
       "      <td>1.97</td>\n",
       "      <td>0.07</td>\n",
       "      <td>0.07</td>\n",
       "      <td>9.38</td>\n",
       "      <td>1.59</td>\n",
       "      <td>16.91</td>\n",
       "      <td>5.38</td>\n",
       "      <td>11.52</td>\n",
       "      <td>-6.14</td>\n",
       "      <td>-53.30</td>\n",
       "      <td>2.00</td>\n",
       "      <td>8.69</td>\n",
       "      <td>4.00</td>\n",
       "      <td>46.03</td>\n",
       "      <td>4.69</td>\n",
       "      <td>53.97</td>\n",
       "      <td>0.00</td>\n",
       "      <td>8.69</td>\n",
       "      <td>52.20</td>\n",
       "      <td>0</td>\n",
       "      <td>0</td>\n",
       "      <td>12.07</td>\n",
       "      <td>2.52</td>\n",
       "      <td>1.03</td>\n",
       "      <td>8.99</td>\n",
       "      <td>0</td>\n",
       "      <td>4.55</td>\n",
       "      <td>18</td>\n",
       "      <td>100</td>\n",
       "      <td>65</td>\n",
       "      <td>57</td>\n",
       "      <td>51</td>\n",
       "      <td>7</td>\n",
       "      <td>5</td>\n",
       "      <td>20</td>\n",
       "      <td>25</td>\n",
       "      <td>16</td>\n",
       "      <td>13</td>\n",
       "      <td>6</td>\n",
       "      <td>51</td>\n",
       "      <td>59</td>\n",
       "      <td>54</td>\n",
       "      <td>1.056</td>\n",
       "      <td>1.000000</td>\n",
       "    </tr>\n",
       "    <tr>\n",
       "      <th>1</th>\n",
       "      <td>211522</td>\n",
       "      <td>Chris Bedia</td>\n",
       "      <td>ST (C)</td>\n",
       "      <td>27</td>\n",
       "      <td>190 cm</td>\n",
       "      <td>85 kg</td>\n",
       "      <td>-</td>\n",
       "      <td>Union Berlin</td>\n",
       "      <td>Bundesliga</td>\n",
       "      <td>CIV (FRA)</td>\n",
       "      <td>-</td>\n",
       "      <td>-</td>\n",
       "      <td>Scouting Required</td>\n",
       "      <td>$24,500 p/w</td>\n",
       "      <td>$450K - $4.4M</td>\n",
       "      <td>-</td>\n",
       "      <td>Left</td>\n",
       "      <td>11</td>\n",
       "      <td>1095</td>\n",
       "      <td>6.73</td>\n",
       "      <td>7</td>\n",
       "      <td>60.83</td>\n",
       "      <td>1</td>\n",
       "      <td>0.16</td>\n",
       "      <td>547.50</td>\n",
       "      <td>0.26</td>\n",
       "      <td>0.14</td>\n",
       "      <td>-0.10</td>\n",
       "      <td>0.16</td>\n",
       "      <td>0.09</td>\n",
       "      <td>547.50</td>\n",
       "      <td>0.26</td>\n",
       "      <td>-0.10</td>\n",
       "      <td>0.14</td>\n",
       "      <td>-0.10</td>\n",
       "      <td>0.00</td>\n",
       "      <td>0.08</td>\n",
       "      <td>1095.00</td>\n",
       "      <td>0.04</td>\n",
       "      <td>0.51</td>\n",
       "      <td>0.04</td>\n",
       "      <td>0.00</td>\n",
       "      <td>0.25</td>\n",
       "      <td>0.30</td>\n",
       "      <td>-0.06</td>\n",
       "      <td>0.25</td>\n",
       "      <td>0.30</td>\n",
       "      <td>-0.06</td>\n",
       "      <td>9</td>\n",
       "      <td>1.89</td>\n",
       "      <td>0.66</td>\n",
       "      <td>35</td>\n",
       "      <td>0.33</td>\n",
       "      <td>24.49</td>\n",
       "      <td>20.14</td>\n",
       "      <td>82</td>\n",
       "      <td>0.49</td>\n",
       "      <td>2.01</td>\n",
       "      <td>0.49</td>\n",
       "      <td>2.01</td>\n",
       "      <td>0.41</td>\n",
       "      <td>1.68</td>\n",
       "      <td>0.50</td>\n",
       "      <td>0.08</td>\n",
       "      <td>7.23</td>\n",
       "      <td>1.15</td>\n",
       "      <td>15.91</td>\n",
       "      <td>5.42</td>\n",
       "      <td>8.96</td>\n",
       "      <td>-3.54</td>\n",
       "      <td>-39.51</td>\n",
       "      <td>1.32</td>\n",
       "      <td>12.49</td>\n",
       "      <td>6.00</td>\n",
       "      <td>48.03</td>\n",
       "      <td>6.49</td>\n",
       "      <td>51.97</td>\n",
       "      <td>0.08</td>\n",
       "      <td>12.49</td>\n",
       "      <td>50.00</td>\n",
       "      <td>0</td>\n",
       "      <td>0</td>\n",
       "      <td>7.32</td>\n",
       "      <td>2.04</td>\n",
       "      <td>0.58</td>\n",
       "      <td>10.08</td>\n",
       "      <td>0</td>\n",
       "      <td>3.86</td>\n",
       "      <td>4</td>\n",
       "      <td>100</td>\n",
       "      <td>48</td>\n",
       "      <td>11</td>\n",
       "      <td>9</td>\n",
       "      <td>2</td>\n",
       "      <td>1</td>\n",
       "      <td>2</td>\n",
       "      <td>3</td>\n",
       "      <td>6</td>\n",
       "      <td>2</td>\n",
       "      <td>14</td>\n",
       "      <td>82</td>\n",
       "      <td>77</td>\n",
       "      <td>29</td>\n",
       "      <td>2.910</td>\n",
       "      <td>0.615385</td>\n",
       "    </tr>\n",
       "    <tr>\n",
       "      <th>2</th>\n",
       "      <td>11022221</td>\n",
       "      <td>Vedat Muriqi</td>\n",
       "      <td>ST (C)</td>\n",
       "      <td>29</td>\n",
       "      <td>194 cm</td>\n",
       "      <td>92 kg</td>\n",
       "      <td>-</td>\n",
       "      <td>Mallorca</td>\n",
       "      <td>LaLiga EA Sports</td>\n",
       "      <td>KOS (ALB)</td>\n",
       "      <td>-</td>\n",
       "      <td>-</td>\n",
       "      <td>Scouting Required</td>\n",
       "      <td>$82,000 p/w</td>\n",
       "      <td>$24M - $30M</td>\n",
       "      <td>-</td>\n",
       "      <td>Left</td>\n",
       "      <td>19</td>\n",
       "      <td>1341</td>\n",
       "      <td>6.88</td>\n",
       "      <td>0</td>\n",
       "      <td>70.58</td>\n",
       "      <td>2</td>\n",
       "      <td>0.47</td>\n",
       "      <td>191.57</td>\n",
       "      <td>0.36</td>\n",
       "      <td>0.20</td>\n",
       "      <td>0.11</td>\n",
       "      <td>0.34</td>\n",
       "      <td>0.19</td>\n",
       "      <td>268.20</td>\n",
       "      <td>0.26</td>\n",
       "      <td>0.08</td>\n",
       "      <td>0.14</td>\n",
       "      <td>0.08</td>\n",
       "      <td>0.00</td>\n",
       "      <td>0.00</td>\n",
       "      <td>0.00</td>\n",
       "      <td>0.03</td>\n",
       "      <td>-0.49</td>\n",
       "      <td>-0.03</td>\n",
       "      <td>0.00</td>\n",
       "      <td>0.47</td>\n",
       "      <td>0.39</td>\n",
       "      <td>0.08</td>\n",
       "      <td>0.34</td>\n",
       "      <td>0.29</td>\n",
       "      <td>0.04</td>\n",
       "      <td>26</td>\n",
       "      <td>1.81</td>\n",
       "      <td>0.94</td>\n",
       "      <td>52</td>\n",
       "      <td>0.13</td>\n",
       "      <td>27.85</td>\n",
       "      <td>22.08</td>\n",
       "      <td>79</td>\n",
       "      <td>0.40</td>\n",
       "      <td>1.45</td>\n",
       "      <td>0.40</td>\n",
       "      <td>1.45</td>\n",
       "      <td>0.40</td>\n",
       "      <td>1.45</td>\n",
       "      <td>0.13</td>\n",
       "      <td>0.13</td>\n",
       "      <td>9.33</td>\n",
       "      <td>2.42</td>\n",
       "      <td>25.90</td>\n",
       "      <td>6.04</td>\n",
       "      <td>9.19</td>\n",
       "      <td>-3.15</td>\n",
       "      <td>-34.28</td>\n",
       "      <td>0.74</td>\n",
       "      <td>14.56</td>\n",
       "      <td>7.85</td>\n",
       "      <td>53.92</td>\n",
       "      <td>6.71</td>\n",
       "      <td>46.08</td>\n",
       "      <td>0.07</td>\n",
       "      <td>14.56</td>\n",
       "      <td>54.72</td>\n",
       "      <td>1</td>\n",
       "      <td>0</td>\n",
       "      <td>9.53</td>\n",
       "      <td>2.00</td>\n",
       "      <td>0.54</td>\n",
       "      <td>12.27</td>\n",
       "      <td>0</td>\n",
       "      <td>3.15</td>\n",
       "      <td>5</td>\n",
       "      <td>100</td>\n",
       "      <td>24</td>\n",
       "      <td>0</td>\n",
       "      <td>3</td>\n",
       "      <td>4</td>\n",
       "      <td>11</td>\n",
       "      <td>1</td>\n",
       "      <td>9</td>\n",
       "      <td>12</td>\n",
       "      <td>15</td>\n",
       "      <td>57</td>\n",
       "      <td>80</td>\n",
       "      <td>83</td>\n",
       "      <td>2</td>\n",
       "      <td>32.400</td>\n",
       "      <td>1.307692</td>\n",
       "    </tr>\n",
       "    <tr>\n",
       "      <th>3</th>\n",
       "      <td>11024744</td>\n",
       "      <td>Myrto Uzuni</td>\n",
       "      <td>M (L), AM (RLC), ST (C)</td>\n",
       "      <td>28</td>\n",
       "      <td>178 cm</td>\n",
       "      <td>72 kg</td>\n",
       "      <td>-</td>\n",
       "      <td>Granada</td>\n",
       "      <td>LaLiga EA Sports</td>\n",
       "      <td>ALB</td>\n",
       "      <td>-</td>\n",
       "      <td>-</td>\n",
       "      <td>Scouting Required</td>\n",
       "      <td>$11,500 p/w</td>\n",
       "      <td>$90K - $8.8M</td>\n",
       "      <td>-</td>\n",
       "      <td>Right</td>\n",
       "      <td>12</td>\n",
       "      <td>996</td>\n",
       "      <td>6.59</td>\n",
       "      <td>2</td>\n",
       "      <td>71.14</td>\n",
       "      <td>3</td>\n",
       "      <td>0.18</td>\n",
       "      <td>498.00</td>\n",
       "      <td>0.16</td>\n",
       "      <td>0.15</td>\n",
       "      <td>0.02</td>\n",
       "      <td>0.18</td>\n",
       "      <td>0.17</td>\n",
       "      <td>498.00</td>\n",
       "      <td>0.16</td>\n",
       "      <td>0.02</td>\n",
       "      <td>0.15</td>\n",
       "      <td>0.02</td>\n",
       "      <td>0.00</td>\n",
       "      <td>0.09</td>\n",
       "      <td>996.00</td>\n",
       "      <td>0.10</td>\n",
       "      <td>-0.06</td>\n",
       "      <td>-0.01</td>\n",
       "      <td>0.00</td>\n",
       "      <td>0.27</td>\n",
       "      <td>0.26</td>\n",
       "      <td>0.01</td>\n",
       "      <td>0.27</td>\n",
       "      <td>0.26</td>\n",
       "      <td>0.01</td>\n",
       "      <td>17</td>\n",
       "      <td>1.08</td>\n",
       "      <td>0.45</td>\n",
       "      <td>42</td>\n",
       "      <td>0.27</td>\n",
       "      <td>33.43</td>\n",
       "      <td>28.73</td>\n",
       "      <td>86</td>\n",
       "      <td>1.72</td>\n",
       "      <td>5.14</td>\n",
       "      <td>0.81</td>\n",
       "      <td>2.43</td>\n",
       "      <td>0.54</td>\n",
       "      <td>1.62</td>\n",
       "      <td>0.18</td>\n",
       "      <td>0.18</td>\n",
       "      <td>15.45</td>\n",
       "      <td>3.07</td>\n",
       "      <td>19.88</td>\n",
       "      <td>7.14</td>\n",
       "      <td>12.29</td>\n",
       "      <td>-5.15</td>\n",
       "      <td>-41.90</td>\n",
       "      <td>2.44</td>\n",
       "      <td>5.96</td>\n",
       "      <td>1.81</td>\n",
       "      <td>30.30</td>\n",
       "      <td>4.16</td>\n",
       "      <td>69.70</td>\n",
       "      <td>0.00</td>\n",
       "      <td>5.96</td>\n",
       "      <td>50.89</td>\n",
       "      <td>0</td>\n",
       "      <td>0</td>\n",
       "      <td>15.72</td>\n",
       "      <td>3.07</td>\n",
       "      <td>1.08</td>\n",
       "      <td>11.11</td>\n",
       "      <td>0</td>\n",
       "      <td>5.60</td>\n",
       "      <td>42</td>\n",
       "      <td>100</td>\n",
       "      <td>94</td>\n",
       "      <td>72</td>\n",
       "      <td>48</td>\n",
       "      <td>22</td>\n",
       "      <td>17</td>\n",
       "      <td>51</td>\n",
       "      <td>30</td>\n",
       "      <td>37</td>\n",
       "      <td>16</td>\n",
       "      <td>17</td>\n",
       "      <td>26</td>\n",
       "      <td>82</td>\n",
       "      <td>43</td>\n",
       "      <td>5.334</td>\n",
       "      <td>1.125000</td>\n",
       "    </tr>\n",
       "    <tr>\n",
       "      <th>4</th>\n",
       "      <td>12092528</td>\n",
       "      <td>Datro Fofana</td>\n",
       "      <td>AM (R), ST (C)</td>\n",
       "      <td>21</td>\n",
       "      <td>181 cm</td>\n",
       "      <td>76 kg</td>\n",
       "      <td>-</td>\n",
       "      <td>Burnley</td>\n",
       "      <td>Premier League</td>\n",
       "      <td>CIV</td>\n",
       "      <td>-</td>\n",
       "      <td>-</td>\n",
       "      <td>Scouting Required</td>\n",
       "      <td>$69,000 p/w</td>\n",
       "      <td>$21M - $33M</td>\n",
       "      <td>-</td>\n",
       "      <td>Right</td>\n",
       "      <td>13</td>\n",
       "      <td>1187</td>\n",
       "      <td>6.93</td>\n",
       "      <td>6</td>\n",
       "      <td>62.47</td>\n",
       "      <td>4</td>\n",
       "      <td>0.30</td>\n",
       "      <td>296.75</td>\n",
       "      <td>0.33</td>\n",
       "      <td>0.13</td>\n",
       "      <td>-0.02</td>\n",
       "      <td>0.30</td>\n",
       "      <td>0.12</td>\n",
       "      <td>296.75</td>\n",
       "      <td>0.33</td>\n",
       "      <td>-0.03</td>\n",
       "      <td>0.13</td>\n",
       "      <td>-0.02</td>\n",
       "      <td>0.15</td>\n",
       "      <td>0.30</td>\n",
       "      <td>296.75</td>\n",
       "      <td>0.14</td>\n",
       "      <td>2.11</td>\n",
       "      <td>0.16</td>\n",
       "      <td>0.67</td>\n",
       "      <td>0.61</td>\n",
       "      <td>0.47</td>\n",
       "      <td>0.14</td>\n",
       "      <td>0.61</td>\n",
       "      <td>0.47</td>\n",
       "      <td>0.14</td>\n",
       "      <td>12</td>\n",
       "      <td>2.50</td>\n",
       "      <td>1.36</td>\n",
       "      <td>55</td>\n",
       "      <td>0.99</td>\n",
       "      <td>20.62</td>\n",
       "      <td>17.51</td>\n",
       "      <td>85</td>\n",
       "      <td>1.06</td>\n",
       "      <td>5.15</td>\n",
       "      <td>1.06</td>\n",
       "      <td>5.15</td>\n",
       "      <td>0.99</td>\n",
       "      <td>4.78</td>\n",
       "      <td>1.29</td>\n",
       "      <td>0.45</td>\n",
       "      <td>8.11</td>\n",
       "      <td>1.82</td>\n",
       "      <td>22.43</td>\n",
       "      <td>4.63</td>\n",
       "      <td>8.95</td>\n",
       "      <td>-4.32</td>\n",
       "      <td>-48.27</td>\n",
       "      <td>1.67</td>\n",
       "      <td>11.07</td>\n",
       "      <td>3.18</td>\n",
       "      <td>28.77</td>\n",
       "      <td>7.89</td>\n",
       "      <td>71.23</td>\n",
       "      <td>0.08</td>\n",
       "      <td>11.07</td>\n",
       "      <td>36.05</td>\n",
       "      <td>0</td>\n",
       "      <td>1</td>\n",
       "      <td>8.19</td>\n",
       "      <td>3.82</td>\n",
       "      <td>1.82</td>\n",
       "      <td>8.33</td>\n",
       "      <td>0</td>\n",
       "      <td>7.05</td>\n",
       "      <td>79</td>\n",
       "      <td>100</td>\n",
       "      <td>40</td>\n",
       "      <td>63</td>\n",
       "      <td>73</td>\n",
       "      <td>80</td>\n",
       "      <td>83</td>\n",
       "      <td>65</td>\n",
       "      <td>83</td>\n",
       "      <td>70</td>\n",
       "      <td>86</td>\n",
       "      <td>58</td>\n",
       "      <td>72</td>\n",
       "      <td>48</td>\n",
       "      <td>94</td>\n",
       "      <td>32.400</td>\n",
       "      <td>0.909091</td>\n",
       "    </tr>\n",
       "  </tbody>\n",
       "</table>\n",
       "</div>"
      ],
      "text/plain": [
       "         id            name                  position  age  height weight  \\\n",
       "0    168222  Mats Seuntjens  M (LC), AM (RLC), ST (C)   31  187 cm  78 kg   \n",
       "1    211522     Chris Bedia                    ST (C)   27  190 cm  85 kg   \n",
       "2  11022221    Vedat Muriqi                    ST (C)   29  194 cm  92 kg   \n",
       "3  11024744     Myrto Uzuni   M (L), AM (RLC), ST (C)   28  178 cm  72 kg   \n",
       "4  12092528    Datro Fofana            AM (R), ST (C)   21  181 cm  76 kg   \n",
       "\n",
       "   inf          club          division nationality home_grown personality  \\\n",
       "0  Unh  RKC Waalwijk        Eredivisie         NED          -           -   \n",
       "1    -  Union Berlin        Bundesliga   CIV (FRA)          -           -   \n",
       "2    -      Mallorca  LaLiga EA Sports   KOS (ALB)          -           -   \n",
       "3    -       Granada  LaLiga EA Sports         ALB          -           -   \n",
       "4    -       Burnley    Premier League         CIV          -           -   \n",
       "\n",
       "      media_handling         wage transfer_value asking_price preferred_foot  \\\n",
       "0  Scouting Required   $3,200 p/w  $160K - $1.6M            -          Right   \n",
       "1  Scouting Required  $24,500 p/w  $450K - $4.4M            -           Left   \n",
       "2  Scouting Required  $82,000 p/w    $24M - $30M            -           Left   \n",
       "3  Scouting Required  $11,500 p/w   $90K - $8.8M            -          Right   \n",
       "4  Scouting Required  $69,000 p/w    $21M - $33M            -          Right   \n",
       "\n",
       "   starts  minutes_played  average_rating  sub_appearances  minutes/game  \\\n",
       "0      15            1305            6.60                0         87.00   \n",
       "1      11            1095            6.73                7         60.83   \n",
       "2      19            1341            6.88                0         70.58   \n",
       "3      12             996            6.59                2         71.14   \n",
       "4      13            1187            6.93                6         62.47   \n",
       "\n",
       "   index  goals/90  minutes/goal  xg/90  xg/shot  xg_overperformance/90  \\\n",
       "0      0      0.07       1305.00   0.07     0.06                   0.00   \n",
       "1      1      0.16        547.50   0.26     0.14                  -0.10   \n",
       "2      2      0.47        191.57   0.36     0.20                   0.11   \n",
       "3      3      0.18        498.00   0.16     0.15                   0.02   \n",
       "4      4      0.30        296.75   0.33     0.13                  -0.02   \n",
       "\n",
       "   non_pen_goals/90  non_pen_goals/shot  minutes/non_pen_goal  non_pen_xg/90  \\\n",
       "0              0.07                0.07               1305.00           0.07   \n",
       "1              0.16                0.09                547.50           0.26   \n",
       "2              0.34                0.19                268.20           0.26   \n",
       "3              0.18                0.17                498.00           0.16   \n",
       "4              0.30                0.12                296.75           0.33   \n",
       "\n",
       "   non_pen_goals___non_pens_xg_/90  non_pen_xg/shot  \\\n",
       "0                             0.00             0.06   \n",
       "1                            -0.10             0.14   \n",
       "2                             0.08             0.14   \n",
       "3                             0.02             0.15   \n",
       "4                            -0.03             0.13   \n",
       "\n",
       "   non_pen_xg_overperformance/90  goals_outside_box/90  assists/90  \\\n",
       "0                           0.00                  0.00        0.14   \n",
       "1                          -0.10                  0.00        0.08   \n",
       "2                           0.08                  0.00        0.00   \n",
       "3                           0.02                  0.00        0.09   \n",
       "4                          -0.02                  0.15        0.30   \n",
       "\n",
       "   minutes/assist  xa/90  xa_overperformance  xa_overperformance/90  \\\n",
       "0          652.50   0.08                0.79                   0.05   \n",
       "1         1095.00   0.04                0.51                   0.04   \n",
       "2            0.00   0.03               -0.49                  -0.03   \n",
       "3          996.00   0.10               -0.06                  -0.01   \n",
       "4          296.75   0.14                2.11                   0.16   \n",
       "\n",
       "   assists/clear_cut_chances_created  goal_contributions/90  xgc/90  \\\n",
       "0                               0.00                   0.21    0.15   \n",
       "1                               0.00                   0.25    0.30   \n",
       "2                               0.00                   0.47    0.39   \n",
       "3                               0.00                   0.27    0.26   \n",
       "4                               0.67                   0.61    0.47   \n",
       "\n",
       "   xgc_overperformance/90  non_pen_goal_contributions/90  non_pen_xgc/90  \\\n",
       "0                    0.06                           0.21            0.15   \n",
       "1                   -0.06                           0.25            0.30   \n",
       "2                    0.08                           0.34            0.29   \n",
       "3                    0.01                           0.27            0.26   \n",
       "4                    0.14                           0.61            0.47   \n",
       "\n",
       "   non_pen_xgc_overperformance/90  conversion_%  shots/90  shots_on_target/90  \\\n",
       "0                            0.06             7      1.03                0.48   \n",
       "1                           -0.06             9      1.89                0.66   \n",
       "2                            0.04            26      1.81                0.94   \n",
       "3                            0.01            17      1.08                0.45   \n",
       "4                            0.14            12      2.50                1.36   \n",
       "\n",
       "   shots_on_target_%  shots_outside_box/90  passes_attempted/90  \\\n",
       "0                 47                  0.48                31.45   \n",
       "1                 35                  0.33                24.49   \n",
       "2                 52                  0.13                27.85   \n",
       "3                 42                  0.27                33.43   \n",
       "4                 55                  0.99                20.62   \n",
       "\n",
       "   passes_completed/90  pass_completion_%  progressive_passes/90  \\\n",
       "0                25.45                 81                   1.03   \n",
       "1                20.14                 82                   0.49   \n",
       "2                22.08                 79                   0.40   \n",
       "3                28.73                 86                   1.72   \n",
       "4                17.51                 85                   1.06   \n",
       "\n",
       "   progressive_pass_rate  key_passes/90  key_pass_%  open_play_key_passes/90  \\\n",
       "0                   3.29           0.90        2.85                     0.62   \n",
       "1                   2.01           0.49        2.01                     0.41   \n",
       "2                   1.45           0.40        1.45                     0.40   \n",
       "3                   5.14           0.81        2.43                     0.54   \n",
       "4                   5.15           1.06        5.15                     0.99   \n",
       "\n",
       "   open_play_key_pass_%  chances_created/90  clear_cut_chances_created/90  \\\n",
       "0                  1.97                0.07                          0.07   \n",
       "1                  1.68                0.50                          0.08   \n",
       "2                  1.45                0.13                          0.13   \n",
       "3                  1.62                0.18                          0.18   \n",
       "4                  4.78                1.29                          0.45   \n",
       "\n",
       "   pressures_attempted/90  pressures_completed/90  pressure_success_%  \\\n",
       "0                    9.38                    1.59               16.91   \n",
       "1                    7.23                    1.15               15.91   \n",
       "2                    9.33                    2.42               25.90   \n",
       "3                   15.45                    3.07               19.88   \n",
       "4                    8.11                    1.82               22.43   \n",
       "\n",
       "   possession_won/90  possession_lost/90  poss+_/90  poss+__%  dribbles/90  \\\n",
       "0               5.38               11.52      -6.14    -53.30         2.00   \n",
       "1               5.42                8.96      -3.54    -39.51         1.32   \n",
       "2               6.04                9.19      -3.15    -34.28         0.74   \n",
       "3               7.14               12.29      -5.15    -41.90         2.44   \n",
       "4               4.63                8.95      -4.32    -48.27         1.67   \n",
       "\n",
       "   headers_attempted/90  headers_won/90  headers_won_%  headers_lost/90  \\\n",
       "0                  8.69            4.00          46.03             4.69   \n",
       "1                 12.49            6.00          48.03             6.49   \n",
       "2                 14.56            7.85          53.92             6.71   \n",
       "3                  5.96            1.81          30.30             4.16   \n",
       "4                 11.07            3.18          28.77             7.89   \n",
       "\n",
       "   headers_lost_%  key_headers/90  aerial_challenges_attempted/90  \\\n",
       "0           53.97            0.00                            8.69   \n",
       "1           51.97            0.08                           12.49   \n",
       "2           46.08            0.07                           14.56   \n",
       "3           69.70            0.00                            5.96   \n",
       "4           71.23            0.08                           11.07   \n",
       "\n",
       "   duels_win_%  player_of_the_match  mistakes_leading_to_goal  sprints/90  \\\n",
       "0        52.20                    0                         0       12.07   \n",
       "1        50.00                    0                         0        7.32   \n",
       "2        54.72                    1                         0        9.53   \n",
       "3        50.89                    0                         0       15.72   \n",
       "4        36.05                    0                         1        8.19   \n",
       "\n",
       "   attacking_actions/90  creative_actions/90  defensive_actions/90  \\\n",
       "0                  2.52                 1.03                  8.99   \n",
       "1                  2.04                 0.58                 10.08   \n",
       "2                  2.00                 0.54                 12.27   \n",
       "3                  3.07                 1.08                 11.11   \n",
       "4                  3.82                 1.82                  8.33   \n",
       "\n",
       "   goalkeeping_actions/90  excitement_factor/90  general_performance  \\\n",
       "0                       0                  4.55                   18   \n",
       "1                       0                  3.86                    4   \n",
       "2                       0                  3.15                    5   \n",
       "3                       0                  5.60                   42   \n",
       "4                       0                  7.05                   79   \n",
       "\n",
       "   goalkeeping  defensive_defender  creative_defender  attacking_defender  \\\n",
       "0          100                  65                 57                  51   \n",
       "1          100                  48                 11                   9   \n",
       "2          100                  24                  0                   3   \n",
       "3          100                  94                 72                  48   \n",
       "4          100                  40                 63                  73   \n",
       "\n",
       "   creative_midfielder  attacking_midfielder  creative_winger  \\\n",
       "0                    7                     5               20   \n",
       "1                    2                     1                2   \n",
       "2                    4                    11                1   \n",
       "3                   22                    17               51   \n",
       "4                   80                    83               65   \n",
       "\n",
       "   attacking_winger  creative_forward  attacking_forward  finisher  \\\n",
       "0                25                16                 13         6   \n",
       "1                 3                 6                  2        14   \n",
       "2                 9                12                 15        57   \n",
       "3                30                37                 16        17   \n",
       "4                83                70                 86        58   \n",
       "\n",
       "   aerial_threat  reader  assister  price_estimate_M  \\\n",
       "0             51      59        54             1.056   \n",
       "1             82      77        29             2.910   \n",
       "2             80      83         2            32.400   \n",
       "3             26      82        43             5.334   \n",
       "4             72      48        94            32.400   \n",
       "\n",
       "   non_pen_goals/non_pen_xg/90  \n",
       "0                     1.000000  \n",
       "1                     0.615385  \n",
       "2                     1.307692  \n",
       "3                     1.125000  \n",
       "4                     0.909091  "
      ]
     },
     "execution_count": 38,
     "metadata": {},
     "output_type": "execute_result"
    }
   ],
   "source": [
    "df_players.head()"
   ]
  },
  {
   "cell_type": "code",
   "execution_count": 39,
   "id": "2d4b5cdd",
   "metadata": {},
   "outputs": [
    {
     "data": {
      "application/vnd.plotly.v1+json": {
       "config": {
        "plotlyServerURL": "https://plot.ly"
       },
       "data": [
        {
         "customdata": [
          [
           "Stephen Odey",
           "Randers FC"
          ],
          [
           "Mostafa Mohamed",
           "Nantes"
          ],
          [
           "Tomás Conechny",
           "Godoy Cruz"
          ],
          [
           "Lautaro Martínez",
           "Inter"
          ],
          [
           "Jonatan Torres",
           "Lanús"
          ],
          [
           "Nahuel Bustos",
           "Talleres"
          ],
          [
           "Maximiliano Salas",
           "Racing Club"
          ],
          [
           "Santiago Rodríguez",
           "Instituto"
          ],
          [
           "Jonás Acevedo",
           "Instituto"
          ],
          [
           "Lucas Brochero",
           "Barracas Central"
          ],
          [
           "Mauro Luna Diale",
           "Unión (SF)"
          ],
          [
           "Facundo Colidio",
           "River"
          ],
          [
           "Julián Álvarez",
           "Man City"
          ],
          [
           "Federico Girotti",
           "Talleres"
          ],
          [
           "Justo Giani",
           "Atl. Tucumán"
          ],
          [
           "Jeremías Perales",
           "Banfield"
          ],
          [
           "Rodrigo Castillo",
           "Gimnasia (LP)"
          ],
          [
           "Flabián Londoño",
           "Tigre"
          ],
          [
           "Gonzalo Flores",
           "Tigre"
          ],
          [
           "Thiago Nuss",
           "Central Córdoba (SdE)"
          ],
          [
           "Ivo Mammini",
           "Gimnasia (LP)"
          ],
          [
           "Alan Cantero",
           "GOI"
          ],
          [
           "Ezequiel Naya",
           "Estudiantes (LP)"
          ],
          [
           "Karim Adeyemi",
           "Borussia Dortmund"
          ],
          [
           "Othmane Boussaid",
           "FC Utrecht"
          ],
          [
           "Loïs Openda",
           "RB Leipzig"
          ],
          [
           "Bryan Limbombe",
           "Heracles Almelo"
          ],
          [
           "Pedro",
           "FLA"
          ],
          [
           "Arthur Cabral",
           "SL Benfica"
          ],
          [
           "Paulinho",
           "ATM"
          ],
          [
           "Rodrygo",
           "Real Madrid"
          ],
          [
           "Yuri Alberto",
           "COR"
          ],
          [
           "Vitinho",
           "RB Bragantino"
          ],
          [
           "David da Hora",
           "FOR"
          ],
          [
           "Bruno Marques",
           "SAN"
          ],
          [
           "Lázaro",
           "SEP"
          ],
          [
           "Marcos Leonardo",
           "SL Benfica"
          ],
          [
           "Igor Paixão",
           "Feyenoord"
          ],
          [
           "John Kennedy",
           "FLU"
          ],
          [
           "Matheus Babi",
           "Athlético Paranaense"
          ],
          [
           "Haji Wright",
           "Coventry"
          ],
          [
           "Ondřej Lingr",
           "Feyenoord"
          ],
          [
           "Rezan Çorlu",
           "Lyngby"
          ],
          [
           "Jens Odgaard",
           "Bologna"
          ],
          [
           "Mikkel Damsgaard",
           "Brentford"
          ],
          [
           "Søren Tengstedt",
           "Go Ahead Eagles"
          ],
          [
           "Mileta Rajović",
           "Watford"
          ],
          [
           "Aral Şimşir",
           "FC Midtjylland"
          ],
          [
           "Lirim Qamili",
           "Hvidovre IF"
          ],
          [
           "Alexander Lind",
           "Silkeborg IF"
          ],
          [
           "Anosike Ementa",
           "Viborg FF"
          ],
          [
           "Adam Armstrong",
           "Southampton"
          ],
          [
           "Marcus Rashford",
           "Man Utd"
          ],
          [
           "Iké Ugbo",
           "Sheffield Wednesday"
          ],
          [
           "Josh Maja",
           "West Brom"
          ],
          [
           "Tyrese Campbell",
           "Stoke"
          ],
          [
           "Anthony Gordon",
           "Newcastle"
          ],
          [
           "Ellis Simms",
           "Coventry"
          ],
          [
           "Mason Greenwood",
           "Getafe"
          ],
          [
           "Troy Parrott",
           "Excelsior"
          ],
          [
           "Liam Delap",
           "Hull"
          ],
          [
           "Conor Chaplin",
           "Ipswich"
          ],
          [
           "Dominic Calvert-Lewin",
           "Everton"
          ],
          [
           "Dominic Solanke",
           "Bournemouth"
          ],
          [
           "Ademola Lookman",
           "Atalanta"
          ],
          [
           "Jacob Brown",
           "Luton"
          ],
          [
           "Erling Haaland",
           "Man City"
          ],
          [
           "Fredrik Jensen",
           "Augsburg"
          ],
          [
           "Albert Guðmundsson",
           "Genoa"
          ],
          [
           "Gianluca Scamacca",
           "Atalanta"
          ],
          [
           "Kaj Sierhuis",
           "Fortuna Sittard"
          ],
          [
           "Sam Lammers",
           "FC Utrecht"
          ],
          [
           "Guus Til",
           "PSV"
          ],
          [
           "Delano Burgzorg",
           "Huddersfield"
          ],
          [
           "Joshua Zirkzee",
           "Bologna"
          ],
          [
           "Myron Boadu",
           "FC Twente"
          ],
          [
           "Zakaria Aboukhlal",
           "Toulouse"
          ],
          [
           "Brian Brobbey",
           "Ajax"
          ],
          [
           "Sydney van Hooijdonk",
           "Norwich"
          ],
          [
           "Ole Romeny",
           "FC Utrecht"
          ],
          [
           "Fodé Fofana",
           "Vitesse"
          ],
          [
           "Emanuel Emegha",
           "Strasbourg"
          ],
          [
           "Federico Chiesa",
           "Juventus"
          ],
          [
           "Emmanuel Latte Lath",
           "Middlesbrough"
          ],
          [
           "Andrea Pinamonti",
           "Sassuolo"
          ],
          [
           "Nicolò Zaniolo",
           "Aston Villa"
          ],
          [
           "Lorenzo Lucca",
           "Udinese"
          ],
          [
           "Lorenzo Colombo",
           "Monza"
          ],
          [
           "Keito Nakamura",
           "Stade Reims"
          ],
          [
           "Odsonne Edouard",
           "Crystal Palace"
          ],
          [
           "Marcus Thuram",
           "Inter"
          ],
          [
           "Yann Kitala",
           "Almere City"
          ],
          [
           "Ismaïla Sarr",
           "Marseille"
          ],
          [
           "Frank Magri",
           "Toulouse"
          ],
          [
           "Randal Kolo Muani",
           "PSG"
          ],
          [
           "Amine Gouiri",
           "Rennes"
          ],
          [
           "Georges Mikautadze",
           "Metz"
          ],
          [
           "Georginio Rutter",
           "Leeds"
          ],
          [
           "Hugo Ekitiké",
           "Eintracht Frankfurt"
          ],
          [
           "Chiedozie Ogbene",
           "Luton"
          ],
          [
           "Jørgen Strand Larsen",
           "Celta"
          ],
          [
           "Victor Boniface",
           "Bayer 04"
          ],
          [
           "Ion Nicolăescu",
           "sc Heerenveen"
          ],
          [
           "Khvicha Kvaratskhelia",
           "Napoli"
          ],
          [
           "Issah Abass",
           "Desp. Chaves"
          ],
          [
           "Róbert Boženík",
           "Boavista"
          ],
          [
           "Samson Akinyoola",
           "Montpellier"
          ],
          [
           "Cho Gue-Sung",
           "FC Midtjylland"
          ],
          [
           "Toni Martínez",
           "FC Porto"
          ],
          [
           "Youssef En-Nesyri",
           "Sevilla"
          ],
          [
           "Abel Ruiz",
           "Sp. Braga"
          ],
          [
           "Chris Ramos",
           "Cádiz"
          ],
          [
           "Isaac Romero",
           "Sevilla"
          ],
          [
           "Óscar Estupiñán",
           "BAH"
          ],
          [
           "Luis Suárez",
           "Almería"
          ],
          [
           "Edwuin Cetré",
           "Estudiantes (LP)"
          ],
          [
           "Darwin Núñez",
           "Liverpool"
          ],
          [
           "Thiago Borbas",
           "RB Bragantino"
          ],
          [
           "Blas Armoa",
           "Tigre"
          ],
          [
           "Isidro Pitta",
           "CUI"
          ],
          [
           "Marcelo Pérez",
           "Huracán"
          ],
          [
           "Rafael Leão",
           "Milan"
          ],
          [
           "João Félix",
           "Barcelona"
          ],
          [
           "Aziz Yakubu",
           "Rio Ave"
          ],
          [
           "Malik Abubakari",
           "Viborg FF"
          ],
          [
           "Kylian Mbappé",
           "PSG"
          ],
          [
           "Kai Havertz",
           "Arsenal"
          ],
          [
           "Vangelis Pavlidis",
           "AZ"
          ],
          [
           "Braydon Manu",
           "Darmstadt 98"
          ],
          [
           "Jordan Larsson",
           "FC København"
          ],
          [
           "Joel Asoro",
           "Metz"
          ],
          [
           "Viktor Gyökeres",
           "Sporting CP"
          ],
          [
           "Alexander Isak",
           "Newcastle"
          ],
          [
           "Benjamin Nygren",
           "FC Nordsjælland"
          ],
          [
           "Ernest Poku",
           "AZ"
          ],
          [
           "Franculino Djú",
           "FC Midtjylland"
          ],
          [
           "Figueiredo",
           "CTB"
          ],
          [
           "José Manuel López",
           "SEP"
          ],
          [
           "Victor Hugo",
           "FLA"
          ],
          [
           "Ez Abde",
           "Real Betis"
          ],
          [
           "Jeremías Pérez Tica",
           "Newell's"
          ],
          [
           "Facundo Echevarría",
           "Defensa y Justicia"
          ],
          [
           "Paulo Victor",
           "Desp. Chaves"
          ],
          [
           "Lucca Holanda",
           "INT"
          ],
          [
           "Roony Bardghji",
           "FC København"
          ],
          [
           "Santiago Fernández",
           "Banfield"
          ],
          [
           "Vivaldo Semedo",
           "FC Volendam"
          ],
          [
           "Antoine Joujou",
           "Havre AC"
          ],
          [
           "Renato Marques",
           "AMG"
          ],
          [
           "Jason van Duiven",
           "Almere City"
          ],
          [
           "Giovane",
           "COR"
          ],
          [
           "Aidomo Emakhu",
           "Millwall"
          ],
          [
           "Jerónimo Domina",
           "Unión (SF)"
          ],
          [
           "Jobe Bellingham",
           "Sunderland"
          ],
          [
           "Samu Omorodion",
           "Alavés"
          ],
          [
           "Endrick",
           "SEP"
          ],
          [
           "Pedrinho",
           "GOI"
          ],
          [
           "Ricardo Mathias",
           "INT"
          ],
          [
           "Ibrahim Osman",
           "FC Nordsjælland"
          ],
          [
           "Robert",
           "CEC"
          ],
          [
           "Tiago Benzi",
           "Belgrano"
          ],
          [
           "Jean Gabriel",
           "CTB"
          ]
         ],
         "hovertemplate": "<b>%{customdata[0]}</b><br><b>%{customdata[1]}</b><br><br>open_play_key_passes/90: %{x}<br>chances_created/90: %{y}<br>open_play_key_pass_%: %{marker.color}<extra></extra>",
         "legendgroup": "",
         "marker": {
          "color": {
           "bdata": "PQrXo3A99j8K16NwPQoDQJqZmZmZmRFASOF6FK5HD0DXo3A9CtcJQAAAAAAAABBAZmZmZmZmAkAfhetRuB4FQNejcD0K1wNA16NwPQrXDUDXo3A9CtcFQD0K16NwPQBACtejcD0KAUAfhetRuB75P65H4XoUrg9AKVyPwvUoBkApXI/C9SgIQFK4HoXrUQJA7FG4HoXrA0CPwvUoXI8OQFyPwvUoXAVAMzMzMzMzC0DNzMzMzMwEQEjhehSuRxNAMzMzMzMzC0CF61G4HoUWQGZmZmZmZvY/uB6F61G4DECF61G4HoUTQKRwPQrXoxBAAAAAAAAAGkBSuB6F61EGQKRwPQrXowJAAAAAAAAAAEBxPQrXo3AHQD0K16NwPQJApHA9CtejDkDNzMzMzMwSQMP1KFyPwgtAcT0K16NwC0CuR+F6FK4DQFyPwvUoXAlAj8L1KFyPBkAUrkfhehT+PxSuR+F6FP4/7FG4HoXrA0DXo3A9CtcDQHsUrkfhehhAUrgehetRAEApXI/C9SgEQAAAAAAAAAJAAAAAAAAABEAK16NwPQoSQMP1KFyPwg1Aj8L1KFyPCEBxPQrXo3AQQD0K16NwPQxAFK5H4XoUCEB7FK5H4XoAQHsUrkfhegJACtejcD0K+z/Xo3A9CtcBQK5H4XoUrgtAexSuR+F6BECamZmZmZkPQOF6FK5H4QJAZmZmZmZmAECF61G4HoUFQIXrUbgehQVAAAAAAAAAAkBxPQrXo3D5PwrXo3A9CgNAuB6F61G4+j8K16NwPQoHQLgehetRuP4/rkfhehSuCUAAAAAAAAAAQFK4HoXrUQZAhetRuB6FEECamZmZmZkLQOF6FK5H4QBAPQrXo3A9+j+PwvUoXI8MQEjhehSuRwtAZmZmZmZmBkA9CtejcD0VQMP1KFyPwv0/FK5H4XoU9j8UrkfhehT+P2ZmZmZmZgJASOF6FK5HA0AAAAAAAAD4P4XrUbgehQdAcT0K16Nw/T/D9Shcj8IFQArXo3A9CgFAFK5H4XoUEUB7FK5H4XoOQAAAAAAAAPA/SOF6FK5HEkC4HoXrUbgAQGZmZmZmZvY/H4XrUbgeA0Bcj8L1KFwJQMP1KFyPwhBArkfhehSu+z8zMzMzMzMRQClcj8L1KApAuB6F61G4CkDhehSuR+H2P0jhehSuR/0/pHA9CtejCEBmZmZmZmYOQDMzMzMzMwNAhetRuB6FC0DsUbgehesHQHE9CtejcA1ApHA9Ctej+D8fhetRuB4JQIXrUbgehRJAH4XrUbgeAUDXo3A9CtcDQBSuR+F6FABAj8L1KFyP6j/sUbgehesLQFK4HoXrURlAUrgehetRAEB7FK5H4XoIQGZmZmZmZgRA16NwPQrXBUAK16NwPQr/P7gehetRuABAMzMzMzMzCUCPwvUoXI/6P+F6FK5H4RBA9ihcj8L1F0Bcj8L1KFwHQLgehetRuAhAj8L1KFyPBkAK16NwPQoLQD0K16NwPfo/cT0K16NwB0BSuB6F61ECQClcj8L1KAhA7FG4HoXrD0BxPQrXo3AJQNejcD0K1/8/XI/C9ShcCUD2KFyPwvUAQNejcD0K1/s/AAAAAAAAFkDD9Shcj8IHQArXo3A9CgNA7FG4HoXrA0D2KFyPwvUKQM3MzMzMzAxASOF6FK5HD0AzMzMzMzMFQHE9CtejcBNAhetRuB6FBUAfhetRuB4NQOxRuB6F6w1A",
           "dtype": "f8"
          },
          "coloraxis": "coloraxis",
          "size": 10,
          "symbol": "circle"
         },
         "mode": "markers",
         "name": "",
         "orientation": "v",
         "showlegend": false,
         "textfont": {
          "size": 10
         },
         "textposition": "top center",
         "type": "scatter",
         "x": {
          "bdata": "mpmZmZmZ2T/2KFyPwvXoP3sUrkfhevg/SOF6FK5H9T89CtejcD3qP3E9CtejcO0/j8L1KFyP4j/NzMzMzMzkP/YoXI/C9eg/exSuR+F69D/D9Shcj8LtPwrXo3A9Cu8/zczMzMzM5D8K16NwPQrXPxSuR+F6FPY/H4XrUbge5T9xPQrXo3DxP7gehetRuN4/hetRuB6F4z+PwvUoXI/qP6RwPQrXo+g/PQrXo3A94j9mZmZmZmbmPwAAAAAAAPw/AAAAAAAA8D+amZmZmZnxPz0K16NwPdo/H4XrUbge5T/sUbgehev1P+F6FK5H4fY/ZmZmZmZm+j/2KFyPwvXgP4/C9Shcj+o/uB6F61G43j/Xo3A9CtfjPwrXo3A9Cuc/FK5H4XoU7j+amZmZmZn5PzMzMzMzM+s/pHA9Ctej6D9xPQrXo3DlP7gehetRuPI/ZmZmZmZm7j/hehSuR+HiP7gehetRuOY/4XoUrkfh6j+PwvUoXI/iPz0K16NwPfY/CtejcD0K5z8zMzMzMzPjP3E9CtejcOU/16NwPQrX6z/D9Shcj8L5P0jhehSuR+k/rkfhehSu7z97FK5H4XrsP1yPwvUoXO8/exSuR+F67D/NzMzMzMzkPxSuR+F6FOY/exSuR+F61D/2KFyPwvXoPwrXo3A9Cuc/XI/C9Shc3z9mZmZmZmbuP5qZmZmZmeE/rkfhehSu1z8AAAAAAADoP/YoXI/C9eA/AAAAAAAA6D+uR+F6FK7XPz0K16NwPdo/ZmZmZmZm7j+amZmZmZnpP7gehetRuN4/hetRuB6F4z/hehSuR+HiP3E9CtejcOU/j8L1KFyP8j+F61G4HoXzP4/C9Shcj+I/rkfhehSu1z/hehSuR+HqP83MzMzMzPA/PQrXo3A94j+uR+F6FK77P6RwPQrXo+A/pHA9Ctej0D9SuB6F61HYP1K4HoXrUeA/mpmZmZmZ4T89CtejcD3iP8P1KFyPwvU/PQrXo3A92j9I4XoUrkfhP8P1KFyPwuU/hetRuB6F6z9cj8L1KFznP3sUrkfhesQ/CtejcD0K9z8UrkfhehTePzMzMzMzM9M/9ihcj8L12D97FK5H4XrsP+F6FK5H4fI/UrgehetR2D9I4XoUrkfpP83MzMzMzOw/j8L1KFyP6j8K16NwPQrXP+F6FK5H4do/PQrXo3A96j/NzMzMzMzsP/YoXI/C9eA/9ihcj8L14D9cj8L1KFzzPxSuR+F6FOY/CtejcD0K1z/2KFyPwvXwP4/C9Shcj/I/mpmZmZmZ4T9I4XoUrkfpPx+F61G4HuU/j8L1KFyP0j/Xo3A9CtfrP65H4XoUrgFAKVyPwvUo8D/D9Shcj8LtP4/C9Shcj+I/j8L1KFyP4j+PwvUoXI/iP9ejcD0K1+M/7FG4HoXr4T8AAAAAAADgP+F6FK5H4fI/9ihcj8L19D8pXI/C9SjsP4XrUbgehes/H4XrUbge8T+PwvUoXI/2PwrXo3A9Ctc/mpmZmZmZ6T9I4XoUrkfhPx+F61G4HuU/H4XrUbge+T/D9Shcj8LlP+F6FK5H4do/cT0K16Nw7T+4HoXrUbjeP5qZmZmZmeE/7FG4HoXr9T8UrkfhehTuP0jhehSuR+E/7FG4HoXr9T+4HoXrUbjmP5qZmZmZmek/XI/C9Shc7z8pXI/C9SjkP9ejcD0K1/M/j8L1KFyP4j+amZmZmZnpPwAAAAAAAPQ/",
          "dtype": "f8"
         },
         "xaxis": "x",
         "y": {
          "bdata": "cT0K16Nw5T/2KFyPwvXYP2ZmZmZmZuY/9ihcj8L18D/D9Shcj8LVP3sUrkfheuQ/7FG4HoXr4T/Xo3A9CtfzPwAAAAAAANA/7FG4HoXr0T/2KFyPwvXYPylcj8L1KLw/16NwPQrX0z/NzMzMzMzwPxSuR+F6FOY/MzMzMzMzwz/NzMzMzMz0PwrXo3A9Crc/7FG4HoXr4T/D9Shcj8LFP1K4HoXrUeA/PQrXo3A92j8pXI/C9Si8P/YoXI/C9QZA4XoUrkfh2j/NzMzMzMz0P4/C9Shcj+I/rkfhehSu5z/D9Shcj8L9P6RwPQrXo+A/KVyPwvUo/D+amZmZmZnJP5qZmZmZmdk/ZmZmZmZm5j9I4XoUrkfpP6RwPQrXo/A/PQrXo3A99j8fhetRuB79P2ZmZmZmZtY/zczMzMzM5D9cj8L1KFznP6RwPQrXo+g/4XoUrkfh4j/hehSuR+HiP7gehetRuM4/FK5H4XoU3j9xPQrXo3DNPwrXo3A9CvM/AAAAAAAA4D+4HoXrUbjOPwAAAAAAANA/9ihcj8L14D8K16NwPQrXP6RwPQrXo9A/zczMzMzM3D+4HoXrUbjmPz0K16NwPeo/XI/C9Shc8z9SuB6F61HIP3E9CtejcN0/mpmZmZmZyT/2KFyPwvX0PwrXo3A9Cuc/4XoUrkfhyj/hehSuR+HqPz0K16NwPdo/exSuR+F6tD+kcD0K16PQP6RwPQrXo9A/UrgehetR4D8zMzMzMzPTP3sUrkfhesQ/4XoUrkfh4j+amZmZmZnJP7gehetRuM4/CtejcD0K8z9xPQrXo3DdP9ejcD0K1/c/UrgehetR+D8zMzMzMzP3PxSuR+F6FO4/uB6F61G4vj9xPQrXo3DdP+F6FK5H4eo/H4XrUbge1T/sUbgehev9P6RwPQrXo8A/MzMzMzMzwz+4HoXrUbiuP/YoXI/C9fQ/UrgehetR2D9SuB6F61HIP6RwPQrXo/Q/ZmZmZmZm8j+PwvUoXI/iPwAAAAAAAOA/hetRuB6F2z/Xo3A9CtfTPwAAAAAAAAAArkfhehSu+z9xPQrXo3DNP3sUrkfherQ/16NwPQrX0z/D9Shcj8LtP+xRuB6F6+E/AAAAAAAAAAAzMzMzMzPTP+xRuB6F6+E/exSuR+F6+D8K16NwPQrXP3sUrkfherQ/PQrXo3A92j89CtejcD3qPwAAAAAAANA/CtejcD0Kxz+PwvUoXI/6P3sUrkfheuQ/w/UoXI/C5T89CtejcD3qP4/C9Shcj/o/cT0K16NwzT/2KFyPwvXwPxSuR+F6FN4/KVyPwvUovD/sUbgehevBP1K4HoXrUQpAzczMzMzM+D/NzMzMzMzkPz0K16NwPfI/SOF6FK5H0T97FK5H4Xq0P/YoXI/C9dg/hetRuB6F2z+amZmZmZnhP8P1KFyPwgNA7FG4HoXr+T9I4XoUrkf9P4/C9Shcj/I/9ihcj8L16D9xPQrXo3DtP7gehetRuJ4/pHA9Ctej6D+F61G4HoXbPzMzMzMzM+M/CtejcD0KA0ApXI/C9Si8P3E9CtejcM0/w/UoXI/CxT/hehSuR+HqP9ejcD0K19M/CtejcD0Ktz8UrkfhehTeP65H4XoUrtc/4XoUrkfh2j/D9Shcj8LFP3sUrkfheuQ/PQrXo3A9AECamZmZmZm5PzMzMzMzM/M/w/UoXI/C1T97FK5H4Xq0P9ejcD0K19M/",
          "dtype": "f8"
         },
         "yaxis": "y"
        }
       ],
       "layout": {
        "coloraxis": {
         "colorbar": {
          "title": {
           "text": "open_play_key_pass_%"
          }
         },
         "colorscale": [
          [
           0,
           "rgb(165,0,38)"
          ],
          [
           0.1,
           "rgb(215,48,39)"
          ],
          [
           0.2,
           "rgb(244,109,67)"
          ],
          [
           0.3,
           "rgb(253,174,97)"
          ],
          [
           0.4,
           "rgb(254,224,139)"
          ],
          [
           0.5,
           "rgb(255,255,191)"
          ],
          [
           0.6,
           "rgb(217,239,139)"
          ],
          [
           0.7,
           "rgb(166,217,106)"
          ],
          [
           0.8,
           "rgb(102,189,99)"
          ],
          [
           0.9,
           "rgb(26,152,80)"
          ],
          [
           1,
           "rgb(0,104,55)"
          ]
         ],
         "showscale": false
        },
        "height": 700,
        "legend": {
         "tracegroupgap": 0
        },
        "paper_bgcolor": "darkgray",
        "plot_bgcolor": "darkgray",
        "template": {
         "data": {
          "bar": [
           {
            "error_x": {
             "color": "#2a3f5f"
            },
            "error_y": {
             "color": "#2a3f5f"
            },
            "marker": {
             "line": {
              "color": "#E5ECF6",
              "width": 0.5
             },
             "pattern": {
              "fillmode": "overlay",
              "size": 10,
              "solidity": 0.2
             }
            },
            "type": "bar"
           }
          ],
          "barpolar": [
           {
            "marker": {
             "line": {
              "color": "#E5ECF6",
              "width": 0.5
             },
             "pattern": {
              "fillmode": "overlay",
              "size": 10,
              "solidity": 0.2
             }
            },
            "type": "barpolar"
           }
          ],
          "carpet": [
           {
            "aaxis": {
             "endlinecolor": "#2a3f5f",
             "gridcolor": "white",
             "linecolor": "white",
             "minorgridcolor": "white",
             "startlinecolor": "#2a3f5f"
            },
            "baxis": {
             "endlinecolor": "#2a3f5f",
             "gridcolor": "white",
             "linecolor": "white",
             "minorgridcolor": "white",
             "startlinecolor": "#2a3f5f"
            },
            "type": "carpet"
           }
          ],
          "choropleth": [
           {
            "colorbar": {
             "outlinewidth": 0,
             "ticks": ""
            },
            "type": "choropleth"
           }
          ],
          "contour": [
           {
            "colorbar": {
             "outlinewidth": 0,
             "ticks": ""
            },
            "colorscale": [
             [
              0,
              "#0d0887"
             ],
             [
              0.1111111111111111,
              "#46039f"
             ],
             [
              0.2222222222222222,
              "#7201a8"
             ],
             [
              0.3333333333333333,
              "#9c179e"
             ],
             [
              0.4444444444444444,
              "#bd3786"
             ],
             [
              0.5555555555555556,
              "#d8576b"
             ],
             [
              0.6666666666666666,
              "#ed7953"
             ],
             [
              0.7777777777777778,
              "#fb9f3a"
             ],
             [
              0.8888888888888888,
              "#fdca26"
             ],
             [
              1,
              "#f0f921"
             ]
            ],
            "type": "contour"
           }
          ],
          "contourcarpet": [
           {
            "colorbar": {
             "outlinewidth": 0,
             "ticks": ""
            },
            "type": "contourcarpet"
           }
          ],
          "heatmap": [
           {
            "colorbar": {
             "outlinewidth": 0,
             "ticks": ""
            },
            "colorscale": [
             [
              0,
              "#0d0887"
             ],
             [
              0.1111111111111111,
              "#46039f"
             ],
             [
              0.2222222222222222,
              "#7201a8"
             ],
             [
              0.3333333333333333,
              "#9c179e"
             ],
             [
              0.4444444444444444,
              "#bd3786"
             ],
             [
              0.5555555555555556,
              "#d8576b"
             ],
             [
              0.6666666666666666,
              "#ed7953"
             ],
             [
              0.7777777777777778,
              "#fb9f3a"
             ],
             [
              0.8888888888888888,
              "#fdca26"
             ],
             [
              1,
              "#f0f921"
             ]
            ],
            "type": "heatmap"
           }
          ],
          "histogram": [
           {
            "marker": {
             "pattern": {
              "fillmode": "overlay",
              "size": 10,
              "solidity": 0.2
             }
            },
            "type": "histogram"
           }
          ],
          "histogram2d": [
           {
            "colorbar": {
             "outlinewidth": 0,
             "ticks": ""
            },
            "colorscale": [
             [
              0,
              "#0d0887"
             ],
             [
              0.1111111111111111,
              "#46039f"
             ],
             [
              0.2222222222222222,
              "#7201a8"
             ],
             [
              0.3333333333333333,
              "#9c179e"
             ],
             [
              0.4444444444444444,
              "#bd3786"
             ],
             [
              0.5555555555555556,
              "#d8576b"
             ],
             [
              0.6666666666666666,
              "#ed7953"
             ],
             [
              0.7777777777777778,
              "#fb9f3a"
             ],
             [
              0.8888888888888888,
              "#fdca26"
             ],
             [
              1,
              "#f0f921"
             ]
            ],
            "type": "histogram2d"
           }
          ],
          "histogram2dcontour": [
           {
            "colorbar": {
             "outlinewidth": 0,
             "ticks": ""
            },
            "colorscale": [
             [
              0,
              "#0d0887"
             ],
             [
              0.1111111111111111,
              "#46039f"
             ],
             [
              0.2222222222222222,
              "#7201a8"
             ],
             [
              0.3333333333333333,
              "#9c179e"
             ],
             [
              0.4444444444444444,
              "#bd3786"
             ],
             [
              0.5555555555555556,
              "#d8576b"
             ],
             [
              0.6666666666666666,
              "#ed7953"
             ],
             [
              0.7777777777777778,
              "#fb9f3a"
             ],
             [
              0.8888888888888888,
              "#fdca26"
             ],
             [
              1,
              "#f0f921"
             ]
            ],
            "type": "histogram2dcontour"
           }
          ],
          "mesh3d": [
           {
            "colorbar": {
             "outlinewidth": 0,
             "ticks": ""
            },
            "type": "mesh3d"
           }
          ],
          "parcoords": [
           {
            "line": {
             "colorbar": {
              "outlinewidth": 0,
              "ticks": ""
             }
            },
            "type": "parcoords"
           }
          ],
          "pie": [
           {
            "automargin": true,
            "type": "pie"
           }
          ],
          "scatter": [
           {
            "fillpattern": {
             "fillmode": "overlay",
             "size": 10,
             "solidity": 0.2
            },
            "type": "scatter"
           }
          ],
          "scatter3d": [
           {
            "line": {
             "colorbar": {
              "outlinewidth": 0,
              "ticks": ""
             }
            },
            "marker": {
             "colorbar": {
              "outlinewidth": 0,
              "ticks": ""
             }
            },
            "type": "scatter3d"
           }
          ],
          "scattercarpet": [
           {
            "marker": {
             "colorbar": {
              "outlinewidth": 0,
              "ticks": ""
             }
            },
            "type": "scattercarpet"
           }
          ],
          "scattergeo": [
           {
            "marker": {
             "colorbar": {
              "outlinewidth": 0,
              "ticks": ""
             }
            },
            "type": "scattergeo"
           }
          ],
          "scattergl": [
           {
            "marker": {
             "colorbar": {
              "outlinewidth": 0,
              "ticks": ""
             }
            },
            "type": "scattergl"
           }
          ],
          "scattermap": [
           {
            "marker": {
             "colorbar": {
              "outlinewidth": 0,
              "ticks": ""
             }
            },
            "type": "scattermap"
           }
          ],
          "scattermapbox": [
           {
            "marker": {
             "colorbar": {
              "outlinewidth": 0,
              "ticks": ""
             }
            },
            "type": "scattermapbox"
           }
          ],
          "scatterpolar": [
           {
            "marker": {
             "colorbar": {
              "outlinewidth": 0,
              "ticks": ""
             }
            },
            "type": "scatterpolar"
           }
          ],
          "scatterpolargl": [
           {
            "marker": {
             "colorbar": {
              "outlinewidth": 0,
              "ticks": ""
             }
            },
            "type": "scatterpolargl"
           }
          ],
          "scatterternary": [
           {
            "marker": {
             "colorbar": {
              "outlinewidth": 0,
              "ticks": ""
             }
            },
            "type": "scatterternary"
           }
          ],
          "surface": [
           {
            "colorbar": {
             "outlinewidth": 0,
             "ticks": ""
            },
            "colorscale": [
             [
              0,
              "#0d0887"
             ],
             [
              0.1111111111111111,
              "#46039f"
             ],
             [
              0.2222222222222222,
              "#7201a8"
             ],
             [
              0.3333333333333333,
              "#9c179e"
             ],
             [
              0.4444444444444444,
              "#bd3786"
             ],
             [
              0.5555555555555556,
              "#d8576b"
             ],
             [
              0.6666666666666666,
              "#ed7953"
             ],
             [
              0.7777777777777778,
              "#fb9f3a"
             ],
             [
              0.8888888888888888,
              "#fdca26"
             ],
             [
              1,
              "#f0f921"
             ]
            ],
            "type": "surface"
           }
          ],
          "table": [
           {
            "cells": {
             "fill": {
              "color": "#EBF0F8"
             },
             "line": {
              "color": "white"
             }
            },
            "header": {
             "fill": {
              "color": "#C8D4E3"
             },
             "line": {
              "color": "white"
             }
            },
            "type": "table"
           }
          ]
         },
         "layout": {
          "annotationdefaults": {
           "arrowcolor": "#2a3f5f",
           "arrowhead": 0,
           "arrowwidth": 1
          },
          "autotypenumbers": "strict",
          "coloraxis": {
           "colorbar": {
            "outlinewidth": 0,
            "ticks": ""
           }
          },
          "colorscale": {
           "diverging": [
            [
             0,
             "#8e0152"
            ],
            [
             0.1,
             "#c51b7d"
            ],
            [
             0.2,
             "#de77ae"
            ],
            [
             0.3,
             "#f1b6da"
            ],
            [
             0.4,
             "#fde0ef"
            ],
            [
             0.5,
             "#f7f7f7"
            ],
            [
             0.6,
             "#e6f5d0"
            ],
            [
             0.7,
             "#b8e186"
            ],
            [
             0.8,
             "#7fbc41"
            ],
            [
             0.9,
             "#4d9221"
            ],
            [
             1,
             "#276419"
            ]
           ],
           "sequential": [
            [
             0,
             "#0d0887"
            ],
            [
             0.1111111111111111,
             "#46039f"
            ],
            [
             0.2222222222222222,
             "#7201a8"
            ],
            [
             0.3333333333333333,
             "#9c179e"
            ],
            [
             0.4444444444444444,
             "#bd3786"
            ],
            [
             0.5555555555555556,
             "#d8576b"
            ],
            [
             0.6666666666666666,
             "#ed7953"
            ],
            [
             0.7777777777777778,
             "#fb9f3a"
            ],
            [
             0.8888888888888888,
             "#fdca26"
            ],
            [
             1,
             "#f0f921"
            ]
           ],
           "sequentialminus": [
            [
             0,
             "#0d0887"
            ],
            [
             0.1111111111111111,
             "#46039f"
            ],
            [
             0.2222222222222222,
             "#7201a8"
            ],
            [
             0.3333333333333333,
             "#9c179e"
            ],
            [
             0.4444444444444444,
             "#bd3786"
            ],
            [
             0.5555555555555556,
             "#d8576b"
            ],
            [
             0.6666666666666666,
             "#ed7953"
            ],
            [
             0.7777777777777778,
             "#fb9f3a"
            ],
            [
             0.8888888888888888,
             "#fdca26"
            ],
            [
             1,
             "#f0f921"
            ]
           ]
          },
          "colorway": [
           "#636efa",
           "#EF553B",
           "#00cc96",
           "#ab63fa",
           "#FFA15A",
           "#19d3f3",
           "#FF6692",
           "#B6E880",
           "#FF97FF",
           "#FECB52"
          ],
          "font": {
           "color": "#2a3f5f"
          },
          "geo": {
           "bgcolor": "white",
           "lakecolor": "white",
           "landcolor": "#E5ECF6",
           "showlakes": true,
           "showland": true,
           "subunitcolor": "white"
          },
          "hoverlabel": {
           "align": "left"
          },
          "hovermode": "closest",
          "mapbox": {
           "style": "light"
          },
          "paper_bgcolor": "white",
          "plot_bgcolor": "#E5ECF6",
          "polar": {
           "angularaxis": {
            "gridcolor": "white",
            "linecolor": "white",
            "ticks": ""
           },
           "bgcolor": "#E5ECF6",
           "radialaxis": {
            "gridcolor": "white",
            "linecolor": "white",
            "ticks": ""
           }
          },
          "scene": {
           "xaxis": {
            "backgroundcolor": "#E5ECF6",
            "gridcolor": "white",
            "gridwidth": 2,
            "linecolor": "white",
            "showbackground": true,
            "ticks": "",
            "zerolinecolor": "white"
           },
           "yaxis": {
            "backgroundcolor": "#E5ECF6",
            "gridcolor": "white",
            "gridwidth": 2,
            "linecolor": "white",
            "showbackground": true,
            "ticks": "",
            "zerolinecolor": "white"
           },
           "zaxis": {
            "backgroundcolor": "#E5ECF6",
            "gridcolor": "white",
            "gridwidth": 2,
            "linecolor": "white",
            "showbackground": true,
            "ticks": "",
            "zerolinecolor": "white"
           }
          },
          "shapedefaults": {
           "line": {
            "color": "#2a3f5f"
           }
          },
          "ternary": {
           "aaxis": {
            "gridcolor": "white",
            "linecolor": "white",
            "ticks": ""
           },
           "baxis": {
            "gridcolor": "white",
            "linecolor": "white",
            "ticks": ""
           },
           "bgcolor": "#E5ECF6",
           "caxis": {
            "gridcolor": "white",
            "linecolor": "white",
            "ticks": ""
           }
          },
          "title": {
           "x": 0.05
          },
          "xaxis": {
           "automargin": true,
           "gridcolor": "white",
           "linecolor": "white",
           "ticks": "",
           "title": {
            "standoff": 15
           },
           "zerolinecolor": "white",
           "zerolinewidth": 2
          },
          "yaxis": {
           "automargin": true,
           "gridcolor": "white",
           "linecolor": "white",
           "ticks": "",
           "title": {
            "standoff": 15
           },
           "zerolinecolor": "white",
           "zerolinewidth": 2
          }
         }
        },
        "title": {
         "text": "Creativity ( 162)",
         "x": 0.5,
         "xanchor": "center"
        },
        "width": 1200,
        "xaxis": {
         "anchor": "y",
         "domain": [
          0,
          1
         ],
         "gridcolor": "white",
         "showgrid": true,
         "title": {
          "text": "open_play_key_passes/90"
         },
         "zeroline": false
        },
        "yaxis": {
         "anchor": "x",
         "domain": [
          0,
          1
         ],
         "gridcolor": "white",
         "showgrid": true,
         "title": {
          "text": "chances_created/90"
         },
         "zeroline": false
        }
       }
      }
     },
     "metadata": {},
     "output_type": "display_data"
    }
   ],
   "source": [
    "# Full universe \n",
    "scatter_plot(df_targets,\n",
    "             x_metric='open_play_key_passes/90', \n",
    "             y_metric='chances_created/90',\n",
    "             z_metric='open_play_key_pass_%',\n",
    "             title='Creativity', \n",
    "             show_name_label=False\n",
    ")"
   ]
  },
  {
   "cell_type": "code",
   "execution_count": 42,
   "id": "04e9f933",
   "metadata": {},
   "outputs": [
    {
     "data": {
      "application/vnd.plotly.v1+json": {
       "config": {
        "plotlyServerURL": "https://plot.ly"
       },
       "data": [
        {
         "customdata": [
          [
           "Stephen Odey",
           "Randers FC"
          ],
          [
           "Mostafa Mohamed",
           "Nantes"
          ],
          [
           "Tomás Conechny",
           "Godoy Cruz"
          ],
          [
           "Jonatan Torres",
           "Lanús"
          ],
          [
           "Nahuel Bustos",
           "Talleres"
          ],
          [
           "Maximiliano Salas",
           "Racing Club"
          ],
          [
           "Santiago Rodríguez",
           "Instituto"
          ],
          [
           "Jonás Acevedo",
           "Instituto"
          ],
          [
           "Lucas Brochero",
           "Barracas Central"
          ],
          [
           "Mauro Luna Diale",
           "Unión (SF)"
          ],
          [
           "Federico Girotti",
           "Talleres"
          ],
          [
           "Justo Giani",
           "Atl. Tucumán"
          ],
          [
           "Rodrigo Castillo",
           "Gimnasia (LP)"
          ],
          [
           "Gonzalo Flores",
           "Tigre"
          ],
          [
           "Ivo Mammini",
           "Gimnasia (LP)"
          ],
          [
           "Alan Cantero",
           "GOI"
          ],
          [
           "Othmane Boussaid",
           "FC Utrecht"
          ],
          [
           "Bryan Limbombe",
           "Heracles Almelo"
          ],
          [
           "Pedro",
           "FLA"
          ],
          [
           "Arthur Cabral",
           "SL Benfica"
          ],
          [
           "Paulinho",
           "ATM"
          ],
          [
           "Yuri Alberto",
           "COR"
          ],
          [
           "Vitinho",
           "RB Bragantino"
          ],
          [
           "David da Hora",
           "FOR"
          ],
          [
           "Bruno Marques",
           "SAN"
          ],
          [
           "Lázaro",
           "SEP"
          ],
          [
           "Marcos Leonardo",
           "SL Benfica"
          ],
          [
           "Igor Paixão",
           "Feyenoord"
          ],
          [
           "John Kennedy",
           "FLU"
          ],
          [
           "Matheus Babi",
           "Athlético Paranaense"
          ],
          [
           "Haji Wright",
           "Coventry"
          ],
          [
           "Ondřej Lingr",
           "Feyenoord"
          ],
          [
           "Rezan Çorlu",
           "Lyngby"
          ],
          [
           "Jens Odgaard",
           "Bologna"
          ],
          [
           "Søren Tengstedt",
           "Go Ahead Eagles"
          ],
          [
           "Mileta Rajović",
           "Watford"
          ],
          [
           "Aral Şimşir",
           "FC Midtjylland"
          ],
          [
           "Lirim Qamili",
           "Hvidovre IF"
          ],
          [
           "Alexander Lind",
           "Silkeborg IF"
          ],
          [
           "Anosike Ementa",
           "Viborg FF"
          ],
          [
           "Adam Armstrong",
           "Southampton"
          ],
          [
           "Iké Ugbo",
           "Sheffield Wednesday"
          ],
          [
           "Josh Maja",
           "West Brom"
          ],
          [
           "Tyrese Campbell",
           "Stoke"
          ],
          [
           "Ellis Simms",
           "Coventry"
          ],
          [
           "Troy Parrott",
           "Excelsior"
          ],
          [
           "Conor Chaplin",
           "Ipswich"
          ],
          [
           "Jacob Brown",
           "Luton"
          ],
          [
           "Fredrik Jensen",
           "Augsburg"
          ],
          [
           "Albert Guðmundsson",
           "Genoa"
          ],
          [
           "Kaj Sierhuis",
           "Fortuna Sittard"
          ],
          [
           "Guus Til",
           "PSV"
          ],
          [
           "Delano Burgzorg",
           "Huddersfield"
          ],
          [
           "Myron Boadu",
           "FC Twente"
          ],
          [
           "Zakaria Aboukhlal",
           "Toulouse"
          ],
          [
           "Sydney van Hooijdonk",
           "Norwich"
          ],
          [
           "Ole Romeny",
           "FC Utrecht"
          ],
          [
           "Fodé Fofana",
           "Vitesse"
          ],
          [
           "Emmanuel Latte Lath",
           "Middlesbrough"
          ],
          [
           "Andrea Pinamonti",
           "Sassuolo"
          ],
          [
           "Nicolò Zaniolo",
           "Aston Villa"
          ],
          [
           "Odsonne Edouard",
           "Crystal Palace"
          ],
          [
           "Ismaïla Sarr",
           "Marseille"
          ],
          [
           "Frank Magri",
           "Toulouse"
          ],
          [
           "Georges Mikautadze",
           "Metz"
          ],
          [
           "Chiedozie Ogbene",
           "Luton"
          ],
          [
           "Ion Nicolăescu",
           "sc Heerenveen"
          ],
          [
           "Issah Abass",
           "Desp. Chaves"
          ],
          [
           "Samson Akinyoola",
           "Montpellier"
          ],
          [
           "Cho Gue-Sung",
           "FC Midtjylland"
          ],
          [
           "Toni Martínez",
           "FC Porto"
          ],
          [
           "Chris Ramos",
           "Cádiz"
          ],
          [
           "Isaac Romero",
           "Sevilla"
          ],
          [
           "Óscar Estupiñán",
           "BAH"
          ],
          [
           "Edwuin Cetré",
           "Estudiantes (LP)"
          ],
          [
           "Thiago Borbas",
           "RB Bragantino"
          ],
          [
           "Blas Armoa",
           "Tigre"
          ],
          [
           "Isidro Pitta",
           "CUI"
          ],
          [
           "Marcelo Pérez",
           "Huracán"
          ],
          [
           "Vangelis Pavlidis",
           "AZ"
          ],
          [
           "Braydon Manu",
           "Darmstadt 98"
          ],
          [
           "Jordan Larsson",
           "FC København"
          ],
          [
           "Benjamin Nygren",
           "FC Nordsjælland"
          ],
          [
           "Franculino Djú",
           "FC Midtjylland"
          ],
          [
           "Figueiredo",
           "CTB"
          ],
          [
           "José Manuel López",
           "SEP"
          ],
          [
           "Victor Hugo",
           "FLA"
          ],
          [
           "Facundo Echevarría",
           "Defensa y Justicia"
          ],
          [
           "Paulo Victor",
           "Desp. Chaves"
          ],
          [
           "Lucca Holanda",
           "INT"
          ],
          [
           "Roony Bardghji",
           "FC København"
          ],
          [
           "Vivaldo Semedo",
           "FC Volendam"
          ],
          [
           "Renato Marques",
           "AMG"
          ],
          [
           "Jason van Duiven",
           "Almere City"
          ],
          [
           "Aidomo Emakhu",
           "Millwall"
          ],
          [
           "Jerónimo Domina",
           "Unión (SF)"
          ],
          [
           "Jobe Bellingham",
           "Sunderland"
          ],
          [
           "Endrick",
           "SEP"
          ],
          [
           "Pedrinho",
           "GOI"
          ],
          [
           "Ibrahim Osman",
           "FC Nordsjælland"
          ],
          [
           "Robert",
           "CEC"
          ],
          [
           "Jean Gabriel",
           "CTB"
          ]
         ],
         "hovertemplate": "<b>%{customdata[0]}</b><br><b>%{customdata[1]}</b><br><br>open_play_key_passes/90: %{x}<br>chances_created/90: %{y}<br>open_play_key_pass_%: %{marker.color}<extra></extra>",
         "legendgroup": "",
         "marker": {
          "color": {
           "bdata": "PQrXo3A99j8K16NwPQoDQJqZmZmZmRFA16NwPQrXCUAAAAAAAAAQQGZmZmZmZgJAH4XrUbgeBUDXo3A9CtcDQNejcD0K1w1A16NwPQrXBUAfhetRuB75P65H4XoUrg9AKVyPwvUoCEDsUbgehesDQFyPwvUoXAVAMzMzMzMzC0AzMzMzMzMLQGZmZmZmZvY/uB6F61G4DECF61G4HoUTQKRwPQrXoxBAUrgehetRBkCkcD0K16MCQAAAAAAAAABAcT0K16NwB0A9CtejcD0CQKRwPQrXow5AzczMzMzMEkDD9Shcj8ILQHE9CtejcAtArkfhehSuA0Bcj8L1KFwJQI/C9ShcjwZAFK5H4XoU/j/sUbgehesDQNejcD0K1wNAexSuR+F6GEBSuB6F61EAQClcj8L1KARAAAAAAAAAAkAAAAAAAAAEQMP1KFyPwg1Aj8L1KFyPCEBxPQrXo3AQQBSuR+F6FAhAexSuR+F6AkDXo3A9CtcBQOF6FK5H4QJAhetRuB6FBUCF61G4HoUFQHE9CtejcPk/uB6F61G4+j8K16NwPQoHQK5H4XoUrglAAAAAAAAAAECF61G4HoUQQJqZmZmZmQtA4XoUrkfhAEBI4XoUrkcLQGZmZmZmZgZAPQrXo3A9FUBmZmZmZmYCQIXrUbgehQdAcT0K16Nw/T8UrkfhehQRQEjhehSuRxJAH4XrUbgeA0DD9Shcj8IQQDMzMzMzMxFAKVyPwvUoCkC4HoXrUbgKQKRwPQrXowhAZmZmZmZmDkAzMzMzMzMDQOxRuB6F6wdApHA9Ctej+D8fhetRuB4JQIXrUbgehRJAH4XrUbgeAUB7FK5H4XoIQGZmZmZmZgRA16NwPQrXBUCPwvUoXI/6P/YoXI/C9RdAXI/C9ShcB0C4HoXrUbgIQI/C9ShcjwZAcT0K16NwB0BSuB6F61ECQClcj8L1KAhA7FG4HoXrD0DXo3A9Ctf/P/YoXI/C9QBA16NwPQrX+z/D9Shcj8IHQArXo3A9CgNA7FG4HoXrA0DNzMzMzMwMQEjhehSuRw9AcT0K16NwE0CF61G4HoUFQOxRuB6F6w1A",
           "dtype": "f8"
          },
          "coloraxis": "coloraxis",
          "size": 10,
          "symbol": "circle"
         },
         "mode": "markers",
         "name": "",
         "orientation": "v",
         "showlegend": false,
         "textfont": {
          "size": 10
         },
         "textposition": "top center",
         "type": "scatter",
         "x": {
          "bdata": "mpmZmZmZ2T/2KFyPwvXoP3sUrkfhevg/PQrXo3A96j9xPQrXo3DtP4/C9Shcj+I/zczMzMzM5D/2KFyPwvXoP3sUrkfhevQ/w/UoXI/C7T8K16NwPQrXPxSuR+F6FPY/cT0K16Nw8T+F61G4HoXjP6RwPQrXo+g/PQrXo3A94j8AAAAAAADwPz0K16NwPdo/H4XrUbge5T/sUbgehev1P+F6FK5H4fY/9ihcj8L14D+PwvUoXI/qP7gehetRuN4/16NwPQrX4z8K16NwPQrnPxSuR+F6FO4/mpmZmZmZ+T8zMzMzMzPrP6RwPQrXo+g/cT0K16Nw5T+4HoXrUbjyP2ZmZmZmZu4/4XoUrkfh4j/hehSuR+HqP4/C9Shcj+I/PQrXo3A99j8K16NwPQrnPzMzMzMzM+M/cT0K16Nw5T/Xo3A9CtfrP0jhehSuR+k/rkfhehSu7z97FK5H4XrsP3sUrkfheuw/FK5H4XoU5j/2KFyPwvXoP5qZmZmZmeE/AAAAAAAA6D/2KFyPwvXgP65H4XoUrtc/ZmZmZmZm7j+amZmZmZnpP4XrUbgeheM/4XoUrkfh4j+PwvUoXI/yP4XrUbgehfM/j8L1KFyP4j/NzMzMzMzwPz0K16NwPeI/rkfhehSu+z9SuB6F61HgP8P1KFyPwvU/PQrXo3A92j+F61G4HoXrPwrXo3A9Cvc/9ihcj8L12D/hehSuR+HyP0jhehSuR+k/zczMzMzM7D+PwvUoXI/qPz0K16NwPeo/zczMzMzM7D/2KFyPwvXgP1yPwvUoXPM/CtejcD0K1z/2KFyPwvXwP4/C9Shcj/I/mpmZmZmZ4T/D9Shcj8LtP4/C9Shcj+I/j8L1KFyP4j8AAAAAAADgP/YoXI/C9fQ/KVyPwvUo7D+F61G4HoXrPx+F61G4HvE/mpmZmZmZ6T9I4XoUrkfhPx+F61G4HuU/H4XrUbge+T/hehSuR+HaP7gehetRuN4/mpmZmZmZ4T8UrkfhehTuP0jhehSuR+E/7FG4HoXr9T+amZmZmZnpP1yPwvUoXO8/16NwPQrX8z+PwvUoXI/iPwAAAAAAAPQ/",
          "dtype": "f8"
         },
         "xaxis": "x",
         "y": {
          "bdata": "cT0K16Nw5T/2KFyPwvXYP2ZmZmZmZuY/w/UoXI/C1T97FK5H4XrkP+xRuB6F6+E/16NwPQrX8z8AAAAAAADQP+xRuB6F69E/9ihcj8L12D/NzMzMzMzwPxSuR+F6FOY/zczMzMzM9D/sUbgehevhP1K4HoXrUeA/PQrXo3A92j/hehSuR+HaP4/C9Shcj+I/rkfhehSu5z/D9Shcj8L9P6RwPQrXo+A/mpmZmZmZyT+amZmZmZnZP2ZmZmZmZuY/SOF6FK5H6T+kcD0K16PwPz0K16NwPfY/H4XrUbge/T9mZmZmZmbWP83MzMzMzOQ/XI/C9Shc5z+kcD0K16PoP+F6FK5H4eI/4XoUrkfh4j8UrkfhehTeP3E9CtejcM0/CtejcD0K8z8AAAAAAADgP7gehetRuM4/AAAAAAAA0D/2KFyPwvXgP6RwPQrXo9A/zczMzMzM3D+4HoXrUbjmP1yPwvUoXPM/cT0K16Nw3T/2KFyPwvX0Pz0K16NwPdo/pHA9Ctej0D+kcD0K16PQPzMzMzMzM9M/4XoUrkfh4j+amZmZmZnJPwrXo3A9CvM/cT0K16Nw3T9SuB6F61H4PzMzMzMzM/c/FK5H4XoU7j/hehSuR+HqPx+F61G4HtU/7FG4HoXr/T/2KFyPwvX0P6RwPQrXo/Q/ZmZmZmZm8j+F61G4HoXbP65H4XoUrvs/16NwPQrX0z/sUbgehevhPzMzMzMzM9M/7FG4HoXr4T97FK5H4Xr4Pz0K16NwPdo/PQrXo3A96j8AAAAAAADQP4/C9Shcj/o/w/UoXI/C5T89CtejcD3qP4/C9Shcj/o/cT0K16NwzT/NzMzMzMzkPz0K16NwPfI/SOF6FK5H0T+amZmZmZnhP+xRuB6F6/k/SOF6FK5H/T+PwvUoXI/yP/YoXI/C9eg/pHA9Ctej6D+F61G4HoXbPzMzMzMzM+M/CtejcD0KA0BxPQrXo3DNP+F6FK5H4eo/16NwPQrX0z8UrkfhehTeP65H4XoUrtc/4XoUrkfh2j97FK5H4XrkPz0K16NwPQBAMzMzMzMz8z/D9Shcj8LVP9ejcD0K19M/",
          "dtype": "f8"
         },
         "yaxis": "y"
        }
       ],
       "layout": {
        "coloraxis": {
         "colorbar": {
          "title": {
           "text": "open_play_key_pass_%"
          }
         },
         "colorscale": [
          [
           0,
           "rgb(165,0,38)"
          ],
          [
           0.1,
           "rgb(215,48,39)"
          ],
          [
           0.2,
           "rgb(244,109,67)"
          ],
          [
           0.3,
           "rgb(253,174,97)"
          ],
          [
           0.4,
           "rgb(254,224,139)"
          ],
          [
           0.5,
           "rgb(255,255,191)"
          ],
          [
           0.6,
           "rgb(217,239,139)"
          ],
          [
           0.7,
           "rgb(166,217,106)"
          ],
          [
           0.8,
           "rgb(102,189,99)"
          ],
          [
           0.9,
           "rgb(26,152,80)"
          ],
          [
           1,
           "rgb(0,104,55)"
          ]
         ],
         "showscale": false
        },
        "height": 700,
        "legend": {
         "tracegroupgap": 0
        },
        "paper_bgcolor": "darkgray",
        "plot_bgcolor": "darkgray",
        "template": {
         "data": {
          "bar": [
           {
            "error_x": {
             "color": "#2a3f5f"
            },
            "error_y": {
             "color": "#2a3f5f"
            },
            "marker": {
             "line": {
              "color": "#E5ECF6",
              "width": 0.5
             },
             "pattern": {
              "fillmode": "overlay",
              "size": 10,
              "solidity": 0.2
             }
            },
            "type": "bar"
           }
          ],
          "barpolar": [
           {
            "marker": {
             "line": {
              "color": "#E5ECF6",
              "width": 0.5
             },
             "pattern": {
              "fillmode": "overlay",
              "size": 10,
              "solidity": 0.2
             }
            },
            "type": "barpolar"
           }
          ],
          "carpet": [
           {
            "aaxis": {
             "endlinecolor": "#2a3f5f",
             "gridcolor": "white",
             "linecolor": "white",
             "minorgridcolor": "white",
             "startlinecolor": "#2a3f5f"
            },
            "baxis": {
             "endlinecolor": "#2a3f5f",
             "gridcolor": "white",
             "linecolor": "white",
             "minorgridcolor": "white",
             "startlinecolor": "#2a3f5f"
            },
            "type": "carpet"
           }
          ],
          "choropleth": [
           {
            "colorbar": {
             "outlinewidth": 0,
             "ticks": ""
            },
            "type": "choropleth"
           }
          ],
          "contour": [
           {
            "colorbar": {
             "outlinewidth": 0,
             "ticks": ""
            },
            "colorscale": [
             [
              0,
              "#0d0887"
             ],
             [
              0.1111111111111111,
              "#46039f"
             ],
             [
              0.2222222222222222,
              "#7201a8"
             ],
             [
              0.3333333333333333,
              "#9c179e"
             ],
             [
              0.4444444444444444,
              "#bd3786"
             ],
             [
              0.5555555555555556,
              "#d8576b"
             ],
             [
              0.6666666666666666,
              "#ed7953"
             ],
             [
              0.7777777777777778,
              "#fb9f3a"
             ],
             [
              0.8888888888888888,
              "#fdca26"
             ],
             [
              1,
              "#f0f921"
             ]
            ],
            "type": "contour"
           }
          ],
          "contourcarpet": [
           {
            "colorbar": {
             "outlinewidth": 0,
             "ticks": ""
            },
            "type": "contourcarpet"
           }
          ],
          "heatmap": [
           {
            "colorbar": {
             "outlinewidth": 0,
             "ticks": ""
            },
            "colorscale": [
             [
              0,
              "#0d0887"
             ],
             [
              0.1111111111111111,
              "#46039f"
             ],
             [
              0.2222222222222222,
              "#7201a8"
             ],
             [
              0.3333333333333333,
              "#9c179e"
             ],
             [
              0.4444444444444444,
              "#bd3786"
             ],
             [
              0.5555555555555556,
              "#d8576b"
             ],
             [
              0.6666666666666666,
              "#ed7953"
             ],
             [
              0.7777777777777778,
              "#fb9f3a"
             ],
             [
              0.8888888888888888,
              "#fdca26"
             ],
             [
              1,
              "#f0f921"
             ]
            ],
            "type": "heatmap"
           }
          ],
          "histogram": [
           {
            "marker": {
             "pattern": {
              "fillmode": "overlay",
              "size": 10,
              "solidity": 0.2
             }
            },
            "type": "histogram"
           }
          ],
          "histogram2d": [
           {
            "colorbar": {
             "outlinewidth": 0,
             "ticks": ""
            },
            "colorscale": [
             [
              0,
              "#0d0887"
             ],
             [
              0.1111111111111111,
              "#46039f"
             ],
             [
              0.2222222222222222,
              "#7201a8"
             ],
             [
              0.3333333333333333,
              "#9c179e"
             ],
             [
              0.4444444444444444,
              "#bd3786"
             ],
             [
              0.5555555555555556,
              "#d8576b"
             ],
             [
              0.6666666666666666,
              "#ed7953"
             ],
             [
              0.7777777777777778,
              "#fb9f3a"
             ],
             [
              0.8888888888888888,
              "#fdca26"
             ],
             [
              1,
              "#f0f921"
             ]
            ],
            "type": "histogram2d"
           }
          ],
          "histogram2dcontour": [
           {
            "colorbar": {
             "outlinewidth": 0,
             "ticks": ""
            },
            "colorscale": [
             [
              0,
              "#0d0887"
             ],
             [
              0.1111111111111111,
              "#46039f"
             ],
             [
              0.2222222222222222,
              "#7201a8"
             ],
             [
              0.3333333333333333,
              "#9c179e"
             ],
             [
              0.4444444444444444,
              "#bd3786"
             ],
             [
              0.5555555555555556,
              "#d8576b"
             ],
             [
              0.6666666666666666,
              "#ed7953"
             ],
             [
              0.7777777777777778,
              "#fb9f3a"
             ],
             [
              0.8888888888888888,
              "#fdca26"
             ],
             [
              1,
              "#f0f921"
             ]
            ],
            "type": "histogram2dcontour"
           }
          ],
          "mesh3d": [
           {
            "colorbar": {
             "outlinewidth": 0,
             "ticks": ""
            },
            "type": "mesh3d"
           }
          ],
          "parcoords": [
           {
            "line": {
             "colorbar": {
              "outlinewidth": 0,
              "ticks": ""
             }
            },
            "type": "parcoords"
           }
          ],
          "pie": [
           {
            "automargin": true,
            "type": "pie"
           }
          ],
          "scatter": [
           {
            "fillpattern": {
             "fillmode": "overlay",
             "size": 10,
             "solidity": 0.2
            },
            "type": "scatter"
           }
          ],
          "scatter3d": [
           {
            "line": {
             "colorbar": {
              "outlinewidth": 0,
              "ticks": ""
             }
            },
            "marker": {
             "colorbar": {
              "outlinewidth": 0,
              "ticks": ""
             }
            },
            "type": "scatter3d"
           }
          ],
          "scattercarpet": [
           {
            "marker": {
             "colorbar": {
              "outlinewidth": 0,
              "ticks": ""
             }
            },
            "type": "scattercarpet"
           }
          ],
          "scattergeo": [
           {
            "marker": {
             "colorbar": {
              "outlinewidth": 0,
              "ticks": ""
             }
            },
            "type": "scattergeo"
           }
          ],
          "scattergl": [
           {
            "marker": {
             "colorbar": {
              "outlinewidth": 0,
              "ticks": ""
             }
            },
            "type": "scattergl"
           }
          ],
          "scattermap": [
           {
            "marker": {
             "colorbar": {
              "outlinewidth": 0,
              "ticks": ""
             }
            },
            "type": "scattermap"
           }
          ],
          "scattermapbox": [
           {
            "marker": {
             "colorbar": {
              "outlinewidth": 0,
              "ticks": ""
             }
            },
            "type": "scattermapbox"
           }
          ],
          "scatterpolar": [
           {
            "marker": {
             "colorbar": {
              "outlinewidth": 0,
              "ticks": ""
             }
            },
            "type": "scatterpolar"
           }
          ],
          "scatterpolargl": [
           {
            "marker": {
             "colorbar": {
              "outlinewidth": 0,
              "ticks": ""
             }
            },
            "type": "scatterpolargl"
           }
          ],
          "scatterternary": [
           {
            "marker": {
             "colorbar": {
              "outlinewidth": 0,
              "ticks": ""
             }
            },
            "type": "scatterternary"
           }
          ],
          "surface": [
           {
            "colorbar": {
             "outlinewidth": 0,
             "ticks": ""
            },
            "colorscale": [
             [
              0,
              "#0d0887"
             ],
             [
              0.1111111111111111,
              "#46039f"
             ],
             [
              0.2222222222222222,
              "#7201a8"
             ],
             [
              0.3333333333333333,
              "#9c179e"
             ],
             [
              0.4444444444444444,
              "#bd3786"
             ],
             [
              0.5555555555555556,
              "#d8576b"
             ],
             [
              0.6666666666666666,
              "#ed7953"
             ],
             [
              0.7777777777777778,
              "#fb9f3a"
             ],
             [
              0.8888888888888888,
              "#fdca26"
             ],
             [
              1,
              "#f0f921"
             ]
            ],
            "type": "surface"
           }
          ],
          "table": [
           {
            "cells": {
             "fill": {
              "color": "#EBF0F8"
             },
             "line": {
              "color": "white"
             }
            },
            "header": {
             "fill": {
              "color": "#C8D4E3"
             },
             "line": {
              "color": "white"
             }
            },
            "type": "table"
           }
          ]
         },
         "layout": {
          "annotationdefaults": {
           "arrowcolor": "#2a3f5f",
           "arrowhead": 0,
           "arrowwidth": 1
          },
          "autotypenumbers": "strict",
          "coloraxis": {
           "colorbar": {
            "outlinewidth": 0,
            "ticks": ""
           }
          },
          "colorscale": {
           "diverging": [
            [
             0,
             "#8e0152"
            ],
            [
             0.1,
             "#c51b7d"
            ],
            [
             0.2,
             "#de77ae"
            ],
            [
             0.3,
             "#f1b6da"
            ],
            [
             0.4,
             "#fde0ef"
            ],
            [
             0.5,
             "#f7f7f7"
            ],
            [
             0.6,
             "#e6f5d0"
            ],
            [
             0.7,
             "#b8e186"
            ],
            [
             0.8,
             "#7fbc41"
            ],
            [
             0.9,
             "#4d9221"
            ],
            [
             1,
             "#276419"
            ]
           ],
           "sequential": [
            [
             0,
             "#0d0887"
            ],
            [
             0.1111111111111111,
             "#46039f"
            ],
            [
             0.2222222222222222,
             "#7201a8"
            ],
            [
             0.3333333333333333,
             "#9c179e"
            ],
            [
             0.4444444444444444,
             "#bd3786"
            ],
            [
             0.5555555555555556,
             "#d8576b"
            ],
            [
             0.6666666666666666,
             "#ed7953"
            ],
            [
             0.7777777777777778,
             "#fb9f3a"
            ],
            [
             0.8888888888888888,
             "#fdca26"
            ],
            [
             1,
             "#f0f921"
            ]
           ],
           "sequentialminus": [
            [
             0,
             "#0d0887"
            ],
            [
             0.1111111111111111,
             "#46039f"
            ],
            [
             0.2222222222222222,
             "#7201a8"
            ],
            [
             0.3333333333333333,
             "#9c179e"
            ],
            [
             0.4444444444444444,
             "#bd3786"
            ],
            [
             0.5555555555555556,
             "#d8576b"
            ],
            [
             0.6666666666666666,
             "#ed7953"
            ],
            [
             0.7777777777777778,
             "#fb9f3a"
            ],
            [
             0.8888888888888888,
             "#fdca26"
            ],
            [
             1,
             "#f0f921"
            ]
           ]
          },
          "colorway": [
           "#636efa",
           "#EF553B",
           "#00cc96",
           "#ab63fa",
           "#FFA15A",
           "#19d3f3",
           "#FF6692",
           "#B6E880",
           "#FF97FF",
           "#FECB52"
          ],
          "font": {
           "color": "#2a3f5f"
          },
          "geo": {
           "bgcolor": "white",
           "lakecolor": "white",
           "landcolor": "#E5ECF6",
           "showlakes": true,
           "showland": true,
           "subunitcolor": "white"
          },
          "hoverlabel": {
           "align": "left"
          },
          "hovermode": "closest",
          "mapbox": {
           "style": "light"
          },
          "paper_bgcolor": "white",
          "plot_bgcolor": "#E5ECF6",
          "polar": {
           "angularaxis": {
            "gridcolor": "white",
            "linecolor": "white",
            "ticks": ""
           },
           "bgcolor": "#E5ECF6",
           "radialaxis": {
            "gridcolor": "white",
            "linecolor": "white",
            "ticks": ""
           }
          },
          "scene": {
           "xaxis": {
            "backgroundcolor": "#E5ECF6",
            "gridcolor": "white",
            "gridwidth": 2,
            "linecolor": "white",
            "showbackground": true,
            "ticks": "",
            "zerolinecolor": "white"
           },
           "yaxis": {
            "backgroundcolor": "#E5ECF6",
            "gridcolor": "white",
            "gridwidth": 2,
            "linecolor": "white",
            "showbackground": true,
            "ticks": "",
            "zerolinecolor": "white"
           },
           "zaxis": {
            "backgroundcolor": "#E5ECF6",
            "gridcolor": "white",
            "gridwidth": 2,
            "linecolor": "white",
            "showbackground": true,
            "ticks": "",
            "zerolinecolor": "white"
           }
          },
          "shapedefaults": {
           "line": {
            "color": "#2a3f5f"
           }
          },
          "ternary": {
           "aaxis": {
            "gridcolor": "white",
            "linecolor": "white",
            "ticks": ""
           },
           "baxis": {
            "gridcolor": "white",
            "linecolor": "white",
            "ticks": ""
           },
           "bgcolor": "#E5ECF6",
           "caxis": {
            "gridcolor": "white",
            "linecolor": "white",
            "ticks": ""
           }
          },
          "title": {
           "x": 0.05
          },
          "xaxis": {
           "automargin": true,
           "gridcolor": "white",
           "linecolor": "white",
           "ticks": "",
           "title": {
            "standoff": 15
           },
           "zerolinecolor": "white",
           "zerolinewidth": 2
          },
          "yaxis": {
           "automargin": true,
           "gridcolor": "white",
           "linecolor": "white",
           "ticks": "",
           "title": {
            "standoff": 15
           },
           "zerolinecolor": "white",
           "zerolinewidth": 2
          }
         }
        },
        "title": {
         "text": "Creativity ( 102)",
         "x": 0.5,
         "xanchor": "center"
        },
        "width": 1200,
        "xaxis": {
         "anchor": "y",
         "domain": [
          0,
          1
         ],
         "gridcolor": "white",
         "showgrid": true,
         "title": {
          "text": "open_play_key_passes/90"
         },
         "zeroline": false
        },
        "yaxis": {
         "anchor": "x",
         "domain": [
          0,
          1
         ],
         "gridcolor": "white",
         "showgrid": true,
         "title": {
          "text": "chances_created/90"
         },
         "zeroline": false
        }
       }
      }
     },
     "metadata": {},
     "output_type": "display_data"
    }
   ],
   "source": [
    "\n",
    "# Filter data \n",
    "mask = (\n",
    "        (df_players['open_play_key_passes/90'] >= 0.35) & \\\n",
    "        (df_players['chances_created/90'] >= 0.2) & \\\n",
    "        (df_players['open_play_key_pass_%'] >= 1) & \\\n",
    "        (df_players['price_estimate_M'] <= 40) & \\\n",
    "        (df_players['id'].isin(targets))\n",
    "        \n",
    "        \n",
    ")\n",
    "\n",
    "df_targets = df_players[mask]\n",
    "\n",
    "scatter_plot(df_targets,\n",
    "             x_metric='open_play_key_passes/90', \n",
    "             y_metric='chances_created/90',\n",
    "             z_metric='open_play_key_pass_%',\n",
    "             title='Creativity', \n",
    "             show_name_label=False\n",
    ")\n",
    "\n",
    "# Keep only players that fulfill criteria\n",
    "targets = df_targets['id']"
   ]
  },
  {
   "cell_type": "markdown",
   "id": "a76d3e76",
   "metadata": {},
   "source": [
    "## Pressure quality"
   ]
  },
  {
   "cell_type": "code",
   "execution_count": 43,
   "id": "7794f58b",
   "metadata": {},
   "outputs": [
    {
     "data": {
      "application/vnd.plotly.v1+json": {
       "config": {
        "plotlyServerURL": "https://plot.ly"
       },
       "data": [
        {
         "customdata": [
          [
           "Stephen Odey",
           "Randers FC"
          ],
          [
           "Mostafa Mohamed",
           "Nantes"
          ],
          [
           "Tomás Conechny",
           "Godoy Cruz"
          ],
          [
           "Jonatan Torres",
           "Lanús"
          ],
          [
           "Nahuel Bustos",
           "Talleres"
          ],
          [
           "Maximiliano Salas",
           "Racing Club"
          ],
          [
           "Santiago Rodríguez",
           "Instituto"
          ],
          [
           "Jonás Acevedo",
           "Instituto"
          ],
          [
           "Lucas Brochero",
           "Barracas Central"
          ],
          [
           "Mauro Luna Diale",
           "Unión (SF)"
          ],
          [
           "Federico Girotti",
           "Talleres"
          ],
          [
           "Justo Giani",
           "Atl. Tucumán"
          ],
          [
           "Rodrigo Castillo",
           "Gimnasia (LP)"
          ],
          [
           "Gonzalo Flores",
           "Tigre"
          ],
          [
           "Ivo Mammini",
           "Gimnasia (LP)"
          ],
          [
           "Alan Cantero",
           "GOI"
          ],
          [
           "Othmane Boussaid",
           "FC Utrecht"
          ],
          [
           "Bryan Limbombe",
           "Heracles Almelo"
          ],
          [
           "Pedro",
           "FLA"
          ],
          [
           "Arthur Cabral",
           "SL Benfica"
          ],
          [
           "Paulinho",
           "ATM"
          ],
          [
           "Yuri Alberto",
           "COR"
          ],
          [
           "Vitinho",
           "RB Bragantino"
          ],
          [
           "David da Hora",
           "FOR"
          ],
          [
           "Bruno Marques",
           "SAN"
          ],
          [
           "Lázaro",
           "SEP"
          ],
          [
           "Marcos Leonardo",
           "SL Benfica"
          ],
          [
           "Igor Paixão",
           "Feyenoord"
          ],
          [
           "John Kennedy",
           "FLU"
          ],
          [
           "Matheus Babi",
           "Athlético Paranaense"
          ],
          [
           "Haji Wright",
           "Coventry"
          ],
          [
           "Ondřej Lingr",
           "Feyenoord"
          ],
          [
           "Rezan Çorlu",
           "Lyngby"
          ],
          [
           "Jens Odgaard",
           "Bologna"
          ],
          [
           "Søren Tengstedt",
           "Go Ahead Eagles"
          ],
          [
           "Mileta Rajović",
           "Watford"
          ],
          [
           "Aral Şimşir",
           "FC Midtjylland"
          ],
          [
           "Lirim Qamili",
           "Hvidovre IF"
          ],
          [
           "Alexander Lind",
           "Silkeborg IF"
          ],
          [
           "Anosike Ementa",
           "Viborg FF"
          ],
          [
           "Adam Armstrong",
           "Southampton"
          ],
          [
           "Iké Ugbo",
           "Sheffield Wednesday"
          ],
          [
           "Josh Maja",
           "West Brom"
          ],
          [
           "Tyrese Campbell",
           "Stoke"
          ],
          [
           "Ellis Simms",
           "Coventry"
          ],
          [
           "Troy Parrott",
           "Excelsior"
          ],
          [
           "Conor Chaplin",
           "Ipswich"
          ],
          [
           "Jacob Brown",
           "Luton"
          ],
          [
           "Fredrik Jensen",
           "Augsburg"
          ],
          [
           "Albert Guðmundsson",
           "Genoa"
          ],
          [
           "Kaj Sierhuis",
           "Fortuna Sittard"
          ],
          [
           "Guus Til",
           "PSV"
          ],
          [
           "Delano Burgzorg",
           "Huddersfield"
          ],
          [
           "Myron Boadu",
           "FC Twente"
          ],
          [
           "Zakaria Aboukhlal",
           "Toulouse"
          ],
          [
           "Sydney van Hooijdonk",
           "Norwich"
          ],
          [
           "Ole Romeny",
           "FC Utrecht"
          ],
          [
           "Fodé Fofana",
           "Vitesse"
          ],
          [
           "Emmanuel Latte Lath",
           "Middlesbrough"
          ],
          [
           "Andrea Pinamonti",
           "Sassuolo"
          ],
          [
           "Nicolò Zaniolo",
           "Aston Villa"
          ],
          [
           "Odsonne Edouard",
           "Crystal Palace"
          ],
          [
           "Ismaïla Sarr",
           "Marseille"
          ],
          [
           "Frank Magri",
           "Toulouse"
          ],
          [
           "Georges Mikautadze",
           "Metz"
          ],
          [
           "Chiedozie Ogbene",
           "Luton"
          ],
          [
           "Ion Nicolăescu",
           "sc Heerenveen"
          ],
          [
           "Issah Abass",
           "Desp. Chaves"
          ],
          [
           "Samson Akinyoola",
           "Montpellier"
          ],
          [
           "Cho Gue-Sung",
           "FC Midtjylland"
          ],
          [
           "Toni Martínez",
           "FC Porto"
          ],
          [
           "Chris Ramos",
           "Cádiz"
          ],
          [
           "Isaac Romero",
           "Sevilla"
          ],
          [
           "Óscar Estupiñán",
           "BAH"
          ],
          [
           "Edwuin Cetré",
           "Estudiantes (LP)"
          ],
          [
           "Thiago Borbas",
           "RB Bragantino"
          ],
          [
           "Blas Armoa",
           "Tigre"
          ],
          [
           "Isidro Pitta",
           "CUI"
          ],
          [
           "Marcelo Pérez",
           "Huracán"
          ],
          [
           "Vangelis Pavlidis",
           "AZ"
          ],
          [
           "Braydon Manu",
           "Darmstadt 98"
          ],
          [
           "Jordan Larsson",
           "FC København"
          ],
          [
           "Benjamin Nygren",
           "FC Nordsjælland"
          ],
          [
           "Franculino Djú",
           "FC Midtjylland"
          ],
          [
           "Figueiredo",
           "CTB"
          ],
          [
           "José Manuel López",
           "SEP"
          ],
          [
           "Victor Hugo",
           "FLA"
          ],
          [
           "Facundo Echevarría",
           "Defensa y Justicia"
          ],
          [
           "Paulo Victor",
           "Desp. Chaves"
          ],
          [
           "Lucca Holanda",
           "INT"
          ],
          [
           "Roony Bardghji",
           "FC København"
          ],
          [
           "Vivaldo Semedo",
           "FC Volendam"
          ],
          [
           "Renato Marques",
           "AMG"
          ],
          [
           "Jason van Duiven",
           "Almere City"
          ],
          [
           "Aidomo Emakhu",
           "Millwall"
          ],
          [
           "Jerónimo Domina",
           "Unión (SF)"
          ],
          [
           "Jobe Bellingham",
           "Sunderland"
          ],
          [
           "Endrick",
           "SEP"
          ],
          [
           "Pedrinho",
           "GOI"
          ],
          [
           "Ibrahim Osman",
           "FC Nordsjælland"
          ],
          [
           "Robert",
           "CEC"
          ],
          [
           "Jean Gabriel",
           "CTB"
          ]
         ],
         "hovertemplate": "<b>%{customdata[0]}</b><br><b>%{customdata[1]}</b><br><br>pressures_completed/90: %{x}<br>pressure_success_%: %{y}<br>duels_win_%: %{marker.color}<extra></extra>",
         "legendgroup": "",
         "marker": {
          "color": {
           "bdata": "AAAAAAAgQUAAAAAAACBKQGZmZmZmhkxAw/UoXI/CREBI4XoUrgdBQIXrUbgeRUFAexSuR+F6QEDNzMzMzGxBQM3MzMzMjExAKVyPwvXoQECamZmZmflHQFK4HoXrEU1Aj8L1KFwPREAK16NwPQo7QJqZmZmZmUNA9ihcj8K1O0DD9Shcj0JEQK5H4XoUbkRAw/UoXI+CREDNzMzMzExIQDMzMzMzM0tArkfhehTuQkAzMzMzM3NLQLgehetRWENAZmZmZmZGS0C4HoXrUXhKQI/C9ShcTzhAZmZmZmamSEBcj8L1KNw7QBSuR+F6FEhAuB6F61GYSEDD9ShcjyJHQMP1KFyPQjpAFK5H4Xo0S0B7FK5H4UpQQFK4HoXr0UhAKVyPwvWoPEA9CtejcJ1NQI/C9Shcb0RApHA9CtcDT0DNzMzMzOxKQMP1KFyPQj5AAAAAAADgR0B7FK5H4RpCQEjhehSup0xAXI/C9SicPkAAAAAAAABJQArXo3A9qkBAAAAAAACgQkAzMzMzMzMsQAAAAAAAQDpAj8L1KFy/UEAK16NwPYpLQHE9CtejEEFAKVyPwvVIREDD9ShcjwJHQClcj8L1iEJApHA9CtdjOEBxPQrXo7BGQNejcD0Kl0ZAXI/C9Si8T0AUrkfhejRFQDMzMzMzk0tAmpmZmZmZN0DXo3A9ClcyQJqZmZmZ2T9AAAAAAADAQkAfhetRuF5GQAAAAAAAAAAAMzMzMzMzREAAAAAAAMBCQPYoXI/ClUtA16NwPQoXQUCuR+F6FG5FQMP1KFyPQkBAKVyPwvWIQkCamZmZmblJQAAAAAAAAElAmpmZmZn5QEBI4XoUrsdNQBSuR+F6FD1AuB6F61E4PEC4HoXrUbhFQAAAAAAAoEdAXI/C9SicQ0DNzMzMzCxKQDMzMzMzM0hA9ihcj8L1RUDXo3A9ChdIQEjhehSup0FArkfhehSuQkCPwvUoXO9DQD0K16NwHUJAUrgeheuxQ0AK16NwPapFQFK4HoXrkTtAFK5H4XpkUUAAAAAAAEA7QLgehetRODZAAAAAAADAPUAfhetRuJ48QMP1KFyPIkZA",
           "dtype": "f8"
          },
          "coloraxis": "coloraxis",
          "size": 10,
          "symbol": "circle"
         },
         "mode": "markers+text",
         "name": "",
         "orientation": "v",
         "showlegend": false,
         "text": [
          "Stephen Odey",
          "Mostafa Mohamed",
          "Tomás Conechny",
          "Jonatan Torres",
          "Nahuel Bustos",
          "Maximiliano Salas",
          "Santiago Rodríguez",
          "Jonás Acevedo",
          "Lucas Brochero",
          "Mauro Luna Diale",
          "Federico Girotti",
          "Justo Giani",
          "Rodrigo Castillo",
          "Gonzalo Flores",
          "Ivo Mammini",
          "Alan Cantero",
          "Othmane Boussaid",
          "Bryan Limbombe",
          "Pedro",
          "Arthur Cabral",
          "Paulinho",
          "Yuri Alberto",
          "Vitinho",
          "David da Hora",
          "Bruno Marques",
          "Lázaro",
          "Marcos Leonardo",
          "Igor Paixão",
          "John Kennedy",
          "Matheus Babi",
          "Haji Wright",
          "Ondřej Lingr",
          "Rezan Çorlu",
          "Jens Odgaard",
          "Søren Tengstedt",
          "Mileta Rajović",
          "Aral Şimşir",
          "Lirim Qamili",
          "Alexander Lind",
          "Anosike Ementa",
          "Adam Armstrong",
          "Iké Ugbo",
          "Josh Maja",
          "Tyrese Campbell",
          "Ellis Simms",
          "Troy Parrott",
          "Conor Chaplin",
          "Jacob Brown",
          "Fredrik Jensen",
          "Albert Guðmundsson",
          "Kaj Sierhuis",
          "Guus Til",
          "Delano Burgzorg",
          "Myron Boadu",
          "Zakaria Aboukhlal",
          "Sydney van Hooijdonk",
          "Ole Romeny",
          "Fodé Fofana",
          "Emmanuel Latte Lath",
          "Andrea Pinamonti",
          "Nicolò Zaniolo",
          "Odsonne Edouard",
          "Ismaïla Sarr",
          "Frank Magri",
          "Georges Mikautadze",
          "Chiedozie Ogbene",
          "Ion Nicolăescu",
          "Issah Abass",
          "Samson Akinyoola",
          "Cho Gue-Sung",
          "Toni Martínez",
          "Chris Ramos",
          "Isaac Romero",
          "Óscar Estupiñán",
          "Edwuin Cetré",
          "Thiago Borbas",
          "Blas Armoa",
          "Isidro Pitta",
          "Marcelo Pérez",
          "Vangelis Pavlidis",
          "Braydon Manu",
          "Jordan Larsson",
          "Benjamin Nygren",
          "Franculino Djú",
          "Figueiredo",
          "José Manuel López",
          "Victor Hugo",
          "Facundo Echevarría",
          "Paulo Victor",
          "Lucca Holanda",
          "Roony Bardghji",
          "Vivaldo Semedo",
          "Renato Marques",
          "Jason van Duiven",
          "Aidomo Emakhu",
          "Jerónimo Domina",
          "Jobe Bellingham",
          "Endrick",
          "Pedrinho",
          "Ibrahim Osman",
          "Robert",
          "Jean Gabriel"
         ],
         "textfont": {
          "size": 10
         },
         "textposition": "top center",
         "type": "scatter",
         "x": {
          "bdata": "CtejcD0K/z8UrkfhehT6Pylcj8L1KA5AUrgehetR/D8K16NwPQr/P2ZmZmZmZgBACtejcD0KA0DNzMzMzMwCQNejcD0K1w1AmpmZmZmZA0DNzMzMzMzsP0jhehSuRw1AuB6F61G4AEDsUbgehev9Px+F61G4HgFAFK5H4XoU+j9xPQrXo3ANQClcj8L1KAJA4XoUrkfh+j+4HoXrUbj+PwrXo3A9CgdAZmZmZmZm9j+uR+F6FK4JQIXrUbgehf8/rkfhehSu9z8K16NwPQoLQKRwPQrXowBA7FG4HoXrC0A9CtejcD3+Pz0K16NwPfo/AAAAAAAABEBSuB6F61EGQEjhehSuRwVAmpmZmZmZA0A9CtejcD0KQAAAAAAAAPw/w/UoXI/C/T9cj8L1KFz/P+F6FK5H4f4/w/UoXI/C/T97FK5H4XoMQK5H4XoUrv8/hetRuB6F+z+PwvUoXI/2P9ejcD0K1wNAZmZmZmZm7j/2KFyPwvUEQOxRuB6F6wVASOF6FK5HCUC4HoXrUbj2P0jhehSuR/U/XI/C9ShcDUC4HoXrUbgIQEjhehSuR/k/AAAAAAAAAkAUrkfhehQCQHsUrkfhevg/UrgehetRAEBcj8L1KFwDQD0K16NwPeI/MzMzMzMzCUAK16NwPQr/P4XrUbgehQ9ApHA9Ctej/D/hehSuR+H2PwAAAAAAAA5AuB6F61G48j9SuB6F61ECQFyPwvUoXN8/7FG4HoXrA0BI4XoUrkf9P2ZmZmZmZgBA9ihcj8L1/D97FK5H4Xr4P8P1KFyPwgdA4XoUrkfh+j/D9Shcj8ILQOxRuB6F6wFAXI/C9Shc/z9mZmZmZmYAQB+F61G4HgdAH4XrUbge/T8UrkfhehT+P1K4HoXrUfw/j8L1KFyPBkBcj8L1KFz3P1yPwvUoXANAZmZmZmZm/j9SuB6F61ECQNejcD0K1/8/CtejcD0KB0B7FK5H4Xr8P65H4XoUrvc/SOF6FK5H9T8zMzMzMzMDQFyPwvUoXAFAH4XrUbgeC0DNzMzMzMz4P83MzMzMzPw/pHA9CtejBEBSuB6F61EAQHsUrkfhevw/",
          "dtype": "f8"
         },
         "xaxis": "x",
         "y": {
          "bdata": "4XoUrkchN0A9CtejcP0xQI/C9ShcTztAuB6F61H4NUDsUbgehas/QEjhehSuxz1AAAAAAABAOUDXo3A9Chc6QIXrUbgehTtAAAAAAACAN0ApXI/C9SgsQHE9CtejMDxAw/UoXI+COEC4HoXrUbg3QOF6FK5HITlAH4XrUbjeMkCamZmZmdk7QAAAAAAAADlAMzMzMzOzN0DhehSuRyE7QGZmZmZmZjZAKVyPwvUoN0AUrkfhelQ5QLgehetReDpAuB6F61F4NEAK16NwPYo/QEjhehSuRz5AUrgeheuRPkCamZmZmZk4QHsUrkfhejlASOF6FK6HOUA9CtejcD1AQIXrUbgeRTtAAAAAAAAAOUAUrkfhejRAQBSuR+F6FDdAH4XrUbheOkDhehSuR+E0QKRwPQrXYzdAUrgeheuRNUCkcD0K12M6QFyPwvUoPEBAmpmZmZnZOkAAAAAAAAA0QEjhehSuxzhAw/UoXI9CL0D2KFyPwvU5QArXo3A9yjpAexSuR+E6PUDXo3A9Clc0QK5H4XoULjVA16NwPQp3QECamZmZmRk5QFyPwvUoHDhAmpmZmZmZN0Bcj8L1KNw8QBSuR+F6lC9ArkfhehQOQEAK16NwPUo2QAAAAAAAAClAAAAAAAAAPkBmZmZmZuY3QOxRuB6FazpAw/UoXI+COkAfhetRuJ40QHsUrkfhOj5A7FG4HoVrOUC4HoXrUXgzQD0K16NwPSNA4XoUrkchPEBSuB6F65E8QLgehetR+DlAFK5H4XoUN0AUrkfhepQ5QIXrUbgeRTtAFK5H4XoUN0BxPQrXo/A4QNejcD0KFzxAw/UoXI+COEA9CtejcL1BQFyPwvUo3DlAFK5H4XqUOUD2KFyPwjU0QAAAAAAAADdApHA9CtejPEAK16NwPco1QClcj8L1KDhAPQrXo3B9NUCkcD0K16M4QLgehetReDpAPQrXo3B9N0AfhetRuN47QFyPwvUonDdAhetRuB6FNUC4HoXrUXg4QBSuR+F6VDtAZmZmZmZmOkDXo3A9Chc2QClcj8L1aDtAhetRuB5FOEC4HoXrUXg9QJqZmZmZWTNA",
          "dtype": "f8"
         },
         "yaxis": "y"
        }
       ],
       "layout": {
        "coloraxis": {
         "colorbar": {
          "title": {
           "text": "duels_win_%"
          }
         },
         "colorscale": [
          [
           0,
           "rgb(165,0,38)"
          ],
          [
           0.1,
           "rgb(215,48,39)"
          ],
          [
           0.2,
           "rgb(244,109,67)"
          ],
          [
           0.3,
           "rgb(253,174,97)"
          ],
          [
           0.4,
           "rgb(254,224,139)"
          ],
          [
           0.5,
           "rgb(255,255,191)"
          ],
          [
           0.6,
           "rgb(217,239,139)"
          ],
          [
           0.7,
           "rgb(166,217,106)"
          ],
          [
           0.8,
           "rgb(102,189,99)"
          ],
          [
           0.9,
           "rgb(26,152,80)"
          ],
          [
           1,
           "rgb(0,104,55)"
          ]
         ],
         "showscale": false
        },
        "height": 700,
        "legend": {
         "tracegroupgap": 0
        },
        "paper_bgcolor": "darkgray",
        "plot_bgcolor": "darkgray",
        "template": {
         "data": {
          "bar": [
           {
            "error_x": {
             "color": "#2a3f5f"
            },
            "error_y": {
             "color": "#2a3f5f"
            },
            "marker": {
             "line": {
              "color": "#E5ECF6",
              "width": 0.5
             },
             "pattern": {
              "fillmode": "overlay",
              "size": 10,
              "solidity": 0.2
             }
            },
            "type": "bar"
           }
          ],
          "barpolar": [
           {
            "marker": {
             "line": {
              "color": "#E5ECF6",
              "width": 0.5
             },
             "pattern": {
              "fillmode": "overlay",
              "size": 10,
              "solidity": 0.2
             }
            },
            "type": "barpolar"
           }
          ],
          "carpet": [
           {
            "aaxis": {
             "endlinecolor": "#2a3f5f",
             "gridcolor": "white",
             "linecolor": "white",
             "minorgridcolor": "white",
             "startlinecolor": "#2a3f5f"
            },
            "baxis": {
             "endlinecolor": "#2a3f5f",
             "gridcolor": "white",
             "linecolor": "white",
             "minorgridcolor": "white",
             "startlinecolor": "#2a3f5f"
            },
            "type": "carpet"
           }
          ],
          "choropleth": [
           {
            "colorbar": {
             "outlinewidth": 0,
             "ticks": ""
            },
            "type": "choropleth"
           }
          ],
          "contour": [
           {
            "colorbar": {
             "outlinewidth": 0,
             "ticks": ""
            },
            "colorscale": [
             [
              0,
              "#0d0887"
             ],
             [
              0.1111111111111111,
              "#46039f"
             ],
             [
              0.2222222222222222,
              "#7201a8"
             ],
             [
              0.3333333333333333,
              "#9c179e"
             ],
             [
              0.4444444444444444,
              "#bd3786"
             ],
             [
              0.5555555555555556,
              "#d8576b"
             ],
             [
              0.6666666666666666,
              "#ed7953"
             ],
             [
              0.7777777777777778,
              "#fb9f3a"
             ],
             [
              0.8888888888888888,
              "#fdca26"
             ],
             [
              1,
              "#f0f921"
             ]
            ],
            "type": "contour"
           }
          ],
          "contourcarpet": [
           {
            "colorbar": {
             "outlinewidth": 0,
             "ticks": ""
            },
            "type": "contourcarpet"
           }
          ],
          "heatmap": [
           {
            "colorbar": {
             "outlinewidth": 0,
             "ticks": ""
            },
            "colorscale": [
             [
              0,
              "#0d0887"
             ],
             [
              0.1111111111111111,
              "#46039f"
             ],
             [
              0.2222222222222222,
              "#7201a8"
             ],
             [
              0.3333333333333333,
              "#9c179e"
             ],
             [
              0.4444444444444444,
              "#bd3786"
             ],
             [
              0.5555555555555556,
              "#d8576b"
             ],
             [
              0.6666666666666666,
              "#ed7953"
             ],
             [
              0.7777777777777778,
              "#fb9f3a"
             ],
             [
              0.8888888888888888,
              "#fdca26"
             ],
             [
              1,
              "#f0f921"
             ]
            ],
            "type": "heatmap"
           }
          ],
          "histogram": [
           {
            "marker": {
             "pattern": {
              "fillmode": "overlay",
              "size": 10,
              "solidity": 0.2
             }
            },
            "type": "histogram"
           }
          ],
          "histogram2d": [
           {
            "colorbar": {
             "outlinewidth": 0,
             "ticks": ""
            },
            "colorscale": [
             [
              0,
              "#0d0887"
             ],
             [
              0.1111111111111111,
              "#46039f"
             ],
             [
              0.2222222222222222,
              "#7201a8"
             ],
             [
              0.3333333333333333,
              "#9c179e"
             ],
             [
              0.4444444444444444,
              "#bd3786"
             ],
             [
              0.5555555555555556,
              "#d8576b"
             ],
             [
              0.6666666666666666,
              "#ed7953"
             ],
             [
              0.7777777777777778,
              "#fb9f3a"
             ],
             [
              0.8888888888888888,
              "#fdca26"
             ],
             [
              1,
              "#f0f921"
             ]
            ],
            "type": "histogram2d"
           }
          ],
          "histogram2dcontour": [
           {
            "colorbar": {
             "outlinewidth": 0,
             "ticks": ""
            },
            "colorscale": [
             [
              0,
              "#0d0887"
             ],
             [
              0.1111111111111111,
              "#46039f"
             ],
             [
              0.2222222222222222,
              "#7201a8"
             ],
             [
              0.3333333333333333,
              "#9c179e"
             ],
             [
              0.4444444444444444,
              "#bd3786"
             ],
             [
              0.5555555555555556,
              "#d8576b"
             ],
             [
              0.6666666666666666,
              "#ed7953"
             ],
             [
              0.7777777777777778,
              "#fb9f3a"
             ],
             [
              0.8888888888888888,
              "#fdca26"
             ],
             [
              1,
              "#f0f921"
             ]
            ],
            "type": "histogram2dcontour"
           }
          ],
          "mesh3d": [
           {
            "colorbar": {
             "outlinewidth": 0,
             "ticks": ""
            },
            "type": "mesh3d"
           }
          ],
          "parcoords": [
           {
            "line": {
             "colorbar": {
              "outlinewidth": 0,
              "ticks": ""
             }
            },
            "type": "parcoords"
           }
          ],
          "pie": [
           {
            "automargin": true,
            "type": "pie"
           }
          ],
          "scatter": [
           {
            "fillpattern": {
             "fillmode": "overlay",
             "size": 10,
             "solidity": 0.2
            },
            "type": "scatter"
           }
          ],
          "scatter3d": [
           {
            "line": {
             "colorbar": {
              "outlinewidth": 0,
              "ticks": ""
             }
            },
            "marker": {
             "colorbar": {
              "outlinewidth": 0,
              "ticks": ""
             }
            },
            "type": "scatter3d"
           }
          ],
          "scattercarpet": [
           {
            "marker": {
             "colorbar": {
              "outlinewidth": 0,
              "ticks": ""
             }
            },
            "type": "scattercarpet"
           }
          ],
          "scattergeo": [
           {
            "marker": {
             "colorbar": {
              "outlinewidth": 0,
              "ticks": ""
             }
            },
            "type": "scattergeo"
           }
          ],
          "scattergl": [
           {
            "marker": {
             "colorbar": {
              "outlinewidth": 0,
              "ticks": ""
             }
            },
            "type": "scattergl"
           }
          ],
          "scattermap": [
           {
            "marker": {
             "colorbar": {
              "outlinewidth": 0,
              "ticks": ""
             }
            },
            "type": "scattermap"
           }
          ],
          "scattermapbox": [
           {
            "marker": {
             "colorbar": {
              "outlinewidth": 0,
              "ticks": ""
             }
            },
            "type": "scattermapbox"
           }
          ],
          "scatterpolar": [
           {
            "marker": {
             "colorbar": {
              "outlinewidth": 0,
              "ticks": ""
             }
            },
            "type": "scatterpolar"
           }
          ],
          "scatterpolargl": [
           {
            "marker": {
             "colorbar": {
              "outlinewidth": 0,
              "ticks": ""
             }
            },
            "type": "scatterpolargl"
           }
          ],
          "scatterternary": [
           {
            "marker": {
             "colorbar": {
              "outlinewidth": 0,
              "ticks": ""
             }
            },
            "type": "scatterternary"
           }
          ],
          "surface": [
           {
            "colorbar": {
             "outlinewidth": 0,
             "ticks": ""
            },
            "colorscale": [
             [
              0,
              "#0d0887"
             ],
             [
              0.1111111111111111,
              "#46039f"
             ],
             [
              0.2222222222222222,
              "#7201a8"
             ],
             [
              0.3333333333333333,
              "#9c179e"
             ],
             [
              0.4444444444444444,
              "#bd3786"
             ],
             [
              0.5555555555555556,
              "#d8576b"
             ],
             [
              0.6666666666666666,
              "#ed7953"
             ],
             [
              0.7777777777777778,
              "#fb9f3a"
             ],
             [
              0.8888888888888888,
              "#fdca26"
             ],
             [
              1,
              "#f0f921"
             ]
            ],
            "type": "surface"
           }
          ],
          "table": [
           {
            "cells": {
             "fill": {
              "color": "#EBF0F8"
             },
             "line": {
              "color": "white"
             }
            },
            "header": {
             "fill": {
              "color": "#C8D4E3"
             },
             "line": {
              "color": "white"
             }
            },
            "type": "table"
           }
          ]
         },
         "layout": {
          "annotationdefaults": {
           "arrowcolor": "#2a3f5f",
           "arrowhead": 0,
           "arrowwidth": 1
          },
          "autotypenumbers": "strict",
          "coloraxis": {
           "colorbar": {
            "outlinewidth": 0,
            "ticks": ""
           }
          },
          "colorscale": {
           "diverging": [
            [
             0,
             "#8e0152"
            ],
            [
             0.1,
             "#c51b7d"
            ],
            [
             0.2,
             "#de77ae"
            ],
            [
             0.3,
             "#f1b6da"
            ],
            [
             0.4,
             "#fde0ef"
            ],
            [
             0.5,
             "#f7f7f7"
            ],
            [
             0.6,
             "#e6f5d0"
            ],
            [
             0.7,
             "#b8e186"
            ],
            [
             0.8,
             "#7fbc41"
            ],
            [
             0.9,
             "#4d9221"
            ],
            [
             1,
             "#276419"
            ]
           ],
           "sequential": [
            [
             0,
             "#0d0887"
            ],
            [
             0.1111111111111111,
             "#46039f"
            ],
            [
             0.2222222222222222,
             "#7201a8"
            ],
            [
             0.3333333333333333,
             "#9c179e"
            ],
            [
             0.4444444444444444,
             "#bd3786"
            ],
            [
             0.5555555555555556,
             "#d8576b"
            ],
            [
             0.6666666666666666,
             "#ed7953"
            ],
            [
             0.7777777777777778,
             "#fb9f3a"
            ],
            [
             0.8888888888888888,
             "#fdca26"
            ],
            [
             1,
             "#f0f921"
            ]
           ],
           "sequentialminus": [
            [
             0,
             "#0d0887"
            ],
            [
             0.1111111111111111,
             "#46039f"
            ],
            [
             0.2222222222222222,
             "#7201a8"
            ],
            [
             0.3333333333333333,
             "#9c179e"
            ],
            [
             0.4444444444444444,
             "#bd3786"
            ],
            [
             0.5555555555555556,
             "#d8576b"
            ],
            [
             0.6666666666666666,
             "#ed7953"
            ],
            [
             0.7777777777777778,
             "#fb9f3a"
            ],
            [
             0.8888888888888888,
             "#fdca26"
            ],
            [
             1,
             "#f0f921"
            ]
           ]
          },
          "colorway": [
           "#636efa",
           "#EF553B",
           "#00cc96",
           "#ab63fa",
           "#FFA15A",
           "#19d3f3",
           "#FF6692",
           "#B6E880",
           "#FF97FF",
           "#FECB52"
          ],
          "font": {
           "color": "#2a3f5f"
          },
          "geo": {
           "bgcolor": "white",
           "lakecolor": "white",
           "landcolor": "#E5ECF6",
           "showlakes": true,
           "showland": true,
           "subunitcolor": "white"
          },
          "hoverlabel": {
           "align": "left"
          },
          "hovermode": "closest",
          "mapbox": {
           "style": "light"
          },
          "paper_bgcolor": "white",
          "plot_bgcolor": "#E5ECF6",
          "polar": {
           "angularaxis": {
            "gridcolor": "white",
            "linecolor": "white",
            "ticks": ""
           },
           "bgcolor": "#E5ECF6",
           "radialaxis": {
            "gridcolor": "white",
            "linecolor": "white",
            "ticks": ""
           }
          },
          "scene": {
           "xaxis": {
            "backgroundcolor": "#E5ECF6",
            "gridcolor": "white",
            "gridwidth": 2,
            "linecolor": "white",
            "showbackground": true,
            "ticks": "",
            "zerolinecolor": "white"
           },
           "yaxis": {
            "backgroundcolor": "#E5ECF6",
            "gridcolor": "white",
            "gridwidth": 2,
            "linecolor": "white",
            "showbackground": true,
            "ticks": "",
            "zerolinecolor": "white"
           },
           "zaxis": {
            "backgroundcolor": "#E5ECF6",
            "gridcolor": "white",
            "gridwidth": 2,
            "linecolor": "white",
            "showbackground": true,
            "ticks": "",
            "zerolinecolor": "white"
           }
          },
          "shapedefaults": {
           "line": {
            "color": "#2a3f5f"
           }
          },
          "ternary": {
           "aaxis": {
            "gridcolor": "white",
            "linecolor": "white",
            "ticks": ""
           },
           "baxis": {
            "gridcolor": "white",
            "linecolor": "white",
            "ticks": ""
           },
           "bgcolor": "#E5ECF6",
           "caxis": {
            "gridcolor": "white",
            "linecolor": "white",
            "ticks": ""
           }
          },
          "title": {
           "x": 0.05
          },
          "xaxis": {
           "automargin": true,
           "gridcolor": "white",
           "linecolor": "white",
           "ticks": "",
           "title": {
            "standoff": 15
           },
           "zerolinecolor": "white",
           "zerolinewidth": 2
          },
          "yaxis": {
           "automargin": true,
           "gridcolor": "white",
           "linecolor": "white",
           "ticks": "",
           "title": {
            "standoff": 15
           },
           "zerolinecolor": "white",
           "zerolinewidth": 2
          }
         }
        },
        "title": {
         "text": "Pressure quality ( 102)",
         "x": 0.5,
         "xanchor": "center"
        },
        "width": 1200,
        "xaxis": {
         "anchor": "y",
         "domain": [
          0,
          1
         ],
         "gridcolor": "white",
         "showgrid": true,
         "title": {
          "text": "pressures_completed/90"
         },
         "zeroline": false
        },
        "yaxis": {
         "anchor": "x",
         "domain": [
          0,
          1
         ],
         "gridcolor": "white",
         "showgrid": true,
         "title": {
          "text": "pressure_success_%"
         },
         "zeroline": false
        }
       }
      }
     },
     "metadata": {},
     "output_type": "display_data"
    }
   ],
   "source": [
    "# Full universe \n",
    "scatter_plot(df_targets,\n",
    "             x_metric='pressures_completed/90', \n",
    "             y_metric='pressure_success_%',\n",
    "             z_metric='duels_win_%',\n",
    "             title='Pressure quality', \n",
    "             show_name_label=True\n",
    ")"
   ]
  },
  {
   "cell_type": "code",
   "execution_count": 53,
   "id": "9856c684",
   "metadata": {},
   "outputs": [
    {
     "data": {
      "application/vnd.plotly.v1+json": {
       "config": {
        "plotlyServerURL": "https://plot.ly"
       },
       "data": [
        {
         "customdata": [
          [
           "Stephen Odey",
           "Randers FC"
          ],
          [
           "Tomás Conechny",
           "Godoy Cruz"
          ],
          [
           "Jonatan Torres",
           "Lanús"
          ],
          [
           "Nahuel Bustos",
           "Talleres"
          ],
          [
           "Maximiliano Salas",
           "Racing Club"
          ],
          [
           "Santiago Rodríguez",
           "Instituto"
          ],
          [
           "Jonás Acevedo",
           "Instituto"
          ],
          [
           "Lucas Brochero",
           "Barracas Central"
          ],
          [
           "Mauro Luna Diale",
           "Unión (SF)"
          ],
          [
           "Justo Giani",
           "Atl. Tucumán"
          ],
          [
           "Rodrigo Castillo",
           "Gimnasia (LP)"
          ],
          [
           "Ivo Mammini",
           "Gimnasia (LP)"
          ],
          [
           "Othmane Boussaid",
           "FC Utrecht"
          ],
          [
           "Bryan Limbombe",
           "Heracles Almelo"
          ],
          [
           "Pedro",
           "FLA"
          ],
          [
           "Arthur Cabral",
           "SL Benfica"
          ],
          [
           "Paulinho",
           "ATM"
          ],
          [
           "Yuri Alberto",
           "COR"
          ],
          [
           "Vitinho",
           "RB Bragantino"
          ],
          [
           "David da Hora",
           "FOR"
          ],
          [
           "Bruno Marques",
           "SAN"
          ],
          [
           "Lázaro",
           "SEP"
          ],
          [
           "Igor Paixão",
           "Feyenoord"
          ],
          [
           "Matheus Babi",
           "Athlético Paranaense"
          ],
          [
           "Haji Wright",
           "Coventry"
          ],
          [
           "Ondřej Lingr",
           "Feyenoord"
          ],
          [
           "Jens Odgaard",
           "Bologna"
          ],
          [
           "Søren Tengstedt",
           "Go Ahead Eagles"
          ],
          [
           "Mileta Rajović",
           "Watford"
          ],
          [
           "Lirim Qamili",
           "Hvidovre IF"
          ],
          [
           "Alexander Lind",
           "Silkeborg IF"
          ],
          [
           "Anosike Ementa",
           "Viborg FF"
          ],
          [
           "Adam Armstrong",
           "Southampton"
          ],
          [
           "Iké Ugbo",
           "Sheffield Wednesday"
          ],
          [
           "Josh Maja",
           "West Brom"
          ],
          [
           "Tyrese Campbell",
           "Stoke"
          ],
          [
           "Ellis Simms",
           "Coventry"
          ],
          [
           "Conor Chaplin",
           "Ipswich"
          ],
          [
           "Jacob Brown",
           "Luton"
          ],
          [
           "Fredrik Jensen",
           "Augsburg"
          ],
          [
           "Guus Til",
           "PSV"
          ],
          [
           "Delano Burgzorg",
           "Huddersfield"
          ],
          [
           "Myron Boadu",
           "FC Twente"
          ],
          [
           "Zakaria Aboukhlal",
           "Toulouse"
          ],
          [
           "Sydney van Hooijdonk",
           "Norwich"
          ],
          [
           "Emmanuel Latte Lath",
           "Middlesbrough"
          ],
          [
           "Nicolò Zaniolo",
           "Aston Villa"
          ],
          [
           "Odsonne Edouard",
           "Crystal Palace"
          ],
          [
           "Ismaïla Sarr",
           "Marseille"
          ],
          [
           "Chiedozie Ogbene",
           "Luton"
          ],
          [
           "Ion Nicolăescu",
           "sc Heerenveen"
          ],
          [
           "Issah Abass",
           "Desp. Chaves"
          ],
          [
           "Cho Gue-Sung",
           "FC Midtjylland"
          ],
          [
           "Toni Martínez",
           "FC Porto"
          ],
          [
           "Chris Ramos",
           "Cádiz"
          ],
          [
           "Isaac Romero",
           "Sevilla"
          ],
          [
           "Óscar Estupiñán",
           "BAH"
          ],
          [
           "Edwuin Cetré",
           "Estudiantes (LP)"
          ],
          [
           "Thiago Borbas",
           "RB Bragantino"
          ],
          [
           "Blas Armoa",
           "Tigre"
          ],
          [
           "Isidro Pitta",
           "CUI"
          ],
          [
           "Marcelo Pérez",
           "Huracán"
          ],
          [
           "Vangelis Pavlidis",
           "AZ"
          ],
          [
           "Benjamin Nygren",
           "FC Nordsjælland"
          ],
          [
           "Franculino Djú",
           "FC Midtjylland"
          ],
          [
           "Figueiredo",
           "CTB"
          ],
          [
           "José Manuel López",
           "SEP"
          ],
          [
           "Victor Hugo",
           "FLA"
          ],
          [
           "Facundo Echevarría",
           "Defensa y Justicia"
          ],
          [
           "Paulo Victor",
           "Desp. Chaves"
          ],
          [
           "Lucca Holanda",
           "INT"
          ],
          [
           "Roony Bardghji",
           "FC København"
          ],
          [
           "Vivaldo Semedo",
           "FC Volendam"
          ],
          [
           "Renato Marques",
           "AMG"
          ],
          [
           "Jason van Duiven",
           "Almere City"
          ],
          [
           "Aidomo Emakhu",
           "Millwall"
          ],
          [
           "Jobe Bellingham",
           "Sunderland"
          ],
          [
           "Jean Gabriel",
           "CTB"
          ]
         ],
         "hovertemplate": "<b>%{customdata[0]}</b><br><b>%{customdata[1]}</b><br><br>pressures_completed/90: %{x}<br>pressure_success_%: %{y}<br>duels_win_%: %{marker.color}<extra></extra>",
         "legendgroup": "",
         "marker": {
          "color": {
           "bdata": "AAAAAAAgQUBmZmZmZoZMQMP1KFyPwkRASOF6FK4HQUCF61G4HkVBQHsUrkfhekBAzczMzMxsQUDNzMzMzIxMQClcj8L16EBAUrgehesRTUCPwvUoXA9EQJqZmZmZmUNAw/UoXI9CRECuR+F6FG5EQMP1KFyPgkRAzczMzMxMSEAzMzMzMzNLQK5H4XoU7kJAMzMzMzNzS0C4HoXrUVhDQGZmZmZmRktAuB6F61F4SkBmZmZmZqZIQBSuR+F6FEhAuB6F61GYSEDD9ShcjyJHQBSuR+F6NEtAexSuR+FKUEBSuB6F69FIQD0K16NwnU1Aj8L1KFxvRECkcD0K1wNPQM3MzMzM7EpAw/UoXI9CPkAAAAAAAOBHQHsUrkfhGkJASOF6FK6nTEAAAAAAAABJQArXo3A9qkBAAAAAAACgQkCPwvUoXL9QQArXo3A9iktAcT0K16MQQUApXI/C9UhEQMP1KFyPAkdAcT0K16OwRkBcj8L1KLxPQBSuR+F6NEVAMzMzMzOTS0CamZmZmdk/QAAAAAAAwEJAH4XrUbheRkAzMzMzMzNEQAAAAAAAwEJA9ihcj8KVS0DXo3A9ChdBQK5H4XoUbkVAw/UoXI9CQEApXI/C9YhCQJqZmZmZuUlAAAAAAAAASUCamZmZmflAQEjhehSux01AuB6F61G4RUAAAAAAAKBHQFyPwvUonENAzczMzMwsSkAzMzMzMzNIQPYoXI/C9UVA16NwPQoXSEBI4XoUrqdBQK5H4XoUrkJAj8L1KFzvQ0A9CtejcB1CQFK4HoXrsUNACtejcD2qRUAUrkfhemRRQMP1KFyPIkZA",
           "dtype": "f8"
          },
          "coloraxis": "coloraxis",
          "size": 10,
          "symbol": "circle"
         },
         "mode": "markers+text",
         "name": "",
         "orientation": "v",
         "showlegend": false,
         "text": [
          "Stephen Odey",
          "Tomás Conechny",
          "Jonatan Torres",
          "Nahuel Bustos",
          "Maximiliano Salas",
          "Santiago Rodríguez",
          "Jonás Acevedo",
          "Lucas Brochero",
          "Mauro Luna Diale",
          "Justo Giani",
          "Rodrigo Castillo",
          "Ivo Mammini",
          "Othmane Boussaid",
          "Bryan Limbombe",
          "Pedro",
          "Arthur Cabral",
          "Paulinho",
          "Yuri Alberto",
          "Vitinho",
          "David da Hora",
          "Bruno Marques",
          "Lázaro",
          "Igor Paixão",
          "Matheus Babi",
          "Haji Wright",
          "Ondřej Lingr",
          "Jens Odgaard",
          "Søren Tengstedt",
          "Mileta Rajović",
          "Lirim Qamili",
          "Alexander Lind",
          "Anosike Ementa",
          "Adam Armstrong",
          "Iké Ugbo",
          "Josh Maja",
          "Tyrese Campbell",
          "Ellis Simms",
          "Conor Chaplin",
          "Jacob Brown",
          "Fredrik Jensen",
          "Guus Til",
          "Delano Burgzorg",
          "Myron Boadu",
          "Zakaria Aboukhlal",
          "Sydney van Hooijdonk",
          "Emmanuel Latte Lath",
          "Nicolò Zaniolo",
          "Odsonne Edouard",
          "Ismaïla Sarr",
          "Chiedozie Ogbene",
          "Ion Nicolăescu",
          "Issah Abass",
          "Cho Gue-Sung",
          "Toni Martínez",
          "Chris Ramos",
          "Isaac Romero",
          "Óscar Estupiñán",
          "Edwuin Cetré",
          "Thiago Borbas",
          "Blas Armoa",
          "Isidro Pitta",
          "Marcelo Pérez",
          "Vangelis Pavlidis",
          "Benjamin Nygren",
          "Franculino Djú",
          "Figueiredo",
          "José Manuel López",
          "Victor Hugo",
          "Facundo Echevarría",
          "Paulo Victor",
          "Lucca Holanda",
          "Roony Bardghji",
          "Vivaldo Semedo",
          "Renato Marques",
          "Jason van Duiven",
          "Aidomo Emakhu",
          "Jobe Bellingham",
          "Jean Gabriel"
         ],
         "textfont": {
          "size": 10
         },
         "textposition": "top center",
         "type": "scatter",
         "x": {
          "bdata": "CtejcD0K/z8pXI/C9SgOQFK4HoXrUfw/CtejcD0K/z9mZmZmZmYAQArXo3A9CgNAzczMzMzMAkDXo3A9CtcNQJqZmZmZmQNASOF6FK5HDUC4HoXrUbgAQB+F61G4HgFAcT0K16NwDUApXI/C9SgCQOF6FK5H4fo/uB6F61G4/j8K16NwPQoHQGZmZmZmZvY/rkfhehSuCUCF61G4HoX/P65H4XoUrvc/CtejcD0KC0DsUbgehesLQD0K16NwPfo/AAAAAAAABEBSuB6F61EGQJqZmZmZmQNAPQrXo3A9CkAAAAAAAAD8P1yPwvUoXP8/4XoUrkfh/j/D9Shcj8L9P3sUrkfhegxArkfhehSu/z+F61G4HoX7P4/C9Shcj/Y/16NwPQrXA0D2KFyPwvUEQOxRuB6F6wVASOF6FK5HCUBcj8L1KFwNQLgehetRuAhASOF6FK5H+T8AAAAAAAACQBSuR+F6FAJAXI/C9ShcA0AzMzMzMzMJQArXo3A9Cv8/hetRuB6FD0AAAAAAAAAOQLgehetRuPI/UrgehetRAkDsUbgehesDQEjhehSuR/0/ZmZmZmZmAED2KFyPwvX8P3sUrkfhevg/w/UoXI/CB0DhehSuR+H6P8P1KFyPwgtA7FG4HoXrAUBcj8L1KFz/P2ZmZmZmZgBAFK5H4XoU/j9SuB6F61H8P4/C9ShcjwZAXI/C9Shc9z9cj8L1KFwDQGZmZmZmZv4/UrgehetRAkDXo3A9Ctf/PwrXo3A9CgdAexSuR+F6/D+uR+F6FK73P0jhehSuR/U/MzMzMzMzA0AfhetRuB4LQHsUrkfhevw/",
          "dtype": "f8"
         },
         "xaxis": "x",
         "y": {
          "bdata": "4XoUrkchN0CPwvUoXE87QLgehetR+DVA7FG4HoWrP0BI4XoUrsc9QAAAAAAAQDlA16NwPQoXOkCF61G4HoU7QAAAAAAAgDdAcT0K16MwPEDD9Shcj4I4QOF6FK5HITlAmpmZmZnZO0AAAAAAAAA5QDMzMzMzszdA4XoUrkchO0BmZmZmZmY2QClcj8L1KDdAFK5H4XpUOUC4HoXrUXg6QLgehetReDRACtejcD2KP0BSuB6F65E+QHsUrkfhejlASOF6FK6HOUA9CtejcD1AQAAAAAAAADlAFK5H4Xo0QEAUrkfhehQ3QOF6FK5H4TRApHA9CtdjN0BSuB6F65E1QKRwPQrXYzpAXI/C9Sg8QECamZmZmdk6QAAAAAAAADRASOF6FK7HOED2KFyPwvU5QArXo3A9yjpAexSuR+E6PUDXo3A9CndAQJqZmZmZGTlAXI/C9SgcOECamZmZmZk3QFyPwvUo3DxACtejcD1KNkAAAAAAAAA+QGZmZmZm5jdA7FG4HoVrOkB7FK5H4To+QOxRuB6FazlAuB6F61F4M0DhehSuRyE8QFK4HoXrkTxAuB6F61H4OUAUrkfhehQ3QBSuR+F6lDlAhetRuB5FO0AUrkfhehQ3QHE9Ctej8DhA16NwPQoXPEDD9Shcj4I4QD0K16NwvUFA9ihcj8I1NEAAAAAAAAA3QKRwPQrXozxACtejcD3KNUApXI/C9Sg4QD0K16NwfTVApHA9CtejOEC4HoXrUXg6QD0K16NwfTdAH4XrUbjeO0Bcj8L1KJw3QIXrUbgehTVAuB6F61F4OEBmZmZmZmY6QJqZmZmZWTNA",
          "dtype": "f8"
         },
         "yaxis": "y"
        }
       ],
       "layout": {
        "coloraxis": {
         "colorbar": {
          "title": {
           "text": "duels_win_%"
          }
         },
         "colorscale": [
          [
           0,
           "rgb(165,0,38)"
          ],
          [
           0.1,
           "rgb(215,48,39)"
          ],
          [
           0.2,
           "rgb(244,109,67)"
          ],
          [
           0.3,
           "rgb(253,174,97)"
          ],
          [
           0.4,
           "rgb(254,224,139)"
          ],
          [
           0.5,
           "rgb(255,255,191)"
          ],
          [
           0.6,
           "rgb(217,239,139)"
          ],
          [
           0.7,
           "rgb(166,217,106)"
          ],
          [
           0.8,
           "rgb(102,189,99)"
          ],
          [
           0.9,
           "rgb(26,152,80)"
          ],
          [
           1,
           "rgb(0,104,55)"
          ]
         ],
         "showscale": false
        },
        "height": 700,
        "legend": {
         "tracegroupgap": 0
        },
        "paper_bgcolor": "darkgray",
        "plot_bgcolor": "darkgray",
        "template": {
         "data": {
          "bar": [
           {
            "error_x": {
             "color": "#2a3f5f"
            },
            "error_y": {
             "color": "#2a3f5f"
            },
            "marker": {
             "line": {
              "color": "#E5ECF6",
              "width": 0.5
             },
             "pattern": {
              "fillmode": "overlay",
              "size": 10,
              "solidity": 0.2
             }
            },
            "type": "bar"
           }
          ],
          "barpolar": [
           {
            "marker": {
             "line": {
              "color": "#E5ECF6",
              "width": 0.5
             },
             "pattern": {
              "fillmode": "overlay",
              "size": 10,
              "solidity": 0.2
             }
            },
            "type": "barpolar"
           }
          ],
          "carpet": [
           {
            "aaxis": {
             "endlinecolor": "#2a3f5f",
             "gridcolor": "white",
             "linecolor": "white",
             "minorgridcolor": "white",
             "startlinecolor": "#2a3f5f"
            },
            "baxis": {
             "endlinecolor": "#2a3f5f",
             "gridcolor": "white",
             "linecolor": "white",
             "minorgridcolor": "white",
             "startlinecolor": "#2a3f5f"
            },
            "type": "carpet"
           }
          ],
          "choropleth": [
           {
            "colorbar": {
             "outlinewidth": 0,
             "ticks": ""
            },
            "type": "choropleth"
           }
          ],
          "contour": [
           {
            "colorbar": {
             "outlinewidth": 0,
             "ticks": ""
            },
            "colorscale": [
             [
              0,
              "#0d0887"
             ],
             [
              0.1111111111111111,
              "#46039f"
             ],
             [
              0.2222222222222222,
              "#7201a8"
             ],
             [
              0.3333333333333333,
              "#9c179e"
             ],
             [
              0.4444444444444444,
              "#bd3786"
             ],
             [
              0.5555555555555556,
              "#d8576b"
             ],
             [
              0.6666666666666666,
              "#ed7953"
             ],
             [
              0.7777777777777778,
              "#fb9f3a"
             ],
             [
              0.8888888888888888,
              "#fdca26"
             ],
             [
              1,
              "#f0f921"
             ]
            ],
            "type": "contour"
           }
          ],
          "contourcarpet": [
           {
            "colorbar": {
             "outlinewidth": 0,
             "ticks": ""
            },
            "type": "contourcarpet"
           }
          ],
          "heatmap": [
           {
            "colorbar": {
             "outlinewidth": 0,
             "ticks": ""
            },
            "colorscale": [
             [
              0,
              "#0d0887"
             ],
             [
              0.1111111111111111,
              "#46039f"
             ],
             [
              0.2222222222222222,
              "#7201a8"
             ],
             [
              0.3333333333333333,
              "#9c179e"
             ],
             [
              0.4444444444444444,
              "#bd3786"
             ],
             [
              0.5555555555555556,
              "#d8576b"
             ],
             [
              0.6666666666666666,
              "#ed7953"
             ],
             [
              0.7777777777777778,
              "#fb9f3a"
             ],
             [
              0.8888888888888888,
              "#fdca26"
             ],
             [
              1,
              "#f0f921"
             ]
            ],
            "type": "heatmap"
           }
          ],
          "histogram": [
           {
            "marker": {
             "pattern": {
              "fillmode": "overlay",
              "size": 10,
              "solidity": 0.2
             }
            },
            "type": "histogram"
           }
          ],
          "histogram2d": [
           {
            "colorbar": {
             "outlinewidth": 0,
             "ticks": ""
            },
            "colorscale": [
             [
              0,
              "#0d0887"
             ],
             [
              0.1111111111111111,
              "#46039f"
             ],
             [
              0.2222222222222222,
              "#7201a8"
             ],
             [
              0.3333333333333333,
              "#9c179e"
             ],
             [
              0.4444444444444444,
              "#bd3786"
             ],
             [
              0.5555555555555556,
              "#d8576b"
             ],
             [
              0.6666666666666666,
              "#ed7953"
             ],
             [
              0.7777777777777778,
              "#fb9f3a"
             ],
             [
              0.8888888888888888,
              "#fdca26"
             ],
             [
              1,
              "#f0f921"
             ]
            ],
            "type": "histogram2d"
           }
          ],
          "histogram2dcontour": [
           {
            "colorbar": {
             "outlinewidth": 0,
             "ticks": ""
            },
            "colorscale": [
             [
              0,
              "#0d0887"
             ],
             [
              0.1111111111111111,
              "#46039f"
             ],
             [
              0.2222222222222222,
              "#7201a8"
             ],
             [
              0.3333333333333333,
              "#9c179e"
             ],
             [
              0.4444444444444444,
              "#bd3786"
             ],
             [
              0.5555555555555556,
              "#d8576b"
             ],
             [
              0.6666666666666666,
              "#ed7953"
             ],
             [
              0.7777777777777778,
              "#fb9f3a"
             ],
             [
              0.8888888888888888,
              "#fdca26"
             ],
             [
              1,
              "#f0f921"
             ]
            ],
            "type": "histogram2dcontour"
           }
          ],
          "mesh3d": [
           {
            "colorbar": {
             "outlinewidth": 0,
             "ticks": ""
            },
            "type": "mesh3d"
           }
          ],
          "parcoords": [
           {
            "line": {
             "colorbar": {
              "outlinewidth": 0,
              "ticks": ""
             }
            },
            "type": "parcoords"
           }
          ],
          "pie": [
           {
            "automargin": true,
            "type": "pie"
           }
          ],
          "scatter": [
           {
            "fillpattern": {
             "fillmode": "overlay",
             "size": 10,
             "solidity": 0.2
            },
            "type": "scatter"
           }
          ],
          "scatter3d": [
           {
            "line": {
             "colorbar": {
              "outlinewidth": 0,
              "ticks": ""
             }
            },
            "marker": {
             "colorbar": {
              "outlinewidth": 0,
              "ticks": ""
             }
            },
            "type": "scatter3d"
           }
          ],
          "scattercarpet": [
           {
            "marker": {
             "colorbar": {
              "outlinewidth": 0,
              "ticks": ""
             }
            },
            "type": "scattercarpet"
           }
          ],
          "scattergeo": [
           {
            "marker": {
             "colorbar": {
              "outlinewidth": 0,
              "ticks": ""
             }
            },
            "type": "scattergeo"
           }
          ],
          "scattergl": [
           {
            "marker": {
             "colorbar": {
              "outlinewidth": 0,
              "ticks": ""
             }
            },
            "type": "scattergl"
           }
          ],
          "scattermap": [
           {
            "marker": {
             "colorbar": {
              "outlinewidth": 0,
              "ticks": ""
             }
            },
            "type": "scattermap"
           }
          ],
          "scattermapbox": [
           {
            "marker": {
             "colorbar": {
              "outlinewidth": 0,
              "ticks": ""
             }
            },
            "type": "scattermapbox"
           }
          ],
          "scatterpolar": [
           {
            "marker": {
             "colorbar": {
              "outlinewidth": 0,
              "ticks": ""
             }
            },
            "type": "scatterpolar"
           }
          ],
          "scatterpolargl": [
           {
            "marker": {
             "colorbar": {
              "outlinewidth": 0,
              "ticks": ""
             }
            },
            "type": "scatterpolargl"
           }
          ],
          "scatterternary": [
           {
            "marker": {
             "colorbar": {
              "outlinewidth": 0,
              "ticks": ""
             }
            },
            "type": "scatterternary"
           }
          ],
          "surface": [
           {
            "colorbar": {
             "outlinewidth": 0,
             "ticks": ""
            },
            "colorscale": [
             [
              0,
              "#0d0887"
             ],
             [
              0.1111111111111111,
              "#46039f"
             ],
             [
              0.2222222222222222,
              "#7201a8"
             ],
             [
              0.3333333333333333,
              "#9c179e"
             ],
             [
              0.4444444444444444,
              "#bd3786"
             ],
             [
              0.5555555555555556,
              "#d8576b"
             ],
             [
              0.6666666666666666,
              "#ed7953"
             ],
             [
              0.7777777777777778,
              "#fb9f3a"
             ],
             [
              0.8888888888888888,
              "#fdca26"
             ],
             [
              1,
              "#f0f921"
             ]
            ],
            "type": "surface"
           }
          ],
          "table": [
           {
            "cells": {
             "fill": {
              "color": "#EBF0F8"
             },
             "line": {
              "color": "white"
             }
            },
            "header": {
             "fill": {
              "color": "#C8D4E3"
             },
             "line": {
              "color": "white"
             }
            },
            "type": "table"
           }
          ]
         },
         "layout": {
          "annotationdefaults": {
           "arrowcolor": "#2a3f5f",
           "arrowhead": 0,
           "arrowwidth": 1
          },
          "autotypenumbers": "strict",
          "coloraxis": {
           "colorbar": {
            "outlinewidth": 0,
            "ticks": ""
           }
          },
          "colorscale": {
           "diverging": [
            [
             0,
             "#8e0152"
            ],
            [
             0.1,
             "#c51b7d"
            ],
            [
             0.2,
             "#de77ae"
            ],
            [
             0.3,
             "#f1b6da"
            ],
            [
             0.4,
             "#fde0ef"
            ],
            [
             0.5,
             "#f7f7f7"
            ],
            [
             0.6,
             "#e6f5d0"
            ],
            [
             0.7,
             "#b8e186"
            ],
            [
             0.8,
             "#7fbc41"
            ],
            [
             0.9,
             "#4d9221"
            ],
            [
             1,
             "#276419"
            ]
           ],
           "sequential": [
            [
             0,
             "#0d0887"
            ],
            [
             0.1111111111111111,
             "#46039f"
            ],
            [
             0.2222222222222222,
             "#7201a8"
            ],
            [
             0.3333333333333333,
             "#9c179e"
            ],
            [
             0.4444444444444444,
             "#bd3786"
            ],
            [
             0.5555555555555556,
             "#d8576b"
            ],
            [
             0.6666666666666666,
             "#ed7953"
            ],
            [
             0.7777777777777778,
             "#fb9f3a"
            ],
            [
             0.8888888888888888,
             "#fdca26"
            ],
            [
             1,
             "#f0f921"
            ]
           ],
           "sequentialminus": [
            [
             0,
             "#0d0887"
            ],
            [
             0.1111111111111111,
             "#46039f"
            ],
            [
             0.2222222222222222,
             "#7201a8"
            ],
            [
             0.3333333333333333,
             "#9c179e"
            ],
            [
             0.4444444444444444,
             "#bd3786"
            ],
            [
             0.5555555555555556,
             "#d8576b"
            ],
            [
             0.6666666666666666,
             "#ed7953"
            ],
            [
             0.7777777777777778,
             "#fb9f3a"
            ],
            [
             0.8888888888888888,
             "#fdca26"
            ],
            [
             1,
             "#f0f921"
            ]
           ]
          },
          "colorway": [
           "#636efa",
           "#EF553B",
           "#00cc96",
           "#ab63fa",
           "#FFA15A",
           "#19d3f3",
           "#FF6692",
           "#B6E880",
           "#FF97FF",
           "#FECB52"
          ],
          "font": {
           "color": "#2a3f5f"
          },
          "geo": {
           "bgcolor": "white",
           "lakecolor": "white",
           "landcolor": "#E5ECF6",
           "showlakes": true,
           "showland": true,
           "subunitcolor": "white"
          },
          "hoverlabel": {
           "align": "left"
          },
          "hovermode": "closest",
          "mapbox": {
           "style": "light"
          },
          "paper_bgcolor": "white",
          "plot_bgcolor": "#E5ECF6",
          "polar": {
           "angularaxis": {
            "gridcolor": "white",
            "linecolor": "white",
            "ticks": ""
           },
           "bgcolor": "#E5ECF6",
           "radialaxis": {
            "gridcolor": "white",
            "linecolor": "white",
            "ticks": ""
           }
          },
          "scene": {
           "xaxis": {
            "backgroundcolor": "#E5ECF6",
            "gridcolor": "white",
            "gridwidth": 2,
            "linecolor": "white",
            "showbackground": true,
            "ticks": "",
            "zerolinecolor": "white"
           },
           "yaxis": {
            "backgroundcolor": "#E5ECF6",
            "gridcolor": "white",
            "gridwidth": 2,
            "linecolor": "white",
            "showbackground": true,
            "ticks": "",
            "zerolinecolor": "white"
           },
           "zaxis": {
            "backgroundcolor": "#E5ECF6",
            "gridcolor": "white",
            "gridwidth": 2,
            "linecolor": "white",
            "showbackground": true,
            "ticks": "",
            "zerolinecolor": "white"
           }
          },
          "shapedefaults": {
           "line": {
            "color": "#2a3f5f"
           }
          },
          "ternary": {
           "aaxis": {
            "gridcolor": "white",
            "linecolor": "white",
            "ticks": ""
           },
           "baxis": {
            "gridcolor": "white",
            "linecolor": "white",
            "ticks": ""
           },
           "bgcolor": "#E5ECF6",
           "caxis": {
            "gridcolor": "white",
            "linecolor": "white",
            "ticks": ""
           }
          },
          "title": {
           "x": 0.05
          },
          "xaxis": {
           "automargin": true,
           "gridcolor": "white",
           "linecolor": "white",
           "ticks": "",
           "title": {
            "standoff": 15
           },
           "zerolinecolor": "white",
           "zerolinewidth": 2
          },
          "yaxis": {
           "automargin": true,
           "gridcolor": "white",
           "linecolor": "white",
           "ticks": "",
           "title": {
            "standoff": 15
           },
           "zerolinecolor": "white",
           "zerolinewidth": 2
          }
         }
        },
        "title": {
         "text": "Pressure quality ( 78)",
         "x": 0.5,
         "xanchor": "center"
        },
        "width": 1200,
        "xaxis": {
         "anchor": "y",
         "domain": [
          0,
          1
         ],
         "gridcolor": "white",
         "showgrid": true,
         "title": {
          "text": "pressures_completed/90"
         },
         "zeroline": false
        },
        "yaxis": {
         "anchor": "x",
         "domain": [
          0,
          1
         ],
         "gridcolor": "white",
         "showgrid": true,
         "title": {
          "text": "pressure_success_%"
         },
         "zeroline": false
        }
       }
      }
     },
     "metadata": {},
     "output_type": "display_data"
    }
   ],
   "source": [
    "# Filter data \n",
    "mask = (\n",
    "        (df_players['pressures_completed/90'] >= 1) & \\\n",
    "        (df_players['pressure_success_%'] >= 18) & \\\n",
    "        (df_players['duels_win_%'] >= 30) & \\\n",
    "        (df_players['id'].isin(targets))\n",
    "        \n",
    "        \n",
    ")\n",
    "\n",
    "df_targets = df_players[mask]\n",
    "\n",
    "scatter_plot(df_targets,\n",
    "             x_metric='pressures_completed/90', \n",
    "             y_metric='pressure_success_%',\n",
    "             z_metric='duels_win_%',\n",
    "             title='Pressure quality', \n",
    "             show_name_label=True\n",
    ")\n",
    "\n",
    "# Keep only players that fulfill criteria\n",
    "targets = df_targets['id']"
   ]
  },
  {
   "cell_type": "markdown",
   "id": "6dabb355",
   "metadata": {},
   "source": [
    "## Presence"
   ]
  },
  {
   "cell_type": "code",
   "execution_count": 49,
   "id": "907f59a5",
   "metadata": {},
   "outputs": [
    {
     "data": {
      "text/html": [
       "<div>\n",
       "<style scoped>\n",
       "    .dataframe tbody tr th:only-of-type {\n",
       "        vertical-align: middle;\n",
       "    }\n",
       "\n",
       "    .dataframe tbody tr th {\n",
       "        vertical-align: top;\n",
       "    }\n",
       "\n",
       "    .dataframe thead th {\n",
       "        text-align: right;\n",
       "    }\n",
       "</style>\n",
       "<table border=\"1\" class=\"dataframe\">\n",
       "  <thead>\n",
       "    <tr style=\"text-align: right;\">\n",
       "      <th></th>\n",
       "      <th>id</th>\n",
       "      <th>name</th>\n",
       "      <th>position</th>\n",
       "      <th>age</th>\n",
       "      <th>height</th>\n",
       "      <th>weight</th>\n",
       "      <th>inf</th>\n",
       "      <th>club</th>\n",
       "      <th>division</th>\n",
       "      <th>nationality</th>\n",
       "      <th>home_grown</th>\n",
       "      <th>personality</th>\n",
       "      <th>media_handling</th>\n",
       "      <th>wage</th>\n",
       "      <th>transfer_value</th>\n",
       "      <th>asking_price</th>\n",
       "      <th>preferred_foot</th>\n",
       "      <th>starts</th>\n",
       "      <th>minutes_played</th>\n",
       "      <th>average_rating</th>\n",
       "      <th>sub_appearances</th>\n",
       "      <th>minutes/game</th>\n",
       "      <th>index</th>\n",
       "      <th>goals/90</th>\n",
       "      <th>minutes/goal</th>\n",
       "      <th>xg/90</th>\n",
       "      <th>xg/shot</th>\n",
       "      <th>xg_overperformance/90</th>\n",
       "      <th>non_pen_goals/90</th>\n",
       "      <th>non_pen_goals/shot</th>\n",
       "      <th>minutes/non_pen_goal</th>\n",
       "      <th>non_pen_xg/90</th>\n",
       "      <th>non_pen_goals___non_pens_xg_/90</th>\n",
       "      <th>non_pen_xg/shot</th>\n",
       "      <th>non_pen_xg_overperformance/90</th>\n",
       "      <th>goals_outside_box/90</th>\n",
       "      <th>assists/90</th>\n",
       "      <th>minutes/assist</th>\n",
       "      <th>xa/90</th>\n",
       "      <th>xa_overperformance</th>\n",
       "      <th>xa_overperformance/90</th>\n",
       "      <th>assists/clear_cut_chances_created</th>\n",
       "      <th>goal_contributions/90</th>\n",
       "      <th>xgc/90</th>\n",
       "      <th>xgc_overperformance/90</th>\n",
       "      <th>non_pen_goal_contributions/90</th>\n",
       "      <th>non_pen_xgc/90</th>\n",
       "      <th>non_pen_xgc_overperformance/90</th>\n",
       "      <th>conversion_%</th>\n",
       "      <th>shots/90</th>\n",
       "      <th>shots_on_target/90</th>\n",
       "      <th>shots_on_target_%</th>\n",
       "      <th>shots_outside_box/90</th>\n",
       "      <th>passes_attempted/90</th>\n",
       "      <th>passes_completed/90</th>\n",
       "      <th>pass_completion_%</th>\n",
       "      <th>progressive_passes/90</th>\n",
       "      <th>progressive_pass_rate</th>\n",
       "      <th>key_passes/90</th>\n",
       "      <th>key_pass_%</th>\n",
       "      <th>open_play_key_passes/90</th>\n",
       "      <th>open_play_key_pass_%</th>\n",
       "      <th>chances_created/90</th>\n",
       "      <th>clear_cut_chances_created/90</th>\n",
       "      <th>pressures_attempted/90</th>\n",
       "      <th>pressures_completed/90</th>\n",
       "      <th>pressure_success_%</th>\n",
       "      <th>possession_won/90</th>\n",
       "      <th>possession_lost/90</th>\n",
       "      <th>poss+_/90</th>\n",
       "      <th>poss+__%</th>\n",
       "      <th>dribbles/90</th>\n",
       "      <th>headers_attempted/90</th>\n",
       "      <th>headers_won/90</th>\n",
       "      <th>headers_won_%</th>\n",
       "      <th>headers_lost/90</th>\n",
       "      <th>headers_lost_%</th>\n",
       "      <th>key_headers/90</th>\n",
       "      <th>aerial_challenges_attempted/90</th>\n",
       "      <th>duels_win_%</th>\n",
       "      <th>player_of_the_match</th>\n",
       "      <th>mistakes_leading_to_goal</th>\n",
       "      <th>sprints/90</th>\n",
       "      <th>attacking_actions/90</th>\n",
       "      <th>creative_actions/90</th>\n",
       "      <th>defensive_actions/90</th>\n",
       "      <th>goalkeeping_actions/90</th>\n",
       "      <th>excitement_factor/90</th>\n",
       "      <th>general_performance</th>\n",
       "      <th>goalkeeping</th>\n",
       "      <th>defensive_defender</th>\n",
       "      <th>creative_defender</th>\n",
       "      <th>attacking_defender</th>\n",
       "      <th>creative_midfielder</th>\n",
       "      <th>attacking_midfielder</th>\n",
       "      <th>creative_winger</th>\n",
       "      <th>attacking_winger</th>\n",
       "      <th>creative_forward</th>\n",
       "      <th>attacking_forward</th>\n",
       "      <th>finisher</th>\n",
       "      <th>aerial_threat</th>\n",
       "      <th>reader</th>\n",
       "      <th>assister</th>\n",
       "      <th>price_estimate_M</th>\n",
       "      <th>non_pen_goals/non_pen_xg/90</th>\n",
       "    </tr>\n",
       "  </thead>\n",
       "  <tbody>\n",
       "    <tr>\n",
       "      <th>0</th>\n",
       "      <td>168222</td>\n",
       "      <td>Mats Seuntjens</td>\n",
       "      <td>M (LC), AM (RLC), ST (C)</td>\n",
       "      <td>31</td>\n",
       "      <td>187 cm</td>\n",
       "      <td>78 kg</td>\n",
       "      <td>Unh</td>\n",
       "      <td>RKC Waalwijk</td>\n",
       "      <td>Eredivisie</td>\n",
       "      <td>NED</td>\n",
       "      <td>-</td>\n",
       "      <td>-</td>\n",
       "      <td>Scouting Required</td>\n",
       "      <td>$3,200 p/w</td>\n",
       "      <td>$160K - $1.6M</td>\n",
       "      <td>-</td>\n",
       "      <td>Right</td>\n",
       "      <td>15</td>\n",
       "      <td>1305</td>\n",
       "      <td>6.6</td>\n",
       "      <td>0</td>\n",
       "      <td>87.0</td>\n",
       "      <td>0</td>\n",
       "      <td>0.07</td>\n",
       "      <td>1305.0</td>\n",
       "      <td>0.07</td>\n",
       "      <td>0.06</td>\n",
       "      <td>0.0</td>\n",
       "      <td>0.07</td>\n",
       "      <td>0.07</td>\n",
       "      <td>1305.0</td>\n",
       "      <td>0.07</td>\n",
       "      <td>0.0</td>\n",
       "      <td>0.06</td>\n",
       "      <td>0.0</td>\n",
       "      <td>0.0</td>\n",
       "      <td>0.14</td>\n",
       "      <td>652.5</td>\n",
       "      <td>0.08</td>\n",
       "      <td>0.79</td>\n",
       "      <td>0.05</td>\n",
       "      <td>0.0</td>\n",
       "      <td>0.21</td>\n",
       "      <td>0.15</td>\n",
       "      <td>0.06</td>\n",
       "      <td>0.21</td>\n",
       "      <td>0.15</td>\n",
       "      <td>0.06</td>\n",
       "      <td>7</td>\n",
       "      <td>1.03</td>\n",
       "      <td>0.48</td>\n",
       "      <td>47</td>\n",
       "      <td>0.48</td>\n",
       "      <td>31.45</td>\n",
       "      <td>25.45</td>\n",
       "      <td>81</td>\n",
       "      <td>1.03</td>\n",
       "      <td>3.29</td>\n",
       "      <td>0.9</td>\n",
       "      <td>2.85</td>\n",
       "      <td>0.62</td>\n",
       "      <td>1.97</td>\n",
       "      <td>0.07</td>\n",
       "      <td>0.07</td>\n",
       "      <td>9.38</td>\n",
       "      <td>1.59</td>\n",
       "      <td>16.91</td>\n",
       "      <td>5.38</td>\n",
       "      <td>11.52</td>\n",
       "      <td>-6.14</td>\n",
       "      <td>-53.3</td>\n",
       "      <td>2.0</td>\n",
       "      <td>8.69</td>\n",
       "      <td>4.0</td>\n",
       "      <td>46.03</td>\n",
       "      <td>4.69</td>\n",
       "      <td>53.97</td>\n",
       "      <td>0.0</td>\n",
       "      <td>8.69</td>\n",
       "      <td>52.2</td>\n",
       "      <td>0</td>\n",
       "      <td>0</td>\n",
       "      <td>12.07</td>\n",
       "      <td>2.52</td>\n",
       "      <td>1.03</td>\n",
       "      <td>8.99</td>\n",
       "      <td>0</td>\n",
       "      <td>4.55</td>\n",
       "      <td>18</td>\n",
       "      <td>100</td>\n",
       "      <td>65</td>\n",
       "      <td>57</td>\n",
       "      <td>51</td>\n",
       "      <td>7</td>\n",
       "      <td>5</td>\n",
       "      <td>20</td>\n",
       "      <td>25</td>\n",
       "      <td>16</td>\n",
       "      <td>13</td>\n",
       "      <td>6</td>\n",
       "      <td>51</td>\n",
       "      <td>59</td>\n",
       "      <td>54</td>\n",
       "      <td>1.056</td>\n",
       "      <td>1.0</td>\n",
       "    </tr>\n",
       "  </tbody>\n",
       "</table>\n",
       "</div>"
      ],
      "text/plain": [
       "       id            name                  position  age  height weight  inf  \\\n",
       "0  168222  Mats Seuntjens  M (LC), AM (RLC), ST (C)   31  187 cm  78 kg  Unh   \n",
       "\n",
       "           club    division nationality home_grown personality  \\\n",
       "0  RKC Waalwijk  Eredivisie         NED          -           -   \n",
       "\n",
       "      media_handling        wage transfer_value asking_price preferred_foot  \\\n",
       "0  Scouting Required  $3,200 p/w  $160K - $1.6M            -          Right   \n",
       "\n",
       "   starts  minutes_played  average_rating  sub_appearances  minutes/game  \\\n",
       "0      15            1305             6.6                0          87.0   \n",
       "\n",
       "   index  goals/90  minutes/goal  xg/90  xg/shot  xg_overperformance/90  \\\n",
       "0      0      0.07        1305.0   0.07     0.06                    0.0   \n",
       "\n",
       "   non_pen_goals/90  non_pen_goals/shot  minutes/non_pen_goal  non_pen_xg/90  \\\n",
       "0              0.07                0.07                1305.0           0.07   \n",
       "\n",
       "   non_pen_goals___non_pens_xg_/90  non_pen_xg/shot  \\\n",
       "0                              0.0             0.06   \n",
       "\n",
       "   non_pen_xg_overperformance/90  goals_outside_box/90  assists/90  \\\n",
       "0                            0.0                   0.0        0.14   \n",
       "\n",
       "   minutes/assist  xa/90  xa_overperformance  xa_overperformance/90  \\\n",
       "0           652.5   0.08                0.79                   0.05   \n",
       "\n",
       "   assists/clear_cut_chances_created  goal_contributions/90  xgc/90  \\\n",
       "0                                0.0                   0.21    0.15   \n",
       "\n",
       "   xgc_overperformance/90  non_pen_goal_contributions/90  non_pen_xgc/90  \\\n",
       "0                    0.06                           0.21            0.15   \n",
       "\n",
       "   non_pen_xgc_overperformance/90  conversion_%  shots/90  shots_on_target/90  \\\n",
       "0                            0.06             7      1.03                0.48   \n",
       "\n",
       "   shots_on_target_%  shots_outside_box/90  passes_attempted/90  \\\n",
       "0                 47                  0.48                31.45   \n",
       "\n",
       "   passes_completed/90  pass_completion_%  progressive_passes/90  \\\n",
       "0                25.45                 81                   1.03   \n",
       "\n",
       "   progressive_pass_rate  key_passes/90  key_pass_%  open_play_key_passes/90  \\\n",
       "0                   3.29            0.9        2.85                     0.62   \n",
       "\n",
       "   open_play_key_pass_%  chances_created/90  clear_cut_chances_created/90  \\\n",
       "0                  1.97                0.07                          0.07   \n",
       "\n",
       "   pressures_attempted/90  pressures_completed/90  pressure_success_%  \\\n",
       "0                    9.38                    1.59               16.91   \n",
       "\n",
       "   possession_won/90  possession_lost/90  poss+_/90  poss+__%  dribbles/90  \\\n",
       "0               5.38               11.52      -6.14     -53.3          2.0   \n",
       "\n",
       "   headers_attempted/90  headers_won/90  headers_won_%  headers_lost/90  \\\n",
       "0                  8.69             4.0          46.03             4.69   \n",
       "\n",
       "   headers_lost_%  key_headers/90  aerial_challenges_attempted/90  \\\n",
       "0           53.97             0.0                            8.69   \n",
       "\n",
       "   duels_win_%  player_of_the_match  mistakes_leading_to_goal  sprints/90  \\\n",
       "0         52.2                    0                         0       12.07   \n",
       "\n",
       "   attacking_actions/90  creative_actions/90  defensive_actions/90  \\\n",
       "0                  2.52                 1.03                  8.99   \n",
       "\n",
       "   goalkeeping_actions/90  excitement_factor/90  general_performance  \\\n",
       "0                       0                  4.55                   18   \n",
       "\n",
       "   goalkeeping  defensive_defender  creative_defender  attacking_defender  \\\n",
       "0          100                  65                 57                  51   \n",
       "\n",
       "   creative_midfielder  attacking_midfielder  creative_winger  \\\n",
       "0                    7                     5               20   \n",
       "\n",
       "   attacking_winger  creative_forward  attacking_forward  finisher  \\\n",
       "0                25                16                 13         6   \n",
       "\n",
       "   aerial_threat  reader  assister  price_estimate_M  \\\n",
       "0             51      59        54             1.056   \n",
       "\n",
       "   non_pen_goals/non_pen_xg/90  \n",
       "0                          1.0  "
      ]
     },
     "execution_count": 49,
     "metadata": {},
     "output_type": "execute_result"
    }
   ],
   "source": [
    "df_players.head(1)"
   ]
  },
  {
   "cell_type": "code",
   "execution_count": 51,
   "id": "115f7fe2",
   "metadata": {},
   "outputs": [
    {
     "data": {
      "application/vnd.plotly.v1+json": {
       "config": {
        "plotlyServerURL": "https://plot.ly"
       },
       "data": [
        {
         "customdata": [
          [
           "Stephen Odey",
           "Randers FC"
          ],
          [
           "Tomás Conechny",
           "Godoy Cruz"
          ],
          [
           "Jonatan Torres",
           "Lanús"
          ],
          [
           "Nahuel Bustos",
           "Talleres"
          ],
          [
           "Maximiliano Salas",
           "Racing Club"
          ],
          [
           "Santiago Rodríguez",
           "Instituto"
          ],
          [
           "Jonás Acevedo",
           "Instituto"
          ],
          [
           "Lucas Brochero",
           "Barracas Central"
          ],
          [
           "Mauro Luna Diale",
           "Unión (SF)"
          ],
          [
           "Justo Giani",
           "Atl. Tucumán"
          ],
          [
           "Rodrigo Castillo",
           "Gimnasia (LP)"
          ],
          [
           "Ivo Mammini",
           "Gimnasia (LP)"
          ],
          [
           "Othmane Boussaid",
           "FC Utrecht"
          ],
          [
           "Bryan Limbombe",
           "Heracles Almelo"
          ],
          [
           "Pedro",
           "FLA"
          ],
          [
           "Arthur Cabral",
           "SL Benfica"
          ],
          [
           "Paulinho",
           "ATM"
          ],
          [
           "Yuri Alberto",
           "COR"
          ],
          [
           "Vitinho",
           "RB Bragantino"
          ],
          [
           "David da Hora",
           "FOR"
          ],
          [
           "Bruno Marques",
           "SAN"
          ],
          [
           "Lázaro",
           "SEP"
          ],
          [
           "Igor Paixão",
           "Feyenoord"
          ],
          [
           "Matheus Babi",
           "Athlético Paranaense"
          ],
          [
           "Haji Wright",
           "Coventry"
          ],
          [
           "Ondřej Lingr",
           "Feyenoord"
          ],
          [
           "Jens Odgaard",
           "Bologna"
          ],
          [
           "Søren Tengstedt",
           "Go Ahead Eagles"
          ],
          [
           "Mileta Rajović",
           "Watford"
          ],
          [
           "Lirim Qamili",
           "Hvidovre IF"
          ],
          [
           "Alexander Lind",
           "Silkeborg IF"
          ],
          [
           "Anosike Ementa",
           "Viborg FF"
          ],
          [
           "Adam Armstrong",
           "Southampton"
          ],
          [
           "Iké Ugbo",
           "Sheffield Wednesday"
          ],
          [
           "Josh Maja",
           "West Brom"
          ],
          [
           "Tyrese Campbell",
           "Stoke"
          ],
          [
           "Ellis Simms",
           "Coventry"
          ],
          [
           "Conor Chaplin",
           "Ipswich"
          ],
          [
           "Jacob Brown",
           "Luton"
          ],
          [
           "Fredrik Jensen",
           "Augsburg"
          ],
          [
           "Guus Til",
           "PSV"
          ],
          [
           "Delano Burgzorg",
           "Huddersfield"
          ],
          [
           "Myron Boadu",
           "FC Twente"
          ],
          [
           "Zakaria Aboukhlal",
           "Toulouse"
          ],
          [
           "Sydney van Hooijdonk",
           "Norwich"
          ],
          [
           "Emmanuel Latte Lath",
           "Middlesbrough"
          ],
          [
           "Nicolò Zaniolo",
           "Aston Villa"
          ],
          [
           "Odsonne Edouard",
           "Crystal Palace"
          ],
          [
           "Ismaïla Sarr",
           "Marseille"
          ],
          [
           "Chiedozie Ogbene",
           "Luton"
          ],
          [
           "Ion Nicolăescu",
           "sc Heerenveen"
          ],
          [
           "Issah Abass",
           "Desp. Chaves"
          ],
          [
           "Cho Gue-Sung",
           "FC Midtjylland"
          ],
          [
           "Toni Martínez",
           "FC Porto"
          ],
          [
           "Chris Ramos",
           "Cádiz"
          ],
          [
           "Isaac Romero",
           "Sevilla"
          ],
          [
           "Óscar Estupiñán",
           "BAH"
          ],
          [
           "Edwuin Cetré",
           "Estudiantes (LP)"
          ],
          [
           "Thiago Borbas",
           "RB Bragantino"
          ],
          [
           "Blas Armoa",
           "Tigre"
          ],
          [
           "Isidro Pitta",
           "CUI"
          ],
          [
           "Marcelo Pérez",
           "Huracán"
          ],
          [
           "Vangelis Pavlidis",
           "AZ"
          ],
          [
           "Benjamin Nygren",
           "FC Nordsjælland"
          ],
          [
           "Franculino Djú",
           "FC Midtjylland"
          ],
          [
           "Figueiredo",
           "CTB"
          ],
          [
           "José Manuel López",
           "SEP"
          ],
          [
           "Victor Hugo",
           "FLA"
          ],
          [
           "Facundo Echevarría",
           "Defensa y Justicia"
          ],
          [
           "Paulo Victor",
           "Desp. Chaves"
          ],
          [
           "Lucca Holanda",
           "INT"
          ],
          [
           "Roony Bardghji",
           "FC København"
          ],
          [
           "Vivaldo Semedo",
           "FC Volendam"
          ],
          [
           "Renato Marques",
           "AMG"
          ],
          [
           "Jason van Duiven",
           "Almere City"
          ],
          [
           "Aidomo Emakhu",
           "Millwall"
          ],
          [
           "Jobe Bellingham",
           "Sunderland"
          ],
          [
           "Jean Gabriel",
           "CTB"
          ]
         ],
         "hovertemplate": "<b>%{customdata[0]}</b><br><b>%{customdata[1]}</b><br><br>attacking_actions/90: %{x}<br>creative_actions/90: %{y}<br>sprints/90: %{marker.color}<extra></extra>",
         "legendgroup": "",
         "marker": {
          "color": {
           "bdata": "7FG4HoXrHEBcj8L1KFwvQB+F61G4Hh5AAAAAAAAAH0CamZmZmZkaQJqZmZmZGSZA9ihcj8L1I0BSuB6F69EtQPYoXI/C9ShAUrgehetRMUA9CtejcL0hQMP1KFyPwh5AKVyPwvWoMECkcD0K16MXQJqZmZmZmRdASOF6FK5HF0A9CtejcL0rQArXo3A9ChpAMzMzMzMzLEAAAAAAAAAgQDMzMzMzMxlAAAAAAAAAKkCPwvUoXI8mQDMzMzMzMxxApHA9CtejHkC4HoXrUbgmQIXrUbgeBSRApHA9CtcjMEAfhetRuB4dQOxRuB6F6yFAj8L1KFyPGUBcj8L1KFwfQFK4HoXr0SVA7FG4HoXrGkCuR+F6FK4dQHE9CtejcBxAw/UoXI/CHUC4HoXrUTgtQFK4HoXrUShAzczMzMzMKkBcj8L1KFwnQNejcD0KVy1A7FG4HoXrGUBmZmZmZmYlQKRwPQrXox1A16NwPQpXKEApXI/C9SgvQOF6FK5H4R9A7FG4HoXrLEDsUbgehWssQDMzMzMzMxFArkfhehSuJkAK16NwPQodQFK4HoXrURpAw/UoXI/CJkAAAAAAAAAcQIXrUbgehRhAexSuR+H6KEBcj8L1KFwVQLgehetRuCxAAAAAAACAI0A9CtejcD0cQI/C9ShcjxpAmpmZmZmZJ0DsUbgehesYQI/C9ShcjyRAzczMzMzMFkDsUbgehespQK5H4XoUrh1ACtejcD2KIEAUrkfhehQYQMP1KFyPQilAKVyPwvUoGUB7FK5H4XoaQOxRuB6F6xtArkfhehSuJEAK16NwPQofQMP1KFyPQiJA",
           "dtype": "f8"
          },
          "coloraxis": "coloraxis",
          "size": 10,
          "symbol": "circle"
         },
         "mode": "markers+text",
         "name": "",
         "orientation": "v",
         "showlegend": false,
         "text": [
          "Stephen Odey",
          "Tomás Conechny",
          "Jonatan Torres",
          "Nahuel Bustos",
          "Maximiliano Salas",
          "Santiago Rodríguez",
          "Jonás Acevedo",
          "Lucas Brochero",
          "Mauro Luna Diale",
          "Justo Giani",
          "Rodrigo Castillo",
          "Ivo Mammini",
          "Othmane Boussaid",
          "Bryan Limbombe",
          "Pedro",
          "Arthur Cabral",
          "Paulinho",
          "Yuri Alberto",
          "Vitinho",
          "David da Hora",
          "Bruno Marques",
          "Lázaro",
          "Igor Paixão",
          "Matheus Babi",
          "Haji Wright",
          "Ondřej Lingr",
          "Jens Odgaard",
          "Søren Tengstedt",
          "Mileta Rajović",
          "Lirim Qamili",
          "Alexander Lind",
          "Anosike Ementa",
          "Adam Armstrong",
          "Iké Ugbo",
          "Josh Maja",
          "Tyrese Campbell",
          "Ellis Simms",
          "Conor Chaplin",
          "Jacob Brown",
          "Fredrik Jensen",
          "Guus Til",
          "Delano Burgzorg",
          "Myron Boadu",
          "Zakaria Aboukhlal",
          "Sydney van Hooijdonk",
          "Emmanuel Latte Lath",
          "Nicolò Zaniolo",
          "Odsonne Edouard",
          "Ismaïla Sarr",
          "Chiedozie Ogbene",
          "Ion Nicolăescu",
          "Issah Abass",
          "Cho Gue-Sung",
          "Toni Martínez",
          "Chris Ramos",
          "Isaac Romero",
          "Óscar Estupiñán",
          "Edwuin Cetré",
          "Thiago Borbas",
          "Blas Armoa",
          "Isidro Pitta",
          "Marcelo Pérez",
          "Vangelis Pavlidis",
          "Benjamin Nygren",
          "Franculino Djú",
          "Figueiredo",
          "José Manuel López",
          "Victor Hugo",
          "Facundo Echevarría",
          "Paulo Victor",
          "Lucca Holanda",
          "Roony Bardghji",
          "Vivaldo Semedo",
          "Renato Marques",
          "Jason van Duiven",
          "Aidomo Emakhu",
          "Jobe Bellingham",
          "Jean Gabriel"
         ],
         "textfont": {
          "size": 10
         },
         "textposition": "top center",
         "type": "scatter",
         "x": {
          "bdata": "9ihcj8L1CkD2KFyPwvURQKRwPQrXowpArkfhehSuCUAAAAAAAAAKQJqZmZmZmQVAuB6F61G4BkA9CtejcD0RQAAAAAAAAApApHA9CtejFEBcj8L1KFwPQI/C9ShcjwZAexSuR+F6EUBSuB6F61EQQDMzMzMzMw1ArkfhehSuD0AAAAAAAAAUQBSuR+F6FAZApHA9CtejDkAAAAAAAAAKQGZmZmZmZgJA16NwPQrXEkDXo3A9CtcVQFyPwvUoXAlAj8L1KFyPBkBxPQrXo3ANQAAAAAAAAAZAPQrXo3A9E0Bcj8L1KFwPQAAAAAAAAApAzczMzMzMBkAK16NwPQoPQDMzMzMzMxVAFK5H4XoUDkA9CtejcD0EQMP1KFyPwglASOF6FK5HB0DsUbgehesDQBSuR+F6FARAexSuR+F6BEDsUbgehesHQPYoXI/C9Q5AcT0K16NwCUCamZmZmZkLQD0K16NwPQxAXI/C9ShcFkBmZmZmZmYVQArXo3A9CgFAzczMzMzMGEBxPQrXo3AWQKRwPQrXowRAj8L1KFyPDkDNzMzMzMwEQKRwPQrXowhAFK5H4XoUCED2KFyPwvUIQLgehetRuAZAPQrXo3A9EkA9CtejcD0IQB+F61G4HhJArkfhehSuGEBxPQrXo3AHQB+F61G4HgdAH4XrUbgeB0BI4XoUrkcUQDMzMzMzMxBA16NwPQrXDUA9CtejcD0MQOF6FK5H4QhAKVyPwvUoAECkcD0K16MIQFK4HoXrURdAcT0K16NwEECkcD0K16MEQClcj8L1KAJAuB6F61G4EkBSuB6F61ECQEjhehSuRwdA",
          "dtype": "f8"
         },
         "xaxis": "x",
         "y": {
          "bdata": "CtejcD0K7z+kcD0K16MGQFyPwvUoXPc/UrgehetRAEDD9Shcj8LxP83MzMzMzPA/hetRuB6F8z9mZmZmZmYAQHsUrkfhevg/MzMzMzMzB0BxPQrXo3D5P3sUrkfhevA/cT0K16Nw/T97FK5H4XrsP9ejcD0K1/M/pHA9CtejBEA9CtejcD0EQB+F61G4Hu0/CtejcD0K9z/Xo3A9CtfrP1K4HoXrUfA/MzMzMzMzAUAfhetRuB4LQEjhehSuR/U/XI/C9Shc8z8pXI/C9Sj8P+F6FK5H4fI/mpmZmZmZ+T/2KFyPwvXoP9ejcD0K1/M/16NwPQrX6z8pXI/C9SjwPwAAAAAAAABAmpmZmZmZ9T+F61G4HoX7Px+F61G4Hvk/SOF6FK5H9T/D9Shcj8L1P1yPwvUoXOc/uB6F61G48j/Xo3A9Ctf3P83MzMzMzPQ/4XoUrkfh6j8AAAAAAADwPzMzMzMzM/8/w/UoXI/CAUDsUbgehesHQHE9CtejcO0/4XoUrkfhBkCPwvUoXI8KQIXrUbgehes/zczMzMzM/D/2KFyPwvX0P7gehetRuPY/pHA9Ctej+D89CtejcD0AQGZmZmZmZu4/XI/C9ShcA0DsUbgehevhP83MzMzMzABAXI/C9ShcA0AUrkfhehTuP9ejcD0K1/s/FK5H4XoU5j/Xo3A9CtcBQDMzMzMzM/s/pHA9Ctej+D9mZmZmZmb6P5qZmZmZmfU/SOF6FK5H8T9mZmZmZmbuP83MzMzMzAhAXI/C9Shc5z/sUbgehevpPxSuR+F6FO4/UrgehetR/D8pXI/C9SgAQArXo3A9CgFA",
          "dtype": "f8"
         },
         "yaxis": "y"
        }
       ],
       "layout": {
        "coloraxis": {
         "colorbar": {
          "title": {
           "text": "sprints/90"
          }
         },
         "colorscale": [
          [
           0,
           "rgb(165,0,38)"
          ],
          [
           0.1,
           "rgb(215,48,39)"
          ],
          [
           0.2,
           "rgb(244,109,67)"
          ],
          [
           0.3,
           "rgb(253,174,97)"
          ],
          [
           0.4,
           "rgb(254,224,139)"
          ],
          [
           0.5,
           "rgb(255,255,191)"
          ],
          [
           0.6,
           "rgb(217,239,139)"
          ],
          [
           0.7,
           "rgb(166,217,106)"
          ],
          [
           0.8,
           "rgb(102,189,99)"
          ],
          [
           0.9,
           "rgb(26,152,80)"
          ],
          [
           1,
           "rgb(0,104,55)"
          ]
         ],
         "showscale": false
        },
        "height": 700,
        "legend": {
         "tracegroupgap": 0
        },
        "paper_bgcolor": "darkgray",
        "plot_bgcolor": "darkgray",
        "template": {
         "data": {
          "bar": [
           {
            "error_x": {
             "color": "#2a3f5f"
            },
            "error_y": {
             "color": "#2a3f5f"
            },
            "marker": {
             "line": {
              "color": "#E5ECF6",
              "width": 0.5
             },
             "pattern": {
              "fillmode": "overlay",
              "size": 10,
              "solidity": 0.2
             }
            },
            "type": "bar"
           }
          ],
          "barpolar": [
           {
            "marker": {
             "line": {
              "color": "#E5ECF6",
              "width": 0.5
             },
             "pattern": {
              "fillmode": "overlay",
              "size": 10,
              "solidity": 0.2
             }
            },
            "type": "barpolar"
           }
          ],
          "carpet": [
           {
            "aaxis": {
             "endlinecolor": "#2a3f5f",
             "gridcolor": "white",
             "linecolor": "white",
             "minorgridcolor": "white",
             "startlinecolor": "#2a3f5f"
            },
            "baxis": {
             "endlinecolor": "#2a3f5f",
             "gridcolor": "white",
             "linecolor": "white",
             "minorgridcolor": "white",
             "startlinecolor": "#2a3f5f"
            },
            "type": "carpet"
           }
          ],
          "choropleth": [
           {
            "colorbar": {
             "outlinewidth": 0,
             "ticks": ""
            },
            "type": "choropleth"
           }
          ],
          "contour": [
           {
            "colorbar": {
             "outlinewidth": 0,
             "ticks": ""
            },
            "colorscale": [
             [
              0,
              "#0d0887"
             ],
             [
              0.1111111111111111,
              "#46039f"
             ],
             [
              0.2222222222222222,
              "#7201a8"
             ],
             [
              0.3333333333333333,
              "#9c179e"
             ],
             [
              0.4444444444444444,
              "#bd3786"
             ],
             [
              0.5555555555555556,
              "#d8576b"
             ],
             [
              0.6666666666666666,
              "#ed7953"
             ],
             [
              0.7777777777777778,
              "#fb9f3a"
             ],
             [
              0.8888888888888888,
              "#fdca26"
             ],
             [
              1,
              "#f0f921"
             ]
            ],
            "type": "contour"
           }
          ],
          "contourcarpet": [
           {
            "colorbar": {
             "outlinewidth": 0,
             "ticks": ""
            },
            "type": "contourcarpet"
           }
          ],
          "heatmap": [
           {
            "colorbar": {
             "outlinewidth": 0,
             "ticks": ""
            },
            "colorscale": [
             [
              0,
              "#0d0887"
             ],
             [
              0.1111111111111111,
              "#46039f"
             ],
             [
              0.2222222222222222,
              "#7201a8"
             ],
             [
              0.3333333333333333,
              "#9c179e"
             ],
             [
              0.4444444444444444,
              "#bd3786"
             ],
             [
              0.5555555555555556,
              "#d8576b"
             ],
             [
              0.6666666666666666,
              "#ed7953"
             ],
             [
              0.7777777777777778,
              "#fb9f3a"
             ],
             [
              0.8888888888888888,
              "#fdca26"
             ],
             [
              1,
              "#f0f921"
             ]
            ],
            "type": "heatmap"
           }
          ],
          "histogram": [
           {
            "marker": {
             "pattern": {
              "fillmode": "overlay",
              "size": 10,
              "solidity": 0.2
             }
            },
            "type": "histogram"
           }
          ],
          "histogram2d": [
           {
            "colorbar": {
             "outlinewidth": 0,
             "ticks": ""
            },
            "colorscale": [
             [
              0,
              "#0d0887"
             ],
             [
              0.1111111111111111,
              "#46039f"
             ],
             [
              0.2222222222222222,
              "#7201a8"
             ],
             [
              0.3333333333333333,
              "#9c179e"
             ],
             [
              0.4444444444444444,
              "#bd3786"
             ],
             [
              0.5555555555555556,
              "#d8576b"
             ],
             [
              0.6666666666666666,
              "#ed7953"
             ],
             [
              0.7777777777777778,
              "#fb9f3a"
             ],
             [
              0.8888888888888888,
              "#fdca26"
             ],
             [
              1,
              "#f0f921"
             ]
            ],
            "type": "histogram2d"
           }
          ],
          "histogram2dcontour": [
           {
            "colorbar": {
             "outlinewidth": 0,
             "ticks": ""
            },
            "colorscale": [
             [
              0,
              "#0d0887"
             ],
             [
              0.1111111111111111,
              "#46039f"
             ],
             [
              0.2222222222222222,
              "#7201a8"
             ],
             [
              0.3333333333333333,
              "#9c179e"
             ],
             [
              0.4444444444444444,
              "#bd3786"
             ],
             [
              0.5555555555555556,
              "#d8576b"
             ],
             [
              0.6666666666666666,
              "#ed7953"
             ],
             [
              0.7777777777777778,
              "#fb9f3a"
             ],
             [
              0.8888888888888888,
              "#fdca26"
             ],
             [
              1,
              "#f0f921"
             ]
            ],
            "type": "histogram2dcontour"
           }
          ],
          "mesh3d": [
           {
            "colorbar": {
             "outlinewidth": 0,
             "ticks": ""
            },
            "type": "mesh3d"
           }
          ],
          "parcoords": [
           {
            "line": {
             "colorbar": {
              "outlinewidth": 0,
              "ticks": ""
             }
            },
            "type": "parcoords"
           }
          ],
          "pie": [
           {
            "automargin": true,
            "type": "pie"
           }
          ],
          "scatter": [
           {
            "fillpattern": {
             "fillmode": "overlay",
             "size": 10,
             "solidity": 0.2
            },
            "type": "scatter"
           }
          ],
          "scatter3d": [
           {
            "line": {
             "colorbar": {
              "outlinewidth": 0,
              "ticks": ""
             }
            },
            "marker": {
             "colorbar": {
              "outlinewidth": 0,
              "ticks": ""
             }
            },
            "type": "scatter3d"
           }
          ],
          "scattercarpet": [
           {
            "marker": {
             "colorbar": {
              "outlinewidth": 0,
              "ticks": ""
             }
            },
            "type": "scattercarpet"
           }
          ],
          "scattergeo": [
           {
            "marker": {
             "colorbar": {
              "outlinewidth": 0,
              "ticks": ""
             }
            },
            "type": "scattergeo"
           }
          ],
          "scattergl": [
           {
            "marker": {
             "colorbar": {
              "outlinewidth": 0,
              "ticks": ""
             }
            },
            "type": "scattergl"
           }
          ],
          "scattermap": [
           {
            "marker": {
             "colorbar": {
              "outlinewidth": 0,
              "ticks": ""
             }
            },
            "type": "scattermap"
           }
          ],
          "scattermapbox": [
           {
            "marker": {
             "colorbar": {
              "outlinewidth": 0,
              "ticks": ""
             }
            },
            "type": "scattermapbox"
           }
          ],
          "scatterpolar": [
           {
            "marker": {
             "colorbar": {
              "outlinewidth": 0,
              "ticks": ""
             }
            },
            "type": "scatterpolar"
           }
          ],
          "scatterpolargl": [
           {
            "marker": {
             "colorbar": {
              "outlinewidth": 0,
              "ticks": ""
             }
            },
            "type": "scatterpolargl"
           }
          ],
          "scatterternary": [
           {
            "marker": {
             "colorbar": {
              "outlinewidth": 0,
              "ticks": ""
             }
            },
            "type": "scatterternary"
           }
          ],
          "surface": [
           {
            "colorbar": {
             "outlinewidth": 0,
             "ticks": ""
            },
            "colorscale": [
             [
              0,
              "#0d0887"
             ],
             [
              0.1111111111111111,
              "#46039f"
             ],
             [
              0.2222222222222222,
              "#7201a8"
             ],
             [
              0.3333333333333333,
              "#9c179e"
             ],
             [
              0.4444444444444444,
              "#bd3786"
             ],
             [
              0.5555555555555556,
              "#d8576b"
             ],
             [
              0.6666666666666666,
              "#ed7953"
             ],
             [
              0.7777777777777778,
              "#fb9f3a"
             ],
             [
              0.8888888888888888,
              "#fdca26"
             ],
             [
              1,
              "#f0f921"
             ]
            ],
            "type": "surface"
           }
          ],
          "table": [
           {
            "cells": {
             "fill": {
              "color": "#EBF0F8"
             },
             "line": {
              "color": "white"
             }
            },
            "header": {
             "fill": {
              "color": "#C8D4E3"
             },
             "line": {
              "color": "white"
             }
            },
            "type": "table"
           }
          ]
         },
         "layout": {
          "annotationdefaults": {
           "arrowcolor": "#2a3f5f",
           "arrowhead": 0,
           "arrowwidth": 1
          },
          "autotypenumbers": "strict",
          "coloraxis": {
           "colorbar": {
            "outlinewidth": 0,
            "ticks": ""
           }
          },
          "colorscale": {
           "diverging": [
            [
             0,
             "#8e0152"
            ],
            [
             0.1,
             "#c51b7d"
            ],
            [
             0.2,
             "#de77ae"
            ],
            [
             0.3,
             "#f1b6da"
            ],
            [
             0.4,
             "#fde0ef"
            ],
            [
             0.5,
             "#f7f7f7"
            ],
            [
             0.6,
             "#e6f5d0"
            ],
            [
             0.7,
             "#b8e186"
            ],
            [
             0.8,
             "#7fbc41"
            ],
            [
             0.9,
             "#4d9221"
            ],
            [
             1,
             "#276419"
            ]
           ],
           "sequential": [
            [
             0,
             "#0d0887"
            ],
            [
             0.1111111111111111,
             "#46039f"
            ],
            [
             0.2222222222222222,
             "#7201a8"
            ],
            [
             0.3333333333333333,
             "#9c179e"
            ],
            [
             0.4444444444444444,
             "#bd3786"
            ],
            [
             0.5555555555555556,
             "#d8576b"
            ],
            [
             0.6666666666666666,
             "#ed7953"
            ],
            [
             0.7777777777777778,
             "#fb9f3a"
            ],
            [
             0.8888888888888888,
             "#fdca26"
            ],
            [
             1,
             "#f0f921"
            ]
           ],
           "sequentialminus": [
            [
             0,
             "#0d0887"
            ],
            [
             0.1111111111111111,
             "#46039f"
            ],
            [
             0.2222222222222222,
             "#7201a8"
            ],
            [
             0.3333333333333333,
             "#9c179e"
            ],
            [
             0.4444444444444444,
             "#bd3786"
            ],
            [
             0.5555555555555556,
             "#d8576b"
            ],
            [
             0.6666666666666666,
             "#ed7953"
            ],
            [
             0.7777777777777778,
             "#fb9f3a"
            ],
            [
             0.8888888888888888,
             "#fdca26"
            ],
            [
             1,
             "#f0f921"
            ]
           ]
          },
          "colorway": [
           "#636efa",
           "#EF553B",
           "#00cc96",
           "#ab63fa",
           "#FFA15A",
           "#19d3f3",
           "#FF6692",
           "#B6E880",
           "#FF97FF",
           "#FECB52"
          ],
          "font": {
           "color": "#2a3f5f"
          },
          "geo": {
           "bgcolor": "white",
           "lakecolor": "white",
           "landcolor": "#E5ECF6",
           "showlakes": true,
           "showland": true,
           "subunitcolor": "white"
          },
          "hoverlabel": {
           "align": "left"
          },
          "hovermode": "closest",
          "mapbox": {
           "style": "light"
          },
          "paper_bgcolor": "white",
          "plot_bgcolor": "#E5ECF6",
          "polar": {
           "angularaxis": {
            "gridcolor": "white",
            "linecolor": "white",
            "ticks": ""
           },
           "bgcolor": "#E5ECF6",
           "radialaxis": {
            "gridcolor": "white",
            "linecolor": "white",
            "ticks": ""
           }
          },
          "scene": {
           "xaxis": {
            "backgroundcolor": "#E5ECF6",
            "gridcolor": "white",
            "gridwidth": 2,
            "linecolor": "white",
            "showbackground": true,
            "ticks": "",
            "zerolinecolor": "white"
           },
           "yaxis": {
            "backgroundcolor": "#E5ECF6",
            "gridcolor": "white",
            "gridwidth": 2,
            "linecolor": "white",
            "showbackground": true,
            "ticks": "",
            "zerolinecolor": "white"
           },
           "zaxis": {
            "backgroundcolor": "#E5ECF6",
            "gridcolor": "white",
            "gridwidth": 2,
            "linecolor": "white",
            "showbackground": true,
            "ticks": "",
            "zerolinecolor": "white"
           }
          },
          "shapedefaults": {
           "line": {
            "color": "#2a3f5f"
           }
          },
          "ternary": {
           "aaxis": {
            "gridcolor": "white",
            "linecolor": "white",
            "ticks": ""
           },
           "baxis": {
            "gridcolor": "white",
            "linecolor": "white",
            "ticks": ""
           },
           "bgcolor": "#E5ECF6",
           "caxis": {
            "gridcolor": "white",
            "linecolor": "white",
            "ticks": ""
           }
          },
          "title": {
           "x": 0.05
          },
          "xaxis": {
           "automargin": true,
           "gridcolor": "white",
           "linecolor": "white",
           "ticks": "",
           "title": {
            "standoff": 15
           },
           "zerolinecolor": "white",
           "zerolinewidth": 2
          },
          "yaxis": {
           "automargin": true,
           "gridcolor": "white",
           "linecolor": "white",
           "ticks": "",
           "title": {
            "standoff": 15
           },
           "zerolinecolor": "white",
           "zerolinewidth": 2
          }
         }
        },
        "title": {
         "text": "Presence ( 78)",
         "x": 0.5,
         "xanchor": "center"
        },
        "width": 1200,
        "xaxis": {
         "anchor": "y",
         "domain": [
          0,
          1
         ],
         "gridcolor": "white",
         "showgrid": true,
         "title": {
          "text": "attacking_actions/90"
         },
         "zeroline": false
        },
        "yaxis": {
         "anchor": "x",
         "domain": [
          0,
          1
         ],
         "gridcolor": "white",
         "showgrid": true,
         "title": {
          "text": "creative_actions/90"
         },
         "zeroline": false
        }
       }
      }
     },
     "metadata": {},
     "output_type": "display_data"
    }
   ],
   "source": [
    "# Full universe \n",
    "scatter_plot(df_targets,\n",
    "             x_metric='attacking_actions/90', \n",
    "             y_metric='creative_actions/90',\n",
    "             z_metric='sprints/90',\n",
    "             title='Presence', \n",
    "             show_name_label=True\n",
    ") "
   ]
  },
  {
   "cell_type": "code",
   "execution_count": 54,
   "id": "4b0be327",
   "metadata": {},
   "outputs": [
    {
     "data": {
      "application/vnd.plotly.v1+json": {
       "config": {
        "plotlyServerURL": "https://plot.ly"
       },
       "data": [
        {
         "customdata": [
          [
           "Stephen Odey",
           "Randers FC"
          ],
          [
           "Tomás Conechny",
           "Godoy Cruz"
          ],
          [
           "Jonatan Torres",
           "Lanús"
          ],
          [
           "Nahuel Bustos",
           "Talleres"
          ],
          [
           "Maximiliano Salas",
           "Racing Club"
          ],
          [
           "Santiago Rodríguez",
           "Instituto"
          ],
          [
           "Jonás Acevedo",
           "Instituto"
          ],
          [
           "Lucas Brochero",
           "Barracas Central"
          ],
          [
           "Mauro Luna Diale",
           "Unión (SF)"
          ],
          [
           "Justo Giani",
           "Atl. Tucumán"
          ],
          [
           "Rodrigo Castillo",
           "Gimnasia (LP)"
          ],
          [
           "Ivo Mammini",
           "Gimnasia (LP)"
          ],
          [
           "Othmane Boussaid",
           "FC Utrecht"
          ],
          [
           "Paulinho",
           "ATM"
          ],
          [
           "Yuri Alberto",
           "COR"
          ],
          [
           "Vitinho",
           "RB Bragantino"
          ],
          [
           "David da Hora",
           "FOR"
          ],
          [
           "Bruno Marques",
           "SAN"
          ],
          [
           "Lázaro",
           "SEP"
          ],
          [
           "Igor Paixão",
           "Feyenoord"
          ],
          [
           "Matheus Babi",
           "Athlético Paranaense"
          ],
          [
           "Haji Wright",
           "Coventry"
          ],
          [
           "Ondřej Lingr",
           "Feyenoord"
          ],
          [
           "Jens Odgaard",
           "Bologna"
          ],
          [
           "Søren Tengstedt",
           "Go Ahead Eagles"
          ],
          [
           "Mileta Rajović",
           "Watford"
          ],
          [
           "Lirim Qamili",
           "Hvidovre IF"
          ],
          [
           "Alexander Lind",
           "Silkeborg IF"
          ],
          [
           "Anosike Ementa",
           "Viborg FF"
          ],
          [
           "Adam Armstrong",
           "Southampton"
          ],
          [
           "Iké Ugbo",
           "Sheffield Wednesday"
          ],
          [
           "Josh Maja",
           "West Brom"
          ],
          [
           "Tyrese Campbell",
           "Stoke"
          ],
          [
           "Ellis Simms",
           "Coventry"
          ],
          [
           "Conor Chaplin",
           "Ipswich"
          ],
          [
           "Fredrik Jensen",
           "Augsburg"
          ],
          [
           "Guus Til",
           "PSV"
          ],
          [
           "Delano Burgzorg",
           "Huddersfield"
          ],
          [
           "Myron Boadu",
           "FC Twente"
          ],
          [
           "Zakaria Aboukhlal",
           "Toulouse"
          ],
          [
           "Sydney van Hooijdonk",
           "Norwich"
          ],
          [
           "Emmanuel Latte Lath",
           "Middlesbrough"
          ],
          [
           "Nicolò Zaniolo",
           "Aston Villa"
          ],
          [
           "Ismaïla Sarr",
           "Marseille"
          ],
          [
           "Chiedozie Ogbene",
           "Luton"
          ],
          [
           "Issah Abass",
           "Desp. Chaves"
          ],
          [
           "Cho Gue-Sung",
           "FC Midtjylland"
          ],
          [
           "Toni Martínez",
           "FC Porto"
          ],
          [
           "Chris Ramos",
           "Cádiz"
          ],
          [
           "Isaac Romero",
           "Sevilla"
          ],
          [
           "Óscar Estupiñán",
           "BAH"
          ],
          [
           "Edwuin Cetré",
           "Estudiantes (LP)"
          ],
          [
           "Blas Armoa",
           "Tigre"
          ],
          [
           "Isidro Pitta",
           "CUI"
          ],
          [
           "Marcelo Pérez",
           "Huracán"
          ],
          [
           "Vangelis Pavlidis",
           "AZ"
          ],
          [
           "Franculino Djú",
           "FC Midtjylland"
          ],
          [
           "Figueiredo",
           "CTB"
          ],
          [
           "Victor Hugo",
           "FLA"
          ],
          [
           "Facundo Echevarría",
           "Defensa y Justicia"
          ],
          [
           "Lucca Holanda",
           "INT"
          ],
          [
           "Roony Bardghji",
           "FC København"
          ],
          [
           "Renato Marques",
           "AMG"
          ],
          [
           "Jason van Duiven",
           "Almere City"
          ],
          [
           "Aidomo Emakhu",
           "Millwall"
          ],
          [
           "Jobe Bellingham",
           "Sunderland"
          ],
          [
           "Jean Gabriel",
           "CTB"
          ]
         ],
         "hovertemplate": "<b>%{customdata[0]}</b><br><b>%{customdata[1]}</b><br><br>attacking_actions/90: %{x}<br>creative_actions/90: %{y}<br>sprints/90: %{marker.color}<extra></extra>",
         "legendgroup": "",
         "marker": {
          "color": {
           "bdata": "7FG4HoXrHEBcj8L1KFwvQB+F61G4Hh5AAAAAAAAAH0CamZmZmZkaQJqZmZmZGSZA9ihcj8L1I0BSuB6F69EtQPYoXI/C9ShAUrgehetRMUA9CtejcL0hQMP1KFyPwh5AKVyPwvWoMEA9CtejcL0rQArXo3A9ChpAMzMzMzMzLEAAAAAAAAAgQDMzMzMzMxlAAAAAAAAAKkCPwvUoXI8mQDMzMzMzMxxApHA9CtejHkC4HoXrUbgmQIXrUbgeBSRApHA9CtcjMEAfhetRuB4dQOxRuB6F6yFAj8L1KFyPGUBcj8L1KFwfQFK4HoXr0SVA7FG4HoXrGkCuR+F6FK4dQHE9CtejcBxAw/UoXI/CHUC4HoXrUTgtQM3MzMzMzCpAXI/C9ShcJ0DXo3A9ClctQOxRuB6F6xlAZmZmZmZmJUCkcD0K16MdQNejcD0KVyhAKVyPwvUoL0DsUbgehessQOxRuB6FayxArkfhehSuJkAK16NwPQodQFK4HoXrURpAw/UoXI/CJkAAAAAAAAAcQIXrUbgehRhAexSuR+H6KEC4HoXrUbgsQAAAAAAAgCNAPQrXo3A9HECPwvUoXI8aQOxRuB6F6xhAj8L1KFyPJEDsUbgehespQK5H4XoUrh1AFK5H4XoUGEDD9Shcj0IpQHsUrkfhehpA7FG4HoXrG0CuR+F6FK4kQArXo3A9Ch9Aw/UoXI9CIkA=",
           "dtype": "f8"
          },
          "coloraxis": "coloraxis",
          "size": 10,
          "symbol": "circle"
         },
         "mode": "markers+text",
         "name": "",
         "orientation": "v",
         "showlegend": false,
         "text": [
          "Stephen Odey",
          "Tomás Conechny",
          "Jonatan Torres",
          "Nahuel Bustos",
          "Maximiliano Salas",
          "Santiago Rodríguez",
          "Jonás Acevedo",
          "Lucas Brochero",
          "Mauro Luna Diale",
          "Justo Giani",
          "Rodrigo Castillo",
          "Ivo Mammini",
          "Othmane Boussaid",
          "Paulinho",
          "Yuri Alberto",
          "Vitinho",
          "David da Hora",
          "Bruno Marques",
          "Lázaro",
          "Igor Paixão",
          "Matheus Babi",
          "Haji Wright",
          "Ondřej Lingr",
          "Jens Odgaard",
          "Søren Tengstedt",
          "Mileta Rajović",
          "Lirim Qamili",
          "Alexander Lind",
          "Anosike Ementa",
          "Adam Armstrong",
          "Iké Ugbo",
          "Josh Maja",
          "Tyrese Campbell",
          "Ellis Simms",
          "Conor Chaplin",
          "Fredrik Jensen",
          "Guus Til",
          "Delano Burgzorg",
          "Myron Boadu",
          "Zakaria Aboukhlal",
          "Sydney van Hooijdonk",
          "Emmanuel Latte Lath",
          "Nicolò Zaniolo",
          "Ismaïla Sarr",
          "Chiedozie Ogbene",
          "Issah Abass",
          "Cho Gue-Sung",
          "Toni Martínez",
          "Chris Ramos",
          "Isaac Romero",
          "Óscar Estupiñán",
          "Edwuin Cetré",
          "Blas Armoa",
          "Isidro Pitta",
          "Marcelo Pérez",
          "Vangelis Pavlidis",
          "Franculino Djú",
          "Figueiredo",
          "Victor Hugo",
          "Facundo Echevarría",
          "Lucca Holanda",
          "Roony Bardghji",
          "Renato Marques",
          "Jason van Duiven",
          "Aidomo Emakhu",
          "Jobe Bellingham",
          "Jean Gabriel"
         ],
         "textfont": {
          "size": 10
         },
         "textposition": "top center",
         "type": "scatter",
         "x": {
          "bdata": "9ihcj8L1CkD2KFyPwvURQKRwPQrXowpArkfhehSuCUAAAAAAAAAKQJqZmZmZmQVAuB6F61G4BkA9CtejcD0RQAAAAAAAAApApHA9CtejFEBcj8L1KFwPQI/C9ShcjwZAexSuR+F6EUAAAAAAAAAUQBSuR+F6FAZApHA9CtejDkAAAAAAAAAKQGZmZmZmZgJA16NwPQrXEkDXo3A9CtcVQFyPwvUoXAlAj8L1KFyPBkBxPQrXo3ANQAAAAAAAAAZAPQrXo3A9E0Bcj8L1KFwPQAAAAAAAAApAzczMzMzMBkAK16NwPQoPQDMzMzMzMxVAFK5H4XoUDkA9CtejcD0EQMP1KFyPwglASOF6FK5HB0DsUbgehesDQHsUrkfhegRA7FG4HoXrB0D2KFyPwvUOQHE9CtejcAlAmpmZmZmZC0A9CtejcD0MQFyPwvUoXBZAZmZmZmZmFUDNzMzMzMwYQHE9CtejcBZAj8L1KFyPDkDNzMzMzMwEQKRwPQrXowhAFK5H4XoUCED2KFyPwvUIQLgehetRuAZAPQrXo3A9EkAfhetRuB4SQK5H4XoUrhhAcT0K16NwB0AfhetRuB4HQEjhehSuRxRAMzMzMzMzEEA9CtejcD0MQOF6FK5H4QhApHA9CtejCEBSuB6F61EXQKRwPQrXowRAKVyPwvUoAkC4HoXrUbgSQFK4HoXrUQJASOF6FK5HB0A=",
          "dtype": "f8"
         },
         "xaxis": "x",
         "y": {
          "bdata": "CtejcD0K7z+kcD0K16MGQFyPwvUoXPc/UrgehetRAEDD9Shcj8LxP83MzMzMzPA/hetRuB6F8z9mZmZmZmYAQHsUrkfhevg/MzMzMzMzB0BxPQrXo3D5P3sUrkfhevA/cT0K16Nw/T89CtejcD0EQB+F61G4Hu0/CtejcD0K9z/Xo3A9CtfrP1K4HoXrUfA/MzMzMzMzAUAfhetRuB4LQEjhehSuR/U/XI/C9Shc8z8pXI/C9Sj8P+F6FK5H4fI/mpmZmZmZ+T/2KFyPwvXoP9ejcD0K1/M/16NwPQrX6z8pXI/C9SjwPwAAAAAAAABAmpmZmZmZ9T+F61G4HoX7Px+F61G4Hvk/SOF6FK5H9T/D9Shcj8L1P7gehetRuPI/16NwPQrX9z/NzMzMzMz0P+F6FK5H4eo/AAAAAAAA8D8zMzMzMzP/P8P1KFyPwgFA7FG4HoXrB0DhehSuR+EGQI/C9ShcjwpAzczMzMzM/D/2KFyPwvX0P7gehetRuPY/pHA9Ctej+D89CtejcD0AQGZmZmZmZu4/XI/C9ShcA0DNzMzMzMwAQFyPwvUoXANAFK5H4XoU7j/Xo3A9Ctf7P9ejcD0K1wFAMzMzMzMz+z9mZmZmZmb6P5qZmZmZmfU/ZmZmZmZm7j/NzMzMzMwIQOxRuB6F6+k/FK5H4XoU7j9SuB6F61H8Pylcj8L1KABACtejcD0KAUA=",
          "dtype": "f8"
         },
         "yaxis": "y"
        }
       ],
       "layout": {
        "coloraxis": {
         "colorbar": {
          "title": {
           "text": "sprints/90"
          }
         },
         "colorscale": [
          [
           0,
           "rgb(165,0,38)"
          ],
          [
           0.1,
           "rgb(215,48,39)"
          ],
          [
           0.2,
           "rgb(244,109,67)"
          ],
          [
           0.3,
           "rgb(253,174,97)"
          ],
          [
           0.4,
           "rgb(254,224,139)"
          ],
          [
           0.5,
           "rgb(255,255,191)"
          ],
          [
           0.6,
           "rgb(217,239,139)"
          ],
          [
           0.7,
           "rgb(166,217,106)"
          ],
          [
           0.8,
           "rgb(102,189,99)"
          ],
          [
           0.9,
           "rgb(26,152,80)"
          ],
          [
           1,
           "rgb(0,104,55)"
          ]
         ],
         "showscale": false
        },
        "height": 700,
        "legend": {
         "tracegroupgap": 0
        },
        "paper_bgcolor": "darkgray",
        "plot_bgcolor": "darkgray",
        "template": {
         "data": {
          "bar": [
           {
            "error_x": {
             "color": "#2a3f5f"
            },
            "error_y": {
             "color": "#2a3f5f"
            },
            "marker": {
             "line": {
              "color": "#E5ECF6",
              "width": 0.5
             },
             "pattern": {
              "fillmode": "overlay",
              "size": 10,
              "solidity": 0.2
             }
            },
            "type": "bar"
           }
          ],
          "barpolar": [
           {
            "marker": {
             "line": {
              "color": "#E5ECF6",
              "width": 0.5
             },
             "pattern": {
              "fillmode": "overlay",
              "size": 10,
              "solidity": 0.2
             }
            },
            "type": "barpolar"
           }
          ],
          "carpet": [
           {
            "aaxis": {
             "endlinecolor": "#2a3f5f",
             "gridcolor": "white",
             "linecolor": "white",
             "minorgridcolor": "white",
             "startlinecolor": "#2a3f5f"
            },
            "baxis": {
             "endlinecolor": "#2a3f5f",
             "gridcolor": "white",
             "linecolor": "white",
             "minorgridcolor": "white",
             "startlinecolor": "#2a3f5f"
            },
            "type": "carpet"
           }
          ],
          "choropleth": [
           {
            "colorbar": {
             "outlinewidth": 0,
             "ticks": ""
            },
            "type": "choropleth"
           }
          ],
          "contour": [
           {
            "colorbar": {
             "outlinewidth": 0,
             "ticks": ""
            },
            "colorscale": [
             [
              0,
              "#0d0887"
             ],
             [
              0.1111111111111111,
              "#46039f"
             ],
             [
              0.2222222222222222,
              "#7201a8"
             ],
             [
              0.3333333333333333,
              "#9c179e"
             ],
             [
              0.4444444444444444,
              "#bd3786"
             ],
             [
              0.5555555555555556,
              "#d8576b"
             ],
             [
              0.6666666666666666,
              "#ed7953"
             ],
             [
              0.7777777777777778,
              "#fb9f3a"
             ],
             [
              0.8888888888888888,
              "#fdca26"
             ],
             [
              1,
              "#f0f921"
             ]
            ],
            "type": "contour"
           }
          ],
          "contourcarpet": [
           {
            "colorbar": {
             "outlinewidth": 0,
             "ticks": ""
            },
            "type": "contourcarpet"
           }
          ],
          "heatmap": [
           {
            "colorbar": {
             "outlinewidth": 0,
             "ticks": ""
            },
            "colorscale": [
             [
              0,
              "#0d0887"
             ],
             [
              0.1111111111111111,
              "#46039f"
             ],
             [
              0.2222222222222222,
              "#7201a8"
             ],
             [
              0.3333333333333333,
              "#9c179e"
             ],
             [
              0.4444444444444444,
              "#bd3786"
             ],
             [
              0.5555555555555556,
              "#d8576b"
             ],
             [
              0.6666666666666666,
              "#ed7953"
             ],
             [
              0.7777777777777778,
              "#fb9f3a"
             ],
             [
              0.8888888888888888,
              "#fdca26"
             ],
             [
              1,
              "#f0f921"
             ]
            ],
            "type": "heatmap"
           }
          ],
          "histogram": [
           {
            "marker": {
             "pattern": {
              "fillmode": "overlay",
              "size": 10,
              "solidity": 0.2
             }
            },
            "type": "histogram"
           }
          ],
          "histogram2d": [
           {
            "colorbar": {
             "outlinewidth": 0,
             "ticks": ""
            },
            "colorscale": [
             [
              0,
              "#0d0887"
             ],
             [
              0.1111111111111111,
              "#46039f"
             ],
             [
              0.2222222222222222,
              "#7201a8"
             ],
             [
              0.3333333333333333,
              "#9c179e"
             ],
             [
              0.4444444444444444,
              "#bd3786"
             ],
             [
              0.5555555555555556,
              "#d8576b"
             ],
             [
              0.6666666666666666,
              "#ed7953"
             ],
             [
              0.7777777777777778,
              "#fb9f3a"
             ],
             [
              0.8888888888888888,
              "#fdca26"
             ],
             [
              1,
              "#f0f921"
             ]
            ],
            "type": "histogram2d"
           }
          ],
          "histogram2dcontour": [
           {
            "colorbar": {
             "outlinewidth": 0,
             "ticks": ""
            },
            "colorscale": [
             [
              0,
              "#0d0887"
             ],
             [
              0.1111111111111111,
              "#46039f"
             ],
             [
              0.2222222222222222,
              "#7201a8"
             ],
             [
              0.3333333333333333,
              "#9c179e"
             ],
             [
              0.4444444444444444,
              "#bd3786"
             ],
             [
              0.5555555555555556,
              "#d8576b"
             ],
             [
              0.6666666666666666,
              "#ed7953"
             ],
             [
              0.7777777777777778,
              "#fb9f3a"
             ],
             [
              0.8888888888888888,
              "#fdca26"
             ],
             [
              1,
              "#f0f921"
             ]
            ],
            "type": "histogram2dcontour"
           }
          ],
          "mesh3d": [
           {
            "colorbar": {
             "outlinewidth": 0,
             "ticks": ""
            },
            "type": "mesh3d"
           }
          ],
          "parcoords": [
           {
            "line": {
             "colorbar": {
              "outlinewidth": 0,
              "ticks": ""
             }
            },
            "type": "parcoords"
           }
          ],
          "pie": [
           {
            "automargin": true,
            "type": "pie"
           }
          ],
          "scatter": [
           {
            "fillpattern": {
             "fillmode": "overlay",
             "size": 10,
             "solidity": 0.2
            },
            "type": "scatter"
           }
          ],
          "scatter3d": [
           {
            "line": {
             "colorbar": {
              "outlinewidth": 0,
              "ticks": ""
             }
            },
            "marker": {
             "colorbar": {
              "outlinewidth": 0,
              "ticks": ""
             }
            },
            "type": "scatter3d"
           }
          ],
          "scattercarpet": [
           {
            "marker": {
             "colorbar": {
              "outlinewidth": 0,
              "ticks": ""
             }
            },
            "type": "scattercarpet"
           }
          ],
          "scattergeo": [
           {
            "marker": {
             "colorbar": {
              "outlinewidth": 0,
              "ticks": ""
             }
            },
            "type": "scattergeo"
           }
          ],
          "scattergl": [
           {
            "marker": {
             "colorbar": {
              "outlinewidth": 0,
              "ticks": ""
             }
            },
            "type": "scattergl"
           }
          ],
          "scattermap": [
           {
            "marker": {
             "colorbar": {
              "outlinewidth": 0,
              "ticks": ""
             }
            },
            "type": "scattermap"
           }
          ],
          "scattermapbox": [
           {
            "marker": {
             "colorbar": {
              "outlinewidth": 0,
              "ticks": ""
             }
            },
            "type": "scattermapbox"
           }
          ],
          "scatterpolar": [
           {
            "marker": {
             "colorbar": {
              "outlinewidth": 0,
              "ticks": ""
             }
            },
            "type": "scatterpolar"
           }
          ],
          "scatterpolargl": [
           {
            "marker": {
             "colorbar": {
              "outlinewidth": 0,
              "ticks": ""
             }
            },
            "type": "scatterpolargl"
           }
          ],
          "scatterternary": [
           {
            "marker": {
             "colorbar": {
              "outlinewidth": 0,
              "ticks": ""
             }
            },
            "type": "scatterternary"
           }
          ],
          "surface": [
           {
            "colorbar": {
             "outlinewidth": 0,
             "ticks": ""
            },
            "colorscale": [
             [
              0,
              "#0d0887"
             ],
             [
              0.1111111111111111,
              "#46039f"
             ],
             [
              0.2222222222222222,
              "#7201a8"
             ],
             [
              0.3333333333333333,
              "#9c179e"
             ],
             [
              0.4444444444444444,
              "#bd3786"
             ],
             [
              0.5555555555555556,
              "#d8576b"
             ],
             [
              0.6666666666666666,
              "#ed7953"
             ],
             [
              0.7777777777777778,
              "#fb9f3a"
             ],
             [
              0.8888888888888888,
              "#fdca26"
             ],
             [
              1,
              "#f0f921"
             ]
            ],
            "type": "surface"
           }
          ],
          "table": [
           {
            "cells": {
             "fill": {
              "color": "#EBF0F8"
             },
             "line": {
              "color": "white"
             }
            },
            "header": {
             "fill": {
              "color": "#C8D4E3"
             },
             "line": {
              "color": "white"
             }
            },
            "type": "table"
           }
          ]
         },
         "layout": {
          "annotationdefaults": {
           "arrowcolor": "#2a3f5f",
           "arrowhead": 0,
           "arrowwidth": 1
          },
          "autotypenumbers": "strict",
          "coloraxis": {
           "colorbar": {
            "outlinewidth": 0,
            "ticks": ""
           }
          },
          "colorscale": {
           "diverging": [
            [
             0,
             "#8e0152"
            ],
            [
             0.1,
             "#c51b7d"
            ],
            [
             0.2,
             "#de77ae"
            ],
            [
             0.3,
             "#f1b6da"
            ],
            [
             0.4,
             "#fde0ef"
            ],
            [
             0.5,
             "#f7f7f7"
            ],
            [
             0.6,
             "#e6f5d0"
            ],
            [
             0.7,
             "#b8e186"
            ],
            [
             0.8,
             "#7fbc41"
            ],
            [
             0.9,
             "#4d9221"
            ],
            [
             1,
             "#276419"
            ]
           ],
           "sequential": [
            [
             0,
             "#0d0887"
            ],
            [
             0.1111111111111111,
             "#46039f"
            ],
            [
             0.2222222222222222,
             "#7201a8"
            ],
            [
             0.3333333333333333,
             "#9c179e"
            ],
            [
             0.4444444444444444,
             "#bd3786"
            ],
            [
             0.5555555555555556,
             "#d8576b"
            ],
            [
             0.6666666666666666,
             "#ed7953"
            ],
            [
             0.7777777777777778,
             "#fb9f3a"
            ],
            [
             0.8888888888888888,
             "#fdca26"
            ],
            [
             1,
             "#f0f921"
            ]
           ],
           "sequentialminus": [
            [
             0,
             "#0d0887"
            ],
            [
             0.1111111111111111,
             "#46039f"
            ],
            [
             0.2222222222222222,
             "#7201a8"
            ],
            [
             0.3333333333333333,
             "#9c179e"
            ],
            [
             0.4444444444444444,
             "#bd3786"
            ],
            [
             0.5555555555555556,
             "#d8576b"
            ],
            [
             0.6666666666666666,
             "#ed7953"
            ],
            [
             0.7777777777777778,
             "#fb9f3a"
            ],
            [
             0.8888888888888888,
             "#fdca26"
            ],
            [
             1,
             "#f0f921"
            ]
           ]
          },
          "colorway": [
           "#636efa",
           "#EF553B",
           "#00cc96",
           "#ab63fa",
           "#FFA15A",
           "#19d3f3",
           "#FF6692",
           "#B6E880",
           "#FF97FF",
           "#FECB52"
          ],
          "font": {
           "color": "#2a3f5f"
          },
          "geo": {
           "bgcolor": "white",
           "lakecolor": "white",
           "landcolor": "#E5ECF6",
           "showlakes": true,
           "showland": true,
           "subunitcolor": "white"
          },
          "hoverlabel": {
           "align": "left"
          },
          "hovermode": "closest",
          "mapbox": {
           "style": "light"
          },
          "paper_bgcolor": "white",
          "plot_bgcolor": "#E5ECF6",
          "polar": {
           "angularaxis": {
            "gridcolor": "white",
            "linecolor": "white",
            "ticks": ""
           },
           "bgcolor": "#E5ECF6",
           "radialaxis": {
            "gridcolor": "white",
            "linecolor": "white",
            "ticks": ""
           }
          },
          "scene": {
           "xaxis": {
            "backgroundcolor": "#E5ECF6",
            "gridcolor": "white",
            "gridwidth": 2,
            "linecolor": "white",
            "showbackground": true,
            "ticks": "",
            "zerolinecolor": "white"
           },
           "yaxis": {
            "backgroundcolor": "#E5ECF6",
            "gridcolor": "white",
            "gridwidth": 2,
            "linecolor": "white",
            "showbackground": true,
            "ticks": "",
            "zerolinecolor": "white"
           },
           "zaxis": {
            "backgroundcolor": "#E5ECF6",
            "gridcolor": "white",
            "gridwidth": 2,
            "linecolor": "white",
            "showbackground": true,
            "ticks": "",
            "zerolinecolor": "white"
           }
          },
          "shapedefaults": {
           "line": {
            "color": "#2a3f5f"
           }
          },
          "ternary": {
           "aaxis": {
            "gridcolor": "white",
            "linecolor": "white",
            "ticks": ""
           },
           "baxis": {
            "gridcolor": "white",
            "linecolor": "white",
            "ticks": ""
           },
           "bgcolor": "#E5ECF6",
           "caxis": {
            "gridcolor": "white",
            "linecolor": "white",
            "ticks": ""
           }
          },
          "title": {
           "x": 0.05
          },
          "xaxis": {
           "automargin": true,
           "gridcolor": "white",
           "linecolor": "white",
           "ticks": "",
           "title": {
            "standoff": 15
           },
           "zerolinecolor": "white",
           "zerolinewidth": 2
          },
          "yaxis": {
           "automargin": true,
           "gridcolor": "white",
           "linecolor": "white",
           "ticks": "",
           "title": {
            "standoff": 15
           },
           "zerolinecolor": "white",
           "zerolinewidth": 2
          }
         }
        },
        "title": {
         "text": "Presence ( 67)",
         "x": 0.5,
         "xanchor": "center"
        },
        "width": 1200,
        "xaxis": {
         "anchor": "y",
         "domain": [
          0,
          1
         ],
         "gridcolor": "white",
         "showgrid": true,
         "title": {
          "text": "attacking_actions/90"
         },
         "zeroline": false
        },
        "yaxis": {
         "anchor": "x",
         "domain": [
          0,
          1
         ],
         "gridcolor": "white",
         "showgrid": true,
         "title": {
          "text": "creative_actions/90"
         },
         "zeroline": false
        }
       }
      }
     },
     "metadata": {},
     "output_type": "display_data"
    }
   ],
   "source": [
    "# Filter data \n",
    "mask = (\n",
    "        (df_players['attacking_actions/90'] >= 2.2) & \\\n",
    "        (df_players['creative_actions/90'] >= 0.75) & \\\n",
    "        (df_players['sprints/90'] >= 6) & \\\n",
    "        (df_players['price_estimate_M'] <= 40) & \\\n",
    "        (df_players['id'].isin(targets))\n",
    "        \n",
    "        \n",
    ")\n",
    "\n",
    "df_targets = df_players[mask]\n",
    "\n",
    "scatter_plot(df_targets,\n",
    "             x_metric='attacking_actions/90', \n",
    "             y_metric='creative_actions/90',\n",
    "             z_metric='sprints/90',\n",
    "             title='Presence', \n",
    "             show_name_label=True\n",
    ") \n",
    "\n",
    "#df_targets = df_players[mask]"
   ]
  },
  {
   "cell_type": "markdown",
   "id": "93f777a2",
   "metadata": {},
   "source": [
    "## Excitement"
   ]
  },
  {
   "cell_type": "code",
   "execution_count": 55,
   "id": "ba49d750",
   "metadata": {},
   "outputs": [
    {
     "data": {
      "text/html": [
       "<div>\n",
       "<style scoped>\n",
       "    .dataframe tbody tr th:only-of-type {\n",
       "        vertical-align: middle;\n",
       "    }\n",
       "\n",
       "    .dataframe tbody tr th {\n",
       "        vertical-align: top;\n",
       "    }\n",
       "\n",
       "    .dataframe thead th {\n",
       "        text-align: right;\n",
       "    }\n",
       "</style>\n",
       "<table border=\"1\" class=\"dataframe\">\n",
       "  <thead>\n",
       "    <tr style=\"text-align: right;\">\n",
       "      <th></th>\n",
       "      <th>id</th>\n",
       "      <th>name</th>\n",
       "      <th>position</th>\n",
       "      <th>age</th>\n",
       "      <th>height</th>\n",
       "      <th>weight</th>\n",
       "      <th>inf</th>\n",
       "      <th>club</th>\n",
       "      <th>division</th>\n",
       "      <th>nationality</th>\n",
       "      <th>home_grown</th>\n",
       "      <th>personality</th>\n",
       "      <th>media_handling</th>\n",
       "      <th>wage</th>\n",
       "      <th>transfer_value</th>\n",
       "      <th>asking_price</th>\n",
       "      <th>preferred_foot</th>\n",
       "      <th>starts</th>\n",
       "      <th>minutes_played</th>\n",
       "      <th>average_rating</th>\n",
       "      <th>sub_appearances</th>\n",
       "      <th>minutes/game</th>\n",
       "      <th>index</th>\n",
       "      <th>goals/90</th>\n",
       "      <th>minutes/goal</th>\n",
       "      <th>xg/90</th>\n",
       "      <th>xg/shot</th>\n",
       "      <th>xg_overperformance/90</th>\n",
       "      <th>non_pen_goals/90</th>\n",
       "      <th>non_pen_goals/shot</th>\n",
       "      <th>minutes/non_pen_goal</th>\n",
       "      <th>non_pen_xg/90</th>\n",
       "      <th>non_pen_goals___non_pens_xg_/90</th>\n",
       "      <th>non_pen_xg/shot</th>\n",
       "      <th>non_pen_xg_overperformance/90</th>\n",
       "      <th>goals_outside_box/90</th>\n",
       "      <th>assists/90</th>\n",
       "      <th>minutes/assist</th>\n",
       "      <th>xa/90</th>\n",
       "      <th>xa_overperformance</th>\n",
       "      <th>xa_overperformance/90</th>\n",
       "      <th>assists/clear_cut_chances_created</th>\n",
       "      <th>goal_contributions/90</th>\n",
       "      <th>xgc/90</th>\n",
       "      <th>xgc_overperformance/90</th>\n",
       "      <th>non_pen_goal_contributions/90</th>\n",
       "      <th>non_pen_xgc/90</th>\n",
       "      <th>non_pen_xgc_overperformance/90</th>\n",
       "      <th>conversion_%</th>\n",
       "      <th>shots/90</th>\n",
       "      <th>shots_on_target/90</th>\n",
       "      <th>shots_on_target_%</th>\n",
       "      <th>shots_outside_box/90</th>\n",
       "      <th>passes_attempted/90</th>\n",
       "      <th>passes_completed/90</th>\n",
       "      <th>pass_completion_%</th>\n",
       "      <th>progressive_passes/90</th>\n",
       "      <th>progressive_pass_rate</th>\n",
       "      <th>key_passes/90</th>\n",
       "      <th>key_pass_%</th>\n",
       "      <th>open_play_key_passes/90</th>\n",
       "      <th>open_play_key_pass_%</th>\n",
       "      <th>chances_created/90</th>\n",
       "      <th>clear_cut_chances_created/90</th>\n",
       "      <th>pressures_attempted/90</th>\n",
       "      <th>pressures_completed/90</th>\n",
       "      <th>pressure_success_%</th>\n",
       "      <th>possession_won/90</th>\n",
       "      <th>possession_lost/90</th>\n",
       "      <th>poss+_/90</th>\n",
       "      <th>poss+__%</th>\n",
       "      <th>dribbles/90</th>\n",
       "      <th>headers_attempted/90</th>\n",
       "      <th>headers_won/90</th>\n",
       "      <th>headers_won_%</th>\n",
       "      <th>headers_lost/90</th>\n",
       "      <th>headers_lost_%</th>\n",
       "      <th>key_headers/90</th>\n",
       "      <th>aerial_challenges_attempted/90</th>\n",
       "      <th>duels_win_%</th>\n",
       "      <th>player_of_the_match</th>\n",
       "      <th>mistakes_leading_to_goal</th>\n",
       "      <th>sprints/90</th>\n",
       "      <th>attacking_actions/90</th>\n",
       "      <th>creative_actions/90</th>\n",
       "      <th>defensive_actions/90</th>\n",
       "      <th>goalkeeping_actions/90</th>\n",
       "      <th>excitement_factor/90</th>\n",
       "      <th>general_performance</th>\n",
       "      <th>goalkeeping</th>\n",
       "      <th>defensive_defender</th>\n",
       "      <th>creative_defender</th>\n",
       "      <th>attacking_defender</th>\n",
       "      <th>creative_midfielder</th>\n",
       "      <th>attacking_midfielder</th>\n",
       "      <th>creative_winger</th>\n",
       "      <th>attacking_winger</th>\n",
       "      <th>creative_forward</th>\n",
       "      <th>attacking_forward</th>\n",
       "      <th>finisher</th>\n",
       "      <th>aerial_threat</th>\n",
       "      <th>reader</th>\n",
       "      <th>assister</th>\n",
       "      <th>price_estimate_M</th>\n",
       "      <th>non_pen_goals/non_pen_xg/90</th>\n",
       "    </tr>\n",
       "  </thead>\n",
       "  <tbody>\n",
       "    <tr>\n",
       "      <th>0</th>\n",
       "      <td>168222</td>\n",
       "      <td>Mats Seuntjens</td>\n",
       "      <td>M (LC), AM (RLC), ST (C)</td>\n",
       "      <td>31</td>\n",
       "      <td>187 cm</td>\n",
       "      <td>78 kg</td>\n",
       "      <td>Unh</td>\n",
       "      <td>RKC Waalwijk</td>\n",
       "      <td>Eredivisie</td>\n",
       "      <td>NED</td>\n",
       "      <td>-</td>\n",
       "      <td>-</td>\n",
       "      <td>Scouting Required</td>\n",
       "      <td>$3,200 p/w</td>\n",
       "      <td>$160K - $1.6M</td>\n",
       "      <td>-</td>\n",
       "      <td>Right</td>\n",
       "      <td>15</td>\n",
       "      <td>1305</td>\n",
       "      <td>6.6</td>\n",
       "      <td>0</td>\n",
       "      <td>87.0</td>\n",
       "      <td>0</td>\n",
       "      <td>0.07</td>\n",
       "      <td>1305.0</td>\n",
       "      <td>0.07</td>\n",
       "      <td>0.06</td>\n",
       "      <td>0.0</td>\n",
       "      <td>0.07</td>\n",
       "      <td>0.07</td>\n",
       "      <td>1305.0</td>\n",
       "      <td>0.07</td>\n",
       "      <td>0.0</td>\n",
       "      <td>0.06</td>\n",
       "      <td>0.0</td>\n",
       "      <td>0.0</td>\n",
       "      <td>0.14</td>\n",
       "      <td>652.5</td>\n",
       "      <td>0.08</td>\n",
       "      <td>0.79</td>\n",
       "      <td>0.05</td>\n",
       "      <td>0.0</td>\n",
       "      <td>0.21</td>\n",
       "      <td>0.15</td>\n",
       "      <td>0.06</td>\n",
       "      <td>0.21</td>\n",
       "      <td>0.15</td>\n",
       "      <td>0.06</td>\n",
       "      <td>7</td>\n",
       "      <td>1.03</td>\n",
       "      <td>0.48</td>\n",
       "      <td>47</td>\n",
       "      <td>0.48</td>\n",
       "      <td>31.45</td>\n",
       "      <td>25.45</td>\n",
       "      <td>81</td>\n",
       "      <td>1.03</td>\n",
       "      <td>3.29</td>\n",
       "      <td>0.9</td>\n",
       "      <td>2.85</td>\n",
       "      <td>0.62</td>\n",
       "      <td>1.97</td>\n",
       "      <td>0.07</td>\n",
       "      <td>0.07</td>\n",
       "      <td>9.38</td>\n",
       "      <td>1.59</td>\n",
       "      <td>16.91</td>\n",
       "      <td>5.38</td>\n",
       "      <td>11.52</td>\n",
       "      <td>-6.14</td>\n",
       "      <td>-53.3</td>\n",
       "      <td>2.0</td>\n",
       "      <td>8.69</td>\n",
       "      <td>4.0</td>\n",
       "      <td>46.03</td>\n",
       "      <td>4.69</td>\n",
       "      <td>53.97</td>\n",
       "      <td>0.0</td>\n",
       "      <td>8.69</td>\n",
       "      <td>52.2</td>\n",
       "      <td>0</td>\n",
       "      <td>0</td>\n",
       "      <td>12.07</td>\n",
       "      <td>2.52</td>\n",
       "      <td>1.03</td>\n",
       "      <td>8.99</td>\n",
       "      <td>0</td>\n",
       "      <td>4.55</td>\n",
       "      <td>18</td>\n",
       "      <td>100</td>\n",
       "      <td>65</td>\n",
       "      <td>57</td>\n",
       "      <td>51</td>\n",
       "      <td>7</td>\n",
       "      <td>5</td>\n",
       "      <td>20</td>\n",
       "      <td>25</td>\n",
       "      <td>16</td>\n",
       "      <td>13</td>\n",
       "      <td>6</td>\n",
       "      <td>51</td>\n",
       "      <td>59</td>\n",
       "      <td>54</td>\n",
       "      <td>1.056</td>\n",
       "      <td>1.0</td>\n",
       "    </tr>\n",
       "  </tbody>\n",
       "</table>\n",
       "</div>"
      ],
      "text/plain": [
       "       id            name                  position  age  height weight  inf  \\\n",
       "0  168222  Mats Seuntjens  M (LC), AM (RLC), ST (C)   31  187 cm  78 kg  Unh   \n",
       "\n",
       "           club    division nationality home_grown personality  \\\n",
       "0  RKC Waalwijk  Eredivisie         NED          -           -   \n",
       "\n",
       "      media_handling        wage transfer_value asking_price preferred_foot  \\\n",
       "0  Scouting Required  $3,200 p/w  $160K - $1.6M            -          Right   \n",
       "\n",
       "   starts  minutes_played  average_rating  sub_appearances  minutes/game  \\\n",
       "0      15            1305             6.6                0          87.0   \n",
       "\n",
       "   index  goals/90  minutes/goal  xg/90  xg/shot  xg_overperformance/90  \\\n",
       "0      0      0.07        1305.0   0.07     0.06                    0.0   \n",
       "\n",
       "   non_pen_goals/90  non_pen_goals/shot  minutes/non_pen_goal  non_pen_xg/90  \\\n",
       "0              0.07                0.07                1305.0           0.07   \n",
       "\n",
       "   non_pen_goals___non_pens_xg_/90  non_pen_xg/shot  \\\n",
       "0                              0.0             0.06   \n",
       "\n",
       "   non_pen_xg_overperformance/90  goals_outside_box/90  assists/90  \\\n",
       "0                            0.0                   0.0        0.14   \n",
       "\n",
       "   minutes/assist  xa/90  xa_overperformance  xa_overperformance/90  \\\n",
       "0           652.5   0.08                0.79                   0.05   \n",
       "\n",
       "   assists/clear_cut_chances_created  goal_contributions/90  xgc/90  \\\n",
       "0                                0.0                   0.21    0.15   \n",
       "\n",
       "   xgc_overperformance/90  non_pen_goal_contributions/90  non_pen_xgc/90  \\\n",
       "0                    0.06                           0.21            0.15   \n",
       "\n",
       "   non_pen_xgc_overperformance/90  conversion_%  shots/90  shots_on_target/90  \\\n",
       "0                            0.06             7      1.03                0.48   \n",
       "\n",
       "   shots_on_target_%  shots_outside_box/90  passes_attempted/90  \\\n",
       "0                 47                  0.48                31.45   \n",
       "\n",
       "   passes_completed/90  pass_completion_%  progressive_passes/90  \\\n",
       "0                25.45                 81                   1.03   \n",
       "\n",
       "   progressive_pass_rate  key_passes/90  key_pass_%  open_play_key_passes/90  \\\n",
       "0                   3.29            0.9        2.85                     0.62   \n",
       "\n",
       "   open_play_key_pass_%  chances_created/90  clear_cut_chances_created/90  \\\n",
       "0                  1.97                0.07                          0.07   \n",
       "\n",
       "   pressures_attempted/90  pressures_completed/90  pressure_success_%  \\\n",
       "0                    9.38                    1.59               16.91   \n",
       "\n",
       "   possession_won/90  possession_lost/90  poss+_/90  poss+__%  dribbles/90  \\\n",
       "0               5.38               11.52      -6.14     -53.3          2.0   \n",
       "\n",
       "   headers_attempted/90  headers_won/90  headers_won_%  headers_lost/90  \\\n",
       "0                  8.69             4.0          46.03             4.69   \n",
       "\n",
       "   headers_lost_%  key_headers/90  aerial_challenges_attempted/90  \\\n",
       "0           53.97             0.0                            8.69   \n",
       "\n",
       "   duels_win_%  player_of_the_match  mistakes_leading_to_goal  sprints/90  \\\n",
       "0         52.2                    0                         0       12.07   \n",
       "\n",
       "   attacking_actions/90  creative_actions/90  defensive_actions/90  \\\n",
       "0                  2.52                 1.03                  8.99   \n",
       "\n",
       "   goalkeeping_actions/90  excitement_factor/90  general_performance  \\\n",
       "0                       0                  4.55                   18   \n",
       "\n",
       "   goalkeeping  defensive_defender  creative_defender  attacking_defender  \\\n",
       "0          100                  65                 57                  51   \n",
       "\n",
       "   creative_midfielder  attacking_midfielder  creative_winger  \\\n",
       "0                    7                     5               20   \n",
       "\n",
       "   attacking_winger  creative_forward  attacking_forward  finisher  \\\n",
       "0                25                16                 13         6   \n",
       "\n",
       "   aerial_threat  reader  assister  price_estimate_M  \\\n",
       "0             51      59        54             1.056   \n",
       "\n",
       "   non_pen_goals/non_pen_xg/90  \n",
       "0                          1.0  "
      ]
     },
     "execution_count": 55,
     "metadata": {},
     "output_type": "execute_result"
    }
   ],
   "source": [
    "df_players.head(1)"
   ]
  },
  {
   "cell_type": "code",
   "execution_count": 56,
   "id": "ef5ba0ed",
   "metadata": {},
   "outputs": [
    {
     "data": {
      "application/vnd.plotly.v1+json": {
       "config": {
        "plotlyServerURL": "https://plot.ly"
       },
       "data": [
        {
         "customdata": [
          [
           "Stephen Odey",
           "Randers FC"
          ],
          [
           "Tomás Conechny",
           "Godoy Cruz"
          ],
          [
           "Jonatan Torres",
           "Lanús"
          ],
          [
           "Nahuel Bustos",
           "Talleres"
          ],
          [
           "Maximiliano Salas",
           "Racing Club"
          ],
          [
           "Santiago Rodríguez",
           "Instituto"
          ],
          [
           "Jonás Acevedo",
           "Instituto"
          ],
          [
           "Lucas Brochero",
           "Barracas Central"
          ],
          [
           "Mauro Luna Diale",
           "Unión (SF)"
          ],
          [
           "Justo Giani",
           "Atl. Tucumán"
          ],
          [
           "Rodrigo Castillo",
           "Gimnasia (LP)"
          ],
          [
           "Ivo Mammini",
           "Gimnasia (LP)"
          ],
          [
           "Othmane Boussaid",
           "FC Utrecht"
          ],
          [
           "Paulinho",
           "ATM"
          ],
          [
           "Yuri Alberto",
           "COR"
          ],
          [
           "Vitinho",
           "RB Bragantino"
          ],
          [
           "David da Hora",
           "FOR"
          ],
          [
           "Bruno Marques",
           "SAN"
          ],
          [
           "Lázaro",
           "SEP"
          ],
          [
           "Igor Paixão",
           "Feyenoord"
          ],
          [
           "Matheus Babi",
           "Athlético Paranaense"
          ],
          [
           "Haji Wright",
           "Coventry"
          ],
          [
           "Ondřej Lingr",
           "Feyenoord"
          ],
          [
           "Jens Odgaard",
           "Bologna"
          ],
          [
           "Søren Tengstedt",
           "Go Ahead Eagles"
          ],
          [
           "Mileta Rajović",
           "Watford"
          ],
          [
           "Lirim Qamili",
           "Hvidovre IF"
          ],
          [
           "Alexander Lind",
           "Silkeborg IF"
          ],
          [
           "Anosike Ementa",
           "Viborg FF"
          ],
          [
           "Adam Armstrong",
           "Southampton"
          ],
          [
           "Iké Ugbo",
           "Sheffield Wednesday"
          ],
          [
           "Josh Maja",
           "West Brom"
          ],
          [
           "Tyrese Campbell",
           "Stoke"
          ],
          [
           "Ellis Simms",
           "Coventry"
          ],
          [
           "Conor Chaplin",
           "Ipswich"
          ],
          [
           "Fredrik Jensen",
           "Augsburg"
          ],
          [
           "Guus Til",
           "PSV"
          ],
          [
           "Delano Burgzorg",
           "Huddersfield"
          ],
          [
           "Myron Boadu",
           "FC Twente"
          ],
          [
           "Zakaria Aboukhlal",
           "Toulouse"
          ],
          [
           "Sydney van Hooijdonk",
           "Norwich"
          ],
          [
           "Emmanuel Latte Lath",
           "Middlesbrough"
          ],
          [
           "Nicolò Zaniolo",
           "Aston Villa"
          ],
          [
           "Ismaïla Sarr",
           "Marseille"
          ],
          [
           "Chiedozie Ogbene",
           "Luton"
          ],
          [
           "Issah Abass",
           "Desp. Chaves"
          ],
          [
           "Cho Gue-Sung",
           "FC Midtjylland"
          ],
          [
           "Toni Martínez",
           "FC Porto"
          ],
          [
           "Chris Ramos",
           "Cádiz"
          ],
          [
           "Isaac Romero",
           "Sevilla"
          ],
          [
           "Óscar Estupiñán",
           "BAH"
          ],
          [
           "Edwuin Cetré",
           "Estudiantes (LP)"
          ],
          [
           "Blas Armoa",
           "Tigre"
          ],
          [
           "Isidro Pitta",
           "CUI"
          ],
          [
           "Marcelo Pérez",
           "Huracán"
          ],
          [
           "Vangelis Pavlidis",
           "AZ"
          ],
          [
           "Franculino Djú",
           "FC Midtjylland"
          ],
          [
           "Figueiredo",
           "CTB"
          ],
          [
           "Victor Hugo",
           "FLA"
          ],
          [
           "Facundo Echevarría",
           "Defensa y Justicia"
          ],
          [
           "Lucca Holanda",
           "INT"
          ],
          [
           "Roony Bardghji",
           "FC København"
          ],
          [
           "Renato Marques",
           "AMG"
          ],
          [
           "Jason van Duiven",
           "Almere City"
          ],
          [
           "Aidomo Emakhu",
           "Millwall"
          ],
          [
           "Jobe Bellingham",
           "Sunderland"
          ],
          [
           "Jean Gabriel",
           "CTB"
          ]
         ],
         "hovertemplate": "<b>%{customdata[0]}</b><br><b>%{customdata[1]}</b><br><br>excitement_factor/90: %{x}<br>sprints/90: %{y}<br>shots_on_target_%: %{marker.color}<extra></extra>",
         "legendgroup": "",
         "marker": {
          "color": {
           "bdata": "RywuJi0oIS82QDYvKjI8NDMuOSsuNjUvNz8wNi42OTUlLSpHQD0/ODM1MDRATi5BKz4yJSE4ODI9MyUwNi0rOUcvIA==",
           "dtype": "i1"
          },
          "coloraxis": "coloraxis",
          "size": 10,
          "symbol": "circle"
         },
         "mode": "markers+text",
         "name": "",
         "orientation": "v",
         "showlegend": false,
         "text": [
          "Stephen Odey",
          "Tomás Conechny",
          "Jonatan Torres",
          "Nahuel Bustos",
          "Maximiliano Salas",
          "Santiago Rodríguez",
          "Jonás Acevedo",
          "Lucas Brochero",
          "Mauro Luna Diale",
          "Justo Giani",
          "Rodrigo Castillo",
          "Ivo Mammini",
          "Othmane Boussaid",
          "Paulinho",
          "Yuri Alberto",
          "Vitinho",
          "David da Hora",
          "Bruno Marques",
          "Lázaro",
          "Igor Paixão",
          "Matheus Babi",
          "Haji Wright",
          "Ondřej Lingr",
          "Jens Odgaard",
          "Søren Tengstedt",
          "Mileta Rajović",
          "Lirim Qamili",
          "Alexander Lind",
          "Anosike Ementa",
          "Adam Armstrong",
          "Iké Ugbo",
          "Josh Maja",
          "Tyrese Campbell",
          "Ellis Simms",
          "Conor Chaplin",
          "Fredrik Jensen",
          "Guus Til",
          "Delano Burgzorg",
          "Myron Boadu",
          "Zakaria Aboukhlal",
          "Sydney van Hooijdonk",
          "Emmanuel Latte Lath",
          "Nicolò Zaniolo",
          "Ismaïla Sarr",
          "Chiedozie Ogbene",
          "Issah Abass",
          "Cho Gue-Sung",
          "Toni Martínez",
          "Chris Ramos",
          "Isaac Romero",
          "Óscar Estupiñán",
          "Edwuin Cetré",
          "Blas Armoa",
          "Isidro Pitta",
          "Marcelo Pérez",
          "Vangelis Pavlidis",
          "Franculino Djú",
          "Figueiredo",
          "Victor Hugo",
          "Facundo Echevarría",
          "Lucca Holanda",
          "Roony Bardghji",
          "Renato Marques",
          "Jason van Duiven",
          "Aidomo Emakhu",
          "Jobe Bellingham",
          "Jean Gabriel"
         ],
         "textfont": {
          "size": 10
         },
         "textposition": "top center",
         "type": "scatter",
         "x": {
          "bdata": "j8L1KFyPDkA9CtejcL0kQB+F61G4HhhAexSuR+F6GUBcj8L1KFwXQClcj8L1KBxAH4XrUbgeFkBmZmZmZmYlQArXo3A9ChZAMzMzMzMzJ0DNzMzMzMwZQFyPwvUoXBVAw/UoXI9CJEBmZmZmZuYiQJqZmZmZmRBAPQrXo3A9HkC4HoXrUbgUQArXo3A9ChFAPQrXo3A9IECPwvUoXI8kQFyPwvUoXBdAH4XrUbgeFEBI4XoUrkcbQK5H4XoUrhFAuB6F61E4KEBcj8L1KFwVQFyPwvUoXBpAcT0K16NwE0BSuB6F61EaQPYoXI/C9SJAH4XrUbgeF0BI4XoUrkcSQArXo3A9ChhACtejcD0KF0A9CtejcD0SQKRwPQrXoxBASOF6FK5HE0CF61G4HoUbQDMzMzMzMxNAAAAAAAAAFkA9CtejcD0ZQEjhehSuxylAuB6F61G4JUC4HoXrUTgoQDMzMzMzMyVAAAAAAAAAHEAAAAAAAAAVQK5H4XoUrhNAcT0K16NwGUDhehSuR+ETQIXrUbgehRJAzczMzMzMJEAzMzMzMzMkQJqZmZmZmSJArkfhehSuFEBcj8L1KFwSQNejcD0K1x1ACtejcD2KIEC4HoXrUbgbQD0K16NwPRZAcT0K16NwFUBmZmZmZuYkQIXrUbgehRJA7FG4HoXrEECkcD0K16MdQM3MzMzMzBNAw/UoXI/CFkA=",
          "dtype": "f8"
         },
         "xaxis": "x",
         "y": {
          "bdata": "7FG4HoXrHEBcj8L1KFwvQB+F61G4Hh5AAAAAAAAAH0CamZmZmZkaQJqZmZmZGSZA9ihcj8L1I0BSuB6F69EtQPYoXI/C9ShAUrgehetRMUA9CtejcL0hQMP1KFyPwh5AKVyPwvWoMEA9CtejcL0rQArXo3A9ChpAMzMzMzMzLEAAAAAAAAAgQDMzMzMzMxlAAAAAAAAAKkCPwvUoXI8mQDMzMzMzMxxApHA9CtejHkC4HoXrUbgmQIXrUbgeBSRApHA9CtcjMEAfhetRuB4dQOxRuB6F6yFAj8L1KFyPGUBcj8L1KFwfQFK4HoXr0SVA7FG4HoXrGkCuR+F6FK4dQHE9CtejcBxAw/UoXI/CHUC4HoXrUTgtQM3MzMzMzCpAXI/C9ShcJ0DXo3A9ClctQOxRuB6F6xlAZmZmZmZmJUCkcD0K16MdQNejcD0KVyhAKVyPwvUoL0DsUbgehessQOxRuB6FayxArkfhehSuJkAK16NwPQodQFK4HoXrURpAw/UoXI/CJkAAAAAAAAAcQIXrUbgehRhAexSuR+H6KEC4HoXrUbgsQAAAAAAAgCNAPQrXo3A9HECPwvUoXI8aQOxRuB6F6xhAj8L1KFyPJEDsUbgehespQK5H4XoUrh1AFK5H4XoUGEDD9Shcj0IpQHsUrkfhehpA7FG4HoXrG0CuR+F6FK4kQArXo3A9Ch9Aw/UoXI9CIkA=",
          "dtype": "f8"
         },
         "yaxis": "y"
        }
       ],
       "layout": {
        "coloraxis": {
         "colorbar": {
          "title": {
           "text": "shots_on_target_%"
          }
         },
         "colorscale": [
          [
           0,
           "rgb(165,0,38)"
          ],
          [
           0.1,
           "rgb(215,48,39)"
          ],
          [
           0.2,
           "rgb(244,109,67)"
          ],
          [
           0.3,
           "rgb(253,174,97)"
          ],
          [
           0.4,
           "rgb(254,224,139)"
          ],
          [
           0.5,
           "rgb(255,255,191)"
          ],
          [
           0.6,
           "rgb(217,239,139)"
          ],
          [
           0.7,
           "rgb(166,217,106)"
          ],
          [
           0.8,
           "rgb(102,189,99)"
          ],
          [
           0.9,
           "rgb(26,152,80)"
          ],
          [
           1,
           "rgb(0,104,55)"
          ]
         ],
         "showscale": false
        },
        "height": 700,
        "legend": {
         "tracegroupgap": 0
        },
        "paper_bgcolor": "darkgray",
        "plot_bgcolor": "darkgray",
        "template": {
         "data": {
          "bar": [
           {
            "error_x": {
             "color": "#2a3f5f"
            },
            "error_y": {
             "color": "#2a3f5f"
            },
            "marker": {
             "line": {
              "color": "#E5ECF6",
              "width": 0.5
             },
             "pattern": {
              "fillmode": "overlay",
              "size": 10,
              "solidity": 0.2
             }
            },
            "type": "bar"
           }
          ],
          "barpolar": [
           {
            "marker": {
             "line": {
              "color": "#E5ECF6",
              "width": 0.5
             },
             "pattern": {
              "fillmode": "overlay",
              "size": 10,
              "solidity": 0.2
             }
            },
            "type": "barpolar"
           }
          ],
          "carpet": [
           {
            "aaxis": {
             "endlinecolor": "#2a3f5f",
             "gridcolor": "white",
             "linecolor": "white",
             "minorgridcolor": "white",
             "startlinecolor": "#2a3f5f"
            },
            "baxis": {
             "endlinecolor": "#2a3f5f",
             "gridcolor": "white",
             "linecolor": "white",
             "minorgridcolor": "white",
             "startlinecolor": "#2a3f5f"
            },
            "type": "carpet"
           }
          ],
          "choropleth": [
           {
            "colorbar": {
             "outlinewidth": 0,
             "ticks": ""
            },
            "type": "choropleth"
           }
          ],
          "contour": [
           {
            "colorbar": {
             "outlinewidth": 0,
             "ticks": ""
            },
            "colorscale": [
             [
              0,
              "#0d0887"
             ],
             [
              0.1111111111111111,
              "#46039f"
             ],
             [
              0.2222222222222222,
              "#7201a8"
             ],
             [
              0.3333333333333333,
              "#9c179e"
             ],
             [
              0.4444444444444444,
              "#bd3786"
             ],
             [
              0.5555555555555556,
              "#d8576b"
             ],
             [
              0.6666666666666666,
              "#ed7953"
             ],
             [
              0.7777777777777778,
              "#fb9f3a"
             ],
             [
              0.8888888888888888,
              "#fdca26"
             ],
             [
              1,
              "#f0f921"
             ]
            ],
            "type": "contour"
           }
          ],
          "contourcarpet": [
           {
            "colorbar": {
             "outlinewidth": 0,
             "ticks": ""
            },
            "type": "contourcarpet"
           }
          ],
          "heatmap": [
           {
            "colorbar": {
             "outlinewidth": 0,
             "ticks": ""
            },
            "colorscale": [
             [
              0,
              "#0d0887"
             ],
             [
              0.1111111111111111,
              "#46039f"
             ],
             [
              0.2222222222222222,
              "#7201a8"
             ],
             [
              0.3333333333333333,
              "#9c179e"
             ],
             [
              0.4444444444444444,
              "#bd3786"
             ],
             [
              0.5555555555555556,
              "#d8576b"
             ],
             [
              0.6666666666666666,
              "#ed7953"
             ],
             [
              0.7777777777777778,
              "#fb9f3a"
             ],
             [
              0.8888888888888888,
              "#fdca26"
             ],
             [
              1,
              "#f0f921"
             ]
            ],
            "type": "heatmap"
           }
          ],
          "histogram": [
           {
            "marker": {
             "pattern": {
              "fillmode": "overlay",
              "size": 10,
              "solidity": 0.2
             }
            },
            "type": "histogram"
           }
          ],
          "histogram2d": [
           {
            "colorbar": {
             "outlinewidth": 0,
             "ticks": ""
            },
            "colorscale": [
             [
              0,
              "#0d0887"
             ],
             [
              0.1111111111111111,
              "#46039f"
             ],
             [
              0.2222222222222222,
              "#7201a8"
             ],
             [
              0.3333333333333333,
              "#9c179e"
             ],
             [
              0.4444444444444444,
              "#bd3786"
             ],
             [
              0.5555555555555556,
              "#d8576b"
             ],
             [
              0.6666666666666666,
              "#ed7953"
             ],
             [
              0.7777777777777778,
              "#fb9f3a"
             ],
             [
              0.8888888888888888,
              "#fdca26"
             ],
             [
              1,
              "#f0f921"
             ]
            ],
            "type": "histogram2d"
           }
          ],
          "histogram2dcontour": [
           {
            "colorbar": {
             "outlinewidth": 0,
             "ticks": ""
            },
            "colorscale": [
             [
              0,
              "#0d0887"
             ],
             [
              0.1111111111111111,
              "#46039f"
             ],
             [
              0.2222222222222222,
              "#7201a8"
             ],
             [
              0.3333333333333333,
              "#9c179e"
             ],
             [
              0.4444444444444444,
              "#bd3786"
             ],
             [
              0.5555555555555556,
              "#d8576b"
             ],
             [
              0.6666666666666666,
              "#ed7953"
             ],
             [
              0.7777777777777778,
              "#fb9f3a"
             ],
             [
              0.8888888888888888,
              "#fdca26"
             ],
             [
              1,
              "#f0f921"
             ]
            ],
            "type": "histogram2dcontour"
           }
          ],
          "mesh3d": [
           {
            "colorbar": {
             "outlinewidth": 0,
             "ticks": ""
            },
            "type": "mesh3d"
           }
          ],
          "parcoords": [
           {
            "line": {
             "colorbar": {
              "outlinewidth": 0,
              "ticks": ""
             }
            },
            "type": "parcoords"
           }
          ],
          "pie": [
           {
            "automargin": true,
            "type": "pie"
           }
          ],
          "scatter": [
           {
            "fillpattern": {
             "fillmode": "overlay",
             "size": 10,
             "solidity": 0.2
            },
            "type": "scatter"
           }
          ],
          "scatter3d": [
           {
            "line": {
             "colorbar": {
              "outlinewidth": 0,
              "ticks": ""
             }
            },
            "marker": {
             "colorbar": {
              "outlinewidth": 0,
              "ticks": ""
             }
            },
            "type": "scatter3d"
           }
          ],
          "scattercarpet": [
           {
            "marker": {
             "colorbar": {
              "outlinewidth": 0,
              "ticks": ""
             }
            },
            "type": "scattercarpet"
           }
          ],
          "scattergeo": [
           {
            "marker": {
             "colorbar": {
              "outlinewidth": 0,
              "ticks": ""
             }
            },
            "type": "scattergeo"
           }
          ],
          "scattergl": [
           {
            "marker": {
             "colorbar": {
              "outlinewidth": 0,
              "ticks": ""
             }
            },
            "type": "scattergl"
           }
          ],
          "scattermap": [
           {
            "marker": {
             "colorbar": {
              "outlinewidth": 0,
              "ticks": ""
             }
            },
            "type": "scattermap"
           }
          ],
          "scattermapbox": [
           {
            "marker": {
             "colorbar": {
              "outlinewidth": 0,
              "ticks": ""
             }
            },
            "type": "scattermapbox"
           }
          ],
          "scatterpolar": [
           {
            "marker": {
             "colorbar": {
              "outlinewidth": 0,
              "ticks": ""
             }
            },
            "type": "scatterpolar"
           }
          ],
          "scatterpolargl": [
           {
            "marker": {
             "colorbar": {
              "outlinewidth": 0,
              "ticks": ""
             }
            },
            "type": "scatterpolargl"
           }
          ],
          "scatterternary": [
           {
            "marker": {
             "colorbar": {
              "outlinewidth": 0,
              "ticks": ""
             }
            },
            "type": "scatterternary"
           }
          ],
          "surface": [
           {
            "colorbar": {
             "outlinewidth": 0,
             "ticks": ""
            },
            "colorscale": [
             [
              0,
              "#0d0887"
             ],
             [
              0.1111111111111111,
              "#46039f"
             ],
             [
              0.2222222222222222,
              "#7201a8"
             ],
             [
              0.3333333333333333,
              "#9c179e"
             ],
             [
              0.4444444444444444,
              "#bd3786"
             ],
             [
              0.5555555555555556,
              "#d8576b"
             ],
             [
              0.6666666666666666,
              "#ed7953"
             ],
             [
              0.7777777777777778,
              "#fb9f3a"
             ],
             [
              0.8888888888888888,
              "#fdca26"
             ],
             [
              1,
              "#f0f921"
             ]
            ],
            "type": "surface"
           }
          ],
          "table": [
           {
            "cells": {
             "fill": {
              "color": "#EBF0F8"
             },
             "line": {
              "color": "white"
             }
            },
            "header": {
             "fill": {
              "color": "#C8D4E3"
             },
             "line": {
              "color": "white"
             }
            },
            "type": "table"
           }
          ]
         },
         "layout": {
          "annotationdefaults": {
           "arrowcolor": "#2a3f5f",
           "arrowhead": 0,
           "arrowwidth": 1
          },
          "autotypenumbers": "strict",
          "coloraxis": {
           "colorbar": {
            "outlinewidth": 0,
            "ticks": ""
           }
          },
          "colorscale": {
           "diverging": [
            [
             0,
             "#8e0152"
            ],
            [
             0.1,
             "#c51b7d"
            ],
            [
             0.2,
             "#de77ae"
            ],
            [
             0.3,
             "#f1b6da"
            ],
            [
             0.4,
             "#fde0ef"
            ],
            [
             0.5,
             "#f7f7f7"
            ],
            [
             0.6,
             "#e6f5d0"
            ],
            [
             0.7,
             "#b8e186"
            ],
            [
             0.8,
             "#7fbc41"
            ],
            [
             0.9,
             "#4d9221"
            ],
            [
             1,
             "#276419"
            ]
           ],
           "sequential": [
            [
             0,
             "#0d0887"
            ],
            [
             0.1111111111111111,
             "#46039f"
            ],
            [
             0.2222222222222222,
             "#7201a8"
            ],
            [
             0.3333333333333333,
             "#9c179e"
            ],
            [
             0.4444444444444444,
             "#bd3786"
            ],
            [
             0.5555555555555556,
             "#d8576b"
            ],
            [
             0.6666666666666666,
             "#ed7953"
            ],
            [
             0.7777777777777778,
             "#fb9f3a"
            ],
            [
             0.8888888888888888,
             "#fdca26"
            ],
            [
             1,
             "#f0f921"
            ]
           ],
           "sequentialminus": [
            [
             0,
             "#0d0887"
            ],
            [
             0.1111111111111111,
             "#46039f"
            ],
            [
             0.2222222222222222,
             "#7201a8"
            ],
            [
             0.3333333333333333,
             "#9c179e"
            ],
            [
             0.4444444444444444,
             "#bd3786"
            ],
            [
             0.5555555555555556,
             "#d8576b"
            ],
            [
             0.6666666666666666,
             "#ed7953"
            ],
            [
             0.7777777777777778,
             "#fb9f3a"
            ],
            [
             0.8888888888888888,
             "#fdca26"
            ],
            [
             1,
             "#f0f921"
            ]
           ]
          },
          "colorway": [
           "#636efa",
           "#EF553B",
           "#00cc96",
           "#ab63fa",
           "#FFA15A",
           "#19d3f3",
           "#FF6692",
           "#B6E880",
           "#FF97FF",
           "#FECB52"
          ],
          "font": {
           "color": "#2a3f5f"
          },
          "geo": {
           "bgcolor": "white",
           "lakecolor": "white",
           "landcolor": "#E5ECF6",
           "showlakes": true,
           "showland": true,
           "subunitcolor": "white"
          },
          "hoverlabel": {
           "align": "left"
          },
          "hovermode": "closest",
          "mapbox": {
           "style": "light"
          },
          "paper_bgcolor": "white",
          "plot_bgcolor": "#E5ECF6",
          "polar": {
           "angularaxis": {
            "gridcolor": "white",
            "linecolor": "white",
            "ticks": ""
           },
           "bgcolor": "#E5ECF6",
           "radialaxis": {
            "gridcolor": "white",
            "linecolor": "white",
            "ticks": ""
           }
          },
          "scene": {
           "xaxis": {
            "backgroundcolor": "#E5ECF6",
            "gridcolor": "white",
            "gridwidth": 2,
            "linecolor": "white",
            "showbackground": true,
            "ticks": "",
            "zerolinecolor": "white"
           },
           "yaxis": {
            "backgroundcolor": "#E5ECF6",
            "gridcolor": "white",
            "gridwidth": 2,
            "linecolor": "white",
            "showbackground": true,
            "ticks": "",
            "zerolinecolor": "white"
           },
           "zaxis": {
            "backgroundcolor": "#E5ECF6",
            "gridcolor": "white",
            "gridwidth": 2,
            "linecolor": "white",
            "showbackground": true,
            "ticks": "",
            "zerolinecolor": "white"
           }
          },
          "shapedefaults": {
           "line": {
            "color": "#2a3f5f"
           }
          },
          "ternary": {
           "aaxis": {
            "gridcolor": "white",
            "linecolor": "white",
            "ticks": ""
           },
           "baxis": {
            "gridcolor": "white",
            "linecolor": "white",
            "ticks": ""
           },
           "bgcolor": "#E5ECF6",
           "caxis": {
            "gridcolor": "white",
            "linecolor": "white",
            "ticks": ""
           }
          },
          "title": {
           "x": 0.05
          },
          "xaxis": {
           "automargin": true,
           "gridcolor": "white",
           "linecolor": "white",
           "ticks": "",
           "title": {
            "standoff": 15
           },
           "zerolinecolor": "white",
           "zerolinewidth": 2
          },
          "yaxis": {
           "automargin": true,
           "gridcolor": "white",
           "linecolor": "white",
           "ticks": "",
           "title": {
            "standoff": 15
           },
           "zerolinecolor": "white",
           "zerolinewidth": 2
          }
         }
        },
        "title": {
         "text": "Distance ( 67)",
         "x": 0.5,
         "xanchor": "center"
        },
        "width": 1200,
        "xaxis": {
         "anchor": "y",
         "domain": [
          0,
          1
         ],
         "gridcolor": "white",
         "showgrid": true,
         "title": {
          "text": "excitement_factor/90"
         },
         "zeroline": false
        },
        "yaxis": {
         "anchor": "x",
         "domain": [
          0,
          1
         ],
         "gridcolor": "white",
         "showgrid": true,
         "title": {
          "text": "sprints/90"
         },
         "zeroline": false
        }
       }
      }
     },
     "metadata": {},
     "output_type": "display_data"
    }
   ],
   "source": [
    "# Full universe \n",
    "scatter_plot(df_targets,\n",
    "             x_metric='excitement_factor/90', \n",
    "             y_metric='sprints/90',\n",
    "             z_metric='shots_on_target_%',\n",
    "             title='Distance', \n",
    "             show_name_label=True\n",
    ") "
   ]
  },
  {
   "cell_type": "code",
   "execution_count": 57,
   "id": "c367b34a",
   "metadata": {},
   "outputs": [
    {
     "data": {
      "text/plain": [
       "division\n",
       "3F Superliga                            7\n",
       "Bundesliga                              1\n",
       "Campeonato Brasileiro Série A Assaí    14\n",
       "Eredivisie                              8\n",
       "LaLiga EA Sports                        2\n",
       "Liga Portugal Betclic                   2\n",
       "Liga Profesional de Fútbol             15\n",
       "Ligue 1 Uber Eats                       2\n",
       "Premier League                          2\n",
       "Serie A TIM                             1\n",
       "Sky Bet Championship                   13\n",
       "Name: id, dtype: int64"
      ]
     },
     "execution_count": 57,
     "metadata": {},
     "output_type": "execute_result"
    }
   ],
   "source": [
    "df_targets.groupby('division')['id'].count()"
   ]
  },
  {
   "cell_type": "code",
   "execution_count": 65,
   "id": "baaaccaa",
   "metadata": {},
   "outputs": [
    {
     "data": {
      "text/html": [
       "<div>\n",
       "<style scoped>\n",
       "    .dataframe tbody tr th:only-of-type {\n",
       "        vertical-align: middle;\n",
       "    }\n",
       "\n",
       "    .dataframe tbody tr th {\n",
       "        vertical-align: top;\n",
       "    }\n",
       "\n",
       "    .dataframe thead th {\n",
       "        text-align: right;\n",
       "    }\n",
       "</style>\n",
       "<table border=\"1\" class=\"dataframe\">\n",
       "  <thead>\n",
       "    <tr style=\"text-align: right;\">\n",
       "      <th></th>\n",
       "      <th>id</th>\n",
       "      <th>name</th>\n",
       "      <th>position</th>\n",
       "      <th>age</th>\n",
       "      <th>height</th>\n",
       "      <th>weight</th>\n",
       "      <th>inf</th>\n",
       "      <th>club</th>\n",
       "      <th>division</th>\n",
       "      <th>nationality</th>\n",
       "      <th>home_grown</th>\n",
       "      <th>personality</th>\n",
       "      <th>media_handling</th>\n",
       "      <th>wage</th>\n",
       "      <th>transfer_value</th>\n",
       "      <th>asking_price</th>\n",
       "      <th>preferred_foot</th>\n",
       "      <th>starts</th>\n",
       "      <th>minutes_played</th>\n",
       "      <th>average_rating</th>\n",
       "      <th>sub_appearances</th>\n",
       "      <th>minutes/game</th>\n",
       "      <th>index</th>\n",
       "      <th>goals/90</th>\n",
       "      <th>minutes/goal</th>\n",
       "      <th>xg/90</th>\n",
       "      <th>xg/shot</th>\n",
       "      <th>xg_overperformance/90</th>\n",
       "      <th>non_pen_goals/90</th>\n",
       "      <th>non_pen_goals/shot</th>\n",
       "      <th>minutes/non_pen_goal</th>\n",
       "      <th>non_pen_xg/90</th>\n",
       "      <th>non_pen_goals___non_pens_xg_/90</th>\n",
       "      <th>non_pen_xg/shot</th>\n",
       "      <th>non_pen_xg_overperformance/90</th>\n",
       "      <th>goals_outside_box/90</th>\n",
       "      <th>assists/90</th>\n",
       "      <th>minutes/assist</th>\n",
       "      <th>xa/90</th>\n",
       "      <th>xa_overperformance</th>\n",
       "      <th>xa_overperformance/90</th>\n",
       "      <th>assists/clear_cut_chances_created</th>\n",
       "      <th>goal_contributions/90</th>\n",
       "      <th>xgc/90</th>\n",
       "      <th>xgc_overperformance/90</th>\n",
       "      <th>non_pen_goal_contributions/90</th>\n",
       "      <th>non_pen_xgc/90</th>\n",
       "      <th>non_pen_xgc_overperformance/90</th>\n",
       "      <th>conversion_%</th>\n",
       "      <th>shots/90</th>\n",
       "      <th>shots_on_target/90</th>\n",
       "      <th>shots_on_target_%</th>\n",
       "      <th>shots_outside_box/90</th>\n",
       "      <th>passes_attempted/90</th>\n",
       "      <th>passes_completed/90</th>\n",
       "      <th>pass_completion_%</th>\n",
       "      <th>progressive_passes/90</th>\n",
       "      <th>progressive_pass_rate</th>\n",
       "      <th>key_passes/90</th>\n",
       "      <th>key_pass_%</th>\n",
       "      <th>open_play_key_passes/90</th>\n",
       "      <th>open_play_key_pass_%</th>\n",
       "      <th>chances_created/90</th>\n",
       "      <th>clear_cut_chances_created/90</th>\n",
       "      <th>pressures_attempted/90</th>\n",
       "      <th>pressures_completed/90</th>\n",
       "      <th>pressure_success_%</th>\n",
       "      <th>possession_won/90</th>\n",
       "      <th>possession_lost/90</th>\n",
       "      <th>poss+_/90</th>\n",
       "      <th>poss+__%</th>\n",
       "      <th>dribbles/90</th>\n",
       "      <th>headers_attempted/90</th>\n",
       "      <th>headers_won/90</th>\n",
       "      <th>headers_won_%</th>\n",
       "      <th>headers_lost/90</th>\n",
       "      <th>headers_lost_%</th>\n",
       "      <th>key_headers/90</th>\n",
       "      <th>aerial_challenges_attempted/90</th>\n",
       "      <th>duels_win_%</th>\n",
       "      <th>player_of_the_match</th>\n",
       "      <th>mistakes_leading_to_goal</th>\n",
       "      <th>sprints/90</th>\n",
       "      <th>attacking_actions/90</th>\n",
       "      <th>creative_actions/90</th>\n",
       "      <th>defensive_actions/90</th>\n",
       "      <th>goalkeeping_actions/90</th>\n",
       "      <th>excitement_factor/90</th>\n",
       "      <th>general_performance</th>\n",
       "      <th>goalkeeping</th>\n",
       "      <th>defensive_defender</th>\n",
       "      <th>creative_defender</th>\n",
       "      <th>attacking_defender</th>\n",
       "      <th>creative_midfielder</th>\n",
       "      <th>attacking_midfielder</th>\n",
       "      <th>creative_winger</th>\n",
       "      <th>attacking_winger</th>\n",
       "      <th>creative_forward</th>\n",
       "      <th>attacking_forward</th>\n",
       "      <th>finisher</th>\n",
       "      <th>aerial_threat</th>\n",
       "      <th>reader</th>\n",
       "      <th>assister</th>\n",
       "      <th>price_estimate_M</th>\n",
       "      <th>non_pen_goals/non_pen_xg/90</th>\n",
       "    </tr>\n",
       "  </thead>\n",
       "  <tbody>\n",
       "    <tr>\n",
       "      <th>477</th>\n",
       "      <td>2000205927</td>\n",
       "      <td>Jobe Bellingham</td>\n",
       "      <td>DM, M/AM (C), ST (C)</td>\n",
       "      <td>18</td>\n",
       "      <td>188 cm</td>\n",
       "      <td>80 kg</td>\n",
       "      <td>Inj</td>\n",
       "      <td>Sunderland</td>\n",
       "      <td>Sky Bet Championship</td>\n",
       "      <td>ENG (IRL)</td>\n",
       "      <td>Trained in nation (15-21)</td>\n",
       "      <td>-</td>\n",
       "      <td>Scouting Required</td>\n",
       "      <td>$9,250 p/w</td>\n",
       "      <td>$8.4M - $11M</td>\n",
       "      <td>-</td>\n",
       "      <td>Right</td>\n",
       "      <td>19</td>\n",
       "      <td>1381</td>\n",
       "      <td>7.00</td>\n",
       "      <td>1</td>\n",
       "      <td>69.05</td>\n",
       "      <td>477</td>\n",
       "      <td>0.26</td>\n",
       "      <td>345.25</td>\n",
       "      <td>0.10</td>\n",
       "      <td>0.08</td>\n",
       "      <td>0.16</td>\n",
       "      <td>0.26</td>\n",
       "      <td>0.21</td>\n",
       "      <td>345.25</td>\n",
       "      <td>0.10</td>\n",
       "      <td>0.16</td>\n",
       "      <td>0.08</td>\n",
       "      <td>0.16</td>\n",
       "      <td>0.13</td>\n",
       "      <td>0.07</td>\n",
       "      <td>1381.00</td>\n",
       "      <td>0.11</td>\n",
       "      <td>-0.75</td>\n",
       "      <td>-0.05</td>\n",
       "      <td>0.17</td>\n",
       "      <td>0.33</td>\n",
       "      <td>0.22</td>\n",
       "      <td>0.11</td>\n",
       "      <td>0.33</td>\n",
       "      <td>0.22</td>\n",
       "      <td>0.11</td>\n",
       "      <td>21</td>\n",
       "      <td>1.24</td>\n",
       "      <td>0.59</td>\n",
       "      <td>47</td>\n",
       "      <td>0.91</td>\n",
       "      <td>54.87</td>\n",
       "      <td>47.44</td>\n",
       "      <td>86</td>\n",
       "      <td>3.06</td>\n",
       "      <td>5.58</td>\n",
       "      <td>1.37</td>\n",
       "      <td>2.49</td>\n",
       "      <td>1.37</td>\n",
       "      <td>2.49</td>\n",
       "      <td>0.42</td>\n",
       "      <td>0.39</td>\n",
       "      <td>12.84</td>\n",
       "      <td>3.39</td>\n",
       "      <td>26.40</td>\n",
       "      <td>8.80</td>\n",
       "      <td>11.40</td>\n",
       "      <td>-2.60</td>\n",
       "      <td>-22.81</td>\n",
       "      <td>1.04</td>\n",
       "      <td>5.67</td>\n",
       "      <td>3.39</td>\n",
       "      <td>59.77</td>\n",
       "      <td>2.28</td>\n",
       "      <td>40.23</td>\n",
       "      <td>0.98</td>\n",
       "      <td>5.67</td>\n",
       "      <td>69.57</td>\n",
       "      <td>1</td>\n",
       "      <td>0</td>\n",
       "      <td>7.76</td>\n",
       "      <td>2.29</td>\n",
       "      <td>2.02</td>\n",
       "      <td>19.39</td>\n",
       "      <td>0</td>\n",
       "      <td>4.95</td>\n",
       "      <td>54</td>\n",
       "      <td>100</td>\n",
       "      <td>99</td>\n",
       "      <td>68</td>\n",
       "      <td>43</td>\n",
       "      <td>44</td>\n",
       "      <td>30</td>\n",
       "      <td>35</td>\n",
       "      <td>41</td>\n",
       "      <td>47</td>\n",
       "      <td>36</td>\n",
       "      <td>32</td>\n",
       "      <td>90</td>\n",
       "      <td>93</td>\n",
       "      <td>41</td>\n",
       "      <td>11.640</td>\n",
       "      <td>2.600000</td>\n",
       "    </tr>\n",
       "    <tr>\n",
       "      <th>473</th>\n",
       "      <td>2000155561</td>\n",
       "      <td>Aidomo Emakhu</td>\n",
       "      <td>M (R), AM (RL), ST (C)</td>\n",
       "      <td>20</td>\n",
       "      <td>177 cm</td>\n",
       "      <td>68 kg</td>\n",
       "      <td>-</td>\n",
       "      <td>Millwall</td>\n",
       "      <td>Sky Bet Championship</td>\n",
       "      <td>IRL (NGA)</td>\n",
       "      <td>-</td>\n",
       "      <td>-</td>\n",
       "      <td>Scouting Required</td>\n",
       "      <td>$14,750 p/w</td>\n",
       "      <td>$3.9M - $8M</td>\n",
       "      <td>-</td>\n",
       "      <td>Right</td>\n",
       "      <td>8</td>\n",
       "      <td>862</td>\n",
       "      <td>7.02</td>\n",
       "      <td>10</td>\n",
       "      <td>47.89</td>\n",
       "      <td>473</td>\n",
       "      <td>0.73</td>\n",
       "      <td>123.14</td>\n",
       "      <td>0.24</td>\n",
       "      <td>0.14</td>\n",
       "      <td>0.49</td>\n",
       "      <td>0.73</td>\n",
       "      <td>0.41</td>\n",
       "      <td>123.14</td>\n",
       "      <td>0.24</td>\n",
       "      <td>0.49</td>\n",
       "      <td>0.14</td>\n",
       "      <td>0.49</td>\n",
       "      <td>0.21</td>\n",
       "      <td>0.10</td>\n",
       "      <td>862.00</td>\n",
       "      <td>0.15</td>\n",
       "      <td>-0.41</td>\n",
       "      <td>-0.04</td>\n",
       "      <td>0.00</td>\n",
       "      <td>0.84</td>\n",
       "      <td>0.39</td>\n",
       "      <td>0.45</td>\n",
       "      <td>0.84</td>\n",
       "      <td>0.39</td>\n",
       "      <td>0.45</td>\n",
       "      <td>41</td>\n",
       "      <td>1.77</td>\n",
       "      <td>1.25</td>\n",
       "      <td>71</td>\n",
       "      <td>0.73</td>\n",
       "      <td>31.64</td>\n",
       "      <td>26.00</td>\n",
       "      <td>82</td>\n",
       "      <td>2.09</td>\n",
       "      <td>6.60</td>\n",
       "      <td>0.94</td>\n",
       "      <td>2.97</td>\n",
       "      <td>0.94</td>\n",
       "      <td>2.97</td>\n",
       "      <td>0.47</td>\n",
       "      <td>0.42</td>\n",
       "      <td>9.81</td>\n",
       "      <td>2.40</td>\n",
       "      <td>24.47</td>\n",
       "      <td>5.32</td>\n",
       "      <td>11.59</td>\n",
       "      <td>-6.27</td>\n",
       "      <td>-54.10</td>\n",
       "      <td>2.40</td>\n",
       "      <td>10.44</td>\n",
       "      <td>3.86</td>\n",
       "      <td>37.00</td>\n",
       "      <td>6.58</td>\n",
       "      <td>63.00</td>\n",
       "      <td>0.00</td>\n",
       "      <td>10.44</td>\n",
       "      <td>43.33</td>\n",
       "      <td>2</td>\n",
       "      <td>0</td>\n",
       "      <td>10.34</td>\n",
       "      <td>4.68</td>\n",
       "      <td>1.77</td>\n",
       "      <td>9.25</td>\n",
       "      <td>0</td>\n",
       "      <td>7.41</td>\n",
       "      <td>44</td>\n",
       "      <td>100</td>\n",
       "      <td>42</td>\n",
       "      <td>63</td>\n",
       "      <td>73</td>\n",
       "      <td>70</td>\n",
       "      <td>81</td>\n",
       "      <td>67</td>\n",
       "      <td>88</td>\n",
       "      <td>89</td>\n",
       "      <td>88</td>\n",
       "      <td>82</td>\n",
       "      <td>56</td>\n",
       "      <td>56</td>\n",
       "      <td>51</td>\n",
       "      <td>7.140</td>\n",
       "      <td>3.041667</td>\n",
       "    </tr>\n",
       "    <tr>\n",
       "      <th>201</th>\n",
       "      <td>28116394</td>\n",
       "      <td>Ellis Simms</td>\n",
       "      <td>ST (C)</td>\n",
       "      <td>22</td>\n",
       "      <td>183 cm</td>\n",
       "      <td>81 kg</td>\n",
       "      <td>-</td>\n",
       "      <td>Coventry</td>\n",
       "      <td>Sky Bet Championship</td>\n",
       "      <td>POL (ENG)</td>\n",
       "      <td>Trained in nation (15-21)</td>\n",
       "      <td>-</td>\n",
       "      <td>Scouting Required</td>\n",
       "      <td>$18,750 p/w</td>\n",
       "      <td>$6.4M - $10M</td>\n",
       "      <td>-</td>\n",
       "      <td>Right</td>\n",
       "      <td>10</td>\n",
       "      <td>1016</td>\n",
       "      <td>6.89</td>\n",
       "      <td>12</td>\n",
       "      <td>46.18</td>\n",
       "      <td>201</td>\n",
       "      <td>0.53</td>\n",
       "      <td>169.33</td>\n",
       "      <td>0.47</td>\n",
       "      <td>0.16</td>\n",
       "      <td>0.06</td>\n",
       "      <td>0.44</td>\n",
       "      <td>0.15</td>\n",
       "      <td>203.20</td>\n",
       "      <td>0.40</td>\n",
       "      <td>0.04</td>\n",
       "      <td>0.14</td>\n",
       "      <td>0.04</td>\n",
       "      <td>0.00</td>\n",
       "      <td>0.00</td>\n",
       "      <td>0.00</td>\n",
       "      <td>0.09</td>\n",
       "      <td>-1.07</td>\n",
       "      <td>-0.09</td>\n",
       "      <td>0.00</td>\n",
       "      <td>0.53</td>\n",
       "      <td>0.57</td>\n",
       "      <td>-0.03</td>\n",
       "      <td>0.44</td>\n",
       "      <td>0.50</td>\n",
       "      <td>-0.05</td>\n",
       "      <td>18</td>\n",
       "      <td>2.92</td>\n",
       "      <td>1.33</td>\n",
       "      <td>45</td>\n",
       "      <td>0.80</td>\n",
       "      <td>29.41</td>\n",
       "      <td>23.12</td>\n",
       "      <td>79</td>\n",
       "      <td>1.06</td>\n",
       "      <td>3.61</td>\n",
       "      <td>0.89</td>\n",
       "      <td>3.01</td>\n",
       "      <td>0.89</td>\n",
       "      <td>3.01</td>\n",
       "      <td>1.21</td>\n",
       "      <td>0.35</td>\n",
       "      <td>10.01</td>\n",
       "      <td>2.48</td>\n",
       "      <td>24.78</td>\n",
       "      <td>5.40</td>\n",
       "      <td>8.86</td>\n",
       "      <td>-3.46</td>\n",
       "      <td>-39.05</td>\n",
       "      <td>0.89</td>\n",
       "      <td>12.84</td>\n",
       "      <td>6.91</td>\n",
       "      <td>53.79</td>\n",
       "      <td>5.94</td>\n",
       "      <td>46.21</td>\n",
       "      <td>0.09</td>\n",
       "      <td>12.84</td>\n",
       "      <td>57.31</td>\n",
       "      <td>0</td>\n",
       "      <td>0</td>\n",
       "      <td>7.44</td>\n",
       "      <td>2.91</td>\n",
       "      <td>1.33</td>\n",
       "      <td>13.07</td>\n",
       "      <td>0</td>\n",
       "      <td>5.76</td>\n",
       "      <td>23</td>\n",
       "      <td>100</td>\n",
       "      <td>70</td>\n",
       "      <td>21</td>\n",
       "      <td>32</td>\n",
       "      <td>49</td>\n",
       "      <td>42</td>\n",
       "      <td>19</td>\n",
       "      <td>39</td>\n",
       "      <td>46</td>\n",
       "      <td>56</td>\n",
       "      <td>77</td>\n",
       "      <td>86</td>\n",
       "      <td>92</td>\n",
       "      <td>16</td>\n",
       "      <td>9.840</td>\n",
       "      <td>1.100000</td>\n",
       "    </tr>\n",
       "    <tr>\n",
       "      <th>198</th>\n",
       "      <td>28108499</td>\n",
       "      <td>Tyrese Campbell</td>\n",
       "      <td>AM (R), ST (C)</td>\n",
       "      <td>23</td>\n",
       "      <td>183 cm</td>\n",
       "      <td>79 kg</td>\n",
       "      <td>-</td>\n",
       "      <td>Stoke</td>\n",
       "      <td>Sky Bet Championship</td>\n",
       "      <td>ENG</td>\n",
       "      <td>Trained in nation (15-21)</td>\n",
       "      <td>-</td>\n",
       "      <td>Scouting Required</td>\n",
       "      <td>$24,500 p/w</td>\n",
       "      <td>$6.6M - $8.6M</td>\n",
       "      <td>-</td>\n",
       "      <td>Left</td>\n",
       "      <td>21</td>\n",
       "      <td>1722</td>\n",
       "      <td>6.98</td>\n",
       "      <td>4</td>\n",
       "      <td>68.88</td>\n",
       "      <td>198</td>\n",
       "      <td>0.52</td>\n",
       "      <td>172.20</td>\n",
       "      <td>0.44</td>\n",
       "      <td>0.16</td>\n",
       "      <td>0.08</td>\n",
       "      <td>0.52</td>\n",
       "      <td>0.19</td>\n",
       "      <td>172.20</td>\n",
       "      <td>0.44</td>\n",
       "      <td>0.08</td>\n",
       "      <td>0.16</td>\n",
       "      <td>0.08</td>\n",
       "      <td>0.05</td>\n",
       "      <td>0.16</td>\n",
       "      <td>574.00</td>\n",
       "      <td>0.14</td>\n",
       "      <td>0.35</td>\n",
       "      <td>0.02</td>\n",
       "      <td>0.38</td>\n",
       "      <td>0.68</td>\n",
       "      <td>0.58</td>\n",
       "      <td>0.10</td>\n",
       "      <td>0.68</td>\n",
       "      <td>0.58</td>\n",
       "      <td>0.10</td>\n",
       "      <td>19</td>\n",
       "      <td>2.72</td>\n",
       "      <td>0.99</td>\n",
       "      <td>37</td>\n",
       "      <td>1.31</td>\n",
       "      <td>21.64</td>\n",
       "      <td>18.29</td>\n",
       "      <td>85</td>\n",
       "      <td>0.89</td>\n",
       "      <td>4.11</td>\n",
       "      <td>1.05</td>\n",
       "      <td>4.83</td>\n",
       "      <td>0.89</td>\n",
       "      <td>4.11</td>\n",
       "      <td>0.71</td>\n",
       "      <td>0.42</td>\n",
       "      <td>7.06</td>\n",
       "      <td>1.41</td>\n",
       "      <td>20.00</td>\n",
       "      <td>4.97</td>\n",
       "      <td>7.26</td>\n",
       "      <td>-2.29</td>\n",
       "      <td>-31.54</td>\n",
       "      <td>1.31</td>\n",
       "      <td>11.50</td>\n",
       "      <td>3.71</td>\n",
       "      <td>32.27</td>\n",
       "      <td>7.79</td>\n",
       "      <td>67.73</td>\n",
       "      <td>0.16</td>\n",
       "      <td>11.50</td>\n",
       "      <td>36.21</td>\n",
       "      <td>2</td>\n",
       "      <td>0</td>\n",
       "      <td>7.11</td>\n",
       "      <td>3.22</td>\n",
       "      <td>1.57</td>\n",
       "      <td>8.33</td>\n",
       "      <td>0</td>\n",
       "      <td>6.01</td>\n",
       "      <td>72</td>\n",
       "      <td>100</td>\n",
       "      <td>28</td>\n",
       "      <td>61</td>\n",
       "      <td>77</td>\n",
       "      <td>78</td>\n",
       "      <td>65</td>\n",
       "      <td>77</td>\n",
       "      <td>67</td>\n",
       "      <td>80</td>\n",
       "      <td>71</td>\n",
       "      <td>75</td>\n",
       "      <td>92</td>\n",
       "      <td>56</td>\n",
       "      <td>73</td>\n",
       "      <td>9.120</td>\n",
       "      <td>1.181818</td>\n",
       "    </tr>\n",
       "    <tr>\n",
       "      <th>261</th>\n",
       "      <td>37070319</td>\n",
       "      <td>Sydney van Hooijdonk</td>\n",
       "      <td>ST (C)</td>\n",
       "      <td>23</td>\n",
       "      <td>190 cm</td>\n",
       "      <td>80 kg</td>\n",
       "      <td>-</td>\n",
       "      <td>Norwich</td>\n",
       "      <td>Sky Bet Championship</td>\n",
       "      <td>NED</td>\n",
       "      <td>-</td>\n",
       "      <td>-</td>\n",
       "      <td>Scouting Required</td>\n",
       "      <td>$10,500 p/w</td>\n",
       "      <td>$130K - $1.3M</td>\n",
       "      <td>-</td>\n",
       "      <td>Right</td>\n",
       "      <td>20</td>\n",
       "      <td>1712</td>\n",
       "      <td>7.23</td>\n",
       "      <td>2</td>\n",
       "      <td>77.82</td>\n",
       "      <td>261</td>\n",
       "      <td>0.63</td>\n",
       "      <td>142.67</td>\n",
       "      <td>0.54</td>\n",
       "      <td>0.16</td>\n",
       "      <td>0.09</td>\n",
       "      <td>0.58</td>\n",
       "      <td>0.17</td>\n",
       "      <td>155.64</td>\n",
       "      <td>0.50</td>\n",
       "      <td>0.08</td>\n",
       "      <td>0.15</td>\n",
       "      <td>0.08</td>\n",
       "      <td>0.05</td>\n",
       "      <td>0.16</td>\n",
       "      <td>570.67</td>\n",
       "      <td>0.19</td>\n",
       "      <td>-0.53</td>\n",
       "      <td>-0.03</td>\n",
       "      <td>0.50</td>\n",
       "      <td>0.79</td>\n",
       "      <td>0.72</td>\n",
       "      <td>0.07</td>\n",
       "      <td>0.74</td>\n",
       "      <td>0.68</td>\n",
       "      <td>0.05</td>\n",
       "      <td>19</td>\n",
       "      <td>3.31</td>\n",
       "      <td>1.68</td>\n",
       "      <td>51</td>\n",
       "      <td>0.68</td>\n",
       "      <td>28.02</td>\n",
       "      <td>23.60</td>\n",
       "      <td>84</td>\n",
       "      <td>0.47</td>\n",
       "      <td>1.69</td>\n",
       "      <td>1.16</td>\n",
       "      <td>4.13</td>\n",
       "      <td>1.16</td>\n",
       "      <td>4.13</td>\n",
       "      <td>1.52</td>\n",
       "      <td>0.32</td>\n",
       "      <td>7.83</td>\n",
       "      <td>2.26</td>\n",
       "      <td>28.86</td>\n",
       "      <td>3.73</td>\n",
       "      <td>8.78</td>\n",
       "      <td>-5.05</td>\n",
       "      <td>-57.52</td>\n",
       "      <td>0.68</td>\n",
       "      <td>13.46</td>\n",
       "      <td>5.41</td>\n",
       "      <td>40.23</td>\n",
       "      <td>8.04</td>\n",
       "      <td>59.77</td>\n",
       "      <td>0.11</td>\n",
       "      <td>13.46</td>\n",
       "      <td>46.02</td>\n",
       "      <td>6</td>\n",
       "      <td>1</td>\n",
       "      <td>7.41</td>\n",
       "      <td>3.53</td>\n",
       "      <td>1.95</td>\n",
       "      <td>10.24</td>\n",
       "      <td>0</td>\n",
       "      <td>6.31</td>\n",
       "      <td>72</td>\n",
       "      <td>100</td>\n",
       "      <td>49</td>\n",
       "      <td>50</td>\n",
       "      <td>74</td>\n",
       "      <td>89</td>\n",
       "      <td>88</td>\n",
       "      <td>68</td>\n",
       "      <td>77</td>\n",
       "      <td>76</td>\n",
       "      <td>92</td>\n",
       "      <td>92</td>\n",
       "      <td>90</td>\n",
       "      <td>55</td>\n",
       "      <td>77</td>\n",
       "      <td>0.858</td>\n",
       "      <td>1.160000</td>\n",
       "    </tr>\n",
       "    <tr>\n",
       "      <th>274</th>\n",
       "      <td>43252470</td>\n",
       "      <td>Emmanuel Latte Lath</td>\n",
       "      <td>AM (RL), ST (C)</td>\n",
       "      <td>24</td>\n",
       "      <td>177 cm</td>\n",
       "      <td>62 kg</td>\n",
       "      <td>ESC</td>\n",
       "      <td>Middlesbrough</td>\n",
       "      <td>Sky Bet Championship</td>\n",
       "      <td>CIV (ITA)</td>\n",
       "      <td>-</td>\n",
       "      <td>-</td>\n",
       "      <td>Scouting Required</td>\n",
       "      <td>$18,750 p/w</td>\n",
       "      <td>$5.2M - $8.2M</td>\n",
       "      <td>-</td>\n",
       "      <td>Right</td>\n",
       "      <td>13</td>\n",
       "      <td>1376</td>\n",
       "      <td>6.95</td>\n",
       "      <td>13</td>\n",
       "      <td>52.92</td>\n",
       "      <td>274</td>\n",
       "      <td>0.52</td>\n",
       "      <td>172.00</td>\n",
       "      <td>0.50</td>\n",
       "      <td>0.25</td>\n",
       "      <td>0.02</td>\n",
       "      <td>0.33</td>\n",
       "      <td>0.17</td>\n",
       "      <td>275.20</td>\n",
       "      <td>0.25</td>\n",
       "      <td>0.08</td>\n",
       "      <td>0.13</td>\n",
       "      <td>0.08</td>\n",
       "      <td>0.00</td>\n",
       "      <td>0.20</td>\n",
       "      <td>458.67</td>\n",
       "      <td>0.13</td>\n",
       "      <td>1.06</td>\n",
       "      <td>0.07</td>\n",
       "      <td>0.43</td>\n",
       "      <td>0.72</td>\n",
       "      <td>0.63</td>\n",
       "      <td>0.09</td>\n",
       "      <td>0.52</td>\n",
       "      <td>0.38</td>\n",
       "      <td>0.15</td>\n",
       "      <td>27</td>\n",
       "      <td>1.96</td>\n",
       "      <td>1.05</td>\n",
       "      <td>53</td>\n",
       "      <td>0.65</td>\n",
       "      <td>30.68</td>\n",
       "      <td>26.62</td>\n",
       "      <td>87</td>\n",
       "      <td>3.14</td>\n",
       "      <td>10.23</td>\n",
       "      <td>1.05</td>\n",
       "      <td>3.41</td>\n",
       "      <td>1.05</td>\n",
       "      <td>3.41</td>\n",
       "      <td>0.84</td>\n",
       "      <td>0.46</td>\n",
       "      <td>10.86</td>\n",
       "      <td>2.42</td>\n",
       "      <td>22.29</td>\n",
       "      <td>4.77</td>\n",
       "      <td>12.56</td>\n",
       "      <td>-7.79</td>\n",
       "      <td>-62.02</td>\n",
       "      <td>3.92</td>\n",
       "      <td>5.43</td>\n",
       "      <td>1.70</td>\n",
       "      <td>31.33</td>\n",
       "      <td>3.73</td>\n",
       "      <td>68.67</td>\n",
       "      <td>0.07</td>\n",
       "      <td>5.43</td>\n",
       "      <td>45.38</td>\n",
       "      <td>2</td>\n",
       "      <td>0</td>\n",
       "      <td>12.17</td>\n",
       "      <td>5.59</td>\n",
       "      <td>2.22</td>\n",
       "      <td>9.94</td>\n",
       "      <td>0</td>\n",
       "      <td>12.89</td>\n",
       "      <td>95</td>\n",
       "      <td>100</td>\n",
       "      <td>95</td>\n",
       "      <td>83</td>\n",
       "      <td>91</td>\n",
       "      <td>92</td>\n",
       "      <td>93</td>\n",
       "      <td>97</td>\n",
       "      <td>93</td>\n",
       "      <td>94</td>\n",
       "      <td>89</td>\n",
       "      <td>61</td>\n",
       "      <td>45</td>\n",
       "      <td>64</td>\n",
       "      <td>79</td>\n",
       "      <td>8.040</td>\n",
       "      <td>1.320000</td>\n",
       "    </tr>\n",
       "    <tr>\n",
       "      <th>175</th>\n",
       "      <td>27132909</td>\n",
       "      <td>Mileta Rajović</td>\n",
       "      <td>ST (C)</td>\n",
       "      <td>24</td>\n",
       "      <td>189 cm</td>\n",
       "      <td>80 kg</td>\n",
       "      <td>ESC</td>\n",
       "      <td>Watford</td>\n",
       "      <td>Sky Bet Championship</td>\n",
       "      <td>MNE (SRB)</td>\n",
       "      <td>-</td>\n",
       "      <td>-</td>\n",
       "      <td>Scouting Required</td>\n",
       "      <td>$18,750 p/w</td>\n",
       "      <td>$3.7M - $7.6M</td>\n",
       "      <td>-</td>\n",
       "      <td>Right</td>\n",
       "      <td>7</td>\n",
       "      <td>927</td>\n",
       "      <td>7.06</td>\n",
       "      <td>15</td>\n",
       "      <td>42.14</td>\n",
       "      <td>175</td>\n",
       "      <td>1.07</td>\n",
       "      <td>84.27</td>\n",
       "      <td>0.57</td>\n",
       "      <td>0.22</td>\n",
       "      <td>0.50</td>\n",
       "      <td>1.07</td>\n",
       "      <td>0.41</td>\n",
       "      <td>84.27</td>\n",
       "      <td>0.57</td>\n",
       "      <td>0.50</td>\n",
       "      <td>0.22</td>\n",
       "      <td>0.50</td>\n",
       "      <td>0.00</td>\n",
       "      <td>0.00</td>\n",
       "      <td>0.00</td>\n",
       "      <td>0.09</td>\n",
       "      <td>-0.94</td>\n",
       "      <td>-0.09</td>\n",
       "      <td>0.00</td>\n",
       "      <td>1.07</td>\n",
       "      <td>0.66</td>\n",
       "      <td>0.41</td>\n",
       "      <td>1.07</td>\n",
       "      <td>0.66</td>\n",
       "      <td>0.41</td>\n",
       "      <td>41</td>\n",
       "      <td>2.62</td>\n",
       "      <td>1.65</td>\n",
       "      <td>63</td>\n",
       "      <td>0.68</td>\n",
       "      <td>23.50</td>\n",
       "      <td>20.58</td>\n",
       "      <td>88</td>\n",
       "      <td>0.78</td>\n",
       "      <td>3.31</td>\n",
       "      <td>0.58</td>\n",
       "      <td>2.48</td>\n",
       "      <td>0.58</td>\n",
       "      <td>2.48</td>\n",
       "      <td>0.23</td>\n",
       "      <td>0.19</td>\n",
       "      <td>7.57</td>\n",
       "      <td>1.75</td>\n",
       "      <td>23.08</td>\n",
       "      <td>4.08</td>\n",
       "      <td>8.16</td>\n",
       "      <td>-4.08</td>\n",
       "      <td>-50.00</td>\n",
       "      <td>1.26</td>\n",
       "      <td>11.36</td>\n",
       "      <td>5.24</td>\n",
       "      <td>46.15</td>\n",
       "      <td>6.12</td>\n",
       "      <td>53.85</td>\n",
       "      <td>0.00</td>\n",
       "      <td>11.36</td>\n",
       "      <td>49.64</td>\n",
       "      <td>1</td>\n",
       "      <td>1</td>\n",
       "      <td>7.28</td>\n",
       "      <td>3.92</td>\n",
       "      <td>0.78</td>\n",
       "      <td>8.37</td>\n",
       "      <td>0</td>\n",
       "      <td>5.34</td>\n",
       "      <td>47</td>\n",
       "      <td>100</td>\n",
       "      <td>24</td>\n",
       "      <td>18</td>\n",
       "      <td>28</td>\n",
       "      <td>74</td>\n",
       "      <td>89</td>\n",
       "      <td>55</td>\n",
       "      <td>59</td>\n",
       "      <td>61</td>\n",
       "      <td>74</td>\n",
       "      <td>99</td>\n",
       "      <td>62</td>\n",
       "      <td>35</td>\n",
       "      <td>16</td>\n",
       "      <td>6.780</td>\n",
       "      <td>1.877193</td>\n",
       "    </tr>\n",
       "    <tr>\n",
       "      <th>156</th>\n",
       "      <td>20034959</td>\n",
       "      <td>Haji Wright</td>\n",
       "      <td>AM (RL), ST (C)</td>\n",
       "      <td>25</td>\n",
       "      <td>193 cm</td>\n",
       "      <td>80 kg</td>\n",
       "      <td>Rst</td>\n",
       "      <td>Coventry</td>\n",
       "      <td>Sky Bet Championship</td>\n",
       "      <td>USA (LBR)</td>\n",
       "      <td>-</td>\n",
       "      <td>-</td>\n",
       "      <td>Scouting Required</td>\n",
       "      <td>$25,000 p/w</td>\n",
       "      <td>$8M - $10.5M</td>\n",
       "      <td>-</td>\n",
       "      <td>Right</td>\n",
       "      <td>26</td>\n",
       "      <td>2163</td>\n",
       "      <td>6.92</td>\n",
       "      <td>0</td>\n",
       "      <td>83.19</td>\n",
       "      <td>156</td>\n",
       "      <td>0.46</td>\n",
       "      <td>196.64</td>\n",
       "      <td>0.39</td>\n",
       "      <td>0.17</td>\n",
       "      <td>0.06</td>\n",
       "      <td>0.46</td>\n",
       "      <td>0.19</td>\n",
       "      <td>196.64</td>\n",
       "      <td>0.36</td>\n",
       "      <td>0.10</td>\n",
       "      <td>0.15</td>\n",
       "      <td>0.10</td>\n",
       "      <td>0.00</td>\n",
       "      <td>0.12</td>\n",
       "      <td>721.00</td>\n",
       "      <td>0.07</td>\n",
       "      <td>1.42</td>\n",
       "      <td>0.06</td>\n",
       "      <td>0.50</td>\n",
       "      <td>0.58</td>\n",
       "      <td>0.46</td>\n",
       "      <td>0.12</td>\n",
       "      <td>0.58</td>\n",
       "      <td>0.43</td>\n",
       "      <td>0.15</td>\n",
       "      <td>19</td>\n",
       "      <td>2.37</td>\n",
       "      <td>1.29</td>\n",
       "      <td>54</td>\n",
       "      <td>0.42</td>\n",
       "      <td>27.09</td>\n",
       "      <td>22.05</td>\n",
       "      <td>81</td>\n",
       "      <td>0.83</td>\n",
       "      <td>3.07</td>\n",
       "      <td>0.67</td>\n",
       "      <td>2.46</td>\n",
       "      <td>0.67</td>\n",
       "      <td>2.46</td>\n",
       "      <td>0.73</td>\n",
       "      <td>0.25</td>\n",
       "      <td>9.78</td>\n",
       "      <td>2.50</td>\n",
       "      <td>25.53</td>\n",
       "      <td>5.20</td>\n",
       "      <td>9.61</td>\n",
       "      <td>-4.41</td>\n",
       "      <td>-45.89</td>\n",
       "      <td>0.71</td>\n",
       "      <td>13.07</td>\n",
       "      <td>5.78</td>\n",
       "      <td>44.27</td>\n",
       "      <td>7.28</td>\n",
       "      <td>55.73</td>\n",
       "      <td>0.12</td>\n",
       "      <td>13.07</td>\n",
       "      <td>49.19</td>\n",
       "      <td>1</td>\n",
       "      <td>0</td>\n",
       "      <td>7.66</td>\n",
       "      <td>2.82</td>\n",
       "      <td>1.21</td>\n",
       "      <td>11.73</td>\n",
       "      <td>0</td>\n",
       "      <td>5.03</td>\n",
       "      <td>63</td>\n",
       "      <td>100</td>\n",
       "      <td>59</td>\n",
       "      <td>14</td>\n",
       "      <td>56</td>\n",
       "      <td>45</td>\n",
       "      <td>54</td>\n",
       "      <td>30</td>\n",
       "      <td>42</td>\n",
       "      <td>37</td>\n",
       "      <td>62</td>\n",
       "      <td>80</td>\n",
       "      <td>91</td>\n",
       "      <td>70</td>\n",
       "      <td>66</td>\n",
       "      <td>11.100</td>\n",
       "      <td>1.277778</td>\n",
       "    </tr>\n",
       "    <tr>\n",
       "      <th>254</th>\n",
       "      <td>37059387</td>\n",
       "      <td>Delano Burgzorg</td>\n",
       "      <td>AM (RL), ST (C)</td>\n",
       "      <td>25</td>\n",
       "      <td>186 cm</td>\n",
       "      <td>76 kg</td>\n",
       "      <td>-</td>\n",
       "      <td>Huddersfield</td>\n",
       "      <td>Sky Bet Championship</td>\n",
       "      <td>NED (SUR)</td>\n",
       "      <td>-</td>\n",
       "      <td>-</td>\n",
       "      <td>Scouting Required</td>\n",
       "      <td>$16,500 p/w</td>\n",
       "      <td>$55K - $550K</td>\n",
       "      <td>-</td>\n",
       "      <td>Right</td>\n",
       "      <td>24</td>\n",
       "      <td>1804</td>\n",
       "      <td>6.78</td>\n",
       "      <td>1</td>\n",
       "      <td>72.16</td>\n",
       "      <td>254</td>\n",
       "      <td>0.30</td>\n",
       "      <td>300.67</td>\n",
       "      <td>0.19</td>\n",
       "      <td>0.13</td>\n",
       "      <td>0.11</td>\n",
       "      <td>0.30</td>\n",
       "      <td>0.19</td>\n",
       "      <td>300.67</td>\n",
       "      <td>0.19</td>\n",
       "      <td>0.11</td>\n",
       "      <td>0.13</td>\n",
       "      <td>0.11</td>\n",
       "      <td>0.10</td>\n",
       "      <td>0.15</td>\n",
       "      <td>601.33</td>\n",
       "      <td>0.10</td>\n",
       "      <td>0.97</td>\n",
       "      <td>0.05</td>\n",
       "      <td>0.00</td>\n",
       "      <td>0.45</td>\n",
       "      <td>0.29</td>\n",
       "      <td>0.15</td>\n",
       "      <td>0.45</td>\n",
       "      <td>0.29</td>\n",
       "      <td>0.15</td>\n",
       "      <td>19</td>\n",
       "      <td>1.55</td>\n",
       "      <td>0.95</td>\n",
       "      <td>61</td>\n",
       "      <td>0.65</td>\n",
       "      <td>27.74</td>\n",
       "      <td>22.05</td>\n",
       "      <td>79</td>\n",
       "      <td>1.95</td>\n",
       "      <td>7.01</td>\n",
       "      <td>0.80</td>\n",
       "      <td>2.88</td>\n",
       "      <td>0.80</td>\n",
       "      <td>2.88</td>\n",
       "      <td>0.20</td>\n",
       "      <td>0.20</td>\n",
       "      <td>12.32</td>\n",
       "      <td>3.09</td>\n",
       "      <td>25.10</td>\n",
       "      <td>8.23</td>\n",
       "      <td>12.42</td>\n",
       "      <td>-4.19</td>\n",
       "      <td>-33.74</td>\n",
       "      <td>2.69</td>\n",
       "      <td>8.03</td>\n",
       "      <td>3.64</td>\n",
       "      <td>45.34</td>\n",
       "      <td>4.39</td>\n",
       "      <td>54.66</td>\n",
       "      <td>0.15</td>\n",
       "      <td>8.03</td>\n",
       "      <td>55.08</td>\n",
       "      <td>0</td>\n",
       "      <td>0</td>\n",
       "      <td>14.67</td>\n",
       "      <td>3.87</td>\n",
       "      <td>1.30</td>\n",
       "      <td>14.32</td>\n",
       "      <td>0</td>\n",
       "      <td>6.88</td>\n",
       "      <td>58</td>\n",
       "      <td>100</td>\n",
       "      <td>92</td>\n",
       "      <td>57</td>\n",
       "      <td>59</td>\n",
       "      <td>33</td>\n",
       "      <td>47</td>\n",
       "      <td>43</td>\n",
       "      <td>67</td>\n",
       "      <td>58</td>\n",
       "      <td>58</td>\n",
       "      <td>50</td>\n",
       "      <td>84</td>\n",
       "      <td>99</td>\n",
       "      <td>56</td>\n",
       "      <td>0.363</td>\n",
       "      <td>1.578947</td>\n",
       "    </tr>\n",
       "    <tr>\n",
       "      <th>194</th>\n",
       "      <td>28106417</td>\n",
       "      <td>Josh Maja</td>\n",
       "      <td>ST (C)</td>\n",
       "      <td>25</td>\n",
       "      <td>181 cm</td>\n",
       "      <td>74 kg</td>\n",
       "      <td>-</td>\n",
       "      <td>West Brom</td>\n",
       "      <td>Sky Bet Championship</td>\n",
       "      <td>NGA (ENG)</td>\n",
       "      <td>Trained in nation (15-21)</td>\n",
       "      <td>-</td>\n",
       "      <td>Scouting Required</td>\n",
       "      <td>$21,000 p/w</td>\n",
       "      <td>$9.4M - $11.5M</td>\n",
       "      <td>-</td>\n",
       "      <td>Right</td>\n",
       "      <td>24</td>\n",
       "      <td>2087</td>\n",
       "      <td>6.96</td>\n",
       "      <td>1</td>\n",
       "      <td>83.48</td>\n",
       "      <td>194</td>\n",
       "      <td>0.30</td>\n",
       "      <td>298.14</td>\n",
       "      <td>0.25</td>\n",
       "      <td>0.15</td>\n",
       "      <td>0.05</td>\n",
       "      <td>0.30</td>\n",
       "      <td>0.18</td>\n",
       "      <td>298.14</td>\n",
       "      <td>0.25</td>\n",
       "      <td>0.05</td>\n",
       "      <td>0.15</td>\n",
       "      <td>0.05</td>\n",
       "      <td>0.04</td>\n",
       "      <td>0.17</td>\n",
       "      <td>521.75</td>\n",
       "      <td>0.13</td>\n",
       "      <td>1.08</td>\n",
       "      <td>0.05</td>\n",
       "      <td>0.40</td>\n",
       "      <td>0.47</td>\n",
       "      <td>0.37</td>\n",
       "      <td>0.10</td>\n",
       "      <td>0.47</td>\n",
       "      <td>0.37</td>\n",
       "      <td>0.10</td>\n",
       "      <td>18</td>\n",
       "      <td>1.64</td>\n",
       "      <td>0.86</td>\n",
       "      <td>53</td>\n",
       "      <td>0.17</td>\n",
       "      <td>32.30</td>\n",
       "      <td>27.21</td>\n",
       "      <td>84</td>\n",
       "      <td>1.16</td>\n",
       "      <td>3.60</td>\n",
       "      <td>0.99</td>\n",
       "      <td>3.07</td>\n",
       "      <td>0.99</td>\n",
       "      <td>3.07</td>\n",
       "      <td>0.45</td>\n",
       "      <td>0.43</td>\n",
       "      <td>6.43</td>\n",
       "      <td>1.72</td>\n",
       "      <td>26.85</td>\n",
       "      <td>5.05</td>\n",
       "      <td>9.36</td>\n",
       "      <td>-4.31</td>\n",
       "      <td>-46.05</td>\n",
       "      <td>0.82</td>\n",
       "      <td>10.91</td>\n",
       "      <td>4.92</td>\n",
       "      <td>45.06</td>\n",
       "      <td>5.99</td>\n",
       "      <td>54.94</td>\n",
       "      <td>0.17</td>\n",
       "      <td>10.91</td>\n",
       "      <td>47.75</td>\n",
       "      <td>2</td>\n",
       "      <td>1</td>\n",
       "      <td>7.42</td>\n",
       "      <td>2.53</td>\n",
       "      <td>1.72</td>\n",
       "      <td>9.96</td>\n",
       "      <td>0</td>\n",
       "      <td>4.57</td>\n",
       "      <td>60</td>\n",
       "      <td>100</td>\n",
       "      <td>18</td>\n",
       "      <td>60</td>\n",
       "      <td>61</td>\n",
       "      <td>53</td>\n",
       "      <td>53</td>\n",
       "      <td>39</td>\n",
       "      <td>56</td>\n",
       "      <td>49</td>\n",
       "      <td>62</td>\n",
       "      <td>46</td>\n",
       "      <td>94</td>\n",
       "      <td>76</td>\n",
       "      <td>75</td>\n",
       "      <td>12.540</td>\n",
       "      <td>1.200000</td>\n",
       "    </tr>\n",
       "    <tr>\n",
       "      <th>193</th>\n",
       "      <td>28103592</td>\n",
       "      <td>Iké Ugbo</td>\n",
       "      <td>AM (RL), ST (C)</td>\n",
       "      <td>25</td>\n",
       "      <td>186 cm</td>\n",
       "      <td>73 kg</td>\n",
       "      <td>Inj</td>\n",
       "      <td>Sheffield Wednesday</td>\n",
       "      <td>Sky Bet Championship</td>\n",
       "      <td>CAN (ENG)</td>\n",
       "      <td>Trained in nation (15-21)</td>\n",
       "      <td>-</td>\n",
       "      <td>Scouting Required</td>\n",
       "      <td>$8,250 p/w</td>\n",
       "      <td>$550K - $5.6M</td>\n",
       "      <td>-</td>\n",
       "      <td>Right</td>\n",
       "      <td>12</td>\n",
       "      <td>1136</td>\n",
       "      <td>7.00</td>\n",
       "      <td>4</td>\n",
       "      <td>71.00</td>\n",
       "      <td>193</td>\n",
       "      <td>0.55</td>\n",
       "      <td>162.29</td>\n",
       "      <td>0.43</td>\n",
       "      <td>0.24</td>\n",
       "      <td>0.12</td>\n",
       "      <td>0.55</td>\n",
       "      <td>0.30</td>\n",
       "      <td>162.29</td>\n",
       "      <td>0.43</td>\n",
       "      <td>0.12</td>\n",
       "      <td>0.24</td>\n",
       "      <td>0.12</td>\n",
       "      <td>0.08</td>\n",
       "      <td>0.16</td>\n",
       "      <td>568.00</td>\n",
       "      <td>0.06</td>\n",
       "      <td>1.27</td>\n",
       "      <td>0.10</td>\n",
       "      <td>0.00</td>\n",
       "      <td>0.71</td>\n",
       "      <td>0.49</td>\n",
       "      <td>0.22</td>\n",
       "      <td>0.71</td>\n",
       "      <td>0.49</td>\n",
       "      <td>0.22</td>\n",
       "      <td>30</td>\n",
       "      <td>1.82</td>\n",
       "      <td>1.03</td>\n",
       "      <td>57</td>\n",
       "      <td>0.32</td>\n",
       "      <td>21.31</td>\n",
       "      <td>18.46</td>\n",
       "      <td>87</td>\n",
       "      <td>0.87</td>\n",
       "      <td>4.09</td>\n",
       "      <td>0.87</td>\n",
       "      <td>4.09</td>\n",
       "      <td>0.79</td>\n",
       "      <td>3.72</td>\n",
       "      <td>0.26</td>\n",
       "      <td>0.24</td>\n",
       "      <td>6.10</td>\n",
       "      <td>1.98</td>\n",
       "      <td>32.47</td>\n",
       "      <td>3.72</td>\n",
       "      <td>5.07</td>\n",
       "      <td>-1.35</td>\n",
       "      <td>-26.63</td>\n",
       "      <td>2.06</td>\n",
       "      <td>4.60</td>\n",
       "      <td>1.03</td>\n",
       "      <td>22.41</td>\n",
       "      <td>3.57</td>\n",
       "      <td>77.59</td>\n",
       "      <td>0.00</td>\n",
       "      <td>4.60</td>\n",
       "      <td>30.26</td>\n",
       "      <td>2</td>\n",
       "      <td>0</td>\n",
       "      <td>6.73</td>\n",
       "      <td>3.76</td>\n",
       "      <td>1.35</td>\n",
       "      <td>4.39</td>\n",
       "      <td>0</td>\n",
       "      <td>5.78</td>\n",
       "      <td>80</td>\n",
       "      <td>100</td>\n",
       "      <td>0</td>\n",
       "      <td>50</td>\n",
       "      <td>88</td>\n",
       "      <td>73</td>\n",
       "      <td>81</td>\n",
       "      <td>73</td>\n",
       "      <td>77</td>\n",
       "      <td>80</td>\n",
       "      <td>74</td>\n",
       "      <td>85</td>\n",
       "      <td>10</td>\n",
       "      <td>6</td>\n",
       "      <td>54</td>\n",
       "      <td>3.690</td>\n",
       "      <td>1.279070</td>\n",
       "    </tr>\n",
       "    <tr>\n",
       "      <th>190</th>\n",
       "      <td>28091349</td>\n",
       "      <td>Adam Armstrong</td>\n",
       "      <td>AM (R), ST (C)</td>\n",
       "      <td>26</td>\n",
       "      <td>172 cm</td>\n",
       "      <td>69 kg</td>\n",
       "      <td>Wnt</td>\n",
       "      <td>Southampton</td>\n",
       "      <td>Sky Bet Championship</td>\n",
       "      <td>ENG</td>\n",
       "      <td>Trained in nation (15-21)</td>\n",
       "      <td>-</td>\n",
       "      <td>Scouting Required</td>\n",
       "      <td>$37,500 p/w</td>\n",
       "      <td>$17M - $21M</td>\n",
       "      <td>-</td>\n",
       "      <td>Right</td>\n",
       "      <td>15</td>\n",
       "      <td>1443</td>\n",
       "      <td>7.09</td>\n",
       "      <td>6</td>\n",
       "      <td>68.71</td>\n",
       "      <td>190</td>\n",
       "      <td>0.62</td>\n",
       "      <td>144.30</td>\n",
       "      <td>0.42</td>\n",
       "      <td>0.16</td>\n",
       "      <td>0.20</td>\n",
       "      <td>0.50</td>\n",
       "      <td>0.20</td>\n",
       "      <td>180.38</td>\n",
       "      <td>0.32</td>\n",
       "      <td>0.18</td>\n",
       "      <td>0.13</td>\n",
       "      <td>0.17</td>\n",
       "      <td>0.06</td>\n",
       "      <td>0.19</td>\n",
       "      <td>481.00</td>\n",
       "      <td>0.18</td>\n",
       "      <td>0.10</td>\n",
       "      <td>0.01</td>\n",
       "      <td>0.38</td>\n",
       "      <td>0.81</td>\n",
       "      <td>0.60</td>\n",
       "      <td>0.21</td>\n",
       "      <td>0.69</td>\n",
       "      <td>0.51</td>\n",
       "      <td>0.18</td>\n",
       "      <td>24</td>\n",
       "      <td>2.56</td>\n",
       "      <td>1.37</td>\n",
       "      <td>54</td>\n",
       "      <td>1.12</td>\n",
       "      <td>34.93</td>\n",
       "      <td>30.31</td>\n",
       "      <td>87</td>\n",
       "      <td>1.62</td>\n",
       "      <td>4.64</td>\n",
       "      <td>0.94</td>\n",
       "      <td>2.68</td>\n",
       "      <td>0.87</td>\n",
       "      <td>2.50</td>\n",
       "      <td>0.53</td>\n",
       "      <td>0.50</td>\n",
       "      <td>13.47</td>\n",
       "      <td>3.56</td>\n",
       "      <td>26.39</td>\n",
       "      <td>6.49</td>\n",
       "      <td>15.34</td>\n",
       "      <td>-8.85</td>\n",
       "      <td>-57.69</td>\n",
       "      <td>2.99</td>\n",
       "      <td>3.74</td>\n",
       "      <td>1.06</td>\n",
       "      <td>28.33</td>\n",
       "      <td>2.68</td>\n",
       "      <td>71.67</td>\n",
       "      <td>0.00</td>\n",
       "      <td>3.74</td>\n",
       "      <td>53.85</td>\n",
       "      <td>4</td>\n",
       "      <td>0</td>\n",
       "      <td>10.91</td>\n",
       "      <td>5.30</td>\n",
       "      <td>2.00</td>\n",
       "      <td>9.58</td>\n",
       "      <td>0</td>\n",
       "      <td>9.48</td>\n",
       "      <td>95</td>\n",
       "      <td>100</td>\n",
       "      <td>77</td>\n",
       "      <td>88</td>\n",
       "      <td>91</td>\n",
       "      <td>95</td>\n",
       "      <td>97</td>\n",
       "      <td>97</td>\n",
       "      <td>93</td>\n",
       "      <td>93</td>\n",
       "      <td>93</td>\n",
       "      <td>88</td>\n",
       "      <td>8</td>\n",
       "      <td>62</td>\n",
       "      <td>79</td>\n",
       "      <td>22.800</td>\n",
       "      <td>1.562500</td>\n",
       "    </tr>\n",
       "    <tr>\n",
       "      <th>219</th>\n",
       "      <td>29116657</td>\n",
       "      <td>Conor Chaplin</td>\n",
       "      <td>AM (RLC), ST (C)</td>\n",
       "      <td>26</td>\n",
       "      <td>168 cm</td>\n",
       "      <td>69 kg</td>\n",
       "      <td>-</td>\n",
       "      <td>Ipswich</td>\n",
       "      <td>Sky Bet Championship</td>\n",
       "      <td>ENG</td>\n",
       "      <td>Trained in nation (15-21)</td>\n",
       "      <td>-</td>\n",
       "      <td>Scouting Required</td>\n",
       "      <td>$18,750 p/w</td>\n",
       "      <td>$10.5M - $13M</td>\n",
       "      <td>-</td>\n",
       "      <td>Left</td>\n",
       "      <td>22</td>\n",
       "      <td>1854</td>\n",
       "      <td>6.91</td>\n",
       "      <td>0</td>\n",
       "      <td>84.27</td>\n",
       "      <td>219</td>\n",
       "      <td>0.19</td>\n",
       "      <td>463.50</td>\n",
       "      <td>0.13</td>\n",
       "      <td>0.12</td>\n",
       "      <td>0.06</td>\n",
       "      <td>0.19</td>\n",
       "      <td>0.17</td>\n",
       "      <td>463.50</td>\n",
       "      <td>0.13</td>\n",
       "      <td>0.06</td>\n",
       "      <td>0.12</td>\n",
       "      <td>0.06</td>\n",
       "      <td>0.05</td>\n",
       "      <td>0.15</td>\n",
       "      <td>618.00</td>\n",
       "      <td>0.17</td>\n",
       "      <td>-0.43</td>\n",
       "      <td>-0.02</td>\n",
       "      <td>0.43</td>\n",
       "      <td>0.34</td>\n",
       "      <td>0.30</td>\n",
       "      <td>0.04</td>\n",
       "      <td>0.34</td>\n",
       "      <td>0.30</td>\n",
       "      <td>0.04</td>\n",
       "      <td>17</td>\n",
       "      <td>1.17</td>\n",
       "      <td>0.49</td>\n",
       "      <td>42</td>\n",
       "      <td>0.83</td>\n",
       "      <td>34.85</td>\n",
       "      <td>28.93</td>\n",
       "      <td>83</td>\n",
       "      <td>2.04</td>\n",
       "      <td>5.85</td>\n",
       "      <td>1.02</td>\n",
       "      <td>2.92</td>\n",
       "      <td>0.78</td>\n",
       "      <td>2.23</td>\n",
       "      <td>1.31</td>\n",
       "      <td>0.34</td>\n",
       "      <td>10.10</td>\n",
       "      <td>2.62</td>\n",
       "      <td>25.96</td>\n",
       "      <td>4.95</td>\n",
       "      <td>10.00</td>\n",
       "      <td>-5.05</td>\n",
       "      <td>-50.50</td>\n",
       "      <td>1.55</td>\n",
       "      <td>2.77</td>\n",
       "      <td>0.39</td>\n",
       "      <td>14.04</td>\n",
       "      <td>2.38</td>\n",
       "      <td>85.96</td>\n",
       "      <td>0.00</td>\n",
       "      <td>2.77</td>\n",
       "      <td>50.00</td>\n",
       "      <td>2</td>\n",
       "      <td>0</td>\n",
       "      <td>14.61</td>\n",
       "      <td>2.49</td>\n",
       "      <td>1.36</td>\n",
       "      <td>8.76</td>\n",
       "      <td>0</td>\n",
       "      <td>4.56</td>\n",
       "      <td>47</td>\n",
       "      <td>100</td>\n",
       "      <td>86</td>\n",
       "      <td>62</td>\n",
       "      <td>41</td>\n",
       "      <td>33</td>\n",
       "      <td>23</td>\n",
       "      <td>42</td>\n",
       "      <td>47</td>\n",
       "      <td>55</td>\n",
       "      <td>34</td>\n",
       "      <td>21</td>\n",
       "      <td>1</td>\n",
       "      <td>47</td>\n",
       "      <td>74</td>\n",
       "      <td>14.100</td>\n",
       "      <td>1.461538</td>\n",
       "    </tr>\n",
       "  </tbody>\n",
       "</table>\n",
       "</div>"
      ],
      "text/plain": [
       "             id                  name                position  age  height  \\\n",
       "477  2000205927       Jobe Bellingham    DM, M/AM (C), ST (C)   18  188 cm   \n",
       "473  2000155561         Aidomo Emakhu  M (R), AM (RL), ST (C)   20  177 cm   \n",
       "201    28116394           Ellis Simms                  ST (C)   22  183 cm   \n",
       "198    28108499       Tyrese Campbell          AM (R), ST (C)   23  183 cm   \n",
       "261    37070319  Sydney van Hooijdonk                  ST (C)   23  190 cm   \n",
       "274    43252470   Emmanuel Latte Lath         AM (RL), ST (C)   24  177 cm   \n",
       "175    27132909        Mileta Rajović                  ST (C)   24  189 cm   \n",
       "156    20034959           Haji Wright         AM (RL), ST (C)   25  193 cm   \n",
       "254    37059387       Delano Burgzorg         AM (RL), ST (C)   25  186 cm   \n",
       "194    28106417             Josh Maja                  ST (C)   25  181 cm   \n",
       "193    28103592              Iké Ugbo         AM (RL), ST (C)   25  186 cm   \n",
       "190    28091349        Adam Armstrong          AM (R), ST (C)   26  172 cm   \n",
       "219    29116657         Conor Chaplin        AM (RLC), ST (C)   26  168 cm   \n",
       "\n",
       "    weight  inf                 club              division nationality  \\\n",
       "477  80 kg  Inj           Sunderland  Sky Bet Championship   ENG (IRL)   \n",
       "473  68 kg    -             Millwall  Sky Bet Championship   IRL (NGA)   \n",
       "201  81 kg    -             Coventry  Sky Bet Championship   POL (ENG)   \n",
       "198  79 kg    -                Stoke  Sky Bet Championship         ENG   \n",
       "261  80 kg    -              Norwich  Sky Bet Championship         NED   \n",
       "274  62 kg  ESC        Middlesbrough  Sky Bet Championship   CIV (ITA)   \n",
       "175  80 kg  ESC              Watford  Sky Bet Championship   MNE (SRB)   \n",
       "156  80 kg  Rst             Coventry  Sky Bet Championship   USA (LBR)   \n",
       "254  76 kg    -         Huddersfield  Sky Bet Championship   NED (SUR)   \n",
       "194  74 kg    -            West Brom  Sky Bet Championship   NGA (ENG)   \n",
       "193  73 kg  Inj  Sheffield Wednesday  Sky Bet Championship   CAN (ENG)   \n",
       "190  69 kg  Wnt          Southampton  Sky Bet Championship         ENG   \n",
       "219  69 kg    -              Ipswich  Sky Bet Championship         ENG   \n",
       "\n",
       "                    home_grown personality     media_handling         wage  \\\n",
       "477  Trained in nation (15-21)           -  Scouting Required   $9,250 p/w   \n",
       "473                          -           -  Scouting Required  $14,750 p/w   \n",
       "201  Trained in nation (15-21)           -  Scouting Required  $18,750 p/w   \n",
       "198  Trained in nation (15-21)           -  Scouting Required  $24,500 p/w   \n",
       "261                          -           -  Scouting Required  $10,500 p/w   \n",
       "274                          -           -  Scouting Required  $18,750 p/w   \n",
       "175                          -           -  Scouting Required  $18,750 p/w   \n",
       "156                          -           -  Scouting Required  $25,000 p/w   \n",
       "254                          -           -  Scouting Required  $16,500 p/w   \n",
       "194  Trained in nation (15-21)           -  Scouting Required  $21,000 p/w   \n",
       "193  Trained in nation (15-21)           -  Scouting Required   $8,250 p/w   \n",
       "190  Trained in nation (15-21)           -  Scouting Required  $37,500 p/w   \n",
       "219  Trained in nation (15-21)           -  Scouting Required  $18,750 p/w   \n",
       "\n",
       "     transfer_value asking_price preferred_foot  starts  minutes_played  \\\n",
       "477    $8.4M - $11M            -          Right      19            1381   \n",
       "473     $3.9M - $8M            -          Right       8             862   \n",
       "201    $6.4M - $10M            -          Right      10            1016   \n",
       "198   $6.6M - $8.6M            -           Left      21            1722   \n",
       "261   $130K - $1.3M            -          Right      20            1712   \n",
       "274   $5.2M - $8.2M            -          Right      13            1376   \n",
       "175   $3.7M - $7.6M            -          Right       7             927   \n",
       "156    $8M - $10.5M            -          Right      26            2163   \n",
       "254    $55K - $550K            -          Right      24            1804   \n",
       "194  $9.4M - $11.5M            -          Right      24            2087   \n",
       "193   $550K - $5.6M            -          Right      12            1136   \n",
       "190     $17M - $21M            -          Right      15            1443   \n",
       "219   $10.5M - $13M            -           Left      22            1854   \n",
       "\n",
       "     average_rating  sub_appearances  minutes/game  index  goals/90  \\\n",
       "477            7.00                1         69.05    477      0.26   \n",
       "473            7.02               10         47.89    473      0.73   \n",
       "201            6.89               12         46.18    201      0.53   \n",
       "198            6.98                4         68.88    198      0.52   \n",
       "261            7.23                2         77.82    261      0.63   \n",
       "274            6.95               13         52.92    274      0.52   \n",
       "175            7.06               15         42.14    175      1.07   \n",
       "156            6.92                0         83.19    156      0.46   \n",
       "254            6.78                1         72.16    254      0.30   \n",
       "194            6.96                1         83.48    194      0.30   \n",
       "193            7.00                4         71.00    193      0.55   \n",
       "190            7.09                6         68.71    190      0.62   \n",
       "219            6.91                0         84.27    219      0.19   \n",
       "\n",
       "     minutes/goal  xg/90  xg/shot  xg_overperformance/90  non_pen_goals/90  \\\n",
       "477        345.25   0.10     0.08                   0.16              0.26   \n",
       "473        123.14   0.24     0.14                   0.49              0.73   \n",
       "201        169.33   0.47     0.16                   0.06              0.44   \n",
       "198        172.20   0.44     0.16                   0.08              0.52   \n",
       "261        142.67   0.54     0.16                   0.09              0.58   \n",
       "274        172.00   0.50     0.25                   0.02              0.33   \n",
       "175         84.27   0.57     0.22                   0.50              1.07   \n",
       "156        196.64   0.39     0.17                   0.06              0.46   \n",
       "254        300.67   0.19     0.13                   0.11              0.30   \n",
       "194        298.14   0.25     0.15                   0.05              0.30   \n",
       "193        162.29   0.43     0.24                   0.12              0.55   \n",
       "190        144.30   0.42     0.16                   0.20              0.50   \n",
       "219        463.50   0.13     0.12                   0.06              0.19   \n",
       "\n",
       "     non_pen_goals/shot  minutes/non_pen_goal  non_pen_xg/90  \\\n",
       "477                0.21                345.25           0.10   \n",
       "473                0.41                123.14           0.24   \n",
       "201                0.15                203.20           0.40   \n",
       "198                0.19                172.20           0.44   \n",
       "261                0.17                155.64           0.50   \n",
       "274                0.17                275.20           0.25   \n",
       "175                0.41                 84.27           0.57   \n",
       "156                0.19                196.64           0.36   \n",
       "254                0.19                300.67           0.19   \n",
       "194                0.18                298.14           0.25   \n",
       "193                0.30                162.29           0.43   \n",
       "190                0.20                180.38           0.32   \n",
       "219                0.17                463.50           0.13   \n",
       "\n",
       "     non_pen_goals___non_pens_xg_/90  non_pen_xg/shot  \\\n",
       "477                             0.16             0.08   \n",
       "473                             0.49             0.14   \n",
       "201                             0.04             0.14   \n",
       "198                             0.08             0.16   \n",
       "261                             0.08             0.15   \n",
       "274                             0.08             0.13   \n",
       "175                             0.50             0.22   \n",
       "156                             0.10             0.15   \n",
       "254                             0.11             0.13   \n",
       "194                             0.05             0.15   \n",
       "193                             0.12             0.24   \n",
       "190                             0.18             0.13   \n",
       "219                             0.06             0.12   \n",
       "\n",
       "     non_pen_xg_overperformance/90  goals_outside_box/90  assists/90  \\\n",
       "477                           0.16                  0.13        0.07   \n",
       "473                           0.49                  0.21        0.10   \n",
       "201                           0.04                  0.00        0.00   \n",
       "198                           0.08                  0.05        0.16   \n",
       "261                           0.08                  0.05        0.16   \n",
       "274                           0.08                  0.00        0.20   \n",
       "175                           0.50                  0.00        0.00   \n",
       "156                           0.10                  0.00        0.12   \n",
       "254                           0.11                  0.10        0.15   \n",
       "194                           0.05                  0.04        0.17   \n",
       "193                           0.12                  0.08        0.16   \n",
       "190                           0.17                  0.06        0.19   \n",
       "219                           0.06                  0.05        0.15   \n",
       "\n",
       "     minutes/assist  xa/90  xa_overperformance  xa_overperformance/90  \\\n",
       "477         1381.00   0.11               -0.75                  -0.05   \n",
       "473          862.00   0.15               -0.41                  -0.04   \n",
       "201            0.00   0.09               -1.07                  -0.09   \n",
       "198          574.00   0.14                0.35                   0.02   \n",
       "261          570.67   0.19               -0.53                  -0.03   \n",
       "274          458.67   0.13                1.06                   0.07   \n",
       "175            0.00   0.09               -0.94                  -0.09   \n",
       "156          721.00   0.07                1.42                   0.06   \n",
       "254          601.33   0.10                0.97                   0.05   \n",
       "194          521.75   0.13                1.08                   0.05   \n",
       "193          568.00   0.06                1.27                   0.10   \n",
       "190          481.00   0.18                0.10                   0.01   \n",
       "219          618.00   0.17               -0.43                  -0.02   \n",
       "\n",
       "     assists/clear_cut_chances_created  goal_contributions/90  xgc/90  \\\n",
       "477                               0.17                   0.33    0.22   \n",
       "473                               0.00                   0.84    0.39   \n",
       "201                               0.00                   0.53    0.57   \n",
       "198                               0.38                   0.68    0.58   \n",
       "261                               0.50                   0.79    0.72   \n",
       "274                               0.43                   0.72    0.63   \n",
       "175                               0.00                   1.07    0.66   \n",
       "156                               0.50                   0.58    0.46   \n",
       "254                               0.00                   0.45    0.29   \n",
       "194                               0.40                   0.47    0.37   \n",
       "193                               0.00                   0.71    0.49   \n",
       "190                               0.38                   0.81    0.60   \n",
       "219                               0.43                   0.34    0.30   \n",
       "\n",
       "     xgc_overperformance/90  non_pen_goal_contributions/90  non_pen_xgc/90  \\\n",
       "477                    0.11                           0.33            0.22   \n",
       "473                    0.45                           0.84            0.39   \n",
       "201                   -0.03                           0.44            0.50   \n",
       "198                    0.10                           0.68            0.58   \n",
       "261                    0.07                           0.74            0.68   \n",
       "274                    0.09                           0.52            0.38   \n",
       "175                    0.41                           1.07            0.66   \n",
       "156                    0.12                           0.58            0.43   \n",
       "254                    0.15                           0.45            0.29   \n",
       "194                    0.10                           0.47            0.37   \n",
       "193                    0.22                           0.71            0.49   \n",
       "190                    0.21                           0.69            0.51   \n",
       "219                    0.04                           0.34            0.30   \n",
       "\n",
       "     non_pen_xgc_overperformance/90  conversion_%  shots/90  \\\n",
       "477                            0.11            21      1.24   \n",
       "473                            0.45            41      1.77   \n",
       "201                           -0.05            18      2.92   \n",
       "198                            0.10            19      2.72   \n",
       "261                            0.05            19      3.31   \n",
       "274                            0.15            27      1.96   \n",
       "175                            0.41            41      2.62   \n",
       "156                            0.15            19      2.37   \n",
       "254                            0.15            19      1.55   \n",
       "194                            0.10            18      1.64   \n",
       "193                            0.22            30      1.82   \n",
       "190                            0.18            24      2.56   \n",
       "219                            0.04            17      1.17   \n",
       "\n",
       "     shots_on_target/90  shots_on_target_%  shots_outside_box/90  \\\n",
       "477                0.59                 47                  0.91   \n",
       "473                1.25                 71                  0.73   \n",
       "201                1.33                 45                  0.80   \n",
       "198                0.99                 37                  1.31   \n",
       "261                1.68                 51                  0.68   \n",
       "274                1.05                 53                  0.65   \n",
       "175                1.65                 63                  0.68   \n",
       "156                1.29                 54                  0.42   \n",
       "254                0.95                 61                  0.65   \n",
       "194                0.86                 53                  0.17   \n",
       "193                1.03                 57                  0.32   \n",
       "190                1.37                 54                  1.12   \n",
       "219                0.49                 42                  0.83   \n",
       "\n",
       "     passes_attempted/90  passes_completed/90  pass_completion_%  \\\n",
       "477                54.87                47.44                 86   \n",
       "473                31.64                26.00                 82   \n",
       "201                29.41                23.12                 79   \n",
       "198                21.64                18.29                 85   \n",
       "261                28.02                23.60                 84   \n",
       "274                30.68                26.62                 87   \n",
       "175                23.50                20.58                 88   \n",
       "156                27.09                22.05                 81   \n",
       "254                27.74                22.05                 79   \n",
       "194                32.30                27.21                 84   \n",
       "193                21.31                18.46                 87   \n",
       "190                34.93                30.31                 87   \n",
       "219                34.85                28.93                 83   \n",
       "\n",
       "     progressive_passes/90  progressive_pass_rate  key_passes/90  key_pass_%  \\\n",
       "477                   3.06                   5.58           1.37        2.49   \n",
       "473                   2.09                   6.60           0.94        2.97   \n",
       "201                   1.06                   3.61           0.89        3.01   \n",
       "198                   0.89                   4.11           1.05        4.83   \n",
       "261                   0.47                   1.69           1.16        4.13   \n",
       "274                   3.14                  10.23           1.05        3.41   \n",
       "175                   0.78                   3.31           0.58        2.48   \n",
       "156                   0.83                   3.07           0.67        2.46   \n",
       "254                   1.95                   7.01           0.80        2.88   \n",
       "194                   1.16                   3.60           0.99        3.07   \n",
       "193                   0.87                   4.09           0.87        4.09   \n",
       "190                   1.62                   4.64           0.94        2.68   \n",
       "219                   2.04                   5.85           1.02        2.92   \n",
       "\n",
       "     open_play_key_passes/90  open_play_key_pass_%  chances_created/90  \\\n",
       "477                     1.37                  2.49                0.42   \n",
       "473                     0.94                  2.97                0.47   \n",
       "201                     0.89                  3.01                1.21   \n",
       "198                     0.89                  4.11                0.71   \n",
       "261                     1.16                  4.13                1.52   \n",
       "274                     1.05                  3.41                0.84   \n",
       "175                     0.58                  2.48                0.23   \n",
       "156                     0.67                  2.46                0.73   \n",
       "254                     0.80                  2.88                0.20   \n",
       "194                     0.99                  3.07                0.45   \n",
       "193                     0.79                  3.72                0.26   \n",
       "190                     0.87                  2.50                0.53   \n",
       "219                     0.78                  2.23                1.31   \n",
       "\n",
       "     clear_cut_chances_created/90  pressures_attempted/90  \\\n",
       "477                          0.39                   12.84   \n",
       "473                          0.42                    9.81   \n",
       "201                          0.35                   10.01   \n",
       "198                          0.42                    7.06   \n",
       "261                          0.32                    7.83   \n",
       "274                          0.46                   10.86   \n",
       "175                          0.19                    7.57   \n",
       "156                          0.25                    9.78   \n",
       "254                          0.20                   12.32   \n",
       "194                          0.43                    6.43   \n",
       "193                          0.24                    6.10   \n",
       "190                          0.50                   13.47   \n",
       "219                          0.34                   10.10   \n",
       "\n",
       "     pressures_completed/90  pressure_success_%  possession_won/90  \\\n",
       "477                    3.39               26.40               8.80   \n",
       "473                    2.40               24.47               5.32   \n",
       "201                    2.48               24.78               5.40   \n",
       "198                    1.41               20.00               4.97   \n",
       "261                    2.26               28.86               3.73   \n",
       "274                    2.42               22.29               4.77   \n",
       "175                    1.75               23.08               4.08   \n",
       "156                    2.50               25.53               5.20   \n",
       "254                    3.09               25.10               8.23   \n",
       "194                    1.72               26.85               5.05   \n",
       "193                    1.98               32.47               3.72   \n",
       "190                    3.56               26.39               6.49   \n",
       "219                    2.62               25.96               4.95   \n",
       "\n",
       "     possession_lost/90  poss+_/90  poss+__%  dribbles/90  \\\n",
       "477               11.40      -2.60    -22.81         1.04   \n",
       "473               11.59      -6.27    -54.10         2.40   \n",
       "201                8.86      -3.46    -39.05         0.89   \n",
       "198                7.26      -2.29    -31.54         1.31   \n",
       "261                8.78      -5.05    -57.52         0.68   \n",
       "274               12.56      -7.79    -62.02         3.92   \n",
       "175                8.16      -4.08    -50.00         1.26   \n",
       "156                9.61      -4.41    -45.89         0.71   \n",
       "254               12.42      -4.19    -33.74         2.69   \n",
       "194                9.36      -4.31    -46.05         0.82   \n",
       "193                5.07      -1.35    -26.63         2.06   \n",
       "190               15.34      -8.85    -57.69         2.99   \n",
       "219               10.00      -5.05    -50.50         1.55   \n",
       "\n",
       "     headers_attempted/90  headers_won/90  headers_won_%  headers_lost/90  \\\n",
       "477                  5.67            3.39          59.77             2.28   \n",
       "473                 10.44            3.86          37.00             6.58   \n",
       "201                 12.84            6.91          53.79             5.94   \n",
       "198                 11.50            3.71          32.27             7.79   \n",
       "261                 13.46            5.41          40.23             8.04   \n",
       "274                  5.43            1.70          31.33             3.73   \n",
       "175                 11.36            5.24          46.15             6.12   \n",
       "156                 13.07            5.78          44.27             7.28   \n",
       "254                  8.03            3.64          45.34             4.39   \n",
       "194                 10.91            4.92          45.06             5.99   \n",
       "193                  4.60            1.03          22.41             3.57   \n",
       "190                  3.74            1.06          28.33             2.68   \n",
       "219                  2.77            0.39          14.04             2.38   \n",
       "\n",
       "     headers_lost_%  key_headers/90  aerial_challenges_attempted/90  \\\n",
       "477           40.23            0.98                            5.67   \n",
       "473           63.00            0.00                           10.44   \n",
       "201           46.21            0.09                           12.84   \n",
       "198           67.73            0.16                           11.50   \n",
       "261           59.77            0.11                           13.46   \n",
       "274           68.67            0.07                            5.43   \n",
       "175           53.85            0.00                           11.36   \n",
       "156           55.73            0.12                           13.07   \n",
       "254           54.66            0.15                            8.03   \n",
       "194           54.94            0.17                           10.91   \n",
       "193           77.59            0.00                            4.60   \n",
       "190           71.67            0.00                            3.74   \n",
       "219           85.96            0.00                            2.77   \n",
       "\n",
       "     duels_win_%  player_of_the_match  mistakes_leading_to_goal  sprints/90  \\\n",
       "477        69.57                    1                         0        7.76   \n",
       "473        43.33                    2                         0       10.34   \n",
       "201        57.31                    0                         0        7.44   \n",
       "198        36.21                    2                         0        7.11   \n",
       "261        46.02                    6                         1        7.41   \n",
       "274        45.38                    2                         0       12.17   \n",
       "175        49.64                    1                         1        7.28   \n",
       "156        49.19                    1                         0        7.66   \n",
       "254        55.08                    0                         0       14.67   \n",
       "194        47.75                    2                         1        7.42   \n",
       "193        30.26                    2                         0        6.73   \n",
       "190        53.85                    4                         0       10.91   \n",
       "219        50.00                    2                         0       14.61   \n",
       "\n",
       "     attacking_actions/90  creative_actions/90  defensive_actions/90  \\\n",
       "477                  2.29                 2.02                 19.39   \n",
       "473                  4.68                 1.77                  9.25   \n",
       "201                  2.91                 1.33                 13.07   \n",
       "198                  3.22                 1.57                  8.33   \n",
       "261                  3.53                 1.95                 10.24   \n",
       "274                  5.59                 2.22                  9.94   \n",
       "175                  3.92                 0.78                  8.37   \n",
       "156                  2.82                 1.21                 11.73   \n",
       "254                  3.87                 1.30                 14.32   \n",
       "194                  2.53                 1.72                  9.96   \n",
       "193                  3.76                 1.35                  4.39   \n",
       "190                  5.30                 2.00                  9.58   \n",
       "219                  2.49                 1.36                  8.76   \n",
       "\n",
       "     goalkeeping_actions/90  excitement_factor/90  general_performance  \\\n",
       "477                       0                  4.95                   54   \n",
       "473                       0                  7.41                   44   \n",
       "201                       0                  5.76                   23   \n",
       "198                       0                  6.01                   72   \n",
       "261                       0                  6.31                   72   \n",
       "274                       0                 12.89                   95   \n",
       "175                       0                  5.34                   47   \n",
       "156                       0                  5.03                   63   \n",
       "254                       0                  6.88                   58   \n",
       "194                       0                  4.57                   60   \n",
       "193                       0                  5.78                   80   \n",
       "190                       0                  9.48                   95   \n",
       "219                       0                  4.56                   47   \n",
       "\n",
       "     goalkeeping  defensive_defender  creative_defender  attacking_defender  \\\n",
       "477          100                  99                 68                  43   \n",
       "473          100                  42                 63                  73   \n",
       "201          100                  70                 21                  32   \n",
       "198          100                  28                 61                  77   \n",
       "261          100                  49                 50                  74   \n",
       "274          100                  95                 83                  91   \n",
       "175          100                  24                 18                  28   \n",
       "156          100                  59                 14                  56   \n",
       "254          100                  92                 57                  59   \n",
       "194          100                  18                 60                  61   \n",
       "193          100                   0                 50                  88   \n",
       "190          100                  77                 88                  91   \n",
       "219          100                  86                 62                  41   \n",
       "\n",
       "     creative_midfielder  attacking_midfielder  creative_winger  \\\n",
       "477                   44                    30               35   \n",
       "473                   70                    81               67   \n",
       "201                   49                    42               19   \n",
       "198                   78                    65               77   \n",
       "261                   89                    88               68   \n",
       "274                   92                    93               97   \n",
       "175                   74                    89               55   \n",
       "156                   45                    54               30   \n",
       "254                   33                    47               43   \n",
       "194                   53                    53               39   \n",
       "193                   73                    81               73   \n",
       "190                   95                    97               97   \n",
       "219                   33                    23               42   \n",
       "\n",
       "     attacking_winger  creative_forward  attacking_forward  finisher  \\\n",
       "477                41                47                 36        32   \n",
       "473                88                89                 88        82   \n",
       "201                39                46                 56        77   \n",
       "198                67                80                 71        75   \n",
       "261                77                76                 92        92   \n",
       "274                93                94                 89        61   \n",
       "175                59                61                 74        99   \n",
       "156                42                37                 62        80   \n",
       "254                67                58                 58        50   \n",
       "194                56                49                 62        46   \n",
       "193                77                80                 74        85   \n",
       "190                93                93                 93        88   \n",
       "219                47                55                 34        21   \n",
       "\n",
       "     aerial_threat  reader  assister  price_estimate_M  \\\n",
       "477             90      93        41            11.640   \n",
       "473             56      56        51             7.140   \n",
       "201             86      92        16             9.840   \n",
       "198             92      56        73             9.120   \n",
       "261             90      55        77             0.858   \n",
       "274             45      64        79             8.040   \n",
       "175             62      35        16             6.780   \n",
       "156             91      70        66            11.100   \n",
       "254             84      99        56             0.363   \n",
       "194             94      76        75            12.540   \n",
       "193             10       6        54             3.690   \n",
       "190              8      62        79            22.800   \n",
       "219              1      47        74            14.100   \n",
       "\n",
       "     non_pen_goals/non_pen_xg/90  \n",
       "477                     2.600000  \n",
       "473                     3.041667  \n",
       "201                     1.100000  \n",
       "198                     1.181818  \n",
       "261                     1.160000  \n",
       "274                     1.320000  \n",
       "175                     1.877193  \n",
       "156                     1.277778  \n",
       "254                     1.578947  \n",
       "194                     1.200000  \n",
       "193                     1.279070  \n",
       "190                     1.562500  \n",
       "219                     1.461538  "
      ]
     },
     "execution_count": 65,
     "metadata": {},
     "output_type": "execute_result"
    }
   ],
   "source": [
    "df_targets.groupby('division').get_group('Sky Bet Championship').sort_values('age')"
   ]
  },
  {
   "cell_type": "code",
   "execution_count": null,
   "id": "436279ef",
   "metadata": {},
   "outputs": [],
   "source": []
  }
 ],
 "metadata": {
  "kernelspec": {
   "display_name": ".venv",
   "language": "python",
   "name": "python3"
  },
  "language_info": {
   "codemirror_mode": {
    "name": "ipython",
    "version": 3
   },
   "file_extension": ".py",
   "mimetype": "text/x-python",
   "name": "python",
   "nbconvert_exporter": "python",
   "pygments_lexer": "ipython3",
   "version": "3.12.7"
  }
 },
 "nbformat": 4,
 "nbformat_minor": 5
}
