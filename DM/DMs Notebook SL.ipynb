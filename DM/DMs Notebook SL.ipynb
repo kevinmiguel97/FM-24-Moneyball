{
 "cells": [
  {
   "cell_type": "markdown",
   "id": "b1df530d",
   "metadata": {},
   "source": [
    "# FM 24 Moneyball"
   ]
  },
  {
   "cell_type": "code",
   "execution_count": 1,
   "id": "a0d6d750",
   "metadata": {},
   "outputs": [],
   "source": [
    "import numpy as np\n",
    "import pandas as pd \n",
    "import matplotlib.pyplot as plt\n",
    "import plotly.express as px\n",
    "import re\n",
    "\n",
    "# Ignore warnings\n",
    "import warnings\n",
    "warnings.filterwarnings('ignore')\n",
    "\n",
    "# Show all columns in pandas\n",
    "pd.set_option('display.max_columns', 500) \n",
    "\n",
    "%matplotlib inline"
   ]
  },
  {
   "cell_type": "markdown",
   "id": "bd53e3cd",
   "metadata": {},
   "source": [
    "## Ingest and clean data"
   ]
  },
  {
   "cell_type": "code",
   "execution_count": 3,
   "id": "90d35265",
   "metadata": {},
   "outputs": [
    {
     "data": {
      "text/html": [
       "<div>\n",
       "<style scoped>\n",
       "    .dataframe tbody tr th:only-of-type {\n",
       "        vertical-align: middle;\n",
       "    }\n",
       "\n",
       "    .dataframe tbody tr th {\n",
       "        vertical-align: top;\n",
       "    }\n",
       "\n",
       "    .dataframe thead th {\n",
       "        text-align: right;\n",
       "    }\n",
       "</style>\n",
       "<table border=\"1\" class=\"dataframe\">\n",
       "  <thead>\n",
       "    <tr style=\"text-align: right;\">\n",
       "      <th></th>\n",
       "      <th>name</th>\n",
       "      <th>position</th>\n",
       "      <th>age</th>\n",
       "      <th>height</th>\n",
       "      <th>weight</th>\n",
       "      <th>inf</th>\n",
       "      <th>club</th>\n",
       "      <th>division</th>\n",
       "      <th>nat</th>\n",
       "      <th>2nd_nat</th>\n",
       "      <th>home_grown_status</th>\n",
       "      <th>personality</th>\n",
       "      <th>media_handling</th>\n",
       "      <th>wage</th>\n",
       "      <th>transfer_value</th>\n",
       "      <th>asking_price</th>\n",
       "      <th>preferred_foot</th>\n",
       "      <th>yel</th>\n",
       "      <th>xg</th>\n",
       "      <th>starts</th>\n",
       "      <th>red</th>\n",
       "      <th>pom</th>\n",
       "      <th>pen/r</th>\n",
       "      <th>pens_s</th>\n",
       "      <th>pens_saved_ratio</th>\n",
       "      <th>pens_saved</th>\n",
       "      <th>pens_faced</th>\n",
       "      <th>pens</th>\n",
       "      <th>mins</th>\n",
       "      <th>gls/90</th>\n",
       "      <th>conc</th>\n",
       "      <th>con/90</th>\n",
       "      <th>gls</th>\n",
       "      <th>fls</th>\n",
       "      <th>fa</th>\n",
       "      <th>xg/90</th>\n",
       "      <th>xg_op</th>\n",
       "      <th>xa/90</th>\n",
       "      <th>xa</th>\n",
       "      <th>clean_sheets</th>\n",
       "      <th>av_rat</th>\n",
       "      <th>mins/gl</th>\n",
       "      <th>ast</th>\n",
       "      <th>apps</th>\n",
       "      <th>hdrs_a</th>\n",
       "      <th>tck/90</th>\n",
       "      <th>tck_w</th>\n",
       "      <th>tck_a</th>\n",
       "      <th>tck_r</th>\n",
       "      <th>shot/90</th>\n",
       "      <th>shot_%</th>\n",
       "      <th>sht/90</th>\n",
       "      <th>sht</th>\n",
       "      <th>shots_outside_box/90</th>\n",
       "      <th>shts_blckd/90</th>\n",
       "      <th>shts_blckd</th>\n",
       "      <th>shots</th>\n",
       "      <th>svt</th>\n",
       "      <th>svp</th>\n",
       "      <th>svh</th>\n",
       "      <th>sv_%</th>\n",
       "      <th>pr_passes/90</th>\n",
       "      <th>pr_passes</th>\n",
       "      <th>pres_c/90</th>\n",
       "      <th>pres_c</th>\n",
       "      <th>pres_a/90</th>\n",
       "      <th>pres_a</th>\n",
       "      <th>poss_won/90</th>\n",
       "      <th>poss_lost/90</th>\n",
       "      <th>ps_c/90</th>\n",
       "      <th>ps_c</th>\n",
       "      <th>ps_a/90</th>\n",
       "      <th>pas_a</th>\n",
       "      <th>pas_%</th>\n",
       "      <th>op_kp/90</th>\n",
       "      <th>op_kp</th>\n",
       "      <th>op_crs_c/90</th>\n",
       "      <th>op_crs_c</th>\n",
       "      <th>op_crs_a/90</th>\n",
       "      <th>op_crs_a</th>\n",
       "      <th>op_cr_%</th>\n",
       "      <th>off</th>\n",
       "      <th>gl_mst</th>\n",
       "      <th>k_tck/90</th>\n",
       "      <th>k_tck</th>\n",
       "      <th>k_ps/90</th>\n",
       "      <th>k_pas</th>\n",
       "      <th>k_hdrs/90</th>\n",
       "      <th>int/90</th>\n",
       "      <th>itc</th>\n",
       "      <th>sprints/90</th>\n",
       "      <th>hdr_%</th>\n",
       "      <th>hdrs_w/90</th>\n",
       "      <th>hdrs</th>\n",
       "      <th>hdrs_l/90</th>\n",
       "      <th>goals_outside_box</th>\n",
       "      <th>xsv_%</th>\n",
       "      <th>xgp/90</th>\n",
       "      <th>xgp</th>\n",
       "      <th>drb/90</th>\n",
       "      <th>drb</th>\n",
       "      <th>dist/90</th>\n",
       "      <th>distance</th>\n",
       "      <th>cr_c/90</th>\n",
       "      <th>cr_c</th>\n",
       "      <th>crs_a/90</th>\n",
       "      <th>cr_a</th>\n",
       "      <th>cr_c/a</th>\n",
       "      <th>conv_%</th>\n",
       "      <th>clr/90</th>\n",
       "      <th>clear</th>\n",
       "      <th>ccc</th>\n",
       "      <th>ch_c/90</th>\n",
       "      <th>blk/90</th>\n",
       "      <th>blk</th>\n",
       "      <th>asts/90</th>\n",
       "      <th>aer_a/90</th>\n",
       "      <th>rec</th>\n",
       "    </tr>\n",
       "  </thead>\n",
       "  <tbody>\n",
       "    <tr>\n",
       "      <th>0</th>\n",
       "      <td>João Neves</td>\n",
       "      <td>DM, M/AM (C)</td>\n",
       "      <td>19</td>\n",
       "      <td>174 cm</td>\n",
       "      <td>68 kg</td>\n",
       "      <td>NaN</td>\n",
       "      <td>SL Benfica</td>\n",
       "      <td>Liga Portugal Betclic</td>\n",
       "      <td>POR</td>\n",
       "      <td>NaN</td>\n",
       "      <td>-</td>\n",
       "      <td>Resolute</td>\n",
       "      <td>Level-headed</td>\n",
       "      <td>£14,250 p/w</td>\n",
       "      <td>£40M - £56M</td>\n",
       "      <td>-</td>\n",
       "      <td>Right</td>\n",
       "      <td>4</td>\n",
       "      <td>4.88</td>\n",
       "      <td>31</td>\n",
       "      <td>2</td>\n",
       "      <td>2</td>\n",
       "      <td>-</td>\n",
       "      <td>0</td>\n",
       "      <td>-</td>\n",
       "      <td>-</td>\n",
       "      <td>-</td>\n",
       "      <td>0</td>\n",
       "      <td>2447</td>\n",
       "      <td>0.33</td>\n",
       "      <td>-</td>\n",
       "      <td>-</td>\n",
       "      <td>9</td>\n",
       "      <td>53</td>\n",
       "      <td>27</td>\n",
       "      <td>0.18</td>\n",
       "      <td>4.12</td>\n",
       "      <td>0.18</td>\n",
       "      <td>5.01</td>\n",
       "      <td>-</td>\n",
       "      <td>7.16</td>\n",
       "      <td>271.89</td>\n",
       "      <td>7</td>\n",
       "      <td>31 (4)</td>\n",
       "      <td>141</td>\n",
       "      <td>2.13</td>\n",
       "      <td>58</td>\n",
       "      <td>81</td>\n",
       "      <td>72%</td>\n",
       "      <td>2.28</td>\n",
       "      <td>34%</td>\n",
       "      <td>0.77</td>\n",
       "      <td>21</td>\n",
       "      <td>1.51</td>\n",
       "      <td>0.26</td>\n",
       "      <td>7</td>\n",
       "      <td>62</td>\n",
       "      <td>-</td>\n",
       "      <td>-</td>\n",
       "      <td>-</td>\n",
       "      <td>-</td>\n",
       "      <td>7.36</td>\n",
       "      <td>200</td>\n",
       "      <td>3.60</td>\n",
       "      <td>98</td>\n",
       "      <td>11.22</td>\n",
       "      <td>305</td>\n",
       "      <td>10.11</td>\n",
       "      <td>9.08</td>\n",
       "      <td>53.70</td>\n",
       "      <td>1460</td>\n",
       "      <td>60.72</td>\n",
       "      <td>1651</td>\n",
       "      <td>88%</td>\n",
       "      <td>1.80</td>\n",
       "      <td>49</td>\n",
       "      <td>0.29</td>\n",
       "      <td>8</td>\n",
       "      <td>1.10</td>\n",
       "      <td>30</td>\n",
       "      <td>26%</td>\n",
       "      <td>0</td>\n",
       "      <td>0</td>\n",
       "      <td>0.11</td>\n",
       "      <td>3</td>\n",
       "      <td>2.10</td>\n",
       "      <td>57</td>\n",
       "      <td>0.07</td>\n",
       "      <td>1.84</td>\n",
       "      <td>50</td>\n",
       "      <td>12.14</td>\n",
       "      <td>55%</td>\n",
       "      <td>2.87</td>\n",
       "      <td>78</td>\n",
       "      <td>2.32</td>\n",
       "      <td>3</td>\n",
       "      <td>-</td>\n",
       "      <td>-</td>\n",
       "      <td>-</td>\n",
       "      <td>1.43</td>\n",
       "      <td>39</td>\n",
       "      <td>13.1km</td>\n",
       "      <td>356.0km</td>\n",
       "      <td>0.37</td>\n",
       "      <td>10</td>\n",
       "      <td>1.43</td>\n",
       "      <td>39</td>\n",
       "      <td>26%</td>\n",
       "      <td>15%</td>\n",
       "      <td>0.55</td>\n",
       "      <td>15</td>\n",
       "      <td>14</td>\n",
       "      <td>0.51</td>\n",
       "      <td>0.37</td>\n",
       "      <td>10</td>\n",
       "      <td>0.26</td>\n",
       "      <td>5.19</td>\n",
       "      <td>- - -</td>\n",
       "    </tr>\n",
       "    <tr>\n",
       "      <th>1</th>\n",
       "      <td>Mats Wieffer</td>\n",
       "      <td>D (C), DM, M (C)</td>\n",
       "      <td>24</td>\n",
       "      <td>188 cm</td>\n",
       "      <td>80 kg</td>\n",
       "      <td>NaN</td>\n",
       "      <td>Feyenoord</td>\n",
       "      <td>Eredivisie</td>\n",
       "      <td>NED</td>\n",
       "      <td>NaN</td>\n",
       "      <td>-</td>\n",
       "      <td>Fairly Professional</td>\n",
       "      <td>Level-headed</td>\n",
       "      <td>£16,500 p/w</td>\n",
       "      <td>£71M - £82M</td>\n",
       "      <td>-</td>\n",
       "      <td>Right</td>\n",
       "      <td>3</td>\n",
       "      <td>9.86</td>\n",
       "      <td>45</td>\n",
       "      <td>0</td>\n",
       "      <td>4</td>\n",
       "      <td>-</td>\n",
       "      <td>0</td>\n",
       "      <td>-</td>\n",
       "      <td>-</td>\n",
       "      <td>-</td>\n",
       "      <td>0</td>\n",
       "      <td>3457</td>\n",
       "      <td>0.29</td>\n",
       "      <td>-</td>\n",
       "      <td>-</td>\n",
       "      <td>11</td>\n",
       "      <td>27</td>\n",
       "      <td>26</td>\n",
       "      <td>0.26</td>\n",
       "      <td>1.14</td>\n",
       "      <td>0.17</td>\n",
       "      <td>6.37</td>\n",
       "      <td>-</td>\n",
       "      <td>7.21</td>\n",
       "      <td>314.27</td>\n",
       "      <td>9</td>\n",
       "      <td>45</td>\n",
       "      <td>220</td>\n",
       "      <td>2.00</td>\n",
       "      <td>77</td>\n",
       "      <td>95</td>\n",
       "      <td>81%</td>\n",
       "      <td>2.60</td>\n",
       "      <td>46%</td>\n",
       "      <td>1.20</td>\n",
       "      <td>46</td>\n",
       "      <td>1.38</td>\n",
       "      <td>0.10</td>\n",
       "      <td>4</td>\n",
       "      <td>100</td>\n",
       "      <td>-</td>\n",
       "      <td>-</td>\n",
       "      <td>-</td>\n",
       "      <td>-</td>\n",
       "      <td>6.38</td>\n",
       "      <td>245</td>\n",
       "      <td>2.71</td>\n",
       "      <td>104</td>\n",
       "      <td>10.21</td>\n",
       "      <td>392</td>\n",
       "      <td>9.35</td>\n",
       "      <td>9.55</td>\n",
       "      <td>57.48</td>\n",
       "      <td>2208</td>\n",
       "      <td>64.41</td>\n",
       "      <td>2474</td>\n",
       "      <td>89%</td>\n",
       "      <td>1.56</td>\n",
       "      <td>60</td>\n",
       "      <td>0.18</td>\n",
       "      <td>7</td>\n",
       "      <td>1.02</td>\n",
       "      <td>39</td>\n",
       "      <td>16%</td>\n",
       "      <td>6</td>\n",
       "      <td>0</td>\n",
       "      <td>0.05</td>\n",
       "      <td>2</td>\n",
       "      <td>1.67</td>\n",
       "      <td>64</td>\n",
       "      <td>0.47</td>\n",
       "      <td>1.77</td>\n",
       "      <td>68</td>\n",
       "      <td>14.40</td>\n",
       "      <td>60%</td>\n",
       "      <td>3.41</td>\n",
       "      <td>131</td>\n",
       "      <td>2.32</td>\n",
       "      <td>5</td>\n",
       "      <td>-</td>\n",
       "      <td>-</td>\n",
       "      <td>-</td>\n",
       "      <td>1.46</td>\n",
       "      <td>56</td>\n",
       "      <td>13.7km</td>\n",
       "      <td>527.4km</td>\n",
       "      <td>0.23</td>\n",
       "      <td>9</td>\n",
       "      <td>1.43</td>\n",
       "      <td>55</td>\n",
       "      <td>17%</td>\n",
       "      <td>11%</td>\n",
       "      <td>0.29</td>\n",
       "      <td>11</td>\n",
       "      <td>15</td>\n",
       "      <td>0.39</td>\n",
       "      <td>0.23</td>\n",
       "      <td>9</td>\n",
       "      <td>0.23</td>\n",
       "      <td>5.73</td>\n",
       "      <td>- - -</td>\n",
       "    </tr>\n",
       "    <tr>\n",
       "      <th>2</th>\n",
       "      <td>Gabriel Moscardo</td>\n",
       "      <td>DM</td>\n",
       "      <td>18</td>\n",
       "      <td>185 cm</td>\n",
       "      <td>73 kg</td>\n",
       "      <td>NaN</td>\n",
       "      <td>COR</td>\n",
       "      <td>Campeonato Brasileiro Série A Assaí</td>\n",
       "      <td>BRA</td>\n",
       "      <td>NaN</td>\n",
       "      <td>-</td>\n",
       "      <td>Fairly Determined</td>\n",
       "      <td>Level-headed</td>\n",
       "      <td>£6,500 p/w</td>\n",
       "      <td>£15.5M - £19M</td>\n",
       "      <td>-</td>\n",
       "      <td>Right</td>\n",
       "      <td>2</td>\n",
       "      <td>1.46</td>\n",
       "      <td>13</td>\n",
       "      <td>0</td>\n",
       "      <td>2</td>\n",
       "      <td>-</td>\n",
       "      <td>0</td>\n",
       "      <td>-</td>\n",
       "      <td>-</td>\n",
       "      <td>-</td>\n",
       "      <td>0</td>\n",
       "      <td>1189</td>\n",
       "      <td>0.23</td>\n",
       "      <td>-</td>\n",
       "      <td>-</td>\n",
       "      <td>3</td>\n",
       "      <td>6</td>\n",
       "      <td>6</td>\n",
       "      <td>0.11</td>\n",
       "      <td>1.54</td>\n",
       "      <td>0.10</td>\n",
       "      <td>1.31</td>\n",
       "      <td>-</td>\n",
       "      <td>7.14</td>\n",
       "      <td>396.33</td>\n",
       "      <td>2</td>\n",
       "      <td>13 (8)</td>\n",
       "      <td>52</td>\n",
       "      <td>2.20</td>\n",
       "      <td>29</td>\n",
       "      <td>41</td>\n",
       "      <td>71%</td>\n",
       "      <td>0.98</td>\n",
       "      <td>54%</td>\n",
       "      <td>0.53</td>\n",
       "      <td>7</td>\n",
       "      <td>0.38</td>\n",
       "      <td>0.15</td>\n",
       "      <td>2</td>\n",
       "      <td>13</td>\n",
       "      <td>-</td>\n",
       "      <td>-</td>\n",
       "      <td>-</td>\n",
       "      <td>-</td>\n",
       "      <td>6.21</td>\n",
       "      <td>82</td>\n",
       "      <td>2.42</td>\n",
       "      <td>32</td>\n",
       "      <td>9.46</td>\n",
       "      <td>125</td>\n",
       "      <td>8.40</td>\n",
       "      <td>7.27</td>\n",
       "      <td>67.22</td>\n",
       "      <td>888</td>\n",
       "      <td>73.20</td>\n",
       "      <td>967</td>\n",
       "      <td>92%</td>\n",
       "      <td>1.36</td>\n",
       "      <td>18</td>\n",
       "      <td>0.30</td>\n",
       "      <td>4</td>\n",
       "      <td>0.76</td>\n",
       "      <td>10</td>\n",
       "      <td>40%</td>\n",
       "      <td>0</td>\n",
       "      <td>0</td>\n",
       "      <td>0.08</td>\n",
       "      <td>1</td>\n",
       "      <td>1.36</td>\n",
       "      <td>18</td>\n",
       "      <td>0.53</td>\n",
       "      <td>1.59</td>\n",
       "      <td>21</td>\n",
       "      <td>9.16</td>\n",
       "      <td>63%</td>\n",
       "      <td>2.50</td>\n",
       "      <td>33</td>\n",
       "      <td>1.44</td>\n",
       "      <td>1</td>\n",
       "      <td>-</td>\n",
       "      <td>-</td>\n",
       "      <td>-</td>\n",
       "      <td>0.68</td>\n",
       "      <td>9</td>\n",
       "      <td>13.5km</td>\n",
       "      <td>177.7km</td>\n",
       "      <td>0.30</td>\n",
       "      <td>4</td>\n",
       "      <td>0.76</td>\n",
       "      <td>10</td>\n",
       "      <td>40%</td>\n",
       "      <td>23%</td>\n",
       "      <td>0.83</td>\n",
       "      <td>11</td>\n",
       "      <td>6</td>\n",
       "      <td>0.45</td>\n",
       "      <td>0.45</td>\n",
       "      <td>6</td>\n",
       "      <td>0.15</td>\n",
       "      <td>3.94</td>\n",
       "      <td>- - -</td>\n",
       "    </tr>\n",
       "    <tr>\n",
       "      <th>3</th>\n",
       "      <td>Leandro Barreiro</td>\n",
       "      <td>DM, M (C)</td>\n",
       "      <td>24</td>\n",
       "      <td>174 cm</td>\n",
       "      <td>65 kg</td>\n",
       "      <td>Int</td>\n",
       "      <td>Mainz 05</td>\n",
       "      <td>Bundesliga</td>\n",
       "      <td>LUX</td>\n",
       "      <td>POR</td>\n",
       "      <td>-</td>\n",
       "      <td>Spirited</td>\n",
       "      <td>Evasive</td>\n",
       "      <td>£20,500 p/w</td>\n",
       "      <td>Not for Sale</td>\n",
       "      <td>-</td>\n",
       "      <td>Right</td>\n",
       "      <td>5</td>\n",
       "      <td>1.22</td>\n",
       "      <td>31</td>\n",
       "      <td>0</td>\n",
       "      <td>0</td>\n",
       "      <td>-</td>\n",
       "      <td>0</td>\n",
       "      <td>-</td>\n",
       "      <td>-</td>\n",
       "      <td>-</td>\n",
       "      <td>0</td>\n",
       "      <td>2627</td>\n",
       "      <td>0.07</td>\n",
       "      <td>-</td>\n",
       "      <td>-</td>\n",
       "      <td>2</td>\n",
       "      <td>55</td>\n",
       "      <td>26</td>\n",
       "      <td>0.04</td>\n",
       "      <td>0.78</td>\n",
       "      <td>0.06</td>\n",
       "      <td>1.89</td>\n",
       "      <td>-</td>\n",
       "      <td>6.75</td>\n",
       "      <td>1313.50</td>\n",
       "      <td>0</td>\n",
       "      <td>31</td>\n",
       "      <td>101</td>\n",
       "      <td>2.67</td>\n",
       "      <td>78</td>\n",
       "      <td>113</td>\n",
       "      <td>69%</td>\n",
       "      <td>0.69</td>\n",
       "      <td>30%</td>\n",
       "      <td>0.21</td>\n",
       "      <td>6</td>\n",
       "      <td>0.55</td>\n",
       "      <td>0.27</td>\n",
       "      <td>8</td>\n",
       "      <td>20</td>\n",
       "      <td>-</td>\n",
       "      <td>-</td>\n",
       "      <td>-</td>\n",
       "      <td>-</td>\n",
       "      <td>3.46</td>\n",
       "      <td>101</td>\n",
       "      <td>2.57</td>\n",
       "      <td>75</td>\n",
       "      <td>11.85</td>\n",
       "      <td>346</td>\n",
       "      <td>9.66</td>\n",
       "      <td>7.43</td>\n",
       "      <td>39.88</td>\n",
       "      <td>1164</td>\n",
       "      <td>44.88</td>\n",
       "      <td>1310</td>\n",
       "      <td>89%</td>\n",
       "      <td>0.62</td>\n",
       "      <td>18</td>\n",
       "      <td>0.03</td>\n",
       "      <td>1</td>\n",
       "      <td>0.51</td>\n",
       "      <td>15</td>\n",
       "      <td>7%</td>\n",
       "      <td>1</td>\n",
       "      <td>1</td>\n",
       "      <td>0.10</td>\n",
       "      <td>3</td>\n",
       "      <td>0.62</td>\n",
       "      <td>18</td>\n",
       "      <td>0.10</td>\n",
       "      <td>2.19</td>\n",
       "      <td>64</td>\n",
       "      <td>15.79</td>\n",
       "      <td>34%</td>\n",
       "      <td>1.16</td>\n",
       "      <td>34</td>\n",
       "      <td>2.30</td>\n",
       "      <td>1</td>\n",
       "      <td>-</td>\n",
       "      <td>-</td>\n",
       "      <td>-</td>\n",
       "      <td>0.89</td>\n",
       "      <td>26</td>\n",
       "      <td>13.9km</td>\n",
       "      <td>406.1km</td>\n",
       "      <td>0.03</td>\n",
       "      <td>1</td>\n",
       "      <td>0.51</td>\n",
       "      <td>15</td>\n",
       "      <td>6%</td>\n",
       "      <td>10%</td>\n",
       "      <td>1.27</td>\n",
       "      <td>37</td>\n",
       "      <td>6</td>\n",
       "      <td>0.21</td>\n",
       "      <td>0.41</td>\n",
       "      <td>12</td>\n",
       "      <td>-</td>\n",
       "      <td>3.46</td>\n",
       "      <td>- - -</td>\n",
       "    </tr>\n",
       "    <tr>\n",
       "      <th>4</th>\n",
       "      <td>Xaver Schlager</td>\n",
       "      <td>DM, M (C)</td>\n",
       "      <td>26</td>\n",
       "      <td>174 cm</td>\n",
       "      <td>76 kg</td>\n",
       "      <td>Int</td>\n",
       "      <td>RB Leipzig</td>\n",
       "      <td>Bundesliga</td>\n",
       "      <td>AUT</td>\n",
       "      <td>NaN</td>\n",
       "      <td>-</td>\n",
       "      <td>Resolute</td>\n",
       "      <td>Level-headed</td>\n",
       "      <td>£78,000 p/w</td>\n",
       "      <td>£20M</td>\n",
       "      <td>£26.5M</td>\n",
       "      <td>Left</td>\n",
       "      <td>8</td>\n",
       "      <td>3.45</td>\n",
       "      <td>37</td>\n",
       "      <td>0</td>\n",
       "      <td>0</td>\n",
       "      <td>-</td>\n",
       "      <td>0</td>\n",
       "      <td>-</td>\n",
       "      <td>-</td>\n",
       "      <td>-</td>\n",
       "      <td>0</td>\n",
       "      <td>3060</td>\n",
       "      <td>0.06</td>\n",
       "      <td>-</td>\n",
       "      <td>-</td>\n",
       "      <td>2</td>\n",
       "      <td>47</td>\n",
       "      <td>16</td>\n",
       "      <td>0.10</td>\n",
       "      <td>-1.45</td>\n",
       "      <td>0.16</td>\n",
       "      <td>5.42</td>\n",
       "      <td>-</td>\n",
       "      <td>6.88</td>\n",
       "      <td>1530.00</td>\n",
       "      <td>5</td>\n",
       "      <td>37</td>\n",
       "      <td>84</td>\n",
       "      <td>2.29</td>\n",
       "      <td>78</td>\n",
       "      <td>108</td>\n",
       "      <td>72%</td>\n",
       "      <td>0.91</td>\n",
       "      <td>29%</td>\n",
       "      <td>0.26</td>\n",
       "      <td>9</td>\n",
       "      <td>0.68</td>\n",
       "      <td>0.03</td>\n",
       "      <td>1</td>\n",
       "      <td>31</td>\n",
       "      <td>-</td>\n",
       "      <td>-</td>\n",
       "      <td>-</td>\n",
       "      <td>-</td>\n",
       "      <td>6.38</td>\n",
       "      <td>217</td>\n",
       "      <td>2.82</td>\n",
       "      <td>96</td>\n",
       "      <td>9.97</td>\n",
       "      <td>339</td>\n",
       "      <td>7.59</td>\n",
       "      <td>6.91</td>\n",
       "      <td>45.53</td>\n",
       "      <td>1548</td>\n",
       "      <td>49.91</td>\n",
       "      <td>1697</td>\n",
       "      <td>91%</td>\n",
       "      <td>1.26</td>\n",
       "      <td>43</td>\n",
       "      <td>0.21</td>\n",
       "      <td>7</td>\n",
       "      <td>0.71</td>\n",
       "      <td>24</td>\n",
       "      <td>26%</td>\n",
       "      <td>2</td>\n",
       "      <td>0</td>\n",
       "      <td>0.03</td>\n",
       "      <td>1</td>\n",
       "      <td>1.79</td>\n",
       "      <td>61</td>\n",
       "      <td>0.06</td>\n",
       "      <td>1.53</td>\n",
       "      <td>52</td>\n",
       "      <td>15.32</td>\n",
       "      <td>37%</td>\n",
       "      <td>0.91</td>\n",
       "      <td>31</td>\n",
       "      <td>1.56</td>\n",
       "      <td>1</td>\n",
       "      <td>-</td>\n",
       "      <td>-</td>\n",
       "      <td>-</td>\n",
       "      <td>0.97</td>\n",
       "      <td>33</td>\n",
       "      <td>13.9km</td>\n",
       "      <td>472.4km</td>\n",
       "      <td>0.62</td>\n",
       "      <td>21</td>\n",
       "      <td>2.41</td>\n",
       "      <td>82</td>\n",
       "      <td>29%</td>\n",
       "      <td>6%</td>\n",
       "      <td>0.56</td>\n",
       "      <td>19</td>\n",
       "      <td>16</td>\n",
       "      <td>0.47</td>\n",
       "      <td>0.12</td>\n",
       "      <td>4</td>\n",
       "      <td>0.15</td>\n",
       "      <td>2.47</td>\n",
       "      <td>- - -</td>\n",
       "    </tr>\n",
       "    <tr>\n",
       "      <th>5</th>\n",
       "      <td>Albert Sambi Lokonga</td>\n",
       "      <td>DM, M (C)</td>\n",
       "      <td>24</td>\n",
       "      <td>183 cm</td>\n",
       "      <td>74 kg</td>\n",
       "      <td>Int</td>\n",
       "      <td>Arsenal</td>\n",
       "      <td>Premier League</td>\n",
       "      <td>BEL</td>\n",
       "      <td>COD</td>\n",
       "      <td>-</td>\n",
       "      <td>Fairly Determined</td>\n",
       "      <td>Level-headed</td>\n",
       "      <td>£50,000 p/w</td>\n",
       "      <td>£30M</td>\n",
       "      <td>£30M</td>\n",
       "      <td>Right</td>\n",
       "      <td>-</td>\n",
       "      <td>-</td>\n",
       "      <td>-</td>\n",
       "      <td>-</td>\n",
       "      <td>-</td>\n",
       "      <td>-</td>\n",
       "      <td>-</td>\n",
       "      <td>-</td>\n",
       "      <td>-</td>\n",
       "      <td>-</td>\n",
       "      <td>-</td>\n",
       "      <td>-</td>\n",
       "      <td>-</td>\n",
       "      <td>-</td>\n",
       "      <td>-</td>\n",
       "      <td>-</td>\n",
       "      <td>-</td>\n",
       "      <td>-</td>\n",
       "      <td>-</td>\n",
       "      <td>-</td>\n",
       "      <td>-</td>\n",
       "      <td>-</td>\n",
       "      <td>-</td>\n",
       "      <td>-</td>\n",
       "      <td>-</td>\n",
       "      <td>-</td>\n",
       "      <td>-</td>\n",
       "      <td>-</td>\n",
       "      <td>-</td>\n",
       "      <td>-</td>\n",
       "      <td>-</td>\n",
       "      <td>-</td>\n",
       "      <td>-</td>\n",
       "      <td>-</td>\n",
       "      <td>-</td>\n",
       "      <td>-</td>\n",
       "      <td>-</td>\n",
       "      <td>-</td>\n",
       "      <td>-</td>\n",
       "      <td>-</td>\n",
       "      <td>-</td>\n",
       "      <td>-</td>\n",
       "      <td>-</td>\n",
       "      <td>-</td>\n",
       "      <td>-</td>\n",
       "      <td>-</td>\n",
       "      <td>-</td>\n",
       "      <td>-</td>\n",
       "      <td>-</td>\n",
       "      <td>-</td>\n",
       "      <td>-</td>\n",
       "      <td>-</td>\n",
       "      <td>-</td>\n",
       "      <td>-</td>\n",
       "      <td>-</td>\n",
       "      <td>-</td>\n",
       "      <td>-</td>\n",
       "      <td>-</td>\n",
       "      <td>-</td>\n",
       "      <td>-</td>\n",
       "      <td>-</td>\n",
       "      <td>-</td>\n",
       "      <td>-</td>\n",
       "      <td>-</td>\n",
       "      <td>-</td>\n",
       "      <td>-</td>\n",
       "      <td>-</td>\n",
       "      <td>-</td>\n",
       "      <td>-</td>\n",
       "      <td>-</td>\n",
       "      <td>-</td>\n",
       "      <td>-</td>\n",
       "      <td>-</td>\n",
       "      <td>-</td>\n",
       "      <td>-</td>\n",
       "      <td>-</td>\n",
       "      <td>-</td>\n",
       "      <td>-</td>\n",
       "      <td>-</td>\n",
       "      <td>-</td>\n",
       "      <td>-</td>\n",
       "      <td>-</td>\n",
       "      <td>-</td>\n",
       "      <td>-</td>\n",
       "      <td>-</td>\n",
       "      <td>-</td>\n",
       "      <td>-</td>\n",
       "      <td>-</td>\n",
       "      <td>-</td>\n",
       "      <td>-</td>\n",
       "      <td>-</td>\n",
       "      <td>-</td>\n",
       "      <td>-</td>\n",
       "      <td>-</td>\n",
       "      <td>-</td>\n",
       "      <td>-</td>\n",
       "      <td>-</td>\n",
       "      <td>-</td>\n",
       "      <td>-</td>\n",
       "      <td>-</td>\n",
       "      <td>- - -</td>\n",
       "    </tr>\n",
       "    <tr>\n",
       "      <th>6</th>\n",
       "      <td>Jesús Castillo</td>\n",
       "      <td>DM, M (C)</td>\n",
       "      <td>22</td>\n",
       "      <td>185 cm</td>\n",
       "      <td>80 kg</td>\n",
       "      <td>NaN</td>\n",
       "      <td>Gil Vicente</td>\n",
       "      <td>Liga Portugal Betclic</td>\n",
       "      <td>PER</td>\n",
       "      <td>NaN</td>\n",
       "      <td>-</td>\n",
       "      <td>Balanced</td>\n",
       "      <td>Media-friendly</td>\n",
       "      <td>£1,800 p/w</td>\n",
       "      <td>£140K - £1.4M</td>\n",
       "      <td>-</td>\n",
       "      <td>Right Only</td>\n",
       "      <td>4</td>\n",
       "      <td>5.23</td>\n",
       "      <td>30</td>\n",
       "      <td>0</td>\n",
       "      <td>0</td>\n",
       "      <td>67%</td>\n",
       "      <td>2</td>\n",
       "      <td>-</td>\n",
       "      <td>-</td>\n",
       "      <td>-</td>\n",
       "      <td>3</td>\n",
       "      <td>2512</td>\n",
       "      <td>0.14</td>\n",
       "      <td>-</td>\n",
       "      <td>-</td>\n",
       "      <td>4</td>\n",
       "      <td>28</td>\n",
       "      <td>14</td>\n",
       "      <td>0.19</td>\n",
       "      <td>-1.23</td>\n",
       "      <td>0.11</td>\n",
       "      <td>3.10</td>\n",
       "      <td>-</td>\n",
       "      <td>6.96</td>\n",
       "      <td>628.00</td>\n",
       "      <td>3</td>\n",
       "      <td>30 (4)</td>\n",
       "      <td>128</td>\n",
       "      <td>1.93</td>\n",
       "      <td>54</td>\n",
       "      <td>78</td>\n",
       "      <td>69%</td>\n",
       "      <td>1.07</td>\n",
       "      <td>33%</td>\n",
       "      <td>0.36</td>\n",
       "      <td>10</td>\n",
       "      <td>0.47</td>\n",
       "      <td>0.36</td>\n",
       "      <td>10</td>\n",
       "      <td>30</td>\n",
       "      <td>-</td>\n",
       "      <td>-</td>\n",
       "      <td>-</td>\n",
       "      <td>-</td>\n",
       "      <td>5.52</td>\n",
       "      <td>154</td>\n",
       "      <td>2.94</td>\n",
       "      <td>82</td>\n",
       "      <td>10.03</td>\n",
       "      <td>280</td>\n",
       "      <td>9.92</td>\n",
       "      <td>7.24</td>\n",
       "      <td>48.91</td>\n",
       "      <td>1365</td>\n",
       "      <td>54.32</td>\n",
       "      <td>1516</td>\n",
       "      <td>90%</td>\n",
       "      <td>1.11</td>\n",
       "      <td>31</td>\n",
       "      <td>0.18</td>\n",
       "      <td>5</td>\n",
       "      <td>0.54</td>\n",
       "      <td>15</td>\n",
       "      <td>27%</td>\n",
       "      <td>0</td>\n",
       "      <td>1</td>\n",
       "      <td>0.04</td>\n",
       "      <td>1</td>\n",
       "      <td>1.15</td>\n",
       "      <td>32</td>\n",
       "      <td>0.75</td>\n",
       "      <td>2.11</td>\n",
       "      <td>59</td>\n",
       "      <td>11.21</td>\n",
       "      <td>56%</td>\n",
       "      <td>2.58</td>\n",
       "      <td>72</td>\n",
       "      <td>2.01</td>\n",
       "      <td>1</td>\n",
       "      <td>-</td>\n",
       "      <td>-</td>\n",
       "      <td>-</td>\n",
       "      <td>1.36</td>\n",
       "      <td>38</td>\n",
       "      <td>13.4km</td>\n",
       "      <td>374.0km</td>\n",
       "      <td>0.21</td>\n",
       "      <td>6</td>\n",
       "      <td>0.79</td>\n",
       "      <td>22</td>\n",
       "      <td>33%</td>\n",
       "      <td>13%</td>\n",
       "      <td>1.11</td>\n",
       "      <td>31</td>\n",
       "      <td>8</td>\n",
       "      <td>0.29</td>\n",
       "      <td>0.57</td>\n",
       "      <td>16</td>\n",
       "      <td>0.11</td>\n",
       "      <td>4.59</td>\n",
       "      <td>- - -</td>\n",
       "    </tr>\n",
       "    <tr>\n",
       "      <th>7</th>\n",
       "      <td>Ignacio Miramón</td>\n",
       "      <td>DM, M (C)</td>\n",
       "      <td>20</td>\n",
       "      <td>173 cm</td>\n",
       "      <td>72 kg</td>\n",
       "      <td>NaN</td>\n",
       "      <td>Lille</td>\n",
       "      <td>Ligue 1 Uber Eats</td>\n",
       "      <td>ARG</td>\n",
       "      <td>ITA</td>\n",
       "      <td>-</td>\n",
       "      <td>Fairly Professional</td>\n",
       "      <td>Level-headed</td>\n",
       "      <td>£10,000 p/w</td>\n",
       "      <td>£16.5M - £20M</td>\n",
       "      <td>-</td>\n",
       "      <td>Right</td>\n",
       "      <td>6</td>\n",
       "      <td>1.28</td>\n",
       "      <td>22</td>\n",
       "      <td>0</td>\n",
       "      <td>0</td>\n",
       "      <td>-</td>\n",
       "      <td>0</td>\n",
       "      <td>-</td>\n",
       "      <td>-</td>\n",
       "      <td>-</td>\n",
       "      <td>0</td>\n",
       "      <td>2144</td>\n",
       "      <td>-</td>\n",
       "      <td>-</td>\n",
       "      <td>-</td>\n",
       "      <td>0</td>\n",
       "      <td>45</td>\n",
       "      <td>13</td>\n",
       "      <td>0.05</td>\n",
       "      <td>-1.28</td>\n",
       "      <td>0.13</td>\n",
       "      <td>3.06</td>\n",
       "      <td>-</td>\n",
       "      <td>6.80</td>\n",
       "      <td>-</td>\n",
       "      <td>0</td>\n",
       "      <td>22 (17)</td>\n",
       "      <td>61</td>\n",
       "      <td>2.27</td>\n",
       "      <td>54</td>\n",
       "      <td>78</td>\n",
       "      <td>69%</td>\n",
       "      <td>0.80</td>\n",
       "      <td>11%</td>\n",
       "      <td>0.08</td>\n",
       "      <td>2</td>\n",
       "      <td>0.50</td>\n",
       "      <td>0.17</td>\n",
       "      <td>4</td>\n",
       "      <td>19</td>\n",
       "      <td>-</td>\n",
       "      <td>-</td>\n",
       "      <td>-</td>\n",
       "      <td>-</td>\n",
       "      <td>6.21</td>\n",
       "      <td>148</td>\n",
       "      <td>3.23</td>\n",
       "      <td>77</td>\n",
       "      <td>10.66</td>\n",
       "      <td>254</td>\n",
       "      <td>8.27</td>\n",
       "      <td>8.23</td>\n",
       "      <td>65.95</td>\n",
       "      <td>1571</td>\n",
       "      <td>71.82</td>\n",
       "      <td>1711</td>\n",
       "      <td>92%</td>\n",
       "      <td>1.01</td>\n",
       "      <td>24</td>\n",
       "      <td>0.08</td>\n",
       "      <td>2</td>\n",
       "      <td>0.63</td>\n",
       "      <td>15</td>\n",
       "      <td>13%</td>\n",
       "      <td>2</td>\n",
       "      <td>0</td>\n",
       "      <td>0.04</td>\n",
       "      <td>1</td>\n",
       "      <td>1.01</td>\n",
       "      <td>24</td>\n",
       "      <td>0.08</td>\n",
       "      <td>1.97</td>\n",
       "      <td>47</td>\n",
       "      <td>13.60</td>\n",
       "      <td>43%</td>\n",
       "      <td>1.09</td>\n",
       "      <td>26</td>\n",
       "      <td>1.47</td>\n",
       "      <td>0</td>\n",
       "      <td>-</td>\n",
       "      <td>-</td>\n",
       "      <td>-</td>\n",
       "      <td>0.97</td>\n",
       "      <td>23</td>\n",
       "      <td>14.2km</td>\n",
       "      <td>337.1km</td>\n",
       "      <td>0.08</td>\n",
       "      <td>2</td>\n",
       "      <td>0.63</td>\n",
       "      <td>15</td>\n",
       "      <td>13%</td>\n",
       "      <td>-</td>\n",
       "      <td>0.55</td>\n",
       "      <td>13</td>\n",
       "      <td>9</td>\n",
       "      <td>0.38</td>\n",
       "      <td>0.46</td>\n",
       "      <td>11</td>\n",
       "      <td>-</td>\n",
       "      <td>2.56</td>\n",
       "      <td>- - -</td>\n",
       "    </tr>\n",
       "    <tr>\n",
       "      <th>8</th>\n",
       "      <td>William Clem</td>\n",
       "      <td>DM, M (C)</td>\n",
       "      <td>19</td>\n",
       "      <td>186 cm</td>\n",
       "      <td>71 kg</td>\n",
       "      <td>Wnt</td>\n",
       "      <td>FC København</td>\n",
       "      <td>3F Superliga</td>\n",
       "      <td>DEN</td>\n",
       "      <td>NOR</td>\n",
       "      <td>-</td>\n",
       "      <td>Fairly Professional</td>\n",
       "      <td>Reserved</td>\n",
       "      <td>£5,750 p/w</td>\n",
       "      <td>£7.6M - £11M</td>\n",
       "      <td>-</td>\n",
       "      <td>Right</td>\n",
       "      <td>3</td>\n",
       "      <td>3.77</td>\n",
       "      <td>31</td>\n",
       "      <td>0</td>\n",
       "      <td>1</td>\n",
       "      <td>-</td>\n",
       "      <td>0</td>\n",
       "      <td>-</td>\n",
       "      <td>-</td>\n",
       "      <td>-</td>\n",
       "      <td>0</td>\n",
       "      <td>2672</td>\n",
       "      <td>0.13</td>\n",
       "      <td>-</td>\n",
       "      <td>-</td>\n",
       "      <td>4</td>\n",
       "      <td>29</td>\n",
       "      <td>19</td>\n",
       "      <td>0.13</td>\n",
       "      <td>0.23</td>\n",
       "      <td>0.13</td>\n",
       "      <td>3.74</td>\n",
       "      <td>-</td>\n",
       "      <td>7.06</td>\n",
       "      <td>668.00</td>\n",
       "      <td>3</td>\n",
       "      <td>31 (9)</td>\n",
       "      <td>137</td>\n",
       "      <td>1.52</td>\n",
       "      <td>45</td>\n",
       "      <td>63</td>\n",
       "      <td>71%</td>\n",
       "      <td>0.94</td>\n",
       "      <td>54%</td>\n",
       "      <td>0.51</td>\n",
       "      <td>15</td>\n",
       "      <td>0.30</td>\n",
       "      <td>0.37</td>\n",
       "      <td>11</td>\n",
       "      <td>28</td>\n",
       "      <td>-</td>\n",
       "      <td>-</td>\n",
       "      <td>-</td>\n",
       "      <td>-</td>\n",
       "      <td>7.65</td>\n",
       "      <td>227</td>\n",
       "      <td>2.96</td>\n",
       "      <td>88</td>\n",
       "      <td>8.79</td>\n",
       "      <td>261</td>\n",
       "      <td>9.06</td>\n",
       "      <td>7.78</td>\n",
       "      <td>59.01</td>\n",
       "      <td>1752</td>\n",
       "      <td>65.78</td>\n",
       "      <td>1953</td>\n",
       "      <td>90%</td>\n",
       "      <td>1.52</td>\n",
       "      <td>45</td>\n",
       "      <td>0.00</td>\n",
       "      <td>0</td>\n",
       "      <td>0.17</td>\n",
       "      <td>5</td>\n",
       "      <td>0%</td>\n",
       "      <td>1</td>\n",
       "      <td>0</td>\n",
       "      <td>0.03</td>\n",
       "      <td>1</td>\n",
       "      <td>1.52</td>\n",
       "      <td>45</td>\n",
       "      <td>0.44</td>\n",
       "      <td>1.48</td>\n",
       "      <td>44</td>\n",
       "      <td>8.69</td>\n",
       "      <td>75%</td>\n",
       "      <td>3.47</td>\n",
       "      <td>103</td>\n",
       "      <td>1.15</td>\n",
       "      <td>1</td>\n",
       "      <td>-</td>\n",
       "      <td>-</td>\n",
       "      <td>-</td>\n",
       "      <td>0.37</td>\n",
       "      <td>11</td>\n",
       "      <td>12.9km</td>\n",
       "      <td>382.3km</td>\n",
       "      <td>0.00</td>\n",
       "      <td>0</td>\n",
       "      <td>0.17</td>\n",
       "      <td>5</td>\n",
       "      <td>-</td>\n",
       "      <td>14%</td>\n",
       "      <td>0.51</td>\n",
       "      <td>15</td>\n",
       "      <td>9</td>\n",
       "      <td>0.30</td>\n",
       "      <td>0.44</td>\n",
       "      <td>13</td>\n",
       "      <td>0.10</td>\n",
       "      <td>4.61</td>\n",
       "      <td>- - -</td>\n",
       "    </tr>\n",
       "    <tr>\n",
       "      <th>9</th>\n",
       "      <td>Flynn Downes</td>\n",
       "      <td>DM, M (C)</td>\n",
       "      <td>25</td>\n",
       "      <td>182 cm</td>\n",
       "      <td>79 kg</td>\n",
       "      <td>Wnt</td>\n",
       "      <td>West Ham</td>\n",
       "      <td>Premier League</td>\n",
       "      <td>ENG</td>\n",
       "      <td>NaN</td>\n",
       "      <td>Trained in nation (15-21)</td>\n",
       "      <td>Perfectionist</td>\n",
       "      <td>Media-friendly</td>\n",
       "      <td>£30,000 p/w</td>\n",
       "      <td>£8.8M</td>\n",
       "      <td>£8.75M</td>\n",
       "      <td>Right Only</td>\n",
       "      <td>-</td>\n",
       "      <td>-</td>\n",
       "      <td>-</td>\n",
       "      <td>-</td>\n",
       "      <td>-</td>\n",
       "      <td>-</td>\n",
       "      <td>-</td>\n",
       "      <td>-</td>\n",
       "      <td>-</td>\n",
       "      <td>-</td>\n",
       "      <td>-</td>\n",
       "      <td>-</td>\n",
       "      <td>-</td>\n",
       "      <td>-</td>\n",
       "      <td>-</td>\n",
       "      <td>-</td>\n",
       "      <td>-</td>\n",
       "      <td>-</td>\n",
       "      <td>-</td>\n",
       "      <td>-</td>\n",
       "      <td>-</td>\n",
       "      <td>-</td>\n",
       "      <td>-</td>\n",
       "      <td>-</td>\n",
       "      <td>-</td>\n",
       "      <td>-</td>\n",
       "      <td>-</td>\n",
       "      <td>-</td>\n",
       "      <td>-</td>\n",
       "      <td>-</td>\n",
       "      <td>-</td>\n",
       "      <td>-</td>\n",
       "      <td>-</td>\n",
       "      <td>-</td>\n",
       "      <td>-</td>\n",
       "      <td>-</td>\n",
       "      <td>-</td>\n",
       "      <td>-</td>\n",
       "      <td>-</td>\n",
       "      <td>-</td>\n",
       "      <td>-</td>\n",
       "      <td>-</td>\n",
       "      <td>-</td>\n",
       "      <td>-</td>\n",
       "      <td>-</td>\n",
       "      <td>-</td>\n",
       "      <td>-</td>\n",
       "      <td>-</td>\n",
       "      <td>-</td>\n",
       "      <td>-</td>\n",
       "      <td>-</td>\n",
       "      <td>-</td>\n",
       "      <td>-</td>\n",
       "      <td>-</td>\n",
       "      <td>-</td>\n",
       "      <td>-</td>\n",
       "      <td>-</td>\n",
       "      <td>-</td>\n",
       "      <td>-</td>\n",
       "      <td>-</td>\n",
       "      <td>-</td>\n",
       "      <td>-</td>\n",
       "      <td>-</td>\n",
       "      <td>-</td>\n",
       "      <td>-</td>\n",
       "      <td>-</td>\n",
       "      <td>-</td>\n",
       "      <td>-</td>\n",
       "      <td>-</td>\n",
       "      <td>-</td>\n",
       "      <td>-</td>\n",
       "      <td>-</td>\n",
       "      <td>-</td>\n",
       "      <td>-</td>\n",
       "      <td>-</td>\n",
       "      <td>-</td>\n",
       "      <td>-</td>\n",
       "      <td>-</td>\n",
       "      <td>-</td>\n",
       "      <td>-</td>\n",
       "      <td>-</td>\n",
       "      <td>-</td>\n",
       "      <td>-</td>\n",
       "      <td>-</td>\n",
       "      <td>-</td>\n",
       "      <td>-</td>\n",
       "      <td>-</td>\n",
       "      <td>-</td>\n",
       "      <td>-</td>\n",
       "      <td>-</td>\n",
       "      <td>-</td>\n",
       "      <td>-</td>\n",
       "      <td>-</td>\n",
       "      <td>-</td>\n",
       "      <td>-</td>\n",
       "      <td>-</td>\n",
       "      <td>-</td>\n",
       "      <td>-</td>\n",
       "      <td>-</td>\n",
       "      <td>-</td>\n",
       "      <td>- - -</td>\n",
       "    </tr>\n",
       "    <tr>\n",
       "      <th>10</th>\n",
       "      <td>Salis Abdul Samed</td>\n",
       "      <td>DM, M (C)</td>\n",
       "      <td>24</td>\n",
       "      <td>179 cm</td>\n",
       "      <td>69 kg</td>\n",
       "      <td>Int</td>\n",
       "      <td>Lens</td>\n",
       "      <td>Ligue 1 Uber Eats</td>\n",
       "      <td>GHA</td>\n",
       "      <td>NaN</td>\n",
       "      <td>-</td>\n",
       "      <td>Fairly Determined</td>\n",
       "      <td>Media-friendly</td>\n",
       "      <td>£16,000 p/w</td>\n",
       "      <td>£8.2M - £10M</td>\n",
       "      <td>-</td>\n",
       "      <td>Right</td>\n",
       "      <td>6</td>\n",
       "      <td>0.87</td>\n",
       "      <td>20</td>\n",
       "      <td>0</td>\n",
       "      <td>0</td>\n",
       "      <td>-</td>\n",
       "      <td>0</td>\n",
       "      <td>-</td>\n",
       "      <td>-</td>\n",
       "      <td>-</td>\n",
       "      <td>0</td>\n",
       "      <td>1594</td>\n",
       "      <td>0.06</td>\n",
       "      <td>-</td>\n",
       "      <td>-</td>\n",
       "      <td>1</td>\n",
       "      <td>35</td>\n",
       "      <td>12</td>\n",
       "      <td>0.05</td>\n",
       "      <td>0.13</td>\n",
       "      <td>0.07</td>\n",
       "      <td>1.20</td>\n",
       "      <td>-</td>\n",
       "      <td>6.92</td>\n",
       "      <td>1594.00</td>\n",
       "      <td>1</td>\n",
       "      <td>20 (1)</td>\n",
       "      <td>74</td>\n",
       "      <td>2.99</td>\n",
       "      <td>53</td>\n",
       "      <td>67</td>\n",
       "      <td>79%</td>\n",
       "      <td>0.73</td>\n",
       "      <td>38%</td>\n",
       "      <td>0.28</td>\n",
       "      <td>5</td>\n",
       "      <td>0.51</td>\n",
       "      <td>0.06</td>\n",
       "      <td>1</td>\n",
       "      <td>13</td>\n",
       "      <td>-</td>\n",
       "      <td>-</td>\n",
       "      <td>-</td>\n",
       "      <td>-</td>\n",
       "      <td>5.59</td>\n",
       "      <td>99</td>\n",
       "      <td>3.95</td>\n",
       "      <td>70</td>\n",
       "      <td>12.76</td>\n",
       "      <td>226</td>\n",
       "      <td>10.39</td>\n",
       "      <td>8.92</td>\n",
       "      <td>62.11</td>\n",
       "      <td>1100</td>\n",
       "      <td>69.56</td>\n",
       "      <td>1232</td>\n",
       "      <td>89%</td>\n",
       "      <td>0.73</td>\n",
       "      <td>13</td>\n",
       "      <td>0.17</td>\n",
       "      <td>3</td>\n",
       "      <td>0.23</td>\n",
       "      <td>4</td>\n",
       "      <td>75%</td>\n",
       "      <td>0</td>\n",
       "      <td>1</td>\n",
       "      <td>0.00</td>\n",
       "      <td>0</td>\n",
       "      <td>0.73</td>\n",
       "      <td>13</td>\n",
       "      <td>0.23</td>\n",
       "      <td>1.75</td>\n",
       "      <td>31</td>\n",
       "      <td>9.32</td>\n",
       "      <td>57%</td>\n",
       "      <td>2.37</td>\n",
       "      <td>42</td>\n",
       "      <td>1.81</td>\n",
       "      <td>1</td>\n",
       "      <td>-</td>\n",
       "      <td>-</td>\n",
       "      <td>-</td>\n",
       "      <td>0.73</td>\n",
       "      <td>13</td>\n",
       "      <td>13.8km</td>\n",
       "      <td>244.3km</td>\n",
       "      <td>0.17</td>\n",
       "      <td>3</td>\n",
       "      <td>0.23</td>\n",
       "      <td>4</td>\n",
       "      <td>75%</td>\n",
       "      <td>8%</td>\n",
       "      <td>0.73</td>\n",
       "      <td>13</td>\n",
       "      <td>5</td>\n",
       "      <td>0.28</td>\n",
       "      <td>0.17</td>\n",
       "      <td>3</td>\n",
       "      <td>0.06</td>\n",
       "      <td>4.18</td>\n",
       "      <td>- - -</td>\n",
       "    </tr>\n",
       "    <tr>\n",
       "      <th>11</th>\n",
       "      <td>Michel Ndary Adopo</td>\n",
       "      <td>DM, M (C)</td>\n",
       "      <td>23</td>\n",
       "      <td>187 cm</td>\n",
       "      <td>80 kg</td>\n",
       "      <td>Wnt</td>\n",
       "      <td>Atalanta</td>\n",
       "      <td>Serie A TIM</td>\n",
       "      <td>FRA</td>\n",
       "      <td>NaN</td>\n",
       "      <td>-</td>\n",
       "      <td>Resolute</td>\n",
       "      <td>Level-headed</td>\n",
       "      <td>£10,750 p/w</td>\n",
       "      <td>£400K - £3M</td>\n",
       "      <td>-</td>\n",
       "      <td>Right</td>\n",
       "      <td>4</td>\n",
       "      <td>1.36</td>\n",
       "      <td>14</td>\n",
       "      <td>0</td>\n",
       "      <td>2</td>\n",
       "      <td>-</td>\n",
       "      <td>0</td>\n",
       "      <td>-</td>\n",
       "      <td>-</td>\n",
       "      <td>-</td>\n",
       "      <td>0</td>\n",
       "      <td>1843</td>\n",
       "      <td>0.10</td>\n",
       "      <td>-</td>\n",
       "      <td>-</td>\n",
       "      <td>2</td>\n",
       "      <td>31</td>\n",
       "      <td>14</td>\n",
       "      <td>0.07</td>\n",
       "      <td>0.64</td>\n",
       "      <td>0.06</td>\n",
       "      <td>1.23</td>\n",
       "      <td>-</td>\n",
       "      <td>7.00</td>\n",
       "      <td>921.50</td>\n",
       "      <td>3</td>\n",
       "      <td>14 (22)</td>\n",
       "      <td>61</td>\n",
       "      <td>2.78</td>\n",
       "      <td>57</td>\n",
       "      <td>78</td>\n",
       "      <td>73%</td>\n",
       "      <td>0.88</td>\n",
       "      <td>39%</td>\n",
       "      <td>0.34</td>\n",
       "      <td>7</td>\n",
       "      <td>0.54</td>\n",
       "      <td>0.24</td>\n",
       "      <td>5</td>\n",
       "      <td>18</td>\n",
       "      <td>-</td>\n",
       "      <td>-</td>\n",
       "      <td>-</td>\n",
       "      <td>-</td>\n",
       "      <td>6.10</td>\n",
       "      <td>125</td>\n",
       "      <td>3.76</td>\n",
       "      <td>77</td>\n",
       "      <td>11.96</td>\n",
       "      <td>245</td>\n",
       "      <td>10.45</td>\n",
       "      <td>8.30</td>\n",
       "      <td>56.94</td>\n",
       "      <td>1166</td>\n",
       "      <td>62.90</td>\n",
       "      <td>1288</td>\n",
       "      <td>91%</td>\n",
       "      <td>0.73</td>\n",
       "      <td>15</td>\n",
       "      <td>0.05</td>\n",
       "      <td>1</td>\n",
       "      <td>0.15</td>\n",
       "      <td>3</td>\n",
       "      <td>25%</td>\n",
       "      <td>0</td>\n",
       "      <td>0</td>\n",
       "      <td>0.10</td>\n",
       "      <td>2</td>\n",
       "      <td>0.78</td>\n",
       "      <td>16</td>\n",
       "      <td>0.05</td>\n",
       "      <td>2.44</td>\n",
       "      <td>50</td>\n",
       "      <td>12.16</td>\n",
       "      <td>54%</td>\n",
       "      <td>1.61</td>\n",
       "      <td>33</td>\n",
       "      <td>1.37</td>\n",
       "      <td>1</td>\n",
       "      <td>-</td>\n",
       "      <td>-</td>\n",
       "      <td>-</td>\n",
       "      <td>1.07</td>\n",
       "      <td>22</td>\n",
       "      <td>14.0km</td>\n",
       "      <td>287.4km</td>\n",
       "      <td>0.05</td>\n",
       "      <td>1</td>\n",
       "      <td>0.20</td>\n",
       "      <td>4</td>\n",
       "      <td>33%</td>\n",
       "      <td>11%</td>\n",
       "      <td>1.12</td>\n",
       "      <td>23</td>\n",
       "      <td>4</td>\n",
       "      <td>0.20</td>\n",
       "      <td>0.59</td>\n",
       "      <td>12</td>\n",
       "      <td>0.15</td>\n",
       "      <td>2.98</td>\n",
       "      <td>- - -</td>\n",
       "    </tr>\n",
       "    <tr>\n",
       "      <th>12</th>\n",
       "      <td>Adam Wharton</td>\n",
       "      <td>DM, M (C)</td>\n",
       "      <td>20</td>\n",
       "      <td>183 cm</td>\n",
       "      <td>76 kg</td>\n",
       "      <td>Wnt</td>\n",
       "      <td>Crystal Palace</td>\n",
       "      <td>Premier League</td>\n",
       "      <td>ENG</td>\n",
       "      <td>NaN</td>\n",
       "      <td>Trained in nation (15-21)</td>\n",
       "      <td>Fairly Professional</td>\n",
       "      <td>Reserved</td>\n",
       "      <td>£45,000 p/w</td>\n",
       "      <td>£5.4M - £7.6M</td>\n",
       "      <td>-</td>\n",
       "      <td>Left</td>\n",
       "      <td>0</td>\n",
       "      <td>0.75</td>\n",
       "      <td>7</td>\n",
       "      <td>0</td>\n",
       "      <td>0</td>\n",
       "      <td>-</td>\n",
       "      <td>0</td>\n",
       "      <td>-</td>\n",
       "      <td>-</td>\n",
       "      <td>-</td>\n",
       "      <td>0</td>\n",
       "      <td>1000</td>\n",
       "      <td>-</td>\n",
       "      <td>-</td>\n",
       "      <td>-</td>\n",
       "      <td>0</td>\n",
       "      <td>13</td>\n",
       "      <td>6</td>\n",
       "      <td>0.07</td>\n",
       "      <td>-0.75</td>\n",
       "      <td>0.15</td>\n",
       "      <td>1.70</td>\n",
       "      <td>-</td>\n",
       "      <td>6.90</td>\n",
       "      <td>-</td>\n",
       "      <td>0</td>\n",
       "      <td>7 (18)</td>\n",
       "      <td>48</td>\n",
       "      <td>2.97</td>\n",
       "      <td>33</td>\n",
       "      <td>40</td>\n",
       "      <td>83%</td>\n",
       "      <td>1.35</td>\n",
       "      <td>40%</td>\n",
       "      <td>0.54</td>\n",
       "      <td>6</td>\n",
       "      <td>0.99</td>\n",
       "      <td>0.18</td>\n",
       "      <td>2</td>\n",
       "      <td>15</td>\n",
       "      <td>-</td>\n",
       "      <td>-</td>\n",
       "      <td>-</td>\n",
       "      <td>-</td>\n",
       "      <td>7.29</td>\n",
       "      <td>81</td>\n",
       "      <td>2.97</td>\n",
       "      <td>33</td>\n",
       "      <td>11.34</td>\n",
       "      <td>126</td>\n",
       "      <td>11.25</td>\n",
       "      <td>9.45</td>\n",
       "      <td>51.66</td>\n",
       "      <td>574</td>\n",
       "      <td>59.13</td>\n",
       "      <td>657</td>\n",
       "      <td>87%</td>\n",
       "      <td>2.07</td>\n",
       "      <td>23</td>\n",
       "      <td>0.27</td>\n",
       "      <td>3</td>\n",
       "      <td>0.81</td>\n",
       "      <td>9</td>\n",
       "      <td>21%</td>\n",
       "      <td>2</td>\n",
       "      <td>0</td>\n",
       "      <td>0.09</td>\n",
       "      <td>1</td>\n",
       "      <td>2.25</td>\n",
       "      <td>25</td>\n",
       "      <td>0.00</td>\n",
       "      <td>2.97</td>\n",
       "      <td>33</td>\n",
       "      <td>15.03</td>\n",
       "      <td>54%</td>\n",
       "      <td>2.34</td>\n",
       "      <td>26</td>\n",
       "      <td>1.98</td>\n",
       "      <td>0</td>\n",
       "      <td>-</td>\n",
       "      <td>-</td>\n",
       "      <td>-</td>\n",
       "      <td>1.08</td>\n",
       "      <td>12</td>\n",
       "      <td>14.8km</td>\n",
       "      <td>164.4km</td>\n",
       "      <td>0.63</td>\n",
       "      <td>7</td>\n",
       "      <td>2.97</td>\n",
       "      <td>33</td>\n",
       "      <td>33%</td>\n",
       "      <td>-</td>\n",
       "      <td>0.54</td>\n",
       "      <td>6</td>\n",
       "      <td>3</td>\n",
       "      <td>0.27</td>\n",
       "      <td>0.54</td>\n",
       "      <td>6</td>\n",
       "      <td>-</td>\n",
       "      <td>4.32</td>\n",
       "      <td>- - -</td>\n",
       "    </tr>\n",
       "    <tr>\n",
       "      <th>13</th>\n",
       "      <td>Mateo Seoane</td>\n",
       "      <td>DM, M (C)</td>\n",
       "      <td>20</td>\n",
       "      <td>178 cm</td>\n",
       "      <td>68 kg</td>\n",
       "      <td>NaN</td>\n",
       "      <td>Talleres</td>\n",
       "      <td>Liga Profesional de Fútbol</td>\n",
       "      <td>ARG</td>\n",
       "      <td>NaN</td>\n",
       "      <td>-</td>\n",
       "      <td>Balanced</td>\n",
       "      <td>Level-headed</td>\n",
       "      <td>£1,500 p/w</td>\n",
       "      <td>£40K - £4.8M</td>\n",
       "      <td>-</td>\n",
       "      <td>Right</td>\n",
       "      <td>2</td>\n",
       "      <td>6.22</td>\n",
       "      <td>24</td>\n",
       "      <td>1</td>\n",
       "      <td>2</td>\n",
       "      <td>-</td>\n",
       "      <td>0</td>\n",
       "      <td>-</td>\n",
       "      <td>-</td>\n",
       "      <td>-</td>\n",
       "      <td>0</td>\n",
       "      <td>1813</td>\n",
       "      <td>0.25</td>\n",
       "      <td>-</td>\n",
       "      <td>-</td>\n",
       "      <td>5</td>\n",
       "      <td>22</td>\n",
       "      <td>12</td>\n",
       "      <td>0.31</td>\n",
       "      <td>-1.22</td>\n",
       "      <td>0.25</td>\n",
       "      <td>4.94</td>\n",
       "      <td>-</td>\n",
       "      <td>7.12</td>\n",
       "      <td>362.60</td>\n",
       "      <td>5</td>\n",
       "      <td>24 (2)</td>\n",
       "      <td>84</td>\n",
       "      <td>2.18</td>\n",
       "      <td>44</td>\n",
       "      <td>60</td>\n",
       "      <td>73%</td>\n",
       "      <td>2.08</td>\n",
       "      <td>40%</td>\n",
       "      <td>0.84</td>\n",
       "      <td>17</td>\n",
       "      <td>1.14</td>\n",
       "      <td>0.15</td>\n",
       "      <td>3</td>\n",
       "      <td>42</td>\n",
       "      <td>-</td>\n",
       "      <td>-</td>\n",
       "      <td>-</td>\n",
       "      <td>-</td>\n",
       "      <td>5.26</td>\n",
       "      <td>106</td>\n",
       "      <td>3.33</td>\n",
       "      <td>67</td>\n",
       "      <td>10.47</td>\n",
       "      <td>211</td>\n",
       "      <td>9.93</td>\n",
       "      <td>7.40</td>\n",
       "      <td>45.72</td>\n",
       "      <td>921</td>\n",
       "      <td>51.13</td>\n",
       "      <td>1030</td>\n",
       "      <td>89%</td>\n",
       "      <td>1.64</td>\n",
       "      <td>33</td>\n",
       "      <td>0.20</td>\n",
       "      <td>4</td>\n",
       "      <td>0.89</td>\n",
       "      <td>18</td>\n",
       "      <td>22%</td>\n",
       "      <td>2</td>\n",
       "      <td>0</td>\n",
       "      <td>0.10</td>\n",
       "      <td>2</td>\n",
       "      <td>1.64</td>\n",
       "      <td>33</td>\n",
       "      <td>0.20</td>\n",
       "      <td>2.53</td>\n",
       "      <td>51</td>\n",
       "      <td>18.22</td>\n",
       "      <td>46%</td>\n",
       "      <td>1.94</td>\n",
       "      <td>39</td>\n",
       "      <td>2.23</td>\n",
       "      <td>0</td>\n",
       "      <td>-</td>\n",
       "      <td>-</td>\n",
       "      <td>-</td>\n",
       "      <td>1.54</td>\n",
       "      <td>31</td>\n",
       "      <td>14.1km</td>\n",
       "      <td>284.9km</td>\n",
       "      <td>0.20</td>\n",
       "      <td>4</td>\n",
       "      <td>0.89</td>\n",
       "      <td>18</td>\n",
       "      <td>22%</td>\n",
       "      <td>12%</td>\n",
       "      <td>0.60</td>\n",
       "      <td>12</td>\n",
       "      <td>11</td>\n",
       "      <td>0.55</td>\n",
       "      <td>0.45</td>\n",
       "      <td>9</td>\n",
       "      <td>0.25</td>\n",
       "      <td>4.17</td>\n",
       "      <td>- - -</td>\n",
       "    </tr>\n",
       "    <tr>\n",
       "      <th>14</th>\n",
       "      <td>Oliver Johansen Braude</td>\n",
       "      <td>D/WB (R), DM, M (RC)</td>\n",
       "      <td>20</td>\n",
       "      <td>163 cm</td>\n",
       "      <td>56 kg</td>\n",
       "      <td>Int</td>\n",
       "      <td>sc Heerenveen</td>\n",
       "      <td>Eredivisie</td>\n",
       "      <td>NOR</td>\n",
       "      <td>NaN</td>\n",
       "      <td>-</td>\n",
       "      <td>NaN</td>\n",
       "      <td>Scouting Required</td>\n",
       "      <td>£1,400 p/w</td>\n",
       "      <td>£4.1M - £6.6M</td>\n",
       "      <td>-</td>\n",
       "      <td>Left</td>\n",
       "      <td>2</td>\n",
       "      <td>2.12</td>\n",
       "      <td>25</td>\n",
       "      <td>0</td>\n",
       "      <td>1</td>\n",
       "      <td>-</td>\n",
       "      <td>0</td>\n",
       "      <td>-</td>\n",
       "      <td>-</td>\n",
       "      <td>-</td>\n",
       "      <td>0</td>\n",
       "      <td>1991</td>\n",
       "      <td>0.23</td>\n",
       "      <td>-</td>\n",
       "      <td>-</td>\n",
       "      <td>5</td>\n",
       "      <td>16</td>\n",
       "      <td>11</td>\n",
       "      <td>0.10</td>\n",
       "      <td>2.88</td>\n",
       "      <td>0.16</td>\n",
       "      <td>3.62</td>\n",
       "      <td>-</td>\n",
       "      <td>7.10</td>\n",
       "      <td>398.20</td>\n",
       "      <td>5</td>\n",
       "      <td>25 (5)</td>\n",
       "      <td>36</td>\n",
       "      <td>2.58</td>\n",
       "      <td>57</td>\n",
       "      <td>67</td>\n",
       "      <td>85%</td>\n",
       "      <td>0.77</td>\n",
       "      <td>53%</td>\n",
       "      <td>0.41</td>\n",
       "      <td>9</td>\n",
       "      <td>0.54</td>\n",
       "      <td>0.23</td>\n",
       "      <td>5</td>\n",
       "      <td>17</td>\n",
       "      <td>-</td>\n",
       "      <td>-</td>\n",
       "      <td>-</td>\n",
       "      <td>-</td>\n",
       "      <td>8.23</td>\n",
       "      <td>182</td>\n",
       "      <td>4.61</td>\n",
       "      <td>102</td>\n",
       "      <td>11.89</td>\n",
       "      <td>263</td>\n",
       "      <td>6.46</td>\n",
       "      <td>7.64</td>\n",
       "      <td>74.18</td>\n",
       "      <td>1641</td>\n",
       "      <td>79.96</td>\n",
       "      <td>1769</td>\n",
       "      <td>93%</td>\n",
       "      <td>1.13</td>\n",
       "      <td>25</td>\n",
       "      <td>0.18</td>\n",
       "      <td>4</td>\n",
       "      <td>0.72</td>\n",
       "      <td>16</td>\n",
       "      <td>27%</td>\n",
       "      <td>2</td>\n",
       "      <td>0</td>\n",
       "      <td>0.05</td>\n",
       "      <td>1</td>\n",
       "      <td>1.22</td>\n",
       "      <td>27</td>\n",
       "      <td>0.00</td>\n",
       "      <td>1.49</td>\n",
       "      <td>33</td>\n",
       "      <td>12.16</td>\n",
       "      <td>19%</td>\n",
       "      <td>0.32</td>\n",
       "      <td>7</td>\n",
       "      <td>1.31</td>\n",
       "      <td>3</td>\n",
       "      <td>-</td>\n",
       "      <td>-</td>\n",
       "      <td>-</td>\n",
       "      <td>0.54</td>\n",
       "      <td>12</td>\n",
       "      <td>13.6km</td>\n",
       "      <td>300.9km</td>\n",
       "      <td>0.27</td>\n",
       "      <td>6</td>\n",
       "      <td>0.99</td>\n",
       "      <td>22</td>\n",
       "      <td>25%</td>\n",
       "      <td>29%</td>\n",
       "      <td>0.68</td>\n",
       "      <td>15</td>\n",
       "      <td>14</td>\n",
       "      <td>0.63</td>\n",
       "      <td>0.41</td>\n",
       "      <td>9</td>\n",
       "      <td>0.23</td>\n",
       "      <td>1.63</td>\n",
       "      <td>- - -</td>\n",
       "    </tr>\n",
       "    <tr>\n",
       "      <th>15</th>\n",
       "      <td>Eric Martel</td>\n",
       "      <td>D (C), DM, M (C)</td>\n",
       "      <td>22</td>\n",
       "      <td>188 cm</td>\n",
       "      <td>80 kg</td>\n",
       "      <td>Wnt</td>\n",
       "      <td>FC Köln</td>\n",
       "      <td>Bundesliga</td>\n",
       "      <td>GER</td>\n",
       "      <td>NaN</td>\n",
       "      <td>-</td>\n",
       "      <td>NaN</td>\n",
       "      <td>Scouting Required</td>\n",
       "      <td>£21,000 p/w</td>\n",
       "      <td>Not for Sale</td>\n",
       "      <td>-</td>\n",
       "      <td>Right</td>\n",
       "      <td>9</td>\n",
       "      <td>1.09</td>\n",
       "      <td>32</td>\n",
       "      <td>0</td>\n",
       "      <td>0</td>\n",
       "      <td>-</td>\n",
       "      <td>0</td>\n",
       "      <td>-</td>\n",
       "      <td>-</td>\n",
       "      <td>-</td>\n",
       "      <td>0</td>\n",
       "      <td>2880</td>\n",
       "      <td>0.03</td>\n",
       "      <td>-</td>\n",
       "      <td>-</td>\n",
       "      <td>1</td>\n",
       "      <td>54</td>\n",
       "      <td>9</td>\n",
       "      <td>0.03</td>\n",
       "      <td>-0.09</td>\n",
       "      <td>0.06</td>\n",
       "      <td>1.78</td>\n",
       "      <td>-</td>\n",
       "      <td>6.84</td>\n",
       "      <td>2880.00</td>\n",
       "      <td>2</td>\n",
       "      <td>32</td>\n",
       "      <td>194</td>\n",
       "      <td>3.06</td>\n",
       "      <td>98</td>\n",
       "      <td>121</td>\n",
       "      <td>81%</td>\n",
       "      <td>0.59</td>\n",
       "      <td>47%</td>\n",
       "      <td>0.28</td>\n",
       "      <td>9</td>\n",
       "      <td>0.25</td>\n",
       "      <td>0.31</td>\n",
       "      <td>10</td>\n",
       "      <td>19</td>\n",
       "      <td>-</td>\n",
       "      <td>-</td>\n",
       "      <td>-</td>\n",
       "      <td>-</td>\n",
       "      <td>4.69</td>\n",
       "      <td>150</td>\n",
       "      <td>3.03</td>\n",
       "      <td>97</td>\n",
       "      <td>10.00</td>\n",
       "      <td>320</td>\n",
       "      <td>10.69</td>\n",
       "      <td>6.38</td>\n",
       "      <td>46.38</td>\n",
       "      <td>1484</td>\n",
       "      <td>51.53</td>\n",
       "      <td>1649</td>\n",
       "      <td>90%</td>\n",
       "      <td>0.56</td>\n",
       "      <td>18</td>\n",
       "      <td>0.06</td>\n",
       "      <td>2</td>\n",
       "      <td>0.19</td>\n",
       "      <td>6</td>\n",
       "      <td>33%</td>\n",
       "      <td>1</td>\n",
       "      <td>1</td>\n",
       "      <td>0.22</td>\n",
       "      <td>7</td>\n",
       "      <td>0.56</td>\n",
       "      <td>18</td>\n",
       "      <td>0.44</td>\n",
       "      <td>1.50</td>\n",
       "      <td>48</td>\n",
       "      <td>12.53</td>\n",
       "      <td>54%</td>\n",
       "      <td>3.25</td>\n",
       "      <td>104</td>\n",
       "      <td>2.81</td>\n",
       "      <td>0</td>\n",
       "      <td>-</td>\n",
       "      <td>-</td>\n",
       "      <td>-</td>\n",
       "      <td>0.38</td>\n",
       "      <td>12</td>\n",
       "      <td>13.4km</td>\n",
       "      <td>427.8km</td>\n",
       "      <td>0.06</td>\n",
       "      <td>2</td>\n",
       "      <td>0.19</td>\n",
       "      <td>6</td>\n",
       "      <td>33%</td>\n",
       "      <td>5%</td>\n",
       "      <td>1.38</td>\n",
       "      <td>44</td>\n",
       "      <td>5</td>\n",
       "      <td>0.16</td>\n",
       "      <td>0.66</td>\n",
       "      <td>21</td>\n",
       "      <td>0.06</td>\n",
       "      <td>6.06</td>\n",
       "      <td>- - -</td>\n",
       "    </tr>\n",
       "    <tr>\n",
       "      <th>16</th>\n",
       "      <td>Hugo Larsson</td>\n",
       "      <td>DM, M (C)</td>\n",
       "      <td>19</td>\n",
       "      <td>187 cm</td>\n",
       "      <td>79 kg</td>\n",
       "      <td>Sct</td>\n",
       "      <td>Eintracht Frankfurt</td>\n",
       "      <td>Bundesliga</td>\n",
       "      <td>SWE</td>\n",
       "      <td>NaN</td>\n",
       "      <td>-</td>\n",
       "      <td>NaN</td>\n",
       "      <td>Scouting Required</td>\n",
       "      <td>£24,500 p/w</td>\n",
       "      <td>£24M - £38M</td>\n",
       "      <td>-</td>\n",
       "      <td>Right</td>\n",
       "      <td>2</td>\n",
       "      <td>1.63</td>\n",
       "      <td>10</td>\n",
       "      <td>0</td>\n",
       "      <td>1</td>\n",
       "      <td>-</td>\n",
       "      <td>0</td>\n",
       "      <td>-</td>\n",
       "      <td>-</td>\n",
       "      <td>-</td>\n",
       "      <td>0</td>\n",
       "      <td>1054</td>\n",
       "      <td>0.17</td>\n",
       "      <td>-</td>\n",
       "      <td>-</td>\n",
       "      <td>2</td>\n",
       "      <td>13</td>\n",
       "      <td>12</td>\n",
       "      <td>0.14</td>\n",
       "      <td>0.37</td>\n",
       "      <td>0.18</td>\n",
       "      <td>2.11</td>\n",
       "      <td>-</td>\n",
       "      <td>7.05</td>\n",
       "      <td>527.00</td>\n",
       "      <td>3</td>\n",
       "      <td>10 (14)</td>\n",
       "      <td>41</td>\n",
       "      <td>3.16</td>\n",
       "      <td>37</td>\n",
       "      <td>45</td>\n",
       "      <td>82%</td>\n",
       "      <td>1.79</td>\n",
       "      <td>29%</td>\n",
       "      <td>0.51</td>\n",
       "      <td>6</td>\n",
       "      <td>1.20</td>\n",
       "      <td>0.34</td>\n",
       "      <td>4</td>\n",
       "      <td>21</td>\n",
       "      <td>-</td>\n",
       "      <td>-</td>\n",
       "      <td>-</td>\n",
       "      <td>-</td>\n",
       "      <td>7.34</td>\n",
       "      <td>86</td>\n",
       "      <td>3.07</td>\n",
       "      <td>36</td>\n",
       "      <td>11.44</td>\n",
       "      <td>134</td>\n",
       "      <td>9.22</td>\n",
       "      <td>8.71</td>\n",
       "      <td>70.53</td>\n",
       "      <td>826</td>\n",
       "      <td>77.45</td>\n",
       "      <td>907</td>\n",
       "      <td>91%</td>\n",
       "      <td>1.02</td>\n",
       "      <td>12</td>\n",
       "      <td>0.34</td>\n",
       "      <td>4</td>\n",
       "      <td>1.54</td>\n",
       "      <td>18</td>\n",
       "      <td>33%</td>\n",
       "      <td>0</td>\n",
       "      <td>0</td>\n",
       "      <td>0.34</td>\n",
       "      <td>4</td>\n",
       "      <td>1.71</td>\n",
       "      <td>20</td>\n",
       "      <td>0.00</td>\n",
       "      <td>1.71</td>\n",
       "      <td>20</td>\n",
       "      <td>12.89</td>\n",
       "      <td>49%</td>\n",
       "      <td>1.71</td>\n",
       "      <td>20</td>\n",
       "      <td>1.79</td>\n",
       "      <td>0</td>\n",
       "      <td>-</td>\n",
       "      <td>-</td>\n",
       "      <td>-</td>\n",
       "      <td>0.77</td>\n",
       "      <td>9</td>\n",
       "      <td>13.9km</td>\n",
       "      <td>162.6km</td>\n",
       "      <td>0.85</td>\n",
       "      <td>10</td>\n",
       "      <td>2.56</td>\n",
       "      <td>30</td>\n",
       "      <td>22%</td>\n",
       "      <td>10%</td>\n",
       "      <td>0.68</td>\n",
       "      <td>8</td>\n",
       "      <td>9</td>\n",
       "      <td>0.77</td>\n",
       "      <td>0.51</td>\n",
       "      <td>6</td>\n",
       "      <td>0.26</td>\n",
       "      <td>3.50</td>\n",
       "      <td>- - -</td>\n",
       "    </tr>\n",
       "    <tr>\n",
       "      <th>17</th>\n",
       "      <td>Veldin Hodža</td>\n",
       "      <td>DM, M (C)</td>\n",
       "      <td>21</td>\n",
       "      <td>183 cm</td>\n",
       "      <td>74 kg</td>\n",
       "      <td>Wnt</td>\n",
       "      <td>Empoli</td>\n",
       "      <td>Serie A TIM</td>\n",
       "      <td>CRO</td>\n",
       "      <td>NaN</td>\n",
       "      <td>-</td>\n",
       "      <td>NaN</td>\n",
       "      <td>Scouting Required</td>\n",
       "      <td>£6,500 p/w</td>\n",
       "      <td>£375K - £3.7M</td>\n",
       "      <td>-</td>\n",
       "      <td>Right</td>\n",
       "      <td>1</td>\n",
       "      <td>0.28</td>\n",
       "      <td>10</td>\n",
       "      <td>0</td>\n",
       "      <td>0</td>\n",
       "      <td>-</td>\n",
       "      <td>0</td>\n",
       "      <td>-</td>\n",
       "      <td>-</td>\n",
       "      <td>-</td>\n",
       "      <td>0</td>\n",
       "      <td>884</td>\n",
       "      <td>-</td>\n",
       "      <td>-</td>\n",
       "      <td>-</td>\n",
       "      <td>0</td>\n",
       "      <td>15</td>\n",
       "      <td>3</td>\n",
       "      <td>0.03</td>\n",
       "      <td>-0.28</td>\n",
       "      <td>0.03</td>\n",
       "      <td>0.25</td>\n",
       "      <td>-</td>\n",
       "      <td>6.69</td>\n",
       "      <td>-</td>\n",
       "      <td>0</td>\n",
       "      <td>10 (7)</td>\n",
       "      <td>38</td>\n",
       "      <td>2.75</td>\n",
       "      <td>27</td>\n",
       "      <td>34</td>\n",
       "      <td>79%</td>\n",
       "      <td>0.51</td>\n",
       "      <td>0%</td>\n",
       "      <td>0.00</td>\n",
       "      <td>0</td>\n",
       "      <td>0.51</td>\n",
       "      <td>0.20</td>\n",
       "      <td>2</td>\n",
       "      <td>5</td>\n",
       "      <td>-</td>\n",
       "      <td>-</td>\n",
       "      <td>-</td>\n",
       "      <td>-</td>\n",
       "      <td>5.40</td>\n",
       "      <td>53</td>\n",
       "      <td>3.16</td>\n",
       "      <td>31</td>\n",
       "      <td>12.12</td>\n",
       "      <td>119</td>\n",
       "      <td>9.88</td>\n",
       "      <td>8.65</td>\n",
       "      <td>50.60</td>\n",
       "      <td>497</td>\n",
       "      <td>57.32</td>\n",
       "      <td>563</td>\n",
       "      <td>88%</td>\n",
       "      <td>0.51</td>\n",
       "      <td>5</td>\n",
       "      <td>0.00</td>\n",
       "      <td>0</td>\n",
       "      <td>0.20</td>\n",
       "      <td>2</td>\n",
       "      <td>0%</td>\n",
       "      <td>1</td>\n",
       "      <td>0</td>\n",
       "      <td>0.00</td>\n",
       "      <td>0</td>\n",
       "      <td>0.51</td>\n",
       "      <td>5</td>\n",
       "      <td>0.31</td>\n",
       "      <td>2.44</td>\n",
       "      <td>24</td>\n",
       "      <td>9.47</td>\n",
       "      <td>39%</td>\n",
       "      <td>1.53</td>\n",
       "      <td>15</td>\n",
       "      <td>2.34</td>\n",
       "      <td>0</td>\n",
       "      <td>-</td>\n",
       "      <td>-</td>\n",
       "      <td>-</td>\n",
       "      <td>0.81</td>\n",
       "      <td>8</td>\n",
       "      <td>13.7km</td>\n",
       "      <td>134.7km</td>\n",
       "      <td>0.00</td>\n",
       "      <td>0</td>\n",
       "      <td>0.20</td>\n",
       "      <td>2</td>\n",
       "      <td>-</td>\n",
       "      <td>-</td>\n",
       "      <td>1.73</td>\n",
       "      <td>17</td>\n",
       "      <td>0</td>\n",
       "      <td>-</td>\n",
       "      <td>0.51</td>\n",
       "      <td>5</td>\n",
       "      <td>-</td>\n",
       "      <td>3.87</td>\n",
       "      <td>- - -</td>\n",
       "    </tr>\n",
       "    <tr>\n",
       "      <th>18</th>\n",
       "      <td>Žan Jevšenak</td>\n",
       "      <td>DM</td>\n",
       "      <td>21</td>\n",
       "      <td>191 cm</td>\n",
       "      <td>80 kg</td>\n",
       "      <td>Sct</td>\n",
       "      <td>Portimonense</td>\n",
       "      <td>Liga Portugal Betclic</td>\n",
       "      <td>SVN</td>\n",
       "      <td>NaN</td>\n",
       "      <td>-</td>\n",
       "      <td>NaN</td>\n",
       "      <td>Scouting Required</td>\n",
       "      <td>£1,500 p/w</td>\n",
       "      <td>Unknown</td>\n",
       "      <td>-</td>\n",
       "      <td>Unknown</td>\n",
       "      <td>3</td>\n",
       "      <td>0.99</td>\n",
       "      <td>14</td>\n",
       "      <td>0</td>\n",
       "      <td>1</td>\n",
       "      <td>-</td>\n",
       "      <td>0</td>\n",
       "      <td>-</td>\n",
       "      <td>-</td>\n",
       "      <td>-</td>\n",
       "      <td>0</td>\n",
       "      <td>1128</td>\n",
       "      <td>0.16</td>\n",
       "      <td>-</td>\n",
       "      <td>-</td>\n",
       "      <td>2</td>\n",
       "      <td>17</td>\n",
       "      <td>5</td>\n",
       "      <td>0.08</td>\n",
       "      <td>1.01</td>\n",
       "      <td>0.09</td>\n",
       "      <td>1.15</td>\n",
       "      <td>-</td>\n",
       "      <td>6.98</td>\n",
       "      <td>564.00</td>\n",
       "      <td>0</td>\n",
       "      <td>14</td>\n",
       "      <td>69</td>\n",
       "      <td>2.63</td>\n",
       "      <td>33</td>\n",
       "      <td>45</td>\n",
       "      <td>73%</td>\n",
       "      <td>0.96</td>\n",
       "      <td>25%</td>\n",
       "      <td>0.24</td>\n",
       "      <td>3</td>\n",
       "      <td>0.24</td>\n",
       "      <td>0.56</td>\n",
       "      <td>7</td>\n",
       "      <td>12</td>\n",
       "      <td>-</td>\n",
       "      <td>-</td>\n",
       "      <td>-</td>\n",
       "      <td>-</td>\n",
       "      <td>4.79</td>\n",
       "      <td>60</td>\n",
       "      <td>2.55</td>\n",
       "      <td>32</td>\n",
       "      <td>9.57</td>\n",
       "      <td>120</td>\n",
       "      <td>9.65</td>\n",
       "      <td>7.82</td>\n",
       "      <td>54.18</td>\n",
       "      <td>679</td>\n",
       "      <td>60.88</td>\n",
       "      <td>763</td>\n",
       "      <td>89%</td>\n",
       "      <td>1.20</td>\n",
       "      <td>15</td>\n",
       "      <td>0.08</td>\n",
       "      <td>1</td>\n",
       "      <td>0.24</td>\n",
       "      <td>3</td>\n",
       "      <td>33%</td>\n",
       "      <td>3</td>\n",
       "      <td>0</td>\n",
       "      <td>0.16</td>\n",
       "      <td>2</td>\n",
       "      <td>1.20</td>\n",
       "      <td>15</td>\n",
       "      <td>1.28</td>\n",
       "      <td>1.52</td>\n",
       "      <td>19</td>\n",
       "      <td>7.98</td>\n",
       "      <td>78%</td>\n",
       "      <td>4.31</td>\n",
       "      <td>54</td>\n",
       "      <td>1.20</td>\n",
       "      <td>1</td>\n",
       "      <td>-</td>\n",
       "      <td>-</td>\n",
       "      <td>-</td>\n",
       "      <td>0.56</td>\n",
       "      <td>7</td>\n",
       "      <td>12.2km</td>\n",
       "      <td>153.5km</td>\n",
       "      <td>0.08</td>\n",
       "      <td>1</td>\n",
       "      <td>0.24</td>\n",
       "      <td>3</td>\n",
       "      <td>33%</td>\n",
       "      <td>17%</td>\n",
       "      <td>1.91</td>\n",
       "      <td>24</td>\n",
       "      <td>4</td>\n",
       "      <td>0.32</td>\n",
       "      <td>0.96</td>\n",
       "      <td>12</td>\n",
       "      <td>-</td>\n",
       "      <td>5.51</td>\n",
       "      <td>- - -</td>\n",
       "    </tr>\n",
       "  </tbody>\n",
       "</table>\n",
       "</div>"
      ],
      "text/plain": [
       "                      name              position  age  height weight  inf  \\\n",
       "0               João Neves          DM, M/AM (C)   19  174 cm  68 kg  NaN   \n",
       "1             Mats Wieffer      D (C), DM, M (C)   24  188 cm  80 kg  NaN   \n",
       "2         Gabriel Moscardo                    DM   18  185 cm  73 kg  NaN   \n",
       "3         Leandro Barreiro             DM, M (C)   24  174 cm  65 kg  Int   \n",
       "4           Xaver Schlager             DM, M (C)   26  174 cm  76 kg  Int   \n",
       "5     Albert Sambi Lokonga             DM, M (C)   24  183 cm  74 kg  Int   \n",
       "6           Jesús Castillo             DM, M (C)   22  185 cm  80 kg  NaN   \n",
       "7          Ignacio Miramón             DM, M (C)   20  173 cm  72 kg  NaN   \n",
       "8             William Clem             DM, M (C)   19  186 cm  71 kg  Wnt   \n",
       "9             Flynn Downes             DM, M (C)   25  182 cm  79 kg  Wnt   \n",
       "10       Salis Abdul Samed             DM, M (C)   24  179 cm  69 kg  Int   \n",
       "11      Michel Ndary Adopo             DM, M (C)   23  187 cm  80 kg  Wnt   \n",
       "12            Adam Wharton             DM, M (C)   20  183 cm  76 kg  Wnt   \n",
       "13            Mateo Seoane             DM, M (C)   20  178 cm  68 kg  NaN   \n",
       "14  Oliver Johansen Braude  D/WB (R), DM, M (RC)   20  163 cm  56 kg  Int   \n",
       "15             Eric Martel      D (C), DM, M (C)   22  188 cm  80 kg  Wnt   \n",
       "16            Hugo Larsson             DM, M (C)   19  187 cm  79 kg  Sct   \n",
       "17            Veldin Hodža             DM, M (C)   21  183 cm  74 kg  Wnt   \n",
       "18            Žan Jevšenak                    DM   21  191 cm  80 kg  Sct   \n",
       "\n",
       "                   club                             division  nat 2nd_nat  \\\n",
       "0            SL Benfica                Liga Portugal Betclic  POR     NaN   \n",
       "1             Feyenoord                           Eredivisie  NED     NaN   \n",
       "2                   COR  Campeonato Brasileiro Série A Assaí  BRA     NaN   \n",
       "3              Mainz 05                           Bundesliga  LUX     POR   \n",
       "4            RB Leipzig                           Bundesliga  AUT     NaN   \n",
       "5               Arsenal                       Premier League  BEL     COD   \n",
       "6           Gil Vicente                Liga Portugal Betclic  PER     NaN   \n",
       "7                 Lille                    Ligue 1 Uber Eats  ARG     ITA   \n",
       "8          FC København                         3F Superliga  DEN     NOR   \n",
       "9              West Ham                       Premier League  ENG     NaN   \n",
       "10                 Lens                    Ligue 1 Uber Eats  GHA     NaN   \n",
       "11             Atalanta                          Serie A TIM  FRA     NaN   \n",
       "12       Crystal Palace                       Premier League  ENG     NaN   \n",
       "13             Talleres           Liga Profesional de Fútbol  ARG     NaN   \n",
       "14        sc Heerenveen                           Eredivisie  NOR     NaN   \n",
       "15              FC Köln                           Bundesliga  GER     NaN   \n",
       "16  Eintracht Frankfurt                           Bundesliga  SWE     NaN   \n",
       "17               Empoli                          Serie A TIM  CRO     NaN   \n",
       "18         Portimonense                Liga Portugal Betclic  SVN     NaN   \n",
       "\n",
       "            home_grown_status          personality     media_handling  \\\n",
       "0                           -             Resolute       Level-headed   \n",
       "1                           -  Fairly Professional       Level-headed   \n",
       "2                           -    Fairly Determined       Level-headed   \n",
       "3                           -             Spirited            Evasive   \n",
       "4                           -             Resolute       Level-headed   \n",
       "5                           -    Fairly Determined       Level-headed   \n",
       "6                           -             Balanced     Media-friendly   \n",
       "7                           -  Fairly Professional       Level-headed   \n",
       "8                           -  Fairly Professional           Reserved   \n",
       "9   Trained in nation (15-21)        Perfectionist     Media-friendly   \n",
       "10                          -    Fairly Determined     Media-friendly   \n",
       "11                          -             Resolute       Level-headed   \n",
       "12  Trained in nation (15-21)  Fairly Professional           Reserved   \n",
       "13                          -             Balanced       Level-headed   \n",
       "14                          -                  NaN  Scouting Required   \n",
       "15                          -                  NaN  Scouting Required   \n",
       "16                          -                  NaN  Scouting Required   \n",
       "17                          -                  NaN  Scouting Required   \n",
       "18                          -                  NaN  Scouting Required   \n",
       "\n",
       "           wage transfer_value asking_price preferred_foot yel    xg starts  \\\n",
       "0   £14,250 p/w    £40M - £56M            -          Right   4  4.88     31   \n",
       "1   £16,500 p/w    £71M - £82M            -          Right   3  9.86     45   \n",
       "2    £6,500 p/w  £15.5M - £19M            -          Right   2  1.46     13   \n",
       "3   £20,500 p/w   Not for Sale            -          Right   5  1.22     31   \n",
       "4   £78,000 p/w           £20M       £26.5M           Left   8  3.45     37   \n",
       "5   £50,000 p/w           £30M         £30M          Right   -     -      -   \n",
       "6    £1,800 p/w  £140K - £1.4M            -     Right Only   4  5.23     30   \n",
       "7   £10,000 p/w  £16.5M - £20M            -          Right   6  1.28     22   \n",
       "8    £5,750 p/w   £7.6M - £11M            -          Right   3  3.77     31   \n",
       "9   £30,000 p/w          £8.8M       £8.75M     Right Only   -     -      -   \n",
       "10  £16,000 p/w   £8.2M - £10M            -          Right   6  0.87     20   \n",
       "11  £10,750 p/w    £400K - £3M            -          Right   4  1.36     14   \n",
       "12  £45,000 p/w  £5.4M - £7.6M            -           Left   0  0.75      7   \n",
       "13   £1,500 p/w   £40K - £4.8M            -          Right   2  6.22     24   \n",
       "14   £1,400 p/w  £4.1M - £6.6M            -           Left   2  2.12     25   \n",
       "15  £21,000 p/w   Not for Sale            -          Right   9  1.09     32   \n",
       "16  £24,500 p/w    £24M - £38M            -          Right   2  1.63     10   \n",
       "17   £6,500 p/w  £375K - £3.7M            -          Right   1  0.28     10   \n",
       "18   £1,500 p/w        Unknown            -        Unknown   3  0.99     14   \n",
       "\n",
       "   red pom pen/r pens_s pens_saved_ratio pens_saved pens_faced pens  mins  \\\n",
       "0    2   2     -      0                -          -          -    0  2447   \n",
       "1    0   4     -      0                -          -          -    0  3457   \n",
       "2    0   2     -      0                -          -          -    0  1189   \n",
       "3    0   0     -      0                -          -          -    0  2627   \n",
       "4    0   0     -      0                -          -          -    0  3060   \n",
       "5    -   -     -      -                -          -          -    -     -   \n",
       "6    0   0   67%      2                -          -          -    3  2512   \n",
       "7    0   0     -      0                -          -          -    0  2144   \n",
       "8    0   1     -      0                -          -          -    0  2672   \n",
       "9    -   -     -      -                -          -          -    -     -   \n",
       "10   0   0     -      0                -          -          -    0  1594   \n",
       "11   0   2     -      0                -          -          -    0  1843   \n",
       "12   0   0     -      0                -          -          -    0  1000   \n",
       "13   1   2     -      0                -          -          -    0  1813   \n",
       "14   0   1     -      0                -          -          -    0  1991   \n",
       "15   0   0     -      0                -          -          -    0  2880   \n",
       "16   0   1     -      0                -          -          -    0  1054   \n",
       "17   0   0     -      0                -          -          -    0   884   \n",
       "18   0   1     -      0                -          -          -    0  1128   \n",
       "\n",
       "   gls/90 conc con/90 gls fls  fa xg/90  xg_op xa/90    xa clean_sheets  \\\n",
       "0    0.33    -      -   9  53  27  0.18   4.12  0.18  5.01            -   \n",
       "1    0.29    -      -  11  27  26  0.26   1.14  0.17  6.37            -   \n",
       "2    0.23    -      -   3   6   6  0.11   1.54  0.10  1.31            -   \n",
       "3    0.07    -      -   2  55  26  0.04   0.78  0.06  1.89            -   \n",
       "4    0.06    -      -   2  47  16  0.10  -1.45  0.16  5.42            -   \n",
       "5       -    -      -   -   -   -     -      -     -     -            -   \n",
       "6    0.14    -      -   4  28  14  0.19  -1.23  0.11  3.10            -   \n",
       "7       -    -      -   0  45  13  0.05  -1.28  0.13  3.06            -   \n",
       "8    0.13    -      -   4  29  19  0.13   0.23  0.13  3.74            -   \n",
       "9       -    -      -   -   -   -     -      -     -     -            -   \n",
       "10   0.06    -      -   1  35  12  0.05   0.13  0.07  1.20            -   \n",
       "11   0.10    -      -   2  31  14  0.07   0.64  0.06  1.23            -   \n",
       "12      -    -      -   0  13   6  0.07  -0.75  0.15  1.70            -   \n",
       "13   0.25    -      -   5  22  12  0.31  -1.22  0.25  4.94            -   \n",
       "14   0.23    -      -   5  16  11  0.10   2.88  0.16  3.62            -   \n",
       "15   0.03    -      -   1  54   9  0.03  -0.09  0.06  1.78            -   \n",
       "16   0.17    -      -   2  13  12  0.14   0.37  0.18  2.11            -   \n",
       "17      -    -      -   0  15   3  0.03  -0.28  0.03  0.25            -   \n",
       "18   0.16    -      -   2  17   5  0.08   1.01  0.09  1.15            -   \n",
       "\n",
       "   av_rat  mins/gl ast     apps hdrs_a tck/90 tck_w tck_a tck_r shot/90  \\\n",
       "0    7.16   271.89   7   31 (4)    141   2.13    58    81   72%    2.28   \n",
       "1    7.21   314.27   9       45    220   2.00    77    95   81%    2.60   \n",
       "2    7.14   396.33   2   13 (8)     52   2.20    29    41   71%    0.98   \n",
       "3    6.75  1313.50   0       31    101   2.67    78   113   69%    0.69   \n",
       "4    6.88  1530.00   5       37     84   2.29    78   108   72%    0.91   \n",
       "5       -        -   -        -      -      -     -     -     -       -   \n",
       "6    6.96   628.00   3   30 (4)    128   1.93    54    78   69%    1.07   \n",
       "7    6.80        -   0  22 (17)     61   2.27    54    78   69%    0.80   \n",
       "8    7.06   668.00   3   31 (9)    137   1.52    45    63   71%    0.94   \n",
       "9       -        -   -        -      -      -     -     -     -       -   \n",
       "10   6.92  1594.00   1   20 (1)     74   2.99    53    67   79%    0.73   \n",
       "11   7.00   921.50   3  14 (22)     61   2.78    57    78   73%    0.88   \n",
       "12   6.90        -   0   7 (18)     48   2.97    33    40   83%    1.35   \n",
       "13   7.12   362.60   5   24 (2)     84   2.18    44    60   73%    2.08   \n",
       "14   7.10   398.20   5   25 (5)     36   2.58    57    67   85%    0.77   \n",
       "15   6.84  2880.00   2       32    194   3.06    98   121   81%    0.59   \n",
       "16   7.05   527.00   3  10 (14)     41   3.16    37    45   82%    1.79   \n",
       "17   6.69        -   0   10 (7)     38   2.75    27    34   79%    0.51   \n",
       "18   6.98   564.00   0       14     69   2.63    33    45   73%    0.96   \n",
       "\n",
       "   shot_% sht/90 sht shots_outside_box/90 shts_blckd/90 shts_blckd shots svt  \\\n",
       "0     34%   0.77  21                 1.51          0.26          7    62   -   \n",
       "1     46%   1.20  46                 1.38          0.10          4   100   -   \n",
       "2     54%   0.53   7                 0.38          0.15          2    13   -   \n",
       "3     30%   0.21   6                 0.55          0.27          8    20   -   \n",
       "4     29%   0.26   9                 0.68          0.03          1    31   -   \n",
       "5       -      -   -                    -             -          -     -   -   \n",
       "6     33%   0.36  10                 0.47          0.36         10    30   -   \n",
       "7     11%   0.08   2                 0.50          0.17          4    19   -   \n",
       "8     54%   0.51  15                 0.30          0.37         11    28   -   \n",
       "9       -      -   -                    -             -          -     -   -   \n",
       "10    38%   0.28   5                 0.51          0.06          1    13   -   \n",
       "11    39%   0.34   7                 0.54          0.24          5    18   -   \n",
       "12    40%   0.54   6                 0.99          0.18          2    15   -   \n",
       "13    40%   0.84  17                 1.14          0.15          3    42   -   \n",
       "14    53%   0.41   9                 0.54          0.23          5    17   -   \n",
       "15    47%   0.28   9                 0.25          0.31         10    19   -   \n",
       "16    29%   0.51   6                 1.20          0.34          4    21   -   \n",
       "17     0%   0.00   0                 0.51          0.20          2     5   -   \n",
       "18    25%   0.24   3                 0.24          0.56          7    12   -   \n",
       "\n",
       "   svp svh sv_% pr_passes/90 pr_passes pres_c/90 pres_c pres_a/90 pres_a  \\\n",
       "0    -   -    -         7.36       200      3.60     98     11.22    305   \n",
       "1    -   -    -         6.38       245      2.71    104     10.21    392   \n",
       "2    -   -    -         6.21        82      2.42     32      9.46    125   \n",
       "3    -   -    -         3.46       101      2.57     75     11.85    346   \n",
       "4    -   -    -         6.38       217      2.82     96      9.97    339   \n",
       "5    -   -    -            -         -         -      -         -      -   \n",
       "6    -   -    -         5.52       154      2.94     82     10.03    280   \n",
       "7    -   -    -         6.21       148      3.23     77     10.66    254   \n",
       "8    -   -    -         7.65       227      2.96     88      8.79    261   \n",
       "9    -   -    -            -         -         -      -         -      -   \n",
       "10   -   -    -         5.59        99      3.95     70     12.76    226   \n",
       "11   -   -    -         6.10       125      3.76     77     11.96    245   \n",
       "12   -   -    -         7.29        81      2.97     33     11.34    126   \n",
       "13   -   -    -         5.26       106      3.33     67     10.47    211   \n",
       "14   -   -    -         8.23       182      4.61    102     11.89    263   \n",
       "15   -   -    -         4.69       150      3.03     97     10.00    320   \n",
       "16   -   -    -         7.34        86      3.07     36     11.44    134   \n",
       "17   -   -    -         5.40        53      3.16     31     12.12    119   \n",
       "18   -   -    -         4.79        60      2.55     32      9.57    120   \n",
       "\n",
       "   poss_won/90 poss_lost/90 ps_c/90  ps_c ps_a/90 pas_a pas_% op_kp/90 op_kp  \\\n",
       "0        10.11         9.08   53.70  1460   60.72  1651   88%     1.80    49   \n",
       "1         9.35         9.55   57.48  2208   64.41  2474   89%     1.56    60   \n",
       "2         8.40         7.27   67.22   888   73.20   967   92%     1.36    18   \n",
       "3         9.66         7.43   39.88  1164   44.88  1310   89%     0.62    18   \n",
       "4         7.59         6.91   45.53  1548   49.91  1697   91%     1.26    43   \n",
       "5            -            -       -     -       -     -     -        -     -   \n",
       "6         9.92         7.24   48.91  1365   54.32  1516   90%     1.11    31   \n",
       "7         8.27         8.23   65.95  1571   71.82  1711   92%     1.01    24   \n",
       "8         9.06         7.78   59.01  1752   65.78  1953   90%     1.52    45   \n",
       "9            -            -       -     -       -     -     -        -     -   \n",
       "10       10.39         8.92   62.11  1100   69.56  1232   89%     0.73    13   \n",
       "11       10.45         8.30   56.94  1166   62.90  1288   91%     0.73    15   \n",
       "12       11.25         9.45   51.66   574   59.13   657   87%     2.07    23   \n",
       "13        9.93         7.40   45.72   921   51.13  1030   89%     1.64    33   \n",
       "14        6.46         7.64   74.18  1641   79.96  1769   93%     1.13    25   \n",
       "15       10.69         6.38   46.38  1484   51.53  1649   90%     0.56    18   \n",
       "16        9.22         8.71   70.53   826   77.45   907   91%     1.02    12   \n",
       "17        9.88         8.65   50.60   497   57.32   563   88%     0.51     5   \n",
       "18        9.65         7.82   54.18   679   60.88   763   89%     1.20    15   \n",
       "\n",
       "   op_crs_c/90 op_crs_c op_crs_a/90 op_crs_a op_cr_% off gl_mst k_tck/90  \\\n",
       "0         0.29        8        1.10       30     26%   0      0     0.11   \n",
       "1         0.18        7        1.02       39     16%   6      0     0.05   \n",
       "2         0.30        4        0.76       10     40%   0      0     0.08   \n",
       "3         0.03        1        0.51       15      7%   1      1     0.10   \n",
       "4         0.21        7        0.71       24     26%   2      0     0.03   \n",
       "5            -        -           -        -       -   -      -        -   \n",
       "6         0.18        5        0.54       15     27%   0      1     0.04   \n",
       "7         0.08        2        0.63       15     13%   2      0     0.04   \n",
       "8         0.00        0        0.17        5      0%   1      0     0.03   \n",
       "9            -        -           -        -       -   -      -        -   \n",
       "10        0.17        3        0.23        4     75%   0      1     0.00   \n",
       "11        0.05        1        0.15        3     25%   0      0     0.10   \n",
       "12        0.27        3        0.81        9     21%   2      0     0.09   \n",
       "13        0.20        4        0.89       18     22%   2      0     0.10   \n",
       "14        0.18        4        0.72       16     27%   2      0     0.05   \n",
       "15        0.06        2        0.19        6     33%   1      1     0.22   \n",
       "16        0.34        4        1.54       18     33%   0      0     0.34   \n",
       "17        0.00        0        0.20        2      0%   1      0     0.00   \n",
       "18        0.08        1        0.24        3     33%   3      0     0.16   \n",
       "\n",
       "   k_tck k_ps/90 k_pas k_hdrs/90 int/90 itc sprints/90 hdr_% hdrs_w/90 hdrs  \\\n",
       "0      3    2.10    57      0.07   1.84  50      12.14   55%      2.87   78   \n",
       "1      2    1.67    64      0.47   1.77  68      14.40   60%      3.41  131   \n",
       "2      1    1.36    18      0.53   1.59  21       9.16   63%      2.50   33   \n",
       "3      3    0.62    18      0.10   2.19  64      15.79   34%      1.16   34   \n",
       "4      1    1.79    61      0.06   1.53  52      15.32   37%      0.91   31   \n",
       "5      -       -     -         -      -   -          -     -         -    -   \n",
       "6      1    1.15    32      0.75   2.11  59      11.21   56%      2.58   72   \n",
       "7      1    1.01    24      0.08   1.97  47      13.60   43%      1.09   26   \n",
       "8      1    1.52    45      0.44   1.48  44       8.69   75%      3.47  103   \n",
       "9      -       -     -         -      -   -          -     -         -    -   \n",
       "10     0    0.73    13      0.23   1.75  31       9.32   57%      2.37   42   \n",
       "11     2    0.78    16      0.05   2.44  50      12.16   54%      1.61   33   \n",
       "12     1    2.25    25      0.00   2.97  33      15.03   54%      2.34   26   \n",
       "13     2    1.64    33      0.20   2.53  51      18.22   46%      1.94   39   \n",
       "14     1    1.22    27      0.00   1.49  33      12.16   19%      0.32    7   \n",
       "15     7    0.56    18      0.44   1.50  48      12.53   54%      3.25  104   \n",
       "16     4    1.71    20      0.00   1.71  20      12.89   49%      1.71   20   \n",
       "17     0    0.51     5      0.31   2.44  24       9.47   39%      1.53   15   \n",
       "18     2    1.20    15      1.28   1.52  19       7.98   78%      4.31   54   \n",
       "\n",
       "   hdrs_l/90 goals_outside_box xsv_% xgp/90 xgp drb/90 drb dist/90 distance  \\\n",
       "0       2.32                 3     -      -   -   1.43  39  13.1km  356.0km   \n",
       "1       2.32                 5     -      -   -   1.46  56  13.7km  527.4km   \n",
       "2       1.44                 1     -      -   -   0.68   9  13.5km  177.7km   \n",
       "3       2.30                 1     -      -   -   0.89  26  13.9km  406.1km   \n",
       "4       1.56                 1     -      -   -   0.97  33  13.9km  472.4km   \n",
       "5          -                 -     -      -   -      -   -       -        -   \n",
       "6       2.01                 1     -      -   -   1.36  38  13.4km  374.0km   \n",
       "7       1.47                 0     -      -   -   0.97  23  14.2km  337.1km   \n",
       "8       1.15                 1     -      -   -   0.37  11  12.9km  382.3km   \n",
       "9          -                 -     -      -   -      -   -       -        -   \n",
       "10      1.81                 1     -      -   -   0.73  13  13.8km  244.3km   \n",
       "11      1.37                 1     -      -   -   1.07  22  14.0km  287.4km   \n",
       "12      1.98                 0     -      -   -   1.08  12  14.8km  164.4km   \n",
       "13      2.23                 0     -      -   -   1.54  31  14.1km  284.9km   \n",
       "14      1.31                 3     -      -   -   0.54  12  13.6km  300.9km   \n",
       "15      2.81                 0     -      -   -   0.38  12  13.4km  427.8km   \n",
       "16      1.79                 0     -      -   -   0.77   9  13.9km  162.6km   \n",
       "17      2.34                 0     -      -   -   0.81   8  13.7km  134.7km   \n",
       "18      1.20                 1     -      -   -   0.56   7  12.2km  153.5km   \n",
       "\n",
       "   cr_c/90 cr_c crs_a/90 cr_a cr_c/a conv_% clr/90 clear ccc ch_c/90 blk/90  \\\n",
       "0     0.37   10     1.43   39    26%    15%   0.55    15  14    0.51   0.37   \n",
       "1     0.23    9     1.43   55    17%    11%   0.29    11  15    0.39   0.23   \n",
       "2     0.30    4     0.76   10    40%    23%   0.83    11   6    0.45   0.45   \n",
       "3     0.03    1     0.51   15     6%    10%   1.27    37   6    0.21   0.41   \n",
       "4     0.62   21     2.41   82    29%     6%   0.56    19  16    0.47   0.12   \n",
       "5        -    -        -    -      -      -      -     -   -       -      -   \n",
       "6     0.21    6     0.79   22    33%    13%   1.11    31   8    0.29   0.57   \n",
       "7     0.08    2     0.63   15    13%      -   0.55    13   9    0.38   0.46   \n",
       "8     0.00    0     0.17    5      -    14%   0.51    15   9    0.30   0.44   \n",
       "9        -    -        -    -      -      -      -     -   -       -      -   \n",
       "10    0.17    3     0.23    4    75%     8%   0.73    13   5    0.28   0.17   \n",
       "11    0.05    1     0.20    4    33%    11%   1.12    23   4    0.20   0.59   \n",
       "12    0.63    7     2.97   33    33%      -   0.54     6   3    0.27   0.54   \n",
       "13    0.20    4     0.89   18    22%    12%   0.60    12  11    0.55   0.45   \n",
       "14    0.27    6     0.99   22    25%    29%   0.68    15  14    0.63   0.41   \n",
       "15    0.06    2     0.19    6    33%     5%   1.38    44   5    0.16   0.66   \n",
       "16    0.85   10     2.56   30    22%    10%   0.68     8   9    0.77   0.51   \n",
       "17    0.00    0     0.20    2      -      -   1.73    17   0       -   0.51   \n",
       "18    0.08    1     0.24    3    33%    17%   1.91    24   4    0.32   0.96   \n",
       "\n",
       "   blk asts/90 aer_a/90    rec  \n",
       "0   10    0.26     5.19  - - -  \n",
       "1    9    0.23     5.73  - - -  \n",
       "2    6    0.15     3.94  - - -  \n",
       "3   12       -     3.46  - - -  \n",
       "4    4    0.15     2.47  - - -  \n",
       "5    -       -        -  - - -  \n",
       "6   16    0.11     4.59  - - -  \n",
       "7   11       -     2.56  - - -  \n",
       "8   13    0.10     4.61  - - -  \n",
       "9    -       -        -  - - -  \n",
       "10   3    0.06     4.18  - - -  \n",
       "11  12    0.15     2.98  - - -  \n",
       "12   6       -     4.32  - - -  \n",
       "13   9    0.25     4.17  - - -  \n",
       "14   9    0.23     1.63  - - -  \n",
       "15  21    0.06     6.06  - - -  \n",
       "16   6    0.26     3.50  - - -  \n",
       "17   5       -     3.87  - - -  \n",
       "18  12       -     5.51  - - -  "
      ]
     },
     "execution_count": 3,
     "metadata": {},
     "output_type": "execute_result"
    }
   ],
   "source": [
    "df_players_raw"
   ]
  },
  {
   "cell_type": "code",
   "execution_count": 4,
   "id": "7355e71f",
   "metadata": {},
   "outputs": [],
   "source": [
    "### Read raw data\n",
    "\n",
    "# Select file path for raw data\n",
    "path = r\"C:\\Users\\kevmi\\Documents\\FM 24 Moneyball\\FM Data Lab\\Man Utd\\FM 24 exports\\Summer 2024\\Defensive Midfielders.html\"\n",
    "\n",
    "# Ingest in a dataframe\n",
    "df_players_raw = pd.read_html(path, encoding='utf-8')[0]\n",
    "\n",
    "# Format column names \n",
    "df_players_raw.columns = [x.lower().strip().replace(' ', '_').replace('-', '_') for x in df_players_raw.columns]\n",
    "\n",
    "# ---------------------------------------------------------------------------------------------------------------------\n",
    "\n",
    "### Read processed Data lab data\n",
    "\n",
    "# Select file path for processed data\n",
    "path = r\"C:\\Users\\kevmi\\Documents\\FM 24 Moneyball\\FM Data Lab\\Man Utd\\FM Data Lab outputs\\Summer 2024\\Defensive Midfielders SL.csv\"\n",
    "\n",
    "# Ingest in a dataframe \n",
    "df_players = pd.read_csv(path)   \n",
    "\n",
    "# Format column names \n",
    "df_players.columns = [x.lower().strip().replace(' ', '_').replace('-', '_') for x in df_players.columns]\n",
    "\n",
    "# Bring ID from raw data\n",
    "df_players = df_players.merge(df_players_raw[['name', 'age', 'height', 'weight', 'uid']], \n",
    "                 left_on=['name', 'age', 'height', 'weight'], \n",
    "                 right_on=['name', 'age', 'height', 'weight']).reset_index().rename(columns={'level_0': 'id'})\n",
    "\n",
    "df_players['id'] = df_players['uid']\n",
    "\n",
    "df_players.drop(columns='uid', inplace=True)"
   ]
  },
  {
   "cell_type": "markdown",
   "id": "a4833287",
   "metadata": {},
   "source": [
    "## Data cleaning"
   ]
  },
  {
   "cell_type": "code",
   "execution_count": null,
   "id": "31affa79",
   "metadata": {},
   "outputs": [],
   "source": [
    "df_players.head()"
   ]
  },
  {
   "cell_type": "code",
   "execution_count": null,
   "id": "5b106302",
   "metadata": {},
   "outputs": [],
   "source": [
    "# # Keep only natural DMs\n",
    "# path = 'data/Natural DMs.html'\n",
    "\n",
    "# # Ingest in a dataframe\n",
    "# df_dms = pd.read_html(path, encoding='utf-8')[0]\n",
    "\n",
    "# # Format column names \n",
    "# df_dms.columns = [x.lower().strip().replace(' ', '_').replace('-', '_') for x in df_dms.columns]\n",
    "\n",
    "# df_dms['natural_dm'] = 'Yes'\n",
    "\n",
    "# df_dms = df_dms[['uid', 'natural_dm']]\n",
    "\n",
    "# df_players = df_players.merge(df_dms, \n",
    "#                               left_on='id',\n",
    "#                               right_on='uid',\n",
    "#                               how='left')\n",
    "\n",
    "# df_players = df_players[df_players['natural_dm'] == 'Yes']"
   ]
  },
  {
   "cell_type": "code",
   "execution_count": 5,
   "id": "103e9075",
   "metadata": {},
   "outputs": [],
   "source": [
    "# Get transfer valuation estimation\n",
    "def parse_transfer_value(val):\n",
    "    if pd.isnull(val):\n",
    "        return None\n",
    "\n",
    "    # Remove dollar signs and spaces\n",
    "    val = val.replace('£', '').replace(' ', '')\n",
    "\n",
    "    # If it's a range like \"850K-8.4M\"\n",
    "    if '-' in val:\n",
    "        low_str, high_str = val.split('-')\n",
    "        low = parse_single_value(low_str)\n",
    "        high = parse_single_value(high_str)\n",
    "        if low is not None and high is not None:\n",
    "            return (low + high) * (6/10)\n",
    "    else:\n",
    "        return parse_single_value(val)\n",
    "\n",
    "    return None  # fallback\n",
    "\n",
    "def parse_single_value(s):\n",
    "    try:\n",
    "        if s.endswith('M'):\n",
    "            return float(s[:-1]) * 1_000_000\n",
    "        elif s.endswith('K'):\n",
    "            return float(s[:-1]) * 1_000\n",
    "        else:\n",
    "            return float(s)  # just in case it's a plain number\n",
    "    except:\n",
    "        return None\n",
    "\n",
    "# Apply to your DataFrame\n",
    "df_players['price_estimate_M'] = df_players['transfer_value'].apply(parse_transfer_value) / 1000000"
   ]
  },
  {
   "cell_type": "markdown",
   "id": "e917f304",
   "metadata": {},
   "source": [
    "## Plot function"
   ]
  },
  {
   "cell_type": "code",
   "execution_count": 6,
   "id": "f94ec5bb",
   "metadata": {},
   "outputs": [],
   "source": [
    "def scatter_plot(df, x_metric, y_metric, z_metric, \n",
    "                 title, show_color_bar=False, show_name_label=True): \n",
    "    # Set text to 'name' if show_name_label is True, else empty string\n",
    "    text_col = 'name' if show_name_label else None\n",
    "\n",
    "    # Create plotly figure\n",
    "    fig = px.scatter(\n",
    "        df,\n",
    "        x=x_metric,\n",
    "        y=y_metric,\n",
    "        color=z_metric,\n",
    "        text=text_col,\n",
    "        color_continuous_scale='RdYlGn',\n",
    "        labels={z_metric: f'Color Scale ({z_metric})'},\n",
    "        title=title,\n",
    "        width=1200, \n",
    "        height=700    \n",
    "    )\n",
    "\n",
    "    # Format traces\n",
    "    fig.update_traces(\n",
    "        marker=dict(size=10), \n",
    "        textposition='top center',\n",
    "        textfont=dict(size=10),\n",
    "        customdata=df[['name', 'club']],  # Always pass 'name' for hovertemplate\n",
    "        hovertemplate=(\n",
    "            \"<b>%{customdata[0]}</b><br>\" +\n",
    "            \"<b>%{customdata[1]}</b><br><br>\" +\n",
    "            f\"{x_metric}: \" + \"%{x}<br>\" +\n",
    "            f\"{y_metric}: \" + \"%{y}<br>\" +\n",
    "            f\"{z_metric}: \" + \"%{marker.color}<extra></extra>\"\n",
    "        )\n",
    "    )\n",
    "\n",
    "    fig.update_layout(\n",
    "        title={\n",
    "            'text': f'{title} ({len(df): ,.0f})',\n",
    "            'x': 0.5,\n",
    "            'xanchor': 'center'\n",
    "        },\n",
    "        coloraxis_colorbar=dict(title=z_metric),\n",
    "        coloraxis_showscale=show_color_bar,  # Show or hide the color bar\n",
    "        plot_bgcolor='darkgray',\n",
    "        paper_bgcolor='darkgray',\n",
    "        xaxis=dict(showgrid=True, gridcolor='white', zeroline=False),\n",
    "        yaxis=dict(showgrid=True, gridcolor='white', zeroline=False)\n",
    "    )\n",
    "\n",
    "    fig.show()\n"
   ]
  },
  {
   "cell_type": "markdown",
   "id": "22683d93",
   "metadata": {},
   "source": [
    "## Passing analysis"
   ]
  },
  {
   "cell_type": "markdown",
   "id": "5c2da36b",
   "metadata": {},
   "source": [
    "### Full universe"
   ]
  },
  {
   "cell_type": "code",
   "execution_count": 8,
   "id": "c953fb7b",
   "metadata": {},
   "outputs": [
    {
     "data": {
      "application/vnd.plotly.v1+json": {
       "config": {
        "plotlyServerURL": "https://plot.ly"
       },
       "data": [
        {
         "customdata": [
          [
           "Mats Wieffer",
           "Feyenoord"
          ],
          [
           "Gabriel Moscardo",
           "COR"
          ],
          [
           "Leandro Barreiro",
           "Mainz 05"
          ],
          [
           "Xaver Schlager",
           "RB Leipzig"
          ],
          [
           "Jesús Castillo",
           "Gil Vicente"
          ],
          [
           "Ignacio Miramón",
           "Lille"
          ],
          [
           "William Clem",
           "FC København"
          ],
          [
           "Salis Abdul Samed",
           "Lens"
          ],
          [
           "Michel Ndary Adopo",
           "Atalanta"
          ],
          [
           "Adam Wharton",
           "Crystal Palace"
          ],
          [
           "Mateo Seoane",
           "Talleres"
          ],
          [
           "Oliver Johansen Braude",
           "sc Heerenveen"
          ],
          [
           "Eric Martel",
           "FC Köln"
          ],
          [
           "Hugo Larsson",
           "Eintracht Frankfurt"
          ],
          [
           "Veldin Hodža",
           "Empoli"
          ],
          [
           "Žan Jevšenak",
           "Portimonense"
          ]
         ],
         "hovertemplate": "<b>%{customdata[0]}</b><br><b>%{customdata[1]}</b><br><br>passes_attempted/90: %{x}<br>progressive_pass_rate: %{y}<br>pass_completion_%: %{marker.color}<extra></extra>",
         "legendgroup": "",
         "marker": {
          "color": {
           "bdata": "WVxZW1pcWllbV1ldWltYWQ==",
           "dtype": "i1"
          },
          "coloraxis": "coloraxis",
          "size": 10,
          "symbol": "circle"
         },
         "mode": "markers+text",
         "name": "",
         "orientation": "v",
         "showlegend": false,
         "text": [
          "Mats Wieffer",
          "Gabriel Moscardo",
          "Leandro Barreiro",
          "Xaver Schlager",
          "Jesús Castillo",
          "Ignacio Miramón",
          "William Clem",
          "Salis Abdul Samed",
          "Michel Ndary Adopo",
          "Adam Wharton",
          "Mateo Seoane",
          "Oliver Johansen Braude",
          "Eric Martel",
          "Hugo Larsson",
          "Veldin Hodža",
          "Žan Jevšenak"
         ],
         "textfont": {
          "size": 10
         },
         "textposition": "top center",
         "type": "scatter",
         "x": {
          "bdata": "CtejcD0aUEDNzMzMzExSQHE9CtejcEZAFK5H4Xr0SEApXI/C9ShLQBSuR+F69FFAUrgehetxUECkcD0K12NRQDMzMzMzc09AcT0K16OQTUBxPQrXo5BJQD0K16Nw/VNApHA9CtfDSUDNzMzMzFxTQClcj8L1qExAcT0K16NwTkA=",
          "dtype": "f8"
         },
         "xaxis": "x",
         "y": {
          "bdata": "zczMzMzMI0D2KFyPwvUgQNejcD0K1x5AFK5H4XqUKUBSuB6F61EkQM3MzMzMTCFAPQrXo3A9J0AUrkfhehQgQGZmZmZmZiNAKVyPwvWoKEAUrkfhepQkQBSuR+F6lCRAMzMzMzMzIkD2KFyPwvUiQFK4HoXr0SJAcT0K16NwH0A=",
          "dtype": "f8"
         },
         "yaxis": "y"
        }
       ],
       "layout": {
        "coloraxis": {
         "colorbar": {
          "title": {
           "text": "pass_completion_%"
          }
         },
         "colorscale": [
          [
           0,
           "rgb(165,0,38)"
          ],
          [
           0.1,
           "rgb(215,48,39)"
          ],
          [
           0.2,
           "rgb(244,109,67)"
          ],
          [
           0.3,
           "rgb(253,174,97)"
          ],
          [
           0.4,
           "rgb(254,224,139)"
          ],
          [
           0.5,
           "rgb(255,255,191)"
          ],
          [
           0.6,
           "rgb(217,239,139)"
          ],
          [
           0.7,
           "rgb(166,217,106)"
          ],
          [
           0.8,
           "rgb(102,189,99)"
          ],
          [
           0.9,
           "rgb(26,152,80)"
          ],
          [
           1,
           "rgb(0,104,55)"
          ]
         ],
         "showscale": false
        },
        "height": 700,
        "legend": {
         "tracegroupgap": 0
        },
        "paper_bgcolor": "darkgray",
        "plot_bgcolor": "darkgray",
        "template": {
         "data": {
          "bar": [
           {
            "error_x": {
             "color": "#2a3f5f"
            },
            "error_y": {
             "color": "#2a3f5f"
            },
            "marker": {
             "line": {
              "color": "#E5ECF6",
              "width": 0.5
             },
             "pattern": {
              "fillmode": "overlay",
              "size": 10,
              "solidity": 0.2
             }
            },
            "type": "bar"
           }
          ],
          "barpolar": [
           {
            "marker": {
             "line": {
              "color": "#E5ECF6",
              "width": 0.5
             },
             "pattern": {
              "fillmode": "overlay",
              "size": 10,
              "solidity": 0.2
             }
            },
            "type": "barpolar"
           }
          ],
          "carpet": [
           {
            "aaxis": {
             "endlinecolor": "#2a3f5f",
             "gridcolor": "white",
             "linecolor": "white",
             "minorgridcolor": "white",
             "startlinecolor": "#2a3f5f"
            },
            "baxis": {
             "endlinecolor": "#2a3f5f",
             "gridcolor": "white",
             "linecolor": "white",
             "minorgridcolor": "white",
             "startlinecolor": "#2a3f5f"
            },
            "type": "carpet"
           }
          ],
          "choropleth": [
           {
            "colorbar": {
             "outlinewidth": 0,
             "ticks": ""
            },
            "type": "choropleth"
           }
          ],
          "contour": [
           {
            "colorbar": {
             "outlinewidth": 0,
             "ticks": ""
            },
            "colorscale": [
             [
              0,
              "#0d0887"
             ],
             [
              0.1111111111111111,
              "#46039f"
             ],
             [
              0.2222222222222222,
              "#7201a8"
             ],
             [
              0.3333333333333333,
              "#9c179e"
             ],
             [
              0.4444444444444444,
              "#bd3786"
             ],
             [
              0.5555555555555556,
              "#d8576b"
             ],
             [
              0.6666666666666666,
              "#ed7953"
             ],
             [
              0.7777777777777778,
              "#fb9f3a"
             ],
             [
              0.8888888888888888,
              "#fdca26"
             ],
             [
              1,
              "#f0f921"
             ]
            ],
            "type": "contour"
           }
          ],
          "contourcarpet": [
           {
            "colorbar": {
             "outlinewidth": 0,
             "ticks": ""
            },
            "type": "contourcarpet"
           }
          ],
          "heatmap": [
           {
            "colorbar": {
             "outlinewidth": 0,
             "ticks": ""
            },
            "colorscale": [
             [
              0,
              "#0d0887"
             ],
             [
              0.1111111111111111,
              "#46039f"
             ],
             [
              0.2222222222222222,
              "#7201a8"
             ],
             [
              0.3333333333333333,
              "#9c179e"
             ],
             [
              0.4444444444444444,
              "#bd3786"
             ],
             [
              0.5555555555555556,
              "#d8576b"
             ],
             [
              0.6666666666666666,
              "#ed7953"
             ],
             [
              0.7777777777777778,
              "#fb9f3a"
             ],
             [
              0.8888888888888888,
              "#fdca26"
             ],
             [
              1,
              "#f0f921"
             ]
            ],
            "type": "heatmap"
           }
          ],
          "histogram": [
           {
            "marker": {
             "pattern": {
              "fillmode": "overlay",
              "size": 10,
              "solidity": 0.2
             }
            },
            "type": "histogram"
           }
          ],
          "histogram2d": [
           {
            "colorbar": {
             "outlinewidth": 0,
             "ticks": ""
            },
            "colorscale": [
             [
              0,
              "#0d0887"
             ],
             [
              0.1111111111111111,
              "#46039f"
             ],
             [
              0.2222222222222222,
              "#7201a8"
             ],
             [
              0.3333333333333333,
              "#9c179e"
             ],
             [
              0.4444444444444444,
              "#bd3786"
             ],
             [
              0.5555555555555556,
              "#d8576b"
             ],
             [
              0.6666666666666666,
              "#ed7953"
             ],
             [
              0.7777777777777778,
              "#fb9f3a"
             ],
             [
              0.8888888888888888,
              "#fdca26"
             ],
             [
              1,
              "#f0f921"
             ]
            ],
            "type": "histogram2d"
           }
          ],
          "histogram2dcontour": [
           {
            "colorbar": {
             "outlinewidth": 0,
             "ticks": ""
            },
            "colorscale": [
             [
              0,
              "#0d0887"
             ],
             [
              0.1111111111111111,
              "#46039f"
             ],
             [
              0.2222222222222222,
              "#7201a8"
             ],
             [
              0.3333333333333333,
              "#9c179e"
             ],
             [
              0.4444444444444444,
              "#bd3786"
             ],
             [
              0.5555555555555556,
              "#d8576b"
             ],
             [
              0.6666666666666666,
              "#ed7953"
             ],
             [
              0.7777777777777778,
              "#fb9f3a"
             ],
             [
              0.8888888888888888,
              "#fdca26"
             ],
             [
              1,
              "#f0f921"
             ]
            ],
            "type": "histogram2dcontour"
           }
          ],
          "mesh3d": [
           {
            "colorbar": {
             "outlinewidth": 0,
             "ticks": ""
            },
            "type": "mesh3d"
           }
          ],
          "parcoords": [
           {
            "line": {
             "colorbar": {
              "outlinewidth": 0,
              "ticks": ""
             }
            },
            "type": "parcoords"
           }
          ],
          "pie": [
           {
            "automargin": true,
            "type": "pie"
           }
          ],
          "scatter": [
           {
            "fillpattern": {
             "fillmode": "overlay",
             "size": 10,
             "solidity": 0.2
            },
            "type": "scatter"
           }
          ],
          "scatter3d": [
           {
            "line": {
             "colorbar": {
              "outlinewidth": 0,
              "ticks": ""
             }
            },
            "marker": {
             "colorbar": {
              "outlinewidth": 0,
              "ticks": ""
             }
            },
            "type": "scatter3d"
           }
          ],
          "scattercarpet": [
           {
            "marker": {
             "colorbar": {
              "outlinewidth": 0,
              "ticks": ""
             }
            },
            "type": "scattercarpet"
           }
          ],
          "scattergeo": [
           {
            "marker": {
             "colorbar": {
              "outlinewidth": 0,
              "ticks": ""
             }
            },
            "type": "scattergeo"
           }
          ],
          "scattergl": [
           {
            "marker": {
             "colorbar": {
              "outlinewidth": 0,
              "ticks": ""
             }
            },
            "type": "scattergl"
           }
          ],
          "scattermap": [
           {
            "marker": {
             "colorbar": {
              "outlinewidth": 0,
              "ticks": ""
             }
            },
            "type": "scattermap"
           }
          ],
          "scattermapbox": [
           {
            "marker": {
             "colorbar": {
              "outlinewidth": 0,
              "ticks": ""
             }
            },
            "type": "scattermapbox"
           }
          ],
          "scatterpolar": [
           {
            "marker": {
             "colorbar": {
              "outlinewidth": 0,
              "ticks": ""
             }
            },
            "type": "scatterpolar"
           }
          ],
          "scatterpolargl": [
           {
            "marker": {
             "colorbar": {
              "outlinewidth": 0,
              "ticks": ""
             }
            },
            "type": "scatterpolargl"
           }
          ],
          "scatterternary": [
           {
            "marker": {
             "colorbar": {
              "outlinewidth": 0,
              "ticks": ""
             }
            },
            "type": "scatterternary"
           }
          ],
          "surface": [
           {
            "colorbar": {
             "outlinewidth": 0,
             "ticks": ""
            },
            "colorscale": [
             [
              0,
              "#0d0887"
             ],
             [
              0.1111111111111111,
              "#46039f"
             ],
             [
              0.2222222222222222,
              "#7201a8"
             ],
             [
              0.3333333333333333,
              "#9c179e"
             ],
             [
              0.4444444444444444,
              "#bd3786"
             ],
             [
              0.5555555555555556,
              "#d8576b"
             ],
             [
              0.6666666666666666,
              "#ed7953"
             ],
             [
              0.7777777777777778,
              "#fb9f3a"
             ],
             [
              0.8888888888888888,
              "#fdca26"
             ],
             [
              1,
              "#f0f921"
             ]
            ],
            "type": "surface"
           }
          ],
          "table": [
           {
            "cells": {
             "fill": {
              "color": "#EBF0F8"
             },
             "line": {
              "color": "white"
             }
            },
            "header": {
             "fill": {
              "color": "#C8D4E3"
             },
             "line": {
              "color": "white"
             }
            },
            "type": "table"
           }
          ]
         },
         "layout": {
          "annotationdefaults": {
           "arrowcolor": "#2a3f5f",
           "arrowhead": 0,
           "arrowwidth": 1
          },
          "autotypenumbers": "strict",
          "coloraxis": {
           "colorbar": {
            "outlinewidth": 0,
            "ticks": ""
           }
          },
          "colorscale": {
           "diverging": [
            [
             0,
             "#8e0152"
            ],
            [
             0.1,
             "#c51b7d"
            ],
            [
             0.2,
             "#de77ae"
            ],
            [
             0.3,
             "#f1b6da"
            ],
            [
             0.4,
             "#fde0ef"
            ],
            [
             0.5,
             "#f7f7f7"
            ],
            [
             0.6,
             "#e6f5d0"
            ],
            [
             0.7,
             "#b8e186"
            ],
            [
             0.8,
             "#7fbc41"
            ],
            [
             0.9,
             "#4d9221"
            ],
            [
             1,
             "#276419"
            ]
           ],
           "sequential": [
            [
             0,
             "#0d0887"
            ],
            [
             0.1111111111111111,
             "#46039f"
            ],
            [
             0.2222222222222222,
             "#7201a8"
            ],
            [
             0.3333333333333333,
             "#9c179e"
            ],
            [
             0.4444444444444444,
             "#bd3786"
            ],
            [
             0.5555555555555556,
             "#d8576b"
            ],
            [
             0.6666666666666666,
             "#ed7953"
            ],
            [
             0.7777777777777778,
             "#fb9f3a"
            ],
            [
             0.8888888888888888,
             "#fdca26"
            ],
            [
             1,
             "#f0f921"
            ]
           ],
           "sequentialminus": [
            [
             0,
             "#0d0887"
            ],
            [
             0.1111111111111111,
             "#46039f"
            ],
            [
             0.2222222222222222,
             "#7201a8"
            ],
            [
             0.3333333333333333,
             "#9c179e"
            ],
            [
             0.4444444444444444,
             "#bd3786"
            ],
            [
             0.5555555555555556,
             "#d8576b"
            ],
            [
             0.6666666666666666,
             "#ed7953"
            ],
            [
             0.7777777777777778,
             "#fb9f3a"
            ],
            [
             0.8888888888888888,
             "#fdca26"
            ],
            [
             1,
             "#f0f921"
            ]
           ]
          },
          "colorway": [
           "#636efa",
           "#EF553B",
           "#00cc96",
           "#ab63fa",
           "#FFA15A",
           "#19d3f3",
           "#FF6692",
           "#B6E880",
           "#FF97FF",
           "#FECB52"
          ],
          "font": {
           "color": "#2a3f5f"
          },
          "geo": {
           "bgcolor": "white",
           "lakecolor": "white",
           "landcolor": "#E5ECF6",
           "showlakes": true,
           "showland": true,
           "subunitcolor": "white"
          },
          "hoverlabel": {
           "align": "left"
          },
          "hovermode": "closest",
          "mapbox": {
           "style": "light"
          },
          "paper_bgcolor": "white",
          "plot_bgcolor": "#E5ECF6",
          "polar": {
           "angularaxis": {
            "gridcolor": "white",
            "linecolor": "white",
            "ticks": ""
           },
           "bgcolor": "#E5ECF6",
           "radialaxis": {
            "gridcolor": "white",
            "linecolor": "white",
            "ticks": ""
           }
          },
          "scene": {
           "xaxis": {
            "backgroundcolor": "#E5ECF6",
            "gridcolor": "white",
            "gridwidth": 2,
            "linecolor": "white",
            "showbackground": true,
            "ticks": "",
            "zerolinecolor": "white"
           },
           "yaxis": {
            "backgroundcolor": "#E5ECF6",
            "gridcolor": "white",
            "gridwidth": 2,
            "linecolor": "white",
            "showbackground": true,
            "ticks": "",
            "zerolinecolor": "white"
           },
           "zaxis": {
            "backgroundcolor": "#E5ECF6",
            "gridcolor": "white",
            "gridwidth": 2,
            "linecolor": "white",
            "showbackground": true,
            "ticks": "",
            "zerolinecolor": "white"
           }
          },
          "shapedefaults": {
           "line": {
            "color": "#2a3f5f"
           }
          },
          "ternary": {
           "aaxis": {
            "gridcolor": "white",
            "linecolor": "white",
            "ticks": ""
           },
           "baxis": {
            "gridcolor": "white",
            "linecolor": "white",
            "ticks": ""
           },
           "bgcolor": "#E5ECF6",
           "caxis": {
            "gridcolor": "white",
            "linecolor": "white",
            "ticks": ""
           }
          },
          "title": {
           "x": 0.05
          },
          "xaxis": {
           "automargin": true,
           "gridcolor": "white",
           "linecolor": "white",
           "ticks": "",
           "title": {
            "standoff": 15
           },
           "zerolinecolor": "white",
           "zerolinewidth": 2
          },
          "yaxis": {
           "automargin": true,
           "gridcolor": "white",
           "linecolor": "white",
           "ticks": "",
           "title": {
            "standoff": 15
           },
           "zerolinecolor": "white",
           "zerolinewidth": 2
          }
         }
        },
        "title": {
         "text": "Passing quality ( 16)",
         "x": 0.5,
         "xanchor": "center"
        },
        "width": 1200,
        "xaxis": {
         "anchor": "y",
         "domain": [
          0,
          1
         ],
         "gridcolor": "white",
         "showgrid": true,
         "title": {
          "text": "passes_attempted/90"
         },
         "zeroline": false
        },
        "yaxis": {
         "anchor": "x",
         "domain": [
          0,
          1
         ],
         "gridcolor": "white",
         "showgrid": true,
         "title": {
          "text": "progressive_pass_rate"
         },
         "zeroline": false
        }
       }
      }
     },
     "metadata": {},
     "output_type": "display_data"
    }
   ],
   "source": [
    "# Initialize list of targets\n",
    "targets = df_players['id']\n",
    "\n",
    "scatter_plot(df_players,\n",
    "             x_metric='passes_attempted/90', \n",
    "             y_metric='progressive_pass_rate',\n",
    "             z_metric='pass_completion_%',\n",
    "             title='Passing quality', \n",
    "             show_name_label=True\n",
    ")"
   ]
  },
  {
   "cell_type": "code",
   "execution_count": 11,
   "id": "a312cf0a",
   "metadata": {},
   "outputs": [
    {
     "data": {
      "application/vnd.plotly.v1+json": {
       "config": {
        "plotlyServerURL": "https://plot.ly"
       },
       "data": [
        {
         "customdata": [
          [
           "Mats Wieffer",
           "Feyenoord"
          ],
          [
           "Gabriel Moscardo",
           "COR"
          ],
          [
           "Leandro Barreiro",
           "Mainz 05"
          ],
          [
           "Xaver Schlager",
           "RB Leipzig"
          ],
          [
           "Jesús Castillo",
           "Gil Vicente"
          ],
          [
           "Ignacio Miramón",
           "Lille"
          ],
          [
           "William Clem",
           "FC København"
          ],
          [
           "Salis Abdul Samed",
           "Lens"
          ],
          [
           "Michel Ndary Adopo",
           "Atalanta"
          ],
          [
           "Adam Wharton",
           "Crystal Palace"
          ],
          [
           "Mateo Seoane",
           "Talleres"
          ],
          [
           "Oliver Johansen Braude",
           "sc Heerenveen"
          ],
          [
           "Eric Martel",
           "FC Köln"
          ],
          [
           "Hugo Larsson",
           "Eintracht Frankfurt"
          ],
          [
           "Veldin Hodža",
           "Empoli"
          ],
          [
           "Žan Jevšenak",
           "Portimonense"
          ]
         ],
         "hovertemplate": "<b>%{customdata[0]}</b><br><b>%{customdata[1]}</b><br><br>passes_attempted/90: %{x}<br>progressive_pass_rate: %{y}<br>pass_completion_%: %{marker.color}<extra></extra>",
         "legendgroup": "",
         "marker": {
          "color": {
           "bdata": "WVxZW1pcWllbV1ldWltYWQ==",
           "dtype": "i1"
          },
          "coloraxis": "coloraxis",
          "size": 10,
          "symbol": "circle"
         },
         "mode": "markers+text",
         "name": "",
         "orientation": "v",
         "showlegend": false,
         "text": [
          "Mats Wieffer",
          "Gabriel Moscardo",
          "Leandro Barreiro",
          "Xaver Schlager",
          "Jesús Castillo",
          "Ignacio Miramón",
          "William Clem",
          "Salis Abdul Samed",
          "Michel Ndary Adopo",
          "Adam Wharton",
          "Mateo Seoane",
          "Oliver Johansen Braude",
          "Eric Martel",
          "Hugo Larsson",
          "Veldin Hodža",
          "Žan Jevšenak"
         ],
         "textfont": {
          "size": 10
         },
         "textposition": "top center",
         "type": "scatter",
         "x": {
          "bdata": "CtejcD0aUEDNzMzMzExSQHE9CtejcEZAFK5H4Xr0SEApXI/C9ShLQBSuR+F69FFAUrgehetxUECkcD0K12NRQDMzMzMzc09AcT0K16OQTUBxPQrXo5BJQD0K16Nw/VNApHA9CtfDSUDNzMzMzFxTQClcj8L1qExAcT0K16NwTkA=",
          "dtype": "f8"
         },
         "xaxis": "x",
         "y": {
          "bdata": "zczMzMzMI0D2KFyPwvUgQNejcD0K1x5AFK5H4XqUKUBSuB6F61EkQM3MzMzMTCFAPQrXo3A9J0AUrkfhehQgQGZmZmZmZiNAKVyPwvWoKEAUrkfhepQkQBSuR+F6lCRAMzMzMzMzIkD2KFyPwvUiQFK4HoXr0SJAcT0K16NwH0A=",
          "dtype": "f8"
         },
         "yaxis": "y"
        }
       ],
       "layout": {
        "coloraxis": {
         "colorbar": {
          "title": {
           "text": "pass_completion_%"
          }
         },
         "colorscale": [
          [
           0,
           "rgb(165,0,38)"
          ],
          [
           0.1,
           "rgb(215,48,39)"
          ],
          [
           0.2,
           "rgb(244,109,67)"
          ],
          [
           0.3,
           "rgb(253,174,97)"
          ],
          [
           0.4,
           "rgb(254,224,139)"
          ],
          [
           0.5,
           "rgb(255,255,191)"
          ],
          [
           0.6,
           "rgb(217,239,139)"
          ],
          [
           0.7,
           "rgb(166,217,106)"
          ],
          [
           0.8,
           "rgb(102,189,99)"
          ],
          [
           0.9,
           "rgb(26,152,80)"
          ],
          [
           1,
           "rgb(0,104,55)"
          ]
         ],
         "showscale": false
        },
        "height": 700,
        "legend": {
         "tracegroupgap": 0
        },
        "paper_bgcolor": "darkgray",
        "plot_bgcolor": "darkgray",
        "template": {
         "data": {
          "bar": [
           {
            "error_x": {
             "color": "#2a3f5f"
            },
            "error_y": {
             "color": "#2a3f5f"
            },
            "marker": {
             "line": {
              "color": "#E5ECF6",
              "width": 0.5
             },
             "pattern": {
              "fillmode": "overlay",
              "size": 10,
              "solidity": 0.2
             }
            },
            "type": "bar"
           }
          ],
          "barpolar": [
           {
            "marker": {
             "line": {
              "color": "#E5ECF6",
              "width": 0.5
             },
             "pattern": {
              "fillmode": "overlay",
              "size": 10,
              "solidity": 0.2
             }
            },
            "type": "barpolar"
           }
          ],
          "carpet": [
           {
            "aaxis": {
             "endlinecolor": "#2a3f5f",
             "gridcolor": "white",
             "linecolor": "white",
             "minorgridcolor": "white",
             "startlinecolor": "#2a3f5f"
            },
            "baxis": {
             "endlinecolor": "#2a3f5f",
             "gridcolor": "white",
             "linecolor": "white",
             "minorgridcolor": "white",
             "startlinecolor": "#2a3f5f"
            },
            "type": "carpet"
           }
          ],
          "choropleth": [
           {
            "colorbar": {
             "outlinewidth": 0,
             "ticks": ""
            },
            "type": "choropleth"
           }
          ],
          "contour": [
           {
            "colorbar": {
             "outlinewidth": 0,
             "ticks": ""
            },
            "colorscale": [
             [
              0,
              "#0d0887"
             ],
             [
              0.1111111111111111,
              "#46039f"
             ],
             [
              0.2222222222222222,
              "#7201a8"
             ],
             [
              0.3333333333333333,
              "#9c179e"
             ],
             [
              0.4444444444444444,
              "#bd3786"
             ],
             [
              0.5555555555555556,
              "#d8576b"
             ],
             [
              0.6666666666666666,
              "#ed7953"
             ],
             [
              0.7777777777777778,
              "#fb9f3a"
             ],
             [
              0.8888888888888888,
              "#fdca26"
             ],
             [
              1,
              "#f0f921"
             ]
            ],
            "type": "contour"
           }
          ],
          "contourcarpet": [
           {
            "colorbar": {
             "outlinewidth": 0,
             "ticks": ""
            },
            "type": "contourcarpet"
           }
          ],
          "heatmap": [
           {
            "colorbar": {
             "outlinewidth": 0,
             "ticks": ""
            },
            "colorscale": [
             [
              0,
              "#0d0887"
             ],
             [
              0.1111111111111111,
              "#46039f"
             ],
             [
              0.2222222222222222,
              "#7201a8"
             ],
             [
              0.3333333333333333,
              "#9c179e"
             ],
             [
              0.4444444444444444,
              "#bd3786"
             ],
             [
              0.5555555555555556,
              "#d8576b"
             ],
             [
              0.6666666666666666,
              "#ed7953"
             ],
             [
              0.7777777777777778,
              "#fb9f3a"
             ],
             [
              0.8888888888888888,
              "#fdca26"
             ],
             [
              1,
              "#f0f921"
             ]
            ],
            "type": "heatmap"
           }
          ],
          "histogram": [
           {
            "marker": {
             "pattern": {
              "fillmode": "overlay",
              "size": 10,
              "solidity": 0.2
             }
            },
            "type": "histogram"
           }
          ],
          "histogram2d": [
           {
            "colorbar": {
             "outlinewidth": 0,
             "ticks": ""
            },
            "colorscale": [
             [
              0,
              "#0d0887"
             ],
             [
              0.1111111111111111,
              "#46039f"
             ],
             [
              0.2222222222222222,
              "#7201a8"
             ],
             [
              0.3333333333333333,
              "#9c179e"
             ],
             [
              0.4444444444444444,
              "#bd3786"
             ],
             [
              0.5555555555555556,
              "#d8576b"
             ],
             [
              0.6666666666666666,
              "#ed7953"
             ],
             [
              0.7777777777777778,
              "#fb9f3a"
             ],
             [
              0.8888888888888888,
              "#fdca26"
             ],
             [
              1,
              "#f0f921"
             ]
            ],
            "type": "histogram2d"
           }
          ],
          "histogram2dcontour": [
           {
            "colorbar": {
             "outlinewidth": 0,
             "ticks": ""
            },
            "colorscale": [
             [
              0,
              "#0d0887"
             ],
             [
              0.1111111111111111,
              "#46039f"
             ],
             [
              0.2222222222222222,
              "#7201a8"
             ],
             [
              0.3333333333333333,
              "#9c179e"
             ],
             [
              0.4444444444444444,
              "#bd3786"
             ],
             [
              0.5555555555555556,
              "#d8576b"
             ],
             [
              0.6666666666666666,
              "#ed7953"
             ],
             [
              0.7777777777777778,
              "#fb9f3a"
             ],
             [
              0.8888888888888888,
              "#fdca26"
             ],
             [
              1,
              "#f0f921"
             ]
            ],
            "type": "histogram2dcontour"
           }
          ],
          "mesh3d": [
           {
            "colorbar": {
             "outlinewidth": 0,
             "ticks": ""
            },
            "type": "mesh3d"
           }
          ],
          "parcoords": [
           {
            "line": {
             "colorbar": {
              "outlinewidth": 0,
              "ticks": ""
             }
            },
            "type": "parcoords"
           }
          ],
          "pie": [
           {
            "automargin": true,
            "type": "pie"
           }
          ],
          "scatter": [
           {
            "fillpattern": {
             "fillmode": "overlay",
             "size": 10,
             "solidity": 0.2
            },
            "type": "scatter"
           }
          ],
          "scatter3d": [
           {
            "line": {
             "colorbar": {
              "outlinewidth": 0,
              "ticks": ""
             }
            },
            "marker": {
             "colorbar": {
              "outlinewidth": 0,
              "ticks": ""
             }
            },
            "type": "scatter3d"
           }
          ],
          "scattercarpet": [
           {
            "marker": {
             "colorbar": {
              "outlinewidth": 0,
              "ticks": ""
             }
            },
            "type": "scattercarpet"
           }
          ],
          "scattergeo": [
           {
            "marker": {
             "colorbar": {
              "outlinewidth": 0,
              "ticks": ""
             }
            },
            "type": "scattergeo"
           }
          ],
          "scattergl": [
           {
            "marker": {
             "colorbar": {
              "outlinewidth": 0,
              "ticks": ""
             }
            },
            "type": "scattergl"
           }
          ],
          "scattermap": [
           {
            "marker": {
             "colorbar": {
              "outlinewidth": 0,
              "ticks": ""
             }
            },
            "type": "scattermap"
           }
          ],
          "scattermapbox": [
           {
            "marker": {
             "colorbar": {
              "outlinewidth": 0,
              "ticks": ""
             }
            },
            "type": "scattermapbox"
           }
          ],
          "scatterpolar": [
           {
            "marker": {
             "colorbar": {
              "outlinewidth": 0,
              "ticks": ""
             }
            },
            "type": "scatterpolar"
           }
          ],
          "scatterpolargl": [
           {
            "marker": {
             "colorbar": {
              "outlinewidth": 0,
              "ticks": ""
             }
            },
            "type": "scatterpolargl"
           }
          ],
          "scatterternary": [
           {
            "marker": {
             "colorbar": {
              "outlinewidth": 0,
              "ticks": ""
             }
            },
            "type": "scatterternary"
           }
          ],
          "surface": [
           {
            "colorbar": {
             "outlinewidth": 0,
             "ticks": ""
            },
            "colorscale": [
             [
              0,
              "#0d0887"
             ],
             [
              0.1111111111111111,
              "#46039f"
             ],
             [
              0.2222222222222222,
              "#7201a8"
             ],
             [
              0.3333333333333333,
              "#9c179e"
             ],
             [
              0.4444444444444444,
              "#bd3786"
             ],
             [
              0.5555555555555556,
              "#d8576b"
             ],
             [
              0.6666666666666666,
              "#ed7953"
             ],
             [
              0.7777777777777778,
              "#fb9f3a"
             ],
             [
              0.8888888888888888,
              "#fdca26"
             ],
             [
              1,
              "#f0f921"
             ]
            ],
            "type": "surface"
           }
          ],
          "table": [
           {
            "cells": {
             "fill": {
              "color": "#EBF0F8"
             },
             "line": {
              "color": "white"
             }
            },
            "header": {
             "fill": {
              "color": "#C8D4E3"
             },
             "line": {
              "color": "white"
             }
            },
            "type": "table"
           }
          ]
         },
         "layout": {
          "annotationdefaults": {
           "arrowcolor": "#2a3f5f",
           "arrowhead": 0,
           "arrowwidth": 1
          },
          "autotypenumbers": "strict",
          "coloraxis": {
           "colorbar": {
            "outlinewidth": 0,
            "ticks": ""
           }
          },
          "colorscale": {
           "diverging": [
            [
             0,
             "#8e0152"
            ],
            [
             0.1,
             "#c51b7d"
            ],
            [
             0.2,
             "#de77ae"
            ],
            [
             0.3,
             "#f1b6da"
            ],
            [
             0.4,
             "#fde0ef"
            ],
            [
             0.5,
             "#f7f7f7"
            ],
            [
             0.6,
             "#e6f5d0"
            ],
            [
             0.7,
             "#b8e186"
            ],
            [
             0.8,
             "#7fbc41"
            ],
            [
             0.9,
             "#4d9221"
            ],
            [
             1,
             "#276419"
            ]
           ],
           "sequential": [
            [
             0,
             "#0d0887"
            ],
            [
             0.1111111111111111,
             "#46039f"
            ],
            [
             0.2222222222222222,
             "#7201a8"
            ],
            [
             0.3333333333333333,
             "#9c179e"
            ],
            [
             0.4444444444444444,
             "#bd3786"
            ],
            [
             0.5555555555555556,
             "#d8576b"
            ],
            [
             0.6666666666666666,
             "#ed7953"
            ],
            [
             0.7777777777777778,
             "#fb9f3a"
            ],
            [
             0.8888888888888888,
             "#fdca26"
            ],
            [
             1,
             "#f0f921"
            ]
           ],
           "sequentialminus": [
            [
             0,
             "#0d0887"
            ],
            [
             0.1111111111111111,
             "#46039f"
            ],
            [
             0.2222222222222222,
             "#7201a8"
            ],
            [
             0.3333333333333333,
             "#9c179e"
            ],
            [
             0.4444444444444444,
             "#bd3786"
            ],
            [
             0.5555555555555556,
             "#d8576b"
            ],
            [
             0.6666666666666666,
             "#ed7953"
            ],
            [
             0.7777777777777778,
             "#fb9f3a"
            ],
            [
             0.8888888888888888,
             "#fdca26"
            ],
            [
             1,
             "#f0f921"
            ]
           ]
          },
          "colorway": [
           "#636efa",
           "#EF553B",
           "#00cc96",
           "#ab63fa",
           "#FFA15A",
           "#19d3f3",
           "#FF6692",
           "#B6E880",
           "#FF97FF",
           "#FECB52"
          ],
          "font": {
           "color": "#2a3f5f"
          },
          "geo": {
           "bgcolor": "white",
           "lakecolor": "white",
           "landcolor": "#E5ECF6",
           "showlakes": true,
           "showland": true,
           "subunitcolor": "white"
          },
          "hoverlabel": {
           "align": "left"
          },
          "hovermode": "closest",
          "mapbox": {
           "style": "light"
          },
          "paper_bgcolor": "white",
          "plot_bgcolor": "#E5ECF6",
          "polar": {
           "angularaxis": {
            "gridcolor": "white",
            "linecolor": "white",
            "ticks": ""
           },
           "bgcolor": "#E5ECF6",
           "radialaxis": {
            "gridcolor": "white",
            "linecolor": "white",
            "ticks": ""
           }
          },
          "scene": {
           "xaxis": {
            "backgroundcolor": "#E5ECF6",
            "gridcolor": "white",
            "gridwidth": 2,
            "linecolor": "white",
            "showbackground": true,
            "ticks": "",
            "zerolinecolor": "white"
           },
           "yaxis": {
            "backgroundcolor": "#E5ECF6",
            "gridcolor": "white",
            "gridwidth": 2,
            "linecolor": "white",
            "showbackground": true,
            "ticks": "",
            "zerolinecolor": "white"
           },
           "zaxis": {
            "backgroundcolor": "#E5ECF6",
            "gridcolor": "white",
            "gridwidth": 2,
            "linecolor": "white",
            "showbackground": true,
            "ticks": "",
            "zerolinecolor": "white"
           }
          },
          "shapedefaults": {
           "line": {
            "color": "#2a3f5f"
           }
          },
          "ternary": {
           "aaxis": {
            "gridcolor": "white",
            "linecolor": "white",
            "ticks": ""
           },
           "baxis": {
            "gridcolor": "white",
            "linecolor": "white",
            "ticks": ""
           },
           "bgcolor": "#E5ECF6",
           "caxis": {
            "gridcolor": "white",
            "linecolor": "white",
            "ticks": ""
           }
          },
          "title": {
           "x": 0.05
          },
          "xaxis": {
           "automargin": true,
           "gridcolor": "white",
           "linecolor": "white",
           "ticks": "",
           "title": {
            "standoff": 15
           },
           "zerolinecolor": "white",
           "zerolinewidth": 2
          },
          "yaxis": {
           "automargin": true,
           "gridcolor": "white",
           "linecolor": "white",
           "ticks": "",
           "title": {
            "standoff": 15
           },
           "zerolinecolor": "white",
           "zerolinewidth": 2
          }
         }
        },
        "title": {
         "text": "Passing quality ( 16)",
         "x": 0.5,
         "xanchor": "center"
        },
        "width": 1200,
        "xaxis": {
         "anchor": "y",
         "domain": [
          0,
          1
         ],
         "gridcolor": "white",
         "showgrid": true,
         "title": {
          "text": "passes_attempted/90"
         },
         "zeroline": false
        },
        "yaxis": {
         "anchor": "x",
         "domain": [
          0,
          1
         ],
         "gridcolor": "white",
         "showgrid": true,
         "title": {
          "text": "progressive_pass_rate"
         },
         "zeroline": false
        }
       }
      }
     },
     "metadata": {},
     "output_type": "display_data"
    }
   ],
   "source": [
    "# Filter data \n",
    "mask = (\n",
    "        # (df_players['passes_attempted/90'] >= 45) & \\\n",
    "        # (df_players['progressive_pass_rate'] >= 7) & \\\n",
    "        # (df_players['pass_completion_%'] >= 85) & \\\n",
    "        # (df_players['age'] <= 26) & \\\n",
    "        (df_players['id'].isin(targets))\n",
    "        \n",
    "        \n",
    ")\n",
    "\n",
    "df_targets = df_players[mask]\n",
    "\n",
    "scatter_plot(df_targets,\n",
    "             x_metric='passes_attempted/90', \n",
    "             y_metric='progressive_pass_rate',\n",
    "             z_metric='pass_completion_%',\n",
    "             title='Passing quality', \n",
    "             show_name_label=True\n",
    ")\n",
    "\n",
    "# Keep only players that fulfill criteria\n",
    "targets = list(df_targets['id'])"
   ]
  },
  {
   "cell_type": "markdown",
   "id": "db5f786f",
   "metadata": {},
   "source": [
    "## Possession Analysis"
   ]
  },
  {
   "cell_type": "code",
   "execution_count": 13,
   "id": "c382547d",
   "metadata": {},
   "outputs": [
    {
     "data": {
      "application/vnd.plotly.v1+json": {
       "config": {
        "plotlyServerURL": "https://plot.ly"
       },
       "data": [
        {
         "customdata": [
          [
           "Mats Wieffer",
           "Feyenoord"
          ],
          [
           "Gabriel Moscardo",
           "COR"
          ],
          [
           "Leandro Barreiro",
           "Mainz 05"
          ],
          [
           "Xaver Schlager",
           "RB Leipzig"
          ],
          [
           "Jesús Castillo",
           "Gil Vicente"
          ],
          [
           "Ignacio Miramón",
           "Lille"
          ],
          [
           "William Clem",
           "FC København"
          ],
          [
           "Salis Abdul Samed",
           "Lens"
          ],
          [
           "Michel Ndary Adopo",
           "Atalanta"
          ],
          [
           "Adam Wharton",
           "Crystal Palace"
          ],
          [
           "Mateo Seoane",
           "Talleres"
          ],
          [
           "Oliver Johansen Braude",
           "sc Heerenveen"
          ],
          [
           "Eric Martel",
           "FC Köln"
          ],
          [
           "Hugo Larsson",
           "Eintracht Frankfurt"
          ],
          [
           "Veldin Hodža",
           "Empoli"
          ],
          [
           "Žan Jevšenak",
           "Portimonense"
          ]
         ],
         "hovertemplate": "<b>%{customdata[0]}</b><br><b>%{customdata[1]}</b><br><br>possession_lost/90: %{x}<br>possession_won/90: %{y}<br>poss+_/90: %{marker.color}<extra></extra>",
         "legendgroup": "",
         "marker": {
          "color": {
           "bdata": "mpmZmZmZyb8UrkfhehTyP9ejcD0K1wFAw/UoXI/C5T9xPQrXo3AFQHsUrkfheqQ/exSuR+F69D+F61G4HoX3PzMzMzMzMwFAzczMzMzM/D89CtejcD0EQOF6FK5H4fK/PQrXo3A9EUBSuB6F61HgP65H4XoUrvM/SOF6FK5H/T8=",
           "dtype": "f8"
          },
          "coloraxis": "coloraxis",
          "size": 10,
          "symbol": "circle"
         },
         "mode": "markers+text",
         "name": "",
         "orientation": "v",
         "showlegend": false,
         "text": [
          "Mats Wieffer",
          "Gabriel Moscardo",
          "Leandro Barreiro",
          "Xaver Schlager",
          "Jesús Castillo",
          "Ignacio Miramón",
          "William Clem",
          "Salis Abdul Samed",
          "Michel Ndary Adopo",
          "Adam Wharton",
          "Mateo Seoane",
          "Oliver Johansen Braude",
          "Eric Martel",
          "Hugo Larsson",
          "Veldin Hodža",
          "Žan Jevšenak"
         ],
         "textfont": {
          "size": 10
         },
         "textposition": "top center",
         "type": "scatter",
         "x": {
          "bdata": "mpmZmZkZI0AUrkfhehQdQLgehetRuB1ApHA9CtejG0D2KFyPwvUcQPYoXI/CdSBAH4XrUbgeH0DXo3A9CtchQJqZmZmZmSBAZmZmZmbmIkCamZmZmZkdQI/C9Shcjx5AhetRuB6FGUDsUbgehWshQM3MzMzMTCFASOF6FK5HH0A=",
          "dtype": "f8"
         },
         "xaxis": "x",
         "y": {
          "bdata": "MzMzMzOzIkDNzMzMzMwgQFK4HoXrUSNAXI/C9ShcHkDXo3A9CtcjQArXo3A9iiBAH4XrUbgeIkBI4XoUrsckQGZmZmZm5iRAAAAAAACAJkBcj8L1KNwjQNejcD0K1xlA4XoUrkdhJUBxPQrXo3AiQMP1KFyPwiNAzczMzMxMI0A=",
          "dtype": "f8"
         },
         "yaxis": "y"
        }
       ],
       "layout": {
        "coloraxis": {
         "colorbar": {
          "title": {
           "text": "poss+_/90"
          }
         },
         "colorscale": [
          [
           0,
           "rgb(165,0,38)"
          ],
          [
           0.1,
           "rgb(215,48,39)"
          ],
          [
           0.2,
           "rgb(244,109,67)"
          ],
          [
           0.3,
           "rgb(253,174,97)"
          ],
          [
           0.4,
           "rgb(254,224,139)"
          ],
          [
           0.5,
           "rgb(255,255,191)"
          ],
          [
           0.6,
           "rgb(217,239,139)"
          ],
          [
           0.7,
           "rgb(166,217,106)"
          ],
          [
           0.8,
           "rgb(102,189,99)"
          ],
          [
           0.9,
           "rgb(26,152,80)"
          ],
          [
           1,
           "rgb(0,104,55)"
          ]
         ],
         "showscale": false
        },
        "height": 700,
        "legend": {
         "tracegroupgap": 0
        },
        "paper_bgcolor": "darkgray",
        "plot_bgcolor": "darkgray",
        "template": {
         "data": {
          "bar": [
           {
            "error_x": {
             "color": "#2a3f5f"
            },
            "error_y": {
             "color": "#2a3f5f"
            },
            "marker": {
             "line": {
              "color": "#E5ECF6",
              "width": 0.5
             },
             "pattern": {
              "fillmode": "overlay",
              "size": 10,
              "solidity": 0.2
             }
            },
            "type": "bar"
           }
          ],
          "barpolar": [
           {
            "marker": {
             "line": {
              "color": "#E5ECF6",
              "width": 0.5
             },
             "pattern": {
              "fillmode": "overlay",
              "size": 10,
              "solidity": 0.2
             }
            },
            "type": "barpolar"
           }
          ],
          "carpet": [
           {
            "aaxis": {
             "endlinecolor": "#2a3f5f",
             "gridcolor": "white",
             "linecolor": "white",
             "minorgridcolor": "white",
             "startlinecolor": "#2a3f5f"
            },
            "baxis": {
             "endlinecolor": "#2a3f5f",
             "gridcolor": "white",
             "linecolor": "white",
             "minorgridcolor": "white",
             "startlinecolor": "#2a3f5f"
            },
            "type": "carpet"
           }
          ],
          "choropleth": [
           {
            "colorbar": {
             "outlinewidth": 0,
             "ticks": ""
            },
            "type": "choropleth"
           }
          ],
          "contour": [
           {
            "colorbar": {
             "outlinewidth": 0,
             "ticks": ""
            },
            "colorscale": [
             [
              0,
              "#0d0887"
             ],
             [
              0.1111111111111111,
              "#46039f"
             ],
             [
              0.2222222222222222,
              "#7201a8"
             ],
             [
              0.3333333333333333,
              "#9c179e"
             ],
             [
              0.4444444444444444,
              "#bd3786"
             ],
             [
              0.5555555555555556,
              "#d8576b"
             ],
             [
              0.6666666666666666,
              "#ed7953"
             ],
             [
              0.7777777777777778,
              "#fb9f3a"
             ],
             [
              0.8888888888888888,
              "#fdca26"
             ],
             [
              1,
              "#f0f921"
             ]
            ],
            "type": "contour"
           }
          ],
          "contourcarpet": [
           {
            "colorbar": {
             "outlinewidth": 0,
             "ticks": ""
            },
            "type": "contourcarpet"
           }
          ],
          "heatmap": [
           {
            "colorbar": {
             "outlinewidth": 0,
             "ticks": ""
            },
            "colorscale": [
             [
              0,
              "#0d0887"
             ],
             [
              0.1111111111111111,
              "#46039f"
             ],
             [
              0.2222222222222222,
              "#7201a8"
             ],
             [
              0.3333333333333333,
              "#9c179e"
             ],
             [
              0.4444444444444444,
              "#bd3786"
             ],
             [
              0.5555555555555556,
              "#d8576b"
             ],
             [
              0.6666666666666666,
              "#ed7953"
             ],
             [
              0.7777777777777778,
              "#fb9f3a"
             ],
             [
              0.8888888888888888,
              "#fdca26"
             ],
             [
              1,
              "#f0f921"
             ]
            ],
            "type": "heatmap"
           }
          ],
          "histogram": [
           {
            "marker": {
             "pattern": {
              "fillmode": "overlay",
              "size": 10,
              "solidity": 0.2
             }
            },
            "type": "histogram"
           }
          ],
          "histogram2d": [
           {
            "colorbar": {
             "outlinewidth": 0,
             "ticks": ""
            },
            "colorscale": [
             [
              0,
              "#0d0887"
             ],
             [
              0.1111111111111111,
              "#46039f"
             ],
             [
              0.2222222222222222,
              "#7201a8"
             ],
             [
              0.3333333333333333,
              "#9c179e"
             ],
             [
              0.4444444444444444,
              "#bd3786"
             ],
             [
              0.5555555555555556,
              "#d8576b"
             ],
             [
              0.6666666666666666,
              "#ed7953"
             ],
             [
              0.7777777777777778,
              "#fb9f3a"
             ],
             [
              0.8888888888888888,
              "#fdca26"
             ],
             [
              1,
              "#f0f921"
             ]
            ],
            "type": "histogram2d"
           }
          ],
          "histogram2dcontour": [
           {
            "colorbar": {
             "outlinewidth": 0,
             "ticks": ""
            },
            "colorscale": [
             [
              0,
              "#0d0887"
             ],
             [
              0.1111111111111111,
              "#46039f"
             ],
             [
              0.2222222222222222,
              "#7201a8"
             ],
             [
              0.3333333333333333,
              "#9c179e"
             ],
             [
              0.4444444444444444,
              "#bd3786"
             ],
             [
              0.5555555555555556,
              "#d8576b"
             ],
             [
              0.6666666666666666,
              "#ed7953"
             ],
             [
              0.7777777777777778,
              "#fb9f3a"
             ],
             [
              0.8888888888888888,
              "#fdca26"
             ],
             [
              1,
              "#f0f921"
             ]
            ],
            "type": "histogram2dcontour"
           }
          ],
          "mesh3d": [
           {
            "colorbar": {
             "outlinewidth": 0,
             "ticks": ""
            },
            "type": "mesh3d"
           }
          ],
          "parcoords": [
           {
            "line": {
             "colorbar": {
              "outlinewidth": 0,
              "ticks": ""
             }
            },
            "type": "parcoords"
           }
          ],
          "pie": [
           {
            "automargin": true,
            "type": "pie"
           }
          ],
          "scatter": [
           {
            "fillpattern": {
             "fillmode": "overlay",
             "size": 10,
             "solidity": 0.2
            },
            "type": "scatter"
           }
          ],
          "scatter3d": [
           {
            "line": {
             "colorbar": {
              "outlinewidth": 0,
              "ticks": ""
             }
            },
            "marker": {
             "colorbar": {
              "outlinewidth": 0,
              "ticks": ""
             }
            },
            "type": "scatter3d"
           }
          ],
          "scattercarpet": [
           {
            "marker": {
             "colorbar": {
              "outlinewidth": 0,
              "ticks": ""
             }
            },
            "type": "scattercarpet"
           }
          ],
          "scattergeo": [
           {
            "marker": {
             "colorbar": {
              "outlinewidth": 0,
              "ticks": ""
             }
            },
            "type": "scattergeo"
           }
          ],
          "scattergl": [
           {
            "marker": {
             "colorbar": {
              "outlinewidth": 0,
              "ticks": ""
             }
            },
            "type": "scattergl"
           }
          ],
          "scattermap": [
           {
            "marker": {
             "colorbar": {
              "outlinewidth": 0,
              "ticks": ""
             }
            },
            "type": "scattermap"
           }
          ],
          "scattermapbox": [
           {
            "marker": {
             "colorbar": {
              "outlinewidth": 0,
              "ticks": ""
             }
            },
            "type": "scattermapbox"
           }
          ],
          "scatterpolar": [
           {
            "marker": {
             "colorbar": {
              "outlinewidth": 0,
              "ticks": ""
             }
            },
            "type": "scatterpolar"
           }
          ],
          "scatterpolargl": [
           {
            "marker": {
             "colorbar": {
              "outlinewidth": 0,
              "ticks": ""
             }
            },
            "type": "scatterpolargl"
           }
          ],
          "scatterternary": [
           {
            "marker": {
             "colorbar": {
              "outlinewidth": 0,
              "ticks": ""
             }
            },
            "type": "scatterternary"
           }
          ],
          "surface": [
           {
            "colorbar": {
             "outlinewidth": 0,
             "ticks": ""
            },
            "colorscale": [
             [
              0,
              "#0d0887"
             ],
             [
              0.1111111111111111,
              "#46039f"
             ],
             [
              0.2222222222222222,
              "#7201a8"
             ],
             [
              0.3333333333333333,
              "#9c179e"
             ],
             [
              0.4444444444444444,
              "#bd3786"
             ],
             [
              0.5555555555555556,
              "#d8576b"
             ],
             [
              0.6666666666666666,
              "#ed7953"
             ],
             [
              0.7777777777777778,
              "#fb9f3a"
             ],
             [
              0.8888888888888888,
              "#fdca26"
             ],
             [
              1,
              "#f0f921"
             ]
            ],
            "type": "surface"
           }
          ],
          "table": [
           {
            "cells": {
             "fill": {
              "color": "#EBF0F8"
             },
             "line": {
              "color": "white"
             }
            },
            "header": {
             "fill": {
              "color": "#C8D4E3"
             },
             "line": {
              "color": "white"
             }
            },
            "type": "table"
           }
          ]
         },
         "layout": {
          "annotationdefaults": {
           "arrowcolor": "#2a3f5f",
           "arrowhead": 0,
           "arrowwidth": 1
          },
          "autotypenumbers": "strict",
          "coloraxis": {
           "colorbar": {
            "outlinewidth": 0,
            "ticks": ""
           }
          },
          "colorscale": {
           "diverging": [
            [
             0,
             "#8e0152"
            ],
            [
             0.1,
             "#c51b7d"
            ],
            [
             0.2,
             "#de77ae"
            ],
            [
             0.3,
             "#f1b6da"
            ],
            [
             0.4,
             "#fde0ef"
            ],
            [
             0.5,
             "#f7f7f7"
            ],
            [
             0.6,
             "#e6f5d0"
            ],
            [
             0.7,
             "#b8e186"
            ],
            [
             0.8,
             "#7fbc41"
            ],
            [
             0.9,
             "#4d9221"
            ],
            [
             1,
             "#276419"
            ]
           ],
           "sequential": [
            [
             0,
             "#0d0887"
            ],
            [
             0.1111111111111111,
             "#46039f"
            ],
            [
             0.2222222222222222,
             "#7201a8"
            ],
            [
             0.3333333333333333,
             "#9c179e"
            ],
            [
             0.4444444444444444,
             "#bd3786"
            ],
            [
             0.5555555555555556,
             "#d8576b"
            ],
            [
             0.6666666666666666,
             "#ed7953"
            ],
            [
             0.7777777777777778,
             "#fb9f3a"
            ],
            [
             0.8888888888888888,
             "#fdca26"
            ],
            [
             1,
             "#f0f921"
            ]
           ],
           "sequentialminus": [
            [
             0,
             "#0d0887"
            ],
            [
             0.1111111111111111,
             "#46039f"
            ],
            [
             0.2222222222222222,
             "#7201a8"
            ],
            [
             0.3333333333333333,
             "#9c179e"
            ],
            [
             0.4444444444444444,
             "#bd3786"
            ],
            [
             0.5555555555555556,
             "#d8576b"
            ],
            [
             0.6666666666666666,
             "#ed7953"
            ],
            [
             0.7777777777777778,
             "#fb9f3a"
            ],
            [
             0.8888888888888888,
             "#fdca26"
            ],
            [
             1,
             "#f0f921"
            ]
           ]
          },
          "colorway": [
           "#636efa",
           "#EF553B",
           "#00cc96",
           "#ab63fa",
           "#FFA15A",
           "#19d3f3",
           "#FF6692",
           "#B6E880",
           "#FF97FF",
           "#FECB52"
          ],
          "font": {
           "color": "#2a3f5f"
          },
          "geo": {
           "bgcolor": "white",
           "lakecolor": "white",
           "landcolor": "#E5ECF6",
           "showlakes": true,
           "showland": true,
           "subunitcolor": "white"
          },
          "hoverlabel": {
           "align": "left"
          },
          "hovermode": "closest",
          "mapbox": {
           "style": "light"
          },
          "paper_bgcolor": "white",
          "plot_bgcolor": "#E5ECF6",
          "polar": {
           "angularaxis": {
            "gridcolor": "white",
            "linecolor": "white",
            "ticks": ""
           },
           "bgcolor": "#E5ECF6",
           "radialaxis": {
            "gridcolor": "white",
            "linecolor": "white",
            "ticks": ""
           }
          },
          "scene": {
           "xaxis": {
            "backgroundcolor": "#E5ECF6",
            "gridcolor": "white",
            "gridwidth": 2,
            "linecolor": "white",
            "showbackground": true,
            "ticks": "",
            "zerolinecolor": "white"
           },
           "yaxis": {
            "backgroundcolor": "#E5ECF6",
            "gridcolor": "white",
            "gridwidth": 2,
            "linecolor": "white",
            "showbackground": true,
            "ticks": "",
            "zerolinecolor": "white"
           },
           "zaxis": {
            "backgroundcolor": "#E5ECF6",
            "gridcolor": "white",
            "gridwidth": 2,
            "linecolor": "white",
            "showbackground": true,
            "ticks": "",
            "zerolinecolor": "white"
           }
          },
          "shapedefaults": {
           "line": {
            "color": "#2a3f5f"
           }
          },
          "ternary": {
           "aaxis": {
            "gridcolor": "white",
            "linecolor": "white",
            "ticks": ""
           },
           "baxis": {
            "gridcolor": "white",
            "linecolor": "white",
            "ticks": ""
           },
           "bgcolor": "#E5ECF6",
           "caxis": {
            "gridcolor": "white",
            "linecolor": "white",
            "ticks": ""
           }
          },
          "title": {
           "x": 0.05
          },
          "xaxis": {
           "automargin": true,
           "gridcolor": "white",
           "linecolor": "white",
           "ticks": "",
           "title": {
            "standoff": 15
           },
           "zerolinecolor": "white",
           "zerolinewidth": 2
          },
          "yaxis": {
           "automargin": true,
           "gridcolor": "white",
           "linecolor": "white",
           "ticks": "",
           "title": {
            "standoff": 15
           },
           "zerolinecolor": "white",
           "zerolinewidth": 2
          }
         }
        },
        "title": {
         "text": "Possesion quality ( 16)",
         "x": 0.5,
         "xanchor": "center"
        },
        "width": 1200,
        "xaxis": {
         "anchor": "y",
         "domain": [
          0,
          1
         ],
         "gridcolor": "white",
         "showgrid": true,
         "title": {
          "text": "possession_lost/90"
         },
         "zeroline": false
        },
        "yaxis": {
         "anchor": "x",
         "domain": [
          0,
          1
         ],
         "gridcolor": "white",
         "showgrid": true,
         "title": {
          "text": "possession_won/90"
         },
         "zeroline": false
        }
       }
      }
     },
     "metadata": {},
     "output_type": "display_data"
    }
   ],
   "source": [
    "# Full universe \n",
    "scatter_plot(df_targets,\n",
    "             x_metric='possession_lost/90', \n",
    "             y_metric='possession_won/90',\n",
    "             z_metric='poss+_/90',\n",
    "             title='Possesion quality', \n",
    "             show_name_label=True\n",
    ")"
   ]
  },
  {
   "cell_type": "code",
   "execution_count": null,
   "id": "4647b74a",
   "metadata": {},
   "outputs": [],
   "source": [
    "# Filter data \n",
    "mask = (\n",
    "        (df_players['possession_lost/90'] <= 8) & \\\n",
    "        (df_players['possession_won/90'] >= 7.5) & \\\n",
    "        (df_players['poss+_/90'] >= 0) & \\\n",
    "        (df_players['age'] <= 26) & \\\n",
    "        (df_players['id'].isin(targets))\n",
    "        \n",
    "        \n",
    ")\n",
    "\n",
    "df_targets = df_players[mask]\n",
    "\n",
    "scatter_plot(df_targets,\n",
    "             x_metric='possession_lost/90', \n",
    "             y_metric='possession_won/90',\n",
    "             z_metric='poss+_/90',\n",
    "             title='Possesion quality', \n",
    "             show_name_label=False\n",
    ")\n",
    "\n",
    "# Keep only players that fulfill criteria\n",
    "targets = list(df_targets['id'])"
   ]
  },
  {
   "cell_type": "markdown",
   "id": "05fd5ca0",
   "metadata": {},
   "source": [
    "## Aggresion vs Control\n",
    "Identify aggresive and foul prones targets"
   ]
  },
  {
   "cell_type": "code",
   "execution_count": 15,
   "id": "2d4b5cdd",
   "metadata": {},
   "outputs": [
    {
     "data": {
      "application/vnd.plotly.v1+json": {
       "config": {
        "plotlyServerURL": "https://plot.ly"
       },
       "data": [
        {
         "customdata": [
          [
           "Mats Wieffer",
           "Feyenoord"
          ],
          [
           "Gabriel Moscardo",
           "COR"
          ],
          [
           "Leandro Barreiro",
           "Mainz 05"
          ],
          [
           "Xaver Schlager",
           "RB Leipzig"
          ],
          [
           "Jesús Castillo",
           "Gil Vicente"
          ],
          [
           "Ignacio Miramón",
           "Lille"
          ],
          [
           "William Clem",
           "FC København"
          ],
          [
           "Salis Abdul Samed",
           "Lens"
          ],
          [
           "Michel Ndary Adopo",
           "Atalanta"
          ],
          [
           "Adam Wharton",
           "Crystal Palace"
          ],
          [
           "Mateo Seoane",
           "Talleres"
          ],
          [
           "Oliver Johansen Braude",
           "sc Heerenveen"
          ],
          [
           "Eric Martel",
           "FC Köln"
          ],
          [
           "Hugo Larsson",
           "Eintracht Frankfurt"
          ],
          [
           "Veldin Hodža",
           "Empoli"
          ],
          [
           "Žan Jevšenak",
           "Portimonense"
          ]
         ],
         "hovertemplate": "<b>%{customdata[0]}</b><br><b>%{customdata[1]}</b><br><br>tackles_completed/90: %{x}<br>fouls_committed/90: %{y}<br>tackle_completion_%: %{marker.color}<extra></extra>",
         "legendgroup": "",
         "marker": {
          "color": {
           "bdata": "UUdFSEVFR09JU0lVUVJPSQ==",
           "dtype": "i1"
          },
          "coloraxis": "coloraxis",
          "size": 10,
          "symbol": "circle"
         },
         "mode": "markers+text",
         "name": "",
         "orientation": "v",
         "showlegend": false,
         "text": [
          "Mats Wieffer",
          "Gabriel Moscardo",
          "Leandro Barreiro",
          "Xaver Schlager",
          "Jesús Castillo",
          "Ignacio Miramón",
          "William Clem",
          "Salis Abdul Samed",
          "Michel Ndary Adopo",
          "Adam Wharton",
          "Mateo Seoane",
          "Oliver Johansen Braude",
          "Eric Martel",
          "Hugo Larsson",
          "Veldin Hodža",
          "Žan Jevšenak"
         ],
         "textfont": {
          "size": 10
         },
         "textposition": "top center",
         "type": "scatter",
         "x": {
          "bdata": "AAAAAAAAAECamZmZmZkBQFyPwvUoXAVAUrgehetRAkDhehSuR+H+Pylcj8L1KAJAUrgehetR+D/sUbgehesHQD0K16NwPQZAw/UoXI/CB0BxPQrXo3ABQKRwPQrXowRAexSuR+F6CEBI4XoUrkcJQAAAAAAAAAZACtejcD0KBUA=",
          "dtype": "f8"
         },
         "xaxis": "x",
         "y": {
          "bdata": "ZmZmZmZm5j/NzMzMzMzcPxSuR+F6FP4/FK5H4XoU9j8AAAAAAADwPz0K16NwPf4/XI/C9Shc7z+uR+F6FK7/Pylcj8L1KPg/uB6F61G48j9xPQrXo3DxPwrXo3A9Cuc/CtejcD0K+z/D9Shcj8LxP3sUrkfhevg/w/UoXI/C9T8=",
          "dtype": "f8"
         },
         "yaxis": "y"
        }
       ],
       "layout": {
        "coloraxis": {
         "colorbar": {
          "title": {
           "text": "tackle_completion_%"
          }
         },
         "colorscale": [
          [
           0,
           "rgb(165,0,38)"
          ],
          [
           0.1,
           "rgb(215,48,39)"
          ],
          [
           0.2,
           "rgb(244,109,67)"
          ],
          [
           0.3,
           "rgb(253,174,97)"
          ],
          [
           0.4,
           "rgb(254,224,139)"
          ],
          [
           0.5,
           "rgb(255,255,191)"
          ],
          [
           0.6,
           "rgb(217,239,139)"
          ],
          [
           0.7,
           "rgb(166,217,106)"
          ],
          [
           0.8,
           "rgb(102,189,99)"
          ],
          [
           0.9,
           "rgb(26,152,80)"
          ],
          [
           1,
           "rgb(0,104,55)"
          ]
         ],
         "showscale": false
        },
        "height": 700,
        "legend": {
         "tracegroupgap": 0
        },
        "paper_bgcolor": "darkgray",
        "plot_bgcolor": "darkgray",
        "template": {
         "data": {
          "bar": [
           {
            "error_x": {
             "color": "#2a3f5f"
            },
            "error_y": {
             "color": "#2a3f5f"
            },
            "marker": {
             "line": {
              "color": "#E5ECF6",
              "width": 0.5
             },
             "pattern": {
              "fillmode": "overlay",
              "size": 10,
              "solidity": 0.2
             }
            },
            "type": "bar"
           }
          ],
          "barpolar": [
           {
            "marker": {
             "line": {
              "color": "#E5ECF6",
              "width": 0.5
             },
             "pattern": {
              "fillmode": "overlay",
              "size": 10,
              "solidity": 0.2
             }
            },
            "type": "barpolar"
           }
          ],
          "carpet": [
           {
            "aaxis": {
             "endlinecolor": "#2a3f5f",
             "gridcolor": "white",
             "linecolor": "white",
             "minorgridcolor": "white",
             "startlinecolor": "#2a3f5f"
            },
            "baxis": {
             "endlinecolor": "#2a3f5f",
             "gridcolor": "white",
             "linecolor": "white",
             "minorgridcolor": "white",
             "startlinecolor": "#2a3f5f"
            },
            "type": "carpet"
           }
          ],
          "choropleth": [
           {
            "colorbar": {
             "outlinewidth": 0,
             "ticks": ""
            },
            "type": "choropleth"
           }
          ],
          "contour": [
           {
            "colorbar": {
             "outlinewidth": 0,
             "ticks": ""
            },
            "colorscale": [
             [
              0,
              "#0d0887"
             ],
             [
              0.1111111111111111,
              "#46039f"
             ],
             [
              0.2222222222222222,
              "#7201a8"
             ],
             [
              0.3333333333333333,
              "#9c179e"
             ],
             [
              0.4444444444444444,
              "#bd3786"
             ],
             [
              0.5555555555555556,
              "#d8576b"
             ],
             [
              0.6666666666666666,
              "#ed7953"
             ],
             [
              0.7777777777777778,
              "#fb9f3a"
             ],
             [
              0.8888888888888888,
              "#fdca26"
             ],
             [
              1,
              "#f0f921"
             ]
            ],
            "type": "contour"
           }
          ],
          "contourcarpet": [
           {
            "colorbar": {
             "outlinewidth": 0,
             "ticks": ""
            },
            "type": "contourcarpet"
           }
          ],
          "heatmap": [
           {
            "colorbar": {
             "outlinewidth": 0,
             "ticks": ""
            },
            "colorscale": [
             [
              0,
              "#0d0887"
             ],
             [
              0.1111111111111111,
              "#46039f"
             ],
             [
              0.2222222222222222,
              "#7201a8"
             ],
             [
              0.3333333333333333,
              "#9c179e"
             ],
             [
              0.4444444444444444,
              "#bd3786"
             ],
             [
              0.5555555555555556,
              "#d8576b"
             ],
             [
              0.6666666666666666,
              "#ed7953"
             ],
             [
              0.7777777777777778,
              "#fb9f3a"
             ],
             [
              0.8888888888888888,
              "#fdca26"
             ],
             [
              1,
              "#f0f921"
             ]
            ],
            "type": "heatmap"
           }
          ],
          "histogram": [
           {
            "marker": {
             "pattern": {
              "fillmode": "overlay",
              "size": 10,
              "solidity": 0.2
             }
            },
            "type": "histogram"
           }
          ],
          "histogram2d": [
           {
            "colorbar": {
             "outlinewidth": 0,
             "ticks": ""
            },
            "colorscale": [
             [
              0,
              "#0d0887"
             ],
             [
              0.1111111111111111,
              "#46039f"
             ],
             [
              0.2222222222222222,
              "#7201a8"
             ],
             [
              0.3333333333333333,
              "#9c179e"
             ],
             [
              0.4444444444444444,
              "#bd3786"
             ],
             [
              0.5555555555555556,
              "#d8576b"
             ],
             [
              0.6666666666666666,
              "#ed7953"
             ],
             [
              0.7777777777777778,
              "#fb9f3a"
             ],
             [
              0.8888888888888888,
              "#fdca26"
             ],
             [
              1,
              "#f0f921"
             ]
            ],
            "type": "histogram2d"
           }
          ],
          "histogram2dcontour": [
           {
            "colorbar": {
             "outlinewidth": 0,
             "ticks": ""
            },
            "colorscale": [
             [
              0,
              "#0d0887"
             ],
             [
              0.1111111111111111,
              "#46039f"
             ],
             [
              0.2222222222222222,
              "#7201a8"
             ],
             [
              0.3333333333333333,
              "#9c179e"
             ],
             [
              0.4444444444444444,
              "#bd3786"
             ],
             [
              0.5555555555555556,
              "#d8576b"
             ],
             [
              0.6666666666666666,
              "#ed7953"
             ],
             [
              0.7777777777777778,
              "#fb9f3a"
             ],
             [
              0.8888888888888888,
              "#fdca26"
             ],
             [
              1,
              "#f0f921"
             ]
            ],
            "type": "histogram2dcontour"
           }
          ],
          "mesh3d": [
           {
            "colorbar": {
             "outlinewidth": 0,
             "ticks": ""
            },
            "type": "mesh3d"
           }
          ],
          "parcoords": [
           {
            "line": {
             "colorbar": {
              "outlinewidth": 0,
              "ticks": ""
             }
            },
            "type": "parcoords"
           }
          ],
          "pie": [
           {
            "automargin": true,
            "type": "pie"
           }
          ],
          "scatter": [
           {
            "fillpattern": {
             "fillmode": "overlay",
             "size": 10,
             "solidity": 0.2
            },
            "type": "scatter"
           }
          ],
          "scatter3d": [
           {
            "line": {
             "colorbar": {
              "outlinewidth": 0,
              "ticks": ""
             }
            },
            "marker": {
             "colorbar": {
              "outlinewidth": 0,
              "ticks": ""
             }
            },
            "type": "scatter3d"
           }
          ],
          "scattercarpet": [
           {
            "marker": {
             "colorbar": {
              "outlinewidth": 0,
              "ticks": ""
             }
            },
            "type": "scattercarpet"
           }
          ],
          "scattergeo": [
           {
            "marker": {
             "colorbar": {
              "outlinewidth": 0,
              "ticks": ""
             }
            },
            "type": "scattergeo"
           }
          ],
          "scattergl": [
           {
            "marker": {
             "colorbar": {
              "outlinewidth": 0,
              "ticks": ""
             }
            },
            "type": "scattergl"
           }
          ],
          "scattermap": [
           {
            "marker": {
             "colorbar": {
              "outlinewidth": 0,
              "ticks": ""
             }
            },
            "type": "scattermap"
           }
          ],
          "scattermapbox": [
           {
            "marker": {
             "colorbar": {
              "outlinewidth": 0,
              "ticks": ""
             }
            },
            "type": "scattermapbox"
           }
          ],
          "scatterpolar": [
           {
            "marker": {
             "colorbar": {
              "outlinewidth": 0,
              "ticks": ""
             }
            },
            "type": "scatterpolar"
           }
          ],
          "scatterpolargl": [
           {
            "marker": {
             "colorbar": {
              "outlinewidth": 0,
              "ticks": ""
             }
            },
            "type": "scatterpolargl"
           }
          ],
          "scatterternary": [
           {
            "marker": {
             "colorbar": {
              "outlinewidth": 0,
              "ticks": ""
             }
            },
            "type": "scatterternary"
           }
          ],
          "surface": [
           {
            "colorbar": {
             "outlinewidth": 0,
             "ticks": ""
            },
            "colorscale": [
             [
              0,
              "#0d0887"
             ],
             [
              0.1111111111111111,
              "#46039f"
             ],
             [
              0.2222222222222222,
              "#7201a8"
             ],
             [
              0.3333333333333333,
              "#9c179e"
             ],
             [
              0.4444444444444444,
              "#bd3786"
             ],
             [
              0.5555555555555556,
              "#d8576b"
             ],
             [
              0.6666666666666666,
              "#ed7953"
             ],
             [
              0.7777777777777778,
              "#fb9f3a"
             ],
             [
              0.8888888888888888,
              "#fdca26"
             ],
             [
              1,
              "#f0f921"
             ]
            ],
            "type": "surface"
           }
          ],
          "table": [
           {
            "cells": {
             "fill": {
              "color": "#EBF0F8"
             },
             "line": {
              "color": "white"
             }
            },
            "header": {
             "fill": {
              "color": "#C8D4E3"
             },
             "line": {
              "color": "white"
             }
            },
            "type": "table"
           }
          ]
         },
         "layout": {
          "annotationdefaults": {
           "arrowcolor": "#2a3f5f",
           "arrowhead": 0,
           "arrowwidth": 1
          },
          "autotypenumbers": "strict",
          "coloraxis": {
           "colorbar": {
            "outlinewidth": 0,
            "ticks": ""
           }
          },
          "colorscale": {
           "diverging": [
            [
             0,
             "#8e0152"
            ],
            [
             0.1,
             "#c51b7d"
            ],
            [
             0.2,
             "#de77ae"
            ],
            [
             0.3,
             "#f1b6da"
            ],
            [
             0.4,
             "#fde0ef"
            ],
            [
             0.5,
             "#f7f7f7"
            ],
            [
             0.6,
             "#e6f5d0"
            ],
            [
             0.7,
             "#b8e186"
            ],
            [
             0.8,
             "#7fbc41"
            ],
            [
             0.9,
             "#4d9221"
            ],
            [
             1,
             "#276419"
            ]
           ],
           "sequential": [
            [
             0,
             "#0d0887"
            ],
            [
             0.1111111111111111,
             "#46039f"
            ],
            [
             0.2222222222222222,
             "#7201a8"
            ],
            [
             0.3333333333333333,
             "#9c179e"
            ],
            [
             0.4444444444444444,
             "#bd3786"
            ],
            [
             0.5555555555555556,
             "#d8576b"
            ],
            [
             0.6666666666666666,
             "#ed7953"
            ],
            [
             0.7777777777777778,
             "#fb9f3a"
            ],
            [
             0.8888888888888888,
             "#fdca26"
            ],
            [
             1,
             "#f0f921"
            ]
           ],
           "sequentialminus": [
            [
             0,
             "#0d0887"
            ],
            [
             0.1111111111111111,
             "#46039f"
            ],
            [
             0.2222222222222222,
             "#7201a8"
            ],
            [
             0.3333333333333333,
             "#9c179e"
            ],
            [
             0.4444444444444444,
             "#bd3786"
            ],
            [
             0.5555555555555556,
             "#d8576b"
            ],
            [
             0.6666666666666666,
             "#ed7953"
            ],
            [
             0.7777777777777778,
             "#fb9f3a"
            ],
            [
             0.8888888888888888,
             "#fdca26"
            ],
            [
             1,
             "#f0f921"
            ]
           ]
          },
          "colorway": [
           "#636efa",
           "#EF553B",
           "#00cc96",
           "#ab63fa",
           "#FFA15A",
           "#19d3f3",
           "#FF6692",
           "#B6E880",
           "#FF97FF",
           "#FECB52"
          ],
          "font": {
           "color": "#2a3f5f"
          },
          "geo": {
           "bgcolor": "white",
           "lakecolor": "white",
           "landcolor": "#E5ECF6",
           "showlakes": true,
           "showland": true,
           "subunitcolor": "white"
          },
          "hoverlabel": {
           "align": "left"
          },
          "hovermode": "closest",
          "mapbox": {
           "style": "light"
          },
          "paper_bgcolor": "white",
          "plot_bgcolor": "#E5ECF6",
          "polar": {
           "angularaxis": {
            "gridcolor": "white",
            "linecolor": "white",
            "ticks": ""
           },
           "bgcolor": "#E5ECF6",
           "radialaxis": {
            "gridcolor": "white",
            "linecolor": "white",
            "ticks": ""
           }
          },
          "scene": {
           "xaxis": {
            "backgroundcolor": "#E5ECF6",
            "gridcolor": "white",
            "gridwidth": 2,
            "linecolor": "white",
            "showbackground": true,
            "ticks": "",
            "zerolinecolor": "white"
           },
           "yaxis": {
            "backgroundcolor": "#E5ECF6",
            "gridcolor": "white",
            "gridwidth": 2,
            "linecolor": "white",
            "showbackground": true,
            "ticks": "",
            "zerolinecolor": "white"
           },
           "zaxis": {
            "backgroundcolor": "#E5ECF6",
            "gridcolor": "white",
            "gridwidth": 2,
            "linecolor": "white",
            "showbackground": true,
            "ticks": "",
            "zerolinecolor": "white"
           }
          },
          "shapedefaults": {
           "line": {
            "color": "#2a3f5f"
           }
          },
          "ternary": {
           "aaxis": {
            "gridcolor": "white",
            "linecolor": "white",
            "ticks": ""
           },
           "baxis": {
            "gridcolor": "white",
            "linecolor": "white",
            "ticks": ""
           },
           "bgcolor": "#E5ECF6",
           "caxis": {
            "gridcolor": "white",
            "linecolor": "white",
            "ticks": ""
           }
          },
          "title": {
           "x": 0.05
          },
          "xaxis": {
           "automargin": true,
           "gridcolor": "white",
           "linecolor": "white",
           "ticks": "",
           "title": {
            "standoff": 15
           },
           "zerolinecolor": "white",
           "zerolinewidth": 2
          },
          "yaxis": {
           "automargin": true,
           "gridcolor": "white",
           "linecolor": "white",
           "ticks": "",
           "title": {
            "standoff": 15
           },
           "zerolinecolor": "white",
           "zerolinewidth": 2
          }
         }
        },
        "title": {
         "text": "Aggresion - Control ( 16)",
         "x": 0.5,
         "xanchor": "center"
        },
        "width": 1200,
        "xaxis": {
         "anchor": "y",
         "domain": [
          0,
          1
         ],
         "gridcolor": "white",
         "showgrid": true,
         "title": {
          "text": "tackles_completed/90"
         },
         "zeroline": false
        },
        "yaxis": {
         "anchor": "x",
         "domain": [
          0,
          1
         ],
         "gridcolor": "white",
         "showgrid": true,
         "title": {
          "text": "fouls_committed/90"
         },
         "zeroline": false
        }
       }
      }
     },
     "metadata": {},
     "output_type": "display_data"
    }
   ],
   "source": [
    "# Full universe \n",
    "scatter_plot(df_targets,\n",
    "             x_metric='tackles_completed/90', \n",
    "             y_metric='fouls_committed/90',\n",
    "             z_metric='tackle_completion_%',\n",
    "             title='Aggresion - Control', \n",
    "             show_name_label=True\n",
    ")"
   ]
  },
  {
   "cell_type": "code",
   "execution_count": 16,
   "id": "04e9f933",
   "metadata": {},
   "outputs": [
    {
     "data": {
      "application/vnd.plotly.v1+json": {
       "config": {
        "plotlyServerURL": "https://plot.ly"
       },
       "data": [
        {
         "customdata": [
          [
           "Mats Wieffer",
           "Feyenoord"
          ],
          [
           "Gabriel Moscardo",
           "COR"
          ],
          [
           "Leandro Barreiro",
           "Mainz 05"
          ],
          [
           "Xaver Schlager",
           "RB Leipzig"
          ],
          [
           "Jesús Castillo",
           "Gil Vicente"
          ],
          [
           "Ignacio Miramón",
           "Lille"
          ],
          [
           "William Clem",
           "FC København"
          ],
          [
           "Salis Abdul Samed",
           "Lens"
          ],
          [
           "Michel Ndary Adopo",
           "Atalanta"
          ],
          [
           "Adam Wharton",
           "Crystal Palace"
          ],
          [
           "Mateo Seoane",
           "Talleres"
          ],
          [
           "Oliver Johansen Braude",
           "sc Heerenveen"
          ],
          [
           "Eric Martel",
           "FC Köln"
          ],
          [
           "Hugo Larsson",
           "Eintracht Frankfurt"
          ],
          [
           "Veldin Hodža",
           "Empoli"
          ],
          [
           "Žan Jevšenak",
           "Portimonense"
          ]
         ],
         "hovertemplate": "<b>%{customdata[0]}</b><br><b>%{customdata[1]}</b><br><br>tackles_completed/90: %{x}<br>fouls_committed/90: %{y}<br>tackle_completion_%: %{marker.color}<extra></extra>",
         "legendgroup": "",
         "marker": {
          "color": {
           "bdata": "UUdFSEVFR09JU0lVUVJPSQ==",
           "dtype": "i1"
          },
          "coloraxis": "coloraxis",
          "size": 10,
          "symbol": "circle"
         },
         "mode": "markers",
         "name": "",
         "orientation": "v",
         "showlegend": false,
         "textfont": {
          "size": 10
         },
         "textposition": "top center",
         "type": "scatter",
         "x": {
          "bdata": "AAAAAAAAAECamZmZmZkBQFyPwvUoXAVAUrgehetRAkDhehSuR+H+Pylcj8L1KAJAUrgehetR+D/sUbgehesHQD0K16NwPQZAw/UoXI/CB0BxPQrXo3ABQKRwPQrXowRAexSuR+F6CEBI4XoUrkcJQAAAAAAAAAZACtejcD0KBUA=",
          "dtype": "f8"
         },
         "xaxis": "x",
         "y": {
          "bdata": "ZmZmZmZm5j/NzMzMzMzcPxSuR+F6FP4/FK5H4XoU9j8AAAAAAADwPz0K16NwPf4/XI/C9Shc7z+uR+F6FK7/Pylcj8L1KPg/uB6F61G48j9xPQrXo3DxPwrXo3A9Cuc/CtejcD0K+z/D9Shcj8LxP3sUrkfhevg/w/UoXI/C9T8=",
          "dtype": "f8"
         },
         "yaxis": "y"
        }
       ],
       "layout": {
        "coloraxis": {
         "colorbar": {
          "title": {
           "text": "tackle_completion_%"
          }
         },
         "colorscale": [
          [
           0,
           "rgb(165,0,38)"
          ],
          [
           0.1,
           "rgb(215,48,39)"
          ],
          [
           0.2,
           "rgb(244,109,67)"
          ],
          [
           0.3,
           "rgb(253,174,97)"
          ],
          [
           0.4,
           "rgb(254,224,139)"
          ],
          [
           0.5,
           "rgb(255,255,191)"
          ],
          [
           0.6,
           "rgb(217,239,139)"
          ],
          [
           0.7,
           "rgb(166,217,106)"
          ],
          [
           0.8,
           "rgb(102,189,99)"
          ],
          [
           0.9,
           "rgb(26,152,80)"
          ],
          [
           1,
           "rgb(0,104,55)"
          ]
         ],
         "showscale": false
        },
        "height": 700,
        "legend": {
         "tracegroupgap": 0
        },
        "paper_bgcolor": "darkgray",
        "plot_bgcolor": "darkgray",
        "template": {
         "data": {
          "bar": [
           {
            "error_x": {
             "color": "#2a3f5f"
            },
            "error_y": {
             "color": "#2a3f5f"
            },
            "marker": {
             "line": {
              "color": "#E5ECF6",
              "width": 0.5
             },
             "pattern": {
              "fillmode": "overlay",
              "size": 10,
              "solidity": 0.2
             }
            },
            "type": "bar"
           }
          ],
          "barpolar": [
           {
            "marker": {
             "line": {
              "color": "#E5ECF6",
              "width": 0.5
             },
             "pattern": {
              "fillmode": "overlay",
              "size": 10,
              "solidity": 0.2
             }
            },
            "type": "barpolar"
           }
          ],
          "carpet": [
           {
            "aaxis": {
             "endlinecolor": "#2a3f5f",
             "gridcolor": "white",
             "linecolor": "white",
             "minorgridcolor": "white",
             "startlinecolor": "#2a3f5f"
            },
            "baxis": {
             "endlinecolor": "#2a3f5f",
             "gridcolor": "white",
             "linecolor": "white",
             "minorgridcolor": "white",
             "startlinecolor": "#2a3f5f"
            },
            "type": "carpet"
           }
          ],
          "choropleth": [
           {
            "colorbar": {
             "outlinewidth": 0,
             "ticks": ""
            },
            "type": "choropleth"
           }
          ],
          "contour": [
           {
            "colorbar": {
             "outlinewidth": 0,
             "ticks": ""
            },
            "colorscale": [
             [
              0,
              "#0d0887"
             ],
             [
              0.1111111111111111,
              "#46039f"
             ],
             [
              0.2222222222222222,
              "#7201a8"
             ],
             [
              0.3333333333333333,
              "#9c179e"
             ],
             [
              0.4444444444444444,
              "#bd3786"
             ],
             [
              0.5555555555555556,
              "#d8576b"
             ],
             [
              0.6666666666666666,
              "#ed7953"
             ],
             [
              0.7777777777777778,
              "#fb9f3a"
             ],
             [
              0.8888888888888888,
              "#fdca26"
             ],
             [
              1,
              "#f0f921"
             ]
            ],
            "type": "contour"
           }
          ],
          "contourcarpet": [
           {
            "colorbar": {
             "outlinewidth": 0,
             "ticks": ""
            },
            "type": "contourcarpet"
           }
          ],
          "heatmap": [
           {
            "colorbar": {
             "outlinewidth": 0,
             "ticks": ""
            },
            "colorscale": [
             [
              0,
              "#0d0887"
             ],
             [
              0.1111111111111111,
              "#46039f"
             ],
             [
              0.2222222222222222,
              "#7201a8"
             ],
             [
              0.3333333333333333,
              "#9c179e"
             ],
             [
              0.4444444444444444,
              "#bd3786"
             ],
             [
              0.5555555555555556,
              "#d8576b"
             ],
             [
              0.6666666666666666,
              "#ed7953"
             ],
             [
              0.7777777777777778,
              "#fb9f3a"
             ],
             [
              0.8888888888888888,
              "#fdca26"
             ],
             [
              1,
              "#f0f921"
             ]
            ],
            "type": "heatmap"
           }
          ],
          "histogram": [
           {
            "marker": {
             "pattern": {
              "fillmode": "overlay",
              "size": 10,
              "solidity": 0.2
             }
            },
            "type": "histogram"
           }
          ],
          "histogram2d": [
           {
            "colorbar": {
             "outlinewidth": 0,
             "ticks": ""
            },
            "colorscale": [
             [
              0,
              "#0d0887"
             ],
             [
              0.1111111111111111,
              "#46039f"
             ],
             [
              0.2222222222222222,
              "#7201a8"
             ],
             [
              0.3333333333333333,
              "#9c179e"
             ],
             [
              0.4444444444444444,
              "#bd3786"
             ],
             [
              0.5555555555555556,
              "#d8576b"
             ],
             [
              0.6666666666666666,
              "#ed7953"
             ],
             [
              0.7777777777777778,
              "#fb9f3a"
             ],
             [
              0.8888888888888888,
              "#fdca26"
             ],
             [
              1,
              "#f0f921"
             ]
            ],
            "type": "histogram2d"
           }
          ],
          "histogram2dcontour": [
           {
            "colorbar": {
             "outlinewidth": 0,
             "ticks": ""
            },
            "colorscale": [
             [
              0,
              "#0d0887"
             ],
             [
              0.1111111111111111,
              "#46039f"
             ],
             [
              0.2222222222222222,
              "#7201a8"
             ],
             [
              0.3333333333333333,
              "#9c179e"
             ],
             [
              0.4444444444444444,
              "#bd3786"
             ],
             [
              0.5555555555555556,
              "#d8576b"
             ],
             [
              0.6666666666666666,
              "#ed7953"
             ],
             [
              0.7777777777777778,
              "#fb9f3a"
             ],
             [
              0.8888888888888888,
              "#fdca26"
             ],
             [
              1,
              "#f0f921"
             ]
            ],
            "type": "histogram2dcontour"
           }
          ],
          "mesh3d": [
           {
            "colorbar": {
             "outlinewidth": 0,
             "ticks": ""
            },
            "type": "mesh3d"
           }
          ],
          "parcoords": [
           {
            "line": {
             "colorbar": {
              "outlinewidth": 0,
              "ticks": ""
             }
            },
            "type": "parcoords"
           }
          ],
          "pie": [
           {
            "automargin": true,
            "type": "pie"
           }
          ],
          "scatter": [
           {
            "fillpattern": {
             "fillmode": "overlay",
             "size": 10,
             "solidity": 0.2
            },
            "type": "scatter"
           }
          ],
          "scatter3d": [
           {
            "line": {
             "colorbar": {
              "outlinewidth": 0,
              "ticks": ""
             }
            },
            "marker": {
             "colorbar": {
              "outlinewidth": 0,
              "ticks": ""
             }
            },
            "type": "scatter3d"
           }
          ],
          "scattercarpet": [
           {
            "marker": {
             "colorbar": {
              "outlinewidth": 0,
              "ticks": ""
             }
            },
            "type": "scattercarpet"
           }
          ],
          "scattergeo": [
           {
            "marker": {
             "colorbar": {
              "outlinewidth": 0,
              "ticks": ""
             }
            },
            "type": "scattergeo"
           }
          ],
          "scattergl": [
           {
            "marker": {
             "colorbar": {
              "outlinewidth": 0,
              "ticks": ""
             }
            },
            "type": "scattergl"
           }
          ],
          "scattermap": [
           {
            "marker": {
             "colorbar": {
              "outlinewidth": 0,
              "ticks": ""
             }
            },
            "type": "scattermap"
           }
          ],
          "scattermapbox": [
           {
            "marker": {
             "colorbar": {
              "outlinewidth": 0,
              "ticks": ""
             }
            },
            "type": "scattermapbox"
           }
          ],
          "scatterpolar": [
           {
            "marker": {
             "colorbar": {
              "outlinewidth": 0,
              "ticks": ""
             }
            },
            "type": "scatterpolar"
           }
          ],
          "scatterpolargl": [
           {
            "marker": {
             "colorbar": {
              "outlinewidth": 0,
              "ticks": ""
             }
            },
            "type": "scatterpolargl"
           }
          ],
          "scatterternary": [
           {
            "marker": {
             "colorbar": {
              "outlinewidth": 0,
              "ticks": ""
             }
            },
            "type": "scatterternary"
           }
          ],
          "surface": [
           {
            "colorbar": {
             "outlinewidth": 0,
             "ticks": ""
            },
            "colorscale": [
             [
              0,
              "#0d0887"
             ],
             [
              0.1111111111111111,
              "#46039f"
             ],
             [
              0.2222222222222222,
              "#7201a8"
             ],
             [
              0.3333333333333333,
              "#9c179e"
             ],
             [
              0.4444444444444444,
              "#bd3786"
             ],
             [
              0.5555555555555556,
              "#d8576b"
             ],
             [
              0.6666666666666666,
              "#ed7953"
             ],
             [
              0.7777777777777778,
              "#fb9f3a"
             ],
             [
              0.8888888888888888,
              "#fdca26"
             ],
             [
              1,
              "#f0f921"
             ]
            ],
            "type": "surface"
           }
          ],
          "table": [
           {
            "cells": {
             "fill": {
              "color": "#EBF0F8"
             },
             "line": {
              "color": "white"
             }
            },
            "header": {
             "fill": {
              "color": "#C8D4E3"
             },
             "line": {
              "color": "white"
             }
            },
            "type": "table"
           }
          ]
         },
         "layout": {
          "annotationdefaults": {
           "arrowcolor": "#2a3f5f",
           "arrowhead": 0,
           "arrowwidth": 1
          },
          "autotypenumbers": "strict",
          "coloraxis": {
           "colorbar": {
            "outlinewidth": 0,
            "ticks": ""
           }
          },
          "colorscale": {
           "diverging": [
            [
             0,
             "#8e0152"
            ],
            [
             0.1,
             "#c51b7d"
            ],
            [
             0.2,
             "#de77ae"
            ],
            [
             0.3,
             "#f1b6da"
            ],
            [
             0.4,
             "#fde0ef"
            ],
            [
             0.5,
             "#f7f7f7"
            ],
            [
             0.6,
             "#e6f5d0"
            ],
            [
             0.7,
             "#b8e186"
            ],
            [
             0.8,
             "#7fbc41"
            ],
            [
             0.9,
             "#4d9221"
            ],
            [
             1,
             "#276419"
            ]
           ],
           "sequential": [
            [
             0,
             "#0d0887"
            ],
            [
             0.1111111111111111,
             "#46039f"
            ],
            [
             0.2222222222222222,
             "#7201a8"
            ],
            [
             0.3333333333333333,
             "#9c179e"
            ],
            [
             0.4444444444444444,
             "#bd3786"
            ],
            [
             0.5555555555555556,
             "#d8576b"
            ],
            [
             0.6666666666666666,
             "#ed7953"
            ],
            [
             0.7777777777777778,
             "#fb9f3a"
            ],
            [
             0.8888888888888888,
             "#fdca26"
            ],
            [
             1,
             "#f0f921"
            ]
           ],
           "sequentialminus": [
            [
             0,
             "#0d0887"
            ],
            [
             0.1111111111111111,
             "#46039f"
            ],
            [
             0.2222222222222222,
             "#7201a8"
            ],
            [
             0.3333333333333333,
             "#9c179e"
            ],
            [
             0.4444444444444444,
             "#bd3786"
            ],
            [
             0.5555555555555556,
             "#d8576b"
            ],
            [
             0.6666666666666666,
             "#ed7953"
            ],
            [
             0.7777777777777778,
             "#fb9f3a"
            ],
            [
             0.8888888888888888,
             "#fdca26"
            ],
            [
             1,
             "#f0f921"
            ]
           ]
          },
          "colorway": [
           "#636efa",
           "#EF553B",
           "#00cc96",
           "#ab63fa",
           "#FFA15A",
           "#19d3f3",
           "#FF6692",
           "#B6E880",
           "#FF97FF",
           "#FECB52"
          ],
          "font": {
           "color": "#2a3f5f"
          },
          "geo": {
           "bgcolor": "white",
           "lakecolor": "white",
           "landcolor": "#E5ECF6",
           "showlakes": true,
           "showland": true,
           "subunitcolor": "white"
          },
          "hoverlabel": {
           "align": "left"
          },
          "hovermode": "closest",
          "mapbox": {
           "style": "light"
          },
          "paper_bgcolor": "white",
          "plot_bgcolor": "#E5ECF6",
          "polar": {
           "angularaxis": {
            "gridcolor": "white",
            "linecolor": "white",
            "ticks": ""
           },
           "bgcolor": "#E5ECF6",
           "radialaxis": {
            "gridcolor": "white",
            "linecolor": "white",
            "ticks": ""
           }
          },
          "scene": {
           "xaxis": {
            "backgroundcolor": "#E5ECF6",
            "gridcolor": "white",
            "gridwidth": 2,
            "linecolor": "white",
            "showbackground": true,
            "ticks": "",
            "zerolinecolor": "white"
           },
           "yaxis": {
            "backgroundcolor": "#E5ECF6",
            "gridcolor": "white",
            "gridwidth": 2,
            "linecolor": "white",
            "showbackground": true,
            "ticks": "",
            "zerolinecolor": "white"
           },
           "zaxis": {
            "backgroundcolor": "#E5ECF6",
            "gridcolor": "white",
            "gridwidth": 2,
            "linecolor": "white",
            "showbackground": true,
            "ticks": "",
            "zerolinecolor": "white"
           }
          },
          "shapedefaults": {
           "line": {
            "color": "#2a3f5f"
           }
          },
          "ternary": {
           "aaxis": {
            "gridcolor": "white",
            "linecolor": "white",
            "ticks": ""
           },
           "baxis": {
            "gridcolor": "white",
            "linecolor": "white",
            "ticks": ""
           },
           "bgcolor": "#E5ECF6",
           "caxis": {
            "gridcolor": "white",
            "linecolor": "white",
            "ticks": ""
           }
          },
          "title": {
           "x": 0.05
          },
          "xaxis": {
           "automargin": true,
           "gridcolor": "white",
           "linecolor": "white",
           "ticks": "",
           "title": {
            "standoff": 15
           },
           "zerolinecolor": "white",
           "zerolinewidth": 2
          },
          "yaxis": {
           "automargin": true,
           "gridcolor": "white",
           "linecolor": "white",
           "ticks": "",
           "title": {
            "standoff": 15
           },
           "zerolinecolor": "white",
           "zerolinewidth": 2
          }
         }
        },
        "title": {
         "text": "Aggresion - Control ( 16)",
         "x": 0.5,
         "xanchor": "center"
        },
        "width": 1200,
        "xaxis": {
         "anchor": "y",
         "domain": [
          0,
          1
         ],
         "gridcolor": "white",
         "showgrid": true,
         "title": {
          "text": "tackles_completed/90"
         },
         "zeroline": false
        },
        "yaxis": {
         "anchor": "x",
         "domain": [
          0,
          1
         ],
         "gridcolor": "white",
         "showgrid": true,
         "title": {
          "text": "fouls_committed/90"
         },
         "zeroline": false
        }
       }
      }
     },
     "metadata": {},
     "output_type": "display_data"
    }
   ],
   "source": [
    "# Compute tackes/fouls ratio\n",
    "df_players['tackles_comp-fouls/90'] = df_players['tackles_completed/90'] / df_players['fouls_committed/90']\n",
    "# Filter data \n",
    "mask = (\n",
    "        # (df_players['tackles_comp-fouls/90'] <= 2) & \\\n",
    "        # (df_players['tackles_completed/90'] >= 1.5) & \\\n",
    "        # (df_players['tackle_completion_%'] >= 65) & \\\n",
    "        #(df_players['price_estimate_M'] <= 40) & \\\n",
    "        (df_players['id'].isin(targets))\n",
    "        \n",
    "        \n",
    ")\n",
    "\n",
    "df_targets = df_players[mask]\n",
    "\n",
    "scatter_plot(df_targets,\n",
    "             x_metric='tackles_completed/90', \n",
    "             y_metric='fouls_committed/90',\n",
    "             z_metric='tackle_completion_%',\n",
    "             title='Aggresion - Control', \n",
    "             show_name_label=False\n",
    ")\n",
    "\n",
    "# Keep only players that fulfill criteria\n",
    "targets = df_targets['id']"
   ]
  },
  {
   "cell_type": "markdown",
   "id": "a76d3e76",
   "metadata": {},
   "source": [
    "## Pressure quality"
   ]
  },
  {
   "cell_type": "code",
   "execution_count": 17,
   "id": "7794f58b",
   "metadata": {},
   "outputs": [
    {
     "data": {
      "application/vnd.plotly.v1+json": {
       "config": {
        "plotlyServerURL": "https://plot.ly"
       },
       "data": [
        {
         "customdata": [
          [
           "Mats Wieffer",
           "Feyenoord"
          ],
          [
           "Gabriel Moscardo",
           "COR"
          ],
          [
           "Leandro Barreiro",
           "Mainz 05"
          ],
          [
           "Xaver Schlager",
           "RB Leipzig"
          ],
          [
           "Jesús Castillo",
           "Gil Vicente"
          ],
          [
           "Ignacio Miramón",
           "Lille"
          ],
          [
           "William Clem",
           "FC København"
          ],
          [
           "Salis Abdul Samed",
           "Lens"
          ],
          [
           "Michel Ndary Adopo",
           "Atalanta"
          ],
          [
           "Adam Wharton",
           "Crystal Palace"
          ],
          [
           "Mateo Seoane",
           "Talleres"
          ],
          [
           "Oliver Johansen Braude",
           "sc Heerenveen"
          ],
          [
           "Eric Martel",
           "FC Köln"
          ],
          [
           "Hugo Larsson",
           "Eintracht Frankfurt"
          ],
          [
           "Veldin Hodža",
           "Empoli"
          ],
          [
           "Žan Jevšenak",
           "Portimonense"
          ]
         ],
         "hovertemplate": "<b>%{customdata[0]}</b><br><b>%{customdata[1]}</b><br><br>pressures_completed/90: %{x}<br>pressure_success_%: %{y}<br>duels_win_%: %{marker.color}<extra></extra>",
         "legendgroup": "",
         "marker": {
          "color": {
           "bdata": "UrgeheuBUEB7FK5H4apQQOxRuB6FK0pAw/UoXI9iTED2KFyPwpVOQGZmZmZmxkxAAAAAAACAUkC4HoXrUdhQQAAAAAAAMFBAMzMzMzPDUEBSuB6F69FMQFK4HoXrEU9AuB6F61EIUEBSuB6F65FQQArXo3A9Kk1AFK5H4XoUU0A=",
           "dtype": "f8"
          },
          "coloraxis": "coloraxis",
          "size": 10,
          "symbol": "circle"
         },
         "mode": "markers+text",
         "name": "",
         "orientation": "v",
         "showlegend": false,
         "text": [
          "Mats Wieffer",
          "Gabriel Moscardo",
          "Leandro Barreiro",
          "Xaver Schlager",
          "Jesús Castillo",
          "Ignacio Miramón",
          "William Clem",
          "Salis Abdul Samed",
          "Michel Ndary Adopo",
          "Adam Wharton",
          "Mateo Seoane",
          "Oliver Johansen Braude",
          "Eric Martel",
          "Hugo Larsson",
          "Veldin Hodža",
          "Žan Jevšenak"
         ],
         "textfont": {
          "size": 10
         },
         "textposition": "top center",
         "type": "scatter",
         "x": {
          "bdata": "rkfhehSuBUBcj8L1KFwDQI/C9ShcjwRAj8L1KFyPBkCF61G4HoUHQNejcD0K1wlArkfhehSuB0CamZmZmZkPQBSuR+F6FA5Aw/UoXI/CB0CkcD0K16MKQHE9CtejcBJAPQrXo3A9CECPwvUoXI8IQEjhehSuRwlAZmZmZmZmBEA=",
          "dtype": "f8"
         },
         "xaxis": "x",
         "y": {
          "bdata": "SOF6FK6HOkCamZmZmZk5QK5H4XoUrjVAUrgehetRPEAK16NwPUo9QI/C9ShcTz5AXI/C9SjcQEC4HoXrUfg+QK5H4XoUbj9AcT0K16MwOkAAAAAAAMA/QKRwPQrXY0NAj8L1KFxPPkAfhetRuN46QM3MzMzMDDpA7FG4HoWrOkA=",
          "dtype": "f8"
         },
         "yaxis": "y"
        }
       ],
       "layout": {
        "coloraxis": {
         "colorbar": {
          "title": {
           "text": "duels_win_%"
          }
         },
         "colorscale": [
          [
           0,
           "rgb(165,0,38)"
          ],
          [
           0.1,
           "rgb(215,48,39)"
          ],
          [
           0.2,
           "rgb(244,109,67)"
          ],
          [
           0.3,
           "rgb(253,174,97)"
          ],
          [
           0.4,
           "rgb(254,224,139)"
          ],
          [
           0.5,
           "rgb(255,255,191)"
          ],
          [
           0.6,
           "rgb(217,239,139)"
          ],
          [
           0.7,
           "rgb(166,217,106)"
          ],
          [
           0.8,
           "rgb(102,189,99)"
          ],
          [
           0.9,
           "rgb(26,152,80)"
          ],
          [
           1,
           "rgb(0,104,55)"
          ]
         ],
         "showscale": false
        },
        "height": 700,
        "legend": {
         "tracegroupgap": 0
        },
        "paper_bgcolor": "darkgray",
        "plot_bgcolor": "darkgray",
        "template": {
         "data": {
          "bar": [
           {
            "error_x": {
             "color": "#2a3f5f"
            },
            "error_y": {
             "color": "#2a3f5f"
            },
            "marker": {
             "line": {
              "color": "#E5ECF6",
              "width": 0.5
             },
             "pattern": {
              "fillmode": "overlay",
              "size": 10,
              "solidity": 0.2
             }
            },
            "type": "bar"
           }
          ],
          "barpolar": [
           {
            "marker": {
             "line": {
              "color": "#E5ECF6",
              "width": 0.5
             },
             "pattern": {
              "fillmode": "overlay",
              "size": 10,
              "solidity": 0.2
             }
            },
            "type": "barpolar"
           }
          ],
          "carpet": [
           {
            "aaxis": {
             "endlinecolor": "#2a3f5f",
             "gridcolor": "white",
             "linecolor": "white",
             "minorgridcolor": "white",
             "startlinecolor": "#2a3f5f"
            },
            "baxis": {
             "endlinecolor": "#2a3f5f",
             "gridcolor": "white",
             "linecolor": "white",
             "minorgridcolor": "white",
             "startlinecolor": "#2a3f5f"
            },
            "type": "carpet"
           }
          ],
          "choropleth": [
           {
            "colorbar": {
             "outlinewidth": 0,
             "ticks": ""
            },
            "type": "choropleth"
           }
          ],
          "contour": [
           {
            "colorbar": {
             "outlinewidth": 0,
             "ticks": ""
            },
            "colorscale": [
             [
              0,
              "#0d0887"
             ],
             [
              0.1111111111111111,
              "#46039f"
             ],
             [
              0.2222222222222222,
              "#7201a8"
             ],
             [
              0.3333333333333333,
              "#9c179e"
             ],
             [
              0.4444444444444444,
              "#bd3786"
             ],
             [
              0.5555555555555556,
              "#d8576b"
             ],
             [
              0.6666666666666666,
              "#ed7953"
             ],
             [
              0.7777777777777778,
              "#fb9f3a"
             ],
             [
              0.8888888888888888,
              "#fdca26"
             ],
             [
              1,
              "#f0f921"
             ]
            ],
            "type": "contour"
           }
          ],
          "contourcarpet": [
           {
            "colorbar": {
             "outlinewidth": 0,
             "ticks": ""
            },
            "type": "contourcarpet"
           }
          ],
          "heatmap": [
           {
            "colorbar": {
             "outlinewidth": 0,
             "ticks": ""
            },
            "colorscale": [
             [
              0,
              "#0d0887"
             ],
             [
              0.1111111111111111,
              "#46039f"
             ],
             [
              0.2222222222222222,
              "#7201a8"
             ],
             [
              0.3333333333333333,
              "#9c179e"
             ],
             [
              0.4444444444444444,
              "#bd3786"
             ],
             [
              0.5555555555555556,
              "#d8576b"
             ],
             [
              0.6666666666666666,
              "#ed7953"
             ],
             [
              0.7777777777777778,
              "#fb9f3a"
             ],
             [
              0.8888888888888888,
              "#fdca26"
             ],
             [
              1,
              "#f0f921"
             ]
            ],
            "type": "heatmap"
           }
          ],
          "histogram": [
           {
            "marker": {
             "pattern": {
              "fillmode": "overlay",
              "size": 10,
              "solidity": 0.2
             }
            },
            "type": "histogram"
           }
          ],
          "histogram2d": [
           {
            "colorbar": {
             "outlinewidth": 0,
             "ticks": ""
            },
            "colorscale": [
             [
              0,
              "#0d0887"
             ],
             [
              0.1111111111111111,
              "#46039f"
             ],
             [
              0.2222222222222222,
              "#7201a8"
             ],
             [
              0.3333333333333333,
              "#9c179e"
             ],
             [
              0.4444444444444444,
              "#bd3786"
             ],
             [
              0.5555555555555556,
              "#d8576b"
             ],
             [
              0.6666666666666666,
              "#ed7953"
             ],
             [
              0.7777777777777778,
              "#fb9f3a"
             ],
             [
              0.8888888888888888,
              "#fdca26"
             ],
             [
              1,
              "#f0f921"
             ]
            ],
            "type": "histogram2d"
           }
          ],
          "histogram2dcontour": [
           {
            "colorbar": {
             "outlinewidth": 0,
             "ticks": ""
            },
            "colorscale": [
             [
              0,
              "#0d0887"
             ],
             [
              0.1111111111111111,
              "#46039f"
             ],
             [
              0.2222222222222222,
              "#7201a8"
             ],
             [
              0.3333333333333333,
              "#9c179e"
             ],
             [
              0.4444444444444444,
              "#bd3786"
             ],
             [
              0.5555555555555556,
              "#d8576b"
             ],
             [
              0.6666666666666666,
              "#ed7953"
             ],
             [
              0.7777777777777778,
              "#fb9f3a"
             ],
             [
              0.8888888888888888,
              "#fdca26"
             ],
             [
              1,
              "#f0f921"
             ]
            ],
            "type": "histogram2dcontour"
           }
          ],
          "mesh3d": [
           {
            "colorbar": {
             "outlinewidth": 0,
             "ticks": ""
            },
            "type": "mesh3d"
           }
          ],
          "parcoords": [
           {
            "line": {
             "colorbar": {
              "outlinewidth": 0,
              "ticks": ""
             }
            },
            "type": "parcoords"
           }
          ],
          "pie": [
           {
            "automargin": true,
            "type": "pie"
           }
          ],
          "scatter": [
           {
            "fillpattern": {
             "fillmode": "overlay",
             "size": 10,
             "solidity": 0.2
            },
            "type": "scatter"
           }
          ],
          "scatter3d": [
           {
            "line": {
             "colorbar": {
              "outlinewidth": 0,
              "ticks": ""
             }
            },
            "marker": {
             "colorbar": {
              "outlinewidth": 0,
              "ticks": ""
             }
            },
            "type": "scatter3d"
           }
          ],
          "scattercarpet": [
           {
            "marker": {
             "colorbar": {
              "outlinewidth": 0,
              "ticks": ""
             }
            },
            "type": "scattercarpet"
           }
          ],
          "scattergeo": [
           {
            "marker": {
             "colorbar": {
              "outlinewidth": 0,
              "ticks": ""
             }
            },
            "type": "scattergeo"
           }
          ],
          "scattergl": [
           {
            "marker": {
             "colorbar": {
              "outlinewidth": 0,
              "ticks": ""
             }
            },
            "type": "scattergl"
           }
          ],
          "scattermap": [
           {
            "marker": {
             "colorbar": {
              "outlinewidth": 0,
              "ticks": ""
             }
            },
            "type": "scattermap"
           }
          ],
          "scattermapbox": [
           {
            "marker": {
             "colorbar": {
              "outlinewidth": 0,
              "ticks": ""
             }
            },
            "type": "scattermapbox"
           }
          ],
          "scatterpolar": [
           {
            "marker": {
             "colorbar": {
              "outlinewidth": 0,
              "ticks": ""
             }
            },
            "type": "scatterpolar"
           }
          ],
          "scatterpolargl": [
           {
            "marker": {
             "colorbar": {
              "outlinewidth": 0,
              "ticks": ""
             }
            },
            "type": "scatterpolargl"
           }
          ],
          "scatterternary": [
           {
            "marker": {
             "colorbar": {
              "outlinewidth": 0,
              "ticks": ""
             }
            },
            "type": "scatterternary"
           }
          ],
          "surface": [
           {
            "colorbar": {
             "outlinewidth": 0,
             "ticks": ""
            },
            "colorscale": [
             [
              0,
              "#0d0887"
             ],
             [
              0.1111111111111111,
              "#46039f"
             ],
             [
              0.2222222222222222,
              "#7201a8"
             ],
             [
              0.3333333333333333,
              "#9c179e"
             ],
             [
              0.4444444444444444,
              "#bd3786"
             ],
             [
              0.5555555555555556,
              "#d8576b"
             ],
             [
              0.6666666666666666,
              "#ed7953"
             ],
             [
              0.7777777777777778,
              "#fb9f3a"
             ],
             [
              0.8888888888888888,
              "#fdca26"
             ],
             [
              1,
              "#f0f921"
             ]
            ],
            "type": "surface"
           }
          ],
          "table": [
           {
            "cells": {
             "fill": {
              "color": "#EBF0F8"
             },
             "line": {
              "color": "white"
             }
            },
            "header": {
             "fill": {
              "color": "#C8D4E3"
             },
             "line": {
              "color": "white"
             }
            },
            "type": "table"
           }
          ]
         },
         "layout": {
          "annotationdefaults": {
           "arrowcolor": "#2a3f5f",
           "arrowhead": 0,
           "arrowwidth": 1
          },
          "autotypenumbers": "strict",
          "coloraxis": {
           "colorbar": {
            "outlinewidth": 0,
            "ticks": ""
           }
          },
          "colorscale": {
           "diverging": [
            [
             0,
             "#8e0152"
            ],
            [
             0.1,
             "#c51b7d"
            ],
            [
             0.2,
             "#de77ae"
            ],
            [
             0.3,
             "#f1b6da"
            ],
            [
             0.4,
             "#fde0ef"
            ],
            [
             0.5,
             "#f7f7f7"
            ],
            [
             0.6,
             "#e6f5d0"
            ],
            [
             0.7,
             "#b8e186"
            ],
            [
             0.8,
             "#7fbc41"
            ],
            [
             0.9,
             "#4d9221"
            ],
            [
             1,
             "#276419"
            ]
           ],
           "sequential": [
            [
             0,
             "#0d0887"
            ],
            [
             0.1111111111111111,
             "#46039f"
            ],
            [
             0.2222222222222222,
             "#7201a8"
            ],
            [
             0.3333333333333333,
             "#9c179e"
            ],
            [
             0.4444444444444444,
             "#bd3786"
            ],
            [
             0.5555555555555556,
             "#d8576b"
            ],
            [
             0.6666666666666666,
             "#ed7953"
            ],
            [
             0.7777777777777778,
             "#fb9f3a"
            ],
            [
             0.8888888888888888,
             "#fdca26"
            ],
            [
             1,
             "#f0f921"
            ]
           ],
           "sequentialminus": [
            [
             0,
             "#0d0887"
            ],
            [
             0.1111111111111111,
             "#46039f"
            ],
            [
             0.2222222222222222,
             "#7201a8"
            ],
            [
             0.3333333333333333,
             "#9c179e"
            ],
            [
             0.4444444444444444,
             "#bd3786"
            ],
            [
             0.5555555555555556,
             "#d8576b"
            ],
            [
             0.6666666666666666,
             "#ed7953"
            ],
            [
             0.7777777777777778,
             "#fb9f3a"
            ],
            [
             0.8888888888888888,
             "#fdca26"
            ],
            [
             1,
             "#f0f921"
            ]
           ]
          },
          "colorway": [
           "#636efa",
           "#EF553B",
           "#00cc96",
           "#ab63fa",
           "#FFA15A",
           "#19d3f3",
           "#FF6692",
           "#B6E880",
           "#FF97FF",
           "#FECB52"
          ],
          "font": {
           "color": "#2a3f5f"
          },
          "geo": {
           "bgcolor": "white",
           "lakecolor": "white",
           "landcolor": "#E5ECF6",
           "showlakes": true,
           "showland": true,
           "subunitcolor": "white"
          },
          "hoverlabel": {
           "align": "left"
          },
          "hovermode": "closest",
          "mapbox": {
           "style": "light"
          },
          "paper_bgcolor": "white",
          "plot_bgcolor": "#E5ECF6",
          "polar": {
           "angularaxis": {
            "gridcolor": "white",
            "linecolor": "white",
            "ticks": ""
           },
           "bgcolor": "#E5ECF6",
           "radialaxis": {
            "gridcolor": "white",
            "linecolor": "white",
            "ticks": ""
           }
          },
          "scene": {
           "xaxis": {
            "backgroundcolor": "#E5ECF6",
            "gridcolor": "white",
            "gridwidth": 2,
            "linecolor": "white",
            "showbackground": true,
            "ticks": "",
            "zerolinecolor": "white"
           },
           "yaxis": {
            "backgroundcolor": "#E5ECF6",
            "gridcolor": "white",
            "gridwidth": 2,
            "linecolor": "white",
            "showbackground": true,
            "ticks": "",
            "zerolinecolor": "white"
           },
           "zaxis": {
            "backgroundcolor": "#E5ECF6",
            "gridcolor": "white",
            "gridwidth": 2,
            "linecolor": "white",
            "showbackground": true,
            "ticks": "",
            "zerolinecolor": "white"
           }
          },
          "shapedefaults": {
           "line": {
            "color": "#2a3f5f"
           }
          },
          "ternary": {
           "aaxis": {
            "gridcolor": "white",
            "linecolor": "white",
            "ticks": ""
           },
           "baxis": {
            "gridcolor": "white",
            "linecolor": "white",
            "ticks": ""
           },
           "bgcolor": "#E5ECF6",
           "caxis": {
            "gridcolor": "white",
            "linecolor": "white",
            "ticks": ""
           }
          },
          "title": {
           "x": 0.05
          },
          "xaxis": {
           "automargin": true,
           "gridcolor": "white",
           "linecolor": "white",
           "ticks": "",
           "title": {
            "standoff": 15
           },
           "zerolinecolor": "white",
           "zerolinewidth": 2
          },
          "yaxis": {
           "automargin": true,
           "gridcolor": "white",
           "linecolor": "white",
           "ticks": "",
           "title": {
            "standoff": 15
           },
           "zerolinecolor": "white",
           "zerolinewidth": 2
          }
         }
        },
        "title": {
         "text": "Pressure quality ( 16)",
         "x": 0.5,
         "xanchor": "center"
        },
        "width": 1200,
        "xaxis": {
         "anchor": "y",
         "domain": [
          0,
          1
         ],
         "gridcolor": "white",
         "showgrid": true,
         "title": {
          "text": "pressures_completed/90"
         },
         "zeroline": false
        },
        "yaxis": {
         "anchor": "x",
         "domain": [
          0,
          1
         ],
         "gridcolor": "white",
         "showgrid": true,
         "title": {
          "text": "pressure_success_%"
         },
         "zeroline": false
        }
       }
      }
     },
     "metadata": {},
     "output_type": "display_data"
    }
   ],
   "source": [
    "# Full universe \n",
    "scatter_plot(df_targets,\n",
    "             x_metric='pressures_completed/90', \n",
    "             y_metric='pressure_success_%',\n",
    "             z_metric='duels_win_%',\n",
    "             title='Pressure quality', \n",
    "             show_name_label=True\n",
    ")"
   ]
  },
  {
   "cell_type": "code",
   "execution_count": null,
   "id": "9856c684",
   "metadata": {},
   "outputs": [],
   "source": [
    "# Filter data \n",
    "mask = (\n",
    "        (df_players['pressures_completed/90'] >= 2.0) & \\\n",
    "        (df_players['pressure_success_%'] >= 20) & \\\n",
    "        (df_players['duels_win_%'] >= 50) & \\\n",
    "        (df_players['id'].isin(targets)) | \\\n",
    "        (df_players['name'].str.contains('Barreiro')) \n",
    "        \n",
    "        \n",
    ")\n",
    "\n",
    "df_targets = df_players[mask]\n",
    "\n",
    "scatter_plot(df_targets,\n",
    "             x_metric='pressures_completed/90', \n",
    "             y_metric='pressure_success_%',\n",
    "             z_metric='duels_win_%',\n",
    "             title='Pressure quality', \n",
    "             show_name_label=True\n",
    ")\n",
    "\n",
    "# Keep only players that fulfill criteria\n",
    "targets = df_targets['id']"
   ]
  },
  {
   "cell_type": "markdown",
   "id": "6dabb355",
   "metadata": {},
   "source": [
    "## Presence"
   ]
  },
  {
   "cell_type": "code",
   "execution_count": 18,
   "id": "115f7fe2",
   "metadata": {},
   "outputs": [
    {
     "data": {
      "application/vnd.plotly.v1+json": {
       "config": {
        "plotlyServerURL": "https://plot.ly"
       },
       "data": [
        {
         "customdata": [
          [
           "Mats Wieffer",
           "Feyenoord"
          ],
          [
           "Gabriel Moscardo",
           "COR"
          ],
          [
           "Leandro Barreiro",
           "Mainz 05"
          ],
          [
           "Xaver Schlager",
           "RB Leipzig"
          ],
          [
           "Jesús Castillo",
           "Gil Vicente"
          ],
          [
           "Ignacio Miramón",
           "Lille"
          ],
          [
           "William Clem",
           "FC København"
          ],
          [
           "Salis Abdul Samed",
           "Lens"
          ],
          [
           "Michel Ndary Adopo",
           "Atalanta"
          ],
          [
           "Adam Wharton",
           "Crystal Palace"
          ],
          [
           "Mateo Seoane",
           "Talleres"
          ],
          [
           "Oliver Johansen Braude",
           "sc Heerenveen"
          ],
          [
           "Eric Martel",
           "FC Köln"
          ],
          [
           "Hugo Larsson",
           "Eintracht Frankfurt"
          ],
          [
           "Veldin Hodža",
           "Empoli"
          ],
          [
           "Žan Jevšenak",
           "Portimonense"
          ]
         ],
         "hovertemplate": "<b>%{customdata[0]}</b><br><b>%{customdata[1]}</b><br><br>interceptions/90: %{x}<br>blocks/90: %{y}<br>clearances/90: %{marker.color}<extra></extra>",
         "legendgroup": "",
         "marker": {
          "color": {
           "bdata": "j8L1KFyP0j+PwvUoXI/qP1K4HoXrUfQ/7FG4HoXr4T/D9Shcj8LxP5qZmZmZmeE/UrgehetR4D9cj8L1KFznP+xRuB6F6/E/SOF6FK5H4T8zMzMzMzPjP8P1KFyPwuU/FK5H4XoU9j/D9Shcj8LlP65H4XoUrvs/j8L1KFyP/j8=",
           "dtype": "f8"
          },
          "coloraxis": "coloraxis",
          "size": 10,
          "symbol": "circle"
         },
         "mode": "markers+text",
         "name": "",
         "orientation": "v",
         "showlegend": false,
         "text": [
          "Mats Wieffer",
          "Gabriel Moscardo",
          "Leandro Barreiro",
          "Xaver Schlager",
          "Jesús Castillo",
          "Ignacio Miramón",
          "William Clem",
          "Salis Abdul Samed",
          "Michel Ndary Adopo",
          "Adam Wharton",
          "Mateo Seoane",
          "Oliver Johansen Braude",
          "Eric Martel",
          "Hugo Larsson",
          "Veldin Hodža",
          "Žan Jevšenak"
         ],
         "textfont": {
          "size": 10
         },
         "textposition": "top center",
         "type": "scatter",
         "x": {
          "bdata": "UrgehetR/D9xPQrXo3D5P4XrUbgehQFAexSuR+F6+D/hehSuR+EAQIXrUbgehf8/rkfhehSu9z8AAAAAAAD8P4XrUbgehQNAw/UoXI/CB0A9CtejcD0EQNejcD0K1/c/AAAAAAAA+D9cj8L1KFz7P4XrUbgehQNAUrgehetR+D8=",
          "dtype": "f8"
         },
         "xaxis": "x",
         "y": {
          "bdata": "cT0K16NwzT/NzMzMzMzcPz0K16NwPdo/uB6F61G4vj89CtejcD3iP3E9CtejcN0/KVyPwvUo3D/D9Shcj8LFP+F6FK5H4eI/SOF6FK5H4T/NzMzMzMzcPz0K16NwPdo/H4XrUbge5T9SuB6F61HgP1K4HoXrUeA/uB6F61G47j8=",
          "dtype": "f8"
         },
         "yaxis": "y"
        }
       ],
       "layout": {
        "coloraxis": {
         "colorbar": {
          "title": {
           "text": "clearances/90"
          }
         },
         "colorscale": [
          [
           0,
           "rgb(165,0,38)"
          ],
          [
           0.1,
           "rgb(215,48,39)"
          ],
          [
           0.2,
           "rgb(244,109,67)"
          ],
          [
           0.3,
           "rgb(253,174,97)"
          ],
          [
           0.4,
           "rgb(254,224,139)"
          ],
          [
           0.5,
           "rgb(255,255,191)"
          ],
          [
           0.6,
           "rgb(217,239,139)"
          ],
          [
           0.7,
           "rgb(166,217,106)"
          ],
          [
           0.8,
           "rgb(102,189,99)"
          ],
          [
           0.9,
           "rgb(26,152,80)"
          ],
          [
           1,
           "rgb(0,104,55)"
          ]
         ],
         "showscale": false
        },
        "height": 700,
        "legend": {
         "tracegroupgap": 0
        },
        "paper_bgcolor": "darkgray",
        "plot_bgcolor": "darkgray",
        "template": {
         "data": {
          "bar": [
           {
            "error_x": {
             "color": "#2a3f5f"
            },
            "error_y": {
             "color": "#2a3f5f"
            },
            "marker": {
             "line": {
              "color": "#E5ECF6",
              "width": 0.5
             },
             "pattern": {
              "fillmode": "overlay",
              "size": 10,
              "solidity": 0.2
             }
            },
            "type": "bar"
           }
          ],
          "barpolar": [
           {
            "marker": {
             "line": {
              "color": "#E5ECF6",
              "width": 0.5
             },
             "pattern": {
              "fillmode": "overlay",
              "size": 10,
              "solidity": 0.2
             }
            },
            "type": "barpolar"
           }
          ],
          "carpet": [
           {
            "aaxis": {
             "endlinecolor": "#2a3f5f",
             "gridcolor": "white",
             "linecolor": "white",
             "minorgridcolor": "white",
             "startlinecolor": "#2a3f5f"
            },
            "baxis": {
             "endlinecolor": "#2a3f5f",
             "gridcolor": "white",
             "linecolor": "white",
             "minorgridcolor": "white",
             "startlinecolor": "#2a3f5f"
            },
            "type": "carpet"
           }
          ],
          "choropleth": [
           {
            "colorbar": {
             "outlinewidth": 0,
             "ticks": ""
            },
            "type": "choropleth"
           }
          ],
          "contour": [
           {
            "colorbar": {
             "outlinewidth": 0,
             "ticks": ""
            },
            "colorscale": [
             [
              0,
              "#0d0887"
             ],
             [
              0.1111111111111111,
              "#46039f"
             ],
             [
              0.2222222222222222,
              "#7201a8"
             ],
             [
              0.3333333333333333,
              "#9c179e"
             ],
             [
              0.4444444444444444,
              "#bd3786"
             ],
             [
              0.5555555555555556,
              "#d8576b"
             ],
             [
              0.6666666666666666,
              "#ed7953"
             ],
             [
              0.7777777777777778,
              "#fb9f3a"
             ],
             [
              0.8888888888888888,
              "#fdca26"
             ],
             [
              1,
              "#f0f921"
             ]
            ],
            "type": "contour"
           }
          ],
          "contourcarpet": [
           {
            "colorbar": {
             "outlinewidth": 0,
             "ticks": ""
            },
            "type": "contourcarpet"
           }
          ],
          "heatmap": [
           {
            "colorbar": {
             "outlinewidth": 0,
             "ticks": ""
            },
            "colorscale": [
             [
              0,
              "#0d0887"
             ],
             [
              0.1111111111111111,
              "#46039f"
             ],
             [
              0.2222222222222222,
              "#7201a8"
             ],
             [
              0.3333333333333333,
              "#9c179e"
             ],
             [
              0.4444444444444444,
              "#bd3786"
             ],
             [
              0.5555555555555556,
              "#d8576b"
             ],
             [
              0.6666666666666666,
              "#ed7953"
             ],
             [
              0.7777777777777778,
              "#fb9f3a"
             ],
             [
              0.8888888888888888,
              "#fdca26"
             ],
             [
              1,
              "#f0f921"
             ]
            ],
            "type": "heatmap"
           }
          ],
          "histogram": [
           {
            "marker": {
             "pattern": {
              "fillmode": "overlay",
              "size": 10,
              "solidity": 0.2
             }
            },
            "type": "histogram"
           }
          ],
          "histogram2d": [
           {
            "colorbar": {
             "outlinewidth": 0,
             "ticks": ""
            },
            "colorscale": [
             [
              0,
              "#0d0887"
             ],
             [
              0.1111111111111111,
              "#46039f"
             ],
             [
              0.2222222222222222,
              "#7201a8"
             ],
             [
              0.3333333333333333,
              "#9c179e"
             ],
             [
              0.4444444444444444,
              "#bd3786"
             ],
             [
              0.5555555555555556,
              "#d8576b"
             ],
             [
              0.6666666666666666,
              "#ed7953"
             ],
             [
              0.7777777777777778,
              "#fb9f3a"
             ],
             [
              0.8888888888888888,
              "#fdca26"
             ],
             [
              1,
              "#f0f921"
             ]
            ],
            "type": "histogram2d"
           }
          ],
          "histogram2dcontour": [
           {
            "colorbar": {
             "outlinewidth": 0,
             "ticks": ""
            },
            "colorscale": [
             [
              0,
              "#0d0887"
             ],
             [
              0.1111111111111111,
              "#46039f"
             ],
             [
              0.2222222222222222,
              "#7201a8"
             ],
             [
              0.3333333333333333,
              "#9c179e"
             ],
             [
              0.4444444444444444,
              "#bd3786"
             ],
             [
              0.5555555555555556,
              "#d8576b"
             ],
             [
              0.6666666666666666,
              "#ed7953"
             ],
             [
              0.7777777777777778,
              "#fb9f3a"
             ],
             [
              0.8888888888888888,
              "#fdca26"
             ],
             [
              1,
              "#f0f921"
             ]
            ],
            "type": "histogram2dcontour"
           }
          ],
          "mesh3d": [
           {
            "colorbar": {
             "outlinewidth": 0,
             "ticks": ""
            },
            "type": "mesh3d"
           }
          ],
          "parcoords": [
           {
            "line": {
             "colorbar": {
              "outlinewidth": 0,
              "ticks": ""
             }
            },
            "type": "parcoords"
           }
          ],
          "pie": [
           {
            "automargin": true,
            "type": "pie"
           }
          ],
          "scatter": [
           {
            "fillpattern": {
             "fillmode": "overlay",
             "size": 10,
             "solidity": 0.2
            },
            "type": "scatter"
           }
          ],
          "scatter3d": [
           {
            "line": {
             "colorbar": {
              "outlinewidth": 0,
              "ticks": ""
             }
            },
            "marker": {
             "colorbar": {
              "outlinewidth": 0,
              "ticks": ""
             }
            },
            "type": "scatter3d"
           }
          ],
          "scattercarpet": [
           {
            "marker": {
             "colorbar": {
              "outlinewidth": 0,
              "ticks": ""
             }
            },
            "type": "scattercarpet"
           }
          ],
          "scattergeo": [
           {
            "marker": {
             "colorbar": {
              "outlinewidth": 0,
              "ticks": ""
             }
            },
            "type": "scattergeo"
           }
          ],
          "scattergl": [
           {
            "marker": {
             "colorbar": {
              "outlinewidth": 0,
              "ticks": ""
             }
            },
            "type": "scattergl"
           }
          ],
          "scattermap": [
           {
            "marker": {
             "colorbar": {
              "outlinewidth": 0,
              "ticks": ""
             }
            },
            "type": "scattermap"
           }
          ],
          "scattermapbox": [
           {
            "marker": {
             "colorbar": {
              "outlinewidth": 0,
              "ticks": ""
             }
            },
            "type": "scattermapbox"
           }
          ],
          "scatterpolar": [
           {
            "marker": {
             "colorbar": {
              "outlinewidth": 0,
              "ticks": ""
             }
            },
            "type": "scatterpolar"
           }
          ],
          "scatterpolargl": [
           {
            "marker": {
             "colorbar": {
              "outlinewidth": 0,
              "ticks": ""
             }
            },
            "type": "scatterpolargl"
           }
          ],
          "scatterternary": [
           {
            "marker": {
             "colorbar": {
              "outlinewidth": 0,
              "ticks": ""
             }
            },
            "type": "scatterternary"
           }
          ],
          "surface": [
           {
            "colorbar": {
             "outlinewidth": 0,
             "ticks": ""
            },
            "colorscale": [
             [
              0,
              "#0d0887"
             ],
             [
              0.1111111111111111,
              "#46039f"
             ],
             [
              0.2222222222222222,
              "#7201a8"
             ],
             [
              0.3333333333333333,
              "#9c179e"
             ],
             [
              0.4444444444444444,
              "#bd3786"
             ],
             [
              0.5555555555555556,
              "#d8576b"
             ],
             [
              0.6666666666666666,
              "#ed7953"
             ],
             [
              0.7777777777777778,
              "#fb9f3a"
             ],
             [
              0.8888888888888888,
              "#fdca26"
             ],
             [
              1,
              "#f0f921"
             ]
            ],
            "type": "surface"
           }
          ],
          "table": [
           {
            "cells": {
             "fill": {
              "color": "#EBF0F8"
             },
             "line": {
              "color": "white"
             }
            },
            "header": {
             "fill": {
              "color": "#C8D4E3"
             },
             "line": {
              "color": "white"
             }
            },
            "type": "table"
           }
          ]
         },
         "layout": {
          "annotationdefaults": {
           "arrowcolor": "#2a3f5f",
           "arrowhead": 0,
           "arrowwidth": 1
          },
          "autotypenumbers": "strict",
          "coloraxis": {
           "colorbar": {
            "outlinewidth": 0,
            "ticks": ""
           }
          },
          "colorscale": {
           "diverging": [
            [
             0,
             "#8e0152"
            ],
            [
             0.1,
             "#c51b7d"
            ],
            [
             0.2,
             "#de77ae"
            ],
            [
             0.3,
             "#f1b6da"
            ],
            [
             0.4,
             "#fde0ef"
            ],
            [
             0.5,
             "#f7f7f7"
            ],
            [
             0.6,
             "#e6f5d0"
            ],
            [
             0.7,
             "#b8e186"
            ],
            [
             0.8,
             "#7fbc41"
            ],
            [
             0.9,
             "#4d9221"
            ],
            [
             1,
             "#276419"
            ]
           ],
           "sequential": [
            [
             0,
             "#0d0887"
            ],
            [
             0.1111111111111111,
             "#46039f"
            ],
            [
             0.2222222222222222,
             "#7201a8"
            ],
            [
             0.3333333333333333,
             "#9c179e"
            ],
            [
             0.4444444444444444,
             "#bd3786"
            ],
            [
             0.5555555555555556,
             "#d8576b"
            ],
            [
             0.6666666666666666,
             "#ed7953"
            ],
            [
             0.7777777777777778,
             "#fb9f3a"
            ],
            [
             0.8888888888888888,
             "#fdca26"
            ],
            [
             1,
             "#f0f921"
            ]
           ],
           "sequentialminus": [
            [
             0,
             "#0d0887"
            ],
            [
             0.1111111111111111,
             "#46039f"
            ],
            [
             0.2222222222222222,
             "#7201a8"
            ],
            [
             0.3333333333333333,
             "#9c179e"
            ],
            [
             0.4444444444444444,
             "#bd3786"
            ],
            [
             0.5555555555555556,
             "#d8576b"
            ],
            [
             0.6666666666666666,
             "#ed7953"
            ],
            [
             0.7777777777777778,
             "#fb9f3a"
            ],
            [
             0.8888888888888888,
             "#fdca26"
            ],
            [
             1,
             "#f0f921"
            ]
           ]
          },
          "colorway": [
           "#636efa",
           "#EF553B",
           "#00cc96",
           "#ab63fa",
           "#FFA15A",
           "#19d3f3",
           "#FF6692",
           "#B6E880",
           "#FF97FF",
           "#FECB52"
          ],
          "font": {
           "color": "#2a3f5f"
          },
          "geo": {
           "bgcolor": "white",
           "lakecolor": "white",
           "landcolor": "#E5ECF6",
           "showlakes": true,
           "showland": true,
           "subunitcolor": "white"
          },
          "hoverlabel": {
           "align": "left"
          },
          "hovermode": "closest",
          "mapbox": {
           "style": "light"
          },
          "paper_bgcolor": "white",
          "plot_bgcolor": "#E5ECF6",
          "polar": {
           "angularaxis": {
            "gridcolor": "white",
            "linecolor": "white",
            "ticks": ""
           },
           "bgcolor": "#E5ECF6",
           "radialaxis": {
            "gridcolor": "white",
            "linecolor": "white",
            "ticks": ""
           }
          },
          "scene": {
           "xaxis": {
            "backgroundcolor": "#E5ECF6",
            "gridcolor": "white",
            "gridwidth": 2,
            "linecolor": "white",
            "showbackground": true,
            "ticks": "",
            "zerolinecolor": "white"
           },
           "yaxis": {
            "backgroundcolor": "#E5ECF6",
            "gridcolor": "white",
            "gridwidth": 2,
            "linecolor": "white",
            "showbackground": true,
            "ticks": "",
            "zerolinecolor": "white"
           },
           "zaxis": {
            "backgroundcolor": "#E5ECF6",
            "gridcolor": "white",
            "gridwidth": 2,
            "linecolor": "white",
            "showbackground": true,
            "ticks": "",
            "zerolinecolor": "white"
           }
          },
          "shapedefaults": {
           "line": {
            "color": "#2a3f5f"
           }
          },
          "ternary": {
           "aaxis": {
            "gridcolor": "white",
            "linecolor": "white",
            "ticks": ""
           },
           "baxis": {
            "gridcolor": "white",
            "linecolor": "white",
            "ticks": ""
           },
           "bgcolor": "#E5ECF6",
           "caxis": {
            "gridcolor": "white",
            "linecolor": "white",
            "ticks": ""
           }
          },
          "title": {
           "x": 0.05
          },
          "xaxis": {
           "automargin": true,
           "gridcolor": "white",
           "linecolor": "white",
           "ticks": "",
           "title": {
            "standoff": 15
           },
           "zerolinecolor": "white",
           "zerolinewidth": 2
          },
          "yaxis": {
           "automargin": true,
           "gridcolor": "white",
           "linecolor": "white",
           "ticks": "",
           "title": {
            "standoff": 15
           },
           "zerolinecolor": "white",
           "zerolinewidth": 2
          }
         }
        },
        "title": {
         "text": "Presence ( 16)",
         "x": 0.5,
         "xanchor": "center"
        },
        "width": 1200,
        "xaxis": {
         "anchor": "y",
         "domain": [
          0,
          1
         ],
         "gridcolor": "white",
         "showgrid": true,
         "title": {
          "text": "interceptions/90"
         },
         "zeroline": false
        },
        "yaxis": {
         "anchor": "x",
         "domain": [
          0,
          1
         ],
         "gridcolor": "white",
         "showgrid": true,
         "title": {
          "text": "blocks/90"
         },
         "zeroline": false
        }
       }
      }
     },
     "metadata": {},
     "output_type": "display_data"
    }
   ],
   "source": [
    "# Full universe \n",
    "scatter_plot(df_targets,\n",
    "             x_metric='interceptions/90', \n",
    "             y_metric='blocks/90',\n",
    "             z_metric='clearances/90',\n",
    "             title='Presence', \n",
    "             show_name_label=True\n",
    ") "
   ]
  },
  {
   "cell_type": "code",
   "execution_count": null,
   "id": "ab291f10",
   "metadata": {},
   "outputs": [],
   "source": [
    "df_players[df_players['name'] == 'Casemiro']"
   ]
  },
  {
   "cell_type": "code",
   "execution_count": null,
   "id": "4b0be327",
   "metadata": {},
   "outputs": [],
   "source": [
    "# Filter data \n",
    "mask = (\n",
    "        (df_players['interceptions/90'] >= 1.4) & \\\n",
    "        (df_players['blocks/90'] >= 0.25) & \\\n",
    "        (df_players['clearances/90'] >= 0.5) & \\\n",
    "        (df_players['id'].isin(targets))\n",
    "        \n",
    "        \n",
    ")\n",
    "\n",
    "df_targets = df_players[mask]\n",
    "\n",
    "scatter_plot(df_targets,\n",
    "             x_metric='interceptions/90', \n",
    "             y_metric='blocks/90',\n",
    "             z_metric='clearances/90',\n",
    "             title='Presence', \n",
    "             show_name_label=True\n",
    ")\n",
    "\n",
    "#df_targets = df_players[mask]"
   ]
  },
  {
   "cell_type": "markdown",
   "id": "93f777a2",
   "metadata": {},
   "source": [
    "## Distance"
   ]
  },
  {
   "cell_type": "code",
   "execution_count": 19,
   "id": "ef5ba0ed",
   "metadata": {},
   "outputs": [
    {
     "data": {
      "application/vnd.plotly.v1+json": {
       "config": {
        "plotlyServerURL": "https://plot.ly"
       },
       "data": [
        {
         "customdata": [
          [
           "Mats Wieffer",
           "Feyenoord"
          ],
          [
           "Gabriel Moscardo",
           "COR"
          ],
          [
           "Leandro Barreiro",
           "Mainz 05"
          ],
          [
           "Xaver Schlager",
           "RB Leipzig"
          ],
          [
           "Jesús Castillo",
           "Gil Vicente"
          ],
          [
           "Ignacio Miramón",
           "Lille"
          ],
          [
           "William Clem",
           "FC København"
          ],
          [
           "Salis Abdul Samed",
           "Lens"
          ],
          [
           "Michel Ndary Adopo",
           "Atalanta"
          ],
          [
           "Adam Wharton",
           "Crystal Palace"
          ],
          [
           "Mateo Seoane",
           "Talleres"
          ],
          [
           "Oliver Johansen Braude",
           "sc Heerenveen"
          ],
          [
           "Eric Martel",
           "FC Köln"
          ],
          [
           "Hugo Larsson",
           "Eintracht Frankfurt"
          ],
          [
           "Veldin Hodža",
           "Empoli"
          ],
          [
           "Žan Jevšenak",
           "Portimonense"
          ]
         ],
         "hovertemplate": "<b>%{customdata[0]}</b><br><b>%{customdata[1]}</b><br><br>distance_covered/90: %{x}<br>defensive_actions/90: %{y}<br>creative_actions/90: %{marker.color}<extra></extra>",
         "legendgroup": "",
         "marker": {
          "color": {
           "bdata": "9ihcj8L1AkApXI/C9SgCQIXrUbgehes/uB6F61G4AEDhehSuR+H6P4XrUbgehfc/uB6F61G4/j/Xo3A9CtfzP+xRuB6F6/E/4XoUrkfhBEAK16NwPQoFQFyPwvUoXAFA4XoUrkfh6j8fhetRuB4DQFK4HoXrUeA/mpmZmZmZ+T8=",
           "dtype": "f8"
          },
          "coloraxis": "coloraxis",
          "size": 10,
          "symbol": "circle"
         },
         "mode": "markers+text",
         "name": "",
         "orientation": "v",
         "showlegend": false,
         "text": [
          "Mats Wieffer",
          "Gabriel Moscardo",
          "Leandro Barreiro",
          "Xaver Schlager",
          "Jesús Castillo",
          "Ignacio Miramón",
          "William Clem",
          "Salis Abdul Samed",
          "Michel Ndary Adopo",
          "Adam Wharton",
          "Mateo Seoane",
          "Oliver Johansen Braude",
          "Eric Martel",
          "Hugo Larsson",
          "Veldin Hodža",
          "Žan Jevšenak"
         ],
         "textfont": {
          "size": 10
         },
         "textposition": "top center",
         "type": "scatter",
         "x": {
          "bdata": "9ihcj8J1K0BmZmZmZuYqQM3MzMzMzCtAzczMzMzMK0DNzMzMzMwqQM3MzMzMTCxAw/UoXI/CKUCamZmZmZkrQI/C9ShcDyxAmpmZmZmZLUBI4XoUrkcsQDMzMzMzMytAPQrXo3C9KkDD9Shcj8IrQGZmZmZmZitAAAAAAACAKEA=",
          "dtype": "f8"
         },
         "xaxis": "x",
         "y": {
          "bdata": "PQrXo3C9K0DhehSuR2EsQIXrUbgehSdA9ihcj8J1IUBmZmZmZuYwQM3MzMzMTCRAZmZmZmbmKkDhehSuR2EqQIXrUbgeBSpAzczMzMzMKEDXo3A9CtcpQBSuR+F6lCRAUrgeheuRMUAAAAAAAIArQGZmZmZm5itArkfhehRuOEA=",
          "dtype": "f8"
         },
         "yaxis": "y"
        }
       ],
       "layout": {
        "coloraxis": {
         "colorbar": {
          "title": {
           "text": "creative_actions/90"
          }
         },
         "colorscale": [
          [
           0,
           "rgb(165,0,38)"
          ],
          [
           0.1,
           "rgb(215,48,39)"
          ],
          [
           0.2,
           "rgb(244,109,67)"
          ],
          [
           0.3,
           "rgb(253,174,97)"
          ],
          [
           0.4,
           "rgb(254,224,139)"
          ],
          [
           0.5,
           "rgb(255,255,191)"
          ],
          [
           0.6,
           "rgb(217,239,139)"
          ],
          [
           0.7,
           "rgb(166,217,106)"
          ],
          [
           0.8,
           "rgb(102,189,99)"
          ],
          [
           0.9,
           "rgb(26,152,80)"
          ],
          [
           1,
           "rgb(0,104,55)"
          ]
         ],
         "showscale": false
        },
        "height": 700,
        "legend": {
         "tracegroupgap": 0
        },
        "paper_bgcolor": "darkgray",
        "plot_bgcolor": "darkgray",
        "template": {
         "data": {
          "bar": [
           {
            "error_x": {
             "color": "#2a3f5f"
            },
            "error_y": {
             "color": "#2a3f5f"
            },
            "marker": {
             "line": {
              "color": "#E5ECF6",
              "width": 0.5
             },
             "pattern": {
              "fillmode": "overlay",
              "size": 10,
              "solidity": 0.2
             }
            },
            "type": "bar"
           }
          ],
          "barpolar": [
           {
            "marker": {
             "line": {
              "color": "#E5ECF6",
              "width": 0.5
             },
             "pattern": {
              "fillmode": "overlay",
              "size": 10,
              "solidity": 0.2
             }
            },
            "type": "barpolar"
           }
          ],
          "carpet": [
           {
            "aaxis": {
             "endlinecolor": "#2a3f5f",
             "gridcolor": "white",
             "linecolor": "white",
             "minorgridcolor": "white",
             "startlinecolor": "#2a3f5f"
            },
            "baxis": {
             "endlinecolor": "#2a3f5f",
             "gridcolor": "white",
             "linecolor": "white",
             "minorgridcolor": "white",
             "startlinecolor": "#2a3f5f"
            },
            "type": "carpet"
           }
          ],
          "choropleth": [
           {
            "colorbar": {
             "outlinewidth": 0,
             "ticks": ""
            },
            "type": "choropleth"
           }
          ],
          "contour": [
           {
            "colorbar": {
             "outlinewidth": 0,
             "ticks": ""
            },
            "colorscale": [
             [
              0,
              "#0d0887"
             ],
             [
              0.1111111111111111,
              "#46039f"
             ],
             [
              0.2222222222222222,
              "#7201a8"
             ],
             [
              0.3333333333333333,
              "#9c179e"
             ],
             [
              0.4444444444444444,
              "#bd3786"
             ],
             [
              0.5555555555555556,
              "#d8576b"
             ],
             [
              0.6666666666666666,
              "#ed7953"
             ],
             [
              0.7777777777777778,
              "#fb9f3a"
             ],
             [
              0.8888888888888888,
              "#fdca26"
             ],
             [
              1,
              "#f0f921"
             ]
            ],
            "type": "contour"
           }
          ],
          "contourcarpet": [
           {
            "colorbar": {
             "outlinewidth": 0,
             "ticks": ""
            },
            "type": "contourcarpet"
           }
          ],
          "heatmap": [
           {
            "colorbar": {
             "outlinewidth": 0,
             "ticks": ""
            },
            "colorscale": [
             [
              0,
              "#0d0887"
             ],
             [
              0.1111111111111111,
              "#46039f"
             ],
             [
              0.2222222222222222,
              "#7201a8"
             ],
             [
              0.3333333333333333,
              "#9c179e"
             ],
             [
              0.4444444444444444,
              "#bd3786"
             ],
             [
              0.5555555555555556,
              "#d8576b"
             ],
             [
              0.6666666666666666,
              "#ed7953"
             ],
             [
              0.7777777777777778,
              "#fb9f3a"
             ],
             [
              0.8888888888888888,
              "#fdca26"
             ],
             [
              1,
              "#f0f921"
             ]
            ],
            "type": "heatmap"
           }
          ],
          "histogram": [
           {
            "marker": {
             "pattern": {
              "fillmode": "overlay",
              "size": 10,
              "solidity": 0.2
             }
            },
            "type": "histogram"
           }
          ],
          "histogram2d": [
           {
            "colorbar": {
             "outlinewidth": 0,
             "ticks": ""
            },
            "colorscale": [
             [
              0,
              "#0d0887"
             ],
             [
              0.1111111111111111,
              "#46039f"
             ],
             [
              0.2222222222222222,
              "#7201a8"
             ],
             [
              0.3333333333333333,
              "#9c179e"
             ],
             [
              0.4444444444444444,
              "#bd3786"
             ],
             [
              0.5555555555555556,
              "#d8576b"
             ],
             [
              0.6666666666666666,
              "#ed7953"
             ],
             [
              0.7777777777777778,
              "#fb9f3a"
             ],
             [
              0.8888888888888888,
              "#fdca26"
             ],
             [
              1,
              "#f0f921"
             ]
            ],
            "type": "histogram2d"
           }
          ],
          "histogram2dcontour": [
           {
            "colorbar": {
             "outlinewidth": 0,
             "ticks": ""
            },
            "colorscale": [
             [
              0,
              "#0d0887"
             ],
             [
              0.1111111111111111,
              "#46039f"
             ],
             [
              0.2222222222222222,
              "#7201a8"
             ],
             [
              0.3333333333333333,
              "#9c179e"
             ],
             [
              0.4444444444444444,
              "#bd3786"
             ],
             [
              0.5555555555555556,
              "#d8576b"
             ],
             [
              0.6666666666666666,
              "#ed7953"
             ],
             [
              0.7777777777777778,
              "#fb9f3a"
             ],
             [
              0.8888888888888888,
              "#fdca26"
             ],
             [
              1,
              "#f0f921"
             ]
            ],
            "type": "histogram2dcontour"
           }
          ],
          "mesh3d": [
           {
            "colorbar": {
             "outlinewidth": 0,
             "ticks": ""
            },
            "type": "mesh3d"
           }
          ],
          "parcoords": [
           {
            "line": {
             "colorbar": {
              "outlinewidth": 0,
              "ticks": ""
             }
            },
            "type": "parcoords"
           }
          ],
          "pie": [
           {
            "automargin": true,
            "type": "pie"
           }
          ],
          "scatter": [
           {
            "fillpattern": {
             "fillmode": "overlay",
             "size": 10,
             "solidity": 0.2
            },
            "type": "scatter"
           }
          ],
          "scatter3d": [
           {
            "line": {
             "colorbar": {
              "outlinewidth": 0,
              "ticks": ""
             }
            },
            "marker": {
             "colorbar": {
              "outlinewidth": 0,
              "ticks": ""
             }
            },
            "type": "scatter3d"
           }
          ],
          "scattercarpet": [
           {
            "marker": {
             "colorbar": {
              "outlinewidth": 0,
              "ticks": ""
             }
            },
            "type": "scattercarpet"
           }
          ],
          "scattergeo": [
           {
            "marker": {
             "colorbar": {
              "outlinewidth": 0,
              "ticks": ""
             }
            },
            "type": "scattergeo"
           }
          ],
          "scattergl": [
           {
            "marker": {
             "colorbar": {
              "outlinewidth": 0,
              "ticks": ""
             }
            },
            "type": "scattergl"
           }
          ],
          "scattermap": [
           {
            "marker": {
             "colorbar": {
              "outlinewidth": 0,
              "ticks": ""
             }
            },
            "type": "scattermap"
           }
          ],
          "scattermapbox": [
           {
            "marker": {
             "colorbar": {
              "outlinewidth": 0,
              "ticks": ""
             }
            },
            "type": "scattermapbox"
           }
          ],
          "scatterpolar": [
           {
            "marker": {
             "colorbar": {
              "outlinewidth": 0,
              "ticks": ""
             }
            },
            "type": "scatterpolar"
           }
          ],
          "scatterpolargl": [
           {
            "marker": {
             "colorbar": {
              "outlinewidth": 0,
              "ticks": ""
             }
            },
            "type": "scatterpolargl"
           }
          ],
          "scatterternary": [
           {
            "marker": {
             "colorbar": {
              "outlinewidth": 0,
              "ticks": ""
             }
            },
            "type": "scatterternary"
           }
          ],
          "surface": [
           {
            "colorbar": {
             "outlinewidth": 0,
             "ticks": ""
            },
            "colorscale": [
             [
              0,
              "#0d0887"
             ],
             [
              0.1111111111111111,
              "#46039f"
             ],
             [
              0.2222222222222222,
              "#7201a8"
             ],
             [
              0.3333333333333333,
              "#9c179e"
             ],
             [
              0.4444444444444444,
              "#bd3786"
             ],
             [
              0.5555555555555556,
              "#d8576b"
             ],
             [
              0.6666666666666666,
              "#ed7953"
             ],
             [
              0.7777777777777778,
              "#fb9f3a"
             ],
             [
              0.8888888888888888,
              "#fdca26"
             ],
             [
              1,
              "#f0f921"
             ]
            ],
            "type": "surface"
           }
          ],
          "table": [
           {
            "cells": {
             "fill": {
              "color": "#EBF0F8"
             },
             "line": {
              "color": "white"
             }
            },
            "header": {
             "fill": {
              "color": "#C8D4E3"
             },
             "line": {
              "color": "white"
             }
            },
            "type": "table"
           }
          ]
         },
         "layout": {
          "annotationdefaults": {
           "arrowcolor": "#2a3f5f",
           "arrowhead": 0,
           "arrowwidth": 1
          },
          "autotypenumbers": "strict",
          "coloraxis": {
           "colorbar": {
            "outlinewidth": 0,
            "ticks": ""
           }
          },
          "colorscale": {
           "diverging": [
            [
             0,
             "#8e0152"
            ],
            [
             0.1,
             "#c51b7d"
            ],
            [
             0.2,
             "#de77ae"
            ],
            [
             0.3,
             "#f1b6da"
            ],
            [
             0.4,
             "#fde0ef"
            ],
            [
             0.5,
             "#f7f7f7"
            ],
            [
             0.6,
             "#e6f5d0"
            ],
            [
             0.7,
             "#b8e186"
            ],
            [
             0.8,
             "#7fbc41"
            ],
            [
             0.9,
             "#4d9221"
            ],
            [
             1,
             "#276419"
            ]
           ],
           "sequential": [
            [
             0,
             "#0d0887"
            ],
            [
             0.1111111111111111,
             "#46039f"
            ],
            [
             0.2222222222222222,
             "#7201a8"
            ],
            [
             0.3333333333333333,
             "#9c179e"
            ],
            [
             0.4444444444444444,
             "#bd3786"
            ],
            [
             0.5555555555555556,
             "#d8576b"
            ],
            [
             0.6666666666666666,
             "#ed7953"
            ],
            [
             0.7777777777777778,
             "#fb9f3a"
            ],
            [
             0.8888888888888888,
             "#fdca26"
            ],
            [
             1,
             "#f0f921"
            ]
           ],
           "sequentialminus": [
            [
             0,
             "#0d0887"
            ],
            [
             0.1111111111111111,
             "#46039f"
            ],
            [
             0.2222222222222222,
             "#7201a8"
            ],
            [
             0.3333333333333333,
             "#9c179e"
            ],
            [
             0.4444444444444444,
             "#bd3786"
            ],
            [
             0.5555555555555556,
             "#d8576b"
            ],
            [
             0.6666666666666666,
             "#ed7953"
            ],
            [
             0.7777777777777778,
             "#fb9f3a"
            ],
            [
             0.8888888888888888,
             "#fdca26"
            ],
            [
             1,
             "#f0f921"
            ]
           ]
          },
          "colorway": [
           "#636efa",
           "#EF553B",
           "#00cc96",
           "#ab63fa",
           "#FFA15A",
           "#19d3f3",
           "#FF6692",
           "#B6E880",
           "#FF97FF",
           "#FECB52"
          ],
          "font": {
           "color": "#2a3f5f"
          },
          "geo": {
           "bgcolor": "white",
           "lakecolor": "white",
           "landcolor": "#E5ECF6",
           "showlakes": true,
           "showland": true,
           "subunitcolor": "white"
          },
          "hoverlabel": {
           "align": "left"
          },
          "hovermode": "closest",
          "mapbox": {
           "style": "light"
          },
          "paper_bgcolor": "white",
          "plot_bgcolor": "#E5ECF6",
          "polar": {
           "angularaxis": {
            "gridcolor": "white",
            "linecolor": "white",
            "ticks": ""
           },
           "bgcolor": "#E5ECF6",
           "radialaxis": {
            "gridcolor": "white",
            "linecolor": "white",
            "ticks": ""
           }
          },
          "scene": {
           "xaxis": {
            "backgroundcolor": "#E5ECF6",
            "gridcolor": "white",
            "gridwidth": 2,
            "linecolor": "white",
            "showbackground": true,
            "ticks": "",
            "zerolinecolor": "white"
           },
           "yaxis": {
            "backgroundcolor": "#E5ECF6",
            "gridcolor": "white",
            "gridwidth": 2,
            "linecolor": "white",
            "showbackground": true,
            "ticks": "",
            "zerolinecolor": "white"
           },
           "zaxis": {
            "backgroundcolor": "#E5ECF6",
            "gridcolor": "white",
            "gridwidth": 2,
            "linecolor": "white",
            "showbackground": true,
            "ticks": "",
            "zerolinecolor": "white"
           }
          },
          "shapedefaults": {
           "line": {
            "color": "#2a3f5f"
           }
          },
          "ternary": {
           "aaxis": {
            "gridcolor": "white",
            "linecolor": "white",
            "ticks": ""
           },
           "baxis": {
            "gridcolor": "white",
            "linecolor": "white",
            "ticks": ""
           },
           "bgcolor": "#E5ECF6",
           "caxis": {
            "gridcolor": "white",
            "linecolor": "white",
            "ticks": ""
           }
          },
          "title": {
           "x": 0.05
          },
          "xaxis": {
           "automargin": true,
           "gridcolor": "white",
           "linecolor": "white",
           "ticks": "",
           "title": {
            "standoff": 15
           },
           "zerolinecolor": "white",
           "zerolinewidth": 2
          },
          "yaxis": {
           "automargin": true,
           "gridcolor": "white",
           "linecolor": "white",
           "ticks": "",
           "title": {
            "standoff": 15
           },
           "zerolinecolor": "white",
           "zerolinewidth": 2
          }
         }
        },
        "title": {
         "text": "Distance ( 16)",
         "x": 0.5,
         "xanchor": "center"
        },
        "width": 1200,
        "xaxis": {
         "anchor": "y",
         "domain": [
          0,
          1
         ],
         "gridcolor": "white",
         "showgrid": true,
         "title": {
          "text": "distance_covered/90"
         },
         "zeroline": false
        },
        "yaxis": {
         "anchor": "x",
         "domain": [
          0,
          1
         ],
         "gridcolor": "white",
         "showgrid": true,
         "title": {
          "text": "defensive_actions/90"
         },
         "zeroline": false
        }
       }
      }
     },
     "metadata": {},
     "output_type": "display_data"
    }
   ],
   "source": [
    "# Full universe \n",
    "scatter_plot(df_targets,\n",
    "             x_metric='distance_covered/90', \n",
    "             y_metric='defensive_actions/90',\n",
    "             z_metric='creative_actions/90',\n",
    "             title='Distance', \n",
    "             show_name_label=True\n",
    ") "
   ]
  },
  {
   "cell_type": "code",
   "execution_count": null,
   "id": "c367b34a",
   "metadata": {},
   "outputs": [],
   "source": [
    "df_targets.groupby('division')['id'].count()"
   ]
  },
  {
   "cell_type": "code",
   "execution_count": null,
   "id": "baaaccaa",
   "metadata": {},
   "outputs": [],
   "source": [
    "df_targets.groupby('division').get_group('Sky Bet Championship').sort_values('age')"
   ]
  },
  {
   "cell_type": "code",
   "execution_count": null,
   "id": "436279ef",
   "metadata": {},
   "outputs": [],
   "source": []
  }
 ],
 "metadata": {
  "kernelspec": {
   "display_name": ".venv",
   "language": "python",
   "name": "python3"
  },
  "language_info": {
   "codemirror_mode": {
    "name": "ipython",
    "version": 3
   },
   "file_extension": ".py",
   "mimetype": "text/x-python",
   "name": "python",
   "nbconvert_exporter": "python",
   "pygments_lexer": "ipython3",
   "version": "3.12.7"
  }
 },
 "nbformat": 4,
 "nbformat_minor": 5
}
