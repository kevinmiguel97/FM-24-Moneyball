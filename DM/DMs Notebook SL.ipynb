{
 "cells": [
  {
   "cell_type": "markdown",
   "id": "b1df530d",
   "metadata": {},
   "source": [
    "# FM 24 Moneyball"
   ]
  },
  {
   "cell_type": "code",
   "execution_count": 3,
   "id": "a0d6d750",
   "metadata": {},
   "outputs": [],
   "source": [
    "import numpy as np\n",
    "import pandas as pd \n",
    "import matplotlib.pyplot as plt\n",
    "import plotly.express as px\n",
    "import re\n",
    "\n",
    "# Import created functions\n",
    "import sys\n",
    "sys.path.append(r'C:\\Users\\kevmi\\Documents\\FM 24 Moneyball\\FM-24-Moneyball')\n",
    "\n",
    "from money_ball_util import *\n",
    "\n",
    "# Ignore warnings\n",
    "import warnings\n",
    "warnings.filterwarnings('ignore')\n",
    "\n",
    "# Show all columns in pandas\n",
    "pd.set_option('display.max_columns', 500) \n",
    "\n",
    "%matplotlib inline"
   ]
  },
  {
   "cell_type": "markdown",
   "id": "bd53e3cd",
   "metadata": {},
   "source": [
    "## Ingest and clean data"
   ]
  },
  {
   "cell_type": "code",
   "execution_count": 4,
   "id": "7355e71f",
   "metadata": {},
   "outputs": [],
   "source": [
    "### Read raw data\n",
    "\n",
    "# Select file path for raw data\n",
    "path = r\"C:\\Users\\kevmi\\Documents\\FM 24 Moneyball\\FM Data Lab\\Man Utd\\FM 24 exports\\Summer 2024\\Defensive Midfielders.html\"\n",
    "\n",
    "# Ingest in a dataframe\n",
    "df_players_raw = pd.read_html(path, encoding='utf-8')[0]\n",
    "\n",
    "# Format column names \n",
    "df_players_raw.columns = [x.lower().strip().replace(' ', '_').replace('-', '_') for x in df_players_raw.columns]\n",
    "\n",
    "# ---------------------------------------------------------------------------------------------------------------------\n",
    "\n",
    "### Read processed Data lab data\n",
    "\n",
    "# Select file path for processed data\n",
    "path = r\"C:\\Users\\kevmi\\Documents\\FM 24 Moneyball\\FM Data Lab\\Man Utd\\FM Data Lab outputs\\Summer 2024\\Defensive Midfielders SL.csv\"\n",
    "\n",
    "# Ingest in a dataframe \n",
    "df_players = pd.read_csv(path)   \n",
    "\n",
    "# Format column names \n",
    "df_players.columns = [x.lower().strip().replace(' ', '_').replace('-', '_') for x in df_players.columns]\n",
    "\n",
    "# Bring ID from raw data\n",
    "df_players = df_players.merge(df_players_raw[['name', 'age', 'height', 'weight', 'uid']], \n",
    "                 left_on=['name', 'age', 'height', 'weight'], \n",
    "                 right_on=['name', 'age', 'height', 'weight']).reset_index().rename(columns={'level_0': 'id'})\n",
    "\n",
    "df_players['id'] = df_players['uid']\n",
    "\n",
    "df_players.drop(columns='uid', inplace=True)"
   ]
  },
  {
   "cell_type": "markdown",
   "id": "a4833287",
   "metadata": {},
   "source": [
    "## Data cleaning"
   ]
  },
  {
   "cell_type": "code",
   "execution_count": null,
   "id": "31affa79",
   "metadata": {},
   "outputs": [],
   "source": [
    "df_players.head()"
   ]
  },
  {
   "cell_type": "code",
   "execution_count": 5,
   "id": "5b106302",
   "metadata": {},
   "outputs": [],
   "source": [
    "# # Keep only natural DMs\n",
    "# path = 'data/Natural DMs.html'\n",
    "\n",
    "# # Ingest in a dataframe\n",
    "# df_dms = pd.read_html(path, encoding='utf-8')[0]\n",
    "\n",
    "# # Format column names \n",
    "# df_dms.columns = [x.lower().strip().replace(' ', '_').replace('-', '_') for x in df_dms.columns]\n",
    "\n",
    "# df_dms['natural_dm'] = 'Yes'\n",
    "\n",
    "# df_dms = df_dms[['uid', 'natural_dm']]\n",
    "\n",
    "# df_players = df_players.merge(df_dms, \n",
    "#                               left_on='id',\n",
    "#                               right_on='uid',\n",
    "#                               how='left')\n",
    "\n",
    "# df_players = df_players[df_players['natural_dm'] == 'Yes']\n",
    "\n",
    "# Get price estimation values\n",
    "df_players['price_estimate_M'] = df_players['transfer_value'].apply(parse_transfer_value) / 1000000"
   ]
  },
  {
   "cell_type": "markdown",
   "id": "22683d93",
   "metadata": {},
   "source": [
    "## Passing analysis"
   ]
  },
  {
   "cell_type": "markdown",
   "id": "5c2da36b",
   "metadata": {},
   "source": [
    "### Full universe"
   ]
  },
  {
   "cell_type": "code",
   "execution_count": null,
   "id": "c953fb7b",
   "metadata": {},
   "outputs": [],
   "source": [
    "# Initialize list of targets\n",
    "targets = df_players['id']\n",
    "\n",
    "scatter_plot(df_players,\n",
    "             x_metric='passes_attempted/90', \n",
    "             y_metric='progressive_pass_rate',\n",
    "             z_metric='pass_completion_%',\n",
    "             title='Passing quality', \n",
    "             show_name_label=True\n",
    ")"
   ]
  },
  {
   "cell_type": "code",
   "execution_count": null,
   "id": "a312cf0a",
   "metadata": {},
   "outputs": [],
   "source": [
    "# Filter data \n",
    "mask = (\n",
    "        # (df_players['passes_attempted/90'] >= 45) & \\\n",
    "        # (df_players['progressive_pass_rate'] >= 7) & \\\n",
    "        # (df_players['pass_completion_%'] >= 85) & \\\n",
    "        # (df_players['age'] <= 26) & \\\n",
    "        (df_players['id'].isin(targets))\n",
    "        \n",
    "        \n",
    ")\n",
    "\n",
    "df_targets = df_players[mask]\n",
    "\n",
    "scatter_plot(df_targets,\n",
    "             x_metric='passes_attempted/90', \n",
    "             y_metric='progressive_pass_rate',\n",
    "             z_metric='pass_completion_%',\n",
    "             title='Passing quality', \n",
    "             show_name_label=True\n",
    ")\n",
    "\n",
    "# Keep only players that fulfill criteria\n",
    "targets = list(df_targets['id'])"
   ]
  },
  {
   "cell_type": "markdown",
   "id": "db5f786f",
   "metadata": {},
   "source": [
    "## Possession Analysis"
   ]
  },
  {
   "cell_type": "code",
   "execution_count": null,
   "id": "c382547d",
   "metadata": {},
   "outputs": [],
   "source": [
    "# Full universe \n",
    "scatter_plot(df_targets,\n",
    "             x_metric='possession_lost/90', \n",
    "             y_metric='possession_won/90',\n",
    "             z_metric='poss+_/90',\n",
    "             title='Possesion quality', \n",
    "             show_name_label=True\n",
    ")"
   ]
  },
  {
   "cell_type": "code",
   "execution_count": null,
   "id": "4647b74a",
   "metadata": {},
   "outputs": [],
   "source": [
    "# Filter data \n",
    "mask = (\n",
    "        (df_players['possession_lost/90'] <= 8) & \\\n",
    "        (df_players['possession_won/90'] >= 7.5) & \\\n",
    "        (df_players['poss+_/90'] >= 0) & \\\n",
    "        (df_players['age'] <= 26) & \\\n",
    "        (df_players['id'].isin(targets))\n",
    "        \n",
    "        \n",
    ")\n",
    "\n",
    "df_targets = df_players[mask]\n",
    "\n",
    "scatter_plot(df_targets,\n",
    "             x_metric='possession_lost/90', \n",
    "             y_metric='possession_won/90',\n",
    "             z_metric='poss+_/90',\n",
    "             title='Possesion quality', \n",
    "             show_name_label=False\n",
    ")\n",
    "\n",
    "# Keep only players that fulfill criteria\n",
    "targets = list(df_targets['id'])"
   ]
  },
  {
   "cell_type": "markdown",
   "id": "05fd5ca0",
   "metadata": {},
   "source": [
    "## Aggresion vs Control\n",
    "Identify aggresive and foul prones targets"
   ]
  },
  {
   "cell_type": "code",
   "execution_count": null,
   "id": "2d4b5cdd",
   "metadata": {},
   "outputs": [],
   "source": [
    "# Full universe \n",
    "scatter_plot(df_targets,\n",
    "             x_metric='tackles_completed/90', \n",
    "             y_metric='fouls_committed/90',\n",
    "             z_metric='tackle_completion_%',\n",
    "             title='Aggresion - Control', \n",
    "             show_name_label=True\n",
    ")"
   ]
  },
  {
   "cell_type": "code",
   "execution_count": null,
   "id": "04e9f933",
   "metadata": {},
   "outputs": [],
   "source": [
    "# Compute tackes/fouls ratio\n",
    "df_players['tackles_comp-fouls/90'] = df_players['tackles_completed/90'] / df_players['fouls_committed/90']\n",
    "# Filter data \n",
    "mask = (\n",
    "        # (df_players['tackles_comp-fouls/90'] <= 2) & \\\n",
    "        # (df_players['tackles_completed/90'] >= 1.5) & \\\n",
    "        # (df_players['tackle_completion_%'] >= 65) & \\\n",
    "        #(df_players['price_estimate_M'] <= 40) & \\\n",
    "        (df_players['id'].isin(targets))\n",
    "        \n",
    "        \n",
    ")\n",
    "\n",
    "df_targets = df_players[mask]\n",
    "\n",
    "scatter_plot(df_targets,\n",
    "             x_metric='tackles_completed/90', \n",
    "             y_metric='fouls_committed/90',\n",
    "             z_metric='tackle_completion_%',\n",
    "             title='Aggresion - Control', \n",
    "             show_name_label=False\n",
    ")\n",
    "\n",
    "# Keep only players that fulfill criteria\n",
    "targets = df_targets['id']"
   ]
  },
  {
   "cell_type": "markdown",
   "id": "a76d3e76",
   "metadata": {},
   "source": [
    "## Pressure quality"
   ]
  },
  {
   "cell_type": "code",
   "execution_count": null,
   "id": "7794f58b",
   "metadata": {},
   "outputs": [],
   "source": [
    "# Full universe \n",
    "scatter_plot(df_targets,\n",
    "             x_metric='pressures_completed/90', \n",
    "             y_metric='pressure_success_%',\n",
    "             z_metric='duels_win_%',\n",
    "             title='Pressure quality', \n",
    "             show_name_label=True\n",
    ")"
   ]
  },
  {
   "cell_type": "code",
   "execution_count": null,
   "id": "9856c684",
   "metadata": {},
   "outputs": [],
   "source": [
    "# Filter data \n",
    "mask = (\n",
    "        (df_players['pressures_completed/90'] >= 2.0) & \\\n",
    "        (df_players['pressure_success_%'] >= 20) & \\\n",
    "        (df_players['duels_win_%'] >= 50) & \\\n",
    "        (df_players['id'].isin(targets)) | \\\n",
    "        (df_players['name'].str.contains('Barreiro')) \n",
    "        \n",
    "        \n",
    ")\n",
    "\n",
    "df_targets = df_players[mask]\n",
    "\n",
    "scatter_plot(df_targets,\n",
    "             x_metric='pressures_completed/90', \n",
    "             y_metric='pressure_success_%',\n",
    "             z_metric='duels_win_%',\n",
    "             title='Pressure quality', \n",
    "             show_name_label=True\n",
    ")\n",
    "\n",
    "# Keep only players that fulfill criteria\n",
    "targets = df_targets['id']"
   ]
  },
  {
   "cell_type": "markdown",
   "id": "6dabb355",
   "metadata": {},
   "source": [
    "## Presence"
   ]
  },
  {
   "cell_type": "code",
   "execution_count": null,
   "id": "115f7fe2",
   "metadata": {},
   "outputs": [],
   "source": [
    "# Full universe \n",
    "scatter_plot(df_targets,\n",
    "             x_metric='interceptions/90', \n",
    "             y_metric='blocks/90',\n",
    "             z_metric='clearances/90',\n",
    "             title='Presence', \n",
    "             show_name_label=True\n",
    ") "
   ]
  },
  {
   "cell_type": "code",
   "execution_count": null,
   "id": "ab291f10",
   "metadata": {},
   "outputs": [],
   "source": [
    "df_players[df_players['name'] == 'Casemiro']"
   ]
  },
  {
   "cell_type": "code",
   "execution_count": null,
   "id": "4b0be327",
   "metadata": {},
   "outputs": [],
   "source": [
    "# Filter data \n",
    "mask = (\n",
    "        (df_players['interceptions/90'] >= 1.4) & \\\n",
    "        (df_players['blocks/90'] >= 0.25) & \\\n",
    "        (df_players['clearances/90'] >= 0.5) & \\\n",
    "        (df_players['id'].isin(targets))\n",
    "        \n",
    "        \n",
    ")\n",
    "\n",
    "df_targets = df_players[mask]\n",
    "\n",
    "scatter_plot(df_targets,\n",
    "             x_metric='interceptions/90', \n",
    "             y_metric='blocks/90',\n",
    "             z_metric='clearances/90',\n",
    "             title='Presence', \n",
    "             show_name_label=True\n",
    ")\n",
    "\n",
    "#df_targets = df_players[mask]"
   ]
  },
  {
   "cell_type": "markdown",
   "id": "93f777a2",
   "metadata": {},
   "source": [
    "## Distance"
   ]
  },
  {
   "cell_type": "code",
   "execution_count": null,
   "id": "ef5ba0ed",
   "metadata": {},
   "outputs": [],
   "source": [
    "# Full universe \n",
    "scatter_plot(df_targets,\n",
    "             x_metric='distance_covered/90', \n",
    "             y_metric='defensive_actions/90',\n",
    "             z_metric='creative_actions/90',\n",
    "             title='Distance', \n",
    "             show_name_label=True\n",
    ") "
   ]
  },
  {
   "cell_type": "code",
   "execution_count": null,
   "id": "c367b34a",
   "metadata": {},
   "outputs": [],
   "source": [
    "df_targets.groupby('division')['id'].count()"
   ]
  },
  {
   "cell_type": "code",
   "execution_count": null,
   "id": "baaaccaa",
   "metadata": {},
   "outputs": [],
   "source": [
    "df_targets.groupby('division').get_group('Sky Bet Championship').sort_values('age')"
   ]
  },
  {
   "cell_type": "code",
   "execution_count": null,
   "id": "436279ef",
   "metadata": {},
   "outputs": [],
   "source": []
  }
 ],
 "metadata": {
  "kernelspec": {
   "display_name": ".venv",
   "language": "python",
   "name": "python3"
  },
  "language_info": {
   "codemirror_mode": {
    "name": "ipython",
    "version": 3
   },
   "file_extension": ".py",
   "mimetype": "text/x-python",
   "name": "python",
   "nbconvert_exporter": "python",
   "pygments_lexer": "ipython3",
   "version": "3.12.7"
  }
 },
 "nbformat": 4,
 "nbformat_minor": 5
}
