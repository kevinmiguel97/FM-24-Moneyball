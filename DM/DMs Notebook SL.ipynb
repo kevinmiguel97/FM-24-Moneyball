{
 "cells": [
  {
   "cell_type": "markdown",
   "id": "b1df530d",
   "metadata": {},
   "source": [
    "# FM 24 Moneyball"
   ]
  },
  {
   "cell_type": "code",
   "execution_count": 1,
   "id": "a0d6d750",
   "metadata": {},
   "outputs": [],
   "source": [
    "import numpy as np\n",
    "import pandas as pd \n",
    "import matplotlib.pyplot as plt\n",
    "import plotly.express as px\n",
    "import re\n",
    "\n",
    "# Import created functions\n",
    "import sys\n",
    "sys.path.append(r'C:\\Users\\kevmi\\Documents\\FM 24 Moneyball\\FM-24-Moneyball')\n",
    "\n",
    "from money_ball_util import *\n",
    "\n",
    "# Ignore warnings\n",
    "import warnings\n",
    "warnings.filterwarnings('ignore')\n",
    "\n",
    "# Show all columns in pandas\n",
    "pd.set_option('display.max_columns', 500) \n",
    "\n",
    "%matplotlib inline"
   ]
  },
  {
   "cell_type": "markdown",
   "id": "bd53e3cd",
   "metadata": {},
   "source": [
    "## Ingest and clean data"
   ]
  },
  {
   "cell_type": "code",
   "execution_count": 2,
   "id": "7355e71f",
   "metadata": {},
   "outputs": [],
   "source": [
    "### Read raw data\n",
    "\n",
    "# Select file path for raw data\n",
    "path = r\"C:\\Users\\kevmi\\Documents\\FM 24 Moneyball\\FM Data Lab\\Man Utd\\FM 24 exports\\Summer 2024\\Defensive Midfielders.html\"\n",
    "\n",
    "# Ingest in a dataframe\n",
    "df_players_raw = pd.read_html(path, encoding='utf-8')[0]\n",
    "\n",
    "# Format column names \n",
    "df_players_raw.columns = [x.lower().strip().replace(' ', '_').replace('-', '_') for x in df_players_raw.columns]\n",
    "\n",
    "# ---------------------------------------------------------------------------------------------------------------------\n",
    "\n",
    "### Read processed Data lab data\n",
    "\n",
    "# Select file path for processed data\n",
    "path = r\"C:\\Users\\kevmi\\Documents\\FM 24 Moneyball\\FM Data Lab\\Man Utd\\FM Data Lab outputs\\Summer 2024\\Defensive Midfielders SL.csv\"\n",
    "\n",
    "# Ingest in a dataframe \n",
    "df_players = pd.read_csv(path)   \n",
    "\n",
    "# Format column names \n",
    "df_players.columns = [x.lower().strip().replace(' ', '_').replace('-', '_') for x in df_players.columns]\n",
    "\n",
    "# Bring ID from raw data\n",
    "df_players = df_players.merge(df_players_raw[['name', 'age', 'height', 'weight', 'uid']], \n",
    "                 left_on=['name', 'age', 'height', 'weight'], \n",
    "                 right_on=['name', 'age', 'height', 'weight']).reset_index().rename(columns={'level_0': 'id'})\n",
    "\n",
    "df_players['id'] = df_players['uid']\n",
    "\n",
    "df_players.drop(columns='uid', inplace=True)"
   ]
  },
  {
   "cell_type": "markdown",
   "id": "a4833287",
   "metadata": {},
   "source": [
    "## Data cleaning"
   ]
  },
  {
   "cell_type": "code",
   "execution_count": 3,
   "id": "31affa79",
   "metadata": {},
   "outputs": [
    {
     "data": {
      "text/html": [
       "<div>\n",
       "<style scoped>\n",
       "    .dataframe tbody tr th:only-of-type {\n",
       "        vertical-align: middle;\n",
       "    }\n",
       "\n",
       "    .dataframe tbody tr th {\n",
       "        vertical-align: top;\n",
       "    }\n",
       "\n",
       "    .dataframe thead th {\n",
       "        text-align: right;\n",
       "    }\n",
       "</style>\n",
       "<table border=\"1\" class=\"dataframe\">\n",
       "  <thead>\n",
       "    <tr style=\"text-align: right;\">\n",
       "      <th></th>\n",
       "      <th>id</th>\n",
       "      <th>name</th>\n",
       "      <th>position</th>\n",
       "      <th>age</th>\n",
       "      <th>height</th>\n",
       "      <th>weight</th>\n",
       "      <th>inf</th>\n",
       "      <th>club</th>\n",
       "      <th>division</th>\n",
       "      <th>nationality</th>\n",
       "      <th>home_grown</th>\n",
       "      <th>personality</th>\n",
       "      <th>media_handling</th>\n",
       "      <th>wage</th>\n",
       "      <th>transfer_value</th>\n",
       "      <th>asking_price</th>\n",
       "      <th>preferred_foot</th>\n",
       "      <th>starts</th>\n",
       "      <th>minutes_played</th>\n",
       "      <th>average_rating</th>\n",
       "      <th>sub_appearances</th>\n",
       "      <th>minutes/game</th>\n",
       "      <th>index</th>\n",
       "      <th>entries</th>\n",
       "      <th>leaguemultiplier</th>\n",
       "      <th>passes_attempted/90</th>\n",
       "      <th>passes_completed/90</th>\n",
       "      <th>pass_completion_%</th>\n",
       "      <th>progressive_passes/90</th>\n",
       "      <th>progressive_pass_rate</th>\n",
       "      <th>key_passes/90</th>\n",
       "      <th>key_pass_%</th>\n",
       "      <th>open_play_key_passes/90</th>\n",
       "      <th>open_play_key_pass_%</th>\n",
       "      <th>chances_created/90</th>\n",
       "      <th>clear_cut_chances_created/90</th>\n",
       "      <th>clear_cut_chances_%</th>\n",
       "      <th>pressures_attempted/90</th>\n",
       "      <th>pressures_completed/90</th>\n",
       "      <th>pressure_success_%</th>\n",
       "      <th>possession_won/90</th>\n",
       "      <th>possession_lost/90</th>\n",
       "      <th>poss+_/90</th>\n",
       "      <th>poss+__%</th>\n",
       "      <th>tackles_attempted/90</th>\n",
       "      <th>tackles_completed/90</th>\n",
       "      <th>tackle_completion_%</th>\n",
       "      <th>tackles_failed/90</th>\n",
       "      <th>key_tackles/90</th>\n",
       "      <th>key_tackles_%</th>\n",
       "      <th>tackle_quality</th>\n",
       "      <th>interceptions/90</th>\n",
       "      <th>blocks/90</th>\n",
       "      <th>shots_blocked/90</th>\n",
       "      <th>headers_attempted/90</th>\n",
       "      <th>headers_won/90</th>\n",
       "      <th>headers_won_%</th>\n",
       "      <th>headers_lost/90</th>\n",
       "      <th>headers_lost_%</th>\n",
       "      <th>key_headers/90</th>\n",
       "      <th>key_headers_%</th>\n",
       "      <th>aerial_challenges_attempted/90</th>\n",
       "      <th>duels_win_%</th>\n",
       "      <th>fouls_committed/90</th>\n",
       "      <th>clearances/90</th>\n",
       "      <th>distance_covered/90</th>\n",
       "      <th>mistakes_leading_to_goal</th>\n",
       "      <th>sprints/90</th>\n",
       "      <th>attacking_actions/90</th>\n",
       "      <th>creative_actions/90</th>\n",
       "      <th>defensive_actions/90</th>\n",
       "      <th>excitement_factor/90</th>\n",
       "      <th>general_performance</th>\n",
       "      <th>defensive_defender</th>\n",
       "      <th>creative_defender</th>\n",
       "      <th>attacking_defender</th>\n",
       "      <th>creative_midfielder</th>\n",
       "      <th>attacking_midfielder</th>\n",
       "      <th>creative_winger</th>\n",
       "      <th>attacking_winger</th>\n",
       "      <th>creative_forward</th>\n",
       "      <th>attacking_forward</th>\n",
       "      <th>finisher</th>\n",
       "      <th>aerial_threat</th>\n",
       "      <th>reader</th>\n",
       "      <th>assister</th>\n",
       "    </tr>\n",
       "  </thead>\n",
       "  <tbody>\n",
       "    <tr>\n",
       "      <th>0</th>\n",
       "      <td>37071145</td>\n",
       "      <td>Mats Wieffer</td>\n",
       "      <td>D (C), DM, M (C)</td>\n",
       "      <td>24</td>\n",
       "      <td>188 cm</td>\n",
       "      <td>80 kg</td>\n",
       "      <td>-</td>\n",
       "      <td>Feyenoord</td>\n",
       "      <td>Eredivisie</td>\n",
       "      <td>NED</td>\n",
       "      <td>-</td>\n",
       "      <td>Fairly Professional</td>\n",
       "      <td>Level-headed</td>\n",
       "      <td>£16,500 p/w</td>\n",
       "      <td>£71M - £82M</td>\n",
       "      <td>-</td>\n",
       "      <td>Right</td>\n",
       "      <td>45</td>\n",
       "      <td>3457</td>\n",
       "      <td>7.21</td>\n",
       "      <td>0</td>\n",
       "      <td>76.82</td>\n",
       "      <td>1</td>\n",
       "      <td>1</td>\n",
       "      <td>False</td>\n",
       "      <td>64.41</td>\n",
       "      <td>57.48</td>\n",
       "      <td>89</td>\n",
       "      <td>6.38</td>\n",
       "      <td>9.90</td>\n",
       "      <td>1.67</td>\n",
       "      <td>2.59</td>\n",
       "      <td>1.56</td>\n",
       "      <td>2.43</td>\n",
       "      <td>0.39</td>\n",
       "      <td>0.39</td>\n",
       "      <td>100</td>\n",
       "      <td>10.21</td>\n",
       "      <td>2.71</td>\n",
       "      <td>26.53</td>\n",
       "      <td>9.35</td>\n",
       "      <td>9.55</td>\n",
       "      <td>-0.20</td>\n",
       "      <td>-2.09</td>\n",
       "      <td>2.47</td>\n",
       "      <td>2.00</td>\n",
       "      <td>81</td>\n",
       "      <td>0.47</td>\n",
       "      <td>0.05</td>\n",
       "      <td>2.60</td>\n",
       "      <td>3.52</td>\n",
       "      <td>1.77</td>\n",
       "      <td>0.23</td>\n",
       "      <td>0.10</td>\n",
       "      <td>5.73</td>\n",
       "      <td>3.41</td>\n",
       "      <td>59.55</td>\n",
       "      <td>2.32</td>\n",
       "      <td>40.45</td>\n",
       "      <td>0.47</td>\n",
       "      <td>13.74</td>\n",
       "      <td>5.73</td>\n",
       "      <td>66.03</td>\n",
       "      <td>0.70</td>\n",
       "      <td>0.29</td>\n",
       "      <td>13.73</td>\n",
       "      <td>0</td>\n",
       "      <td>14.40</td>\n",
       "      <td>3.42</td>\n",
       "      <td>2.37</td>\n",
       "      <td>13.87</td>\n",
       "      <td>7.03</td>\n",
       "      <td>88</td>\n",
       "      <td>12</td>\n",
       "      <td>71</td>\n",
       "      <td>88</td>\n",
       "      <td>82</td>\n",
       "      <td>82</td>\n",
       "      <td>82</td>\n",
       "      <td>88</td>\n",
       "      <td>82</td>\n",
       "      <td>88</td>\n",
       "      <td>88</td>\n",
       "      <td>88</td>\n",
       "      <td>53</td>\n",
       "      <td>82</td>\n",
       "    </tr>\n",
       "    <tr>\n",
       "      <th>1</th>\n",
       "      <td>2000208439</td>\n",
       "      <td>Gabriel Moscardo</td>\n",
       "      <td>DM</td>\n",
       "      <td>18</td>\n",
       "      <td>185 cm</td>\n",
       "      <td>73 kg</td>\n",
       "      <td>-</td>\n",
       "      <td>COR</td>\n",
       "      <td>Campeonato Brasileiro Série A Assaí</td>\n",
       "      <td>BRA</td>\n",
       "      <td>-</td>\n",
       "      <td>Fairly Determined</td>\n",
       "      <td>Level-headed</td>\n",
       "      <td>£6,500 p/w</td>\n",
       "      <td>£15.5M - £19M</td>\n",
       "      <td>-</td>\n",
       "      <td>Right</td>\n",
       "      <td>13</td>\n",
       "      <td>1189</td>\n",
       "      <td>7.14</td>\n",
       "      <td>8</td>\n",
       "      <td>56.62</td>\n",
       "      <td>2</td>\n",
       "      <td>1</td>\n",
       "      <td>False</td>\n",
       "      <td>73.20</td>\n",
       "      <td>67.22</td>\n",
       "      <td>92</td>\n",
       "      <td>6.21</td>\n",
       "      <td>8.48</td>\n",
       "      <td>1.36</td>\n",
       "      <td>1.86</td>\n",
       "      <td>1.36</td>\n",
       "      <td>1.86</td>\n",
       "      <td>0.45</td>\n",
       "      <td>0.45</td>\n",
       "      <td>100</td>\n",
       "      <td>9.46</td>\n",
       "      <td>2.42</td>\n",
       "      <td>25.60</td>\n",
       "      <td>8.40</td>\n",
       "      <td>7.27</td>\n",
       "      <td>1.13</td>\n",
       "      <td>15.54</td>\n",
       "      <td>3.10</td>\n",
       "      <td>2.20</td>\n",
       "      <td>71</td>\n",
       "      <td>0.91</td>\n",
       "      <td>0.08</td>\n",
       "      <td>3.45</td>\n",
       "      <td>6.83</td>\n",
       "      <td>1.59</td>\n",
       "      <td>0.45</td>\n",
       "      <td>0.15</td>\n",
       "      <td>3.94</td>\n",
       "      <td>2.50</td>\n",
       "      <td>63.46</td>\n",
       "      <td>1.44</td>\n",
       "      <td>36.54</td>\n",
       "      <td>0.53</td>\n",
       "      <td>21.21</td>\n",
       "      <td>3.94</td>\n",
       "      <td>66.67</td>\n",
       "      <td>0.45</td>\n",
       "      <td>0.83</td>\n",
       "      <td>13.45</td>\n",
       "      <td>0</td>\n",
       "      <td>9.16</td>\n",
       "      <td>2.15</td>\n",
       "      <td>2.27</td>\n",
       "      <td>14.19</td>\n",
       "      <td>4.24</td>\n",
       "      <td>65</td>\n",
       "      <td>59</td>\n",
       "      <td>53</td>\n",
       "      <td>65</td>\n",
       "      <td>65</td>\n",
       "      <td>65</td>\n",
       "      <td>59</td>\n",
       "      <td>59</td>\n",
       "      <td>65</td>\n",
       "      <td>59</td>\n",
       "      <td>82</td>\n",
       "      <td>65</td>\n",
       "      <td>71</td>\n",
       "      <td>53</td>\n",
       "    </tr>\n",
       "    <tr>\n",
       "      <th>2</th>\n",
       "      <td>91187556</td>\n",
       "      <td>Leandro Barreiro</td>\n",
       "      <td>DM, M (C)</td>\n",
       "      <td>24</td>\n",
       "      <td>174 cm</td>\n",
       "      <td>65 kg</td>\n",
       "      <td>Int</td>\n",
       "      <td>Mainz 05</td>\n",
       "      <td>Bundesliga</td>\n",
       "      <td>LUX (POR)</td>\n",
       "      <td>-</td>\n",
       "      <td>Spirited</td>\n",
       "      <td>Evasive</td>\n",
       "      <td>£20,500 p/w</td>\n",
       "      <td>Not for Sale</td>\n",
       "      <td>-</td>\n",
       "      <td>Right</td>\n",
       "      <td>31</td>\n",
       "      <td>2627</td>\n",
       "      <td>6.75</td>\n",
       "      <td>0</td>\n",
       "      <td>84.74</td>\n",
       "      <td>3</td>\n",
       "      <td>1</td>\n",
       "      <td>False</td>\n",
       "      <td>44.88</td>\n",
       "      <td>39.88</td>\n",
       "      <td>89</td>\n",
       "      <td>3.46</td>\n",
       "      <td>7.71</td>\n",
       "      <td>0.62</td>\n",
       "      <td>1.37</td>\n",
       "      <td>0.62</td>\n",
       "      <td>1.37</td>\n",
       "      <td>0.21</td>\n",
       "      <td>0.21</td>\n",
       "      <td>100</td>\n",
       "      <td>11.85</td>\n",
       "      <td>2.57</td>\n",
       "      <td>21.68</td>\n",
       "      <td>9.66</td>\n",
       "      <td>7.43</td>\n",
       "      <td>2.23</td>\n",
       "      <td>30.01</td>\n",
       "      <td>3.87</td>\n",
       "      <td>2.67</td>\n",
       "      <td>69</td>\n",
       "      <td>1.20</td>\n",
       "      <td>0.10</td>\n",
       "      <td>3.85</td>\n",
       "      <td>2.05</td>\n",
       "      <td>2.19</td>\n",
       "      <td>0.41</td>\n",
       "      <td>0.27</td>\n",
       "      <td>3.46</td>\n",
       "      <td>1.16</td>\n",
       "      <td>33.66</td>\n",
       "      <td>2.30</td>\n",
       "      <td>66.34</td>\n",
       "      <td>0.10</td>\n",
       "      <td>8.82</td>\n",
       "      <td>3.46</td>\n",
       "      <td>52.34</td>\n",
       "      <td>1.88</td>\n",
       "      <td>1.27</td>\n",
       "      <td>13.90</td>\n",
       "      <td>1</td>\n",
       "      <td>15.79</td>\n",
       "      <td>1.22</td>\n",
       "      <td>0.86</td>\n",
       "      <td>11.76</td>\n",
       "      <td>2.91</td>\n",
       "      <td>6</td>\n",
       "      <td>35</td>\n",
       "      <td>12</td>\n",
       "      <td>0</td>\n",
       "      <td>6</td>\n",
       "      <td>6</td>\n",
       "      <td>12</td>\n",
       "      <td>12</td>\n",
       "      <td>12</td>\n",
       "      <td>6</td>\n",
       "      <td>18</td>\n",
       "      <td>29</td>\n",
       "      <td>29</td>\n",
       "      <td>6</td>\n",
       "    </tr>\n",
       "    <tr>\n",
       "      <th>3</th>\n",
       "      <td>16147660</td>\n",
       "      <td>Xaver Schlager</td>\n",
       "      <td>DM, M (C)</td>\n",
       "      <td>26</td>\n",
       "      <td>174 cm</td>\n",
       "      <td>76 kg</td>\n",
       "      <td>Int</td>\n",
       "      <td>RB Leipzig</td>\n",
       "      <td>Bundesliga</td>\n",
       "      <td>AUT</td>\n",
       "      <td>-</td>\n",
       "      <td>Resolute</td>\n",
       "      <td>Level-headed</td>\n",
       "      <td>£78,000 p/w</td>\n",
       "      <td>£20M</td>\n",
       "      <td>£26.5M</td>\n",
       "      <td>Left</td>\n",
       "      <td>37</td>\n",
       "      <td>3060</td>\n",
       "      <td>6.88</td>\n",
       "      <td>0</td>\n",
       "      <td>82.70</td>\n",
       "      <td>4</td>\n",
       "      <td>1</td>\n",
       "      <td>False</td>\n",
       "      <td>49.91</td>\n",
       "      <td>45.53</td>\n",
       "      <td>91</td>\n",
       "      <td>6.38</td>\n",
       "      <td>12.79</td>\n",
       "      <td>1.79</td>\n",
       "      <td>3.59</td>\n",
       "      <td>1.26</td>\n",
       "      <td>2.53</td>\n",
       "      <td>0.47</td>\n",
       "      <td>0.47</td>\n",
       "      <td>100</td>\n",
       "      <td>9.97</td>\n",
       "      <td>2.82</td>\n",
       "      <td>28.32</td>\n",
       "      <td>7.59</td>\n",
       "      <td>6.91</td>\n",
       "      <td>0.68</td>\n",
       "      <td>9.84</td>\n",
       "      <td>3.18</td>\n",
       "      <td>2.29</td>\n",
       "      <td>72</td>\n",
       "      <td>0.88</td>\n",
       "      <td>0.03</td>\n",
       "      <td>1.28</td>\n",
       "      <td>2.30</td>\n",
       "      <td>1.53</td>\n",
       "      <td>0.12</td>\n",
       "      <td>0.03</td>\n",
       "      <td>2.47</td>\n",
       "      <td>0.91</td>\n",
       "      <td>36.90</td>\n",
       "      <td>1.56</td>\n",
       "      <td>63.10</td>\n",
       "      <td>0.06</td>\n",
       "      <td>6.45</td>\n",
       "      <td>2.47</td>\n",
       "      <td>56.77</td>\n",
       "      <td>1.38</td>\n",
       "      <td>0.56</td>\n",
       "      <td>13.90</td>\n",
       "      <td>0</td>\n",
       "      <td>15.32</td>\n",
       "      <td>1.88</td>\n",
       "      <td>2.09</td>\n",
       "      <td>8.73</td>\n",
       "      <td>4.32</td>\n",
       "      <td>59</td>\n",
       "      <td>0</td>\n",
       "      <td>65</td>\n",
       "      <td>53</td>\n",
       "      <td>53</td>\n",
       "      <td>47</td>\n",
       "      <td>65</td>\n",
       "      <td>47</td>\n",
       "      <td>47</td>\n",
       "      <td>47</td>\n",
       "      <td>29</td>\n",
       "      <td>6</td>\n",
       "      <td>6</td>\n",
       "      <td>59</td>\n",
       "    </tr>\n",
       "    <tr>\n",
       "      <th>4</th>\n",
       "      <td>77062603</td>\n",
       "      <td>Jesús Castillo</td>\n",
       "      <td>DM, M (C)</td>\n",
       "      <td>22</td>\n",
       "      <td>185 cm</td>\n",
       "      <td>80 kg</td>\n",
       "      <td>-</td>\n",
       "      <td>Gil Vicente</td>\n",
       "      <td>Liga Portugal Betclic</td>\n",
       "      <td>PER</td>\n",
       "      <td>-</td>\n",
       "      <td>Balanced</td>\n",
       "      <td>Media-friendly</td>\n",
       "      <td>£1,800 p/w</td>\n",
       "      <td>£140K - £1.4M</td>\n",
       "      <td>-</td>\n",
       "      <td>Right Only</td>\n",
       "      <td>30</td>\n",
       "      <td>2512</td>\n",
       "      <td>6.96</td>\n",
       "      <td>4</td>\n",
       "      <td>73.88</td>\n",
       "      <td>6</td>\n",
       "      <td>1</td>\n",
       "      <td>False</td>\n",
       "      <td>54.32</td>\n",
       "      <td>48.91</td>\n",
       "      <td>90</td>\n",
       "      <td>5.52</td>\n",
       "      <td>10.16</td>\n",
       "      <td>1.15</td>\n",
       "      <td>2.11</td>\n",
       "      <td>1.11</td>\n",
       "      <td>2.04</td>\n",
       "      <td>0.29</td>\n",
       "      <td>0.29</td>\n",
       "      <td>100</td>\n",
       "      <td>10.03</td>\n",
       "      <td>2.94</td>\n",
       "      <td>29.29</td>\n",
       "      <td>9.92</td>\n",
       "      <td>7.24</td>\n",
       "      <td>2.68</td>\n",
       "      <td>37.02</td>\n",
       "      <td>2.79</td>\n",
       "      <td>1.93</td>\n",
       "      <td>69</td>\n",
       "      <td>0.86</td>\n",
       "      <td>0.04</td>\n",
       "      <td>1.85</td>\n",
       "      <td>2.79</td>\n",
       "      <td>2.11</td>\n",
       "      <td>0.57</td>\n",
       "      <td>0.36</td>\n",
       "      <td>4.59</td>\n",
       "      <td>2.58</td>\n",
       "      <td>56.25</td>\n",
       "      <td>2.01</td>\n",
       "      <td>43.75</td>\n",
       "      <td>0.75</td>\n",
       "      <td>29.17</td>\n",
       "      <td>4.59</td>\n",
       "      <td>61.17</td>\n",
       "      <td>1.00</td>\n",
       "      <td>1.11</td>\n",
       "      <td>13.40</td>\n",
       "      <td>1</td>\n",
       "      <td>11.21</td>\n",
       "      <td>2.06</td>\n",
       "      <td>1.68</td>\n",
       "      <td>16.90</td>\n",
       "      <td>4.37</td>\n",
       "      <td>41</td>\n",
       "      <td>41</td>\n",
       "      <td>47</td>\n",
       "      <td>59</td>\n",
       "      <td>41</td>\n",
       "      <td>53</td>\n",
       "      <td>53</td>\n",
       "      <td>41</td>\n",
       "      <td>53</td>\n",
       "      <td>41</td>\n",
       "      <td>47</td>\n",
       "      <td>82</td>\n",
       "      <td>100</td>\n",
       "      <td>65</td>\n",
       "    </tr>\n",
       "  </tbody>\n",
       "</table>\n",
       "</div>"
      ],
      "text/plain": [
       "           id              name          position  age  height weight  inf  \\\n",
       "0    37071145      Mats Wieffer  D (C), DM, M (C)   24  188 cm  80 kg    -   \n",
       "1  2000208439  Gabriel Moscardo                DM   18  185 cm  73 kg    -   \n",
       "2    91187556  Leandro Barreiro         DM, M (C)   24  174 cm  65 kg  Int   \n",
       "3    16147660    Xaver Schlager         DM, M (C)   26  174 cm  76 kg  Int   \n",
       "4    77062603    Jesús Castillo         DM, M (C)   22  185 cm  80 kg    -   \n",
       "\n",
       "          club                             division nationality home_grown  \\\n",
       "0    Feyenoord                           Eredivisie         NED          -   \n",
       "1          COR  Campeonato Brasileiro Série A Assaí         BRA          -   \n",
       "2     Mainz 05                           Bundesliga   LUX (POR)          -   \n",
       "3   RB Leipzig                           Bundesliga         AUT          -   \n",
       "4  Gil Vicente                Liga Portugal Betclic         PER          -   \n",
       "\n",
       "           personality  media_handling         wage transfer_value  \\\n",
       "0  Fairly Professional    Level-headed  £16,500 p/w    £71M - £82M   \n",
       "1    Fairly Determined    Level-headed   £6,500 p/w  £15.5M - £19M   \n",
       "2             Spirited         Evasive  £20,500 p/w   Not for Sale   \n",
       "3             Resolute    Level-headed  £78,000 p/w           £20M   \n",
       "4             Balanced  Media-friendly   £1,800 p/w  £140K - £1.4M   \n",
       "\n",
       "  asking_price preferred_foot  starts  minutes_played  average_rating  \\\n",
       "0            -          Right      45            3457            7.21   \n",
       "1            -          Right      13            1189            7.14   \n",
       "2            -          Right      31            2627            6.75   \n",
       "3       £26.5M           Left      37            3060            6.88   \n",
       "4            -     Right Only      30            2512            6.96   \n",
       "\n",
       "   sub_appearances  minutes/game  index  entries  leaguemultiplier  \\\n",
       "0                0         76.82      1        1             False   \n",
       "1                8         56.62      2        1             False   \n",
       "2                0         84.74      3        1             False   \n",
       "3                0         82.70      4        1             False   \n",
       "4                4         73.88      6        1             False   \n",
       "\n",
       "   passes_attempted/90  passes_completed/90  pass_completion_%  \\\n",
       "0                64.41                57.48                 89   \n",
       "1                73.20                67.22                 92   \n",
       "2                44.88                39.88                 89   \n",
       "3                49.91                45.53                 91   \n",
       "4                54.32                48.91                 90   \n",
       "\n",
       "   progressive_passes/90  progressive_pass_rate  key_passes/90  key_pass_%  \\\n",
       "0                   6.38                   9.90           1.67        2.59   \n",
       "1                   6.21                   8.48           1.36        1.86   \n",
       "2                   3.46                   7.71           0.62        1.37   \n",
       "3                   6.38                  12.79           1.79        3.59   \n",
       "4                   5.52                  10.16           1.15        2.11   \n",
       "\n",
       "   open_play_key_passes/90  open_play_key_pass_%  chances_created/90  \\\n",
       "0                     1.56                  2.43                0.39   \n",
       "1                     1.36                  1.86                0.45   \n",
       "2                     0.62                  1.37                0.21   \n",
       "3                     1.26                  2.53                0.47   \n",
       "4                     1.11                  2.04                0.29   \n",
       "\n",
       "   clear_cut_chances_created/90  clear_cut_chances_%  pressures_attempted/90  \\\n",
       "0                          0.39                  100                   10.21   \n",
       "1                          0.45                  100                    9.46   \n",
       "2                          0.21                  100                   11.85   \n",
       "3                          0.47                  100                    9.97   \n",
       "4                          0.29                  100                   10.03   \n",
       "\n",
       "   pressures_completed/90  pressure_success_%  possession_won/90  \\\n",
       "0                    2.71               26.53               9.35   \n",
       "1                    2.42               25.60               8.40   \n",
       "2                    2.57               21.68               9.66   \n",
       "3                    2.82               28.32               7.59   \n",
       "4                    2.94               29.29               9.92   \n",
       "\n",
       "   possession_lost/90  poss+_/90  poss+__%  tackles_attempted/90  \\\n",
       "0                9.55      -0.20     -2.09                  2.47   \n",
       "1                7.27       1.13     15.54                  3.10   \n",
       "2                7.43       2.23     30.01                  3.87   \n",
       "3                6.91       0.68      9.84                  3.18   \n",
       "4                7.24       2.68     37.02                  2.79   \n",
       "\n",
       "   tackles_completed/90  tackle_completion_%  tackles_failed/90  \\\n",
       "0                  2.00                   81               0.47   \n",
       "1                  2.20                   71               0.91   \n",
       "2                  2.67                   69               1.20   \n",
       "3                  2.29                   72               0.88   \n",
       "4                  1.93                   69               0.86   \n",
       "\n",
       "   key_tackles/90  key_tackles_%  tackle_quality  interceptions/90  blocks/90  \\\n",
       "0            0.05           2.60            3.52              1.77       0.23   \n",
       "1            0.08           3.45            6.83              1.59       0.45   \n",
       "2            0.10           3.85            2.05              2.19       0.41   \n",
       "3            0.03           1.28            2.30              1.53       0.12   \n",
       "4            0.04           1.85            2.79              2.11       0.57   \n",
       "\n",
       "   shots_blocked/90  headers_attempted/90  headers_won/90  headers_won_%  \\\n",
       "0              0.10                  5.73            3.41          59.55   \n",
       "1              0.15                  3.94            2.50          63.46   \n",
       "2              0.27                  3.46            1.16          33.66   \n",
       "3              0.03                  2.47            0.91          36.90   \n",
       "4              0.36                  4.59            2.58          56.25   \n",
       "\n",
       "   headers_lost/90  headers_lost_%  key_headers/90  key_headers_%  \\\n",
       "0             2.32           40.45            0.47          13.74   \n",
       "1             1.44           36.54            0.53          21.21   \n",
       "2             2.30           66.34            0.10           8.82   \n",
       "3             1.56           63.10            0.06           6.45   \n",
       "4             2.01           43.75            0.75          29.17   \n",
       "\n",
       "   aerial_challenges_attempted/90  duels_win_%  fouls_committed/90  \\\n",
       "0                            5.73        66.03                0.70   \n",
       "1                            3.94        66.67                0.45   \n",
       "2                            3.46        52.34                1.88   \n",
       "3                            2.47        56.77                1.38   \n",
       "4                            4.59        61.17                1.00   \n",
       "\n",
       "   clearances/90  distance_covered/90  mistakes_leading_to_goal  sprints/90  \\\n",
       "0           0.29                13.73                         0       14.40   \n",
       "1           0.83                13.45                         0        9.16   \n",
       "2           1.27                13.90                         1       15.79   \n",
       "3           0.56                13.90                         0       15.32   \n",
       "4           1.11                13.40                         1       11.21   \n",
       "\n",
       "   attacking_actions/90  creative_actions/90  defensive_actions/90  \\\n",
       "0                  3.42                 2.37                 13.87   \n",
       "1                  2.15                 2.27                 14.19   \n",
       "2                  1.22                 0.86                 11.76   \n",
       "3                  1.88                 2.09                  8.73   \n",
       "4                  2.06                 1.68                 16.90   \n",
       "\n",
       "   excitement_factor/90  general_performance  defensive_defender  \\\n",
       "0                  7.03                   88                  12   \n",
       "1                  4.24                   65                  59   \n",
       "2                  2.91                    6                  35   \n",
       "3                  4.32                   59                   0   \n",
       "4                  4.37                   41                  41   \n",
       "\n",
       "   creative_defender  attacking_defender  creative_midfielder  \\\n",
       "0                 71                  88                   82   \n",
       "1                 53                  65                   65   \n",
       "2                 12                   0                    6   \n",
       "3                 65                  53                   53   \n",
       "4                 47                  59                   41   \n",
       "\n",
       "   attacking_midfielder  creative_winger  attacking_winger  creative_forward  \\\n",
       "0                    82               82                88                82   \n",
       "1                    65               59                59                65   \n",
       "2                     6               12                12                12   \n",
       "3                    47               65                47                47   \n",
       "4                    53               53                41                53   \n",
       "\n",
       "   attacking_forward  finisher  aerial_threat  reader  assister  \n",
       "0                 88        88             88      53        82  \n",
       "1                 59        82             65      71        53  \n",
       "2                  6        18             29      29         6  \n",
       "3                 47        29              6       6        59  \n",
       "4                 41        47             82     100        65  "
      ]
     },
     "execution_count": 3,
     "metadata": {},
     "output_type": "execute_result"
    }
   ],
   "source": [
    "df_players.head()"
   ]
  },
  {
   "cell_type": "code",
   "execution_count": 4,
   "id": "5b106302",
   "metadata": {},
   "outputs": [],
   "source": [
    "# # Keep only natural DMs\n",
    "# path = 'data/Natural DMs.html'\n",
    "\n",
    "# # Ingest in a dataframe\n",
    "# df_dms = pd.read_html(path, encoding='utf-8')[0]\n",
    "\n",
    "# # Format column names \n",
    "# df_dms.columns = [x.lower().strip().replace(' ', '_').replace('-', '_') for x in df_dms.columns]\n",
    "\n",
    "# df_dms['natural_dm'] = 'Yes'\n",
    "\n",
    "# df_dms = df_dms[['uid', 'natural_dm']]\n",
    "\n",
    "# df_players = df_players.merge(df_dms, \n",
    "#                               left_on='id',\n",
    "#                               right_on='uid',\n",
    "#                               how='left')\n",
    "\n",
    "# df_players = df_players[df_players['natural_dm'] == 'Yes']\n",
    "\n",
    "# Get price estimation values\n",
    "df_players['price_estimate_M'] = df_players['transfer_value'].apply(parse_transfer_value) / 1000000"
   ]
  },
  {
   "cell_type": "markdown",
   "id": "22683d93",
   "metadata": {},
   "source": [
    "## Passing analysis"
   ]
  },
  {
   "cell_type": "markdown",
   "id": "5c2da36b",
   "metadata": {},
   "source": [
    "### Full universe"
   ]
  },
  {
   "cell_type": "code",
   "execution_count": 5,
   "id": "c953fb7b",
   "metadata": {},
   "outputs": [
    {
     "data": {
      "application/vnd.plotly.v1+json": {
       "config": {
        "plotlyServerURL": "https://plot.ly"
       },
       "data": [
        {
         "customdata": [
          [
           "Mats Wieffer",
           "Feyenoord"
          ],
          [
           "Gabriel Moscardo",
           "COR"
          ],
          [
           "Leandro Barreiro",
           "Mainz 05"
          ],
          [
           "Xaver Schlager",
           "RB Leipzig"
          ],
          [
           "Jesús Castillo",
           "Gil Vicente"
          ],
          [
           "Ignacio Miramón",
           "Lille"
          ],
          [
           "William Clem",
           "FC København"
          ],
          [
           "Salis Abdul Samed",
           "Lens"
          ],
          [
           "Michel Ndary Adopo",
           "Atalanta"
          ],
          [
           "Adam Wharton",
           "Crystal Palace"
          ],
          [
           "Mateo Seoane",
           "Talleres"
          ],
          [
           "Oliver Johansen Braude",
           "sc Heerenveen"
          ],
          [
           "Eric Martel",
           "FC Köln"
          ],
          [
           "Hugo Larsson",
           "Eintracht Frankfurt"
          ],
          [
           "Veldin Hodža",
           "Empoli"
          ],
          [
           "Žan Jevšenak",
           "Portimonense"
          ]
         ],
         "hovertemplate": "<b>%{customdata[0]}</b><br><b>%{customdata[1]}</b><br><br>passes_attempted/90: %{x}<br>progressive_pass_rate: %{y}<br>pass_completion_%: %{marker.color}<extra></extra>",
         "legendgroup": "",
         "marker": {
          "color": {
           "bdata": "WVxZW1pcWllbV1ldWltYWQ==",
           "dtype": "i1"
          },
          "coloraxis": "coloraxis",
          "size": 10,
          "symbol": "circle"
         },
         "mode": "markers+text",
         "name": "",
         "orientation": "v",
         "showlegend": false,
         "text": [
          "Mats Wieffer",
          "Gabriel Moscardo",
          "Leandro Barreiro",
          "Xaver Schlager",
          "Jesús Castillo",
          "Ignacio Miramón",
          "William Clem",
          "Salis Abdul Samed",
          "Michel Ndary Adopo",
          "Adam Wharton",
          "Mateo Seoane",
          "Oliver Johansen Braude",
          "Eric Martel",
          "Hugo Larsson",
          "Veldin Hodža",
          "Žan Jevšenak"
         ],
         "textfont": {
          "size": 10
         },
         "textposition": "top center",
         "type": "scatter",
         "x": {
          "bdata": "CtejcD0aUEDNzMzMzExSQHE9CtejcEZAFK5H4Xr0SEApXI/C9ShLQBSuR+F69FFAUrgehetxUECkcD0K12NRQDMzMzMzc09AcT0K16OQTUBxPQrXo5BJQD0K16Nw/VNApHA9CtfDSUDNzMzMzFxTQClcj8L1qExAcT0K16NwTkA=",
          "dtype": "f8"
         },
         "xaxis": "x",
         "y": {
          "bdata": "zczMzMzMI0D2KFyPwvUgQNejcD0K1x5AFK5H4XqUKUBSuB6F61EkQM3MzMzMTCFAPQrXo3A9J0AUrkfhehQgQGZmZmZmZiNAKVyPwvWoKEAUrkfhepQkQBSuR+F6lCRAMzMzMzMzIkD2KFyPwvUiQFK4HoXr0SJAcT0K16NwH0A=",
          "dtype": "f8"
         },
         "yaxis": "y"
        }
       ],
       "layout": {
        "coloraxis": {
         "colorbar": {
          "title": {
           "text": "pass_completion_%"
          }
         },
         "colorscale": [
          [
           0,
           "rgb(165,0,38)"
          ],
          [
           0.1,
           "rgb(215,48,39)"
          ],
          [
           0.2,
           "rgb(244,109,67)"
          ],
          [
           0.3,
           "rgb(253,174,97)"
          ],
          [
           0.4,
           "rgb(254,224,139)"
          ],
          [
           0.5,
           "rgb(255,255,191)"
          ],
          [
           0.6,
           "rgb(217,239,139)"
          ],
          [
           0.7,
           "rgb(166,217,106)"
          ],
          [
           0.8,
           "rgb(102,189,99)"
          ],
          [
           0.9,
           "rgb(26,152,80)"
          ],
          [
           1,
           "rgb(0,104,55)"
          ]
         ],
         "showscale": false
        },
        "height": 700,
        "legend": {
         "tracegroupgap": 0
        },
        "paper_bgcolor": "darkgray",
        "plot_bgcolor": "darkgray",
        "template": {
         "data": {
          "bar": [
           {
            "error_x": {
             "color": "#2a3f5f"
            },
            "error_y": {
             "color": "#2a3f5f"
            },
            "marker": {
             "line": {
              "color": "#E5ECF6",
              "width": 0.5
             },
             "pattern": {
              "fillmode": "overlay",
              "size": 10,
              "solidity": 0.2
             }
            },
            "type": "bar"
           }
          ],
          "barpolar": [
           {
            "marker": {
             "line": {
              "color": "#E5ECF6",
              "width": 0.5
             },
             "pattern": {
              "fillmode": "overlay",
              "size": 10,
              "solidity": 0.2
             }
            },
            "type": "barpolar"
           }
          ],
          "carpet": [
           {
            "aaxis": {
             "endlinecolor": "#2a3f5f",
             "gridcolor": "white",
             "linecolor": "white",
             "minorgridcolor": "white",
             "startlinecolor": "#2a3f5f"
            },
            "baxis": {
             "endlinecolor": "#2a3f5f",
             "gridcolor": "white",
             "linecolor": "white",
             "minorgridcolor": "white",
             "startlinecolor": "#2a3f5f"
            },
            "type": "carpet"
           }
          ],
          "choropleth": [
           {
            "colorbar": {
             "outlinewidth": 0,
             "ticks": ""
            },
            "type": "choropleth"
           }
          ],
          "contour": [
           {
            "colorbar": {
             "outlinewidth": 0,
             "ticks": ""
            },
            "colorscale": [
             [
              0,
              "#0d0887"
             ],
             [
              0.1111111111111111,
              "#46039f"
             ],
             [
              0.2222222222222222,
              "#7201a8"
             ],
             [
              0.3333333333333333,
              "#9c179e"
             ],
             [
              0.4444444444444444,
              "#bd3786"
             ],
             [
              0.5555555555555556,
              "#d8576b"
             ],
             [
              0.6666666666666666,
              "#ed7953"
             ],
             [
              0.7777777777777778,
              "#fb9f3a"
             ],
             [
              0.8888888888888888,
              "#fdca26"
             ],
             [
              1,
              "#f0f921"
             ]
            ],
            "type": "contour"
           }
          ],
          "contourcarpet": [
           {
            "colorbar": {
             "outlinewidth": 0,
             "ticks": ""
            },
            "type": "contourcarpet"
           }
          ],
          "heatmap": [
           {
            "colorbar": {
             "outlinewidth": 0,
             "ticks": ""
            },
            "colorscale": [
             [
              0,
              "#0d0887"
             ],
             [
              0.1111111111111111,
              "#46039f"
             ],
             [
              0.2222222222222222,
              "#7201a8"
             ],
             [
              0.3333333333333333,
              "#9c179e"
             ],
             [
              0.4444444444444444,
              "#bd3786"
             ],
             [
              0.5555555555555556,
              "#d8576b"
             ],
             [
              0.6666666666666666,
              "#ed7953"
             ],
             [
              0.7777777777777778,
              "#fb9f3a"
             ],
             [
              0.8888888888888888,
              "#fdca26"
             ],
             [
              1,
              "#f0f921"
             ]
            ],
            "type": "heatmap"
           }
          ],
          "histogram": [
           {
            "marker": {
             "pattern": {
              "fillmode": "overlay",
              "size": 10,
              "solidity": 0.2
             }
            },
            "type": "histogram"
           }
          ],
          "histogram2d": [
           {
            "colorbar": {
             "outlinewidth": 0,
             "ticks": ""
            },
            "colorscale": [
             [
              0,
              "#0d0887"
             ],
             [
              0.1111111111111111,
              "#46039f"
             ],
             [
              0.2222222222222222,
              "#7201a8"
             ],
             [
              0.3333333333333333,
              "#9c179e"
             ],
             [
              0.4444444444444444,
              "#bd3786"
             ],
             [
              0.5555555555555556,
              "#d8576b"
             ],
             [
              0.6666666666666666,
              "#ed7953"
             ],
             [
              0.7777777777777778,
              "#fb9f3a"
             ],
             [
              0.8888888888888888,
              "#fdca26"
             ],
             [
              1,
              "#f0f921"
             ]
            ],
            "type": "histogram2d"
           }
          ],
          "histogram2dcontour": [
           {
            "colorbar": {
             "outlinewidth": 0,
             "ticks": ""
            },
            "colorscale": [
             [
              0,
              "#0d0887"
             ],
             [
              0.1111111111111111,
              "#46039f"
             ],
             [
              0.2222222222222222,
              "#7201a8"
             ],
             [
              0.3333333333333333,
              "#9c179e"
             ],
             [
              0.4444444444444444,
              "#bd3786"
             ],
             [
              0.5555555555555556,
              "#d8576b"
             ],
             [
              0.6666666666666666,
              "#ed7953"
             ],
             [
              0.7777777777777778,
              "#fb9f3a"
             ],
             [
              0.8888888888888888,
              "#fdca26"
             ],
             [
              1,
              "#f0f921"
             ]
            ],
            "type": "histogram2dcontour"
           }
          ],
          "mesh3d": [
           {
            "colorbar": {
             "outlinewidth": 0,
             "ticks": ""
            },
            "type": "mesh3d"
           }
          ],
          "parcoords": [
           {
            "line": {
             "colorbar": {
              "outlinewidth": 0,
              "ticks": ""
             }
            },
            "type": "parcoords"
           }
          ],
          "pie": [
           {
            "automargin": true,
            "type": "pie"
           }
          ],
          "scatter": [
           {
            "fillpattern": {
             "fillmode": "overlay",
             "size": 10,
             "solidity": 0.2
            },
            "type": "scatter"
           }
          ],
          "scatter3d": [
           {
            "line": {
             "colorbar": {
              "outlinewidth": 0,
              "ticks": ""
             }
            },
            "marker": {
             "colorbar": {
              "outlinewidth": 0,
              "ticks": ""
             }
            },
            "type": "scatter3d"
           }
          ],
          "scattercarpet": [
           {
            "marker": {
             "colorbar": {
              "outlinewidth": 0,
              "ticks": ""
             }
            },
            "type": "scattercarpet"
           }
          ],
          "scattergeo": [
           {
            "marker": {
             "colorbar": {
              "outlinewidth": 0,
              "ticks": ""
             }
            },
            "type": "scattergeo"
           }
          ],
          "scattergl": [
           {
            "marker": {
             "colorbar": {
              "outlinewidth": 0,
              "ticks": ""
             }
            },
            "type": "scattergl"
           }
          ],
          "scattermap": [
           {
            "marker": {
             "colorbar": {
              "outlinewidth": 0,
              "ticks": ""
             }
            },
            "type": "scattermap"
           }
          ],
          "scattermapbox": [
           {
            "marker": {
             "colorbar": {
              "outlinewidth": 0,
              "ticks": ""
             }
            },
            "type": "scattermapbox"
           }
          ],
          "scatterpolar": [
           {
            "marker": {
             "colorbar": {
              "outlinewidth": 0,
              "ticks": ""
             }
            },
            "type": "scatterpolar"
           }
          ],
          "scatterpolargl": [
           {
            "marker": {
             "colorbar": {
              "outlinewidth": 0,
              "ticks": ""
             }
            },
            "type": "scatterpolargl"
           }
          ],
          "scatterternary": [
           {
            "marker": {
             "colorbar": {
              "outlinewidth": 0,
              "ticks": ""
             }
            },
            "type": "scatterternary"
           }
          ],
          "surface": [
           {
            "colorbar": {
             "outlinewidth": 0,
             "ticks": ""
            },
            "colorscale": [
             [
              0,
              "#0d0887"
             ],
             [
              0.1111111111111111,
              "#46039f"
             ],
             [
              0.2222222222222222,
              "#7201a8"
             ],
             [
              0.3333333333333333,
              "#9c179e"
             ],
             [
              0.4444444444444444,
              "#bd3786"
             ],
             [
              0.5555555555555556,
              "#d8576b"
             ],
             [
              0.6666666666666666,
              "#ed7953"
             ],
             [
              0.7777777777777778,
              "#fb9f3a"
             ],
             [
              0.8888888888888888,
              "#fdca26"
             ],
             [
              1,
              "#f0f921"
             ]
            ],
            "type": "surface"
           }
          ],
          "table": [
           {
            "cells": {
             "fill": {
              "color": "#EBF0F8"
             },
             "line": {
              "color": "white"
             }
            },
            "header": {
             "fill": {
              "color": "#C8D4E3"
             },
             "line": {
              "color": "white"
             }
            },
            "type": "table"
           }
          ]
         },
         "layout": {
          "annotationdefaults": {
           "arrowcolor": "#2a3f5f",
           "arrowhead": 0,
           "arrowwidth": 1
          },
          "autotypenumbers": "strict",
          "coloraxis": {
           "colorbar": {
            "outlinewidth": 0,
            "ticks": ""
           }
          },
          "colorscale": {
           "diverging": [
            [
             0,
             "#8e0152"
            ],
            [
             0.1,
             "#c51b7d"
            ],
            [
             0.2,
             "#de77ae"
            ],
            [
             0.3,
             "#f1b6da"
            ],
            [
             0.4,
             "#fde0ef"
            ],
            [
             0.5,
             "#f7f7f7"
            ],
            [
             0.6,
             "#e6f5d0"
            ],
            [
             0.7,
             "#b8e186"
            ],
            [
             0.8,
             "#7fbc41"
            ],
            [
             0.9,
             "#4d9221"
            ],
            [
             1,
             "#276419"
            ]
           ],
           "sequential": [
            [
             0,
             "#0d0887"
            ],
            [
             0.1111111111111111,
             "#46039f"
            ],
            [
             0.2222222222222222,
             "#7201a8"
            ],
            [
             0.3333333333333333,
             "#9c179e"
            ],
            [
             0.4444444444444444,
             "#bd3786"
            ],
            [
             0.5555555555555556,
             "#d8576b"
            ],
            [
             0.6666666666666666,
             "#ed7953"
            ],
            [
             0.7777777777777778,
             "#fb9f3a"
            ],
            [
             0.8888888888888888,
             "#fdca26"
            ],
            [
             1,
             "#f0f921"
            ]
           ],
           "sequentialminus": [
            [
             0,
             "#0d0887"
            ],
            [
             0.1111111111111111,
             "#46039f"
            ],
            [
             0.2222222222222222,
             "#7201a8"
            ],
            [
             0.3333333333333333,
             "#9c179e"
            ],
            [
             0.4444444444444444,
             "#bd3786"
            ],
            [
             0.5555555555555556,
             "#d8576b"
            ],
            [
             0.6666666666666666,
             "#ed7953"
            ],
            [
             0.7777777777777778,
             "#fb9f3a"
            ],
            [
             0.8888888888888888,
             "#fdca26"
            ],
            [
             1,
             "#f0f921"
            ]
           ]
          },
          "colorway": [
           "#636efa",
           "#EF553B",
           "#00cc96",
           "#ab63fa",
           "#FFA15A",
           "#19d3f3",
           "#FF6692",
           "#B6E880",
           "#FF97FF",
           "#FECB52"
          ],
          "font": {
           "color": "#2a3f5f"
          },
          "geo": {
           "bgcolor": "white",
           "lakecolor": "white",
           "landcolor": "#E5ECF6",
           "showlakes": true,
           "showland": true,
           "subunitcolor": "white"
          },
          "hoverlabel": {
           "align": "left"
          },
          "hovermode": "closest",
          "mapbox": {
           "style": "light"
          },
          "paper_bgcolor": "white",
          "plot_bgcolor": "#E5ECF6",
          "polar": {
           "angularaxis": {
            "gridcolor": "white",
            "linecolor": "white",
            "ticks": ""
           },
           "bgcolor": "#E5ECF6",
           "radialaxis": {
            "gridcolor": "white",
            "linecolor": "white",
            "ticks": ""
           }
          },
          "scene": {
           "xaxis": {
            "backgroundcolor": "#E5ECF6",
            "gridcolor": "white",
            "gridwidth": 2,
            "linecolor": "white",
            "showbackground": true,
            "ticks": "",
            "zerolinecolor": "white"
           },
           "yaxis": {
            "backgroundcolor": "#E5ECF6",
            "gridcolor": "white",
            "gridwidth": 2,
            "linecolor": "white",
            "showbackground": true,
            "ticks": "",
            "zerolinecolor": "white"
           },
           "zaxis": {
            "backgroundcolor": "#E5ECF6",
            "gridcolor": "white",
            "gridwidth": 2,
            "linecolor": "white",
            "showbackground": true,
            "ticks": "",
            "zerolinecolor": "white"
           }
          },
          "shapedefaults": {
           "line": {
            "color": "#2a3f5f"
           }
          },
          "ternary": {
           "aaxis": {
            "gridcolor": "white",
            "linecolor": "white",
            "ticks": ""
           },
           "baxis": {
            "gridcolor": "white",
            "linecolor": "white",
            "ticks": ""
           },
           "bgcolor": "#E5ECF6",
           "caxis": {
            "gridcolor": "white",
            "linecolor": "white",
            "ticks": ""
           }
          },
          "title": {
           "x": 0.05
          },
          "xaxis": {
           "automargin": true,
           "gridcolor": "white",
           "linecolor": "white",
           "ticks": "",
           "title": {
            "standoff": 15
           },
           "zerolinecolor": "white",
           "zerolinewidth": 2
          },
          "yaxis": {
           "automargin": true,
           "gridcolor": "white",
           "linecolor": "white",
           "ticks": "",
           "title": {
            "standoff": 15
           },
           "zerolinecolor": "white",
           "zerolinewidth": 2
          }
         }
        },
        "title": {
         "text": "Passing quality ( 16)",
         "x": 0.5,
         "xanchor": "center"
        },
        "width": 1200,
        "xaxis": {
         "anchor": "y",
         "domain": [
          0,
          1
         ],
         "gridcolor": "white",
         "showgrid": true,
         "title": {
          "text": "passes_attempted/90"
         },
         "zeroline": false
        },
        "yaxis": {
         "anchor": "x",
         "domain": [
          0,
          1
         ],
         "gridcolor": "white",
         "showgrid": true,
         "title": {
          "text": "progressive_pass_rate"
         },
         "zeroline": false
        }
       }
      }
     },
     "metadata": {},
     "output_type": "display_data"
    }
   ],
   "source": [
    "# Initialize list of targets\n",
    "targets = df_players['id']\n",
    "\n",
    "scatter_plot(df_players,\n",
    "             x_metric='passes_attempted/90', \n",
    "             y_metric='progressive_pass_rate',\n",
    "             z_metric='pass_completion_%',\n",
    "             title='Passing quality', \n",
    "             show_name_label=True\n",
    ")"
   ]
  },
  {
   "cell_type": "code",
   "execution_count": null,
   "id": "a312cf0a",
   "metadata": {},
   "outputs": [],
   "source": [
    "# Filter data \n",
    "mask = (\n",
    "        # (df_players['passes_attempted/90'] >= 45) & \\\n",
    "        # (df_players['progressive_pass_rate'] >= 7) & \\\n",
    "        # (df_players['pass_completion_%'] >= 85) & \\\n",
    "        # (df_players['age'] <= 26) & \\\n",
    "        (df_players['id'].isin(targets))\n",
    "        \n",
    "        \n",
    ")\n",
    "\n",
    "df_targets = df_players[mask]\n",
    "\n",
    "scatter_plot(df_targets,\n",
    "             x_metric='passes_attempted/90', \n",
    "             y_metric='progressive_pass_rate',\n",
    "             z_metric='pass_completion_%',\n",
    "             title='Passing quality', \n",
    "             show_name_label=True\n",
    ")\n",
    "\n",
    "# Keep only players that fulfill criteria\n",
    "targets = list(df_targets['id'])"
   ]
  },
  {
   "cell_type": "markdown",
   "id": "db5f786f",
   "metadata": {},
   "source": [
    "## Possession Analysis"
   ]
  },
  {
   "cell_type": "code",
   "execution_count": null,
   "id": "c382547d",
   "metadata": {},
   "outputs": [],
   "source": [
    "# Full universe \n",
    "scatter_plot(df_targets,\n",
    "             x_metric='possession_lost/90', \n",
    "             y_metric='possession_won/90',\n",
    "             z_metric='poss+_/90',\n",
    "             title='Possesion quality', \n",
    "             show_name_label=True\n",
    ")"
   ]
  },
  {
   "cell_type": "code",
   "execution_count": null,
   "id": "4647b74a",
   "metadata": {},
   "outputs": [],
   "source": [
    "# Filter data \n",
    "mask = (\n",
    "        (df_players['possession_lost/90'] <= 8) & \\\n",
    "        (df_players['possession_won/90'] >= 7.5) & \\\n",
    "        (df_players['poss+_/90'] >= 0) & \\\n",
    "        (df_players['age'] <= 26) & \\\n",
    "        (df_players['id'].isin(targets))\n",
    "        \n",
    "        \n",
    ")\n",
    "\n",
    "df_targets = df_players[mask]\n",
    "\n",
    "scatter_plot(df_targets,\n",
    "             x_metric='possession_lost/90', \n",
    "             y_metric='possession_won/90',\n",
    "             z_metric='poss+_/90',\n",
    "             title='Possesion quality', \n",
    "             show_name_label=False\n",
    ")\n",
    "\n",
    "# Keep only players that fulfill criteria\n",
    "targets = list(df_targets['id'])"
   ]
  },
  {
   "cell_type": "markdown",
   "id": "05fd5ca0",
   "metadata": {},
   "source": [
    "## Aggresion vs Control\n",
    "Identify aggresive and foul prones targets"
   ]
  },
  {
   "cell_type": "code",
   "execution_count": null,
   "id": "2d4b5cdd",
   "metadata": {},
   "outputs": [],
   "source": [
    "# Full universe \n",
    "scatter_plot(df_targets,\n",
    "             x_metric='tackles_completed/90', \n",
    "             y_metric='fouls_committed/90',\n",
    "             z_metric='tackle_completion_%',\n",
    "             title='Aggresion - Control', \n",
    "             show_name_label=True\n",
    ")"
   ]
  },
  {
   "cell_type": "code",
   "execution_count": null,
   "id": "04e9f933",
   "metadata": {},
   "outputs": [],
   "source": [
    "# Compute tackes/fouls ratio\n",
    "df_players['tackles_comp-fouls/90'] = df_players['tackles_completed/90'] / df_players['fouls_committed/90']\n",
    "# Filter data \n",
    "mask = (\n",
    "        # (df_players['tackles_comp-fouls/90'] <= 2) & \\\n",
    "        # (df_players['tackles_completed/90'] >= 1.5) & \\\n",
    "        # (df_players['tackle_completion_%'] >= 65) & \\\n",
    "        #(df_players['price_estimate_M'] <= 40) & \\\n",
    "        (df_players['id'].isin(targets))\n",
    "        \n",
    "        \n",
    ")\n",
    "\n",
    "df_targets = df_players[mask]\n",
    "\n",
    "scatter_plot(df_targets,\n",
    "             x_metric='tackles_completed/90', \n",
    "             y_metric='fouls_committed/90',\n",
    "             z_metric='tackle_completion_%',\n",
    "             title='Aggresion - Control', \n",
    "             show_name_label=False\n",
    ")\n",
    "\n",
    "# Keep only players that fulfill criteria\n",
    "targets = df_targets['id']"
   ]
  },
  {
   "cell_type": "markdown",
   "id": "a76d3e76",
   "metadata": {},
   "source": [
    "## Pressure quality"
   ]
  },
  {
   "cell_type": "code",
   "execution_count": null,
   "id": "7794f58b",
   "metadata": {},
   "outputs": [],
   "source": [
    "# Full universe \n",
    "scatter_plot(df_targets,\n",
    "             x_metric='pressures_completed/90', \n",
    "             y_metric='pressure_success_%',\n",
    "             z_metric='duels_win_%',\n",
    "             title='Pressure quality', \n",
    "             show_name_label=True\n",
    ")"
   ]
  },
  {
   "cell_type": "code",
   "execution_count": null,
   "id": "9856c684",
   "metadata": {},
   "outputs": [],
   "source": [
    "# Filter data \n",
    "mask = (\n",
    "        (df_players['pressures_completed/90'] >= 2.0) & \\\n",
    "        (df_players['pressure_success_%'] >= 20) & \\\n",
    "        (df_players['duels_win_%'] >= 50) & \\\n",
    "        (df_players['id'].isin(targets)) | \\\n",
    "        (df_players['name'].str.contains('Barreiro')) \n",
    "        \n",
    "        \n",
    ")\n",
    "\n",
    "df_targets = df_players[mask]\n",
    "\n",
    "scatter_plot(df_targets,\n",
    "             x_metric='pressures_completed/90', \n",
    "             y_metric='pressure_success_%',\n",
    "             z_metric='duels_win_%',\n",
    "             title='Pressure quality', \n",
    "             show_name_label=True\n",
    ")\n",
    "\n",
    "# Keep only players that fulfill criteria\n",
    "targets = df_targets['id']"
   ]
  },
  {
   "cell_type": "markdown",
   "id": "6dabb355",
   "metadata": {},
   "source": [
    "## Presence"
   ]
  },
  {
   "cell_type": "code",
   "execution_count": null,
   "id": "115f7fe2",
   "metadata": {},
   "outputs": [],
   "source": [
    "# Full universe \n",
    "scatter_plot(df_targets,\n",
    "             x_metric='interceptions/90', \n",
    "             y_metric='blocks/90',\n",
    "             z_metric='clearances/90',\n",
    "             title='Presence', \n",
    "             show_name_label=True\n",
    ") "
   ]
  },
  {
   "cell_type": "code",
   "execution_count": null,
   "id": "ab291f10",
   "metadata": {},
   "outputs": [],
   "source": [
    "df_players[df_players['name'] == 'Casemiro']"
   ]
  },
  {
   "cell_type": "code",
   "execution_count": null,
   "id": "4b0be327",
   "metadata": {},
   "outputs": [],
   "source": [
    "# Filter data \n",
    "mask = (\n",
    "        (df_players['interceptions/90'] >= 1.4) & \\\n",
    "        (df_players['blocks/90'] >= 0.25) & \\\n",
    "        (df_players['clearances/90'] >= 0.5) & \\\n",
    "        (df_players['id'].isin(targets))\n",
    "        \n",
    "        \n",
    ")\n",
    "\n",
    "df_targets = df_players[mask]\n",
    "\n",
    "scatter_plot(df_targets,\n",
    "             x_metric='interceptions/90', \n",
    "             y_metric='blocks/90',\n",
    "             z_metric='clearances/90',\n",
    "             title='Presence', \n",
    "             show_name_label=True\n",
    ")\n",
    "\n",
    "#df_targets = df_players[mask]"
   ]
  },
  {
   "cell_type": "markdown",
   "id": "93f777a2",
   "metadata": {},
   "source": [
    "## Distance"
   ]
  },
  {
   "cell_type": "code",
   "execution_count": null,
   "id": "ef5ba0ed",
   "metadata": {},
   "outputs": [],
   "source": [
    "# Full universe \n",
    "scatter_plot(df_targets,\n",
    "             x_metric='distance_covered/90', \n",
    "             y_metric='defensive_actions/90',\n",
    "             z_metric='creative_actions/90',\n",
    "             title='Distance', \n",
    "             show_name_label=True\n",
    ") "
   ]
  },
  {
   "cell_type": "code",
   "execution_count": null,
   "id": "c367b34a",
   "metadata": {},
   "outputs": [],
   "source": [
    "df_targets.groupby('division')['id'].count()"
   ]
  },
  {
   "cell_type": "code",
   "execution_count": null,
   "id": "baaaccaa",
   "metadata": {},
   "outputs": [],
   "source": [
    "df_targets.groupby('division').get_group('Sky Bet Championship').sort_values('age')"
   ]
  },
  {
   "cell_type": "code",
   "execution_count": null,
   "id": "436279ef",
   "metadata": {},
   "outputs": [],
   "source": []
  }
 ],
 "metadata": {
  "kernelspec": {
   "display_name": ".venv",
   "language": "python",
   "name": "python3"
  },
  "language_info": {
   "codemirror_mode": {
    "name": "ipython",
    "version": 3
   },
   "file_extension": ".py",
   "mimetype": "text/x-python",
   "name": "python",
   "nbconvert_exporter": "python",
   "pygments_lexer": "ipython3",
   "version": "3.12.7"
  }
 },
 "nbformat": 4,
 "nbformat_minor": 5
}
