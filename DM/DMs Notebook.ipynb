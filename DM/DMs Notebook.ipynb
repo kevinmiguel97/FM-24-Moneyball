{
 "cells": [
  {
   "cell_type": "markdown",
   "id": "b1df530d",
   "metadata": {},
   "source": [
    "# FM 24 Moneyball"
   ]
  },
  {
   "cell_type": "code",
   "execution_count": 138,
   "id": "a0d6d750",
   "metadata": {},
   "outputs": [],
   "source": [
    "import numpy as np\n",
    "import pandas as pd \n",
    "import matplotlib.pyplot as plt\n",
    "import plotly.express as px\n",
    "import re\n",
    "\n",
    "# Ignore warnings\n",
    "import warnings\n",
    "warnings.filterwarnings('ignore')\n",
    "\n",
    "# Show all columns in pandas\n",
    "pd.set_option('display.max_columns', 500) \n",
    "\n",
    "%matplotlib inline"
   ]
  },
  {
   "cell_type": "markdown",
   "id": "bd53e3cd",
   "metadata": {},
   "source": [
    "## Ingest and clean data"
   ]
  },
  {
   "cell_type": "code",
   "execution_count": 139,
   "id": "7355e71f",
   "metadata": {},
   "outputs": [],
   "source": [
    "### Read raw data\n",
    "\n",
    "# Select file path for raw data\n",
    "path = r\"C:\\Users\\kevmi\\Documents\\FM 24 Moneyball\\FM Data Lab\\Man Utd\\FM 24 exports\\Winter 2023\\Defensive Midfielders.html\"\n",
    "\n",
    "# Ingest in a dataframe\n",
    "df_players_raw = pd.read_html(path, encoding='utf-8')[0]\n",
    "\n",
    "# Format column names \n",
    "df_players_raw.columns = [x.lower().strip().replace(' ', '_').replace('-', '_') for x in df_players_raw.columns]\n",
    "\n",
    "# ---------------------------------------------------------------------------------------------------------------------\n",
    "\n",
    "### Read processed Data lab data\n",
    "\n",
    "# Select file path for processed data\n",
    "path = r\"C:\\Users\\kevmi\\Documents\\FM 24 Moneyball\\FM Data Lab\\Man Utd\\FM Data Lab outputs\\Winter 2023\\Defensive Midfielders.csv\"\n",
    "\n",
    "# Ingest in a dataframe \n",
    "df_players = pd.read_csv(path)   \n",
    "\n",
    "# Format column names \n",
    "df_players.columns = [x.lower().strip().replace(' ', '_').replace('-', '_') for x in df_players.columns]\n",
    "\n",
    "# Bring ID from raw data\n",
    "df_players = df_players.merge(df_players_raw[['name', 'age', 'height', 'weight', 'uid']], \n",
    "                 left_on=['name', 'age', 'height', 'weight'], \n",
    "                 right_on=['name', 'age', 'height', 'weight']).reset_index().rename(columns={'level_0': 'id'})\n",
    "\n",
    "df_players['id'] = df_players['uid']\n",
    "\n",
    "df_players.drop(columns='uid', inplace=True)"
   ]
  },
  {
   "cell_type": "markdown",
   "id": "a4833287",
   "metadata": {},
   "source": [
    "## Data cleaning"
   ]
  },
  {
   "cell_type": "code",
   "execution_count": 140,
   "id": "31affa79",
   "metadata": {},
   "outputs": [
    {
     "data": {
      "text/html": [
       "<div>\n",
       "<style scoped>\n",
       "    .dataframe tbody tr th:only-of-type {\n",
       "        vertical-align: middle;\n",
       "    }\n",
       "\n",
       "    .dataframe tbody tr th {\n",
       "        vertical-align: top;\n",
       "    }\n",
       "\n",
       "    .dataframe thead th {\n",
       "        text-align: right;\n",
       "    }\n",
       "</style>\n",
       "<table border=\"1\" class=\"dataframe\">\n",
       "  <thead>\n",
       "    <tr style=\"text-align: right;\">\n",
       "      <th></th>\n",
       "      <th>id</th>\n",
       "      <th>name</th>\n",
       "      <th>position</th>\n",
       "      <th>age</th>\n",
       "      <th>height</th>\n",
       "      <th>weight</th>\n",
       "      <th>inf</th>\n",
       "      <th>club</th>\n",
       "      <th>division</th>\n",
       "      <th>nationality</th>\n",
       "      <th>home_grown</th>\n",
       "      <th>personality</th>\n",
       "      <th>media_handling</th>\n",
       "      <th>wage</th>\n",
       "      <th>transfer_value</th>\n",
       "      <th>asking_price</th>\n",
       "      <th>preferred_foot</th>\n",
       "      <th>starts</th>\n",
       "      <th>minutes_played</th>\n",
       "      <th>average_rating</th>\n",
       "      <th>sub_appearances</th>\n",
       "      <th>minutes/game</th>\n",
       "      <th>index</th>\n",
       "      <th>passes_attempted/90</th>\n",
       "      <th>passes_completed/90</th>\n",
       "      <th>pass_completion_%</th>\n",
       "      <th>progressive_passes/90</th>\n",
       "      <th>progressive_pass_rate</th>\n",
       "      <th>key_passes/90</th>\n",
       "      <th>key_pass_%</th>\n",
       "      <th>open_play_key_passes/90</th>\n",
       "      <th>open_play_key_pass_%</th>\n",
       "      <th>chances_created/90</th>\n",
       "      <th>clear_cut_chances_created/90</th>\n",
       "      <th>pressures_attempted/90</th>\n",
       "      <th>pressures_completed/90</th>\n",
       "      <th>pressure_success_%</th>\n",
       "      <th>possession_won/90</th>\n",
       "      <th>possession_lost/90</th>\n",
       "      <th>poss+_/90</th>\n",
       "      <th>poss+__%</th>\n",
       "      <th>tackles_attempted/90</th>\n",
       "      <th>tackles_completed/90</th>\n",
       "      <th>tackle_completion_%</th>\n",
       "      <th>tackles_failed/90</th>\n",
       "      <th>key_tackles/90</th>\n",
       "      <th>tackle_quality</th>\n",
       "      <th>interceptions/90</th>\n",
       "      <th>blocks/90</th>\n",
       "      <th>shots_blocked/90</th>\n",
       "      <th>headers_attempted/90</th>\n",
       "      <th>headers_won/90</th>\n",
       "      <th>headers_won_%</th>\n",
       "      <th>headers_lost/90</th>\n",
       "      <th>headers_lost_%</th>\n",
       "      <th>key_headers/90</th>\n",
       "      <th>aerial_challenges_attempted/90</th>\n",
       "      <th>duels_win_%</th>\n",
       "      <th>fouls_won/90</th>\n",
       "      <th>fouls_committed/90</th>\n",
       "      <th>clearances/90</th>\n",
       "      <th>distance_covered/90</th>\n",
       "      <th>attacking_actions/90</th>\n",
       "      <th>creative_actions/90</th>\n",
       "      <th>defensive_actions/90</th>\n",
       "      <th>excitement_factor/90</th>\n",
       "      <th>general_performance</th>\n",
       "      <th>goalkeeping</th>\n",
       "      <th>defensive_defender</th>\n",
       "      <th>creative_defender</th>\n",
       "      <th>attacking_defender</th>\n",
       "      <th>creative_midfielder</th>\n",
       "      <th>attacking_midfielder</th>\n",
       "      <th>creative_winger</th>\n",
       "      <th>attacking_winger</th>\n",
       "      <th>creative_forward</th>\n",
       "      <th>attacking_forward</th>\n",
       "      <th>finisher</th>\n",
       "      <th>aerial_threat</th>\n",
       "      <th>reader</th>\n",
       "      <th>assister</th>\n",
       "    </tr>\n",
       "  </thead>\n",
       "  <tbody>\n",
       "    <tr>\n",
       "      <th>0</th>\n",
       "      <td>211232</td>\n",
       "      <td>Djéné Dakonam</td>\n",
       "      <td>D (RC), DM</td>\n",
       "      <td>31</td>\n",
       "      <td>178 cm</td>\n",
       "      <td>71 kg</td>\n",
       "      <td>-</td>\n",
       "      <td>Getafe</td>\n",
       "      <td>LaLiga EA Sports</td>\n",
       "      <td>TOG (BEN)</td>\n",
       "      <td>-</td>\n",
       "      <td>-</td>\n",
       "      <td>Scouting Required</td>\n",
       "      <td>$20,500 p/w</td>\n",
       "      <td>$150K - $10.5M</td>\n",
       "      <td>-</td>\n",
       "      <td>Right</td>\n",
       "      <td>17</td>\n",
       "      <td>1496</td>\n",
       "      <td>6.56</td>\n",
       "      <td>0</td>\n",
       "      <td>88.00</td>\n",
       "      <td>0</td>\n",
       "      <td>43.38</td>\n",
       "      <td>38.08</td>\n",
       "      <td>88</td>\n",
       "      <td>4.03</td>\n",
       "      <td>9.29</td>\n",
       "      <td>0.48</td>\n",
       "      <td>1.11</td>\n",
       "      <td>0.48</td>\n",
       "      <td>1.11</td>\n",
       "      <td>0.12</td>\n",
       "      <td>0.12</td>\n",
       "      <td>8.18</td>\n",
       "      <td>2.47</td>\n",
       "      <td>30.15</td>\n",
       "      <td>11.37</td>\n",
       "      <td>6.98</td>\n",
       "      <td>4.39</td>\n",
       "      <td>62.89</td>\n",
       "      <td>3.73</td>\n",
       "      <td>3.07</td>\n",
       "      <td>82</td>\n",
       "      <td>0.66</td>\n",
       "      <td>0.24</td>\n",
       "      <td>2.07</td>\n",
       "      <td>1.93</td>\n",
       "      <td>0.78</td>\n",
       "      <td>0.42</td>\n",
       "      <td>3.79</td>\n",
       "      <td>2.35</td>\n",
       "      <td>61.90</td>\n",
       "      <td>1.44</td>\n",
       "      <td>38.10</td>\n",
       "      <td>0.24</td>\n",
       "      <td>3.79</td>\n",
       "      <td>72.00</td>\n",
       "      <td>0.24</td>\n",
       "      <td>1.80</td>\n",
       "      <td>1.56</td>\n",
       "      <td>12.57</td>\n",
       "      <td>0.59</td>\n",
       "      <td>0.78</td>\n",
       "      <td>16.00</td>\n",
       "      <td>2.29</td>\n",
       "      <td>9</td>\n",
       "      <td>100</td>\n",
       "      <td>98</td>\n",
       "      <td>6</td>\n",
       "      <td>6</td>\n",
       "      <td>2</td>\n",
       "      <td>5</td>\n",
       "      <td>3</td>\n",
       "      <td>7</td>\n",
       "      <td>4</td>\n",
       "      <td>6</td>\n",
       "      <td>7</td>\n",
       "      <td>59</td>\n",
       "      <td>87</td>\n",
       "      <td>22</td>\n",
       "    </tr>\n",
       "    <tr>\n",
       "      <th>1</th>\n",
       "      <td>211515</td>\n",
       "      <td>Baptiste Santamaria</td>\n",
       "      <td>DM, M/AM (C)</td>\n",
       "      <td>28</td>\n",
       "      <td>183 cm</td>\n",
       "      <td>81 kg</td>\n",
       "      <td>-</td>\n",
       "      <td>Rennes</td>\n",
       "      <td>Ligue 1 Uber Eats</td>\n",
       "      <td>FRA</td>\n",
       "      <td>-</td>\n",
       "      <td>Resolute</td>\n",
       "      <td>Level-headed</td>\n",
       "      <td>$16,000 p/w</td>\n",
       "      <td>$10M - $12.5M</td>\n",
       "      <td>-</td>\n",
       "      <td>Right</td>\n",
       "      <td>20</td>\n",
       "      <td>1741</td>\n",
       "      <td>6.87</td>\n",
       "      <td>1</td>\n",
       "      <td>82.90</td>\n",
       "      <td>1</td>\n",
       "      <td>73.56</td>\n",
       "      <td>66.07</td>\n",
       "      <td>90</td>\n",
       "      <td>8.27</td>\n",
       "      <td>11.24</td>\n",
       "      <td>1.03</td>\n",
       "      <td>1.41</td>\n",
       "      <td>0.98</td>\n",
       "      <td>1.34</td>\n",
       "      <td>0.07</td>\n",
       "      <td>0.05</td>\n",
       "      <td>12.25</td>\n",
       "      <td>3.31</td>\n",
       "      <td>27.00</td>\n",
       "      <td>8.22</td>\n",
       "      <td>9.15</td>\n",
       "      <td>-0.93</td>\n",
       "      <td>-10.16</td>\n",
       "      <td>4.03</td>\n",
       "      <td>2.95</td>\n",
       "      <td>73</td>\n",
       "      <td>1.09</td>\n",
       "      <td>0.00</td>\n",
       "      <td>2.36</td>\n",
       "      <td>1.71</td>\n",
       "      <td>0.47</td>\n",
       "      <td>0.26</td>\n",
       "      <td>3.67</td>\n",
       "      <td>1.09</td>\n",
       "      <td>29.58</td>\n",
       "      <td>2.58</td>\n",
       "      <td>70.42</td>\n",
       "      <td>0.10</td>\n",
       "      <td>3.67</td>\n",
       "      <td>52.35</td>\n",
       "      <td>0.47</td>\n",
       "      <td>1.71</td>\n",
       "      <td>0.72</td>\n",
       "      <td>13.79</td>\n",
       "      <td>1.12</td>\n",
       "      <td>1.19</td>\n",
       "      <td>11.02</td>\n",
       "      <td>3.36</td>\n",
       "      <td>47</td>\n",
       "      <td>100</td>\n",
       "      <td>38</td>\n",
       "      <td>63</td>\n",
       "      <td>47</td>\n",
       "      <td>28</td>\n",
       "      <td>18</td>\n",
       "      <td>40</td>\n",
       "      <td>29</td>\n",
       "      <td>32</td>\n",
       "      <td>19</td>\n",
       "      <td>6</td>\n",
       "      <td>31</td>\n",
       "      <td>26</td>\n",
       "      <td>20</td>\n",
       "    </tr>\n",
       "    <tr>\n",
       "      <th>2</th>\n",
       "      <td>219033</td>\n",
       "      <td>Alasana Manneh</td>\n",
       "      <td>DM, M (C)</td>\n",
       "      <td>25</td>\n",
       "      <td>176 cm</td>\n",
       "      <td>72 kg</td>\n",
       "      <td>-</td>\n",
       "      <td>OB</td>\n",
       "      <td>3F Superliga</td>\n",
       "      <td>GAM</td>\n",
       "      <td>-</td>\n",
       "      <td>-</td>\n",
       "      <td>Scouting Required</td>\n",
       "      <td>$5,500 p/w</td>\n",
       "      <td>$800K - $1.8M</td>\n",
       "      <td>-</td>\n",
       "      <td>Left</td>\n",
       "      <td>17</td>\n",
       "      <td>1507</td>\n",
       "      <td>6.98</td>\n",
       "      <td>0</td>\n",
       "      <td>88.65</td>\n",
       "      <td>2</td>\n",
       "      <td>81.16</td>\n",
       "      <td>73.64</td>\n",
       "      <td>91</td>\n",
       "      <td>6.81</td>\n",
       "      <td>8.39</td>\n",
       "      <td>1.07</td>\n",
       "      <td>1.32</td>\n",
       "      <td>0.90</td>\n",
       "      <td>1.10</td>\n",
       "      <td>0.42</td>\n",
       "      <td>0.42</td>\n",
       "      <td>9.91</td>\n",
       "      <td>2.33</td>\n",
       "      <td>23.49</td>\n",
       "      <td>6.99</td>\n",
       "      <td>10.51</td>\n",
       "      <td>-3.52</td>\n",
       "      <td>-33.49</td>\n",
       "      <td>2.39</td>\n",
       "      <td>1.43</td>\n",
       "      <td>60</td>\n",
       "      <td>0.96</td>\n",
       "      <td>0.06</td>\n",
       "      <td>3.08</td>\n",
       "      <td>1.37</td>\n",
       "      <td>0.42</td>\n",
       "      <td>0.30</td>\n",
       "      <td>1.85</td>\n",
       "      <td>0.42</td>\n",
       "      <td>22.58</td>\n",
       "      <td>1.43</td>\n",
       "      <td>77.42</td>\n",
       "      <td>0.00</td>\n",
       "      <td>1.85</td>\n",
       "      <td>43.66</td>\n",
       "      <td>1.02</td>\n",
       "      <td>0.78</td>\n",
       "      <td>0.90</td>\n",
       "      <td>12.94</td>\n",
       "      <td>1.07</td>\n",
       "      <td>1.67</td>\n",
       "      <td>7.62</td>\n",
       "      <td>2.75</td>\n",
       "      <td>87</td>\n",
       "      <td>100</td>\n",
       "      <td>7</td>\n",
       "      <td>67</td>\n",
       "      <td>85</td>\n",
       "      <td>70</td>\n",
       "      <td>58</td>\n",
       "      <td>77</td>\n",
       "      <td>47</td>\n",
       "      <td>68</td>\n",
       "      <td>50</td>\n",
       "      <td>55</td>\n",
       "      <td>2</td>\n",
       "      <td>2</td>\n",
       "      <td>76</td>\n",
       "    </tr>\n",
       "    <tr>\n",
       "      <th>3</th>\n",
       "      <td>12021720</td>\n",
       "      <td>Jean Michaël Séri</td>\n",
       "      <td>DM, M (C)</td>\n",
       "      <td>32</td>\n",
       "      <td>168 cm</td>\n",
       "      <td>69 kg</td>\n",
       "      <td>-</td>\n",
       "      <td>Hull</td>\n",
       "      <td>Sky Bet Championship</td>\n",
       "      <td>CIV</td>\n",
       "      <td>-</td>\n",
       "      <td>-</td>\n",
       "      <td>Scouting Required</td>\n",
       "      <td>$27,500 p/w</td>\n",
       "      <td>$325K - $3.2M</td>\n",
       "      <td>-</td>\n",
       "      <td>Right</td>\n",
       "      <td>15</td>\n",
       "      <td>1379</td>\n",
       "      <td>6.79</td>\n",
       "      <td>5</td>\n",
       "      <td>68.95</td>\n",
       "      <td>3</td>\n",
       "      <td>56.78</td>\n",
       "      <td>50.51</td>\n",
       "      <td>89</td>\n",
       "      <td>5.81</td>\n",
       "      <td>10.23</td>\n",
       "      <td>2.22</td>\n",
       "      <td>3.91</td>\n",
       "      <td>1.04</td>\n",
       "      <td>1.84</td>\n",
       "      <td>0.46</td>\n",
       "      <td>0.46</td>\n",
       "      <td>7.83</td>\n",
       "      <td>2.68</td>\n",
       "      <td>34.17</td>\n",
       "      <td>7.24</td>\n",
       "      <td>9.01</td>\n",
       "      <td>-1.77</td>\n",
       "      <td>-19.64</td>\n",
       "      <td>2.48</td>\n",
       "      <td>1.63</td>\n",
       "      <td>66</td>\n",
       "      <td>0.85</td>\n",
       "      <td>0.13</td>\n",
       "      <td>2.53</td>\n",
       "      <td>1.37</td>\n",
       "      <td>0.26</td>\n",
       "      <td>0.13</td>\n",
       "      <td>1.89</td>\n",
       "      <td>0.26</td>\n",
       "      <td>13.79</td>\n",
       "      <td>1.63</td>\n",
       "      <td>86.21</td>\n",
       "      <td>0.00</td>\n",
       "      <td>1.89</td>\n",
       "      <td>43.28</td>\n",
       "      <td>0.33</td>\n",
       "      <td>0.98</td>\n",
       "      <td>0.65</td>\n",
       "      <td>13.37</td>\n",
       "      <td>1.68</td>\n",
       "      <td>1.63</td>\n",
       "      <td>8.11</td>\n",
       "      <td>3.65</td>\n",
       "      <td>38</td>\n",
       "      <td>100</td>\n",
       "      <td>3</td>\n",
       "      <td>66</td>\n",
       "      <td>59</td>\n",
       "      <td>79</td>\n",
       "      <td>79</td>\n",
       "      <td>69</td>\n",
       "      <td>73</td>\n",
       "      <td>69</td>\n",
       "      <td>83</td>\n",
       "      <td>50</td>\n",
       "      <td>1</td>\n",
       "      <td>4</td>\n",
       "      <td>31</td>\n",
       "    </tr>\n",
       "    <tr>\n",
       "      <th>4</th>\n",
       "      <td>12080051</td>\n",
       "      <td>Pape Matar Sarr</td>\n",
       "      <td>DM, M (C)</td>\n",
       "      <td>21</td>\n",
       "      <td>184 cm</td>\n",
       "      <td>70 kg</td>\n",
       "      <td>-</td>\n",
       "      <td>Tottenham</td>\n",
       "      <td>Premier League</td>\n",
       "      <td>SEN</td>\n",
       "      <td>-</td>\n",
       "      <td>Spirited</td>\n",
       "      <td>Unflappable, Media-friendly</td>\n",
       "      <td>$100,000 p/w</td>\n",
       "      <td>$91M - $110M</td>\n",
       "      <td>-</td>\n",
       "      <td>Right</td>\n",
       "      <td>18</td>\n",
       "      <td>1524</td>\n",
       "      <td>6.94</td>\n",
       "      <td>0</td>\n",
       "      <td>84.67</td>\n",
       "      <td>4</td>\n",
       "      <td>65.79</td>\n",
       "      <td>57.64</td>\n",
       "      <td>88</td>\n",
       "      <td>8.33</td>\n",
       "      <td>12.66</td>\n",
       "      <td>1.48</td>\n",
       "      <td>2.24</td>\n",
       "      <td>1.48</td>\n",
       "      <td>2.24</td>\n",
       "      <td>1.56</td>\n",
       "      <td>0.59</td>\n",
       "      <td>11.16</td>\n",
       "      <td>3.43</td>\n",
       "      <td>30.69</td>\n",
       "      <td>8.68</td>\n",
       "      <td>9.33</td>\n",
       "      <td>-0.65</td>\n",
       "      <td>-6.97</td>\n",
       "      <td>3.13</td>\n",
       "      <td>2.72</td>\n",
       "      <td>87</td>\n",
       "      <td>0.41</td>\n",
       "      <td>0.06</td>\n",
       "      <td>2.94</td>\n",
       "      <td>2.07</td>\n",
       "      <td>0.30</td>\n",
       "      <td>0.12</td>\n",
       "      <td>4.55</td>\n",
       "      <td>1.65</td>\n",
       "      <td>36.36</td>\n",
       "      <td>2.89</td>\n",
       "      <td>63.64</td>\n",
       "      <td>0.30</td>\n",
       "      <td>4.55</td>\n",
       "      <td>56.92</td>\n",
       "      <td>0.41</td>\n",
       "      <td>1.06</td>\n",
       "      <td>0.65</td>\n",
       "      <td>14.00</td>\n",
       "      <td>2.20</td>\n",
       "      <td>2.42</td>\n",
       "      <td>13.25</td>\n",
       "      <td>4.67</td>\n",
       "      <td>65</td>\n",
       "      <td>100</td>\n",
       "      <td>51</td>\n",
       "      <td>90</td>\n",
       "      <td>72</td>\n",
       "      <td>81</td>\n",
       "      <td>84</td>\n",
       "      <td>62</td>\n",
       "      <td>79</td>\n",
       "      <td>59</td>\n",
       "      <td>88</td>\n",
       "      <td>57</td>\n",
       "      <td>61</td>\n",
       "      <td>62</td>\n",
       "      <td>57</td>\n",
       "    </tr>\n",
       "  </tbody>\n",
       "</table>\n",
       "</div>"
      ],
      "text/plain": [
       "         id                 name      position  age  height weight inf  \\\n",
       "0    211232        Djéné Dakonam    D (RC), DM   31  178 cm  71 kg   -   \n",
       "1    211515  Baptiste Santamaria  DM, M/AM (C)   28  183 cm  81 kg   -   \n",
       "2    219033       Alasana Manneh     DM, M (C)   25  176 cm  72 kg   -   \n",
       "3  12021720    Jean Michaël Séri     DM, M (C)   32  168 cm  69 kg   -   \n",
       "4  12080051      Pape Matar Sarr     DM, M (C)   21  184 cm  70 kg   -   \n",
       "\n",
       "        club              division nationality home_grown personality  \\\n",
       "0     Getafe      LaLiga EA Sports   TOG (BEN)          -           -   \n",
       "1     Rennes     Ligue 1 Uber Eats         FRA          -    Resolute   \n",
       "2         OB          3F Superliga         GAM          -           -   \n",
       "3       Hull  Sky Bet Championship         CIV          -           -   \n",
       "4  Tottenham        Premier League         SEN          -    Spirited   \n",
       "\n",
       "                media_handling          wage  transfer_value asking_price  \\\n",
       "0            Scouting Required   $20,500 p/w  $150K - $10.5M            -   \n",
       "1                 Level-headed   $16,000 p/w   $10M - $12.5M            -   \n",
       "2            Scouting Required    $5,500 p/w   $800K - $1.8M            -   \n",
       "3            Scouting Required   $27,500 p/w   $325K - $3.2M            -   \n",
       "4  Unflappable, Media-friendly  $100,000 p/w    $91M - $110M            -   \n",
       "\n",
       "  preferred_foot  starts  minutes_played  average_rating  sub_appearances  \\\n",
       "0          Right      17            1496            6.56                0   \n",
       "1          Right      20            1741            6.87                1   \n",
       "2           Left      17            1507            6.98                0   \n",
       "3          Right      15            1379            6.79                5   \n",
       "4          Right      18            1524            6.94                0   \n",
       "\n",
       "   minutes/game  index  passes_attempted/90  passes_completed/90  \\\n",
       "0         88.00      0                43.38                38.08   \n",
       "1         82.90      1                73.56                66.07   \n",
       "2         88.65      2                81.16                73.64   \n",
       "3         68.95      3                56.78                50.51   \n",
       "4         84.67      4                65.79                57.64   \n",
       "\n",
       "   pass_completion_%  progressive_passes/90  progressive_pass_rate  \\\n",
       "0                 88                   4.03                   9.29   \n",
       "1                 90                   8.27                  11.24   \n",
       "2                 91                   6.81                   8.39   \n",
       "3                 89                   5.81                  10.23   \n",
       "4                 88                   8.33                  12.66   \n",
       "\n",
       "   key_passes/90  key_pass_%  open_play_key_passes/90  open_play_key_pass_%  \\\n",
       "0           0.48        1.11                     0.48                  1.11   \n",
       "1           1.03        1.41                     0.98                  1.34   \n",
       "2           1.07        1.32                     0.90                  1.10   \n",
       "3           2.22        3.91                     1.04                  1.84   \n",
       "4           1.48        2.24                     1.48                  2.24   \n",
       "\n",
       "   chances_created/90  clear_cut_chances_created/90  pressures_attempted/90  \\\n",
       "0                0.12                          0.12                    8.18   \n",
       "1                0.07                          0.05                   12.25   \n",
       "2                0.42                          0.42                    9.91   \n",
       "3                0.46                          0.46                    7.83   \n",
       "4                1.56                          0.59                   11.16   \n",
       "\n",
       "   pressures_completed/90  pressure_success_%  possession_won/90  \\\n",
       "0                    2.47               30.15              11.37   \n",
       "1                    3.31               27.00               8.22   \n",
       "2                    2.33               23.49               6.99   \n",
       "3                    2.68               34.17               7.24   \n",
       "4                    3.43               30.69               8.68   \n",
       "\n",
       "   possession_lost/90  poss+_/90  poss+__%  tackles_attempted/90  \\\n",
       "0                6.98       4.39     62.89                  3.73   \n",
       "1                9.15      -0.93    -10.16                  4.03   \n",
       "2               10.51      -3.52    -33.49                  2.39   \n",
       "3                9.01      -1.77    -19.64                  2.48   \n",
       "4                9.33      -0.65     -6.97                  3.13   \n",
       "\n",
       "   tackles_completed/90  tackle_completion_%  tackles_failed/90  \\\n",
       "0                  3.07                   82               0.66   \n",
       "1                  2.95                   73               1.09   \n",
       "2                  1.43                   60               0.96   \n",
       "3                  1.63                   66               0.85   \n",
       "4                  2.72                   87               0.41   \n",
       "\n",
       "   key_tackles/90  tackle_quality  interceptions/90  blocks/90  \\\n",
       "0            0.24            2.07              1.93       0.78   \n",
       "1            0.00            2.36              1.71       0.47   \n",
       "2            0.06            3.08              1.37       0.42   \n",
       "3            0.13            2.53              1.37       0.26   \n",
       "4            0.06            2.94              2.07       0.30   \n",
       "\n",
       "   shots_blocked/90  headers_attempted/90  headers_won/90  headers_won_%  \\\n",
       "0              0.42                  3.79            2.35          61.90   \n",
       "1              0.26                  3.67            1.09          29.58   \n",
       "2              0.30                  1.85            0.42          22.58   \n",
       "3              0.13                  1.89            0.26          13.79   \n",
       "4              0.12                  4.55            1.65          36.36   \n",
       "\n",
       "   headers_lost/90  headers_lost_%  key_headers/90  \\\n",
       "0             1.44           38.10            0.24   \n",
       "1             2.58           70.42            0.10   \n",
       "2             1.43           77.42            0.00   \n",
       "3             1.63           86.21            0.00   \n",
       "4             2.89           63.64            0.30   \n",
       "\n",
       "   aerial_challenges_attempted/90  duels_win_%  fouls_won/90  \\\n",
       "0                            3.79        72.00          0.24   \n",
       "1                            3.67        52.35          0.47   \n",
       "2                            1.85        43.66          1.02   \n",
       "3                            1.89        43.28          0.33   \n",
       "4                            4.55        56.92          0.41   \n",
       "\n",
       "   fouls_committed/90  clearances/90  distance_covered/90  \\\n",
       "0                1.80           1.56                12.57   \n",
       "1                1.71           0.72                13.79   \n",
       "2                0.78           0.90                12.94   \n",
       "3                0.98           0.65                13.37   \n",
       "4                1.06           0.65                14.00   \n",
       "\n",
       "   attacking_actions/90  creative_actions/90  defensive_actions/90  \\\n",
       "0                  0.59                 0.78                 16.00   \n",
       "1                  1.12                 1.19                 11.02   \n",
       "2                  1.07                 1.67                  7.62   \n",
       "3                  1.68                 1.63                  8.11   \n",
       "4                  2.20                 2.42                 13.25   \n",
       "\n",
       "   excitement_factor/90  general_performance  goalkeeping  defensive_defender  \\\n",
       "0                  2.29                    9          100                  98   \n",
       "1                  3.36                   47          100                  38   \n",
       "2                  2.75                   87          100                   7   \n",
       "3                  3.65                   38          100                   3   \n",
       "4                  4.67                   65          100                  51   \n",
       "\n",
       "   creative_defender  attacking_defender  creative_midfielder  \\\n",
       "0                  6                   6                    2   \n",
       "1                 63                  47                   28   \n",
       "2                 67                  85                   70   \n",
       "3                 66                  59                   79   \n",
       "4                 90                  72                   81   \n",
       "\n",
       "   attacking_midfielder  creative_winger  attacking_winger  creative_forward  \\\n",
       "0                     5                3                 7                 4   \n",
       "1                    18               40                29                32   \n",
       "2                    58               77                47                68   \n",
       "3                    79               69                73                69   \n",
       "4                    84               62                79                59   \n",
       "\n",
       "   attacking_forward  finisher  aerial_threat  reader  assister  \n",
       "0                  6         7             59      87        22  \n",
       "1                 19         6             31      26        20  \n",
       "2                 50        55              2       2        76  \n",
       "3                 83        50              1       4        31  \n",
       "4                 88        57             61      62        57  "
      ]
     },
     "execution_count": 140,
     "metadata": {},
     "output_type": "execute_result"
    }
   ],
   "source": [
    "df_players.head()"
   ]
  },
  {
   "cell_type": "code",
   "execution_count": 141,
   "id": "5b106302",
   "metadata": {},
   "outputs": [],
   "source": [
    "# Keep only natural DMs\n",
    "path = 'data/Natural DMs.html'\n",
    "\n",
    "# Ingest in a dataframe\n",
    "df_dms = pd.read_html(path, encoding='utf-8')[0]\n",
    "\n",
    "# Format column names \n",
    "df_dms.columns = [x.lower().strip().replace(' ', '_').replace('-', '_') for x in df_dms.columns]\n",
    "\n",
    "df_dms['natural_dm'] = 'Yes'\n",
    "\n",
    "df_dms = df_dms[['uid', 'natural_dm']]\n",
    "\n",
    "df_players = df_players.merge(df_dms, \n",
    "                              left_on='id',\n",
    "                              right_on='uid',\n",
    "                              how='left')\n",
    "\n",
    "df_players = df_players[df_players['natural_dm'] == 'Yes']"
   ]
  },
  {
   "cell_type": "code",
   "execution_count": 142,
   "id": "103e9075",
   "metadata": {},
   "outputs": [],
   "source": [
    "# Get transfer valuation estimation\n",
    "def parse_transfer_value(val):\n",
    "    if pd.isnull(val):\n",
    "        return None\n",
    "\n",
    "    # Remove dollar signs and spaces\n",
    "    val = val.replace('$', '').replace(' ', '')\n",
    "\n",
    "    # If it's a range like \"850K-8.4M\"\n",
    "    if '-' in val:\n",
    "        low_str, high_str = val.split('-')\n",
    "        low = parse_single_value(low_str)\n",
    "        high = parse_single_value(high_str)\n",
    "        if low is not None and high is not None:\n",
    "            return (low + high) * (6/10)\n",
    "    else:\n",
    "        return parse_single_value(val)\n",
    "\n",
    "    return None  # fallback\n",
    "\n",
    "def parse_single_value(s):\n",
    "    try:\n",
    "        if s.endswith('M'):\n",
    "            return float(s[:-1]) * 1_000_000\n",
    "        elif s.endswith('K'):\n",
    "            return float(s[:-1]) * 1_000\n",
    "        else:\n",
    "            return float(s)  # just in case it's a plain number\n",
    "    except:\n",
    "        return None\n",
    "\n",
    "# Apply to your DataFrame\n",
    "df_players['price_estimate_M'] = df_players['transfer_value'].apply(parse_transfer_value) / 1000000"
   ]
  },
  {
   "cell_type": "markdown",
   "id": "e917f304",
   "metadata": {},
   "source": [
    "## Plot function"
   ]
  },
  {
   "cell_type": "code",
   "execution_count": 143,
   "id": "f94ec5bb",
   "metadata": {},
   "outputs": [],
   "source": [
    "def scatter_plot(df, x_metric, y_metric, z_metric, \n",
    "                 title, show_color_bar=False, show_name_label=True): \n",
    "    # Set text to 'name' if show_name_label is True, else empty string\n",
    "    text_col = 'name' if show_name_label else None\n",
    "\n",
    "    # Create plotly figure\n",
    "    fig = px.scatter(\n",
    "        df,\n",
    "        x=x_metric,\n",
    "        y=y_metric,\n",
    "        color=z_metric,\n",
    "        text=text_col,\n",
    "        color_continuous_scale='RdYlGn',\n",
    "        labels={z_metric: f'Color Scale ({z_metric})'},\n",
    "        title=title,\n",
    "        width=1200, \n",
    "        height=700    \n",
    "    )\n",
    "\n",
    "    # Format traces\n",
    "    fig.update_traces(\n",
    "        marker=dict(size=10), \n",
    "        textposition='top center',\n",
    "        textfont=dict(size=10),\n",
    "        customdata=df[['name', 'club']],  # Always pass 'name' for hovertemplate\n",
    "        hovertemplate=(\n",
    "            \"<b>%{customdata[0]}</b><br>\" +\n",
    "            \"<b>%{customdata[1]}</b><br><br>\" +\n",
    "            f\"{x_metric}: \" + \"%{x}<br>\" +\n",
    "            f\"{y_metric}: \" + \"%{y}<br>\" +\n",
    "            f\"{z_metric}: \" + \"%{marker.color}<extra></extra>\"\n",
    "        )\n",
    "    )\n",
    "\n",
    "    fig.update_layout(\n",
    "        title={\n",
    "            'text': f'{title} ({len(df): ,.0f})',\n",
    "            'x': 0.5,\n",
    "            'xanchor': 'center'\n",
    "        },\n",
    "        coloraxis_colorbar=dict(title=z_metric),\n",
    "        coloraxis_showscale=show_color_bar,  # Show or hide the color bar\n",
    "        plot_bgcolor='darkgray',\n",
    "        paper_bgcolor='darkgray',\n",
    "        xaxis=dict(showgrid=True, gridcolor='white', zeroline=False),\n",
    "        yaxis=dict(showgrid=True, gridcolor='white', zeroline=False)\n",
    "    )\n",
    "\n",
    "    fig.show()\n"
   ]
  },
  {
   "cell_type": "markdown",
   "id": "22683d93",
   "metadata": {},
   "source": [
    "## Passing analysis"
   ]
  },
  {
   "cell_type": "markdown",
   "id": "5c2da36b",
   "metadata": {},
   "source": [
    "### Full universe"
   ]
  },
  {
   "cell_type": "code",
   "execution_count": 144,
   "id": "c953fb7b",
   "metadata": {},
   "outputs": [
    {
     "data": {
      "application/vnd.plotly.v1+json": {
       "config": {
        "plotlyServerURL": "https://plot.ly"
       },
       "data": [
        {
         "customdata": [
          [
           "Baptiste Santamaria",
           "Rennes"
          ],
          [
           "Alasana Manneh",
           "OB"
          ],
          [
           "Jean Michaël Séri",
           "Hull"
          ],
          [
           "Pape Matar Sarr",
           "Tottenham"
          ],
          [
           "Houssem Mrezigue",
           "Vizela"
          ],
          [
           "Marvelous Nakamba",
           "Luton"
          ],
          [
           "Jean-Eudes Aholou",
           "Strasbourg"
          ],
          [
           "Rominigue Kouamé",
           "Cádiz"
          ],
          [
           "Yves Bissouma",
           "Tottenham"
          ],
          [
           "Pathé Ciss",
           "Rayo Vallecano"
          ],
          [
           "Cheick Doucouré",
           "Crystal Palace"
          ],
          [
           "Hicham Boudaoui",
           "Nice"
          ],
          [
           "Facundo Quignón",
           "Belgrano"
          ],
          [
           "Gonzalo Escalante",
           "Cádiz"
          ],
          [
           "Leandro Paredes",
           "Roma"
          ],
          [
           "Rodrigo Battaglia",
           "ATM"
          ],
          [
           "Matías Kranevitter",
           "River"
          ],
          [
           "Guido Rodríguez",
           "Real Betis"
          ],
          [
           "Walter Montoya",
           "Central Córdoba (SdE)"
          ],
          [
           "Julián Fernández",
           "Newell's"
          ],
          [
           "Nicolás Tripichio",
           "Defensa y Justicia"
          ],
          [
           "Leonel Miranda",
           "Racing Club"
          ],
          [
           "Nicolás Domínguez",
           "Nottm Forest"
          ],
          [
           "Iván Rossi",
           "Argentinos Jrs."
          ],
          [
           "Eric Remedi",
           "San Lorenzo"
          ],
          [
           "Agustín Bolívar",
           "Gimnasia (LP)"
          ],
          [
           "Exequiel Palacios",
           "Bayer 04"
          ],
          [
           "Santiago Ascacíbar",
           "Estudiantes (LP)"
          ],
          [
           "Franco Moyano",
           "Argentinos Jrs."
          ],
          [
           "Cristian Vega",
           "Colón"
          ],
          [
           "Leonel Picco",
           "Platense"
          ],
          [
           "Mauro Pittón",
           "Unión (SF)"
          ],
          [
           "Alexis Mac Allister",
           "Liverpool"
          ],
          [
           "Juan Ignacio Méndez",
           "Vélez"
          ],
          [
           "Carlos Villalba",
           "Platense"
          ],
          [
           "Fernando Juárez",
           "Platense"
          ],
          [
           "Agustín Cardozo",
           "Tigre"
          ],
          [
           "Fausto Vera",
           "COR"
          ],
          [
           "Juan Andrada",
           "Godoy Cruz"
          ],
          [
           "Santiago Sosa",
           "Racing Club"
          ],
          [
           "Manuel Insaurralde",
           "Rosario Central"
          ],
          [
           "Nicolás Linares",
           "Banfield"
          ],
          [
           "Nicolás Garayalde",
           "Vélez"
          ],
          [
           "Aníbal Moreno",
           "SEP"
          ],
          [
           "Franco Ibarra",
           "Rosario Central"
          ],
          [
           "Julián López",
           "Defensa y Justicia"
          ],
          [
           "Enzo Barrenechea",
           "Frosinone"
          ],
          [
           "Camilo Albornoz",
           "Atl. Tucumán"
          ],
          [
           "Francisco Perruzzi",
           "San Lorenzo"
          ],
          [
           "Rodrigo Villagra",
           "River"
          ],
          [
           "Mateo Cáceres",
           "Tigre"
          ],
          [
           "Bautista Kociubinski",
           "Estudiantes (LP)"
          ],
          [
           "Franco Romero",
           "Defensa y Justicia"
          ],
          [
           "Juan Carlos Portillo",
           "Talleres"
          ],
          [
           "Enzo Fernández",
           "Chelsea"
          ],
          [
           "Agustín Toledo",
           "Huracán"
          ],
          [
           "Rodrigo Herrera",
           "Barracas Central"
          ],
          [
           "Mateo Seoane",
           "Talleres"
          ],
          [
           "Mateo Tanlongo",
           "Rio Ave"
          ],
          [
           "Santiago Longo",
           "Belgrano"
          ],
          [
           "Alan Varela",
           "FC Porto"
          ],
          [
           "Juan Ignacio Nardoni",
           "Racing Club"
          ],
          [
           "Bruno Leyes",
           "Godoy Cruz"
          ],
          [
           "Patricio Tanda",
           "Unión (SF)"
          ],
          [
           "Ezequiel Fernández",
           "Boca"
          ],
          [
           "Ignacio Miramón",
           "Lille"
          ],
          [
           "Florian Grillitsch",
           "TSG Hoffenheim"
          ],
          [
           "Xaver Schlager",
           "RB Leipzig"
          ],
          [
           "Dejan Ljubičić",
           "FC Köln"
          ],
          [
           "Amadou Haïdara",
           "RB Leipzig"
          ],
          [
           "Youri Tielemans",
           "Aston Villa"
          ],
          [
           "Dario Van Den Buijs",
           "RKC Waalwijk"
          ],
          [
           "Arno Verschueren",
           "Sparta Rotterdam"
          ],
          [
           "Casper De Norre",
           "Millwall"
          ],
          [
           "Siebe Horemans",
           "Excelsior"
          ],
          [
           "Albert Sambi Lokonga",
           "Luton"
          ],
          [
           "Wellington",
           "GOI"
          ],
          [
           "Casemiro",
           "Man Utd"
          ],
          [
           "Edson",
           "GOI"
          ],
          [
           "Filipe Augusto",
           "CUI"
          ],
          [
           "Zé Rafael",
           "SEP"
          ],
          [
           "Walace",
           "Udinese"
          ],
          [
           "Danilo Barbosa",
           "BOT"
          ],
          [
           "Zé Welison",
           "FOR"
          ],
          [
           "Thiago Maia",
           "FLA"
          ],
          [
           "Otávio",
           "ATM"
          ],
          [
           "Thaciano",
           "BAH"
          ],
          [
           "Andrey",
           "CTB"
          ],
          [
           "Matheus Fernandes",
           "RB Bragantino"
          ],
          [
           "Jaílson",
           "Celta"
          ],
          [
           "Arthur",
           "Fiorentina"
          ],
          [
           "Allan",
           "FLA"
          ],
          [
           "Diego Costa",
           "SPO"
          ],
          [
           "Matheus Henrique",
           "FLA"
          ],
          [
           "Pedro Augusto",
           "FOR"
          ],
          [
           "Hugo Moura",
           "Athlético Paranaense"
          ],
          [
           "Rezende",
           "BAH"
          ],
          [
           "Luan",
           "SPO"
          ],
          [
           "Bruno Guimarães",
           "Newcastle"
          ],
          [
           "Douglas Luiz",
           "Aston Villa"
          ],
          [
           "Zé Gabriel",
           "Vasco da Gama"
          ],
          [
           "Ederson",
           "Napoli"
          ],
          [
           "Gabriel Menino",
           "SEP"
          ],
          [
           "De Lucca",
           "Vasco da Gama"
          ],
          [
           "Jhonny Lucas",
           "GOI"
          ],
          [
           "Erick",
           "Athlético Paranaense"
          ],
          [
           "Edu",
           "GOI"
          ],
          [
           "Caio Alexandre",
           "BAH"
          ],
          [
           "Jadsom",
           "RB Bragantino"
          ],
          [
           "André",
           "FLU"
          ],
          [
           "Pablo Maia",
           "SPO"
          ],
          [
           "Bruno Gomes",
           "CTB"
          ],
          [
           "Fabinho",
           "SEP"
          ],
          [
           "Breno",
           "BOT"
          ],
          [
           "Naves",
           "SEP"
          ],
          [
           "Martinelli",
           "FLU"
          ],
          [
           "Nermin Zolotić",
           "Casa Pia"
          ],
          [
           "Saeid Ezatolahi",
           "Vejle"
          ],
          [
           "Mateo Kovačić",
           "Man City"
          ],
          [
           "Josip Radošević",
           "Brøndby IF"
          ],
          [
           "Kristijan Jakić",
           "Augsburg"
          ],
          [
           "Bartol Franjić",
           "Darmstadt 98"
          ],
          [
           "Mory Gbané",
           "Gil Vicente"
          ],
          [
           "Alex Král",
           "Union Berlin"
          ],
          [
           "Marcel Rømer",
           "Lyngby"
          ],
          [
           "Nicolai Poulsen",
           "AGF"
          ],
          [
           "Jeppe Grønning",
           "Viborg FF"
          ],
          [
           "Christian Nørgaard",
           "Brentford"
          ],
          [
           "Jeppe Tverskov",
           "FC Nordsjælland"
          ],
          [
           "Morten Hjulmand",
           "Sporting CP"
          ],
          [
           "Oliver Norwood",
           "Sheff Utd"
          ],
          [
           "Tom Cairney",
           "Fulham"
          ],
          [
           "Adam Forshaw",
           "Plymouth"
          ],
          [
           "Ryan Leonard",
           "Millwall"
          ],
          [
           "George Saville",
           "Millwall"
          ],
          [
           "Ross Barkley",
           "Luton"
          ],
          [
           "Joe Ralls",
           "Cardiff"
          ],
          [
           "Ben Pearson",
           "Stoke"
          ],
          [
           "Paddy McNair",
           "Middlesbrough"
          ],
          [
           "Jordan Houghton",
           "Plymouth"
          ],
          [
           "Josh Cullen",
           "Burnley"
          ],
          [
           "Harry Winks",
           "Leicester"
          ],
          [
           "Josh Laurent",
           "Stoke"
          ],
          [
           "Ben Sheaf",
           "Coventry"
          ],
          [
           "Sean Longstaff",
           "Newcastle"
          ],
          [
           "Sam Field",
           "QPR"
          ],
          [
           "Declan Rice",
           "Arsenal"
          ],
          [
           "Nnamdi Ofoborh",
           "Sheffield Wednesday"
          ],
          [
           "Pierre Ekwah",
           "Sunderland"
          ],
          [
           "Tyler Morton",
           "Hull"
          ],
          [
           "Sam Morsy",
           "Ipswich"
          ],
          [
           "Liam Palmer",
           "Sheffield Wednesday"
          ],
          [
           "Will Vaulks",
           "Sheffield Wednesday"
          ],
          [
           "Will Hughes",
           "Crystal Palace"
          ],
          [
           "Matt Grimes",
           "Swansea"
          ],
          [
           "Alex Mowatt",
           "West Brom"
          ],
          [
           "Ben Whiteman",
           "Preston"
          ],
          [
           "Kalvin Phillips",
           "West Ham"
          ],
          [
           "Corentin Tolisso",
           "Lyon"
          ],
          [
           "Oliver Rathbone",
           "Rotherham"
          ],
          [
           "Lewis Cook",
           "Bournemouth"
          ],
          [
           "Kenneth Paal",
           "QPR"
          ],
          [
           "Ryan Yates",
           "Nottm Forest"
          ],
          [
           "Flynn Downes",
           "Southampton"
          ],
          [
           "Lewis O'Brien",
           "Middlesbrough"
          ],
          [
           "Andy Rinomhota",
           "Rotherham"
          ],
          [
           "Melle Meulensteen",
           "Vitesse"
          ],
          [
           "David Kasumu",
           "Huddersfield"
          ],
          [
           "Ethan Ampadu",
           "Leeds"
          ],
          [
           "Jordan Holsgrove",
           "Estoril Praia"
          ],
          [
           "Regan Slater",
           "Hull"
          ],
          [
           "Adam Randell",
           "Plymouth"
          ],
          [
           "Hayden Hackney",
           "Middlesbrough"
          ],
          [
           "Dan Neil",
           "Sunderland"
          ],
          [
           "Manolis Siopis",
           "Cardiff"
          ],
          [
           "Jordy Clasie",
           "AZ"
          ],
          [
           "Marten de Roon",
           "Atalanta"
          ],
          [
           "Thomas Lam",
           "PEC Zwolle"
          ],
          [
           "Frenkie de Jong",
           "Barcelona"
          ],
          [
           "Joris Kramer",
           "Go Ahead Eagles"
          ],
          [
           "Stijn Spierings",
           "Toulouse"
          ],
          [
           "Django Warmerdam",
           "Sparta Rotterdam"
          ],
          [
           "Gustavo Hamer",
           "Sheff Utd"
          ],
          [
           "Philippe Sandler",
           "N.E.C. Nijmegen"
          ],
          [
           "Azor Matusiwa",
           "Rennes"
          ],
          [
           "Pablo Rosario",
           "Nice"
          ],
          [
           "Jerdy Schouten",
           "PSV"
          ],
          [
           "Mees Hoedemakers",
           "N.E.C. Nijmegen"
          ],
          [
           "Teun Koopmeiners",
           "Atalanta"
          ],
          [
           "Wouter Burger",
           "Stoke"
          ],
          [
           "Quinten Timber",
           "Feyenoord"
          ],
          [
           "Michal Sadílek",
           "FC Twente"
          ],
          [
           "Peer Koopmeiners",
           "Almere City"
          ],
          [
           "Kenzo Goudmijn",
           "Excelsior"
          ],
          [
           "Lutsharel Geertruida",
           "Feyenoord"
          ],
          [
           "Mats Wieffer",
           "Feyenoord"
          ],
          [
           "Ryan Gravenberch",
           "Leicester"
          ],
          [
           "Kenneth Taylor",
           "Ajax"
          ],
          [
           "Eliano Reijnders",
           "PEC Zwolle"
          ],
          [
           "Thomas Beelen",
           "Feyenoord"
          ],
          [
           "Youri Regeer",
           "FC Twente"
          ],
          [
           "Ryan Flamingo",
           "FC Utrecht"
          ],
          [
           "Calvin Twigt",
           "FC Volendam"
          ],
          [
           "Lamare Bogarde",
           "Preston"
          ],
          [
           "Julian Baas",
           "Excelsior"
          ],
          [
           "Serano Seymor",
           "Excelsior"
          ],
          [
           "Pedro Obiang",
           "Sassuolo"
          ],
          [
           "Roberto Gagliardini",
           "Monza"
          ],
          [
           "Alfred Duncan",
           "Wolves"
          ],
          [
           "Bryan Cristante",
           "Roma"
          ],
          [
           "Luca Mazzitelli",
           "Frosinone"
          ],
          [
           "Rolando Mandragora",
           "Fiorentina"
          ],
          [
           "Manuel Locatelli",
           "Juventus"
          ],
          [
           "Daniel Boloca",
           "Sassuolo"
          ],
          [
           "Giulio Maggiore",
           "Salernitana"
          ],
          [
           "Tommaso Pobega",
           "Milan"
          ],
          [
           "Sandro Tonali",
           "Newcastle"
          ],
          [
           "Marco Brescianini",
           "Frosinone"
          ],
          [
           "Rodrigo Pérez",
           "Instituto"
          ],
          [
           "Nicolò Rovella",
           "Lazio"
          ],
          [
           "Samuele Ricci",
           "Torino"
          ],
          [
           "Michel Ndary Adopo",
           "Atalanta"
          ],
          [
           "Wataru Endo",
           "Liverpool"
          ],
          [
           "Yuta Nakayama",
           "Huddersfield"
          ],
          [
           "Hidemasa Morita",
           "Sporting CP"
          ],
          [
           "André-Franck Zambo Anguissa",
           "Napoli"
          ],
          [
           "Pierre Lees-Melou",
           "Brest"
          ],
          [
           "Lassana Coulibaly",
           "Salernitana"
          ],
          [
           "Ibrahima Sissoko",
           "Strasbourg"
          ],
          [
           "Ibrahim Sangaré",
           "Nottm Forest"
          ],
          [
           "Boubacar Kamara",
           "Aston Villa"
          ],
          [
           "Hugo Magnetti",
           "Brest"
          ],
          [
           "Yacine Adli",
           "Milan"
          ],
          [
           "Boubakary Soumaré",
           "Sevilla"
          ],
          [
           "Khephren Thuram",
           "Nice"
          ],
          [
           "Youssouf Fofana",
           "Monaco"
          ],
          [
           "Manu Koné",
           "Mönchengladbach"
          ],
          [
           "Joris Chotard",
           "Montpellier"
          ],
          [
           "Tom Lacoux",
           "Famalicão"
          ],
          [
           "Eduardo Camavinga",
           "Real Madrid"
          ],
          [
           "Salis Abdul Samed",
           "Lens"
          ],
          [
           "Edson Álvarez",
           "West Ham"
          ],
          [
           "Alan Browne",
           "Preston"
          ],
          [
           "Sondre Tronstad",
           "Blackburn"
          ],
          [
           "Fredrik Aursnes",
           "SL Benfica"
          ],
          [
           "Kristoffer Ajer",
           "Brentford"
          ],
          [
           "Mathias Kjølø",
           "FC Twente"
          ],
          [
           "Sivert Mannsverk",
           "Ajax"
          ],
          [
           "Pedro Sá",
           "CF Estrela Amadora"
          ],
          [
           "Raphael Guzzo",
           "Desp. Chaves"
          ],
          [
           "João Palhinha",
           "Fulham"
          ],
          [
           "Stephen Eustáquio",
           "FC Porto"
          ],
          [
           "Răzvan Marin",
           "Empoli"
          ],
          [
           "Eboué Kouassi",
           "Arouca"
          ],
          [
           "Kenny McLean",
           "Norwich"
          ],
          [
           "Billy Gilmour",
           "Brighton"
          ],
          [
           "Ali McCann",
           "Preston"
          ],
          [
           "Nemanja Gudelj",
           "Sevilla"
          ],
          [
           "Deni Hočko",
           "RKC Waalwijk"
          ],
          [
           "Nemanja Maksimović",
           "Getafe"
          ],
          [
           "Ilija Vukotić",
           "Boavista"
          ],
          [
           "Mirko Topić",
           "Famalicão"
          ],
          [
           "Stanislav Lobotka",
           "Napoli"
          ],
          [
           "Cafú Phete",
           "Desp. Chaves"
          ],
          [
           "Luke Le Roux",
           "FC Volendam"
          ],
          [
           "Koke",
           "Atlético"
          ],
          [
           "Saúl",
           "Atlético"
          ],
          [
           "Sergi Darder",
           "Mallorca"
          ],
          [
           "Fali",
           "Cádiz"
          ],
          [
           "Jon Guridi",
           "Alavés"
          ],
          [
           "Lucas Torró",
           "Osasuna"
          ],
          [
           "Thomas Partey",
           "Arsenal"
          ],
          [
           "Anuar",
           "Vit. Guimarães"
          ],
          [
           "Pedro Chirivella",
           "Nantes"
          ],
          [
           "Aleix García",
           "Girona"
          ],
          [
           "Paik Seung-Ho",
           "Birmingham"
          ],
          [
           "Mikel Vesga",
           "Athletic"
          ],
          [
           "Marcos Llorente",
           "Atlético"
          ],
          [
           "Fede San Emeterio",
           "Cádiz"
          ],
          [
           "Gerard Gumbau",
           "Granada"
          ],
          [
           "Pepelu",
           "Valencia"
          ],
          [
           "Marc Roca",
           "Real Betis"
          ],
          [
           "Mikel Merino",
           "Real Sociedad"
          ],
          [
           "Óscar Valentín",
           "Rayo Vallecano"
          ],
          [
           "Fabián",
           "PSG"
          ],
          [
           "Rodri",
           "Man City"
          ],
          [
           "Keidi Bare",
           "Coventry"
          ],
          [
           "Fran Beltrán",
           "Celta"
          ],
          [
           "Iddrisu Baba",
           "Almería"
          ],
          [
           "Edgar",
           "Almería"
          ],
          [
           "Ander Guevara",
           "Alavés"
          ],
          [
           "Martín Zubimendi",
           "Real Sociedad"
          ],
          [
           "Antonio Blanco",
           "Alavés"
          ],
          [
           "Hugo Guillamón",
           "Valencia"
          ],
          [
           "Jon Moncayola",
           "Osasuna"
          ],
          [
           "Rodrigo Zalazar",
           "Sp. Braga"
          ],
          [
           "Nico González",
           "FC Porto"
          ],
          [
           "Beñat Prados",
           "Athletic"
          ],
          [
           "Iker Muñoz",
           "Osasuna"
          ],
          [
           "Okay Yokuşlu",
           "West Brom"
          ],
          [
           "Youssouf Ndayishimiye",
           "Nice"
          ],
          [
           "Tyler Adams",
           "Bournemouth"
          ],
          [
           "Erick Pulgar",
           "FLA"
          ],
          [
           "Rodrigo Echeverría",
           "Huracán"
          ],
          [
           "Sebastián Pérez",
           "Boavista"
          ],
          [
           "Harrinson Mancilla",
           "Central Córdoba (SdE)"
          ],
          [
           "Jorman Campuzano",
           "Boca"
          ],
          [
           "Sebastián Gómez",
           "CTB"
          ],
          [
           "Jesús Castillo",
           "Gil Vicente"
          ],
          [
           "Rodrigo Fernández",
           "Newell's"
          ],
          [
           "Manuel Ugarte",
           "PSG"
          ],
          [
           "Yvo Calleros",
           "Banfield"
          ],
          [
           "Nicolás Acevedo",
           "BAH"
          ],
          [
           "Emiliano Martínez",
           "FC Midtjylland"
          ],
          [
           "Walter Rodríguez",
           "Tigre"
          ],
          [
           "Guima",
           "Desp. Chaves"
          ],
          [
           "Aloísio Souza",
           "CF Estrela Amadora"
          ],
          [
           "Daniel Bragança",
           "Sporting CP"
          ],
          [
           "Paulo Estrela",
           "Portimonense"
          ],
          [
           "Cláudio Falcão",
           "Sp. Farense"
          ],
          [
           "Vitinha",
           "PSG"
          ],
          [
           "Tiago Dantas",
           "AZ"
          ],
          [
           "Jota",
           "Vizela"
          ],
          [
           "Samú",
           "Mallorca"
          ],
          [
           "Tomás Händel",
           "Vit. Guimarães"
          ],
          [
           "Ibrahima Camará",
           "Boavista"
          ],
          [
           "Gonçalo Franco",
           "Moreirense"
          ],
          [
           "Jordan Ferri",
           "Montpellier"
          ],
          [
           "Nampalys Mendy",
           "Lens"
          ],
          [
           "Geoffrey Kondogbia",
           "Marseille"
          ],
          [
           "Sanjin Prcić",
           "Strasbourg"
          ],
          [
           "Laurent Abergel",
           "Lorient"
          ],
          [
           "Abdoulaye Touré",
           "Havre AC"
          ],
          [
           "Nuke Mfulu",
           "Las Palmas"
          ],
          [
           "Adrien Rabiot",
           "Juventus"
          ],
          [
           "Mario Lemina",
           "Wolves"
          ],
          [
           "Tiémoué Bakayoko",
           "Lorient"
          ],
          [
           "Ellyes Skhiri",
           "Eintracht Frankfurt"
          ],
          [
           "Kévin N'Doram",
           "Metz"
          ],
          [
           "Maxime Lopez",
           "Fiorentina"
          ],
          [
           "Alexis Blin",
           "Lecce"
          ],
          [
           "Antoine Makoumbou",
           "Cagliari"
          ],
          [
           "Loreintz Rosier",
           "Fortuna Sittard"
          ],
          [
           "Moisés Caicedo",
           "Chelsea"
          ],
          [
           "Maximilian Arnold",
           "VfL Wolfsburg"
          ],
          [
           "Robert Andrich",
           "Bayer 04"
          ],
          [
           "Julian Weigl",
           "Mönchengladbach"
          ],
          [
           "Maximilian Eggestein",
           "SC Freiburg"
          ],
          [
           "Benedikt Gimber",
           "FC Heidenheim"
          ],
          [
           "Niklas Dorsch",
           "Eintracht Frankfurt"
          ],
          [
           "Grischa Prömel",
           "TSG Hoffenheim"
          ],
          [
           "Sven Köhler",
           "OB"
          ],
          [
           "Tom Krauß",
           "Mainz 05"
          ],
          [
           "Elvis Rexhbecaj",
           "Augsburg"
          ],
          [
           "Angelo Stiller",
           "VfB Stuttgart"
          ],
          [
           "Leandro Barreiro",
           "Mainz 05"
          ],
          [
           "Anton Stach",
           "TSG Hoffenheim"
          ],
          [
           "Eric Martel",
           "FC Köln"
          ],
          [
           "Amadou Onana",
           "Everton"
          ],
          [
           "Rani Khedira",
           "Union Berlin"
          ],
          [
           "Emre Can",
           "Borussia Dortmund"
          ],
          [
           "Hakan Çalhanoğlu",
           "Inter"
          ],
          [
           "Joshua Kimmich",
           "FC Bayern"
          ],
          [
           "Atakan Karazor",
           "VfB Stuttgart"
          ],
          [
           "Michael Akoto",
           "AGF"
          ],
          [
           "Iliya Gruev",
           "Leeds"
          ],
          [
           "Lennard Maloney",
           "FC Heidenheim"
          ],
          [
           "Kristoffer Olsson",
           "FC Midtjylland"
          ],
          [
           "Jens Cajuste",
           "Napoli"
          ],
          [
           "John Björkengren",
           "Randers FC"
          ],
          [
           "Dominik Furman",
           "Silkeborg IF"
          ],
          [
           "Karol Linetty",
           "Torino"
          ],
          [
           "Krystian Bielik",
           "Birmingham"
          ],
          [
           "Granit Xhaka",
           "Bayer 04"
          ],
          [
           "Remo Freuler",
           "Bologna"
          ],
          [
           "Edimilson Fernandes",
           "Mainz 05"
          ],
          [
           "Vincent Sierro",
           "Toulouse"
          ],
          [
           "Djibril Sow",
           "Sevilla"
          ],
          [
           "Denis Zakaria",
           "Monaco"
          ],
          [
           "Michel Aebischer",
           "Bologna"
          ],
          [
           "William Clem",
           "FC København"
          ],
          [
           "Raniele",
           "COR"
          ],
          [
           "Guilherme Madruga",
           "CUI"
          ],
          [
           "Stefano Moreyra",
           "Instituto"
          ],
          [
           "Cameron Humphreys",
           "Ipswich"
          ],
          [
           "Manuel García",
           "Central Córdoba (SdE)"
          ],
          [
           "Oussama Targhalline",
           "Havre AC"
          ],
          [
           "Agostino Spina",
           "Huracán"
          ],
          [
           "Oliver Johansen Braude",
           "sc Heerenveen"
          ],
          [
           "Elián Irala",
           "San Lorenzo"
          ],
          [
           "Zé Carlos",
           "Vit. Guimarães"
          ],
          [
           "Alemão",
           "Portimonense"
          ],
          [
           "Alexsander",
           "FLU"
          ],
          [
           "Emanuel Quinteros",
           "Godoy Cruz"
          ],
          [
           "Rodrigo Saravia",
           "Gimnasia (LP)"
          ],
          [
           "Nathan",
           "GOI"
          ],
          [
           "Igor Jesus",
           "FLA"
          ],
          [
           "Amir Richardson",
           "Stade Reims"
          ],
          [
           "Lewis Hall",
           "Newcastle"
          ],
          [
           "Negrucci",
           "SPO"
          ],
          [
           "Kevin López",
           "Defensa y Justicia"
          ],
          [
           "Ismaël Koné",
           "Watford"
          ],
          [
           "Kobbie Mainoo",
           "Man Utd"
          ],
          [
           "Benjamín Schamine",
           "Defensa y Justicia"
          ],
          [
           "Jochem Ritmeester van de Kamp",
           "Almere City"
          ],
          [
           "Matheus Dias",
           "INT"
          ],
          [
           "Kevin Ortiz",
           "Rosario Central"
          ],
          [
           "Carlos Baleba",
           "Brighton"
          ],
          [
           "Warren Zaïre-Emery",
           "PSG"
          ],
          [
           "Archie Gray",
           "Leeds"
          ],
          [
           "Mario Dorgeles",
           "FC Nordsjælland"
          ],
          [
           "Gabriel Moscardo",
           "COR"
          ],
          [
           "Leonel Vega",
           "Atl. Tucumán"
          ],
          [
           "Joaquín Mosqueira",
           "Unión (SF)"
          ],
          [
           "César Amarilla",
           "Rosario Central"
          ],
          [
           "Lucas López",
           "Instituto"
          ],
          [
           "Fabrício Dias",
           "FOR"
          ]
         ],
         "hovertemplate": "<b>%{customdata[0]}</b><br><b>%{customdata[1]}</b><br><br>passes_attempted/90: %{x}<br>progressive_pass_rate: %{y}<br>pass_completion_%: %{marker.color}<extra></extra>",
         "legendgroup": "",
         "marker": {
          "color": {
           "bdata": "WltZWFtZWVlYWFlZWFlcV1xeV1pYWlxZXFddW1pXWVhWWFpZWVtZWlpWWVlZW1pYWllaWlxYWFhXWV1ZW1lbWVpbWltXW1dbWFtdW1haWFdZV1hZWltbWldWW1pcXFdZW1pXWFlXWFlWWFlaXFxYV1ZYXFxZWFpZWFhYWFdYV1tYW1hYWFpZVFRZWVlUWFdVWVxYV1hXWltaWFtYV1haVVhbVVpYWVxYWVtZW1hbWl5aWVtZWFRWXlRdXVlaU1hcXFlZWl5ZWF5YWlhZVVtcXFhcWFldWVlbWFZUXFlaXFlcWFZZW1pZV1tZVF1aVlpYWVlaVlpdWllcWFhYWVtUVVlaXFdWWFlZV1pYWl9YWF9UWVhYWllZXFhbWVpXW1pcV1ZYXlVaV1ZXWVpbXVhYV1hbW1xZV1xUWVRTWltbWlRaWVxXVFZbWFxcV1xYXVhXW1xaWllaVFpbXVlbVFtZW1lXWFhWWlZWXFlaWFlZWE9ZWVhZW1xbW1hZXFtaWltWXFxWVl1aWltbWVhYWVdVWlpXWFpZV1pYWllXW1lZWldY",
           "dtype": "i1"
          },
          "coloraxis": "coloraxis",
          "size": 10,
          "symbol": "circle"
         },
         "mode": "markers",
         "name": "",
         "orientation": "v",
         "showlegend": false,
         "textfont": {
          "size": 10
         },
         "textposition": "top center",
         "type": "scatter",
         "x": {
          "bdata": "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",
          "dtype": "f8"
         },
         "xaxis": "x",
         "y": {
          "bdata": "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",
          "dtype": "f8"
         },
         "yaxis": "y"
        }
       ],
       "layout": {
        "coloraxis": {
         "colorbar": {
          "title": {
           "text": "pass_completion_%"
          }
         },
         "colorscale": [
          [
           0,
           "rgb(165,0,38)"
          ],
          [
           0.1,
           "rgb(215,48,39)"
          ],
          [
           0.2,
           "rgb(244,109,67)"
          ],
          [
           0.3,
           "rgb(253,174,97)"
          ],
          [
           0.4,
           "rgb(254,224,139)"
          ],
          [
           0.5,
           "rgb(255,255,191)"
          ],
          [
           0.6,
           "rgb(217,239,139)"
          ],
          [
           0.7,
           "rgb(166,217,106)"
          ],
          [
           0.8,
           "rgb(102,189,99)"
          ],
          [
           0.9,
           "rgb(26,152,80)"
          ],
          [
           1,
           "rgb(0,104,55)"
          ]
         ],
         "showscale": false
        },
        "height": 700,
        "legend": {
         "tracegroupgap": 0
        },
        "paper_bgcolor": "darkgray",
        "plot_bgcolor": "darkgray",
        "template": {
         "data": {
          "bar": [
           {
            "error_x": {
             "color": "#2a3f5f"
            },
            "error_y": {
             "color": "#2a3f5f"
            },
            "marker": {
             "line": {
              "color": "#E5ECF6",
              "width": 0.5
             },
             "pattern": {
              "fillmode": "overlay",
              "size": 10,
              "solidity": 0.2
             }
            },
            "type": "bar"
           }
          ],
          "barpolar": [
           {
            "marker": {
             "line": {
              "color": "#E5ECF6",
              "width": 0.5
             },
             "pattern": {
              "fillmode": "overlay",
              "size": 10,
              "solidity": 0.2
             }
            },
            "type": "barpolar"
           }
          ],
          "carpet": [
           {
            "aaxis": {
             "endlinecolor": "#2a3f5f",
             "gridcolor": "white",
             "linecolor": "white",
             "minorgridcolor": "white",
             "startlinecolor": "#2a3f5f"
            },
            "baxis": {
             "endlinecolor": "#2a3f5f",
             "gridcolor": "white",
             "linecolor": "white",
             "minorgridcolor": "white",
             "startlinecolor": "#2a3f5f"
            },
            "type": "carpet"
           }
          ],
          "choropleth": [
           {
            "colorbar": {
             "outlinewidth": 0,
             "ticks": ""
            },
            "type": "choropleth"
           }
          ],
          "contour": [
           {
            "colorbar": {
             "outlinewidth": 0,
             "ticks": ""
            },
            "colorscale": [
             [
              0,
              "#0d0887"
             ],
             [
              0.1111111111111111,
              "#46039f"
             ],
             [
              0.2222222222222222,
              "#7201a8"
             ],
             [
              0.3333333333333333,
              "#9c179e"
             ],
             [
              0.4444444444444444,
              "#bd3786"
             ],
             [
              0.5555555555555556,
              "#d8576b"
             ],
             [
              0.6666666666666666,
              "#ed7953"
             ],
             [
              0.7777777777777778,
              "#fb9f3a"
             ],
             [
              0.8888888888888888,
              "#fdca26"
             ],
             [
              1,
              "#f0f921"
             ]
            ],
            "type": "contour"
           }
          ],
          "contourcarpet": [
           {
            "colorbar": {
             "outlinewidth": 0,
             "ticks": ""
            },
            "type": "contourcarpet"
           }
          ],
          "heatmap": [
           {
            "colorbar": {
             "outlinewidth": 0,
             "ticks": ""
            },
            "colorscale": [
             [
              0,
              "#0d0887"
             ],
             [
              0.1111111111111111,
              "#46039f"
             ],
             [
              0.2222222222222222,
              "#7201a8"
             ],
             [
              0.3333333333333333,
              "#9c179e"
             ],
             [
              0.4444444444444444,
              "#bd3786"
             ],
             [
              0.5555555555555556,
              "#d8576b"
             ],
             [
              0.6666666666666666,
              "#ed7953"
             ],
             [
              0.7777777777777778,
              "#fb9f3a"
             ],
             [
              0.8888888888888888,
              "#fdca26"
             ],
             [
              1,
              "#f0f921"
             ]
            ],
            "type": "heatmap"
           }
          ],
          "histogram": [
           {
            "marker": {
             "pattern": {
              "fillmode": "overlay",
              "size": 10,
              "solidity": 0.2
             }
            },
            "type": "histogram"
           }
          ],
          "histogram2d": [
           {
            "colorbar": {
             "outlinewidth": 0,
             "ticks": ""
            },
            "colorscale": [
             [
              0,
              "#0d0887"
             ],
             [
              0.1111111111111111,
              "#46039f"
             ],
             [
              0.2222222222222222,
              "#7201a8"
             ],
             [
              0.3333333333333333,
              "#9c179e"
             ],
             [
              0.4444444444444444,
              "#bd3786"
             ],
             [
              0.5555555555555556,
              "#d8576b"
             ],
             [
              0.6666666666666666,
              "#ed7953"
             ],
             [
              0.7777777777777778,
              "#fb9f3a"
             ],
             [
              0.8888888888888888,
              "#fdca26"
             ],
             [
              1,
              "#f0f921"
             ]
            ],
            "type": "histogram2d"
           }
          ],
          "histogram2dcontour": [
           {
            "colorbar": {
             "outlinewidth": 0,
             "ticks": ""
            },
            "colorscale": [
             [
              0,
              "#0d0887"
             ],
             [
              0.1111111111111111,
              "#46039f"
             ],
             [
              0.2222222222222222,
              "#7201a8"
             ],
             [
              0.3333333333333333,
              "#9c179e"
             ],
             [
              0.4444444444444444,
              "#bd3786"
             ],
             [
              0.5555555555555556,
              "#d8576b"
             ],
             [
              0.6666666666666666,
              "#ed7953"
             ],
             [
              0.7777777777777778,
              "#fb9f3a"
             ],
             [
              0.8888888888888888,
              "#fdca26"
             ],
             [
              1,
              "#f0f921"
             ]
            ],
            "type": "histogram2dcontour"
           }
          ],
          "mesh3d": [
           {
            "colorbar": {
             "outlinewidth": 0,
             "ticks": ""
            },
            "type": "mesh3d"
           }
          ],
          "parcoords": [
           {
            "line": {
             "colorbar": {
              "outlinewidth": 0,
              "ticks": ""
             }
            },
            "type": "parcoords"
           }
          ],
          "pie": [
           {
            "automargin": true,
            "type": "pie"
           }
          ],
          "scatter": [
           {
            "fillpattern": {
             "fillmode": "overlay",
             "size": 10,
             "solidity": 0.2
            },
            "type": "scatter"
           }
          ],
          "scatter3d": [
           {
            "line": {
             "colorbar": {
              "outlinewidth": 0,
              "ticks": ""
             }
            },
            "marker": {
             "colorbar": {
              "outlinewidth": 0,
              "ticks": ""
             }
            },
            "type": "scatter3d"
           }
          ],
          "scattercarpet": [
           {
            "marker": {
             "colorbar": {
              "outlinewidth": 0,
              "ticks": ""
             }
            },
            "type": "scattercarpet"
           }
          ],
          "scattergeo": [
           {
            "marker": {
             "colorbar": {
              "outlinewidth": 0,
              "ticks": ""
             }
            },
            "type": "scattergeo"
           }
          ],
          "scattergl": [
           {
            "marker": {
             "colorbar": {
              "outlinewidth": 0,
              "ticks": ""
             }
            },
            "type": "scattergl"
           }
          ],
          "scattermap": [
           {
            "marker": {
             "colorbar": {
              "outlinewidth": 0,
              "ticks": ""
             }
            },
            "type": "scattermap"
           }
          ],
          "scattermapbox": [
           {
            "marker": {
             "colorbar": {
              "outlinewidth": 0,
              "ticks": ""
             }
            },
            "type": "scattermapbox"
           }
          ],
          "scatterpolar": [
           {
            "marker": {
             "colorbar": {
              "outlinewidth": 0,
              "ticks": ""
             }
            },
            "type": "scatterpolar"
           }
          ],
          "scatterpolargl": [
           {
            "marker": {
             "colorbar": {
              "outlinewidth": 0,
              "ticks": ""
             }
            },
            "type": "scatterpolargl"
           }
          ],
          "scatterternary": [
           {
            "marker": {
             "colorbar": {
              "outlinewidth": 0,
              "ticks": ""
             }
            },
            "type": "scatterternary"
           }
          ],
          "surface": [
           {
            "colorbar": {
             "outlinewidth": 0,
             "ticks": ""
            },
            "colorscale": [
             [
              0,
              "#0d0887"
             ],
             [
              0.1111111111111111,
              "#46039f"
             ],
             [
              0.2222222222222222,
              "#7201a8"
             ],
             [
              0.3333333333333333,
              "#9c179e"
             ],
             [
              0.4444444444444444,
              "#bd3786"
             ],
             [
              0.5555555555555556,
              "#d8576b"
             ],
             [
              0.6666666666666666,
              "#ed7953"
             ],
             [
              0.7777777777777778,
              "#fb9f3a"
             ],
             [
              0.8888888888888888,
              "#fdca26"
             ],
             [
              1,
              "#f0f921"
             ]
            ],
            "type": "surface"
           }
          ],
          "table": [
           {
            "cells": {
             "fill": {
              "color": "#EBF0F8"
             },
             "line": {
              "color": "white"
             }
            },
            "header": {
             "fill": {
              "color": "#C8D4E3"
             },
             "line": {
              "color": "white"
             }
            },
            "type": "table"
           }
          ]
         },
         "layout": {
          "annotationdefaults": {
           "arrowcolor": "#2a3f5f",
           "arrowhead": 0,
           "arrowwidth": 1
          },
          "autotypenumbers": "strict",
          "coloraxis": {
           "colorbar": {
            "outlinewidth": 0,
            "ticks": ""
           }
          },
          "colorscale": {
           "diverging": [
            [
             0,
             "#8e0152"
            ],
            [
             0.1,
             "#c51b7d"
            ],
            [
             0.2,
             "#de77ae"
            ],
            [
             0.3,
             "#f1b6da"
            ],
            [
             0.4,
             "#fde0ef"
            ],
            [
             0.5,
             "#f7f7f7"
            ],
            [
             0.6,
             "#e6f5d0"
            ],
            [
             0.7,
             "#b8e186"
            ],
            [
             0.8,
             "#7fbc41"
            ],
            [
             0.9,
             "#4d9221"
            ],
            [
             1,
             "#276419"
            ]
           ],
           "sequential": [
            [
             0,
             "#0d0887"
            ],
            [
             0.1111111111111111,
             "#46039f"
            ],
            [
             0.2222222222222222,
             "#7201a8"
            ],
            [
             0.3333333333333333,
             "#9c179e"
            ],
            [
             0.4444444444444444,
             "#bd3786"
            ],
            [
             0.5555555555555556,
             "#d8576b"
            ],
            [
             0.6666666666666666,
             "#ed7953"
            ],
            [
             0.7777777777777778,
             "#fb9f3a"
            ],
            [
             0.8888888888888888,
             "#fdca26"
            ],
            [
             1,
             "#f0f921"
            ]
           ],
           "sequentialminus": [
            [
             0,
             "#0d0887"
            ],
            [
             0.1111111111111111,
             "#46039f"
            ],
            [
             0.2222222222222222,
             "#7201a8"
            ],
            [
             0.3333333333333333,
             "#9c179e"
            ],
            [
             0.4444444444444444,
             "#bd3786"
            ],
            [
             0.5555555555555556,
             "#d8576b"
            ],
            [
             0.6666666666666666,
             "#ed7953"
            ],
            [
             0.7777777777777778,
             "#fb9f3a"
            ],
            [
             0.8888888888888888,
             "#fdca26"
            ],
            [
             1,
             "#f0f921"
            ]
           ]
          },
          "colorway": [
           "#636efa",
           "#EF553B",
           "#00cc96",
           "#ab63fa",
           "#FFA15A",
           "#19d3f3",
           "#FF6692",
           "#B6E880",
           "#FF97FF",
           "#FECB52"
          ],
          "font": {
           "color": "#2a3f5f"
          },
          "geo": {
           "bgcolor": "white",
           "lakecolor": "white",
           "landcolor": "#E5ECF6",
           "showlakes": true,
           "showland": true,
           "subunitcolor": "white"
          },
          "hoverlabel": {
           "align": "left"
          },
          "hovermode": "closest",
          "mapbox": {
           "style": "light"
          },
          "paper_bgcolor": "white",
          "plot_bgcolor": "#E5ECF6",
          "polar": {
           "angularaxis": {
            "gridcolor": "white",
            "linecolor": "white",
            "ticks": ""
           },
           "bgcolor": "#E5ECF6",
           "radialaxis": {
            "gridcolor": "white",
            "linecolor": "white",
            "ticks": ""
           }
          },
          "scene": {
           "xaxis": {
            "backgroundcolor": "#E5ECF6",
            "gridcolor": "white",
            "gridwidth": 2,
            "linecolor": "white",
            "showbackground": true,
            "ticks": "",
            "zerolinecolor": "white"
           },
           "yaxis": {
            "backgroundcolor": "#E5ECF6",
            "gridcolor": "white",
            "gridwidth": 2,
            "linecolor": "white",
            "showbackground": true,
            "ticks": "",
            "zerolinecolor": "white"
           },
           "zaxis": {
            "backgroundcolor": "#E5ECF6",
            "gridcolor": "white",
            "gridwidth": 2,
            "linecolor": "white",
            "showbackground": true,
            "ticks": "",
            "zerolinecolor": "white"
           }
          },
          "shapedefaults": {
           "line": {
            "color": "#2a3f5f"
           }
          },
          "ternary": {
           "aaxis": {
            "gridcolor": "white",
            "linecolor": "white",
            "ticks": ""
           },
           "baxis": {
            "gridcolor": "white",
            "linecolor": "white",
            "ticks": ""
           },
           "bgcolor": "#E5ECF6",
           "caxis": {
            "gridcolor": "white",
            "linecolor": "white",
            "ticks": ""
           }
          },
          "title": {
           "x": 0.05
          },
          "xaxis": {
           "automargin": true,
           "gridcolor": "white",
           "linecolor": "white",
           "ticks": "",
           "title": {
            "standoff": 15
           },
           "zerolinecolor": "white",
           "zerolinewidth": 2
          },
          "yaxis": {
           "automargin": true,
           "gridcolor": "white",
           "linecolor": "white",
           "ticks": "",
           "title": {
            "standoff": 15
           },
           "zerolinecolor": "white",
           "zerolinewidth": 2
          }
         }
        },
        "title": {
         "text": "Passing quality ( 417)",
         "x": 0.5,
         "xanchor": "center"
        },
        "width": 1200,
        "xaxis": {
         "anchor": "y",
         "domain": [
          0,
          1
         ],
         "gridcolor": "white",
         "showgrid": true,
         "title": {
          "text": "passes_attempted/90"
         },
         "zeroline": false
        },
        "yaxis": {
         "anchor": "x",
         "domain": [
          0,
          1
         ],
         "gridcolor": "white",
         "showgrid": true,
         "title": {
          "text": "progressive_pass_rate"
         },
         "zeroline": false
        }
       }
      }
     },
     "metadata": {},
     "output_type": "display_data"
    }
   ],
   "source": [
    "# Initialize list of targets\n",
    "targets = df_players['id']\n",
    "\n",
    "scatter_plot(df_players,\n",
    "             x_metric='passes_attempted/90', \n",
    "             y_metric='progressive_pass_rate',\n",
    "             z_metric='pass_completion_%',\n",
    "             title='Passing quality', \n",
    "             show_name_label=False\n",
    ")"
   ]
  },
  {
   "cell_type": "code",
   "execution_count": 158,
   "id": "a312cf0a",
   "metadata": {},
   "outputs": [
    {
     "data": {
      "application/vnd.plotly.v1+json": {
       "config": {
        "plotlyServerURL": "https://plot.ly"
       },
       "data": [
        {
         "customdata": [
          [
           "Santiago Ascacíbar",
           "Estudiantes (LP)"
          ],
          [
           "Franco Moyano",
           "Argentinos Jrs."
          ],
          [
           "Leonel Picco",
           "Platense"
          ],
          [
           "Carlos Villalba",
           "Platense"
          ],
          [
           "Santiago Sosa",
           "Racing Club"
          ],
          [
           "Nicolás Garayalde",
           "Vélez"
          ],
          [
           "Franco Ibarra",
           "Rosario Central"
          ],
          [
           "Francisco Perruzzi",
           "San Lorenzo"
          ],
          [
           "Bautista Kociubinski",
           "Estudiantes (LP)"
          ],
          [
           "Mateo Seoane",
           "Talleres"
          ],
          [
           "Santiago Longo",
           "Belgrano"
          ],
          [
           "Ignacio Miramón",
           "Lille"
          ],
          [
           "Xaver Schlager",
           "RB Leipzig"
          ],
          [
           "Amadou Haïdara",
           "RB Leipzig"
          ],
          [
           "Albert Sambi Lokonga",
           "Luton"
          ],
          [
           "Thiago Maia",
           "FLA"
          ],
          [
           "Matheus Henrique",
           "FLA"
          ],
          [
           "Pedro Augusto",
           "FOR"
          ],
          [
           "Hugo Moura",
           "Athlético Paranaense"
          ],
          [
           "Luan",
           "SPO"
          ],
          [
           "Zé Gabriel",
           "Vasco da Gama"
          ],
          [
           "Jhonny Lucas",
           "GOI"
          ],
          [
           "André",
           "FLU"
          ],
          [
           "Pablo Maia",
           "SPO"
          ],
          [
           "Bruno Gomes",
           "CTB"
          ],
          [
           "Fabinho",
           "SEP"
          ],
          [
           "Martinelli",
           "FLU"
          ],
          [
           "Flynn Downes",
           "Southampton"
          ],
          [
           "Melle Meulensteen",
           "Vitesse"
          ],
          [
           "David Kasumu",
           "Huddersfield"
          ],
          [
           "Tommaso Pobega",
           "Milan"
          ],
          [
           "Michel Ndary Adopo",
           "Atalanta"
          ],
          [
           "Salis Abdul Samed",
           "Lens"
          ],
          [
           "Sivert Mannsverk",
           "Ajax"
          ],
          [
           "Mirko Topić",
           "Famalicão"
          ],
          [
           "Pepelu",
           "Valencia"
          ],
          [
           "Keidi Bare",
           "Coventry"
          ],
          [
           "Fran Beltrán",
           "Celta"
          ],
          [
           "Jesús Castillo",
           "Gil Vicente"
          ],
          [
           "Nicolás Acevedo",
           "BAH"
          ],
          [
           "Samú",
           "Mallorca"
          ],
          [
           "Gonçalo Franco",
           "Moreirense"
          ],
          [
           "Leandro Barreiro",
           "Mainz 05"
          ],
          [
           "William Clem",
           "FC København"
          ],
          [
           "Alexsander",
           "FLU"
          ],
          [
           "Emanuel Quinteros",
           "Godoy Cruz"
          ],
          [
           "Benjamín Schamine",
           "Defensa y Justicia"
          ],
          [
           "Kevin Ortiz",
           "Rosario Central"
          ]
         ],
         "hovertemplate": "<b>%{customdata[0]}</b><br><b>%{customdata[1]}</b><br><br>passes_attempted/90: %{x}<br>progressive_pass_rate: %{y}<br>pass_completion_%: %{marker.color}<extra></extra>",
         "legendgroup": "",
         "marker": {
          "color": {
           "bdata": "W1pZWlpZWVpaWVlbW1tbWlxXWVpZVlxYV1ZcWlxYW1pZWVhYWlxZWVdbWFpbWVpa",
           "dtype": "i1"
          },
          "coloraxis": "coloraxis",
          "size": 10,
          "symbol": "circle"
         },
         "mode": "markers",
         "name": "",
         "orientation": "v",
         "showlegend": false,
         "textfont": {
          "size": 10
         },
         "textposition": "top center",
         "type": "scatter",
         "x": {
          "bdata": "w/UoXI9CTkCkcD0K1wNLQOF6FK5HIUpASOF6FK6nSUB7FK5H4TpHQFK4HoXrkUtAuB6F61FYS0BSuB6F6/FNQArXo3A9KklAuB6F61HYSEAfhetRuF5LQEjhehSup1FAuB6F61E4SUCkcD0K16NMQHsUrkfhektA4XoUrkdhSUAzMzMzM7NMQAAAAAAAAExAj8L1KFyvSkAK16NwPYpKQPYoXI/CdUpAPQrXo3C9SECamZmZmVlOQFK4HoXrsUxA9ihcj8I1SkApXI/C9QhLQM3MzMzMTE5A16NwPQoXT0CamZmZmflJQDMzMzMz80ZA9ihcj8I1UECkcD0K1yNOQEjhehSuB1BAPQrXo3C9TEAzMzMzM1NIQFyPwvUofElArkfhehTOSUCamZmZmblHQFyPwvUoHEtApHA9CtfDTED2KFyPwpVLQFK4HoXrEU9AKVyPwvUoR0DD9Shcj0JPQB+F61G4Pk9AAAAAAADgS0A9CtejcJ1KQM3MzMzMTEtA",
          "dtype": "f8"
         },
         "xaxis": "x",
         "y": {
          "bdata": "mpmZmZmZHUAUrkfhehQiQNejcD0KVyFA9ihcj8L1H0DD9Shcj8IiQEjhehSuxyNA9ihcj8L1IkCamZmZmRkgQEjhehSuRyFAUrgehevRI0AzMzMzMzMbQK5H4XoUriFAUrgehetRK0Bcj8L1KFwlQHsUrkfheh1ACtejcD2KIEBI4XoUrkcoQBSuR+F6FCFAmpmZmZmZH0CkcD0K1yMiQM3MzMzMzB9AuB6F61G4HEC4HoXrUTghQK5H4XoULiBAUrgehevRIUDD9Shcj0IhQNejcD0K1x1ASOF6FK7HKEBcj8L1KFwgQLgehetRuCJAFK5H4XoUHkAfhetRuJ4iQMP1KFyPwhxAhetRuB6FHUBSuB6F61EcQDMzMzMzMyBApHA9CtcjJUDD9Shcj8IhQMP1KFyPwiNAmpmZmZmZIkDXo3A9ClcgQHE9CtejcCVA9ihcj8L1GkC4HoXrUTgnQFK4HoXrUSRAMzMzMzOzIUCPwvUoXA8gQLgehetRuCBA",
          "dtype": "f8"
         },
         "yaxis": "y"
        }
       ],
       "layout": {
        "coloraxis": {
         "colorbar": {
          "title": {
           "text": "pass_completion_%"
          }
         },
         "colorscale": [
          [
           0,
           "rgb(165,0,38)"
          ],
          [
           0.1,
           "rgb(215,48,39)"
          ],
          [
           0.2,
           "rgb(244,109,67)"
          ],
          [
           0.3,
           "rgb(253,174,97)"
          ],
          [
           0.4,
           "rgb(254,224,139)"
          ],
          [
           0.5,
           "rgb(255,255,191)"
          ],
          [
           0.6,
           "rgb(217,239,139)"
          ],
          [
           0.7,
           "rgb(166,217,106)"
          ],
          [
           0.8,
           "rgb(102,189,99)"
          ],
          [
           0.9,
           "rgb(26,152,80)"
          ],
          [
           1,
           "rgb(0,104,55)"
          ]
         ],
         "showscale": false
        },
        "height": 700,
        "legend": {
         "tracegroupgap": 0
        },
        "paper_bgcolor": "darkgray",
        "plot_bgcolor": "darkgray",
        "template": {
         "data": {
          "bar": [
           {
            "error_x": {
             "color": "#2a3f5f"
            },
            "error_y": {
             "color": "#2a3f5f"
            },
            "marker": {
             "line": {
              "color": "#E5ECF6",
              "width": 0.5
             },
             "pattern": {
              "fillmode": "overlay",
              "size": 10,
              "solidity": 0.2
             }
            },
            "type": "bar"
           }
          ],
          "barpolar": [
           {
            "marker": {
             "line": {
              "color": "#E5ECF6",
              "width": 0.5
             },
             "pattern": {
              "fillmode": "overlay",
              "size": 10,
              "solidity": 0.2
             }
            },
            "type": "barpolar"
           }
          ],
          "carpet": [
           {
            "aaxis": {
             "endlinecolor": "#2a3f5f",
             "gridcolor": "white",
             "linecolor": "white",
             "minorgridcolor": "white",
             "startlinecolor": "#2a3f5f"
            },
            "baxis": {
             "endlinecolor": "#2a3f5f",
             "gridcolor": "white",
             "linecolor": "white",
             "minorgridcolor": "white",
             "startlinecolor": "#2a3f5f"
            },
            "type": "carpet"
           }
          ],
          "choropleth": [
           {
            "colorbar": {
             "outlinewidth": 0,
             "ticks": ""
            },
            "type": "choropleth"
           }
          ],
          "contour": [
           {
            "colorbar": {
             "outlinewidth": 0,
             "ticks": ""
            },
            "colorscale": [
             [
              0,
              "#0d0887"
             ],
             [
              0.1111111111111111,
              "#46039f"
             ],
             [
              0.2222222222222222,
              "#7201a8"
             ],
             [
              0.3333333333333333,
              "#9c179e"
             ],
             [
              0.4444444444444444,
              "#bd3786"
             ],
             [
              0.5555555555555556,
              "#d8576b"
             ],
             [
              0.6666666666666666,
              "#ed7953"
             ],
             [
              0.7777777777777778,
              "#fb9f3a"
             ],
             [
              0.8888888888888888,
              "#fdca26"
             ],
             [
              1,
              "#f0f921"
             ]
            ],
            "type": "contour"
           }
          ],
          "contourcarpet": [
           {
            "colorbar": {
             "outlinewidth": 0,
             "ticks": ""
            },
            "type": "contourcarpet"
           }
          ],
          "heatmap": [
           {
            "colorbar": {
             "outlinewidth": 0,
             "ticks": ""
            },
            "colorscale": [
             [
              0,
              "#0d0887"
             ],
             [
              0.1111111111111111,
              "#46039f"
             ],
             [
              0.2222222222222222,
              "#7201a8"
             ],
             [
              0.3333333333333333,
              "#9c179e"
             ],
             [
              0.4444444444444444,
              "#bd3786"
             ],
             [
              0.5555555555555556,
              "#d8576b"
             ],
             [
              0.6666666666666666,
              "#ed7953"
             ],
             [
              0.7777777777777778,
              "#fb9f3a"
             ],
             [
              0.8888888888888888,
              "#fdca26"
             ],
             [
              1,
              "#f0f921"
             ]
            ],
            "type": "heatmap"
           }
          ],
          "histogram": [
           {
            "marker": {
             "pattern": {
              "fillmode": "overlay",
              "size": 10,
              "solidity": 0.2
             }
            },
            "type": "histogram"
           }
          ],
          "histogram2d": [
           {
            "colorbar": {
             "outlinewidth": 0,
             "ticks": ""
            },
            "colorscale": [
             [
              0,
              "#0d0887"
             ],
             [
              0.1111111111111111,
              "#46039f"
             ],
             [
              0.2222222222222222,
              "#7201a8"
             ],
             [
              0.3333333333333333,
              "#9c179e"
             ],
             [
              0.4444444444444444,
              "#bd3786"
             ],
             [
              0.5555555555555556,
              "#d8576b"
             ],
             [
              0.6666666666666666,
              "#ed7953"
             ],
             [
              0.7777777777777778,
              "#fb9f3a"
             ],
             [
              0.8888888888888888,
              "#fdca26"
             ],
             [
              1,
              "#f0f921"
             ]
            ],
            "type": "histogram2d"
           }
          ],
          "histogram2dcontour": [
           {
            "colorbar": {
             "outlinewidth": 0,
             "ticks": ""
            },
            "colorscale": [
             [
              0,
              "#0d0887"
             ],
             [
              0.1111111111111111,
              "#46039f"
             ],
             [
              0.2222222222222222,
              "#7201a8"
             ],
             [
              0.3333333333333333,
              "#9c179e"
             ],
             [
              0.4444444444444444,
              "#bd3786"
             ],
             [
              0.5555555555555556,
              "#d8576b"
             ],
             [
              0.6666666666666666,
              "#ed7953"
             ],
             [
              0.7777777777777778,
              "#fb9f3a"
             ],
             [
              0.8888888888888888,
              "#fdca26"
             ],
             [
              1,
              "#f0f921"
             ]
            ],
            "type": "histogram2dcontour"
           }
          ],
          "mesh3d": [
           {
            "colorbar": {
             "outlinewidth": 0,
             "ticks": ""
            },
            "type": "mesh3d"
           }
          ],
          "parcoords": [
           {
            "line": {
             "colorbar": {
              "outlinewidth": 0,
              "ticks": ""
             }
            },
            "type": "parcoords"
           }
          ],
          "pie": [
           {
            "automargin": true,
            "type": "pie"
           }
          ],
          "scatter": [
           {
            "fillpattern": {
             "fillmode": "overlay",
             "size": 10,
             "solidity": 0.2
            },
            "type": "scatter"
           }
          ],
          "scatter3d": [
           {
            "line": {
             "colorbar": {
              "outlinewidth": 0,
              "ticks": ""
             }
            },
            "marker": {
             "colorbar": {
              "outlinewidth": 0,
              "ticks": ""
             }
            },
            "type": "scatter3d"
           }
          ],
          "scattercarpet": [
           {
            "marker": {
             "colorbar": {
              "outlinewidth": 0,
              "ticks": ""
             }
            },
            "type": "scattercarpet"
           }
          ],
          "scattergeo": [
           {
            "marker": {
             "colorbar": {
              "outlinewidth": 0,
              "ticks": ""
             }
            },
            "type": "scattergeo"
           }
          ],
          "scattergl": [
           {
            "marker": {
             "colorbar": {
              "outlinewidth": 0,
              "ticks": ""
             }
            },
            "type": "scattergl"
           }
          ],
          "scattermap": [
           {
            "marker": {
             "colorbar": {
              "outlinewidth": 0,
              "ticks": ""
             }
            },
            "type": "scattermap"
           }
          ],
          "scattermapbox": [
           {
            "marker": {
             "colorbar": {
              "outlinewidth": 0,
              "ticks": ""
             }
            },
            "type": "scattermapbox"
           }
          ],
          "scatterpolar": [
           {
            "marker": {
             "colorbar": {
              "outlinewidth": 0,
              "ticks": ""
             }
            },
            "type": "scatterpolar"
           }
          ],
          "scatterpolargl": [
           {
            "marker": {
             "colorbar": {
              "outlinewidth": 0,
              "ticks": ""
             }
            },
            "type": "scatterpolargl"
           }
          ],
          "scatterternary": [
           {
            "marker": {
             "colorbar": {
              "outlinewidth": 0,
              "ticks": ""
             }
            },
            "type": "scatterternary"
           }
          ],
          "surface": [
           {
            "colorbar": {
             "outlinewidth": 0,
             "ticks": ""
            },
            "colorscale": [
             [
              0,
              "#0d0887"
             ],
             [
              0.1111111111111111,
              "#46039f"
             ],
             [
              0.2222222222222222,
              "#7201a8"
             ],
             [
              0.3333333333333333,
              "#9c179e"
             ],
             [
              0.4444444444444444,
              "#bd3786"
             ],
             [
              0.5555555555555556,
              "#d8576b"
             ],
             [
              0.6666666666666666,
              "#ed7953"
             ],
             [
              0.7777777777777778,
              "#fb9f3a"
             ],
             [
              0.8888888888888888,
              "#fdca26"
             ],
             [
              1,
              "#f0f921"
             ]
            ],
            "type": "surface"
           }
          ],
          "table": [
           {
            "cells": {
             "fill": {
              "color": "#EBF0F8"
             },
             "line": {
              "color": "white"
             }
            },
            "header": {
             "fill": {
              "color": "#C8D4E3"
             },
             "line": {
              "color": "white"
             }
            },
            "type": "table"
           }
          ]
         },
         "layout": {
          "annotationdefaults": {
           "arrowcolor": "#2a3f5f",
           "arrowhead": 0,
           "arrowwidth": 1
          },
          "autotypenumbers": "strict",
          "coloraxis": {
           "colorbar": {
            "outlinewidth": 0,
            "ticks": ""
           }
          },
          "colorscale": {
           "diverging": [
            [
             0,
             "#8e0152"
            ],
            [
             0.1,
             "#c51b7d"
            ],
            [
             0.2,
             "#de77ae"
            ],
            [
             0.3,
             "#f1b6da"
            ],
            [
             0.4,
             "#fde0ef"
            ],
            [
             0.5,
             "#f7f7f7"
            ],
            [
             0.6,
             "#e6f5d0"
            ],
            [
             0.7,
             "#b8e186"
            ],
            [
             0.8,
             "#7fbc41"
            ],
            [
             0.9,
             "#4d9221"
            ],
            [
             1,
             "#276419"
            ]
           ],
           "sequential": [
            [
             0,
             "#0d0887"
            ],
            [
             0.1111111111111111,
             "#46039f"
            ],
            [
             0.2222222222222222,
             "#7201a8"
            ],
            [
             0.3333333333333333,
             "#9c179e"
            ],
            [
             0.4444444444444444,
             "#bd3786"
            ],
            [
             0.5555555555555556,
             "#d8576b"
            ],
            [
             0.6666666666666666,
             "#ed7953"
            ],
            [
             0.7777777777777778,
             "#fb9f3a"
            ],
            [
             0.8888888888888888,
             "#fdca26"
            ],
            [
             1,
             "#f0f921"
            ]
           ],
           "sequentialminus": [
            [
             0,
             "#0d0887"
            ],
            [
             0.1111111111111111,
             "#46039f"
            ],
            [
             0.2222222222222222,
             "#7201a8"
            ],
            [
             0.3333333333333333,
             "#9c179e"
            ],
            [
             0.4444444444444444,
             "#bd3786"
            ],
            [
             0.5555555555555556,
             "#d8576b"
            ],
            [
             0.6666666666666666,
             "#ed7953"
            ],
            [
             0.7777777777777778,
             "#fb9f3a"
            ],
            [
             0.8888888888888888,
             "#fdca26"
            ],
            [
             1,
             "#f0f921"
            ]
           ]
          },
          "colorway": [
           "#636efa",
           "#EF553B",
           "#00cc96",
           "#ab63fa",
           "#FFA15A",
           "#19d3f3",
           "#FF6692",
           "#B6E880",
           "#FF97FF",
           "#FECB52"
          ],
          "font": {
           "color": "#2a3f5f"
          },
          "geo": {
           "bgcolor": "white",
           "lakecolor": "white",
           "landcolor": "#E5ECF6",
           "showlakes": true,
           "showland": true,
           "subunitcolor": "white"
          },
          "hoverlabel": {
           "align": "left"
          },
          "hovermode": "closest",
          "mapbox": {
           "style": "light"
          },
          "paper_bgcolor": "white",
          "plot_bgcolor": "#E5ECF6",
          "polar": {
           "angularaxis": {
            "gridcolor": "white",
            "linecolor": "white",
            "ticks": ""
           },
           "bgcolor": "#E5ECF6",
           "radialaxis": {
            "gridcolor": "white",
            "linecolor": "white",
            "ticks": ""
           }
          },
          "scene": {
           "xaxis": {
            "backgroundcolor": "#E5ECF6",
            "gridcolor": "white",
            "gridwidth": 2,
            "linecolor": "white",
            "showbackground": true,
            "ticks": "",
            "zerolinecolor": "white"
           },
           "yaxis": {
            "backgroundcolor": "#E5ECF6",
            "gridcolor": "white",
            "gridwidth": 2,
            "linecolor": "white",
            "showbackground": true,
            "ticks": "",
            "zerolinecolor": "white"
           },
           "zaxis": {
            "backgroundcolor": "#E5ECF6",
            "gridcolor": "white",
            "gridwidth": 2,
            "linecolor": "white",
            "showbackground": true,
            "ticks": "",
            "zerolinecolor": "white"
           }
          },
          "shapedefaults": {
           "line": {
            "color": "#2a3f5f"
           }
          },
          "ternary": {
           "aaxis": {
            "gridcolor": "white",
            "linecolor": "white",
            "ticks": ""
           },
           "baxis": {
            "gridcolor": "white",
            "linecolor": "white",
            "ticks": ""
           },
           "bgcolor": "#E5ECF6",
           "caxis": {
            "gridcolor": "white",
            "linecolor": "white",
            "ticks": ""
           }
          },
          "title": {
           "x": 0.05
          },
          "xaxis": {
           "automargin": true,
           "gridcolor": "white",
           "linecolor": "white",
           "ticks": "",
           "title": {
            "standoff": 15
           },
           "zerolinecolor": "white",
           "zerolinewidth": 2
          },
          "yaxis": {
           "automargin": true,
           "gridcolor": "white",
           "linecolor": "white",
           "ticks": "",
           "title": {
            "standoff": 15
           },
           "zerolinecolor": "white",
           "zerolinewidth": 2
          }
         }
        },
        "title": {
         "text": "Passing quality ( 48)",
         "x": 0.5,
         "xanchor": "center"
        },
        "width": 1200,
        "xaxis": {
         "anchor": "y",
         "domain": [
          0,
          1
         ],
         "gridcolor": "white",
         "showgrid": true,
         "title": {
          "text": "passes_attempted/90"
         },
         "zeroline": false
        },
        "yaxis": {
         "anchor": "x",
         "domain": [
          0,
          1
         ],
         "gridcolor": "white",
         "showgrid": true,
         "title": {
          "text": "progressive_pass_rate"
         },
         "zeroline": false
        }
       }
      }
     },
     "metadata": {},
     "output_type": "display_data"
    }
   ],
   "source": [
    "# Filter data \n",
    "mask = (\n",
    "        (df_players['passes_attempted/90'] >= 40) & \\\n",
    "        (df_players['progressive_pass_rate'] >= 6) & \\\n",
    "        (df_players['pass_completion_%'] >= 85) & \\\n",
    "        (df_players['age'] <= 26) & \\\n",
    "        (df_players['id'].isin(targets))\n",
    "        \n",
    "        \n",
    ")\n",
    "\n",
    "df_targets = df_players[mask]\n",
    "\n",
    "scatter_plot(df_targets,\n",
    "             x_metric='passes_attempted/90', \n",
    "             y_metric='progressive_pass_rate',\n",
    "             z_metric='pass_completion_%',\n",
    "             title='Passing quality', \n",
    "             show_name_label=False\n",
    ")\n",
    "\n",
    "# Keep only players that fulfill criteria\n",
    "targets = list(df_targets['id'])"
   ]
  },
  {
   "cell_type": "markdown",
   "id": "db5f786f",
   "metadata": {},
   "source": [
    "## Possession Analysis"
   ]
  },
  {
   "cell_type": "code",
   "execution_count": 159,
   "id": "c382547d",
   "metadata": {},
   "outputs": [
    {
     "data": {
      "application/vnd.plotly.v1+json": {
       "config": {
        "plotlyServerURL": "https://plot.ly"
       },
       "data": [
        {
         "customdata": [
          [
           "Santiago Ascacíbar",
           "Estudiantes (LP)"
          ],
          [
           "Franco Moyano",
           "Argentinos Jrs."
          ],
          [
           "Leonel Picco",
           "Platense"
          ],
          [
           "Carlos Villalba",
           "Platense"
          ],
          [
           "Santiago Sosa",
           "Racing Club"
          ],
          [
           "Nicolás Garayalde",
           "Vélez"
          ],
          [
           "Franco Ibarra",
           "Rosario Central"
          ],
          [
           "Francisco Perruzzi",
           "San Lorenzo"
          ],
          [
           "Bautista Kociubinski",
           "Estudiantes (LP)"
          ],
          [
           "Mateo Seoane",
           "Talleres"
          ],
          [
           "Santiago Longo",
           "Belgrano"
          ],
          [
           "Ignacio Miramón",
           "Lille"
          ],
          [
           "Xaver Schlager",
           "RB Leipzig"
          ],
          [
           "Amadou Haïdara",
           "RB Leipzig"
          ],
          [
           "Albert Sambi Lokonga",
           "Luton"
          ],
          [
           "Thiago Maia",
           "FLA"
          ],
          [
           "Matheus Henrique",
           "FLA"
          ],
          [
           "Pedro Augusto",
           "FOR"
          ],
          [
           "Hugo Moura",
           "Athlético Paranaense"
          ],
          [
           "Luan",
           "SPO"
          ],
          [
           "Zé Gabriel",
           "Vasco da Gama"
          ],
          [
           "Jhonny Lucas",
           "GOI"
          ],
          [
           "André",
           "FLU"
          ],
          [
           "Pablo Maia",
           "SPO"
          ],
          [
           "Bruno Gomes",
           "CTB"
          ],
          [
           "Fabinho",
           "SEP"
          ],
          [
           "Martinelli",
           "FLU"
          ],
          [
           "Flynn Downes",
           "Southampton"
          ],
          [
           "Melle Meulensteen",
           "Vitesse"
          ],
          [
           "David Kasumu",
           "Huddersfield"
          ],
          [
           "Tommaso Pobega",
           "Milan"
          ],
          [
           "Michel Ndary Adopo",
           "Atalanta"
          ],
          [
           "Salis Abdul Samed",
           "Lens"
          ],
          [
           "Sivert Mannsverk",
           "Ajax"
          ],
          [
           "Mirko Topić",
           "Famalicão"
          ],
          [
           "Pepelu",
           "Valencia"
          ],
          [
           "Keidi Bare",
           "Coventry"
          ],
          [
           "Fran Beltrán",
           "Celta"
          ],
          [
           "Jesús Castillo",
           "Gil Vicente"
          ],
          [
           "Nicolás Acevedo",
           "BAH"
          ],
          [
           "Samú",
           "Mallorca"
          ],
          [
           "Gonçalo Franco",
           "Moreirense"
          ],
          [
           "Leandro Barreiro",
           "Mainz 05"
          ],
          [
           "William Clem",
           "FC København"
          ],
          [
           "Alexsander",
           "FLU"
          ],
          [
           "Emanuel Quinteros",
           "Godoy Cruz"
          ],
          [
           "Benjamín Schamine",
           "Defensa y Justicia"
          ],
          [
           "Kevin Ortiz",
           "Rosario Central"
          ]
         ],
         "hovertemplate": "<b>%{customdata[0]}</b><br><b>%{customdata[1]}</b><br><br>possession_lost/90: %{x}<br>possession_won/90: %{y}<br>poss+_/90: %{marker.color}<extra></extra>",
         "legendgroup": "",
         "marker": {
          "color": {
           "bdata": "MzMzMzMzA0ApXI/C9SgCQLgehetRuBJAmpmZmZmZB0AfhetRuB4fQArXo3A9ChdAuB6F61G4E0A9CtejcD0MQJqZmZmZmdk/AAAAAAAAFEDD9Shcj8IgQJqZmZmZmbk/mpmZmZmZ6T/D9Shcj8LVP+xRuB6F6/0/4XoUrkfhF0AfhetRuB4QQB+F61G4HvE/j8L1KFyPH0DsUbgehesLQK5H4XoUrg9AMzMzMzMzFUA9CtejcD0YQBSuR+F6FBNApHA9CtejG0AAAAAAAAAAQAAAAAAAAPg/rkfhehSu+z+PwvUoXI8EQAAAAAAAAARA16NwPQrX/z8fhetRuB75P8P1KFyPwv0/hetRuB6F2z89CtejcD36PxSuR+F6FO4/j8L1KFyPCEAAAAAAAAAKQMP1KFyPwgFAPQrXo3A9HECuR+F6FK73Pylcj8L1KAJApHA9Ctej8D8AAAAAAAACQOxRuB6F6w9AzczMzMzMF0DD9Shcj8IQQOxRuB6F6xhA",
           "dtype": "f8"
          },
          "coloraxis": "coloraxis",
          "size": 10,
          "symbol": "circle"
         },
         "mode": "markers",
         "name": "",
         "orientation": "v",
         "showlegend": false,
         "textfont": {
          "size": 10
         },
         "textposition": "top center",
         "type": "scatter",
         "x": {
          "bdata": "w/UoXI/CGEDsUbgehWsgQK5H4XoUrhtAmpmZmZmZHUDhehSuR2EjQFyPwvUoXBpAexSuR+F6HUC4HoXrUbggQOF6FK5HYSJASOF6FK5HHkBmZmZmZmYhQNejcD0K1x5AzczMzMzMG0BSuB6F69EgQNejcD0K1x5ArkfhehSuFkA9CtejcD0ZQD0K16NwvSBArkfhehSuFkAK16NwPQofQD0K16NwPR9AMzMzMzMzH0AK16NwPQoZQDMzMzMzMx1AexSuR+F6G0DsUbgehesdQGZmZmZmZiBA4XoUrkfhG0DsUbgehesWQMP1KFyPwh1A16NwPQrXG0A9CtejcL0gQNejcD0K1yFAmpmZmZkZIEC4HoXrUTgiQMP1KFyPwh5AzczMzMzMG0D2KFyPwvUUQDMzMzMzMx9APQrXo3A9GUCuR+F6FK4hQK5H4XoUrh1AFK5H4XoUIEDXo3A9CtcbQDMzMzMzMxxArkfhehSuHEAAAAAAAAAgQMP1KFyPwhlA",
          "dtype": "f8"
         },
         "xaxis": "x",
         "y": {
          "bdata": "rkfhehQuIUD2KFyPwvUkQDMzMzMzMydAMzMzMzOzJEC4HoXrUXgxQDMzMzMzsyhAmpmZmZmZKEBI4XoUrscnQK5H4XoULiNApHA9CtcjKUAUrkfhehQxQD0K16NwPR9AAAAAAAAAH0AAAAAAAIAhQClcj8L1KCNASOF6FK5HJ0CuR+F6FK4kQOF6FK5H4SJAH4XrUbgeK0AAAAAAAIAmQArXo3A9iidAMzMzMzMzKkCkcD0K16MoQKRwPQrXIyhAj8L1KFyPK0D2KFyPwvUiQGZmZmZmZiNAZmZmZmZmIUCamZmZmZkgQOF6FK5H4SNAZmZmZmbmIUDhehSuR+EjQI/C9ShcjyVA9ihcj8L1IEAAAAAAAIAlQMP1KFyPQiFACtejcD0KJEB7FK5H4fogQArXo3A9CiRAPQrXo3C9KkCkcD0K16MkQOF6FK5HYSNAKVyPwvUoIkDsUbgehWsiQBSuR+F6FCZAPQrXo3A9KkDhehSuR2EoQNejcD0KVylA",
          "dtype": "f8"
         },
         "yaxis": "y"
        }
       ],
       "layout": {
        "coloraxis": {
         "colorbar": {
          "title": {
           "text": "poss+_/90"
          }
         },
         "colorscale": [
          [
           0,
           "rgb(165,0,38)"
          ],
          [
           0.1,
           "rgb(215,48,39)"
          ],
          [
           0.2,
           "rgb(244,109,67)"
          ],
          [
           0.3,
           "rgb(253,174,97)"
          ],
          [
           0.4,
           "rgb(254,224,139)"
          ],
          [
           0.5,
           "rgb(255,255,191)"
          ],
          [
           0.6,
           "rgb(217,239,139)"
          ],
          [
           0.7,
           "rgb(166,217,106)"
          ],
          [
           0.8,
           "rgb(102,189,99)"
          ],
          [
           0.9,
           "rgb(26,152,80)"
          ],
          [
           1,
           "rgb(0,104,55)"
          ]
         ],
         "showscale": false
        },
        "height": 700,
        "legend": {
         "tracegroupgap": 0
        },
        "paper_bgcolor": "darkgray",
        "plot_bgcolor": "darkgray",
        "template": {
         "data": {
          "bar": [
           {
            "error_x": {
             "color": "#2a3f5f"
            },
            "error_y": {
             "color": "#2a3f5f"
            },
            "marker": {
             "line": {
              "color": "#E5ECF6",
              "width": 0.5
             },
             "pattern": {
              "fillmode": "overlay",
              "size": 10,
              "solidity": 0.2
             }
            },
            "type": "bar"
           }
          ],
          "barpolar": [
           {
            "marker": {
             "line": {
              "color": "#E5ECF6",
              "width": 0.5
             },
             "pattern": {
              "fillmode": "overlay",
              "size": 10,
              "solidity": 0.2
             }
            },
            "type": "barpolar"
           }
          ],
          "carpet": [
           {
            "aaxis": {
             "endlinecolor": "#2a3f5f",
             "gridcolor": "white",
             "linecolor": "white",
             "minorgridcolor": "white",
             "startlinecolor": "#2a3f5f"
            },
            "baxis": {
             "endlinecolor": "#2a3f5f",
             "gridcolor": "white",
             "linecolor": "white",
             "minorgridcolor": "white",
             "startlinecolor": "#2a3f5f"
            },
            "type": "carpet"
           }
          ],
          "choropleth": [
           {
            "colorbar": {
             "outlinewidth": 0,
             "ticks": ""
            },
            "type": "choropleth"
           }
          ],
          "contour": [
           {
            "colorbar": {
             "outlinewidth": 0,
             "ticks": ""
            },
            "colorscale": [
             [
              0,
              "#0d0887"
             ],
             [
              0.1111111111111111,
              "#46039f"
             ],
             [
              0.2222222222222222,
              "#7201a8"
             ],
             [
              0.3333333333333333,
              "#9c179e"
             ],
             [
              0.4444444444444444,
              "#bd3786"
             ],
             [
              0.5555555555555556,
              "#d8576b"
             ],
             [
              0.6666666666666666,
              "#ed7953"
             ],
             [
              0.7777777777777778,
              "#fb9f3a"
             ],
             [
              0.8888888888888888,
              "#fdca26"
             ],
             [
              1,
              "#f0f921"
             ]
            ],
            "type": "contour"
           }
          ],
          "contourcarpet": [
           {
            "colorbar": {
             "outlinewidth": 0,
             "ticks": ""
            },
            "type": "contourcarpet"
           }
          ],
          "heatmap": [
           {
            "colorbar": {
             "outlinewidth": 0,
             "ticks": ""
            },
            "colorscale": [
             [
              0,
              "#0d0887"
             ],
             [
              0.1111111111111111,
              "#46039f"
             ],
             [
              0.2222222222222222,
              "#7201a8"
             ],
             [
              0.3333333333333333,
              "#9c179e"
             ],
             [
              0.4444444444444444,
              "#bd3786"
             ],
             [
              0.5555555555555556,
              "#d8576b"
             ],
             [
              0.6666666666666666,
              "#ed7953"
             ],
             [
              0.7777777777777778,
              "#fb9f3a"
             ],
             [
              0.8888888888888888,
              "#fdca26"
             ],
             [
              1,
              "#f0f921"
             ]
            ],
            "type": "heatmap"
           }
          ],
          "histogram": [
           {
            "marker": {
             "pattern": {
              "fillmode": "overlay",
              "size": 10,
              "solidity": 0.2
             }
            },
            "type": "histogram"
           }
          ],
          "histogram2d": [
           {
            "colorbar": {
             "outlinewidth": 0,
             "ticks": ""
            },
            "colorscale": [
             [
              0,
              "#0d0887"
             ],
             [
              0.1111111111111111,
              "#46039f"
             ],
             [
              0.2222222222222222,
              "#7201a8"
             ],
             [
              0.3333333333333333,
              "#9c179e"
             ],
             [
              0.4444444444444444,
              "#bd3786"
             ],
             [
              0.5555555555555556,
              "#d8576b"
             ],
             [
              0.6666666666666666,
              "#ed7953"
             ],
             [
              0.7777777777777778,
              "#fb9f3a"
             ],
             [
              0.8888888888888888,
              "#fdca26"
             ],
             [
              1,
              "#f0f921"
             ]
            ],
            "type": "histogram2d"
           }
          ],
          "histogram2dcontour": [
           {
            "colorbar": {
             "outlinewidth": 0,
             "ticks": ""
            },
            "colorscale": [
             [
              0,
              "#0d0887"
             ],
             [
              0.1111111111111111,
              "#46039f"
             ],
             [
              0.2222222222222222,
              "#7201a8"
             ],
             [
              0.3333333333333333,
              "#9c179e"
             ],
             [
              0.4444444444444444,
              "#bd3786"
             ],
             [
              0.5555555555555556,
              "#d8576b"
             ],
             [
              0.6666666666666666,
              "#ed7953"
             ],
             [
              0.7777777777777778,
              "#fb9f3a"
             ],
             [
              0.8888888888888888,
              "#fdca26"
             ],
             [
              1,
              "#f0f921"
             ]
            ],
            "type": "histogram2dcontour"
           }
          ],
          "mesh3d": [
           {
            "colorbar": {
             "outlinewidth": 0,
             "ticks": ""
            },
            "type": "mesh3d"
           }
          ],
          "parcoords": [
           {
            "line": {
             "colorbar": {
              "outlinewidth": 0,
              "ticks": ""
             }
            },
            "type": "parcoords"
           }
          ],
          "pie": [
           {
            "automargin": true,
            "type": "pie"
           }
          ],
          "scatter": [
           {
            "fillpattern": {
             "fillmode": "overlay",
             "size": 10,
             "solidity": 0.2
            },
            "type": "scatter"
           }
          ],
          "scatter3d": [
           {
            "line": {
             "colorbar": {
              "outlinewidth": 0,
              "ticks": ""
             }
            },
            "marker": {
             "colorbar": {
              "outlinewidth": 0,
              "ticks": ""
             }
            },
            "type": "scatter3d"
           }
          ],
          "scattercarpet": [
           {
            "marker": {
             "colorbar": {
              "outlinewidth": 0,
              "ticks": ""
             }
            },
            "type": "scattercarpet"
           }
          ],
          "scattergeo": [
           {
            "marker": {
             "colorbar": {
              "outlinewidth": 0,
              "ticks": ""
             }
            },
            "type": "scattergeo"
           }
          ],
          "scattergl": [
           {
            "marker": {
             "colorbar": {
              "outlinewidth": 0,
              "ticks": ""
             }
            },
            "type": "scattergl"
           }
          ],
          "scattermap": [
           {
            "marker": {
             "colorbar": {
              "outlinewidth": 0,
              "ticks": ""
             }
            },
            "type": "scattermap"
           }
          ],
          "scattermapbox": [
           {
            "marker": {
             "colorbar": {
              "outlinewidth": 0,
              "ticks": ""
             }
            },
            "type": "scattermapbox"
           }
          ],
          "scatterpolar": [
           {
            "marker": {
             "colorbar": {
              "outlinewidth": 0,
              "ticks": ""
             }
            },
            "type": "scatterpolar"
           }
          ],
          "scatterpolargl": [
           {
            "marker": {
             "colorbar": {
              "outlinewidth": 0,
              "ticks": ""
             }
            },
            "type": "scatterpolargl"
           }
          ],
          "scatterternary": [
           {
            "marker": {
             "colorbar": {
              "outlinewidth": 0,
              "ticks": ""
             }
            },
            "type": "scatterternary"
           }
          ],
          "surface": [
           {
            "colorbar": {
             "outlinewidth": 0,
             "ticks": ""
            },
            "colorscale": [
             [
              0,
              "#0d0887"
             ],
             [
              0.1111111111111111,
              "#46039f"
             ],
             [
              0.2222222222222222,
              "#7201a8"
             ],
             [
              0.3333333333333333,
              "#9c179e"
             ],
             [
              0.4444444444444444,
              "#bd3786"
             ],
             [
              0.5555555555555556,
              "#d8576b"
             ],
             [
              0.6666666666666666,
              "#ed7953"
             ],
             [
              0.7777777777777778,
              "#fb9f3a"
             ],
             [
              0.8888888888888888,
              "#fdca26"
             ],
             [
              1,
              "#f0f921"
             ]
            ],
            "type": "surface"
           }
          ],
          "table": [
           {
            "cells": {
             "fill": {
              "color": "#EBF0F8"
             },
             "line": {
              "color": "white"
             }
            },
            "header": {
             "fill": {
              "color": "#C8D4E3"
             },
             "line": {
              "color": "white"
             }
            },
            "type": "table"
           }
          ]
         },
         "layout": {
          "annotationdefaults": {
           "arrowcolor": "#2a3f5f",
           "arrowhead": 0,
           "arrowwidth": 1
          },
          "autotypenumbers": "strict",
          "coloraxis": {
           "colorbar": {
            "outlinewidth": 0,
            "ticks": ""
           }
          },
          "colorscale": {
           "diverging": [
            [
             0,
             "#8e0152"
            ],
            [
             0.1,
             "#c51b7d"
            ],
            [
             0.2,
             "#de77ae"
            ],
            [
             0.3,
             "#f1b6da"
            ],
            [
             0.4,
             "#fde0ef"
            ],
            [
             0.5,
             "#f7f7f7"
            ],
            [
             0.6,
             "#e6f5d0"
            ],
            [
             0.7,
             "#b8e186"
            ],
            [
             0.8,
             "#7fbc41"
            ],
            [
             0.9,
             "#4d9221"
            ],
            [
             1,
             "#276419"
            ]
           ],
           "sequential": [
            [
             0,
             "#0d0887"
            ],
            [
             0.1111111111111111,
             "#46039f"
            ],
            [
             0.2222222222222222,
             "#7201a8"
            ],
            [
             0.3333333333333333,
             "#9c179e"
            ],
            [
             0.4444444444444444,
             "#bd3786"
            ],
            [
             0.5555555555555556,
             "#d8576b"
            ],
            [
             0.6666666666666666,
             "#ed7953"
            ],
            [
             0.7777777777777778,
             "#fb9f3a"
            ],
            [
             0.8888888888888888,
             "#fdca26"
            ],
            [
             1,
             "#f0f921"
            ]
           ],
           "sequentialminus": [
            [
             0,
             "#0d0887"
            ],
            [
             0.1111111111111111,
             "#46039f"
            ],
            [
             0.2222222222222222,
             "#7201a8"
            ],
            [
             0.3333333333333333,
             "#9c179e"
            ],
            [
             0.4444444444444444,
             "#bd3786"
            ],
            [
             0.5555555555555556,
             "#d8576b"
            ],
            [
             0.6666666666666666,
             "#ed7953"
            ],
            [
             0.7777777777777778,
             "#fb9f3a"
            ],
            [
             0.8888888888888888,
             "#fdca26"
            ],
            [
             1,
             "#f0f921"
            ]
           ]
          },
          "colorway": [
           "#636efa",
           "#EF553B",
           "#00cc96",
           "#ab63fa",
           "#FFA15A",
           "#19d3f3",
           "#FF6692",
           "#B6E880",
           "#FF97FF",
           "#FECB52"
          ],
          "font": {
           "color": "#2a3f5f"
          },
          "geo": {
           "bgcolor": "white",
           "lakecolor": "white",
           "landcolor": "#E5ECF6",
           "showlakes": true,
           "showland": true,
           "subunitcolor": "white"
          },
          "hoverlabel": {
           "align": "left"
          },
          "hovermode": "closest",
          "mapbox": {
           "style": "light"
          },
          "paper_bgcolor": "white",
          "plot_bgcolor": "#E5ECF6",
          "polar": {
           "angularaxis": {
            "gridcolor": "white",
            "linecolor": "white",
            "ticks": ""
           },
           "bgcolor": "#E5ECF6",
           "radialaxis": {
            "gridcolor": "white",
            "linecolor": "white",
            "ticks": ""
           }
          },
          "scene": {
           "xaxis": {
            "backgroundcolor": "#E5ECF6",
            "gridcolor": "white",
            "gridwidth": 2,
            "linecolor": "white",
            "showbackground": true,
            "ticks": "",
            "zerolinecolor": "white"
           },
           "yaxis": {
            "backgroundcolor": "#E5ECF6",
            "gridcolor": "white",
            "gridwidth": 2,
            "linecolor": "white",
            "showbackground": true,
            "ticks": "",
            "zerolinecolor": "white"
           },
           "zaxis": {
            "backgroundcolor": "#E5ECF6",
            "gridcolor": "white",
            "gridwidth": 2,
            "linecolor": "white",
            "showbackground": true,
            "ticks": "",
            "zerolinecolor": "white"
           }
          },
          "shapedefaults": {
           "line": {
            "color": "#2a3f5f"
           }
          },
          "ternary": {
           "aaxis": {
            "gridcolor": "white",
            "linecolor": "white",
            "ticks": ""
           },
           "baxis": {
            "gridcolor": "white",
            "linecolor": "white",
            "ticks": ""
           },
           "bgcolor": "#E5ECF6",
           "caxis": {
            "gridcolor": "white",
            "linecolor": "white",
            "ticks": ""
           }
          },
          "title": {
           "x": 0.05
          },
          "xaxis": {
           "automargin": true,
           "gridcolor": "white",
           "linecolor": "white",
           "ticks": "",
           "title": {
            "standoff": 15
           },
           "zerolinecolor": "white",
           "zerolinewidth": 2
          },
          "yaxis": {
           "automargin": true,
           "gridcolor": "white",
           "linecolor": "white",
           "ticks": "",
           "title": {
            "standoff": 15
           },
           "zerolinecolor": "white",
           "zerolinewidth": 2
          }
         }
        },
        "title": {
         "text": "Possesion quality ( 48)",
         "x": 0.5,
         "xanchor": "center"
        },
        "width": 1200,
        "xaxis": {
         "anchor": "y",
         "domain": [
          0,
          1
         ],
         "gridcolor": "white",
         "showgrid": true,
         "title": {
          "text": "possession_lost/90"
         },
         "zeroline": false
        },
        "yaxis": {
         "anchor": "x",
         "domain": [
          0,
          1
         ],
         "gridcolor": "white",
         "showgrid": true,
         "title": {
          "text": "possession_won/90"
         },
         "zeroline": false
        }
       }
      }
     },
     "metadata": {},
     "output_type": "display_data"
    }
   ],
   "source": [
    "# Full universe \n",
    "scatter_plot(df_targets,\n",
    "             x_metric='possession_lost/90', \n",
    "             y_metric='possession_won/90',\n",
    "             z_metric='poss+_/90',\n",
    "             title='Possesion quality', \n",
    "             show_name_label=False\n",
    ")"
   ]
  },
  {
   "cell_type": "code",
   "execution_count": 147,
   "id": "4647b74a",
   "metadata": {},
   "outputs": [
    {
     "data": {
      "application/vnd.plotly.v1+json": {
       "config": {
        "plotlyServerURL": "https://plot.ly"
       },
       "data": [
        {
         "customdata": [
          [
           "Houssem Mrezigue",
           "Vizela"
          ],
          [
           "Cheick Doucouré",
           "Crystal Palace"
          ],
          [
           "Nicolás Domínguez",
           "Nottm Forest"
          ],
          [
           "Exequiel Palacios",
           "Bayer 04"
          ],
          [
           "Santiago Ascacíbar",
           "Estudiantes (LP)"
          ],
          [
           "Franco Moyano",
           "Argentinos Jrs."
          ],
          [
           "Leonel Picco",
           "Platense"
          ],
          [
           "Juan Ignacio Méndez",
           "Vélez"
          ],
          [
           "Carlos Villalba",
           "Platense"
          ],
          [
           "Fernando Juárez",
           "Platense"
          ],
          [
           "Agustín Cardozo",
           "Tigre"
          ],
          [
           "Fausto Vera",
           "COR"
          ],
          [
           "Santiago Sosa",
           "Racing Club"
          ],
          [
           "Manuel Insaurralde",
           "Rosario Central"
          ],
          [
           "Nicolás Garayalde",
           "Vélez"
          ],
          [
           "Aníbal Moreno",
           "SEP"
          ],
          [
           "Franco Ibarra",
           "Rosario Central"
          ],
          [
           "Enzo Barrenechea",
           "Frosinone"
          ],
          [
           "Camilo Albornoz",
           "Atl. Tucumán"
          ],
          [
           "Francisco Perruzzi",
           "San Lorenzo"
          ],
          [
           "Mateo Cáceres",
           "Tigre"
          ],
          [
           "Bautista Kociubinski",
           "Estudiantes (LP)"
          ],
          [
           "Juan Carlos Portillo",
           "Talleres"
          ],
          [
           "Rodrigo Herrera",
           "Barracas Central"
          ],
          [
           "Mateo Seoane",
           "Talleres"
          ],
          [
           "Santiago Longo",
           "Belgrano"
          ],
          [
           "Alan Varela",
           "FC Porto"
          ],
          [
           "Bruno Leyes",
           "Godoy Cruz"
          ],
          [
           "Patricio Tanda",
           "Unión (SF)"
          ],
          [
           "Ezequiel Fernández",
           "Boca"
          ],
          [
           "Ignacio Miramón",
           "Lille"
          ],
          [
           "Xaver Schlager",
           "RB Leipzig"
          ],
          [
           "Dejan Ljubičić",
           "FC Köln"
          ],
          [
           "Amadou Haïdara",
           "RB Leipzig"
          ],
          [
           "Arno Verschueren",
           "Sparta Rotterdam"
          ],
          [
           "Casper De Norre",
           "Millwall"
          ],
          [
           "Siebe Horemans",
           "Excelsior"
          ],
          [
           "Albert Sambi Lokonga",
           "Luton"
          ],
          [
           "Thiago Maia",
           "FLA"
          ],
          [
           "Andrey",
           "CTB"
          ],
          [
           "Diego Costa",
           "SPO"
          ],
          [
           "Matheus Henrique",
           "FLA"
          ],
          [
           "Pedro Augusto",
           "FOR"
          ],
          [
           "Hugo Moura",
           "Athlético Paranaense"
          ],
          [
           "Luan",
           "SPO"
          ],
          [
           "Zé Gabriel",
           "Vasco da Gama"
          ],
          [
           "Jhonny Lucas",
           "GOI"
          ],
          [
           "Erick",
           "Athlético Paranaense"
          ],
          [
           "Edu",
           "GOI"
          ],
          [
           "Caio Alexandre",
           "BAH"
          ],
          [
           "Jadsom",
           "RB Bragantino"
          ],
          [
           "André",
           "FLU"
          ],
          [
           "Pablo Maia",
           "SPO"
          ],
          [
           "Bruno Gomes",
           "CTB"
          ],
          [
           "Fabinho",
           "SEP"
          ],
          [
           "Martinelli",
           "FLU"
          ],
          [
           "Kristijan Jakić",
           "Augsburg"
          ],
          [
           "Bartol Franjić",
           "Darmstadt 98"
          ],
          [
           "Mory Gbané",
           "Gil Vicente"
          ],
          [
           "Alex Král",
           "Union Berlin"
          ],
          [
           "Morten Hjulmand",
           "Sporting CP"
          ],
          [
           "Ben Sheaf",
           "Coventry"
          ],
          [
           "Sean Longstaff",
           "Newcastle"
          ],
          [
           "Sam Field",
           "QPR"
          ],
          [
           "Pierre Ekwah",
           "Sunderland"
          ],
          [
           "Flynn Downes",
           "Southampton"
          ],
          [
           "Andy Rinomhota",
           "Rotherham"
          ],
          [
           "Melle Meulensteen",
           "Vitesse"
          ],
          [
           "David Kasumu",
           "Huddersfield"
          ],
          [
           "Ethan Ampadu",
           "Leeds"
          ],
          [
           "Regan Slater",
           "Hull"
          ],
          [
           "Adam Randell",
           "Plymouth"
          ],
          [
           "Dan Neil",
           "Sunderland"
          ],
          [
           "Philippe Sandler",
           "N.E.C. Nijmegen"
          ],
          [
           "Pablo Rosario",
           "Nice"
          ],
          [
           "Quinten Timber",
           "Feyenoord"
          ],
          [
           "Michal Sadílek",
           "FC Twente"
          ],
          [
           "Lutsharel Geertruida",
           "Feyenoord"
          ],
          [
           "Mats Wieffer",
           "Feyenoord"
          ],
          [
           "Ryan Gravenberch",
           "Leicester"
          ],
          [
           "Kenneth Taylor",
           "Ajax"
          ],
          [
           "Eliano Reijnders",
           "PEC Zwolle"
          ],
          [
           "Thomas Beelen",
           "Feyenoord"
          ],
          [
           "Youri Regeer",
           "FC Twente"
          ],
          [
           "Ryan Flamingo",
           "FC Utrecht"
          ],
          [
           "Calvin Twigt",
           "FC Volendam"
          ],
          [
           "Lamare Bogarde",
           "Preston"
          ],
          [
           "Serano Seymor",
           "Excelsior"
          ],
          [
           "Daniel Boloca",
           "Sassuolo"
          ],
          [
           "Tommaso Pobega",
           "Milan"
          ],
          [
           "Samuele Ricci",
           "Torino"
          ],
          [
           "Michel Ndary Adopo",
           "Atalanta"
          ],
          [
           "Yuta Nakayama",
           "Huddersfield"
          ],
          [
           "Ibrahim Sangaré",
           "Nottm Forest"
          ],
          [
           "Boubacar Kamara",
           "Aston Villa"
          ],
          [
           "Boubakary Soumaré",
           "Sevilla"
          ],
          [
           "Youssouf Fofana",
           "Monaco"
          ],
          [
           "Manu Koné",
           "Mönchengladbach"
          ],
          [
           "Joris Chotard",
           "Montpellier"
          ],
          [
           "Tom Lacoux",
           "Famalicão"
          ],
          [
           "Salis Abdul Samed",
           "Lens"
          ],
          [
           "Edson Álvarez",
           "West Ham"
          ],
          [
           "Kristoffer Ajer",
           "Brentford"
          ],
          [
           "Sivert Mannsverk",
           "Ajax"
          ],
          [
           "Eboué Kouassi",
           "Arouca"
          ],
          [
           "Ali McCann",
           "Preston"
          ],
          [
           "Ilija Vukotić",
           "Boavista"
          ],
          [
           "Mirko Topić",
           "Famalicão"
          ],
          [
           "Pedro Chirivella",
           "Nantes"
          ],
          [
           "Pepelu",
           "Valencia"
          ],
          [
           "Keidi Bare",
           "Coventry"
          ],
          [
           "Fran Beltrán",
           "Celta"
          ],
          [
           "Edgar",
           "Almería"
          ],
          [
           "Hugo Guillamón",
           "Valencia"
          ],
          [
           "Jon Moncayola",
           "Osasuna"
          ],
          [
           "Iker Muñoz",
           "Osasuna"
          ],
          [
           "Tyler Adams",
           "Bournemouth"
          ],
          [
           "Jesús Castillo",
           "Gil Vicente"
          ],
          [
           "Manuel Ugarte",
           "PSG"
          ],
          [
           "Nicolás Acevedo",
           "BAH"
          ],
          [
           "Jota",
           "Vizela"
          ],
          [
           "Samú",
           "Mallorca"
          ],
          [
           "Ibrahima Camará",
           "Boavista"
          ],
          [
           "Gonçalo Franco",
           "Moreirense"
          ],
          [
           "Moisés Caicedo",
           "Chelsea"
          ],
          [
           "Tom Krauß",
           "Mainz 05"
          ],
          [
           "Elvis Rexhbecaj",
           "Augsburg"
          ],
          [
           "Leandro Barreiro",
           "Mainz 05"
          ],
          [
           "Eric Martel",
           "FC Köln"
          ],
          [
           "Amadou Onana",
           "Everton"
          ],
          [
           "Michael Akoto",
           "AGF"
          ],
          [
           "Jens Cajuste",
           "Napoli"
          ],
          [
           "William Clem",
           "FC København"
          ],
          [
           "Guilherme Madruga",
           "CUI"
          ],
          [
           "Stefano Moreyra",
           "Instituto"
          ],
          [
           "Manuel García",
           "Central Córdoba (SdE)"
          ],
          [
           "Oussama Targhalline",
           "Havre AC"
          ],
          [
           "Elián Irala",
           "San Lorenzo"
          ],
          [
           "Zé Carlos",
           "Vit. Guimarães"
          ],
          [
           "Alexsander",
           "FLU"
          ],
          [
           "Emanuel Quinteros",
           "Godoy Cruz"
          ],
          [
           "Nathan",
           "GOI"
          ],
          [
           "Igor Jesus",
           "FLA"
          ],
          [
           "Negrucci",
           "SPO"
          ],
          [
           "Kevin López",
           "Defensa y Justicia"
          ],
          [
           "Kobbie Mainoo",
           "Man Utd"
          ],
          [
           "Benjamín Schamine",
           "Defensa y Justicia"
          ],
          [
           "Kevin Ortiz",
           "Rosario Central"
          ],
          [
           "Archie Gray",
           "Leeds"
          ],
          [
           "Gabriel Moscardo",
           "COR"
          ],
          [
           "Joaquín Mosqueira",
           "Unión (SF)"
          ],
          [
           "César Amarilla",
           "Rosario Central"
          ],
          [
           "Lucas López",
           "Instituto"
          ]
         ],
         "hovertemplate": "<b>%{customdata[0]}</b><br><b>%{customdata[1]}</b><br><br>possession_lost/90: %{x}<br>possession_won/90: %{y}<br>poss+_/90: %{marker.color}<extra></extra>",
         "legendgroup": "",
         "marker": {
          "color": {
           "bdata": "PQrXo3A9AkCPwvUoXI8GQHE9CtejcAVAw/UoXI/C5T8zMzMzMzMDQClcj8L1KAJAuB6F61G4EkApXI/C9SgZQJqZmZmZmQdArkfhehSuC0AfhetRuB4ZQMP1KFyPwhdAH4XrUbgeH0CkcD0K16P4PwrXo3A9ChdA7FG4HoXrwT+4HoXrUbgTQI/C9ShcjxNAhetRuB6F8z89CtejcD0MQI/C9Shcj/4/mpmZmZmZ2T8UrkfhehQRQEjhehSuR/0/AAAAAAAAFEDD9Shcj8IgQLgehetRuO4/4XoUrkfhHUAAAAAAAAAVQGZmZmZmZgZAmpmZmZmZuT+amZmZmZnpP+F6FK5H4eI/w/UoXI/C1T/D9Shcj8LtPxSuR+F6FPo/cT0K16NwFEDsUbgehev9P+F6FK5H4RdAzczMzMzMHEBcj8L1KFweQB+F61G4HhBAH4XrUbge8T+PwvUoXI8fQOxRuB6F6wtArkfhehSuD0AzMzMzMzMVQFyPwvUoXBBAXI/C9ShcGEAfhetRuB7xP1yPwvUoXBdAPQrXo3A9GEAUrkfhehQTQKRwPQrXoxtAAAAAAAAAAEAAAAAAAAD4P/YoXI/C9Q5AMzMzMzMzA0BxPQrXo3D1P9ejcD0K1wlAw/UoXI/C5T97FK5H4Xr4P7gehetRuPY/7FG4HoXr+T9SuB6F61HwP65H4XoUrvs/uB6F61G4BkCPwvUoXI8EQAAAAAAAAARAuB6F61G4vj/sUbgehevpP3E9CtejcPk/MzMzMzMzA0CPwvUoXI8UQD0K16NwPRBApHA9CtejBEAfhetRuB4LQB+F61G4HgVAAAAAAAAA6D/Xo3A9CtcFQAAAAAAAAAAAZmZmZmZm5j+F61G4HoUWQAAAAAAAAPg/FK5H4XoUEkA9CtejcD3aP8P1KFyPwv0/mpmZmZmZEED2KFyPwvXwP9ejcD0K1/8/4XoUrkfh6j8fhetRuB75P2ZmZmZmZgxAj8L1KFyPBEBI4XoUrkf5P/YoXI/C9Q5Aj8L1KFyP8j89CtejcD0CQPYoXI/C9QhAKVyPwvUoCEDD9Shcj8L9PwAAAAAAAAJAUrgehetREkCF61G4HoXbP7gehetRuP4/PQrXo3A9AEAfhetRuB71Pz0K16NwPfo/AAAAAAAA4D8UrkfhehTuP4/C9ShcjwhAAAAAAAAACkBmZmZmZmb2P1yPwvUoXAFAexSuR+F6/D9mZmZmZmb6P/YoXI/C9QxAw/UoXI/CAUCkcD0K16P0Pz0K16NwPRxA4XoUrkfhFkCuR+F6FK73Pylcj8L1KLw/KVyPwvUoAkAAAAAAAAAAAB+F61G4HgVACtejcD0K/z+kcD0K16PwPwAAAAAAABJAXI/C9Shc+z9mZmZmZmYWQFK4HoXrUQJAAAAAAAAAAkDD9Shcj8L5Pylcj8L1KOw/7FG4HoXrGkAAAAAAAAAAABSuR+F6FABApHA9Ctej/D/sUbgehesPQM3MzMzMzBdArkfhehSuGEAK16NwPQoFQI/C9Shcjx1A7FG4HoXrE0ApXI/C9SjcP8P1KFyPwhBA7FG4HoXrGEDhehSuR+HKP5qZmZmZmdk/4XoUrkfhFkD2KFyPwvUUQI/C9ShcjwhA",
           "dtype": "f8"
          },
          "coloraxis": "coloraxis",
          "size": 10,
          "symbol": "circle"
         },
         "mode": "markers",
         "name": "",
         "orientation": "v",
         "showlegend": false,
         "textfont": {
          "size": 10
         },
         "textposition": "top center",
         "type": "scatter",
         "x": {
          "bdata": "H4XrUbgeFkCkcD0K16MdQDMzMzMzMxlAAAAAAAAAHEDD9Shcj8IYQOxRuB6FayBArkfhehSuG0D2KFyPwvUYQJqZmZmZmR1AMzMzMzMzIED2KFyPwvUbQM3MzMzMzBlA4XoUrkdhI0DhehSuR+EjQFyPwvUoXBpAAAAAAACAIkB7FK5H4XodQFyPwvUoXBhAw/UoXI/CHEC4HoXrUbggQFK4HoXrUR9A4XoUrkdhIkApXI/C9agjQFyPwvUoXCFASOF6FK5HHkBmZmZmZmYhQI/C9ShcjyBAmpmZmZmZFUDD9Shcj8IYQD0K16NwPRtA16NwPQrXHkDNzMzMzMwbQMP1KFyPwiNAUrgehevRIEBI4XoUrkcgQI/C9ShcDyJAAAAAAAAAEEDXo3A9CtceQK5H4XoUrhZAAAAAAAAAGUDD9Shcj8ISQD0K16NwPRlAPQrXo3C9IECuR+F6FK4WQArXo3A9Ch9APQrXo3A9H0AzMzMzMzMfQGZmZmZm5iBAFK5H4XoUF0C4HoXrUTggQEjhehSuRxRACtejcD0KGUAzMzMzMzMdQHsUrkfhehtA7FG4HoXrHUBmZmZmZmYgQPYoXI/C9RdAFK5H4XoUHkAK16NwPYohQFyPwvUoXBpAexSuR+F6HEBxPQrXo/AhQAAAAAAAAB9AhetRuB6FG0CamZmZmZkeQOF6FK5H4RtArkfhehSuGUDsUbgehesWQMP1KFyPwh1AmpmZmZkZIkAfhetRuB4fQJqZmZmZmRtAj8L1KFyPFkBI4XoUrkcVQK5H4XoUrhNA4XoUrkfhHUCkcD0K16MYQHsUrkfheiFA4XoUrkfhIkBxPQrXo3AYQIXrUbgehSFAKVyPwvUoIkCuR+F6FK4SQFyPwvUoXB1AFK5H4XoUG0A9CtejcD0eQPYoXI/C9R1AZmZmZmZmE0AUrkfhehQgQNejcD0K1xtAUrgehevRIEA9CtejcL0gQMP1KFyPwhtAzczMzMzMGkC4HoXrUbghQGZmZmZmZhpA7FG4HoXrH0BI4XoUrkcYQPYoXI/C9SBA9ihcj8L1G0DXo3A9CtchQGZmZmZmZh1ApHA9CtejFUCamZmZmRkgQAAAAAAAABlAzczMzMzMHkC4HoXrUbgZQLgehetROCJArkfhehSuIEDD9Shcj8IeQM3MzMzMzBtA9ihcj8L1FECuR+F6FK4iQArXo3A9ChtA4XoUrkdhIkDsUbgehesZQBSuR+F6FBpAMzMzMzMzH0B7FK5H4XocQD0K16NwPRlA7FG4HoXrE0CuR+F6FK4hQEjhehSuRyJArkfhehSuHUDNzMzMzEwiQGZmZmZmZiBAexSuR+F6HUAUrkfhehQgQAAAAAAAABdAcT0K16PwIUDXo3A9CtcaQEjhehSuRx5A16NwPQrXG0CuR+F6FK4XQPYoXI/C9SBAw/UoXI/CFUApXI/C9SgiQAAAAAAAABxAAAAAAAAAG0AzMzMzMzMcQK5H4XoUrhxAmpmZmZmZHECamZmZmZkdQEjhehSuRxpAFK5H4XoUHkDsUbgehesgQAAAAAAAACBAw/UoXI/CGUDNzMzMzEwjQArXo3A9iiFAFK5H4XoUG0BSuB6F61EVQDMzMzMzMx9A",
          "dtype": "f8"
         },
         "xaxis": "x",
         "y": {
          "bdata": "PQrXo3A9H0D2KFyPwnUkQPYoXI/C9SFAuB6F61G4HkCuR+F6FC4hQPYoXI/C9SRAMzMzMzMzJ0CPwvUoXA8pQDMzMzMzsyRAH4XrUbgeJ0AK16NwPYoqQEjhehSuxyhAuB6F61F4MUD2KFyPwvUmQDMzMzMzsyhASOF6FK7HIkCamZmZmZkoQPYoXI/C9SVAUrgehevRIEBI4XoUrscnQHsUrkfheiNArkfhehQuI0AzMzMzMzMsQIXrUbgeBSVApHA9CtcjKUAUrkfhehQxQHsUrkfheiJAPQrXo3C9KUDhehSuR+EmQLgehetROCNAPQrXo3A9H0AAAAAAAAAfQHE9Ctej8CRAAAAAAACAIUCkcD0K1yMiQFK4HoXrUSVAuB6F61E4IkApXI/C9SgjQEjhehSuRydAZmZmZmbmKkCPwvUoXI8oQK5H4XoUriRA4XoUrkfhIkAfhetRuB4rQAAAAAAAgCZACtejcD2KJ0AzMzMzMzMqQBSuR+F6FClAuB6F61G4J0Bcj8L1KFwiQFK4HoXr0SVApHA9CtejKECkcD0K1yMoQI/C9ShcjytA9ihcj8L1IkBmZmZmZmYjQLgehetRuCNA16NwPQrXI0C4HoXrUTgkQKRwPQrXoyNAMzMzMzMzH0AAAAAAAAAlQNejcD0KVyJAAAAAAAAAIUDXo3A9ClchQGZmZmZmZiFAhetRuB6FIkCamZmZmZkgQOF6FK5H4SNA16NwPQpXIkCuR+F6FC4hQHsUrkfh+iBAFK5H4XoUIEDsUbgeheskQPYoXI/C9SFAmpmZmZkZJECamZmZmRkjQMP1KFyPwiZA4XoUrkdhJECuR+F6FK4hQIXrUbgehSFAj8L1KFyPI0CamZmZmZkkQK5H4XoUriFAFK5H4XqUJkDhehSuR+EfQDMzMzMzsyJAAAAAAAAAIkAzMzMzMzMiQGZmZmZm5iFAAAAAAACAIkDhehSuR+EjQHsUrkfh+iRACtejcD2KIkDhehSuR+EkQHE9Ctej8CRASOF6FK5HIkAzMzMzM7MgQDMzMzMzMydAhetRuB4FJECPwvUoXI8lQDMzMzMzMyNAexSuR+H6I0D2KFyPwvUgQNejcD0KVyBA9ihcj8J1I0AAAAAAAAAfQAAAAAAAgCVArkfhehSuIUDD9Shcj0IhQArXo3A9CiRAexSuR+H6IEB7FK5H4XolQFyPwvUo3CFAcT0K16PwJUDD9Shcj0IgQEjhehSuRyRACtejcD0KJEBSuB6F69EgQD0K16NwvSpAZmZmZmZmJUCkcD0K16MkQAAAAAAAgCJA4XoUrkdhI0DNzMzMzEwiQK5H4XoUriVAH4XrUbieIkApXI/C9SgiQAAAAAAAgCRAXI/C9ShcJUAfhetRuJ4oQLgehetRuCNA7FG4HoVrIkAfhetRuB4eQLgehetRuCJA16NwPQpXKEApXI/C9SgiQIXrUbgeBSJAFK5H4XoUIUAUrkfhehQmQD0K16NwPSpApHA9CtejKkCPwvUoXA8kQOxRuB6F6ytAAAAAAAAAKUDNzMzMzMwhQOF6FK5HYShA16NwPQpXKUC4HoXrUbgjQNejcD0KVyJAexSuR+H6KECkcD0K1yMlQD0K16NwvSVA",
          "dtype": "f8"
         },
         "yaxis": "y"
        }
       ],
       "layout": {
        "coloraxis": {
         "colorbar": {
          "title": {
           "text": "poss+_/90"
          }
         },
         "colorscale": [
          [
           0,
           "rgb(165,0,38)"
          ],
          [
           0.1,
           "rgb(215,48,39)"
          ],
          [
           0.2,
           "rgb(244,109,67)"
          ],
          [
           0.3,
           "rgb(253,174,97)"
          ],
          [
           0.4,
           "rgb(254,224,139)"
          ],
          [
           0.5,
           "rgb(255,255,191)"
          ],
          [
           0.6,
           "rgb(217,239,139)"
          ],
          [
           0.7,
           "rgb(166,217,106)"
          ],
          [
           0.8,
           "rgb(102,189,99)"
          ],
          [
           0.9,
           "rgb(26,152,80)"
          ],
          [
           1,
           "rgb(0,104,55)"
          ]
         ],
         "showscale": false
        },
        "height": 700,
        "legend": {
         "tracegroupgap": 0
        },
        "paper_bgcolor": "darkgray",
        "plot_bgcolor": "darkgray",
        "template": {
         "data": {
          "bar": [
           {
            "error_x": {
             "color": "#2a3f5f"
            },
            "error_y": {
             "color": "#2a3f5f"
            },
            "marker": {
             "line": {
              "color": "#E5ECF6",
              "width": 0.5
             },
             "pattern": {
              "fillmode": "overlay",
              "size": 10,
              "solidity": 0.2
             }
            },
            "type": "bar"
           }
          ],
          "barpolar": [
           {
            "marker": {
             "line": {
              "color": "#E5ECF6",
              "width": 0.5
             },
             "pattern": {
              "fillmode": "overlay",
              "size": 10,
              "solidity": 0.2
             }
            },
            "type": "barpolar"
           }
          ],
          "carpet": [
           {
            "aaxis": {
             "endlinecolor": "#2a3f5f",
             "gridcolor": "white",
             "linecolor": "white",
             "minorgridcolor": "white",
             "startlinecolor": "#2a3f5f"
            },
            "baxis": {
             "endlinecolor": "#2a3f5f",
             "gridcolor": "white",
             "linecolor": "white",
             "minorgridcolor": "white",
             "startlinecolor": "#2a3f5f"
            },
            "type": "carpet"
           }
          ],
          "choropleth": [
           {
            "colorbar": {
             "outlinewidth": 0,
             "ticks": ""
            },
            "type": "choropleth"
           }
          ],
          "contour": [
           {
            "colorbar": {
             "outlinewidth": 0,
             "ticks": ""
            },
            "colorscale": [
             [
              0,
              "#0d0887"
             ],
             [
              0.1111111111111111,
              "#46039f"
             ],
             [
              0.2222222222222222,
              "#7201a8"
             ],
             [
              0.3333333333333333,
              "#9c179e"
             ],
             [
              0.4444444444444444,
              "#bd3786"
             ],
             [
              0.5555555555555556,
              "#d8576b"
             ],
             [
              0.6666666666666666,
              "#ed7953"
             ],
             [
              0.7777777777777778,
              "#fb9f3a"
             ],
             [
              0.8888888888888888,
              "#fdca26"
             ],
             [
              1,
              "#f0f921"
             ]
            ],
            "type": "contour"
           }
          ],
          "contourcarpet": [
           {
            "colorbar": {
             "outlinewidth": 0,
             "ticks": ""
            },
            "type": "contourcarpet"
           }
          ],
          "heatmap": [
           {
            "colorbar": {
             "outlinewidth": 0,
             "ticks": ""
            },
            "colorscale": [
             [
              0,
              "#0d0887"
             ],
             [
              0.1111111111111111,
              "#46039f"
             ],
             [
              0.2222222222222222,
              "#7201a8"
             ],
             [
              0.3333333333333333,
              "#9c179e"
             ],
             [
              0.4444444444444444,
              "#bd3786"
             ],
             [
              0.5555555555555556,
              "#d8576b"
             ],
             [
              0.6666666666666666,
              "#ed7953"
             ],
             [
              0.7777777777777778,
              "#fb9f3a"
             ],
             [
              0.8888888888888888,
              "#fdca26"
             ],
             [
              1,
              "#f0f921"
             ]
            ],
            "type": "heatmap"
           }
          ],
          "histogram": [
           {
            "marker": {
             "pattern": {
              "fillmode": "overlay",
              "size": 10,
              "solidity": 0.2
             }
            },
            "type": "histogram"
           }
          ],
          "histogram2d": [
           {
            "colorbar": {
             "outlinewidth": 0,
             "ticks": ""
            },
            "colorscale": [
             [
              0,
              "#0d0887"
             ],
             [
              0.1111111111111111,
              "#46039f"
             ],
             [
              0.2222222222222222,
              "#7201a8"
             ],
             [
              0.3333333333333333,
              "#9c179e"
             ],
             [
              0.4444444444444444,
              "#bd3786"
             ],
             [
              0.5555555555555556,
              "#d8576b"
             ],
             [
              0.6666666666666666,
              "#ed7953"
             ],
             [
              0.7777777777777778,
              "#fb9f3a"
             ],
             [
              0.8888888888888888,
              "#fdca26"
             ],
             [
              1,
              "#f0f921"
             ]
            ],
            "type": "histogram2d"
           }
          ],
          "histogram2dcontour": [
           {
            "colorbar": {
             "outlinewidth": 0,
             "ticks": ""
            },
            "colorscale": [
             [
              0,
              "#0d0887"
             ],
             [
              0.1111111111111111,
              "#46039f"
             ],
             [
              0.2222222222222222,
              "#7201a8"
             ],
             [
              0.3333333333333333,
              "#9c179e"
             ],
             [
              0.4444444444444444,
              "#bd3786"
             ],
             [
              0.5555555555555556,
              "#d8576b"
             ],
             [
              0.6666666666666666,
              "#ed7953"
             ],
             [
              0.7777777777777778,
              "#fb9f3a"
             ],
             [
              0.8888888888888888,
              "#fdca26"
             ],
             [
              1,
              "#f0f921"
             ]
            ],
            "type": "histogram2dcontour"
           }
          ],
          "mesh3d": [
           {
            "colorbar": {
             "outlinewidth": 0,
             "ticks": ""
            },
            "type": "mesh3d"
           }
          ],
          "parcoords": [
           {
            "line": {
             "colorbar": {
              "outlinewidth": 0,
              "ticks": ""
             }
            },
            "type": "parcoords"
           }
          ],
          "pie": [
           {
            "automargin": true,
            "type": "pie"
           }
          ],
          "scatter": [
           {
            "fillpattern": {
             "fillmode": "overlay",
             "size": 10,
             "solidity": 0.2
            },
            "type": "scatter"
           }
          ],
          "scatter3d": [
           {
            "line": {
             "colorbar": {
              "outlinewidth": 0,
              "ticks": ""
             }
            },
            "marker": {
             "colorbar": {
              "outlinewidth": 0,
              "ticks": ""
             }
            },
            "type": "scatter3d"
           }
          ],
          "scattercarpet": [
           {
            "marker": {
             "colorbar": {
              "outlinewidth": 0,
              "ticks": ""
             }
            },
            "type": "scattercarpet"
           }
          ],
          "scattergeo": [
           {
            "marker": {
             "colorbar": {
              "outlinewidth": 0,
              "ticks": ""
             }
            },
            "type": "scattergeo"
           }
          ],
          "scattergl": [
           {
            "marker": {
             "colorbar": {
              "outlinewidth": 0,
              "ticks": ""
             }
            },
            "type": "scattergl"
           }
          ],
          "scattermap": [
           {
            "marker": {
             "colorbar": {
              "outlinewidth": 0,
              "ticks": ""
             }
            },
            "type": "scattermap"
           }
          ],
          "scattermapbox": [
           {
            "marker": {
             "colorbar": {
              "outlinewidth": 0,
              "ticks": ""
             }
            },
            "type": "scattermapbox"
           }
          ],
          "scatterpolar": [
           {
            "marker": {
             "colorbar": {
              "outlinewidth": 0,
              "ticks": ""
             }
            },
            "type": "scatterpolar"
           }
          ],
          "scatterpolargl": [
           {
            "marker": {
             "colorbar": {
              "outlinewidth": 0,
              "ticks": ""
             }
            },
            "type": "scatterpolargl"
           }
          ],
          "scatterternary": [
           {
            "marker": {
             "colorbar": {
              "outlinewidth": 0,
              "ticks": ""
             }
            },
            "type": "scatterternary"
           }
          ],
          "surface": [
           {
            "colorbar": {
             "outlinewidth": 0,
             "ticks": ""
            },
            "colorscale": [
             [
              0,
              "#0d0887"
             ],
             [
              0.1111111111111111,
              "#46039f"
             ],
             [
              0.2222222222222222,
              "#7201a8"
             ],
             [
              0.3333333333333333,
              "#9c179e"
             ],
             [
              0.4444444444444444,
              "#bd3786"
             ],
             [
              0.5555555555555556,
              "#d8576b"
             ],
             [
              0.6666666666666666,
              "#ed7953"
             ],
             [
              0.7777777777777778,
              "#fb9f3a"
             ],
             [
              0.8888888888888888,
              "#fdca26"
             ],
             [
              1,
              "#f0f921"
             ]
            ],
            "type": "surface"
           }
          ],
          "table": [
           {
            "cells": {
             "fill": {
              "color": "#EBF0F8"
             },
             "line": {
              "color": "white"
             }
            },
            "header": {
             "fill": {
              "color": "#C8D4E3"
             },
             "line": {
              "color": "white"
             }
            },
            "type": "table"
           }
          ]
         },
         "layout": {
          "annotationdefaults": {
           "arrowcolor": "#2a3f5f",
           "arrowhead": 0,
           "arrowwidth": 1
          },
          "autotypenumbers": "strict",
          "coloraxis": {
           "colorbar": {
            "outlinewidth": 0,
            "ticks": ""
           }
          },
          "colorscale": {
           "diverging": [
            [
             0,
             "#8e0152"
            ],
            [
             0.1,
             "#c51b7d"
            ],
            [
             0.2,
             "#de77ae"
            ],
            [
             0.3,
             "#f1b6da"
            ],
            [
             0.4,
             "#fde0ef"
            ],
            [
             0.5,
             "#f7f7f7"
            ],
            [
             0.6,
             "#e6f5d0"
            ],
            [
             0.7,
             "#b8e186"
            ],
            [
             0.8,
             "#7fbc41"
            ],
            [
             0.9,
             "#4d9221"
            ],
            [
             1,
             "#276419"
            ]
           ],
           "sequential": [
            [
             0,
             "#0d0887"
            ],
            [
             0.1111111111111111,
             "#46039f"
            ],
            [
             0.2222222222222222,
             "#7201a8"
            ],
            [
             0.3333333333333333,
             "#9c179e"
            ],
            [
             0.4444444444444444,
             "#bd3786"
            ],
            [
             0.5555555555555556,
             "#d8576b"
            ],
            [
             0.6666666666666666,
             "#ed7953"
            ],
            [
             0.7777777777777778,
             "#fb9f3a"
            ],
            [
             0.8888888888888888,
             "#fdca26"
            ],
            [
             1,
             "#f0f921"
            ]
           ],
           "sequentialminus": [
            [
             0,
             "#0d0887"
            ],
            [
             0.1111111111111111,
             "#46039f"
            ],
            [
             0.2222222222222222,
             "#7201a8"
            ],
            [
             0.3333333333333333,
             "#9c179e"
            ],
            [
             0.4444444444444444,
             "#bd3786"
            ],
            [
             0.5555555555555556,
             "#d8576b"
            ],
            [
             0.6666666666666666,
             "#ed7953"
            ],
            [
             0.7777777777777778,
             "#fb9f3a"
            ],
            [
             0.8888888888888888,
             "#fdca26"
            ],
            [
             1,
             "#f0f921"
            ]
           ]
          },
          "colorway": [
           "#636efa",
           "#EF553B",
           "#00cc96",
           "#ab63fa",
           "#FFA15A",
           "#19d3f3",
           "#FF6692",
           "#B6E880",
           "#FF97FF",
           "#FECB52"
          ],
          "font": {
           "color": "#2a3f5f"
          },
          "geo": {
           "bgcolor": "white",
           "lakecolor": "white",
           "landcolor": "#E5ECF6",
           "showlakes": true,
           "showland": true,
           "subunitcolor": "white"
          },
          "hoverlabel": {
           "align": "left"
          },
          "hovermode": "closest",
          "mapbox": {
           "style": "light"
          },
          "paper_bgcolor": "white",
          "plot_bgcolor": "#E5ECF6",
          "polar": {
           "angularaxis": {
            "gridcolor": "white",
            "linecolor": "white",
            "ticks": ""
           },
           "bgcolor": "#E5ECF6",
           "radialaxis": {
            "gridcolor": "white",
            "linecolor": "white",
            "ticks": ""
           }
          },
          "scene": {
           "xaxis": {
            "backgroundcolor": "#E5ECF6",
            "gridcolor": "white",
            "gridwidth": 2,
            "linecolor": "white",
            "showbackground": true,
            "ticks": "",
            "zerolinecolor": "white"
           },
           "yaxis": {
            "backgroundcolor": "#E5ECF6",
            "gridcolor": "white",
            "gridwidth": 2,
            "linecolor": "white",
            "showbackground": true,
            "ticks": "",
            "zerolinecolor": "white"
           },
           "zaxis": {
            "backgroundcolor": "#E5ECF6",
            "gridcolor": "white",
            "gridwidth": 2,
            "linecolor": "white",
            "showbackground": true,
            "ticks": "",
            "zerolinecolor": "white"
           }
          },
          "shapedefaults": {
           "line": {
            "color": "#2a3f5f"
           }
          },
          "ternary": {
           "aaxis": {
            "gridcolor": "white",
            "linecolor": "white",
            "ticks": ""
           },
           "baxis": {
            "gridcolor": "white",
            "linecolor": "white",
            "ticks": ""
           },
           "bgcolor": "#E5ECF6",
           "caxis": {
            "gridcolor": "white",
            "linecolor": "white",
            "ticks": ""
           }
          },
          "title": {
           "x": 0.05
          },
          "xaxis": {
           "automargin": true,
           "gridcolor": "white",
           "linecolor": "white",
           "ticks": "",
           "title": {
            "standoff": 15
           },
           "zerolinecolor": "white",
           "zerolinewidth": 2
          },
          "yaxis": {
           "automargin": true,
           "gridcolor": "white",
           "linecolor": "white",
           "ticks": "",
           "title": {
            "standoff": 15
           },
           "zerolinecolor": "white",
           "zerolinewidth": 2
          }
         }
        },
        "title": {
         "text": "Possesion quality ( 153)",
         "x": 0.5,
         "xanchor": "center"
        },
        "width": 1200,
        "xaxis": {
         "anchor": "y",
         "domain": [
          0,
          1
         ],
         "gridcolor": "white",
         "showgrid": true,
         "title": {
          "text": "possession_lost/90"
         },
         "zeroline": false
        },
        "yaxis": {
         "anchor": "x",
         "domain": [
          0,
          1
         ],
         "gridcolor": "white",
         "showgrid": true,
         "title": {
          "text": "possession_won/90"
         },
         "zeroline": false
        }
       }
      }
     },
     "metadata": {},
     "output_type": "display_data"
    }
   ],
   "source": [
    "# Filter data \n",
    "mask = (\n",
    "        (df_players['possession_lost/90'] <= 10) & \\\n",
    "        (df_players['possession_won/90'] >= 7.5) & \\\n",
    "        (df_players['poss+_/90'] >= 0) & \\\n",
    "        (df_players['age'] <= 26) & \\\n",
    "        (df_players['id'].isin(targets))\n",
    "        \n",
    "        \n",
    ")\n",
    "\n",
    "df_targets = df_players[mask]\n",
    "\n",
    "scatter_plot(df_targets,\n",
    "             x_metric='possession_lost/90', \n",
    "             y_metric='possession_won/90',\n",
    "             z_metric='poss+_/90',\n",
    "             title='Possesion quality', \n",
    "             show_name_label=False\n",
    ")\n",
    "\n",
    "# Keep only players that fulfill criteria\n",
    "targets = list(df_targets['id'])"
   ]
  },
  {
   "cell_type": "markdown",
   "id": "05fd5ca0",
   "metadata": {},
   "source": [
    "## Aggresion vs Control\n",
    "Identify aggresive and foul prones targets"
   ]
  },
  {
   "cell_type": "code",
   "execution_count": 148,
   "id": "75023675",
   "metadata": {},
   "outputs": [
    {
     "data": {
      "text/html": [
       "<div>\n",
       "<style scoped>\n",
       "    .dataframe tbody tr th:only-of-type {\n",
       "        vertical-align: middle;\n",
       "    }\n",
       "\n",
       "    .dataframe tbody tr th {\n",
       "        vertical-align: top;\n",
       "    }\n",
       "\n",
       "    .dataframe thead th {\n",
       "        text-align: right;\n",
       "    }\n",
       "</style>\n",
       "<table border=\"1\" class=\"dataframe\">\n",
       "  <thead>\n",
       "    <tr style=\"text-align: right;\">\n",
       "      <th></th>\n",
       "      <th>id</th>\n",
       "      <th>name</th>\n",
       "      <th>position</th>\n",
       "      <th>age</th>\n",
       "      <th>height</th>\n",
       "      <th>weight</th>\n",
       "      <th>inf</th>\n",
       "      <th>club</th>\n",
       "      <th>division</th>\n",
       "      <th>nationality</th>\n",
       "      <th>home_grown</th>\n",
       "      <th>personality</th>\n",
       "      <th>media_handling</th>\n",
       "      <th>wage</th>\n",
       "      <th>transfer_value</th>\n",
       "      <th>asking_price</th>\n",
       "      <th>preferred_foot</th>\n",
       "      <th>starts</th>\n",
       "      <th>minutes_played</th>\n",
       "      <th>average_rating</th>\n",
       "      <th>sub_appearances</th>\n",
       "      <th>minutes/game</th>\n",
       "      <th>index</th>\n",
       "      <th>passes_attempted/90</th>\n",
       "      <th>passes_completed/90</th>\n",
       "      <th>pass_completion_%</th>\n",
       "      <th>progressive_passes/90</th>\n",
       "      <th>progressive_pass_rate</th>\n",
       "      <th>key_passes/90</th>\n",
       "      <th>key_pass_%</th>\n",
       "      <th>open_play_key_passes/90</th>\n",
       "      <th>open_play_key_pass_%</th>\n",
       "      <th>chances_created/90</th>\n",
       "      <th>clear_cut_chances_created/90</th>\n",
       "      <th>pressures_attempted/90</th>\n",
       "      <th>pressures_completed/90</th>\n",
       "      <th>pressure_success_%</th>\n",
       "      <th>possession_won/90</th>\n",
       "      <th>possession_lost/90</th>\n",
       "      <th>poss+_/90</th>\n",
       "      <th>poss+__%</th>\n",
       "      <th>tackles_attempted/90</th>\n",
       "      <th>tackles_completed/90</th>\n",
       "      <th>tackle_completion_%</th>\n",
       "      <th>tackles_failed/90</th>\n",
       "      <th>key_tackles/90</th>\n",
       "      <th>tackle_quality</th>\n",
       "      <th>interceptions/90</th>\n",
       "      <th>blocks/90</th>\n",
       "      <th>shots_blocked/90</th>\n",
       "      <th>headers_attempted/90</th>\n",
       "      <th>headers_won/90</th>\n",
       "      <th>headers_won_%</th>\n",
       "      <th>headers_lost/90</th>\n",
       "      <th>headers_lost_%</th>\n",
       "      <th>key_headers/90</th>\n",
       "      <th>aerial_challenges_attempted/90</th>\n",
       "      <th>duels_win_%</th>\n",
       "      <th>fouls_won/90</th>\n",
       "      <th>fouls_committed/90</th>\n",
       "      <th>clearances/90</th>\n",
       "      <th>distance_covered/90</th>\n",
       "      <th>attacking_actions/90</th>\n",
       "      <th>creative_actions/90</th>\n",
       "      <th>defensive_actions/90</th>\n",
       "      <th>excitement_factor/90</th>\n",
       "      <th>general_performance</th>\n",
       "      <th>goalkeeping</th>\n",
       "      <th>defensive_defender</th>\n",
       "      <th>creative_defender</th>\n",
       "      <th>attacking_defender</th>\n",
       "      <th>creative_midfielder</th>\n",
       "      <th>attacking_midfielder</th>\n",
       "      <th>creative_winger</th>\n",
       "      <th>attacking_winger</th>\n",
       "      <th>creative_forward</th>\n",
       "      <th>attacking_forward</th>\n",
       "      <th>finisher</th>\n",
       "      <th>aerial_threat</th>\n",
       "      <th>reader</th>\n",
       "      <th>assister</th>\n",
       "      <th>uid</th>\n",
       "      <th>natural_dm</th>\n",
       "      <th>price_estimate_M</th>\n",
       "    </tr>\n",
       "  </thead>\n",
       "  <tbody>\n",
       "    <tr>\n",
       "      <th>545</th>\n",
       "      <td>91187556</td>\n",
       "      <td>Leandro Barreiro</td>\n",
       "      <td>DM, M (C)</td>\n",
       "      <td>23</td>\n",
       "      <td>174 cm</td>\n",
       "      <td>65 kg</td>\n",
       "      <td>Wnt</td>\n",
       "      <td>Mainz 05</td>\n",
       "      <td>Bundesliga</td>\n",
       "      <td>LUX (POR)</td>\n",
       "      <td>-</td>\n",
       "      <td>Spirited</td>\n",
       "      <td>Evasive</td>\n",
       "      <td>$25,500 p/w</td>\n",
       "      <td>$14M - $20M</td>\n",
       "      <td>-</td>\n",
       "      <td>Right</td>\n",
       "      <td>16</td>\n",
       "      <td>1298</td>\n",
       "      <td>6.64</td>\n",
       "      <td>0</td>\n",
       "      <td>81.13</td>\n",
       "      <td>545</td>\n",
       "      <td>46.32</td>\n",
       "      <td>40.56</td>\n",
       "      <td>88</td>\n",
       "      <td>3.12</td>\n",
       "      <td>6.74</td>\n",
       "      <td>0.55</td>\n",
       "      <td>1.2</td>\n",
       "      <td>0.55</td>\n",
       "      <td>1.2</td>\n",
       "      <td>0.15</td>\n",
       "      <td>0.14</td>\n",
       "      <td>9.98</td>\n",
       "      <td>2.01</td>\n",
       "      <td>20.14</td>\n",
       "      <td>9.08</td>\n",
       "      <td>8.04</td>\n",
       "      <td>1.04</td>\n",
       "      <td>12.94</td>\n",
       "      <td>3.54</td>\n",
       "      <td>2.5</td>\n",
       "      <td>71</td>\n",
       "      <td>1.04</td>\n",
       "      <td>0.14</td>\n",
       "      <td>1.65</td>\n",
       "      <td>1.94</td>\n",
       "      <td>0.55</td>\n",
       "      <td>0.49</td>\n",
       "      <td>3.54</td>\n",
       "      <td>1.04</td>\n",
       "      <td>29.41</td>\n",
       "      <td>2.5</td>\n",
       "      <td>70.59</td>\n",
       "      <td>0.07</td>\n",
       "      <td>3.54</td>\n",
       "      <td>50.0</td>\n",
       "      <td>0.62</td>\n",
       "      <td>2.15</td>\n",
       "      <td>1.8</td>\n",
       "      <td>13.74</td>\n",
       "      <td>0.87</td>\n",
       "      <td>0.69</td>\n",
       "      <td>11.87</td>\n",
       "      <td>2.15</td>\n",
       "      <td>0</td>\n",
       "      <td>100</td>\n",
       "      <td>70</td>\n",
       "      <td>7</td>\n",
       "      <td>5</td>\n",
       "      <td>0</td>\n",
       "      <td>0</td>\n",
       "      <td>1</td>\n",
       "      <td>3</td>\n",
       "      <td>5</td>\n",
       "      <td>0</td>\n",
       "      <td>4</td>\n",
       "      <td>22</td>\n",
       "      <td>51</td>\n",
       "      <td>7</td>\n",
       "      <td>91187556.0</td>\n",
       "      <td>Yes</td>\n",
       "      <td>20.4</td>\n",
       "    </tr>\n",
       "  </tbody>\n",
       "</table>\n",
       "</div>"
      ],
      "text/plain": [
       "           id              name   position  age  height weight  inf      club  \\\n",
       "545  91187556  Leandro Barreiro  DM, M (C)   23  174 cm  65 kg  Wnt  Mainz 05   \n",
       "\n",
       "       division nationality home_grown personality media_handling  \\\n",
       "545  Bundesliga   LUX (POR)          -    Spirited        Evasive   \n",
       "\n",
       "            wage transfer_value asking_price preferred_foot  starts  \\\n",
       "545  $25,500 p/w    $14M - $20M            -          Right      16   \n",
       "\n",
       "     minutes_played  average_rating  sub_appearances  minutes/game  index  \\\n",
       "545            1298            6.64                0         81.13    545   \n",
       "\n",
       "     passes_attempted/90  passes_completed/90  pass_completion_%  \\\n",
       "545                46.32                40.56                 88   \n",
       "\n",
       "     progressive_passes/90  progressive_pass_rate  key_passes/90  key_pass_%  \\\n",
       "545                   3.12                   6.74           0.55         1.2   \n",
       "\n",
       "     open_play_key_passes/90  open_play_key_pass_%  chances_created/90  \\\n",
       "545                     0.55                   1.2                0.15   \n",
       "\n",
       "     clear_cut_chances_created/90  pressures_attempted/90  \\\n",
       "545                          0.14                    9.98   \n",
       "\n",
       "     pressures_completed/90  pressure_success_%  possession_won/90  \\\n",
       "545                    2.01               20.14               9.08   \n",
       "\n",
       "     possession_lost/90  poss+_/90  poss+__%  tackles_attempted/90  \\\n",
       "545                8.04       1.04     12.94                  3.54   \n",
       "\n",
       "     tackles_completed/90  tackle_completion_%  tackles_failed/90  \\\n",
       "545                   2.5                   71               1.04   \n",
       "\n",
       "     key_tackles/90  tackle_quality  interceptions/90  blocks/90  \\\n",
       "545            0.14            1.65              1.94       0.55   \n",
       "\n",
       "     shots_blocked/90  headers_attempted/90  headers_won/90  headers_won_%  \\\n",
       "545              0.49                  3.54            1.04          29.41   \n",
       "\n",
       "     headers_lost/90  headers_lost_%  key_headers/90  \\\n",
       "545              2.5           70.59            0.07   \n",
       "\n",
       "     aerial_challenges_attempted/90  duels_win_%  fouls_won/90  \\\n",
       "545                            3.54         50.0          0.62   \n",
       "\n",
       "     fouls_committed/90  clearances/90  distance_covered/90  \\\n",
       "545                2.15            1.8                13.74   \n",
       "\n",
       "     attacking_actions/90  creative_actions/90  defensive_actions/90  \\\n",
       "545                  0.87                 0.69                 11.87   \n",
       "\n",
       "     excitement_factor/90  general_performance  goalkeeping  \\\n",
       "545                  2.15                    0          100   \n",
       "\n",
       "     defensive_defender  creative_defender  attacking_defender  \\\n",
       "545                  70                  7                   5   \n",
       "\n",
       "     creative_midfielder  attacking_midfielder  creative_winger  \\\n",
       "545                    0                     0                1   \n",
       "\n",
       "     attacking_winger  creative_forward  attacking_forward  finisher  \\\n",
       "545                 3                 5                  0         4   \n",
       "\n",
       "     aerial_threat  reader  assister         uid natural_dm  price_estimate_M  \n",
       "545             22      51         7  91187556.0        Yes              20.4  "
      ]
     },
     "execution_count": 148,
     "metadata": {},
     "output_type": "execute_result"
    }
   ],
   "source": [
    "df_players[df_players['name'].str.contains('Barreir')]"
   ]
  },
  {
   "cell_type": "code",
   "execution_count": 149,
   "id": "2d4b5cdd",
   "metadata": {},
   "outputs": [
    {
     "data": {
      "application/vnd.plotly.v1+json": {
       "config": {
        "plotlyServerURL": "https://plot.ly"
       },
       "data": [
        {
         "customdata": [
          [
           "Houssem Mrezigue",
           "Vizela"
          ],
          [
           "Cheick Doucouré",
           "Crystal Palace"
          ],
          [
           "Nicolás Domínguez",
           "Nottm Forest"
          ],
          [
           "Exequiel Palacios",
           "Bayer 04"
          ],
          [
           "Santiago Ascacíbar",
           "Estudiantes (LP)"
          ],
          [
           "Franco Moyano",
           "Argentinos Jrs."
          ],
          [
           "Leonel Picco",
           "Platense"
          ],
          [
           "Juan Ignacio Méndez",
           "Vélez"
          ],
          [
           "Carlos Villalba",
           "Platense"
          ],
          [
           "Fernando Juárez",
           "Platense"
          ],
          [
           "Agustín Cardozo",
           "Tigre"
          ],
          [
           "Fausto Vera",
           "COR"
          ],
          [
           "Santiago Sosa",
           "Racing Club"
          ],
          [
           "Manuel Insaurralde",
           "Rosario Central"
          ],
          [
           "Nicolás Garayalde",
           "Vélez"
          ],
          [
           "Aníbal Moreno",
           "SEP"
          ],
          [
           "Franco Ibarra",
           "Rosario Central"
          ],
          [
           "Enzo Barrenechea",
           "Frosinone"
          ],
          [
           "Camilo Albornoz",
           "Atl. Tucumán"
          ],
          [
           "Francisco Perruzzi",
           "San Lorenzo"
          ],
          [
           "Mateo Cáceres",
           "Tigre"
          ],
          [
           "Bautista Kociubinski",
           "Estudiantes (LP)"
          ],
          [
           "Juan Carlos Portillo",
           "Talleres"
          ],
          [
           "Rodrigo Herrera",
           "Barracas Central"
          ],
          [
           "Mateo Seoane",
           "Talleres"
          ],
          [
           "Santiago Longo",
           "Belgrano"
          ],
          [
           "Alan Varela",
           "FC Porto"
          ],
          [
           "Bruno Leyes",
           "Godoy Cruz"
          ],
          [
           "Patricio Tanda",
           "Unión (SF)"
          ],
          [
           "Ezequiel Fernández",
           "Boca"
          ],
          [
           "Ignacio Miramón",
           "Lille"
          ],
          [
           "Xaver Schlager",
           "RB Leipzig"
          ],
          [
           "Dejan Ljubičić",
           "FC Köln"
          ],
          [
           "Amadou Haïdara",
           "RB Leipzig"
          ],
          [
           "Arno Verschueren",
           "Sparta Rotterdam"
          ],
          [
           "Casper De Norre",
           "Millwall"
          ],
          [
           "Siebe Horemans",
           "Excelsior"
          ],
          [
           "Albert Sambi Lokonga",
           "Luton"
          ],
          [
           "Thiago Maia",
           "FLA"
          ],
          [
           "Andrey",
           "CTB"
          ],
          [
           "Diego Costa",
           "SPO"
          ],
          [
           "Matheus Henrique",
           "FLA"
          ],
          [
           "Pedro Augusto",
           "FOR"
          ],
          [
           "Hugo Moura",
           "Athlético Paranaense"
          ],
          [
           "Luan",
           "SPO"
          ],
          [
           "Zé Gabriel",
           "Vasco da Gama"
          ],
          [
           "Jhonny Lucas",
           "GOI"
          ],
          [
           "Erick",
           "Athlético Paranaense"
          ],
          [
           "Edu",
           "GOI"
          ],
          [
           "Caio Alexandre",
           "BAH"
          ],
          [
           "Jadsom",
           "RB Bragantino"
          ],
          [
           "André",
           "FLU"
          ],
          [
           "Pablo Maia",
           "SPO"
          ],
          [
           "Bruno Gomes",
           "CTB"
          ],
          [
           "Fabinho",
           "SEP"
          ],
          [
           "Martinelli",
           "FLU"
          ],
          [
           "Kristijan Jakić",
           "Augsburg"
          ],
          [
           "Bartol Franjić",
           "Darmstadt 98"
          ],
          [
           "Mory Gbané",
           "Gil Vicente"
          ],
          [
           "Alex Král",
           "Union Berlin"
          ],
          [
           "Morten Hjulmand",
           "Sporting CP"
          ],
          [
           "Ben Sheaf",
           "Coventry"
          ],
          [
           "Sean Longstaff",
           "Newcastle"
          ],
          [
           "Sam Field",
           "QPR"
          ],
          [
           "Pierre Ekwah",
           "Sunderland"
          ],
          [
           "Flynn Downes",
           "Southampton"
          ],
          [
           "Andy Rinomhota",
           "Rotherham"
          ],
          [
           "Melle Meulensteen",
           "Vitesse"
          ],
          [
           "David Kasumu",
           "Huddersfield"
          ],
          [
           "Ethan Ampadu",
           "Leeds"
          ],
          [
           "Regan Slater",
           "Hull"
          ],
          [
           "Adam Randell",
           "Plymouth"
          ],
          [
           "Dan Neil",
           "Sunderland"
          ],
          [
           "Philippe Sandler",
           "N.E.C. Nijmegen"
          ],
          [
           "Pablo Rosario",
           "Nice"
          ],
          [
           "Quinten Timber",
           "Feyenoord"
          ],
          [
           "Michal Sadílek",
           "FC Twente"
          ],
          [
           "Lutsharel Geertruida",
           "Feyenoord"
          ],
          [
           "Mats Wieffer",
           "Feyenoord"
          ],
          [
           "Ryan Gravenberch",
           "Leicester"
          ],
          [
           "Kenneth Taylor",
           "Ajax"
          ],
          [
           "Eliano Reijnders",
           "PEC Zwolle"
          ],
          [
           "Thomas Beelen",
           "Feyenoord"
          ],
          [
           "Youri Regeer",
           "FC Twente"
          ],
          [
           "Ryan Flamingo",
           "FC Utrecht"
          ],
          [
           "Calvin Twigt",
           "FC Volendam"
          ],
          [
           "Lamare Bogarde",
           "Preston"
          ],
          [
           "Serano Seymor",
           "Excelsior"
          ],
          [
           "Daniel Boloca",
           "Sassuolo"
          ],
          [
           "Tommaso Pobega",
           "Milan"
          ],
          [
           "Samuele Ricci",
           "Torino"
          ],
          [
           "Michel Ndary Adopo",
           "Atalanta"
          ],
          [
           "Yuta Nakayama",
           "Huddersfield"
          ],
          [
           "Ibrahim Sangaré",
           "Nottm Forest"
          ],
          [
           "Boubacar Kamara",
           "Aston Villa"
          ],
          [
           "Boubakary Soumaré",
           "Sevilla"
          ],
          [
           "Youssouf Fofana",
           "Monaco"
          ],
          [
           "Manu Koné",
           "Mönchengladbach"
          ],
          [
           "Joris Chotard",
           "Montpellier"
          ],
          [
           "Tom Lacoux",
           "Famalicão"
          ],
          [
           "Salis Abdul Samed",
           "Lens"
          ],
          [
           "Edson Álvarez",
           "West Ham"
          ],
          [
           "Kristoffer Ajer",
           "Brentford"
          ],
          [
           "Sivert Mannsverk",
           "Ajax"
          ],
          [
           "Eboué Kouassi",
           "Arouca"
          ],
          [
           "Ali McCann",
           "Preston"
          ],
          [
           "Ilija Vukotić",
           "Boavista"
          ],
          [
           "Mirko Topić",
           "Famalicão"
          ],
          [
           "Pedro Chirivella",
           "Nantes"
          ],
          [
           "Pepelu",
           "Valencia"
          ],
          [
           "Keidi Bare",
           "Coventry"
          ],
          [
           "Fran Beltrán",
           "Celta"
          ],
          [
           "Edgar",
           "Almería"
          ],
          [
           "Hugo Guillamón",
           "Valencia"
          ],
          [
           "Jon Moncayola",
           "Osasuna"
          ],
          [
           "Iker Muñoz",
           "Osasuna"
          ],
          [
           "Tyler Adams",
           "Bournemouth"
          ],
          [
           "Jesús Castillo",
           "Gil Vicente"
          ],
          [
           "Manuel Ugarte",
           "PSG"
          ],
          [
           "Nicolás Acevedo",
           "BAH"
          ],
          [
           "Jota",
           "Vizela"
          ],
          [
           "Samú",
           "Mallorca"
          ],
          [
           "Ibrahima Camará",
           "Boavista"
          ],
          [
           "Gonçalo Franco",
           "Moreirense"
          ],
          [
           "Moisés Caicedo",
           "Chelsea"
          ],
          [
           "Tom Krauß",
           "Mainz 05"
          ],
          [
           "Elvis Rexhbecaj",
           "Augsburg"
          ],
          [
           "Leandro Barreiro",
           "Mainz 05"
          ],
          [
           "Eric Martel",
           "FC Köln"
          ],
          [
           "Amadou Onana",
           "Everton"
          ],
          [
           "Michael Akoto",
           "AGF"
          ],
          [
           "Jens Cajuste",
           "Napoli"
          ],
          [
           "William Clem",
           "FC København"
          ],
          [
           "Guilherme Madruga",
           "CUI"
          ],
          [
           "Stefano Moreyra",
           "Instituto"
          ],
          [
           "Manuel García",
           "Central Córdoba (SdE)"
          ],
          [
           "Oussama Targhalline",
           "Havre AC"
          ],
          [
           "Elián Irala",
           "San Lorenzo"
          ],
          [
           "Zé Carlos",
           "Vit. Guimarães"
          ],
          [
           "Alexsander",
           "FLU"
          ],
          [
           "Emanuel Quinteros",
           "Godoy Cruz"
          ],
          [
           "Nathan",
           "GOI"
          ],
          [
           "Igor Jesus",
           "FLA"
          ],
          [
           "Negrucci",
           "SPO"
          ],
          [
           "Kevin López",
           "Defensa y Justicia"
          ],
          [
           "Kobbie Mainoo",
           "Man Utd"
          ],
          [
           "Benjamín Schamine",
           "Defensa y Justicia"
          ],
          [
           "Kevin Ortiz",
           "Rosario Central"
          ],
          [
           "Archie Gray",
           "Leeds"
          ],
          [
           "Gabriel Moscardo",
           "COR"
          ],
          [
           "Joaquín Mosqueira",
           "Unión (SF)"
          ],
          [
           "César Amarilla",
           "Rosario Central"
          ],
          [
           "Lucas López",
           "Instituto"
          ]
         ],
         "hovertemplate": "<b>%{customdata[0]}</b><br><b>%{customdata[1]}</b><br><br>tackles_completed/90: %{x}<br>fouls_committed/90: %{y}<br>tackle_completion_%: %{marker.color}<extra></extra>",
         "legendgroup": "",
         "marker": {
          "color": {
           "bdata": "Q01CT1dNSkNKTz5ET1NJUUdDPUpSXE5DSUlIRVVNUUdZSEtOWkZLQVVIUUlMSExMSjVQTkpIUFA/PUVMSU1JRUxPSVhGVURKVU5NWkRcVFNOSlBQS0dEWEtIRE5LS0ZFUEhAQU1HQkdVTFRPSUZMU006T1A7RlNJUEtbRlFCRUdPT1JQR0pHSztdU05PTVRQUUtJRlBDS1pS",
           "dtype": "i1"
          },
          "coloraxis": "coloraxis",
          "size": 10,
          "symbol": "circle"
         },
         "mode": "markers",
         "name": "",
         "orientation": "v",
         "showlegend": false,
         "textfont": {
          "size": 10
         },
         "textposition": "top center",
         "type": "scatter",
         "x": {
          "bdata": "zczMzMzMAEAAAAAAAAAEQBSuR+F6FAZAw/UoXI/C/T/Xo3A9CtcFQNejcD0K1/8/cT0K16NwAUDhehSuR+H6P9ejcD0K1wFA9ihcj8L1AEAK16NwPQr7P7gehetRuABAH4XrUbgeAUCF61G4HoX7P+xRuB6F6/0/XI/C9ShcB0CF61G4HoUBQClcj8L1KAJAXI/C9Shc+z+F61G4HoUBQM3MzMzMzAJAMzMzMzMzA0DsUbgehesJQDMzMzMzMwFAPQrXo3A9/j+uR+F6FK4FQAAAAAAAAAJASOF6FK5HAUAzMzMzMzP/Pylcj8L1KPw/ZmZmZmZmAkAzMzMzMzMBQLgehetRuAhACtejcD0KA0BSuB6F61EEQOxRuB6F6wFA9ihcj8L18D8UrkfhehQGQFK4HoXrUQRApHA9CtejAEAzMzMzMzP7P3sUrkfhegBAPQrXo3A9BkAzMzMzMzMDQGZmZmZmZgJAKVyPwvUoBEAAAAAAAAACQFK4HoXrUQRAj8L1KFyP+j8UrkfhehTyP0jhehSuRwFA16NwPQrX/z8UrkfhehQAQOF6FK5H4QBAhetRuB6FA0B7FK5H4XoAQFK4HoXrUfw/uB6F61G4BEA9CtejcD0EQEjhehSuRwNAUrgehetRAkDNzMzMzMwEQKRwPQrXowBA7FG4HoXr/T+4HoXrUbj2P+F6FK5H4QZACtejcD0KC0DNzMzMzMz8P83MzMzMzARA4XoUrkfh+j+uR+F6FK7/P8P1KFyPwgtAFK5H4XoU/j9xPQrXo3D9P7gehetRuP4/ZmZmZmZm/j9I4XoUrkcBQD0K16NwPQBAMzMzMzMzAUCF61G4HoX7P+xRuB6F6wFAZmZmZmZm9j+PwvUoXI/2PwrXo3A9CgVAuB6F61G4BEAzMzMzMzP7Pylcj8L1KARAUrgehetR/D9I4XoUrkcJQKRwPQrXo/Q/w/UoXI/C+T/NzMzMzMwGQFK4HoXrUQBAAAAAAAAABkDNzMzMzMz8P3E9CtejcPU/XI/C9Shc9z/2KFyPwvUGQB+F61G4HgNAj8L1KFyP/j+kcD0K16MKQEjhehSuRwdAZmZmZmZm8j+kcD0K16P4P1yPwvUoXPM/CtejcD0KC0DXo3A9CtcBQM3MzMzMzPw/mpmZmZmZAUAK16NwPQoDQJqZmZmZmQlAFK5H4XoU/j8K16NwPQoLQArXo3A9Cv8/zczMzMzMBkDXo3A9CtcFQI/C9ShcjwZASOF6FK5HAUAfhetRuB4DQIXrUbgehf8/XI/C9Shc7z8UrkfhehQKQOF6FK5H4fo/CtejcD0KB0AUrkfhehQIQHE9CtejcAdAexSuR+F6BkAAAAAAAAAEQHsUrkfhegJAH4XrUbgeAUBI4XoUrkf9P4/C9ShcjwZAMzMzMzMz9z/NzMzMzMz8P8P1KFyPwgdAhetRuB6F/z+4HoXrUbjyPxSuR+F6FP4/AAAAAAAACkA9CtejcD0AQFK4HoXrUfw/9ihcj8L1/D8fhetRuB4FQOxRuB6F6wNArkfhehSu+z/hehSuR+EEQHE9CtejcANA7FG4HoXrAUApXI/C9SgEQOxRuB6F6wFAZmZmZmZm/j+F61G4HoXrP3sUrkfhevw/",
          "dtype": "f8"
         },
         "xaxis": "x",
         "y": {
          "bdata": "MzMzMzMz4z9mZmZmZmb6PwrXo3A9CgFACtejcD0K+z8K16NwPQoBQHsUrkfhevQ/hetRuB6F8z8zMzMzMzPjP1K4HoXrUfQ/ZmZmZmZm7j8K16NwPQrvP3E9CtejcO0/H4XrUbge9T8K16NwPQrXP2ZmZmZmZvo/H4XrUbge9T/D9Shcj8L9P+F6FK5H4fY/MzMzMzMz6z+amZmZmZn1P0jhehSuR/0/FK5H4XoU9j8UrkfhehT2P4XrUbgehfM/PQrXo3A99j89CtejcD36P6RwPQrXo/Q/4XoUrkfh+j+4HoXrUbjmP1K4HoXrUeg/4XoUrkfh/j+kcD0K16P0P83MzMzMzPA/exSuR+F6/D9mZmZmZmb2PwAAAAAAAOA/AAAAAAAA4D/Xo3A9Ctf/PwrXo3A9Cvc/uB6F61G4+j/NzMzMzMzcP2ZmZmZmZvY/AAAAAAAA+D8AAAAAAAD0P+F6FK5H4fo/FK5H4XoU+j8zMzMzMzMBQK5H4XoUrvM/UrgehetR+D/sUbgehev1P9ejcD0K1/c/H4XrUbge9T8AAAAAAAD0P0jhehSuR/0/4XoUrkfh/j+4HoXrUbj2P3E9CtejcAFAhetRuB6F6z8K16NwPQrzP1K4HoXrUeg/zczMzMzM/D/sUbgehevhPzMzMzMzM+s/hetRuB6F+z9mZmZmZmbWP9ejcD0K1/8/FK5H4XoU8j/NzMzMzMz4PwAAAAAAAABAZmZmZmZm5j+4HoXrUbgCQD0K16NwPfY/FK5H4XoU3j9SuB6F61HYP3sUrkfheuQ/uB6F61G43j/sUbgehev5P+F6FK5H4fI/MzMzMzMz4z/hehSuR+HiP8P1KFyPwuU/4XoUrkfh6j9mZmZmZmbmP+xRuB6F6+E/9ihcj8L18D+F61G4HoXjP/YoXI/C9fg/16NwPQrX0z97FK5H4Xr8P9ejcD0K1/c/pHA9Ctej6D+F61G4HoX3P3E9CtejcO0/16NwPQrX+z9cj8L1KFzvP65H4XoUru8/hetRuB6F4z/hehSuR+ECQMP1KFyPwv0/AAAAAAAA/D8pXI/C9Sj8Pz0K16NwPfY/H4XrUbge1T/NzMzMzMzwPz0K16NwPfI/hetRuB6F4z89CtejcD3qP/YoXI/C9fQ/FK5H4XoU7j/2KFyPwvX0P2ZmZmZmZgBAAAAAAAAA9D/Xo3A9Ctf7P1yPwvUoXPs/w/UoXI/C9T9cj8L1KFzzP1yPwvUoXAFAXI/C9Shc9z9xPQrXo3DtPzMzMzMzM/M/uB6F61G4vj+PwvUoXI/6P+xRuB6F6+k/PQrXo3A9/j/Xo3A9CtfzP0jhehSuRwNACtejcD0K/z8zMzMzMzMBQAAAAAAAAPQ/exSuR+F6AEC4HoXrUbjmPylcj8L1KOw/zczMzMzM8D8K16NwPQrvPz0K16NwPfY/pHA9Ctej4D/sUbgehevpPylcj8L1KOQ/9ihcj8L18D9I4XoUrkfxP9ejcD0K1/c/KVyPwvUo7D8pXI/C9SjwP4/C9Shcj/o/hetRuB6F6z/Xo3A9CtfjP3E9CtejcPk/7FG4HoXr/T9cj8L1KFznP+xRuB6F6/E/uB6F61G45j9xPQrXo3DlPwrXo3A9CvM/",
          "dtype": "f8"
         },
         "yaxis": "y"
        }
       ],
       "layout": {
        "coloraxis": {
         "colorbar": {
          "title": {
           "text": "tackle_completion_%"
          }
         },
         "colorscale": [
          [
           0,
           "rgb(165,0,38)"
          ],
          [
           0.1,
           "rgb(215,48,39)"
          ],
          [
           0.2,
           "rgb(244,109,67)"
          ],
          [
           0.3,
           "rgb(253,174,97)"
          ],
          [
           0.4,
           "rgb(254,224,139)"
          ],
          [
           0.5,
           "rgb(255,255,191)"
          ],
          [
           0.6,
           "rgb(217,239,139)"
          ],
          [
           0.7,
           "rgb(166,217,106)"
          ],
          [
           0.8,
           "rgb(102,189,99)"
          ],
          [
           0.9,
           "rgb(26,152,80)"
          ],
          [
           1,
           "rgb(0,104,55)"
          ]
         ],
         "showscale": false
        },
        "height": 700,
        "legend": {
         "tracegroupgap": 0
        },
        "paper_bgcolor": "darkgray",
        "plot_bgcolor": "darkgray",
        "template": {
         "data": {
          "bar": [
           {
            "error_x": {
             "color": "#2a3f5f"
            },
            "error_y": {
             "color": "#2a3f5f"
            },
            "marker": {
             "line": {
              "color": "#E5ECF6",
              "width": 0.5
             },
             "pattern": {
              "fillmode": "overlay",
              "size": 10,
              "solidity": 0.2
             }
            },
            "type": "bar"
           }
          ],
          "barpolar": [
           {
            "marker": {
             "line": {
              "color": "#E5ECF6",
              "width": 0.5
             },
             "pattern": {
              "fillmode": "overlay",
              "size": 10,
              "solidity": 0.2
             }
            },
            "type": "barpolar"
           }
          ],
          "carpet": [
           {
            "aaxis": {
             "endlinecolor": "#2a3f5f",
             "gridcolor": "white",
             "linecolor": "white",
             "minorgridcolor": "white",
             "startlinecolor": "#2a3f5f"
            },
            "baxis": {
             "endlinecolor": "#2a3f5f",
             "gridcolor": "white",
             "linecolor": "white",
             "minorgridcolor": "white",
             "startlinecolor": "#2a3f5f"
            },
            "type": "carpet"
           }
          ],
          "choropleth": [
           {
            "colorbar": {
             "outlinewidth": 0,
             "ticks": ""
            },
            "type": "choropleth"
           }
          ],
          "contour": [
           {
            "colorbar": {
             "outlinewidth": 0,
             "ticks": ""
            },
            "colorscale": [
             [
              0,
              "#0d0887"
             ],
             [
              0.1111111111111111,
              "#46039f"
             ],
             [
              0.2222222222222222,
              "#7201a8"
             ],
             [
              0.3333333333333333,
              "#9c179e"
             ],
             [
              0.4444444444444444,
              "#bd3786"
             ],
             [
              0.5555555555555556,
              "#d8576b"
             ],
             [
              0.6666666666666666,
              "#ed7953"
             ],
             [
              0.7777777777777778,
              "#fb9f3a"
             ],
             [
              0.8888888888888888,
              "#fdca26"
             ],
             [
              1,
              "#f0f921"
             ]
            ],
            "type": "contour"
           }
          ],
          "contourcarpet": [
           {
            "colorbar": {
             "outlinewidth": 0,
             "ticks": ""
            },
            "type": "contourcarpet"
           }
          ],
          "heatmap": [
           {
            "colorbar": {
             "outlinewidth": 0,
             "ticks": ""
            },
            "colorscale": [
             [
              0,
              "#0d0887"
             ],
             [
              0.1111111111111111,
              "#46039f"
             ],
             [
              0.2222222222222222,
              "#7201a8"
             ],
             [
              0.3333333333333333,
              "#9c179e"
             ],
             [
              0.4444444444444444,
              "#bd3786"
             ],
             [
              0.5555555555555556,
              "#d8576b"
             ],
             [
              0.6666666666666666,
              "#ed7953"
             ],
             [
              0.7777777777777778,
              "#fb9f3a"
             ],
             [
              0.8888888888888888,
              "#fdca26"
             ],
             [
              1,
              "#f0f921"
             ]
            ],
            "type": "heatmap"
           }
          ],
          "histogram": [
           {
            "marker": {
             "pattern": {
              "fillmode": "overlay",
              "size": 10,
              "solidity": 0.2
             }
            },
            "type": "histogram"
           }
          ],
          "histogram2d": [
           {
            "colorbar": {
             "outlinewidth": 0,
             "ticks": ""
            },
            "colorscale": [
             [
              0,
              "#0d0887"
             ],
             [
              0.1111111111111111,
              "#46039f"
             ],
             [
              0.2222222222222222,
              "#7201a8"
             ],
             [
              0.3333333333333333,
              "#9c179e"
             ],
             [
              0.4444444444444444,
              "#bd3786"
             ],
             [
              0.5555555555555556,
              "#d8576b"
             ],
             [
              0.6666666666666666,
              "#ed7953"
             ],
             [
              0.7777777777777778,
              "#fb9f3a"
             ],
             [
              0.8888888888888888,
              "#fdca26"
             ],
             [
              1,
              "#f0f921"
             ]
            ],
            "type": "histogram2d"
           }
          ],
          "histogram2dcontour": [
           {
            "colorbar": {
             "outlinewidth": 0,
             "ticks": ""
            },
            "colorscale": [
             [
              0,
              "#0d0887"
             ],
             [
              0.1111111111111111,
              "#46039f"
             ],
             [
              0.2222222222222222,
              "#7201a8"
             ],
             [
              0.3333333333333333,
              "#9c179e"
             ],
             [
              0.4444444444444444,
              "#bd3786"
             ],
             [
              0.5555555555555556,
              "#d8576b"
             ],
             [
              0.6666666666666666,
              "#ed7953"
             ],
             [
              0.7777777777777778,
              "#fb9f3a"
             ],
             [
              0.8888888888888888,
              "#fdca26"
             ],
             [
              1,
              "#f0f921"
             ]
            ],
            "type": "histogram2dcontour"
           }
          ],
          "mesh3d": [
           {
            "colorbar": {
             "outlinewidth": 0,
             "ticks": ""
            },
            "type": "mesh3d"
           }
          ],
          "parcoords": [
           {
            "line": {
             "colorbar": {
              "outlinewidth": 0,
              "ticks": ""
             }
            },
            "type": "parcoords"
           }
          ],
          "pie": [
           {
            "automargin": true,
            "type": "pie"
           }
          ],
          "scatter": [
           {
            "fillpattern": {
             "fillmode": "overlay",
             "size": 10,
             "solidity": 0.2
            },
            "type": "scatter"
           }
          ],
          "scatter3d": [
           {
            "line": {
             "colorbar": {
              "outlinewidth": 0,
              "ticks": ""
             }
            },
            "marker": {
             "colorbar": {
              "outlinewidth": 0,
              "ticks": ""
             }
            },
            "type": "scatter3d"
           }
          ],
          "scattercarpet": [
           {
            "marker": {
             "colorbar": {
              "outlinewidth": 0,
              "ticks": ""
             }
            },
            "type": "scattercarpet"
           }
          ],
          "scattergeo": [
           {
            "marker": {
             "colorbar": {
              "outlinewidth": 0,
              "ticks": ""
             }
            },
            "type": "scattergeo"
           }
          ],
          "scattergl": [
           {
            "marker": {
             "colorbar": {
              "outlinewidth": 0,
              "ticks": ""
             }
            },
            "type": "scattergl"
           }
          ],
          "scattermap": [
           {
            "marker": {
             "colorbar": {
              "outlinewidth": 0,
              "ticks": ""
             }
            },
            "type": "scattermap"
           }
          ],
          "scattermapbox": [
           {
            "marker": {
             "colorbar": {
              "outlinewidth": 0,
              "ticks": ""
             }
            },
            "type": "scattermapbox"
           }
          ],
          "scatterpolar": [
           {
            "marker": {
             "colorbar": {
              "outlinewidth": 0,
              "ticks": ""
             }
            },
            "type": "scatterpolar"
           }
          ],
          "scatterpolargl": [
           {
            "marker": {
             "colorbar": {
              "outlinewidth": 0,
              "ticks": ""
             }
            },
            "type": "scatterpolargl"
           }
          ],
          "scatterternary": [
           {
            "marker": {
             "colorbar": {
              "outlinewidth": 0,
              "ticks": ""
             }
            },
            "type": "scatterternary"
           }
          ],
          "surface": [
           {
            "colorbar": {
             "outlinewidth": 0,
             "ticks": ""
            },
            "colorscale": [
             [
              0,
              "#0d0887"
             ],
             [
              0.1111111111111111,
              "#46039f"
             ],
             [
              0.2222222222222222,
              "#7201a8"
             ],
             [
              0.3333333333333333,
              "#9c179e"
             ],
             [
              0.4444444444444444,
              "#bd3786"
             ],
             [
              0.5555555555555556,
              "#d8576b"
             ],
             [
              0.6666666666666666,
              "#ed7953"
             ],
             [
              0.7777777777777778,
              "#fb9f3a"
             ],
             [
              0.8888888888888888,
              "#fdca26"
             ],
             [
              1,
              "#f0f921"
             ]
            ],
            "type": "surface"
           }
          ],
          "table": [
           {
            "cells": {
             "fill": {
              "color": "#EBF0F8"
             },
             "line": {
              "color": "white"
             }
            },
            "header": {
             "fill": {
              "color": "#C8D4E3"
             },
             "line": {
              "color": "white"
             }
            },
            "type": "table"
           }
          ]
         },
         "layout": {
          "annotationdefaults": {
           "arrowcolor": "#2a3f5f",
           "arrowhead": 0,
           "arrowwidth": 1
          },
          "autotypenumbers": "strict",
          "coloraxis": {
           "colorbar": {
            "outlinewidth": 0,
            "ticks": ""
           }
          },
          "colorscale": {
           "diverging": [
            [
             0,
             "#8e0152"
            ],
            [
             0.1,
             "#c51b7d"
            ],
            [
             0.2,
             "#de77ae"
            ],
            [
             0.3,
             "#f1b6da"
            ],
            [
             0.4,
             "#fde0ef"
            ],
            [
             0.5,
             "#f7f7f7"
            ],
            [
             0.6,
             "#e6f5d0"
            ],
            [
             0.7,
             "#b8e186"
            ],
            [
             0.8,
             "#7fbc41"
            ],
            [
             0.9,
             "#4d9221"
            ],
            [
             1,
             "#276419"
            ]
           ],
           "sequential": [
            [
             0,
             "#0d0887"
            ],
            [
             0.1111111111111111,
             "#46039f"
            ],
            [
             0.2222222222222222,
             "#7201a8"
            ],
            [
             0.3333333333333333,
             "#9c179e"
            ],
            [
             0.4444444444444444,
             "#bd3786"
            ],
            [
             0.5555555555555556,
             "#d8576b"
            ],
            [
             0.6666666666666666,
             "#ed7953"
            ],
            [
             0.7777777777777778,
             "#fb9f3a"
            ],
            [
             0.8888888888888888,
             "#fdca26"
            ],
            [
             1,
             "#f0f921"
            ]
           ],
           "sequentialminus": [
            [
             0,
             "#0d0887"
            ],
            [
             0.1111111111111111,
             "#46039f"
            ],
            [
             0.2222222222222222,
             "#7201a8"
            ],
            [
             0.3333333333333333,
             "#9c179e"
            ],
            [
             0.4444444444444444,
             "#bd3786"
            ],
            [
             0.5555555555555556,
             "#d8576b"
            ],
            [
             0.6666666666666666,
             "#ed7953"
            ],
            [
             0.7777777777777778,
             "#fb9f3a"
            ],
            [
             0.8888888888888888,
             "#fdca26"
            ],
            [
             1,
             "#f0f921"
            ]
           ]
          },
          "colorway": [
           "#636efa",
           "#EF553B",
           "#00cc96",
           "#ab63fa",
           "#FFA15A",
           "#19d3f3",
           "#FF6692",
           "#B6E880",
           "#FF97FF",
           "#FECB52"
          ],
          "font": {
           "color": "#2a3f5f"
          },
          "geo": {
           "bgcolor": "white",
           "lakecolor": "white",
           "landcolor": "#E5ECF6",
           "showlakes": true,
           "showland": true,
           "subunitcolor": "white"
          },
          "hoverlabel": {
           "align": "left"
          },
          "hovermode": "closest",
          "mapbox": {
           "style": "light"
          },
          "paper_bgcolor": "white",
          "plot_bgcolor": "#E5ECF6",
          "polar": {
           "angularaxis": {
            "gridcolor": "white",
            "linecolor": "white",
            "ticks": ""
           },
           "bgcolor": "#E5ECF6",
           "radialaxis": {
            "gridcolor": "white",
            "linecolor": "white",
            "ticks": ""
           }
          },
          "scene": {
           "xaxis": {
            "backgroundcolor": "#E5ECF6",
            "gridcolor": "white",
            "gridwidth": 2,
            "linecolor": "white",
            "showbackground": true,
            "ticks": "",
            "zerolinecolor": "white"
           },
           "yaxis": {
            "backgroundcolor": "#E5ECF6",
            "gridcolor": "white",
            "gridwidth": 2,
            "linecolor": "white",
            "showbackground": true,
            "ticks": "",
            "zerolinecolor": "white"
           },
           "zaxis": {
            "backgroundcolor": "#E5ECF6",
            "gridcolor": "white",
            "gridwidth": 2,
            "linecolor": "white",
            "showbackground": true,
            "ticks": "",
            "zerolinecolor": "white"
           }
          },
          "shapedefaults": {
           "line": {
            "color": "#2a3f5f"
           }
          },
          "ternary": {
           "aaxis": {
            "gridcolor": "white",
            "linecolor": "white",
            "ticks": ""
           },
           "baxis": {
            "gridcolor": "white",
            "linecolor": "white",
            "ticks": ""
           },
           "bgcolor": "#E5ECF6",
           "caxis": {
            "gridcolor": "white",
            "linecolor": "white",
            "ticks": ""
           }
          },
          "title": {
           "x": 0.05
          },
          "xaxis": {
           "automargin": true,
           "gridcolor": "white",
           "linecolor": "white",
           "ticks": "",
           "title": {
            "standoff": 15
           },
           "zerolinecolor": "white",
           "zerolinewidth": 2
          },
          "yaxis": {
           "automargin": true,
           "gridcolor": "white",
           "linecolor": "white",
           "ticks": "",
           "title": {
            "standoff": 15
           },
           "zerolinecolor": "white",
           "zerolinewidth": 2
          }
         }
        },
        "title": {
         "text": "Aggresion - Control ( 153)",
         "x": 0.5,
         "xanchor": "center"
        },
        "width": 1200,
        "xaxis": {
         "anchor": "y",
         "domain": [
          0,
          1
         ],
         "gridcolor": "white",
         "showgrid": true,
         "title": {
          "text": "tackles_completed/90"
         },
         "zeroline": false
        },
        "yaxis": {
         "anchor": "x",
         "domain": [
          0,
          1
         ],
         "gridcolor": "white",
         "showgrid": true,
         "title": {
          "text": "fouls_committed/90"
         },
         "zeroline": false
        }
       }
      }
     },
     "metadata": {},
     "output_type": "display_data"
    }
   ],
   "source": [
    "# Full universe \n",
    "scatter_plot(df_targets,\n",
    "             x_metric='tackles_completed/90', \n",
    "             y_metric='fouls_committed/90',\n",
    "             z_metric='tackle_completion_%',\n",
    "             title='Aggresion - Control', \n",
    "             show_name_label=False\n",
    ")"
   ]
  },
  {
   "cell_type": "code",
   "execution_count": 150,
   "id": "04e9f933",
   "metadata": {},
   "outputs": [
    {
     "data": {
      "application/vnd.plotly.v1+json": {
       "config": {
        "plotlyServerURL": "https://plot.ly"
       },
       "data": [
        {
         "customdata": [
          [
           "Santiago Ascacíbar",
           "Estudiantes (LP)"
          ],
          [
           "Franco Moyano",
           "Argentinos Jrs."
          ],
          [
           "Leonel Picco",
           "Platense"
          ],
          [
           "Carlos Villalba",
           "Platense"
          ],
          [
           "Santiago Sosa",
           "Racing Club"
          ],
          [
           "Nicolás Garayalde",
           "Vélez"
          ],
          [
           "Franco Ibarra",
           "Rosario Central"
          ],
          [
           "Francisco Perruzzi",
           "San Lorenzo"
          ],
          [
           "Mateo Cáceres",
           "Tigre"
          ],
          [
           "Bautista Kociubinski",
           "Estudiantes (LP)"
          ],
          [
           "Mateo Seoane",
           "Talleres"
          ],
          [
           "Santiago Longo",
           "Belgrano"
          ],
          [
           "Ignacio Miramón",
           "Lille"
          ],
          [
           "Xaver Schlager",
           "RB Leipzig"
          ],
          [
           "Amadou Haïdara",
           "RB Leipzig"
          ],
          [
           "Arno Verschueren",
           "Sparta Rotterdam"
          ],
          [
           "Albert Sambi Lokonga",
           "Luton"
          ],
          [
           "Thiago Maia",
           "FLA"
          ],
          [
           "Matheus Henrique",
           "FLA"
          ],
          [
           "Pedro Augusto",
           "FOR"
          ],
          [
           "Hugo Moura",
           "Athlético Paranaense"
          ],
          [
           "Luan",
           "SPO"
          ],
          [
           "Zé Gabriel",
           "Vasco da Gama"
          ],
          [
           "Jhonny Lucas",
           "GOI"
          ],
          [
           "Edu",
           "GOI"
          ],
          [
           "Jadsom",
           "RB Bragantino"
          ],
          [
           "André",
           "FLU"
          ],
          [
           "Pablo Maia",
           "SPO"
          ],
          [
           "Bruno Gomes",
           "CTB"
          ],
          [
           "Fabinho",
           "SEP"
          ],
          [
           "Martinelli",
           "FLU"
          ],
          [
           "Morten Hjulmand",
           "Sporting CP"
          ],
          [
           "Flynn Downes",
           "Southampton"
          ],
          [
           "Melle Meulensteen",
           "Vitesse"
          ],
          [
           "David Kasumu",
           "Huddersfield"
          ],
          [
           "Eliano Reijnders",
           "PEC Zwolle"
          ],
          [
           "Daniel Boloca",
           "Sassuolo"
          ],
          [
           "Tommaso Pobega",
           "Milan"
          ],
          [
           "Michel Ndary Adopo",
           "Atalanta"
          ],
          [
           "Salis Abdul Samed",
           "Lens"
          ],
          [
           "Sivert Mannsverk",
           "Ajax"
          ],
          [
           "Eboué Kouassi",
           "Arouca"
          ],
          [
           "Mirko Topić",
           "Famalicão"
          ],
          [
           "Pepelu",
           "Valencia"
          ],
          [
           "Keidi Bare",
           "Coventry"
          ],
          [
           "Fran Beltrán",
           "Celta"
          ],
          [
           "Edgar",
           "Almería"
          ],
          [
           "Jesús Castillo",
           "Gil Vicente"
          ],
          [
           "Nicolás Acevedo",
           "BAH"
          ],
          [
           "Samú",
           "Mallorca"
          ],
          [
           "Gonçalo Franco",
           "Moreirense"
          ],
          [
           "Leandro Barreiro",
           "Mainz 05"
          ],
          [
           "William Clem",
           "FC København"
          ],
          [
           "Guilherme Madruga",
           "CUI"
          ],
          [
           "Alexsander",
           "FLU"
          ],
          [
           "Emanuel Quinteros",
           "Godoy Cruz"
          ],
          [
           "Benjamín Schamine",
           "Defensa y Justicia"
          ],
          [
           "Kevin Ortiz",
           "Rosario Central"
          ],
          [
           "Lucas López",
           "Instituto"
          ]
         ],
         "hovertemplate": "<b>%{customdata[0]}</b><br><b>%{customdata[1]}</b><br><br>tackles_completed/90: %{x}<br>fouls_committed/90: %{y}<br>tackle_completion_%: %{marker.color}<extra></extra>",
         "legendgroup": "",
         "marker": {
          "color": {
           "bdata": "V01KSk9JR0pSXElJUUdIS0ZLSFFJTEhMSlBOSkhQUElPWEZKS0hOTUdVT0ZMU01GSUtGR0dKTk9JRlI=",
           "dtype": "i1"
          },
          "coloraxis": "coloraxis",
          "size": 10,
          "symbol": "circle"
         },
         "mode": "markers",
         "name": "",
         "orientation": "v",
         "showlegend": false,
         "textfont": {
          "size": 10
         },
         "textposition": "top center",
         "type": "scatter",
         "x": {
          "bdata": "16NwPQrXBUDXo3A9Ctf/P3E9CtejcAFA16NwPQrXAUAfhetRuB4BQOxRuB6F6/0/hetRuB6FAUCF61G4HoUBQM3MzMzMzAJAMzMzMzMzA0A9CtejcD3+P65H4XoUrgVAZmZmZmZmAkAzMzMzMzMBQArXo3A9CgNAUrgehetRBEAUrkfhehQGQFK4HoXrUQRAexSuR+F6AEA9CtejcD0GQDMzMzMzMwNAZmZmZmZmAkApXI/C9SgEQAAAAAAAAAJAj8L1KFyP+j9I4XoUrkcBQNejcD0K1/8/FK5H4XoUAEDhehSuR+EAQIXrUbgehQNAexSuR+F6AEBSuB6F61ECQOF6FK5H4QZAzczMzMzM/D/NzMzMzMwEQGZmZmZmZvY/SOF6FK5HCUCkcD0K16P0P83MzMzMzAZApHA9CtejCkCkcD0K16P4P1yPwvUoXPM/zczMzMzM/D8K16NwPQoDQJqZmZmZmQlAFK5H4XoU/j8K16NwPQoLQEjhehSuRwFAhetRuB6F/z8UrkfhehQKQArXo3A9CgdAAAAAAAAABEAzMzMzMzP3P83MzMzMzPw/PQrXo3A9AEBSuB6F61H8P3E9CtejcANA7FG4HoXrAUB7FK5H4Xr8Pw==",
          "dtype": "f8"
         },
         "xaxis": "x",
         "y": {
          "bdata": "CtejcD0KAUB7FK5H4Xr0P4XrUbgehfM/UrgehetR9D8fhetRuB71P2ZmZmZmZvo/w/UoXI/C/T+amZmZmZn1P0jhehSuR/0/FK5H4XoU9j89CtejcD32Pz0K16NwPfo/4XoUrkfh/j+kcD0K16P0P3sUrkfhevw/ZmZmZmZm9j/Xo3A9Ctf/PwrXo3A9Cvc/ZmZmZmZm9j8AAAAAAAD4PwAAAAAAAPQ/4XoUrkfh+j8UrkfhehT6PzMzMzMzMwFAUrgehetR+D/Xo3A9Ctf3Px+F61G4HvU/AAAAAAAA9D9I4XoUrkf9P+F6FK5H4f4/uB6F61G49j/NzMzMzMz8P9ejcD0K1/8/zczMzMzM+D8AAAAAAAAAQOF6FK5H4eo/exSuR+F6/D/Xo3A9Ctf3P4XrUbgehfc/KVyPwvUo/D/NzMzMzMzwPz0K16NwPfI/9ihcj8L19D/2KFyPwvX0P2ZmZmZmZgBAAAAAAAAA9D/Xo3A9Ctf7P1yPwvUoXPc/MzMzMzMz8z+PwvUoXI/6Pz0K16NwPf4/MzMzMzMzAUDNzMzMzMzwPwrXo3A9Cu8/SOF6FK5H8T/Xo3A9Ctf3P3E9CtejcPk/7FG4HoXr/T8K16NwPQrzPw==",
          "dtype": "f8"
         },
         "yaxis": "y"
        }
       ],
       "layout": {
        "coloraxis": {
         "colorbar": {
          "title": {
           "text": "tackle_completion_%"
          }
         },
         "colorscale": [
          [
           0,
           "rgb(165,0,38)"
          ],
          [
           0.1,
           "rgb(215,48,39)"
          ],
          [
           0.2,
           "rgb(244,109,67)"
          ],
          [
           0.3,
           "rgb(253,174,97)"
          ],
          [
           0.4,
           "rgb(254,224,139)"
          ],
          [
           0.5,
           "rgb(255,255,191)"
          ],
          [
           0.6,
           "rgb(217,239,139)"
          ],
          [
           0.7,
           "rgb(166,217,106)"
          ],
          [
           0.8,
           "rgb(102,189,99)"
          ],
          [
           0.9,
           "rgb(26,152,80)"
          ],
          [
           1,
           "rgb(0,104,55)"
          ]
         ],
         "showscale": false
        },
        "height": 700,
        "legend": {
         "tracegroupgap": 0
        },
        "paper_bgcolor": "darkgray",
        "plot_bgcolor": "darkgray",
        "template": {
         "data": {
          "bar": [
           {
            "error_x": {
             "color": "#2a3f5f"
            },
            "error_y": {
             "color": "#2a3f5f"
            },
            "marker": {
             "line": {
              "color": "#E5ECF6",
              "width": 0.5
             },
             "pattern": {
              "fillmode": "overlay",
              "size": 10,
              "solidity": 0.2
             }
            },
            "type": "bar"
           }
          ],
          "barpolar": [
           {
            "marker": {
             "line": {
              "color": "#E5ECF6",
              "width": 0.5
             },
             "pattern": {
              "fillmode": "overlay",
              "size": 10,
              "solidity": 0.2
             }
            },
            "type": "barpolar"
           }
          ],
          "carpet": [
           {
            "aaxis": {
             "endlinecolor": "#2a3f5f",
             "gridcolor": "white",
             "linecolor": "white",
             "minorgridcolor": "white",
             "startlinecolor": "#2a3f5f"
            },
            "baxis": {
             "endlinecolor": "#2a3f5f",
             "gridcolor": "white",
             "linecolor": "white",
             "minorgridcolor": "white",
             "startlinecolor": "#2a3f5f"
            },
            "type": "carpet"
           }
          ],
          "choropleth": [
           {
            "colorbar": {
             "outlinewidth": 0,
             "ticks": ""
            },
            "type": "choropleth"
           }
          ],
          "contour": [
           {
            "colorbar": {
             "outlinewidth": 0,
             "ticks": ""
            },
            "colorscale": [
             [
              0,
              "#0d0887"
             ],
             [
              0.1111111111111111,
              "#46039f"
             ],
             [
              0.2222222222222222,
              "#7201a8"
             ],
             [
              0.3333333333333333,
              "#9c179e"
             ],
             [
              0.4444444444444444,
              "#bd3786"
             ],
             [
              0.5555555555555556,
              "#d8576b"
             ],
             [
              0.6666666666666666,
              "#ed7953"
             ],
             [
              0.7777777777777778,
              "#fb9f3a"
             ],
             [
              0.8888888888888888,
              "#fdca26"
             ],
             [
              1,
              "#f0f921"
             ]
            ],
            "type": "contour"
           }
          ],
          "contourcarpet": [
           {
            "colorbar": {
             "outlinewidth": 0,
             "ticks": ""
            },
            "type": "contourcarpet"
           }
          ],
          "heatmap": [
           {
            "colorbar": {
             "outlinewidth": 0,
             "ticks": ""
            },
            "colorscale": [
             [
              0,
              "#0d0887"
             ],
             [
              0.1111111111111111,
              "#46039f"
             ],
             [
              0.2222222222222222,
              "#7201a8"
             ],
             [
              0.3333333333333333,
              "#9c179e"
             ],
             [
              0.4444444444444444,
              "#bd3786"
             ],
             [
              0.5555555555555556,
              "#d8576b"
             ],
             [
              0.6666666666666666,
              "#ed7953"
             ],
             [
              0.7777777777777778,
              "#fb9f3a"
             ],
             [
              0.8888888888888888,
              "#fdca26"
             ],
             [
              1,
              "#f0f921"
             ]
            ],
            "type": "heatmap"
           }
          ],
          "histogram": [
           {
            "marker": {
             "pattern": {
              "fillmode": "overlay",
              "size": 10,
              "solidity": 0.2
             }
            },
            "type": "histogram"
           }
          ],
          "histogram2d": [
           {
            "colorbar": {
             "outlinewidth": 0,
             "ticks": ""
            },
            "colorscale": [
             [
              0,
              "#0d0887"
             ],
             [
              0.1111111111111111,
              "#46039f"
             ],
             [
              0.2222222222222222,
              "#7201a8"
             ],
             [
              0.3333333333333333,
              "#9c179e"
             ],
             [
              0.4444444444444444,
              "#bd3786"
             ],
             [
              0.5555555555555556,
              "#d8576b"
             ],
             [
              0.6666666666666666,
              "#ed7953"
             ],
             [
              0.7777777777777778,
              "#fb9f3a"
             ],
             [
              0.8888888888888888,
              "#fdca26"
             ],
             [
              1,
              "#f0f921"
             ]
            ],
            "type": "histogram2d"
           }
          ],
          "histogram2dcontour": [
           {
            "colorbar": {
             "outlinewidth": 0,
             "ticks": ""
            },
            "colorscale": [
             [
              0,
              "#0d0887"
             ],
             [
              0.1111111111111111,
              "#46039f"
             ],
             [
              0.2222222222222222,
              "#7201a8"
             ],
             [
              0.3333333333333333,
              "#9c179e"
             ],
             [
              0.4444444444444444,
              "#bd3786"
             ],
             [
              0.5555555555555556,
              "#d8576b"
             ],
             [
              0.6666666666666666,
              "#ed7953"
             ],
             [
              0.7777777777777778,
              "#fb9f3a"
             ],
             [
              0.8888888888888888,
              "#fdca26"
             ],
             [
              1,
              "#f0f921"
             ]
            ],
            "type": "histogram2dcontour"
           }
          ],
          "mesh3d": [
           {
            "colorbar": {
             "outlinewidth": 0,
             "ticks": ""
            },
            "type": "mesh3d"
           }
          ],
          "parcoords": [
           {
            "line": {
             "colorbar": {
              "outlinewidth": 0,
              "ticks": ""
             }
            },
            "type": "parcoords"
           }
          ],
          "pie": [
           {
            "automargin": true,
            "type": "pie"
           }
          ],
          "scatter": [
           {
            "fillpattern": {
             "fillmode": "overlay",
             "size": 10,
             "solidity": 0.2
            },
            "type": "scatter"
           }
          ],
          "scatter3d": [
           {
            "line": {
             "colorbar": {
              "outlinewidth": 0,
              "ticks": ""
             }
            },
            "marker": {
             "colorbar": {
              "outlinewidth": 0,
              "ticks": ""
             }
            },
            "type": "scatter3d"
           }
          ],
          "scattercarpet": [
           {
            "marker": {
             "colorbar": {
              "outlinewidth": 0,
              "ticks": ""
             }
            },
            "type": "scattercarpet"
           }
          ],
          "scattergeo": [
           {
            "marker": {
             "colorbar": {
              "outlinewidth": 0,
              "ticks": ""
             }
            },
            "type": "scattergeo"
           }
          ],
          "scattergl": [
           {
            "marker": {
             "colorbar": {
              "outlinewidth": 0,
              "ticks": ""
             }
            },
            "type": "scattergl"
           }
          ],
          "scattermap": [
           {
            "marker": {
             "colorbar": {
              "outlinewidth": 0,
              "ticks": ""
             }
            },
            "type": "scattermap"
           }
          ],
          "scattermapbox": [
           {
            "marker": {
             "colorbar": {
              "outlinewidth": 0,
              "ticks": ""
             }
            },
            "type": "scattermapbox"
           }
          ],
          "scatterpolar": [
           {
            "marker": {
             "colorbar": {
              "outlinewidth": 0,
              "ticks": ""
             }
            },
            "type": "scatterpolar"
           }
          ],
          "scatterpolargl": [
           {
            "marker": {
             "colorbar": {
              "outlinewidth": 0,
              "ticks": ""
             }
            },
            "type": "scatterpolargl"
           }
          ],
          "scatterternary": [
           {
            "marker": {
             "colorbar": {
              "outlinewidth": 0,
              "ticks": ""
             }
            },
            "type": "scatterternary"
           }
          ],
          "surface": [
           {
            "colorbar": {
             "outlinewidth": 0,
             "ticks": ""
            },
            "colorscale": [
             [
              0,
              "#0d0887"
             ],
             [
              0.1111111111111111,
              "#46039f"
             ],
             [
              0.2222222222222222,
              "#7201a8"
             ],
             [
              0.3333333333333333,
              "#9c179e"
             ],
             [
              0.4444444444444444,
              "#bd3786"
             ],
             [
              0.5555555555555556,
              "#d8576b"
             ],
             [
              0.6666666666666666,
              "#ed7953"
             ],
             [
              0.7777777777777778,
              "#fb9f3a"
             ],
             [
              0.8888888888888888,
              "#fdca26"
             ],
             [
              1,
              "#f0f921"
             ]
            ],
            "type": "surface"
           }
          ],
          "table": [
           {
            "cells": {
             "fill": {
              "color": "#EBF0F8"
             },
             "line": {
              "color": "white"
             }
            },
            "header": {
             "fill": {
              "color": "#C8D4E3"
             },
             "line": {
              "color": "white"
             }
            },
            "type": "table"
           }
          ]
         },
         "layout": {
          "annotationdefaults": {
           "arrowcolor": "#2a3f5f",
           "arrowhead": 0,
           "arrowwidth": 1
          },
          "autotypenumbers": "strict",
          "coloraxis": {
           "colorbar": {
            "outlinewidth": 0,
            "ticks": ""
           }
          },
          "colorscale": {
           "diverging": [
            [
             0,
             "#8e0152"
            ],
            [
             0.1,
             "#c51b7d"
            ],
            [
             0.2,
             "#de77ae"
            ],
            [
             0.3,
             "#f1b6da"
            ],
            [
             0.4,
             "#fde0ef"
            ],
            [
             0.5,
             "#f7f7f7"
            ],
            [
             0.6,
             "#e6f5d0"
            ],
            [
             0.7,
             "#b8e186"
            ],
            [
             0.8,
             "#7fbc41"
            ],
            [
             0.9,
             "#4d9221"
            ],
            [
             1,
             "#276419"
            ]
           ],
           "sequential": [
            [
             0,
             "#0d0887"
            ],
            [
             0.1111111111111111,
             "#46039f"
            ],
            [
             0.2222222222222222,
             "#7201a8"
            ],
            [
             0.3333333333333333,
             "#9c179e"
            ],
            [
             0.4444444444444444,
             "#bd3786"
            ],
            [
             0.5555555555555556,
             "#d8576b"
            ],
            [
             0.6666666666666666,
             "#ed7953"
            ],
            [
             0.7777777777777778,
             "#fb9f3a"
            ],
            [
             0.8888888888888888,
             "#fdca26"
            ],
            [
             1,
             "#f0f921"
            ]
           ],
           "sequentialminus": [
            [
             0,
             "#0d0887"
            ],
            [
             0.1111111111111111,
             "#46039f"
            ],
            [
             0.2222222222222222,
             "#7201a8"
            ],
            [
             0.3333333333333333,
             "#9c179e"
            ],
            [
             0.4444444444444444,
             "#bd3786"
            ],
            [
             0.5555555555555556,
             "#d8576b"
            ],
            [
             0.6666666666666666,
             "#ed7953"
            ],
            [
             0.7777777777777778,
             "#fb9f3a"
            ],
            [
             0.8888888888888888,
             "#fdca26"
            ],
            [
             1,
             "#f0f921"
            ]
           ]
          },
          "colorway": [
           "#636efa",
           "#EF553B",
           "#00cc96",
           "#ab63fa",
           "#FFA15A",
           "#19d3f3",
           "#FF6692",
           "#B6E880",
           "#FF97FF",
           "#FECB52"
          ],
          "font": {
           "color": "#2a3f5f"
          },
          "geo": {
           "bgcolor": "white",
           "lakecolor": "white",
           "landcolor": "#E5ECF6",
           "showlakes": true,
           "showland": true,
           "subunitcolor": "white"
          },
          "hoverlabel": {
           "align": "left"
          },
          "hovermode": "closest",
          "mapbox": {
           "style": "light"
          },
          "paper_bgcolor": "white",
          "plot_bgcolor": "#E5ECF6",
          "polar": {
           "angularaxis": {
            "gridcolor": "white",
            "linecolor": "white",
            "ticks": ""
           },
           "bgcolor": "#E5ECF6",
           "radialaxis": {
            "gridcolor": "white",
            "linecolor": "white",
            "ticks": ""
           }
          },
          "scene": {
           "xaxis": {
            "backgroundcolor": "#E5ECF6",
            "gridcolor": "white",
            "gridwidth": 2,
            "linecolor": "white",
            "showbackground": true,
            "ticks": "",
            "zerolinecolor": "white"
           },
           "yaxis": {
            "backgroundcolor": "#E5ECF6",
            "gridcolor": "white",
            "gridwidth": 2,
            "linecolor": "white",
            "showbackground": true,
            "ticks": "",
            "zerolinecolor": "white"
           },
           "zaxis": {
            "backgroundcolor": "#E5ECF6",
            "gridcolor": "white",
            "gridwidth": 2,
            "linecolor": "white",
            "showbackground": true,
            "ticks": "",
            "zerolinecolor": "white"
           }
          },
          "shapedefaults": {
           "line": {
            "color": "#2a3f5f"
           }
          },
          "ternary": {
           "aaxis": {
            "gridcolor": "white",
            "linecolor": "white",
            "ticks": ""
           },
           "baxis": {
            "gridcolor": "white",
            "linecolor": "white",
            "ticks": ""
           },
           "bgcolor": "#E5ECF6",
           "caxis": {
            "gridcolor": "white",
            "linecolor": "white",
            "ticks": ""
           }
          },
          "title": {
           "x": 0.05
          },
          "xaxis": {
           "automargin": true,
           "gridcolor": "white",
           "linecolor": "white",
           "ticks": "",
           "title": {
            "standoff": 15
           },
           "zerolinecolor": "white",
           "zerolinewidth": 2
          },
          "yaxis": {
           "automargin": true,
           "gridcolor": "white",
           "linecolor": "white",
           "ticks": "",
           "title": {
            "standoff": 15
           },
           "zerolinecolor": "white",
           "zerolinewidth": 2
          }
         }
        },
        "title": {
         "text": "Aggresion - Control ( 59)",
         "x": 0.5,
         "xanchor": "center"
        },
        "width": 1200,
        "xaxis": {
         "anchor": "y",
         "domain": [
          0,
          1
         ],
         "gridcolor": "white",
         "showgrid": true,
         "title": {
          "text": "tackles_completed/90"
         },
         "zeroline": false
        },
        "yaxis": {
         "anchor": "x",
         "domain": [
          0,
          1
         ],
         "gridcolor": "white",
         "showgrid": true,
         "title": {
          "text": "fouls_committed/90"
         },
         "zeroline": false
        }
       }
      }
     },
     "metadata": {},
     "output_type": "display_data"
    }
   ],
   "source": [
    "# Compute tackes/fouls ratio\n",
    "df_players['tackles_comp-fouls/90'] = df_players['tackles_completed/90'] / df_players['fouls_committed/90']\n",
    "# Filter data \n",
    "mask = (\n",
    "        (df_players['tackles_comp-fouls/90'] <= 2) & \\\n",
    "        (df_players['tackles_completed/90'] >= 1) & \\\n",
    "        (df_players['tackle_completion_%'] >= 70) & \\\n",
    "        (df_players['price_estimate_M'] <= 40) & \\\n",
    "        (df_players['id'].isin(targets))\n",
    "        \n",
    "        \n",
    ")\n",
    "\n",
    "df_targets = df_players[mask]\n",
    "\n",
    "scatter_plot(df_targets,\n",
    "             x_metric='tackles_completed/90', \n",
    "             y_metric='fouls_committed/90',\n",
    "             z_metric='tackle_completion_%',\n",
    "             title='Aggresion - Control', \n",
    "             show_name_label=False\n",
    ")\n",
    "\n",
    "# Keep only players that fulfill criteria\n",
    "targets = df_targets['id']"
   ]
  },
  {
   "cell_type": "markdown",
   "id": "a76d3e76",
   "metadata": {},
   "source": [
    "## Pressure quality"
   ]
  },
  {
   "cell_type": "code",
   "execution_count": 151,
   "id": "7794f58b",
   "metadata": {},
   "outputs": [
    {
     "data": {
      "application/vnd.plotly.v1+json": {
       "config": {
        "plotlyServerURL": "https://plot.ly"
       },
       "data": [
        {
         "customdata": [
          [
           "Santiago Ascacíbar",
           "Estudiantes (LP)"
          ],
          [
           "Franco Moyano",
           "Argentinos Jrs."
          ],
          [
           "Leonel Picco",
           "Platense"
          ],
          [
           "Carlos Villalba",
           "Platense"
          ],
          [
           "Santiago Sosa",
           "Racing Club"
          ],
          [
           "Nicolás Garayalde",
           "Vélez"
          ],
          [
           "Franco Ibarra",
           "Rosario Central"
          ],
          [
           "Francisco Perruzzi",
           "San Lorenzo"
          ],
          [
           "Mateo Cáceres",
           "Tigre"
          ],
          [
           "Bautista Kociubinski",
           "Estudiantes (LP)"
          ],
          [
           "Mateo Seoane",
           "Talleres"
          ],
          [
           "Santiago Longo",
           "Belgrano"
          ],
          [
           "Ignacio Miramón",
           "Lille"
          ],
          [
           "Xaver Schlager",
           "RB Leipzig"
          ],
          [
           "Amadou Haïdara",
           "RB Leipzig"
          ],
          [
           "Arno Verschueren",
           "Sparta Rotterdam"
          ],
          [
           "Albert Sambi Lokonga",
           "Luton"
          ],
          [
           "Thiago Maia",
           "FLA"
          ],
          [
           "Matheus Henrique",
           "FLA"
          ],
          [
           "Pedro Augusto",
           "FOR"
          ],
          [
           "Hugo Moura",
           "Athlético Paranaense"
          ],
          [
           "Luan",
           "SPO"
          ],
          [
           "Zé Gabriel",
           "Vasco da Gama"
          ],
          [
           "Jhonny Lucas",
           "GOI"
          ],
          [
           "Edu",
           "GOI"
          ],
          [
           "Jadsom",
           "RB Bragantino"
          ],
          [
           "André",
           "FLU"
          ],
          [
           "Pablo Maia",
           "SPO"
          ],
          [
           "Bruno Gomes",
           "CTB"
          ],
          [
           "Fabinho",
           "SEP"
          ],
          [
           "Martinelli",
           "FLU"
          ],
          [
           "Morten Hjulmand",
           "Sporting CP"
          ],
          [
           "Flynn Downes",
           "Southampton"
          ],
          [
           "Melle Meulensteen",
           "Vitesse"
          ],
          [
           "David Kasumu",
           "Huddersfield"
          ],
          [
           "Eliano Reijnders",
           "PEC Zwolle"
          ],
          [
           "Daniel Boloca",
           "Sassuolo"
          ],
          [
           "Tommaso Pobega",
           "Milan"
          ],
          [
           "Michel Ndary Adopo",
           "Atalanta"
          ],
          [
           "Salis Abdul Samed",
           "Lens"
          ],
          [
           "Sivert Mannsverk",
           "Ajax"
          ],
          [
           "Eboué Kouassi",
           "Arouca"
          ],
          [
           "Mirko Topić",
           "Famalicão"
          ],
          [
           "Pepelu",
           "Valencia"
          ],
          [
           "Keidi Bare",
           "Coventry"
          ],
          [
           "Fran Beltrán",
           "Celta"
          ],
          [
           "Edgar",
           "Almería"
          ],
          [
           "Jesús Castillo",
           "Gil Vicente"
          ],
          [
           "Nicolás Acevedo",
           "BAH"
          ],
          [
           "Samú",
           "Mallorca"
          ],
          [
           "Gonçalo Franco",
           "Moreirense"
          ],
          [
           "Leandro Barreiro",
           "Mainz 05"
          ],
          [
           "William Clem",
           "FC København"
          ],
          [
           "Guilherme Madruga",
           "CUI"
          ],
          [
           "Alexsander",
           "FLU"
          ],
          [
           "Emanuel Quinteros",
           "Godoy Cruz"
          ],
          [
           "Benjamín Schamine",
           "Defensa y Justicia"
          ],
          [
           "Kevin Ortiz",
           "Rosario Central"
          ],
          [
           "Lucas López",
           "Instituto"
          ]
         ],
         "hovertemplate": "<b>%{customdata[0]}</b><br><b>%{customdata[1]}</b><br><br>pressures_completed/90: %{x}<br>pressure_success_%: %{y}<br>duels_win_%: %{marker.color}<extra></extra>",
         "legendgroup": "",
         "marker": {
          "color": {
           "bdata": "rkfhehT+UEBI4XoUrqdKQEjhehSuZ1FAzczMzMxMTEDXo3A9CrdQQGZmZmZm5kxAFK5H4Xq0T0CamZmZmZlMQK5H4XoUTkhAKVyPwvUYUUAzMzMzM1NMQMP1KFyPQk1AhetRuB7FTkDsUbgehYtNQJqZmZmZ+UlAAAAAAAAgT0A9CtejcN1KQJqZmZmZuU5AUrgehesxS0AUrkfhehRQQEjhehSuR05AexSuR+G6TkApXI/C9QhOQNejcD0K101Aw/UoXI+iT0BxPQrXoxBNQJqZmZmZOU9Aw/UoXI9CTECF61G4HuVMQNejcD0Kl05AmpmZmZkZTUBI4XoUridMQK5H4XoUblFAAAAAAAAgTEB7FK5H4VpJQOxRuB6FS0ZArkfhehRuT0DhehSuR2FQQJqZmZmZSVBAw/UoXI8iUUDhehSuRyFPQNejcD0Kd1FAUrgeheuRUEB7FK5H4bpJQOF6FK5HoU1AcT0K16NwS0ApXI/C9fhQQGZmZmZmBlBAmpmZmZlZSkDhehSuR+FOQAAAAAAAQE9AAAAAAAAASUBmZmZmZmZSQHsUrkfhGlFAXI/C9SgcT0DsUbgehStOQI/C9ShcD05AzczMzMwMTkB7FK5H4apQQA==",
           "dtype": "f8"
          },
          "coloraxis": "coloraxis",
          "size": 10,
          "symbol": "circle"
         },
         "mode": "markers+text",
         "name": "",
         "orientation": "v",
         "showlegend": false,
         "text": [
          "Santiago Ascacíbar",
          "Franco Moyano",
          "Leonel Picco",
          "Carlos Villalba",
          "Santiago Sosa",
          "Nicolás Garayalde",
          "Franco Ibarra",
          "Francisco Perruzzi",
          "Mateo Cáceres",
          "Bautista Kociubinski",
          "Mateo Seoane",
          "Santiago Longo",
          "Ignacio Miramón",
          "Xaver Schlager",
          "Amadou Haïdara",
          "Arno Verschueren",
          "Albert Sambi Lokonga",
          "Thiago Maia",
          "Matheus Henrique",
          "Pedro Augusto",
          "Hugo Moura",
          "Luan",
          "Zé Gabriel",
          "Jhonny Lucas",
          "Edu",
          "Jadsom",
          "André",
          "Pablo Maia",
          "Bruno Gomes",
          "Fabinho",
          "Martinelli",
          "Morten Hjulmand",
          "Flynn Downes",
          "Melle Meulensteen",
          "David Kasumu",
          "Eliano Reijnders",
          "Daniel Boloca",
          "Tommaso Pobega",
          "Michel Ndary Adopo",
          "Salis Abdul Samed",
          "Sivert Mannsverk",
          "Eboué Kouassi",
          "Mirko Topić",
          "Pepelu",
          "Keidi Bare",
          "Fran Beltrán",
          "Edgar",
          "Jesús Castillo",
          "Nicolás Acevedo",
          "Samú",
          "Gonçalo Franco",
          "Leandro Barreiro",
          "William Clem",
          "Guilherme Madruga",
          "Alexsander",
          "Emanuel Quinteros",
          "Benjamín Schamine",
          "Kevin Ortiz",
          "Lucas López"
         ],
         "textfont": {
          "size": 10
         },
         "textposition": "top center",
         "type": "scatter",
         "x": {
          "bdata": "j8L1KFyPBkDD9Shcj8IHQPYoXI/C9QRAZmZmZmZmCkApXI/C9SgKQBSuR+F6FAZAuB6F61G4CEC4HoXrUbgIQJqZmZmZmQVAzczMzMzMBkDhehSuR+EGQDMzMzMzMw1ArkfhehSuCUAzMzMzMzMFQB+F61G4HgdAmpmZmZmZAUCPwvUoXI8EQIXrUbgehQlAFK5H4XoUDEDXo3A9CtcFQArXo3A9CgdAPQrXo3A9BkBI4XoUrkcJQGZmZmZmZgZAzczMzMzMAEAzMzMzMzMDQD0K16NwPQhA4XoUrkfhCkAK16NwPQoHQClcj8L1KARA16NwPQrXC0DXo3A9CtcBQB+F61G4HgVAw/UoXI/CCUAAAAAAAAAGQD0K16NwPQpArkfhehSu/z89CtejcD0GQFyPwvUoXAVAFK5H4XoUEEApXI/C9SgEQLgehetRuP4/9ihcj8L1BkB7FK5H4XoEQI/C9ShcjwhA16NwPQrXBUAfhetRuB4BQD0K16NwPQZAH4XrUbgeBUCamZmZmZkJQI/C9ShcjwRAFK5H4XoUAEAAAAAAAAAGQIXrUbgehQFAmpmZmZmZCUDXo3A9CtcHQHE9CtejcAtAhetRuB6FBUBcj8L1KFwBQA==",
          "dtype": "f8"
         },
         "xaxis": "x",
         "y": {
          "bdata": "AAAAAACAPEBxPQrXo3A7QHsUrkfhujlApHA9CtcjPECuR+F6FC47QFK4HoXrUThASOF6FK6HO0DD9Shcj0I9QHE9CtejMDtACtejcD2KPUBxPQrXozA+QAAAAAAAQD9ASOF6FK6HP0AK16NwPUo8QFK4HoXrkT1AcT0K16MwM0AK16NwPYo4QM3MzMzMDEBAKVyPwvVoPUA9CtejcP01QMP1KFyPgjpApHA9CtejOECF61G4HiVAQHsUrkfhujpAAAAAAADAPUBSuB6F61E6QD0K16NwvT1AZmZmZmbmOkAUrkfhepQ9QArXo3A9SjdASOF6FK7HPUDXo3A9Chc6QHE9CtejcD9APQrXo3A9QUD2KFyPwvU6QD0K16NwfTtAPQrXo3C9M0DXo3A9ChdAQAAAAAAAADlASOF6FK6HQECF61G4HoU7QNejcD0Kd0BA9ihcj8J1PEDNzMzMzIw4QMP1KFyPAjpAAAAAAADAO0D2KFyPwnU9QD0K16NwfTpA9ihcj8J1OUDXo3A9Chc6QFyPwvUoXD5ApHA9CtcjNEAUrkfhehRAQMP1KFyPwjlAzczMzMxMP0CamZmZmZk5QKRwPQrXI0BAmpmZmZkZOkDsUbgehes2QA==",
          "dtype": "f8"
         },
         "yaxis": "y"
        }
       ],
       "layout": {
        "coloraxis": {
         "colorbar": {
          "title": {
           "text": "duels_win_%"
          }
         },
         "colorscale": [
          [
           0,
           "rgb(165,0,38)"
          ],
          [
           0.1,
           "rgb(215,48,39)"
          ],
          [
           0.2,
           "rgb(244,109,67)"
          ],
          [
           0.3,
           "rgb(253,174,97)"
          ],
          [
           0.4,
           "rgb(254,224,139)"
          ],
          [
           0.5,
           "rgb(255,255,191)"
          ],
          [
           0.6,
           "rgb(217,239,139)"
          ],
          [
           0.7,
           "rgb(166,217,106)"
          ],
          [
           0.8,
           "rgb(102,189,99)"
          ],
          [
           0.9,
           "rgb(26,152,80)"
          ],
          [
           1,
           "rgb(0,104,55)"
          ]
         ],
         "showscale": false
        },
        "height": 700,
        "legend": {
         "tracegroupgap": 0
        },
        "paper_bgcolor": "darkgray",
        "plot_bgcolor": "darkgray",
        "template": {
         "data": {
          "bar": [
           {
            "error_x": {
             "color": "#2a3f5f"
            },
            "error_y": {
             "color": "#2a3f5f"
            },
            "marker": {
             "line": {
              "color": "#E5ECF6",
              "width": 0.5
             },
             "pattern": {
              "fillmode": "overlay",
              "size": 10,
              "solidity": 0.2
             }
            },
            "type": "bar"
           }
          ],
          "barpolar": [
           {
            "marker": {
             "line": {
              "color": "#E5ECF6",
              "width": 0.5
             },
             "pattern": {
              "fillmode": "overlay",
              "size": 10,
              "solidity": 0.2
             }
            },
            "type": "barpolar"
           }
          ],
          "carpet": [
           {
            "aaxis": {
             "endlinecolor": "#2a3f5f",
             "gridcolor": "white",
             "linecolor": "white",
             "minorgridcolor": "white",
             "startlinecolor": "#2a3f5f"
            },
            "baxis": {
             "endlinecolor": "#2a3f5f",
             "gridcolor": "white",
             "linecolor": "white",
             "minorgridcolor": "white",
             "startlinecolor": "#2a3f5f"
            },
            "type": "carpet"
           }
          ],
          "choropleth": [
           {
            "colorbar": {
             "outlinewidth": 0,
             "ticks": ""
            },
            "type": "choropleth"
           }
          ],
          "contour": [
           {
            "colorbar": {
             "outlinewidth": 0,
             "ticks": ""
            },
            "colorscale": [
             [
              0,
              "#0d0887"
             ],
             [
              0.1111111111111111,
              "#46039f"
             ],
             [
              0.2222222222222222,
              "#7201a8"
             ],
             [
              0.3333333333333333,
              "#9c179e"
             ],
             [
              0.4444444444444444,
              "#bd3786"
             ],
             [
              0.5555555555555556,
              "#d8576b"
             ],
             [
              0.6666666666666666,
              "#ed7953"
             ],
             [
              0.7777777777777778,
              "#fb9f3a"
             ],
             [
              0.8888888888888888,
              "#fdca26"
             ],
             [
              1,
              "#f0f921"
             ]
            ],
            "type": "contour"
           }
          ],
          "contourcarpet": [
           {
            "colorbar": {
             "outlinewidth": 0,
             "ticks": ""
            },
            "type": "contourcarpet"
           }
          ],
          "heatmap": [
           {
            "colorbar": {
             "outlinewidth": 0,
             "ticks": ""
            },
            "colorscale": [
             [
              0,
              "#0d0887"
             ],
             [
              0.1111111111111111,
              "#46039f"
             ],
             [
              0.2222222222222222,
              "#7201a8"
             ],
             [
              0.3333333333333333,
              "#9c179e"
             ],
             [
              0.4444444444444444,
              "#bd3786"
             ],
             [
              0.5555555555555556,
              "#d8576b"
             ],
             [
              0.6666666666666666,
              "#ed7953"
             ],
             [
              0.7777777777777778,
              "#fb9f3a"
             ],
             [
              0.8888888888888888,
              "#fdca26"
             ],
             [
              1,
              "#f0f921"
             ]
            ],
            "type": "heatmap"
           }
          ],
          "histogram": [
           {
            "marker": {
             "pattern": {
              "fillmode": "overlay",
              "size": 10,
              "solidity": 0.2
             }
            },
            "type": "histogram"
           }
          ],
          "histogram2d": [
           {
            "colorbar": {
             "outlinewidth": 0,
             "ticks": ""
            },
            "colorscale": [
             [
              0,
              "#0d0887"
             ],
             [
              0.1111111111111111,
              "#46039f"
             ],
             [
              0.2222222222222222,
              "#7201a8"
             ],
             [
              0.3333333333333333,
              "#9c179e"
             ],
             [
              0.4444444444444444,
              "#bd3786"
             ],
             [
              0.5555555555555556,
              "#d8576b"
             ],
             [
              0.6666666666666666,
              "#ed7953"
             ],
             [
              0.7777777777777778,
              "#fb9f3a"
             ],
             [
              0.8888888888888888,
              "#fdca26"
             ],
             [
              1,
              "#f0f921"
             ]
            ],
            "type": "histogram2d"
           }
          ],
          "histogram2dcontour": [
           {
            "colorbar": {
             "outlinewidth": 0,
             "ticks": ""
            },
            "colorscale": [
             [
              0,
              "#0d0887"
             ],
             [
              0.1111111111111111,
              "#46039f"
             ],
             [
              0.2222222222222222,
              "#7201a8"
             ],
             [
              0.3333333333333333,
              "#9c179e"
             ],
             [
              0.4444444444444444,
              "#bd3786"
             ],
             [
              0.5555555555555556,
              "#d8576b"
             ],
             [
              0.6666666666666666,
              "#ed7953"
             ],
             [
              0.7777777777777778,
              "#fb9f3a"
             ],
             [
              0.8888888888888888,
              "#fdca26"
             ],
             [
              1,
              "#f0f921"
             ]
            ],
            "type": "histogram2dcontour"
           }
          ],
          "mesh3d": [
           {
            "colorbar": {
             "outlinewidth": 0,
             "ticks": ""
            },
            "type": "mesh3d"
           }
          ],
          "parcoords": [
           {
            "line": {
             "colorbar": {
              "outlinewidth": 0,
              "ticks": ""
             }
            },
            "type": "parcoords"
           }
          ],
          "pie": [
           {
            "automargin": true,
            "type": "pie"
           }
          ],
          "scatter": [
           {
            "fillpattern": {
             "fillmode": "overlay",
             "size": 10,
             "solidity": 0.2
            },
            "type": "scatter"
           }
          ],
          "scatter3d": [
           {
            "line": {
             "colorbar": {
              "outlinewidth": 0,
              "ticks": ""
             }
            },
            "marker": {
             "colorbar": {
              "outlinewidth": 0,
              "ticks": ""
             }
            },
            "type": "scatter3d"
           }
          ],
          "scattercarpet": [
           {
            "marker": {
             "colorbar": {
              "outlinewidth": 0,
              "ticks": ""
             }
            },
            "type": "scattercarpet"
           }
          ],
          "scattergeo": [
           {
            "marker": {
             "colorbar": {
              "outlinewidth": 0,
              "ticks": ""
             }
            },
            "type": "scattergeo"
           }
          ],
          "scattergl": [
           {
            "marker": {
             "colorbar": {
              "outlinewidth": 0,
              "ticks": ""
             }
            },
            "type": "scattergl"
           }
          ],
          "scattermap": [
           {
            "marker": {
             "colorbar": {
              "outlinewidth": 0,
              "ticks": ""
             }
            },
            "type": "scattermap"
           }
          ],
          "scattermapbox": [
           {
            "marker": {
             "colorbar": {
              "outlinewidth": 0,
              "ticks": ""
             }
            },
            "type": "scattermapbox"
           }
          ],
          "scatterpolar": [
           {
            "marker": {
             "colorbar": {
              "outlinewidth": 0,
              "ticks": ""
             }
            },
            "type": "scatterpolar"
           }
          ],
          "scatterpolargl": [
           {
            "marker": {
             "colorbar": {
              "outlinewidth": 0,
              "ticks": ""
             }
            },
            "type": "scatterpolargl"
           }
          ],
          "scatterternary": [
           {
            "marker": {
             "colorbar": {
              "outlinewidth": 0,
              "ticks": ""
             }
            },
            "type": "scatterternary"
           }
          ],
          "surface": [
           {
            "colorbar": {
             "outlinewidth": 0,
             "ticks": ""
            },
            "colorscale": [
             [
              0,
              "#0d0887"
             ],
             [
              0.1111111111111111,
              "#46039f"
             ],
             [
              0.2222222222222222,
              "#7201a8"
             ],
             [
              0.3333333333333333,
              "#9c179e"
             ],
             [
              0.4444444444444444,
              "#bd3786"
             ],
             [
              0.5555555555555556,
              "#d8576b"
             ],
             [
              0.6666666666666666,
              "#ed7953"
             ],
             [
              0.7777777777777778,
              "#fb9f3a"
             ],
             [
              0.8888888888888888,
              "#fdca26"
             ],
             [
              1,
              "#f0f921"
             ]
            ],
            "type": "surface"
           }
          ],
          "table": [
           {
            "cells": {
             "fill": {
              "color": "#EBF0F8"
             },
             "line": {
              "color": "white"
             }
            },
            "header": {
             "fill": {
              "color": "#C8D4E3"
             },
             "line": {
              "color": "white"
             }
            },
            "type": "table"
           }
          ]
         },
         "layout": {
          "annotationdefaults": {
           "arrowcolor": "#2a3f5f",
           "arrowhead": 0,
           "arrowwidth": 1
          },
          "autotypenumbers": "strict",
          "coloraxis": {
           "colorbar": {
            "outlinewidth": 0,
            "ticks": ""
           }
          },
          "colorscale": {
           "diverging": [
            [
             0,
             "#8e0152"
            ],
            [
             0.1,
             "#c51b7d"
            ],
            [
             0.2,
             "#de77ae"
            ],
            [
             0.3,
             "#f1b6da"
            ],
            [
             0.4,
             "#fde0ef"
            ],
            [
             0.5,
             "#f7f7f7"
            ],
            [
             0.6,
             "#e6f5d0"
            ],
            [
             0.7,
             "#b8e186"
            ],
            [
             0.8,
             "#7fbc41"
            ],
            [
             0.9,
             "#4d9221"
            ],
            [
             1,
             "#276419"
            ]
           ],
           "sequential": [
            [
             0,
             "#0d0887"
            ],
            [
             0.1111111111111111,
             "#46039f"
            ],
            [
             0.2222222222222222,
             "#7201a8"
            ],
            [
             0.3333333333333333,
             "#9c179e"
            ],
            [
             0.4444444444444444,
             "#bd3786"
            ],
            [
             0.5555555555555556,
             "#d8576b"
            ],
            [
             0.6666666666666666,
             "#ed7953"
            ],
            [
             0.7777777777777778,
             "#fb9f3a"
            ],
            [
             0.8888888888888888,
             "#fdca26"
            ],
            [
             1,
             "#f0f921"
            ]
           ],
           "sequentialminus": [
            [
             0,
             "#0d0887"
            ],
            [
             0.1111111111111111,
             "#46039f"
            ],
            [
             0.2222222222222222,
             "#7201a8"
            ],
            [
             0.3333333333333333,
             "#9c179e"
            ],
            [
             0.4444444444444444,
             "#bd3786"
            ],
            [
             0.5555555555555556,
             "#d8576b"
            ],
            [
             0.6666666666666666,
             "#ed7953"
            ],
            [
             0.7777777777777778,
             "#fb9f3a"
            ],
            [
             0.8888888888888888,
             "#fdca26"
            ],
            [
             1,
             "#f0f921"
            ]
           ]
          },
          "colorway": [
           "#636efa",
           "#EF553B",
           "#00cc96",
           "#ab63fa",
           "#FFA15A",
           "#19d3f3",
           "#FF6692",
           "#B6E880",
           "#FF97FF",
           "#FECB52"
          ],
          "font": {
           "color": "#2a3f5f"
          },
          "geo": {
           "bgcolor": "white",
           "lakecolor": "white",
           "landcolor": "#E5ECF6",
           "showlakes": true,
           "showland": true,
           "subunitcolor": "white"
          },
          "hoverlabel": {
           "align": "left"
          },
          "hovermode": "closest",
          "mapbox": {
           "style": "light"
          },
          "paper_bgcolor": "white",
          "plot_bgcolor": "#E5ECF6",
          "polar": {
           "angularaxis": {
            "gridcolor": "white",
            "linecolor": "white",
            "ticks": ""
           },
           "bgcolor": "#E5ECF6",
           "radialaxis": {
            "gridcolor": "white",
            "linecolor": "white",
            "ticks": ""
           }
          },
          "scene": {
           "xaxis": {
            "backgroundcolor": "#E5ECF6",
            "gridcolor": "white",
            "gridwidth": 2,
            "linecolor": "white",
            "showbackground": true,
            "ticks": "",
            "zerolinecolor": "white"
           },
           "yaxis": {
            "backgroundcolor": "#E5ECF6",
            "gridcolor": "white",
            "gridwidth": 2,
            "linecolor": "white",
            "showbackground": true,
            "ticks": "",
            "zerolinecolor": "white"
           },
           "zaxis": {
            "backgroundcolor": "#E5ECF6",
            "gridcolor": "white",
            "gridwidth": 2,
            "linecolor": "white",
            "showbackground": true,
            "ticks": "",
            "zerolinecolor": "white"
           }
          },
          "shapedefaults": {
           "line": {
            "color": "#2a3f5f"
           }
          },
          "ternary": {
           "aaxis": {
            "gridcolor": "white",
            "linecolor": "white",
            "ticks": ""
           },
           "baxis": {
            "gridcolor": "white",
            "linecolor": "white",
            "ticks": ""
           },
           "bgcolor": "#E5ECF6",
           "caxis": {
            "gridcolor": "white",
            "linecolor": "white",
            "ticks": ""
           }
          },
          "title": {
           "x": 0.05
          },
          "xaxis": {
           "automargin": true,
           "gridcolor": "white",
           "linecolor": "white",
           "ticks": "",
           "title": {
            "standoff": 15
           },
           "zerolinecolor": "white",
           "zerolinewidth": 2
          },
          "yaxis": {
           "automargin": true,
           "gridcolor": "white",
           "linecolor": "white",
           "ticks": "",
           "title": {
            "standoff": 15
           },
           "zerolinecolor": "white",
           "zerolinewidth": 2
          }
         }
        },
        "title": {
         "text": "Pressure quality ( 59)",
         "x": 0.5,
         "xanchor": "center"
        },
        "width": 1200,
        "xaxis": {
         "anchor": "y",
         "domain": [
          0,
          1
         ],
         "gridcolor": "white",
         "showgrid": true,
         "title": {
          "text": "pressures_completed/90"
         },
         "zeroline": false
        },
        "yaxis": {
         "anchor": "x",
         "domain": [
          0,
          1
         ],
         "gridcolor": "white",
         "showgrid": true,
         "title": {
          "text": "pressure_success_%"
         },
         "zeroline": false
        }
       }
      }
     },
     "metadata": {},
     "output_type": "display_data"
    }
   ],
   "source": [
    "# Full universe \n",
    "scatter_plot(df_targets,\n",
    "             x_metric='pressures_completed/90', \n",
    "             y_metric='pressure_success_%',\n",
    "             z_metric='duels_win_%',\n",
    "             title='Pressure quality', \n",
    "             show_name_label=True\n",
    ")"
   ]
  },
  {
   "cell_type": "code",
   "execution_count": 152,
   "id": "9856c684",
   "metadata": {},
   "outputs": [
    {
     "data": {
      "application/vnd.plotly.v1+json": {
       "config": {
        "plotlyServerURL": "https://plot.ly"
       },
       "data": [
        {
         "customdata": [
          [
           "Santiago Ascacíbar",
           "Estudiantes (LP)"
          ],
          [
           "Franco Moyano",
           "Argentinos Jrs."
          ],
          [
           "Leonel Picco",
           "Platense"
          ],
          [
           "Carlos Villalba",
           "Platense"
          ],
          [
           "Santiago Sosa",
           "Racing Club"
          ],
          [
           "Nicolás Garayalde",
           "Vélez"
          ],
          [
           "Franco Ibarra",
           "Rosario Central"
          ],
          [
           "Francisco Perruzzi",
           "San Lorenzo"
          ],
          [
           "Bautista Kociubinski",
           "Estudiantes (LP)"
          ],
          [
           "Mateo Seoane",
           "Talleres"
          ],
          [
           "Santiago Longo",
           "Belgrano"
          ],
          [
           "Ignacio Miramón",
           "Lille"
          ],
          [
           "Xaver Schlager",
           "RB Leipzig"
          ],
          [
           "Amadou Haïdara",
           "RB Leipzig"
          ],
          [
           "Albert Sambi Lokonga",
           "Luton"
          ],
          [
           "Thiago Maia",
           "FLA"
          ],
          [
           "Matheus Henrique",
           "FLA"
          ],
          [
           "Pedro Augusto",
           "FOR"
          ],
          [
           "Hugo Moura",
           "Athlético Paranaense"
          ],
          [
           "Luan",
           "SPO"
          ],
          [
           "Zé Gabriel",
           "Vasco da Gama"
          ],
          [
           "Jhonny Lucas",
           "GOI"
          ],
          [
           "André",
           "FLU"
          ],
          [
           "Pablo Maia",
           "SPO"
          ],
          [
           "Bruno Gomes",
           "CTB"
          ],
          [
           "Fabinho",
           "SEP"
          ],
          [
           "Martinelli",
           "FLU"
          ],
          [
           "Flynn Downes",
           "Southampton"
          ],
          [
           "Melle Meulensteen",
           "Vitesse"
          ],
          [
           "David Kasumu",
           "Huddersfield"
          ],
          [
           "Tommaso Pobega",
           "Milan"
          ],
          [
           "Michel Ndary Adopo",
           "Atalanta"
          ],
          [
           "Salis Abdul Samed",
           "Lens"
          ],
          [
           "Sivert Mannsverk",
           "Ajax"
          ],
          [
           "Mirko Topić",
           "Famalicão"
          ],
          [
           "Pepelu",
           "Valencia"
          ],
          [
           "Keidi Bare",
           "Coventry"
          ],
          [
           "Fran Beltrán",
           "Celta"
          ],
          [
           "Jesús Castillo",
           "Gil Vicente"
          ],
          [
           "Nicolás Acevedo",
           "BAH"
          ],
          [
           "Samú",
           "Mallorca"
          ],
          [
           "Gonçalo Franco",
           "Moreirense"
          ],
          [
           "Leandro Barreiro",
           "Mainz 05"
          ],
          [
           "William Clem",
           "FC København"
          ],
          [
           "Alexsander",
           "FLU"
          ],
          [
           "Emanuel Quinteros",
           "Godoy Cruz"
          ],
          [
           "Benjamín Schamine",
           "Defensa y Justicia"
          ],
          [
           "Kevin Ortiz",
           "Rosario Central"
          ]
         ],
         "hovertemplate": "<b>%{customdata[0]}</b><br><b>%{customdata[1]}</b><br><br>pressures_completed/90: %{x}<br>pressure_success_%: %{y}<br>duels_win_%: %{marker.color}<extra></extra>",
         "legendgroup": "",
         "marker": {
          "color": {
           "bdata": "rkfhehT+UEBI4XoUrqdKQEjhehSuZ1FAzczMzMxMTEDXo3A9CrdQQGZmZmZm5kxAFK5H4Xq0T0CamZmZmZlMQClcj8L1GFFAMzMzMzNTTEDD9Shcj0JNQIXrUbgexU5A7FG4HoWLTUCamZmZmflJQD0K16Nw3UpAmpmZmZm5TkBSuB6F6zFLQBSuR+F6FFBASOF6FK5HTkB7FK5H4bpOQClcj8L1CE5A16NwPQrXTUCamZmZmTlPQMP1KFyPQkxAhetRuB7lTEDXo3A9CpdOQJqZmZmZGU1ArkfhehRuUUAAAAAAACBMQHsUrkfhWklA4XoUrkdhUECamZmZmUlQQMP1KFyPIlFA4XoUrkchT0BSuB6F65FQQHsUrkfhuklA4XoUrkehTUBxPQrXo3BLQGZmZmZmBlBAmpmZmZlZSkDhehSuR+FOQAAAAAAAQE9AAAAAAAAASUBmZmZmZmZSQFyPwvUoHE9A7FG4HoUrTkCPwvUoXA9OQM3MzMzMDE5A",
           "dtype": "f8"
          },
          "coloraxis": "coloraxis",
          "size": 10,
          "symbol": "circle"
         },
         "mode": "markers+text",
         "name": "",
         "orientation": "v",
         "showlegend": false,
         "text": [
          "Santiago Ascacíbar",
          "Franco Moyano",
          "Leonel Picco",
          "Carlos Villalba",
          "Santiago Sosa",
          "Nicolás Garayalde",
          "Franco Ibarra",
          "Francisco Perruzzi",
          "Bautista Kociubinski",
          "Mateo Seoane",
          "Santiago Longo",
          "Ignacio Miramón",
          "Xaver Schlager",
          "Amadou Haïdara",
          "Albert Sambi Lokonga",
          "Thiago Maia",
          "Matheus Henrique",
          "Pedro Augusto",
          "Hugo Moura",
          "Luan",
          "Zé Gabriel",
          "Jhonny Lucas",
          "André",
          "Pablo Maia",
          "Bruno Gomes",
          "Fabinho",
          "Martinelli",
          "Flynn Downes",
          "Melle Meulensteen",
          "David Kasumu",
          "Tommaso Pobega",
          "Michel Ndary Adopo",
          "Salis Abdul Samed",
          "Sivert Mannsverk",
          "Mirko Topić",
          "Pepelu",
          "Keidi Bare",
          "Fran Beltrán",
          "Jesús Castillo",
          "Nicolás Acevedo",
          "Samú",
          "Gonçalo Franco",
          "Leandro Barreiro",
          "William Clem",
          "Alexsander",
          "Emanuel Quinteros",
          "Benjamín Schamine",
          "Kevin Ortiz"
         ],
         "textfont": {
          "size": 10
         },
         "textposition": "top center",
         "type": "scatter",
         "x": {
          "bdata": "j8L1KFyPBkDD9Shcj8IHQPYoXI/C9QRAZmZmZmZmCkApXI/C9SgKQBSuR+F6FAZAuB6F61G4CEC4HoXrUbgIQM3MzMzMzAZA4XoUrkfhBkAzMzMzMzMNQK5H4XoUrglAMzMzMzMzBUAfhetRuB4HQI/C9ShcjwRAhetRuB6FCUAUrkfhehQMQNejcD0K1wVACtejcD0KB0A9CtejcD0GQEjhehSuRwlAZmZmZmZmBkA9CtejcD0IQOF6FK5H4QpACtejcD0KB0ApXI/C9SgEQNejcD0K1wtAH4XrUbgeBUDD9Shcj8IJQAAAAAAAAAZAPQrXo3A9BkBcj8L1KFwFQBSuR+F6FBBAKVyPwvUoBED2KFyPwvUGQHsUrkfhegRAj8L1KFyPCEDXo3A9CtcFQD0K16NwPQZAH4XrUbgeBUCamZmZmZkJQI/C9ShcjwRAFK5H4XoUAEAAAAAAAAAGQJqZmZmZmQlA16NwPQrXB0BxPQrXo3ALQIXrUbgehQVA",
          "dtype": "f8"
         },
         "xaxis": "x",
         "y": {
          "bdata": "AAAAAACAPEBxPQrXo3A7QHsUrkfhujlApHA9CtcjPECuR+F6FC47QFK4HoXrUThASOF6FK6HO0DD9Shcj0I9QArXo3A9ij1AcT0K16MwPkAAAAAAAEA/QEjhehSuhz9ACtejcD1KPEBSuB6F65E9QArXo3A9ijhAzczMzMwMQEApXI/C9Wg9QD0K16Nw/TVAw/UoXI+COkCkcD0K16M4QIXrUbgeJUBAexSuR+G6OkA9CtejcL09QGZmZmZm5jpAFK5H4XqUPUAK16NwPUo3QEjhehSuxz1AcT0K16NwP0A9CtejcD1BQPYoXI/C9TpA16NwPQoXQEAAAAAAAAA5QEjhehSuh0BAhetRuB6FO0D2KFyPwnU8QM3MzMzMjDhAw/UoXI8COkAAAAAAAMA7QD0K16NwfTpA9ihcj8J1OUDXo3A9Chc6QFyPwvUoXD5ApHA9CtcjNEAUrkfhehRAQM3MzMzMTD9AmpmZmZmZOUCkcD0K1yNAQJqZmZmZGTpA",
          "dtype": "f8"
         },
         "yaxis": "y"
        }
       ],
       "layout": {
        "coloraxis": {
         "colorbar": {
          "title": {
           "text": "duels_win_%"
          }
         },
         "colorscale": [
          [
           0,
           "rgb(165,0,38)"
          ],
          [
           0.1,
           "rgb(215,48,39)"
          ],
          [
           0.2,
           "rgb(244,109,67)"
          ],
          [
           0.3,
           "rgb(253,174,97)"
          ],
          [
           0.4,
           "rgb(254,224,139)"
          ],
          [
           0.5,
           "rgb(255,255,191)"
          ],
          [
           0.6,
           "rgb(217,239,139)"
          ],
          [
           0.7,
           "rgb(166,217,106)"
          ],
          [
           0.8,
           "rgb(102,189,99)"
          ],
          [
           0.9,
           "rgb(26,152,80)"
          ],
          [
           1,
           "rgb(0,104,55)"
          ]
         ],
         "showscale": false
        },
        "height": 700,
        "legend": {
         "tracegroupgap": 0
        },
        "paper_bgcolor": "darkgray",
        "plot_bgcolor": "darkgray",
        "template": {
         "data": {
          "bar": [
           {
            "error_x": {
             "color": "#2a3f5f"
            },
            "error_y": {
             "color": "#2a3f5f"
            },
            "marker": {
             "line": {
              "color": "#E5ECF6",
              "width": 0.5
             },
             "pattern": {
              "fillmode": "overlay",
              "size": 10,
              "solidity": 0.2
             }
            },
            "type": "bar"
           }
          ],
          "barpolar": [
           {
            "marker": {
             "line": {
              "color": "#E5ECF6",
              "width": 0.5
             },
             "pattern": {
              "fillmode": "overlay",
              "size": 10,
              "solidity": 0.2
             }
            },
            "type": "barpolar"
           }
          ],
          "carpet": [
           {
            "aaxis": {
             "endlinecolor": "#2a3f5f",
             "gridcolor": "white",
             "linecolor": "white",
             "minorgridcolor": "white",
             "startlinecolor": "#2a3f5f"
            },
            "baxis": {
             "endlinecolor": "#2a3f5f",
             "gridcolor": "white",
             "linecolor": "white",
             "minorgridcolor": "white",
             "startlinecolor": "#2a3f5f"
            },
            "type": "carpet"
           }
          ],
          "choropleth": [
           {
            "colorbar": {
             "outlinewidth": 0,
             "ticks": ""
            },
            "type": "choropleth"
           }
          ],
          "contour": [
           {
            "colorbar": {
             "outlinewidth": 0,
             "ticks": ""
            },
            "colorscale": [
             [
              0,
              "#0d0887"
             ],
             [
              0.1111111111111111,
              "#46039f"
             ],
             [
              0.2222222222222222,
              "#7201a8"
             ],
             [
              0.3333333333333333,
              "#9c179e"
             ],
             [
              0.4444444444444444,
              "#bd3786"
             ],
             [
              0.5555555555555556,
              "#d8576b"
             ],
             [
              0.6666666666666666,
              "#ed7953"
             ],
             [
              0.7777777777777778,
              "#fb9f3a"
             ],
             [
              0.8888888888888888,
              "#fdca26"
             ],
             [
              1,
              "#f0f921"
             ]
            ],
            "type": "contour"
           }
          ],
          "contourcarpet": [
           {
            "colorbar": {
             "outlinewidth": 0,
             "ticks": ""
            },
            "type": "contourcarpet"
           }
          ],
          "heatmap": [
           {
            "colorbar": {
             "outlinewidth": 0,
             "ticks": ""
            },
            "colorscale": [
             [
              0,
              "#0d0887"
             ],
             [
              0.1111111111111111,
              "#46039f"
             ],
             [
              0.2222222222222222,
              "#7201a8"
             ],
             [
              0.3333333333333333,
              "#9c179e"
             ],
             [
              0.4444444444444444,
              "#bd3786"
             ],
             [
              0.5555555555555556,
              "#d8576b"
             ],
             [
              0.6666666666666666,
              "#ed7953"
             ],
             [
              0.7777777777777778,
              "#fb9f3a"
             ],
             [
              0.8888888888888888,
              "#fdca26"
             ],
             [
              1,
              "#f0f921"
             ]
            ],
            "type": "heatmap"
           }
          ],
          "histogram": [
           {
            "marker": {
             "pattern": {
              "fillmode": "overlay",
              "size": 10,
              "solidity": 0.2
             }
            },
            "type": "histogram"
           }
          ],
          "histogram2d": [
           {
            "colorbar": {
             "outlinewidth": 0,
             "ticks": ""
            },
            "colorscale": [
             [
              0,
              "#0d0887"
             ],
             [
              0.1111111111111111,
              "#46039f"
             ],
             [
              0.2222222222222222,
              "#7201a8"
             ],
             [
              0.3333333333333333,
              "#9c179e"
             ],
             [
              0.4444444444444444,
              "#bd3786"
             ],
             [
              0.5555555555555556,
              "#d8576b"
             ],
             [
              0.6666666666666666,
              "#ed7953"
             ],
             [
              0.7777777777777778,
              "#fb9f3a"
             ],
             [
              0.8888888888888888,
              "#fdca26"
             ],
             [
              1,
              "#f0f921"
             ]
            ],
            "type": "histogram2d"
           }
          ],
          "histogram2dcontour": [
           {
            "colorbar": {
             "outlinewidth": 0,
             "ticks": ""
            },
            "colorscale": [
             [
              0,
              "#0d0887"
             ],
             [
              0.1111111111111111,
              "#46039f"
             ],
             [
              0.2222222222222222,
              "#7201a8"
             ],
             [
              0.3333333333333333,
              "#9c179e"
             ],
             [
              0.4444444444444444,
              "#bd3786"
             ],
             [
              0.5555555555555556,
              "#d8576b"
             ],
             [
              0.6666666666666666,
              "#ed7953"
             ],
             [
              0.7777777777777778,
              "#fb9f3a"
             ],
             [
              0.8888888888888888,
              "#fdca26"
             ],
             [
              1,
              "#f0f921"
             ]
            ],
            "type": "histogram2dcontour"
           }
          ],
          "mesh3d": [
           {
            "colorbar": {
             "outlinewidth": 0,
             "ticks": ""
            },
            "type": "mesh3d"
           }
          ],
          "parcoords": [
           {
            "line": {
             "colorbar": {
              "outlinewidth": 0,
              "ticks": ""
             }
            },
            "type": "parcoords"
           }
          ],
          "pie": [
           {
            "automargin": true,
            "type": "pie"
           }
          ],
          "scatter": [
           {
            "fillpattern": {
             "fillmode": "overlay",
             "size": 10,
             "solidity": 0.2
            },
            "type": "scatter"
           }
          ],
          "scatter3d": [
           {
            "line": {
             "colorbar": {
              "outlinewidth": 0,
              "ticks": ""
             }
            },
            "marker": {
             "colorbar": {
              "outlinewidth": 0,
              "ticks": ""
             }
            },
            "type": "scatter3d"
           }
          ],
          "scattercarpet": [
           {
            "marker": {
             "colorbar": {
              "outlinewidth": 0,
              "ticks": ""
             }
            },
            "type": "scattercarpet"
           }
          ],
          "scattergeo": [
           {
            "marker": {
             "colorbar": {
              "outlinewidth": 0,
              "ticks": ""
             }
            },
            "type": "scattergeo"
           }
          ],
          "scattergl": [
           {
            "marker": {
             "colorbar": {
              "outlinewidth": 0,
              "ticks": ""
             }
            },
            "type": "scattergl"
           }
          ],
          "scattermap": [
           {
            "marker": {
             "colorbar": {
              "outlinewidth": 0,
              "ticks": ""
             }
            },
            "type": "scattermap"
           }
          ],
          "scattermapbox": [
           {
            "marker": {
             "colorbar": {
              "outlinewidth": 0,
              "ticks": ""
             }
            },
            "type": "scattermapbox"
           }
          ],
          "scatterpolar": [
           {
            "marker": {
             "colorbar": {
              "outlinewidth": 0,
              "ticks": ""
             }
            },
            "type": "scatterpolar"
           }
          ],
          "scatterpolargl": [
           {
            "marker": {
             "colorbar": {
              "outlinewidth": 0,
              "ticks": ""
             }
            },
            "type": "scatterpolargl"
           }
          ],
          "scatterternary": [
           {
            "marker": {
             "colorbar": {
              "outlinewidth": 0,
              "ticks": ""
             }
            },
            "type": "scatterternary"
           }
          ],
          "surface": [
           {
            "colorbar": {
             "outlinewidth": 0,
             "ticks": ""
            },
            "colorscale": [
             [
              0,
              "#0d0887"
             ],
             [
              0.1111111111111111,
              "#46039f"
             ],
             [
              0.2222222222222222,
              "#7201a8"
             ],
             [
              0.3333333333333333,
              "#9c179e"
             ],
             [
              0.4444444444444444,
              "#bd3786"
             ],
             [
              0.5555555555555556,
              "#d8576b"
             ],
             [
              0.6666666666666666,
              "#ed7953"
             ],
             [
              0.7777777777777778,
              "#fb9f3a"
             ],
             [
              0.8888888888888888,
              "#fdca26"
             ],
             [
              1,
              "#f0f921"
             ]
            ],
            "type": "surface"
           }
          ],
          "table": [
           {
            "cells": {
             "fill": {
              "color": "#EBF0F8"
             },
             "line": {
              "color": "white"
             }
            },
            "header": {
             "fill": {
              "color": "#C8D4E3"
             },
             "line": {
              "color": "white"
             }
            },
            "type": "table"
           }
          ]
         },
         "layout": {
          "annotationdefaults": {
           "arrowcolor": "#2a3f5f",
           "arrowhead": 0,
           "arrowwidth": 1
          },
          "autotypenumbers": "strict",
          "coloraxis": {
           "colorbar": {
            "outlinewidth": 0,
            "ticks": ""
           }
          },
          "colorscale": {
           "diverging": [
            [
             0,
             "#8e0152"
            ],
            [
             0.1,
             "#c51b7d"
            ],
            [
             0.2,
             "#de77ae"
            ],
            [
             0.3,
             "#f1b6da"
            ],
            [
             0.4,
             "#fde0ef"
            ],
            [
             0.5,
             "#f7f7f7"
            ],
            [
             0.6,
             "#e6f5d0"
            ],
            [
             0.7,
             "#b8e186"
            ],
            [
             0.8,
             "#7fbc41"
            ],
            [
             0.9,
             "#4d9221"
            ],
            [
             1,
             "#276419"
            ]
           ],
           "sequential": [
            [
             0,
             "#0d0887"
            ],
            [
             0.1111111111111111,
             "#46039f"
            ],
            [
             0.2222222222222222,
             "#7201a8"
            ],
            [
             0.3333333333333333,
             "#9c179e"
            ],
            [
             0.4444444444444444,
             "#bd3786"
            ],
            [
             0.5555555555555556,
             "#d8576b"
            ],
            [
             0.6666666666666666,
             "#ed7953"
            ],
            [
             0.7777777777777778,
             "#fb9f3a"
            ],
            [
             0.8888888888888888,
             "#fdca26"
            ],
            [
             1,
             "#f0f921"
            ]
           ],
           "sequentialminus": [
            [
             0,
             "#0d0887"
            ],
            [
             0.1111111111111111,
             "#46039f"
            ],
            [
             0.2222222222222222,
             "#7201a8"
            ],
            [
             0.3333333333333333,
             "#9c179e"
            ],
            [
             0.4444444444444444,
             "#bd3786"
            ],
            [
             0.5555555555555556,
             "#d8576b"
            ],
            [
             0.6666666666666666,
             "#ed7953"
            ],
            [
             0.7777777777777778,
             "#fb9f3a"
            ],
            [
             0.8888888888888888,
             "#fdca26"
            ],
            [
             1,
             "#f0f921"
            ]
           ]
          },
          "colorway": [
           "#636efa",
           "#EF553B",
           "#00cc96",
           "#ab63fa",
           "#FFA15A",
           "#19d3f3",
           "#FF6692",
           "#B6E880",
           "#FF97FF",
           "#FECB52"
          ],
          "font": {
           "color": "#2a3f5f"
          },
          "geo": {
           "bgcolor": "white",
           "lakecolor": "white",
           "landcolor": "#E5ECF6",
           "showlakes": true,
           "showland": true,
           "subunitcolor": "white"
          },
          "hoverlabel": {
           "align": "left"
          },
          "hovermode": "closest",
          "mapbox": {
           "style": "light"
          },
          "paper_bgcolor": "white",
          "plot_bgcolor": "#E5ECF6",
          "polar": {
           "angularaxis": {
            "gridcolor": "white",
            "linecolor": "white",
            "ticks": ""
           },
           "bgcolor": "#E5ECF6",
           "radialaxis": {
            "gridcolor": "white",
            "linecolor": "white",
            "ticks": ""
           }
          },
          "scene": {
           "xaxis": {
            "backgroundcolor": "#E5ECF6",
            "gridcolor": "white",
            "gridwidth": 2,
            "linecolor": "white",
            "showbackground": true,
            "ticks": "",
            "zerolinecolor": "white"
           },
           "yaxis": {
            "backgroundcolor": "#E5ECF6",
            "gridcolor": "white",
            "gridwidth": 2,
            "linecolor": "white",
            "showbackground": true,
            "ticks": "",
            "zerolinecolor": "white"
           },
           "zaxis": {
            "backgroundcolor": "#E5ECF6",
            "gridcolor": "white",
            "gridwidth": 2,
            "linecolor": "white",
            "showbackground": true,
            "ticks": "",
            "zerolinecolor": "white"
           }
          },
          "shapedefaults": {
           "line": {
            "color": "#2a3f5f"
           }
          },
          "ternary": {
           "aaxis": {
            "gridcolor": "white",
            "linecolor": "white",
            "ticks": ""
           },
           "baxis": {
            "gridcolor": "white",
            "linecolor": "white",
            "ticks": ""
           },
           "bgcolor": "#E5ECF6",
           "caxis": {
            "gridcolor": "white",
            "linecolor": "white",
            "ticks": ""
           }
          },
          "title": {
           "x": 0.05
          },
          "xaxis": {
           "automargin": true,
           "gridcolor": "white",
           "linecolor": "white",
           "ticks": "",
           "title": {
            "standoff": 15
           },
           "zerolinecolor": "white",
           "zerolinewidth": 2
          },
          "yaxis": {
           "automargin": true,
           "gridcolor": "white",
           "linecolor": "white",
           "ticks": "",
           "title": {
            "standoff": 15
           },
           "zerolinecolor": "white",
           "zerolinewidth": 2
          }
         }
        },
        "title": {
         "text": "Pressure quality ( 48)",
         "x": 0.5,
         "xanchor": "center"
        },
        "width": 1200,
        "xaxis": {
         "anchor": "y",
         "domain": [
          0,
          1
         ],
         "gridcolor": "white",
         "showgrid": true,
         "title": {
          "text": "pressures_completed/90"
         },
         "zeroline": false
        },
        "yaxis": {
         "anchor": "x",
         "domain": [
          0,
          1
         ],
         "gridcolor": "white",
         "showgrid": true,
         "title": {
          "text": "pressure_success_%"
         },
         "zeroline": false
        }
       }
      }
     },
     "metadata": {},
     "output_type": "display_data"
    }
   ],
   "source": [
    "# Filter data \n",
    "mask = (\n",
    "        (df_players['pressures_completed/90'] >= 2.5) & \\\n",
    "        (df_players['pressure_success_%'] >= 20) & \\\n",
    "        (df_players['duels_win_%'] >= 50) & \\\n",
    "        (df_players['id'].isin(targets)) | \\\n",
    "        (df_players['name'].str.contains('Barreiro')) \n",
    "        \n",
    "        \n",
    ")\n",
    "\n",
    "df_targets = df_players[mask]\n",
    "\n",
    "scatter_plot(df_targets,\n",
    "             x_metric='pressures_completed/90', \n",
    "             y_metric='pressure_success_%',\n",
    "             z_metric='duels_win_%',\n",
    "             title='Pressure quality', \n",
    "             show_name_label=True\n",
    ")\n",
    "\n",
    "# Keep only players that fulfill criteria\n",
    "targets = df_targets['id']"
   ]
  },
  {
   "cell_type": "markdown",
   "id": "6dabb355",
   "metadata": {},
   "source": [
    "## Presence"
   ]
  },
  {
   "cell_type": "code",
   "execution_count": 153,
   "id": "907f59a5",
   "metadata": {},
   "outputs": [
    {
     "data": {
      "text/html": [
       "<div>\n",
       "<style scoped>\n",
       "    .dataframe tbody tr th:only-of-type {\n",
       "        vertical-align: middle;\n",
       "    }\n",
       "\n",
       "    .dataframe tbody tr th {\n",
       "        vertical-align: top;\n",
       "    }\n",
       "\n",
       "    .dataframe thead th {\n",
       "        text-align: right;\n",
       "    }\n",
       "</style>\n",
       "<table border=\"1\" class=\"dataframe\">\n",
       "  <thead>\n",
       "    <tr style=\"text-align: right;\">\n",
       "      <th></th>\n",
       "      <th>id</th>\n",
       "      <th>name</th>\n",
       "      <th>position</th>\n",
       "      <th>age</th>\n",
       "      <th>height</th>\n",
       "      <th>weight</th>\n",
       "      <th>inf</th>\n",
       "      <th>club</th>\n",
       "      <th>division</th>\n",
       "      <th>nationality</th>\n",
       "      <th>home_grown</th>\n",
       "      <th>personality</th>\n",
       "      <th>media_handling</th>\n",
       "      <th>wage</th>\n",
       "      <th>transfer_value</th>\n",
       "      <th>asking_price</th>\n",
       "      <th>preferred_foot</th>\n",
       "      <th>starts</th>\n",
       "      <th>minutes_played</th>\n",
       "      <th>average_rating</th>\n",
       "      <th>sub_appearances</th>\n",
       "      <th>minutes/game</th>\n",
       "      <th>index</th>\n",
       "      <th>passes_attempted/90</th>\n",
       "      <th>passes_completed/90</th>\n",
       "      <th>pass_completion_%</th>\n",
       "      <th>progressive_passes/90</th>\n",
       "      <th>progressive_pass_rate</th>\n",
       "      <th>key_passes/90</th>\n",
       "      <th>key_pass_%</th>\n",
       "      <th>open_play_key_passes/90</th>\n",
       "      <th>open_play_key_pass_%</th>\n",
       "      <th>chances_created/90</th>\n",
       "      <th>clear_cut_chances_created/90</th>\n",
       "      <th>pressures_attempted/90</th>\n",
       "      <th>pressures_completed/90</th>\n",
       "      <th>pressure_success_%</th>\n",
       "      <th>possession_won/90</th>\n",
       "      <th>possession_lost/90</th>\n",
       "      <th>poss+_/90</th>\n",
       "      <th>poss+__%</th>\n",
       "      <th>tackles_attempted/90</th>\n",
       "      <th>tackles_completed/90</th>\n",
       "      <th>tackle_completion_%</th>\n",
       "      <th>tackles_failed/90</th>\n",
       "      <th>key_tackles/90</th>\n",
       "      <th>tackle_quality</th>\n",
       "      <th>interceptions/90</th>\n",
       "      <th>blocks/90</th>\n",
       "      <th>shots_blocked/90</th>\n",
       "      <th>headers_attempted/90</th>\n",
       "      <th>headers_won/90</th>\n",
       "      <th>headers_won_%</th>\n",
       "      <th>headers_lost/90</th>\n",
       "      <th>headers_lost_%</th>\n",
       "      <th>key_headers/90</th>\n",
       "      <th>aerial_challenges_attempted/90</th>\n",
       "      <th>duels_win_%</th>\n",
       "      <th>fouls_won/90</th>\n",
       "      <th>fouls_committed/90</th>\n",
       "      <th>clearances/90</th>\n",
       "      <th>distance_covered/90</th>\n",
       "      <th>attacking_actions/90</th>\n",
       "      <th>creative_actions/90</th>\n",
       "      <th>defensive_actions/90</th>\n",
       "      <th>excitement_factor/90</th>\n",
       "      <th>general_performance</th>\n",
       "      <th>goalkeeping</th>\n",
       "      <th>defensive_defender</th>\n",
       "      <th>creative_defender</th>\n",
       "      <th>attacking_defender</th>\n",
       "      <th>creative_midfielder</th>\n",
       "      <th>attacking_midfielder</th>\n",
       "      <th>creative_winger</th>\n",
       "      <th>attacking_winger</th>\n",
       "      <th>creative_forward</th>\n",
       "      <th>attacking_forward</th>\n",
       "      <th>finisher</th>\n",
       "      <th>aerial_threat</th>\n",
       "      <th>reader</th>\n",
       "      <th>assister</th>\n",
       "      <th>uid</th>\n",
       "      <th>natural_dm</th>\n",
       "      <th>price_estimate_M</th>\n",
       "      <th>tackles_comp-fouls/90</th>\n",
       "    </tr>\n",
       "  </thead>\n",
       "  <tbody>\n",
       "    <tr>\n",
       "      <th>1</th>\n",
       "      <td>211515</td>\n",
       "      <td>Baptiste Santamaria</td>\n",
       "      <td>DM, M/AM (C)</td>\n",
       "      <td>28</td>\n",
       "      <td>183 cm</td>\n",
       "      <td>81 kg</td>\n",
       "      <td>-</td>\n",
       "      <td>Rennes</td>\n",
       "      <td>Ligue 1 Uber Eats</td>\n",
       "      <td>FRA</td>\n",
       "      <td>-</td>\n",
       "      <td>Resolute</td>\n",
       "      <td>Level-headed</td>\n",
       "      <td>$16,000 p/w</td>\n",
       "      <td>$10M - $12.5M</td>\n",
       "      <td>-</td>\n",
       "      <td>Right</td>\n",
       "      <td>20</td>\n",
       "      <td>1741</td>\n",
       "      <td>6.87</td>\n",
       "      <td>1</td>\n",
       "      <td>82.9</td>\n",
       "      <td>1</td>\n",
       "      <td>73.56</td>\n",
       "      <td>66.07</td>\n",
       "      <td>90</td>\n",
       "      <td>8.27</td>\n",
       "      <td>11.24</td>\n",
       "      <td>1.03</td>\n",
       "      <td>1.41</td>\n",
       "      <td>0.98</td>\n",
       "      <td>1.34</td>\n",
       "      <td>0.07</td>\n",
       "      <td>0.05</td>\n",
       "      <td>12.25</td>\n",
       "      <td>3.31</td>\n",
       "      <td>27.0</td>\n",
       "      <td>8.22</td>\n",
       "      <td>9.15</td>\n",
       "      <td>-0.93</td>\n",
       "      <td>-10.16</td>\n",
       "      <td>4.03</td>\n",
       "      <td>2.95</td>\n",
       "      <td>73</td>\n",
       "      <td>1.09</td>\n",
       "      <td>0.0</td>\n",
       "      <td>2.36</td>\n",
       "      <td>1.71</td>\n",
       "      <td>0.47</td>\n",
       "      <td>0.26</td>\n",
       "      <td>3.67</td>\n",
       "      <td>1.09</td>\n",
       "      <td>29.58</td>\n",
       "      <td>2.58</td>\n",
       "      <td>70.42</td>\n",
       "      <td>0.1</td>\n",
       "      <td>3.67</td>\n",
       "      <td>52.35</td>\n",
       "      <td>0.47</td>\n",
       "      <td>1.71</td>\n",
       "      <td>0.72</td>\n",
       "      <td>13.79</td>\n",
       "      <td>1.12</td>\n",
       "      <td>1.19</td>\n",
       "      <td>11.02</td>\n",
       "      <td>3.36</td>\n",
       "      <td>47</td>\n",
       "      <td>100</td>\n",
       "      <td>38</td>\n",
       "      <td>63</td>\n",
       "      <td>47</td>\n",
       "      <td>28</td>\n",
       "      <td>18</td>\n",
       "      <td>40</td>\n",
       "      <td>29</td>\n",
       "      <td>32</td>\n",
       "      <td>19</td>\n",
       "      <td>6</td>\n",
       "      <td>31</td>\n",
       "      <td>26</td>\n",
       "      <td>20</td>\n",
       "      <td>211515.0</td>\n",
       "      <td>Yes</td>\n",
       "      <td>13.5</td>\n",
       "      <td>1.725146</td>\n",
       "    </tr>\n",
       "  </tbody>\n",
       "</table>\n",
       "</div>"
      ],
      "text/plain": [
       "       id                 name      position  age  height weight inf    club  \\\n",
       "1  211515  Baptiste Santamaria  DM, M/AM (C)   28  183 cm  81 kg   -  Rennes   \n",
       "\n",
       "            division nationality home_grown personality media_handling  \\\n",
       "1  Ligue 1 Uber Eats         FRA          -    Resolute   Level-headed   \n",
       "\n",
       "          wage transfer_value asking_price preferred_foot  starts  \\\n",
       "1  $16,000 p/w  $10M - $12.5M            -          Right      20   \n",
       "\n",
       "   minutes_played  average_rating  sub_appearances  minutes/game  index  \\\n",
       "1            1741            6.87                1          82.9      1   \n",
       "\n",
       "   passes_attempted/90  passes_completed/90  pass_completion_%  \\\n",
       "1                73.56                66.07                 90   \n",
       "\n",
       "   progressive_passes/90  progressive_pass_rate  key_passes/90  key_pass_%  \\\n",
       "1                   8.27                  11.24           1.03        1.41   \n",
       "\n",
       "   open_play_key_passes/90  open_play_key_pass_%  chances_created/90  \\\n",
       "1                     0.98                  1.34                0.07   \n",
       "\n",
       "   clear_cut_chances_created/90  pressures_attempted/90  \\\n",
       "1                          0.05                   12.25   \n",
       "\n",
       "   pressures_completed/90  pressure_success_%  possession_won/90  \\\n",
       "1                    3.31                27.0               8.22   \n",
       "\n",
       "   possession_lost/90  poss+_/90  poss+__%  tackles_attempted/90  \\\n",
       "1                9.15      -0.93    -10.16                  4.03   \n",
       "\n",
       "   tackles_completed/90  tackle_completion_%  tackles_failed/90  \\\n",
       "1                  2.95                   73               1.09   \n",
       "\n",
       "   key_tackles/90  tackle_quality  interceptions/90  blocks/90  \\\n",
       "1             0.0            2.36              1.71       0.47   \n",
       "\n",
       "   shots_blocked/90  headers_attempted/90  headers_won/90  headers_won_%  \\\n",
       "1              0.26                  3.67            1.09          29.58   \n",
       "\n",
       "   headers_lost/90  headers_lost_%  key_headers/90  \\\n",
       "1             2.58           70.42             0.1   \n",
       "\n",
       "   aerial_challenges_attempted/90  duels_win_%  fouls_won/90  \\\n",
       "1                            3.67        52.35          0.47   \n",
       "\n",
       "   fouls_committed/90  clearances/90  distance_covered/90  \\\n",
       "1                1.71           0.72                13.79   \n",
       "\n",
       "   attacking_actions/90  creative_actions/90  defensive_actions/90  \\\n",
       "1                  1.12                 1.19                 11.02   \n",
       "\n",
       "   excitement_factor/90  general_performance  goalkeeping  defensive_defender  \\\n",
       "1                  3.36                   47          100                  38   \n",
       "\n",
       "   creative_defender  attacking_defender  creative_midfielder  \\\n",
       "1                 63                  47                   28   \n",
       "\n",
       "   attacking_midfielder  creative_winger  attacking_winger  creative_forward  \\\n",
       "1                    18               40                29                32   \n",
       "\n",
       "   attacking_forward  finisher  aerial_threat  reader  assister       uid  \\\n",
       "1                 19         6             31      26        20  211515.0   \n",
       "\n",
       "  natural_dm  price_estimate_M  tackles_comp-fouls/90  \n",
       "1        Yes              13.5               1.725146  "
      ]
     },
     "execution_count": 153,
     "metadata": {},
     "output_type": "execute_result"
    }
   ],
   "source": [
    "df_players.head(1)"
   ]
  },
  {
   "cell_type": "code",
   "execution_count": 154,
   "id": "115f7fe2",
   "metadata": {},
   "outputs": [
    {
     "data": {
      "application/vnd.plotly.v1+json": {
       "config": {
        "plotlyServerURL": "https://plot.ly"
       },
       "data": [
        {
         "customdata": [
          [
           "Santiago Ascacíbar",
           "Estudiantes (LP)"
          ],
          [
           "Franco Moyano",
           "Argentinos Jrs."
          ],
          [
           "Leonel Picco",
           "Platense"
          ],
          [
           "Carlos Villalba",
           "Platense"
          ],
          [
           "Santiago Sosa",
           "Racing Club"
          ],
          [
           "Nicolás Garayalde",
           "Vélez"
          ],
          [
           "Franco Ibarra",
           "Rosario Central"
          ],
          [
           "Francisco Perruzzi",
           "San Lorenzo"
          ],
          [
           "Bautista Kociubinski",
           "Estudiantes (LP)"
          ],
          [
           "Mateo Seoane",
           "Talleres"
          ],
          [
           "Santiago Longo",
           "Belgrano"
          ],
          [
           "Ignacio Miramón",
           "Lille"
          ],
          [
           "Xaver Schlager",
           "RB Leipzig"
          ],
          [
           "Amadou Haïdara",
           "RB Leipzig"
          ],
          [
           "Albert Sambi Lokonga",
           "Luton"
          ],
          [
           "Thiago Maia",
           "FLA"
          ],
          [
           "Matheus Henrique",
           "FLA"
          ],
          [
           "Pedro Augusto",
           "FOR"
          ],
          [
           "Hugo Moura",
           "Athlético Paranaense"
          ],
          [
           "Luan",
           "SPO"
          ],
          [
           "Zé Gabriel",
           "Vasco da Gama"
          ],
          [
           "Jhonny Lucas",
           "GOI"
          ],
          [
           "André",
           "FLU"
          ],
          [
           "Pablo Maia",
           "SPO"
          ],
          [
           "Bruno Gomes",
           "CTB"
          ],
          [
           "Fabinho",
           "SEP"
          ],
          [
           "Martinelli",
           "FLU"
          ],
          [
           "Flynn Downes",
           "Southampton"
          ],
          [
           "Melle Meulensteen",
           "Vitesse"
          ],
          [
           "David Kasumu",
           "Huddersfield"
          ],
          [
           "Tommaso Pobega",
           "Milan"
          ],
          [
           "Michel Ndary Adopo",
           "Atalanta"
          ],
          [
           "Salis Abdul Samed",
           "Lens"
          ],
          [
           "Sivert Mannsverk",
           "Ajax"
          ],
          [
           "Mirko Topić",
           "Famalicão"
          ],
          [
           "Pepelu",
           "Valencia"
          ],
          [
           "Keidi Bare",
           "Coventry"
          ],
          [
           "Fran Beltrán",
           "Celta"
          ],
          [
           "Jesús Castillo",
           "Gil Vicente"
          ],
          [
           "Nicolás Acevedo",
           "BAH"
          ],
          [
           "Samú",
           "Mallorca"
          ],
          [
           "Gonçalo Franco",
           "Moreirense"
          ],
          [
           "Leandro Barreiro",
           "Mainz 05"
          ],
          [
           "William Clem",
           "FC København"
          ],
          [
           "Alexsander",
           "FLU"
          ],
          [
           "Emanuel Quinteros",
           "Godoy Cruz"
          ],
          [
           "Benjamín Schamine",
           "Defensa y Justicia"
          ],
          [
           "Kevin Ortiz",
           "Rosario Central"
          ]
         ],
         "hovertemplate": "<b>%{customdata[0]}</b><br><b>%{customdata[1]}</b><br><br>interceptions/90: %{x}<br>blocks/90: %{y}<br>clearances/90: %{marker.color}<extra></extra>",
         "legendgroup": "",
         "marker": {
          "color": {
           "bdata": "j8L1KFyP8j8AAAAAAADgP4/C9Shcj/I/mpmZmZmZ6T/2KFyPwvXoPx+F61G4HvU/PQrXo3A98j/sUbgehevpPz0K16NwPeI/pHA9Ctej8D/sUbgehevpPwrXo3A9Csc/w/UoXI/C5T+amZmZmZnxP5qZmZmZmfU/rkfhehSu7z/NzMzMzMzkPx+F61G4HvU/pHA9Ctej8D/2KFyPwvXoP/YoXI/C9eg/PQrXo3A96j/hehSuR+HiP83MzMzMzOQ/16NwPQrX6z/hehSuR+HiPx+F61G4HvE/hetRuB6F4z+kcD0K16P0PwAAAAAAAPQ/AAAAAAAA4D8pXI/C9SjwP1yPwvUoXO8/mpmZmZmZ4T/NzMzMzMzsPxSuR+F6FOY/zczMzMzM9D/sUbgehev1Px+F61G4HvU/j8L1KFyP4j9mZmZmZmbuP/YoXI/C9fA/zczMzMzM/D+amZmZmZnhPx+F61G4Hu0/7FG4HoXr4T9xPQrXo3DxPylcj8L1KOw/",
           "dtype": "f8"
          },
          "coloraxis": "coloraxis",
          "size": 10,
          "symbol": "circle"
         },
         "mode": "markers+text",
         "name": "",
         "orientation": "v",
         "showlegend": false,
         "text": [
          "Santiago Ascacíbar",
          "Franco Moyano",
          "Leonel Picco",
          "Carlos Villalba",
          "Santiago Sosa",
          "Nicolás Garayalde",
          "Franco Ibarra",
          "Francisco Perruzzi",
          "Bautista Kociubinski",
          "Mateo Seoane",
          "Santiago Longo",
          "Ignacio Miramón",
          "Xaver Schlager",
          "Amadou Haïdara",
          "Albert Sambi Lokonga",
          "Thiago Maia",
          "Matheus Henrique",
          "Pedro Augusto",
          "Hugo Moura",
          "Luan",
          "Zé Gabriel",
          "Jhonny Lucas",
          "André",
          "Pablo Maia",
          "Bruno Gomes",
          "Fabinho",
          "Martinelli",
          "Flynn Downes",
          "Melle Meulensteen",
          "David Kasumu",
          "Tommaso Pobega",
          "Michel Ndary Adopo",
          "Salis Abdul Samed",
          "Sivert Mannsverk",
          "Mirko Topić",
          "Pepelu",
          "Keidi Bare",
          "Fran Beltrán",
          "Jesús Castillo",
          "Nicolás Acevedo",
          "Samú",
          "Gonçalo Franco",
          "Leandro Barreiro",
          "William Clem",
          "Alexsander",
          "Emanuel Quinteros",
          "Benjamín Schamine",
          "Kevin Ortiz"
         ],
         "textfont": {
          "size": 10
         },
         "textposition": "top center",
         "type": "scatter",
         "x": {
          "bdata": "MzMzMzMz8z+PwvUoXI/2Px+F61G4Hv0/FK5H4XoU+j97FK5H4XoAQHsUrkfhevg/rkfhehSu/z9xPQrXo3D5P83MzMzMzPQ/w/UoXI/C9T+uR+F6FK4BQNejcD0K1/s/rkfhehSu9z9SuB6F61EAQJqZmZmZmfU/exSuR+F6/D8fhetRuB4DQHE9CtejcAFAFK5H4XoU/j/NzMzMzMwAQI/C9Shcj/o/MzMzMzMz+z89CtejcD0AQFK4HoXrUfg/CtejcD0K+z8pXI/C9Sj0P5qZmZmZmQFA4XoUrkfh9j9xPQrXo3DxP2ZmZmZmZvo/CtejcD0K+z9mZmZmZmYCQFyPwvUoXP8/j8L1KFyP9j/D9Shcj8IBQArXo3A9Cv8/SOF6FK5HBUBI4XoUrkcBQLgehetRuPo/KVyPwvUoAEBxPQrXo3ADQIXrUbgehf8/CtejcD0K/z9mZmZmZmb6P9ejcD0K1/c/ZmZmZmZm9j8pXI/C9Sj4Px+F61G4Hvk/",
          "dtype": "f8"
         },
         "xaxis": "x",
         "y": {
          "bdata": "MzMzMzMz4z9mZmZmZmbWP/YoXI/C9dg/mpmZmZmZ2T9xPQrXo3DNP4XrUbgeheM/j8L1KFyP4j8fhetRuB7VPz0K16NwPdo/hetRuB6F2z8K16NwPQrXP+xRuB6F69E/uB6F61G4rj9SuB6F61HgP3sUrkfheuQ/uB6F61G43j+uR+F6FK7XP1K4HoXrUeA/hetRuB6F4z+kcD0K16PgPwrXo3A9Ctc/MzMzMzMz0z/2KFyPwvXYPzMzMzMzM9M/PQrXo3A92j8zMzMzMzPDPz0K16NwPdo/pHA9Ctej0D/2KFyPwvXYP2ZmZmZmZuY/mpmZmZmZ2T+uR+F6FK7XP5qZmZmZmck/AAAAAAAA0D89CtejcD3iP6RwPQrXo8A/AAAAAAAA6D9xPQrXo3DdP+F6FK5H4do/uB6F61G43j8UrkfhehTeP83MzMzMzNw/mpmZmZmZ4T/NzMzMzMzcP9ejcD0K1+M/FK5H4XoU3j/hehSuR+HaP83MzMzMzNw/",
          "dtype": "f8"
         },
         "yaxis": "y"
        }
       ],
       "layout": {
        "coloraxis": {
         "colorbar": {
          "title": {
           "text": "clearances/90"
          }
         },
         "colorscale": [
          [
           0,
           "rgb(165,0,38)"
          ],
          [
           0.1,
           "rgb(215,48,39)"
          ],
          [
           0.2,
           "rgb(244,109,67)"
          ],
          [
           0.3,
           "rgb(253,174,97)"
          ],
          [
           0.4,
           "rgb(254,224,139)"
          ],
          [
           0.5,
           "rgb(255,255,191)"
          ],
          [
           0.6,
           "rgb(217,239,139)"
          ],
          [
           0.7,
           "rgb(166,217,106)"
          ],
          [
           0.8,
           "rgb(102,189,99)"
          ],
          [
           0.9,
           "rgb(26,152,80)"
          ],
          [
           1,
           "rgb(0,104,55)"
          ]
         ],
         "showscale": false
        },
        "height": 700,
        "legend": {
         "tracegroupgap": 0
        },
        "paper_bgcolor": "darkgray",
        "plot_bgcolor": "darkgray",
        "template": {
         "data": {
          "bar": [
           {
            "error_x": {
             "color": "#2a3f5f"
            },
            "error_y": {
             "color": "#2a3f5f"
            },
            "marker": {
             "line": {
              "color": "#E5ECF6",
              "width": 0.5
             },
             "pattern": {
              "fillmode": "overlay",
              "size": 10,
              "solidity": 0.2
             }
            },
            "type": "bar"
           }
          ],
          "barpolar": [
           {
            "marker": {
             "line": {
              "color": "#E5ECF6",
              "width": 0.5
             },
             "pattern": {
              "fillmode": "overlay",
              "size": 10,
              "solidity": 0.2
             }
            },
            "type": "barpolar"
           }
          ],
          "carpet": [
           {
            "aaxis": {
             "endlinecolor": "#2a3f5f",
             "gridcolor": "white",
             "linecolor": "white",
             "minorgridcolor": "white",
             "startlinecolor": "#2a3f5f"
            },
            "baxis": {
             "endlinecolor": "#2a3f5f",
             "gridcolor": "white",
             "linecolor": "white",
             "minorgridcolor": "white",
             "startlinecolor": "#2a3f5f"
            },
            "type": "carpet"
           }
          ],
          "choropleth": [
           {
            "colorbar": {
             "outlinewidth": 0,
             "ticks": ""
            },
            "type": "choropleth"
           }
          ],
          "contour": [
           {
            "colorbar": {
             "outlinewidth": 0,
             "ticks": ""
            },
            "colorscale": [
             [
              0,
              "#0d0887"
             ],
             [
              0.1111111111111111,
              "#46039f"
             ],
             [
              0.2222222222222222,
              "#7201a8"
             ],
             [
              0.3333333333333333,
              "#9c179e"
             ],
             [
              0.4444444444444444,
              "#bd3786"
             ],
             [
              0.5555555555555556,
              "#d8576b"
             ],
             [
              0.6666666666666666,
              "#ed7953"
             ],
             [
              0.7777777777777778,
              "#fb9f3a"
             ],
             [
              0.8888888888888888,
              "#fdca26"
             ],
             [
              1,
              "#f0f921"
             ]
            ],
            "type": "contour"
           }
          ],
          "contourcarpet": [
           {
            "colorbar": {
             "outlinewidth": 0,
             "ticks": ""
            },
            "type": "contourcarpet"
           }
          ],
          "heatmap": [
           {
            "colorbar": {
             "outlinewidth": 0,
             "ticks": ""
            },
            "colorscale": [
             [
              0,
              "#0d0887"
             ],
             [
              0.1111111111111111,
              "#46039f"
             ],
             [
              0.2222222222222222,
              "#7201a8"
             ],
             [
              0.3333333333333333,
              "#9c179e"
             ],
             [
              0.4444444444444444,
              "#bd3786"
             ],
             [
              0.5555555555555556,
              "#d8576b"
             ],
             [
              0.6666666666666666,
              "#ed7953"
             ],
             [
              0.7777777777777778,
              "#fb9f3a"
             ],
             [
              0.8888888888888888,
              "#fdca26"
             ],
             [
              1,
              "#f0f921"
             ]
            ],
            "type": "heatmap"
           }
          ],
          "histogram": [
           {
            "marker": {
             "pattern": {
              "fillmode": "overlay",
              "size": 10,
              "solidity": 0.2
             }
            },
            "type": "histogram"
           }
          ],
          "histogram2d": [
           {
            "colorbar": {
             "outlinewidth": 0,
             "ticks": ""
            },
            "colorscale": [
             [
              0,
              "#0d0887"
             ],
             [
              0.1111111111111111,
              "#46039f"
             ],
             [
              0.2222222222222222,
              "#7201a8"
             ],
             [
              0.3333333333333333,
              "#9c179e"
             ],
             [
              0.4444444444444444,
              "#bd3786"
             ],
             [
              0.5555555555555556,
              "#d8576b"
             ],
             [
              0.6666666666666666,
              "#ed7953"
             ],
             [
              0.7777777777777778,
              "#fb9f3a"
             ],
             [
              0.8888888888888888,
              "#fdca26"
             ],
             [
              1,
              "#f0f921"
             ]
            ],
            "type": "histogram2d"
           }
          ],
          "histogram2dcontour": [
           {
            "colorbar": {
             "outlinewidth": 0,
             "ticks": ""
            },
            "colorscale": [
             [
              0,
              "#0d0887"
             ],
             [
              0.1111111111111111,
              "#46039f"
             ],
             [
              0.2222222222222222,
              "#7201a8"
             ],
             [
              0.3333333333333333,
              "#9c179e"
             ],
             [
              0.4444444444444444,
              "#bd3786"
             ],
             [
              0.5555555555555556,
              "#d8576b"
             ],
             [
              0.6666666666666666,
              "#ed7953"
             ],
             [
              0.7777777777777778,
              "#fb9f3a"
             ],
             [
              0.8888888888888888,
              "#fdca26"
             ],
             [
              1,
              "#f0f921"
             ]
            ],
            "type": "histogram2dcontour"
           }
          ],
          "mesh3d": [
           {
            "colorbar": {
             "outlinewidth": 0,
             "ticks": ""
            },
            "type": "mesh3d"
           }
          ],
          "parcoords": [
           {
            "line": {
             "colorbar": {
              "outlinewidth": 0,
              "ticks": ""
             }
            },
            "type": "parcoords"
           }
          ],
          "pie": [
           {
            "automargin": true,
            "type": "pie"
           }
          ],
          "scatter": [
           {
            "fillpattern": {
             "fillmode": "overlay",
             "size": 10,
             "solidity": 0.2
            },
            "type": "scatter"
           }
          ],
          "scatter3d": [
           {
            "line": {
             "colorbar": {
              "outlinewidth": 0,
              "ticks": ""
             }
            },
            "marker": {
             "colorbar": {
              "outlinewidth": 0,
              "ticks": ""
             }
            },
            "type": "scatter3d"
           }
          ],
          "scattercarpet": [
           {
            "marker": {
             "colorbar": {
              "outlinewidth": 0,
              "ticks": ""
             }
            },
            "type": "scattercarpet"
           }
          ],
          "scattergeo": [
           {
            "marker": {
             "colorbar": {
              "outlinewidth": 0,
              "ticks": ""
             }
            },
            "type": "scattergeo"
           }
          ],
          "scattergl": [
           {
            "marker": {
             "colorbar": {
              "outlinewidth": 0,
              "ticks": ""
             }
            },
            "type": "scattergl"
           }
          ],
          "scattermap": [
           {
            "marker": {
             "colorbar": {
              "outlinewidth": 0,
              "ticks": ""
             }
            },
            "type": "scattermap"
           }
          ],
          "scattermapbox": [
           {
            "marker": {
             "colorbar": {
              "outlinewidth": 0,
              "ticks": ""
             }
            },
            "type": "scattermapbox"
           }
          ],
          "scatterpolar": [
           {
            "marker": {
             "colorbar": {
              "outlinewidth": 0,
              "ticks": ""
             }
            },
            "type": "scatterpolar"
           }
          ],
          "scatterpolargl": [
           {
            "marker": {
             "colorbar": {
              "outlinewidth": 0,
              "ticks": ""
             }
            },
            "type": "scatterpolargl"
           }
          ],
          "scatterternary": [
           {
            "marker": {
             "colorbar": {
              "outlinewidth": 0,
              "ticks": ""
             }
            },
            "type": "scatterternary"
           }
          ],
          "surface": [
           {
            "colorbar": {
             "outlinewidth": 0,
             "ticks": ""
            },
            "colorscale": [
             [
              0,
              "#0d0887"
             ],
             [
              0.1111111111111111,
              "#46039f"
             ],
             [
              0.2222222222222222,
              "#7201a8"
             ],
             [
              0.3333333333333333,
              "#9c179e"
             ],
             [
              0.4444444444444444,
              "#bd3786"
             ],
             [
              0.5555555555555556,
              "#d8576b"
             ],
             [
              0.6666666666666666,
              "#ed7953"
             ],
             [
              0.7777777777777778,
              "#fb9f3a"
             ],
             [
              0.8888888888888888,
              "#fdca26"
             ],
             [
              1,
              "#f0f921"
             ]
            ],
            "type": "surface"
           }
          ],
          "table": [
           {
            "cells": {
             "fill": {
              "color": "#EBF0F8"
             },
             "line": {
              "color": "white"
             }
            },
            "header": {
             "fill": {
              "color": "#C8D4E3"
             },
             "line": {
              "color": "white"
             }
            },
            "type": "table"
           }
          ]
         },
         "layout": {
          "annotationdefaults": {
           "arrowcolor": "#2a3f5f",
           "arrowhead": 0,
           "arrowwidth": 1
          },
          "autotypenumbers": "strict",
          "coloraxis": {
           "colorbar": {
            "outlinewidth": 0,
            "ticks": ""
           }
          },
          "colorscale": {
           "diverging": [
            [
             0,
             "#8e0152"
            ],
            [
             0.1,
             "#c51b7d"
            ],
            [
             0.2,
             "#de77ae"
            ],
            [
             0.3,
             "#f1b6da"
            ],
            [
             0.4,
             "#fde0ef"
            ],
            [
             0.5,
             "#f7f7f7"
            ],
            [
             0.6,
             "#e6f5d0"
            ],
            [
             0.7,
             "#b8e186"
            ],
            [
             0.8,
             "#7fbc41"
            ],
            [
             0.9,
             "#4d9221"
            ],
            [
             1,
             "#276419"
            ]
           ],
           "sequential": [
            [
             0,
             "#0d0887"
            ],
            [
             0.1111111111111111,
             "#46039f"
            ],
            [
             0.2222222222222222,
             "#7201a8"
            ],
            [
             0.3333333333333333,
             "#9c179e"
            ],
            [
             0.4444444444444444,
             "#bd3786"
            ],
            [
             0.5555555555555556,
             "#d8576b"
            ],
            [
             0.6666666666666666,
             "#ed7953"
            ],
            [
             0.7777777777777778,
             "#fb9f3a"
            ],
            [
             0.8888888888888888,
             "#fdca26"
            ],
            [
             1,
             "#f0f921"
            ]
           ],
           "sequentialminus": [
            [
             0,
             "#0d0887"
            ],
            [
             0.1111111111111111,
             "#46039f"
            ],
            [
             0.2222222222222222,
             "#7201a8"
            ],
            [
             0.3333333333333333,
             "#9c179e"
            ],
            [
             0.4444444444444444,
             "#bd3786"
            ],
            [
             0.5555555555555556,
             "#d8576b"
            ],
            [
             0.6666666666666666,
             "#ed7953"
            ],
            [
             0.7777777777777778,
             "#fb9f3a"
            ],
            [
             0.8888888888888888,
             "#fdca26"
            ],
            [
             1,
             "#f0f921"
            ]
           ]
          },
          "colorway": [
           "#636efa",
           "#EF553B",
           "#00cc96",
           "#ab63fa",
           "#FFA15A",
           "#19d3f3",
           "#FF6692",
           "#B6E880",
           "#FF97FF",
           "#FECB52"
          ],
          "font": {
           "color": "#2a3f5f"
          },
          "geo": {
           "bgcolor": "white",
           "lakecolor": "white",
           "landcolor": "#E5ECF6",
           "showlakes": true,
           "showland": true,
           "subunitcolor": "white"
          },
          "hoverlabel": {
           "align": "left"
          },
          "hovermode": "closest",
          "mapbox": {
           "style": "light"
          },
          "paper_bgcolor": "white",
          "plot_bgcolor": "#E5ECF6",
          "polar": {
           "angularaxis": {
            "gridcolor": "white",
            "linecolor": "white",
            "ticks": ""
           },
           "bgcolor": "#E5ECF6",
           "radialaxis": {
            "gridcolor": "white",
            "linecolor": "white",
            "ticks": ""
           }
          },
          "scene": {
           "xaxis": {
            "backgroundcolor": "#E5ECF6",
            "gridcolor": "white",
            "gridwidth": 2,
            "linecolor": "white",
            "showbackground": true,
            "ticks": "",
            "zerolinecolor": "white"
           },
           "yaxis": {
            "backgroundcolor": "#E5ECF6",
            "gridcolor": "white",
            "gridwidth": 2,
            "linecolor": "white",
            "showbackground": true,
            "ticks": "",
            "zerolinecolor": "white"
           },
           "zaxis": {
            "backgroundcolor": "#E5ECF6",
            "gridcolor": "white",
            "gridwidth": 2,
            "linecolor": "white",
            "showbackground": true,
            "ticks": "",
            "zerolinecolor": "white"
           }
          },
          "shapedefaults": {
           "line": {
            "color": "#2a3f5f"
           }
          },
          "ternary": {
           "aaxis": {
            "gridcolor": "white",
            "linecolor": "white",
            "ticks": ""
           },
           "baxis": {
            "gridcolor": "white",
            "linecolor": "white",
            "ticks": ""
           },
           "bgcolor": "#E5ECF6",
           "caxis": {
            "gridcolor": "white",
            "linecolor": "white",
            "ticks": ""
           }
          },
          "title": {
           "x": 0.05
          },
          "xaxis": {
           "automargin": true,
           "gridcolor": "white",
           "linecolor": "white",
           "ticks": "",
           "title": {
            "standoff": 15
           },
           "zerolinecolor": "white",
           "zerolinewidth": 2
          },
          "yaxis": {
           "automargin": true,
           "gridcolor": "white",
           "linecolor": "white",
           "ticks": "",
           "title": {
            "standoff": 15
           },
           "zerolinecolor": "white",
           "zerolinewidth": 2
          }
         }
        },
        "title": {
         "text": "Presence ( 48)",
         "x": 0.5,
         "xanchor": "center"
        },
        "width": 1200,
        "xaxis": {
         "anchor": "y",
         "domain": [
          0,
          1
         ],
         "gridcolor": "white",
         "showgrid": true,
         "title": {
          "text": "interceptions/90"
         },
         "zeroline": false
        },
        "yaxis": {
         "anchor": "x",
         "domain": [
          0,
          1
         ],
         "gridcolor": "white",
         "showgrid": true,
         "title": {
          "text": "blocks/90"
         },
         "zeroline": false
        }
       }
      }
     },
     "metadata": {},
     "output_type": "display_data"
    }
   ],
   "source": [
    "# Full universe \n",
    "scatter_plot(df_targets,\n",
    "             x_metric='interceptions/90', \n",
    "             y_metric='blocks/90',\n",
    "             z_metric='clearances/90',\n",
    "             title='Presence', \n",
    "             show_name_label=True\n",
    ") "
   ]
  },
  {
   "cell_type": "code",
   "execution_count": 155,
   "id": "4b0be327",
   "metadata": {},
   "outputs": [
    {
     "data": {
      "application/vnd.plotly.v1+json": {
       "config": {
        "plotlyServerURL": "https://plot.ly"
       },
       "data": [
        {
         "customdata": [
          [
           "Leonel Picco",
           "Platense"
          ],
          [
           "Carlos Villalba",
           "Platense"
          ],
          [
           "Santiago Sosa",
           "Racing Club"
          ],
          [
           "Nicolás Garayalde",
           "Vélez"
          ],
          [
           "Franco Ibarra",
           "Rosario Central"
          ],
          [
           "Francisco Perruzzi",
           "San Lorenzo"
          ],
          [
           "Santiago Longo",
           "Belgrano"
          ],
          [
           "Amadou Haïdara",
           "RB Leipzig"
          ],
          [
           "Thiago Maia",
           "FLA"
          ],
          [
           "Matheus Henrique",
           "FLA"
          ],
          [
           "Pedro Augusto",
           "FOR"
          ],
          [
           "Hugo Moura",
           "Athlético Paranaense"
          ],
          [
           "Luan",
           "SPO"
          ],
          [
           "Zé Gabriel",
           "Vasco da Gama"
          ],
          [
           "Jhonny Lucas",
           "GOI"
          ],
          [
           "André",
           "FLU"
          ],
          [
           "Pablo Maia",
           "SPO"
          ],
          [
           "Bruno Gomes",
           "CTB"
          ],
          [
           "Martinelli",
           "FLU"
          ],
          [
           "David Kasumu",
           "Huddersfield"
          ],
          [
           "Tommaso Pobega",
           "Milan"
          ],
          [
           "Michel Ndary Adopo",
           "Atalanta"
          ],
          [
           "Salis Abdul Samed",
           "Lens"
          ],
          [
           "Mirko Topić",
           "Famalicão"
          ],
          [
           "Keidi Bare",
           "Coventry"
          ],
          [
           "Fran Beltrán",
           "Celta"
          ],
          [
           "Jesús Castillo",
           "Gil Vicente"
          ],
          [
           "Nicolás Acevedo",
           "BAH"
          ],
          [
           "Samú",
           "Mallorca"
          ],
          [
           "Gonçalo Franco",
           "Moreirense"
          ],
          [
           "Leandro Barreiro",
           "Mainz 05"
          ],
          [
           "William Clem",
           "FC København"
          ],
          [
           "Benjamín Schamine",
           "Defensa y Justicia"
          ],
          [
           "Kevin Ortiz",
           "Rosario Central"
          ]
         ],
         "hovertemplate": "<b>%{customdata[0]}</b><br><b>%{customdata[1]}</b><br><br>interceptions/90: %{x}<br>blocks/90: %{y}<br>clearances/90: %{marker.color}<extra></extra>",
         "legendgroup": "",
         "marker": {
          "color": {
           "bdata": "j8L1KFyP8j+amZmZmZnpP/YoXI/C9eg/H4XrUbge9T89CtejcD3yP+xRuB6F6+k/7FG4HoXr6T+amZmZmZnxP65H4XoUru8/zczMzMzM5D8fhetRuB71P6RwPQrXo/A/9ihcj8L16D/2KFyPwvXoPz0K16NwPeo/4XoUrkfh4j/NzMzMzMzkP9ejcD0K1+s/H4XrUbge8T8AAAAAAAD0PwAAAAAAAOA/KVyPwvUo8D9cj8L1KFzvP83MzMzMzOw/zczMzMzM9D/sUbgehev1Px+F61G4HvU/j8L1KFyP4j9mZmZmZmbuP/YoXI/C9fA/zczMzMzM/D+amZmZmZnhP3E9CtejcPE/KVyPwvUo7D8=",
           "dtype": "f8"
          },
          "coloraxis": "coloraxis",
          "size": 10,
          "symbol": "circle"
         },
         "mode": "markers+text",
         "name": "",
         "orientation": "v",
         "showlegend": false,
         "text": [
          "Leonel Picco",
          "Carlos Villalba",
          "Santiago Sosa",
          "Nicolás Garayalde",
          "Franco Ibarra",
          "Francisco Perruzzi",
          "Santiago Longo",
          "Amadou Haïdara",
          "Thiago Maia",
          "Matheus Henrique",
          "Pedro Augusto",
          "Hugo Moura",
          "Luan",
          "Zé Gabriel",
          "Jhonny Lucas",
          "André",
          "Pablo Maia",
          "Bruno Gomes",
          "Martinelli",
          "David Kasumu",
          "Tommaso Pobega",
          "Michel Ndary Adopo",
          "Salis Abdul Samed",
          "Mirko Topić",
          "Keidi Bare",
          "Fran Beltrán",
          "Jesús Castillo",
          "Nicolás Acevedo",
          "Samú",
          "Gonçalo Franco",
          "Leandro Barreiro",
          "William Clem",
          "Benjamín Schamine",
          "Kevin Ortiz"
         ],
         "textfont": {
          "size": 10
         },
         "textposition": "top center",
         "type": "scatter",
         "x": {
          "bdata": "H4XrUbge/T8UrkfhehT6P3sUrkfhegBAexSuR+F6+D+uR+F6FK7/P3E9CtejcPk/rkfhehSuAUBSuB6F61EAQHsUrkfhevw/H4XrUbgeA0BxPQrXo3ABQBSuR+F6FP4/zczMzMzMAECPwvUoXI/6PzMzMzMzM/s/PQrXo3A9AEBSuB6F61H4PwrXo3A9Cvs/mpmZmZmZAUBmZmZmZmb6PwrXo3A9Cvs/ZmZmZmZmAkBcj8L1KFz/P8P1KFyPwgFASOF6FK5HBUBI4XoUrkcBQLgehetRuPo/KVyPwvUoAEBxPQrXo3ADQIXrUbgehf8/CtejcD0K/z9mZmZmZmb6Pylcj8L1KPg/H4XrUbge+T8=",
          "dtype": "f8"
         },
         "xaxis": "x",
         "y": {
          "bdata": "9ihcj8L12D+amZmZmZnZP3E9CtejcM0/hetRuB6F4z+PwvUoXI/iPx+F61G4HtU/CtejcD0K1z9SuB6F61HgP7gehetRuN4/rkfhehSu1z9SuB6F61HgP4XrUbgeheM/pHA9Ctej4D8K16NwPQrXPzMzMzMzM9M/9ihcj8L12D8zMzMzMzPTPz0K16NwPdo/PQrXo3A92j9mZmZmZmbmP5qZmZmZmdk/rkfhehSu1z+amZmZmZnJPz0K16NwPeI/AAAAAAAA6D9xPQrXo3DdP+F6FK5H4do/uB6F61G43j8UrkfhehTeP83MzMzMzNw/mpmZmZmZ4T/NzMzMzMzcP+F6FK5H4do/zczMzMzM3D8=",
          "dtype": "f8"
         },
         "yaxis": "y"
        }
       ],
       "layout": {
        "coloraxis": {
         "colorbar": {
          "title": {
           "text": "clearances/90"
          }
         },
         "colorscale": [
          [
           0,
           "rgb(165,0,38)"
          ],
          [
           0.1,
           "rgb(215,48,39)"
          ],
          [
           0.2,
           "rgb(244,109,67)"
          ],
          [
           0.3,
           "rgb(253,174,97)"
          ],
          [
           0.4,
           "rgb(254,224,139)"
          ],
          [
           0.5,
           "rgb(255,255,191)"
          ],
          [
           0.6,
           "rgb(217,239,139)"
          ],
          [
           0.7,
           "rgb(166,217,106)"
          ],
          [
           0.8,
           "rgb(102,189,99)"
          ],
          [
           0.9,
           "rgb(26,152,80)"
          ],
          [
           1,
           "rgb(0,104,55)"
          ]
         ],
         "showscale": false
        },
        "height": 700,
        "legend": {
         "tracegroupgap": 0
        },
        "paper_bgcolor": "darkgray",
        "plot_bgcolor": "darkgray",
        "template": {
         "data": {
          "bar": [
           {
            "error_x": {
             "color": "#2a3f5f"
            },
            "error_y": {
             "color": "#2a3f5f"
            },
            "marker": {
             "line": {
              "color": "#E5ECF6",
              "width": 0.5
             },
             "pattern": {
              "fillmode": "overlay",
              "size": 10,
              "solidity": 0.2
             }
            },
            "type": "bar"
           }
          ],
          "barpolar": [
           {
            "marker": {
             "line": {
              "color": "#E5ECF6",
              "width": 0.5
             },
             "pattern": {
              "fillmode": "overlay",
              "size": 10,
              "solidity": 0.2
             }
            },
            "type": "barpolar"
           }
          ],
          "carpet": [
           {
            "aaxis": {
             "endlinecolor": "#2a3f5f",
             "gridcolor": "white",
             "linecolor": "white",
             "minorgridcolor": "white",
             "startlinecolor": "#2a3f5f"
            },
            "baxis": {
             "endlinecolor": "#2a3f5f",
             "gridcolor": "white",
             "linecolor": "white",
             "minorgridcolor": "white",
             "startlinecolor": "#2a3f5f"
            },
            "type": "carpet"
           }
          ],
          "choropleth": [
           {
            "colorbar": {
             "outlinewidth": 0,
             "ticks": ""
            },
            "type": "choropleth"
           }
          ],
          "contour": [
           {
            "colorbar": {
             "outlinewidth": 0,
             "ticks": ""
            },
            "colorscale": [
             [
              0,
              "#0d0887"
             ],
             [
              0.1111111111111111,
              "#46039f"
             ],
             [
              0.2222222222222222,
              "#7201a8"
             ],
             [
              0.3333333333333333,
              "#9c179e"
             ],
             [
              0.4444444444444444,
              "#bd3786"
             ],
             [
              0.5555555555555556,
              "#d8576b"
             ],
             [
              0.6666666666666666,
              "#ed7953"
             ],
             [
              0.7777777777777778,
              "#fb9f3a"
             ],
             [
              0.8888888888888888,
              "#fdca26"
             ],
             [
              1,
              "#f0f921"
             ]
            ],
            "type": "contour"
           }
          ],
          "contourcarpet": [
           {
            "colorbar": {
             "outlinewidth": 0,
             "ticks": ""
            },
            "type": "contourcarpet"
           }
          ],
          "heatmap": [
           {
            "colorbar": {
             "outlinewidth": 0,
             "ticks": ""
            },
            "colorscale": [
             [
              0,
              "#0d0887"
             ],
             [
              0.1111111111111111,
              "#46039f"
             ],
             [
              0.2222222222222222,
              "#7201a8"
             ],
             [
              0.3333333333333333,
              "#9c179e"
             ],
             [
              0.4444444444444444,
              "#bd3786"
             ],
             [
              0.5555555555555556,
              "#d8576b"
             ],
             [
              0.6666666666666666,
              "#ed7953"
             ],
             [
              0.7777777777777778,
              "#fb9f3a"
             ],
             [
              0.8888888888888888,
              "#fdca26"
             ],
             [
              1,
              "#f0f921"
             ]
            ],
            "type": "heatmap"
           }
          ],
          "histogram": [
           {
            "marker": {
             "pattern": {
              "fillmode": "overlay",
              "size": 10,
              "solidity": 0.2
             }
            },
            "type": "histogram"
           }
          ],
          "histogram2d": [
           {
            "colorbar": {
             "outlinewidth": 0,
             "ticks": ""
            },
            "colorscale": [
             [
              0,
              "#0d0887"
             ],
             [
              0.1111111111111111,
              "#46039f"
             ],
             [
              0.2222222222222222,
              "#7201a8"
             ],
             [
              0.3333333333333333,
              "#9c179e"
             ],
             [
              0.4444444444444444,
              "#bd3786"
             ],
             [
              0.5555555555555556,
              "#d8576b"
             ],
             [
              0.6666666666666666,
              "#ed7953"
             ],
             [
              0.7777777777777778,
              "#fb9f3a"
             ],
             [
              0.8888888888888888,
              "#fdca26"
             ],
             [
              1,
              "#f0f921"
             ]
            ],
            "type": "histogram2d"
           }
          ],
          "histogram2dcontour": [
           {
            "colorbar": {
             "outlinewidth": 0,
             "ticks": ""
            },
            "colorscale": [
             [
              0,
              "#0d0887"
             ],
             [
              0.1111111111111111,
              "#46039f"
             ],
             [
              0.2222222222222222,
              "#7201a8"
             ],
             [
              0.3333333333333333,
              "#9c179e"
             ],
             [
              0.4444444444444444,
              "#bd3786"
             ],
             [
              0.5555555555555556,
              "#d8576b"
             ],
             [
              0.6666666666666666,
              "#ed7953"
             ],
             [
              0.7777777777777778,
              "#fb9f3a"
             ],
             [
              0.8888888888888888,
              "#fdca26"
             ],
             [
              1,
              "#f0f921"
             ]
            ],
            "type": "histogram2dcontour"
           }
          ],
          "mesh3d": [
           {
            "colorbar": {
             "outlinewidth": 0,
             "ticks": ""
            },
            "type": "mesh3d"
           }
          ],
          "parcoords": [
           {
            "line": {
             "colorbar": {
              "outlinewidth": 0,
              "ticks": ""
             }
            },
            "type": "parcoords"
           }
          ],
          "pie": [
           {
            "automargin": true,
            "type": "pie"
           }
          ],
          "scatter": [
           {
            "fillpattern": {
             "fillmode": "overlay",
             "size": 10,
             "solidity": 0.2
            },
            "type": "scatter"
           }
          ],
          "scatter3d": [
           {
            "line": {
             "colorbar": {
              "outlinewidth": 0,
              "ticks": ""
             }
            },
            "marker": {
             "colorbar": {
              "outlinewidth": 0,
              "ticks": ""
             }
            },
            "type": "scatter3d"
           }
          ],
          "scattercarpet": [
           {
            "marker": {
             "colorbar": {
              "outlinewidth": 0,
              "ticks": ""
             }
            },
            "type": "scattercarpet"
           }
          ],
          "scattergeo": [
           {
            "marker": {
             "colorbar": {
              "outlinewidth": 0,
              "ticks": ""
             }
            },
            "type": "scattergeo"
           }
          ],
          "scattergl": [
           {
            "marker": {
             "colorbar": {
              "outlinewidth": 0,
              "ticks": ""
             }
            },
            "type": "scattergl"
           }
          ],
          "scattermap": [
           {
            "marker": {
             "colorbar": {
              "outlinewidth": 0,
              "ticks": ""
             }
            },
            "type": "scattermap"
           }
          ],
          "scattermapbox": [
           {
            "marker": {
             "colorbar": {
              "outlinewidth": 0,
              "ticks": ""
             }
            },
            "type": "scattermapbox"
           }
          ],
          "scatterpolar": [
           {
            "marker": {
             "colorbar": {
              "outlinewidth": 0,
              "ticks": ""
             }
            },
            "type": "scatterpolar"
           }
          ],
          "scatterpolargl": [
           {
            "marker": {
             "colorbar": {
              "outlinewidth": 0,
              "ticks": ""
             }
            },
            "type": "scatterpolargl"
           }
          ],
          "scatterternary": [
           {
            "marker": {
             "colorbar": {
              "outlinewidth": 0,
              "ticks": ""
             }
            },
            "type": "scatterternary"
           }
          ],
          "surface": [
           {
            "colorbar": {
             "outlinewidth": 0,
             "ticks": ""
            },
            "colorscale": [
             [
              0,
              "#0d0887"
             ],
             [
              0.1111111111111111,
              "#46039f"
             ],
             [
              0.2222222222222222,
              "#7201a8"
             ],
             [
              0.3333333333333333,
              "#9c179e"
             ],
             [
              0.4444444444444444,
              "#bd3786"
             ],
             [
              0.5555555555555556,
              "#d8576b"
             ],
             [
              0.6666666666666666,
              "#ed7953"
             ],
             [
              0.7777777777777778,
              "#fb9f3a"
             ],
             [
              0.8888888888888888,
              "#fdca26"
             ],
             [
              1,
              "#f0f921"
             ]
            ],
            "type": "surface"
           }
          ],
          "table": [
           {
            "cells": {
             "fill": {
              "color": "#EBF0F8"
             },
             "line": {
              "color": "white"
             }
            },
            "header": {
             "fill": {
              "color": "#C8D4E3"
             },
             "line": {
              "color": "white"
             }
            },
            "type": "table"
           }
          ]
         },
         "layout": {
          "annotationdefaults": {
           "arrowcolor": "#2a3f5f",
           "arrowhead": 0,
           "arrowwidth": 1
          },
          "autotypenumbers": "strict",
          "coloraxis": {
           "colorbar": {
            "outlinewidth": 0,
            "ticks": ""
           }
          },
          "colorscale": {
           "diverging": [
            [
             0,
             "#8e0152"
            ],
            [
             0.1,
             "#c51b7d"
            ],
            [
             0.2,
             "#de77ae"
            ],
            [
             0.3,
             "#f1b6da"
            ],
            [
             0.4,
             "#fde0ef"
            ],
            [
             0.5,
             "#f7f7f7"
            ],
            [
             0.6,
             "#e6f5d0"
            ],
            [
             0.7,
             "#b8e186"
            ],
            [
             0.8,
             "#7fbc41"
            ],
            [
             0.9,
             "#4d9221"
            ],
            [
             1,
             "#276419"
            ]
           ],
           "sequential": [
            [
             0,
             "#0d0887"
            ],
            [
             0.1111111111111111,
             "#46039f"
            ],
            [
             0.2222222222222222,
             "#7201a8"
            ],
            [
             0.3333333333333333,
             "#9c179e"
            ],
            [
             0.4444444444444444,
             "#bd3786"
            ],
            [
             0.5555555555555556,
             "#d8576b"
            ],
            [
             0.6666666666666666,
             "#ed7953"
            ],
            [
             0.7777777777777778,
             "#fb9f3a"
            ],
            [
             0.8888888888888888,
             "#fdca26"
            ],
            [
             1,
             "#f0f921"
            ]
           ],
           "sequentialminus": [
            [
             0,
             "#0d0887"
            ],
            [
             0.1111111111111111,
             "#46039f"
            ],
            [
             0.2222222222222222,
             "#7201a8"
            ],
            [
             0.3333333333333333,
             "#9c179e"
            ],
            [
             0.4444444444444444,
             "#bd3786"
            ],
            [
             0.5555555555555556,
             "#d8576b"
            ],
            [
             0.6666666666666666,
             "#ed7953"
            ],
            [
             0.7777777777777778,
             "#fb9f3a"
            ],
            [
             0.8888888888888888,
             "#fdca26"
            ],
            [
             1,
             "#f0f921"
            ]
           ]
          },
          "colorway": [
           "#636efa",
           "#EF553B",
           "#00cc96",
           "#ab63fa",
           "#FFA15A",
           "#19d3f3",
           "#FF6692",
           "#B6E880",
           "#FF97FF",
           "#FECB52"
          ],
          "font": {
           "color": "#2a3f5f"
          },
          "geo": {
           "bgcolor": "white",
           "lakecolor": "white",
           "landcolor": "#E5ECF6",
           "showlakes": true,
           "showland": true,
           "subunitcolor": "white"
          },
          "hoverlabel": {
           "align": "left"
          },
          "hovermode": "closest",
          "mapbox": {
           "style": "light"
          },
          "paper_bgcolor": "white",
          "plot_bgcolor": "#E5ECF6",
          "polar": {
           "angularaxis": {
            "gridcolor": "white",
            "linecolor": "white",
            "ticks": ""
           },
           "bgcolor": "#E5ECF6",
           "radialaxis": {
            "gridcolor": "white",
            "linecolor": "white",
            "ticks": ""
           }
          },
          "scene": {
           "xaxis": {
            "backgroundcolor": "#E5ECF6",
            "gridcolor": "white",
            "gridwidth": 2,
            "linecolor": "white",
            "showbackground": true,
            "ticks": "",
            "zerolinecolor": "white"
           },
           "yaxis": {
            "backgroundcolor": "#E5ECF6",
            "gridcolor": "white",
            "gridwidth": 2,
            "linecolor": "white",
            "showbackground": true,
            "ticks": "",
            "zerolinecolor": "white"
           },
           "zaxis": {
            "backgroundcolor": "#E5ECF6",
            "gridcolor": "white",
            "gridwidth": 2,
            "linecolor": "white",
            "showbackground": true,
            "ticks": "",
            "zerolinecolor": "white"
           }
          },
          "shapedefaults": {
           "line": {
            "color": "#2a3f5f"
           }
          },
          "ternary": {
           "aaxis": {
            "gridcolor": "white",
            "linecolor": "white",
            "ticks": ""
           },
           "baxis": {
            "gridcolor": "white",
            "linecolor": "white",
            "ticks": ""
           },
           "bgcolor": "#E5ECF6",
           "caxis": {
            "gridcolor": "white",
            "linecolor": "white",
            "ticks": ""
           }
          },
          "title": {
           "x": 0.05
          },
          "xaxis": {
           "automargin": true,
           "gridcolor": "white",
           "linecolor": "white",
           "ticks": "",
           "title": {
            "standoff": 15
           },
           "zerolinecolor": "white",
           "zerolinewidth": 2
          },
          "yaxis": {
           "automargin": true,
           "gridcolor": "white",
           "linecolor": "white",
           "ticks": "",
           "title": {
            "standoff": 15
           },
           "zerolinecolor": "white",
           "zerolinewidth": 2
          }
         }
        },
        "title": {
         "text": "Presence ( 34)",
         "x": 0.5,
         "xanchor": "center"
        },
        "width": 1200,
        "xaxis": {
         "anchor": "y",
         "domain": [
          0,
          1
         ],
         "gridcolor": "white",
         "showgrid": true,
         "title": {
          "text": "interceptions/90"
         },
         "zeroline": false
        },
        "yaxis": {
         "anchor": "x",
         "domain": [
          0,
          1
         ],
         "gridcolor": "white",
         "showgrid": true,
         "title": {
          "text": "blocks/90"
         },
         "zeroline": false
        }
       }
      }
     },
     "metadata": {},
     "output_type": "display_data"
    }
   ],
   "source": [
    "# Filter data \n",
    "mask = (\n",
    "        (df_players['interceptions/90'] >= 1.5) & \\\n",
    "        (df_players['blocks/90'] >= 0.2) & \\\n",
    "        (df_players['clearances/90'] >= 0.5) & \\\n",
    "        (df_players['price_estimate_M'] <= 40) & \\\n",
    "        (df_players['id'].isin(targets))\n",
    "        \n",
    "        \n",
    ")\n",
    "\n",
    "df_targets = df_players[mask]\n",
    "\n",
    "scatter_plot(df_targets,\n",
    "             x_metric='interceptions/90', \n",
    "             y_metric='blocks/90',\n",
    "             z_metric='clearances/90',\n",
    "             title='Presence', \n",
    "             show_name_label=True\n",
    ")\n",
    "\n",
    "#df_targets = df_players[mask]"
   ]
  },
  {
   "cell_type": "markdown",
   "id": "93f777a2",
   "metadata": {},
   "source": [
    "## Distance"
   ]
  },
  {
   "cell_type": "code",
   "execution_count": 156,
   "id": "ba49d750",
   "metadata": {},
   "outputs": [
    {
     "data": {
      "text/html": [
       "<div>\n",
       "<style scoped>\n",
       "    .dataframe tbody tr th:only-of-type {\n",
       "        vertical-align: middle;\n",
       "    }\n",
       "\n",
       "    .dataframe tbody tr th {\n",
       "        vertical-align: top;\n",
       "    }\n",
       "\n",
       "    .dataframe thead th {\n",
       "        text-align: right;\n",
       "    }\n",
       "</style>\n",
       "<table border=\"1\" class=\"dataframe\">\n",
       "  <thead>\n",
       "    <tr style=\"text-align: right;\">\n",
       "      <th></th>\n",
       "      <th>id</th>\n",
       "      <th>name</th>\n",
       "      <th>position</th>\n",
       "      <th>age</th>\n",
       "      <th>height</th>\n",
       "      <th>weight</th>\n",
       "      <th>inf</th>\n",
       "      <th>club</th>\n",
       "      <th>division</th>\n",
       "      <th>nationality</th>\n",
       "      <th>home_grown</th>\n",
       "      <th>personality</th>\n",
       "      <th>media_handling</th>\n",
       "      <th>wage</th>\n",
       "      <th>transfer_value</th>\n",
       "      <th>asking_price</th>\n",
       "      <th>preferred_foot</th>\n",
       "      <th>starts</th>\n",
       "      <th>minutes_played</th>\n",
       "      <th>average_rating</th>\n",
       "      <th>sub_appearances</th>\n",
       "      <th>minutes/game</th>\n",
       "      <th>index</th>\n",
       "      <th>passes_attempted/90</th>\n",
       "      <th>passes_completed/90</th>\n",
       "      <th>pass_completion_%</th>\n",
       "      <th>progressive_passes/90</th>\n",
       "      <th>progressive_pass_rate</th>\n",
       "      <th>key_passes/90</th>\n",
       "      <th>key_pass_%</th>\n",
       "      <th>open_play_key_passes/90</th>\n",
       "      <th>open_play_key_pass_%</th>\n",
       "      <th>chances_created/90</th>\n",
       "      <th>clear_cut_chances_created/90</th>\n",
       "      <th>pressures_attempted/90</th>\n",
       "      <th>pressures_completed/90</th>\n",
       "      <th>pressure_success_%</th>\n",
       "      <th>possession_won/90</th>\n",
       "      <th>possession_lost/90</th>\n",
       "      <th>poss+_/90</th>\n",
       "      <th>poss+__%</th>\n",
       "      <th>tackles_attempted/90</th>\n",
       "      <th>tackles_completed/90</th>\n",
       "      <th>tackle_completion_%</th>\n",
       "      <th>tackles_failed/90</th>\n",
       "      <th>key_tackles/90</th>\n",
       "      <th>tackle_quality</th>\n",
       "      <th>interceptions/90</th>\n",
       "      <th>blocks/90</th>\n",
       "      <th>shots_blocked/90</th>\n",
       "      <th>headers_attempted/90</th>\n",
       "      <th>headers_won/90</th>\n",
       "      <th>headers_won_%</th>\n",
       "      <th>headers_lost/90</th>\n",
       "      <th>headers_lost_%</th>\n",
       "      <th>key_headers/90</th>\n",
       "      <th>aerial_challenges_attempted/90</th>\n",
       "      <th>duels_win_%</th>\n",
       "      <th>fouls_won/90</th>\n",
       "      <th>fouls_committed/90</th>\n",
       "      <th>clearances/90</th>\n",
       "      <th>distance_covered/90</th>\n",
       "      <th>attacking_actions/90</th>\n",
       "      <th>creative_actions/90</th>\n",
       "      <th>defensive_actions/90</th>\n",
       "      <th>excitement_factor/90</th>\n",
       "      <th>general_performance</th>\n",
       "      <th>goalkeeping</th>\n",
       "      <th>defensive_defender</th>\n",
       "      <th>creative_defender</th>\n",
       "      <th>attacking_defender</th>\n",
       "      <th>creative_midfielder</th>\n",
       "      <th>attacking_midfielder</th>\n",
       "      <th>creative_winger</th>\n",
       "      <th>attacking_winger</th>\n",
       "      <th>creative_forward</th>\n",
       "      <th>attacking_forward</th>\n",
       "      <th>finisher</th>\n",
       "      <th>aerial_threat</th>\n",
       "      <th>reader</th>\n",
       "      <th>assister</th>\n",
       "      <th>uid</th>\n",
       "      <th>natural_dm</th>\n",
       "      <th>price_estimate_M</th>\n",
       "      <th>tackles_comp-fouls/90</th>\n",
       "    </tr>\n",
       "  </thead>\n",
       "  <tbody>\n",
       "    <tr>\n",
       "      <th>1</th>\n",
       "      <td>211515</td>\n",
       "      <td>Baptiste Santamaria</td>\n",
       "      <td>DM, M/AM (C)</td>\n",
       "      <td>28</td>\n",
       "      <td>183 cm</td>\n",
       "      <td>81 kg</td>\n",
       "      <td>-</td>\n",
       "      <td>Rennes</td>\n",
       "      <td>Ligue 1 Uber Eats</td>\n",
       "      <td>FRA</td>\n",
       "      <td>-</td>\n",
       "      <td>Resolute</td>\n",
       "      <td>Level-headed</td>\n",
       "      <td>$16,000 p/w</td>\n",
       "      <td>$10M - $12.5M</td>\n",
       "      <td>-</td>\n",
       "      <td>Right</td>\n",
       "      <td>20</td>\n",
       "      <td>1741</td>\n",
       "      <td>6.87</td>\n",
       "      <td>1</td>\n",
       "      <td>82.9</td>\n",
       "      <td>1</td>\n",
       "      <td>73.56</td>\n",
       "      <td>66.07</td>\n",
       "      <td>90</td>\n",
       "      <td>8.27</td>\n",
       "      <td>11.24</td>\n",
       "      <td>1.03</td>\n",
       "      <td>1.41</td>\n",
       "      <td>0.98</td>\n",
       "      <td>1.34</td>\n",
       "      <td>0.07</td>\n",
       "      <td>0.05</td>\n",
       "      <td>12.25</td>\n",
       "      <td>3.31</td>\n",
       "      <td>27.0</td>\n",
       "      <td>8.22</td>\n",
       "      <td>9.15</td>\n",
       "      <td>-0.93</td>\n",
       "      <td>-10.16</td>\n",
       "      <td>4.03</td>\n",
       "      <td>2.95</td>\n",
       "      <td>73</td>\n",
       "      <td>1.09</td>\n",
       "      <td>0.0</td>\n",
       "      <td>2.36</td>\n",
       "      <td>1.71</td>\n",
       "      <td>0.47</td>\n",
       "      <td>0.26</td>\n",
       "      <td>3.67</td>\n",
       "      <td>1.09</td>\n",
       "      <td>29.58</td>\n",
       "      <td>2.58</td>\n",
       "      <td>70.42</td>\n",
       "      <td>0.1</td>\n",
       "      <td>3.67</td>\n",
       "      <td>52.35</td>\n",
       "      <td>0.47</td>\n",
       "      <td>1.71</td>\n",
       "      <td>0.72</td>\n",
       "      <td>13.79</td>\n",
       "      <td>1.12</td>\n",
       "      <td>1.19</td>\n",
       "      <td>11.02</td>\n",
       "      <td>3.36</td>\n",
       "      <td>47</td>\n",
       "      <td>100</td>\n",
       "      <td>38</td>\n",
       "      <td>63</td>\n",
       "      <td>47</td>\n",
       "      <td>28</td>\n",
       "      <td>18</td>\n",
       "      <td>40</td>\n",
       "      <td>29</td>\n",
       "      <td>32</td>\n",
       "      <td>19</td>\n",
       "      <td>6</td>\n",
       "      <td>31</td>\n",
       "      <td>26</td>\n",
       "      <td>20</td>\n",
       "      <td>211515.0</td>\n",
       "      <td>Yes</td>\n",
       "      <td>13.5</td>\n",
       "      <td>1.725146</td>\n",
       "    </tr>\n",
       "  </tbody>\n",
       "</table>\n",
       "</div>"
      ],
      "text/plain": [
       "       id                 name      position  age  height weight inf    club  \\\n",
       "1  211515  Baptiste Santamaria  DM, M/AM (C)   28  183 cm  81 kg   -  Rennes   \n",
       "\n",
       "            division nationality home_grown personality media_handling  \\\n",
       "1  Ligue 1 Uber Eats         FRA          -    Resolute   Level-headed   \n",
       "\n",
       "          wage transfer_value asking_price preferred_foot  starts  \\\n",
       "1  $16,000 p/w  $10M - $12.5M            -          Right      20   \n",
       "\n",
       "   minutes_played  average_rating  sub_appearances  minutes/game  index  \\\n",
       "1            1741            6.87                1          82.9      1   \n",
       "\n",
       "   passes_attempted/90  passes_completed/90  pass_completion_%  \\\n",
       "1                73.56                66.07                 90   \n",
       "\n",
       "   progressive_passes/90  progressive_pass_rate  key_passes/90  key_pass_%  \\\n",
       "1                   8.27                  11.24           1.03        1.41   \n",
       "\n",
       "   open_play_key_passes/90  open_play_key_pass_%  chances_created/90  \\\n",
       "1                     0.98                  1.34                0.07   \n",
       "\n",
       "   clear_cut_chances_created/90  pressures_attempted/90  \\\n",
       "1                          0.05                   12.25   \n",
       "\n",
       "   pressures_completed/90  pressure_success_%  possession_won/90  \\\n",
       "1                    3.31                27.0               8.22   \n",
       "\n",
       "   possession_lost/90  poss+_/90  poss+__%  tackles_attempted/90  \\\n",
       "1                9.15      -0.93    -10.16                  4.03   \n",
       "\n",
       "   tackles_completed/90  tackle_completion_%  tackles_failed/90  \\\n",
       "1                  2.95                   73               1.09   \n",
       "\n",
       "   key_tackles/90  tackle_quality  interceptions/90  blocks/90  \\\n",
       "1             0.0            2.36              1.71       0.47   \n",
       "\n",
       "   shots_blocked/90  headers_attempted/90  headers_won/90  headers_won_%  \\\n",
       "1              0.26                  3.67            1.09          29.58   \n",
       "\n",
       "   headers_lost/90  headers_lost_%  key_headers/90  \\\n",
       "1             2.58           70.42             0.1   \n",
       "\n",
       "   aerial_challenges_attempted/90  duels_win_%  fouls_won/90  \\\n",
       "1                            3.67        52.35          0.47   \n",
       "\n",
       "   fouls_committed/90  clearances/90  distance_covered/90  \\\n",
       "1                1.71           0.72                13.79   \n",
       "\n",
       "   attacking_actions/90  creative_actions/90  defensive_actions/90  \\\n",
       "1                  1.12                 1.19                 11.02   \n",
       "\n",
       "   excitement_factor/90  general_performance  goalkeeping  defensive_defender  \\\n",
       "1                  3.36                   47          100                  38   \n",
       "\n",
       "   creative_defender  attacking_defender  creative_midfielder  \\\n",
       "1                 63                  47                   28   \n",
       "\n",
       "   attacking_midfielder  creative_winger  attacking_winger  creative_forward  \\\n",
       "1                    18               40                29                32   \n",
       "\n",
       "   attacking_forward  finisher  aerial_threat  reader  assister       uid  \\\n",
       "1                 19         6             31      26        20  211515.0   \n",
       "\n",
       "  natural_dm  price_estimate_M  tackles_comp-fouls/90  \n",
       "1        Yes              13.5               1.725146  "
      ]
     },
     "execution_count": 156,
     "metadata": {},
     "output_type": "execute_result"
    }
   ],
   "source": [
    "df_players.head(1)"
   ]
  },
  {
   "cell_type": "code",
   "execution_count": 157,
   "id": "ef5ba0ed",
   "metadata": {},
   "outputs": [
    {
     "data": {
      "application/vnd.plotly.v1+json": {
       "config": {
        "plotlyServerURL": "https://plot.ly"
       },
       "data": [
        {
         "customdata": [
          [
           "Leonel Picco",
           "Platense"
          ],
          [
           "Carlos Villalba",
           "Platense"
          ],
          [
           "Santiago Sosa",
           "Racing Club"
          ],
          [
           "Nicolás Garayalde",
           "Vélez"
          ],
          [
           "Franco Ibarra",
           "Rosario Central"
          ],
          [
           "Francisco Perruzzi",
           "San Lorenzo"
          ],
          [
           "Santiago Longo",
           "Belgrano"
          ],
          [
           "Amadou Haïdara",
           "RB Leipzig"
          ],
          [
           "Thiago Maia",
           "FLA"
          ],
          [
           "Matheus Henrique",
           "FLA"
          ],
          [
           "Pedro Augusto",
           "FOR"
          ],
          [
           "Hugo Moura",
           "Athlético Paranaense"
          ],
          [
           "Luan",
           "SPO"
          ],
          [
           "Zé Gabriel",
           "Vasco da Gama"
          ],
          [
           "Jhonny Lucas",
           "GOI"
          ],
          [
           "André",
           "FLU"
          ],
          [
           "Pablo Maia",
           "SPO"
          ],
          [
           "Bruno Gomes",
           "CTB"
          ],
          [
           "Martinelli",
           "FLU"
          ],
          [
           "David Kasumu",
           "Huddersfield"
          ],
          [
           "Tommaso Pobega",
           "Milan"
          ],
          [
           "Michel Ndary Adopo",
           "Atalanta"
          ],
          [
           "Salis Abdul Samed",
           "Lens"
          ],
          [
           "Mirko Topić",
           "Famalicão"
          ],
          [
           "Keidi Bare",
           "Coventry"
          ],
          [
           "Fran Beltrán",
           "Celta"
          ],
          [
           "Jesús Castillo",
           "Gil Vicente"
          ],
          [
           "Nicolás Acevedo",
           "BAH"
          ],
          [
           "Samú",
           "Mallorca"
          ],
          [
           "Gonçalo Franco",
           "Moreirense"
          ],
          [
           "Leandro Barreiro",
           "Mainz 05"
          ],
          [
           "William Clem",
           "FC København"
          ],
          [
           "Benjamín Schamine",
           "Defensa y Justicia"
          ],
          [
           "Kevin Ortiz",
           "Rosario Central"
          ]
         ],
         "hovertemplate": "<b>%{customdata[0]}</b><br><b>%{customdata[1]}</b><br><br>distance_covered/90: %{x}<br>defensive_actions/90: %{y}<br>creative_actions/90: %{marker.color}<extra></extra>",
         "legendgroup": "",
         "marker": {
          "color": {
           "bdata": "zczMzMzM+D9xPQrXo3D5P3E9CtejcAFAKVyPwvUo9D+amZmZmZn5P0jhehSuR/0/UrgehetR8D9SuB6F61ECQI/C9Shcj/o/MzMzMzMzAUAfhetRuB7xPzMzMzMzM/s/ZmZmZmZm+j/NzMzMzMz0P1K4HoXrUfQ/9ihcj8L1/D9xPQrXo3DxP0jhehSuR/0/AAAAAAAAAEDNzMzMzMz0PwrXo3A9CvM/mpmZmZmZ8T/sUbgehev1PwrXo3A9CgFAw/UoXI/C9T+4HoXrUbj2PxSuR+F6FP4/UrgehetR9D/2KFyPwvXgPwrXo3A9Cvc/FK5H4XoU5j/NzMzMzMz8PxSuR+F6FPo/16NwPQrX8z8=",
           "dtype": "f8"
          },
          "coloraxis": "coloraxis",
          "size": 10,
          "symbol": "circle"
         },
         "mode": "markers+text",
         "name": "",
         "orientation": "v",
         "showlegend": false,
         "text": [
          "Leonel Picco",
          "Carlos Villalba",
          "Santiago Sosa",
          "Nicolás Garayalde",
          "Franco Ibarra",
          "Francisco Perruzzi",
          "Santiago Longo",
          "Amadou Haïdara",
          "Thiago Maia",
          "Matheus Henrique",
          "Pedro Augusto",
          "Hugo Moura",
          "Luan",
          "Zé Gabriel",
          "Jhonny Lucas",
          "André",
          "Pablo Maia",
          "Bruno Gomes",
          "Martinelli",
          "David Kasumu",
          "Tommaso Pobega",
          "Michel Ndary Adopo",
          "Salis Abdul Samed",
          "Mirko Topić",
          "Keidi Bare",
          "Fran Beltrán",
          "Jesús Castillo",
          "Nicolás Acevedo",
          "Samú",
          "Gonçalo Franco",
          "Leandro Barreiro",
          "William Clem",
          "Benjamín Schamine",
          "Kevin Ortiz"
         ],
         "textfont": {
          "size": 10
         },
         "textposition": "top center",
         "type": "scatter",
         "x": {
          "bdata": "hetRuB6FKkD2KFyPwvUpQLgehetROChAAAAAAACAKkBSuB6F69EqQIXrUbgehSpAhetRuB4FKUDNzMzMzMwrQI/C9ShcjypAw/UoXI/CK0Bcj8L1KNwqQLgehetRuClAmpmZmZkZK0AAAAAAAIAqQClcj8L1qClA16NwPQpXKkApXI/C9SgrQM3MzMzMzClArkfhehQuK0AzMzMzM7MqQJqZmZmZmSpA9ihcj8J1K0AAAAAAAIArQArXo3A9iitAXI/C9SjcKkCkcD0K16MrQBSuR+F6lCpAhetRuB4FKkCPwvUoXI8qQHE9CtejcCpAexSuR+F6K0BmZmZmZmYpQBSuR+F6lCpAKVyPwvUoKkA=",
          "dtype": "f8"
         },
         "xaxis": "x",
         "y": {
          "bdata": "FK5H4XoUL0CamZmZmZkmQMP1KFyPQixArkfhehQuK0BxPQrXo/AsQPYoXI/C9SVAexSuR+F6KkAUrkfhepQmQEjhehSuRylAH4XrUbgeJUBSuB6F65EwQM3MzMzMzChASOF6FK5HJ0DsUbgehesrQJqZmZmZGSZA7FG4HoVrJUDXo3A9ClclQArXo3A9iilAmpmZmZmZKEAAAAAAAAApQI/C9ShcjyRAhetRuB4FJkBcj8L1KNwuQB+F61G4njFA9ihcj8J1KkBmZmZmZuYjQJqZmZmZmTFAuB6F61E4JEDXo3A9ClctQJqZmZmZGSpAPQrXo3C9J0BI4XoUrscoQFK4HoXr0S1AAAAAAAAAJUA=",
          "dtype": "f8"
         },
         "yaxis": "y"
        }
       ],
       "layout": {
        "coloraxis": {
         "colorbar": {
          "title": {
           "text": "creative_actions/90"
          }
         },
         "colorscale": [
          [
           0,
           "rgb(165,0,38)"
          ],
          [
           0.1,
           "rgb(215,48,39)"
          ],
          [
           0.2,
           "rgb(244,109,67)"
          ],
          [
           0.3,
           "rgb(253,174,97)"
          ],
          [
           0.4,
           "rgb(254,224,139)"
          ],
          [
           0.5,
           "rgb(255,255,191)"
          ],
          [
           0.6,
           "rgb(217,239,139)"
          ],
          [
           0.7,
           "rgb(166,217,106)"
          ],
          [
           0.8,
           "rgb(102,189,99)"
          ],
          [
           0.9,
           "rgb(26,152,80)"
          ],
          [
           1,
           "rgb(0,104,55)"
          ]
         ],
         "showscale": false
        },
        "height": 700,
        "legend": {
         "tracegroupgap": 0
        },
        "paper_bgcolor": "darkgray",
        "plot_bgcolor": "darkgray",
        "template": {
         "data": {
          "bar": [
           {
            "error_x": {
             "color": "#2a3f5f"
            },
            "error_y": {
             "color": "#2a3f5f"
            },
            "marker": {
             "line": {
              "color": "#E5ECF6",
              "width": 0.5
             },
             "pattern": {
              "fillmode": "overlay",
              "size": 10,
              "solidity": 0.2
             }
            },
            "type": "bar"
           }
          ],
          "barpolar": [
           {
            "marker": {
             "line": {
              "color": "#E5ECF6",
              "width": 0.5
             },
             "pattern": {
              "fillmode": "overlay",
              "size": 10,
              "solidity": 0.2
             }
            },
            "type": "barpolar"
           }
          ],
          "carpet": [
           {
            "aaxis": {
             "endlinecolor": "#2a3f5f",
             "gridcolor": "white",
             "linecolor": "white",
             "minorgridcolor": "white",
             "startlinecolor": "#2a3f5f"
            },
            "baxis": {
             "endlinecolor": "#2a3f5f",
             "gridcolor": "white",
             "linecolor": "white",
             "minorgridcolor": "white",
             "startlinecolor": "#2a3f5f"
            },
            "type": "carpet"
           }
          ],
          "choropleth": [
           {
            "colorbar": {
             "outlinewidth": 0,
             "ticks": ""
            },
            "type": "choropleth"
           }
          ],
          "contour": [
           {
            "colorbar": {
             "outlinewidth": 0,
             "ticks": ""
            },
            "colorscale": [
             [
              0,
              "#0d0887"
             ],
             [
              0.1111111111111111,
              "#46039f"
             ],
             [
              0.2222222222222222,
              "#7201a8"
             ],
             [
              0.3333333333333333,
              "#9c179e"
             ],
             [
              0.4444444444444444,
              "#bd3786"
             ],
             [
              0.5555555555555556,
              "#d8576b"
             ],
             [
              0.6666666666666666,
              "#ed7953"
             ],
             [
              0.7777777777777778,
              "#fb9f3a"
             ],
             [
              0.8888888888888888,
              "#fdca26"
             ],
             [
              1,
              "#f0f921"
             ]
            ],
            "type": "contour"
           }
          ],
          "contourcarpet": [
           {
            "colorbar": {
             "outlinewidth": 0,
             "ticks": ""
            },
            "type": "contourcarpet"
           }
          ],
          "heatmap": [
           {
            "colorbar": {
             "outlinewidth": 0,
             "ticks": ""
            },
            "colorscale": [
             [
              0,
              "#0d0887"
             ],
             [
              0.1111111111111111,
              "#46039f"
             ],
             [
              0.2222222222222222,
              "#7201a8"
             ],
             [
              0.3333333333333333,
              "#9c179e"
             ],
             [
              0.4444444444444444,
              "#bd3786"
             ],
             [
              0.5555555555555556,
              "#d8576b"
             ],
             [
              0.6666666666666666,
              "#ed7953"
             ],
             [
              0.7777777777777778,
              "#fb9f3a"
             ],
             [
              0.8888888888888888,
              "#fdca26"
             ],
             [
              1,
              "#f0f921"
             ]
            ],
            "type": "heatmap"
           }
          ],
          "histogram": [
           {
            "marker": {
             "pattern": {
              "fillmode": "overlay",
              "size": 10,
              "solidity": 0.2
             }
            },
            "type": "histogram"
           }
          ],
          "histogram2d": [
           {
            "colorbar": {
             "outlinewidth": 0,
             "ticks": ""
            },
            "colorscale": [
             [
              0,
              "#0d0887"
             ],
             [
              0.1111111111111111,
              "#46039f"
             ],
             [
              0.2222222222222222,
              "#7201a8"
             ],
             [
              0.3333333333333333,
              "#9c179e"
             ],
             [
              0.4444444444444444,
              "#bd3786"
             ],
             [
              0.5555555555555556,
              "#d8576b"
             ],
             [
              0.6666666666666666,
              "#ed7953"
             ],
             [
              0.7777777777777778,
              "#fb9f3a"
             ],
             [
              0.8888888888888888,
              "#fdca26"
             ],
             [
              1,
              "#f0f921"
             ]
            ],
            "type": "histogram2d"
           }
          ],
          "histogram2dcontour": [
           {
            "colorbar": {
             "outlinewidth": 0,
             "ticks": ""
            },
            "colorscale": [
             [
              0,
              "#0d0887"
             ],
             [
              0.1111111111111111,
              "#46039f"
             ],
             [
              0.2222222222222222,
              "#7201a8"
             ],
             [
              0.3333333333333333,
              "#9c179e"
             ],
             [
              0.4444444444444444,
              "#bd3786"
             ],
             [
              0.5555555555555556,
              "#d8576b"
             ],
             [
              0.6666666666666666,
              "#ed7953"
             ],
             [
              0.7777777777777778,
              "#fb9f3a"
             ],
             [
              0.8888888888888888,
              "#fdca26"
             ],
             [
              1,
              "#f0f921"
             ]
            ],
            "type": "histogram2dcontour"
           }
          ],
          "mesh3d": [
           {
            "colorbar": {
             "outlinewidth": 0,
             "ticks": ""
            },
            "type": "mesh3d"
           }
          ],
          "parcoords": [
           {
            "line": {
             "colorbar": {
              "outlinewidth": 0,
              "ticks": ""
             }
            },
            "type": "parcoords"
           }
          ],
          "pie": [
           {
            "automargin": true,
            "type": "pie"
           }
          ],
          "scatter": [
           {
            "fillpattern": {
             "fillmode": "overlay",
             "size": 10,
             "solidity": 0.2
            },
            "type": "scatter"
           }
          ],
          "scatter3d": [
           {
            "line": {
             "colorbar": {
              "outlinewidth": 0,
              "ticks": ""
             }
            },
            "marker": {
             "colorbar": {
              "outlinewidth": 0,
              "ticks": ""
             }
            },
            "type": "scatter3d"
           }
          ],
          "scattercarpet": [
           {
            "marker": {
             "colorbar": {
              "outlinewidth": 0,
              "ticks": ""
             }
            },
            "type": "scattercarpet"
           }
          ],
          "scattergeo": [
           {
            "marker": {
             "colorbar": {
              "outlinewidth": 0,
              "ticks": ""
             }
            },
            "type": "scattergeo"
           }
          ],
          "scattergl": [
           {
            "marker": {
             "colorbar": {
              "outlinewidth": 0,
              "ticks": ""
             }
            },
            "type": "scattergl"
           }
          ],
          "scattermap": [
           {
            "marker": {
             "colorbar": {
              "outlinewidth": 0,
              "ticks": ""
             }
            },
            "type": "scattermap"
           }
          ],
          "scattermapbox": [
           {
            "marker": {
             "colorbar": {
              "outlinewidth": 0,
              "ticks": ""
             }
            },
            "type": "scattermapbox"
           }
          ],
          "scatterpolar": [
           {
            "marker": {
             "colorbar": {
              "outlinewidth": 0,
              "ticks": ""
             }
            },
            "type": "scatterpolar"
           }
          ],
          "scatterpolargl": [
           {
            "marker": {
             "colorbar": {
              "outlinewidth": 0,
              "ticks": ""
             }
            },
            "type": "scatterpolargl"
           }
          ],
          "scatterternary": [
           {
            "marker": {
             "colorbar": {
              "outlinewidth": 0,
              "ticks": ""
             }
            },
            "type": "scatterternary"
           }
          ],
          "surface": [
           {
            "colorbar": {
             "outlinewidth": 0,
             "ticks": ""
            },
            "colorscale": [
             [
              0,
              "#0d0887"
             ],
             [
              0.1111111111111111,
              "#46039f"
             ],
             [
              0.2222222222222222,
              "#7201a8"
             ],
             [
              0.3333333333333333,
              "#9c179e"
             ],
             [
              0.4444444444444444,
              "#bd3786"
             ],
             [
              0.5555555555555556,
              "#d8576b"
             ],
             [
              0.6666666666666666,
              "#ed7953"
             ],
             [
              0.7777777777777778,
              "#fb9f3a"
             ],
             [
              0.8888888888888888,
              "#fdca26"
             ],
             [
              1,
              "#f0f921"
             ]
            ],
            "type": "surface"
           }
          ],
          "table": [
           {
            "cells": {
             "fill": {
              "color": "#EBF0F8"
             },
             "line": {
              "color": "white"
             }
            },
            "header": {
             "fill": {
              "color": "#C8D4E3"
             },
             "line": {
              "color": "white"
             }
            },
            "type": "table"
           }
          ]
         },
         "layout": {
          "annotationdefaults": {
           "arrowcolor": "#2a3f5f",
           "arrowhead": 0,
           "arrowwidth": 1
          },
          "autotypenumbers": "strict",
          "coloraxis": {
           "colorbar": {
            "outlinewidth": 0,
            "ticks": ""
           }
          },
          "colorscale": {
           "diverging": [
            [
             0,
             "#8e0152"
            ],
            [
             0.1,
             "#c51b7d"
            ],
            [
             0.2,
             "#de77ae"
            ],
            [
             0.3,
             "#f1b6da"
            ],
            [
             0.4,
             "#fde0ef"
            ],
            [
             0.5,
             "#f7f7f7"
            ],
            [
             0.6,
             "#e6f5d0"
            ],
            [
             0.7,
             "#b8e186"
            ],
            [
             0.8,
             "#7fbc41"
            ],
            [
             0.9,
             "#4d9221"
            ],
            [
             1,
             "#276419"
            ]
           ],
           "sequential": [
            [
             0,
             "#0d0887"
            ],
            [
             0.1111111111111111,
             "#46039f"
            ],
            [
             0.2222222222222222,
             "#7201a8"
            ],
            [
             0.3333333333333333,
             "#9c179e"
            ],
            [
             0.4444444444444444,
             "#bd3786"
            ],
            [
             0.5555555555555556,
             "#d8576b"
            ],
            [
             0.6666666666666666,
             "#ed7953"
            ],
            [
             0.7777777777777778,
             "#fb9f3a"
            ],
            [
             0.8888888888888888,
             "#fdca26"
            ],
            [
             1,
             "#f0f921"
            ]
           ],
           "sequentialminus": [
            [
             0,
             "#0d0887"
            ],
            [
             0.1111111111111111,
             "#46039f"
            ],
            [
             0.2222222222222222,
             "#7201a8"
            ],
            [
             0.3333333333333333,
             "#9c179e"
            ],
            [
             0.4444444444444444,
             "#bd3786"
            ],
            [
             0.5555555555555556,
             "#d8576b"
            ],
            [
             0.6666666666666666,
             "#ed7953"
            ],
            [
             0.7777777777777778,
             "#fb9f3a"
            ],
            [
             0.8888888888888888,
             "#fdca26"
            ],
            [
             1,
             "#f0f921"
            ]
           ]
          },
          "colorway": [
           "#636efa",
           "#EF553B",
           "#00cc96",
           "#ab63fa",
           "#FFA15A",
           "#19d3f3",
           "#FF6692",
           "#B6E880",
           "#FF97FF",
           "#FECB52"
          ],
          "font": {
           "color": "#2a3f5f"
          },
          "geo": {
           "bgcolor": "white",
           "lakecolor": "white",
           "landcolor": "#E5ECF6",
           "showlakes": true,
           "showland": true,
           "subunitcolor": "white"
          },
          "hoverlabel": {
           "align": "left"
          },
          "hovermode": "closest",
          "mapbox": {
           "style": "light"
          },
          "paper_bgcolor": "white",
          "plot_bgcolor": "#E5ECF6",
          "polar": {
           "angularaxis": {
            "gridcolor": "white",
            "linecolor": "white",
            "ticks": ""
           },
           "bgcolor": "#E5ECF6",
           "radialaxis": {
            "gridcolor": "white",
            "linecolor": "white",
            "ticks": ""
           }
          },
          "scene": {
           "xaxis": {
            "backgroundcolor": "#E5ECF6",
            "gridcolor": "white",
            "gridwidth": 2,
            "linecolor": "white",
            "showbackground": true,
            "ticks": "",
            "zerolinecolor": "white"
           },
           "yaxis": {
            "backgroundcolor": "#E5ECF6",
            "gridcolor": "white",
            "gridwidth": 2,
            "linecolor": "white",
            "showbackground": true,
            "ticks": "",
            "zerolinecolor": "white"
           },
           "zaxis": {
            "backgroundcolor": "#E5ECF6",
            "gridcolor": "white",
            "gridwidth": 2,
            "linecolor": "white",
            "showbackground": true,
            "ticks": "",
            "zerolinecolor": "white"
           }
          },
          "shapedefaults": {
           "line": {
            "color": "#2a3f5f"
           }
          },
          "ternary": {
           "aaxis": {
            "gridcolor": "white",
            "linecolor": "white",
            "ticks": ""
           },
           "baxis": {
            "gridcolor": "white",
            "linecolor": "white",
            "ticks": ""
           },
           "bgcolor": "#E5ECF6",
           "caxis": {
            "gridcolor": "white",
            "linecolor": "white",
            "ticks": ""
           }
          },
          "title": {
           "x": 0.05
          },
          "xaxis": {
           "automargin": true,
           "gridcolor": "white",
           "linecolor": "white",
           "ticks": "",
           "title": {
            "standoff": 15
           },
           "zerolinecolor": "white",
           "zerolinewidth": 2
          },
          "yaxis": {
           "automargin": true,
           "gridcolor": "white",
           "linecolor": "white",
           "ticks": "",
           "title": {
            "standoff": 15
           },
           "zerolinecolor": "white",
           "zerolinewidth": 2
          }
         }
        },
        "title": {
         "text": "Distance ( 34)",
         "x": 0.5,
         "xanchor": "center"
        },
        "width": 1200,
        "xaxis": {
         "anchor": "y",
         "domain": [
          0,
          1
         ],
         "gridcolor": "white",
         "showgrid": true,
         "title": {
          "text": "distance_covered/90"
         },
         "zeroline": false
        },
        "yaxis": {
         "anchor": "x",
         "domain": [
          0,
          1
         ],
         "gridcolor": "white",
         "showgrid": true,
         "title": {
          "text": "defensive_actions/90"
         },
         "zeroline": false
        }
       }
      }
     },
     "metadata": {},
     "output_type": "display_data"
    }
   ],
   "source": [
    "# Full universe \n",
    "scatter_plot(df_targets,\n",
    "             x_metric='distance_covered/90', \n",
    "             y_metric='defensive_actions/90',\n",
    "             z_metric='creative_actions/90',\n",
    "             title='Distance', \n",
    "             show_name_label=True\n",
    ") "
   ]
  },
  {
   "cell_type": "code",
   "execution_count": 160,
   "id": "c367b34a",
   "metadata": {},
   "outputs": [
    {
     "data": {
      "text/plain": [
       "division\n",
       "3F Superliga                            1\n",
       "Bundesliga                              3\n",
       "Campeonato Brasileiro Série A Assaí    14\n",
       "Eredivisie                              2\n",
       "LaLiga EA Sports                        3\n",
       "Liga Portugal Betclic                   3\n",
       "Liga Profesional de Fútbol             14\n",
       "Ligue 1 Uber Eats                       2\n",
       "Premier League                          1\n",
       "Serie A TIM                             2\n",
       "Sky Bet Championship                    3\n",
       "Name: id, dtype: int64"
      ]
     },
     "execution_count": 160,
     "metadata": {},
     "output_type": "execute_result"
    }
   ],
   "source": [
    "df_targets.groupby('division')['id'].count()"
   ]
  },
  {
   "cell_type": "code",
   "execution_count": 170,
   "id": "baaaccaa",
   "metadata": {},
   "outputs": [
    {
     "data": {
      "text/html": [
       "<div>\n",
       "<style scoped>\n",
       "    .dataframe tbody tr th:only-of-type {\n",
       "        vertical-align: middle;\n",
       "    }\n",
       "\n",
       "    .dataframe tbody tr th {\n",
       "        vertical-align: top;\n",
       "    }\n",
       "\n",
       "    .dataframe thead th {\n",
       "        text-align: right;\n",
       "    }\n",
       "</style>\n",
       "<table border=\"1\" class=\"dataframe\">\n",
       "  <thead>\n",
       "    <tr style=\"text-align: right;\">\n",
       "      <th></th>\n",
       "      <th>id</th>\n",
       "      <th>name</th>\n",
       "      <th>position</th>\n",
       "      <th>age</th>\n",
       "      <th>height</th>\n",
       "      <th>weight</th>\n",
       "      <th>inf</th>\n",
       "      <th>club</th>\n",
       "      <th>division</th>\n",
       "      <th>nationality</th>\n",
       "      <th>home_grown</th>\n",
       "      <th>personality</th>\n",
       "      <th>media_handling</th>\n",
       "      <th>wage</th>\n",
       "      <th>transfer_value</th>\n",
       "      <th>asking_price</th>\n",
       "      <th>preferred_foot</th>\n",
       "      <th>starts</th>\n",
       "      <th>minutes_played</th>\n",
       "      <th>average_rating</th>\n",
       "      <th>sub_appearances</th>\n",
       "      <th>minutes/game</th>\n",
       "      <th>index</th>\n",
       "      <th>passes_attempted/90</th>\n",
       "      <th>passes_completed/90</th>\n",
       "      <th>pass_completion_%</th>\n",
       "      <th>progressive_passes/90</th>\n",
       "      <th>progressive_pass_rate</th>\n",
       "      <th>key_passes/90</th>\n",
       "      <th>key_pass_%</th>\n",
       "      <th>open_play_key_passes/90</th>\n",
       "      <th>open_play_key_pass_%</th>\n",
       "      <th>chances_created/90</th>\n",
       "      <th>clear_cut_chances_created/90</th>\n",
       "      <th>pressures_attempted/90</th>\n",
       "      <th>pressures_completed/90</th>\n",
       "      <th>pressure_success_%</th>\n",
       "      <th>possession_won/90</th>\n",
       "      <th>possession_lost/90</th>\n",
       "      <th>poss+_/90</th>\n",
       "      <th>poss+__%</th>\n",
       "      <th>tackles_attempted/90</th>\n",
       "      <th>tackles_completed/90</th>\n",
       "      <th>tackle_completion_%</th>\n",
       "      <th>tackles_failed/90</th>\n",
       "      <th>key_tackles/90</th>\n",
       "      <th>tackle_quality</th>\n",
       "      <th>interceptions/90</th>\n",
       "      <th>blocks/90</th>\n",
       "      <th>shots_blocked/90</th>\n",
       "      <th>headers_attempted/90</th>\n",
       "      <th>headers_won/90</th>\n",
       "      <th>headers_won_%</th>\n",
       "      <th>headers_lost/90</th>\n",
       "      <th>headers_lost_%</th>\n",
       "      <th>key_headers/90</th>\n",
       "      <th>aerial_challenges_attempted/90</th>\n",
       "      <th>duels_win_%</th>\n",
       "      <th>fouls_won/90</th>\n",
       "      <th>fouls_committed/90</th>\n",
       "      <th>clearances/90</th>\n",
       "      <th>distance_covered/90</th>\n",
       "      <th>attacking_actions/90</th>\n",
       "      <th>creative_actions/90</th>\n",
       "      <th>defensive_actions/90</th>\n",
       "      <th>excitement_factor/90</th>\n",
       "      <th>general_performance</th>\n",
       "      <th>goalkeeping</th>\n",
       "      <th>defensive_defender</th>\n",
       "      <th>creative_defender</th>\n",
       "      <th>attacking_defender</th>\n",
       "      <th>creative_midfielder</th>\n",
       "      <th>attacking_midfielder</th>\n",
       "      <th>creative_winger</th>\n",
       "      <th>attacking_winger</th>\n",
       "      <th>creative_forward</th>\n",
       "      <th>attacking_forward</th>\n",
       "      <th>finisher</th>\n",
       "      <th>aerial_threat</th>\n",
       "      <th>reader</th>\n",
       "      <th>assister</th>\n",
       "      <th>uid</th>\n",
       "      <th>natural_dm</th>\n",
       "      <th>price_estimate_M</th>\n",
       "      <th>tackles_comp-fouls/90</th>\n",
       "    </tr>\n",
       "  </thead>\n",
       "  <tbody>\n",
       "    <tr>\n",
       "      <th>258</th>\n",
       "      <td>29156436</td>\n",
       "      <td>Flynn Downes</td>\n",
       "      <td>DM, M (C)</td>\n",
       "      <td>24</td>\n",
       "      <td>182 cm</td>\n",
       "      <td>79 kg</td>\n",
       "      <td>-</td>\n",
       "      <td>Southampton</td>\n",
       "      <td>Sky Bet Championship</td>\n",
       "      <td>ENG</td>\n",
       "      <td>Trained in nation (15-21)</td>\n",
       "      <td>-</td>\n",
       "      <td>Scouting Required</td>\n",
       "      <td>$37,500 p/w</td>\n",
       "      <td>$9.4M - $15M</td>\n",
       "      <td>-</td>\n",
       "      <td>Right Only</td>\n",
       "      <td>24</td>\n",
       "      <td>2080</td>\n",
       "      <td>6.93</td>\n",
       "      <td>0</td>\n",
       "      <td>86.67</td>\n",
       "      <td>258</td>\n",
       "      <td>62.18</td>\n",
       "      <td>56.25</td>\n",
       "      <td>90</td>\n",
       "      <td>7.70</td>\n",
       "      <td>12.39</td>\n",
       "      <td>0.82</td>\n",
       "      <td>1.32</td>\n",
       "      <td>0.82</td>\n",
       "      <td>1.32</td>\n",
       "      <td>0.27</td>\n",
       "      <td>0.26</td>\n",
       "      <td>8.39</td>\n",
       "      <td>2.64</td>\n",
       "      <td>31.44</td>\n",
       "      <td>8.70</td>\n",
       "      <td>6.97</td>\n",
       "      <td>1.73</td>\n",
       "      <td>24.82</td>\n",
       "      <td>3.63</td>\n",
       "      <td>2.86</td>\n",
       "      <td>79</td>\n",
       "      <td>0.78</td>\n",
       "      <td>0.04</td>\n",
       "      <td>1.83</td>\n",
       "      <td>1.43</td>\n",
       "      <td>0.26</td>\n",
       "      <td>0.13</td>\n",
       "      <td>2.51</td>\n",
       "      <td>1.43</td>\n",
       "      <td>56.90</td>\n",
       "      <td>1.08</td>\n",
       "      <td>43.10</td>\n",
       "      <td>0.22</td>\n",
       "      <td>2.51</td>\n",
       "      <td>69.72</td>\n",
       "      <td>0.82</td>\n",
       "      <td>1.99</td>\n",
       "      <td>0.61</td>\n",
       "      <td>13.33</td>\n",
       "      <td>1.35</td>\n",
       "      <td>1.30</td>\n",
       "      <td>11.01</td>\n",
       "      <td>2.42</td>\n",
       "      <td>78</td>\n",
       "      <td>100</td>\n",
       "      <td>28</td>\n",
       "      <td>65</td>\n",
       "      <td>69</td>\n",
       "      <td>40</td>\n",
       "      <td>58</td>\n",
       "      <td>41</td>\n",
       "      <td>52</td>\n",
       "      <td>33</td>\n",
       "      <td>49</td>\n",
       "      <td>17</td>\n",
       "      <td>39</td>\n",
       "      <td>23</td>\n",
       "      <td>81</td>\n",
       "      <td>29156436.0</td>\n",
       "      <td>Yes</td>\n",
       "      <td>14.640</td>\n",
       "      <td>1.437186</td>\n",
       "    </tr>\n",
       "    <tr>\n",
       "      <th>263</th>\n",
       "      <td>29170352</td>\n",
       "      <td>David Kasumu</td>\n",
       "      <td>D/WB (R), DM, M (C)</td>\n",
       "      <td>24</td>\n",
       "      <td>174 cm</td>\n",
       "      <td>60 kg</td>\n",
       "      <td>-</td>\n",
       "      <td>Huddersfield</td>\n",
       "      <td>Sky Bet Championship</td>\n",
       "      <td>NGA (ENG)</td>\n",
       "      <td>Trained in nation (15-21)</td>\n",
       "      <td>-</td>\n",
       "      <td>Scouting Required</td>\n",
       "      <td>$7,500 p/w</td>\n",
       "      <td>$300K - $3.1M</td>\n",
       "      <td>-</td>\n",
       "      <td>Right</td>\n",
       "      <td>21</td>\n",
       "      <td>1802</td>\n",
       "      <td>6.79</td>\n",
       "      <td>0</td>\n",
       "      <td>85.81</td>\n",
       "      <td>263</td>\n",
       "      <td>45.90</td>\n",
       "      <td>40.31</td>\n",
       "      <td>88</td>\n",
       "      <td>4.30</td>\n",
       "      <td>9.36</td>\n",
       "      <td>0.95</td>\n",
       "      <td>2.07</td>\n",
       "      <td>0.95</td>\n",
       "      <td>2.07</td>\n",
       "      <td>0.26</td>\n",
       "      <td>0.25</td>\n",
       "      <td>10.19</td>\n",
       "      <td>2.75</td>\n",
       "      <td>26.96</td>\n",
       "      <td>9.94</td>\n",
       "      <td>7.44</td>\n",
       "      <td>2.50</td>\n",
       "      <td>33.60</td>\n",
       "      <td>3.70</td>\n",
       "      <td>2.60</td>\n",
       "      <td>70</td>\n",
       "      <td>1.10</td>\n",
       "      <td>0.05</td>\n",
       "      <td>1.85</td>\n",
       "      <td>1.65</td>\n",
       "      <td>0.70</td>\n",
       "      <td>0.55</td>\n",
       "      <td>3.30</td>\n",
       "      <td>0.95</td>\n",
       "      <td>28.79</td>\n",
       "      <td>2.35</td>\n",
       "      <td>71.21</td>\n",
       "      <td>0.25</td>\n",
       "      <td>3.30</td>\n",
       "      <td>50.71</td>\n",
       "      <td>0.50</td>\n",
       "      <td>2.00</td>\n",
       "      <td>1.25</td>\n",
       "      <td>13.35</td>\n",
       "      <td>1.24</td>\n",
       "      <td>1.30</td>\n",
       "      <td>12.50</td>\n",
       "      <td>2.85</td>\n",
       "      <td>43</td>\n",
       "      <td>100</td>\n",
       "      <td>42</td>\n",
       "      <td>21</td>\n",
       "      <td>29</td>\n",
       "      <td>22</td>\n",
       "      <td>14</td>\n",
       "      <td>23</td>\n",
       "      <td>28</td>\n",
       "      <td>43</td>\n",
       "      <td>22</td>\n",
       "      <td>41</td>\n",
       "      <td>40</td>\n",
       "      <td>51</td>\n",
       "      <td>59</td>\n",
       "      <td>29170352.0</td>\n",
       "      <td>Yes</td>\n",
       "      <td>2.040</td>\n",
       "      <td>1.300000</td>\n",
       "    </tr>\n",
       "    <tr>\n",
       "      <th>435</th>\n",
       "      <td>67228750</td>\n",
       "      <td>Keidi Bare</td>\n",
       "      <td>DM, M (C)</td>\n",
       "      <td>26</td>\n",
       "      <td>174 cm</td>\n",
       "      <td>66 kg</td>\n",
       "      <td>Wnt</td>\n",
       "      <td>Coventry</td>\n",
       "      <td>Sky Bet Championship</td>\n",
       "      <td>ALB</td>\n",
       "      <td>-</td>\n",
       "      <td>-</td>\n",
       "      <td>Scouting Required</td>\n",
       "      <td>$8,000 p/w</td>\n",
       "      <td>$190K - $1.9M</td>\n",
       "      <td>-</td>\n",
       "      <td>Right</td>\n",
       "      <td>18</td>\n",
       "      <td>1320</td>\n",
       "      <td>6.88</td>\n",
       "      <td>0</td>\n",
       "      <td>73.33</td>\n",
       "      <td>435</td>\n",
       "      <td>51.61</td>\n",
       "      <td>46.43</td>\n",
       "      <td>90</td>\n",
       "      <td>5.45</td>\n",
       "      <td>10.57</td>\n",
       "      <td>1.16</td>\n",
       "      <td>2.25</td>\n",
       "      <td>1.02</td>\n",
       "      <td>1.98</td>\n",
       "      <td>0.20</td>\n",
       "      <td>0.20</td>\n",
       "      <td>11.80</td>\n",
       "      <td>3.07</td>\n",
       "      <td>26.01</td>\n",
       "      <td>10.02</td>\n",
       "      <td>6.95</td>\n",
       "      <td>3.07</td>\n",
       "      <td>44.17</td>\n",
       "      <td>4.23</td>\n",
       "      <td>3.20</td>\n",
       "      <td>76</td>\n",
       "      <td>1.02</td>\n",
       "      <td>0.00</td>\n",
       "      <td>2.07</td>\n",
       "      <td>2.66</td>\n",
       "      <td>0.75</td>\n",
       "      <td>0.34</td>\n",
       "      <td>3.14</td>\n",
       "      <td>1.16</td>\n",
       "      <td>36.96</td>\n",
       "      <td>1.98</td>\n",
       "      <td>63.04</td>\n",
       "      <td>0.14</td>\n",
       "      <td>3.14</td>\n",
       "      <td>59.26</td>\n",
       "      <td>0.41</td>\n",
       "      <td>2.05</td>\n",
       "      <td>1.30</td>\n",
       "      <td>13.43</td>\n",
       "      <td>1.85</td>\n",
       "      <td>1.36</td>\n",
       "      <td>13.23</td>\n",
       "      <td>4.50</td>\n",
       "      <td>54</td>\n",
       "      <td>100</td>\n",
       "      <td>87</td>\n",
       "      <td>73</td>\n",
       "      <td>57</td>\n",
       "      <td>54</td>\n",
       "      <td>48</td>\n",
       "      <td>50</td>\n",
       "      <td>44</td>\n",
       "      <td>40</td>\n",
       "      <td>47</td>\n",
       "      <td>66</td>\n",
       "      <td>32</td>\n",
       "      <td>79</td>\n",
       "      <td>11</td>\n",
       "      <td>67228750.0</td>\n",
       "      <td>Yes</td>\n",
       "      <td>1.254</td>\n",
       "      <td>1.560976</td>\n",
       "    </tr>\n",
       "  </tbody>\n",
       "</table>\n",
       "</div>"
      ],
      "text/plain": [
       "           id          name             position  age  height weight  inf  \\\n",
       "258  29156436  Flynn Downes            DM, M (C)   24  182 cm  79 kg    -   \n",
       "263  29170352  David Kasumu  D/WB (R), DM, M (C)   24  174 cm  60 kg    -   \n",
       "435  67228750    Keidi Bare            DM, M (C)   26  174 cm  66 kg  Wnt   \n",
       "\n",
       "             club              division nationality  \\\n",
       "258   Southampton  Sky Bet Championship         ENG   \n",
       "263  Huddersfield  Sky Bet Championship   NGA (ENG)   \n",
       "435      Coventry  Sky Bet Championship         ALB   \n",
       "\n",
       "                    home_grown personality     media_handling         wage  \\\n",
       "258  Trained in nation (15-21)           -  Scouting Required  $37,500 p/w   \n",
       "263  Trained in nation (15-21)           -  Scouting Required   $7,500 p/w   \n",
       "435                          -           -  Scouting Required   $8,000 p/w   \n",
       "\n",
       "    transfer_value asking_price preferred_foot  starts  minutes_played  \\\n",
       "258   $9.4M - $15M            -     Right Only      24            2080   \n",
       "263  $300K - $3.1M            -          Right      21            1802   \n",
       "435  $190K - $1.9M            -          Right      18            1320   \n",
       "\n",
       "     average_rating  sub_appearances  minutes/game  index  \\\n",
       "258            6.93                0         86.67    258   \n",
       "263            6.79                0         85.81    263   \n",
       "435            6.88                0         73.33    435   \n",
       "\n",
       "     passes_attempted/90  passes_completed/90  pass_completion_%  \\\n",
       "258                62.18                56.25                 90   \n",
       "263                45.90                40.31                 88   \n",
       "435                51.61                46.43                 90   \n",
       "\n",
       "     progressive_passes/90  progressive_pass_rate  key_passes/90  key_pass_%  \\\n",
       "258                   7.70                  12.39           0.82        1.32   \n",
       "263                   4.30                   9.36           0.95        2.07   \n",
       "435                   5.45                  10.57           1.16        2.25   \n",
       "\n",
       "     open_play_key_passes/90  open_play_key_pass_%  chances_created/90  \\\n",
       "258                     0.82                  1.32                0.27   \n",
       "263                     0.95                  2.07                0.26   \n",
       "435                     1.02                  1.98                0.20   \n",
       "\n",
       "     clear_cut_chances_created/90  pressures_attempted/90  \\\n",
       "258                          0.26                    8.39   \n",
       "263                          0.25                   10.19   \n",
       "435                          0.20                   11.80   \n",
       "\n",
       "     pressures_completed/90  pressure_success_%  possession_won/90  \\\n",
       "258                    2.64               31.44               8.70   \n",
       "263                    2.75               26.96               9.94   \n",
       "435                    3.07               26.01              10.02   \n",
       "\n",
       "     possession_lost/90  poss+_/90  poss+__%  tackles_attempted/90  \\\n",
       "258                6.97       1.73     24.82                  3.63   \n",
       "263                7.44       2.50     33.60                  3.70   \n",
       "435                6.95       3.07     44.17                  4.23   \n",
       "\n",
       "     tackles_completed/90  tackle_completion_%  tackles_failed/90  \\\n",
       "258                  2.86                   79               0.78   \n",
       "263                  2.60                   70               1.10   \n",
       "435                  3.20                   76               1.02   \n",
       "\n",
       "     key_tackles/90  tackle_quality  interceptions/90  blocks/90  \\\n",
       "258            0.04            1.83              1.43       0.26   \n",
       "263            0.05            1.85              1.65       0.70   \n",
       "435            0.00            2.07              2.66       0.75   \n",
       "\n",
       "     shots_blocked/90  headers_attempted/90  headers_won/90  headers_won_%  \\\n",
       "258              0.13                  2.51            1.43          56.90   \n",
       "263              0.55                  3.30            0.95          28.79   \n",
       "435              0.34                  3.14            1.16          36.96   \n",
       "\n",
       "     headers_lost/90  headers_lost_%  key_headers/90  \\\n",
       "258             1.08           43.10            0.22   \n",
       "263             2.35           71.21            0.25   \n",
       "435             1.98           63.04            0.14   \n",
       "\n",
       "     aerial_challenges_attempted/90  duels_win_%  fouls_won/90  \\\n",
       "258                            2.51        69.72          0.82   \n",
       "263                            3.30        50.71          0.50   \n",
       "435                            3.14        59.26          0.41   \n",
       "\n",
       "     fouls_committed/90  clearances/90  distance_covered/90  \\\n",
       "258                1.99           0.61                13.33   \n",
       "263                2.00           1.25                13.35   \n",
       "435                2.05           1.30                13.43   \n",
       "\n",
       "     attacking_actions/90  creative_actions/90  defensive_actions/90  \\\n",
       "258                  1.35                 1.30                 11.01   \n",
       "263                  1.24                 1.30                 12.50   \n",
       "435                  1.85                 1.36                 13.23   \n",
       "\n",
       "     excitement_factor/90  general_performance  goalkeeping  \\\n",
       "258                  2.42                   78          100   \n",
       "263                  2.85                   43          100   \n",
       "435                  4.50                   54          100   \n",
       "\n",
       "     defensive_defender  creative_defender  attacking_defender  \\\n",
       "258                  28                 65                  69   \n",
       "263                  42                 21                  29   \n",
       "435                  87                 73                  57   \n",
       "\n",
       "     creative_midfielder  attacking_midfielder  creative_winger  \\\n",
       "258                   40                    58               41   \n",
       "263                   22                    14               23   \n",
       "435                   54                    48               50   \n",
       "\n",
       "     attacking_winger  creative_forward  attacking_forward  finisher  \\\n",
       "258                52                33                 49        17   \n",
       "263                28                43                 22        41   \n",
       "435                44                40                 47        66   \n",
       "\n",
       "     aerial_threat  reader  assister         uid natural_dm  price_estimate_M  \\\n",
       "258             39      23        81  29156436.0        Yes            14.640   \n",
       "263             40      51        59  29170352.0        Yes             2.040   \n",
       "435             32      79        11  67228750.0        Yes             1.254   \n",
       "\n",
       "     tackles_comp-fouls/90  \n",
       "258               1.437186  \n",
       "263               1.300000  \n",
       "435               1.560976  "
      ]
     },
     "execution_count": 170,
     "metadata": {},
     "output_type": "execute_result"
    }
   ],
   "source": [
    "df_targets.groupby('division').get_group('Sky Bet Championship').sort_values('age')"
   ]
  },
  {
   "cell_type": "code",
   "execution_count": null,
   "id": "436279ef",
   "metadata": {},
   "outputs": [],
   "source": []
  }
 ],
 "metadata": {
  "kernelspec": {
   "display_name": ".venv",
   "language": "python",
   "name": "python3"
  },
  "language_info": {
   "codemirror_mode": {
    "name": "ipython",
    "version": 3
   },
   "file_extension": ".py",
   "mimetype": "text/x-python",
   "name": "python",
   "nbconvert_exporter": "python",
   "pygments_lexer": "ipython3",
   "version": "3.12.7"
  }
 },
 "nbformat": 4,
 "nbformat_minor": 5
}
