{
 "cells": [
  {
   "cell_type": "markdown",
   "id": "b1df530d",
   "metadata": {},
   "source": [
    "# FM 24 Moneyball"
   ]
  },
  {
   "cell_type": "code",
   "execution_count": 24,
   "id": "a0d6d750",
   "metadata": {},
   "outputs": [],
   "source": [
    "import numpy as np\n",
    "import pandas as pd \n",
    "import matplotlib.pyplot as plt\n",
    "import plotly.express as px\n",
    "import re\n",
    "\n",
    "# Ignore warnings\n",
    "import warnings\n",
    "warnings.filterwarnings('ignore')\n",
    "\n",
    "# Show all columns in pandas\n",
    "pd.set_option('display.max_columns', 500) \n",
    "\n",
    "%matplotlib inline"
   ]
  },
  {
   "cell_type": "markdown",
   "id": "bd53e3cd",
   "metadata": {},
   "source": [
    "## Ingest and clean data"
   ]
  },
  {
   "cell_type": "code",
   "execution_count": 25,
   "id": "7355e71f",
   "metadata": {},
   "outputs": [],
   "source": [
    "### Read raw data\n",
    "\n",
    "# Select file path for raw data\n",
    "path = r\"C:\\Users\\kevmi\\Documents\\FM 24 Moneyball\\FM Data Lab\\Man Utd\\FM 24 exports\\Summer 2024\\Defensive Midfielders.html\"\n",
    "\n",
    "# Ingest in a dataframe\n",
    "df_players_raw = pd.read_html(path, encoding='utf-8')[0]\n",
    "\n",
    "# Format column names \n",
    "df_players_raw.columns = [x.lower().strip().replace(' ', '_').replace('-', '_') for x in df_players_raw.columns]\n",
    "\n",
    "# ---------------------------------------------------------------------------------------------------------------------\n",
    "\n",
    "### Read processed Data lab data\n",
    "\n",
    "# Select file path for processed data\n",
    "path = r\"C:\\Users\\kevmi\\Documents\\FM 24 Moneyball\\FM Data Lab\\Man Utd\\FM Data Lab outputs\\Summer 2024\\Defensive Midfielders.csv\"\n",
    "\n",
    "# Ingest in a dataframe \n",
    "df_players = pd.read_csv(path)   \n",
    "\n",
    "# Format column names \n",
    "df_players.columns = [x.lower().strip().replace(' ', '_').replace('-', '_') for x in df_players.columns]\n",
    "\n",
    "# Bring ID from raw data\n",
    "df_players = df_players.merge(df_players_raw[['name', 'age', 'height', 'weight', 'uid']], \n",
    "                 left_on=['name', 'age', 'height', 'weight'], \n",
    "                 right_on=['name', 'age', 'height', 'weight']).reset_index().rename(columns={'level_0': 'id'})\n",
    "\n",
    "df_players['id'] = df_players['uid']\n",
    "\n",
    "df_players.drop(columns='uid', inplace=True)"
   ]
  },
  {
   "cell_type": "markdown",
   "id": "a4833287",
   "metadata": {},
   "source": [
    "## Data cleaning"
   ]
  },
  {
   "cell_type": "code",
   "execution_count": 26,
   "id": "31affa79",
   "metadata": {},
   "outputs": [
    {
     "data": {
      "text/html": [
       "<div>\n",
       "<style scoped>\n",
       "    .dataframe tbody tr th:only-of-type {\n",
       "        vertical-align: middle;\n",
       "    }\n",
       "\n",
       "    .dataframe tbody tr th {\n",
       "        vertical-align: top;\n",
       "    }\n",
       "\n",
       "    .dataframe thead th {\n",
       "        text-align: right;\n",
       "    }\n",
       "</style>\n",
       "<table border=\"1\" class=\"dataframe\">\n",
       "  <thead>\n",
       "    <tr style=\"text-align: right;\">\n",
       "      <th></th>\n",
       "      <th>id</th>\n",
       "      <th>name</th>\n",
       "      <th>position</th>\n",
       "      <th>age</th>\n",
       "      <th>height</th>\n",
       "      <th>weight</th>\n",
       "      <th>inf</th>\n",
       "      <th>club</th>\n",
       "      <th>division</th>\n",
       "      <th>nationality</th>\n",
       "      <th>home_grown</th>\n",
       "      <th>personality</th>\n",
       "      <th>media_handling</th>\n",
       "      <th>wage</th>\n",
       "      <th>transfer_value</th>\n",
       "      <th>asking_price</th>\n",
       "      <th>preferred_foot</th>\n",
       "      <th>starts</th>\n",
       "      <th>minutes_played</th>\n",
       "      <th>average_rating</th>\n",
       "      <th>sub_appearances</th>\n",
       "      <th>minutes/game</th>\n",
       "      <th>index</th>\n",
       "      <th>entries</th>\n",
       "      <th>leaguemultiplier</th>\n",
       "      <th>passes_attempted/90</th>\n",
       "      <th>passes_completed/90</th>\n",
       "      <th>pass_completion_%</th>\n",
       "      <th>progressive_passes/90</th>\n",
       "      <th>progressive_pass_rate</th>\n",
       "      <th>key_passes/90</th>\n",
       "      <th>key_pass_%</th>\n",
       "      <th>open_play_key_passes/90</th>\n",
       "      <th>open_play_key_pass_%</th>\n",
       "      <th>chances_created/90</th>\n",
       "      <th>clear_cut_chances_created/90</th>\n",
       "      <th>clear_cut_chances_%</th>\n",
       "      <th>pressures_attempted/90</th>\n",
       "      <th>pressures_completed/90</th>\n",
       "      <th>pressure_success_%</th>\n",
       "      <th>possession_won/90</th>\n",
       "      <th>possession_lost/90</th>\n",
       "      <th>poss+_/90</th>\n",
       "      <th>poss+__%</th>\n",
       "      <th>tackles_attempted/90</th>\n",
       "      <th>tackles_completed/90</th>\n",
       "      <th>tackle_completion_%</th>\n",
       "      <th>tackles_failed/90</th>\n",
       "      <th>key_tackles/90</th>\n",
       "      <th>key_tackles_%</th>\n",
       "      <th>tackle_quality</th>\n",
       "      <th>interceptions/90</th>\n",
       "      <th>blocks/90</th>\n",
       "      <th>shots_blocked/90</th>\n",
       "      <th>headers_attempted/90</th>\n",
       "      <th>headers_won/90</th>\n",
       "      <th>headers_won_%</th>\n",
       "      <th>headers_lost/90</th>\n",
       "      <th>headers_lost_%</th>\n",
       "      <th>key_headers/90</th>\n",
       "      <th>key_headers_%</th>\n",
       "      <th>aerial_challenges_attempted/90</th>\n",
       "      <th>duels_win_%</th>\n",
       "      <th>fouls_committed/90</th>\n",
       "      <th>clearances/90</th>\n",
       "      <th>distance_covered/90</th>\n",
       "      <th>mistakes_leading_to_goal</th>\n",
       "      <th>sprints/90</th>\n",
       "      <th>attacking_actions/90</th>\n",
       "      <th>creative_actions/90</th>\n",
       "      <th>defensive_actions/90</th>\n",
       "      <th>excitement_factor/90</th>\n",
       "      <th>general_performance</th>\n",
       "      <th>defensive_defender</th>\n",
       "      <th>creative_defender</th>\n",
       "      <th>attacking_defender</th>\n",
       "      <th>creative_midfielder</th>\n",
       "      <th>attacking_midfielder</th>\n",
       "      <th>creative_winger</th>\n",
       "      <th>attacking_winger</th>\n",
       "      <th>creative_forward</th>\n",
       "      <th>attacking_forward</th>\n",
       "      <th>finisher</th>\n",
       "      <th>aerial_threat</th>\n",
       "      <th>reader</th>\n",
       "      <th>assister</th>\n",
       "    </tr>\n",
       "  </thead>\n",
       "  <tbody>\n",
       "    <tr>\n",
       "      <th>0</th>\n",
       "      <td>27025242</td>\n",
       "      <td>Nicolai Poulsen</td>\n",
       "      <td>DM, M (C)</td>\n",
       "      <td>30</td>\n",
       "      <td>176 cm</td>\n",
       "      <td>70 kg</td>\n",
       "      <td>-</td>\n",
       "      <td>AGF</td>\n",
       "      <td>3F Superliga</td>\n",
       "      <td>DEN</td>\n",
       "      <td>-</td>\n",
       "      <td>-</td>\n",
       "      <td>Scouting Required</td>\n",
       "      <td>£4,600 p/w</td>\n",
       "      <td>£300K - £2.9M</td>\n",
       "      <td>-</td>\n",
       "      <td>Right Only</td>\n",
       "      <td>26</td>\n",
       "      <td>2318</td>\n",
       "      <td>6.87</td>\n",
       "      <td>1</td>\n",
       "      <td>85.85</td>\n",
       "      <td>0</td>\n",
       "      <td>1</td>\n",
       "      <td>False</td>\n",
       "      <td>65.58</td>\n",
       "      <td>58.20</td>\n",
       "      <td>89</td>\n",
       "      <td>6.56</td>\n",
       "      <td>10.01</td>\n",
       "      <td>1.24</td>\n",
       "      <td>1.89</td>\n",
       "      <td>1.20</td>\n",
       "      <td>1.84</td>\n",
       "      <td>0.81</td>\n",
       "      <td>0.31</td>\n",
       "      <td>38.10</td>\n",
       "      <td>11.96</td>\n",
       "      <td>3.34</td>\n",
       "      <td>27.92</td>\n",
       "      <td>8.70</td>\n",
       "      <td>9.75</td>\n",
       "      <td>-1.05</td>\n",
       "      <td>-10.77</td>\n",
       "      <td>4.04</td>\n",
       "      <td>3.11</td>\n",
       "      <td>77</td>\n",
       "      <td>0.93</td>\n",
       "      <td>0.08</td>\n",
       "      <td>2.50</td>\n",
       "      <td>2.04</td>\n",
       "      <td>1.40</td>\n",
       "      <td>0.43</td>\n",
       "      <td>0.19</td>\n",
       "      <td>3.49</td>\n",
       "      <td>1.40</td>\n",
       "      <td>40.00</td>\n",
       "      <td>2.10</td>\n",
       "      <td>60.00</td>\n",
       "      <td>0.08</td>\n",
       "      <td>5.56</td>\n",
       "      <td>3.49</td>\n",
       "      <td>59.79</td>\n",
       "      <td>1.98</td>\n",
       "      <td>1.32</td>\n",
       "      <td>13.52</td>\n",
       "      <td>0</td>\n",
       "      <td>14.64</td>\n",
       "      <td>0.99</td>\n",
       "      <td>1.67</td>\n",
       "      <td>11.87</td>\n",
       "      <td>2.87</td>\n",
       "      <td>34</td>\n",
       "      <td>66</td>\n",
       "      <td>56</td>\n",
       "      <td>33</td>\n",
       "      <td>35</td>\n",
       "      <td>21</td>\n",
       "      <td>26</td>\n",
       "      <td>29</td>\n",
       "      <td>30</td>\n",
       "      <td>29</td>\n",
       "      <td>16</td>\n",
       "      <td>35</td>\n",
       "      <td>29</td>\n",
       "      <td>44</td>\n",
       "    </tr>\n",
       "    <tr>\n",
       "      <th>1</th>\n",
       "      <td>2000100721</td>\n",
       "      <td>Julius Beck</td>\n",
       "      <td>DM, M (C)</td>\n",
       "      <td>19</td>\n",
       "      <td>178 cm</td>\n",
       "      <td>62 kg</td>\n",
       "      <td>-</td>\n",
       "      <td>AGF</td>\n",
       "      <td>3F Superliga</td>\n",
       "      <td>DEN</td>\n",
       "      <td>-</td>\n",
       "      <td>Balanced</td>\n",
       "      <td>Media-friendly</td>\n",
       "      <td>£4,700 p/w</td>\n",
       "      <td>£4M - £8M</td>\n",
       "      <td>-</td>\n",
       "      <td>Right</td>\n",
       "      <td>16</td>\n",
       "      <td>1424</td>\n",
       "      <td>6.78</td>\n",
       "      <td>3</td>\n",
       "      <td>74.95</td>\n",
       "      <td>1</td>\n",
       "      <td>1</td>\n",
       "      <td>False</td>\n",
       "      <td>56.57</td>\n",
       "      <td>50.44</td>\n",
       "      <td>89</td>\n",
       "      <td>5.12</td>\n",
       "      <td>9.05</td>\n",
       "      <td>0.88</td>\n",
       "      <td>1.56</td>\n",
       "      <td>0.88</td>\n",
       "      <td>1.56</td>\n",
       "      <td>0.20</td>\n",
       "      <td>0.19</td>\n",
       "      <td>100.00</td>\n",
       "      <td>11.00</td>\n",
       "      <td>3.48</td>\n",
       "      <td>31.61</td>\n",
       "      <td>8.53</td>\n",
       "      <td>7.46</td>\n",
       "      <td>1.07</td>\n",
       "      <td>14.34</td>\n",
       "      <td>2.91</td>\n",
       "      <td>2.09</td>\n",
       "      <td>72</td>\n",
       "      <td>0.82</td>\n",
       "      <td>0.00</td>\n",
       "      <td>0.00</td>\n",
       "      <td>2.30</td>\n",
       "      <td>2.02</td>\n",
       "      <td>0.44</td>\n",
       "      <td>0.25</td>\n",
       "      <td>2.78</td>\n",
       "      <td>1.14</td>\n",
       "      <td>40.91</td>\n",
       "      <td>1.64</td>\n",
       "      <td>59.09</td>\n",
       "      <td>0.00</td>\n",
       "      <td>0.00</td>\n",
       "      <td>2.78</td>\n",
       "      <td>56.67</td>\n",
       "      <td>1.26</td>\n",
       "      <td>1.71</td>\n",
       "      <td>13.22</td>\n",
       "      <td>0</td>\n",
       "      <td>10.05</td>\n",
       "      <td>0.67</td>\n",
       "      <td>1.20</td>\n",
       "      <td>10.45</td>\n",
       "      <td>2.59</td>\n",
       "      <td>2</td>\n",
       "      <td>44</td>\n",
       "      <td>21</td>\n",
       "      <td>5</td>\n",
       "      <td>7</td>\n",
       "      <td>4</td>\n",
       "      <td>5</td>\n",
       "      <td>5</td>\n",
       "      <td>7</td>\n",
       "      <td>6</td>\n",
       "      <td>3</td>\n",
       "      <td>19</td>\n",
       "      <td>39</td>\n",
       "      <td>11</td>\n",
       "    </tr>\n",
       "    <tr>\n",
       "      <th>2</th>\n",
       "      <td>92082660</td>\n",
       "      <td>Michael Akoto</td>\n",
       "      <td>D (RC), WB (R), DM, M (C)</td>\n",
       "      <td>26</td>\n",
       "      <td>188 cm</td>\n",
       "      <td>72 kg</td>\n",
       "      <td>-</td>\n",
       "      <td>AGF</td>\n",
       "      <td>3F Superliga</td>\n",
       "      <td>GER (GHA)</td>\n",
       "      <td>-</td>\n",
       "      <td>-</td>\n",
       "      <td>Scouting Required</td>\n",
       "      <td>£4,000 p/w</td>\n",
       "      <td>£230K - £2.3M</td>\n",
       "      <td>-</td>\n",
       "      <td>Right</td>\n",
       "      <td>20</td>\n",
       "      <td>1872</td>\n",
       "      <td>6.82</td>\n",
       "      <td>8</td>\n",
       "      <td>66.86</td>\n",
       "      <td>2</td>\n",
       "      <td>1</td>\n",
       "      <td>False</td>\n",
       "      <td>59.47</td>\n",
       "      <td>53.61</td>\n",
       "      <td>90</td>\n",
       "      <td>5.24</td>\n",
       "      <td>8.81</td>\n",
       "      <td>0.58</td>\n",
       "      <td>0.97</td>\n",
       "      <td>0.58</td>\n",
       "      <td>0.97</td>\n",
       "      <td>0.06</td>\n",
       "      <td>0.05</td>\n",
       "      <td>100.00</td>\n",
       "      <td>6.59</td>\n",
       "      <td>2.07</td>\n",
       "      <td>31.39</td>\n",
       "      <td>11.49</td>\n",
       "      <td>6.44</td>\n",
       "      <td>5.05</td>\n",
       "      <td>78.42</td>\n",
       "      <td>2.16</td>\n",
       "      <td>1.68</td>\n",
       "      <td>78</td>\n",
       "      <td>0.48</td>\n",
       "      <td>0.38</td>\n",
       "      <td>22.86</td>\n",
       "      <td>2.65</td>\n",
       "      <td>2.60</td>\n",
       "      <td>0.48</td>\n",
       "      <td>0.24</td>\n",
       "      <td>6.11</td>\n",
       "      <td>3.75</td>\n",
       "      <td>61.42</td>\n",
       "      <td>2.36</td>\n",
       "      <td>38.58</td>\n",
       "      <td>0.14</td>\n",
       "      <td>3.85</td>\n",
       "      <td>6.11</td>\n",
       "      <td>65.70</td>\n",
       "      <td>0.82</td>\n",
       "      <td>0.87</td>\n",
       "      <td>12.26</td>\n",
       "      <td>0</td>\n",
       "      <td>6.88</td>\n",
       "      <td>0.97</td>\n",
       "      <td>0.77</td>\n",
       "      <td>15.45</td>\n",
       "      <td>2.69</td>\n",
       "      <td>18</td>\n",
       "      <td>96</td>\n",
       "      <td>24</td>\n",
       "      <td>19</td>\n",
       "      <td>31</td>\n",
       "      <td>43</td>\n",
       "      <td>22</td>\n",
       "      <td>20</td>\n",
       "      <td>17</td>\n",
       "      <td>32</td>\n",
       "      <td>71</td>\n",
       "      <td>68</td>\n",
       "      <td>96</td>\n",
       "      <td>3</td>\n",
       "    </tr>\n",
       "    <tr>\n",
       "      <th>3</th>\n",
       "      <td>53159880</td>\n",
       "      <td>Sivert Mannsverk</td>\n",
       "      <td>DM, M (C)</td>\n",
       "      <td>22</td>\n",
       "      <td>185 cm</td>\n",
       "      <td>76 kg</td>\n",
       "      <td>Inj</td>\n",
       "      <td>Ajax</td>\n",
       "      <td>Eredivisie</td>\n",
       "      <td>NOR</td>\n",
       "      <td>-</td>\n",
       "      <td>-</td>\n",
       "      <td>Scouting Required</td>\n",
       "      <td>£12,750 p/w</td>\n",
       "      <td>£12.5M - £20M</td>\n",
       "      <td>-</td>\n",
       "      <td>Right</td>\n",
       "      <td>36</td>\n",
       "      <td>3004</td>\n",
       "      <td>6.82</td>\n",
       "      <td>1</td>\n",
       "      <td>81.19</td>\n",
       "      <td>3</td>\n",
       "      <td>1</td>\n",
       "      <td>False</td>\n",
       "      <td>55.07</td>\n",
       "      <td>47.85</td>\n",
       "      <td>87</td>\n",
       "      <td>5.30</td>\n",
       "      <td>9.63</td>\n",
       "      <td>1.17</td>\n",
       "      <td>2.12</td>\n",
       "      <td>0.96</td>\n",
       "      <td>1.74</td>\n",
       "      <td>1.17</td>\n",
       "      <td>0.36</td>\n",
       "      <td>30.77</td>\n",
       "      <td>10.88</td>\n",
       "      <td>2.97</td>\n",
       "      <td>27.27</td>\n",
       "      <td>9.11</td>\n",
       "      <td>9.68</td>\n",
       "      <td>-0.57</td>\n",
       "      <td>-5.89</td>\n",
       "      <td>3.09</td>\n",
       "      <td>2.04</td>\n",
       "      <td>66</td>\n",
       "      <td>1.05</td>\n",
       "      <td>0.00</td>\n",
       "      <td>0.00</td>\n",
       "      <td>2.24</td>\n",
       "      <td>1.74</td>\n",
       "      <td>0.39</td>\n",
       "      <td>0.21</td>\n",
       "      <td>4.07</td>\n",
       "      <td>2.52</td>\n",
       "      <td>61.76</td>\n",
       "      <td>1.56</td>\n",
       "      <td>38.24</td>\n",
       "      <td>0.39</td>\n",
       "      <td>15.48</td>\n",
       "      <td>4.07</td>\n",
       "      <td>63.60</td>\n",
       "      <td>1.38</td>\n",
       "      <td>0.78</td>\n",
       "      <td>13.01</td>\n",
       "      <td>0</td>\n",
       "      <td>7.49</td>\n",
       "      <td>1.25</td>\n",
       "      <td>1.50</td>\n",
       "      <td>12.86</td>\n",
       "      <td>3.69</td>\n",
       "      <td>18</td>\n",
       "      <td>15</td>\n",
       "      <td>32</td>\n",
       "      <td>19</td>\n",
       "      <td>25</td>\n",
       "      <td>11</td>\n",
       "      <td>37</td>\n",
       "      <td>29</td>\n",
       "      <td>34</td>\n",
       "      <td>23</td>\n",
       "      <td>22</td>\n",
       "      <td>75</td>\n",
       "      <td>52</td>\n",
       "      <td>32</td>\n",
       "    </tr>\n",
       "    <tr>\n",
       "      <th>4</th>\n",
       "      <td>37073317</td>\n",
       "      <td>Kenneth Taylor</td>\n",
       "      <td>DM, M/AM (C)</td>\n",
       "      <td>22</td>\n",
       "      <td>182 cm</td>\n",
       "      <td>66 kg</td>\n",
       "      <td>-</td>\n",
       "      <td>Ajax</td>\n",
       "      <td>Eredivisie</td>\n",
       "      <td>NED</td>\n",
       "      <td>-</td>\n",
       "      <td>Fairly Determined</td>\n",
       "      <td>Level-headed</td>\n",
       "      <td>£21,500 p/w</td>\n",
       "      <td>£75M - £89M</td>\n",
       "      <td>-</td>\n",
       "      <td>Left</td>\n",
       "      <td>42</td>\n",
       "      <td>3579</td>\n",
       "      <td>7.01</td>\n",
       "      <td>0</td>\n",
       "      <td>85.21</td>\n",
       "      <td>4</td>\n",
       "      <td>1</td>\n",
       "      <td>False</td>\n",
       "      <td>46.47</td>\n",
       "      <td>40.31</td>\n",
       "      <td>87</td>\n",
       "      <td>4.02</td>\n",
       "      <td>8.66</td>\n",
       "      <td>1.28</td>\n",
       "      <td>2.76</td>\n",
       "      <td>0.88</td>\n",
       "      <td>1.89</td>\n",
       "      <td>0.91</td>\n",
       "      <td>0.38</td>\n",
       "      <td>41.67</td>\n",
       "      <td>11.42</td>\n",
       "      <td>3.02</td>\n",
       "      <td>26.43</td>\n",
       "      <td>7.97</td>\n",
       "      <td>8.98</td>\n",
       "      <td>-1.01</td>\n",
       "      <td>-11.25</td>\n",
       "      <td>3.22</td>\n",
       "      <td>2.62</td>\n",
       "      <td>81</td>\n",
       "      <td>0.60</td>\n",
       "      <td>0.03</td>\n",
       "      <td>0.96</td>\n",
       "      <td>5.12</td>\n",
       "      <td>1.56</td>\n",
       "      <td>0.60</td>\n",
       "      <td>0.20</td>\n",
       "      <td>4.85</td>\n",
       "      <td>2.11</td>\n",
       "      <td>43.52</td>\n",
       "      <td>2.74</td>\n",
       "      <td>56.48</td>\n",
       "      <td>0.15</td>\n",
       "      <td>7.14</td>\n",
       "      <td>4.85</td>\n",
       "      <td>58.57</td>\n",
       "      <td>0.63</td>\n",
       "      <td>0.50</td>\n",
       "      <td>13.24</td>\n",
       "      <td>0</td>\n",
       "      <td>10.96</td>\n",
       "      <td>2.44</td>\n",
       "      <td>1.48</td>\n",
       "      <td>11.04</td>\n",
       "      <td>4.95</td>\n",
       "      <td>84</td>\n",
       "      <td>45</td>\n",
       "      <td>35</td>\n",
       "      <td>76</td>\n",
       "      <td>76</td>\n",
       "      <td>81</td>\n",
       "      <td>79</td>\n",
       "      <td>83</td>\n",
       "      <td>83</td>\n",
       "      <td>84</td>\n",
       "      <td>98</td>\n",
       "      <td>56</td>\n",
       "      <td>25</td>\n",
       "      <td>60</td>\n",
       "    </tr>\n",
       "  </tbody>\n",
       "</table>\n",
       "</div>"
      ],
      "text/plain": [
       "           id              name                   position  age  height  \\\n",
       "0    27025242   Nicolai Poulsen                  DM, M (C)   30  176 cm   \n",
       "1  2000100721       Julius Beck                  DM, M (C)   19  178 cm   \n",
       "2    92082660     Michael Akoto  D (RC), WB (R), DM, M (C)   26  188 cm   \n",
       "3    53159880  Sivert Mannsverk                  DM, M (C)   22  185 cm   \n",
       "4    37073317    Kenneth Taylor               DM, M/AM (C)   22  182 cm   \n",
       "\n",
       "  weight  inf  club      division nationality home_grown        personality  \\\n",
       "0  70 kg    -   AGF  3F Superliga         DEN          -                  -   \n",
       "1  62 kg    -   AGF  3F Superliga         DEN          -           Balanced   \n",
       "2  72 kg    -   AGF  3F Superliga   GER (GHA)          -                  -   \n",
       "3  76 kg  Inj  Ajax    Eredivisie         NOR          -                  -   \n",
       "4  66 kg    -  Ajax    Eredivisie         NED          -  Fairly Determined   \n",
       "\n",
       "      media_handling         wage transfer_value asking_price preferred_foot  \\\n",
       "0  Scouting Required   £4,600 p/w  £300K - £2.9M            -     Right Only   \n",
       "1     Media-friendly   £4,700 p/w      £4M - £8M            -          Right   \n",
       "2  Scouting Required   £4,000 p/w  £230K - £2.3M            -          Right   \n",
       "3  Scouting Required  £12,750 p/w  £12.5M - £20M            -          Right   \n",
       "4       Level-headed  £21,500 p/w    £75M - £89M            -           Left   \n",
       "\n",
       "   starts  minutes_played  average_rating  sub_appearances  minutes/game  \\\n",
       "0      26            2318            6.87                1         85.85   \n",
       "1      16            1424            6.78                3         74.95   \n",
       "2      20            1872            6.82                8         66.86   \n",
       "3      36            3004            6.82                1         81.19   \n",
       "4      42            3579            7.01                0         85.21   \n",
       "\n",
       "   index  entries  leaguemultiplier  passes_attempted/90  passes_completed/90  \\\n",
       "0      0        1             False                65.58                58.20   \n",
       "1      1        1             False                56.57                50.44   \n",
       "2      2        1             False                59.47                53.61   \n",
       "3      3        1             False                55.07                47.85   \n",
       "4      4        1             False                46.47                40.31   \n",
       "\n",
       "   pass_completion_%  progressive_passes/90  progressive_pass_rate  \\\n",
       "0                 89                   6.56                  10.01   \n",
       "1                 89                   5.12                   9.05   \n",
       "2                 90                   5.24                   8.81   \n",
       "3                 87                   5.30                   9.63   \n",
       "4                 87                   4.02                   8.66   \n",
       "\n",
       "   key_passes/90  key_pass_%  open_play_key_passes/90  open_play_key_pass_%  \\\n",
       "0           1.24        1.89                     1.20                  1.84   \n",
       "1           0.88        1.56                     0.88                  1.56   \n",
       "2           0.58        0.97                     0.58                  0.97   \n",
       "3           1.17        2.12                     0.96                  1.74   \n",
       "4           1.28        2.76                     0.88                  1.89   \n",
       "\n",
       "   chances_created/90  clear_cut_chances_created/90  clear_cut_chances_%  \\\n",
       "0                0.81                          0.31                38.10   \n",
       "1                0.20                          0.19               100.00   \n",
       "2                0.06                          0.05               100.00   \n",
       "3                1.17                          0.36                30.77   \n",
       "4                0.91                          0.38                41.67   \n",
       "\n",
       "   pressures_attempted/90  pressures_completed/90  pressure_success_%  \\\n",
       "0                   11.96                    3.34               27.92   \n",
       "1                   11.00                    3.48               31.61   \n",
       "2                    6.59                    2.07               31.39   \n",
       "3                   10.88                    2.97               27.27   \n",
       "4                   11.42                    3.02               26.43   \n",
       "\n",
       "   possession_won/90  possession_lost/90  poss+_/90  poss+__%  \\\n",
       "0               8.70                9.75      -1.05    -10.77   \n",
       "1               8.53                7.46       1.07     14.34   \n",
       "2              11.49                6.44       5.05     78.42   \n",
       "3               9.11                9.68      -0.57     -5.89   \n",
       "4               7.97                8.98      -1.01    -11.25   \n",
       "\n",
       "   tackles_attempted/90  tackles_completed/90  tackle_completion_%  \\\n",
       "0                  4.04                  3.11                   77   \n",
       "1                  2.91                  2.09                   72   \n",
       "2                  2.16                  1.68                   78   \n",
       "3                  3.09                  2.04                   66   \n",
       "4                  3.22                  2.62                   81   \n",
       "\n",
       "   tackles_failed/90  key_tackles/90  key_tackles_%  tackle_quality  \\\n",
       "0               0.93            0.08           2.50            2.04   \n",
       "1               0.82            0.00           0.00            2.30   \n",
       "2               0.48            0.38          22.86            2.65   \n",
       "3               1.05            0.00           0.00            2.24   \n",
       "4               0.60            0.03           0.96            5.12   \n",
       "\n",
       "   interceptions/90  blocks/90  shots_blocked/90  headers_attempted/90  \\\n",
       "0              1.40       0.43              0.19                  3.49   \n",
       "1              2.02       0.44              0.25                  2.78   \n",
       "2              2.60       0.48              0.24                  6.11   \n",
       "3              1.74       0.39              0.21                  4.07   \n",
       "4              1.56       0.60              0.20                  4.85   \n",
       "\n",
       "   headers_won/90  headers_won_%  headers_lost/90  headers_lost_%  \\\n",
       "0            1.40          40.00             2.10           60.00   \n",
       "1            1.14          40.91             1.64           59.09   \n",
       "2            3.75          61.42             2.36           38.58   \n",
       "3            2.52          61.76             1.56           38.24   \n",
       "4            2.11          43.52             2.74           56.48   \n",
       "\n",
       "   key_headers/90  key_headers_%  aerial_challenges_attempted/90  duels_win_%  \\\n",
       "0            0.08           5.56                            3.49        59.79   \n",
       "1            0.00           0.00                            2.78        56.67   \n",
       "2            0.14           3.85                            6.11        65.70   \n",
       "3            0.39          15.48                            4.07        63.60   \n",
       "4            0.15           7.14                            4.85        58.57   \n",
       "\n",
       "   fouls_committed/90  clearances/90  distance_covered/90  \\\n",
       "0                1.98           1.32                13.52   \n",
       "1                1.26           1.71                13.22   \n",
       "2                0.82           0.87                12.26   \n",
       "3                1.38           0.78                13.01   \n",
       "4                0.63           0.50                13.24   \n",
       "\n",
       "   mistakes_leading_to_goal  sprints/90  attacking_actions/90  \\\n",
       "0                         0       14.64                  0.99   \n",
       "1                         0       10.05                  0.67   \n",
       "2                         0        6.88                  0.97   \n",
       "3                         0        7.49                  1.25   \n",
       "4                         0       10.96                  2.44   \n",
       "\n",
       "   creative_actions/90  defensive_actions/90  excitement_factor/90  \\\n",
       "0                 1.67                 11.87                  2.87   \n",
       "1                 1.20                 10.45                  2.59   \n",
       "2                 0.77                 15.45                  2.69   \n",
       "3                 1.50                 12.86                  3.69   \n",
       "4                 1.48                 11.04                  4.95   \n",
       "\n",
       "   general_performance  defensive_defender  creative_defender  \\\n",
       "0                   34                  66                 56   \n",
       "1                    2                  44                 21   \n",
       "2                   18                  96                 24   \n",
       "3                   18                  15                 32   \n",
       "4                   84                  45                 35   \n",
       "\n",
       "   attacking_defender  creative_midfielder  attacking_midfielder  \\\n",
       "0                  33                   35                    21   \n",
       "1                   5                    7                     4   \n",
       "2                  19                   31                    43   \n",
       "3                  19                   25                    11   \n",
       "4                  76                   76                    81   \n",
       "\n",
       "   creative_winger  attacking_winger  creative_forward  attacking_forward  \\\n",
       "0               26                29                30                 29   \n",
       "1                5                 5                 7                  6   \n",
       "2               22                20                17                 32   \n",
       "3               37                29                34                 23   \n",
       "4               79                83                83                 84   \n",
       "\n",
       "   finisher  aerial_threat  reader  assister  \n",
       "0        16             35      29        44  \n",
       "1         3             19      39        11  \n",
       "2        71             68      96         3  \n",
       "3        22             75      52        32  \n",
       "4        98             56      25        60  "
      ]
     },
     "execution_count": 26,
     "metadata": {},
     "output_type": "execute_result"
    }
   ],
   "source": [
    "df_players.head()"
   ]
  },
  {
   "cell_type": "code",
   "execution_count": 27,
   "id": "5b106302",
   "metadata": {},
   "outputs": [],
   "source": [
    "# # Keep only natural DMs\n",
    "# path = 'data/Natural DMs.html'\n",
    "\n",
    "# # Ingest in a dataframe\n",
    "# df_dms = pd.read_html(path, encoding='utf-8')[0]\n",
    "\n",
    "# # Format column names \n",
    "# df_dms.columns = [x.lower().strip().replace(' ', '_').replace('-', '_') for x in df_dms.columns]\n",
    "\n",
    "# df_dms['natural_dm'] = 'Yes'\n",
    "\n",
    "# df_dms = df_dms[['uid', 'natural_dm']]\n",
    "\n",
    "# df_players = df_players.merge(df_dms, \n",
    "#                               left_on='id',\n",
    "#                               right_on='uid',\n",
    "#                               how='left')\n",
    "\n",
    "# df_players = df_players[df_players['natural_dm'] == 'Yes']"
   ]
  },
  {
   "cell_type": "code",
   "execution_count": 28,
   "id": "103e9075",
   "metadata": {},
   "outputs": [],
   "source": [
    "# Get transfer valuation estimation\n",
    "def parse_transfer_value(val):\n",
    "    if pd.isnull(val):\n",
    "        return None\n",
    "\n",
    "    # Remove dollar signs and spaces\n",
    "    val = val.replace('$', '').replace(' ', '')\n",
    "\n",
    "    # If it's a range like \"850K-8.4M\"\n",
    "    if '-' in val:\n",
    "        low_str, high_str = val.split('-')\n",
    "        low = parse_single_value(low_str)\n",
    "        high = parse_single_value(high_str)\n",
    "        if low is not None and high is not None:\n",
    "            return (low + high) * (6/10)\n",
    "    else:\n",
    "        return parse_single_value(val)\n",
    "\n",
    "    return None  # fallback\n",
    "\n",
    "def parse_single_value(s):\n",
    "    try:\n",
    "        if s.endswith('M'):\n",
    "            return float(s[:-1]) * 1_000_000\n",
    "        elif s.endswith('K'):\n",
    "            return float(s[:-1]) * 1_000\n",
    "        else:\n",
    "            return float(s)  # just in case it's a plain number\n",
    "    except:\n",
    "        return None\n",
    "\n",
    "# Apply to your DataFrame\n",
    "df_players['price_estimate_M'] = df_players['transfer_value'].apply(parse_transfer_value) / 1000000"
   ]
  },
  {
   "cell_type": "markdown",
   "id": "e917f304",
   "metadata": {},
   "source": [
    "## Plot function"
   ]
  },
  {
   "cell_type": "code",
   "execution_count": 29,
   "id": "f94ec5bb",
   "metadata": {},
   "outputs": [],
   "source": [
    "def scatter_plot(df, x_metric, y_metric, z_metric, \n",
    "                 title, show_color_bar=False, show_name_label=True): \n",
    "    # Set text to 'name' if show_name_label is True, else empty string\n",
    "    text_col = 'name' if show_name_label else None\n",
    "\n",
    "    # Create plotly figure\n",
    "    fig = px.scatter(\n",
    "        df,\n",
    "        x=x_metric,\n",
    "        y=y_metric,\n",
    "        color=z_metric,\n",
    "        text=text_col,\n",
    "        color_continuous_scale='RdYlGn',\n",
    "        labels={z_metric: f'Color Scale ({z_metric})'},\n",
    "        title=title,\n",
    "        width=1200, \n",
    "        height=700    \n",
    "    )\n",
    "\n",
    "    # Format traces\n",
    "    fig.update_traces(\n",
    "        marker=dict(size=10), \n",
    "        textposition='top center',\n",
    "        textfont=dict(size=10),\n",
    "        customdata=df[['name', 'club']],  # Always pass 'name' for hovertemplate\n",
    "        hovertemplate=(\n",
    "            \"<b>%{customdata[0]}</b><br>\" +\n",
    "            \"<b>%{customdata[1]}</b><br><br>\" +\n",
    "            f\"{x_metric}: \" + \"%{x}<br>\" +\n",
    "            f\"{y_metric}: \" + \"%{y}<br>\" +\n",
    "            f\"{z_metric}: \" + \"%{marker.color}<extra></extra>\"\n",
    "        )\n",
    "    )\n",
    "\n",
    "    fig.update_layout(\n",
    "        title={\n",
    "            'text': f'{title} ({len(df): ,.0f})',\n",
    "            'x': 0.5,\n",
    "            'xanchor': 'center'\n",
    "        },\n",
    "        coloraxis_colorbar=dict(title=z_metric),\n",
    "        coloraxis_showscale=show_color_bar,  # Show or hide the color bar\n",
    "        plot_bgcolor='darkgray',\n",
    "        paper_bgcolor='darkgray',\n",
    "        xaxis=dict(showgrid=True, gridcolor='white', zeroline=False),\n",
    "        yaxis=dict(showgrid=True, gridcolor='white', zeroline=False)\n",
    "    )\n",
    "\n",
    "    fig.show()\n"
   ]
  },
  {
   "cell_type": "markdown",
   "id": "22683d93",
   "metadata": {},
   "source": [
    "## Passing analysis"
   ]
  },
  {
   "cell_type": "markdown",
   "id": "5c2da36b",
   "metadata": {},
   "source": [
    "### Full universe"
   ]
  },
  {
   "cell_type": "code",
   "execution_count": 30,
   "id": "c953fb7b",
   "metadata": {},
   "outputs": [
    {
     "data": {
      "application/vnd.plotly.v1+json": {
       "config": {
        "plotlyServerURL": "https://plot.ly"
       },
       "data": [
        {
         "customdata": [
          [
           "Nicolai Poulsen",
           "AGF"
          ],
          [
           "Julius Beck",
           "AGF"
          ],
          [
           "Michael Akoto",
           "AGF"
          ],
          [
           "Sivert Mannsverk",
           "Ajax"
          ],
          [
           "Kenneth Taylor",
           "Ajax"
          ],
          [
           "Jon Guridi",
           "Alavés"
          ],
          [
           "Antonio Blanco",
           "Alavés"
          ],
          [
           "Ander Guevara",
           "Alavés"
          ],
          [
           "Jochem Ritmeester van de Kamp",
           "Almere City"
          ],
          [
           "Peer Koopmeiners",
           "Almere City"
          ],
          [
           "Stije Resink",
           "Almere City"
          ],
          [
           "Edgar",
           "Almería"
          ],
          [
           "Iddrisu Baba",
           "Almería"
          ],
          [
           "Franco Moyano",
           "Argentinos Jrs."
          ],
          [
           "Iván Rossi",
           "Argentinos Jrs."
          ],
          [
           "Eboué Kouassi",
           "Arouca"
          ],
          [
           "Thomas Partey",
           "Arsenal"
          ],
          [
           "Jorginho",
           "Arsenal"
          ],
          [
           "Declan Rice",
           "Arsenal"
          ],
          [
           "Youri Tielemans",
           "Aston Villa"
          ],
          [
           "Boubacar Kamara",
           "Aston Villa"
          ],
          [
           "Douglas Luiz",
           "Aston Villa"
          ],
          [
           "Teun Koopmeiners",
           "Atalanta"
          ],
          [
           "Michel Ndary Adopo",
           "Atalanta"
          ],
          [
           "Rhaldney",
           "ATG"
          ],
          [
           "Baralhas",
           "ATG"
          ],
          [
           "Beñat Prados",
           "Athletic"
          ],
          [
           "Mikel Vesga",
           "Athletic"
          ],
          [
           "Erick",
           "Athlético Paranaense"
          ],
          [
           "Saúl",
           "Atlético"
          ],
          [
           "Koke",
           "Atlético"
          ],
          [
           "Marcos Llorente",
           "Atlético"
          ],
          [
           "Otávio",
           "ATM"
          ],
          [
           "Kristijan Jakić",
           "Augsburg"
          ],
          [
           "Elvis Rexhbecaj",
           "Augsburg"
          ],
          [
           "Riechedly Bazoer",
           "AZ"
          ],
          [
           "Kristijan Belić",
           "AZ"
          ],
          [
           "Tiago Dantas",
           "AZ"
          ],
          [
           "Jordy Clasie",
           "AZ"
          ],
          [
           "Thaciano",
           "BAH"
          ],
          [
           "Rezende",
           "BAH"
          ],
          [
           "Jean Lucas",
           "BAH"
          ],
          [
           "Nicolás Acevedo",
           "BAH"
          ],
          [
           "Caio Alexandre",
           "BAH"
          ],
          [
           "Alejandro Cabrera",
           "Banfield"
          ],
          [
           "Frenkie de Jong",
           "Barcelona"
          ],
          [
           "Oriol Romeu",
           "Barcelona"
          ],
          [
           "Rodrigo Herrera",
           "Barracas Central"
          ],
          [
           "Exequiel Palacios",
           "Bayer 04"
          ],
          [
           "Granit Xhaka",
           "Bayer 04"
          ],
          [
           "Robert Andrich",
           "Bayer 04"
          ],
          [
           "Facundo Quignón",
           "Belgrano"
          ],
          [
           "Esteban Rolón",
           "Belgrano"
          ],
          [
           "Santiago Longo",
           "Belgrano"
          ],
          [
           "Andre Dozzell",
           "Birmingham"
          ],
          [
           "Krystian Bielik",
           "Birmingham"
          ],
          [
           "Ivan Šunjić",
           "Birmingham"
          ],
          [
           "Paik Seung-Ho",
           "Birmingham"
          ],
          [
           "John Buckley",
           "Blackburn"
          ],
          [
           "Sondre Tronstad",
           "Blackburn"
          ],
          [
           "Jake Garrett",
           "Blackburn"
          ],
          [
           "Ilija Vukotić",
           "Boavista"
          ],
          [
           "Sebastián Pérez",
           "Boavista"
          ],
          [
           "Ibrahima Camará",
           "Boavista"
          ],
          [
           "Jorman Campuzano",
           "Boca"
          ],
          [
           "Nicolás Garayalde",
           "Boca"
          ],
          [
           "Ladislav Krejčí",
           "Bologna"
          ],
          [
           "Remo Freuler",
           "Bologna"
          ],
          [
           "Michel Aebischer",
           "Bologna"
          ],
          [
           "Salih Özcan",
           "Borussia Dortmund"
          ],
          [
           "Emre Can",
           "Borussia Dortmund"
          ],
          [
           "Gregore",
           "BOT"
          ],
          [
           "Cacá",
           "BOT"
          ],
          [
           "Danilo Barbosa",
           "BOT"
          ],
          [
           "Marlon Freitas",
           "BOT"
          ],
          [
           "Patrick de Paula",
           "BOT"
          ],
          [
           "Lewis Cook",
           "Bournemouth"
          ],
          [
           "Alex Scott",
           "Bournemouth"
          ],
          [
           "Ryan Christie",
           "Bournemouth"
          ],
          [
           "Wilfred Ndidi",
           "Bournemouth"
          ],
          [
           "Tyler Adams",
           "Bournemouth"
          ],
          [
           "Christian Nørgaard",
           "Brentford"
          ],
          [
           "Kristoffer Ajer",
           "Brentford"
          ],
          [
           "Hugo Magnetti",
           "Brest"
          ],
          [
           "Pierre Lees-Melou",
           "Brest"
          ],
          [
           "Billy Gilmour",
           "Brighton"
          ],
          [
           "Pascal Groß",
           "Brighton"
          ],
          [
           "Carlos Baleba",
           "Brighton"
          ],
          [
           "Joe Williams",
           "Bristol City"
          ],
          [
           "Matty James",
           "Bristol City"
          ],
          [
           "Josip Radošević",
           "Brøndby IF"
          ],
          [
           "Jordi Vanlerberghe",
           "Brøndby IF"
          ],
          [
           "Sander Berge",
           "Burnley"
          ],
          [
           "Diadié Samassékou",
           "Cádiz"
          ],
          [
           "Rominigue Kouamé",
           "Cádiz"
          ],
          [
           "Fali",
           "Cádiz"
          ],
          [
           "Gonzalo Escalante",
           "Cádiz"
          ],
          [
           "Fede San Emeterio",
           "Cádiz"
          ],
          [
           "Ibrahim Sulemana",
           "Cagliari"
          ],
          [
           "Antoine Makoumbou",
           "Cagliari"
          ],
          [
           "Manolis Siopis",
           "Cardiff"
          ],
          [
           "Ryan Wintle",
           "Cardiff"
          ],
          [
           "Joe Ralls",
           "Cardiff"
          ],
          [
           "Nermin Zolotić",
           "Casa Pia"
          ],
          [
           "Márton Dárdai",
           "Celta"
          ],
          [
           "Fran Beltrán",
           "Celta"
          ],
          [
           "Jaílson",
           "Celta"
          ],
          [
           "Manuel García",
           "Central Córdoba (SdE)"
          ],
          [
           "Walter Montoya",
           "Central Córdoba (SdE)"
          ],
          [
           "Pedro Sá",
           "CF Estrela Amadora"
          ],
          [
           "Aloísio Souza",
           "CF Estrela Amadora"
          ],
          [
           "Enzo Fernández",
           "Chelsea"
          ],
          [
           "Moisés Caicedo",
           "Chelsea"
          ],
          [
           "Roméo Lavia",
           "Chelsea"
          ],
          [
           "Yohann Magnin",
           "Clermont"
          ],
          [
           "Fausto Vera",
           "COR"
          ],
          [
           "Gabriel Moscardo",
           "COR"
          ],
          [
           "Keidi Bare",
           "Coventry"
          ],
          [
           "Joel Latibeaudiere",
           "Coventry"
          ],
          [
           "Ben Sheaf",
           "Coventry"
          ],
          [
           "Oliver Arblaster",
           "Coventry"
          ],
          [
           "Will Hughes",
           "Crystal Palace"
          ],
          [
           "Cheick Doucouré",
           "Crystal Palace"
          ],
          [
           "Jefferson Lerma",
           "Crystal Palace"
          ],
          [
           "Adam Wharton",
           "Crystal Palace"
          ],
          [
           "Sebastián Gómez",
           "CTB"
          ],
          [
           "Andrey",
           "CTB"
          ],
          [
           "Bruno Gomes",
           "CTB"
          ],
          [
           "Filipe Augusto",
           "CUI"
          ],
          [
           "Guilherme Madruga",
           "CUI"
          ],
          [
           "Bartol Franjić",
           "Darmstadt 98"
          ],
          [
           "Nicolás Tripichio",
           "Defensa y Justicia"
          ],
          [
           "Julián López",
           "Defensa y Justicia"
          ],
          [
           "Cafú Phete",
           "Desp. Chaves"
          ],
          [
           "Raphael Guzzo",
           "Desp. Chaves"
          ],
          [
           "Guima",
           "Desp. Chaves"
          ],
          [
           "Dário Essugo",
           "Desp. Chaves"
          ],
          [
           "Niklas Dorsch",
           "Eintracht Frankfurt"
          ],
          [
           "Ellyes Skhiri",
           "Eintracht Frankfurt"
          ],
          [
           "Hugo Larsson",
           "Eintracht Frankfurt"
          ],
          [
           "Luca Belardinelli",
           "Empoli"
          ],
          [
           "Răzvan Marin",
           "Empoli"
          ],
          [
           "Veldin Hodža",
           "Empoli"
          ],
          [
           "Jordan Holsgrove",
           "Estoril Praia"
          ],
          [
           "Mor Ndiaye",
           "Estoril Praia"
          ],
          [
           "Santiago Ascacíbar",
           "Estudiantes (LP)"
          ],
          [
           "Amadou Onana",
           "Everton"
          ],
          [
           "Julian Baas",
           "Excelsior"
          ],
          [
           "Kenzo Goudmijn",
           "Excelsior"
          ],
          [
           "Siebe Horemans",
           "Excelsior"
          ],
          [
           "Serano Seymor",
           "Excelsior"
          ],
          [
           "Mirko Topić",
           "Famalicão"
          ],
          [
           "Tom Lacoux",
           "Famalicão"
          ],
          [
           "Joshua Kimmich",
           "FC Bayern"
          ],
          [
           "Lennard Maloney",
           "FC Heidenheim"
          ],
          [
           "Jan Schöppner",
           "FC Heidenheim"
          ],
          [
           "Benedikt Gimber",
           "FC Heidenheim"
          ],
          [
           "William Clem",
           "FC København"
          ],
          [
           "Hugo Moura",
           "FC København"
          ],
          [
           "Dejan Ljubičić",
           "FC Köln"
          ],
          [
           "Eric Martel",
           "FC Köln"
          ],
          [
           "Oliver Sørensen",
           "FC Midtjylland"
          ],
          [
           "Emiliano Martínez",
           "FC Midtjylland"
          ],
          [
           "Armin Gigović",
           "FC Midtjylland"
          ],
          [
           "Kristoffer Olsson",
           "FC Midtjylland"
          ],
          [
           "Jeppe Tverskov",
           "FC Nordsjælland"
          ],
          [
           "Rocco Ascone",
           "FC Nordsjælland"
          ],
          [
           "Mario Dorgeles",
           "FC Nordsjælland"
          ],
          [
           "Alan Varela",
           "FC Porto"
          ],
          [
           "Ezequiel Fernández",
           "FC Porto"
          ],
          [
           "Nico González",
           "FC Porto"
          ],
          [
           "Marko Grujić",
           "FC Porto"
          ],
          [
           "Stephen Eustáquio",
           "FC Porto"
          ],
          [
           "Michal Sadílek",
           "FC Twente"
          ],
          [
           "Youri Regeer",
           "FC Twente"
          ],
          [
           "Mathias Kjølø",
           "FC Twente"
          ],
          [
           "Ryan Flamingo",
           "FC Utrecht"
          ],
          [
           "Calvin Twigt",
           "FC Volendam"
          ],
          [
           "Luke Le Roux",
           "FC Volendam"
          ],
          [
           "Quinten Timber",
           "Feyenoord"
          ],
          [
           "Thomas Beelen",
           "Feyenoord"
          ],
          [
           "Ramiz Zerrouki",
           "Feyenoord"
          ],
          [
           "Mats Wieffer",
           "Feyenoord"
          ],
          [
           "Lutsharel Geertruida",
           "Feyenoord"
          ],
          [
           "Maxime Lopez",
           "Fiorentina"
          ],
          [
           "Gaïus Makouta",
           "Fiorentina"
          ],
          [
           "Rolando Mandragora",
           "Fiorentina"
          ],
          [
           "Arthur",
           "Fiorentina"
          ],
          [
           "Matheus Henrique",
           "FLA"
          ],
          [
           "Erick Pulgar",
           "FLA"
          ],
          [
           "Allan",
           "FLA"
          ],
          [
           "Martinelli",
           "FLU"
          ],
          [
           "Alexsander",
           "FLU"
          ],
          [
           "André",
           "FLU"
          ],
          [
           "Pedro Augusto",
           "FOR"
          ],
          [
           "Zé Welison",
           "FOR"
          ],
          [
           "Loreintz Rosier",
           "Fortuna Sittard"
          ],
          [
           "Luca Mazzitelli",
           "Frosinone"
          ],
          [
           "Enzo Barrenechea",
           "Frosinone"
          ],
          [
           "Marco Brescianini",
           "Frosinone"
          ],
          [
           "Harrison Reed",
           "Fulham"
          ],
          [
           "João Palhinha",
           "Fulham"
          ],
          [
           "Pierre-Emile Højbjerg",
           "Fulham"
          ],
          [
           "Mauro Arambarri",
           "Getafe"
          ],
          [
           "Nemanja Maksimović",
           "Getafe"
          ],
          [
           "Jesús Castillo",
           "Gil Vicente"
          ],
          [
           "Mory Gbané",
           "Gil Vicente"
          ],
          [
           "Felipe Silva",
           "Gil Vicente"
          ],
          [
           "Agustín Bolívar",
           "Gimnasia (LP)"
          ],
          [
           "Rodrigo Saravia",
           "Gimnasia (LP)"
          ],
          [
           "Aleix García",
           "Girona"
          ],
          [
           "Yago Henrique",
           "GN"
          ],
          [
           "João Afonso",
           "GN"
          ],
          [
           "Joris Kramer",
           "Go Ahead Eagles"
          ],
          [
           "Evert Linthorst",
           "Go Ahead Eagles"
          ],
          [
           "Vicente Poggi",
           "Godoy Cruz"
          ],
          [
           "Bruno Leyes",
           "Godoy Cruz"
          ],
          [
           "Juninho",
           "GOI"
          ],
          [
           "Nathan",
           "GOI"
          ],
          [
           "Martin Hongla",
           "Granada"
          ],
          [
           "Gerard Gumbau",
           "Granada"
          ],
          [
           "Abdoulaye Touré",
           "Havre AC"
          ],
          [
           "Oussama Targhalline",
           "Havre AC"
          ],
          [
           "Reda Belahyane",
           "Hellas Verona"
          ],
          [
           "Suat Serdar",
           "Hellas Verona"
          ],
          [
           "Sem Scheperman",
           "Heracles Almelo"
          ],
          [
           "Brian De Keersmaecker",
           "Heracles Almelo"
          ],
          [
           "David Kasumu",
           "Huddersfield"
          ],
          [
           "Yuta Nakayama",
           "Huddersfield"
          ],
          [
           "Ryan Trevitt",
           "Huddersfield"
          ],
          [
           "Regan Slater",
           "Hull"
          ],
          [
           "Jean Michaël Séri",
           "Hull"
          ],
          [
           "Tyler Morton",
           "Hull"
          ],
          [
           "Rodrigo Echeverría",
           "Huracán"
          ],
          [
           "Jonas Gemmer",
           "Hvidovre IF"
          ],
          [
           "Gastón Gil Romero",
           "Independiente Rivadavia"
          ],
          [
           "Francisco Maidana",
           "Independiente Rivadavia"
          ],
          [
           "Rodrigo Pérez",
           "Instituto"
          ],
          [
           "Stefano Moreyra",
           "Instituto"
          ],
          [
           "Stefano Sensi",
           "Inter"
          ],
          [
           "Kristjan Asllani",
           "Inter"
          ],
          [
           "Hakan Çalhanoğlu",
           "Inter"
          ],
          [
           "Sam Morsy",
           "Ipswich"
          ],
          [
           "Lewis Travis",
           "Ipswich"
          ],
          [
           "Cameron Humphreys",
           "Ipswich"
          ],
          [
           "Adrien Rabiot",
           "Juventus"
          ],
          [
           "Manuel Locatelli",
           "Juventus"
          ],
          [
           "Hans Nicolussi Caviglia",
           "Juventus"
          ],
          [
           "Felipe Peña Biafore",
           "Lanús"
          ],
          [
           "Nuke Mfulu",
           "Las Palmas"
          ],
          [
           "Máximo Perrone",
           "Las Palmas"
          ],
          [
           "Fabio",
           "Las Palmas"
          ],
          [
           "Matías Vecino",
           "Lazio"
          ],
          [
           "Danilo Cataldi",
           "Lazio"
          ],
          [
           "Nicolò Rovella",
           "Lazio"
          ],
          [
           "Alexis Blin",
           "Lecce"
          ],
          [
           "Ylber Ramadani",
           "Lecce"
          ],
          [
           "Archie Gray",
           "Leeds"
          ],
          [
           "Ethan Ampadu",
           "Leeds"
          ],
          [
           "Iliya Gruev",
           "Leeds"
          ],
          [
           "Jamie Shackleton",
           "Leeds"
          ],
          [
           "Harry Winks",
           "Leicester"
          ],
          [
           "Ryan Gravenberch",
           "Leicester"
          ],
          [
           "Jakub Piotrowski",
           "Lens"
          ],
          [
           "Nampalys Mendy",
           "Lens"
          ],
          [
           "Salis Abdul Samed",
           "Lens"
          ],
          [
           "Nabil Bentaleb",
           "Lille"
          ],
          [
           "Ignacio Miramón",
           "Lille"
          ],
          [
           "Stefan Bajčetić",
           "Liverpool"
          ],
          [
           "Wataru Endo",
           "Liverpool"
          ],
          [
           "Alexis Mac Allister",
           "Liverpool"
          ],
          [
           "Laurent Abergel",
           "Lorient"
          ],
          [
           "Tiémoué Bakayoko",
           "Lorient"
          ],
          [
           "Marvelous Nakamba",
           "Luton"
          ],
          [
           "Ross Barkley",
           "Luton"
          ],
          [
           "Albert Sambi Lokonga",
           "Luton"
          ],
          [
           "Marcel Rømer",
           "Lyngby"
          ],
          [
           "Corentin Tolisso",
           "Lyon"
          ],
          [
           "Maxence Caqueret",
           "Lyon"
          ],
          [
           "Leandro Barreiro",
           "Mainz 05"
          ],
          [
           "Tom Krauß",
           "Mainz 05"
          ],
          [
           "Edimilson Fernandes",
           "Mainz 05"
          ],
          [
           "Omar Mascarell",
           "Mallorca"
          ],
          [
           "Sergi Darder",
           "Mallorca"
          ],
          [
           "Samú",
           "Mallorca"
          ],
          [
           "Mateo Kovačić",
           "Man City"
          ],
          [
           "Rodri",
           "Man City"
          ],
          [
           "Casemiro",
           "Man Utd"
          ],
          [
           "Kobbie Mainoo",
           "Man Utd"
          ],
          [
           "Sofyan Amrabat",
           "Man Utd"
          ],
          [
           "Danil Glebov",
           "Marseille"
          ],
          [
           "Geoffrey Kondogbia",
           "Marseille"
          ],
          [
           "Kévin N'Doram",
           "Metz"
          ],
          [
           "Yuri Lima",
           "MFC"
          ],
          [
           "Lewis O'Brien",
           "Middlesbrough"
          ],
          [
           "Hayden Hackney",
           "Middlesbrough"
          ],
          [
           "Paddy McNair",
           "Middlesbrough"
          ],
          [
           "Tommaso Pobega",
           "Milan"
          ],
          [
           "Yacine Adli",
           "Milan"
          ],
          [
           "Ismaël Bennacer",
           "Milan"
          ],
          [
           "Casper De Norre",
           "Millwall"
          ],
          [
           "Ryan Leonard",
           "Millwall"
          ],
          [
           "George Saville",
           "Millwall"
          ],
          [
           "Billy Mitchell",
           "Millwall"
          ],
          [
           "Denis Zakaria",
           "Monaco"
          ],
          [
           "Mohamed Camara",
           "Monaco"
          ],
          [
           "Youssouf Fofana",
           "Monaco"
          ],
          [
           "Julian Weigl",
           "Mönchengladbach"
          ],
          [
           "Manu Koné",
           "Mönchengladbach"
          ],
          [
           "Joris Chotard",
           "Montpellier"
          ],
          [
           "Roberto Meraz",
           "Montpellier"
          ],
          [
           "Jordan Ferri",
           "Montpellier"
          ],
          [
           "Roberto Gagliardini",
           "Monza"
          ],
          [
           "Gonçalo Franco",
           "Moreirense"
          ],
          [
           "Mees Hoedemakers",
           "N.E.C. Nijmegen"
          ],
          [
           "Philippe Sandler",
           "N.E.C. Nijmegen"
          ],
          [
           "Douglas Augusto",
           "Nantes"
          ],
          [
           "Pedro Chirivella",
           "Nantes"
          ],
          [
           "Ederson",
           "Napoli"
          ],
          [
           "Stanislav Lobotka",
           "Napoli"
          ],
          [
           "Jens Cajuste",
           "Napoli"
          ],
          [
           "André-Franck Zambo Anguissa",
           "Napoli"
          ],
          [
           "Leander Dendoncker",
           "Napoli"
          ],
          [
           "Sandro Tonali",
           "Newcastle"
          ],
          [
           "Lewis Hall",
           "Newcastle"
          ],
          [
           "Samuel Gustafson",
           "Newcastle"
          ],
          [
           "Sean Longstaff",
           "Newcastle"
          ],
          [
           "Bruno Guimarães",
           "Newcastle"
          ],
          [
           "Rodrigo Fernández",
           "Newell's"
          ],
          [
           "Julián Fernández",
           "Newell's"
          ],
          [
           "Pablo Rosario",
           "Nice"
          ],
          [
           "Khephren Thuram",
           "Nice"
          ],
          [
           "Hicham Boudaoui",
           "Nice"
          ],
          [
           "Youssouf Ndayishimiye",
           "Nice"
          ],
          [
           "Ben Lederman",
           "Nice"
          ],
          [
           "Liam Gibbs",
           "Norwich"
          ],
          [
           "Kenny McLean",
           "Norwich"
          ],
          [
           "Ibrahim Sangaré",
           "Nottm Forest"
          ],
          [
           "Danilo",
           "Nottm Forest"
          ],
          [
           "Nicolás Domínguez",
           "Nottm Forest"
          ],
          [
           "Ryan Yates",
           "Nottm Forest"
          ],
          [
           "Alasana Manneh",
           "OB"
          ],
          [
           "Sven Köhler",
           "OB"
          ],
          [
           "Jon Moncayola",
           "Osasuna"
          ],
          [
           "Iker Muñoz",
           "Osasuna"
          ],
          [
           "Lucas Torró",
           "Osasuna"
          ],
          [
           "Thomas Lam",
           "PEC Zwolle"
          ],
          [
           "Eliano Reijnders",
           "PEC Zwolle"
          ],
          [
           "Zico Buurmeester",
           "PEC Zwolle"
          ],
          [
           "Leonel Picco",
           "Platense"
          ],
          [
           "Iván Gómez",
           "Platense"
          ],
          [
           "Jordan Houghton",
           "Plymouth"
          ],
          [
           "Adam Forshaw",
           "Plymouth"
          ],
          [
           "Adam Randell",
           "Plymouth"
          ],
          [
           "Paulo Estrela",
           "Portimonense"
          ],
          [
           "Alemão",
           "Portimonense"
          ],
          [
           "Ewerton",
           "Portimonense"
          ],
          [
           "Žan Jevšenak",
           "Portimonense"
          ],
          [
           "Lamare Bogarde",
           "Preston"
          ],
          [
           "Ali McCann",
           "Preston"
          ],
          [
           "Ben Whiteman",
           "Preston"
          ],
          [
           "Alan Browne",
           "Preston"
          ],
          [
           "Vitinha",
           "PSG"
          ],
          [
           "Fabián",
           "PSG"
          ],
          [
           "Danilo Pereira",
           "PSG"
          ],
          [
           "Warren Zaïre-Emery",
           "PSG"
          ],
          [
           "Manuel Ugarte",
           "PSG"
          ],
          [
           "Jerdy Schouten",
           "PSV"
          ],
          [
           "Isaac Hayden",
           "QPR"
          ],
          [
           "Sam Field",
           "QPR"
          ],
          [
           "Kenneth Paal",
           "QPR"
          ],
          [
           "Leonel Miranda",
           "Racing Club"
          ],
          [
           "Frederik Lauenborg",
           "Randers FC"
          ],
          [
           "John Björkengren",
           "Randers FC"
          ],
          [
           "Pathé Ciss",
           "Rayo Vallecano"
          ],
          [
           "Óscar Valentín",
           "Rayo Vallecano"
          ],
          [
           "Raul",
           "RB Bragantino"
          ],
          [
           "Matheus Fernandes",
           "RB Bragantino"
          ],
          [
           "Jadsom",
           "RB Bragantino"
          ],
          [
           "Amadou Haïdara",
           "RB Leipzig"
          ],
          [
           "Xaver Schlager",
           "RB Leipzig"
          ],
          [
           "Nicolas Seiwald",
           "RB Leipzig"
          ],
          [
           "Guido Rodríguez",
           "Real Betis"
          ],
          [
           "Sergi Altimira",
           "Real Betis"
          ],
          [
           "Marc Roca",
           "Real Betis"
          ],
          [
           "Eduardo Camavinga",
           "Real Madrid"
          ],
          [
           "Federico Valverde",
           "Real Madrid"
          ],
          [
           "Mikel Merino",
           "Real Sociedad"
          ],
          [
           "Martín Zubimendi",
           "Real Sociedad"
          ],
          [
           "Azor Matusiwa",
           "Rennes"
          ],
          [
           "Baptiste Santamaria",
           "Rennes"
          ],
          [
           "Amine Oudrhiri",
           "Rio Ave"
          ],
          [
           "Mateo Tanlongo",
           "Rio Ave"
          ],
          [
           "Rodrigo Villagra",
           "River"
          ],
          [
           "Matías Kranevitter",
           "River"
          ],
          [
           "Dario Van Den Buijs",
           "RKC Waalwijk"
          ],
          [
           "Deni Hočko",
           "RKC Waalwijk"
          ],
          [
           "Patrick Vroegh",
           "RKC Waalwijk"
          ],
          [
           "Bryan Cristante",
           "Roma"
          ],
          [
           "Renato Sanches",
           "Roma"
          ],
          [
           "Leandro Paredes",
           "Roma"
          ],
          [
           "Edoardo Bove",
           "Roma"
          ],
          [
           "Manuel Insaurralde",
           "Rosario Central"
          ],
          [
           "Kevin Ortiz",
           "Rosario Central"
          ],
          [
           "Andy Rinomhota",
           "Rotherham"
          ],
          [
           "Christ Tiéhi",
           "Rotherham"
          ],
          [
           "Oliver Rathbone",
           "Rotherham"
          ],
          [
           "Giulio Maggiore",
           "Salernitana"
          ],
          [
           "Lassana Coulibaly",
           "Salernitana"
          ],
          [
           "Mateusz Łęgowski",
           "Salernitana"
          ],
          [
           "Eric Remedi",
           "San Lorenzo"
          ],
          [
           "Francisco Perruzzi",
           "San Lorenzo"
          ],
          [
           "Elián Irala",
           "San Lorenzo"
          ],
          [
           "Gustavo Abregú",
           "San Martín (Tucumán)"
          ],
          [
           "Daniel Boloca",
           "Sassuolo"
          ],
          [
           "Pedro Obiang",
           "Sassuolo"
          ],
          [
           "Yannik Keitel",
           "SC Freiburg"
          ],
          [
           "Maximilian Eggestein",
           "SC Freiburg"
          ],
          [
           "Syb van Ottele",
           "sc Heerenveen"
          ],
          [
           "Oliver Johansen Braude",
           "sc Heerenveen"
          ],
          [
           "Zé Rafael",
           "SEP"
          ],
          [
           "Aníbal Moreno",
           "SEP"
          ],
          [
           "Gabriel Menino",
           "SEP"
          ],
          [
           "Djibril Sow",
           "Sevilla"
          ],
          [
           "Nemanja Gudelj",
           "Sevilla"
          ],
          [
           "Boubakary Soumaré",
           "Sevilla"
          ],
          [
           "Gustavo Hamer",
           "Sheff Utd"
          ],
          [
           "Tom Davies",
           "Sheff Utd"
          ],
          [
           "Mohamed Diaby",
           "Sheffield Wednesday"
          ],
          [
           "Will Vaulks",
           "Sheffield Wednesday"
          ],
          [
           "Liam Palmer",
           "Sheffield Wednesday"
          ],
          [
           "Nnamdi Ofoborh",
           "Sheffield Wednesday"
          ],
          [
           "Jack Price",
           "Sheffield Wednesday"
          ],
          [
           "Dominik Furman",
           "Silkeborg IF"
          ],
          [
           "Florentino Luís",
           "SL Benfica"
          ],
          [
           "Fredrik Aursnes",
           "SL Benfica"
          ],
          [
           "Shea Charles",
           "Southampton"
          ],
          [
           "Flynn Downes",
           "Southampton"
          ],
          [
           "Vitor Carvalho",
           "Sp. Braga"
          ],
          [
           "Rodrigo Zalazar",
           "Sp. Braga"
          ],
          [
           "Cláudio Falcão",
           "Sp. Farense"
          ],
          [
           "Django Warmerdam",
           "Sparta Rotterdam"
          ],
          [
           "Joshua Kitolano",
           "Sparta Rotterdam"
          ],
          [
           "Arno Verschueren",
           "Sparta Rotterdam"
          ],
          [
           "Diego Costa",
           "SPO"
          ],
          [
           "Luan",
           "SPO"
          ],
          [
           "Pablo Maia",
           "SPO"
          ],
          [
           "José Gragera",
           "Sporting CP"
          ],
          [
           "Hidemasa Morita",
           "Sporting CP"
          ],
          [
           "Daniel Bragança",
           "Sporting CP"
          ],
          [
           "Morten Hjulmand",
           "Sporting CP"
          ],
          [
           "Felipe",
           "SPT"
          ],
          [
           "Fábio Matheus",
           "SPT"
          ],
          [
           "Amir Richardson",
           "Stade Reims"
          ],
          [
           "Wouter Burger",
           "Stoke"
          ],
          [
           "Josh Laurent",
           "Stoke"
          ],
          [
           "Ben Pearson",
           "Stoke"
          ],
          [
           "Ibrahima Sissoko",
           "Strasbourg"
          ],
          [
           "Jean-Eudes Aholou",
           "Strasbourg"
          ],
          [
           "Sanjin Prcić",
           "Strasbourg"
          ],
          [
           "Dan Neil",
           "Sunderland"
          ],
          [
           "Pierre Ekwah",
           "Sunderland"
          ],
          [
           "Senne Lynen",
           "SV Werder"
          ],
          [
           "Matt Grimes",
           "Swansea"
          ],
          [
           "Jay Fulton",
           "Swansea"
          ],
          [
           "Juan Carlos Portillo",
           "Talleres"
          ],
          [
           "Mateo Seoane",
           "Talleres"
          ],
          [
           "Agustín Cardozo",
           "Tigre"
          ],
          [
           "Samuele Ricci",
           "Torino"
          ],
          [
           "Karol Linetty",
           "Torino"
          ],
          [
           "Yves Bissouma",
           "Tottenham"
          ],
          [
           "Rodrigo Bentancur",
           "Tottenham"
          ],
          [
           "Pape Matar Sarr",
           "Tottenham"
          ],
          [
           "Stijn Spierings",
           "Toulouse"
          ],
          [
           "Vincent Sierro",
           "Toulouse"
          ],
          [
           "Grischa Prömel",
           "TSG Hoffenheim"
          ],
          [
           "Anton Stach",
           "TSG Hoffenheim"
          ],
          [
           "Florian Grillitsch",
           "TSG Hoffenheim"
          ],
          [
           "Walace",
           "Udinese"
          ],
          [
           "Patricio Tanda",
           "Unión (SF)"
          ],
          [
           "Joaquín Mosqueira",
           "Unión (SF)"
          ],
          [
           "Rani Khedira",
           "Union Berlin"
          ],
          [
           "Alex Král",
           "Union Berlin"
          ],
          [
           "Lucas Tousart",
           "Union Berlin"
          ],
          [
           "Hugo Guillamón",
           "Valencia"
          ],
          [
           "Pepelu",
           "Valencia"
          ],
          [
           "Azer Bušuladžić",
           "Vejle"
          ],
          [
           "Saeid Ezatolahi",
           "Vejle"
          ],
          [
           "Juan Ignacio Méndez",
           "Vélez"
          ],
          [
           "Santiago Cáseres",
           "Vélez"
          ],
          [
           "Angelo Stiller",
           "VfB Stuttgart"
          ],
          [
           "Atakan Karazor",
           "VfB Stuttgart"
          ],
          [
           "Kevin Stöger",
           "VfL Bochum"
          ],
          [
           "Mattias Svanberg",
           "VfL Wolfsburg"
          ],
          [
           "Maximilian Arnold",
           "VfL Wolfsburg"
          ],
          [
           "Berkan Kutlu",
           "Vit. Guimarães"
          ],
          [
           "Tomás Händel",
           "Vit. Guimarães"
          ],
          [
           "Anuar",
           "Vit. Guimarães"
          ],
          [
           "Zé Carlos",
           "Vit. Guimarães"
          ],
          [
           "Toni Domgjoni",
           "Vitesse"
          ],
          [
           "Melle Meulensteen",
           "Vitesse"
          ],
          [
           "Jota",
           "Vizela"
          ],
          [
           "Houssem Mrezigue",
           "Vizela"
          ],
          [
           "Ismaël Koné",
           "Watford"
          ],
          [
           "Alex Mowatt",
           "West Brom"
          ],
          [
           "Okay Yokuşlu",
           "West Brom"
          ],
          [
           "Edson Álvarez",
           "West Ham"
          ],
          [
           "Kalvin Phillips",
           "West Ham"
          ],
          [
           "Mario Lemina",
           "Wolves"
          ],
          [
           "André Ramalho",
           "Wolves"
          ],
          [
           "João Gomes",
           "Wolves"
          ],
          [
           "Tommy Doyle",
           "Wolves"
          ],
          [
           "Alfred Duncan",
           "Wolves"
          ]
         ],
         "hovertemplate": "<b>%{customdata[0]}</b><br><b>%{customdata[1]}</b><br><br>passes_attempted/90: %{x}<br>progressive_pass_rate: %{y}<br>pass_completion_%: %{marker.color}<extra></extra>",
         "legendgroup": "",
         "marker": {
          "color": {
           "bdata": "WVlaV1dWVlhYW1pVVldaWV5bWVZZWFpaWVtaW1lXWllbWVpcW1ldW11aW1tYW1xZW1lcWFldVFtbWFdWV1dVVlxbXVtbWl1aV1taWVZUU1NYWlxWWFdYWFtaWltXXFleWVlUWVpXVVpXW1haWFxaWlpbWVxcW1pVWFhZWldcW1pZXVhaWldXWlpbW1taWFhaW1tUV1hdXFdaWldUVVpbWFpXVFVQV1dXW1pZWFZbWFpZWldZXllZWlhaWVpbWFpcXV1bWlVXWVZZWFlZWlpZWlhZWVdcWFhbXFdZWVpZV1ZWX1xZWFdaWVZYV1xaUldbWllaWlpZW1lZXVxcWVlcWVhZWlpaWV5aXFlaXFtbV1tbWVNaWFlbWVdaWlhXXFtaWVtcW1pYV1hZWlpbWlpZWVxcW1laVldZXVtYXlhaV1hZWFlYV1xZWVlbXFVaXVVXVVpYW1ZaWlhaWVpZWVhZWVhbWlxaWVhaWFtZV11aXF1YXFtXWVpXWV1aXltbW11aW1hbW11VWltdW1xbWldcXFxbW1hZV1dbW1pcX1paWlxaWl9dWVpYWVhYWFZZWlpXWVlZWltbWldTVFhXXlxaXFxbXFdbV1NXWVpYWVlXWltbWVpcWVlXWFhZWFlXWlZZWFdYWFlXWVdZWVhZVlhbWldVW1xbXFpZVlldWlldV1ha",
           "dtype": "i1"
          },
          "coloraxis": "coloraxis",
          "size": 10,
          "symbol": "circle"
         },
         "mode": "markers",
         "name": "",
         "orientation": "v",
         "showlegend": false,
         "textfont": {
          "size": 10
         },
         "textposition": "top center",
         "type": "scatter",
         "x": {
          "bdata": "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",
          "dtype": "f8"
         },
         "xaxis": "x",
         "y": {
          "bdata": "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",
          "dtype": "f8"
         },
         "yaxis": "y"
        }
       ],
       "layout": {
        "coloraxis": {
         "colorbar": {
          "title": {
           "text": "pass_completion_%"
          }
         },
         "colorscale": [
          [
           0,
           "rgb(165,0,38)"
          ],
          [
           0.1,
           "rgb(215,48,39)"
          ],
          [
           0.2,
           "rgb(244,109,67)"
          ],
          [
           0.3,
           "rgb(253,174,97)"
          ],
          [
           0.4,
           "rgb(254,224,139)"
          ],
          [
           0.5,
           "rgb(255,255,191)"
          ],
          [
           0.6,
           "rgb(217,239,139)"
          ],
          [
           0.7,
           "rgb(166,217,106)"
          ],
          [
           0.8,
           "rgb(102,189,99)"
          ],
          [
           0.9,
           "rgb(26,152,80)"
          ],
          [
           1,
           "rgb(0,104,55)"
          ]
         ],
         "showscale": false
        },
        "height": 700,
        "legend": {
         "tracegroupgap": 0
        },
        "paper_bgcolor": "darkgray",
        "plot_bgcolor": "darkgray",
        "template": {
         "data": {
          "bar": [
           {
            "error_x": {
             "color": "#2a3f5f"
            },
            "error_y": {
             "color": "#2a3f5f"
            },
            "marker": {
             "line": {
              "color": "#E5ECF6",
              "width": 0.5
             },
             "pattern": {
              "fillmode": "overlay",
              "size": 10,
              "solidity": 0.2
             }
            },
            "type": "bar"
           }
          ],
          "barpolar": [
           {
            "marker": {
             "line": {
              "color": "#E5ECF6",
              "width": 0.5
             },
             "pattern": {
              "fillmode": "overlay",
              "size": 10,
              "solidity": 0.2
             }
            },
            "type": "barpolar"
           }
          ],
          "carpet": [
           {
            "aaxis": {
             "endlinecolor": "#2a3f5f",
             "gridcolor": "white",
             "linecolor": "white",
             "minorgridcolor": "white",
             "startlinecolor": "#2a3f5f"
            },
            "baxis": {
             "endlinecolor": "#2a3f5f",
             "gridcolor": "white",
             "linecolor": "white",
             "minorgridcolor": "white",
             "startlinecolor": "#2a3f5f"
            },
            "type": "carpet"
           }
          ],
          "choropleth": [
           {
            "colorbar": {
             "outlinewidth": 0,
             "ticks": ""
            },
            "type": "choropleth"
           }
          ],
          "contour": [
           {
            "colorbar": {
             "outlinewidth": 0,
             "ticks": ""
            },
            "colorscale": [
             [
              0,
              "#0d0887"
             ],
             [
              0.1111111111111111,
              "#46039f"
             ],
             [
              0.2222222222222222,
              "#7201a8"
             ],
             [
              0.3333333333333333,
              "#9c179e"
             ],
             [
              0.4444444444444444,
              "#bd3786"
             ],
             [
              0.5555555555555556,
              "#d8576b"
             ],
             [
              0.6666666666666666,
              "#ed7953"
             ],
             [
              0.7777777777777778,
              "#fb9f3a"
             ],
             [
              0.8888888888888888,
              "#fdca26"
             ],
             [
              1,
              "#f0f921"
             ]
            ],
            "type": "contour"
           }
          ],
          "contourcarpet": [
           {
            "colorbar": {
             "outlinewidth": 0,
             "ticks": ""
            },
            "type": "contourcarpet"
           }
          ],
          "heatmap": [
           {
            "colorbar": {
             "outlinewidth": 0,
             "ticks": ""
            },
            "colorscale": [
             [
              0,
              "#0d0887"
             ],
             [
              0.1111111111111111,
              "#46039f"
             ],
             [
              0.2222222222222222,
              "#7201a8"
             ],
             [
              0.3333333333333333,
              "#9c179e"
             ],
             [
              0.4444444444444444,
              "#bd3786"
             ],
             [
              0.5555555555555556,
              "#d8576b"
             ],
             [
              0.6666666666666666,
              "#ed7953"
             ],
             [
              0.7777777777777778,
              "#fb9f3a"
             ],
             [
              0.8888888888888888,
              "#fdca26"
             ],
             [
              1,
              "#f0f921"
             ]
            ],
            "type": "heatmap"
           }
          ],
          "histogram": [
           {
            "marker": {
             "pattern": {
              "fillmode": "overlay",
              "size": 10,
              "solidity": 0.2
             }
            },
            "type": "histogram"
           }
          ],
          "histogram2d": [
           {
            "colorbar": {
             "outlinewidth": 0,
             "ticks": ""
            },
            "colorscale": [
             [
              0,
              "#0d0887"
             ],
             [
              0.1111111111111111,
              "#46039f"
             ],
             [
              0.2222222222222222,
              "#7201a8"
             ],
             [
              0.3333333333333333,
              "#9c179e"
             ],
             [
              0.4444444444444444,
              "#bd3786"
             ],
             [
              0.5555555555555556,
              "#d8576b"
             ],
             [
              0.6666666666666666,
              "#ed7953"
             ],
             [
              0.7777777777777778,
              "#fb9f3a"
             ],
             [
              0.8888888888888888,
              "#fdca26"
             ],
             [
              1,
              "#f0f921"
             ]
            ],
            "type": "histogram2d"
           }
          ],
          "histogram2dcontour": [
           {
            "colorbar": {
             "outlinewidth": 0,
             "ticks": ""
            },
            "colorscale": [
             [
              0,
              "#0d0887"
             ],
             [
              0.1111111111111111,
              "#46039f"
             ],
             [
              0.2222222222222222,
              "#7201a8"
             ],
             [
              0.3333333333333333,
              "#9c179e"
             ],
             [
              0.4444444444444444,
              "#bd3786"
             ],
             [
              0.5555555555555556,
              "#d8576b"
             ],
             [
              0.6666666666666666,
              "#ed7953"
             ],
             [
              0.7777777777777778,
              "#fb9f3a"
             ],
             [
              0.8888888888888888,
              "#fdca26"
             ],
             [
              1,
              "#f0f921"
             ]
            ],
            "type": "histogram2dcontour"
           }
          ],
          "mesh3d": [
           {
            "colorbar": {
             "outlinewidth": 0,
             "ticks": ""
            },
            "type": "mesh3d"
           }
          ],
          "parcoords": [
           {
            "line": {
             "colorbar": {
              "outlinewidth": 0,
              "ticks": ""
             }
            },
            "type": "parcoords"
           }
          ],
          "pie": [
           {
            "automargin": true,
            "type": "pie"
           }
          ],
          "scatter": [
           {
            "fillpattern": {
             "fillmode": "overlay",
             "size": 10,
             "solidity": 0.2
            },
            "type": "scatter"
           }
          ],
          "scatter3d": [
           {
            "line": {
             "colorbar": {
              "outlinewidth": 0,
              "ticks": ""
             }
            },
            "marker": {
             "colorbar": {
              "outlinewidth": 0,
              "ticks": ""
             }
            },
            "type": "scatter3d"
           }
          ],
          "scattercarpet": [
           {
            "marker": {
             "colorbar": {
              "outlinewidth": 0,
              "ticks": ""
             }
            },
            "type": "scattercarpet"
           }
          ],
          "scattergeo": [
           {
            "marker": {
             "colorbar": {
              "outlinewidth": 0,
              "ticks": ""
             }
            },
            "type": "scattergeo"
           }
          ],
          "scattergl": [
           {
            "marker": {
             "colorbar": {
              "outlinewidth": 0,
              "ticks": ""
             }
            },
            "type": "scattergl"
           }
          ],
          "scattermap": [
           {
            "marker": {
             "colorbar": {
              "outlinewidth": 0,
              "ticks": ""
             }
            },
            "type": "scattermap"
           }
          ],
          "scattermapbox": [
           {
            "marker": {
             "colorbar": {
              "outlinewidth": 0,
              "ticks": ""
             }
            },
            "type": "scattermapbox"
           }
          ],
          "scatterpolar": [
           {
            "marker": {
             "colorbar": {
              "outlinewidth": 0,
              "ticks": ""
             }
            },
            "type": "scatterpolar"
           }
          ],
          "scatterpolargl": [
           {
            "marker": {
             "colorbar": {
              "outlinewidth": 0,
              "ticks": ""
             }
            },
            "type": "scatterpolargl"
           }
          ],
          "scatterternary": [
           {
            "marker": {
             "colorbar": {
              "outlinewidth": 0,
              "ticks": ""
             }
            },
            "type": "scatterternary"
           }
          ],
          "surface": [
           {
            "colorbar": {
             "outlinewidth": 0,
             "ticks": ""
            },
            "colorscale": [
             [
              0,
              "#0d0887"
             ],
             [
              0.1111111111111111,
              "#46039f"
             ],
             [
              0.2222222222222222,
              "#7201a8"
             ],
             [
              0.3333333333333333,
              "#9c179e"
             ],
             [
              0.4444444444444444,
              "#bd3786"
             ],
             [
              0.5555555555555556,
              "#d8576b"
             ],
             [
              0.6666666666666666,
              "#ed7953"
             ],
             [
              0.7777777777777778,
              "#fb9f3a"
             ],
             [
              0.8888888888888888,
              "#fdca26"
             ],
             [
              1,
              "#f0f921"
             ]
            ],
            "type": "surface"
           }
          ],
          "table": [
           {
            "cells": {
             "fill": {
              "color": "#EBF0F8"
             },
             "line": {
              "color": "white"
             }
            },
            "header": {
             "fill": {
              "color": "#C8D4E3"
             },
             "line": {
              "color": "white"
             }
            },
            "type": "table"
           }
          ]
         },
         "layout": {
          "annotationdefaults": {
           "arrowcolor": "#2a3f5f",
           "arrowhead": 0,
           "arrowwidth": 1
          },
          "autotypenumbers": "strict",
          "coloraxis": {
           "colorbar": {
            "outlinewidth": 0,
            "ticks": ""
           }
          },
          "colorscale": {
           "diverging": [
            [
             0,
             "#8e0152"
            ],
            [
             0.1,
             "#c51b7d"
            ],
            [
             0.2,
             "#de77ae"
            ],
            [
             0.3,
             "#f1b6da"
            ],
            [
             0.4,
             "#fde0ef"
            ],
            [
             0.5,
             "#f7f7f7"
            ],
            [
             0.6,
             "#e6f5d0"
            ],
            [
             0.7,
             "#b8e186"
            ],
            [
             0.8,
             "#7fbc41"
            ],
            [
             0.9,
             "#4d9221"
            ],
            [
             1,
             "#276419"
            ]
           ],
           "sequential": [
            [
             0,
             "#0d0887"
            ],
            [
             0.1111111111111111,
             "#46039f"
            ],
            [
             0.2222222222222222,
             "#7201a8"
            ],
            [
             0.3333333333333333,
             "#9c179e"
            ],
            [
             0.4444444444444444,
             "#bd3786"
            ],
            [
             0.5555555555555556,
             "#d8576b"
            ],
            [
             0.6666666666666666,
             "#ed7953"
            ],
            [
             0.7777777777777778,
             "#fb9f3a"
            ],
            [
             0.8888888888888888,
             "#fdca26"
            ],
            [
             1,
             "#f0f921"
            ]
           ],
           "sequentialminus": [
            [
             0,
             "#0d0887"
            ],
            [
             0.1111111111111111,
             "#46039f"
            ],
            [
             0.2222222222222222,
             "#7201a8"
            ],
            [
             0.3333333333333333,
             "#9c179e"
            ],
            [
             0.4444444444444444,
             "#bd3786"
            ],
            [
             0.5555555555555556,
             "#d8576b"
            ],
            [
             0.6666666666666666,
             "#ed7953"
            ],
            [
             0.7777777777777778,
             "#fb9f3a"
            ],
            [
             0.8888888888888888,
             "#fdca26"
            ],
            [
             1,
             "#f0f921"
            ]
           ]
          },
          "colorway": [
           "#636efa",
           "#EF553B",
           "#00cc96",
           "#ab63fa",
           "#FFA15A",
           "#19d3f3",
           "#FF6692",
           "#B6E880",
           "#FF97FF",
           "#FECB52"
          ],
          "font": {
           "color": "#2a3f5f"
          },
          "geo": {
           "bgcolor": "white",
           "lakecolor": "white",
           "landcolor": "#E5ECF6",
           "showlakes": true,
           "showland": true,
           "subunitcolor": "white"
          },
          "hoverlabel": {
           "align": "left"
          },
          "hovermode": "closest",
          "mapbox": {
           "style": "light"
          },
          "paper_bgcolor": "white",
          "plot_bgcolor": "#E5ECF6",
          "polar": {
           "angularaxis": {
            "gridcolor": "white",
            "linecolor": "white",
            "ticks": ""
           },
           "bgcolor": "#E5ECF6",
           "radialaxis": {
            "gridcolor": "white",
            "linecolor": "white",
            "ticks": ""
           }
          },
          "scene": {
           "xaxis": {
            "backgroundcolor": "#E5ECF6",
            "gridcolor": "white",
            "gridwidth": 2,
            "linecolor": "white",
            "showbackground": true,
            "ticks": "",
            "zerolinecolor": "white"
           },
           "yaxis": {
            "backgroundcolor": "#E5ECF6",
            "gridcolor": "white",
            "gridwidth": 2,
            "linecolor": "white",
            "showbackground": true,
            "ticks": "",
            "zerolinecolor": "white"
           },
           "zaxis": {
            "backgroundcolor": "#E5ECF6",
            "gridcolor": "white",
            "gridwidth": 2,
            "linecolor": "white",
            "showbackground": true,
            "ticks": "",
            "zerolinecolor": "white"
           }
          },
          "shapedefaults": {
           "line": {
            "color": "#2a3f5f"
           }
          },
          "ternary": {
           "aaxis": {
            "gridcolor": "white",
            "linecolor": "white",
            "ticks": ""
           },
           "baxis": {
            "gridcolor": "white",
            "linecolor": "white",
            "ticks": ""
           },
           "bgcolor": "#E5ECF6",
           "caxis": {
            "gridcolor": "white",
            "linecolor": "white",
            "ticks": ""
           }
          },
          "title": {
           "x": 0.05
          },
          "xaxis": {
           "automargin": true,
           "gridcolor": "white",
           "linecolor": "white",
           "ticks": "",
           "title": {
            "standoff": 15
           },
           "zerolinecolor": "white",
           "zerolinewidth": 2
          },
          "yaxis": {
           "automargin": true,
           "gridcolor": "white",
           "linecolor": "white",
           "ticks": "",
           "title": {
            "standoff": 15
           },
           "zerolinecolor": "white",
           "zerolinewidth": 2
          }
         }
        },
        "title": {
         "text": "Passing quality ( 513)",
         "x": 0.5,
         "xanchor": "center"
        },
        "width": 1200,
        "xaxis": {
         "anchor": "y",
         "domain": [
          0,
          1
         ],
         "gridcolor": "white",
         "showgrid": true,
         "title": {
          "text": "passes_attempted/90"
         },
         "zeroline": false
        },
        "yaxis": {
         "anchor": "x",
         "domain": [
          0,
          1
         ],
         "gridcolor": "white",
         "showgrid": true,
         "title": {
          "text": "progressive_pass_rate"
         },
         "zeroline": false
        }
       }
      }
     },
     "metadata": {},
     "output_type": "display_data"
    }
   ],
   "source": [
    "# Initialize list of targets\n",
    "targets = df_players['id']\n",
    "\n",
    "scatter_plot(df_players,\n",
    "             x_metric='passes_attempted/90', \n",
    "             y_metric='progressive_pass_rate',\n",
    "             z_metric='pass_completion_%',\n",
    "             title='Passing quality', \n",
    "             show_name_label=False\n",
    ")"
   ]
  },
  {
   "cell_type": "code",
   "execution_count": 31,
   "id": "a312cf0a",
   "metadata": {},
   "outputs": [
    {
     "data": {
      "application/vnd.plotly.v1+json": {
       "config": {
        "plotlyServerURL": "https://plot.ly"
       },
       "data": [
        {
         "customdata": [
          [
           "Julius Beck",
           "AGF"
          ],
          [
           "Michael Akoto",
           "AGF"
          ],
          [
           "Sivert Mannsverk",
           "Ajax"
          ],
          [
           "Kenneth Taylor",
           "Ajax"
          ],
          [
           "Jochem Ritmeester van de Kamp",
           "Almere City"
          ],
          [
           "Peer Koopmeiners",
           "Almere City"
          ],
          [
           "Eboué Kouassi",
           "Arouca"
          ],
          [
           "Declan Rice",
           "Arsenal"
          ],
          [
           "Boubacar Kamara",
           "Aston Villa"
          ],
          [
           "Douglas Luiz",
           "Aston Villa"
          ],
          [
           "Teun Koopmeiners",
           "Atalanta"
          ],
          [
           "Michel Ndary Adopo",
           "Atalanta"
          ],
          [
           "Rhaldney",
           "ATG"
          ],
          [
           "Baralhas",
           "ATG"
          ],
          [
           "Beñat Prados",
           "Athletic"
          ],
          [
           "Erick",
           "Athlético Paranaense"
          ],
          [
           "Elvis Rexhbecaj",
           "Augsburg"
          ],
          [
           "Kristijan Belić",
           "AZ"
          ],
          [
           "Tiago Dantas",
           "AZ"
          ],
          [
           "Jean Lucas",
           "BAH"
          ],
          [
           "Nicolás Acevedo",
           "BAH"
          ],
          [
           "Caio Alexandre",
           "BAH"
          ],
          [
           "Rodrigo Herrera",
           "Barracas Central"
          ],
          [
           "Exequiel Palacios",
           "Bayer 04"
          ],
          [
           "Santiago Longo",
           "Belgrano"
          ],
          [
           "John Buckley",
           "Blackburn"
          ],
          [
           "Jake Garrett",
           "Blackburn"
          ],
          [
           "Nicolás Garayalde",
           "Boca"
          ],
          [
           "Ladislav Krejčí",
           "Bologna"
          ],
          [
           "Salih Özcan",
           "Borussia Dortmund"
          ],
          [
           "Cacá",
           "BOT"
          ],
          [
           "Patrick de Paula",
           "BOT"
          ],
          [
           "Kristoffer Ajer",
           "Brentford"
          ],
          [
           "Billy Gilmour",
           "Brighton"
          ],
          [
           "Carlos Baleba",
           "Brighton"
          ],
          [
           "Ryan Wintle",
           "Cardiff"
          ],
          [
           "Márton Dárdai",
           "Celta"
          ],
          [
           "Manuel García",
           "Central Córdoba (SdE)"
          ],
          [
           "Enzo Fernández",
           "Chelsea"
          ],
          [
           "Moisés Caicedo",
           "Chelsea"
          ],
          [
           "Roméo Lavia",
           "Chelsea"
          ],
          [
           "Fausto Vera",
           "COR"
          ],
          [
           "Gabriel Moscardo",
           "COR"
          ],
          [
           "Keidi Bare",
           "Coventry"
          ],
          [
           "Joel Latibeaudiere",
           "Coventry"
          ],
          [
           "Ben Sheaf",
           "Coventry"
          ],
          [
           "Oliver Arblaster",
           "Coventry"
          ],
          [
           "Cheick Doucouré",
           "Crystal Palace"
          ],
          [
           "Adam Wharton",
           "Crystal Palace"
          ],
          [
           "Andrey",
           "CTB"
          ],
          [
           "Bruno Gomes",
           "CTB"
          ],
          [
           "Guilherme Madruga",
           "CUI"
          ],
          [
           "Niklas Dorsch",
           "Eintracht Frankfurt"
          ],
          [
           "Hugo Larsson",
           "Eintracht Frankfurt"
          ],
          [
           "Luca Belardinelli",
           "Empoli"
          ],
          [
           "Veldin Hodža",
           "Empoli"
          ],
          [
           "Jordan Holsgrove",
           "Estoril Praia"
          ],
          [
           "Mor Ndiaye",
           "Estoril Praia"
          ],
          [
           "Julian Baas",
           "Excelsior"
          ],
          [
           "Siebe Horemans",
           "Excelsior"
          ],
          [
           "Mirko Topić",
           "Famalicão"
          ],
          [
           "Tom Lacoux",
           "Famalicão"
          ],
          [
           "William Clem",
           "FC København"
          ],
          [
           "Hugo Moura",
           "FC København"
          ],
          [
           "Dejan Ljubičić",
           "FC Köln"
          ],
          [
           "Eric Martel",
           "FC Köln"
          ],
          [
           "Oliver Sørensen",
           "FC Midtjylland"
          ],
          [
           "Armin Gigović",
           "FC Midtjylland"
          ],
          [
           "Alan Varela",
           "FC Porto"
          ],
          [
           "Ezequiel Fernández",
           "FC Porto"
          ],
          [
           "Nico González",
           "FC Porto"
          ],
          [
           "Michal Sadílek",
           "FC Twente"
          ],
          [
           "Youri Regeer",
           "FC Twente"
          ],
          [
           "Mathias Kjølø",
           "FC Twente"
          ],
          [
           "Ryan Flamingo",
           "FC Utrecht"
          ],
          [
           "Calvin Twigt",
           "FC Volendam"
          ],
          [
           "Quinten Timber",
           "Feyenoord"
          ],
          [
           "Thomas Beelen",
           "Feyenoord"
          ],
          [
           "Ramiz Zerrouki",
           "Feyenoord"
          ],
          [
           "Mats Wieffer",
           "Feyenoord"
          ],
          [
           "Lutsharel Geertruida",
           "Feyenoord"
          ],
          [
           "Maxime Lopez",
           "Fiorentina"
          ],
          [
           "Gaïus Makouta",
           "Fiorentina"
          ],
          [
           "Rolando Mandragora",
           "Fiorentina"
          ],
          [
           "Matheus Henrique",
           "FLA"
          ],
          [
           "Martinelli",
           "FLU"
          ],
          [
           "Alexsander",
           "FLU"
          ],
          [
           "André",
           "FLU"
          ],
          [
           "Loreintz Rosier",
           "Fortuna Sittard"
          ],
          [
           "Enzo Barrenechea",
           "Frosinone"
          ],
          [
           "Jesús Castillo",
           "Gil Vicente"
          ],
          [
           "Mory Gbané",
           "Gil Vicente"
          ],
          [
           "Felipe Silva",
           "Gil Vicente"
          ],
          [
           "Rodrigo Saravia",
           "Gimnasia (LP)"
          ],
          [
           "Aleix García",
           "Girona"
          ],
          [
           "Evert Linthorst",
           "Go Ahead Eagles"
          ],
          [
           "Vicente Poggi",
           "Godoy Cruz"
          ],
          [
           "Bruno Leyes",
           "Godoy Cruz"
          ],
          [
           "Juninho",
           "GOI"
          ],
          [
           "Martin Hongla",
           "Granada"
          ],
          [
           "Oussama Targhalline",
           "Havre AC"
          ],
          [
           "Sem Scheperman",
           "Heracles Almelo"
          ],
          [
           "Brian De Keersmaecker",
           "Heracles Almelo"
          ],
          [
           "David Kasumu",
           "Huddersfield"
          ],
          [
           "Ryan Trevitt",
           "Huddersfield"
          ],
          [
           "Regan Slater",
           "Hull"
          ],
          [
           "Tyler Morton",
           "Hull"
          ],
          [
           "Francisco Maidana",
           "Independiente Rivadavia"
          ],
          [
           "Stefano Moreyra",
           "Instituto"
          ],
          [
           "Kristjan Asllani",
           "Inter"
          ],
          [
           "Cameron Humphreys",
           "Ipswich"
          ],
          [
           "Manuel Locatelli",
           "Juventus"
          ],
          [
           "Hans Nicolussi Caviglia",
           "Juventus"
          ],
          [
           "Felipe Peña Biafore",
           "Lanús"
          ],
          [
           "Máximo Perrone",
           "Las Palmas"
          ],
          [
           "Nicolò Rovella",
           "Lazio"
          ],
          [
           "Archie Gray",
           "Leeds"
          ],
          [
           "Ethan Ampadu",
           "Leeds"
          ],
          [
           "Iliya Gruev",
           "Leeds"
          ],
          [
           "Jamie Shackleton",
           "Leeds"
          ],
          [
           "Ryan Gravenberch",
           "Leicester"
          ],
          [
           "Jakub Piotrowski",
           "Lens"
          ],
          [
           "Salis Abdul Samed",
           "Lens"
          ],
          [
           "Ignacio Miramón",
           "Lille"
          ],
          [
           "Stefan Bajčetić",
           "Liverpool"
          ],
          [
           "Alexis Mac Allister",
           "Liverpool"
          ],
          [
           "Albert Sambi Lokonga",
           "Luton"
          ],
          [
           "Tom Krauß",
           "Mainz 05"
          ],
          [
           "Samú",
           "Mallorca"
          ],
          [
           "Kobbie Mainoo",
           "Man Utd"
          ],
          [
           "Danil Glebov",
           "Marseille"
          ],
          [
           "Lewis O'Brien",
           "Middlesbrough"
          ],
          [
           "Hayden Hackney",
           "Middlesbrough"
          ],
          [
           "Tommaso Pobega",
           "Milan"
          ],
          [
           "Yacine Adli",
           "Milan"
          ],
          [
           "Ismaël Bennacer",
           "Milan"
          ],
          [
           "Billy Mitchell",
           "Millwall"
          ],
          [
           "Mohamed Camara",
           "Monaco"
          ],
          [
           "Youssouf Fofana",
           "Monaco"
          ],
          [
           "Manu Koné",
           "Mönchengladbach"
          ],
          [
           "Joris Chotard",
           "Montpellier"
          ],
          [
           "Gonçalo Franco",
           "Moreirense"
          ],
          [
           "Mees Hoedemakers",
           "N.E.C. Nijmegen"
          ],
          [
           "Jens Cajuste",
           "Napoli"
          ],
          [
           "Sandro Tonali",
           "Newcastle"
          ],
          [
           "Lewis Hall",
           "Newcastle"
          ],
          [
           "Sean Longstaff",
           "Newcastle"
          ],
          [
           "Bruno Guimarães",
           "Newcastle"
          ],
          [
           "Khephren Thuram",
           "Nice"
          ],
          [
           "Hicham Boudaoui",
           "Nice"
          ],
          [
           "Youssouf Ndayishimiye",
           "Nice"
          ],
          [
           "Ben Lederman",
           "Nice"
          ],
          [
           "Liam Gibbs",
           "Norwich"
          ],
          [
           "Ibrahim Sangaré",
           "Nottm Forest"
          ],
          [
           "Danilo",
           "Nottm Forest"
          ],
          [
           "Nicolás Domínguez",
           "Nottm Forest"
          ],
          [
           "Ryan Yates",
           "Nottm Forest"
          ],
          [
           "Alasana Manneh",
           "OB"
          ],
          [
           "Jon Moncayola",
           "Osasuna"
          ],
          [
           "Iker Muñoz",
           "Osasuna"
          ],
          [
           "Eliano Reijnders",
           "PEC Zwolle"
          ],
          [
           "Zico Buurmeester",
           "PEC Zwolle"
          ],
          [
           "Leonel Picco",
           "Platense"
          ],
          [
           "Adam Randell",
           "Plymouth"
          ],
          [
           "Paulo Estrela",
           "Portimonense"
          ],
          [
           "Žan Jevšenak",
           "Portimonense"
          ],
          [
           "Lamare Bogarde",
           "Preston"
          ],
          [
           "Ali McCann",
           "Preston"
          ],
          [
           "Vitinha",
           "PSG"
          ],
          [
           "Warren Zaïre-Emery",
           "PSG"
          ],
          [
           "Manuel Ugarte",
           "PSG"
          ],
          [
           "Sam Field",
           "QPR"
          ],
          [
           "John Björkengren",
           "Randers FC"
          ],
          [
           "Jadsom",
           "RB Bragantino"
          ],
          [
           "Amadou Haïdara",
           "RB Leipzig"
          ],
          [
           "Xaver Schlager",
           "RB Leipzig"
          ],
          [
           "Nicolas Seiwald",
           "RB Leipzig"
          ],
          [
           "Sergi Altimira",
           "Real Betis"
          ],
          [
           "Eduardo Camavinga",
           "Real Madrid"
          ],
          [
           "Federico Valverde",
           "Real Madrid"
          ],
          [
           "Martín Zubimendi",
           "Real Sociedad"
          ],
          [
           "Mateo Tanlongo",
           "Rio Ave"
          ],
          [
           "Rodrigo Villagra",
           "River"
          ],
          [
           "Patrick Vroegh",
           "RKC Waalwijk"
          ],
          [
           "Renato Sanches",
           "Roma"
          ],
          [
           "Edoardo Bove",
           "Roma"
          ],
          [
           "Manuel Insaurralde",
           "Rosario Central"
          ],
          [
           "Kevin Ortiz",
           "Rosario Central"
          ],
          [
           "Christ Tiéhi",
           "Rotherham"
          ],
          [
           "Mateusz Łęgowski",
           "Salernitana"
          ],
          [
           "Francisco Perruzzi",
           "San Lorenzo"
          ],
          [
           "Gustavo Abregú",
           "San Martín (Tucumán)"
          ],
          [
           "Daniel Boloca",
           "Sassuolo"
          ],
          [
           "Yannik Keitel",
           "SC Freiburg"
          ],
          [
           "Syb van Ottele",
           "sc Heerenveen"
          ],
          [
           "Oliver Johansen Braude",
           "sc Heerenveen"
          ],
          [
           "Aníbal Moreno",
           "SEP"
          ],
          [
           "Gabriel Menino",
           "SEP"
          ],
          [
           "Boubakary Soumaré",
           "Sevilla"
          ],
          [
           "Tom Davies",
           "Sheff Utd"
          ],
          [
           "Nnamdi Ofoborh",
           "Sheffield Wednesday"
          ],
          [
           "Florentino Luís",
           "SL Benfica"
          ],
          [
           "Shea Charles",
           "Southampton"
          ],
          [
           "Flynn Downes",
           "Southampton"
          ],
          [
           "Vitor Carvalho",
           "Sp. Braga"
          ],
          [
           "Rodrigo Zalazar",
           "Sp. Braga"
          ],
          [
           "Joshua Kitolano",
           "Sparta Rotterdam"
          ],
          [
           "Diego Costa",
           "SPO"
          ],
          [
           "Pablo Maia",
           "SPO"
          ],
          [
           "José Gragera",
           "Sporting CP"
          ],
          [
           "Daniel Bragança",
           "Sporting CP"
          ],
          [
           "Morten Hjulmand",
           "Sporting CP"
          ],
          [
           "Fábio Matheus",
           "SPT"
          ],
          [
           "Amir Richardson",
           "Stade Reims"
          ],
          [
           "Ibrahima Sissoko",
           "Strasbourg"
          ],
          [
           "Dan Neil",
           "Sunderland"
          ],
          [
           "Senne Lynen",
           "SV Werder"
          ],
          [
           "Juan Carlos Portillo",
           "Talleres"
          ],
          [
           "Mateo Seoane",
           "Talleres"
          ],
          [
           "Agustín Cardozo",
           "Tigre"
          ],
          [
           "Samuele Ricci",
           "Torino"
          ],
          [
           "Rodrigo Bentancur",
           "Tottenham"
          ],
          [
           "Pape Matar Sarr",
           "Tottenham"
          ],
          [
           "Anton Stach",
           "TSG Hoffenheim"
          ],
          [
           "Patricio Tanda",
           "Unión (SF)"
          ],
          [
           "Joaquín Mosqueira",
           "Unión (SF)"
          ],
          [
           "Hugo Guillamón",
           "Valencia"
          ],
          [
           "Pepelu",
           "Valencia"
          ],
          [
           "Angelo Stiller",
           "VfB Stuttgart"
          ],
          [
           "Berkan Kutlu",
           "Vit. Guimarães"
          ],
          [
           "Tomás Händel",
           "Vit. Guimarães"
          ],
          [
           "Zé Carlos",
           "Vit. Guimarães"
          ],
          [
           "Toni Domgjoni",
           "Vitesse"
          ],
          [
           "Melle Meulensteen",
           "Vitesse"
          ],
          [
           "Jota",
           "Vizela"
          ],
          [
           "Houssem Mrezigue",
           "Vizela"
          ],
          [
           "Ismaël Koné",
           "Watford"
          ],
          [
           "Edson Álvarez",
           "West Ham"
          ]
         ],
         "hovertemplate": "<b>%{customdata[0]}</b><br><b>%{customdata[1]}</b><br><br>passes_attempted/90: %{x}<br>progressive_pass_rate: %{y}<br>pass_completion_%: %{marker.color}<extra></extra>",
         "legendgroup": "",
         "marker": {
          "color": {
           "bdata": "WVpXV1hbWVlZWFpaWVtaWVpbWVpbW1lbXVdXW11aV1lcV1hXV1paWltcXFtaVVhZV1taXVtbWlhaW1ddV1paW1haV1VbWllbWFpZWlleWVlaWFpZW1xdXVVZWllaWVlYW1xXWVdfXFlXWlZaV1paW1lZXFxZWlpaXlpZXFtXWldXWVxXWFpaW1lcW1pWW1hZWFdZWVVaXVVXWlhbVlpYWllZWFtaWVhaWVpcXFpeW1tbWlhbXV1bV1xbW1hXWl9aWlpfXVpYWFZXWVtbWldYXlpcW1xbV1pZWllaXFlYWFdZWFlXWFpXW1xbXFpZXQ==",
           "dtype": "i1"
          },
          "coloraxis": "coloraxis",
          "size": 10,
          "symbol": "circle"
         },
         "mode": "markers",
         "name": "",
         "orientation": "v",
         "showlegend": false,
         "textfont": {
          "size": 10
         },
         "textposition": "top center",
         "type": "scatter",
         "x": {
          "bdata": "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",
          "dtype": "f8"
         },
         "xaxis": "x",
         "y": {
          "bdata": "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",
          "dtype": "f8"
         },
         "yaxis": "y"
        }
       ],
       "layout": {
        "coloraxis": {
         "colorbar": {
          "title": {
           "text": "pass_completion_%"
          }
         },
         "colorscale": [
          [
           0,
           "rgb(165,0,38)"
          ],
          [
           0.1,
           "rgb(215,48,39)"
          ],
          [
           0.2,
           "rgb(244,109,67)"
          ],
          [
           0.3,
           "rgb(253,174,97)"
          ],
          [
           0.4,
           "rgb(254,224,139)"
          ],
          [
           0.5,
           "rgb(255,255,191)"
          ],
          [
           0.6,
           "rgb(217,239,139)"
          ],
          [
           0.7,
           "rgb(166,217,106)"
          ],
          [
           0.8,
           "rgb(102,189,99)"
          ],
          [
           0.9,
           "rgb(26,152,80)"
          ],
          [
           1,
           "rgb(0,104,55)"
          ]
         ],
         "showscale": false
        },
        "height": 700,
        "legend": {
         "tracegroupgap": 0
        },
        "paper_bgcolor": "darkgray",
        "plot_bgcolor": "darkgray",
        "template": {
         "data": {
          "bar": [
           {
            "error_x": {
             "color": "#2a3f5f"
            },
            "error_y": {
             "color": "#2a3f5f"
            },
            "marker": {
             "line": {
              "color": "#E5ECF6",
              "width": 0.5
             },
             "pattern": {
              "fillmode": "overlay",
              "size": 10,
              "solidity": 0.2
             }
            },
            "type": "bar"
           }
          ],
          "barpolar": [
           {
            "marker": {
             "line": {
              "color": "#E5ECF6",
              "width": 0.5
             },
             "pattern": {
              "fillmode": "overlay",
              "size": 10,
              "solidity": 0.2
             }
            },
            "type": "barpolar"
           }
          ],
          "carpet": [
           {
            "aaxis": {
             "endlinecolor": "#2a3f5f",
             "gridcolor": "white",
             "linecolor": "white",
             "minorgridcolor": "white",
             "startlinecolor": "#2a3f5f"
            },
            "baxis": {
             "endlinecolor": "#2a3f5f",
             "gridcolor": "white",
             "linecolor": "white",
             "minorgridcolor": "white",
             "startlinecolor": "#2a3f5f"
            },
            "type": "carpet"
           }
          ],
          "choropleth": [
           {
            "colorbar": {
             "outlinewidth": 0,
             "ticks": ""
            },
            "type": "choropleth"
           }
          ],
          "contour": [
           {
            "colorbar": {
             "outlinewidth": 0,
             "ticks": ""
            },
            "colorscale": [
             [
              0,
              "#0d0887"
             ],
             [
              0.1111111111111111,
              "#46039f"
             ],
             [
              0.2222222222222222,
              "#7201a8"
             ],
             [
              0.3333333333333333,
              "#9c179e"
             ],
             [
              0.4444444444444444,
              "#bd3786"
             ],
             [
              0.5555555555555556,
              "#d8576b"
             ],
             [
              0.6666666666666666,
              "#ed7953"
             ],
             [
              0.7777777777777778,
              "#fb9f3a"
             ],
             [
              0.8888888888888888,
              "#fdca26"
             ],
             [
              1,
              "#f0f921"
             ]
            ],
            "type": "contour"
           }
          ],
          "contourcarpet": [
           {
            "colorbar": {
             "outlinewidth": 0,
             "ticks": ""
            },
            "type": "contourcarpet"
           }
          ],
          "heatmap": [
           {
            "colorbar": {
             "outlinewidth": 0,
             "ticks": ""
            },
            "colorscale": [
             [
              0,
              "#0d0887"
             ],
             [
              0.1111111111111111,
              "#46039f"
             ],
             [
              0.2222222222222222,
              "#7201a8"
             ],
             [
              0.3333333333333333,
              "#9c179e"
             ],
             [
              0.4444444444444444,
              "#bd3786"
             ],
             [
              0.5555555555555556,
              "#d8576b"
             ],
             [
              0.6666666666666666,
              "#ed7953"
             ],
             [
              0.7777777777777778,
              "#fb9f3a"
             ],
             [
              0.8888888888888888,
              "#fdca26"
             ],
             [
              1,
              "#f0f921"
             ]
            ],
            "type": "heatmap"
           }
          ],
          "histogram": [
           {
            "marker": {
             "pattern": {
              "fillmode": "overlay",
              "size": 10,
              "solidity": 0.2
             }
            },
            "type": "histogram"
           }
          ],
          "histogram2d": [
           {
            "colorbar": {
             "outlinewidth": 0,
             "ticks": ""
            },
            "colorscale": [
             [
              0,
              "#0d0887"
             ],
             [
              0.1111111111111111,
              "#46039f"
             ],
             [
              0.2222222222222222,
              "#7201a8"
             ],
             [
              0.3333333333333333,
              "#9c179e"
             ],
             [
              0.4444444444444444,
              "#bd3786"
             ],
             [
              0.5555555555555556,
              "#d8576b"
             ],
             [
              0.6666666666666666,
              "#ed7953"
             ],
             [
              0.7777777777777778,
              "#fb9f3a"
             ],
             [
              0.8888888888888888,
              "#fdca26"
             ],
             [
              1,
              "#f0f921"
             ]
            ],
            "type": "histogram2d"
           }
          ],
          "histogram2dcontour": [
           {
            "colorbar": {
             "outlinewidth": 0,
             "ticks": ""
            },
            "colorscale": [
             [
              0,
              "#0d0887"
             ],
             [
              0.1111111111111111,
              "#46039f"
             ],
             [
              0.2222222222222222,
              "#7201a8"
             ],
             [
              0.3333333333333333,
              "#9c179e"
             ],
             [
              0.4444444444444444,
              "#bd3786"
             ],
             [
              0.5555555555555556,
              "#d8576b"
             ],
             [
              0.6666666666666666,
              "#ed7953"
             ],
             [
              0.7777777777777778,
              "#fb9f3a"
             ],
             [
              0.8888888888888888,
              "#fdca26"
             ],
             [
              1,
              "#f0f921"
             ]
            ],
            "type": "histogram2dcontour"
           }
          ],
          "mesh3d": [
           {
            "colorbar": {
             "outlinewidth": 0,
             "ticks": ""
            },
            "type": "mesh3d"
           }
          ],
          "parcoords": [
           {
            "line": {
             "colorbar": {
              "outlinewidth": 0,
              "ticks": ""
             }
            },
            "type": "parcoords"
           }
          ],
          "pie": [
           {
            "automargin": true,
            "type": "pie"
           }
          ],
          "scatter": [
           {
            "fillpattern": {
             "fillmode": "overlay",
             "size": 10,
             "solidity": 0.2
            },
            "type": "scatter"
           }
          ],
          "scatter3d": [
           {
            "line": {
             "colorbar": {
              "outlinewidth": 0,
              "ticks": ""
             }
            },
            "marker": {
             "colorbar": {
              "outlinewidth": 0,
              "ticks": ""
             }
            },
            "type": "scatter3d"
           }
          ],
          "scattercarpet": [
           {
            "marker": {
             "colorbar": {
              "outlinewidth": 0,
              "ticks": ""
             }
            },
            "type": "scattercarpet"
           }
          ],
          "scattergeo": [
           {
            "marker": {
             "colorbar": {
              "outlinewidth": 0,
              "ticks": ""
             }
            },
            "type": "scattergeo"
           }
          ],
          "scattergl": [
           {
            "marker": {
             "colorbar": {
              "outlinewidth": 0,
              "ticks": ""
             }
            },
            "type": "scattergl"
           }
          ],
          "scattermap": [
           {
            "marker": {
             "colorbar": {
              "outlinewidth": 0,
              "ticks": ""
             }
            },
            "type": "scattermap"
           }
          ],
          "scattermapbox": [
           {
            "marker": {
             "colorbar": {
              "outlinewidth": 0,
              "ticks": ""
             }
            },
            "type": "scattermapbox"
           }
          ],
          "scatterpolar": [
           {
            "marker": {
             "colorbar": {
              "outlinewidth": 0,
              "ticks": ""
             }
            },
            "type": "scatterpolar"
           }
          ],
          "scatterpolargl": [
           {
            "marker": {
             "colorbar": {
              "outlinewidth": 0,
              "ticks": ""
             }
            },
            "type": "scatterpolargl"
           }
          ],
          "scatterternary": [
           {
            "marker": {
             "colorbar": {
              "outlinewidth": 0,
              "ticks": ""
             }
            },
            "type": "scatterternary"
           }
          ],
          "surface": [
           {
            "colorbar": {
             "outlinewidth": 0,
             "ticks": ""
            },
            "colorscale": [
             [
              0,
              "#0d0887"
             ],
             [
              0.1111111111111111,
              "#46039f"
             ],
             [
              0.2222222222222222,
              "#7201a8"
             ],
             [
              0.3333333333333333,
              "#9c179e"
             ],
             [
              0.4444444444444444,
              "#bd3786"
             ],
             [
              0.5555555555555556,
              "#d8576b"
             ],
             [
              0.6666666666666666,
              "#ed7953"
             ],
             [
              0.7777777777777778,
              "#fb9f3a"
             ],
             [
              0.8888888888888888,
              "#fdca26"
             ],
             [
              1,
              "#f0f921"
             ]
            ],
            "type": "surface"
           }
          ],
          "table": [
           {
            "cells": {
             "fill": {
              "color": "#EBF0F8"
             },
             "line": {
              "color": "white"
             }
            },
            "header": {
             "fill": {
              "color": "#C8D4E3"
             },
             "line": {
              "color": "white"
             }
            },
            "type": "table"
           }
          ]
         },
         "layout": {
          "annotationdefaults": {
           "arrowcolor": "#2a3f5f",
           "arrowhead": 0,
           "arrowwidth": 1
          },
          "autotypenumbers": "strict",
          "coloraxis": {
           "colorbar": {
            "outlinewidth": 0,
            "ticks": ""
           }
          },
          "colorscale": {
           "diverging": [
            [
             0,
             "#8e0152"
            ],
            [
             0.1,
             "#c51b7d"
            ],
            [
             0.2,
             "#de77ae"
            ],
            [
             0.3,
             "#f1b6da"
            ],
            [
             0.4,
             "#fde0ef"
            ],
            [
             0.5,
             "#f7f7f7"
            ],
            [
             0.6,
             "#e6f5d0"
            ],
            [
             0.7,
             "#b8e186"
            ],
            [
             0.8,
             "#7fbc41"
            ],
            [
             0.9,
             "#4d9221"
            ],
            [
             1,
             "#276419"
            ]
           ],
           "sequential": [
            [
             0,
             "#0d0887"
            ],
            [
             0.1111111111111111,
             "#46039f"
            ],
            [
             0.2222222222222222,
             "#7201a8"
            ],
            [
             0.3333333333333333,
             "#9c179e"
            ],
            [
             0.4444444444444444,
             "#bd3786"
            ],
            [
             0.5555555555555556,
             "#d8576b"
            ],
            [
             0.6666666666666666,
             "#ed7953"
            ],
            [
             0.7777777777777778,
             "#fb9f3a"
            ],
            [
             0.8888888888888888,
             "#fdca26"
            ],
            [
             1,
             "#f0f921"
            ]
           ],
           "sequentialminus": [
            [
             0,
             "#0d0887"
            ],
            [
             0.1111111111111111,
             "#46039f"
            ],
            [
             0.2222222222222222,
             "#7201a8"
            ],
            [
             0.3333333333333333,
             "#9c179e"
            ],
            [
             0.4444444444444444,
             "#bd3786"
            ],
            [
             0.5555555555555556,
             "#d8576b"
            ],
            [
             0.6666666666666666,
             "#ed7953"
            ],
            [
             0.7777777777777778,
             "#fb9f3a"
            ],
            [
             0.8888888888888888,
             "#fdca26"
            ],
            [
             1,
             "#f0f921"
            ]
           ]
          },
          "colorway": [
           "#636efa",
           "#EF553B",
           "#00cc96",
           "#ab63fa",
           "#FFA15A",
           "#19d3f3",
           "#FF6692",
           "#B6E880",
           "#FF97FF",
           "#FECB52"
          ],
          "font": {
           "color": "#2a3f5f"
          },
          "geo": {
           "bgcolor": "white",
           "lakecolor": "white",
           "landcolor": "#E5ECF6",
           "showlakes": true,
           "showland": true,
           "subunitcolor": "white"
          },
          "hoverlabel": {
           "align": "left"
          },
          "hovermode": "closest",
          "mapbox": {
           "style": "light"
          },
          "paper_bgcolor": "white",
          "plot_bgcolor": "#E5ECF6",
          "polar": {
           "angularaxis": {
            "gridcolor": "white",
            "linecolor": "white",
            "ticks": ""
           },
           "bgcolor": "#E5ECF6",
           "radialaxis": {
            "gridcolor": "white",
            "linecolor": "white",
            "ticks": ""
           }
          },
          "scene": {
           "xaxis": {
            "backgroundcolor": "#E5ECF6",
            "gridcolor": "white",
            "gridwidth": 2,
            "linecolor": "white",
            "showbackground": true,
            "ticks": "",
            "zerolinecolor": "white"
           },
           "yaxis": {
            "backgroundcolor": "#E5ECF6",
            "gridcolor": "white",
            "gridwidth": 2,
            "linecolor": "white",
            "showbackground": true,
            "ticks": "",
            "zerolinecolor": "white"
           },
           "zaxis": {
            "backgroundcolor": "#E5ECF6",
            "gridcolor": "white",
            "gridwidth": 2,
            "linecolor": "white",
            "showbackground": true,
            "ticks": "",
            "zerolinecolor": "white"
           }
          },
          "shapedefaults": {
           "line": {
            "color": "#2a3f5f"
           }
          },
          "ternary": {
           "aaxis": {
            "gridcolor": "white",
            "linecolor": "white",
            "ticks": ""
           },
           "baxis": {
            "gridcolor": "white",
            "linecolor": "white",
            "ticks": ""
           },
           "bgcolor": "#E5ECF6",
           "caxis": {
            "gridcolor": "white",
            "linecolor": "white",
            "ticks": ""
           }
          },
          "title": {
           "x": 0.05
          },
          "xaxis": {
           "automargin": true,
           "gridcolor": "white",
           "linecolor": "white",
           "ticks": "",
           "title": {
            "standoff": 15
           },
           "zerolinecolor": "white",
           "zerolinewidth": 2
          },
          "yaxis": {
           "automargin": true,
           "gridcolor": "white",
           "linecolor": "white",
           "ticks": "",
           "title": {
            "standoff": 15
           },
           "zerolinecolor": "white",
           "zerolinewidth": 2
          }
         }
        },
        "title": {
         "text": "Passing quality ( 238)",
         "x": 0.5,
         "xanchor": "center"
        },
        "width": 1200,
        "xaxis": {
         "anchor": "y",
         "domain": [
          0,
          1
         ],
         "gridcolor": "white",
         "showgrid": true,
         "title": {
          "text": "passes_attempted/90"
         },
         "zeroline": false
        },
        "yaxis": {
         "anchor": "x",
         "domain": [
          0,
          1
         ],
         "gridcolor": "white",
         "showgrid": true,
         "title": {
          "text": "progressive_pass_rate"
         },
         "zeroline": false
        }
       }
      }
     },
     "metadata": {},
     "output_type": "display_data"
    }
   ],
   "source": [
    "# Filter data \n",
    "mask = (\n",
    "        (df_players['passes_attempted/90'] >= 45) & \\\n",
    "        (df_players['progressive_pass_rate'] >= 7) & \\\n",
    "        (df_players['pass_completion_%'] >= 85) & \\\n",
    "        (df_players['age'] <= 26) & \\\n",
    "        (df_players['id'].isin(targets))\n",
    "        \n",
    "        \n",
    ")\n",
    "\n",
    "df_targets = df_players[mask]\n",
    "\n",
    "scatter_plot(df_targets,\n",
    "             x_metric='passes_attempted/90', \n",
    "             y_metric='progressive_pass_rate',\n",
    "             z_metric='pass_completion_%',\n",
    "             title='Passing quality', \n",
    "             show_name_label=False\n",
    ")\n",
    "\n",
    "# Keep only players that fulfill criteria\n",
    "targets = list(df_targets['id'])"
   ]
  },
  {
   "cell_type": "markdown",
   "id": "db5f786f",
   "metadata": {},
   "source": [
    "## Possession Analysis"
   ]
  },
  {
   "cell_type": "code",
   "execution_count": 32,
   "id": "c382547d",
   "metadata": {},
   "outputs": [
    {
     "data": {
      "application/vnd.plotly.v1+json": {
       "config": {
        "plotlyServerURL": "https://plot.ly"
       },
       "data": [
        {
         "customdata": [
          [
           "Julius Beck",
           "AGF"
          ],
          [
           "Michael Akoto",
           "AGF"
          ],
          [
           "Sivert Mannsverk",
           "Ajax"
          ],
          [
           "Kenneth Taylor",
           "Ajax"
          ],
          [
           "Jochem Ritmeester van de Kamp",
           "Almere City"
          ],
          [
           "Peer Koopmeiners",
           "Almere City"
          ],
          [
           "Eboué Kouassi",
           "Arouca"
          ],
          [
           "Declan Rice",
           "Arsenal"
          ],
          [
           "Boubacar Kamara",
           "Aston Villa"
          ],
          [
           "Douglas Luiz",
           "Aston Villa"
          ],
          [
           "Teun Koopmeiners",
           "Atalanta"
          ],
          [
           "Michel Ndary Adopo",
           "Atalanta"
          ],
          [
           "Rhaldney",
           "ATG"
          ],
          [
           "Baralhas",
           "ATG"
          ],
          [
           "Beñat Prados",
           "Athletic"
          ],
          [
           "Erick",
           "Athlético Paranaense"
          ],
          [
           "Elvis Rexhbecaj",
           "Augsburg"
          ],
          [
           "Kristijan Belić",
           "AZ"
          ],
          [
           "Tiago Dantas",
           "AZ"
          ],
          [
           "Jean Lucas",
           "BAH"
          ],
          [
           "Nicolás Acevedo",
           "BAH"
          ],
          [
           "Caio Alexandre",
           "BAH"
          ],
          [
           "Rodrigo Herrera",
           "Barracas Central"
          ],
          [
           "Exequiel Palacios",
           "Bayer 04"
          ],
          [
           "Santiago Longo",
           "Belgrano"
          ],
          [
           "John Buckley",
           "Blackburn"
          ],
          [
           "Jake Garrett",
           "Blackburn"
          ],
          [
           "Nicolás Garayalde",
           "Boca"
          ],
          [
           "Ladislav Krejčí",
           "Bologna"
          ],
          [
           "Salih Özcan",
           "Borussia Dortmund"
          ],
          [
           "Cacá",
           "BOT"
          ],
          [
           "Patrick de Paula",
           "BOT"
          ],
          [
           "Kristoffer Ajer",
           "Brentford"
          ],
          [
           "Billy Gilmour",
           "Brighton"
          ],
          [
           "Carlos Baleba",
           "Brighton"
          ],
          [
           "Ryan Wintle",
           "Cardiff"
          ],
          [
           "Márton Dárdai",
           "Celta"
          ],
          [
           "Manuel García",
           "Central Córdoba (SdE)"
          ],
          [
           "Enzo Fernández",
           "Chelsea"
          ],
          [
           "Moisés Caicedo",
           "Chelsea"
          ],
          [
           "Roméo Lavia",
           "Chelsea"
          ],
          [
           "Fausto Vera",
           "COR"
          ],
          [
           "Gabriel Moscardo",
           "COR"
          ],
          [
           "Keidi Bare",
           "Coventry"
          ],
          [
           "Joel Latibeaudiere",
           "Coventry"
          ],
          [
           "Ben Sheaf",
           "Coventry"
          ],
          [
           "Oliver Arblaster",
           "Coventry"
          ],
          [
           "Cheick Doucouré",
           "Crystal Palace"
          ],
          [
           "Adam Wharton",
           "Crystal Palace"
          ],
          [
           "Andrey",
           "CTB"
          ],
          [
           "Bruno Gomes",
           "CTB"
          ],
          [
           "Guilherme Madruga",
           "CUI"
          ],
          [
           "Niklas Dorsch",
           "Eintracht Frankfurt"
          ],
          [
           "Hugo Larsson",
           "Eintracht Frankfurt"
          ],
          [
           "Luca Belardinelli",
           "Empoli"
          ],
          [
           "Veldin Hodža",
           "Empoli"
          ],
          [
           "Jordan Holsgrove",
           "Estoril Praia"
          ],
          [
           "Mor Ndiaye",
           "Estoril Praia"
          ],
          [
           "Julian Baas",
           "Excelsior"
          ],
          [
           "Siebe Horemans",
           "Excelsior"
          ],
          [
           "Mirko Topić",
           "Famalicão"
          ],
          [
           "Tom Lacoux",
           "Famalicão"
          ],
          [
           "William Clem",
           "FC København"
          ],
          [
           "Hugo Moura",
           "FC København"
          ],
          [
           "Dejan Ljubičić",
           "FC Köln"
          ],
          [
           "Eric Martel",
           "FC Köln"
          ],
          [
           "Oliver Sørensen",
           "FC Midtjylland"
          ],
          [
           "Armin Gigović",
           "FC Midtjylland"
          ],
          [
           "Alan Varela",
           "FC Porto"
          ],
          [
           "Ezequiel Fernández",
           "FC Porto"
          ],
          [
           "Nico González",
           "FC Porto"
          ],
          [
           "Michal Sadílek",
           "FC Twente"
          ],
          [
           "Youri Regeer",
           "FC Twente"
          ],
          [
           "Mathias Kjølø",
           "FC Twente"
          ],
          [
           "Ryan Flamingo",
           "FC Utrecht"
          ],
          [
           "Calvin Twigt",
           "FC Volendam"
          ],
          [
           "Quinten Timber",
           "Feyenoord"
          ],
          [
           "Thomas Beelen",
           "Feyenoord"
          ],
          [
           "Ramiz Zerrouki",
           "Feyenoord"
          ],
          [
           "Mats Wieffer",
           "Feyenoord"
          ],
          [
           "Lutsharel Geertruida",
           "Feyenoord"
          ],
          [
           "Maxime Lopez",
           "Fiorentina"
          ],
          [
           "Gaïus Makouta",
           "Fiorentina"
          ],
          [
           "Rolando Mandragora",
           "Fiorentina"
          ],
          [
           "Matheus Henrique",
           "FLA"
          ],
          [
           "Martinelli",
           "FLU"
          ],
          [
           "Alexsander",
           "FLU"
          ],
          [
           "André",
           "FLU"
          ],
          [
           "Loreintz Rosier",
           "Fortuna Sittard"
          ],
          [
           "Enzo Barrenechea",
           "Frosinone"
          ],
          [
           "Jesús Castillo",
           "Gil Vicente"
          ],
          [
           "Mory Gbané",
           "Gil Vicente"
          ],
          [
           "Felipe Silva",
           "Gil Vicente"
          ],
          [
           "Rodrigo Saravia",
           "Gimnasia (LP)"
          ],
          [
           "Aleix García",
           "Girona"
          ],
          [
           "Evert Linthorst",
           "Go Ahead Eagles"
          ],
          [
           "Vicente Poggi",
           "Godoy Cruz"
          ],
          [
           "Bruno Leyes",
           "Godoy Cruz"
          ],
          [
           "Juninho",
           "GOI"
          ],
          [
           "Martin Hongla",
           "Granada"
          ],
          [
           "Oussama Targhalline",
           "Havre AC"
          ],
          [
           "Sem Scheperman",
           "Heracles Almelo"
          ],
          [
           "Brian De Keersmaecker",
           "Heracles Almelo"
          ],
          [
           "David Kasumu",
           "Huddersfield"
          ],
          [
           "Ryan Trevitt",
           "Huddersfield"
          ],
          [
           "Regan Slater",
           "Hull"
          ],
          [
           "Tyler Morton",
           "Hull"
          ],
          [
           "Francisco Maidana",
           "Independiente Rivadavia"
          ],
          [
           "Stefano Moreyra",
           "Instituto"
          ],
          [
           "Kristjan Asllani",
           "Inter"
          ],
          [
           "Cameron Humphreys",
           "Ipswich"
          ],
          [
           "Manuel Locatelli",
           "Juventus"
          ],
          [
           "Hans Nicolussi Caviglia",
           "Juventus"
          ],
          [
           "Felipe Peña Biafore",
           "Lanús"
          ],
          [
           "Máximo Perrone",
           "Las Palmas"
          ],
          [
           "Nicolò Rovella",
           "Lazio"
          ],
          [
           "Archie Gray",
           "Leeds"
          ],
          [
           "Ethan Ampadu",
           "Leeds"
          ],
          [
           "Iliya Gruev",
           "Leeds"
          ],
          [
           "Jamie Shackleton",
           "Leeds"
          ],
          [
           "Ryan Gravenberch",
           "Leicester"
          ],
          [
           "Jakub Piotrowski",
           "Lens"
          ],
          [
           "Salis Abdul Samed",
           "Lens"
          ],
          [
           "Ignacio Miramón",
           "Lille"
          ],
          [
           "Stefan Bajčetić",
           "Liverpool"
          ],
          [
           "Alexis Mac Allister",
           "Liverpool"
          ],
          [
           "Albert Sambi Lokonga",
           "Luton"
          ],
          [
           "Tom Krauß",
           "Mainz 05"
          ],
          [
           "Samú",
           "Mallorca"
          ],
          [
           "Kobbie Mainoo",
           "Man Utd"
          ],
          [
           "Danil Glebov",
           "Marseille"
          ],
          [
           "Lewis O'Brien",
           "Middlesbrough"
          ],
          [
           "Hayden Hackney",
           "Middlesbrough"
          ],
          [
           "Tommaso Pobega",
           "Milan"
          ],
          [
           "Yacine Adli",
           "Milan"
          ],
          [
           "Ismaël Bennacer",
           "Milan"
          ],
          [
           "Billy Mitchell",
           "Millwall"
          ],
          [
           "Mohamed Camara",
           "Monaco"
          ],
          [
           "Youssouf Fofana",
           "Monaco"
          ],
          [
           "Manu Koné",
           "Mönchengladbach"
          ],
          [
           "Joris Chotard",
           "Montpellier"
          ],
          [
           "Gonçalo Franco",
           "Moreirense"
          ],
          [
           "Mees Hoedemakers",
           "N.E.C. Nijmegen"
          ],
          [
           "Jens Cajuste",
           "Napoli"
          ],
          [
           "Sandro Tonali",
           "Newcastle"
          ],
          [
           "Lewis Hall",
           "Newcastle"
          ],
          [
           "Sean Longstaff",
           "Newcastle"
          ],
          [
           "Bruno Guimarães",
           "Newcastle"
          ],
          [
           "Khephren Thuram",
           "Nice"
          ],
          [
           "Hicham Boudaoui",
           "Nice"
          ],
          [
           "Youssouf Ndayishimiye",
           "Nice"
          ],
          [
           "Ben Lederman",
           "Nice"
          ],
          [
           "Liam Gibbs",
           "Norwich"
          ],
          [
           "Ibrahim Sangaré",
           "Nottm Forest"
          ],
          [
           "Danilo",
           "Nottm Forest"
          ],
          [
           "Nicolás Domínguez",
           "Nottm Forest"
          ],
          [
           "Ryan Yates",
           "Nottm Forest"
          ],
          [
           "Alasana Manneh",
           "OB"
          ],
          [
           "Jon Moncayola",
           "Osasuna"
          ],
          [
           "Iker Muñoz",
           "Osasuna"
          ],
          [
           "Eliano Reijnders",
           "PEC Zwolle"
          ],
          [
           "Zico Buurmeester",
           "PEC Zwolle"
          ],
          [
           "Leonel Picco",
           "Platense"
          ],
          [
           "Adam Randell",
           "Plymouth"
          ],
          [
           "Paulo Estrela",
           "Portimonense"
          ],
          [
           "Žan Jevšenak",
           "Portimonense"
          ],
          [
           "Lamare Bogarde",
           "Preston"
          ],
          [
           "Ali McCann",
           "Preston"
          ],
          [
           "Vitinha",
           "PSG"
          ],
          [
           "Warren Zaïre-Emery",
           "PSG"
          ],
          [
           "Manuel Ugarte",
           "PSG"
          ],
          [
           "Sam Field",
           "QPR"
          ],
          [
           "John Björkengren",
           "Randers FC"
          ],
          [
           "Jadsom",
           "RB Bragantino"
          ],
          [
           "Amadou Haïdara",
           "RB Leipzig"
          ],
          [
           "Xaver Schlager",
           "RB Leipzig"
          ],
          [
           "Nicolas Seiwald",
           "RB Leipzig"
          ],
          [
           "Sergi Altimira",
           "Real Betis"
          ],
          [
           "Eduardo Camavinga",
           "Real Madrid"
          ],
          [
           "Federico Valverde",
           "Real Madrid"
          ],
          [
           "Martín Zubimendi",
           "Real Sociedad"
          ],
          [
           "Mateo Tanlongo",
           "Rio Ave"
          ],
          [
           "Rodrigo Villagra",
           "River"
          ],
          [
           "Patrick Vroegh",
           "RKC Waalwijk"
          ],
          [
           "Renato Sanches",
           "Roma"
          ],
          [
           "Edoardo Bove",
           "Roma"
          ],
          [
           "Manuel Insaurralde",
           "Rosario Central"
          ],
          [
           "Kevin Ortiz",
           "Rosario Central"
          ],
          [
           "Christ Tiéhi",
           "Rotherham"
          ],
          [
           "Mateusz Łęgowski",
           "Salernitana"
          ],
          [
           "Francisco Perruzzi",
           "San Lorenzo"
          ],
          [
           "Gustavo Abregú",
           "San Martín (Tucumán)"
          ],
          [
           "Daniel Boloca",
           "Sassuolo"
          ],
          [
           "Yannik Keitel",
           "SC Freiburg"
          ],
          [
           "Syb van Ottele",
           "sc Heerenveen"
          ],
          [
           "Oliver Johansen Braude",
           "sc Heerenveen"
          ],
          [
           "Aníbal Moreno",
           "SEP"
          ],
          [
           "Gabriel Menino",
           "SEP"
          ],
          [
           "Boubakary Soumaré",
           "Sevilla"
          ],
          [
           "Tom Davies",
           "Sheff Utd"
          ],
          [
           "Nnamdi Ofoborh",
           "Sheffield Wednesday"
          ],
          [
           "Florentino Luís",
           "SL Benfica"
          ],
          [
           "Shea Charles",
           "Southampton"
          ],
          [
           "Flynn Downes",
           "Southampton"
          ],
          [
           "Vitor Carvalho",
           "Sp. Braga"
          ],
          [
           "Rodrigo Zalazar",
           "Sp. Braga"
          ],
          [
           "Joshua Kitolano",
           "Sparta Rotterdam"
          ],
          [
           "Diego Costa",
           "SPO"
          ],
          [
           "Pablo Maia",
           "SPO"
          ],
          [
           "José Gragera",
           "Sporting CP"
          ],
          [
           "Daniel Bragança",
           "Sporting CP"
          ],
          [
           "Morten Hjulmand",
           "Sporting CP"
          ],
          [
           "Fábio Matheus",
           "SPT"
          ],
          [
           "Amir Richardson",
           "Stade Reims"
          ],
          [
           "Ibrahima Sissoko",
           "Strasbourg"
          ],
          [
           "Dan Neil",
           "Sunderland"
          ],
          [
           "Senne Lynen",
           "SV Werder"
          ],
          [
           "Juan Carlos Portillo",
           "Talleres"
          ],
          [
           "Mateo Seoane",
           "Talleres"
          ],
          [
           "Agustín Cardozo",
           "Tigre"
          ],
          [
           "Samuele Ricci",
           "Torino"
          ],
          [
           "Rodrigo Bentancur",
           "Tottenham"
          ],
          [
           "Pape Matar Sarr",
           "Tottenham"
          ],
          [
           "Anton Stach",
           "TSG Hoffenheim"
          ],
          [
           "Patricio Tanda",
           "Unión (SF)"
          ],
          [
           "Joaquín Mosqueira",
           "Unión (SF)"
          ],
          [
           "Hugo Guillamón",
           "Valencia"
          ],
          [
           "Pepelu",
           "Valencia"
          ],
          [
           "Angelo Stiller",
           "VfB Stuttgart"
          ],
          [
           "Berkan Kutlu",
           "Vit. Guimarães"
          ],
          [
           "Tomás Händel",
           "Vit. Guimarães"
          ],
          [
           "Zé Carlos",
           "Vit. Guimarães"
          ],
          [
           "Toni Domgjoni",
           "Vitesse"
          ],
          [
           "Melle Meulensteen",
           "Vitesse"
          ],
          [
           "Jota",
           "Vizela"
          ],
          [
           "Houssem Mrezigue",
           "Vizela"
          ],
          [
           "Ismaël Koné",
           "Watford"
          ],
          [
           "Edson Álvarez",
           "West Ham"
          ]
         ],
         "hovertemplate": "<b>%{customdata[0]}</b><br><b>%{customdata[1]}</b><br><br>possession_lost/90: %{x}<br>possession_won/90: %{y}<br>poss+_/90: %{marker.color}<extra></extra>",
         "legendgroup": "",
         "marker": {
          "color": {
           "bdata": "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",
           "dtype": "f8"
          },
          "coloraxis": "coloraxis",
          "size": 10,
          "symbol": "circle"
         },
         "mode": "markers",
         "name": "",
         "orientation": "v",
         "showlegend": false,
         "textfont": {
          "size": 10
         },
         "textposition": "top center",
         "type": "scatter",
         "x": {
          "bdata": "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",
          "dtype": "f8"
         },
         "xaxis": "x",
         "y": {
          "bdata": "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",
          "dtype": "f8"
         },
         "yaxis": "y"
        }
       ],
       "layout": {
        "coloraxis": {
         "colorbar": {
          "title": {
           "text": "poss+_/90"
          }
         },
         "colorscale": [
          [
           0,
           "rgb(165,0,38)"
          ],
          [
           0.1,
           "rgb(215,48,39)"
          ],
          [
           0.2,
           "rgb(244,109,67)"
          ],
          [
           0.3,
           "rgb(253,174,97)"
          ],
          [
           0.4,
           "rgb(254,224,139)"
          ],
          [
           0.5,
           "rgb(255,255,191)"
          ],
          [
           0.6,
           "rgb(217,239,139)"
          ],
          [
           0.7,
           "rgb(166,217,106)"
          ],
          [
           0.8,
           "rgb(102,189,99)"
          ],
          [
           0.9,
           "rgb(26,152,80)"
          ],
          [
           1,
           "rgb(0,104,55)"
          ]
         ],
         "showscale": false
        },
        "height": 700,
        "legend": {
         "tracegroupgap": 0
        },
        "paper_bgcolor": "darkgray",
        "plot_bgcolor": "darkgray",
        "template": {
         "data": {
          "bar": [
           {
            "error_x": {
             "color": "#2a3f5f"
            },
            "error_y": {
             "color": "#2a3f5f"
            },
            "marker": {
             "line": {
              "color": "#E5ECF6",
              "width": 0.5
             },
             "pattern": {
              "fillmode": "overlay",
              "size": 10,
              "solidity": 0.2
             }
            },
            "type": "bar"
           }
          ],
          "barpolar": [
           {
            "marker": {
             "line": {
              "color": "#E5ECF6",
              "width": 0.5
             },
             "pattern": {
              "fillmode": "overlay",
              "size": 10,
              "solidity": 0.2
             }
            },
            "type": "barpolar"
           }
          ],
          "carpet": [
           {
            "aaxis": {
             "endlinecolor": "#2a3f5f",
             "gridcolor": "white",
             "linecolor": "white",
             "minorgridcolor": "white",
             "startlinecolor": "#2a3f5f"
            },
            "baxis": {
             "endlinecolor": "#2a3f5f",
             "gridcolor": "white",
             "linecolor": "white",
             "minorgridcolor": "white",
             "startlinecolor": "#2a3f5f"
            },
            "type": "carpet"
           }
          ],
          "choropleth": [
           {
            "colorbar": {
             "outlinewidth": 0,
             "ticks": ""
            },
            "type": "choropleth"
           }
          ],
          "contour": [
           {
            "colorbar": {
             "outlinewidth": 0,
             "ticks": ""
            },
            "colorscale": [
             [
              0,
              "#0d0887"
             ],
             [
              0.1111111111111111,
              "#46039f"
             ],
             [
              0.2222222222222222,
              "#7201a8"
             ],
             [
              0.3333333333333333,
              "#9c179e"
             ],
             [
              0.4444444444444444,
              "#bd3786"
             ],
             [
              0.5555555555555556,
              "#d8576b"
             ],
             [
              0.6666666666666666,
              "#ed7953"
             ],
             [
              0.7777777777777778,
              "#fb9f3a"
             ],
             [
              0.8888888888888888,
              "#fdca26"
             ],
             [
              1,
              "#f0f921"
             ]
            ],
            "type": "contour"
           }
          ],
          "contourcarpet": [
           {
            "colorbar": {
             "outlinewidth": 0,
             "ticks": ""
            },
            "type": "contourcarpet"
           }
          ],
          "heatmap": [
           {
            "colorbar": {
             "outlinewidth": 0,
             "ticks": ""
            },
            "colorscale": [
             [
              0,
              "#0d0887"
             ],
             [
              0.1111111111111111,
              "#46039f"
             ],
             [
              0.2222222222222222,
              "#7201a8"
             ],
             [
              0.3333333333333333,
              "#9c179e"
             ],
             [
              0.4444444444444444,
              "#bd3786"
             ],
             [
              0.5555555555555556,
              "#d8576b"
             ],
             [
              0.6666666666666666,
              "#ed7953"
             ],
             [
              0.7777777777777778,
              "#fb9f3a"
             ],
             [
              0.8888888888888888,
              "#fdca26"
             ],
             [
              1,
              "#f0f921"
             ]
            ],
            "type": "heatmap"
           }
          ],
          "histogram": [
           {
            "marker": {
             "pattern": {
              "fillmode": "overlay",
              "size": 10,
              "solidity": 0.2
             }
            },
            "type": "histogram"
           }
          ],
          "histogram2d": [
           {
            "colorbar": {
             "outlinewidth": 0,
             "ticks": ""
            },
            "colorscale": [
             [
              0,
              "#0d0887"
             ],
             [
              0.1111111111111111,
              "#46039f"
             ],
             [
              0.2222222222222222,
              "#7201a8"
             ],
             [
              0.3333333333333333,
              "#9c179e"
             ],
             [
              0.4444444444444444,
              "#bd3786"
             ],
             [
              0.5555555555555556,
              "#d8576b"
             ],
             [
              0.6666666666666666,
              "#ed7953"
             ],
             [
              0.7777777777777778,
              "#fb9f3a"
             ],
             [
              0.8888888888888888,
              "#fdca26"
             ],
             [
              1,
              "#f0f921"
             ]
            ],
            "type": "histogram2d"
           }
          ],
          "histogram2dcontour": [
           {
            "colorbar": {
             "outlinewidth": 0,
             "ticks": ""
            },
            "colorscale": [
             [
              0,
              "#0d0887"
             ],
             [
              0.1111111111111111,
              "#46039f"
             ],
             [
              0.2222222222222222,
              "#7201a8"
             ],
             [
              0.3333333333333333,
              "#9c179e"
             ],
             [
              0.4444444444444444,
              "#bd3786"
             ],
             [
              0.5555555555555556,
              "#d8576b"
             ],
             [
              0.6666666666666666,
              "#ed7953"
             ],
             [
              0.7777777777777778,
              "#fb9f3a"
             ],
             [
              0.8888888888888888,
              "#fdca26"
             ],
             [
              1,
              "#f0f921"
             ]
            ],
            "type": "histogram2dcontour"
           }
          ],
          "mesh3d": [
           {
            "colorbar": {
             "outlinewidth": 0,
             "ticks": ""
            },
            "type": "mesh3d"
           }
          ],
          "parcoords": [
           {
            "line": {
             "colorbar": {
              "outlinewidth": 0,
              "ticks": ""
             }
            },
            "type": "parcoords"
           }
          ],
          "pie": [
           {
            "automargin": true,
            "type": "pie"
           }
          ],
          "scatter": [
           {
            "fillpattern": {
             "fillmode": "overlay",
             "size": 10,
             "solidity": 0.2
            },
            "type": "scatter"
           }
          ],
          "scatter3d": [
           {
            "line": {
             "colorbar": {
              "outlinewidth": 0,
              "ticks": ""
             }
            },
            "marker": {
             "colorbar": {
              "outlinewidth": 0,
              "ticks": ""
             }
            },
            "type": "scatter3d"
           }
          ],
          "scattercarpet": [
           {
            "marker": {
             "colorbar": {
              "outlinewidth": 0,
              "ticks": ""
             }
            },
            "type": "scattercarpet"
           }
          ],
          "scattergeo": [
           {
            "marker": {
             "colorbar": {
              "outlinewidth": 0,
              "ticks": ""
             }
            },
            "type": "scattergeo"
           }
          ],
          "scattergl": [
           {
            "marker": {
             "colorbar": {
              "outlinewidth": 0,
              "ticks": ""
             }
            },
            "type": "scattergl"
           }
          ],
          "scattermap": [
           {
            "marker": {
             "colorbar": {
              "outlinewidth": 0,
              "ticks": ""
             }
            },
            "type": "scattermap"
           }
          ],
          "scattermapbox": [
           {
            "marker": {
             "colorbar": {
              "outlinewidth": 0,
              "ticks": ""
             }
            },
            "type": "scattermapbox"
           }
          ],
          "scatterpolar": [
           {
            "marker": {
             "colorbar": {
              "outlinewidth": 0,
              "ticks": ""
             }
            },
            "type": "scatterpolar"
           }
          ],
          "scatterpolargl": [
           {
            "marker": {
             "colorbar": {
              "outlinewidth": 0,
              "ticks": ""
             }
            },
            "type": "scatterpolargl"
           }
          ],
          "scatterternary": [
           {
            "marker": {
             "colorbar": {
              "outlinewidth": 0,
              "ticks": ""
             }
            },
            "type": "scatterternary"
           }
          ],
          "surface": [
           {
            "colorbar": {
             "outlinewidth": 0,
             "ticks": ""
            },
            "colorscale": [
             [
              0,
              "#0d0887"
             ],
             [
              0.1111111111111111,
              "#46039f"
             ],
             [
              0.2222222222222222,
              "#7201a8"
             ],
             [
              0.3333333333333333,
              "#9c179e"
             ],
             [
              0.4444444444444444,
              "#bd3786"
             ],
             [
              0.5555555555555556,
              "#d8576b"
             ],
             [
              0.6666666666666666,
              "#ed7953"
             ],
             [
              0.7777777777777778,
              "#fb9f3a"
             ],
             [
              0.8888888888888888,
              "#fdca26"
             ],
             [
              1,
              "#f0f921"
             ]
            ],
            "type": "surface"
           }
          ],
          "table": [
           {
            "cells": {
             "fill": {
              "color": "#EBF0F8"
             },
             "line": {
              "color": "white"
             }
            },
            "header": {
             "fill": {
              "color": "#C8D4E3"
             },
             "line": {
              "color": "white"
             }
            },
            "type": "table"
           }
          ]
         },
         "layout": {
          "annotationdefaults": {
           "arrowcolor": "#2a3f5f",
           "arrowhead": 0,
           "arrowwidth": 1
          },
          "autotypenumbers": "strict",
          "coloraxis": {
           "colorbar": {
            "outlinewidth": 0,
            "ticks": ""
           }
          },
          "colorscale": {
           "diverging": [
            [
             0,
             "#8e0152"
            ],
            [
             0.1,
             "#c51b7d"
            ],
            [
             0.2,
             "#de77ae"
            ],
            [
             0.3,
             "#f1b6da"
            ],
            [
             0.4,
             "#fde0ef"
            ],
            [
             0.5,
             "#f7f7f7"
            ],
            [
             0.6,
             "#e6f5d0"
            ],
            [
             0.7,
             "#b8e186"
            ],
            [
             0.8,
             "#7fbc41"
            ],
            [
             0.9,
             "#4d9221"
            ],
            [
             1,
             "#276419"
            ]
           ],
           "sequential": [
            [
             0,
             "#0d0887"
            ],
            [
             0.1111111111111111,
             "#46039f"
            ],
            [
             0.2222222222222222,
             "#7201a8"
            ],
            [
             0.3333333333333333,
             "#9c179e"
            ],
            [
             0.4444444444444444,
             "#bd3786"
            ],
            [
             0.5555555555555556,
             "#d8576b"
            ],
            [
             0.6666666666666666,
             "#ed7953"
            ],
            [
             0.7777777777777778,
             "#fb9f3a"
            ],
            [
             0.8888888888888888,
             "#fdca26"
            ],
            [
             1,
             "#f0f921"
            ]
           ],
           "sequentialminus": [
            [
             0,
             "#0d0887"
            ],
            [
             0.1111111111111111,
             "#46039f"
            ],
            [
             0.2222222222222222,
             "#7201a8"
            ],
            [
             0.3333333333333333,
             "#9c179e"
            ],
            [
             0.4444444444444444,
             "#bd3786"
            ],
            [
             0.5555555555555556,
             "#d8576b"
            ],
            [
             0.6666666666666666,
             "#ed7953"
            ],
            [
             0.7777777777777778,
             "#fb9f3a"
            ],
            [
             0.8888888888888888,
             "#fdca26"
            ],
            [
             1,
             "#f0f921"
            ]
           ]
          },
          "colorway": [
           "#636efa",
           "#EF553B",
           "#00cc96",
           "#ab63fa",
           "#FFA15A",
           "#19d3f3",
           "#FF6692",
           "#B6E880",
           "#FF97FF",
           "#FECB52"
          ],
          "font": {
           "color": "#2a3f5f"
          },
          "geo": {
           "bgcolor": "white",
           "lakecolor": "white",
           "landcolor": "#E5ECF6",
           "showlakes": true,
           "showland": true,
           "subunitcolor": "white"
          },
          "hoverlabel": {
           "align": "left"
          },
          "hovermode": "closest",
          "mapbox": {
           "style": "light"
          },
          "paper_bgcolor": "white",
          "plot_bgcolor": "#E5ECF6",
          "polar": {
           "angularaxis": {
            "gridcolor": "white",
            "linecolor": "white",
            "ticks": ""
           },
           "bgcolor": "#E5ECF6",
           "radialaxis": {
            "gridcolor": "white",
            "linecolor": "white",
            "ticks": ""
           }
          },
          "scene": {
           "xaxis": {
            "backgroundcolor": "#E5ECF6",
            "gridcolor": "white",
            "gridwidth": 2,
            "linecolor": "white",
            "showbackground": true,
            "ticks": "",
            "zerolinecolor": "white"
           },
           "yaxis": {
            "backgroundcolor": "#E5ECF6",
            "gridcolor": "white",
            "gridwidth": 2,
            "linecolor": "white",
            "showbackground": true,
            "ticks": "",
            "zerolinecolor": "white"
           },
           "zaxis": {
            "backgroundcolor": "#E5ECF6",
            "gridcolor": "white",
            "gridwidth": 2,
            "linecolor": "white",
            "showbackground": true,
            "ticks": "",
            "zerolinecolor": "white"
           }
          },
          "shapedefaults": {
           "line": {
            "color": "#2a3f5f"
           }
          },
          "ternary": {
           "aaxis": {
            "gridcolor": "white",
            "linecolor": "white",
            "ticks": ""
           },
           "baxis": {
            "gridcolor": "white",
            "linecolor": "white",
            "ticks": ""
           },
           "bgcolor": "#E5ECF6",
           "caxis": {
            "gridcolor": "white",
            "linecolor": "white",
            "ticks": ""
           }
          },
          "title": {
           "x": 0.05
          },
          "xaxis": {
           "automargin": true,
           "gridcolor": "white",
           "linecolor": "white",
           "ticks": "",
           "title": {
            "standoff": 15
           },
           "zerolinecolor": "white",
           "zerolinewidth": 2
          },
          "yaxis": {
           "automargin": true,
           "gridcolor": "white",
           "linecolor": "white",
           "ticks": "",
           "title": {
            "standoff": 15
           },
           "zerolinecolor": "white",
           "zerolinewidth": 2
          }
         }
        },
        "title": {
         "text": "Possesion quality ( 238)",
         "x": 0.5,
         "xanchor": "center"
        },
        "width": 1200,
        "xaxis": {
         "anchor": "y",
         "domain": [
          0,
          1
         ],
         "gridcolor": "white",
         "showgrid": true,
         "title": {
          "text": "possession_lost/90"
         },
         "zeroline": false
        },
        "yaxis": {
         "anchor": "x",
         "domain": [
          0,
          1
         ],
         "gridcolor": "white",
         "showgrid": true,
         "title": {
          "text": "possession_won/90"
         },
         "zeroline": false
        }
       }
      }
     },
     "metadata": {},
     "output_type": "display_data"
    }
   ],
   "source": [
    "# Full universe \n",
    "scatter_plot(df_targets,\n",
    "             x_metric='possession_lost/90', \n",
    "             y_metric='possession_won/90',\n",
    "             z_metric='poss+_/90',\n",
    "             title='Possesion quality', \n",
    "             show_name_label=False\n",
    ")"
   ]
  },
  {
   "cell_type": "code",
   "execution_count": 33,
   "id": "4647b74a",
   "metadata": {},
   "outputs": [
    {
     "data": {
      "application/vnd.plotly.v1+json": {
       "config": {
        "plotlyServerURL": "https://plot.ly"
       },
       "data": [
        {
         "customdata": [
          [
           "Julius Beck",
           "AGF"
          ],
          [
           "Michael Akoto",
           "AGF"
          ],
          [
           "Peer Koopmeiners",
           "Almere City"
          ],
          [
           "Eboué Kouassi",
           "Arouca"
          ],
          [
           "Rhaldney",
           "ATG"
          ],
          [
           "Baralhas",
           "ATG"
          ],
          [
           "Elvis Rexhbecaj",
           "Augsburg"
          ],
          [
           "Kristijan Belić",
           "AZ"
          ],
          [
           "Nicolás Acevedo",
           "BAH"
          ],
          [
           "Rodrigo Herrera",
           "Barracas Central"
          ],
          [
           "Exequiel Palacios",
           "Bayer 04"
          ],
          [
           "Santiago Longo",
           "Belgrano"
          ],
          [
           "Nicolás Garayalde",
           "Boca"
          ],
          [
           "Ladislav Krejčí",
           "Bologna"
          ],
          [
           "Kristoffer Ajer",
           "Brentford"
          ],
          [
           "Márton Dárdai",
           "Celta"
          ],
          [
           "Fausto Vera",
           "COR"
          ],
          [
           "Gabriel Moscardo",
           "COR"
          ],
          [
           "Keidi Bare",
           "Coventry"
          ],
          [
           "Joel Latibeaudiere",
           "Coventry"
          ],
          [
           "Cheick Doucouré",
           "Crystal Palace"
          ],
          [
           "Luca Belardinelli",
           "Empoli"
          ],
          [
           "Siebe Horemans",
           "Excelsior"
          ],
          [
           "Tom Lacoux",
           "Famalicão"
          ],
          [
           "William Clem",
           "FC København"
          ],
          [
           "Hugo Moura",
           "FC København"
          ],
          [
           "Eric Martel",
           "FC Köln"
          ],
          [
           "Oliver Sørensen",
           "FC Midtjylland"
          ],
          [
           "Michal Sadílek",
           "FC Twente"
          ],
          [
           "Youri Regeer",
           "FC Twente"
          ],
          [
           "Ryan Flamingo",
           "FC Utrecht"
          ],
          [
           "Calvin Twigt",
           "FC Volendam"
          ],
          [
           "Thomas Beelen",
           "Feyenoord"
          ],
          [
           "Gaïus Makouta",
           "Fiorentina"
          ],
          [
           "Matheus Henrique",
           "FLA"
          ],
          [
           "Enzo Barrenechea",
           "Frosinone"
          ],
          [
           "Jesús Castillo",
           "Gil Vicente"
          ],
          [
           "Felipe Silva",
           "Gil Vicente"
          ],
          [
           "Vicente Poggi",
           "Godoy Cruz"
          ],
          [
           "Bruno Leyes",
           "Godoy Cruz"
          ],
          [
           "Juninho",
           "GOI"
          ],
          [
           "David Kasumu",
           "Huddersfield"
          ],
          [
           "Regan Slater",
           "Hull"
          ],
          [
           "Francisco Maidana",
           "Independiente Rivadavia"
          ],
          [
           "Felipe Peña Biafore",
           "Lanús"
          ],
          [
           "Ryan Gravenberch",
           "Leicester"
          ],
          [
           "Stefan Bajčetić",
           "Liverpool"
          ],
          [
           "Albert Sambi Lokonga",
           "Luton"
          ],
          [
           "Samú",
           "Mallorca"
          ],
          [
           "Danil Glebov",
           "Marseille"
          ],
          [
           "Tommaso Pobega",
           "Milan"
          ],
          [
           "Manu Koné",
           "Mönchengladbach"
          ],
          [
           "Gonçalo Franco",
           "Moreirense"
          ],
          [
           "Jens Cajuste",
           "Napoli"
          ],
          [
           "Hicham Boudaoui",
           "Nice"
          ],
          [
           "Youssouf Ndayishimiye",
           "Nice"
          ],
          [
           "Ibrahim Sangaré",
           "Nottm Forest"
          ],
          [
           "Nicolás Domínguez",
           "Nottm Forest"
          ],
          [
           "Iker Muñoz",
           "Osasuna"
          ],
          [
           "Adam Randell",
           "Plymouth"
          ],
          [
           "Žan Jevšenak",
           "Portimonense"
          ],
          [
           "Lamare Bogarde",
           "Preston"
          ],
          [
           "Ali McCann",
           "Preston"
          ],
          [
           "Manuel Ugarte",
           "PSG"
          ],
          [
           "Sam Field",
           "QPR"
          ],
          [
           "Xaver Schlager",
           "RB Leipzig"
          ],
          [
           "Federico Valverde",
           "Real Madrid"
          ],
          [
           "Mateo Tanlongo",
           "Rio Ave"
          ],
          [
           "Patrick Vroegh",
           "RKC Waalwijk"
          ],
          [
           "Edoardo Bove",
           "Roma"
          ],
          [
           "Manuel Insaurralde",
           "Rosario Central"
          ],
          [
           "Mateusz Łęgowski",
           "Salernitana"
          ],
          [
           "Daniel Boloca",
           "Sassuolo"
          ],
          [
           "Syb van Ottele",
           "sc Heerenveen"
          ],
          [
           "Aníbal Moreno",
           "SEP"
          ],
          [
           "Boubakary Soumaré",
           "Sevilla"
          ],
          [
           "Shea Charles",
           "Southampton"
          ],
          [
           "Flynn Downes",
           "Southampton"
          ],
          [
           "Vitor Carvalho",
           "Sp. Braga"
          ],
          [
           "Joshua Kitolano",
           "Sparta Rotterdam"
          ],
          [
           "Diego Costa",
           "SPO"
          ],
          [
           "Pablo Maia",
           "SPO"
          ],
          [
           "Morten Hjulmand",
           "Sporting CP"
          ],
          [
           "Fábio Matheus",
           "SPT"
          ],
          [
           "Dan Neil",
           "Sunderland"
          ],
          [
           "Senne Lynen",
           "SV Werder"
          ],
          [
           "Juan Carlos Portillo",
           "Talleres"
          ],
          [
           "Mateo Seoane",
           "Talleres"
          ],
          [
           "Agustín Cardozo",
           "Tigre"
          ],
          [
           "Samuele Ricci",
           "Torino"
          ],
          [
           "Patricio Tanda",
           "Unión (SF)"
          ],
          [
           "Hugo Guillamón",
           "Valencia"
          ],
          [
           "Berkan Kutlu",
           "Vit. Guimarães"
          ],
          [
           "Zé Carlos",
           "Vit. Guimarães"
          ],
          [
           "Toni Domgjoni",
           "Vitesse"
          ],
          [
           "Melle Meulensteen",
           "Vitesse"
          ],
          [
           "Jota",
           "Vizela"
          ],
          [
           "Houssem Mrezigue",
           "Vizela"
          ],
          [
           "Ismaël Koné",
           "Watford"
          ],
          [
           "Edson Álvarez",
           "West Ham"
          ]
         ],
         "hovertemplate": "<b>%{customdata[0]}</b><br><b>%{customdata[1]}</b><br><br>possession_lost/90: %{x}<br>possession_won/90: %{y}<br>poss+_/90: %{marker.color}<extra></extra>",
         "legendgroup": "",
         "marker": {
          "color": {
           "bdata": "H4XrUbge8T8zMzMzMzMUQOF6FK5H4eI/KVyPwvUoBEDsUbgehevhP7gehetRuAJA9ihcj8L1+D/hehSuR+EGQBSuR+F6FAxAAAAAAAAACEDhehSuR+H6PwAAAAAAABRAcT0K16Nw9T9xPQrXo3AHQJqZmZmZmRJAUrgehetR4D+kcD0K16P4P1K4HoXrUfA/MzMzMzMz8z8fhetRuB4BQHsUrkfhegBASOF6FK5H/T/D9Shcj8ISQIXrUbgehQlAexSuR+F69D+4HoXrUbj+Pz0K16NwPRFArkfhehSuC0CF61G4HoUDQD0K16NwPfI/rkfhehSuDUCuR+F6FK7zPxSuR+F6FBVAH4XrUbge/T+PwvUoXI/6P9ejcD0K1xBAcT0K16NwBUDhehSuR+EAQHsUrkfhevA/zczMzMzMAkCPwvUoXI/+Pz0K16NwPQJA7FG4HoXr8T9xPQrXo3D5PzMzMzMzMw1AexSuR+F6AECkcD0K16P8Pz0K16NwPQRAmpmZmZmZ9T/hehSuR+HaP3E9CtejcPE/hetRuB6F2z9cj8L1KFwBQOF6FK5H4QBAZmZmZmZm1j/Xo3A9CtcfQPYoXI/C9QRAKVyPwvUoBECF61G4HoUBQKRwPQrXo/A/SOF6FK5H/T+PwvUoXI8AQOF6FK5H4fY/CtejcD0K9z/2KFyPwvX0P8P1KFyPwuU/rkfhehSuBUA9CtejcD32P65H4XoUrtc/hetRuB6F4z+amZmZmZkFQDMzMzMzM+s/cT0K16Nw5T8fhetRuB4cQM3MzMzMzPg/MzMzMzMzCUAUrkfhehT6P4/C9Shcj/o/4XoUrkfhEEAfhetRuB7lP3E9CtejcBpApHA9Ctej0D97FK5H4XrsP3E9CtejcPE/MzMzMzMz9z9cj8L1KFzzP3sUrkfhehRAKVyPwvUoBEA9CtejcD0MQHE9CtejcPE/pHA9Ctej+D/hehSuR+EAQEjhehSuR/E/KVyPwvUo/D8UrkfhehT6P65H4XoUrg1A7FG4HoXrGEAzMzMzMzMFQKRwPQrXo9A/SOF6FK5HBUA=",
           "dtype": "f8"
          },
          "coloraxis": "coloraxis",
          "size": 10,
          "symbol": "circle"
         },
         "mode": "markers",
         "name": "",
         "orientation": "v",
         "showlegend": false,
         "textfont": {
          "size": 10
         },
         "textposition": "top center",
         "type": "scatter",
         "x": {
          "bdata": "16NwPQrXHUDD9Shcj8IZQAAAAAAAABxAXI/C9ShcGUC4HoXrUbgcQJqZmZmZmRZAexSuR+F6G0DD9Shcj8IaQEjhehSuRxlAexSuR+F6G0BI4XoUrkceQK5H4XoUrhZAKVyPwvUoHkBcj8L1KFwYQDMzMzMzMxVAcT0K16NwH0AzMzMzMzMcQNejcD0K1xtAuB6F61G4HUBI4XoUrkcfQHE9CtejcB1AmpmZmZmZH0AAAAAAAAARQHsUrkfhehxAH4XrUbgeH0AfhetRuB4ZQIXrUbgehRlA16NwPQrXHkDD9Shcj8IYQGZmZmZmZh5AZmZmZmZmGkAK16NwPQocQDMzMzMzMxNAexSuR+F6HkCamZmZmZkaQEjhehSuRxtA9ihcj8L1HEBmZmZmZmYZQI/C9ShcjxtA4XoUrkfhGUBSuB6F61EdQJqZmZmZmRtArkfhehSuHEB7FK5H4XodQGZmZmZmZhtAzczMzMzMGUDhehSuR+EYQD0K16NwPR9AUrgehetRH0DXo3A9CtceQMP1KFyPwh5A16NwPQrXHEAzMzMzMzMeQEjhehSuRx1A9ihcj8L1HUDD9Shcj8ITQOxRuB6F6xpA9ihcj8L1GEApXI/C9SgcQFyPwvUoXB1ASOF6FK5HH0BxPQrXo3AdQNejcD0K1x5AXI/C9ShcGkCuR+F6FK4aQKRwPQrXoxtAAAAAAAAAGkCuR+F6FK4bQEjhehSuRx1AFK5H4XoUH0CPwvUoXI8cQIXrUbgehRtAzczMzMzMHUDsUbgehesUQBSuR+F6FBtAexSuR+F6HUDNzMzMzMwdQNejcD0K1xlAFK5H4XoUH0AUrkfhehQfQMP1KFyPwhNAj8L1KFyPH0DhehSuR+EaQEjhehSuRxpAPQrXo3A9GUC4HoXrUbgfQI/C9ShcjxtAKVyPwvUoHUCF61G4HoUXQHsUrkfheh9A9ihcj8L1H0AUrkfhehQdQBSuR+F6FB9AFK5H4XoUGUC4HoXrUbgfQAAAAAAAABZA4XoUrkfhFEC4HoXrUbgYQI/C9Shcjx5Aj8L1KFyPGEA=",
          "dtype": "f8"
         },
         "xaxis": "x",
         "y": {
          "bdata": "j8L1KFwPIUB7FK5H4fomQFyPwvUoXB5AuB6F61G4IUD2KFyPwvUeQPYoXI/C9R9AXI/C9SjcIECamZmZmRkjQClcj8L1qCNAPQrXo3C9I0AAAAAAAIAiQNejcD0KVyVAw/UoXI/CIUAK16NwPQoiQGZmZmZm5iNAPQrXo3C9IECuR+F6FC4hQOxRuB6F6x9Aw/UoXI9CIUDsUbgehesjQNejcD0K1yJA9ihcj8J1I0DhehSuR+EhQB+F61G4niRAH4XrUbgeIkBmZmZmZmYgQOF6FK5HYSVA16NwPQpXJkDD9Shcj0IhQHsUrkfheiFAH4XrUbieJEB7FK5H4XogQKRwPQrXIyRA4XoUrkfhIkAfhetRuJ4gQI/C9ShcDyZA16NwPQrXI0DsUbgehesgQK5H4XoUrh9ApHA9CtejIUB7FK5H4XoiQFyPwvUoXCJAFK5H4XqUIEDsUbgeheshQAAAAAAAACVAhetRuB4FIUCF61G4HgUgQK5H4XoUriRAXI/C9ShcIkDD9Shcj0IgQI/C9ShcjyFAj8L1KFyPHkBxPQrXo3AjQFyPwvUo3CJAXI/C9ShcH0DNzMzMzMwpQDMzMzMzsyJAhetRuB6FIUD2KFyPwnUiQMP1KFyPwiBAzczMzMxMI0Bcj8L1KNwiQEjhehSuRyJAj8L1KFwPIEDsUbgehesfQFyPwvUoXB5A7FG4HoVrIkAfhetRuJ4gQMP1KFyPwh5Aw/UoXI/CIECuR+F6FK4jQOxRuB6F6x5APQrXo3A9IECF61G4HoUoQKRwPQrXoyBACtejcD0KJUApXI/C9SgiQD0K16NwPSBAexSuR+H6J0Bcj8L1KNwgQJqZmZmZGSdAzczMzMxMIEBxPQrXo3AeQKRwPQrXox5ACtejcD0KH0BI4XoUrkciQIXrUbgeBShAH4XrUbieI0BSuB6F69EiQOxRuB6F6yFAj8L1KFwPI0DD9Shcj8IiQDMzMzMzsyFAj8L1KFwPIEAfhetRuB4jQOxRuB6FayJAZmZmZmbmJkApXI/C9aghQJqZmZmZmR9AmpmZmZmZIUA=",
          "dtype": "f8"
         },
         "yaxis": "y"
        }
       ],
       "layout": {
        "coloraxis": {
         "colorbar": {
          "title": {
           "text": "poss+_/90"
          }
         },
         "colorscale": [
          [
           0,
           "rgb(165,0,38)"
          ],
          [
           0.1,
           "rgb(215,48,39)"
          ],
          [
           0.2,
           "rgb(244,109,67)"
          ],
          [
           0.3,
           "rgb(253,174,97)"
          ],
          [
           0.4,
           "rgb(254,224,139)"
          ],
          [
           0.5,
           "rgb(255,255,191)"
          ],
          [
           0.6,
           "rgb(217,239,139)"
          ],
          [
           0.7,
           "rgb(166,217,106)"
          ],
          [
           0.8,
           "rgb(102,189,99)"
          ],
          [
           0.9,
           "rgb(26,152,80)"
          ],
          [
           1,
           "rgb(0,104,55)"
          ]
         ],
         "showscale": false
        },
        "height": 700,
        "legend": {
         "tracegroupgap": 0
        },
        "paper_bgcolor": "darkgray",
        "plot_bgcolor": "darkgray",
        "template": {
         "data": {
          "bar": [
           {
            "error_x": {
             "color": "#2a3f5f"
            },
            "error_y": {
             "color": "#2a3f5f"
            },
            "marker": {
             "line": {
              "color": "#E5ECF6",
              "width": 0.5
             },
             "pattern": {
              "fillmode": "overlay",
              "size": 10,
              "solidity": 0.2
             }
            },
            "type": "bar"
           }
          ],
          "barpolar": [
           {
            "marker": {
             "line": {
              "color": "#E5ECF6",
              "width": 0.5
             },
             "pattern": {
              "fillmode": "overlay",
              "size": 10,
              "solidity": 0.2
             }
            },
            "type": "barpolar"
           }
          ],
          "carpet": [
           {
            "aaxis": {
             "endlinecolor": "#2a3f5f",
             "gridcolor": "white",
             "linecolor": "white",
             "minorgridcolor": "white",
             "startlinecolor": "#2a3f5f"
            },
            "baxis": {
             "endlinecolor": "#2a3f5f",
             "gridcolor": "white",
             "linecolor": "white",
             "minorgridcolor": "white",
             "startlinecolor": "#2a3f5f"
            },
            "type": "carpet"
           }
          ],
          "choropleth": [
           {
            "colorbar": {
             "outlinewidth": 0,
             "ticks": ""
            },
            "type": "choropleth"
           }
          ],
          "contour": [
           {
            "colorbar": {
             "outlinewidth": 0,
             "ticks": ""
            },
            "colorscale": [
             [
              0,
              "#0d0887"
             ],
             [
              0.1111111111111111,
              "#46039f"
             ],
             [
              0.2222222222222222,
              "#7201a8"
             ],
             [
              0.3333333333333333,
              "#9c179e"
             ],
             [
              0.4444444444444444,
              "#bd3786"
             ],
             [
              0.5555555555555556,
              "#d8576b"
             ],
             [
              0.6666666666666666,
              "#ed7953"
             ],
             [
              0.7777777777777778,
              "#fb9f3a"
             ],
             [
              0.8888888888888888,
              "#fdca26"
             ],
             [
              1,
              "#f0f921"
             ]
            ],
            "type": "contour"
           }
          ],
          "contourcarpet": [
           {
            "colorbar": {
             "outlinewidth": 0,
             "ticks": ""
            },
            "type": "contourcarpet"
           }
          ],
          "heatmap": [
           {
            "colorbar": {
             "outlinewidth": 0,
             "ticks": ""
            },
            "colorscale": [
             [
              0,
              "#0d0887"
             ],
             [
              0.1111111111111111,
              "#46039f"
             ],
             [
              0.2222222222222222,
              "#7201a8"
             ],
             [
              0.3333333333333333,
              "#9c179e"
             ],
             [
              0.4444444444444444,
              "#bd3786"
             ],
             [
              0.5555555555555556,
              "#d8576b"
             ],
             [
              0.6666666666666666,
              "#ed7953"
             ],
             [
              0.7777777777777778,
              "#fb9f3a"
             ],
             [
              0.8888888888888888,
              "#fdca26"
             ],
             [
              1,
              "#f0f921"
             ]
            ],
            "type": "heatmap"
           }
          ],
          "histogram": [
           {
            "marker": {
             "pattern": {
              "fillmode": "overlay",
              "size": 10,
              "solidity": 0.2
             }
            },
            "type": "histogram"
           }
          ],
          "histogram2d": [
           {
            "colorbar": {
             "outlinewidth": 0,
             "ticks": ""
            },
            "colorscale": [
             [
              0,
              "#0d0887"
             ],
             [
              0.1111111111111111,
              "#46039f"
             ],
             [
              0.2222222222222222,
              "#7201a8"
             ],
             [
              0.3333333333333333,
              "#9c179e"
             ],
             [
              0.4444444444444444,
              "#bd3786"
             ],
             [
              0.5555555555555556,
              "#d8576b"
             ],
             [
              0.6666666666666666,
              "#ed7953"
             ],
             [
              0.7777777777777778,
              "#fb9f3a"
             ],
             [
              0.8888888888888888,
              "#fdca26"
             ],
             [
              1,
              "#f0f921"
             ]
            ],
            "type": "histogram2d"
           }
          ],
          "histogram2dcontour": [
           {
            "colorbar": {
             "outlinewidth": 0,
             "ticks": ""
            },
            "colorscale": [
             [
              0,
              "#0d0887"
             ],
             [
              0.1111111111111111,
              "#46039f"
             ],
             [
              0.2222222222222222,
              "#7201a8"
             ],
             [
              0.3333333333333333,
              "#9c179e"
             ],
             [
              0.4444444444444444,
              "#bd3786"
             ],
             [
              0.5555555555555556,
              "#d8576b"
             ],
             [
              0.6666666666666666,
              "#ed7953"
             ],
             [
              0.7777777777777778,
              "#fb9f3a"
             ],
             [
              0.8888888888888888,
              "#fdca26"
             ],
             [
              1,
              "#f0f921"
             ]
            ],
            "type": "histogram2dcontour"
           }
          ],
          "mesh3d": [
           {
            "colorbar": {
             "outlinewidth": 0,
             "ticks": ""
            },
            "type": "mesh3d"
           }
          ],
          "parcoords": [
           {
            "line": {
             "colorbar": {
              "outlinewidth": 0,
              "ticks": ""
             }
            },
            "type": "parcoords"
           }
          ],
          "pie": [
           {
            "automargin": true,
            "type": "pie"
           }
          ],
          "scatter": [
           {
            "fillpattern": {
             "fillmode": "overlay",
             "size": 10,
             "solidity": 0.2
            },
            "type": "scatter"
           }
          ],
          "scatter3d": [
           {
            "line": {
             "colorbar": {
              "outlinewidth": 0,
              "ticks": ""
             }
            },
            "marker": {
             "colorbar": {
              "outlinewidth": 0,
              "ticks": ""
             }
            },
            "type": "scatter3d"
           }
          ],
          "scattercarpet": [
           {
            "marker": {
             "colorbar": {
              "outlinewidth": 0,
              "ticks": ""
             }
            },
            "type": "scattercarpet"
           }
          ],
          "scattergeo": [
           {
            "marker": {
             "colorbar": {
              "outlinewidth": 0,
              "ticks": ""
             }
            },
            "type": "scattergeo"
           }
          ],
          "scattergl": [
           {
            "marker": {
             "colorbar": {
              "outlinewidth": 0,
              "ticks": ""
             }
            },
            "type": "scattergl"
           }
          ],
          "scattermap": [
           {
            "marker": {
             "colorbar": {
              "outlinewidth": 0,
              "ticks": ""
             }
            },
            "type": "scattermap"
           }
          ],
          "scattermapbox": [
           {
            "marker": {
             "colorbar": {
              "outlinewidth": 0,
              "ticks": ""
             }
            },
            "type": "scattermapbox"
           }
          ],
          "scatterpolar": [
           {
            "marker": {
             "colorbar": {
              "outlinewidth": 0,
              "ticks": ""
             }
            },
            "type": "scatterpolar"
           }
          ],
          "scatterpolargl": [
           {
            "marker": {
             "colorbar": {
              "outlinewidth": 0,
              "ticks": ""
             }
            },
            "type": "scatterpolargl"
           }
          ],
          "scatterternary": [
           {
            "marker": {
             "colorbar": {
              "outlinewidth": 0,
              "ticks": ""
             }
            },
            "type": "scatterternary"
           }
          ],
          "surface": [
           {
            "colorbar": {
             "outlinewidth": 0,
             "ticks": ""
            },
            "colorscale": [
             [
              0,
              "#0d0887"
             ],
             [
              0.1111111111111111,
              "#46039f"
             ],
             [
              0.2222222222222222,
              "#7201a8"
             ],
             [
              0.3333333333333333,
              "#9c179e"
             ],
             [
              0.4444444444444444,
              "#bd3786"
             ],
             [
              0.5555555555555556,
              "#d8576b"
             ],
             [
              0.6666666666666666,
              "#ed7953"
             ],
             [
              0.7777777777777778,
              "#fb9f3a"
             ],
             [
              0.8888888888888888,
              "#fdca26"
             ],
             [
              1,
              "#f0f921"
             ]
            ],
            "type": "surface"
           }
          ],
          "table": [
           {
            "cells": {
             "fill": {
              "color": "#EBF0F8"
             },
             "line": {
              "color": "white"
             }
            },
            "header": {
             "fill": {
              "color": "#C8D4E3"
             },
             "line": {
              "color": "white"
             }
            },
            "type": "table"
           }
          ]
         },
         "layout": {
          "annotationdefaults": {
           "arrowcolor": "#2a3f5f",
           "arrowhead": 0,
           "arrowwidth": 1
          },
          "autotypenumbers": "strict",
          "coloraxis": {
           "colorbar": {
            "outlinewidth": 0,
            "ticks": ""
           }
          },
          "colorscale": {
           "diverging": [
            [
             0,
             "#8e0152"
            ],
            [
             0.1,
             "#c51b7d"
            ],
            [
             0.2,
             "#de77ae"
            ],
            [
             0.3,
             "#f1b6da"
            ],
            [
             0.4,
             "#fde0ef"
            ],
            [
             0.5,
             "#f7f7f7"
            ],
            [
             0.6,
             "#e6f5d0"
            ],
            [
             0.7,
             "#b8e186"
            ],
            [
             0.8,
             "#7fbc41"
            ],
            [
             0.9,
             "#4d9221"
            ],
            [
             1,
             "#276419"
            ]
           ],
           "sequential": [
            [
             0,
             "#0d0887"
            ],
            [
             0.1111111111111111,
             "#46039f"
            ],
            [
             0.2222222222222222,
             "#7201a8"
            ],
            [
             0.3333333333333333,
             "#9c179e"
            ],
            [
             0.4444444444444444,
             "#bd3786"
            ],
            [
             0.5555555555555556,
             "#d8576b"
            ],
            [
             0.6666666666666666,
             "#ed7953"
            ],
            [
             0.7777777777777778,
             "#fb9f3a"
            ],
            [
             0.8888888888888888,
             "#fdca26"
            ],
            [
             1,
             "#f0f921"
            ]
           ],
           "sequentialminus": [
            [
             0,
             "#0d0887"
            ],
            [
             0.1111111111111111,
             "#46039f"
            ],
            [
             0.2222222222222222,
             "#7201a8"
            ],
            [
             0.3333333333333333,
             "#9c179e"
            ],
            [
             0.4444444444444444,
             "#bd3786"
            ],
            [
             0.5555555555555556,
             "#d8576b"
            ],
            [
             0.6666666666666666,
             "#ed7953"
            ],
            [
             0.7777777777777778,
             "#fb9f3a"
            ],
            [
             0.8888888888888888,
             "#fdca26"
            ],
            [
             1,
             "#f0f921"
            ]
           ]
          },
          "colorway": [
           "#636efa",
           "#EF553B",
           "#00cc96",
           "#ab63fa",
           "#FFA15A",
           "#19d3f3",
           "#FF6692",
           "#B6E880",
           "#FF97FF",
           "#FECB52"
          ],
          "font": {
           "color": "#2a3f5f"
          },
          "geo": {
           "bgcolor": "white",
           "lakecolor": "white",
           "landcolor": "#E5ECF6",
           "showlakes": true,
           "showland": true,
           "subunitcolor": "white"
          },
          "hoverlabel": {
           "align": "left"
          },
          "hovermode": "closest",
          "mapbox": {
           "style": "light"
          },
          "paper_bgcolor": "white",
          "plot_bgcolor": "#E5ECF6",
          "polar": {
           "angularaxis": {
            "gridcolor": "white",
            "linecolor": "white",
            "ticks": ""
           },
           "bgcolor": "#E5ECF6",
           "radialaxis": {
            "gridcolor": "white",
            "linecolor": "white",
            "ticks": ""
           }
          },
          "scene": {
           "xaxis": {
            "backgroundcolor": "#E5ECF6",
            "gridcolor": "white",
            "gridwidth": 2,
            "linecolor": "white",
            "showbackground": true,
            "ticks": "",
            "zerolinecolor": "white"
           },
           "yaxis": {
            "backgroundcolor": "#E5ECF6",
            "gridcolor": "white",
            "gridwidth": 2,
            "linecolor": "white",
            "showbackground": true,
            "ticks": "",
            "zerolinecolor": "white"
           },
           "zaxis": {
            "backgroundcolor": "#E5ECF6",
            "gridcolor": "white",
            "gridwidth": 2,
            "linecolor": "white",
            "showbackground": true,
            "ticks": "",
            "zerolinecolor": "white"
           }
          },
          "shapedefaults": {
           "line": {
            "color": "#2a3f5f"
           }
          },
          "ternary": {
           "aaxis": {
            "gridcolor": "white",
            "linecolor": "white",
            "ticks": ""
           },
           "baxis": {
            "gridcolor": "white",
            "linecolor": "white",
            "ticks": ""
           },
           "bgcolor": "#E5ECF6",
           "caxis": {
            "gridcolor": "white",
            "linecolor": "white",
            "ticks": ""
           }
          },
          "title": {
           "x": 0.05
          },
          "xaxis": {
           "automargin": true,
           "gridcolor": "white",
           "linecolor": "white",
           "ticks": "",
           "title": {
            "standoff": 15
           },
           "zerolinecolor": "white",
           "zerolinewidth": 2
          },
          "yaxis": {
           "automargin": true,
           "gridcolor": "white",
           "linecolor": "white",
           "ticks": "",
           "title": {
            "standoff": 15
           },
           "zerolinecolor": "white",
           "zerolinewidth": 2
          }
         }
        },
        "title": {
         "text": "Possesion quality ( 100)",
         "x": 0.5,
         "xanchor": "center"
        },
        "width": 1200,
        "xaxis": {
         "anchor": "y",
         "domain": [
          0,
          1
         ],
         "gridcolor": "white",
         "showgrid": true,
         "title": {
          "text": "possession_lost/90"
         },
         "zeroline": false
        },
        "yaxis": {
         "anchor": "x",
         "domain": [
          0,
          1
         ],
         "gridcolor": "white",
         "showgrid": true,
         "title": {
          "text": "possession_won/90"
         },
         "zeroline": false
        }
       }
      }
     },
     "metadata": {},
     "output_type": "display_data"
    }
   ],
   "source": [
    "# Filter data \n",
    "mask = (\n",
    "        (df_players['possession_lost/90'] <= 8) & \\\n",
    "        (df_players['possession_won/90'] >= 7.5) & \\\n",
    "        (df_players['poss+_/90'] >= 0) & \\\n",
    "        (df_players['age'] <= 26) & \\\n",
    "        (df_players['id'].isin(targets))\n",
    "        \n",
    "        \n",
    ")\n",
    "\n",
    "df_targets = df_players[mask]\n",
    "\n",
    "scatter_plot(df_targets,\n",
    "             x_metric='possession_lost/90', \n",
    "             y_metric='possession_won/90',\n",
    "             z_metric='poss+_/90',\n",
    "             title='Possesion quality', \n",
    "             show_name_label=False\n",
    ")\n",
    "\n",
    "# Keep only players that fulfill criteria\n",
    "targets = list(df_targets['id'])"
   ]
  },
  {
   "cell_type": "markdown",
   "id": "05fd5ca0",
   "metadata": {},
   "source": [
    "## Aggresion vs Control\n",
    "Identify aggresive and foul prones targets"
   ]
  },
  {
   "cell_type": "code",
   "execution_count": 34,
   "id": "2d4b5cdd",
   "metadata": {},
   "outputs": [
    {
     "data": {
      "application/vnd.plotly.v1+json": {
       "config": {
        "plotlyServerURL": "https://plot.ly"
       },
       "data": [
        {
         "customdata": [
          [
           "Julius Beck",
           "AGF"
          ],
          [
           "Michael Akoto",
           "AGF"
          ],
          [
           "Peer Koopmeiners",
           "Almere City"
          ],
          [
           "Eboué Kouassi",
           "Arouca"
          ],
          [
           "Rhaldney",
           "ATG"
          ],
          [
           "Baralhas",
           "ATG"
          ],
          [
           "Elvis Rexhbecaj",
           "Augsburg"
          ],
          [
           "Kristijan Belić",
           "AZ"
          ],
          [
           "Nicolás Acevedo",
           "BAH"
          ],
          [
           "Rodrigo Herrera",
           "Barracas Central"
          ],
          [
           "Exequiel Palacios",
           "Bayer 04"
          ],
          [
           "Santiago Longo",
           "Belgrano"
          ],
          [
           "Nicolás Garayalde",
           "Boca"
          ],
          [
           "Ladislav Krejčí",
           "Bologna"
          ],
          [
           "Kristoffer Ajer",
           "Brentford"
          ],
          [
           "Márton Dárdai",
           "Celta"
          ],
          [
           "Fausto Vera",
           "COR"
          ],
          [
           "Gabriel Moscardo",
           "COR"
          ],
          [
           "Keidi Bare",
           "Coventry"
          ],
          [
           "Joel Latibeaudiere",
           "Coventry"
          ],
          [
           "Cheick Doucouré",
           "Crystal Palace"
          ],
          [
           "Luca Belardinelli",
           "Empoli"
          ],
          [
           "Siebe Horemans",
           "Excelsior"
          ],
          [
           "Tom Lacoux",
           "Famalicão"
          ],
          [
           "William Clem",
           "FC København"
          ],
          [
           "Hugo Moura",
           "FC København"
          ],
          [
           "Eric Martel",
           "FC Köln"
          ],
          [
           "Oliver Sørensen",
           "FC Midtjylland"
          ],
          [
           "Michal Sadílek",
           "FC Twente"
          ],
          [
           "Youri Regeer",
           "FC Twente"
          ],
          [
           "Ryan Flamingo",
           "FC Utrecht"
          ],
          [
           "Calvin Twigt",
           "FC Volendam"
          ],
          [
           "Thomas Beelen",
           "Feyenoord"
          ],
          [
           "Gaïus Makouta",
           "Fiorentina"
          ],
          [
           "Matheus Henrique",
           "FLA"
          ],
          [
           "Enzo Barrenechea",
           "Frosinone"
          ],
          [
           "Jesús Castillo",
           "Gil Vicente"
          ],
          [
           "Felipe Silva",
           "Gil Vicente"
          ],
          [
           "Vicente Poggi",
           "Godoy Cruz"
          ],
          [
           "Bruno Leyes",
           "Godoy Cruz"
          ],
          [
           "Juninho",
           "GOI"
          ],
          [
           "David Kasumu",
           "Huddersfield"
          ],
          [
           "Regan Slater",
           "Hull"
          ],
          [
           "Francisco Maidana",
           "Independiente Rivadavia"
          ],
          [
           "Felipe Peña Biafore",
           "Lanús"
          ],
          [
           "Ryan Gravenberch",
           "Leicester"
          ],
          [
           "Stefan Bajčetić",
           "Liverpool"
          ],
          [
           "Albert Sambi Lokonga",
           "Luton"
          ],
          [
           "Samú",
           "Mallorca"
          ],
          [
           "Danil Glebov",
           "Marseille"
          ],
          [
           "Tommaso Pobega",
           "Milan"
          ],
          [
           "Manu Koné",
           "Mönchengladbach"
          ],
          [
           "Gonçalo Franco",
           "Moreirense"
          ],
          [
           "Jens Cajuste",
           "Napoli"
          ],
          [
           "Hicham Boudaoui",
           "Nice"
          ],
          [
           "Youssouf Ndayishimiye",
           "Nice"
          ],
          [
           "Ibrahim Sangaré",
           "Nottm Forest"
          ],
          [
           "Nicolás Domínguez",
           "Nottm Forest"
          ],
          [
           "Iker Muñoz",
           "Osasuna"
          ],
          [
           "Adam Randell",
           "Plymouth"
          ],
          [
           "Žan Jevšenak",
           "Portimonense"
          ],
          [
           "Lamare Bogarde",
           "Preston"
          ],
          [
           "Ali McCann",
           "Preston"
          ],
          [
           "Manuel Ugarte",
           "PSG"
          ],
          [
           "Sam Field",
           "QPR"
          ],
          [
           "Xaver Schlager",
           "RB Leipzig"
          ],
          [
           "Federico Valverde",
           "Real Madrid"
          ],
          [
           "Mateo Tanlongo",
           "Rio Ave"
          ],
          [
           "Patrick Vroegh",
           "RKC Waalwijk"
          ],
          [
           "Edoardo Bove",
           "Roma"
          ],
          [
           "Manuel Insaurralde",
           "Rosario Central"
          ],
          [
           "Mateusz Łęgowski",
           "Salernitana"
          ],
          [
           "Daniel Boloca",
           "Sassuolo"
          ],
          [
           "Syb van Ottele",
           "sc Heerenveen"
          ],
          [
           "Aníbal Moreno",
           "SEP"
          ],
          [
           "Boubakary Soumaré",
           "Sevilla"
          ],
          [
           "Shea Charles",
           "Southampton"
          ],
          [
           "Flynn Downes",
           "Southampton"
          ],
          [
           "Vitor Carvalho",
           "Sp. Braga"
          ],
          [
           "Joshua Kitolano",
           "Sparta Rotterdam"
          ],
          [
           "Diego Costa",
           "SPO"
          ],
          [
           "Pablo Maia",
           "SPO"
          ],
          [
           "Morten Hjulmand",
           "Sporting CP"
          ],
          [
           "Fábio Matheus",
           "SPT"
          ],
          [
           "Dan Neil",
           "Sunderland"
          ],
          [
           "Senne Lynen",
           "SV Werder"
          ],
          [
           "Juan Carlos Portillo",
           "Talleres"
          ],
          [
           "Mateo Seoane",
           "Talleres"
          ],
          [
           "Agustín Cardozo",
           "Tigre"
          ],
          [
           "Samuele Ricci",
           "Torino"
          ],
          [
           "Patricio Tanda",
           "Unión (SF)"
          ],
          [
           "Hugo Guillamón",
           "Valencia"
          ],
          [
           "Berkan Kutlu",
           "Vit. Guimarães"
          ],
          [
           "Zé Carlos",
           "Vit. Guimarães"
          ],
          [
           "Toni Domgjoni",
           "Vitesse"
          ],
          [
           "Melle Meulensteen",
           "Vitesse"
          ],
          [
           "Jota",
           "Vizela"
          ],
          [
           "Houssem Mrezigue",
           "Vizela"
          ],
          [
           "Ismaël Koné",
           "Watford"
          ],
          [
           "Edson Álvarez",
           "West Ham"
          ]
         ],
         "hovertemplate": "<b>%{customdata[0]}</b><br><b>%{customdata[1]}</b><br><br>tackles_completed/90: %{x}<br>fouls_committed/90: %{y}<br>tackle_completion_%: %{marker.color}<extra></extra>",
         "legendgroup": "",
         "marker": {
          "color": {
           "bdata": "SE5PTElGSkxFWEdDUFRITkw+TldKWlJPR0dRS0VJSUdQRk5BRUtWSkpLSEdRUU1CRkVNR0ZJRExIRk9ISUZMTUtIVUVKRUpLR05PSEpNT0dPOUhKUkVLSE1CQkFKTEtOTkdERg==",
           "dtype": "i1"
          },
          "coloraxis": "coloraxis",
          "size": 10,
          "symbol": "circle"
         },
         "mode": "markers",
         "name": "",
         "orientation": "v",
         "showlegend": false,
         "textfont": {
          "size": 10
         },
         "textposition": "top center",
         "type": "scatter",
         "x": {
          "bdata": "uB6F61G4AEDhehSuR+H6P83MzMzMzABACtejcD0K9z9cj8L1KFz/P/YoXI/C9fg/XI/C9ShcBUBmZmZmZmYEQGZmZmZmZvo/16NwPQrXA0C4HoXrUbgAQMP1KFyPwgVAPQrXo3A9BEDsUbgehev9PwAAAAAAAPg/zczMzMzMBED2KFyPwvXwP7gehetRuPo/uB6F61G4BkB7FK5H4XoCQDMzMzMzMwNAFK5H4XoUBkDD9Shcj8LxPx+F61G4HgNAUrgehetR+D/Xo3A9Ctf7P3sUrkfheghArkfhehSuB0BxPQrXo3ABQM3MzMzMzAJAuB6F61G4AEDsUbgehev9Px+F61G4HvU/UrgehetRBEB7FK5H4Xr8PxSuR+F6FABA4XoUrkfh/j8K16NwPQr/PzMzMzMzM/s/9ihcj8L1CEDNzMzMzMz0P0jhehSuRwVAhetRuB6FAUAzMzMzMzP/Px+F61G4HvU/j8L1KFyP+j8UrkfhehQCQM3MzMzMzAJAH4XrUbgeBUBxPQrXo3D9Pz0K16NwPfY/4XoUrkfhAkCPwvUoXI8EQHE9CtejcAFAPQrXo3A9/j9cj8L1KFzzP+xRuB6F6wFAuB6F61G4CEDhehSuR+EEQFK4HoXrUQZACtejcD0KBUAfhetRuB4BQBSuR+F6FARAuB6F61G4AEB7FK5H4XoAQFK4HoXrUQJA9ihcj8L1BkCamZmZmZkDQOF6FK5H4QBAKVyPwvUoBEB7FK5H4Xr8P8P1KFyPwgFAZmZmZmZmBkB7FK5H4Xr4P5qZmZmZmQFAUrgehetR+D8K16NwPQr/P7gehetRuAJAPQrXo3A9CEDXo3A9CtcHQOF6FK5H4fI/SOF6FK5H9T9mZmZmZmYAQFK4HoXrUfw/mpmZmZmZAUAfhetRuB4FQDMzMzMzMwVAmpmZmZmZAUD2KFyPwvUAQNejcD0K1/8/hetRuB6F+z8pXI/C9SgCQD0K16NwPf4/uB6F61G4BkBmZmZmZmYIQOxRuB6F6wFAUrgehetR8D+F61G4HoUBQClcj8L1KPg/rkfhehSu/z8=",
          "dtype": "f8"
         },
         "xaxis": "x",
         "y": {
          "bdata": "KVyPwvUo9D89CtejcD3qP1K4HoXrUeg/zczMzMzM8D/NzMzMzMzcP7gehetRuP4/w/UoXI/C/T8AAAAAAAD4PzMzMzMzM+s/cT0K16Nw7T9SuB6F61H8PwAAAAAAAABApHA9Ctej9D8AAAAAAADwPx+F61G4HtU/CtejcD0K1z8K16NwPQrnP3E9CtejcN0/exSuR+F6/D97FK5H4XoCQAAAAAAAAPg/hetRuB6F9z9xPQrXo3DlP0jhehSuR/k/XI/C9Shc7z8UrkfhehTyPwrXo3A9Cvs/ZmZmZmZm/j8UrkfhehT2P6RwPQrXo+g/SOF6FK5H8T9I4XoUrkfhPwrXo3A9Cuc/UrgehetR8D9mZmZmZmb2P4XrUbgehfs/AAAAAAAA8D8K16NwPQrvP1K4HoXrUdg/9ihcj8L1/D8UrkfhehTmP3E9CtejcP0/cT0K16Nw/T8K16NwPQrXP65H4XoUrvc/mpmZmZmZ2T9SuB6F61HIP65H4XoUrv8/hetRuB6F+z8pXI/C9SjwPz0K16NwPfo/PQrXo3A9AEBcj8L1KFz/P9ejcD0K1+s/KVyPwvUo7D+uR+F6FK7nP83MzMzMzPw/ZmZmZmZmAkCamZmZmZnxP6RwPQrXo/Q/w/UoXI/C9T9xPQrXo3DtP0jhehSuR+E/uB6F61G47j+PwvUoXI/6PxSuR+F6FPY/9ihcj8L18D/2KFyPwvX8P+xRuB6F6/U/7FG4HoXr9T/Xo3A9CtfjP3E9CtejcPk/SOF6FK5H+T8pXI/C9SjkP4XrUbgehfM/zczMzMzM7D8fhetRuB75P5qZmZmZmQFA7FG4HoXr8T+PwvUoXI8AQDMzMzMzM9M/UrgehetR4D8UrkfhehT6P3E9CtejcPE/9ihcj8L14D9xPQrXo3D5P9ejcD0K1/c/4XoUrkfh8j/NzMzMzMzkP83MzMzMzOQ/CtejcD0K1z89CtejcD36PxSuR+F6FO4/7FG4HoXr6T8fhetRuB71P4/C9Shcj/o/j8L1KFyP0j9I4XoUrkfpP1K4HoXrUdg/4XoUrkfh8j8=",
          "dtype": "f8"
         },
         "yaxis": "y"
        }
       ],
       "layout": {
        "coloraxis": {
         "colorbar": {
          "title": {
           "text": "tackle_completion_%"
          }
         },
         "colorscale": [
          [
           0,
           "rgb(165,0,38)"
          ],
          [
           0.1,
           "rgb(215,48,39)"
          ],
          [
           0.2,
           "rgb(244,109,67)"
          ],
          [
           0.3,
           "rgb(253,174,97)"
          ],
          [
           0.4,
           "rgb(254,224,139)"
          ],
          [
           0.5,
           "rgb(255,255,191)"
          ],
          [
           0.6,
           "rgb(217,239,139)"
          ],
          [
           0.7,
           "rgb(166,217,106)"
          ],
          [
           0.8,
           "rgb(102,189,99)"
          ],
          [
           0.9,
           "rgb(26,152,80)"
          ],
          [
           1,
           "rgb(0,104,55)"
          ]
         ],
         "showscale": false
        },
        "height": 700,
        "legend": {
         "tracegroupgap": 0
        },
        "paper_bgcolor": "darkgray",
        "plot_bgcolor": "darkgray",
        "template": {
         "data": {
          "bar": [
           {
            "error_x": {
             "color": "#2a3f5f"
            },
            "error_y": {
             "color": "#2a3f5f"
            },
            "marker": {
             "line": {
              "color": "#E5ECF6",
              "width": 0.5
             },
             "pattern": {
              "fillmode": "overlay",
              "size": 10,
              "solidity": 0.2
             }
            },
            "type": "bar"
           }
          ],
          "barpolar": [
           {
            "marker": {
             "line": {
              "color": "#E5ECF6",
              "width": 0.5
             },
             "pattern": {
              "fillmode": "overlay",
              "size": 10,
              "solidity": 0.2
             }
            },
            "type": "barpolar"
           }
          ],
          "carpet": [
           {
            "aaxis": {
             "endlinecolor": "#2a3f5f",
             "gridcolor": "white",
             "linecolor": "white",
             "minorgridcolor": "white",
             "startlinecolor": "#2a3f5f"
            },
            "baxis": {
             "endlinecolor": "#2a3f5f",
             "gridcolor": "white",
             "linecolor": "white",
             "minorgridcolor": "white",
             "startlinecolor": "#2a3f5f"
            },
            "type": "carpet"
           }
          ],
          "choropleth": [
           {
            "colorbar": {
             "outlinewidth": 0,
             "ticks": ""
            },
            "type": "choropleth"
           }
          ],
          "contour": [
           {
            "colorbar": {
             "outlinewidth": 0,
             "ticks": ""
            },
            "colorscale": [
             [
              0,
              "#0d0887"
             ],
             [
              0.1111111111111111,
              "#46039f"
             ],
             [
              0.2222222222222222,
              "#7201a8"
             ],
             [
              0.3333333333333333,
              "#9c179e"
             ],
             [
              0.4444444444444444,
              "#bd3786"
             ],
             [
              0.5555555555555556,
              "#d8576b"
             ],
             [
              0.6666666666666666,
              "#ed7953"
             ],
             [
              0.7777777777777778,
              "#fb9f3a"
             ],
             [
              0.8888888888888888,
              "#fdca26"
             ],
             [
              1,
              "#f0f921"
             ]
            ],
            "type": "contour"
           }
          ],
          "contourcarpet": [
           {
            "colorbar": {
             "outlinewidth": 0,
             "ticks": ""
            },
            "type": "contourcarpet"
           }
          ],
          "heatmap": [
           {
            "colorbar": {
             "outlinewidth": 0,
             "ticks": ""
            },
            "colorscale": [
             [
              0,
              "#0d0887"
             ],
             [
              0.1111111111111111,
              "#46039f"
             ],
             [
              0.2222222222222222,
              "#7201a8"
             ],
             [
              0.3333333333333333,
              "#9c179e"
             ],
             [
              0.4444444444444444,
              "#bd3786"
             ],
             [
              0.5555555555555556,
              "#d8576b"
             ],
             [
              0.6666666666666666,
              "#ed7953"
             ],
             [
              0.7777777777777778,
              "#fb9f3a"
             ],
             [
              0.8888888888888888,
              "#fdca26"
             ],
             [
              1,
              "#f0f921"
             ]
            ],
            "type": "heatmap"
           }
          ],
          "histogram": [
           {
            "marker": {
             "pattern": {
              "fillmode": "overlay",
              "size": 10,
              "solidity": 0.2
             }
            },
            "type": "histogram"
           }
          ],
          "histogram2d": [
           {
            "colorbar": {
             "outlinewidth": 0,
             "ticks": ""
            },
            "colorscale": [
             [
              0,
              "#0d0887"
             ],
             [
              0.1111111111111111,
              "#46039f"
             ],
             [
              0.2222222222222222,
              "#7201a8"
             ],
             [
              0.3333333333333333,
              "#9c179e"
             ],
             [
              0.4444444444444444,
              "#bd3786"
             ],
             [
              0.5555555555555556,
              "#d8576b"
             ],
             [
              0.6666666666666666,
              "#ed7953"
             ],
             [
              0.7777777777777778,
              "#fb9f3a"
             ],
             [
              0.8888888888888888,
              "#fdca26"
             ],
             [
              1,
              "#f0f921"
             ]
            ],
            "type": "histogram2d"
           }
          ],
          "histogram2dcontour": [
           {
            "colorbar": {
             "outlinewidth": 0,
             "ticks": ""
            },
            "colorscale": [
             [
              0,
              "#0d0887"
             ],
             [
              0.1111111111111111,
              "#46039f"
             ],
             [
              0.2222222222222222,
              "#7201a8"
             ],
             [
              0.3333333333333333,
              "#9c179e"
             ],
             [
              0.4444444444444444,
              "#bd3786"
             ],
             [
              0.5555555555555556,
              "#d8576b"
             ],
             [
              0.6666666666666666,
              "#ed7953"
             ],
             [
              0.7777777777777778,
              "#fb9f3a"
             ],
             [
              0.8888888888888888,
              "#fdca26"
             ],
             [
              1,
              "#f0f921"
             ]
            ],
            "type": "histogram2dcontour"
           }
          ],
          "mesh3d": [
           {
            "colorbar": {
             "outlinewidth": 0,
             "ticks": ""
            },
            "type": "mesh3d"
           }
          ],
          "parcoords": [
           {
            "line": {
             "colorbar": {
              "outlinewidth": 0,
              "ticks": ""
             }
            },
            "type": "parcoords"
           }
          ],
          "pie": [
           {
            "automargin": true,
            "type": "pie"
           }
          ],
          "scatter": [
           {
            "fillpattern": {
             "fillmode": "overlay",
             "size": 10,
             "solidity": 0.2
            },
            "type": "scatter"
           }
          ],
          "scatter3d": [
           {
            "line": {
             "colorbar": {
              "outlinewidth": 0,
              "ticks": ""
             }
            },
            "marker": {
             "colorbar": {
              "outlinewidth": 0,
              "ticks": ""
             }
            },
            "type": "scatter3d"
           }
          ],
          "scattercarpet": [
           {
            "marker": {
             "colorbar": {
              "outlinewidth": 0,
              "ticks": ""
             }
            },
            "type": "scattercarpet"
           }
          ],
          "scattergeo": [
           {
            "marker": {
             "colorbar": {
              "outlinewidth": 0,
              "ticks": ""
             }
            },
            "type": "scattergeo"
           }
          ],
          "scattergl": [
           {
            "marker": {
             "colorbar": {
              "outlinewidth": 0,
              "ticks": ""
             }
            },
            "type": "scattergl"
           }
          ],
          "scattermap": [
           {
            "marker": {
             "colorbar": {
              "outlinewidth": 0,
              "ticks": ""
             }
            },
            "type": "scattermap"
           }
          ],
          "scattermapbox": [
           {
            "marker": {
             "colorbar": {
              "outlinewidth": 0,
              "ticks": ""
             }
            },
            "type": "scattermapbox"
           }
          ],
          "scatterpolar": [
           {
            "marker": {
             "colorbar": {
              "outlinewidth": 0,
              "ticks": ""
             }
            },
            "type": "scatterpolar"
           }
          ],
          "scatterpolargl": [
           {
            "marker": {
             "colorbar": {
              "outlinewidth": 0,
              "ticks": ""
             }
            },
            "type": "scatterpolargl"
           }
          ],
          "scatterternary": [
           {
            "marker": {
             "colorbar": {
              "outlinewidth": 0,
              "ticks": ""
             }
            },
            "type": "scatterternary"
           }
          ],
          "surface": [
           {
            "colorbar": {
             "outlinewidth": 0,
             "ticks": ""
            },
            "colorscale": [
             [
              0,
              "#0d0887"
             ],
             [
              0.1111111111111111,
              "#46039f"
             ],
             [
              0.2222222222222222,
              "#7201a8"
             ],
             [
              0.3333333333333333,
              "#9c179e"
             ],
             [
              0.4444444444444444,
              "#bd3786"
             ],
             [
              0.5555555555555556,
              "#d8576b"
             ],
             [
              0.6666666666666666,
              "#ed7953"
             ],
             [
              0.7777777777777778,
              "#fb9f3a"
             ],
             [
              0.8888888888888888,
              "#fdca26"
             ],
             [
              1,
              "#f0f921"
             ]
            ],
            "type": "surface"
           }
          ],
          "table": [
           {
            "cells": {
             "fill": {
              "color": "#EBF0F8"
             },
             "line": {
              "color": "white"
             }
            },
            "header": {
             "fill": {
              "color": "#C8D4E3"
             },
             "line": {
              "color": "white"
             }
            },
            "type": "table"
           }
          ]
         },
         "layout": {
          "annotationdefaults": {
           "arrowcolor": "#2a3f5f",
           "arrowhead": 0,
           "arrowwidth": 1
          },
          "autotypenumbers": "strict",
          "coloraxis": {
           "colorbar": {
            "outlinewidth": 0,
            "ticks": ""
           }
          },
          "colorscale": {
           "diverging": [
            [
             0,
             "#8e0152"
            ],
            [
             0.1,
             "#c51b7d"
            ],
            [
             0.2,
             "#de77ae"
            ],
            [
             0.3,
             "#f1b6da"
            ],
            [
             0.4,
             "#fde0ef"
            ],
            [
             0.5,
             "#f7f7f7"
            ],
            [
             0.6,
             "#e6f5d0"
            ],
            [
             0.7,
             "#b8e186"
            ],
            [
             0.8,
             "#7fbc41"
            ],
            [
             0.9,
             "#4d9221"
            ],
            [
             1,
             "#276419"
            ]
           ],
           "sequential": [
            [
             0,
             "#0d0887"
            ],
            [
             0.1111111111111111,
             "#46039f"
            ],
            [
             0.2222222222222222,
             "#7201a8"
            ],
            [
             0.3333333333333333,
             "#9c179e"
            ],
            [
             0.4444444444444444,
             "#bd3786"
            ],
            [
             0.5555555555555556,
             "#d8576b"
            ],
            [
             0.6666666666666666,
             "#ed7953"
            ],
            [
             0.7777777777777778,
             "#fb9f3a"
            ],
            [
             0.8888888888888888,
             "#fdca26"
            ],
            [
             1,
             "#f0f921"
            ]
           ],
           "sequentialminus": [
            [
             0,
             "#0d0887"
            ],
            [
             0.1111111111111111,
             "#46039f"
            ],
            [
             0.2222222222222222,
             "#7201a8"
            ],
            [
             0.3333333333333333,
             "#9c179e"
            ],
            [
             0.4444444444444444,
             "#bd3786"
            ],
            [
             0.5555555555555556,
             "#d8576b"
            ],
            [
             0.6666666666666666,
             "#ed7953"
            ],
            [
             0.7777777777777778,
             "#fb9f3a"
            ],
            [
             0.8888888888888888,
             "#fdca26"
            ],
            [
             1,
             "#f0f921"
            ]
           ]
          },
          "colorway": [
           "#636efa",
           "#EF553B",
           "#00cc96",
           "#ab63fa",
           "#FFA15A",
           "#19d3f3",
           "#FF6692",
           "#B6E880",
           "#FF97FF",
           "#FECB52"
          ],
          "font": {
           "color": "#2a3f5f"
          },
          "geo": {
           "bgcolor": "white",
           "lakecolor": "white",
           "landcolor": "#E5ECF6",
           "showlakes": true,
           "showland": true,
           "subunitcolor": "white"
          },
          "hoverlabel": {
           "align": "left"
          },
          "hovermode": "closest",
          "mapbox": {
           "style": "light"
          },
          "paper_bgcolor": "white",
          "plot_bgcolor": "#E5ECF6",
          "polar": {
           "angularaxis": {
            "gridcolor": "white",
            "linecolor": "white",
            "ticks": ""
           },
           "bgcolor": "#E5ECF6",
           "radialaxis": {
            "gridcolor": "white",
            "linecolor": "white",
            "ticks": ""
           }
          },
          "scene": {
           "xaxis": {
            "backgroundcolor": "#E5ECF6",
            "gridcolor": "white",
            "gridwidth": 2,
            "linecolor": "white",
            "showbackground": true,
            "ticks": "",
            "zerolinecolor": "white"
           },
           "yaxis": {
            "backgroundcolor": "#E5ECF6",
            "gridcolor": "white",
            "gridwidth": 2,
            "linecolor": "white",
            "showbackground": true,
            "ticks": "",
            "zerolinecolor": "white"
           },
           "zaxis": {
            "backgroundcolor": "#E5ECF6",
            "gridcolor": "white",
            "gridwidth": 2,
            "linecolor": "white",
            "showbackground": true,
            "ticks": "",
            "zerolinecolor": "white"
           }
          },
          "shapedefaults": {
           "line": {
            "color": "#2a3f5f"
           }
          },
          "ternary": {
           "aaxis": {
            "gridcolor": "white",
            "linecolor": "white",
            "ticks": ""
           },
           "baxis": {
            "gridcolor": "white",
            "linecolor": "white",
            "ticks": ""
           },
           "bgcolor": "#E5ECF6",
           "caxis": {
            "gridcolor": "white",
            "linecolor": "white",
            "ticks": ""
           }
          },
          "title": {
           "x": 0.05
          },
          "xaxis": {
           "automargin": true,
           "gridcolor": "white",
           "linecolor": "white",
           "ticks": "",
           "title": {
            "standoff": 15
           },
           "zerolinecolor": "white",
           "zerolinewidth": 2
          },
          "yaxis": {
           "automargin": true,
           "gridcolor": "white",
           "linecolor": "white",
           "ticks": "",
           "title": {
            "standoff": 15
           },
           "zerolinecolor": "white",
           "zerolinewidth": 2
          }
         }
        },
        "title": {
         "text": "Aggresion - Control ( 100)",
         "x": 0.5,
         "xanchor": "center"
        },
        "width": 1200,
        "xaxis": {
         "anchor": "y",
         "domain": [
          0,
          1
         ],
         "gridcolor": "white",
         "showgrid": true,
         "title": {
          "text": "tackles_completed/90"
         },
         "zeroline": false
        },
        "yaxis": {
         "anchor": "x",
         "domain": [
          0,
          1
         ],
         "gridcolor": "white",
         "showgrid": true,
         "title": {
          "text": "fouls_committed/90"
         },
         "zeroline": false
        }
       }
      }
     },
     "metadata": {},
     "output_type": "display_data"
    }
   ],
   "source": [
    "# Full universe \n",
    "scatter_plot(df_targets,\n",
    "             x_metric='tackles_completed/90', \n",
    "             y_metric='fouls_committed/90',\n",
    "             z_metric='tackle_completion_%',\n",
    "             title='Aggresion - Control', \n",
    "             show_name_label=False\n",
    ")"
   ]
  },
  {
   "cell_type": "code",
   "execution_count": 35,
   "id": "ab291f10",
   "metadata": {},
   "outputs": [
    {
     "data": {
      "text/html": [
       "<div>\n",
       "<style scoped>\n",
       "    .dataframe tbody tr th:only-of-type {\n",
       "        vertical-align: middle;\n",
       "    }\n",
       "\n",
       "    .dataframe tbody tr th {\n",
       "        vertical-align: top;\n",
       "    }\n",
       "\n",
       "    .dataframe thead th {\n",
       "        text-align: right;\n",
       "    }\n",
       "</style>\n",
       "<table border=\"1\" class=\"dataframe\">\n",
       "  <thead>\n",
       "    <tr style=\"text-align: right;\">\n",
       "      <th></th>\n",
       "      <th>id</th>\n",
       "      <th>name</th>\n",
       "      <th>position</th>\n",
       "      <th>age</th>\n",
       "      <th>height</th>\n",
       "      <th>weight</th>\n",
       "      <th>inf</th>\n",
       "      <th>club</th>\n",
       "      <th>division</th>\n",
       "      <th>nationality</th>\n",
       "      <th>home_grown</th>\n",
       "      <th>personality</th>\n",
       "      <th>media_handling</th>\n",
       "      <th>wage</th>\n",
       "      <th>transfer_value</th>\n",
       "      <th>asking_price</th>\n",
       "      <th>preferred_foot</th>\n",
       "      <th>starts</th>\n",
       "      <th>minutes_played</th>\n",
       "      <th>average_rating</th>\n",
       "      <th>sub_appearances</th>\n",
       "      <th>minutes/game</th>\n",
       "      <th>index</th>\n",
       "      <th>entries</th>\n",
       "      <th>leaguemultiplier</th>\n",
       "      <th>passes_attempted/90</th>\n",
       "      <th>passes_completed/90</th>\n",
       "      <th>pass_completion_%</th>\n",
       "      <th>progressive_passes/90</th>\n",
       "      <th>progressive_pass_rate</th>\n",
       "      <th>key_passes/90</th>\n",
       "      <th>key_pass_%</th>\n",
       "      <th>open_play_key_passes/90</th>\n",
       "      <th>open_play_key_pass_%</th>\n",
       "      <th>chances_created/90</th>\n",
       "      <th>clear_cut_chances_created/90</th>\n",
       "      <th>clear_cut_chances_%</th>\n",
       "      <th>pressures_attempted/90</th>\n",
       "      <th>pressures_completed/90</th>\n",
       "      <th>pressure_success_%</th>\n",
       "      <th>possession_won/90</th>\n",
       "      <th>possession_lost/90</th>\n",
       "      <th>poss+_/90</th>\n",
       "      <th>poss+__%</th>\n",
       "      <th>tackles_attempted/90</th>\n",
       "      <th>tackles_completed/90</th>\n",
       "      <th>tackle_completion_%</th>\n",
       "      <th>tackles_failed/90</th>\n",
       "      <th>key_tackles/90</th>\n",
       "      <th>key_tackles_%</th>\n",
       "      <th>tackle_quality</th>\n",
       "      <th>interceptions/90</th>\n",
       "      <th>blocks/90</th>\n",
       "      <th>shots_blocked/90</th>\n",
       "      <th>headers_attempted/90</th>\n",
       "      <th>headers_won/90</th>\n",
       "      <th>headers_won_%</th>\n",
       "      <th>headers_lost/90</th>\n",
       "      <th>headers_lost_%</th>\n",
       "      <th>key_headers/90</th>\n",
       "      <th>key_headers_%</th>\n",
       "      <th>aerial_challenges_attempted/90</th>\n",
       "      <th>duels_win_%</th>\n",
       "      <th>fouls_committed/90</th>\n",
       "      <th>clearances/90</th>\n",
       "      <th>distance_covered/90</th>\n",
       "      <th>mistakes_leading_to_goal</th>\n",
       "      <th>sprints/90</th>\n",
       "      <th>attacking_actions/90</th>\n",
       "      <th>creative_actions/90</th>\n",
       "      <th>defensive_actions/90</th>\n",
       "      <th>excitement_factor/90</th>\n",
       "      <th>general_performance</th>\n",
       "      <th>defensive_defender</th>\n",
       "      <th>creative_defender</th>\n",
       "      <th>attacking_defender</th>\n",
       "      <th>creative_midfielder</th>\n",
       "      <th>attacking_midfielder</th>\n",
       "      <th>creative_winger</th>\n",
       "      <th>attacking_winger</th>\n",
       "      <th>creative_forward</th>\n",
       "      <th>attacking_forward</th>\n",
       "      <th>finisher</th>\n",
       "      <th>aerial_threat</th>\n",
       "      <th>reader</th>\n",
       "      <th>assister</th>\n",
       "      <th>price_estimate_M</th>\n",
       "    </tr>\n",
       "  </thead>\n",
       "  <tbody>\n",
       "    <tr>\n",
       "      <th>287</th>\n",
       "      <td>19061518</td>\n",
       "      <td>Casemiro</td>\n",
       "      <td>DM, M (C)</td>\n",
       "      <td>32</td>\n",
       "      <td>185 cm</td>\n",
       "      <td>84 kg</td>\n",
       "      <td>-</td>\n",
       "      <td>Man Utd</td>\n",
       "      <td>Premier League</td>\n",
       "      <td>BRA (ESP)</td>\n",
       "      <td>-</td>\n",
       "      <td>Spirited</td>\n",
       "      <td>Evasive</td>\n",
       "      <td>£300,000 p/w</td>\n",
       "      <td>£41M - £51M</td>\n",
       "      <td>-</td>\n",
       "      <td>Right</td>\n",
       "      <td>35</td>\n",
       "      <td>2888</td>\n",
       "      <td>6.78</td>\n",
       "      <td>11</td>\n",
       "      <td>62.78</td>\n",
       "      <td>287</td>\n",
       "      <td>1</td>\n",
       "      <td>False</td>\n",
       "      <td>59.15</td>\n",
       "      <td>53.38</td>\n",
       "      <td>90</td>\n",
       "      <td>4.49</td>\n",
       "      <td>7.59</td>\n",
       "      <td>0.84</td>\n",
       "      <td>1.42</td>\n",
       "      <td>0.84</td>\n",
       "      <td>1.42</td>\n",
       "      <td>0.31</td>\n",
       "      <td>0.16</td>\n",
       "      <td>50.0</td>\n",
       "      <td>8.94</td>\n",
       "      <td>2.4</td>\n",
       "      <td>26.83</td>\n",
       "      <td>8.48</td>\n",
       "      <td>6.95</td>\n",
       "      <td>1.53</td>\n",
       "      <td>22.01</td>\n",
       "      <td>3.49</td>\n",
       "      <td>2.59</td>\n",
       "      <td>74</td>\n",
       "      <td>0.9</td>\n",
       "      <td>0.12</td>\n",
       "      <td>4.82</td>\n",
       "      <td>1.81</td>\n",
       "      <td>1.46</td>\n",
       "      <td>0.37</td>\n",
       "      <td>0.22</td>\n",
       "      <td>3.8</td>\n",
       "      <td>2.59</td>\n",
       "      <td>68.03</td>\n",
       "      <td>1.22</td>\n",
       "      <td>31.97</td>\n",
       "      <td>0.62</td>\n",
       "      <td>24.1</td>\n",
       "      <td>3.8</td>\n",
       "      <td>70.94</td>\n",
       "      <td>1.93</td>\n",
       "      <td>0.87</td>\n",
       "      <td>13.55</td>\n",
       "      <td>1</td>\n",
       "      <td>13.65</td>\n",
       "      <td>0.78</td>\n",
       "      <td>1.06</td>\n",
       "      <td>15.84</td>\n",
       "      <td>2.31</td>\n",
       "      <td>10</td>\n",
       "      <td>67</td>\n",
       "      <td>13</td>\n",
       "      <td>5</td>\n",
       "      <td>7</td>\n",
       "      <td>3</td>\n",
       "      <td>7</td>\n",
       "      <td>5</td>\n",
       "      <td>8</td>\n",
       "      <td>4</td>\n",
       "      <td>0</td>\n",
       "      <td>83</td>\n",
       "      <td>72</td>\n",
       "      <td>18</td>\n",
       "      <td>NaN</td>\n",
       "    </tr>\n",
       "  </tbody>\n",
       "</table>\n",
       "</div>"
      ],
      "text/plain": [
       "           id      name   position  age  height weight inf     club  \\\n",
       "287  19061518  Casemiro  DM, M (C)   32  185 cm  84 kg   -  Man Utd   \n",
       "\n",
       "           division nationality home_grown personality media_handling  \\\n",
       "287  Premier League   BRA (ESP)          -    Spirited        Evasive   \n",
       "\n",
       "             wage transfer_value asking_price preferred_foot  starts  \\\n",
       "287  £300,000 p/w    £41M - £51M            -          Right      35   \n",
       "\n",
       "     minutes_played  average_rating  sub_appearances  minutes/game  index  \\\n",
       "287            2888            6.78               11         62.78    287   \n",
       "\n",
       "     entries  leaguemultiplier  passes_attempted/90  passes_completed/90  \\\n",
       "287        1             False                59.15                53.38   \n",
       "\n",
       "     pass_completion_%  progressive_passes/90  progressive_pass_rate  \\\n",
       "287                 90                   4.49                   7.59   \n",
       "\n",
       "     key_passes/90  key_pass_%  open_play_key_passes/90  open_play_key_pass_%  \\\n",
       "287           0.84        1.42                     0.84                  1.42   \n",
       "\n",
       "     chances_created/90  clear_cut_chances_created/90  clear_cut_chances_%  \\\n",
       "287                0.31                          0.16                 50.0   \n",
       "\n",
       "     pressures_attempted/90  pressures_completed/90  pressure_success_%  \\\n",
       "287                    8.94                     2.4               26.83   \n",
       "\n",
       "     possession_won/90  possession_lost/90  poss+_/90  poss+__%  \\\n",
       "287               8.48                6.95       1.53     22.01   \n",
       "\n",
       "     tackles_attempted/90  tackles_completed/90  tackle_completion_%  \\\n",
       "287                  3.49                  2.59                   74   \n",
       "\n",
       "     tackles_failed/90  key_tackles/90  key_tackles_%  tackle_quality  \\\n",
       "287                0.9            0.12           4.82            1.81   \n",
       "\n",
       "     interceptions/90  blocks/90  shots_blocked/90  headers_attempted/90  \\\n",
       "287              1.46       0.37              0.22                   3.8   \n",
       "\n",
       "     headers_won/90  headers_won_%  headers_lost/90  headers_lost_%  \\\n",
       "287            2.59          68.03             1.22           31.97   \n",
       "\n",
       "     key_headers/90  key_headers_%  aerial_challenges_attempted/90  \\\n",
       "287            0.62           24.1                             3.8   \n",
       "\n",
       "     duels_win_%  fouls_committed/90  clearances/90  distance_covered/90  \\\n",
       "287        70.94                1.93           0.87                13.55   \n",
       "\n",
       "     mistakes_leading_to_goal  sprints/90  attacking_actions/90  \\\n",
       "287                         1       13.65                  0.78   \n",
       "\n",
       "     creative_actions/90  defensive_actions/90  excitement_factor/90  \\\n",
       "287                 1.06                 15.84                  2.31   \n",
       "\n",
       "     general_performance  defensive_defender  creative_defender  \\\n",
       "287                   10                  67                 13   \n",
       "\n",
       "     attacking_defender  creative_midfielder  attacking_midfielder  \\\n",
       "287                   5                    7                     3   \n",
       "\n",
       "     creative_winger  attacking_winger  creative_forward  attacking_forward  \\\n",
       "287                7                 5                 8                  4   \n",
       "\n",
       "     finisher  aerial_threat  reader  assister price_estimate_M  \n",
       "287         0             83      72        18              NaN  "
      ]
     },
     "execution_count": 35,
     "metadata": {},
     "output_type": "execute_result"
    }
   ],
   "source": [
    "df_players[df_players['name'] == 'Casemiro']"
   ]
  },
  {
   "cell_type": "code",
   "execution_count": 36,
   "id": "04e9f933",
   "metadata": {},
   "outputs": [
    {
     "data": {
      "application/vnd.plotly.v1+json": {
       "config": {
        "plotlyServerURL": "https://plot.ly"
       },
       "data": [
        {
         "customdata": [
          [
           "Julius Beck",
           "AGF"
          ],
          [
           "Baralhas",
           "ATG"
          ],
          [
           "Elvis Rexhbecaj",
           "Augsburg"
          ],
          [
           "Kristijan Belić",
           "AZ"
          ],
          [
           "Nicolás Acevedo",
           "BAH"
          ],
          [
           "Exequiel Palacios",
           "Bayer 04"
          ],
          [
           "Santiago Longo",
           "Belgrano"
          ],
          [
           "Nicolás Garayalde",
           "Boca"
          ],
          [
           "Ladislav Krejčí",
           "Bologna"
          ],
          [
           "Keidi Bare",
           "Coventry"
          ],
          [
           "Joel Latibeaudiere",
           "Coventry"
          ],
          [
           "Cheick Doucouré",
           "Crystal Palace"
          ],
          [
           "Luca Belardinelli",
           "Empoli"
          ],
          [
           "Tom Lacoux",
           "Famalicão"
          ],
          [
           "William Clem",
           "FC København"
          ],
          [
           "Hugo Moura",
           "FC København"
          ],
          [
           "Eric Martel",
           "FC Köln"
          ],
          [
           "Oliver Sørensen",
           "FC Midtjylland"
          ],
          [
           "Michal Sadílek",
           "FC Twente"
          ],
          [
           "Ryan Flamingo",
           "FC Utrecht"
          ],
          [
           "Matheus Henrique",
           "FLA"
          ],
          [
           "Enzo Barrenechea",
           "Frosinone"
          ],
          [
           "Jesús Castillo",
           "Gil Vicente"
          ],
          [
           "Felipe Silva",
           "Gil Vicente"
          ],
          [
           "Bruno Leyes",
           "Godoy Cruz"
          ],
          [
           "David Kasumu",
           "Huddersfield"
          ],
          [
           "Regan Slater",
           "Hull"
          ],
          [
           "Albert Sambi Lokonga",
           "Luton"
          ],
          [
           "Samú",
           "Mallorca"
          ],
          [
           "Danil Glebov",
           "Marseille"
          ],
          [
           "Manu Koné",
           "Mönchengladbach"
          ],
          [
           "Gonçalo Franco",
           "Moreirense"
          ],
          [
           "Ibrahim Sangaré",
           "Nottm Forest"
          ],
          [
           "Nicolás Domínguez",
           "Nottm Forest"
          ],
          [
           "Žan Jevšenak",
           "Portimonense"
          ],
          [
           "Sam Field",
           "QPR"
          ],
          [
           "Xaver Schlager",
           "RB Leipzig"
          ],
          [
           "Mateo Tanlongo",
           "Rio Ave"
          ],
          [
           "Patrick Vroegh",
           "RKC Waalwijk"
          ],
          [
           "Edoardo Bove",
           "Roma"
          ],
          [
           "Mateusz Łęgowski",
           "Salernitana"
          ],
          [
           "Daniel Boloca",
           "Sassuolo"
          ],
          [
           "Aníbal Moreno",
           "SEP"
          ],
          [
           "Boubakary Soumaré",
           "Sevilla"
          ],
          [
           "Shea Charles",
           "Southampton"
          ],
          [
           "Flynn Downes",
           "Southampton"
          ],
          [
           "Joshua Kitolano",
           "Sparta Rotterdam"
          ],
          [
           "Morten Hjulmand",
           "Sporting CP"
          ],
          [
           "Fábio Matheus",
           "SPT"
          ],
          [
           "Senne Lynen",
           "SV Werder"
          ],
          [
           "Juan Carlos Portillo",
           "Talleres"
          ],
          [
           "Mateo Seoane",
           "Talleres"
          ],
          [
           "Hugo Guillamón",
           "Valencia"
          ],
          [
           "Melle Meulensteen",
           "Vitesse"
          ],
          [
           "Edson Álvarez",
           "West Ham"
          ]
         ],
         "hovertemplate": "<b>%{customdata[0]}</b><br><b>%{customdata[1]}</b><br><br>tackles_completed/90: %{x}<br>fouls_committed/90: %{y}<br>tackle_completion_%: %{marker.color}<extra></extra>",
         "legendgroup": "",
         "marker": {
          "color": {
           "bdata": "SEZKTEVHQ1BUTldKWk9HR1FLRUlOQUVLSktIQkZFR0ZIRklLSEVKRUtHT0hKTUdISkVLSEFORg==",
           "dtype": "i1"
          },
          "coloraxis": "coloraxis",
          "size": 10,
          "symbol": "circle"
         },
         "mode": "markers",
         "name": "",
         "orientation": "v",
         "showlegend": false,
         "textfont": {
          "size": 10
         },
         "textposition": "top center",
         "type": "scatter",
         "x": {
          "bdata": "uB6F61G4AED2KFyPwvX4P1yPwvUoXAVAZmZmZmZmBEBmZmZmZmb6P7gehetRuABAw/UoXI/CBUA9CtejcD0EQOxRuB6F6/0/uB6F61G4BkB7FK5H4XoCQDMzMzMzMwNAFK5H4XoUBkAfhetRuB4DQFK4HoXrUfg/16NwPQrX+z97FK5H4XoIQK5H4XoUrgdAcT0K16NwAUC4HoXrUbgAQHsUrkfhevw/FK5H4XoUAEDhehSuR+H+PwrXo3A9Cv8/9ihcj8L1CEBI4XoUrkcFQIXrUbgehQFAzczMzMzMAkAfhetRuB4FQHE9CtejcP0/4XoUrkfhAkCPwvUoXI8EQOxRuB6F6wFAuB6F61G4CEAK16NwPQoFQHsUrkfhegBAUrgehetRAkCamZmZmZkDQOF6FK5H4QBAKVyPwvUoBEDD9Shcj8IBQGZmZmZmZgZAmpmZmZmZAUBSuB6F61H4PwrXo3A9Cv8/uB6F61G4AkDXo3A9CtcHQGZmZmZmZgBAUrgehetR/D8fhetRuB4FQDMzMzMzMwVAmpmZmZmZAUApXI/C9SgCQOxRuB6F6wFArkfhehSu/z8=",
          "dtype": "f8"
         },
         "xaxis": "x",
         "y": {
          "bdata": "KVyPwvUo9D+4HoXrUbj+P8P1KFyPwv0/AAAAAAAA+D8zMzMzMzPrP1K4HoXrUfw/AAAAAAAAAECkcD0K16P0PwAAAAAAAPA/exSuR+F6/D97FK5H4XoCQAAAAAAAAPg/hetRuB6F9z9I4XoUrkf5P1yPwvUoXO8/FK5H4XoU8j8K16NwPQr7P2ZmZmZmZv4/FK5H4XoU9j9I4XoUrkfxP2ZmZmZmZvY/hetRuB6F+z8AAAAAAADwPwrXo3A9Cu8/9ihcj8L1/D9xPQrXo3D9P3E9CtejcP0/rkfhehSu/z+F61G4HoX7Pylcj8L1KPA/PQrXo3A9AEBcj8L1KFz/P83MzMzMzPw/ZmZmZmZmAkDD9Shcj8L1P4/C9Shcj/o/FK5H4XoU9j/2KFyPwvX8P+xRuB6F6/U/7FG4HoXr9T9xPQrXo3D5P0jhehSuR/k/hetRuB6F8z/NzMzMzMzsPx+F61G4Hvk/mpmZmZmZAUCPwvUoXI8AQBSuR+F6FPo/cT0K16Nw8T9xPQrXo3D5P9ejcD0K1/c/4XoUrkfh8j89CtejcD36P4/C9Shcj/o/4XoUrkfh8j8=",
          "dtype": "f8"
         },
         "yaxis": "y"
        }
       ],
       "layout": {
        "coloraxis": {
         "colorbar": {
          "title": {
           "text": "tackle_completion_%"
          }
         },
         "colorscale": [
          [
           0,
           "rgb(165,0,38)"
          ],
          [
           0.1,
           "rgb(215,48,39)"
          ],
          [
           0.2,
           "rgb(244,109,67)"
          ],
          [
           0.3,
           "rgb(253,174,97)"
          ],
          [
           0.4,
           "rgb(254,224,139)"
          ],
          [
           0.5,
           "rgb(255,255,191)"
          ],
          [
           0.6,
           "rgb(217,239,139)"
          ],
          [
           0.7,
           "rgb(166,217,106)"
          ],
          [
           0.8,
           "rgb(102,189,99)"
          ],
          [
           0.9,
           "rgb(26,152,80)"
          ],
          [
           1,
           "rgb(0,104,55)"
          ]
         ],
         "showscale": false
        },
        "height": 700,
        "legend": {
         "tracegroupgap": 0
        },
        "paper_bgcolor": "darkgray",
        "plot_bgcolor": "darkgray",
        "template": {
         "data": {
          "bar": [
           {
            "error_x": {
             "color": "#2a3f5f"
            },
            "error_y": {
             "color": "#2a3f5f"
            },
            "marker": {
             "line": {
              "color": "#E5ECF6",
              "width": 0.5
             },
             "pattern": {
              "fillmode": "overlay",
              "size": 10,
              "solidity": 0.2
             }
            },
            "type": "bar"
           }
          ],
          "barpolar": [
           {
            "marker": {
             "line": {
              "color": "#E5ECF6",
              "width": 0.5
             },
             "pattern": {
              "fillmode": "overlay",
              "size": 10,
              "solidity": 0.2
             }
            },
            "type": "barpolar"
           }
          ],
          "carpet": [
           {
            "aaxis": {
             "endlinecolor": "#2a3f5f",
             "gridcolor": "white",
             "linecolor": "white",
             "minorgridcolor": "white",
             "startlinecolor": "#2a3f5f"
            },
            "baxis": {
             "endlinecolor": "#2a3f5f",
             "gridcolor": "white",
             "linecolor": "white",
             "minorgridcolor": "white",
             "startlinecolor": "#2a3f5f"
            },
            "type": "carpet"
           }
          ],
          "choropleth": [
           {
            "colorbar": {
             "outlinewidth": 0,
             "ticks": ""
            },
            "type": "choropleth"
           }
          ],
          "contour": [
           {
            "colorbar": {
             "outlinewidth": 0,
             "ticks": ""
            },
            "colorscale": [
             [
              0,
              "#0d0887"
             ],
             [
              0.1111111111111111,
              "#46039f"
             ],
             [
              0.2222222222222222,
              "#7201a8"
             ],
             [
              0.3333333333333333,
              "#9c179e"
             ],
             [
              0.4444444444444444,
              "#bd3786"
             ],
             [
              0.5555555555555556,
              "#d8576b"
             ],
             [
              0.6666666666666666,
              "#ed7953"
             ],
             [
              0.7777777777777778,
              "#fb9f3a"
             ],
             [
              0.8888888888888888,
              "#fdca26"
             ],
             [
              1,
              "#f0f921"
             ]
            ],
            "type": "contour"
           }
          ],
          "contourcarpet": [
           {
            "colorbar": {
             "outlinewidth": 0,
             "ticks": ""
            },
            "type": "contourcarpet"
           }
          ],
          "heatmap": [
           {
            "colorbar": {
             "outlinewidth": 0,
             "ticks": ""
            },
            "colorscale": [
             [
              0,
              "#0d0887"
             ],
             [
              0.1111111111111111,
              "#46039f"
             ],
             [
              0.2222222222222222,
              "#7201a8"
             ],
             [
              0.3333333333333333,
              "#9c179e"
             ],
             [
              0.4444444444444444,
              "#bd3786"
             ],
             [
              0.5555555555555556,
              "#d8576b"
             ],
             [
              0.6666666666666666,
              "#ed7953"
             ],
             [
              0.7777777777777778,
              "#fb9f3a"
             ],
             [
              0.8888888888888888,
              "#fdca26"
             ],
             [
              1,
              "#f0f921"
             ]
            ],
            "type": "heatmap"
           }
          ],
          "histogram": [
           {
            "marker": {
             "pattern": {
              "fillmode": "overlay",
              "size": 10,
              "solidity": 0.2
             }
            },
            "type": "histogram"
           }
          ],
          "histogram2d": [
           {
            "colorbar": {
             "outlinewidth": 0,
             "ticks": ""
            },
            "colorscale": [
             [
              0,
              "#0d0887"
             ],
             [
              0.1111111111111111,
              "#46039f"
             ],
             [
              0.2222222222222222,
              "#7201a8"
             ],
             [
              0.3333333333333333,
              "#9c179e"
             ],
             [
              0.4444444444444444,
              "#bd3786"
             ],
             [
              0.5555555555555556,
              "#d8576b"
             ],
             [
              0.6666666666666666,
              "#ed7953"
             ],
             [
              0.7777777777777778,
              "#fb9f3a"
             ],
             [
              0.8888888888888888,
              "#fdca26"
             ],
             [
              1,
              "#f0f921"
             ]
            ],
            "type": "histogram2d"
           }
          ],
          "histogram2dcontour": [
           {
            "colorbar": {
             "outlinewidth": 0,
             "ticks": ""
            },
            "colorscale": [
             [
              0,
              "#0d0887"
             ],
             [
              0.1111111111111111,
              "#46039f"
             ],
             [
              0.2222222222222222,
              "#7201a8"
             ],
             [
              0.3333333333333333,
              "#9c179e"
             ],
             [
              0.4444444444444444,
              "#bd3786"
             ],
             [
              0.5555555555555556,
              "#d8576b"
             ],
             [
              0.6666666666666666,
              "#ed7953"
             ],
             [
              0.7777777777777778,
              "#fb9f3a"
             ],
             [
              0.8888888888888888,
              "#fdca26"
             ],
             [
              1,
              "#f0f921"
             ]
            ],
            "type": "histogram2dcontour"
           }
          ],
          "mesh3d": [
           {
            "colorbar": {
             "outlinewidth": 0,
             "ticks": ""
            },
            "type": "mesh3d"
           }
          ],
          "parcoords": [
           {
            "line": {
             "colorbar": {
              "outlinewidth": 0,
              "ticks": ""
             }
            },
            "type": "parcoords"
           }
          ],
          "pie": [
           {
            "automargin": true,
            "type": "pie"
           }
          ],
          "scatter": [
           {
            "fillpattern": {
             "fillmode": "overlay",
             "size": 10,
             "solidity": 0.2
            },
            "type": "scatter"
           }
          ],
          "scatter3d": [
           {
            "line": {
             "colorbar": {
              "outlinewidth": 0,
              "ticks": ""
             }
            },
            "marker": {
             "colorbar": {
              "outlinewidth": 0,
              "ticks": ""
             }
            },
            "type": "scatter3d"
           }
          ],
          "scattercarpet": [
           {
            "marker": {
             "colorbar": {
              "outlinewidth": 0,
              "ticks": ""
             }
            },
            "type": "scattercarpet"
           }
          ],
          "scattergeo": [
           {
            "marker": {
             "colorbar": {
              "outlinewidth": 0,
              "ticks": ""
             }
            },
            "type": "scattergeo"
           }
          ],
          "scattergl": [
           {
            "marker": {
             "colorbar": {
              "outlinewidth": 0,
              "ticks": ""
             }
            },
            "type": "scattergl"
           }
          ],
          "scattermap": [
           {
            "marker": {
             "colorbar": {
              "outlinewidth": 0,
              "ticks": ""
             }
            },
            "type": "scattermap"
           }
          ],
          "scattermapbox": [
           {
            "marker": {
             "colorbar": {
              "outlinewidth": 0,
              "ticks": ""
             }
            },
            "type": "scattermapbox"
           }
          ],
          "scatterpolar": [
           {
            "marker": {
             "colorbar": {
              "outlinewidth": 0,
              "ticks": ""
             }
            },
            "type": "scatterpolar"
           }
          ],
          "scatterpolargl": [
           {
            "marker": {
             "colorbar": {
              "outlinewidth": 0,
              "ticks": ""
             }
            },
            "type": "scatterpolargl"
           }
          ],
          "scatterternary": [
           {
            "marker": {
             "colorbar": {
              "outlinewidth": 0,
              "ticks": ""
             }
            },
            "type": "scatterternary"
           }
          ],
          "surface": [
           {
            "colorbar": {
             "outlinewidth": 0,
             "ticks": ""
            },
            "colorscale": [
             [
              0,
              "#0d0887"
             ],
             [
              0.1111111111111111,
              "#46039f"
             ],
             [
              0.2222222222222222,
              "#7201a8"
             ],
             [
              0.3333333333333333,
              "#9c179e"
             ],
             [
              0.4444444444444444,
              "#bd3786"
             ],
             [
              0.5555555555555556,
              "#d8576b"
             ],
             [
              0.6666666666666666,
              "#ed7953"
             ],
             [
              0.7777777777777778,
              "#fb9f3a"
             ],
             [
              0.8888888888888888,
              "#fdca26"
             ],
             [
              1,
              "#f0f921"
             ]
            ],
            "type": "surface"
           }
          ],
          "table": [
           {
            "cells": {
             "fill": {
              "color": "#EBF0F8"
             },
             "line": {
              "color": "white"
             }
            },
            "header": {
             "fill": {
              "color": "#C8D4E3"
             },
             "line": {
              "color": "white"
             }
            },
            "type": "table"
           }
          ]
         },
         "layout": {
          "annotationdefaults": {
           "arrowcolor": "#2a3f5f",
           "arrowhead": 0,
           "arrowwidth": 1
          },
          "autotypenumbers": "strict",
          "coloraxis": {
           "colorbar": {
            "outlinewidth": 0,
            "ticks": ""
           }
          },
          "colorscale": {
           "diverging": [
            [
             0,
             "#8e0152"
            ],
            [
             0.1,
             "#c51b7d"
            ],
            [
             0.2,
             "#de77ae"
            ],
            [
             0.3,
             "#f1b6da"
            ],
            [
             0.4,
             "#fde0ef"
            ],
            [
             0.5,
             "#f7f7f7"
            ],
            [
             0.6,
             "#e6f5d0"
            ],
            [
             0.7,
             "#b8e186"
            ],
            [
             0.8,
             "#7fbc41"
            ],
            [
             0.9,
             "#4d9221"
            ],
            [
             1,
             "#276419"
            ]
           ],
           "sequential": [
            [
             0,
             "#0d0887"
            ],
            [
             0.1111111111111111,
             "#46039f"
            ],
            [
             0.2222222222222222,
             "#7201a8"
            ],
            [
             0.3333333333333333,
             "#9c179e"
            ],
            [
             0.4444444444444444,
             "#bd3786"
            ],
            [
             0.5555555555555556,
             "#d8576b"
            ],
            [
             0.6666666666666666,
             "#ed7953"
            ],
            [
             0.7777777777777778,
             "#fb9f3a"
            ],
            [
             0.8888888888888888,
             "#fdca26"
            ],
            [
             1,
             "#f0f921"
            ]
           ],
           "sequentialminus": [
            [
             0,
             "#0d0887"
            ],
            [
             0.1111111111111111,
             "#46039f"
            ],
            [
             0.2222222222222222,
             "#7201a8"
            ],
            [
             0.3333333333333333,
             "#9c179e"
            ],
            [
             0.4444444444444444,
             "#bd3786"
            ],
            [
             0.5555555555555556,
             "#d8576b"
            ],
            [
             0.6666666666666666,
             "#ed7953"
            ],
            [
             0.7777777777777778,
             "#fb9f3a"
            ],
            [
             0.8888888888888888,
             "#fdca26"
            ],
            [
             1,
             "#f0f921"
            ]
           ]
          },
          "colorway": [
           "#636efa",
           "#EF553B",
           "#00cc96",
           "#ab63fa",
           "#FFA15A",
           "#19d3f3",
           "#FF6692",
           "#B6E880",
           "#FF97FF",
           "#FECB52"
          ],
          "font": {
           "color": "#2a3f5f"
          },
          "geo": {
           "bgcolor": "white",
           "lakecolor": "white",
           "landcolor": "#E5ECF6",
           "showlakes": true,
           "showland": true,
           "subunitcolor": "white"
          },
          "hoverlabel": {
           "align": "left"
          },
          "hovermode": "closest",
          "mapbox": {
           "style": "light"
          },
          "paper_bgcolor": "white",
          "plot_bgcolor": "#E5ECF6",
          "polar": {
           "angularaxis": {
            "gridcolor": "white",
            "linecolor": "white",
            "ticks": ""
           },
           "bgcolor": "#E5ECF6",
           "radialaxis": {
            "gridcolor": "white",
            "linecolor": "white",
            "ticks": ""
           }
          },
          "scene": {
           "xaxis": {
            "backgroundcolor": "#E5ECF6",
            "gridcolor": "white",
            "gridwidth": 2,
            "linecolor": "white",
            "showbackground": true,
            "ticks": "",
            "zerolinecolor": "white"
           },
           "yaxis": {
            "backgroundcolor": "#E5ECF6",
            "gridcolor": "white",
            "gridwidth": 2,
            "linecolor": "white",
            "showbackground": true,
            "ticks": "",
            "zerolinecolor": "white"
           },
           "zaxis": {
            "backgroundcolor": "#E5ECF6",
            "gridcolor": "white",
            "gridwidth": 2,
            "linecolor": "white",
            "showbackground": true,
            "ticks": "",
            "zerolinecolor": "white"
           }
          },
          "shapedefaults": {
           "line": {
            "color": "#2a3f5f"
           }
          },
          "ternary": {
           "aaxis": {
            "gridcolor": "white",
            "linecolor": "white",
            "ticks": ""
           },
           "baxis": {
            "gridcolor": "white",
            "linecolor": "white",
            "ticks": ""
           },
           "bgcolor": "#E5ECF6",
           "caxis": {
            "gridcolor": "white",
            "linecolor": "white",
            "ticks": ""
           }
          },
          "title": {
           "x": 0.05
          },
          "xaxis": {
           "automargin": true,
           "gridcolor": "white",
           "linecolor": "white",
           "ticks": "",
           "title": {
            "standoff": 15
           },
           "zerolinecolor": "white",
           "zerolinewidth": 2
          },
          "yaxis": {
           "automargin": true,
           "gridcolor": "white",
           "linecolor": "white",
           "ticks": "",
           "title": {
            "standoff": 15
           },
           "zerolinecolor": "white",
           "zerolinewidth": 2
          }
         }
        },
        "title": {
         "text": "Aggresion - Control ( 55)",
         "x": 0.5,
         "xanchor": "center"
        },
        "width": 1200,
        "xaxis": {
         "anchor": "y",
         "domain": [
          0,
          1
         ],
         "gridcolor": "white",
         "showgrid": true,
         "title": {
          "text": "tackles_completed/90"
         },
         "zeroline": false
        },
        "yaxis": {
         "anchor": "x",
         "domain": [
          0,
          1
         ],
         "gridcolor": "white",
         "showgrid": true,
         "title": {
          "text": "fouls_committed/90"
         },
         "zeroline": false
        }
       }
      }
     },
     "metadata": {},
     "output_type": "display_data"
    }
   ],
   "source": [
    "# Compute tackes/fouls ratio\n",
    "df_players['tackles_comp-fouls/90'] = df_players['tackles_completed/90'] / df_players['fouls_committed/90']\n",
    "# Filter data \n",
    "mask = (\n",
    "        (df_players['tackles_comp-fouls/90'] <= 2) & \\\n",
    "        (df_players['tackles_completed/90'] >= 1.5) & \\\n",
    "        (df_players['tackle_completion_%'] >= 65) & \\\n",
    "        #(df_players['price_estimate_M'] <= 40) & \\\n",
    "        (df_players['id'].isin(targets))\n",
    "        \n",
    "        \n",
    ")\n",
    "\n",
    "df_targets = df_players[mask]\n",
    "\n",
    "scatter_plot(df_targets,\n",
    "             x_metric='tackles_completed/90', \n",
    "             y_metric='fouls_committed/90',\n",
    "             z_metric='tackle_completion_%',\n",
    "             title='Aggresion - Control', \n",
    "             show_name_label=False\n",
    ")\n",
    "\n",
    "# Keep only players that fulfill criteria\n",
    "targets = df_targets['id']"
   ]
  },
  {
   "cell_type": "markdown",
   "id": "a76d3e76",
   "metadata": {},
   "source": [
    "## Pressure quality"
   ]
  },
  {
   "cell_type": "code",
   "execution_count": 37,
   "id": "7794f58b",
   "metadata": {},
   "outputs": [
    {
     "data": {
      "application/vnd.plotly.v1+json": {
       "config": {
        "plotlyServerURL": "https://plot.ly"
       },
       "data": [
        {
         "customdata": [
          [
           "Julius Beck",
           "AGF"
          ],
          [
           "Baralhas",
           "ATG"
          ],
          [
           "Elvis Rexhbecaj",
           "Augsburg"
          ],
          [
           "Kristijan Belić",
           "AZ"
          ],
          [
           "Nicolás Acevedo",
           "BAH"
          ],
          [
           "Exequiel Palacios",
           "Bayer 04"
          ],
          [
           "Santiago Longo",
           "Belgrano"
          ],
          [
           "Nicolás Garayalde",
           "Boca"
          ],
          [
           "Ladislav Krejčí",
           "Bologna"
          ],
          [
           "Keidi Bare",
           "Coventry"
          ],
          [
           "Joel Latibeaudiere",
           "Coventry"
          ],
          [
           "Cheick Doucouré",
           "Crystal Palace"
          ],
          [
           "Luca Belardinelli",
           "Empoli"
          ],
          [
           "Tom Lacoux",
           "Famalicão"
          ],
          [
           "William Clem",
           "FC København"
          ],
          [
           "Hugo Moura",
           "FC København"
          ],
          [
           "Eric Martel",
           "FC Köln"
          ],
          [
           "Oliver Sørensen",
           "FC Midtjylland"
          ],
          [
           "Michal Sadílek",
           "FC Twente"
          ],
          [
           "Ryan Flamingo",
           "FC Utrecht"
          ],
          [
           "Matheus Henrique",
           "FLA"
          ],
          [
           "Enzo Barrenechea",
           "Frosinone"
          ],
          [
           "Jesús Castillo",
           "Gil Vicente"
          ],
          [
           "Felipe Silva",
           "Gil Vicente"
          ],
          [
           "Bruno Leyes",
           "Godoy Cruz"
          ],
          [
           "David Kasumu",
           "Huddersfield"
          ],
          [
           "Regan Slater",
           "Hull"
          ],
          [
           "Albert Sambi Lokonga",
           "Luton"
          ],
          [
           "Samú",
           "Mallorca"
          ],
          [
           "Danil Glebov",
           "Marseille"
          ],
          [
           "Manu Koné",
           "Mönchengladbach"
          ],
          [
           "Gonçalo Franco",
           "Moreirense"
          ],
          [
           "Ibrahim Sangaré",
           "Nottm Forest"
          ],
          [
           "Nicolás Domínguez",
           "Nottm Forest"
          ],
          [
           "Žan Jevšenak",
           "Portimonense"
          ],
          [
           "Sam Field",
           "QPR"
          ],
          [
           "Xaver Schlager",
           "RB Leipzig"
          ],
          [
           "Mateo Tanlongo",
           "Rio Ave"
          ],
          [
           "Patrick Vroegh",
           "RKC Waalwijk"
          ],
          [
           "Edoardo Bove",
           "Roma"
          ],
          [
           "Mateusz Łęgowski",
           "Salernitana"
          ],
          [
           "Daniel Boloca",
           "Sassuolo"
          ],
          [
           "Aníbal Moreno",
           "SEP"
          ],
          [
           "Boubakary Soumaré",
           "Sevilla"
          ],
          [
           "Shea Charles",
           "Southampton"
          ],
          [
           "Flynn Downes",
           "Southampton"
          ],
          [
           "Joshua Kitolano",
           "Sparta Rotterdam"
          ],
          [
           "Morten Hjulmand",
           "Sporting CP"
          ],
          [
           "Fábio Matheus",
           "SPT"
          ],
          [
           "Senne Lynen",
           "SV Werder"
          ],
          [
           "Juan Carlos Portillo",
           "Talleres"
          ],
          [
           "Mateo Seoane",
           "Talleres"
          ],
          [
           "Hugo Guillamón",
           "Valencia"
          ],
          [
           "Melle Meulensteen",
           "Vitesse"
          ],
          [
           "Edson Álvarez",
           "West Ham"
          ]
         ],
         "hovertemplate": "<b>%{customdata[0]}</b><br><b>%{customdata[1]}</b><br><br>pressures_completed/90: %{x}<br>pressure_success_%: %{y}<br>duels_win_%: %{marker.color}<extra></extra>",
         "legendgroup": "",
         "marker": {
          "color": {
           "bdata": "9ihcj8JVTEDD9ShcjwJQQHE9CtejcE1A16NwPQo3T0DD9Shcj4JJQHE9CtejsElArkfhehTuTUDD9Shcj+JRQI/C9ShcT1JAzczMzMzsSkCamZmZmXlQQArXo3A96k5AKVyPwvUIUUBcj8L1KBxQQAAAAAAAgFJAhetRuB7FREC4HoXrUQhQQOF6FK5HIVJAAAAAAAAASUBcj8L1KHxMQD0K16NwvU1AH4XrUbh+TkD2KFyPwpVOQBSuR+F6lE9AexSuR+GaTkDsUbgehStKQIXrUbgepUtAFK5H4XqUSkC4HoXrUbhMQNejcD0K90tAXI/C9ShcTUB7FK5H4XpOQOxRuB6F21JAcT0K16OwT0AUrkfhehRTQEjhehSuB1BAw/UoXI9iTED2KFyPwuVQQD0K16NwPU5AzczMzMwMS0DD9Shcj6JPQGZmZmZmpk5AexSuR+HaS0ApXI/C9WhQQOF6FK5HYVBAuB6F61GYUEDNzMzMzCxIQJqZmZmZuUxAAAAAAACAT0DXo3A9CpdNQKRwPQrXg1FACtejcD3KTED2KFyPwjVMQBSuR+F69E1AMzMzMzMjUkA=",
           "dtype": "f8"
          },
          "coloraxis": "coloraxis",
          "size": 10,
          "symbol": "circle"
         },
         "mode": "markers+text",
         "name": "",
         "orientation": "v",
         "showlegend": false,
         "text": [
          "Julius Beck",
          "Baralhas",
          "Elvis Rexhbecaj",
          "Kristijan Belić",
          "Nicolás Acevedo",
          "Exequiel Palacios",
          "Santiago Longo",
          "Nicolás Garayalde",
          "Ladislav Krejčí",
          "Keidi Bare",
          "Joel Latibeaudiere",
          "Cheick Doucouré",
          "Luca Belardinelli",
          "Tom Lacoux",
          "William Clem",
          "Hugo Moura",
          "Eric Martel",
          "Oliver Sørensen",
          "Michal Sadílek",
          "Ryan Flamingo",
          "Matheus Henrique",
          "Enzo Barrenechea",
          "Jesús Castillo",
          "Felipe Silva",
          "Bruno Leyes",
          "David Kasumu",
          "Regan Slater",
          "Albert Sambi Lokonga",
          "Samú",
          "Danil Glebov",
          "Manu Koné",
          "Gonçalo Franco",
          "Ibrahim Sangaré",
          "Nicolás Domínguez",
          "Žan Jevšenak",
          "Sam Field",
          "Xaver Schlager",
          "Mateo Tanlongo",
          "Patrick Vroegh",
          "Edoardo Bove",
          "Mateusz Łęgowski",
          "Daniel Boloca",
          "Aníbal Moreno",
          "Boubakary Soumaré",
          "Shea Charles",
          "Flynn Downes",
          "Joshua Kitolano",
          "Morten Hjulmand",
          "Fábio Matheus",
          "Senne Lynen",
          "Juan Carlos Portillo",
          "Mateo Seoane",
          "Hugo Guillamón",
          "Melle Meulensteen",
          "Edson Álvarez"
         ],
         "textfont": {
          "size": 10
         },
         "textposition": "top center",
         "type": "scatter",
         "x": {
          "bdata": "16NwPQrXC0BI4XoUrkcBQIXrUbgehQdAuB6F61G4AEBI4XoUrkcFQFK4HoXrUQpAj8L1KFyPDEDXo3A9CtcDQOxRuB6F6/0/pHA9CtejCEDhehSuR+ECQD0K16NwPQhAexSuR+F6CkDhehSuR+EIQK5H4XoUrgdAPQrXo3A9BEA9CtejcD0IQFK4HoXrUQZACtejcD0KB0BmZmZmZmYGQHsUrkfhegpAAAAAAAAACkCF61G4HoUHQIXrUbgehfs/j8L1KFyPCEDNzMzMzMwEQDMzMzMzMwVACtejcD0KB0BSuB6F61EIQBSuR+F6FABAUrgehetRBEAK16NwPQoBQIXrUbgehf8/w/UoXI/CBUBmZmZmZmYEQB+F61G4HgNAj8L1KFyPBkDsUbgehesDQEjhehSuRwFA9ihcj8L1CEAUrkfhehQAQK5H4XoUrgVAKVyPwvUoBkAzMzMzMzMFQDMzMzMzM/c/7FG4HoXrA0DD9Shcj8ILQD0K16NwPQJArkfhehSuA0CamZmZmZkNQJqZmZmZmQVAKVyPwvUoCkD2KFyPwvUKQGZmZmZmZgRA4XoUrkfh+j8=",
          "dtype": "f8"
         },
         "xaxis": "x",
         "y": {
          "bdata": "XI/C9SicP0BI4XoUrkc6QIXrUbgehTxAAAAAAAAANUCPwvUoXM8+QLgehetR+D1AH4XrUbgePkAAAAAAAMA7QHsUrkfhej5AMzMzMzPzO0AfhetRuF49QClcj8L1KD9AhetRuB5FO0AzMzMzM7M7QFyPwvUo3EBAmpmZmZnZPkCPwvUoXE8+QM3MzMzMjDVAKVyPwvUoOEAfhetRuB47QPYoXI/CtT9A9ihcj8KVQUAK16NwPUo9QLgehetReDxAUrgehevRP0CPwvUoXI83QM3MzMzMTDtAcT0K16MwOUA9CtejcD05QOxRuB6FqzpAAAAAAAAAPEBcj8L1KFw6QHsUrkfhejtAcT0K16PwOUDsUbgehas6QIXrUbgeBTxAUrgehetRPECamZmZmZk3QClcj8L16DZAcT0K16PwO0DsUbgehaswQClcj8L1KDxAcT0K16MwOUAzMzMzM3M4QK5H4XoUbjZAexSuR+G6PEDsUbgehes6QKRwPQrX4zdAuB6F61E4OkCF61G4HuVAQClcj8L1KDxAmpmZmZk5QEBcj8L1KNw8QKRwPQrXIzxAw/UoXI+COkA=",
          "dtype": "f8"
         },
         "yaxis": "y"
        }
       ],
       "layout": {
        "coloraxis": {
         "colorbar": {
          "title": {
           "text": "duels_win_%"
          }
         },
         "colorscale": [
          [
           0,
           "rgb(165,0,38)"
          ],
          [
           0.1,
           "rgb(215,48,39)"
          ],
          [
           0.2,
           "rgb(244,109,67)"
          ],
          [
           0.3,
           "rgb(253,174,97)"
          ],
          [
           0.4,
           "rgb(254,224,139)"
          ],
          [
           0.5,
           "rgb(255,255,191)"
          ],
          [
           0.6,
           "rgb(217,239,139)"
          ],
          [
           0.7,
           "rgb(166,217,106)"
          ],
          [
           0.8,
           "rgb(102,189,99)"
          ],
          [
           0.9,
           "rgb(26,152,80)"
          ],
          [
           1,
           "rgb(0,104,55)"
          ]
         ],
         "showscale": false
        },
        "height": 700,
        "legend": {
         "tracegroupgap": 0
        },
        "paper_bgcolor": "darkgray",
        "plot_bgcolor": "darkgray",
        "template": {
         "data": {
          "bar": [
           {
            "error_x": {
             "color": "#2a3f5f"
            },
            "error_y": {
             "color": "#2a3f5f"
            },
            "marker": {
             "line": {
              "color": "#E5ECF6",
              "width": 0.5
             },
             "pattern": {
              "fillmode": "overlay",
              "size": 10,
              "solidity": 0.2
             }
            },
            "type": "bar"
           }
          ],
          "barpolar": [
           {
            "marker": {
             "line": {
              "color": "#E5ECF6",
              "width": 0.5
             },
             "pattern": {
              "fillmode": "overlay",
              "size": 10,
              "solidity": 0.2
             }
            },
            "type": "barpolar"
           }
          ],
          "carpet": [
           {
            "aaxis": {
             "endlinecolor": "#2a3f5f",
             "gridcolor": "white",
             "linecolor": "white",
             "minorgridcolor": "white",
             "startlinecolor": "#2a3f5f"
            },
            "baxis": {
             "endlinecolor": "#2a3f5f",
             "gridcolor": "white",
             "linecolor": "white",
             "minorgridcolor": "white",
             "startlinecolor": "#2a3f5f"
            },
            "type": "carpet"
           }
          ],
          "choropleth": [
           {
            "colorbar": {
             "outlinewidth": 0,
             "ticks": ""
            },
            "type": "choropleth"
           }
          ],
          "contour": [
           {
            "colorbar": {
             "outlinewidth": 0,
             "ticks": ""
            },
            "colorscale": [
             [
              0,
              "#0d0887"
             ],
             [
              0.1111111111111111,
              "#46039f"
             ],
             [
              0.2222222222222222,
              "#7201a8"
             ],
             [
              0.3333333333333333,
              "#9c179e"
             ],
             [
              0.4444444444444444,
              "#bd3786"
             ],
             [
              0.5555555555555556,
              "#d8576b"
             ],
             [
              0.6666666666666666,
              "#ed7953"
             ],
             [
              0.7777777777777778,
              "#fb9f3a"
             ],
             [
              0.8888888888888888,
              "#fdca26"
             ],
             [
              1,
              "#f0f921"
             ]
            ],
            "type": "contour"
           }
          ],
          "contourcarpet": [
           {
            "colorbar": {
             "outlinewidth": 0,
             "ticks": ""
            },
            "type": "contourcarpet"
           }
          ],
          "heatmap": [
           {
            "colorbar": {
             "outlinewidth": 0,
             "ticks": ""
            },
            "colorscale": [
             [
              0,
              "#0d0887"
             ],
             [
              0.1111111111111111,
              "#46039f"
             ],
             [
              0.2222222222222222,
              "#7201a8"
             ],
             [
              0.3333333333333333,
              "#9c179e"
             ],
             [
              0.4444444444444444,
              "#bd3786"
             ],
             [
              0.5555555555555556,
              "#d8576b"
             ],
             [
              0.6666666666666666,
              "#ed7953"
             ],
             [
              0.7777777777777778,
              "#fb9f3a"
             ],
             [
              0.8888888888888888,
              "#fdca26"
             ],
             [
              1,
              "#f0f921"
             ]
            ],
            "type": "heatmap"
           }
          ],
          "histogram": [
           {
            "marker": {
             "pattern": {
              "fillmode": "overlay",
              "size": 10,
              "solidity": 0.2
             }
            },
            "type": "histogram"
           }
          ],
          "histogram2d": [
           {
            "colorbar": {
             "outlinewidth": 0,
             "ticks": ""
            },
            "colorscale": [
             [
              0,
              "#0d0887"
             ],
             [
              0.1111111111111111,
              "#46039f"
             ],
             [
              0.2222222222222222,
              "#7201a8"
             ],
             [
              0.3333333333333333,
              "#9c179e"
             ],
             [
              0.4444444444444444,
              "#bd3786"
             ],
             [
              0.5555555555555556,
              "#d8576b"
             ],
             [
              0.6666666666666666,
              "#ed7953"
             ],
             [
              0.7777777777777778,
              "#fb9f3a"
             ],
             [
              0.8888888888888888,
              "#fdca26"
             ],
             [
              1,
              "#f0f921"
             ]
            ],
            "type": "histogram2d"
           }
          ],
          "histogram2dcontour": [
           {
            "colorbar": {
             "outlinewidth": 0,
             "ticks": ""
            },
            "colorscale": [
             [
              0,
              "#0d0887"
             ],
             [
              0.1111111111111111,
              "#46039f"
             ],
             [
              0.2222222222222222,
              "#7201a8"
             ],
             [
              0.3333333333333333,
              "#9c179e"
             ],
             [
              0.4444444444444444,
              "#bd3786"
             ],
             [
              0.5555555555555556,
              "#d8576b"
             ],
             [
              0.6666666666666666,
              "#ed7953"
             ],
             [
              0.7777777777777778,
              "#fb9f3a"
             ],
             [
              0.8888888888888888,
              "#fdca26"
             ],
             [
              1,
              "#f0f921"
             ]
            ],
            "type": "histogram2dcontour"
           }
          ],
          "mesh3d": [
           {
            "colorbar": {
             "outlinewidth": 0,
             "ticks": ""
            },
            "type": "mesh3d"
           }
          ],
          "parcoords": [
           {
            "line": {
             "colorbar": {
              "outlinewidth": 0,
              "ticks": ""
             }
            },
            "type": "parcoords"
           }
          ],
          "pie": [
           {
            "automargin": true,
            "type": "pie"
           }
          ],
          "scatter": [
           {
            "fillpattern": {
             "fillmode": "overlay",
             "size": 10,
             "solidity": 0.2
            },
            "type": "scatter"
           }
          ],
          "scatter3d": [
           {
            "line": {
             "colorbar": {
              "outlinewidth": 0,
              "ticks": ""
             }
            },
            "marker": {
             "colorbar": {
              "outlinewidth": 0,
              "ticks": ""
             }
            },
            "type": "scatter3d"
           }
          ],
          "scattercarpet": [
           {
            "marker": {
             "colorbar": {
              "outlinewidth": 0,
              "ticks": ""
             }
            },
            "type": "scattercarpet"
           }
          ],
          "scattergeo": [
           {
            "marker": {
             "colorbar": {
              "outlinewidth": 0,
              "ticks": ""
             }
            },
            "type": "scattergeo"
           }
          ],
          "scattergl": [
           {
            "marker": {
             "colorbar": {
              "outlinewidth": 0,
              "ticks": ""
             }
            },
            "type": "scattergl"
           }
          ],
          "scattermap": [
           {
            "marker": {
             "colorbar": {
              "outlinewidth": 0,
              "ticks": ""
             }
            },
            "type": "scattermap"
           }
          ],
          "scattermapbox": [
           {
            "marker": {
             "colorbar": {
              "outlinewidth": 0,
              "ticks": ""
             }
            },
            "type": "scattermapbox"
           }
          ],
          "scatterpolar": [
           {
            "marker": {
             "colorbar": {
              "outlinewidth": 0,
              "ticks": ""
             }
            },
            "type": "scatterpolar"
           }
          ],
          "scatterpolargl": [
           {
            "marker": {
             "colorbar": {
              "outlinewidth": 0,
              "ticks": ""
             }
            },
            "type": "scatterpolargl"
           }
          ],
          "scatterternary": [
           {
            "marker": {
             "colorbar": {
              "outlinewidth": 0,
              "ticks": ""
             }
            },
            "type": "scatterternary"
           }
          ],
          "surface": [
           {
            "colorbar": {
             "outlinewidth": 0,
             "ticks": ""
            },
            "colorscale": [
             [
              0,
              "#0d0887"
             ],
             [
              0.1111111111111111,
              "#46039f"
             ],
             [
              0.2222222222222222,
              "#7201a8"
             ],
             [
              0.3333333333333333,
              "#9c179e"
             ],
             [
              0.4444444444444444,
              "#bd3786"
             ],
             [
              0.5555555555555556,
              "#d8576b"
             ],
             [
              0.6666666666666666,
              "#ed7953"
             ],
             [
              0.7777777777777778,
              "#fb9f3a"
             ],
             [
              0.8888888888888888,
              "#fdca26"
             ],
             [
              1,
              "#f0f921"
             ]
            ],
            "type": "surface"
           }
          ],
          "table": [
           {
            "cells": {
             "fill": {
              "color": "#EBF0F8"
             },
             "line": {
              "color": "white"
             }
            },
            "header": {
             "fill": {
              "color": "#C8D4E3"
             },
             "line": {
              "color": "white"
             }
            },
            "type": "table"
           }
          ]
         },
         "layout": {
          "annotationdefaults": {
           "arrowcolor": "#2a3f5f",
           "arrowhead": 0,
           "arrowwidth": 1
          },
          "autotypenumbers": "strict",
          "coloraxis": {
           "colorbar": {
            "outlinewidth": 0,
            "ticks": ""
           }
          },
          "colorscale": {
           "diverging": [
            [
             0,
             "#8e0152"
            ],
            [
             0.1,
             "#c51b7d"
            ],
            [
             0.2,
             "#de77ae"
            ],
            [
             0.3,
             "#f1b6da"
            ],
            [
             0.4,
             "#fde0ef"
            ],
            [
             0.5,
             "#f7f7f7"
            ],
            [
             0.6,
             "#e6f5d0"
            ],
            [
             0.7,
             "#b8e186"
            ],
            [
             0.8,
             "#7fbc41"
            ],
            [
             0.9,
             "#4d9221"
            ],
            [
             1,
             "#276419"
            ]
           ],
           "sequential": [
            [
             0,
             "#0d0887"
            ],
            [
             0.1111111111111111,
             "#46039f"
            ],
            [
             0.2222222222222222,
             "#7201a8"
            ],
            [
             0.3333333333333333,
             "#9c179e"
            ],
            [
             0.4444444444444444,
             "#bd3786"
            ],
            [
             0.5555555555555556,
             "#d8576b"
            ],
            [
             0.6666666666666666,
             "#ed7953"
            ],
            [
             0.7777777777777778,
             "#fb9f3a"
            ],
            [
             0.8888888888888888,
             "#fdca26"
            ],
            [
             1,
             "#f0f921"
            ]
           ],
           "sequentialminus": [
            [
             0,
             "#0d0887"
            ],
            [
             0.1111111111111111,
             "#46039f"
            ],
            [
             0.2222222222222222,
             "#7201a8"
            ],
            [
             0.3333333333333333,
             "#9c179e"
            ],
            [
             0.4444444444444444,
             "#bd3786"
            ],
            [
             0.5555555555555556,
             "#d8576b"
            ],
            [
             0.6666666666666666,
             "#ed7953"
            ],
            [
             0.7777777777777778,
             "#fb9f3a"
            ],
            [
             0.8888888888888888,
             "#fdca26"
            ],
            [
             1,
             "#f0f921"
            ]
           ]
          },
          "colorway": [
           "#636efa",
           "#EF553B",
           "#00cc96",
           "#ab63fa",
           "#FFA15A",
           "#19d3f3",
           "#FF6692",
           "#B6E880",
           "#FF97FF",
           "#FECB52"
          ],
          "font": {
           "color": "#2a3f5f"
          },
          "geo": {
           "bgcolor": "white",
           "lakecolor": "white",
           "landcolor": "#E5ECF6",
           "showlakes": true,
           "showland": true,
           "subunitcolor": "white"
          },
          "hoverlabel": {
           "align": "left"
          },
          "hovermode": "closest",
          "mapbox": {
           "style": "light"
          },
          "paper_bgcolor": "white",
          "plot_bgcolor": "#E5ECF6",
          "polar": {
           "angularaxis": {
            "gridcolor": "white",
            "linecolor": "white",
            "ticks": ""
           },
           "bgcolor": "#E5ECF6",
           "radialaxis": {
            "gridcolor": "white",
            "linecolor": "white",
            "ticks": ""
           }
          },
          "scene": {
           "xaxis": {
            "backgroundcolor": "#E5ECF6",
            "gridcolor": "white",
            "gridwidth": 2,
            "linecolor": "white",
            "showbackground": true,
            "ticks": "",
            "zerolinecolor": "white"
           },
           "yaxis": {
            "backgroundcolor": "#E5ECF6",
            "gridcolor": "white",
            "gridwidth": 2,
            "linecolor": "white",
            "showbackground": true,
            "ticks": "",
            "zerolinecolor": "white"
           },
           "zaxis": {
            "backgroundcolor": "#E5ECF6",
            "gridcolor": "white",
            "gridwidth": 2,
            "linecolor": "white",
            "showbackground": true,
            "ticks": "",
            "zerolinecolor": "white"
           }
          },
          "shapedefaults": {
           "line": {
            "color": "#2a3f5f"
           }
          },
          "ternary": {
           "aaxis": {
            "gridcolor": "white",
            "linecolor": "white",
            "ticks": ""
           },
           "baxis": {
            "gridcolor": "white",
            "linecolor": "white",
            "ticks": ""
           },
           "bgcolor": "#E5ECF6",
           "caxis": {
            "gridcolor": "white",
            "linecolor": "white",
            "ticks": ""
           }
          },
          "title": {
           "x": 0.05
          },
          "xaxis": {
           "automargin": true,
           "gridcolor": "white",
           "linecolor": "white",
           "ticks": "",
           "title": {
            "standoff": 15
           },
           "zerolinecolor": "white",
           "zerolinewidth": 2
          },
          "yaxis": {
           "automargin": true,
           "gridcolor": "white",
           "linecolor": "white",
           "ticks": "",
           "title": {
            "standoff": 15
           },
           "zerolinecolor": "white",
           "zerolinewidth": 2
          }
         }
        },
        "title": {
         "text": "Pressure quality ( 55)",
         "x": 0.5,
         "xanchor": "center"
        },
        "width": 1200,
        "xaxis": {
         "anchor": "y",
         "domain": [
          0,
          1
         ],
         "gridcolor": "white",
         "showgrid": true,
         "title": {
          "text": "pressures_completed/90"
         },
         "zeroline": false
        },
        "yaxis": {
         "anchor": "x",
         "domain": [
          0,
          1
         ],
         "gridcolor": "white",
         "showgrid": true,
         "title": {
          "text": "pressure_success_%"
         },
         "zeroline": false
        }
       }
      }
     },
     "metadata": {},
     "output_type": "display_data"
    }
   ],
   "source": [
    "# Full universe \n",
    "scatter_plot(df_targets,\n",
    "             x_metric='pressures_completed/90', \n",
    "             y_metric='pressure_success_%',\n",
    "             z_metric='duels_win_%',\n",
    "             title='Pressure quality', \n",
    "             show_name_label=True\n",
    ")"
   ]
  },
  {
   "cell_type": "code",
   "execution_count": 152,
   "id": "9856c684",
   "metadata": {},
   "outputs": [
    {
     "data": {
      "application/vnd.plotly.v1+json": {
       "config": {
        "plotlyServerURL": "https://plot.ly"
       },
       "data": [
        {
         "customdata": [
          [
           "Santiago Ascacíbar",
           "Estudiantes (LP)"
          ],
          [
           "Franco Moyano",
           "Argentinos Jrs."
          ],
          [
           "Leonel Picco",
           "Platense"
          ],
          [
           "Carlos Villalba",
           "Platense"
          ],
          [
           "Santiago Sosa",
           "Racing Club"
          ],
          [
           "Nicolás Garayalde",
           "Vélez"
          ],
          [
           "Franco Ibarra",
           "Rosario Central"
          ],
          [
           "Francisco Perruzzi",
           "San Lorenzo"
          ],
          [
           "Bautista Kociubinski",
           "Estudiantes (LP)"
          ],
          [
           "Mateo Seoane",
           "Talleres"
          ],
          [
           "Santiago Longo",
           "Belgrano"
          ],
          [
           "Ignacio Miramón",
           "Lille"
          ],
          [
           "Xaver Schlager",
           "RB Leipzig"
          ],
          [
           "Amadou Haïdara",
           "RB Leipzig"
          ],
          [
           "Albert Sambi Lokonga",
           "Luton"
          ],
          [
           "Thiago Maia",
           "FLA"
          ],
          [
           "Matheus Henrique",
           "FLA"
          ],
          [
           "Pedro Augusto",
           "FOR"
          ],
          [
           "Hugo Moura",
           "Athlético Paranaense"
          ],
          [
           "Luan",
           "SPO"
          ],
          [
           "Zé Gabriel",
           "Vasco da Gama"
          ],
          [
           "Jhonny Lucas",
           "GOI"
          ],
          [
           "André",
           "FLU"
          ],
          [
           "Pablo Maia",
           "SPO"
          ],
          [
           "Bruno Gomes",
           "CTB"
          ],
          [
           "Fabinho",
           "SEP"
          ],
          [
           "Martinelli",
           "FLU"
          ],
          [
           "Flynn Downes",
           "Southampton"
          ],
          [
           "Melle Meulensteen",
           "Vitesse"
          ],
          [
           "David Kasumu",
           "Huddersfield"
          ],
          [
           "Tommaso Pobega",
           "Milan"
          ],
          [
           "Michel Ndary Adopo",
           "Atalanta"
          ],
          [
           "Salis Abdul Samed",
           "Lens"
          ],
          [
           "Sivert Mannsverk",
           "Ajax"
          ],
          [
           "Mirko Topić",
           "Famalicão"
          ],
          [
           "Pepelu",
           "Valencia"
          ],
          [
           "Keidi Bare",
           "Coventry"
          ],
          [
           "Fran Beltrán",
           "Celta"
          ],
          [
           "Jesús Castillo",
           "Gil Vicente"
          ],
          [
           "Nicolás Acevedo",
           "BAH"
          ],
          [
           "Samú",
           "Mallorca"
          ],
          [
           "Gonçalo Franco",
           "Moreirense"
          ],
          [
           "Leandro Barreiro",
           "Mainz 05"
          ],
          [
           "William Clem",
           "FC København"
          ],
          [
           "Alexsander",
           "FLU"
          ],
          [
           "Emanuel Quinteros",
           "Godoy Cruz"
          ],
          [
           "Benjamín Schamine",
           "Defensa y Justicia"
          ],
          [
           "Kevin Ortiz",
           "Rosario Central"
          ]
         ],
         "hovertemplate": "<b>%{customdata[0]}</b><br><b>%{customdata[1]}</b><br><br>pressures_completed/90: %{x}<br>pressure_success_%: %{y}<br>duels_win_%: %{marker.color}<extra></extra>",
         "legendgroup": "",
         "marker": {
          "color": {
           "bdata": "rkfhehT+UEBI4XoUrqdKQEjhehSuZ1FAzczMzMxMTEDXo3A9CrdQQGZmZmZm5kxAFK5H4Xq0T0CamZmZmZlMQClcj8L1GFFAMzMzMzNTTEDD9Shcj0JNQIXrUbgexU5A7FG4HoWLTUCamZmZmflJQD0K16Nw3UpAmpmZmZm5TkBSuB6F6zFLQBSuR+F6FFBASOF6FK5HTkB7FK5H4bpOQClcj8L1CE5A16NwPQrXTUCamZmZmTlPQMP1KFyPQkxAhetRuB7lTEDXo3A9CpdOQJqZmZmZGU1ArkfhehRuUUAAAAAAACBMQHsUrkfhWklA4XoUrkdhUECamZmZmUlQQMP1KFyPIlFA4XoUrkchT0BSuB6F65FQQHsUrkfhuklA4XoUrkehTUBxPQrXo3BLQGZmZmZmBlBAmpmZmZlZSkDhehSuR+FOQAAAAAAAQE9AAAAAAAAASUBmZmZmZmZSQFyPwvUoHE9A7FG4HoUrTkCPwvUoXA9OQM3MzMzMDE5A",
           "dtype": "f8"
          },
          "coloraxis": "coloraxis",
          "size": 10,
          "symbol": "circle"
         },
         "mode": "markers+text",
         "name": "",
         "orientation": "v",
         "showlegend": false,
         "text": [
          "Santiago Ascacíbar",
          "Franco Moyano",
          "Leonel Picco",
          "Carlos Villalba",
          "Santiago Sosa",
          "Nicolás Garayalde",
          "Franco Ibarra",
          "Francisco Perruzzi",
          "Bautista Kociubinski",
          "Mateo Seoane",
          "Santiago Longo",
          "Ignacio Miramón",
          "Xaver Schlager",
          "Amadou Haïdara",
          "Albert Sambi Lokonga",
          "Thiago Maia",
          "Matheus Henrique",
          "Pedro Augusto",
          "Hugo Moura",
          "Luan",
          "Zé Gabriel",
          "Jhonny Lucas",
          "André",
          "Pablo Maia",
          "Bruno Gomes",
          "Fabinho",
          "Martinelli",
          "Flynn Downes",
          "Melle Meulensteen",
          "David Kasumu",
          "Tommaso Pobega",
          "Michel Ndary Adopo",
          "Salis Abdul Samed",
          "Sivert Mannsverk",
          "Mirko Topić",
          "Pepelu",
          "Keidi Bare",
          "Fran Beltrán",
          "Jesús Castillo",
          "Nicolás Acevedo",
          "Samú",
          "Gonçalo Franco",
          "Leandro Barreiro",
          "William Clem",
          "Alexsander",
          "Emanuel Quinteros",
          "Benjamín Schamine",
          "Kevin Ortiz"
         ],
         "textfont": {
          "size": 10
         },
         "textposition": "top center",
         "type": "scatter",
         "x": {
          "bdata": "j8L1KFyPBkDD9Shcj8IHQPYoXI/C9QRAZmZmZmZmCkApXI/C9SgKQBSuR+F6FAZAuB6F61G4CEC4HoXrUbgIQM3MzMzMzAZA4XoUrkfhBkAzMzMzMzMNQK5H4XoUrglAMzMzMzMzBUAfhetRuB4HQI/C9ShcjwRAhetRuB6FCUAUrkfhehQMQNejcD0K1wVACtejcD0KB0A9CtejcD0GQEjhehSuRwlAZmZmZmZmBkA9CtejcD0IQOF6FK5H4QpACtejcD0KB0ApXI/C9SgEQNejcD0K1wtAH4XrUbgeBUDD9Shcj8IJQAAAAAAAAAZAPQrXo3A9BkBcj8L1KFwFQBSuR+F6FBBAKVyPwvUoBED2KFyPwvUGQHsUrkfhegRAj8L1KFyPCEDXo3A9CtcFQD0K16NwPQZAH4XrUbgeBUCamZmZmZkJQI/C9ShcjwRAFK5H4XoUAEAAAAAAAAAGQJqZmZmZmQlA16NwPQrXB0BxPQrXo3ALQIXrUbgehQVA",
          "dtype": "f8"
         },
         "xaxis": "x",
         "y": {
          "bdata": "AAAAAACAPEBxPQrXo3A7QHsUrkfhujlApHA9CtcjPECuR+F6FC47QFK4HoXrUThASOF6FK6HO0DD9Shcj0I9QArXo3A9ij1AcT0K16MwPkAAAAAAAEA/QEjhehSuhz9ACtejcD1KPEBSuB6F65E9QArXo3A9ijhAzczMzMwMQEApXI/C9Wg9QD0K16Nw/TVAw/UoXI+COkCkcD0K16M4QIXrUbgeJUBAexSuR+G6OkA9CtejcL09QGZmZmZm5jpAFK5H4XqUPUAK16NwPUo3QEjhehSuxz1AcT0K16NwP0A9CtejcD1BQPYoXI/C9TpA16NwPQoXQEAAAAAAAAA5QEjhehSuh0BAhetRuB6FO0D2KFyPwnU8QM3MzMzMjDhAw/UoXI8COkAAAAAAAMA7QD0K16NwfTpA9ihcj8J1OUDXo3A9Chc6QFyPwvUoXD5ApHA9CtcjNEAUrkfhehRAQM3MzMzMTD9AmpmZmZmZOUCkcD0K1yNAQJqZmZmZGTpA",
          "dtype": "f8"
         },
         "yaxis": "y"
        }
       ],
       "layout": {
        "coloraxis": {
         "colorbar": {
          "title": {
           "text": "duels_win_%"
          }
         },
         "colorscale": [
          [
           0,
           "rgb(165,0,38)"
          ],
          [
           0.1,
           "rgb(215,48,39)"
          ],
          [
           0.2,
           "rgb(244,109,67)"
          ],
          [
           0.3,
           "rgb(253,174,97)"
          ],
          [
           0.4,
           "rgb(254,224,139)"
          ],
          [
           0.5,
           "rgb(255,255,191)"
          ],
          [
           0.6,
           "rgb(217,239,139)"
          ],
          [
           0.7,
           "rgb(166,217,106)"
          ],
          [
           0.8,
           "rgb(102,189,99)"
          ],
          [
           0.9,
           "rgb(26,152,80)"
          ],
          [
           1,
           "rgb(0,104,55)"
          ]
         ],
         "showscale": false
        },
        "height": 700,
        "legend": {
         "tracegroupgap": 0
        },
        "paper_bgcolor": "darkgray",
        "plot_bgcolor": "darkgray",
        "template": {
         "data": {
          "bar": [
           {
            "error_x": {
             "color": "#2a3f5f"
            },
            "error_y": {
             "color": "#2a3f5f"
            },
            "marker": {
             "line": {
              "color": "#E5ECF6",
              "width": 0.5
             },
             "pattern": {
              "fillmode": "overlay",
              "size": 10,
              "solidity": 0.2
             }
            },
            "type": "bar"
           }
          ],
          "barpolar": [
           {
            "marker": {
             "line": {
              "color": "#E5ECF6",
              "width": 0.5
             },
             "pattern": {
              "fillmode": "overlay",
              "size": 10,
              "solidity": 0.2
             }
            },
            "type": "barpolar"
           }
          ],
          "carpet": [
           {
            "aaxis": {
             "endlinecolor": "#2a3f5f",
             "gridcolor": "white",
             "linecolor": "white",
             "minorgridcolor": "white",
             "startlinecolor": "#2a3f5f"
            },
            "baxis": {
             "endlinecolor": "#2a3f5f",
             "gridcolor": "white",
             "linecolor": "white",
             "minorgridcolor": "white",
             "startlinecolor": "#2a3f5f"
            },
            "type": "carpet"
           }
          ],
          "choropleth": [
           {
            "colorbar": {
             "outlinewidth": 0,
             "ticks": ""
            },
            "type": "choropleth"
           }
          ],
          "contour": [
           {
            "colorbar": {
             "outlinewidth": 0,
             "ticks": ""
            },
            "colorscale": [
             [
              0,
              "#0d0887"
             ],
             [
              0.1111111111111111,
              "#46039f"
             ],
             [
              0.2222222222222222,
              "#7201a8"
             ],
             [
              0.3333333333333333,
              "#9c179e"
             ],
             [
              0.4444444444444444,
              "#bd3786"
             ],
             [
              0.5555555555555556,
              "#d8576b"
             ],
             [
              0.6666666666666666,
              "#ed7953"
             ],
             [
              0.7777777777777778,
              "#fb9f3a"
             ],
             [
              0.8888888888888888,
              "#fdca26"
             ],
             [
              1,
              "#f0f921"
             ]
            ],
            "type": "contour"
           }
          ],
          "contourcarpet": [
           {
            "colorbar": {
             "outlinewidth": 0,
             "ticks": ""
            },
            "type": "contourcarpet"
           }
          ],
          "heatmap": [
           {
            "colorbar": {
             "outlinewidth": 0,
             "ticks": ""
            },
            "colorscale": [
             [
              0,
              "#0d0887"
             ],
             [
              0.1111111111111111,
              "#46039f"
             ],
             [
              0.2222222222222222,
              "#7201a8"
             ],
             [
              0.3333333333333333,
              "#9c179e"
             ],
             [
              0.4444444444444444,
              "#bd3786"
             ],
             [
              0.5555555555555556,
              "#d8576b"
             ],
             [
              0.6666666666666666,
              "#ed7953"
             ],
             [
              0.7777777777777778,
              "#fb9f3a"
             ],
             [
              0.8888888888888888,
              "#fdca26"
             ],
             [
              1,
              "#f0f921"
             ]
            ],
            "type": "heatmap"
           }
          ],
          "histogram": [
           {
            "marker": {
             "pattern": {
              "fillmode": "overlay",
              "size": 10,
              "solidity": 0.2
             }
            },
            "type": "histogram"
           }
          ],
          "histogram2d": [
           {
            "colorbar": {
             "outlinewidth": 0,
             "ticks": ""
            },
            "colorscale": [
             [
              0,
              "#0d0887"
             ],
             [
              0.1111111111111111,
              "#46039f"
             ],
             [
              0.2222222222222222,
              "#7201a8"
             ],
             [
              0.3333333333333333,
              "#9c179e"
             ],
             [
              0.4444444444444444,
              "#bd3786"
             ],
             [
              0.5555555555555556,
              "#d8576b"
             ],
             [
              0.6666666666666666,
              "#ed7953"
             ],
             [
              0.7777777777777778,
              "#fb9f3a"
             ],
             [
              0.8888888888888888,
              "#fdca26"
             ],
             [
              1,
              "#f0f921"
             ]
            ],
            "type": "histogram2d"
           }
          ],
          "histogram2dcontour": [
           {
            "colorbar": {
             "outlinewidth": 0,
             "ticks": ""
            },
            "colorscale": [
             [
              0,
              "#0d0887"
             ],
             [
              0.1111111111111111,
              "#46039f"
             ],
             [
              0.2222222222222222,
              "#7201a8"
             ],
             [
              0.3333333333333333,
              "#9c179e"
             ],
             [
              0.4444444444444444,
              "#bd3786"
             ],
             [
              0.5555555555555556,
              "#d8576b"
             ],
             [
              0.6666666666666666,
              "#ed7953"
             ],
             [
              0.7777777777777778,
              "#fb9f3a"
             ],
             [
              0.8888888888888888,
              "#fdca26"
             ],
             [
              1,
              "#f0f921"
             ]
            ],
            "type": "histogram2dcontour"
           }
          ],
          "mesh3d": [
           {
            "colorbar": {
             "outlinewidth": 0,
             "ticks": ""
            },
            "type": "mesh3d"
           }
          ],
          "parcoords": [
           {
            "line": {
             "colorbar": {
              "outlinewidth": 0,
              "ticks": ""
             }
            },
            "type": "parcoords"
           }
          ],
          "pie": [
           {
            "automargin": true,
            "type": "pie"
           }
          ],
          "scatter": [
           {
            "fillpattern": {
             "fillmode": "overlay",
             "size": 10,
             "solidity": 0.2
            },
            "type": "scatter"
           }
          ],
          "scatter3d": [
           {
            "line": {
             "colorbar": {
              "outlinewidth": 0,
              "ticks": ""
             }
            },
            "marker": {
             "colorbar": {
              "outlinewidth": 0,
              "ticks": ""
             }
            },
            "type": "scatter3d"
           }
          ],
          "scattercarpet": [
           {
            "marker": {
             "colorbar": {
              "outlinewidth": 0,
              "ticks": ""
             }
            },
            "type": "scattercarpet"
           }
          ],
          "scattergeo": [
           {
            "marker": {
             "colorbar": {
              "outlinewidth": 0,
              "ticks": ""
             }
            },
            "type": "scattergeo"
           }
          ],
          "scattergl": [
           {
            "marker": {
             "colorbar": {
              "outlinewidth": 0,
              "ticks": ""
             }
            },
            "type": "scattergl"
           }
          ],
          "scattermap": [
           {
            "marker": {
             "colorbar": {
              "outlinewidth": 0,
              "ticks": ""
             }
            },
            "type": "scattermap"
           }
          ],
          "scattermapbox": [
           {
            "marker": {
             "colorbar": {
              "outlinewidth": 0,
              "ticks": ""
             }
            },
            "type": "scattermapbox"
           }
          ],
          "scatterpolar": [
           {
            "marker": {
             "colorbar": {
              "outlinewidth": 0,
              "ticks": ""
             }
            },
            "type": "scatterpolar"
           }
          ],
          "scatterpolargl": [
           {
            "marker": {
             "colorbar": {
              "outlinewidth": 0,
              "ticks": ""
             }
            },
            "type": "scatterpolargl"
           }
          ],
          "scatterternary": [
           {
            "marker": {
             "colorbar": {
              "outlinewidth": 0,
              "ticks": ""
             }
            },
            "type": "scatterternary"
           }
          ],
          "surface": [
           {
            "colorbar": {
             "outlinewidth": 0,
             "ticks": ""
            },
            "colorscale": [
             [
              0,
              "#0d0887"
             ],
             [
              0.1111111111111111,
              "#46039f"
             ],
             [
              0.2222222222222222,
              "#7201a8"
             ],
             [
              0.3333333333333333,
              "#9c179e"
             ],
             [
              0.4444444444444444,
              "#bd3786"
             ],
             [
              0.5555555555555556,
              "#d8576b"
             ],
             [
              0.6666666666666666,
              "#ed7953"
             ],
             [
              0.7777777777777778,
              "#fb9f3a"
             ],
             [
              0.8888888888888888,
              "#fdca26"
             ],
             [
              1,
              "#f0f921"
             ]
            ],
            "type": "surface"
           }
          ],
          "table": [
           {
            "cells": {
             "fill": {
              "color": "#EBF0F8"
             },
             "line": {
              "color": "white"
             }
            },
            "header": {
             "fill": {
              "color": "#C8D4E3"
             },
             "line": {
              "color": "white"
             }
            },
            "type": "table"
           }
          ]
         },
         "layout": {
          "annotationdefaults": {
           "arrowcolor": "#2a3f5f",
           "arrowhead": 0,
           "arrowwidth": 1
          },
          "autotypenumbers": "strict",
          "coloraxis": {
           "colorbar": {
            "outlinewidth": 0,
            "ticks": ""
           }
          },
          "colorscale": {
           "diverging": [
            [
             0,
             "#8e0152"
            ],
            [
             0.1,
             "#c51b7d"
            ],
            [
             0.2,
             "#de77ae"
            ],
            [
             0.3,
             "#f1b6da"
            ],
            [
             0.4,
             "#fde0ef"
            ],
            [
             0.5,
             "#f7f7f7"
            ],
            [
             0.6,
             "#e6f5d0"
            ],
            [
             0.7,
             "#b8e186"
            ],
            [
             0.8,
             "#7fbc41"
            ],
            [
             0.9,
             "#4d9221"
            ],
            [
             1,
             "#276419"
            ]
           ],
           "sequential": [
            [
             0,
             "#0d0887"
            ],
            [
             0.1111111111111111,
             "#46039f"
            ],
            [
             0.2222222222222222,
             "#7201a8"
            ],
            [
             0.3333333333333333,
             "#9c179e"
            ],
            [
             0.4444444444444444,
             "#bd3786"
            ],
            [
             0.5555555555555556,
             "#d8576b"
            ],
            [
             0.6666666666666666,
             "#ed7953"
            ],
            [
             0.7777777777777778,
             "#fb9f3a"
            ],
            [
             0.8888888888888888,
             "#fdca26"
            ],
            [
             1,
             "#f0f921"
            ]
           ],
           "sequentialminus": [
            [
             0,
             "#0d0887"
            ],
            [
             0.1111111111111111,
             "#46039f"
            ],
            [
             0.2222222222222222,
             "#7201a8"
            ],
            [
             0.3333333333333333,
             "#9c179e"
            ],
            [
             0.4444444444444444,
             "#bd3786"
            ],
            [
             0.5555555555555556,
             "#d8576b"
            ],
            [
             0.6666666666666666,
             "#ed7953"
            ],
            [
             0.7777777777777778,
             "#fb9f3a"
            ],
            [
             0.8888888888888888,
             "#fdca26"
            ],
            [
             1,
             "#f0f921"
            ]
           ]
          },
          "colorway": [
           "#636efa",
           "#EF553B",
           "#00cc96",
           "#ab63fa",
           "#FFA15A",
           "#19d3f3",
           "#FF6692",
           "#B6E880",
           "#FF97FF",
           "#FECB52"
          ],
          "font": {
           "color": "#2a3f5f"
          },
          "geo": {
           "bgcolor": "white",
           "lakecolor": "white",
           "landcolor": "#E5ECF6",
           "showlakes": true,
           "showland": true,
           "subunitcolor": "white"
          },
          "hoverlabel": {
           "align": "left"
          },
          "hovermode": "closest",
          "mapbox": {
           "style": "light"
          },
          "paper_bgcolor": "white",
          "plot_bgcolor": "#E5ECF6",
          "polar": {
           "angularaxis": {
            "gridcolor": "white",
            "linecolor": "white",
            "ticks": ""
           },
           "bgcolor": "#E5ECF6",
           "radialaxis": {
            "gridcolor": "white",
            "linecolor": "white",
            "ticks": ""
           }
          },
          "scene": {
           "xaxis": {
            "backgroundcolor": "#E5ECF6",
            "gridcolor": "white",
            "gridwidth": 2,
            "linecolor": "white",
            "showbackground": true,
            "ticks": "",
            "zerolinecolor": "white"
           },
           "yaxis": {
            "backgroundcolor": "#E5ECF6",
            "gridcolor": "white",
            "gridwidth": 2,
            "linecolor": "white",
            "showbackground": true,
            "ticks": "",
            "zerolinecolor": "white"
           },
           "zaxis": {
            "backgroundcolor": "#E5ECF6",
            "gridcolor": "white",
            "gridwidth": 2,
            "linecolor": "white",
            "showbackground": true,
            "ticks": "",
            "zerolinecolor": "white"
           }
          },
          "shapedefaults": {
           "line": {
            "color": "#2a3f5f"
           }
          },
          "ternary": {
           "aaxis": {
            "gridcolor": "white",
            "linecolor": "white",
            "ticks": ""
           },
           "baxis": {
            "gridcolor": "white",
            "linecolor": "white",
            "ticks": ""
           },
           "bgcolor": "#E5ECF6",
           "caxis": {
            "gridcolor": "white",
            "linecolor": "white",
            "ticks": ""
           }
          },
          "title": {
           "x": 0.05
          },
          "xaxis": {
           "automargin": true,
           "gridcolor": "white",
           "linecolor": "white",
           "ticks": "",
           "title": {
            "standoff": 15
           },
           "zerolinecolor": "white",
           "zerolinewidth": 2
          },
          "yaxis": {
           "automargin": true,
           "gridcolor": "white",
           "linecolor": "white",
           "ticks": "",
           "title": {
            "standoff": 15
           },
           "zerolinecolor": "white",
           "zerolinewidth": 2
          }
         }
        },
        "title": {
         "text": "Pressure quality ( 48)",
         "x": 0.5,
         "xanchor": "center"
        },
        "width": 1200,
        "xaxis": {
         "anchor": "y",
         "domain": [
          0,
          1
         ],
         "gridcolor": "white",
         "showgrid": true,
         "title": {
          "text": "pressures_completed/90"
         },
         "zeroline": false
        },
        "yaxis": {
         "anchor": "x",
         "domain": [
          0,
          1
         ],
         "gridcolor": "white",
         "showgrid": true,
         "title": {
          "text": "pressure_success_%"
         },
         "zeroline": false
        }
       }
      }
     },
     "metadata": {},
     "output_type": "display_data"
    }
   ],
   "source": [
    "# Filter data \n",
    "mask = (\n",
    "        (df_players['pressures_completed/90'] >= 2.5) & \\\n",
    "        (df_players['pressure_success_%'] >= 20) & \\\n",
    "        (df_players['duels_win_%'] >= 50) & \\\n",
    "        (df_players['id'].isin(targets)) | \\\n",
    "        (df_players['name'].str.contains('Barreiro')) \n",
    "        \n",
    "        \n",
    ")\n",
    "\n",
    "df_targets = df_players[mask]\n",
    "\n",
    "scatter_plot(df_targets,\n",
    "             x_metric='pressures_completed/90', \n",
    "             y_metric='pressure_success_%',\n",
    "             z_metric='duels_win_%',\n",
    "             title='Pressure quality', \n",
    "             show_name_label=True\n",
    ")\n",
    "\n",
    "# Keep only players that fulfill criteria\n",
    "targets = df_targets['id']"
   ]
  },
  {
   "cell_type": "markdown",
   "id": "6dabb355",
   "metadata": {},
   "source": [
    "## Presence"
   ]
  },
  {
   "cell_type": "code",
   "execution_count": 153,
   "id": "907f59a5",
   "metadata": {},
   "outputs": [
    {
     "data": {
      "text/html": [
       "<div>\n",
       "<style scoped>\n",
       "    .dataframe tbody tr th:only-of-type {\n",
       "        vertical-align: middle;\n",
       "    }\n",
       "\n",
       "    .dataframe tbody tr th {\n",
       "        vertical-align: top;\n",
       "    }\n",
       "\n",
       "    .dataframe thead th {\n",
       "        text-align: right;\n",
       "    }\n",
       "</style>\n",
       "<table border=\"1\" class=\"dataframe\">\n",
       "  <thead>\n",
       "    <tr style=\"text-align: right;\">\n",
       "      <th></th>\n",
       "      <th>id</th>\n",
       "      <th>name</th>\n",
       "      <th>position</th>\n",
       "      <th>age</th>\n",
       "      <th>height</th>\n",
       "      <th>weight</th>\n",
       "      <th>inf</th>\n",
       "      <th>club</th>\n",
       "      <th>division</th>\n",
       "      <th>nationality</th>\n",
       "      <th>home_grown</th>\n",
       "      <th>personality</th>\n",
       "      <th>media_handling</th>\n",
       "      <th>wage</th>\n",
       "      <th>transfer_value</th>\n",
       "      <th>asking_price</th>\n",
       "      <th>preferred_foot</th>\n",
       "      <th>starts</th>\n",
       "      <th>minutes_played</th>\n",
       "      <th>average_rating</th>\n",
       "      <th>sub_appearances</th>\n",
       "      <th>minutes/game</th>\n",
       "      <th>index</th>\n",
       "      <th>passes_attempted/90</th>\n",
       "      <th>passes_completed/90</th>\n",
       "      <th>pass_completion_%</th>\n",
       "      <th>progressive_passes/90</th>\n",
       "      <th>progressive_pass_rate</th>\n",
       "      <th>key_passes/90</th>\n",
       "      <th>key_pass_%</th>\n",
       "      <th>open_play_key_passes/90</th>\n",
       "      <th>open_play_key_pass_%</th>\n",
       "      <th>chances_created/90</th>\n",
       "      <th>clear_cut_chances_created/90</th>\n",
       "      <th>pressures_attempted/90</th>\n",
       "      <th>pressures_completed/90</th>\n",
       "      <th>pressure_success_%</th>\n",
       "      <th>possession_won/90</th>\n",
       "      <th>possession_lost/90</th>\n",
       "      <th>poss+_/90</th>\n",
       "      <th>poss+__%</th>\n",
       "      <th>tackles_attempted/90</th>\n",
       "      <th>tackles_completed/90</th>\n",
       "      <th>tackle_completion_%</th>\n",
       "      <th>tackles_failed/90</th>\n",
       "      <th>key_tackles/90</th>\n",
       "      <th>tackle_quality</th>\n",
       "      <th>interceptions/90</th>\n",
       "      <th>blocks/90</th>\n",
       "      <th>shots_blocked/90</th>\n",
       "      <th>headers_attempted/90</th>\n",
       "      <th>headers_won/90</th>\n",
       "      <th>headers_won_%</th>\n",
       "      <th>headers_lost/90</th>\n",
       "      <th>headers_lost_%</th>\n",
       "      <th>key_headers/90</th>\n",
       "      <th>aerial_challenges_attempted/90</th>\n",
       "      <th>duels_win_%</th>\n",
       "      <th>fouls_won/90</th>\n",
       "      <th>fouls_committed/90</th>\n",
       "      <th>clearances/90</th>\n",
       "      <th>distance_covered/90</th>\n",
       "      <th>attacking_actions/90</th>\n",
       "      <th>creative_actions/90</th>\n",
       "      <th>defensive_actions/90</th>\n",
       "      <th>excitement_factor/90</th>\n",
       "      <th>general_performance</th>\n",
       "      <th>goalkeeping</th>\n",
       "      <th>defensive_defender</th>\n",
       "      <th>creative_defender</th>\n",
       "      <th>attacking_defender</th>\n",
       "      <th>creative_midfielder</th>\n",
       "      <th>attacking_midfielder</th>\n",
       "      <th>creative_winger</th>\n",
       "      <th>attacking_winger</th>\n",
       "      <th>creative_forward</th>\n",
       "      <th>attacking_forward</th>\n",
       "      <th>finisher</th>\n",
       "      <th>aerial_threat</th>\n",
       "      <th>reader</th>\n",
       "      <th>assister</th>\n",
       "      <th>uid</th>\n",
       "      <th>natural_dm</th>\n",
       "      <th>price_estimate_M</th>\n",
       "      <th>tackles_comp-fouls/90</th>\n",
       "    </tr>\n",
       "  </thead>\n",
       "  <tbody>\n",
       "    <tr>\n",
       "      <th>1</th>\n",
       "      <td>211515</td>\n",
       "      <td>Baptiste Santamaria</td>\n",
       "      <td>DM, M/AM (C)</td>\n",
       "      <td>28</td>\n",
       "      <td>183 cm</td>\n",
       "      <td>81 kg</td>\n",
       "      <td>-</td>\n",
       "      <td>Rennes</td>\n",
       "      <td>Ligue 1 Uber Eats</td>\n",
       "      <td>FRA</td>\n",
       "      <td>-</td>\n",
       "      <td>Resolute</td>\n",
       "      <td>Level-headed</td>\n",
       "      <td>$16,000 p/w</td>\n",
       "      <td>$10M - $12.5M</td>\n",
       "      <td>-</td>\n",
       "      <td>Right</td>\n",
       "      <td>20</td>\n",
       "      <td>1741</td>\n",
       "      <td>6.87</td>\n",
       "      <td>1</td>\n",
       "      <td>82.9</td>\n",
       "      <td>1</td>\n",
       "      <td>73.56</td>\n",
       "      <td>66.07</td>\n",
       "      <td>90</td>\n",
       "      <td>8.27</td>\n",
       "      <td>11.24</td>\n",
       "      <td>1.03</td>\n",
       "      <td>1.41</td>\n",
       "      <td>0.98</td>\n",
       "      <td>1.34</td>\n",
       "      <td>0.07</td>\n",
       "      <td>0.05</td>\n",
       "      <td>12.25</td>\n",
       "      <td>3.31</td>\n",
       "      <td>27.0</td>\n",
       "      <td>8.22</td>\n",
       "      <td>9.15</td>\n",
       "      <td>-0.93</td>\n",
       "      <td>-10.16</td>\n",
       "      <td>4.03</td>\n",
       "      <td>2.95</td>\n",
       "      <td>73</td>\n",
       "      <td>1.09</td>\n",
       "      <td>0.0</td>\n",
       "      <td>2.36</td>\n",
       "      <td>1.71</td>\n",
       "      <td>0.47</td>\n",
       "      <td>0.26</td>\n",
       "      <td>3.67</td>\n",
       "      <td>1.09</td>\n",
       "      <td>29.58</td>\n",
       "      <td>2.58</td>\n",
       "      <td>70.42</td>\n",
       "      <td>0.1</td>\n",
       "      <td>3.67</td>\n",
       "      <td>52.35</td>\n",
       "      <td>0.47</td>\n",
       "      <td>1.71</td>\n",
       "      <td>0.72</td>\n",
       "      <td>13.79</td>\n",
       "      <td>1.12</td>\n",
       "      <td>1.19</td>\n",
       "      <td>11.02</td>\n",
       "      <td>3.36</td>\n",
       "      <td>47</td>\n",
       "      <td>100</td>\n",
       "      <td>38</td>\n",
       "      <td>63</td>\n",
       "      <td>47</td>\n",
       "      <td>28</td>\n",
       "      <td>18</td>\n",
       "      <td>40</td>\n",
       "      <td>29</td>\n",
       "      <td>32</td>\n",
       "      <td>19</td>\n",
       "      <td>6</td>\n",
       "      <td>31</td>\n",
       "      <td>26</td>\n",
       "      <td>20</td>\n",
       "      <td>211515.0</td>\n",
       "      <td>Yes</td>\n",
       "      <td>13.5</td>\n",
       "      <td>1.725146</td>\n",
       "    </tr>\n",
       "  </tbody>\n",
       "</table>\n",
       "</div>"
      ],
      "text/plain": [
       "       id                 name      position  age  height weight inf    club  \\\n",
       "1  211515  Baptiste Santamaria  DM, M/AM (C)   28  183 cm  81 kg   -  Rennes   \n",
       "\n",
       "            division nationality home_grown personality media_handling  \\\n",
       "1  Ligue 1 Uber Eats         FRA          -    Resolute   Level-headed   \n",
       "\n",
       "          wage transfer_value asking_price preferred_foot  starts  \\\n",
       "1  $16,000 p/w  $10M - $12.5M            -          Right      20   \n",
       "\n",
       "   minutes_played  average_rating  sub_appearances  minutes/game  index  \\\n",
       "1            1741            6.87                1          82.9      1   \n",
       "\n",
       "   passes_attempted/90  passes_completed/90  pass_completion_%  \\\n",
       "1                73.56                66.07                 90   \n",
       "\n",
       "   progressive_passes/90  progressive_pass_rate  key_passes/90  key_pass_%  \\\n",
       "1                   8.27                  11.24           1.03        1.41   \n",
       "\n",
       "   open_play_key_passes/90  open_play_key_pass_%  chances_created/90  \\\n",
       "1                     0.98                  1.34                0.07   \n",
       "\n",
       "   clear_cut_chances_created/90  pressures_attempted/90  \\\n",
       "1                          0.05                   12.25   \n",
       "\n",
       "   pressures_completed/90  pressure_success_%  possession_won/90  \\\n",
       "1                    3.31                27.0               8.22   \n",
       "\n",
       "   possession_lost/90  poss+_/90  poss+__%  tackles_attempted/90  \\\n",
       "1                9.15      -0.93    -10.16                  4.03   \n",
       "\n",
       "   tackles_completed/90  tackle_completion_%  tackles_failed/90  \\\n",
       "1                  2.95                   73               1.09   \n",
       "\n",
       "   key_tackles/90  tackle_quality  interceptions/90  blocks/90  \\\n",
       "1             0.0            2.36              1.71       0.47   \n",
       "\n",
       "   shots_blocked/90  headers_attempted/90  headers_won/90  headers_won_%  \\\n",
       "1              0.26                  3.67            1.09          29.58   \n",
       "\n",
       "   headers_lost/90  headers_lost_%  key_headers/90  \\\n",
       "1             2.58           70.42             0.1   \n",
       "\n",
       "   aerial_challenges_attempted/90  duels_win_%  fouls_won/90  \\\n",
       "1                            3.67        52.35          0.47   \n",
       "\n",
       "   fouls_committed/90  clearances/90  distance_covered/90  \\\n",
       "1                1.71           0.72                13.79   \n",
       "\n",
       "   attacking_actions/90  creative_actions/90  defensive_actions/90  \\\n",
       "1                  1.12                 1.19                 11.02   \n",
       "\n",
       "   excitement_factor/90  general_performance  goalkeeping  defensive_defender  \\\n",
       "1                  3.36                   47          100                  38   \n",
       "\n",
       "   creative_defender  attacking_defender  creative_midfielder  \\\n",
       "1                 63                  47                   28   \n",
       "\n",
       "   attacking_midfielder  creative_winger  attacking_winger  creative_forward  \\\n",
       "1                    18               40                29                32   \n",
       "\n",
       "   attacking_forward  finisher  aerial_threat  reader  assister       uid  \\\n",
       "1                 19         6             31      26        20  211515.0   \n",
       "\n",
       "  natural_dm  price_estimate_M  tackles_comp-fouls/90  \n",
       "1        Yes              13.5               1.725146  "
      ]
     },
     "execution_count": 153,
     "metadata": {},
     "output_type": "execute_result"
    }
   ],
   "source": [
    "df_players.head(1)"
   ]
  },
  {
   "cell_type": "code",
   "execution_count": 154,
   "id": "115f7fe2",
   "metadata": {},
   "outputs": [
    {
     "data": {
      "application/vnd.plotly.v1+json": {
       "config": {
        "plotlyServerURL": "https://plot.ly"
       },
       "data": [
        {
         "customdata": [
          [
           "Santiago Ascacíbar",
           "Estudiantes (LP)"
          ],
          [
           "Franco Moyano",
           "Argentinos Jrs."
          ],
          [
           "Leonel Picco",
           "Platense"
          ],
          [
           "Carlos Villalba",
           "Platense"
          ],
          [
           "Santiago Sosa",
           "Racing Club"
          ],
          [
           "Nicolás Garayalde",
           "Vélez"
          ],
          [
           "Franco Ibarra",
           "Rosario Central"
          ],
          [
           "Francisco Perruzzi",
           "San Lorenzo"
          ],
          [
           "Bautista Kociubinski",
           "Estudiantes (LP)"
          ],
          [
           "Mateo Seoane",
           "Talleres"
          ],
          [
           "Santiago Longo",
           "Belgrano"
          ],
          [
           "Ignacio Miramón",
           "Lille"
          ],
          [
           "Xaver Schlager",
           "RB Leipzig"
          ],
          [
           "Amadou Haïdara",
           "RB Leipzig"
          ],
          [
           "Albert Sambi Lokonga",
           "Luton"
          ],
          [
           "Thiago Maia",
           "FLA"
          ],
          [
           "Matheus Henrique",
           "FLA"
          ],
          [
           "Pedro Augusto",
           "FOR"
          ],
          [
           "Hugo Moura",
           "Athlético Paranaense"
          ],
          [
           "Luan",
           "SPO"
          ],
          [
           "Zé Gabriel",
           "Vasco da Gama"
          ],
          [
           "Jhonny Lucas",
           "GOI"
          ],
          [
           "André",
           "FLU"
          ],
          [
           "Pablo Maia",
           "SPO"
          ],
          [
           "Bruno Gomes",
           "CTB"
          ],
          [
           "Fabinho",
           "SEP"
          ],
          [
           "Martinelli",
           "FLU"
          ],
          [
           "Flynn Downes",
           "Southampton"
          ],
          [
           "Melle Meulensteen",
           "Vitesse"
          ],
          [
           "David Kasumu",
           "Huddersfield"
          ],
          [
           "Tommaso Pobega",
           "Milan"
          ],
          [
           "Michel Ndary Adopo",
           "Atalanta"
          ],
          [
           "Salis Abdul Samed",
           "Lens"
          ],
          [
           "Sivert Mannsverk",
           "Ajax"
          ],
          [
           "Mirko Topić",
           "Famalicão"
          ],
          [
           "Pepelu",
           "Valencia"
          ],
          [
           "Keidi Bare",
           "Coventry"
          ],
          [
           "Fran Beltrán",
           "Celta"
          ],
          [
           "Jesús Castillo",
           "Gil Vicente"
          ],
          [
           "Nicolás Acevedo",
           "BAH"
          ],
          [
           "Samú",
           "Mallorca"
          ],
          [
           "Gonçalo Franco",
           "Moreirense"
          ],
          [
           "Leandro Barreiro",
           "Mainz 05"
          ],
          [
           "William Clem",
           "FC København"
          ],
          [
           "Alexsander",
           "FLU"
          ],
          [
           "Emanuel Quinteros",
           "Godoy Cruz"
          ],
          [
           "Benjamín Schamine",
           "Defensa y Justicia"
          ],
          [
           "Kevin Ortiz",
           "Rosario Central"
          ]
         ],
         "hovertemplate": "<b>%{customdata[0]}</b><br><b>%{customdata[1]}</b><br><br>interceptions/90: %{x}<br>blocks/90: %{y}<br>clearances/90: %{marker.color}<extra></extra>",
         "legendgroup": "",
         "marker": {
          "color": {
           "bdata": "j8L1KFyP8j8AAAAAAADgP4/C9Shcj/I/mpmZmZmZ6T/2KFyPwvXoPx+F61G4HvU/PQrXo3A98j/sUbgehevpPz0K16NwPeI/pHA9Ctej8D/sUbgehevpPwrXo3A9Csc/w/UoXI/C5T+amZmZmZnxP5qZmZmZmfU/rkfhehSu7z/NzMzMzMzkPx+F61G4HvU/pHA9Ctej8D/2KFyPwvXoP/YoXI/C9eg/PQrXo3A96j/hehSuR+HiP83MzMzMzOQ/16NwPQrX6z/hehSuR+HiPx+F61G4HvE/hetRuB6F4z+kcD0K16P0PwAAAAAAAPQ/AAAAAAAA4D8pXI/C9SjwP1yPwvUoXO8/mpmZmZmZ4T/NzMzMzMzsPxSuR+F6FOY/zczMzMzM9D/sUbgehev1Px+F61G4HvU/j8L1KFyP4j9mZmZmZmbuP/YoXI/C9fA/zczMzMzM/D+amZmZmZnhPx+F61G4Hu0/7FG4HoXr4T9xPQrXo3DxPylcj8L1KOw/",
           "dtype": "f8"
          },
          "coloraxis": "coloraxis",
          "size": 10,
          "symbol": "circle"
         },
         "mode": "markers+text",
         "name": "",
         "orientation": "v",
         "showlegend": false,
         "text": [
          "Santiago Ascacíbar",
          "Franco Moyano",
          "Leonel Picco",
          "Carlos Villalba",
          "Santiago Sosa",
          "Nicolás Garayalde",
          "Franco Ibarra",
          "Francisco Perruzzi",
          "Bautista Kociubinski",
          "Mateo Seoane",
          "Santiago Longo",
          "Ignacio Miramón",
          "Xaver Schlager",
          "Amadou Haïdara",
          "Albert Sambi Lokonga",
          "Thiago Maia",
          "Matheus Henrique",
          "Pedro Augusto",
          "Hugo Moura",
          "Luan",
          "Zé Gabriel",
          "Jhonny Lucas",
          "André",
          "Pablo Maia",
          "Bruno Gomes",
          "Fabinho",
          "Martinelli",
          "Flynn Downes",
          "Melle Meulensteen",
          "David Kasumu",
          "Tommaso Pobega",
          "Michel Ndary Adopo",
          "Salis Abdul Samed",
          "Sivert Mannsverk",
          "Mirko Topić",
          "Pepelu",
          "Keidi Bare",
          "Fran Beltrán",
          "Jesús Castillo",
          "Nicolás Acevedo",
          "Samú",
          "Gonçalo Franco",
          "Leandro Barreiro",
          "William Clem",
          "Alexsander",
          "Emanuel Quinteros",
          "Benjamín Schamine",
          "Kevin Ortiz"
         ],
         "textfont": {
          "size": 10
         },
         "textposition": "top center",
         "type": "scatter",
         "x": {
          "bdata": "MzMzMzMz8z+PwvUoXI/2Px+F61G4Hv0/FK5H4XoU+j97FK5H4XoAQHsUrkfhevg/rkfhehSu/z9xPQrXo3D5P83MzMzMzPQ/w/UoXI/C9T+uR+F6FK4BQNejcD0K1/s/rkfhehSu9z9SuB6F61EAQJqZmZmZmfU/exSuR+F6/D8fhetRuB4DQHE9CtejcAFAFK5H4XoU/j/NzMzMzMwAQI/C9Shcj/o/MzMzMzMz+z89CtejcD0AQFK4HoXrUfg/CtejcD0K+z8pXI/C9Sj0P5qZmZmZmQFA4XoUrkfh9j9xPQrXo3DxP2ZmZmZmZvo/CtejcD0K+z9mZmZmZmYCQFyPwvUoXP8/j8L1KFyP9j/D9Shcj8IBQArXo3A9Cv8/SOF6FK5HBUBI4XoUrkcBQLgehetRuPo/KVyPwvUoAEBxPQrXo3ADQIXrUbgehf8/CtejcD0K/z9mZmZmZmb6P9ejcD0K1/c/ZmZmZmZm9j8pXI/C9Sj4Px+F61G4Hvk/",
          "dtype": "f8"
         },
         "xaxis": "x",
         "y": {
          "bdata": "MzMzMzMz4z9mZmZmZmbWP/YoXI/C9dg/mpmZmZmZ2T9xPQrXo3DNP4XrUbgeheM/j8L1KFyP4j8fhetRuB7VPz0K16NwPdo/hetRuB6F2z8K16NwPQrXP+xRuB6F69E/uB6F61G4rj9SuB6F61HgP3sUrkfheuQ/uB6F61G43j+uR+F6FK7XP1K4HoXrUeA/hetRuB6F4z+kcD0K16PgPwrXo3A9Ctc/MzMzMzMz0z/2KFyPwvXYPzMzMzMzM9M/PQrXo3A92j8zMzMzMzPDPz0K16NwPdo/pHA9Ctej0D/2KFyPwvXYP2ZmZmZmZuY/mpmZmZmZ2T+uR+F6FK7XP5qZmZmZmck/AAAAAAAA0D89CtejcD3iP6RwPQrXo8A/AAAAAAAA6D9xPQrXo3DdP+F6FK5H4do/uB6F61G43j8UrkfhehTeP83MzMzMzNw/mpmZmZmZ4T/NzMzMzMzcP9ejcD0K1+M/FK5H4XoU3j/hehSuR+HaP83MzMzMzNw/",
          "dtype": "f8"
         },
         "yaxis": "y"
        }
       ],
       "layout": {
        "coloraxis": {
         "colorbar": {
          "title": {
           "text": "clearances/90"
          }
         },
         "colorscale": [
          [
           0,
           "rgb(165,0,38)"
          ],
          [
           0.1,
           "rgb(215,48,39)"
          ],
          [
           0.2,
           "rgb(244,109,67)"
          ],
          [
           0.3,
           "rgb(253,174,97)"
          ],
          [
           0.4,
           "rgb(254,224,139)"
          ],
          [
           0.5,
           "rgb(255,255,191)"
          ],
          [
           0.6,
           "rgb(217,239,139)"
          ],
          [
           0.7,
           "rgb(166,217,106)"
          ],
          [
           0.8,
           "rgb(102,189,99)"
          ],
          [
           0.9,
           "rgb(26,152,80)"
          ],
          [
           1,
           "rgb(0,104,55)"
          ]
         ],
         "showscale": false
        },
        "height": 700,
        "legend": {
         "tracegroupgap": 0
        },
        "paper_bgcolor": "darkgray",
        "plot_bgcolor": "darkgray",
        "template": {
         "data": {
          "bar": [
           {
            "error_x": {
             "color": "#2a3f5f"
            },
            "error_y": {
             "color": "#2a3f5f"
            },
            "marker": {
             "line": {
              "color": "#E5ECF6",
              "width": 0.5
             },
             "pattern": {
              "fillmode": "overlay",
              "size": 10,
              "solidity": 0.2
             }
            },
            "type": "bar"
           }
          ],
          "barpolar": [
           {
            "marker": {
             "line": {
              "color": "#E5ECF6",
              "width": 0.5
             },
             "pattern": {
              "fillmode": "overlay",
              "size": 10,
              "solidity": 0.2
             }
            },
            "type": "barpolar"
           }
          ],
          "carpet": [
           {
            "aaxis": {
             "endlinecolor": "#2a3f5f",
             "gridcolor": "white",
             "linecolor": "white",
             "minorgridcolor": "white",
             "startlinecolor": "#2a3f5f"
            },
            "baxis": {
             "endlinecolor": "#2a3f5f",
             "gridcolor": "white",
             "linecolor": "white",
             "minorgridcolor": "white",
             "startlinecolor": "#2a3f5f"
            },
            "type": "carpet"
           }
          ],
          "choropleth": [
           {
            "colorbar": {
             "outlinewidth": 0,
             "ticks": ""
            },
            "type": "choropleth"
           }
          ],
          "contour": [
           {
            "colorbar": {
             "outlinewidth": 0,
             "ticks": ""
            },
            "colorscale": [
             [
              0,
              "#0d0887"
             ],
             [
              0.1111111111111111,
              "#46039f"
             ],
             [
              0.2222222222222222,
              "#7201a8"
             ],
             [
              0.3333333333333333,
              "#9c179e"
             ],
             [
              0.4444444444444444,
              "#bd3786"
             ],
             [
              0.5555555555555556,
              "#d8576b"
             ],
             [
              0.6666666666666666,
              "#ed7953"
             ],
             [
              0.7777777777777778,
              "#fb9f3a"
             ],
             [
              0.8888888888888888,
              "#fdca26"
             ],
             [
              1,
              "#f0f921"
             ]
            ],
            "type": "contour"
           }
          ],
          "contourcarpet": [
           {
            "colorbar": {
             "outlinewidth": 0,
             "ticks": ""
            },
            "type": "contourcarpet"
           }
          ],
          "heatmap": [
           {
            "colorbar": {
             "outlinewidth": 0,
             "ticks": ""
            },
            "colorscale": [
             [
              0,
              "#0d0887"
             ],
             [
              0.1111111111111111,
              "#46039f"
             ],
             [
              0.2222222222222222,
              "#7201a8"
             ],
             [
              0.3333333333333333,
              "#9c179e"
             ],
             [
              0.4444444444444444,
              "#bd3786"
             ],
             [
              0.5555555555555556,
              "#d8576b"
             ],
             [
              0.6666666666666666,
              "#ed7953"
             ],
             [
              0.7777777777777778,
              "#fb9f3a"
             ],
             [
              0.8888888888888888,
              "#fdca26"
             ],
             [
              1,
              "#f0f921"
             ]
            ],
            "type": "heatmap"
           }
          ],
          "histogram": [
           {
            "marker": {
             "pattern": {
              "fillmode": "overlay",
              "size": 10,
              "solidity": 0.2
             }
            },
            "type": "histogram"
           }
          ],
          "histogram2d": [
           {
            "colorbar": {
             "outlinewidth": 0,
             "ticks": ""
            },
            "colorscale": [
             [
              0,
              "#0d0887"
             ],
             [
              0.1111111111111111,
              "#46039f"
             ],
             [
              0.2222222222222222,
              "#7201a8"
             ],
             [
              0.3333333333333333,
              "#9c179e"
             ],
             [
              0.4444444444444444,
              "#bd3786"
             ],
             [
              0.5555555555555556,
              "#d8576b"
             ],
             [
              0.6666666666666666,
              "#ed7953"
             ],
             [
              0.7777777777777778,
              "#fb9f3a"
             ],
             [
              0.8888888888888888,
              "#fdca26"
             ],
             [
              1,
              "#f0f921"
             ]
            ],
            "type": "histogram2d"
           }
          ],
          "histogram2dcontour": [
           {
            "colorbar": {
             "outlinewidth": 0,
             "ticks": ""
            },
            "colorscale": [
             [
              0,
              "#0d0887"
             ],
             [
              0.1111111111111111,
              "#46039f"
             ],
             [
              0.2222222222222222,
              "#7201a8"
             ],
             [
              0.3333333333333333,
              "#9c179e"
             ],
             [
              0.4444444444444444,
              "#bd3786"
             ],
             [
              0.5555555555555556,
              "#d8576b"
             ],
             [
              0.6666666666666666,
              "#ed7953"
             ],
             [
              0.7777777777777778,
              "#fb9f3a"
             ],
             [
              0.8888888888888888,
              "#fdca26"
             ],
             [
              1,
              "#f0f921"
             ]
            ],
            "type": "histogram2dcontour"
           }
          ],
          "mesh3d": [
           {
            "colorbar": {
             "outlinewidth": 0,
             "ticks": ""
            },
            "type": "mesh3d"
           }
          ],
          "parcoords": [
           {
            "line": {
             "colorbar": {
              "outlinewidth": 0,
              "ticks": ""
             }
            },
            "type": "parcoords"
           }
          ],
          "pie": [
           {
            "automargin": true,
            "type": "pie"
           }
          ],
          "scatter": [
           {
            "fillpattern": {
             "fillmode": "overlay",
             "size": 10,
             "solidity": 0.2
            },
            "type": "scatter"
           }
          ],
          "scatter3d": [
           {
            "line": {
             "colorbar": {
              "outlinewidth": 0,
              "ticks": ""
             }
            },
            "marker": {
             "colorbar": {
              "outlinewidth": 0,
              "ticks": ""
             }
            },
            "type": "scatter3d"
           }
          ],
          "scattercarpet": [
           {
            "marker": {
             "colorbar": {
              "outlinewidth": 0,
              "ticks": ""
             }
            },
            "type": "scattercarpet"
           }
          ],
          "scattergeo": [
           {
            "marker": {
             "colorbar": {
              "outlinewidth": 0,
              "ticks": ""
             }
            },
            "type": "scattergeo"
           }
          ],
          "scattergl": [
           {
            "marker": {
             "colorbar": {
              "outlinewidth": 0,
              "ticks": ""
             }
            },
            "type": "scattergl"
           }
          ],
          "scattermap": [
           {
            "marker": {
             "colorbar": {
              "outlinewidth": 0,
              "ticks": ""
             }
            },
            "type": "scattermap"
           }
          ],
          "scattermapbox": [
           {
            "marker": {
             "colorbar": {
              "outlinewidth": 0,
              "ticks": ""
             }
            },
            "type": "scattermapbox"
           }
          ],
          "scatterpolar": [
           {
            "marker": {
             "colorbar": {
              "outlinewidth": 0,
              "ticks": ""
             }
            },
            "type": "scatterpolar"
           }
          ],
          "scatterpolargl": [
           {
            "marker": {
             "colorbar": {
              "outlinewidth": 0,
              "ticks": ""
             }
            },
            "type": "scatterpolargl"
           }
          ],
          "scatterternary": [
           {
            "marker": {
             "colorbar": {
              "outlinewidth": 0,
              "ticks": ""
             }
            },
            "type": "scatterternary"
           }
          ],
          "surface": [
           {
            "colorbar": {
             "outlinewidth": 0,
             "ticks": ""
            },
            "colorscale": [
             [
              0,
              "#0d0887"
             ],
             [
              0.1111111111111111,
              "#46039f"
             ],
             [
              0.2222222222222222,
              "#7201a8"
             ],
             [
              0.3333333333333333,
              "#9c179e"
             ],
             [
              0.4444444444444444,
              "#bd3786"
             ],
             [
              0.5555555555555556,
              "#d8576b"
             ],
             [
              0.6666666666666666,
              "#ed7953"
             ],
             [
              0.7777777777777778,
              "#fb9f3a"
             ],
             [
              0.8888888888888888,
              "#fdca26"
             ],
             [
              1,
              "#f0f921"
             ]
            ],
            "type": "surface"
           }
          ],
          "table": [
           {
            "cells": {
             "fill": {
              "color": "#EBF0F8"
             },
             "line": {
              "color": "white"
             }
            },
            "header": {
             "fill": {
              "color": "#C8D4E3"
             },
             "line": {
              "color": "white"
             }
            },
            "type": "table"
           }
          ]
         },
         "layout": {
          "annotationdefaults": {
           "arrowcolor": "#2a3f5f",
           "arrowhead": 0,
           "arrowwidth": 1
          },
          "autotypenumbers": "strict",
          "coloraxis": {
           "colorbar": {
            "outlinewidth": 0,
            "ticks": ""
           }
          },
          "colorscale": {
           "diverging": [
            [
             0,
             "#8e0152"
            ],
            [
             0.1,
             "#c51b7d"
            ],
            [
             0.2,
             "#de77ae"
            ],
            [
             0.3,
             "#f1b6da"
            ],
            [
             0.4,
             "#fde0ef"
            ],
            [
             0.5,
             "#f7f7f7"
            ],
            [
             0.6,
             "#e6f5d0"
            ],
            [
             0.7,
             "#b8e186"
            ],
            [
             0.8,
             "#7fbc41"
            ],
            [
             0.9,
             "#4d9221"
            ],
            [
             1,
             "#276419"
            ]
           ],
           "sequential": [
            [
             0,
             "#0d0887"
            ],
            [
             0.1111111111111111,
             "#46039f"
            ],
            [
             0.2222222222222222,
             "#7201a8"
            ],
            [
             0.3333333333333333,
             "#9c179e"
            ],
            [
             0.4444444444444444,
             "#bd3786"
            ],
            [
             0.5555555555555556,
             "#d8576b"
            ],
            [
             0.6666666666666666,
             "#ed7953"
            ],
            [
             0.7777777777777778,
             "#fb9f3a"
            ],
            [
             0.8888888888888888,
             "#fdca26"
            ],
            [
             1,
             "#f0f921"
            ]
           ],
           "sequentialminus": [
            [
             0,
             "#0d0887"
            ],
            [
             0.1111111111111111,
             "#46039f"
            ],
            [
             0.2222222222222222,
             "#7201a8"
            ],
            [
             0.3333333333333333,
             "#9c179e"
            ],
            [
             0.4444444444444444,
             "#bd3786"
            ],
            [
             0.5555555555555556,
             "#d8576b"
            ],
            [
             0.6666666666666666,
             "#ed7953"
            ],
            [
             0.7777777777777778,
             "#fb9f3a"
            ],
            [
             0.8888888888888888,
             "#fdca26"
            ],
            [
             1,
             "#f0f921"
            ]
           ]
          },
          "colorway": [
           "#636efa",
           "#EF553B",
           "#00cc96",
           "#ab63fa",
           "#FFA15A",
           "#19d3f3",
           "#FF6692",
           "#B6E880",
           "#FF97FF",
           "#FECB52"
          ],
          "font": {
           "color": "#2a3f5f"
          },
          "geo": {
           "bgcolor": "white",
           "lakecolor": "white",
           "landcolor": "#E5ECF6",
           "showlakes": true,
           "showland": true,
           "subunitcolor": "white"
          },
          "hoverlabel": {
           "align": "left"
          },
          "hovermode": "closest",
          "mapbox": {
           "style": "light"
          },
          "paper_bgcolor": "white",
          "plot_bgcolor": "#E5ECF6",
          "polar": {
           "angularaxis": {
            "gridcolor": "white",
            "linecolor": "white",
            "ticks": ""
           },
           "bgcolor": "#E5ECF6",
           "radialaxis": {
            "gridcolor": "white",
            "linecolor": "white",
            "ticks": ""
           }
          },
          "scene": {
           "xaxis": {
            "backgroundcolor": "#E5ECF6",
            "gridcolor": "white",
            "gridwidth": 2,
            "linecolor": "white",
            "showbackground": true,
            "ticks": "",
            "zerolinecolor": "white"
           },
           "yaxis": {
            "backgroundcolor": "#E5ECF6",
            "gridcolor": "white",
            "gridwidth": 2,
            "linecolor": "white",
            "showbackground": true,
            "ticks": "",
            "zerolinecolor": "white"
           },
           "zaxis": {
            "backgroundcolor": "#E5ECF6",
            "gridcolor": "white",
            "gridwidth": 2,
            "linecolor": "white",
            "showbackground": true,
            "ticks": "",
            "zerolinecolor": "white"
           }
          },
          "shapedefaults": {
           "line": {
            "color": "#2a3f5f"
           }
          },
          "ternary": {
           "aaxis": {
            "gridcolor": "white",
            "linecolor": "white",
            "ticks": ""
           },
           "baxis": {
            "gridcolor": "white",
            "linecolor": "white",
            "ticks": ""
           },
           "bgcolor": "#E5ECF6",
           "caxis": {
            "gridcolor": "white",
            "linecolor": "white",
            "ticks": ""
           }
          },
          "title": {
           "x": 0.05
          },
          "xaxis": {
           "automargin": true,
           "gridcolor": "white",
           "linecolor": "white",
           "ticks": "",
           "title": {
            "standoff": 15
           },
           "zerolinecolor": "white",
           "zerolinewidth": 2
          },
          "yaxis": {
           "automargin": true,
           "gridcolor": "white",
           "linecolor": "white",
           "ticks": "",
           "title": {
            "standoff": 15
           },
           "zerolinecolor": "white",
           "zerolinewidth": 2
          }
         }
        },
        "title": {
         "text": "Presence ( 48)",
         "x": 0.5,
         "xanchor": "center"
        },
        "width": 1200,
        "xaxis": {
         "anchor": "y",
         "domain": [
          0,
          1
         ],
         "gridcolor": "white",
         "showgrid": true,
         "title": {
          "text": "interceptions/90"
         },
         "zeroline": false
        },
        "yaxis": {
         "anchor": "x",
         "domain": [
          0,
          1
         ],
         "gridcolor": "white",
         "showgrid": true,
         "title": {
          "text": "blocks/90"
         },
         "zeroline": false
        }
       }
      }
     },
     "metadata": {},
     "output_type": "display_data"
    }
   ],
   "source": [
    "# Full universe \n",
    "scatter_plot(df_targets,\n",
    "             x_metric='interceptions/90', \n",
    "             y_metric='blocks/90',\n",
    "             z_metric='clearances/90',\n",
    "             title='Presence', \n",
    "             show_name_label=True\n",
    ") "
   ]
  },
  {
   "cell_type": "code",
   "execution_count": 155,
   "id": "4b0be327",
   "metadata": {},
   "outputs": [
    {
     "data": {
      "application/vnd.plotly.v1+json": {
       "config": {
        "plotlyServerURL": "https://plot.ly"
       },
       "data": [
        {
         "customdata": [
          [
           "Leonel Picco",
           "Platense"
          ],
          [
           "Carlos Villalba",
           "Platense"
          ],
          [
           "Santiago Sosa",
           "Racing Club"
          ],
          [
           "Nicolás Garayalde",
           "Vélez"
          ],
          [
           "Franco Ibarra",
           "Rosario Central"
          ],
          [
           "Francisco Perruzzi",
           "San Lorenzo"
          ],
          [
           "Santiago Longo",
           "Belgrano"
          ],
          [
           "Amadou Haïdara",
           "RB Leipzig"
          ],
          [
           "Thiago Maia",
           "FLA"
          ],
          [
           "Matheus Henrique",
           "FLA"
          ],
          [
           "Pedro Augusto",
           "FOR"
          ],
          [
           "Hugo Moura",
           "Athlético Paranaense"
          ],
          [
           "Luan",
           "SPO"
          ],
          [
           "Zé Gabriel",
           "Vasco da Gama"
          ],
          [
           "Jhonny Lucas",
           "GOI"
          ],
          [
           "André",
           "FLU"
          ],
          [
           "Pablo Maia",
           "SPO"
          ],
          [
           "Bruno Gomes",
           "CTB"
          ],
          [
           "Martinelli",
           "FLU"
          ],
          [
           "David Kasumu",
           "Huddersfield"
          ],
          [
           "Tommaso Pobega",
           "Milan"
          ],
          [
           "Michel Ndary Adopo",
           "Atalanta"
          ],
          [
           "Salis Abdul Samed",
           "Lens"
          ],
          [
           "Mirko Topić",
           "Famalicão"
          ],
          [
           "Keidi Bare",
           "Coventry"
          ],
          [
           "Fran Beltrán",
           "Celta"
          ],
          [
           "Jesús Castillo",
           "Gil Vicente"
          ],
          [
           "Nicolás Acevedo",
           "BAH"
          ],
          [
           "Samú",
           "Mallorca"
          ],
          [
           "Gonçalo Franco",
           "Moreirense"
          ],
          [
           "Leandro Barreiro",
           "Mainz 05"
          ],
          [
           "William Clem",
           "FC København"
          ],
          [
           "Benjamín Schamine",
           "Defensa y Justicia"
          ],
          [
           "Kevin Ortiz",
           "Rosario Central"
          ]
         ],
         "hovertemplate": "<b>%{customdata[0]}</b><br><b>%{customdata[1]}</b><br><br>interceptions/90: %{x}<br>blocks/90: %{y}<br>clearances/90: %{marker.color}<extra></extra>",
         "legendgroup": "",
         "marker": {
          "color": {
           "bdata": "j8L1KFyP8j+amZmZmZnpP/YoXI/C9eg/H4XrUbge9T89CtejcD3yP+xRuB6F6+k/7FG4HoXr6T+amZmZmZnxP65H4XoUru8/zczMzMzM5D8fhetRuB71P6RwPQrXo/A/9ihcj8L16D/2KFyPwvXoPz0K16NwPeo/4XoUrkfh4j/NzMzMzMzkP9ejcD0K1+s/H4XrUbge8T8AAAAAAAD0PwAAAAAAAOA/KVyPwvUo8D9cj8L1KFzvP83MzMzMzOw/zczMzMzM9D/sUbgehev1Px+F61G4HvU/j8L1KFyP4j9mZmZmZmbuP/YoXI/C9fA/zczMzMzM/D+amZmZmZnhP3E9CtejcPE/KVyPwvUo7D8=",
           "dtype": "f8"
          },
          "coloraxis": "coloraxis",
          "size": 10,
          "symbol": "circle"
         },
         "mode": "markers+text",
         "name": "",
         "orientation": "v",
         "showlegend": false,
         "text": [
          "Leonel Picco",
          "Carlos Villalba",
          "Santiago Sosa",
          "Nicolás Garayalde",
          "Franco Ibarra",
          "Francisco Perruzzi",
          "Santiago Longo",
          "Amadou Haïdara",
          "Thiago Maia",
          "Matheus Henrique",
          "Pedro Augusto",
          "Hugo Moura",
          "Luan",
          "Zé Gabriel",
          "Jhonny Lucas",
          "André",
          "Pablo Maia",
          "Bruno Gomes",
          "Martinelli",
          "David Kasumu",
          "Tommaso Pobega",
          "Michel Ndary Adopo",
          "Salis Abdul Samed",
          "Mirko Topić",
          "Keidi Bare",
          "Fran Beltrán",
          "Jesús Castillo",
          "Nicolás Acevedo",
          "Samú",
          "Gonçalo Franco",
          "Leandro Barreiro",
          "William Clem",
          "Benjamín Schamine",
          "Kevin Ortiz"
         ],
         "textfont": {
          "size": 10
         },
         "textposition": "top center",
         "type": "scatter",
         "x": {
          "bdata": "H4XrUbge/T8UrkfhehT6P3sUrkfhegBAexSuR+F6+D+uR+F6FK7/P3E9CtejcPk/rkfhehSuAUBSuB6F61EAQHsUrkfhevw/H4XrUbgeA0BxPQrXo3ABQBSuR+F6FP4/zczMzMzMAECPwvUoXI/6PzMzMzMzM/s/PQrXo3A9AEBSuB6F61H4PwrXo3A9Cvs/mpmZmZmZAUBmZmZmZmb6PwrXo3A9Cvs/ZmZmZmZmAkBcj8L1KFz/P8P1KFyPwgFASOF6FK5HBUBI4XoUrkcBQLgehetRuPo/KVyPwvUoAEBxPQrXo3ADQIXrUbgehf8/CtejcD0K/z9mZmZmZmb6Pylcj8L1KPg/H4XrUbge+T8=",
          "dtype": "f8"
         },
         "xaxis": "x",
         "y": {
          "bdata": "9ihcj8L12D+amZmZmZnZP3E9CtejcM0/hetRuB6F4z+PwvUoXI/iPx+F61G4HtU/CtejcD0K1z9SuB6F61HgP7gehetRuN4/rkfhehSu1z9SuB6F61HgP4XrUbgeheM/pHA9Ctej4D8K16NwPQrXPzMzMzMzM9M/9ihcj8L12D8zMzMzMzPTPz0K16NwPdo/PQrXo3A92j9mZmZmZmbmP5qZmZmZmdk/rkfhehSu1z+amZmZmZnJPz0K16NwPeI/AAAAAAAA6D9xPQrXo3DdP+F6FK5H4do/uB6F61G43j8UrkfhehTeP83MzMzMzNw/mpmZmZmZ4T/NzMzMzMzcP+F6FK5H4do/zczMzMzM3D8=",
          "dtype": "f8"
         },
         "yaxis": "y"
        }
       ],
       "layout": {
        "coloraxis": {
         "colorbar": {
          "title": {
           "text": "clearances/90"
          }
         },
         "colorscale": [
          [
           0,
           "rgb(165,0,38)"
          ],
          [
           0.1,
           "rgb(215,48,39)"
          ],
          [
           0.2,
           "rgb(244,109,67)"
          ],
          [
           0.3,
           "rgb(253,174,97)"
          ],
          [
           0.4,
           "rgb(254,224,139)"
          ],
          [
           0.5,
           "rgb(255,255,191)"
          ],
          [
           0.6,
           "rgb(217,239,139)"
          ],
          [
           0.7,
           "rgb(166,217,106)"
          ],
          [
           0.8,
           "rgb(102,189,99)"
          ],
          [
           0.9,
           "rgb(26,152,80)"
          ],
          [
           1,
           "rgb(0,104,55)"
          ]
         ],
         "showscale": false
        },
        "height": 700,
        "legend": {
         "tracegroupgap": 0
        },
        "paper_bgcolor": "darkgray",
        "plot_bgcolor": "darkgray",
        "template": {
         "data": {
          "bar": [
           {
            "error_x": {
             "color": "#2a3f5f"
            },
            "error_y": {
             "color": "#2a3f5f"
            },
            "marker": {
             "line": {
              "color": "#E5ECF6",
              "width": 0.5
             },
             "pattern": {
              "fillmode": "overlay",
              "size": 10,
              "solidity": 0.2
             }
            },
            "type": "bar"
           }
          ],
          "barpolar": [
           {
            "marker": {
             "line": {
              "color": "#E5ECF6",
              "width": 0.5
             },
             "pattern": {
              "fillmode": "overlay",
              "size": 10,
              "solidity": 0.2
             }
            },
            "type": "barpolar"
           }
          ],
          "carpet": [
           {
            "aaxis": {
             "endlinecolor": "#2a3f5f",
             "gridcolor": "white",
             "linecolor": "white",
             "minorgridcolor": "white",
             "startlinecolor": "#2a3f5f"
            },
            "baxis": {
             "endlinecolor": "#2a3f5f",
             "gridcolor": "white",
             "linecolor": "white",
             "minorgridcolor": "white",
             "startlinecolor": "#2a3f5f"
            },
            "type": "carpet"
           }
          ],
          "choropleth": [
           {
            "colorbar": {
             "outlinewidth": 0,
             "ticks": ""
            },
            "type": "choropleth"
           }
          ],
          "contour": [
           {
            "colorbar": {
             "outlinewidth": 0,
             "ticks": ""
            },
            "colorscale": [
             [
              0,
              "#0d0887"
             ],
             [
              0.1111111111111111,
              "#46039f"
             ],
             [
              0.2222222222222222,
              "#7201a8"
             ],
             [
              0.3333333333333333,
              "#9c179e"
             ],
             [
              0.4444444444444444,
              "#bd3786"
             ],
             [
              0.5555555555555556,
              "#d8576b"
             ],
             [
              0.6666666666666666,
              "#ed7953"
             ],
             [
              0.7777777777777778,
              "#fb9f3a"
             ],
             [
              0.8888888888888888,
              "#fdca26"
             ],
             [
              1,
              "#f0f921"
             ]
            ],
            "type": "contour"
           }
          ],
          "contourcarpet": [
           {
            "colorbar": {
             "outlinewidth": 0,
             "ticks": ""
            },
            "type": "contourcarpet"
           }
          ],
          "heatmap": [
           {
            "colorbar": {
             "outlinewidth": 0,
             "ticks": ""
            },
            "colorscale": [
             [
              0,
              "#0d0887"
             ],
             [
              0.1111111111111111,
              "#46039f"
             ],
             [
              0.2222222222222222,
              "#7201a8"
             ],
             [
              0.3333333333333333,
              "#9c179e"
             ],
             [
              0.4444444444444444,
              "#bd3786"
             ],
             [
              0.5555555555555556,
              "#d8576b"
             ],
             [
              0.6666666666666666,
              "#ed7953"
             ],
             [
              0.7777777777777778,
              "#fb9f3a"
             ],
             [
              0.8888888888888888,
              "#fdca26"
             ],
             [
              1,
              "#f0f921"
             ]
            ],
            "type": "heatmap"
           }
          ],
          "histogram": [
           {
            "marker": {
             "pattern": {
              "fillmode": "overlay",
              "size": 10,
              "solidity": 0.2
             }
            },
            "type": "histogram"
           }
          ],
          "histogram2d": [
           {
            "colorbar": {
             "outlinewidth": 0,
             "ticks": ""
            },
            "colorscale": [
             [
              0,
              "#0d0887"
             ],
             [
              0.1111111111111111,
              "#46039f"
             ],
             [
              0.2222222222222222,
              "#7201a8"
             ],
             [
              0.3333333333333333,
              "#9c179e"
             ],
             [
              0.4444444444444444,
              "#bd3786"
             ],
             [
              0.5555555555555556,
              "#d8576b"
             ],
             [
              0.6666666666666666,
              "#ed7953"
             ],
             [
              0.7777777777777778,
              "#fb9f3a"
             ],
             [
              0.8888888888888888,
              "#fdca26"
             ],
             [
              1,
              "#f0f921"
             ]
            ],
            "type": "histogram2d"
           }
          ],
          "histogram2dcontour": [
           {
            "colorbar": {
             "outlinewidth": 0,
             "ticks": ""
            },
            "colorscale": [
             [
              0,
              "#0d0887"
             ],
             [
              0.1111111111111111,
              "#46039f"
             ],
             [
              0.2222222222222222,
              "#7201a8"
             ],
             [
              0.3333333333333333,
              "#9c179e"
             ],
             [
              0.4444444444444444,
              "#bd3786"
             ],
             [
              0.5555555555555556,
              "#d8576b"
             ],
             [
              0.6666666666666666,
              "#ed7953"
             ],
             [
              0.7777777777777778,
              "#fb9f3a"
             ],
             [
              0.8888888888888888,
              "#fdca26"
             ],
             [
              1,
              "#f0f921"
             ]
            ],
            "type": "histogram2dcontour"
           }
          ],
          "mesh3d": [
           {
            "colorbar": {
             "outlinewidth": 0,
             "ticks": ""
            },
            "type": "mesh3d"
           }
          ],
          "parcoords": [
           {
            "line": {
             "colorbar": {
              "outlinewidth": 0,
              "ticks": ""
             }
            },
            "type": "parcoords"
           }
          ],
          "pie": [
           {
            "automargin": true,
            "type": "pie"
           }
          ],
          "scatter": [
           {
            "fillpattern": {
             "fillmode": "overlay",
             "size": 10,
             "solidity": 0.2
            },
            "type": "scatter"
           }
          ],
          "scatter3d": [
           {
            "line": {
             "colorbar": {
              "outlinewidth": 0,
              "ticks": ""
             }
            },
            "marker": {
             "colorbar": {
              "outlinewidth": 0,
              "ticks": ""
             }
            },
            "type": "scatter3d"
           }
          ],
          "scattercarpet": [
           {
            "marker": {
             "colorbar": {
              "outlinewidth": 0,
              "ticks": ""
             }
            },
            "type": "scattercarpet"
           }
          ],
          "scattergeo": [
           {
            "marker": {
             "colorbar": {
              "outlinewidth": 0,
              "ticks": ""
             }
            },
            "type": "scattergeo"
           }
          ],
          "scattergl": [
           {
            "marker": {
             "colorbar": {
              "outlinewidth": 0,
              "ticks": ""
             }
            },
            "type": "scattergl"
           }
          ],
          "scattermap": [
           {
            "marker": {
             "colorbar": {
              "outlinewidth": 0,
              "ticks": ""
             }
            },
            "type": "scattermap"
           }
          ],
          "scattermapbox": [
           {
            "marker": {
             "colorbar": {
              "outlinewidth": 0,
              "ticks": ""
             }
            },
            "type": "scattermapbox"
           }
          ],
          "scatterpolar": [
           {
            "marker": {
             "colorbar": {
              "outlinewidth": 0,
              "ticks": ""
             }
            },
            "type": "scatterpolar"
           }
          ],
          "scatterpolargl": [
           {
            "marker": {
             "colorbar": {
              "outlinewidth": 0,
              "ticks": ""
             }
            },
            "type": "scatterpolargl"
           }
          ],
          "scatterternary": [
           {
            "marker": {
             "colorbar": {
              "outlinewidth": 0,
              "ticks": ""
             }
            },
            "type": "scatterternary"
           }
          ],
          "surface": [
           {
            "colorbar": {
             "outlinewidth": 0,
             "ticks": ""
            },
            "colorscale": [
             [
              0,
              "#0d0887"
             ],
             [
              0.1111111111111111,
              "#46039f"
             ],
             [
              0.2222222222222222,
              "#7201a8"
             ],
             [
              0.3333333333333333,
              "#9c179e"
             ],
             [
              0.4444444444444444,
              "#bd3786"
             ],
             [
              0.5555555555555556,
              "#d8576b"
             ],
             [
              0.6666666666666666,
              "#ed7953"
             ],
             [
              0.7777777777777778,
              "#fb9f3a"
             ],
             [
              0.8888888888888888,
              "#fdca26"
             ],
             [
              1,
              "#f0f921"
             ]
            ],
            "type": "surface"
           }
          ],
          "table": [
           {
            "cells": {
             "fill": {
              "color": "#EBF0F8"
             },
             "line": {
              "color": "white"
             }
            },
            "header": {
             "fill": {
              "color": "#C8D4E3"
             },
             "line": {
              "color": "white"
             }
            },
            "type": "table"
           }
          ]
         },
         "layout": {
          "annotationdefaults": {
           "arrowcolor": "#2a3f5f",
           "arrowhead": 0,
           "arrowwidth": 1
          },
          "autotypenumbers": "strict",
          "coloraxis": {
           "colorbar": {
            "outlinewidth": 0,
            "ticks": ""
           }
          },
          "colorscale": {
           "diverging": [
            [
             0,
             "#8e0152"
            ],
            [
             0.1,
             "#c51b7d"
            ],
            [
             0.2,
             "#de77ae"
            ],
            [
             0.3,
             "#f1b6da"
            ],
            [
             0.4,
             "#fde0ef"
            ],
            [
             0.5,
             "#f7f7f7"
            ],
            [
             0.6,
             "#e6f5d0"
            ],
            [
             0.7,
             "#b8e186"
            ],
            [
             0.8,
             "#7fbc41"
            ],
            [
             0.9,
             "#4d9221"
            ],
            [
             1,
             "#276419"
            ]
           ],
           "sequential": [
            [
             0,
             "#0d0887"
            ],
            [
             0.1111111111111111,
             "#46039f"
            ],
            [
             0.2222222222222222,
             "#7201a8"
            ],
            [
             0.3333333333333333,
             "#9c179e"
            ],
            [
             0.4444444444444444,
             "#bd3786"
            ],
            [
             0.5555555555555556,
             "#d8576b"
            ],
            [
             0.6666666666666666,
             "#ed7953"
            ],
            [
             0.7777777777777778,
             "#fb9f3a"
            ],
            [
             0.8888888888888888,
             "#fdca26"
            ],
            [
             1,
             "#f0f921"
            ]
           ],
           "sequentialminus": [
            [
             0,
             "#0d0887"
            ],
            [
             0.1111111111111111,
             "#46039f"
            ],
            [
             0.2222222222222222,
             "#7201a8"
            ],
            [
             0.3333333333333333,
             "#9c179e"
            ],
            [
             0.4444444444444444,
             "#bd3786"
            ],
            [
             0.5555555555555556,
             "#d8576b"
            ],
            [
             0.6666666666666666,
             "#ed7953"
            ],
            [
             0.7777777777777778,
             "#fb9f3a"
            ],
            [
             0.8888888888888888,
             "#fdca26"
            ],
            [
             1,
             "#f0f921"
            ]
           ]
          },
          "colorway": [
           "#636efa",
           "#EF553B",
           "#00cc96",
           "#ab63fa",
           "#FFA15A",
           "#19d3f3",
           "#FF6692",
           "#B6E880",
           "#FF97FF",
           "#FECB52"
          ],
          "font": {
           "color": "#2a3f5f"
          },
          "geo": {
           "bgcolor": "white",
           "lakecolor": "white",
           "landcolor": "#E5ECF6",
           "showlakes": true,
           "showland": true,
           "subunitcolor": "white"
          },
          "hoverlabel": {
           "align": "left"
          },
          "hovermode": "closest",
          "mapbox": {
           "style": "light"
          },
          "paper_bgcolor": "white",
          "plot_bgcolor": "#E5ECF6",
          "polar": {
           "angularaxis": {
            "gridcolor": "white",
            "linecolor": "white",
            "ticks": ""
           },
           "bgcolor": "#E5ECF6",
           "radialaxis": {
            "gridcolor": "white",
            "linecolor": "white",
            "ticks": ""
           }
          },
          "scene": {
           "xaxis": {
            "backgroundcolor": "#E5ECF6",
            "gridcolor": "white",
            "gridwidth": 2,
            "linecolor": "white",
            "showbackground": true,
            "ticks": "",
            "zerolinecolor": "white"
           },
           "yaxis": {
            "backgroundcolor": "#E5ECF6",
            "gridcolor": "white",
            "gridwidth": 2,
            "linecolor": "white",
            "showbackground": true,
            "ticks": "",
            "zerolinecolor": "white"
           },
           "zaxis": {
            "backgroundcolor": "#E5ECF6",
            "gridcolor": "white",
            "gridwidth": 2,
            "linecolor": "white",
            "showbackground": true,
            "ticks": "",
            "zerolinecolor": "white"
           }
          },
          "shapedefaults": {
           "line": {
            "color": "#2a3f5f"
           }
          },
          "ternary": {
           "aaxis": {
            "gridcolor": "white",
            "linecolor": "white",
            "ticks": ""
           },
           "baxis": {
            "gridcolor": "white",
            "linecolor": "white",
            "ticks": ""
           },
           "bgcolor": "#E5ECF6",
           "caxis": {
            "gridcolor": "white",
            "linecolor": "white",
            "ticks": ""
           }
          },
          "title": {
           "x": 0.05
          },
          "xaxis": {
           "automargin": true,
           "gridcolor": "white",
           "linecolor": "white",
           "ticks": "",
           "title": {
            "standoff": 15
           },
           "zerolinecolor": "white",
           "zerolinewidth": 2
          },
          "yaxis": {
           "automargin": true,
           "gridcolor": "white",
           "linecolor": "white",
           "ticks": "",
           "title": {
            "standoff": 15
           },
           "zerolinecolor": "white",
           "zerolinewidth": 2
          }
         }
        },
        "title": {
         "text": "Presence ( 34)",
         "x": 0.5,
         "xanchor": "center"
        },
        "width": 1200,
        "xaxis": {
         "anchor": "y",
         "domain": [
          0,
          1
         ],
         "gridcolor": "white",
         "showgrid": true,
         "title": {
          "text": "interceptions/90"
         },
         "zeroline": false
        },
        "yaxis": {
         "anchor": "x",
         "domain": [
          0,
          1
         ],
         "gridcolor": "white",
         "showgrid": true,
         "title": {
          "text": "blocks/90"
         },
         "zeroline": false
        }
       }
      }
     },
     "metadata": {},
     "output_type": "display_data"
    }
   ],
   "source": [
    "# Filter data \n",
    "mask = (\n",
    "        (df_players['interceptions/90'] >= 1.5) & \\\n",
    "        (df_players['blocks/90'] >= 0.2) & \\\n",
    "        (df_players['clearances/90'] >= 0.5) & \\\n",
    "        (df_players['price_estimate_M'] <= 40) & \\\n",
    "        (df_players['id'].isin(targets))\n",
    "        \n",
    "        \n",
    ")\n",
    "\n",
    "df_targets = df_players[mask]\n",
    "\n",
    "scatter_plot(df_targets,\n",
    "             x_metric='interceptions/90', \n",
    "             y_metric='blocks/90',\n",
    "             z_metric='clearances/90',\n",
    "             title='Presence', \n",
    "             show_name_label=True\n",
    ")\n",
    "\n",
    "#df_targets = df_players[mask]"
   ]
  },
  {
   "cell_type": "markdown",
   "id": "93f777a2",
   "metadata": {},
   "source": [
    "## Distance"
   ]
  },
  {
   "cell_type": "code",
   "execution_count": 156,
   "id": "ba49d750",
   "metadata": {},
   "outputs": [
    {
     "data": {
      "text/html": [
       "<div>\n",
       "<style scoped>\n",
       "    .dataframe tbody tr th:only-of-type {\n",
       "        vertical-align: middle;\n",
       "    }\n",
       "\n",
       "    .dataframe tbody tr th {\n",
       "        vertical-align: top;\n",
       "    }\n",
       "\n",
       "    .dataframe thead th {\n",
       "        text-align: right;\n",
       "    }\n",
       "</style>\n",
       "<table border=\"1\" class=\"dataframe\">\n",
       "  <thead>\n",
       "    <tr style=\"text-align: right;\">\n",
       "      <th></th>\n",
       "      <th>id</th>\n",
       "      <th>name</th>\n",
       "      <th>position</th>\n",
       "      <th>age</th>\n",
       "      <th>height</th>\n",
       "      <th>weight</th>\n",
       "      <th>inf</th>\n",
       "      <th>club</th>\n",
       "      <th>division</th>\n",
       "      <th>nationality</th>\n",
       "      <th>home_grown</th>\n",
       "      <th>personality</th>\n",
       "      <th>media_handling</th>\n",
       "      <th>wage</th>\n",
       "      <th>transfer_value</th>\n",
       "      <th>asking_price</th>\n",
       "      <th>preferred_foot</th>\n",
       "      <th>starts</th>\n",
       "      <th>minutes_played</th>\n",
       "      <th>average_rating</th>\n",
       "      <th>sub_appearances</th>\n",
       "      <th>minutes/game</th>\n",
       "      <th>index</th>\n",
       "      <th>passes_attempted/90</th>\n",
       "      <th>passes_completed/90</th>\n",
       "      <th>pass_completion_%</th>\n",
       "      <th>progressive_passes/90</th>\n",
       "      <th>progressive_pass_rate</th>\n",
       "      <th>key_passes/90</th>\n",
       "      <th>key_pass_%</th>\n",
       "      <th>open_play_key_passes/90</th>\n",
       "      <th>open_play_key_pass_%</th>\n",
       "      <th>chances_created/90</th>\n",
       "      <th>clear_cut_chances_created/90</th>\n",
       "      <th>pressures_attempted/90</th>\n",
       "      <th>pressures_completed/90</th>\n",
       "      <th>pressure_success_%</th>\n",
       "      <th>possession_won/90</th>\n",
       "      <th>possession_lost/90</th>\n",
       "      <th>poss+_/90</th>\n",
       "      <th>poss+__%</th>\n",
       "      <th>tackles_attempted/90</th>\n",
       "      <th>tackles_completed/90</th>\n",
       "      <th>tackle_completion_%</th>\n",
       "      <th>tackles_failed/90</th>\n",
       "      <th>key_tackles/90</th>\n",
       "      <th>tackle_quality</th>\n",
       "      <th>interceptions/90</th>\n",
       "      <th>blocks/90</th>\n",
       "      <th>shots_blocked/90</th>\n",
       "      <th>headers_attempted/90</th>\n",
       "      <th>headers_won/90</th>\n",
       "      <th>headers_won_%</th>\n",
       "      <th>headers_lost/90</th>\n",
       "      <th>headers_lost_%</th>\n",
       "      <th>key_headers/90</th>\n",
       "      <th>aerial_challenges_attempted/90</th>\n",
       "      <th>duels_win_%</th>\n",
       "      <th>fouls_won/90</th>\n",
       "      <th>fouls_committed/90</th>\n",
       "      <th>clearances/90</th>\n",
       "      <th>distance_covered/90</th>\n",
       "      <th>attacking_actions/90</th>\n",
       "      <th>creative_actions/90</th>\n",
       "      <th>defensive_actions/90</th>\n",
       "      <th>excitement_factor/90</th>\n",
       "      <th>general_performance</th>\n",
       "      <th>goalkeeping</th>\n",
       "      <th>defensive_defender</th>\n",
       "      <th>creative_defender</th>\n",
       "      <th>attacking_defender</th>\n",
       "      <th>creative_midfielder</th>\n",
       "      <th>attacking_midfielder</th>\n",
       "      <th>creative_winger</th>\n",
       "      <th>attacking_winger</th>\n",
       "      <th>creative_forward</th>\n",
       "      <th>attacking_forward</th>\n",
       "      <th>finisher</th>\n",
       "      <th>aerial_threat</th>\n",
       "      <th>reader</th>\n",
       "      <th>assister</th>\n",
       "      <th>uid</th>\n",
       "      <th>natural_dm</th>\n",
       "      <th>price_estimate_M</th>\n",
       "      <th>tackles_comp-fouls/90</th>\n",
       "    </tr>\n",
       "  </thead>\n",
       "  <tbody>\n",
       "    <tr>\n",
       "      <th>1</th>\n",
       "      <td>211515</td>\n",
       "      <td>Baptiste Santamaria</td>\n",
       "      <td>DM, M/AM (C)</td>\n",
       "      <td>28</td>\n",
       "      <td>183 cm</td>\n",
       "      <td>81 kg</td>\n",
       "      <td>-</td>\n",
       "      <td>Rennes</td>\n",
       "      <td>Ligue 1 Uber Eats</td>\n",
       "      <td>FRA</td>\n",
       "      <td>-</td>\n",
       "      <td>Resolute</td>\n",
       "      <td>Level-headed</td>\n",
       "      <td>$16,000 p/w</td>\n",
       "      <td>$10M - $12.5M</td>\n",
       "      <td>-</td>\n",
       "      <td>Right</td>\n",
       "      <td>20</td>\n",
       "      <td>1741</td>\n",
       "      <td>6.87</td>\n",
       "      <td>1</td>\n",
       "      <td>82.9</td>\n",
       "      <td>1</td>\n",
       "      <td>73.56</td>\n",
       "      <td>66.07</td>\n",
       "      <td>90</td>\n",
       "      <td>8.27</td>\n",
       "      <td>11.24</td>\n",
       "      <td>1.03</td>\n",
       "      <td>1.41</td>\n",
       "      <td>0.98</td>\n",
       "      <td>1.34</td>\n",
       "      <td>0.07</td>\n",
       "      <td>0.05</td>\n",
       "      <td>12.25</td>\n",
       "      <td>3.31</td>\n",
       "      <td>27.0</td>\n",
       "      <td>8.22</td>\n",
       "      <td>9.15</td>\n",
       "      <td>-0.93</td>\n",
       "      <td>-10.16</td>\n",
       "      <td>4.03</td>\n",
       "      <td>2.95</td>\n",
       "      <td>73</td>\n",
       "      <td>1.09</td>\n",
       "      <td>0.0</td>\n",
       "      <td>2.36</td>\n",
       "      <td>1.71</td>\n",
       "      <td>0.47</td>\n",
       "      <td>0.26</td>\n",
       "      <td>3.67</td>\n",
       "      <td>1.09</td>\n",
       "      <td>29.58</td>\n",
       "      <td>2.58</td>\n",
       "      <td>70.42</td>\n",
       "      <td>0.1</td>\n",
       "      <td>3.67</td>\n",
       "      <td>52.35</td>\n",
       "      <td>0.47</td>\n",
       "      <td>1.71</td>\n",
       "      <td>0.72</td>\n",
       "      <td>13.79</td>\n",
       "      <td>1.12</td>\n",
       "      <td>1.19</td>\n",
       "      <td>11.02</td>\n",
       "      <td>3.36</td>\n",
       "      <td>47</td>\n",
       "      <td>100</td>\n",
       "      <td>38</td>\n",
       "      <td>63</td>\n",
       "      <td>47</td>\n",
       "      <td>28</td>\n",
       "      <td>18</td>\n",
       "      <td>40</td>\n",
       "      <td>29</td>\n",
       "      <td>32</td>\n",
       "      <td>19</td>\n",
       "      <td>6</td>\n",
       "      <td>31</td>\n",
       "      <td>26</td>\n",
       "      <td>20</td>\n",
       "      <td>211515.0</td>\n",
       "      <td>Yes</td>\n",
       "      <td>13.5</td>\n",
       "      <td>1.725146</td>\n",
       "    </tr>\n",
       "  </tbody>\n",
       "</table>\n",
       "</div>"
      ],
      "text/plain": [
       "       id                 name      position  age  height weight inf    club  \\\n",
       "1  211515  Baptiste Santamaria  DM, M/AM (C)   28  183 cm  81 kg   -  Rennes   \n",
       "\n",
       "            division nationality home_grown personality media_handling  \\\n",
       "1  Ligue 1 Uber Eats         FRA          -    Resolute   Level-headed   \n",
       "\n",
       "          wage transfer_value asking_price preferred_foot  starts  \\\n",
       "1  $16,000 p/w  $10M - $12.5M            -          Right      20   \n",
       "\n",
       "   minutes_played  average_rating  sub_appearances  minutes/game  index  \\\n",
       "1            1741            6.87                1          82.9      1   \n",
       "\n",
       "   passes_attempted/90  passes_completed/90  pass_completion_%  \\\n",
       "1                73.56                66.07                 90   \n",
       "\n",
       "   progressive_passes/90  progressive_pass_rate  key_passes/90  key_pass_%  \\\n",
       "1                   8.27                  11.24           1.03        1.41   \n",
       "\n",
       "   open_play_key_passes/90  open_play_key_pass_%  chances_created/90  \\\n",
       "1                     0.98                  1.34                0.07   \n",
       "\n",
       "   clear_cut_chances_created/90  pressures_attempted/90  \\\n",
       "1                          0.05                   12.25   \n",
       "\n",
       "   pressures_completed/90  pressure_success_%  possession_won/90  \\\n",
       "1                    3.31                27.0               8.22   \n",
       "\n",
       "   possession_lost/90  poss+_/90  poss+__%  tackles_attempted/90  \\\n",
       "1                9.15      -0.93    -10.16                  4.03   \n",
       "\n",
       "   tackles_completed/90  tackle_completion_%  tackles_failed/90  \\\n",
       "1                  2.95                   73               1.09   \n",
       "\n",
       "   key_tackles/90  tackle_quality  interceptions/90  blocks/90  \\\n",
       "1             0.0            2.36              1.71       0.47   \n",
       "\n",
       "   shots_blocked/90  headers_attempted/90  headers_won/90  headers_won_%  \\\n",
       "1              0.26                  3.67            1.09          29.58   \n",
       "\n",
       "   headers_lost/90  headers_lost_%  key_headers/90  \\\n",
       "1             2.58           70.42             0.1   \n",
       "\n",
       "   aerial_challenges_attempted/90  duels_win_%  fouls_won/90  \\\n",
       "1                            3.67        52.35          0.47   \n",
       "\n",
       "   fouls_committed/90  clearances/90  distance_covered/90  \\\n",
       "1                1.71           0.72                13.79   \n",
       "\n",
       "   attacking_actions/90  creative_actions/90  defensive_actions/90  \\\n",
       "1                  1.12                 1.19                 11.02   \n",
       "\n",
       "   excitement_factor/90  general_performance  goalkeeping  defensive_defender  \\\n",
       "1                  3.36                   47          100                  38   \n",
       "\n",
       "   creative_defender  attacking_defender  creative_midfielder  \\\n",
       "1                 63                  47                   28   \n",
       "\n",
       "   attacking_midfielder  creative_winger  attacking_winger  creative_forward  \\\n",
       "1                    18               40                29                32   \n",
       "\n",
       "   attacking_forward  finisher  aerial_threat  reader  assister       uid  \\\n",
       "1                 19         6             31      26        20  211515.0   \n",
       "\n",
       "  natural_dm  price_estimate_M  tackles_comp-fouls/90  \n",
       "1        Yes              13.5               1.725146  "
      ]
     },
     "execution_count": 156,
     "metadata": {},
     "output_type": "execute_result"
    }
   ],
   "source": [
    "df_players.head(1)"
   ]
  },
  {
   "cell_type": "code",
   "execution_count": 157,
   "id": "ef5ba0ed",
   "metadata": {},
   "outputs": [
    {
     "data": {
      "application/vnd.plotly.v1+json": {
       "config": {
        "plotlyServerURL": "https://plot.ly"
       },
       "data": [
        {
         "customdata": [
          [
           "Leonel Picco",
           "Platense"
          ],
          [
           "Carlos Villalba",
           "Platense"
          ],
          [
           "Santiago Sosa",
           "Racing Club"
          ],
          [
           "Nicolás Garayalde",
           "Vélez"
          ],
          [
           "Franco Ibarra",
           "Rosario Central"
          ],
          [
           "Francisco Perruzzi",
           "San Lorenzo"
          ],
          [
           "Santiago Longo",
           "Belgrano"
          ],
          [
           "Amadou Haïdara",
           "RB Leipzig"
          ],
          [
           "Thiago Maia",
           "FLA"
          ],
          [
           "Matheus Henrique",
           "FLA"
          ],
          [
           "Pedro Augusto",
           "FOR"
          ],
          [
           "Hugo Moura",
           "Athlético Paranaense"
          ],
          [
           "Luan",
           "SPO"
          ],
          [
           "Zé Gabriel",
           "Vasco da Gama"
          ],
          [
           "Jhonny Lucas",
           "GOI"
          ],
          [
           "André",
           "FLU"
          ],
          [
           "Pablo Maia",
           "SPO"
          ],
          [
           "Bruno Gomes",
           "CTB"
          ],
          [
           "Martinelli",
           "FLU"
          ],
          [
           "David Kasumu",
           "Huddersfield"
          ],
          [
           "Tommaso Pobega",
           "Milan"
          ],
          [
           "Michel Ndary Adopo",
           "Atalanta"
          ],
          [
           "Salis Abdul Samed",
           "Lens"
          ],
          [
           "Mirko Topić",
           "Famalicão"
          ],
          [
           "Keidi Bare",
           "Coventry"
          ],
          [
           "Fran Beltrán",
           "Celta"
          ],
          [
           "Jesús Castillo",
           "Gil Vicente"
          ],
          [
           "Nicolás Acevedo",
           "BAH"
          ],
          [
           "Samú",
           "Mallorca"
          ],
          [
           "Gonçalo Franco",
           "Moreirense"
          ],
          [
           "Leandro Barreiro",
           "Mainz 05"
          ],
          [
           "William Clem",
           "FC København"
          ],
          [
           "Benjamín Schamine",
           "Defensa y Justicia"
          ],
          [
           "Kevin Ortiz",
           "Rosario Central"
          ]
         ],
         "hovertemplate": "<b>%{customdata[0]}</b><br><b>%{customdata[1]}</b><br><br>distance_covered/90: %{x}<br>defensive_actions/90: %{y}<br>creative_actions/90: %{marker.color}<extra></extra>",
         "legendgroup": "",
         "marker": {
          "color": {
           "bdata": "zczMzMzM+D9xPQrXo3D5P3E9CtejcAFAKVyPwvUo9D+amZmZmZn5P0jhehSuR/0/UrgehetR8D9SuB6F61ECQI/C9Shcj/o/MzMzMzMzAUAfhetRuB7xPzMzMzMzM/s/ZmZmZmZm+j/NzMzMzMz0P1K4HoXrUfQ/9ihcj8L1/D9xPQrXo3DxP0jhehSuR/0/AAAAAAAAAEDNzMzMzMz0PwrXo3A9CvM/mpmZmZmZ8T/sUbgehev1PwrXo3A9CgFAw/UoXI/C9T+4HoXrUbj2PxSuR+F6FP4/UrgehetR9D/2KFyPwvXgPwrXo3A9Cvc/FK5H4XoU5j/NzMzMzMz8PxSuR+F6FPo/16NwPQrX8z8=",
           "dtype": "f8"
          },
          "coloraxis": "coloraxis",
          "size": 10,
          "symbol": "circle"
         },
         "mode": "markers+text",
         "name": "",
         "orientation": "v",
         "showlegend": false,
         "text": [
          "Leonel Picco",
          "Carlos Villalba",
          "Santiago Sosa",
          "Nicolás Garayalde",
          "Franco Ibarra",
          "Francisco Perruzzi",
          "Santiago Longo",
          "Amadou Haïdara",
          "Thiago Maia",
          "Matheus Henrique",
          "Pedro Augusto",
          "Hugo Moura",
          "Luan",
          "Zé Gabriel",
          "Jhonny Lucas",
          "André",
          "Pablo Maia",
          "Bruno Gomes",
          "Martinelli",
          "David Kasumu",
          "Tommaso Pobega",
          "Michel Ndary Adopo",
          "Salis Abdul Samed",
          "Mirko Topić",
          "Keidi Bare",
          "Fran Beltrán",
          "Jesús Castillo",
          "Nicolás Acevedo",
          "Samú",
          "Gonçalo Franco",
          "Leandro Barreiro",
          "William Clem",
          "Benjamín Schamine",
          "Kevin Ortiz"
         ],
         "textfont": {
          "size": 10
         },
         "textposition": "top center",
         "type": "scatter",
         "x": {
          "bdata": "hetRuB6FKkD2KFyPwvUpQLgehetROChAAAAAAACAKkBSuB6F69EqQIXrUbgehSpAhetRuB4FKUDNzMzMzMwrQI/C9ShcjypAw/UoXI/CK0Bcj8L1KNwqQLgehetRuClAmpmZmZkZK0AAAAAAAIAqQClcj8L1qClA16NwPQpXKkApXI/C9SgrQM3MzMzMzClArkfhehQuK0AzMzMzM7MqQJqZmZmZmSpA9ihcj8J1K0AAAAAAAIArQArXo3A9iitAXI/C9SjcKkCkcD0K16MrQBSuR+F6lCpAhetRuB4FKkCPwvUoXI8qQHE9CtejcCpAexSuR+F6K0BmZmZmZmYpQBSuR+F6lCpAKVyPwvUoKkA=",
          "dtype": "f8"
         },
         "xaxis": "x",
         "y": {
          "bdata": "FK5H4XoUL0CamZmZmZkmQMP1KFyPQixArkfhehQuK0BxPQrXo/AsQPYoXI/C9SVAexSuR+F6KkAUrkfhepQmQEjhehSuRylAH4XrUbgeJUBSuB6F65EwQM3MzMzMzChASOF6FK5HJ0DsUbgehesrQJqZmZmZGSZA7FG4HoVrJUDXo3A9ClclQArXo3A9iilAmpmZmZmZKEAAAAAAAAApQI/C9ShcjyRAhetRuB4FJkBcj8L1KNwuQB+F61G4njFA9ihcj8J1KkBmZmZmZuYjQJqZmZmZmTFAuB6F61E4JEDXo3A9ClctQJqZmZmZGSpAPQrXo3C9J0BI4XoUrscoQFK4HoXr0S1AAAAAAAAAJUA=",
          "dtype": "f8"
         },
         "yaxis": "y"
        }
       ],
       "layout": {
        "coloraxis": {
         "colorbar": {
          "title": {
           "text": "creative_actions/90"
          }
         },
         "colorscale": [
          [
           0,
           "rgb(165,0,38)"
          ],
          [
           0.1,
           "rgb(215,48,39)"
          ],
          [
           0.2,
           "rgb(244,109,67)"
          ],
          [
           0.3,
           "rgb(253,174,97)"
          ],
          [
           0.4,
           "rgb(254,224,139)"
          ],
          [
           0.5,
           "rgb(255,255,191)"
          ],
          [
           0.6,
           "rgb(217,239,139)"
          ],
          [
           0.7,
           "rgb(166,217,106)"
          ],
          [
           0.8,
           "rgb(102,189,99)"
          ],
          [
           0.9,
           "rgb(26,152,80)"
          ],
          [
           1,
           "rgb(0,104,55)"
          ]
         ],
         "showscale": false
        },
        "height": 700,
        "legend": {
         "tracegroupgap": 0
        },
        "paper_bgcolor": "darkgray",
        "plot_bgcolor": "darkgray",
        "template": {
         "data": {
          "bar": [
           {
            "error_x": {
             "color": "#2a3f5f"
            },
            "error_y": {
             "color": "#2a3f5f"
            },
            "marker": {
             "line": {
              "color": "#E5ECF6",
              "width": 0.5
             },
             "pattern": {
              "fillmode": "overlay",
              "size": 10,
              "solidity": 0.2
             }
            },
            "type": "bar"
           }
          ],
          "barpolar": [
           {
            "marker": {
             "line": {
              "color": "#E5ECF6",
              "width": 0.5
             },
             "pattern": {
              "fillmode": "overlay",
              "size": 10,
              "solidity": 0.2
             }
            },
            "type": "barpolar"
           }
          ],
          "carpet": [
           {
            "aaxis": {
             "endlinecolor": "#2a3f5f",
             "gridcolor": "white",
             "linecolor": "white",
             "minorgridcolor": "white",
             "startlinecolor": "#2a3f5f"
            },
            "baxis": {
             "endlinecolor": "#2a3f5f",
             "gridcolor": "white",
             "linecolor": "white",
             "minorgridcolor": "white",
             "startlinecolor": "#2a3f5f"
            },
            "type": "carpet"
           }
          ],
          "choropleth": [
           {
            "colorbar": {
             "outlinewidth": 0,
             "ticks": ""
            },
            "type": "choropleth"
           }
          ],
          "contour": [
           {
            "colorbar": {
             "outlinewidth": 0,
             "ticks": ""
            },
            "colorscale": [
             [
              0,
              "#0d0887"
             ],
             [
              0.1111111111111111,
              "#46039f"
             ],
             [
              0.2222222222222222,
              "#7201a8"
             ],
             [
              0.3333333333333333,
              "#9c179e"
             ],
             [
              0.4444444444444444,
              "#bd3786"
             ],
             [
              0.5555555555555556,
              "#d8576b"
             ],
             [
              0.6666666666666666,
              "#ed7953"
             ],
             [
              0.7777777777777778,
              "#fb9f3a"
             ],
             [
              0.8888888888888888,
              "#fdca26"
             ],
             [
              1,
              "#f0f921"
             ]
            ],
            "type": "contour"
           }
          ],
          "contourcarpet": [
           {
            "colorbar": {
             "outlinewidth": 0,
             "ticks": ""
            },
            "type": "contourcarpet"
           }
          ],
          "heatmap": [
           {
            "colorbar": {
             "outlinewidth": 0,
             "ticks": ""
            },
            "colorscale": [
             [
              0,
              "#0d0887"
             ],
             [
              0.1111111111111111,
              "#46039f"
             ],
             [
              0.2222222222222222,
              "#7201a8"
             ],
             [
              0.3333333333333333,
              "#9c179e"
             ],
             [
              0.4444444444444444,
              "#bd3786"
             ],
             [
              0.5555555555555556,
              "#d8576b"
             ],
             [
              0.6666666666666666,
              "#ed7953"
             ],
             [
              0.7777777777777778,
              "#fb9f3a"
             ],
             [
              0.8888888888888888,
              "#fdca26"
             ],
             [
              1,
              "#f0f921"
             ]
            ],
            "type": "heatmap"
           }
          ],
          "histogram": [
           {
            "marker": {
             "pattern": {
              "fillmode": "overlay",
              "size": 10,
              "solidity": 0.2
             }
            },
            "type": "histogram"
           }
          ],
          "histogram2d": [
           {
            "colorbar": {
             "outlinewidth": 0,
             "ticks": ""
            },
            "colorscale": [
             [
              0,
              "#0d0887"
             ],
             [
              0.1111111111111111,
              "#46039f"
             ],
             [
              0.2222222222222222,
              "#7201a8"
             ],
             [
              0.3333333333333333,
              "#9c179e"
             ],
             [
              0.4444444444444444,
              "#bd3786"
             ],
             [
              0.5555555555555556,
              "#d8576b"
             ],
             [
              0.6666666666666666,
              "#ed7953"
             ],
             [
              0.7777777777777778,
              "#fb9f3a"
             ],
             [
              0.8888888888888888,
              "#fdca26"
             ],
             [
              1,
              "#f0f921"
             ]
            ],
            "type": "histogram2d"
           }
          ],
          "histogram2dcontour": [
           {
            "colorbar": {
             "outlinewidth": 0,
             "ticks": ""
            },
            "colorscale": [
             [
              0,
              "#0d0887"
             ],
             [
              0.1111111111111111,
              "#46039f"
             ],
             [
              0.2222222222222222,
              "#7201a8"
             ],
             [
              0.3333333333333333,
              "#9c179e"
             ],
             [
              0.4444444444444444,
              "#bd3786"
             ],
             [
              0.5555555555555556,
              "#d8576b"
             ],
             [
              0.6666666666666666,
              "#ed7953"
             ],
             [
              0.7777777777777778,
              "#fb9f3a"
             ],
             [
              0.8888888888888888,
              "#fdca26"
             ],
             [
              1,
              "#f0f921"
             ]
            ],
            "type": "histogram2dcontour"
           }
          ],
          "mesh3d": [
           {
            "colorbar": {
             "outlinewidth": 0,
             "ticks": ""
            },
            "type": "mesh3d"
           }
          ],
          "parcoords": [
           {
            "line": {
             "colorbar": {
              "outlinewidth": 0,
              "ticks": ""
             }
            },
            "type": "parcoords"
           }
          ],
          "pie": [
           {
            "automargin": true,
            "type": "pie"
           }
          ],
          "scatter": [
           {
            "fillpattern": {
             "fillmode": "overlay",
             "size": 10,
             "solidity": 0.2
            },
            "type": "scatter"
           }
          ],
          "scatter3d": [
           {
            "line": {
             "colorbar": {
              "outlinewidth": 0,
              "ticks": ""
             }
            },
            "marker": {
             "colorbar": {
              "outlinewidth": 0,
              "ticks": ""
             }
            },
            "type": "scatter3d"
           }
          ],
          "scattercarpet": [
           {
            "marker": {
             "colorbar": {
              "outlinewidth": 0,
              "ticks": ""
             }
            },
            "type": "scattercarpet"
           }
          ],
          "scattergeo": [
           {
            "marker": {
             "colorbar": {
              "outlinewidth": 0,
              "ticks": ""
             }
            },
            "type": "scattergeo"
           }
          ],
          "scattergl": [
           {
            "marker": {
             "colorbar": {
              "outlinewidth": 0,
              "ticks": ""
             }
            },
            "type": "scattergl"
           }
          ],
          "scattermap": [
           {
            "marker": {
             "colorbar": {
              "outlinewidth": 0,
              "ticks": ""
             }
            },
            "type": "scattermap"
           }
          ],
          "scattermapbox": [
           {
            "marker": {
             "colorbar": {
              "outlinewidth": 0,
              "ticks": ""
             }
            },
            "type": "scattermapbox"
           }
          ],
          "scatterpolar": [
           {
            "marker": {
             "colorbar": {
              "outlinewidth": 0,
              "ticks": ""
             }
            },
            "type": "scatterpolar"
           }
          ],
          "scatterpolargl": [
           {
            "marker": {
             "colorbar": {
              "outlinewidth": 0,
              "ticks": ""
             }
            },
            "type": "scatterpolargl"
           }
          ],
          "scatterternary": [
           {
            "marker": {
             "colorbar": {
              "outlinewidth": 0,
              "ticks": ""
             }
            },
            "type": "scatterternary"
           }
          ],
          "surface": [
           {
            "colorbar": {
             "outlinewidth": 0,
             "ticks": ""
            },
            "colorscale": [
             [
              0,
              "#0d0887"
             ],
             [
              0.1111111111111111,
              "#46039f"
             ],
             [
              0.2222222222222222,
              "#7201a8"
             ],
             [
              0.3333333333333333,
              "#9c179e"
             ],
             [
              0.4444444444444444,
              "#bd3786"
             ],
             [
              0.5555555555555556,
              "#d8576b"
             ],
             [
              0.6666666666666666,
              "#ed7953"
             ],
             [
              0.7777777777777778,
              "#fb9f3a"
             ],
             [
              0.8888888888888888,
              "#fdca26"
             ],
             [
              1,
              "#f0f921"
             ]
            ],
            "type": "surface"
           }
          ],
          "table": [
           {
            "cells": {
             "fill": {
              "color": "#EBF0F8"
             },
             "line": {
              "color": "white"
             }
            },
            "header": {
             "fill": {
              "color": "#C8D4E3"
             },
             "line": {
              "color": "white"
             }
            },
            "type": "table"
           }
          ]
         },
         "layout": {
          "annotationdefaults": {
           "arrowcolor": "#2a3f5f",
           "arrowhead": 0,
           "arrowwidth": 1
          },
          "autotypenumbers": "strict",
          "coloraxis": {
           "colorbar": {
            "outlinewidth": 0,
            "ticks": ""
           }
          },
          "colorscale": {
           "diverging": [
            [
             0,
             "#8e0152"
            ],
            [
             0.1,
             "#c51b7d"
            ],
            [
             0.2,
             "#de77ae"
            ],
            [
             0.3,
             "#f1b6da"
            ],
            [
             0.4,
             "#fde0ef"
            ],
            [
             0.5,
             "#f7f7f7"
            ],
            [
             0.6,
             "#e6f5d0"
            ],
            [
             0.7,
             "#b8e186"
            ],
            [
             0.8,
             "#7fbc41"
            ],
            [
             0.9,
             "#4d9221"
            ],
            [
             1,
             "#276419"
            ]
           ],
           "sequential": [
            [
             0,
             "#0d0887"
            ],
            [
             0.1111111111111111,
             "#46039f"
            ],
            [
             0.2222222222222222,
             "#7201a8"
            ],
            [
             0.3333333333333333,
             "#9c179e"
            ],
            [
             0.4444444444444444,
             "#bd3786"
            ],
            [
             0.5555555555555556,
             "#d8576b"
            ],
            [
             0.6666666666666666,
             "#ed7953"
            ],
            [
             0.7777777777777778,
             "#fb9f3a"
            ],
            [
             0.8888888888888888,
             "#fdca26"
            ],
            [
             1,
             "#f0f921"
            ]
           ],
           "sequentialminus": [
            [
             0,
             "#0d0887"
            ],
            [
             0.1111111111111111,
             "#46039f"
            ],
            [
             0.2222222222222222,
             "#7201a8"
            ],
            [
             0.3333333333333333,
             "#9c179e"
            ],
            [
             0.4444444444444444,
             "#bd3786"
            ],
            [
             0.5555555555555556,
             "#d8576b"
            ],
            [
             0.6666666666666666,
             "#ed7953"
            ],
            [
             0.7777777777777778,
             "#fb9f3a"
            ],
            [
             0.8888888888888888,
             "#fdca26"
            ],
            [
             1,
             "#f0f921"
            ]
           ]
          },
          "colorway": [
           "#636efa",
           "#EF553B",
           "#00cc96",
           "#ab63fa",
           "#FFA15A",
           "#19d3f3",
           "#FF6692",
           "#B6E880",
           "#FF97FF",
           "#FECB52"
          ],
          "font": {
           "color": "#2a3f5f"
          },
          "geo": {
           "bgcolor": "white",
           "lakecolor": "white",
           "landcolor": "#E5ECF6",
           "showlakes": true,
           "showland": true,
           "subunitcolor": "white"
          },
          "hoverlabel": {
           "align": "left"
          },
          "hovermode": "closest",
          "mapbox": {
           "style": "light"
          },
          "paper_bgcolor": "white",
          "plot_bgcolor": "#E5ECF6",
          "polar": {
           "angularaxis": {
            "gridcolor": "white",
            "linecolor": "white",
            "ticks": ""
           },
           "bgcolor": "#E5ECF6",
           "radialaxis": {
            "gridcolor": "white",
            "linecolor": "white",
            "ticks": ""
           }
          },
          "scene": {
           "xaxis": {
            "backgroundcolor": "#E5ECF6",
            "gridcolor": "white",
            "gridwidth": 2,
            "linecolor": "white",
            "showbackground": true,
            "ticks": "",
            "zerolinecolor": "white"
           },
           "yaxis": {
            "backgroundcolor": "#E5ECF6",
            "gridcolor": "white",
            "gridwidth": 2,
            "linecolor": "white",
            "showbackground": true,
            "ticks": "",
            "zerolinecolor": "white"
           },
           "zaxis": {
            "backgroundcolor": "#E5ECF6",
            "gridcolor": "white",
            "gridwidth": 2,
            "linecolor": "white",
            "showbackground": true,
            "ticks": "",
            "zerolinecolor": "white"
           }
          },
          "shapedefaults": {
           "line": {
            "color": "#2a3f5f"
           }
          },
          "ternary": {
           "aaxis": {
            "gridcolor": "white",
            "linecolor": "white",
            "ticks": ""
           },
           "baxis": {
            "gridcolor": "white",
            "linecolor": "white",
            "ticks": ""
           },
           "bgcolor": "#E5ECF6",
           "caxis": {
            "gridcolor": "white",
            "linecolor": "white",
            "ticks": ""
           }
          },
          "title": {
           "x": 0.05
          },
          "xaxis": {
           "automargin": true,
           "gridcolor": "white",
           "linecolor": "white",
           "ticks": "",
           "title": {
            "standoff": 15
           },
           "zerolinecolor": "white",
           "zerolinewidth": 2
          },
          "yaxis": {
           "automargin": true,
           "gridcolor": "white",
           "linecolor": "white",
           "ticks": "",
           "title": {
            "standoff": 15
           },
           "zerolinecolor": "white",
           "zerolinewidth": 2
          }
         }
        },
        "title": {
         "text": "Distance ( 34)",
         "x": 0.5,
         "xanchor": "center"
        },
        "width": 1200,
        "xaxis": {
         "anchor": "y",
         "domain": [
          0,
          1
         ],
         "gridcolor": "white",
         "showgrid": true,
         "title": {
          "text": "distance_covered/90"
         },
         "zeroline": false
        },
        "yaxis": {
         "anchor": "x",
         "domain": [
          0,
          1
         ],
         "gridcolor": "white",
         "showgrid": true,
         "title": {
          "text": "defensive_actions/90"
         },
         "zeroline": false
        }
       }
      }
     },
     "metadata": {},
     "output_type": "display_data"
    }
   ],
   "source": [
    "# Full universe \n",
    "scatter_plot(df_targets,\n",
    "             x_metric='distance_covered/90', \n",
    "             y_metric='defensive_actions/90',\n",
    "             z_metric='creative_actions/90',\n",
    "             title='Distance', \n",
    "             show_name_label=True\n",
    ") "
   ]
  },
  {
   "cell_type": "code",
   "execution_count": 160,
   "id": "c367b34a",
   "metadata": {},
   "outputs": [
    {
     "data": {
      "text/plain": [
       "division\n",
       "3F Superliga                            1\n",
       "Bundesliga                              3\n",
       "Campeonato Brasileiro Série A Assaí    14\n",
       "Eredivisie                              2\n",
       "LaLiga EA Sports                        3\n",
       "Liga Portugal Betclic                   3\n",
       "Liga Profesional de Fútbol             14\n",
       "Ligue 1 Uber Eats                       2\n",
       "Premier League                          1\n",
       "Serie A TIM                             2\n",
       "Sky Bet Championship                    3\n",
       "Name: id, dtype: int64"
      ]
     },
     "execution_count": 160,
     "metadata": {},
     "output_type": "execute_result"
    }
   ],
   "source": [
    "df_targets.groupby('division')['id'].count()"
   ]
  },
  {
   "cell_type": "code",
   "execution_count": 170,
   "id": "baaaccaa",
   "metadata": {},
   "outputs": [
    {
     "data": {
      "text/html": [
       "<div>\n",
       "<style scoped>\n",
       "    .dataframe tbody tr th:only-of-type {\n",
       "        vertical-align: middle;\n",
       "    }\n",
       "\n",
       "    .dataframe tbody tr th {\n",
       "        vertical-align: top;\n",
       "    }\n",
       "\n",
       "    .dataframe thead th {\n",
       "        text-align: right;\n",
       "    }\n",
       "</style>\n",
       "<table border=\"1\" class=\"dataframe\">\n",
       "  <thead>\n",
       "    <tr style=\"text-align: right;\">\n",
       "      <th></th>\n",
       "      <th>id</th>\n",
       "      <th>name</th>\n",
       "      <th>position</th>\n",
       "      <th>age</th>\n",
       "      <th>height</th>\n",
       "      <th>weight</th>\n",
       "      <th>inf</th>\n",
       "      <th>club</th>\n",
       "      <th>division</th>\n",
       "      <th>nationality</th>\n",
       "      <th>home_grown</th>\n",
       "      <th>personality</th>\n",
       "      <th>media_handling</th>\n",
       "      <th>wage</th>\n",
       "      <th>transfer_value</th>\n",
       "      <th>asking_price</th>\n",
       "      <th>preferred_foot</th>\n",
       "      <th>starts</th>\n",
       "      <th>minutes_played</th>\n",
       "      <th>average_rating</th>\n",
       "      <th>sub_appearances</th>\n",
       "      <th>minutes/game</th>\n",
       "      <th>index</th>\n",
       "      <th>passes_attempted/90</th>\n",
       "      <th>passes_completed/90</th>\n",
       "      <th>pass_completion_%</th>\n",
       "      <th>progressive_passes/90</th>\n",
       "      <th>progressive_pass_rate</th>\n",
       "      <th>key_passes/90</th>\n",
       "      <th>key_pass_%</th>\n",
       "      <th>open_play_key_passes/90</th>\n",
       "      <th>open_play_key_pass_%</th>\n",
       "      <th>chances_created/90</th>\n",
       "      <th>clear_cut_chances_created/90</th>\n",
       "      <th>pressures_attempted/90</th>\n",
       "      <th>pressures_completed/90</th>\n",
       "      <th>pressure_success_%</th>\n",
       "      <th>possession_won/90</th>\n",
       "      <th>possession_lost/90</th>\n",
       "      <th>poss+_/90</th>\n",
       "      <th>poss+__%</th>\n",
       "      <th>tackles_attempted/90</th>\n",
       "      <th>tackles_completed/90</th>\n",
       "      <th>tackle_completion_%</th>\n",
       "      <th>tackles_failed/90</th>\n",
       "      <th>key_tackles/90</th>\n",
       "      <th>tackle_quality</th>\n",
       "      <th>interceptions/90</th>\n",
       "      <th>blocks/90</th>\n",
       "      <th>shots_blocked/90</th>\n",
       "      <th>headers_attempted/90</th>\n",
       "      <th>headers_won/90</th>\n",
       "      <th>headers_won_%</th>\n",
       "      <th>headers_lost/90</th>\n",
       "      <th>headers_lost_%</th>\n",
       "      <th>key_headers/90</th>\n",
       "      <th>aerial_challenges_attempted/90</th>\n",
       "      <th>duels_win_%</th>\n",
       "      <th>fouls_won/90</th>\n",
       "      <th>fouls_committed/90</th>\n",
       "      <th>clearances/90</th>\n",
       "      <th>distance_covered/90</th>\n",
       "      <th>attacking_actions/90</th>\n",
       "      <th>creative_actions/90</th>\n",
       "      <th>defensive_actions/90</th>\n",
       "      <th>excitement_factor/90</th>\n",
       "      <th>general_performance</th>\n",
       "      <th>goalkeeping</th>\n",
       "      <th>defensive_defender</th>\n",
       "      <th>creative_defender</th>\n",
       "      <th>attacking_defender</th>\n",
       "      <th>creative_midfielder</th>\n",
       "      <th>attacking_midfielder</th>\n",
       "      <th>creative_winger</th>\n",
       "      <th>attacking_winger</th>\n",
       "      <th>creative_forward</th>\n",
       "      <th>attacking_forward</th>\n",
       "      <th>finisher</th>\n",
       "      <th>aerial_threat</th>\n",
       "      <th>reader</th>\n",
       "      <th>assister</th>\n",
       "      <th>uid</th>\n",
       "      <th>natural_dm</th>\n",
       "      <th>price_estimate_M</th>\n",
       "      <th>tackles_comp-fouls/90</th>\n",
       "    </tr>\n",
       "  </thead>\n",
       "  <tbody>\n",
       "    <tr>\n",
       "      <th>258</th>\n",
       "      <td>29156436</td>\n",
       "      <td>Flynn Downes</td>\n",
       "      <td>DM, M (C)</td>\n",
       "      <td>24</td>\n",
       "      <td>182 cm</td>\n",
       "      <td>79 kg</td>\n",
       "      <td>-</td>\n",
       "      <td>Southampton</td>\n",
       "      <td>Sky Bet Championship</td>\n",
       "      <td>ENG</td>\n",
       "      <td>Trained in nation (15-21)</td>\n",
       "      <td>-</td>\n",
       "      <td>Scouting Required</td>\n",
       "      <td>$37,500 p/w</td>\n",
       "      <td>$9.4M - $15M</td>\n",
       "      <td>-</td>\n",
       "      <td>Right Only</td>\n",
       "      <td>24</td>\n",
       "      <td>2080</td>\n",
       "      <td>6.93</td>\n",
       "      <td>0</td>\n",
       "      <td>86.67</td>\n",
       "      <td>258</td>\n",
       "      <td>62.18</td>\n",
       "      <td>56.25</td>\n",
       "      <td>90</td>\n",
       "      <td>7.70</td>\n",
       "      <td>12.39</td>\n",
       "      <td>0.82</td>\n",
       "      <td>1.32</td>\n",
       "      <td>0.82</td>\n",
       "      <td>1.32</td>\n",
       "      <td>0.27</td>\n",
       "      <td>0.26</td>\n",
       "      <td>8.39</td>\n",
       "      <td>2.64</td>\n",
       "      <td>31.44</td>\n",
       "      <td>8.70</td>\n",
       "      <td>6.97</td>\n",
       "      <td>1.73</td>\n",
       "      <td>24.82</td>\n",
       "      <td>3.63</td>\n",
       "      <td>2.86</td>\n",
       "      <td>79</td>\n",
       "      <td>0.78</td>\n",
       "      <td>0.04</td>\n",
       "      <td>1.83</td>\n",
       "      <td>1.43</td>\n",
       "      <td>0.26</td>\n",
       "      <td>0.13</td>\n",
       "      <td>2.51</td>\n",
       "      <td>1.43</td>\n",
       "      <td>56.90</td>\n",
       "      <td>1.08</td>\n",
       "      <td>43.10</td>\n",
       "      <td>0.22</td>\n",
       "      <td>2.51</td>\n",
       "      <td>69.72</td>\n",
       "      <td>0.82</td>\n",
       "      <td>1.99</td>\n",
       "      <td>0.61</td>\n",
       "      <td>13.33</td>\n",
       "      <td>1.35</td>\n",
       "      <td>1.30</td>\n",
       "      <td>11.01</td>\n",
       "      <td>2.42</td>\n",
       "      <td>78</td>\n",
       "      <td>100</td>\n",
       "      <td>28</td>\n",
       "      <td>65</td>\n",
       "      <td>69</td>\n",
       "      <td>40</td>\n",
       "      <td>58</td>\n",
       "      <td>41</td>\n",
       "      <td>52</td>\n",
       "      <td>33</td>\n",
       "      <td>49</td>\n",
       "      <td>17</td>\n",
       "      <td>39</td>\n",
       "      <td>23</td>\n",
       "      <td>81</td>\n",
       "      <td>29156436.0</td>\n",
       "      <td>Yes</td>\n",
       "      <td>14.640</td>\n",
       "      <td>1.437186</td>\n",
       "    </tr>\n",
       "    <tr>\n",
       "      <th>263</th>\n",
       "      <td>29170352</td>\n",
       "      <td>David Kasumu</td>\n",
       "      <td>D/WB (R), DM, M (C)</td>\n",
       "      <td>24</td>\n",
       "      <td>174 cm</td>\n",
       "      <td>60 kg</td>\n",
       "      <td>-</td>\n",
       "      <td>Huddersfield</td>\n",
       "      <td>Sky Bet Championship</td>\n",
       "      <td>NGA (ENG)</td>\n",
       "      <td>Trained in nation (15-21)</td>\n",
       "      <td>-</td>\n",
       "      <td>Scouting Required</td>\n",
       "      <td>$7,500 p/w</td>\n",
       "      <td>$300K - $3.1M</td>\n",
       "      <td>-</td>\n",
       "      <td>Right</td>\n",
       "      <td>21</td>\n",
       "      <td>1802</td>\n",
       "      <td>6.79</td>\n",
       "      <td>0</td>\n",
       "      <td>85.81</td>\n",
       "      <td>263</td>\n",
       "      <td>45.90</td>\n",
       "      <td>40.31</td>\n",
       "      <td>88</td>\n",
       "      <td>4.30</td>\n",
       "      <td>9.36</td>\n",
       "      <td>0.95</td>\n",
       "      <td>2.07</td>\n",
       "      <td>0.95</td>\n",
       "      <td>2.07</td>\n",
       "      <td>0.26</td>\n",
       "      <td>0.25</td>\n",
       "      <td>10.19</td>\n",
       "      <td>2.75</td>\n",
       "      <td>26.96</td>\n",
       "      <td>9.94</td>\n",
       "      <td>7.44</td>\n",
       "      <td>2.50</td>\n",
       "      <td>33.60</td>\n",
       "      <td>3.70</td>\n",
       "      <td>2.60</td>\n",
       "      <td>70</td>\n",
       "      <td>1.10</td>\n",
       "      <td>0.05</td>\n",
       "      <td>1.85</td>\n",
       "      <td>1.65</td>\n",
       "      <td>0.70</td>\n",
       "      <td>0.55</td>\n",
       "      <td>3.30</td>\n",
       "      <td>0.95</td>\n",
       "      <td>28.79</td>\n",
       "      <td>2.35</td>\n",
       "      <td>71.21</td>\n",
       "      <td>0.25</td>\n",
       "      <td>3.30</td>\n",
       "      <td>50.71</td>\n",
       "      <td>0.50</td>\n",
       "      <td>2.00</td>\n",
       "      <td>1.25</td>\n",
       "      <td>13.35</td>\n",
       "      <td>1.24</td>\n",
       "      <td>1.30</td>\n",
       "      <td>12.50</td>\n",
       "      <td>2.85</td>\n",
       "      <td>43</td>\n",
       "      <td>100</td>\n",
       "      <td>42</td>\n",
       "      <td>21</td>\n",
       "      <td>29</td>\n",
       "      <td>22</td>\n",
       "      <td>14</td>\n",
       "      <td>23</td>\n",
       "      <td>28</td>\n",
       "      <td>43</td>\n",
       "      <td>22</td>\n",
       "      <td>41</td>\n",
       "      <td>40</td>\n",
       "      <td>51</td>\n",
       "      <td>59</td>\n",
       "      <td>29170352.0</td>\n",
       "      <td>Yes</td>\n",
       "      <td>2.040</td>\n",
       "      <td>1.300000</td>\n",
       "    </tr>\n",
       "    <tr>\n",
       "      <th>435</th>\n",
       "      <td>67228750</td>\n",
       "      <td>Keidi Bare</td>\n",
       "      <td>DM, M (C)</td>\n",
       "      <td>26</td>\n",
       "      <td>174 cm</td>\n",
       "      <td>66 kg</td>\n",
       "      <td>Wnt</td>\n",
       "      <td>Coventry</td>\n",
       "      <td>Sky Bet Championship</td>\n",
       "      <td>ALB</td>\n",
       "      <td>-</td>\n",
       "      <td>-</td>\n",
       "      <td>Scouting Required</td>\n",
       "      <td>$8,000 p/w</td>\n",
       "      <td>$190K - $1.9M</td>\n",
       "      <td>-</td>\n",
       "      <td>Right</td>\n",
       "      <td>18</td>\n",
       "      <td>1320</td>\n",
       "      <td>6.88</td>\n",
       "      <td>0</td>\n",
       "      <td>73.33</td>\n",
       "      <td>435</td>\n",
       "      <td>51.61</td>\n",
       "      <td>46.43</td>\n",
       "      <td>90</td>\n",
       "      <td>5.45</td>\n",
       "      <td>10.57</td>\n",
       "      <td>1.16</td>\n",
       "      <td>2.25</td>\n",
       "      <td>1.02</td>\n",
       "      <td>1.98</td>\n",
       "      <td>0.20</td>\n",
       "      <td>0.20</td>\n",
       "      <td>11.80</td>\n",
       "      <td>3.07</td>\n",
       "      <td>26.01</td>\n",
       "      <td>10.02</td>\n",
       "      <td>6.95</td>\n",
       "      <td>3.07</td>\n",
       "      <td>44.17</td>\n",
       "      <td>4.23</td>\n",
       "      <td>3.20</td>\n",
       "      <td>76</td>\n",
       "      <td>1.02</td>\n",
       "      <td>0.00</td>\n",
       "      <td>2.07</td>\n",
       "      <td>2.66</td>\n",
       "      <td>0.75</td>\n",
       "      <td>0.34</td>\n",
       "      <td>3.14</td>\n",
       "      <td>1.16</td>\n",
       "      <td>36.96</td>\n",
       "      <td>1.98</td>\n",
       "      <td>63.04</td>\n",
       "      <td>0.14</td>\n",
       "      <td>3.14</td>\n",
       "      <td>59.26</td>\n",
       "      <td>0.41</td>\n",
       "      <td>2.05</td>\n",
       "      <td>1.30</td>\n",
       "      <td>13.43</td>\n",
       "      <td>1.85</td>\n",
       "      <td>1.36</td>\n",
       "      <td>13.23</td>\n",
       "      <td>4.50</td>\n",
       "      <td>54</td>\n",
       "      <td>100</td>\n",
       "      <td>87</td>\n",
       "      <td>73</td>\n",
       "      <td>57</td>\n",
       "      <td>54</td>\n",
       "      <td>48</td>\n",
       "      <td>50</td>\n",
       "      <td>44</td>\n",
       "      <td>40</td>\n",
       "      <td>47</td>\n",
       "      <td>66</td>\n",
       "      <td>32</td>\n",
       "      <td>79</td>\n",
       "      <td>11</td>\n",
       "      <td>67228750.0</td>\n",
       "      <td>Yes</td>\n",
       "      <td>1.254</td>\n",
       "      <td>1.560976</td>\n",
       "    </tr>\n",
       "  </tbody>\n",
       "</table>\n",
       "</div>"
      ],
      "text/plain": [
       "           id          name             position  age  height weight  inf  \\\n",
       "258  29156436  Flynn Downes            DM, M (C)   24  182 cm  79 kg    -   \n",
       "263  29170352  David Kasumu  D/WB (R), DM, M (C)   24  174 cm  60 kg    -   \n",
       "435  67228750    Keidi Bare            DM, M (C)   26  174 cm  66 kg  Wnt   \n",
       "\n",
       "             club              division nationality  \\\n",
       "258   Southampton  Sky Bet Championship         ENG   \n",
       "263  Huddersfield  Sky Bet Championship   NGA (ENG)   \n",
       "435      Coventry  Sky Bet Championship         ALB   \n",
       "\n",
       "                    home_grown personality     media_handling         wage  \\\n",
       "258  Trained in nation (15-21)           -  Scouting Required  $37,500 p/w   \n",
       "263  Trained in nation (15-21)           -  Scouting Required   $7,500 p/w   \n",
       "435                          -           -  Scouting Required   $8,000 p/w   \n",
       "\n",
       "    transfer_value asking_price preferred_foot  starts  minutes_played  \\\n",
       "258   $9.4M - $15M            -     Right Only      24            2080   \n",
       "263  $300K - $3.1M            -          Right      21            1802   \n",
       "435  $190K - $1.9M            -          Right      18            1320   \n",
       "\n",
       "     average_rating  sub_appearances  minutes/game  index  \\\n",
       "258            6.93                0         86.67    258   \n",
       "263            6.79                0         85.81    263   \n",
       "435            6.88                0         73.33    435   \n",
       "\n",
       "     passes_attempted/90  passes_completed/90  pass_completion_%  \\\n",
       "258                62.18                56.25                 90   \n",
       "263                45.90                40.31                 88   \n",
       "435                51.61                46.43                 90   \n",
       "\n",
       "     progressive_passes/90  progressive_pass_rate  key_passes/90  key_pass_%  \\\n",
       "258                   7.70                  12.39           0.82        1.32   \n",
       "263                   4.30                   9.36           0.95        2.07   \n",
       "435                   5.45                  10.57           1.16        2.25   \n",
       "\n",
       "     open_play_key_passes/90  open_play_key_pass_%  chances_created/90  \\\n",
       "258                     0.82                  1.32                0.27   \n",
       "263                     0.95                  2.07                0.26   \n",
       "435                     1.02                  1.98                0.20   \n",
       "\n",
       "     clear_cut_chances_created/90  pressures_attempted/90  \\\n",
       "258                          0.26                    8.39   \n",
       "263                          0.25                   10.19   \n",
       "435                          0.20                   11.80   \n",
       "\n",
       "     pressures_completed/90  pressure_success_%  possession_won/90  \\\n",
       "258                    2.64               31.44               8.70   \n",
       "263                    2.75               26.96               9.94   \n",
       "435                    3.07               26.01              10.02   \n",
       "\n",
       "     possession_lost/90  poss+_/90  poss+__%  tackles_attempted/90  \\\n",
       "258                6.97       1.73     24.82                  3.63   \n",
       "263                7.44       2.50     33.60                  3.70   \n",
       "435                6.95       3.07     44.17                  4.23   \n",
       "\n",
       "     tackles_completed/90  tackle_completion_%  tackles_failed/90  \\\n",
       "258                  2.86                   79               0.78   \n",
       "263                  2.60                   70               1.10   \n",
       "435                  3.20                   76               1.02   \n",
       "\n",
       "     key_tackles/90  tackle_quality  interceptions/90  blocks/90  \\\n",
       "258            0.04            1.83              1.43       0.26   \n",
       "263            0.05            1.85              1.65       0.70   \n",
       "435            0.00            2.07              2.66       0.75   \n",
       "\n",
       "     shots_blocked/90  headers_attempted/90  headers_won/90  headers_won_%  \\\n",
       "258              0.13                  2.51            1.43          56.90   \n",
       "263              0.55                  3.30            0.95          28.79   \n",
       "435              0.34                  3.14            1.16          36.96   \n",
       "\n",
       "     headers_lost/90  headers_lost_%  key_headers/90  \\\n",
       "258             1.08           43.10            0.22   \n",
       "263             2.35           71.21            0.25   \n",
       "435             1.98           63.04            0.14   \n",
       "\n",
       "     aerial_challenges_attempted/90  duels_win_%  fouls_won/90  \\\n",
       "258                            2.51        69.72          0.82   \n",
       "263                            3.30        50.71          0.50   \n",
       "435                            3.14        59.26          0.41   \n",
       "\n",
       "     fouls_committed/90  clearances/90  distance_covered/90  \\\n",
       "258                1.99           0.61                13.33   \n",
       "263                2.00           1.25                13.35   \n",
       "435                2.05           1.30                13.43   \n",
       "\n",
       "     attacking_actions/90  creative_actions/90  defensive_actions/90  \\\n",
       "258                  1.35                 1.30                 11.01   \n",
       "263                  1.24                 1.30                 12.50   \n",
       "435                  1.85                 1.36                 13.23   \n",
       "\n",
       "     excitement_factor/90  general_performance  goalkeeping  \\\n",
       "258                  2.42                   78          100   \n",
       "263                  2.85                   43          100   \n",
       "435                  4.50                   54          100   \n",
       "\n",
       "     defensive_defender  creative_defender  attacking_defender  \\\n",
       "258                  28                 65                  69   \n",
       "263                  42                 21                  29   \n",
       "435                  87                 73                  57   \n",
       "\n",
       "     creative_midfielder  attacking_midfielder  creative_winger  \\\n",
       "258                   40                    58               41   \n",
       "263                   22                    14               23   \n",
       "435                   54                    48               50   \n",
       "\n",
       "     attacking_winger  creative_forward  attacking_forward  finisher  \\\n",
       "258                52                33                 49        17   \n",
       "263                28                43                 22        41   \n",
       "435                44                40                 47        66   \n",
       "\n",
       "     aerial_threat  reader  assister         uid natural_dm  price_estimate_M  \\\n",
       "258             39      23        81  29156436.0        Yes            14.640   \n",
       "263             40      51        59  29170352.0        Yes             2.040   \n",
       "435             32      79        11  67228750.0        Yes             1.254   \n",
       "\n",
       "     tackles_comp-fouls/90  \n",
       "258               1.437186  \n",
       "263               1.300000  \n",
       "435               1.560976  "
      ]
     },
     "execution_count": 170,
     "metadata": {},
     "output_type": "execute_result"
    }
   ],
   "source": [
    "df_targets.groupby('division').get_group('Sky Bet Championship').sort_values('age')"
   ]
  },
  {
   "cell_type": "code",
   "execution_count": null,
   "id": "436279ef",
   "metadata": {},
   "outputs": [],
   "source": []
  }
 ],
 "metadata": {
  "kernelspec": {
   "display_name": ".venv",
   "language": "python",
   "name": "python3"
  },
  "language_info": {
   "codemirror_mode": {
    "name": "ipython",
    "version": 3
   },
   "file_extension": ".py",
   "mimetype": "text/x-python",
   "name": "python",
   "nbconvert_exporter": "python",
   "pygments_lexer": "ipython3",
   "version": "3.12.7"
  }
 },
 "nbformat": 4,
 "nbformat_minor": 5
}
