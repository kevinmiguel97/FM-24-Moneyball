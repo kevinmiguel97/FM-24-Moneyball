{
 "cells": [
  {
   "cell_type": "markdown",
   "id": "b1df530d",
   "metadata": {},
   "source": [
    "# FM 24 Moneyball"
   ]
  },
  {
   "cell_type": "code",
   "execution_count": 1,
   "id": "a0d6d750",
   "metadata": {},
   "outputs": [],
   "source": [
    "import numpy as np\n",
    "import pandas as pd \n",
    "import matplotlib.pyplot as plt\n",
    "import plotly.express as px\n",
    "import re\n",
    "\n",
    "# Ignore warnings\n",
    "import warnings\n",
    "warnings.filterwarnings('ignore')\n",
    "\n",
    "# Show all columns in pandas\n",
    "pd.set_option('display.max_columns', 500) \n",
    "\n",
    "%matplotlib inline"
   ]
  },
  {
   "cell_type": "markdown",
   "id": "bd53e3cd",
   "metadata": {},
   "source": [
    "## Ingest and clean data"
   ]
  },
  {
   "cell_type": "code",
   "execution_count": 2,
   "id": "7355e71f",
   "metadata": {},
   "outputs": [],
   "source": [
    "### Read raw data\n",
    "\n",
    "# Select file path for raw data\n",
    "path = r\"C:\\Users\\kevmi\\Documents\\FM 24 Moneyball\\FM Data Lab\\Man Utd\\FM 24 exports\\Winter 2023\\Defensive Midfielders.html\"\n",
    "\n",
    "# Ingest in a dataframe\n",
    "df_players_raw = pd.read_html(path, encoding='utf-8')[0]\n",
    "\n",
    "# Format column names \n",
    "df_players_raw.columns = [x.lower().strip().replace(' ', '_').replace('-', '_') for x in df_players_raw.columns]\n",
    "\n",
    "# ---------------------------------------------------------------------------------------------------------------------\n",
    "\n",
    "### Read processed Data lab data\n",
    "\n",
    "# Select file path for processed data\n",
    "path = r\"C:\\Users\\kevmi\\Documents\\FM 24 Moneyball\\FM Data Lab\\Man Utd\\FM Data Lab outputs\\Winter 2023\\Defensive Midfielders.csv\"\n",
    "\n",
    "# Ingest in a dataframe \n",
    "df_players = pd.read_csv(path)   \n",
    "\n",
    "# Format column names \n",
    "df_players.columns = [x.lower().strip().replace(' ', '_').replace('-', '_') for x in df_players.columns]\n",
    "\n",
    "# Bring ID from raw data\n",
    "df_players = df_players.merge(df_players_raw[['name', 'age', 'height', 'weight', 'uid']], \n",
    "                 left_on=['name', 'age', 'height', 'weight'], \n",
    "                 right_on=['name', 'age', 'height', 'weight']).reset_index().rename(columns={'level_0': 'id'})\n",
    "\n",
    "df_players['id'] = df_players['uid']\n",
    "\n",
    "df_players.drop(columns='uid', inplace=True)"
   ]
  },
  {
   "cell_type": "markdown",
   "id": "a4833287",
   "metadata": {},
   "source": [
    "## Data cleaning"
   ]
  },
  {
   "cell_type": "code",
   "execution_count": 3,
   "id": "103e9075",
   "metadata": {},
   "outputs": [
    {
     "data": {
      "text/html": [
       "<div>\n",
       "<style scoped>\n",
       "    .dataframe tbody tr th:only-of-type {\n",
       "        vertical-align: middle;\n",
       "    }\n",
       "\n",
       "    .dataframe tbody tr th {\n",
       "        vertical-align: top;\n",
       "    }\n",
       "\n",
       "    .dataframe thead th {\n",
       "        text-align: right;\n",
       "    }\n",
       "</style>\n",
       "<table border=\"1\" class=\"dataframe\">\n",
       "  <thead>\n",
       "    <tr style=\"text-align: right;\">\n",
       "      <th></th>\n",
       "      <th>id</th>\n",
       "      <th>name</th>\n",
       "      <th>position</th>\n",
       "      <th>age</th>\n",
       "      <th>height</th>\n",
       "      <th>weight</th>\n",
       "      <th>inf</th>\n",
       "      <th>club</th>\n",
       "      <th>division</th>\n",
       "      <th>nationality</th>\n",
       "      <th>home_grown</th>\n",
       "      <th>personality</th>\n",
       "      <th>media_handling</th>\n",
       "      <th>wage</th>\n",
       "      <th>transfer_value</th>\n",
       "      <th>asking_price</th>\n",
       "      <th>preferred_foot</th>\n",
       "      <th>starts</th>\n",
       "      <th>minutes_played</th>\n",
       "      <th>average_rating</th>\n",
       "      <th>sub_appearances</th>\n",
       "      <th>minutes/game</th>\n",
       "      <th>index</th>\n",
       "      <th>passes_attempted/90</th>\n",
       "      <th>passes_completed/90</th>\n",
       "      <th>pass_completion_%</th>\n",
       "      <th>progressive_passes/90</th>\n",
       "      <th>progressive_pass_rate</th>\n",
       "      <th>key_passes/90</th>\n",
       "      <th>key_pass_%</th>\n",
       "      <th>open_play_key_passes/90</th>\n",
       "      <th>open_play_key_pass_%</th>\n",
       "      <th>chances_created/90</th>\n",
       "      <th>clear_cut_chances_created/90</th>\n",
       "      <th>pressures_attempted/90</th>\n",
       "      <th>pressures_completed/90</th>\n",
       "      <th>pressure_success_%</th>\n",
       "      <th>possession_won/90</th>\n",
       "      <th>possession_lost/90</th>\n",
       "      <th>poss+_/90</th>\n",
       "      <th>poss+__%</th>\n",
       "      <th>tackles_attempted/90</th>\n",
       "      <th>tackles_completed/90</th>\n",
       "      <th>tackle_completion_%</th>\n",
       "      <th>tackles_failed/90</th>\n",
       "      <th>key_tackles/90</th>\n",
       "      <th>tackle_quality</th>\n",
       "      <th>interceptions/90</th>\n",
       "      <th>blocks/90</th>\n",
       "      <th>shots_blocked/90</th>\n",
       "      <th>headers_attempted/90</th>\n",
       "      <th>headers_won/90</th>\n",
       "      <th>headers_won_%</th>\n",
       "      <th>headers_lost/90</th>\n",
       "      <th>headers_lost_%</th>\n",
       "      <th>key_headers/90</th>\n",
       "      <th>aerial_challenges_attempted/90</th>\n",
       "      <th>duels_win_%</th>\n",
       "      <th>fouls_won/90</th>\n",
       "      <th>fouls_committed/90</th>\n",
       "      <th>clearances/90</th>\n",
       "      <th>distance_covered/90</th>\n",
       "      <th>attacking_actions/90</th>\n",
       "      <th>creative_actions/90</th>\n",
       "      <th>defensive_actions/90</th>\n",
       "      <th>excitement_factor/90</th>\n",
       "      <th>general_performance</th>\n",
       "      <th>goalkeeping</th>\n",
       "      <th>defensive_defender</th>\n",
       "      <th>creative_defender</th>\n",
       "      <th>attacking_defender</th>\n",
       "      <th>creative_midfielder</th>\n",
       "      <th>attacking_midfielder</th>\n",
       "      <th>creative_winger</th>\n",
       "      <th>attacking_winger</th>\n",
       "      <th>creative_forward</th>\n",
       "      <th>attacking_forward</th>\n",
       "      <th>finisher</th>\n",
       "      <th>aerial_threat</th>\n",
       "      <th>reader</th>\n",
       "      <th>assister</th>\n",
       "      <th>price_estimate_M</th>\n",
       "    </tr>\n",
       "  </thead>\n",
       "  <tbody>\n",
       "    <tr>\n",
       "      <th>0</th>\n",
       "      <td>211232</td>\n",
       "      <td>Djéné Dakonam</td>\n",
       "      <td>D (RC), DM</td>\n",
       "      <td>31</td>\n",
       "      <td>178 cm</td>\n",
       "      <td>71 kg</td>\n",
       "      <td>-</td>\n",
       "      <td>Getafe</td>\n",
       "      <td>LaLiga EA Sports</td>\n",
       "      <td>TOG (BEN)</td>\n",
       "      <td>-</td>\n",
       "      <td>-</td>\n",
       "      <td>Scouting Required</td>\n",
       "      <td>$20,500 p/w</td>\n",
       "      <td>$150K - $10.5M</td>\n",
       "      <td>-</td>\n",
       "      <td>Right</td>\n",
       "      <td>17</td>\n",
       "      <td>1496</td>\n",
       "      <td>6.56</td>\n",
       "      <td>0</td>\n",
       "      <td>88.00</td>\n",
       "      <td>0</td>\n",
       "      <td>43.38</td>\n",
       "      <td>38.08</td>\n",
       "      <td>88</td>\n",
       "      <td>4.03</td>\n",
       "      <td>9.29</td>\n",
       "      <td>0.48</td>\n",
       "      <td>1.11</td>\n",
       "      <td>0.48</td>\n",
       "      <td>1.11</td>\n",
       "      <td>0.12</td>\n",
       "      <td>0.12</td>\n",
       "      <td>8.18</td>\n",
       "      <td>2.47</td>\n",
       "      <td>30.15</td>\n",
       "      <td>11.37</td>\n",
       "      <td>6.98</td>\n",
       "      <td>4.39</td>\n",
       "      <td>62.89</td>\n",
       "      <td>3.73</td>\n",
       "      <td>3.07</td>\n",
       "      <td>82</td>\n",
       "      <td>0.66</td>\n",
       "      <td>0.24</td>\n",
       "      <td>2.07</td>\n",
       "      <td>1.93</td>\n",
       "      <td>0.78</td>\n",
       "      <td>0.42</td>\n",
       "      <td>3.79</td>\n",
       "      <td>2.35</td>\n",
       "      <td>61.90</td>\n",
       "      <td>1.44</td>\n",
       "      <td>38.10</td>\n",
       "      <td>0.24</td>\n",
       "      <td>3.79</td>\n",
       "      <td>72.00</td>\n",
       "      <td>0.24</td>\n",
       "      <td>1.80</td>\n",
       "      <td>1.56</td>\n",
       "      <td>12.57</td>\n",
       "      <td>0.59</td>\n",
       "      <td>0.78</td>\n",
       "      <td>16.00</td>\n",
       "      <td>2.29</td>\n",
       "      <td>9</td>\n",
       "      <td>100</td>\n",
       "      <td>98</td>\n",
       "      <td>6</td>\n",
       "      <td>6</td>\n",
       "      <td>2</td>\n",
       "      <td>5</td>\n",
       "      <td>3</td>\n",
       "      <td>7</td>\n",
       "      <td>4</td>\n",
       "      <td>6</td>\n",
       "      <td>7</td>\n",
       "      <td>59</td>\n",
       "      <td>87</td>\n",
       "      <td>22</td>\n",
       "      <td>6.390</td>\n",
       "    </tr>\n",
       "    <tr>\n",
       "      <th>1</th>\n",
       "      <td>211515</td>\n",
       "      <td>Baptiste Santamaria</td>\n",
       "      <td>DM, M/AM (C)</td>\n",
       "      <td>28</td>\n",
       "      <td>183 cm</td>\n",
       "      <td>81 kg</td>\n",
       "      <td>-</td>\n",
       "      <td>Rennes</td>\n",
       "      <td>Ligue 1 Uber Eats</td>\n",
       "      <td>FRA</td>\n",
       "      <td>-</td>\n",
       "      <td>Resolute</td>\n",
       "      <td>Level-headed</td>\n",
       "      <td>$16,000 p/w</td>\n",
       "      <td>$10M - $12.5M</td>\n",
       "      <td>-</td>\n",
       "      <td>Right</td>\n",
       "      <td>20</td>\n",
       "      <td>1741</td>\n",
       "      <td>6.87</td>\n",
       "      <td>1</td>\n",
       "      <td>82.90</td>\n",
       "      <td>1</td>\n",
       "      <td>73.56</td>\n",
       "      <td>66.07</td>\n",
       "      <td>90</td>\n",
       "      <td>8.27</td>\n",
       "      <td>11.24</td>\n",
       "      <td>1.03</td>\n",
       "      <td>1.41</td>\n",
       "      <td>0.98</td>\n",
       "      <td>1.34</td>\n",
       "      <td>0.07</td>\n",
       "      <td>0.05</td>\n",
       "      <td>12.25</td>\n",
       "      <td>3.31</td>\n",
       "      <td>27.00</td>\n",
       "      <td>8.22</td>\n",
       "      <td>9.15</td>\n",
       "      <td>-0.93</td>\n",
       "      <td>-10.16</td>\n",
       "      <td>4.03</td>\n",
       "      <td>2.95</td>\n",
       "      <td>73</td>\n",
       "      <td>1.09</td>\n",
       "      <td>0.00</td>\n",
       "      <td>2.36</td>\n",
       "      <td>1.71</td>\n",
       "      <td>0.47</td>\n",
       "      <td>0.26</td>\n",
       "      <td>3.67</td>\n",
       "      <td>1.09</td>\n",
       "      <td>29.58</td>\n",
       "      <td>2.58</td>\n",
       "      <td>70.42</td>\n",
       "      <td>0.10</td>\n",
       "      <td>3.67</td>\n",
       "      <td>52.35</td>\n",
       "      <td>0.47</td>\n",
       "      <td>1.71</td>\n",
       "      <td>0.72</td>\n",
       "      <td>13.79</td>\n",
       "      <td>1.12</td>\n",
       "      <td>1.19</td>\n",
       "      <td>11.02</td>\n",
       "      <td>3.36</td>\n",
       "      <td>47</td>\n",
       "      <td>100</td>\n",
       "      <td>38</td>\n",
       "      <td>63</td>\n",
       "      <td>47</td>\n",
       "      <td>28</td>\n",
       "      <td>18</td>\n",
       "      <td>40</td>\n",
       "      <td>29</td>\n",
       "      <td>32</td>\n",
       "      <td>19</td>\n",
       "      <td>6</td>\n",
       "      <td>31</td>\n",
       "      <td>26</td>\n",
       "      <td>20</td>\n",
       "      <td>13.500</td>\n",
       "    </tr>\n",
       "    <tr>\n",
       "      <th>2</th>\n",
       "      <td>219033</td>\n",
       "      <td>Alasana Manneh</td>\n",
       "      <td>DM, M (C)</td>\n",
       "      <td>25</td>\n",
       "      <td>176 cm</td>\n",
       "      <td>72 kg</td>\n",
       "      <td>-</td>\n",
       "      <td>OB</td>\n",
       "      <td>3F Superliga</td>\n",
       "      <td>GAM</td>\n",
       "      <td>-</td>\n",
       "      <td>-</td>\n",
       "      <td>Scouting Required</td>\n",
       "      <td>$5,500 p/w</td>\n",
       "      <td>$800K - $1.8M</td>\n",
       "      <td>-</td>\n",
       "      <td>Left</td>\n",
       "      <td>17</td>\n",
       "      <td>1507</td>\n",
       "      <td>6.98</td>\n",
       "      <td>0</td>\n",
       "      <td>88.65</td>\n",
       "      <td>2</td>\n",
       "      <td>81.16</td>\n",
       "      <td>73.64</td>\n",
       "      <td>91</td>\n",
       "      <td>6.81</td>\n",
       "      <td>8.39</td>\n",
       "      <td>1.07</td>\n",
       "      <td>1.32</td>\n",
       "      <td>0.90</td>\n",
       "      <td>1.10</td>\n",
       "      <td>0.42</td>\n",
       "      <td>0.42</td>\n",
       "      <td>9.91</td>\n",
       "      <td>2.33</td>\n",
       "      <td>23.49</td>\n",
       "      <td>6.99</td>\n",
       "      <td>10.51</td>\n",
       "      <td>-3.52</td>\n",
       "      <td>-33.49</td>\n",
       "      <td>2.39</td>\n",
       "      <td>1.43</td>\n",
       "      <td>60</td>\n",
       "      <td>0.96</td>\n",
       "      <td>0.06</td>\n",
       "      <td>3.08</td>\n",
       "      <td>1.37</td>\n",
       "      <td>0.42</td>\n",
       "      <td>0.30</td>\n",
       "      <td>1.85</td>\n",
       "      <td>0.42</td>\n",
       "      <td>22.58</td>\n",
       "      <td>1.43</td>\n",
       "      <td>77.42</td>\n",
       "      <td>0.00</td>\n",
       "      <td>1.85</td>\n",
       "      <td>43.66</td>\n",
       "      <td>1.02</td>\n",
       "      <td>0.78</td>\n",
       "      <td>0.90</td>\n",
       "      <td>12.94</td>\n",
       "      <td>1.07</td>\n",
       "      <td>1.67</td>\n",
       "      <td>7.62</td>\n",
       "      <td>2.75</td>\n",
       "      <td>87</td>\n",
       "      <td>100</td>\n",
       "      <td>7</td>\n",
       "      <td>67</td>\n",
       "      <td>85</td>\n",
       "      <td>70</td>\n",
       "      <td>58</td>\n",
       "      <td>77</td>\n",
       "      <td>47</td>\n",
       "      <td>68</td>\n",
       "      <td>50</td>\n",
       "      <td>55</td>\n",
       "      <td>2</td>\n",
       "      <td>2</td>\n",
       "      <td>76</td>\n",
       "      <td>1.560</td>\n",
       "    </tr>\n",
       "    <tr>\n",
       "      <th>3</th>\n",
       "      <td>12021720</td>\n",
       "      <td>Jean Michaël Séri</td>\n",
       "      <td>DM, M (C)</td>\n",
       "      <td>32</td>\n",
       "      <td>168 cm</td>\n",
       "      <td>69 kg</td>\n",
       "      <td>-</td>\n",
       "      <td>Hull</td>\n",
       "      <td>Sky Bet Championship</td>\n",
       "      <td>CIV</td>\n",
       "      <td>-</td>\n",
       "      <td>-</td>\n",
       "      <td>Scouting Required</td>\n",
       "      <td>$27,500 p/w</td>\n",
       "      <td>$325K - $3.2M</td>\n",
       "      <td>-</td>\n",
       "      <td>Right</td>\n",
       "      <td>15</td>\n",
       "      <td>1379</td>\n",
       "      <td>6.79</td>\n",
       "      <td>5</td>\n",
       "      <td>68.95</td>\n",
       "      <td>3</td>\n",
       "      <td>56.78</td>\n",
       "      <td>50.51</td>\n",
       "      <td>89</td>\n",
       "      <td>5.81</td>\n",
       "      <td>10.23</td>\n",
       "      <td>2.22</td>\n",
       "      <td>3.91</td>\n",
       "      <td>1.04</td>\n",
       "      <td>1.84</td>\n",
       "      <td>0.46</td>\n",
       "      <td>0.46</td>\n",
       "      <td>7.83</td>\n",
       "      <td>2.68</td>\n",
       "      <td>34.17</td>\n",
       "      <td>7.24</td>\n",
       "      <td>9.01</td>\n",
       "      <td>-1.77</td>\n",
       "      <td>-19.64</td>\n",
       "      <td>2.48</td>\n",
       "      <td>1.63</td>\n",
       "      <td>66</td>\n",
       "      <td>0.85</td>\n",
       "      <td>0.13</td>\n",
       "      <td>2.53</td>\n",
       "      <td>1.37</td>\n",
       "      <td>0.26</td>\n",
       "      <td>0.13</td>\n",
       "      <td>1.89</td>\n",
       "      <td>0.26</td>\n",
       "      <td>13.79</td>\n",
       "      <td>1.63</td>\n",
       "      <td>86.21</td>\n",
       "      <td>0.00</td>\n",
       "      <td>1.89</td>\n",
       "      <td>43.28</td>\n",
       "      <td>0.33</td>\n",
       "      <td>0.98</td>\n",
       "      <td>0.65</td>\n",
       "      <td>13.37</td>\n",
       "      <td>1.68</td>\n",
       "      <td>1.63</td>\n",
       "      <td>8.11</td>\n",
       "      <td>3.65</td>\n",
       "      <td>38</td>\n",
       "      <td>100</td>\n",
       "      <td>3</td>\n",
       "      <td>66</td>\n",
       "      <td>59</td>\n",
       "      <td>79</td>\n",
       "      <td>79</td>\n",
       "      <td>69</td>\n",
       "      <td>73</td>\n",
       "      <td>69</td>\n",
       "      <td>83</td>\n",
       "      <td>50</td>\n",
       "      <td>1</td>\n",
       "      <td>4</td>\n",
       "      <td>31</td>\n",
       "      <td>2.115</td>\n",
       "    </tr>\n",
       "    <tr>\n",
       "      <th>4</th>\n",
       "      <td>12080051</td>\n",
       "      <td>Pape Matar Sarr</td>\n",
       "      <td>DM, M (C)</td>\n",
       "      <td>21</td>\n",
       "      <td>184 cm</td>\n",
       "      <td>70 kg</td>\n",
       "      <td>-</td>\n",
       "      <td>Tottenham</td>\n",
       "      <td>Premier League</td>\n",
       "      <td>SEN</td>\n",
       "      <td>-</td>\n",
       "      <td>Spirited</td>\n",
       "      <td>Unflappable, Media-friendly</td>\n",
       "      <td>$100,000 p/w</td>\n",
       "      <td>$91M - $110M</td>\n",
       "      <td>-</td>\n",
       "      <td>Right</td>\n",
       "      <td>18</td>\n",
       "      <td>1524</td>\n",
       "      <td>6.94</td>\n",
       "      <td>0</td>\n",
       "      <td>84.67</td>\n",
       "      <td>4</td>\n",
       "      <td>65.79</td>\n",
       "      <td>57.64</td>\n",
       "      <td>88</td>\n",
       "      <td>8.33</td>\n",
       "      <td>12.66</td>\n",
       "      <td>1.48</td>\n",
       "      <td>2.24</td>\n",
       "      <td>1.48</td>\n",
       "      <td>2.24</td>\n",
       "      <td>1.56</td>\n",
       "      <td>0.59</td>\n",
       "      <td>11.16</td>\n",
       "      <td>3.43</td>\n",
       "      <td>30.69</td>\n",
       "      <td>8.68</td>\n",
       "      <td>9.33</td>\n",
       "      <td>-0.65</td>\n",
       "      <td>-6.97</td>\n",
       "      <td>3.13</td>\n",
       "      <td>2.72</td>\n",
       "      <td>87</td>\n",
       "      <td>0.41</td>\n",
       "      <td>0.06</td>\n",
       "      <td>2.94</td>\n",
       "      <td>2.07</td>\n",
       "      <td>0.30</td>\n",
       "      <td>0.12</td>\n",
       "      <td>4.55</td>\n",
       "      <td>1.65</td>\n",
       "      <td>36.36</td>\n",
       "      <td>2.89</td>\n",
       "      <td>63.64</td>\n",
       "      <td>0.30</td>\n",
       "      <td>4.55</td>\n",
       "      <td>56.92</td>\n",
       "      <td>0.41</td>\n",
       "      <td>1.06</td>\n",
       "      <td>0.65</td>\n",
       "      <td>14.00</td>\n",
       "      <td>2.20</td>\n",
       "      <td>2.42</td>\n",
       "      <td>13.25</td>\n",
       "      <td>4.67</td>\n",
       "      <td>65</td>\n",
       "      <td>100</td>\n",
       "      <td>51</td>\n",
       "      <td>90</td>\n",
       "      <td>72</td>\n",
       "      <td>81</td>\n",
       "      <td>84</td>\n",
       "      <td>62</td>\n",
       "      <td>79</td>\n",
       "      <td>59</td>\n",
       "      <td>88</td>\n",
       "      <td>57</td>\n",
       "      <td>61</td>\n",
       "      <td>62</td>\n",
       "      <td>57</td>\n",
       "      <td>120.600</td>\n",
       "    </tr>\n",
       "  </tbody>\n",
       "</table>\n",
       "</div>"
      ],
      "text/plain": [
       "         id                 name      position  age  height weight inf  \\\n",
       "0    211232        Djéné Dakonam    D (RC), DM   31  178 cm  71 kg   -   \n",
       "1    211515  Baptiste Santamaria  DM, M/AM (C)   28  183 cm  81 kg   -   \n",
       "2    219033       Alasana Manneh     DM, M (C)   25  176 cm  72 kg   -   \n",
       "3  12021720    Jean Michaël Séri     DM, M (C)   32  168 cm  69 kg   -   \n",
       "4  12080051      Pape Matar Sarr     DM, M (C)   21  184 cm  70 kg   -   \n",
       "\n",
       "        club              division nationality home_grown personality  \\\n",
       "0     Getafe      LaLiga EA Sports   TOG (BEN)          -           -   \n",
       "1     Rennes     Ligue 1 Uber Eats         FRA          -    Resolute   \n",
       "2         OB          3F Superliga         GAM          -           -   \n",
       "3       Hull  Sky Bet Championship         CIV          -           -   \n",
       "4  Tottenham        Premier League         SEN          -    Spirited   \n",
       "\n",
       "                media_handling          wage  transfer_value asking_price  \\\n",
       "0            Scouting Required   $20,500 p/w  $150K - $10.5M            -   \n",
       "1                 Level-headed   $16,000 p/w   $10M - $12.5M            -   \n",
       "2            Scouting Required    $5,500 p/w   $800K - $1.8M            -   \n",
       "3            Scouting Required   $27,500 p/w   $325K - $3.2M            -   \n",
       "4  Unflappable, Media-friendly  $100,000 p/w    $91M - $110M            -   \n",
       "\n",
       "  preferred_foot  starts  minutes_played  average_rating  sub_appearances  \\\n",
       "0          Right      17            1496            6.56                0   \n",
       "1          Right      20            1741            6.87                1   \n",
       "2           Left      17            1507            6.98                0   \n",
       "3          Right      15            1379            6.79                5   \n",
       "4          Right      18            1524            6.94                0   \n",
       "\n",
       "   minutes/game  index  passes_attempted/90  passes_completed/90  \\\n",
       "0         88.00      0                43.38                38.08   \n",
       "1         82.90      1                73.56                66.07   \n",
       "2         88.65      2                81.16                73.64   \n",
       "3         68.95      3                56.78                50.51   \n",
       "4         84.67      4                65.79                57.64   \n",
       "\n",
       "   pass_completion_%  progressive_passes/90  progressive_pass_rate  \\\n",
       "0                 88                   4.03                   9.29   \n",
       "1                 90                   8.27                  11.24   \n",
       "2                 91                   6.81                   8.39   \n",
       "3                 89                   5.81                  10.23   \n",
       "4                 88                   8.33                  12.66   \n",
       "\n",
       "   key_passes/90  key_pass_%  open_play_key_passes/90  open_play_key_pass_%  \\\n",
       "0           0.48        1.11                     0.48                  1.11   \n",
       "1           1.03        1.41                     0.98                  1.34   \n",
       "2           1.07        1.32                     0.90                  1.10   \n",
       "3           2.22        3.91                     1.04                  1.84   \n",
       "4           1.48        2.24                     1.48                  2.24   \n",
       "\n",
       "   chances_created/90  clear_cut_chances_created/90  pressures_attempted/90  \\\n",
       "0                0.12                          0.12                    8.18   \n",
       "1                0.07                          0.05                   12.25   \n",
       "2                0.42                          0.42                    9.91   \n",
       "3                0.46                          0.46                    7.83   \n",
       "4                1.56                          0.59                   11.16   \n",
       "\n",
       "   pressures_completed/90  pressure_success_%  possession_won/90  \\\n",
       "0                    2.47               30.15              11.37   \n",
       "1                    3.31               27.00               8.22   \n",
       "2                    2.33               23.49               6.99   \n",
       "3                    2.68               34.17               7.24   \n",
       "4                    3.43               30.69               8.68   \n",
       "\n",
       "   possession_lost/90  poss+_/90  poss+__%  tackles_attempted/90  \\\n",
       "0                6.98       4.39     62.89                  3.73   \n",
       "1                9.15      -0.93    -10.16                  4.03   \n",
       "2               10.51      -3.52    -33.49                  2.39   \n",
       "3                9.01      -1.77    -19.64                  2.48   \n",
       "4                9.33      -0.65     -6.97                  3.13   \n",
       "\n",
       "   tackles_completed/90  tackle_completion_%  tackles_failed/90  \\\n",
       "0                  3.07                   82               0.66   \n",
       "1                  2.95                   73               1.09   \n",
       "2                  1.43                   60               0.96   \n",
       "3                  1.63                   66               0.85   \n",
       "4                  2.72                   87               0.41   \n",
       "\n",
       "   key_tackles/90  tackle_quality  interceptions/90  blocks/90  \\\n",
       "0            0.24            2.07              1.93       0.78   \n",
       "1            0.00            2.36              1.71       0.47   \n",
       "2            0.06            3.08              1.37       0.42   \n",
       "3            0.13            2.53              1.37       0.26   \n",
       "4            0.06            2.94              2.07       0.30   \n",
       "\n",
       "   shots_blocked/90  headers_attempted/90  headers_won/90  headers_won_%  \\\n",
       "0              0.42                  3.79            2.35          61.90   \n",
       "1              0.26                  3.67            1.09          29.58   \n",
       "2              0.30                  1.85            0.42          22.58   \n",
       "3              0.13                  1.89            0.26          13.79   \n",
       "4              0.12                  4.55            1.65          36.36   \n",
       "\n",
       "   headers_lost/90  headers_lost_%  key_headers/90  \\\n",
       "0             1.44           38.10            0.24   \n",
       "1             2.58           70.42            0.10   \n",
       "2             1.43           77.42            0.00   \n",
       "3             1.63           86.21            0.00   \n",
       "4             2.89           63.64            0.30   \n",
       "\n",
       "   aerial_challenges_attempted/90  duels_win_%  fouls_won/90  \\\n",
       "0                            3.79        72.00          0.24   \n",
       "1                            3.67        52.35          0.47   \n",
       "2                            1.85        43.66          1.02   \n",
       "3                            1.89        43.28          0.33   \n",
       "4                            4.55        56.92          0.41   \n",
       "\n",
       "   fouls_committed/90  clearances/90  distance_covered/90  \\\n",
       "0                1.80           1.56                12.57   \n",
       "1                1.71           0.72                13.79   \n",
       "2                0.78           0.90                12.94   \n",
       "3                0.98           0.65                13.37   \n",
       "4                1.06           0.65                14.00   \n",
       "\n",
       "   attacking_actions/90  creative_actions/90  defensive_actions/90  \\\n",
       "0                  0.59                 0.78                 16.00   \n",
       "1                  1.12                 1.19                 11.02   \n",
       "2                  1.07                 1.67                  7.62   \n",
       "3                  1.68                 1.63                  8.11   \n",
       "4                  2.20                 2.42                 13.25   \n",
       "\n",
       "   excitement_factor/90  general_performance  goalkeeping  defensive_defender  \\\n",
       "0                  2.29                    9          100                  98   \n",
       "1                  3.36                   47          100                  38   \n",
       "2                  2.75                   87          100                   7   \n",
       "3                  3.65                   38          100                   3   \n",
       "4                  4.67                   65          100                  51   \n",
       "\n",
       "   creative_defender  attacking_defender  creative_midfielder  \\\n",
       "0                  6                   6                    2   \n",
       "1                 63                  47                   28   \n",
       "2                 67                  85                   70   \n",
       "3                 66                  59                   79   \n",
       "4                 90                  72                   81   \n",
       "\n",
       "   attacking_midfielder  creative_winger  attacking_winger  creative_forward  \\\n",
       "0                     5                3                 7                 4   \n",
       "1                    18               40                29                32   \n",
       "2                    58               77                47                68   \n",
       "3                    79               69                73                69   \n",
       "4                    84               62                79                59   \n",
       "\n",
       "   attacking_forward  finisher  aerial_threat  reader  assister  \\\n",
       "0                  6         7             59      87        22   \n",
       "1                 19         6             31      26        20   \n",
       "2                 50        55              2       2        76   \n",
       "3                 83        50              1       4        31   \n",
       "4                 88        57             61      62        57   \n",
       "\n",
       "   price_estimate_M  \n",
       "0             6.390  \n",
       "1            13.500  \n",
       "2             1.560  \n",
       "3             2.115  \n",
       "4           120.600  "
      ]
     },
     "execution_count": 3,
     "metadata": {},
     "output_type": "execute_result"
    }
   ],
   "source": [
    "# Get transfer valuation estimation\n",
    "def parse_transfer_value(val):\n",
    "    if pd.isnull(val):\n",
    "        return None\n",
    "\n",
    "    # Remove dollar signs and spaces\n",
    "    val = val.replace('$', '').replace(' ', '')\n",
    "\n",
    "    # If it's a range like \"850K-8.4M\"\n",
    "    if '-' in val:\n",
    "        low_str, high_str = val.split('-')\n",
    "        low = parse_single_value(low_str)\n",
    "        high = parse_single_value(high_str)\n",
    "        if low is not None and high is not None:\n",
    "            return (low + high) * (6/10)\n",
    "    else:\n",
    "        return parse_single_value(val)\n",
    "\n",
    "    return None  # fallback\n",
    "\n",
    "def parse_single_value(s):\n",
    "    try:\n",
    "        if s.endswith('M'):\n",
    "            return float(s[:-1]) * 1_000_000\n",
    "        elif s.endswith('K'):\n",
    "            return float(s[:-1]) * 1_000\n",
    "        else:\n",
    "            return float(s)  # just in case it's a plain number\n",
    "    except:\n",
    "        return None\n",
    "\n",
    "# Apply to your DataFrame\n",
    "df_players['price_estimate_M'] = df_players['transfer_value'].apply(parse_transfer_value) / 1000000\n",
    "\n",
    "df_players.head()"
   ]
  },
  {
   "cell_type": "markdown",
   "id": "e917f304",
   "metadata": {},
   "source": [
    "## Plot function"
   ]
  },
  {
   "cell_type": "code",
   "execution_count": 5,
   "id": "f94ec5bb",
   "metadata": {},
   "outputs": [],
   "source": [
    "def scatter_plot(df, x_metric, y_metric, z_metric, \n",
    "                 title, show_color_bar=False, show_name_label=True): \n",
    "    # Set text to 'name' if show_name_label is True, else empty string\n",
    "    text_col = 'name' if show_name_label else None\n",
    "\n",
    "    # Create plotly figure\n",
    "    fig = px.scatter(\n",
    "        df,\n",
    "        x=x_metric,\n",
    "        y=y_metric,\n",
    "        color=z_metric,\n",
    "        text=text_col,\n",
    "        color_continuous_scale='RdYlGn',\n",
    "        labels={z_metric: f'Color Scale ({z_metric})'},\n",
    "        title=title,\n",
    "        width=1200, \n",
    "        height=700    \n",
    "    )\n",
    "\n",
    "    # Format traces\n",
    "    fig.update_traces(\n",
    "        marker=dict(size=10), \n",
    "        textposition='top center',\n",
    "        textfont=dict(size=10),\n",
    "        customdata=df[['name', 'club']],  # Always pass 'name' for hovertemplate\n",
    "        hovertemplate=(\n",
    "            \"<b>%{customdata[0]}</b><br>\" +\n",
    "            \"<b>%{customdata[1]}</b><br><br>\" +\n",
    "            f\"{x_metric}: \" + \"%{x}<br>\" +\n",
    "            f\"{y_metric}: \" + \"%{y}<br>\" +\n",
    "            f\"{z_metric}: \" + \"%{marker.color}<extra></extra>\"\n",
    "        )\n",
    "    )\n",
    "\n",
    "    fig.update_layout(\n",
    "        title={\n",
    "            'text': f'{title} ({len(df): ,.0f})',\n",
    "            'x': 0.5,\n",
    "            'xanchor': 'center'\n",
    "        },\n",
    "        coloraxis_colorbar=dict(title=z_metric),\n",
    "        coloraxis_showscale=show_color_bar,  # Show or hide the color bar\n",
    "        plot_bgcolor='white',\n",
    "        paper_bgcolor='white',\n",
    "        xaxis=dict(showgrid=True, gridcolor='lightgray', zeroline=False),\n",
    "        yaxis=dict(showgrid=True, gridcolor='lightgray', zeroline=False)\n",
    "    )\n",
    "\n",
    "    fig.show()\n"
   ]
  },
  {
   "cell_type": "markdown",
   "id": "22683d93",
   "metadata": {},
   "source": [
    "## Passing analysis"
   ]
  },
  {
   "cell_type": "markdown",
   "id": "5c2da36b",
   "metadata": {},
   "source": [
    "### Full universe"
   ]
  },
  {
   "cell_type": "code",
   "execution_count": 6,
   "id": "c953fb7b",
   "metadata": {},
   "outputs": [
    {
     "data": {
      "application/vnd.plotly.v1+json": {
       "config": {
        "plotlyServerURL": "https://plot.ly"
       },
       "data": [
        {
         "customdata": [
          [
           "Djéné Dakonam",
           "Getafe"
          ],
          [
           "Baptiste Santamaria",
           "Rennes"
          ],
          [
           "Alasana Manneh",
           "OB"
          ],
          [
           "Jean Michaël Séri",
           "Hull"
          ],
          [
           "Pape Matar Sarr",
           "Tottenham"
          ],
          [
           "Houssem Mrezigue",
           "Vizela"
          ],
          [
           "Marvelous Nakamba",
           "Luton"
          ],
          [
           "Hamza Barry",
           "Vejle"
          ],
          [
           "Jean-Eudes Aholou",
           "Strasbourg"
          ],
          [
           "Rominigue Kouamé",
           "Cádiz"
          ],
          [
           "Yves Bissouma",
           "Tottenham"
          ],
          [
           "Pathé Ciss",
           "Rayo Vallecano"
          ],
          [
           "Cheick Doucouré",
           "Crystal Palace"
          ],
          [
           "Edmond Tapsoba",
           "Bayer 04"
          ],
          [
           "Hicham Boudaoui",
           "Nice"
          ],
          [
           "Guillermo Fernández",
           "Boca"
          ],
          [
           "Facundo Quignón",
           "Belgrano"
          ],
          [
           "Gonzalo Escalante",
           "Cádiz"
          ],
          [
           "Leandro Paredes",
           "Roma"
          ],
          [
           "Rodrigo Battaglia",
           "ATM"
          ],
          [
           "Gastón Campi",
           "San Lorenzo"
          ],
          [
           "Fernando Zuqui",
           "Estudiantes (LP)"
          ],
          [
           "Matías Kranevitter",
           "River"
          ],
          [
           "Guido Rodríguez",
           "Real Betis"
          ],
          [
           "Lucas Romero",
           "CEC"
          ],
          [
           "Jonathan Galván",
           "Argentinos Jrs."
          ],
          [
           "Walter Montoya",
           "Central Córdoba (SdE)"
          ],
          [
           "Julián Fernández",
           "Newell's"
          ],
          [
           "Rodrigo Aliendro",
           "River"
          ],
          [
           "Nicolás Tripichio",
           "Defensa y Justicia"
          ],
          [
           "Leonel Miranda",
           "Racing Club"
          ],
          [
           "Nicolás Domínguez",
           "Nottm Forest"
          ],
          [
           "Iván Rossi",
           "Argentinos Jrs."
          ],
          [
           "Eric Remedi",
           "San Lorenzo"
          ],
          [
           "Agustín Bolívar",
           "Gimnasia (LP)"
          ],
          [
           "Exequiel Palacios",
           "Bayer 04"
          ],
          [
           "Alexis Soto",
           "Defensa y Justicia"
          ],
          [
           "Santiago Ascacíbar",
           "Estudiantes (LP)"
          ],
          [
           "Franco Moyano",
           "Argentinos Jrs."
          ],
          [
           "Cristian Vega",
           "Colón"
          ],
          [
           "Leonel Picco",
           "Platense"
          ],
          [
           "Mauro Pittón",
           "Unión (SF)"
          ],
          [
           "Alexis Mac Allister",
           "Liverpool"
          ],
          [
           "Juan Ignacio Méndez",
           "Vélez"
          ],
          [
           "Carlos Villalba",
           "Platense"
          ],
          [
           "Fabián Henríquez",
           "Colón"
          ],
          [
           "Fernando Juárez",
           "Platense"
          ],
          [
           "Luciano Gómez",
           "Gimnasia (LP)"
          ],
          [
           "Agustín Cardozo",
           "Tigre"
          ],
          [
           "Joaquín Pereyra",
           "Atl. Tucumán"
          ],
          [
           "Fausto Vera",
           "COR"
          ],
          [
           "Juan Andrada",
           "Godoy Cruz"
          ],
          [
           "Facundo Mater",
           "Barracas Central"
          ],
          [
           "Santiago Sosa",
           "Racing Club"
          ],
          [
           "Juan Foyth",
           "Villarreal"
          ],
          [
           "Manuel Insaurralde",
           "Rosario Central"
          ],
          [
           "Adrián Sánchez",
           "Atl. Tucumán"
          ],
          [
           "Nicolás Linares",
           "Banfield"
          ],
          [
           "Nicolás Garayalde",
           "Vélez"
          ],
          [
           "Santiago Coronel",
           "Barracas Central"
          ],
          [
           "Aníbal Moreno",
           "SEP"
          ],
          [
           "Juan Sforza",
           "Newell's"
          ],
          [
           "Franco Ibarra",
           "Rosario Central"
          ],
          [
           "Andrés Ayala",
           "Arsenal (Sarandí)"
          ],
          [
           "Julián López",
           "Defensa y Justicia"
          ],
          [
           "Enzo Barrenechea",
           "Frosinone"
          ],
          [
           "Camilo Albornoz",
           "Atl. Tucumán"
          ],
          [
           "Diego Calcaterra",
           "Sarmiento (Junín)"
          ],
          [
           "Damián Fernández",
           "Vélez"
          ],
          [
           "Francisco Perruzzi",
           "San Lorenzo"
          ],
          [
           "Rodrigo Villagra",
           "River"
          ],
          [
           "Kevin Vázquez",
           "Central Córdoba (SdE)"
          ],
          [
           "Mateo Cáceres",
           "Tigre"
          ],
          [
           "Bautista Kociubinski",
           "Estudiantes (LP)"
          ],
          [
           "Franco Romero",
           "Defensa y Justicia"
          ],
          [
           "Juan Carlos Portillo",
           "Talleres"
          ],
          [
           "Enzo Fernández",
           "Chelsea"
          ],
          [
           "Agustín Toledo",
           "Huracán"
          ],
          [
           "Rodrigo Herrera",
           "Barracas Central"
          ],
          [
           "Mateo Seoane",
           "Talleres"
          ],
          [
           "Mateo Tanlongo",
           "Rio Ave"
          ],
          [
           "Maico Quiroz",
           "Sarmiento (Junín)"
          ],
          [
           "Santiago Longo",
           "Belgrano"
          ],
          [
           "Alan Varela",
           "FC Porto"
          ],
          [
           "Ulises Ortegoza",
           "Talleres"
          ],
          [
           "Juan Ignacio Nardoni",
           "Racing Club"
          ],
          [
           "Bruno Leyes",
           "Godoy Cruz"
          ],
          [
           "Patricio Tanda",
           "Unión (SF)"
          ],
          [
           "Ezequiel Fernández",
           "Boca"
          ],
          [
           "Leandro Figueredo",
           "Huracán"
          ],
          [
           "Zaid Romero",
           "Estudiantes (LP)"
          ],
          [
           "Ignacio Miramón",
           "Lille"
          ],
          [
           "Marcel Sabitzer",
           "Borussia Dortmund"
          ],
          [
           "Florian Grillitsch",
           "TSG Hoffenheim"
          ],
          [
           "Konrad Laimer",
           "FC Bayern"
          ],
          [
           "Xaver Schlager",
           "RB Leipzig"
          ],
          [
           "Dejan Ljubičić",
           "FC Köln"
          ],
          [
           "Amadou Haïdara",
           "RB Leipzig"
          ],
          [
           "Dominik Szoboszlai",
           "Liverpool"
          ],
          [
           "Chancel Mbemba",
           "Marseille"
          ],
          [
           "Youri Tielemans",
           "Aston Villa"
          ],
          [
           "Dario Van Den Buijs",
           "RKC Waalwijk"
          ],
          [
           "Arno Verschueren",
           "Sparta Rotterdam"
          ],
          [
           "Casper De Norre",
           "Millwall"
          ],
          [
           "Siebe Horemans",
           "Excelsior"
          ],
          [
           "Albert Sambi Lokonga",
           "Luton"
          ],
          [
           "Edo Kayembe",
           "Watford"
          ],
          [
           "Wellington",
           "GOI"
          ],
          [
           "Casemiro",
           "Man Utd"
          ],
          [
           "Dener",
           "Portimonense"
          ],
          [
           "Edson",
           "GOI"
          ],
          [
           "Fabrício Isidoro",
           "Sp. Farense"
          ],
          [
           "Filipe Augusto",
           "CUI"
          ],
          [
           "Lucas Silva",
           "CEC"
          ],
          [
           "Néris",
           "CEC"
          ],
          [
           "Marquinhos",
           "PSG"
          ],
          [
           "Alison",
           "SAN"
          ],
          [
           "Zé Rafael",
           "SEP"
          ],
          [
           "Walace",
           "Udinese"
          ],
          [
           "Diego Carlos",
           "Aston Villa"
          ],
          [
           "Jair",
           "Vasco da Gama"
          ],
          [
           "Danilo Barbosa",
           "BOT"
          ],
          [
           "Yago Felipe",
           "BAH"
          ],
          [
           "Zé Welison",
           "FOR"
          ],
          [
           "Marlon Freitas",
           "BOT"
          ],
          [
           "Thiago Maia",
           "FLA"
          ],
          [
           "Maycon",
           "COR"
          ],
          [
           "Nathan",
           "GRE"
          ],
          [
           "Éder",
           "AMG"
          ],
          [
           "Otávio",
           "ATM"
          ],
          [
           "Lucas Paquetá",
           "West Ham"
          ],
          [
           "Thaciano",
           "BAH"
          ],
          [
           "Pepê",
           "GRE"
          ],
          [
           "Fernando Sobral",
           "CUI"
          ],
          [
           "Tchê Tchê",
           "BOT"
          ],
          [
           "Andrey",
           "CTB"
          ],
          [
           "Matheus Fernandes",
           "RB Bragantino"
          ],
          [
           "Jaílson",
           "Celta"
          ],
          [
           "Lima",
           "FLU"
          ],
          [
           "Arthur",
           "Fiorentina"
          ],
          [
           "Allan",
           "FLA"
          ],
          [
           "Diego Costa",
           "SPO"
          ],
          [
           "Nonato",
           "SAN"
          ],
          [
           "Matheus Henrique",
           "FLA"
          ],
          [
           "Pedro Augusto",
           "FOR"
          ],
          [
           "Hugo Moura",
           "Athlético Paranaense"
          ],
          [
           "Diego Pituca",
           "SAN"
          ],
          [
           "Rezende",
           "BAH"
          ],
          [
           "Luan",
           "SPO"
          ],
          [
           "Gabriel Sara",
           "Norwich"
          ],
          [
           "Bruno Guimarães",
           "Newcastle"
          ],
          [
           "Douglas Luiz",
           "Aston Villa"
          ],
          [
           "Machado",
           "CEC"
          ],
          [
           "Zé Gabriel",
           "Vasco da Gama"
          ],
          [
           "Ederson",
           "Napoli"
          ],
          [
           "Gabriel Menino",
           "SEP"
          ],
          [
           "De Lucca",
           "Vasco da Gama"
          ],
          [
           "Christian",
           "Athlético Paranaense"
          ],
          [
           "Jhonny Lucas",
           "GOI"
          ],
          [
           "Vitor Mendes",
           "FOR"
          ],
          [
           "Morato",
           "SL Benfica"
          ],
          [
           "Vinicius Balieiro",
           "SAN"
          ],
          [
           "Erick",
           "Athlético Paranaense"
          ],
          [
           "Edu",
           "GOI"
          ],
          [
           "Caio Alexandre",
           "BAH"
          ],
          [
           "Jadsom",
           "RB Bragantino"
          ],
          [
           "Fernando Henrique",
           "CEC"
          ],
          [
           "André",
           "FLU"
          ],
          [
           "Pablo Maia",
           "SPO"
          ],
          [
           "Bruno Gomes",
           "CTB"
          ],
          [
           "Fabinho",
           "SEP"
          ],
          [
           "Breno",
           "BOT"
          ],
          [
           "Richard Ríos",
           "SEP"
          ],
          [
           "Naves",
           "SEP"
          ],
          [
           "Martinelli",
           "FLU"
          ],
          [
           "Nermin Zolotić",
           "Casa Pia"
          ],
          [
           "Saeid Ezatolahi",
           "Vejle"
          ],
          [
           "Mateo Kovačić",
           "Man City"
          ],
          [
           "Josip Radošević",
           "Brøndby IF"
          ],
          [
           "Toma Bašić",
           "Salernitana"
          ],
          [
           "Kristijan Jakić",
           "Augsburg"
          ],
          [
           "Bartol Franjić",
           "Darmstadt 98"
          ],
          [
           "Mory Gbané",
           "Gil Vicente"
          ],
          [
           "Alex Král",
           "Union Berlin"
          ],
          [
           "Rasmus Falk",
           "FC København"
          ],
          [
           "Marcel Rømer",
           "Lyngby"
          ],
          [
           "Nicolai Poulsen",
           "AGF"
          ],
          [
           "Jeppe Grønning",
           "Viborg FF"
          ],
          [
           "Christian Nørgaard",
           "Brentford"
          ],
          [
           "Lukas Lerager",
           "FC København"
          ],
          [
           "Jeppe Tverskov",
           "FC Nordsjælland"
          ],
          [
           "Jonas Gemmer",
           "Hvidovre IF"
          ],
          [
           "Jakob Bonde",
           "Viborg FF"
          ],
          [
           "Mads Emil Madsen",
           "AGF"
          ],
          [
           "Mark Brink",
           "Silkeborg IF"
          ],
          [
           "Ahmed Iljazovski",
           "Hvidovre IF"
          ],
          [
           "Morten Hjulmand",
           "Sporting CP"
          ],
          [
           "Matty James",
           "Bristol City"
          ],
          [
           "Oliver Norwood",
           "Sheff Utd"
          ],
          [
           "Tom Cairney",
           "Fulham"
          ],
          [
           "Adam Forshaw",
           "Plymouth"
          ],
          [
           "Ryan Leonard",
           "Millwall"
          ],
          [
           "George Saville",
           "Millwall"
          ],
          [
           "Ross Barkley",
           "Luton"
          ],
          [
           "Joe Ralls",
           "Cardiff"
          ],
          [
           "John Stones",
           "Man City"
          ],
          [
           "Ben Pearson",
           "Stoke"
          ],
          [
           "Joe Rothwell",
           "Southampton"
          ],
          [
           "Paddy McNair",
           "Middlesbrough"
          ],
          [
           "Ruben Loftus-Cheek",
           "Milan"
          ],
          [
           "Jordan Houghton",
           "Plymouth"
          ],
          [
           "Nabil Bentaleb",
           "Lille"
          ],
          [
           "Lucas Evangelista",
           "RB Bragantino"
          ],
          [
           "Josh Cullen",
           "Burnley"
          ],
          [
           "Harry Winks",
           "Leicester"
          ],
          [
           "Joe Williams",
           "Bristol City"
          ],
          [
           "Josh Laurent",
           "Stoke"
          ],
          [
           "Ainsley Maitland-Niles",
           "Lyon"
          ],
          [
           "Ben Sheaf",
           "Coventry"
          ],
          [
           "Sean Longstaff",
           "Newcastle"
          ],
          [
           "Alfie Jones",
           "Hull"
          ],
          [
           "Sam Field",
           "QPR"
          ],
          [
           "Trent Alexander-Arnold",
           "Liverpool"
          ],
          [
           "Kiernan Dewsbury-Hall",
           "Leicester"
          ],
          [
           "Elliot Embleton",
           "Sunderland"
          ],
          [
           "Declan Rice",
           "Arsenal"
          ],
          [
           "Tom Dele-Bashiru",
           "Watford"
          ],
          [
           "Will Smallbone",
           "Southampton"
          ],
          [
           "Nnamdi Ofoborh",
           "Sheffield Wednesday"
          ],
          [
           "Eric García",
           "Girona"
          ],
          [
           "Haydon Roberts",
           "Bristol City"
          ],
          [
           "Pierre Ekwah",
           "Sunderland"
          ],
          [
           "Luke Cundle",
           "Stoke"
          ],
          [
           "Bashir Humphreys",
           "Swansea"
          ],
          [
           "Odel Offiah",
           "QPR"
          ],
          [
           "Joe Hodge",
           "QPR"
          ],
          [
           "Tyler Morton",
           "Hull"
          ],
          [
           "Sam Morsy",
           "Ipswich"
          ],
          [
           "Liam Palmer",
           "Sheffield Wednesday"
          ],
          [
           "Jack Stephens",
           "Southampton"
          ],
          [
           "Will Vaulks",
           "Sheffield Wednesday"
          ],
          [
           "James Ward-Prowse",
           "West Ham"
          ],
          [
           "Calum Chambers",
           "Aston Villa"
          ],
          [
           "Luke O'Nien",
           "Sunderland"
          ],
          [
           "Will Hughes",
           "Crystal Palace"
          ],
          [
           "Matt Grimes",
           "Swansea"
          ],
          [
           "Alex Mowatt",
           "West Brom"
          ],
          [
           "Ben Whiteman",
           "Preston"
          ],
          [
           "Josh Brownhill",
           "Burnley"
          ],
          [
           "Kalvin Phillips",
           "West Ham"
          ],
          [
           "Corentin Tolisso",
           "Lyon"
          ],
          [
           "Oliver Rathbone",
           "Rotherham"
          ],
          [
           "Scott McTominay",
           "Man Utd"
          ],
          [
           "Lewis Cook",
           "Bournemouth"
          ],
          [
           "Kenneth Paal",
           "QPR"
          ],
          [
           "Ryan Yates",
           "Nottm Forest"
          ],
          [
           "Joe Rankin-Costello",
           "Blackburn"
          ],
          [
           "Jayson Molumby",
           "West Brom"
          ],
          [
           "Flynn Downes",
           "Southampton"
          ],
          [
           "Lewis O'Brien",
           "Middlesbrough"
          ],
          [
           "Andy Rinomhota",
           "Rotherham"
          ],
          [
           "Melle Meulensteen",
           "Vitesse"
          ],
          [
           "Callum Styles",
           "Sunderland"
          ],
          [
           "David Kasumu",
           "Huddersfield"
          ],
          [
           "Ethan Ampadu",
           "Leeds"
          ],
          [
           "Jordan Holsgrove",
           "Estoril Praia"
          ],
          [
           "Regan Slater",
           "Hull"
          ],
          [
           "Adam Randell",
           "Plymouth"
          ],
          [
           "Hayden Hackney",
           "Middlesbrough"
          ],
          [
           "Dan Neil",
           "Sunderland"
          ],
          [
           "Taylor Gardner-Hickman",
           "Bristol City"
          ],
          [
           "Jude Bellingham",
           "Real Madrid"
          ],
          [
           "Manolis Siopis",
           "Cardiff"
          ],
          [
           "Jordy Clasie",
           "AZ"
          ],
          [
           "Marten de Roon",
           "Atalanta"
          ],
          [
           "Thomas Lam",
           "PEC Zwolle"
          ],
          [
           "Nathan Aké",
           "Man City"
          ],
          [
           "Sean Klaiber",
           "Brøndby IF"
          ],
          [
           "Branco van den Boomen",
           "Ajax"
          ],
          [
           "Wessel Dammers",
           "Randers FC"
          ],
          [
           "Damian van Bruggen",
           "Almere City"
          ],
          [
           "Juninho Bacuna",
           "Birmingham"
          ],
          [
           "Frenkie de Jong",
           "Barcelona"
          ],
          [
           "Joris Kramer",
           "Go Ahead Eagles"
          ],
          [
           "Stijn Spierings",
           "Toulouse"
          ],
          [
           "Django Warmerdam",
           "Sparta Rotterdam"
          ],
          [
           "Calvin Verdonk",
           "N.E.C. Nijmegen"
          ],
          [
           "Gustavo Hamer",
           "Sheff Utd"
          ],
          [
           "Noussair Mazraoui",
           "FC Bayern"
          ],
          [
           "Philippe Sandler",
           "N.E.C. Nijmegen"
          ],
          [
           "Azor Matusiwa",
           "Rennes"
          ],
          [
           "Mats Deijl",
           "Go Ahead Eagles"
          ],
          [
           "Pablo Rosario",
           "Nice"
          ],
          [
           "Jerdy Schouten",
           "PSV"
          ],
          [
           "Mees Hoedemakers",
           "N.E.C. Nijmegen"
          ],
          [
           "Teun Koopmeiners",
           "Atalanta"
          ],
          [
           "Jordan Teze",
           "PSV"
          ],
          [
           "Radinio Balker",
           "Huddersfield"
          ],
          [
           "Pascal Struijk",
           "Leeds"
          ],
          [
           "Jamal Amofa",
           "Go Ahead Eagles"
          ],
          [
           "Joey Veerman",
           "PSV"
          ],
          [
           "Wouter Burger",
           "Stoke"
          ],
          [
           "Quinten Timber",
           "Feyenoord"
          ],
          [
           "Michal Sadílek",
           "FC Twente"
          ],
          [
           "Sven Botman",
           "Newcastle"
          ],
          [
           "Peer Koopmeiners",
           "Almere City"
          ],
          [
           "Kenzo Goudmijn",
           "Excelsior"
          ],
          [
           "Lutsharel Geertruida",
           "Feyenoord"
          ],
          [
           "Tijjani Reijnders",
           "Milan"
          ],
          [
           "Mats Wieffer",
           "Feyenoord"
          ],
          [
           "Davy van den Berg",
           "PEC Zwolle"
          ],
          [
           "Ryan Gravenberch",
           "Leicester"
          ],
          [
           "Dirk Proper",
           "N.E.C. Nijmegen"
          ],
          [
           "Kenneth Taylor",
           "Ajax"
          ],
          [
           "Eliano Reijnders",
           "PEC Zwolle"
          ],
          [
           "Thomas Beelen",
           "Feyenoord"
          ],
          [
           "Nathan Tjoe-A-On",
           "sc Heerenveen"
          ],
          [
           "Mathijs Tielemans",
           "Vitesse"
          ],
          [
           "Youri Regeer",
           "FC Twente"
          ],
          [
           "Enzo Cornelisse",
           "Vitesse"
          ],
          [
           "Ryan Flamingo",
           "FC Utrecht"
          ],
          [
           "Calvin Twigt",
           "FC Volendam"
          ],
          [
           "Lamare Bogarde",
           "Preston"
          ],
          [
           "Julian Baas",
           "Excelsior"
          ],
          [
           "Serano Seymor",
           "Excelsior"
          ],
          [
           "András Schäfer",
           "Union Berlin"
          ],
          [
           "Kolbeinn Birgir Finnsson",
           "Lyngby"
          ],
          [
           "Pedro Obiang",
           "Sassuolo"
          ],
          [
           "Roberto Gagliardini",
           "Monza"
          ],
          [
           "Alfred Duncan",
           "Wolves"
          ],
          [
           "Bryan Cristante",
           "Roma"
          ],
          [
           "Luca Mazzitelli",
           "Frosinone"
          ],
          [
           "Lorenzo Pellegrini",
           "Roma"
          ],
          [
           "Nicolò Barella",
           "Inter"
          ],
          [
           "Matteo Pessina",
           "Monza"
          ],
          [
           "Rolando Mandragora",
           "Fiorentina"
          ],
          [
           "Manuel Locatelli",
           "Juventus"
          ],
          [
           "Daniel Boloca",
           "Sassuolo"
          ],
          [
           "Giulio Maggiore",
           "Salernitana"
          ],
          [
           "Tommaso Pobega",
           "Milan"
          ],
          [
           "Sandro Tonali",
           "Newcastle"
          ],
          [
           "Marco Brescianini",
           "Frosinone"
          ],
          [
           "Rodrigo Pérez",
           "Instituto"
          ],
          [
           "Nicolò Rovella",
           "Lazio"
          ],
          [
           "Rodrigo Guth",
           "Fortuna Sittard"
          ],
          [
           "Samuele Ricci",
           "Torino"
          ],
          [
           "Michel Ndary Adopo",
           "Atalanta"
          ],
          [
           "Wataru Endo",
           "Liverpool"
          ],
          [
           "Yuta Nakayama",
           "Huddersfield"
          ],
          [
           "Ko Itakura",
           "Mönchengladbach"
          ],
          [
           "Hidemasa Morita",
           "Sporting CP"
          ],
          [
           "André-Franck Zambo Anguissa",
           "Napoli"
          ],
          [
           "Olivier Boscagli",
           "PSV"
          ],
          [
           "Anthony Briançon",
           "Brest"
          ],
          [
           "Pierre Lees-Melou",
           "Brest"
          ],
          [
           "Mouctar Diakhaby",
           "Valencia"
          ],
          [
           "Lassana Coulibaly",
           "Salernitana"
          ],
          [
           "Ibrahima Sissoko",
           "Strasbourg"
          ],
          [
           "Matteo Guendouzi",
           "Lazio"
          ],
          [
           "Aurélien Tchouameni",
           "Real Madrid"
          ],
          [
           "Ibrahim Sangaré",
           "Nottm Forest"
          ],
          [
           "Boubacar Kamara",
           "Aston Villa"
          ],
          [
           "Hugo Magnetti",
           "Brest"
          ],
          [
           "Yacine Adli",
           "Milan"
          ],
          [
           "Boubakary Soumaré",
           "Sevilla"
          ],
          [
           "Teddy Teuma",
           "Stade Reims"
          ],
          [
           "Warmed Omari",
           "Rennes"
          ],
          [
           "Khephren Thuram",
           "Nice"
          ],
          [
           "Eric Junior Dina Ebimbe",
           "Eintracht Frankfurt"
          ],
          [
           "Moussa Diarra",
           "Toulouse"
          ],
          [
           "Youssouf Fofana",
           "Monaco"
          ],
          [
           "Manu Koné",
           "Mönchengladbach"
          ],
          [
           "Chrislain Matsima",
           "Clermont"
          ],
          [
           "Joris Chotard",
           "Montpellier"
          ],
          [
           "Tom Lacoux",
           "Famalicão"
          ],
          [
           "Eduardo Camavinga",
           "Real Madrid"
          ],
          [
           "Salis Abdul Samed",
           "Lens"
          ],
          [
           "Andy Diouf",
           "Lens"
          ],
          [
           "Edson Álvarez",
           "West Ham"
          ],
          [
           "Alan Browne",
           "Preston"
          ],
          [
           "Sondre Tronstad",
           "Blackburn"
          ],
          [
           "Fredrik Aursnes",
           "SL Benfica"
          ],
          [
           "Kristoffer Ajer",
           "Brentford"
          ],
          [
           "Kevin Martin Krygård",
           "Casa Pia"
          ],
          [
           "Mathias Kjølø",
           "FC Twente"
          ],
          [
           "Sivert Mannsverk",
           "Ajax"
          ],
          [
           "Magnus Nordengen Knudsen",
           "AGF"
          ],
          [
           "Fábio Cardoso",
           "FC Porto"
          ],
          [
           "Pedro Sá",
           "CF Estrela Amadora"
          ],
          [
           "Raphael Guzzo",
           "Desp. Chaves"
          ],
          [
           "Xeka",
           "Metz"
          ],
          [
           "João Palhinha",
           "Fulham"
          ],
          [
           "Stephen Eustáquio",
           "FC Porto"
          ],
          [
           "Răzvan Marin",
           "Empoli"
          ],
          [
           "Eboué Kouassi",
           "Arouca"
          ],
          [
           "Kal Naismith",
           "Bristol City"
          ],
          [
           "Kenny McLean",
           "Norwich"
          ],
          [
           "John McGinn",
           "Aston Villa"
          ],
          [
           "Lewis Ferguson",
           "Bologna"
          ],
          [
           "Billy Gilmour",
           "Brighton"
          ],
          [
           "Ali McCann",
           "Preston"
          ],
          [
           "Nemanja Gudelj",
           "Sevilla"
          ],
          [
           "Deni Hočko",
           "RKC Waalwijk"
          ],
          [
           "Nemanja Maksimović",
           "Getafe"
          ],
          [
           "Erhan Mašović",
           "VfL Bochum"
          ],
          [
           "Ilija Vukotić",
           "Boavista"
          ],
          [
           "Ivan Ilić",
           "Torino"
          ],
          [
           "Mirko Topić",
           "Famalicão"
          ],
          [
           "Stanislav Lobotka",
           "Napoli"
          ],
          [
           "Cafú Phete",
           "Desp. Chaves"
          ],
          [
           "Luke Le Roux",
           "FC Volendam"
          ],
          [
           "Koke",
           "Atlético"
          ],
          [
           "Sergi Roberto",
           "Barcelona"
          ],
          [
           "Saúl",
           "Atlético"
          ],
          [
           "Sergi Darder",
           "Mallorca"
          ],
          [
           "Antonio Raíllo",
           "Mallorca"
          ],
          [
           "Fali",
           "Cádiz"
          ],
          [
           "Jon Guridi",
           "Alavés"
          ],
          [
           "Lucas Torró",
           "Osasuna"
          ],
          [
           "Thomas Partey",
           "Arsenal"
          ],
          [
           "Anuar",
           "Vit. Guimarães"
          ],
          [
           "Pedro Chirivella",
           "Nantes"
          ],
          [
           "Aleix García",
           "Girona"
          ],
          [
           "Paik Seung-Ho",
           "Birmingham"
          ],
          [
           "Mikel Vesga",
           "Athletic"
          ],
          [
           "Marcos Llorente",
           "Atlético"
          ],
          [
           "Fede San Emeterio",
           "Cádiz"
          ],
          [
           "Gerard Gumbau",
           "Granada"
          ],
          [
           "Pepelu",
           "Valencia"
          ],
          [
           "Marc Roca",
           "Real Betis"
          ],
          [
           "Mikel Merino",
           "Real Sociedad"
          ],
          [
           "Óscar Valentín",
           "Rayo Vallecano"
          ],
          [
           "Fabián",
           "PSG"
          ],
          [
           "Rodri",
           "Man City"
          ],
          [
           "Santi Comesaña",
           "Villarreal"
          ],
          [
           "Keidi Bare",
           "Coventry"
          ],
          [
           "Fran Beltrán",
           "Celta"
          ],
          [
           "Iddrisu Baba",
           "Almería"
          ],
          [
           "Sergio Ruiz",
           "Granada"
          ],
          [
           "Edgar",
           "Almería"
          ],
          [
           "Ander Guevara",
           "Alavés"
          ],
          [
           "Martín Zubimendi",
           "Real Sociedad"
          ],
          [
           "Antonio Blanco",
           "Alavés"
          ],
          [
           "Dani Vivian",
           "Athletic"
          ],
          [
           "Hugo Guillamón",
           "Valencia"
          ],
          [
           "Jon Moncayola",
           "Osasuna"
          ],
          [
           "Rodrigo Zalazar",
           "Sp. Braga"
          ],
          [
           "Nico González",
           "FC Porto"
          ],
          [
           "Beñat Prados",
           "Athletic"
          ],
          [
           "Iker Muñoz",
           "Osasuna"
          ],
          [
           "Okay Yokuşlu",
           "West Brom"
          ],
          [
           "Youssouf Ndayishimiye",
           "Nice"
          ],
          [
           "Oleksandr Zinchenko",
           "Arsenal"
          ],
          [
           "Tyler Adams",
           "Bournemouth"
          ],
          [
           "Weston McKennie",
           "Juventus"
          ],
          [
           "Erick Pulgar",
           "FLA"
          ],
          [
           "Rodrigo Echeverría",
           "Huracán"
          ],
          [
           "Sebastián Pérez",
           "Boavista"
          ],
          [
           "Harrinson Mancilla",
           "Central Córdoba (SdE)"
          ],
          [
           "Raúl Loaiza",
           "Lanús"
          ],
          [
           "Jorman Campuzano",
           "Boca"
          ],
          [
           "Sebastián Gómez",
           "CTB"
          ],
          [
           "Jesús Castillo",
           "Gil Vicente"
          ],
          [
           "Nahitan Nández",
           "Cagliari"
          ],
          [
           "Felipe Carballo",
           "GRE"
          ],
          [
           "Federico Valverde",
           "Real Madrid"
          ],
          [
           "Rodrigo Fernández",
           "Newell's"
          ],
          [
           "Manuel Ugarte",
           "PSG"
          ],
          [
           "Gabriel Neves",
           "Independiente"
          ],
          [
           "Alan Rodríguez",
           "Argentinos Jrs."
          ],
          [
           "Yvo Calleros",
           "Banfield"
          ],
          [
           "Luciano Boggio",
           "Lanús"
          ],
          [
           "Nicolás Acevedo",
           "BAH"
          ],
          [
           "Emiliano Martínez",
           "FC Midtjylland"
          ],
          [
           "Walter Rodríguez",
           "Tigre"
          ],
          [
           "José Canale",
           "Lanús"
          ],
          [
           "Mathías Villasanti",
           "GRE"
          ],
          [
           "Matías Galarza",
           "Talleres"
          ],
          [
           "Guima",
           "Desp. Chaves"
          ],
          [
           "Aloísio Souza",
           "CF Estrela Amadora"
          ],
          [
           "Daniel Bragança",
           "Sporting CP"
          ],
          [
           "Paulo Estrela",
           "Portimonense"
          ],
          [
           "Cláudio Falcão",
           "Sp. Farense"
          ],
          [
           "Vitinha",
           "PSG"
          ],
          [
           "Tiago Dantas",
           "AZ"
          ],
          [
           "Tomás Ribeiro",
           "Vit. Guimarães"
          ],
          [
           "Jota",
           "Vizela"
          ],
          [
           "Samú",
           "Mallorca"
          ],
          [
           "Tomás Händel",
           "Vit. Guimarães"
          ],
          [
           "Dani",
           "Hellas Verona"
          ],
          [
           "Ibrahima Camará",
           "Boavista"
          ],
          [
           "Gonçalo Franco",
           "Moreirense"
          ],
          [
           "Manu Silva",
           "Vit. Guimarães"
          ],
          [
           "Jordan Ferri",
           "Montpellier"
          ],
          [
           "Nampalys Mendy",
           "Lens"
          ],
          [
           "Abdoulaye Doucouré",
           "Everton"
          ],
          [
           "Geoffrey Kondogbia",
           "Marseille"
          ],
          [
           "Jordan Veretout",
           "Marseille"
          ],
          [
           "Sanjin Prcić",
           "Strasbourg"
          ],
          [
           "Laurent Abergel",
           "Lorient"
          ],
          [
           "Abdoulaye Touré",
           "Havre AC"
          ],
          [
           "Nuke Mfulu",
           "Las Palmas"
          ],
          [
           "Valentin Rongier",
           "Marseille"
          ],
          [
           "Adrien Rabiot",
           "Juventus"
          ],
          [
           "Mario Lemina",
           "Wolves"
          ],
          [
           "Benjamin Bourigeaud",
           "Rennes"
          ],
          [
           "Tiémoué Bakayoko",
           "Lorient"
          ],
          [
           "Samuel Moutoussamy",
           "Nantes"
          ],
          [
           "Ellyes Skhiri",
           "Eintracht Frankfurt"
          ],
          [
           "Angelo Fulgini",
           "Lens"
          ],
          [
           "Kévin N'Doram",
           "Metz"
          ],
          [
           "Maxime Lopez",
           "Fiorentina"
          ],
          [
           "Naby Keïta",
           "SV Werder"
          ],
          [
           "Alexis Blin",
           "Lecce"
          ],
          [
           "Lucas Perrin",
           "Strasbourg"
          ],
          [
           "Antoine Makoumbou",
           "Cagliari"
          ],
          [
           "Loreintz Rosier",
           "Fortuna Sittard"
          ],
          [
           "Mahdi Camara",
           "Brest"
          ],
          [
           "Yangel Herrera",
           "Girona"
          ],
          [
           "Cristian Cásseres",
           "Toulouse"
          ],
          [
           "Alan Franco",
           "ATM"
          ],
          [
           "Moisés Caicedo",
           "Chelsea"
          ],
          [
           "Kevin Vogt",
           "Union Berlin"
          ],
          [
           "Maximilian Arnold",
           "VfL Wolfsburg"
          ],
          [
           "Leon Goretzka",
           "FC Bayern"
          ],
          [
           "Robert Andrich",
           "Bayer 04"
          ],
          [
           "Niklas Stark",
           "SV Werder"
          ],
          [
           "Julian Weigl",
           "Mönchengladbach"
          ],
          [
           "Thilo Kehrer",
           "Monaco"
          ],
          [
           "Maximilian Eggestein",
           "SC Freiburg"
          ],
          [
           "Benedikt Gimber",
           "FC Heidenheim"
          ],
          [
           "Suat Serdar",
           "Hellas Verona"
          ],
          [
           "Vitaly Janelt",
           "Brentford"
          ],
          [
           "Niklas Dorsch",
           "Eintracht Frankfurt"
          ],
          [
           "Grischa Prömel",
           "TSG Hoffenheim"
          ],
          [
           "Robin Koch",
           "Eintracht Frankfurt"
          ],
          [
           "Marvin Mehlem",
           "Darmstadt 98"
          ],
          [
           "Sven Köhler",
           "OB"
          ],
          [
           "Tim Siersleben",
           "FC Heidenheim"
          ],
          [
           "Amos Pieper",
           "SV Werder"
          ],
          [
           "Paul Jaeckel",
           "Lyon"
          ],
          [
           "Tom Krauß",
           "Mainz 05"
          ],
          [
           "Elvis Rexhbecaj",
           "Augsburg"
          ],
          [
           "Can Bozdogan",
           "FC Utrecht"
          ],
          [
           "Angelo Stiller",
           "VfB Stuttgart"
          ],
          [
           "Leandro Barreiro",
           "Mainz 05"
          ],
          [
           "Anton Stach",
           "TSG Hoffenheim"
          ],
          [
           "Eric Martel",
           "FC Köln"
          ],
          [
           "Amadou Onana",
           "Everton"
          ],
          [
           "Kevin Stöger",
           "VfL Bochum"
          ],
          [
           "Jannik Müller",
           "Darmstadt 98"
          ],
          [
           "Pascal Groß",
           "Brighton"
          ],
          [
           "Rani Khedira",
           "Union Berlin"
          ],
          [
           "Emre Can",
           "Borussia Dortmund"
          ],
          [
           "Hakan Çalhanoğlu",
           "Inter"
          ],
          [
           "Joshua Kimmich",
           "FC Bayern"
          ],
          [
           "Janik Haberer",
           "Union Berlin"
          ],
          [
           "Atakan Karazor",
           "VfB Stuttgart"
          ],
          [
           "Michael Akoto",
           "AGF"
          ],
          [
           "Iliya Gruev",
           "Leeds"
          ],
          [
           "Nico Schlotterbeck",
           "Borussia Dortmund"
          ],
          [
           "Lennard Maloney",
           "FC Heidenheim"
          ],
          [
           "Kristoffer Olsson",
           "FC Midtjylland"
          ],
          [
           "Simon Olsson",
           "sc Heerenveen"
          ],
          [
           "Mattias Svanberg",
           "VfL Wolfsburg"
          ],
          [
           "Jens Cajuste",
           "Napoli"
          ],
          [
           "John Björkengren",
           "Randers FC"
          ],
          [
           "Chumi",
           "Almería"
          ],
          [
           "Dominik Furman",
           "Silkeborg IF"
          ],
          [
           "Karol Linetty",
           "Torino"
          ],
          [
           "Krystian Bielik",
           "Birmingham"
          ],
          [
           "Granit Xhaka",
           "Bayer 04"
          ],
          [
           "Remo Freuler",
           "Bologna"
          ],
          [
           "Edimilson Fernandes",
           "Mainz 05"
          ],
          [
           "Manuel Akanji",
           "Man City"
          ],
          [
           "Vincent Sierro",
           "Toulouse"
          ],
          [
           "Djibril Sow",
           "Sevilla"
          ],
          [
           "Denis Zakaria",
           "Monaco"
          ],
          [
           "Michel Aebischer",
           "Bologna"
          ],
          [
           "Mads Enggård",
           "Randers FC"
          ],
          [
           "William Clem",
           "FC København"
          ],
          [
           "Agustín Maciel",
           "Arsenal (Sarandí)"
          ],
          [
           "Raniele",
           "COR"
          ],
          [
           "João Neves",
           "SL Benfica"
          ],
          [
           "Guilherme Madruga",
           "CUI"
          ],
          [
           "Stefano Moreyra",
           "Instituto"
          ],
          [
           "Cameron Humphreys",
           "Ipswich"
          ],
          [
           "Manuel García",
           "Central Córdoba (SdE)"
          ],
          [
           "Jordan James",
           "Birmingham"
          ],
          [
           "Oussama Targhalline",
           "Havre AC"
          ],
          [
           "Agostino Spina",
           "Huracán"
          ],
          [
           "Oliver Johansen Braude",
           "sc Heerenveen"
          ],
          [
           "Elián Irala",
           "San Lorenzo"
          ],
          [
           "Zé Carlos",
           "Vit. Guimarães"
          ],
          [
           "Ramón Terrats",
           "Villarreal"
          ],
          [
           "Sadik Fofana",
           "Fortuna Sittard"
          ],
          [
           "Alemão",
           "Portimonense"
          ],
          [
           "Alexsander",
           "FLU"
          ],
          [
           "Emanuel Quinteros",
           "Godoy Cruz"
          ],
          [
           "Rodrigo Saravia",
           "Gimnasia (LP)"
          ],
          [
           "Nathan",
           "GOI"
          ],
          [
           "Rico Lewis",
           "Man City"
          ],
          [
           "Nahuel Frascone",
           "Arsenal (Sarandí)"
          ],
          [
           "Igor Jesus",
           "FLA"
          ],
          [
           "Amir Richardson",
           "Stade Reims"
          ],
          [
           "Lewis Hall",
           "Newcastle"
          ],
          [
           "Negrucci",
           "SPO"
          ],
          [
           "Kevin López",
           "Defensa y Justicia"
          ],
          [
           "Samuel Lucero",
           "Defensa y Justicia"
          ],
          [
           "Ismaël Koné",
           "Watford"
          ],
          [
           "Kobbie Mainoo",
           "Man Utd"
          ],
          [
           "Benjamín Schamine",
           "Defensa y Justicia"
          ],
          [
           "Jochem Ritmeester van de Kamp",
           "Almere City"
          ],
          [
           "Lorenzo Scipioni",
           "Tigre"
          ],
          [
           "Matheus Dias",
           "INT"
          ],
          [
           "Breno Bidon",
           "COR"
          ],
          [
           "Milton Ríos",
           "Huracán"
          ],
          [
           "João Victor Balão",
           "SAN"
          ],
          [
           "Kevin Ortiz",
           "Rosario Central"
          ],
          [
           "Carlos Baleba",
           "Brighton"
          ],
          [
           "Warren Zaïre-Emery",
           "PSG"
          ],
          [
           "Archie Gray",
           "Leeds"
          ],
          [
           "Mario Dorgeles",
           "FC Nordsjælland"
          ],
          [
           "Lewis Miley",
           "Leicester"
          ],
          [
           "Jobe Bellingham",
           "Sunderland"
          ],
          [
           "Gabriel Moscardo",
           "COR"
          ],
          [
           "Leonel Vega",
           "Atl. Tucumán"
          ],
          [
           "Joaquín Mosqueira",
           "Unión (SF)"
          ],
          [
           "César Amarilla",
           "Rosario Central"
          ],
          [
           "Gerónimo Heredia",
           "Belgrano"
          ],
          [
           "Lucas López",
           "Instituto"
          ],
          [
           "Fabrício Dias",
           "FOR"
          ]
         ],
         "hovertemplate": "<b>%{customdata[0]}</b><br><b>%{customdata[1]}</b><br><br>passes_attempted/90: %{x}<br>progressive_pass_rate: %{y}<br>pass_completion_%: %{marker.color}<extra></extra>",
         "legendgroup": "",
         "marker": {
          "color": {
           "bdata": "WFpbWVhbWVZZWVhYWV9ZWVhZXFddWVxeWltXWlpYWlxZXFddWVtaV1lYVlhaW1lUWVZbWVZaXFpWVllVWVZZWVtaWFhaWllYWlpcWFhYV1ldWVlbW1lbWVpaXFtaWllbV1tXXVdbWFtdW1dYWlhYVldYVl9aWVdZVlhVWVlaWVdcW1RbW1hZWldWVltaXFZcV1lbW1pXV1hYWVdYWVhWV1tZWFlaXFlcWFdWWFdcXFlYWllXWFhYWFlXWFdbWVhUV1ZVWVtZWFhYWllUVF1ZWFlZWVpYVFhbV1ZVWVxcV1ZUWFZYV19YWFZdXFhXWltgWlZbXVhbWFdTWFpVUlhbVVVYWlhZXFxYWVtZW1hbWVhaXlpZX1hYXWBZW1lYVFhWXF5UV11dWVpeVV1dWVNYXF5cWVlaWldeXFlYXlhWWF5aWFlVW1RVXFxYXFhYWVxZXVlZW1hWVFxbWVpcWV1cWF9eVlhZW1hbWllXW1lWWVRWW11aWVZaWFlbWVpWWl1UWllaXFxYWFhYWVtcVFJZVVlaXFdaVlZYWVlXWlxYWl5fWFhfVFlYWFpZWVxYW1laV1tYWlxXWlZYXlVfWldWV1laW11bWFhYV1hbWVtcWVZaXFdcVFdUVFlUU1xZWVpbW1pUWllbXFdUVlZbWlhcUlxZV1xYXVtYV1hbWlxZWlpWWWFaVFdYV1haXVtaXVxZYFtUVFhbWV1RW1pbXllXWFhYVlpWVVlVVlxZWlNYWVleWE9ZWVlZW1hZW1xbW1xYWVxbWlpYWllbVlxcWVZWXVpaV1pbW1lYWF1XWVdVWlpcV1haWVxXWVZYWlhaWVdbVltZWVpVV1g=",
           "dtype": "i1"
          },
          "coloraxis": "coloraxis",
          "size": 10,
          "symbol": "circle"
         },
         "mode": "markers",
         "name": "",
         "orientation": "v",
         "showlegend": false,
         "textfont": {
          "size": 10
         },
         "textposition": "top center",
         "type": "scatter",
         "x": {
          "bdata": "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",
          "dtype": "f8"
         },
         "xaxis": "x",
         "y": {
          "bdata": "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",
          "dtype": "f8"
         },
         "yaxis": "y"
        }
       ],
       "layout": {
        "coloraxis": {
         "colorbar": {
          "title": {
           "text": "pass_completion_%"
          }
         },
         "colorscale": [
          [
           0,
           "rgb(165,0,38)"
          ],
          [
           0.1,
           "rgb(215,48,39)"
          ],
          [
           0.2,
           "rgb(244,109,67)"
          ],
          [
           0.3,
           "rgb(253,174,97)"
          ],
          [
           0.4,
           "rgb(254,224,139)"
          ],
          [
           0.5,
           "rgb(255,255,191)"
          ],
          [
           0.6,
           "rgb(217,239,139)"
          ],
          [
           0.7,
           "rgb(166,217,106)"
          ],
          [
           0.8,
           "rgb(102,189,99)"
          ],
          [
           0.9,
           "rgb(26,152,80)"
          ],
          [
           1,
           "rgb(0,104,55)"
          ]
         ],
         "showscale": false
        },
        "height": 700,
        "legend": {
         "tracegroupgap": 0
        },
        "paper_bgcolor": "white",
        "plot_bgcolor": "white",
        "template": {
         "data": {
          "bar": [
           {
            "error_x": {
             "color": "#2a3f5f"
            },
            "error_y": {
             "color": "#2a3f5f"
            },
            "marker": {
             "line": {
              "color": "#E5ECF6",
              "width": 0.5
             },
             "pattern": {
              "fillmode": "overlay",
              "size": 10,
              "solidity": 0.2
             }
            },
            "type": "bar"
           }
          ],
          "barpolar": [
           {
            "marker": {
             "line": {
              "color": "#E5ECF6",
              "width": 0.5
             },
             "pattern": {
              "fillmode": "overlay",
              "size": 10,
              "solidity": 0.2
             }
            },
            "type": "barpolar"
           }
          ],
          "carpet": [
           {
            "aaxis": {
             "endlinecolor": "#2a3f5f",
             "gridcolor": "white",
             "linecolor": "white",
             "minorgridcolor": "white",
             "startlinecolor": "#2a3f5f"
            },
            "baxis": {
             "endlinecolor": "#2a3f5f",
             "gridcolor": "white",
             "linecolor": "white",
             "minorgridcolor": "white",
             "startlinecolor": "#2a3f5f"
            },
            "type": "carpet"
           }
          ],
          "choropleth": [
           {
            "colorbar": {
             "outlinewidth": 0,
             "ticks": ""
            },
            "type": "choropleth"
           }
          ],
          "contour": [
           {
            "colorbar": {
             "outlinewidth": 0,
             "ticks": ""
            },
            "colorscale": [
             [
              0,
              "#0d0887"
             ],
             [
              0.1111111111111111,
              "#46039f"
             ],
             [
              0.2222222222222222,
              "#7201a8"
             ],
             [
              0.3333333333333333,
              "#9c179e"
             ],
             [
              0.4444444444444444,
              "#bd3786"
             ],
             [
              0.5555555555555556,
              "#d8576b"
             ],
             [
              0.6666666666666666,
              "#ed7953"
             ],
             [
              0.7777777777777778,
              "#fb9f3a"
             ],
             [
              0.8888888888888888,
              "#fdca26"
             ],
             [
              1,
              "#f0f921"
             ]
            ],
            "type": "contour"
           }
          ],
          "contourcarpet": [
           {
            "colorbar": {
             "outlinewidth": 0,
             "ticks": ""
            },
            "type": "contourcarpet"
           }
          ],
          "heatmap": [
           {
            "colorbar": {
             "outlinewidth": 0,
             "ticks": ""
            },
            "colorscale": [
             [
              0,
              "#0d0887"
             ],
             [
              0.1111111111111111,
              "#46039f"
             ],
             [
              0.2222222222222222,
              "#7201a8"
             ],
             [
              0.3333333333333333,
              "#9c179e"
             ],
             [
              0.4444444444444444,
              "#bd3786"
             ],
             [
              0.5555555555555556,
              "#d8576b"
             ],
             [
              0.6666666666666666,
              "#ed7953"
             ],
             [
              0.7777777777777778,
              "#fb9f3a"
             ],
             [
              0.8888888888888888,
              "#fdca26"
             ],
             [
              1,
              "#f0f921"
             ]
            ],
            "type": "heatmap"
           }
          ],
          "histogram": [
           {
            "marker": {
             "pattern": {
              "fillmode": "overlay",
              "size": 10,
              "solidity": 0.2
             }
            },
            "type": "histogram"
           }
          ],
          "histogram2d": [
           {
            "colorbar": {
             "outlinewidth": 0,
             "ticks": ""
            },
            "colorscale": [
             [
              0,
              "#0d0887"
             ],
             [
              0.1111111111111111,
              "#46039f"
             ],
             [
              0.2222222222222222,
              "#7201a8"
             ],
             [
              0.3333333333333333,
              "#9c179e"
             ],
             [
              0.4444444444444444,
              "#bd3786"
             ],
             [
              0.5555555555555556,
              "#d8576b"
             ],
             [
              0.6666666666666666,
              "#ed7953"
             ],
             [
              0.7777777777777778,
              "#fb9f3a"
             ],
             [
              0.8888888888888888,
              "#fdca26"
             ],
             [
              1,
              "#f0f921"
             ]
            ],
            "type": "histogram2d"
           }
          ],
          "histogram2dcontour": [
           {
            "colorbar": {
             "outlinewidth": 0,
             "ticks": ""
            },
            "colorscale": [
             [
              0,
              "#0d0887"
             ],
             [
              0.1111111111111111,
              "#46039f"
             ],
             [
              0.2222222222222222,
              "#7201a8"
             ],
             [
              0.3333333333333333,
              "#9c179e"
             ],
             [
              0.4444444444444444,
              "#bd3786"
             ],
             [
              0.5555555555555556,
              "#d8576b"
             ],
             [
              0.6666666666666666,
              "#ed7953"
             ],
             [
              0.7777777777777778,
              "#fb9f3a"
             ],
             [
              0.8888888888888888,
              "#fdca26"
             ],
             [
              1,
              "#f0f921"
             ]
            ],
            "type": "histogram2dcontour"
           }
          ],
          "mesh3d": [
           {
            "colorbar": {
             "outlinewidth": 0,
             "ticks": ""
            },
            "type": "mesh3d"
           }
          ],
          "parcoords": [
           {
            "line": {
             "colorbar": {
              "outlinewidth": 0,
              "ticks": ""
             }
            },
            "type": "parcoords"
           }
          ],
          "pie": [
           {
            "automargin": true,
            "type": "pie"
           }
          ],
          "scatter": [
           {
            "fillpattern": {
             "fillmode": "overlay",
             "size": 10,
             "solidity": 0.2
            },
            "type": "scatter"
           }
          ],
          "scatter3d": [
           {
            "line": {
             "colorbar": {
              "outlinewidth": 0,
              "ticks": ""
             }
            },
            "marker": {
             "colorbar": {
              "outlinewidth": 0,
              "ticks": ""
             }
            },
            "type": "scatter3d"
           }
          ],
          "scattercarpet": [
           {
            "marker": {
             "colorbar": {
              "outlinewidth": 0,
              "ticks": ""
             }
            },
            "type": "scattercarpet"
           }
          ],
          "scattergeo": [
           {
            "marker": {
             "colorbar": {
              "outlinewidth": 0,
              "ticks": ""
             }
            },
            "type": "scattergeo"
           }
          ],
          "scattergl": [
           {
            "marker": {
             "colorbar": {
              "outlinewidth": 0,
              "ticks": ""
             }
            },
            "type": "scattergl"
           }
          ],
          "scattermap": [
           {
            "marker": {
             "colorbar": {
              "outlinewidth": 0,
              "ticks": ""
             }
            },
            "type": "scattermap"
           }
          ],
          "scattermapbox": [
           {
            "marker": {
             "colorbar": {
              "outlinewidth": 0,
              "ticks": ""
             }
            },
            "type": "scattermapbox"
           }
          ],
          "scatterpolar": [
           {
            "marker": {
             "colorbar": {
              "outlinewidth": 0,
              "ticks": ""
             }
            },
            "type": "scatterpolar"
           }
          ],
          "scatterpolargl": [
           {
            "marker": {
             "colorbar": {
              "outlinewidth": 0,
              "ticks": ""
             }
            },
            "type": "scatterpolargl"
           }
          ],
          "scatterternary": [
           {
            "marker": {
             "colorbar": {
              "outlinewidth": 0,
              "ticks": ""
             }
            },
            "type": "scatterternary"
           }
          ],
          "surface": [
           {
            "colorbar": {
             "outlinewidth": 0,
             "ticks": ""
            },
            "colorscale": [
             [
              0,
              "#0d0887"
             ],
             [
              0.1111111111111111,
              "#46039f"
             ],
             [
              0.2222222222222222,
              "#7201a8"
             ],
             [
              0.3333333333333333,
              "#9c179e"
             ],
             [
              0.4444444444444444,
              "#bd3786"
             ],
             [
              0.5555555555555556,
              "#d8576b"
             ],
             [
              0.6666666666666666,
              "#ed7953"
             ],
             [
              0.7777777777777778,
              "#fb9f3a"
             ],
             [
              0.8888888888888888,
              "#fdca26"
             ],
             [
              1,
              "#f0f921"
             ]
            ],
            "type": "surface"
           }
          ],
          "table": [
           {
            "cells": {
             "fill": {
              "color": "#EBF0F8"
             },
             "line": {
              "color": "white"
             }
            },
            "header": {
             "fill": {
              "color": "#C8D4E3"
             },
             "line": {
              "color": "white"
             }
            },
            "type": "table"
           }
          ]
         },
         "layout": {
          "annotationdefaults": {
           "arrowcolor": "#2a3f5f",
           "arrowhead": 0,
           "arrowwidth": 1
          },
          "autotypenumbers": "strict",
          "coloraxis": {
           "colorbar": {
            "outlinewidth": 0,
            "ticks": ""
           }
          },
          "colorscale": {
           "diverging": [
            [
             0,
             "#8e0152"
            ],
            [
             0.1,
             "#c51b7d"
            ],
            [
             0.2,
             "#de77ae"
            ],
            [
             0.3,
             "#f1b6da"
            ],
            [
             0.4,
             "#fde0ef"
            ],
            [
             0.5,
             "#f7f7f7"
            ],
            [
             0.6,
             "#e6f5d0"
            ],
            [
             0.7,
             "#b8e186"
            ],
            [
             0.8,
             "#7fbc41"
            ],
            [
             0.9,
             "#4d9221"
            ],
            [
             1,
             "#276419"
            ]
           ],
           "sequential": [
            [
             0,
             "#0d0887"
            ],
            [
             0.1111111111111111,
             "#46039f"
            ],
            [
             0.2222222222222222,
             "#7201a8"
            ],
            [
             0.3333333333333333,
             "#9c179e"
            ],
            [
             0.4444444444444444,
             "#bd3786"
            ],
            [
             0.5555555555555556,
             "#d8576b"
            ],
            [
             0.6666666666666666,
             "#ed7953"
            ],
            [
             0.7777777777777778,
             "#fb9f3a"
            ],
            [
             0.8888888888888888,
             "#fdca26"
            ],
            [
             1,
             "#f0f921"
            ]
           ],
           "sequentialminus": [
            [
             0,
             "#0d0887"
            ],
            [
             0.1111111111111111,
             "#46039f"
            ],
            [
             0.2222222222222222,
             "#7201a8"
            ],
            [
             0.3333333333333333,
             "#9c179e"
            ],
            [
             0.4444444444444444,
             "#bd3786"
            ],
            [
             0.5555555555555556,
             "#d8576b"
            ],
            [
             0.6666666666666666,
             "#ed7953"
            ],
            [
             0.7777777777777778,
             "#fb9f3a"
            ],
            [
             0.8888888888888888,
             "#fdca26"
            ],
            [
             1,
             "#f0f921"
            ]
           ]
          },
          "colorway": [
           "#636efa",
           "#EF553B",
           "#00cc96",
           "#ab63fa",
           "#FFA15A",
           "#19d3f3",
           "#FF6692",
           "#B6E880",
           "#FF97FF",
           "#FECB52"
          ],
          "font": {
           "color": "#2a3f5f"
          },
          "geo": {
           "bgcolor": "white",
           "lakecolor": "white",
           "landcolor": "#E5ECF6",
           "showlakes": true,
           "showland": true,
           "subunitcolor": "white"
          },
          "hoverlabel": {
           "align": "left"
          },
          "hovermode": "closest",
          "mapbox": {
           "style": "light"
          },
          "paper_bgcolor": "white",
          "plot_bgcolor": "#E5ECF6",
          "polar": {
           "angularaxis": {
            "gridcolor": "white",
            "linecolor": "white",
            "ticks": ""
           },
           "bgcolor": "#E5ECF6",
           "radialaxis": {
            "gridcolor": "white",
            "linecolor": "white",
            "ticks": ""
           }
          },
          "scene": {
           "xaxis": {
            "backgroundcolor": "#E5ECF6",
            "gridcolor": "white",
            "gridwidth": 2,
            "linecolor": "white",
            "showbackground": true,
            "ticks": "",
            "zerolinecolor": "white"
           },
           "yaxis": {
            "backgroundcolor": "#E5ECF6",
            "gridcolor": "white",
            "gridwidth": 2,
            "linecolor": "white",
            "showbackground": true,
            "ticks": "",
            "zerolinecolor": "white"
           },
           "zaxis": {
            "backgroundcolor": "#E5ECF6",
            "gridcolor": "white",
            "gridwidth": 2,
            "linecolor": "white",
            "showbackground": true,
            "ticks": "",
            "zerolinecolor": "white"
           }
          },
          "shapedefaults": {
           "line": {
            "color": "#2a3f5f"
           }
          },
          "ternary": {
           "aaxis": {
            "gridcolor": "white",
            "linecolor": "white",
            "ticks": ""
           },
           "baxis": {
            "gridcolor": "white",
            "linecolor": "white",
            "ticks": ""
           },
           "bgcolor": "#E5ECF6",
           "caxis": {
            "gridcolor": "white",
            "linecolor": "white",
            "ticks": ""
           }
          },
          "title": {
           "x": 0.05
          },
          "xaxis": {
           "automargin": true,
           "gridcolor": "white",
           "linecolor": "white",
           "ticks": "",
           "title": {
            "standoff": 15
           },
           "zerolinecolor": "white",
           "zerolinewidth": 2
          },
          "yaxis": {
           "automargin": true,
           "gridcolor": "white",
           "linecolor": "white",
           "ticks": "",
           "title": {
            "standoff": 15
           },
           "zerolinecolor": "white",
           "zerolinewidth": 2
          }
         }
        },
        "title": {
         "text": "Passing quality ( 632)",
         "x": 0.5,
         "xanchor": "center"
        },
        "width": 1200,
        "xaxis": {
         "anchor": "y",
         "domain": [
          0,
          1
         ],
         "gridcolor": "lightgray",
         "showgrid": true,
         "title": {
          "text": "passes_attempted/90"
         },
         "zeroline": false
        },
        "yaxis": {
         "anchor": "x",
         "domain": [
          0,
          1
         ],
         "gridcolor": "lightgray",
         "showgrid": true,
         "title": {
          "text": "progressive_pass_rate"
         },
         "zeroline": false
        }
       }
      }
     },
     "metadata": {},
     "output_type": "display_data"
    }
   ],
   "source": [
    "# Initialize list of targets\n",
    "targets = df_players['id']\n",
    "\n",
    "scatter_plot(df_players,\n",
    "             x_metric='passes_attempted/90', \n",
    "             y_metric='progressive_pass_rate',\n",
    "             z_metric='pass_completion_%',\n",
    "             title='Passing quality', \n",
    "             show_name_label=False\n",
    ")"
   ]
  },
  {
   "cell_type": "code",
   "execution_count": 10,
   "id": "a312cf0a",
   "metadata": {},
   "outputs": [
    {
     "data": {
      "application/vnd.plotly.v1+json": {
       "config": {
        "plotlyServerURL": "https://plot.ly"
       },
       "data": [
        {
         "customdata": [
          [
           "Alasana Manneh",
           "OB"
          ],
          [
           "Pape Matar Sarr",
           "Tottenham"
          ],
          [
           "Houssem Mrezigue",
           "Vizela"
          ],
          [
           "Cheick Doucouré",
           "Crystal Palace"
          ],
          [
           "Edmond Tapsoba",
           "Bayer 04"
          ],
          [
           "Hicham Boudaoui",
           "Nice"
          ],
          [
           "Nicolás Domínguez",
           "Nottm Forest"
          ],
          [
           "Exequiel Palacios",
           "Bayer 04"
          ],
          [
           "Santiago Ascacíbar",
           "Estudiantes (LP)"
          ],
          [
           "Franco Moyano",
           "Argentinos Jrs."
          ],
          [
           "Leonel Picco",
           "Platense"
          ],
          [
           "Alexis Mac Allister",
           "Liverpool"
          ],
          [
           "Juan Ignacio Méndez",
           "Vélez"
          ],
          [
           "Carlos Villalba",
           "Platense"
          ],
          [
           "Fernando Juárez",
           "Platense"
          ],
          [
           "Agustín Cardozo",
           "Tigre"
          ],
          [
           "Joaquín Pereyra",
           "Atl. Tucumán"
          ],
          [
           "Fausto Vera",
           "COR"
          ],
          [
           "Facundo Mater",
           "Barracas Central"
          ],
          [
           "Santiago Sosa",
           "Racing Club"
          ],
          [
           "Juan Foyth",
           "Villarreal"
          ],
          [
           "Manuel Insaurralde",
           "Rosario Central"
          ],
          [
           "Adrián Sánchez",
           "Atl. Tucumán"
          ],
          [
           "Nicolás Garayalde",
           "Vélez"
          ],
          [
           "Santiago Coronel",
           "Barracas Central"
          ],
          [
           "Aníbal Moreno",
           "SEP"
          ],
          [
           "Franco Ibarra",
           "Rosario Central"
          ],
          [
           "Julián López",
           "Defensa y Justicia"
          ],
          [
           "Enzo Barrenechea",
           "Frosinone"
          ],
          [
           "Camilo Albornoz",
           "Atl. Tucumán"
          ],
          [
           "Diego Calcaterra",
           "Sarmiento (Junín)"
          ],
          [
           "Damián Fernández",
           "Vélez"
          ],
          [
           "Francisco Perruzzi",
           "San Lorenzo"
          ],
          [
           "Rodrigo Villagra",
           "River"
          ],
          [
           "Kevin Vázquez",
           "Central Córdoba (SdE)"
          ],
          [
           "Mateo Cáceres",
           "Tigre"
          ],
          [
           "Bautista Kociubinski",
           "Estudiantes (LP)"
          ],
          [
           "Franco Romero",
           "Defensa y Justicia"
          ],
          [
           "Juan Carlos Portillo",
           "Talleres"
          ],
          [
           "Enzo Fernández",
           "Chelsea"
          ],
          [
           "Agustín Toledo",
           "Huracán"
          ],
          [
           "Rodrigo Herrera",
           "Barracas Central"
          ],
          [
           "Mateo Seoane",
           "Talleres"
          ],
          [
           "Mateo Tanlongo",
           "Rio Ave"
          ],
          [
           "Maico Quiroz",
           "Sarmiento (Junín)"
          ],
          [
           "Santiago Longo",
           "Belgrano"
          ],
          [
           "Alan Varela",
           "FC Porto"
          ],
          [
           "Ulises Ortegoza",
           "Talleres"
          ],
          [
           "Juan Ignacio Nardoni",
           "Racing Club"
          ],
          [
           "Bruno Leyes",
           "Godoy Cruz"
          ],
          [
           "Patricio Tanda",
           "Unión (SF)"
          ],
          [
           "Ezequiel Fernández",
           "Boca"
          ],
          [
           "Leandro Figueredo",
           "Huracán"
          ],
          [
           "Zaid Romero",
           "Estudiantes (LP)"
          ],
          [
           "Ignacio Miramón",
           "Lille"
          ],
          [
           "Konrad Laimer",
           "FC Bayern"
          ],
          [
           "Xaver Schlager",
           "RB Leipzig"
          ],
          [
           "Dejan Ljubičić",
           "FC Köln"
          ],
          [
           "Amadou Haïdara",
           "RB Leipzig"
          ],
          [
           "Dominik Szoboszlai",
           "Liverpool"
          ],
          [
           "Youri Tielemans",
           "Aston Villa"
          ],
          [
           "Arno Verschueren",
           "Sparta Rotterdam"
          ],
          [
           "Casper De Norre",
           "Millwall"
          ],
          [
           "Siebe Horemans",
           "Excelsior"
          ],
          [
           "Albert Sambi Lokonga",
           "Luton"
          ],
          [
           "Edo Kayembe",
           "Watford"
          ],
          [
           "Thiago Maia",
           "FLA"
          ],
          [
           "Maycon",
           "COR"
          ],
          [
           "Pepê",
           "GRE"
          ],
          [
           "Andrey",
           "CTB"
          ],
          [
           "Matheus Fernandes",
           "RB Bragantino"
          ],
          [
           "Allan",
           "FLA"
          ],
          [
           "Diego Costa",
           "SPO"
          ],
          [
           "Nonato",
           "SAN"
          ],
          [
           "Matheus Henrique",
           "FLA"
          ],
          [
           "Pedro Augusto",
           "FOR"
          ],
          [
           "Hugo Moura",
           "Athlético Paranaense"
          ],
          [
           "Luan",
           "SPO"
          ],
          [
           "Gabriel Sara",
           "Norwich"
          ],
          [
           "Bruno Guimarães",
           "Newcastle"
          ],
          [
           "Douglas Luiz",
           "Aston Villa"
          ],
          [
           "Zé Gabriel",
           "Vasco da Gama"
          ],
          [
           "Ederson",
           "Napoli"
          ],
          [
           "Gabriel Menino",
           "SEP"
          ],
          [
           "De Lucca",
           "Vasco da Gama"
          ],
          [
           "Christian",
           "Athlético Paranaense"
          ],
          [
           "Jhonny Lucas",
           "GOI"
          ],
          [
           "Vitor Mendes",
           "FOR"
          ],
          [
           "Morato",
           "SL Benfica"
          ],
          [
           "Vinicius Balieiro",
           "SAN"
          ],
          [
           "Erick",
           "Athlético Paranaense"
          ],
          [
           "Edu",
           "GOI"
          ],
          [
           "Caio Alexandre",
           "BAH"
          ],
          [
           "Jadsom",
           "RB Bragantino"
          ],
          [
           "Fernando Henrique",
           "CEC"
          ],
          [
           "André",
           "FLU"
          ],
          [
           "Pablo Maia",
           "SPO"
          ],
          [
           "Bruno Gomes",
           "CTB"
          ],
          [
           "Fabinho",
           "SEP"
          ],
          [
           "Breno",
           "BOT"
          ],
          [
           "Richard Ríos",
           "SEP"
          ],
          [
           "Martinelli",
           "FLU"
          ],
          [
           "Kristijan Jakić",
           "Augsburg"
          ],
          [
           "Bartol Franjić",
           "Darmstadt 98"
          ],
          [
           "Mory Gbané",
           "Gil Vicente"
          ],
          [
           "Alex Král",
           "Union Berlin"
          ],
          [
           "Mads Emil Madsen",
           "AGF"
          ],
          [
           "Mark Brink",
           "Silkeborg IF"
          ],
          [
           "Ahmed Iljazovski",
           "Hvidovre IF"
          ],
          [
           "Morten Hjulmand",
           "Sporting CP"
          ],
          [
           "Ainsley Maitland-Niles",
           "Lyon"
          ],
          [
           "Ben Sheaf",
           "Coventry"
          ],
          [
           "Sean Longstaff",
           "Newcastle"
          ],
          [
           "Sam Field",
           "QPR"
          ],
          [
           "Trent Alexander-Arnold",
           "Liverpool"
          ],
          [
           "Kiernan Dewsbury-Hall",
           "Leicester"
          ],
          [
           "Declan Rice",
           "Arsenal"
          ],
          [
           "Tom Dele-Bashiru",
           "Watford"
          ],
          [
           "Nnamdi Ofoborh",
           "Sheffield Wednesday"
          ],
          [
           "Haydon Roberts",
           "Bristol City"
          ],
          [
           "Pierre Ekwah",
           "Sunderland"
          ],
          [
           "Luke Cundle",
           "Stoke"
          ],
          [
           "Bashir Humphreys",
           "Swansea"
          ],
          [
           "Odel Offiah",
           "QPR"
          ],
          [
           "Tyler Morton",
           "Hull"
          ],
          [
           "Lewis Cook",
           "Bournemouth"
          ],
          [
           "Ryan Yates",
           "Nottm Forest"
          ],
          [
           "Joe Rankin-Costello",
           "Blackburn"
          ],
          [
           "Jayson Molumby",
           "West Brom"
          ],
          [
           "Flynn Downes",
           "Southampton"
          ],
          [
           "Lewis O'Brien",
           "Middlesbrough"
          ],
          [
           "Andy Rinomhota",
           "Rotherham"
          ],
          [
           "Melle Meulensteen",
           "Vitesse"
          ],
          [
           "Callum Styles",
           "Sunderland"
          ],
          [
           "David Kasumu",
           "Huddersfield"
          ],
          [
           "Ethan Ampadu",
           "Leeds"
          ],
          [
           "Jordan Holsgrove",
           "Estoril Praia"
          ],
          [
           "Regan Slater",
           "Hull"
          ],
          [
           "Adam Randell",
           "Plymouth"
          ],
          [
           "Hayden Hackney",
           "Middlesbrough"
          ],
          [
           "Dan Neil",
           "Sunderland"
          ],
          [
           "Taylor Gardner-Hickman",
           "Bristol City"
          ],
          [
           "Jude Bellingham",
           "Real Madrid"
          ],
          [
           "Frenkie de Jong",
           "Barcelona"
          ],
          [
           "Calvin Verdonk",
           "N.E.C. Nijmegen"
          ],
          [
           "Gustavo Hamer",
           "Sheff Utd"
          ],
          [
           "Noussair Mazraoui",
           "FC Bayern"
          ],
          [
           "Philippe Sandler",
           "N.E.C. Nijmegen"
          ],
          [
           "Pablo Rosario",
           "Nice"
          ],
          [
           "Jerdy Schouten",
           "PSV"
          ],
          [
           "Mees Hoedemakers",
           "N.E.C. Nijmegen"
          ],
          [
           "Teun Koopmeiners",
           "Atalanta"
          ],
          [
           "Jordan Teze",
           "PSV"
          ],
          [
           "Radinio Balker",
           "Huddersfield"
          ],
          [
           "Pascal Struijk",
           "Leeds"
          ],
          [
           "Jamal Amofa",
           "Go Ahead Eagles"
          ],
          [
           "Quinten Timber",
           "Feyenoord"
          ],
          [
           "Michal Sadílek",
           "FC Twente"
          ],
          [
           "Peer Koopmeiners",
           "Almere City"
          ],
          [
           "Lutsharel Geertruida",
           "Feyenoord"
          ],
          [
           "Tijjani Reijnders",
           "Milan"
          ],
          [
           "Mats Wieffer",
           "Feyenoord"
          ],
          [
           "Davy van den Berg",
           "PEC Zwolle"
          ],
          [
           "Ryan Gravenberch",
           "Leicester"
          ],
          [
           "Dirk Proper",
           "N.E.C. Nijmegen"
          ],
          [
           "Kenneth Taylor",
           "Ajax"
          ],
          [
           "Eliano Reijnders",
           "PEC Zwolle"
          ],
          [
           "Thomas Beelen",
           "Feyenoord"
          ],
          [
           "Nathan Tjoe-A-On",
           "sc Heerenveen"
          ],
          [
           "Mathijs Tielemans",
           "Vitesse"
          ],
          [
           "Youri Regeer",
           "FC Twente"
          ],
          [
           "Enzo Cornelisse",
           "Vitesse"
          ],
          [
           "Ryan Flamingo",
           "FC Utrecht"
          ],
          [
           "Calvin Twigt",
           "FC Volendam"
          ],
          [
           "Lamare Bogarde",
           "Preston"
          ],
          [
           "Julian Baas",
           "Excelsior"
          ],
          [
           "Serano Seymor",
           "Excelsior"
          ],
          [
           "Kolbeinn Birgir Finnsson",
           "Lyngby"
          ],
          [
           "Nicolò Barella",
           "Inter"
          ],
          [
           "Matteo Pessina",
           "Monza"
          ],
          [
           "Rolando Mandragora",
           "Fiorentina"
          ],
          [
           "Manuel Locatelli",
           "Juventus"
          ],
          [
           "Daniel Boloca",
           "Sassuolo"
          ],
          [
           "Tommaso Pobega",
           "Milan"
          ],
          [
           "Sandro Tonali",
           "Newcastle"
          ],
          [
           "Marco Brescianini",
           "Frosinone"
          ],
          [
           "Nicolò Rovella",
           "Lazio"
          ],
          [
           "Rodrigo Guth",
           "Fortuna Sittard"
          ],
          [
           "Samuele Ricci",
           "Torino"
          ],
          [
           "Michel Ndary Adopo",
           "Atalanta"
          ],
          [
           "Yuta Nakayama",
           "Huddersfield"
          ],
          [
           "Olivier Boscagli",
           "PSV"
          ],
          [
           "Ibrahima Sissoko",
           "Strasbourg"
          ],
          [
           "Aurélien Tchouameni",
           "Real Madrid"
          ],
          [
           "Ibrahim Sangaré",
           "Nottm Forest"
          ],
          [
           "Boubacar Kamara",
           "Aston Villa"
          ],
          [
           "Yacine Adli",
           "Milan"
          ],
          [
           "Boubakary Soumaré",
           "Sevilla"
          ],
          [
           "Warmed Omari",
           "Rennes"
          ],
          [
           "Eric Junior Dina Ebimbe",
           "Eintracht Frankfurt"
          ],
          [
           "Moussa Diarra",
           "Toulouse"
          ],
          [
           "Youssouf Fofana",
           "Monaco"
          ],
          [
           "Manu Koné",
           "Mönchengladbach"
          ],
          [
           "Chrislain Matsima",
           "Clermont"
          ],
          [
           "Joris Chotard",
           "Montpellier"
          ],
          [
           "Tom Lacoux",
           "Famalicão"
          ],
          [
           "Eduardo Camavinga",
           "Real Madrid"
          ],
          [
           "Salis Abdul Samed",
           "Lens"
          ],
          [
           "Andy Diouf",
           "Lens"
          ],
          [
           "Edson Álvarez",
           "West Ham"
          ],
          [
           "Kristoffer Ajer",
           "Brentford"
          ],
          [
           "Mathias Kjølø",
           "FC Twente"
          ],
          [
           "Sivert Mannsverk",
           "Ajax"
          ],
          [
           "Magnus Nordengen Knudsen",
           "AGF"
          ],
          [
           "Eboué Kouassi",
           "Arouca"
          ],
          [
           "Billy Gilmour",
           "Brighton"
          ],
          [
           "Ali McCann",
           "Preston"
          ],
          [
           "Erhan Mašović",
           "VfL Bochum"
          ],
          [
           "Ilija Vukotić",
           "Boavista"
          ],
          [
           "Mirko Topić",
           "Famalicão"
          ],
          [
           "Pedro Chirivella",
           "Nantes"
          ],
          [
           "Aleix García",
           "Girona"
          ],
          [
           "Paik Seung-Ho",
           "Birmingham"
          ],
          [
           "Fede San Emeterio",
           "Cádiz"
          ],
          [
           "Pepelu",
           "Valencia"
          ],
          [
           "Keidi Bare",
           "Coventry"
          ],
          [
           "Fran Beltrán",
           "Celta"
          ],
          [
           "Edgar",
           "Almería"
          ],
          [
           "Martín Zubimendi",
           "Real Sociedad"
          ],
          [
           "Antonio Blanco",
           "Alavés"
          ],
          [
           "Dani Vivian",
           "Athletic"
          ],
          [
           "Hugo Guillamón",
           "Valencia"
          ],
          [
           "Jon Moncayola",
           "Osasuna"
          ],
          [
           "Rodrigo Zalazar",
           "Sp. Braga"
          ],
          [
           "Nico González",
           "FC Porto"
          ],
          [
           "Beñat Prados",
           "Athletic"
          ],
          [
           "Iker Muñoz",
           "Osasuna"
          ],
          [
           "Tyler Adams",
           "Bournemouth"
          ],
          [
           "Weston McKennie",
           "Juventus"
          ],
          [
           "Jesús Castillo",
           "Gil Vicente"
          ],
          [
           "Federico Valverde",
           "Real Madrid"
          ],
          [
           "Manuel Ugarte",
           "PSG"
          ],
          [
           "Alan Rodríguez",
           "Argentinos Jrs."
          ],
          [
           "Nicolás Acevedo",
           "BAH"
          ],
          [
           "Mathías Villasanti",
           "GRE"
          ],
          [
           "Matías Galarza",
           "Talleres"
          ],
          [
           "Daniel Bragança",
           "Sporting CP"
          ],
          [
           "Paulo Estrela",
           "Portimonense"
          ],
          [
           "Vitinha",
           "PSG"
          ],
          [
           "Tiago Dantas",
           "AZ"
          ],
          [
           "Tomás Ribeiro",
           "Vit. Guimarães"
          ],
          [
           "Jota",
           "Vizela"
          ],
          [
           "Samú",
           "Mallorca"
          ],
          [
           "Dani",
           "Hellas Verona"
          ],
          [
           "Ibrahima Camará",
           "Boavista"
          ],
          [
           "Gonçalo Franco",
           "Moreirense"
          ],
          [
           "Manu Silva",
           "Vit. Guimarães"
          ],
          [
           "Maxime Lopez",
           "Fiorentina"
          ],
          [
           "Mahdi Camara",
           "Brest"
          ],
          [
           "Yangel Herrera",
           "Girona"
          ],
          [
           "Cristian Cásseres",
           "Toulouse"
          ],
          [
           "Alan Franco",
           "ATM"
          ],
          [
           "Moisés Caicedo",
           "Chelsea"
          ],
          [
           "Vitaly Janelt",
           "Brentford"
          ],
          [
           "Niklas Dorsch",
           "Eintracht Frankfurt"
          ],
          [
           "Amos Pieper",
           "SV Werder"
          ],
          [
           "Paul Jaeckel",
           "Lyon"
          ],
          [
           "Tom Krauß",
           "Mainz 05"
          ],
          [
           "Elvis Rexhbecaj",
           "Augsburg"
          ],
          [
           "Can Bozdogan",
           "FC Utrecht"
          ],
          [
           "Angelo Stiller",
           "VfB Stuttgart"
          ],
          [
           "Leandro Barreiro",
           "Mainz 05"
          ],
          [
           "Anton Stach",
           "TSG Hoffenheim"
          ],
          [
           "Eric Martel",
           "FC Köln"
          ],
          [
           "Amadou Onana",
           "Everton"
          ],
          [
           "Michael Akoto",
           "AGF"
          ],
          [
           "Iliya Gruev",
           "Leeds"
          ],
          [
           "Simon Olsson",
           "sc Heerenveen"
          ],
          [
           "Mattias Svanberg",
           "VfL Wolfsburg"
          ],
          [
           "Jens Cajuste",
           "Napoli"
          ],
          [
           "John Björkengren",
           "Randers FC"
          ],
          [
           "Chumi",
           "Almería"
          ],
          [
           "Djibril Sow",
           "Sevilla"
          ],
          [
           "Michel Aebischer",
           "Bologna"
          ],
          [
           "Mads Enggård",
           "Randers FC"
          ],
          [
           "William Clem",
           "FC København"
          ],
          [
           "Agustín Maciel",
           "Arsenal (Sarandí)"
          ],
          [
           "Raniele",
           "COR"
          ],
          [
           "João Neves",
           "SL Benfica"
          ],
          [
           "Guilherme Madruga",
           "CUI"
          ],
          [
           "Stefano Moreyra",
           "Instituto"
          ],
          [
           "Cameron Humphreys",
           "Ipswich"
          ],
          [
           "Manuel García",
           "Central Córdoba (SdE)"
          ],
          [
           "Oussama Targhalline",
           "Havre AC"
          ],
          [
           "Agostino Spina",
           "Huracán"
          ],
          [
           "Oliver Johansen Braude",
           "sc Heerenveen"
          ],
          [
           "Elián Irala",
           "San Lorenzo"
          ],
          [
           "Zé Carlos",
           "Vit. Guimarães"
          ],
          [
           "Ramón Terrats",
           "Villarreal"
          ],
          [
           "Sadik Fofana",
           "Fortuna Sittard"
          ],
          [
           "Alexsander",
           "FLU"
          ],
          [
           "Emanuel Quinteros",
           "Godoy Cruz"
          ],
          [
           "Rodrigo Saravia",
           "Gimnasia (LP)"
          ],
          [
           "Nathan",
           "GOI"
          ],
          [
           "Rico Lewis",
           "Man City"
          ],
          [
           "Nahuel Frascone",
           "Arsenal (Sarandí)"
          ],
          [
           "Igor Jesus",
           "FLA"
          ],
          [
           "Amir Richardson",
           "Stade Reims"
          ],
          [
           "Lewis Hall",
           "Newcastle"
          ],
          [
           "Negrucci",
           "SPO"
          ],
          [
           "Kevin López",
           "Defensa y Justicia"
          ],
          [
           "Samuel Lucero",
           "Defensa y Justicia"
          ],
          [
           "Ismaël Koné",
           "Watford"
          ],
          [
           "Kobbie Mainoo",
           "Man Utd"
          ],
          [
           "Benjamín Schamine",
           "Defensa y Justicia"
          ],
          [
           "Jochem Ritmeester van de Kamp",
           "Almere City"
          ],
          [
           "Lorenzo Scipioni",
           "Tigre"
          ],
          [
           "Matheus Dias",
           "INT"
          ],
          [
           "Breno Bidon",
           "COR"
          ],
          [
           "Milton Ríos",
           "Huracán"
          ],
          [
           "João Victor Balão",
           "SAN"
          ],
          [
           "Kevin Ortiz",
           "Rosario Central"
          ],
          [
           "Carlos Baleba",
           "Brighton"
          ],
          [
           "Warren Zaïre-Emery",
           "PSG"
          ],
          [
           "Archie Gray",
           "Leeds"
          ],
          [
           "Lewis Miley",
           "Leicester"
          ],
          [
           "Gabriel Moscardo",
           "COR"
          ],
          [
           "Leonel Vega",
           "Atl. Tucumán"
          ],
          [
           "Joaquín Mosqueira",
           "Unión (SF)"
          ],
          [
           "César Amarilla",
           "Rosario Central"
          ],
          [
           "Gerónimo Heredia",
           "Belgrano"
          ],
          [
           "Lucas López",
           "Instituto"
          ],
          [
           "Fabrício Dias",
           "FOR"
          ]
         ],
         "hovertemplate": "<b>%{customdata[0]}</b><br><b>%{customdata[1]}</b><br><br>passes_attempted/90: %{x}<br>progressive_pass_rate: %{y}<br>pass_completion_%: %{marker.color}<extra></extra>",
         "legendgroup": "",
         "marker": {
          "color": {
           "bdata": "W1hbWV9ZXF1bWllWWFpZWVZbVlpcWlZZVVlZW1pYWFpaWVhaWlxYWFhXWV1ZWVtbWVtZWlpcW1lbV1tXV1hbXVtXWllbWldaXFZcV1laV1dYWVdYWVhWV1tZWFlaXFlcWFdWWFdcWFhYWFZVWVtWVVlcV1ZYVldYWFZdXFdYVVVYWlhZXFxYWVtZW1hbWVhbWFZcXl1dWVpeVV1dWFxcWVpaV15cWVheWFZYXlpYWVVbVVlcWV1ZW1hWXFtZWllfW1taWVtZWVZbXVpZVlpYWVtZXVpZWltVWVpWWFlYWFlYWlxWXlVfWldWV1laWFhZXFxXWVlZW1paWVtcV1ZWW1paV1hXWFpYW1teWVdYWFhWWlZZWVlZWVlbWVtaWlhaWVtWXFxWVl1aWldaW1lYWF1XWVdVWlpcV1haWVxXWVZYWlhaWVtbWVlaVVdY",
           "dtype": "i1"
          },
          "coloraxis": "coloraxis",
          "size": 10,
          "symbol": "circle"
         },
         "mode": "markers",
         "name": "",
         "orientation": "v",
         "showlegend": false,
         "textfont": {
          "size": 10
         },
         "textposition": "top center",
         "type": "scatter",
         "x": {
          "bdata": "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",
          "dtype": "f8"
         },
         "xaxis": "x",
         "y": {
          "bdata": "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",
          "dtype": "f8"
         },
         "yaxis": "y"
        }
       ],
       "layout": {
        "coloraxis": {
         "colorbar": {
          "title": {
           "text": "pass_completion_%"
          }
         },
         "colorscale": [
          [
           0,
           "rgb(165,0,38)"
          ],
          [
           0.1,
           "rgb(215,48,39)"
          ],
          [
           0.2,
           "rgb(244,109,67)"
          ],
          [
           0.3,
           "rgb(253,174,97)"
          ],
          [
           0.4,
           "rgb(254,224,139)"
          ],
          [
           0.5,
           "rgb(255,255,191)"
          ],
          [
           0.6,
           "rgb(217,239,139)"
          ],
          [
           0.7,
           "rgb(166,217,106)"
          ],
          [
           0.8,
           "rgb(102,189,99)"
          ],
          [
           0.9,
           "rgb(26,152,80)"
          ],
          [
           1,
           "rgb(0,104,55)"
          ]
         ],
         "showscale": false
        },
        "height": 700,
        "legend": {
         "tracegroupgap": 0
        },
        "paper_bgcolor": "white",
        "plot_bgcolor": "white",
        "template": {
         "data": {
          "bar": [
           {
            "error_x": {
             "color": "#2a3f5f"
            },
            "error_y": {
             "color": "#2a3f5f"
            },
            "marker": {
             "line": {
              "color": "#E5ECF6",
              "width": 0.5
             },
             "pattern": {
              "fillmode": "overlay",
              "size": 10,
              "solidity": 0.2
             }
            },
            "type": "bar"
           }
          ],
          "barpolar": [
           {
            "marker": {
             "line": {
              "color": "#E5ECF6",
              "width": 0.5
             },
             "pattern": {
              "fillmode": "overlay",
              "size": 10,
              "solidity": 0.2
             }
            },
            "type": "barpolar"
           }
          ],
          "carpet": [
           {
            "aaxis": {
             "endlinecolor": "#2a3f5f",
             "gridcolor": "white",
             "linecolor": "white",
             "minorgridcolor": "white",
             "startlinecolor": "#2a3f5f"
            },
            "baxis": {
             "endlinecolor": "#2a3f5f",
             "gridcolor": "white",
             "linecolor": "white",
             "minorgridcolor": "white",
             "startlinecolor": "#2a3f5f"
            },
            "type": "carpet"
           }
          ],
          "choropleth": [
           {
            "colorbar": {
             "outlinewidth": 0,
             "ticks": ""
            },
            "type": "choropleth"
           }
          ],
          "contour": [
           {
            "colorbar": {
             "outlinewidth": 0,
             "ticks": ""
            },
            "colorscale": [
             [
              0,
              "#0d0887"
             ],
             [
              0.1111111111111111,
              "#46039f"
             ],
             [
              0.2222222222222222,
              "#7201a8"
             ],
             [
              0.3333333333333333,
              "#9c179e"
             ],
             [
              0.4444444444444444,
              "#bd3786"
             ],
             [
              0.5555555555555556,
              "#d8576b"
             ],
             [
              0.6666666666666666,
              "#ed7953"
             ],
             [
              0.7777777777777778,
              "#fb9f3a"
             ],
             [
              0.8888888888888888,
              "#fdca26"
             ],
             [
              1,
              "#f0f921"
             ]
            ],
            "type": "contour"
           }
          ],
          "contourcarpet": [
           {
            "colorbar": {
             "outlinewidth": 0,
             "ticks": ""
            },
            "type": "contourcarpet"
           }
          ],
          "heatmap": [
           {
            "colorbar": {
             "outlinewidth": 0,
             "ticks": ""
            },
            "colorscale": [
             [
              0,
              "#0d0887"
             ],
             [
              0.1111111111111111,
              "#46039f"
             ],
             [
              0.2222222222222222,
              "#7201a8"
             ],
             [
              0.3333333333333333,
              "#9c179e"
             ],
             [
              0.4444444444444444,
              "#bd3786"
             ],
             [
              0.5555555555555556,
              "#d8576b"
             ],
             [
              0.6666666666666666,
              "#ed7953"
             ],
             [
              0.7777777777777778,
              "#fb9f3a"
             ],
             [
              0.8888888888888888,
              "#fdca26"
             ],
             [
              1,
              "#f0f921"
             ]
            ],
            "type": "heatmap"
           }
          ],
          "histogram": [
           {
            "marker": {
             "pattern": {
              "fillmode": "overlay",
              "size": 10,
              "solidity": 0.2
             }
            },
            "type": "histogram"
           }
          ],
          "histogram2d": [
           {
            "colorbar": {
             "outlinewidth": 0,
             "ticks": ""
            },
            "colorscale": [
             [
              0,
              "#0d0887"
             ],
             [
              0.1111111111111111,
              "#46039f"
             ],
             [
              0.2222222222222222,
              "#7201a8"
             ],
             [
              0.3333333333333333,
              "#9c179e"
             ],
             [
              0.4444444444444444,
              "#bd3786"
             ],
             [
              0.5555555555555556,
              "#d8576b"
             ],
             [
              0.6666666666666666,
              "#ed7953"
             ],
             [
              0.7777777777777778,
              "#fb9f3a"
             ],
             [
              0.8888888888888888,
              "#fdca26"
             ],
             [
              1,
              "#f0f921"
             ]
            ],
            "type": "histogram2d"
           }
          ],
          "histogram2dcontour": [
           {
            "colorbar": {
             "outlinewidth": 0,
             "ticks": ""
            },
            "colorscale": [
             [
              0,
              "#0d0887"
             ],
             [
              0.1111111111111111,
              "#46039f"
             ],
             [
              0.2222222222222222,
              "#7201a8"
             ],
             [
              0.3333333333333333,
              "#9c179e"
             ],
             [
              0.4444444444444444,
              "#bd3786"
             ],
             [
              0.5555555555555556,
              "#d8576b"
             ],
             [
              0.6666666666666666,
              "#ed7953"
             ],
             [
              0.7777777777777778,
              "#fb9f3a"
             ],
             [
              0.8888888888888888,
              "#fdca26"
             ],
             [
              1,
              "#f0f921"
             ]
            ],
            "type": "histogram2dcontour"
           }
          ],
          "mesh3d": [
           {
            "colorbar": {
             "outlinewidth": 0,
             "ticks": ""
            },
            "type": "mesh3d"
           }
          ],
          "parcoords": [
           {
            "line": {
             "colorbar": {
              "outlinewidth": 0,
              "ticks": ""
             }
            },
            "type": "parcoords"
           }
          ],
          "pie": [
           {
            "automargin": true,
            "type": "pie"
           }
          ],
          "scatter": [
           {
            "fillpattern": {
             "fillmode": "overlay",
             "size": 10,
             "solidity": 0.2
            },
            "type": "scatter"
           }
          ],
          "scatter3d": [
           {
            "line": {
             "colorbar": {
              "outlinewidth": 0,
              "ticks": ""
             }
            },
            "marker": {
             "colorbar": {
              "outlinewidth": 0,
              "ticks": ""
             }
            },
            "type": "scatter3d"
           }
          ],
          "scattercarpet": [
           {
            "marker": {
             "colorbar": {
              "outlinewidth": 0,
              "ticks": ""
             }
            },
            "type": "scattercarpet"
           }
          ],
          "scattergeo": [
           {
            "marker": {
             "colorbar": {
              "outlinewidth": 0,
              "ticks": ""
             }
            },
            "type": "scattergeo"
           }
          ],
          "scattergl": [
           {
            "marker": {
             "colorbar": {
              "outlinewidth": 0,
              "ticks": ""
             }
            },
            "type": "scattergl"
           }
          ],
          "scattermap": [
           {
            "marker": {
             "colorbar": {
              "outlinewidth": 0,
              "ticks": ""
             }
            },
            "type": "scattermap"
           }
          ],
          "scattermapbox": [
           {
            "marker": {
             "colorbar": {
              "outlinewidth": 0,
              "ticks": ""
             }
            },
            "type": "scattermapbox"
           }
          ],
          "scatterpolar": [
           {
            "marker": {
             "colorbar": {
              "outlinewidth": 0,
              "ticks": ""
             }
            },
            "type": "scatterpolar"
           }
          ],
          "scatterpolargl": [
           {
            "marker": {
             "colorbar": {
              "outlinewidth": 0,
              "ticks": ""
             }
            },
            "type": "scatterpolargl"
           }
          ],
          "scatterternary": [
           {
            "marker": {
             "colorbar": {
              "outlinewidth": 0,
              "ticks": ""
             }
            },
            "type": "scatterternary"
           }
          ],
          "surface": [
           {
            "colorbar": {
             "outlinewidth": 0,
             "ticks": ""
            },
            "colorscale": [
             [
              0,
              "#0d0887"
             ],
             [
              0.1111111111111111,
              "#46039f"
             ],
             [
              0.2222222222222222,
              "#7201a8"
             ],
             [
              0.3333333333333333,
              "#9c179e"
             ],
             [
              0.4444444444444444,
              "#bd3786"
             ],
             [
              0.5555555555555556,
              "#d8576b"
             ],
             [
              0.6666666666666666,
              "#ed7953"
             ],
             [
              0.7777777777777778,
              "#fb9f3a"
             ],
             [
              0.8888888888888888,
              "#fdca26"
             ],
             [
              1,
              "#f0f921"
             ]
            ],
            "type": "surface"
           }
          ],
          "table": [
           {
            "cells": {
             "fill": {
              "color": "#EBF0F8"
             },
             "line": {
              "color": "white"
             }
            },
            "header": {
             "fill": {
              "color": "#C8D4E3"
             },
             "line": {
              "color": "white"
             }
            },
            "type": "table"
           }
          ]
         },
         "layout": {
          "annotationdefaults": {
           "arrowcolor": "#2a3f5f",
           "arrowhead": 0,
           "arrowwidth": 1
          },
          "autotypenumbers": "strict",
          "coloraxis": {
           "colorbar": {
            "outlinewidth": 0,
            "ticks": ""
           }
          },
          "colorscale": {
           "diverging": [
            [
             0,
             "#8e0152"
            ],
            [
             0.1,
             "#c51b7d"
            ],
            [
             0.2,
             "#de77ae"
            ],
            [
             0.3,
             "#f1b6da"
            ],
            [
             0.4,
             "#fde0ef"
            ],
            [
             0.5,
             "#f7f7f7"
            ],
            [
             0.6,
             "#e6f5d0"
            ],
            [
             0.7,
             "#b8e186"
            ],
            [
             0.8,
             "#7fbc41"
            ],
            [
             0.9,
             "#4d9221"
            ],
            [
             1,
             "#276419"
            ]
           ],
           "sequential": [
            [
             0,
             "#0d0887"
            ],
            [
             0.1111111111111111,
             "#46039f"
            ],
            [
             0.2222222222222222,
             "#7201a8"
            ],
            [
             0.3333333333333333,
             "#9c179e"
            ],
            [
             0.4444444444444444,
             "#bd3786"
            ],
            [
             0.5555555555555556,
             "#d8576b"
            ],
            [
             0.6666666666666666,
             "#ed7953"
            ],
            [
             0.7777777777777778,
             "#fb9f3a"
            ],
            [
             0.8888888888888888,
             "#fdca26"
            ],
            [
             1,
             "#f0f921"
            ]
           ],
           "sequentialminus": [
            [
             0,
             "#0d0887"
            ],
            [
             0.1111111111111111,
             "#46039f"
            ],
            [
             0.2222222222222222,
             "#7201a8"
            ],
            [
             0.3333333333333333,
             "#9c179e"
            ],
            [
             0.4444444444444444,
             "#bd3786"
            ],
            [
             0.5555555555555556,
             "#d8576b"
            ],
            [
             0.6666666666666666,
             "#ed7953"
            ],
            [
             0.7777777777777778,
             "#fb9f3a"
            ],
            [
             0.8888888888888888,
             "#fdca26"
            ],
            [
             1,
             "#f0f921"
            ]
           ]
          },
          "colorway": [
           "#636efa",
           "#EF553B",
           "#00cc96",
           "#ab63fa",
           "#FFA15A",
           "#19d3f3",
           "#FF6692",
           "#B6E880",
           "#FF97FF",
           "#FECB52"
          ],
          "font": {
           "color": "#2a3f5f"
          },
          "geo": {
           "bgcolor": "white",
           "lakecolor": "white",
           "landcolor": "#E5ECF6",
           "showlakes": true,
           "showland": true,
           "subunitcolor": "white"
          },
          "hoverlabel": {
           "align": "left"
          },
          "hovermode": "closest",
          "mapbox": {
           "style": "light"
          },
          "paper_bgcolor": "white",
          "plot_bgcolor": "#E5ECF6",
          "polar": {
           "angularaxis": {
            "gridcolor": "white",
            "linecolor": "white",
            "ticks": ""
           },
           "bgcolor": "#E5ECF6",
           "radialaxis": {
            "gridcolor": "white",
            "linecolor": "white",
            "ticks": ""
           }
          },
          "scene": {
           "xaxis": {
            "backgroundcolor": "#E5ECF6",
            "gridcolor": "white",
            "gridwidth": 2,
            "linecolor": "white",
            "showbackground": true,
            "ticks": "",
            "zerolinecolor": "white"
           },
           "yaxis": {
            "backgroundcolor": "#E5ECF6",
            "gridcolor": "white",
            "gridwidth": 2,
            "linecolor": "white",
            "showbackground": true,
            "ticks": "",
            "zerolinecolor": "white"
           },
           "zaxis": {
            "backgroundcolor": "#E5ECF6",
            "gridcolor": "white",
            "gridwidth": 2,
            "linecolor": "white",
            "showbackground": true,
            "ticks": "",
            "zerolinecolor": "white"
           }
          },
          "shapedefaults": {
           "line": {
            "color": "#2a3f5f"
           }
          },
          "ternary": {
           "aaxis": {
            "gridcolor": "white",
            "linecolor": "white",
            "ticks": ""
           },
           "baxis": {
            "gridcolor": "white",
            "linecolor": "white",
            "ticks": ""
           },
           "bgcolor": "#E5ECF6",
           "caxis": {
            "gridcolor": "white",
            "linecolor": "white",
            "ticks": ""
           }
          },
          "title": {
           "x": 0.05
          },
          "xaxis": {
           "automargin": true,
           "gridcolor": "white",
           "linecolor": "white",
           "ticks": "",
           "title": {
            "standoff": 15
           },
           "zerolinecolor": "white",
           "zerolinewidth": 2
          },
          "yaxis": {
           "automargin": true,
           "gridcolor": "white",
           "linecolor": "white",
           "ticks": "",
           "title": {
            "standoff": 15
           },
           "zerolinecolor": "white",
           "zerolinewidth": 2
          }
         }
        },
        "title": {
         "text": "Passing quality ( 333)",
         "x": 0.5,
         "xanchor": "center"
        },
        "width": 1200,
        "xaxis": {
         "anchor": "y",
         "domain": [
          0,
          1
         ],
         "gridcolor": "lightgray",
         "showgrid": true,
         "title": {
          "text": "passes_attempted/90"
         },
         "zeroline": false
        },
        "yaxis": {
         "anchor": "x",
         "domain": [
          0,
          1
         ],
         "gridcolor": "lightgray",
         "showgrid": true,
         "title": {
          "text": "progressive_pass_rate"
         },
         "zeroline": false
        }
       }
      }
     },
     "metadata": {},
     "output_type": "display_data"
    }
   ],
   "source": [
    "# Filter data \n",
    "mask = (\n",
    "        (df_players['passes_attempted/90'] >= 40) & \\\n",
    "        (df_players['progressive_pass_rate'] >= 6) & \\\n",
    "        (df_players['pass_completion_%'] >= 85) & \\\n",
    "        (df_players['age'] <= 26) & \\\n",
    "        (df_players['id'].isin(targets))\n",
    "        \n",
    "        \n",
    ")\n",
    "\n",
    "df_targets = df_players[mask]\n",
    "\n",
    "scatter_plot(df_targets,\n",
    "             x_metric='passes_attempted/90', \n",
    "             y_metric='progressive_pass_rate',\n",
    "             z_metric='pass_completion_%',\n",
    "             title='Passing quality', \n",
    "             show_name_label=False\n",
    ")\n",
    "\n",
    "# Keep only players that fulfill criteria\n",
    "targets = list(df_targets['id'])"
   ]
  },
  {
   "cell_type": "markdown",
   "id": "db5f786f",
   "metadata": {},
   "source": [
    "## Possession Analysis"
   ]
  },
  {
   "cell_type": "code",
   "execution_count": 9,
   "id": "c382547d",
   "metadata": {},
   "outputs": [
    {
     "data": {
      "application/vnd.plotly.v1+json": {
       "config": {
        "plotlyServerURL": "https://plot.ly"
       },
       "data": [
        {
         "customdata": [
          [
           "Alasana Manneh",
           "OB"
          ],
          [
           "Pape Matar Sarr",
           "Tottenham"
          ],
          [
           "Houssem Mrezigue",
           "Vizela"
          ],
          [
           "Cheick Doucouré",
           "Crystal Palace"
          ],
          [
           "Edmond Tapsoba",
           "Bayer 04"
          ],
          [
           "Hicham Boudaoui",
           "Nice"
          ],
          [
           "Nicolás Domínguez",
           "Nottm Forest"
          ],
          [
           "Exequiel Palacios",
           "Bayer 04"
          ],
          [
           "Santiago Ascacíbar",
           "Estudiantes (LP)"
          ],
          [
           "Franco Moyano",
           "Argentinos Jrs."
          ],
          [
           "Leonel Picco",
           "Platense"
          ],
          [
           "Alexis Mac Allister",
           "Liverpool"
          ],
          [
           "Juan Ignacio Méndez",
           "Vélez"
          ],
          [
           "Carlos Villalba",
           "Platense"
          ],
          [
           "Fernando Juárez",
           "Platense"
          ],
          [
           "Agustín Cardozo",
           "Tigre"
          ],
          [
           "Joaquín Pereyra",
           "Atl. Tucumán"
          ],
          [
           "Fausto Vera",
           "COR"
          ],
          [
           "Facundo Mater",
           "Barracas Central"
          ],
          [
           "Santiago Sosa",
           "Racing Club"
          ],
          [
           "Juan Foyth",
           "Villarreal"
          ],
          [
           "Manuel Insaurralde",
           "Rosario Central"
          ],
          [
           "Adrián Sánchez",
           "Atl. Tucumán"
          ],
          [
           "Nicolás Garayalde",
           "Vélez"
          ],
          [
           "Santiago Coronel",
           "Barracas Central"
          ],
          [
           "Aníbal Moreno",
           "SEP"
          ],
          [
           "Franco Ibarra",
           "Rosario Central"
          ],
          [
           "Julián López",
           "Defensa y Justicia"
          ],
          [
           "Enzo Barrenechea",
           "Frosinone"
          ],
          [
           "Camilo Albornoz",
           "Atl. Tucumán"
          ],
          [
           "Diego Calcaterra",
           "Sarmiento (Junín)"
          ],
          [
           "Damián Fernández",
           "Vélez"
          ],
          [
           "Francisco Perruzzi",
           "San Lorenzo"
          ],
          [
           "Rodrigo Villagra",
           "River"
          ],
          [
           "Kevin Vázquez",
           "Central Córdoba (SdE)"
          ],
          [
           "Mateo Cáceres",
           "Tigre"
          ],
          [
           "Bautista Kociubinski",
           "Estudiantes (LP)"
          ],
          [
           "Franco Romero",
           "Defensa y Justicia"
          ],
          [
           "Juan Carlos Portillo",
           "Talleres"
          ],
          [
           "Enzo Fernández",
           "Chelsea"
          ],
          [
           "Agustín Toledo",
           "Huracán"
          ],
          [
           "Rodrigo Herrera",
           "Barracas Central"
          ],
          [
           "Mateo Seoane",
           "Talleres"
          ],
          [
           "Mateo Tanlongo",
           "Rio Ave"
          ],
          [
           "Maico Quiroz",
           "Sarmiento (Junín)"
          ],
          [
           "Santiago Longo",
           "Belgrano"
          ],
          [
           "Alan Varela",
           "FC Porto"
          ],
          [
           "Ulises Ortegoza",
           "Talleres"
          ],
          [
           "Juan Ignacio Nardoni",
           "Racing Club"
          ],
          [
           "Bruno Leyes",
           "Godoy Cruz"
          ],
          [
           "Patricio Tanda",
           "Unión (SF)"
          ],
          [
           "Ezequiel Fernández",
           "Boca"
          ],
          [
           "Leandro Figueredo",
           "Huracán"
          ],
          [
           "Zaid Romero",
           "Estudiantes (LP)"
          ],
          [
           "Ignacio Miramón",
           "Lille"
          ],
          [
           "Konrad Laimer",
           "FC Bayern"
          ],
          [
           "Xaver Schlager",
           "RB Leipzig"
          ],
          [
           "Dejan Ljubičić",
           "FC Köln"
          ],
          [
           "Amadou Haïdara",
           "RB Leipzig"
          ],
          [
           "Dominik Szoboszlai",
           "Liverpool"
          ],
          [
           "Youri Tielemans",
           "Aston Villa"
          ],
          [
           "Arno Verschueren",
           "Sparta Rotterdam"
          ],
          [
           "Casper De Norre",
           "Millwall"
          ],
          [
           "Siebe Horemans",
           "Excelsior"
          ],
          [
           "Albert Sambi Lokonga",
           "Luton"
          ],
          [
           "Edo Kayembe",
           "Watford"
          ],
          [
           "Thiago Maia",
           "FLA"
          ],
          [
           "Maycon",
           "COR"
          ],
          [
           "Pepê",
           "GRE"
          ],
          [
           "Andrey",
           "CTB"
          ],
          [
           "Matheus Fernandes",
           "RB Bragantino"
          ],
          [
           "Allan",
           "FLA"
          ],
          [
           "Diego Costa",
           "SPO"
          ],
          [
           "Nonato",
           "SAN"
          ],
          [
           "Matheus Henrique",
           "FLA"
          ],
          [
           "Pedro Augusto",
           "FOR"
          ],
          [
           "Hugo Moura",
           "Athlético Paranaense"
          ],
          [
           "Luan",
           "SPO"
          ],
          [
           "Gabriel Sara",
           "Norwich"
          ],
          [
           "Bruno Guimarães",
           "Newcastle"
          ],
          [
           "Douglas Luiz",
           "Aston Villa"
          ],
          [
           "Zé Gabriel",
           "Vasco da Gama"
          ],
          [
           "Ederson",
           "Napoli"
          ],
          [
           "Gabriel Menino",
           "SEP"
          ],
          [
           "De Lucca",
           "Vasco da Gama"
          ],
          [
           "Christian",
           "Athlético Paranaense"
          ],
          [
           "Jhonny Lucas",
           "GOI"
          ],
          [
           "Vitor Mendes",
           "FOR"
          ],
          [
           "Morato",
           "SL Benfica"
          ],
          [
           "Vinicius Balieiro",
           "SAN"
          ],
          [
           "Erick",
           "Athlético Paranaense"
          ],
          [
           "Edu",
           "GOI"
          ],
          [
           "Caio Alexandre",
           "BAH"
          ],
          [
           "Jadsom",
           "RB Bragantino"
          ],
          [
           "Fernando Henrique",
           "CEC"
          ],
          [
           "André",
           "FLU"
          ],
          [
           "Pablo Maia",
           "SPO"
          ],
          [
           "Bruno Gomes",
           "CTB"
          ],
          [
           "Fabinho",
           "SEP"
          ],
          [
           "Breno",
           "BOT"
          ],
          [
           "Richard Ríos",
           "SEP"
          ],
          [
           "Martinelli",
           "FLU"
          ],
          [
           "Kristijan Jakić",
           "Augsburg"
          ],
          [
           "Bartol Franjić",
           "Darmstadt 98"
          ],
          [
           "Mory Gbané",
           "Gil Vicente"
          ],
          [
           "Alex Král",
           "Union Berlin"
          ],
          [
           "Mads Emil Madsen",
           "AGF"
          ],
          [
           "Mark Brink",
           "Silkeborg IF"
          ],
          [
           "Ahmed Iljazovski",
           "Hvidovre IF"
          ],
          [
           "Morten Hjulmand",
           "Sporting CP"
          ],
          [
           "Ainsley Maitland-Niles",
           "Lyon"
          ],
          [
           "Ben Sheaf",
           "Coventry"
          ],
          [
           "Sean Longstaff",
           "Newcastle"
          ],
          [
           "Sam Field",
           "QPR"
          ],
          [
           "Trent Alexander-Arnold",
           "Liverpool"
          ],
          [
           "Kiernan Dewsbury-Hall",
           "Leicester"
          ],
          [
           "Declan Rice",
           "Arsenal"
          ],
          [
           "Tom Dele-Bashiru",
           "Watford"
          ],
          [
           "Nnamdi Ofoborh",
           "Sheffield Wednesday"
          ],
          [
           "Haydon Roberts",
           "Bristol City"
          ],
          [
           "Pierre Ekwah",
           "Sunderland"
          ],
          [
           "Luke Cundle",
           "Stoke"
          ],
          [
           "Bashir Humphreys",
           "Swansea"
          ],
          [
           "Odel Offiah",
           "QPR"
          ],
          [
           "Tyler Morton",
           "Hull"
          ],
          [
           "Lewis Cook",
           "Bournemouth"
          ],
          [
           "Ryan Yates",
           "Nottm Forest"
          ],
          [
           "Joe Rankin-Costello",
           "Blackburn"
          ],
          [
           "Jayson Molumby",
           "West Brom"
          ],
          [
           "Flynn Downes",
           "Southampton"
          ],
          [
           "Lewis O'Brien",
           "Middlesbrough"
          ],
          [
           "Andy Rinomhota",
           "Rotherham"
          ],
          [
           "Melle Meulensteen",
           "Vitesse"
          ],
          [
           "Callum Styles",
           "Sunderland"
          ],
          [
           "David Kasumu",
           "Huddersfield"
          ],
          [
           "Ethan Ampadu",
           "Leeds"
          ],
          [
           "Jordan Holsgrove",
           "Estoril Praia"
          ],
          [
           "Regan Slater",
           "Hull"
          ],
          [
           "Adam Randell",
           "Plymouth"
          ],
          [
           "Hayden Hackney",
           "Middlesbrough"
          ],
          [
           "Dan Neil",
           "Sunderland"
          ],
          [
           "Taylor Gardner-Hickman",
           "Bristol City"
          ],
          [
           "Jude Bellingham",
           "Real Madrid"
          ],
          [
           "Frenkie de Jong",
           "Barcelona"
          ],
          [
           "Calvin Verdonk",
           "N.E.C. Nijmegen"
          ],
          [
           "Gustavo Hamer",
           "Sheff Utd"
          ],
          [
           "Noussair Mazraoui",
           "FC Bayern"
          ],
          [
           "Philippe Sandler",
           "N.E.C. Nijmegen"
          ],
          [
           "Pablo Rosario",
           "Nice"
          ],
          [
           "Jerdy Schouten",
           "PSV"
          ],
          [
           "Mees Hoedemakers",
           "N.E.C. Nijmegen"
          ],
          [
           "Teun Koopmeiners",
           "Atalanta"
          ],
          [
           "Jordan Teze",
           "PSV"
          ],
          [
           "Radinio Balker",
           "Huddersfield"
          ],
          [
           "Pascal Struijk",
           "Leeds"
          ],
          [
           "Jamal Amofa",
           "Go Ahead Eagles"
          ],
          [
           "Quinten Timber",
           "Feyenoord"
          ],
          [
           "Michal Sadílek",
           "FC Twente"
          ],
          [
           "Peer Koopmeiners",
           "Almere City"
          ],
          [
           "Lutsharel Geertruida",
           "Feyenoord"
          ],
          [
           "Tijjani Reijnders",
           "Milan"
          ],
          [
           "Mats Wieffer",
           "Feyenoord"
          ],
          [
           "Davy van den Berg",
           "PEC Zwolle"
          ],
          [
           "Ryan Gravenberch",
           "Leicester"
          ],
          [
           "Dirk Proper",
           "N.E.C. Nijmegen"
          ],
          [
           "Kenneth Taylor",
           "Ajax"
          ],
          [
           "Eliano Reijnders",
           "PEC Zwolle"
          ],
          [
           "Thomas Beelen",
           "Feyenoord"
          ],
          [
           "Nathan Tjoe-A-On",
           "sc Heerenveen"
          ],
          [
           "Mathijs Tielemans",
           "Vitesse"
          ],
          [
           "Youri Regeer",
           "FC Twente"
          ],
          [
           "Enzo Cornelisse",
           "Vitesse"
          ],
          [
           "Ryan Flamingo",
           "FC Utrecht"
          ],
          [
           "Calvin Twigt",
           "FC Volendam"
          ],
          [
           "Lamare Bogarde",
           "Preston"
          ],
          [
           "Julian Baas",
           "Excelsior"
          ],
          [
           "Serano Seymor",
           "Excelsior"
          ],
          [
           "Kolbeinn Birgir Finnsson",
           "Lyngby"
          ],
          [
           "Nicolò Barella",
           "Inter"
          ],
          [
           "Matteo Pessina",
           "Monza"
          ],
          [
           "Rolando Mandragora",
           "Fiorentina"
          ],
          [
           "Manuel Locatelli",
           "Juventus"
          ],
          [
           "Daniel Boloca",
           "Sassuolo"
          ],
          [
           "Tommaso Pobega",
           "Milan"
          ],
          [
           "Sandro Tonali",
           "Newcastle"
          ],
          [
           "Marco Brescianini",
           "Frosinone"
          ],
          [
           "Nicolò Rovella",
           "Lazio"
          ],
          [
           "Rodrigo Guth",
           "Fortuna Sittard"
          ],
          [
           "Samuele Ricci",
           "Torino"
          ],
          [
           "Michel Ndary Adopo",
           "Atalanta"
          ],
          [
           "Yuta Nakayama",
           "Huddersfield"
          ],
          [
           "Olivier Boscagli",
           "PSV"
          ],
          [
           "Ibrahima Sissoko",
           "Strasbourg"
          ],
          [
           "Aurélien Tchouameni",
           "Real Madrid"
          ],
          [
           "Ibrahim Sangaré",
           "Nottm Forest"
          ],
          [
           "Boubacar Kamara",
           "Aston Villa"
          ],
          [
           "Yacine Adli",
           "Milan"
          ],
          [
           "Boubakary Soumaré",
           "Sevilla"
          ],
          [
           "Warmed Omari",
           "Rennes"
          ],
          [
           "Eric Junior Dina Ebimbe",
           "Eintracht Frankfurt"
          ],
          [
           "Moussa Diarra",
           "Toulouse"
          ],
          [
           "Youssouf Fofana",
           "Monaco"
          ],
          [
           "Manu Koné",
           "Mönchengladbach"
          ],
          [
           "Chrislain Matsima",
           "Clermont"
          ],
          [
           "Joris Chotard",
           "Montpellier"
          ],
          [
           "Tom Lacoux",
           "Famalicão"
          ],
          [
           "Eduardo Camavinga",
           "Real Madrid"
          ],
          [
           "Salis Abdul Samed",
           "Lens"
          ],
          [
           "Andy Diouf",
           "Lens"
          ],
          [
           "Edson Álvarez",
           "West Ham"
          ],
          [
           "Kristoffer Ajer",
           "Brentford"
          ],
          [
           "Mathias Kjølø",
           "FC Twente"
          ],
          [
           "Sivert Mannsverk",
           "Ajax"
          ],
          [
           "Magnus Nordengen Knudsen",
           "AGF"
          ],
          [
           "Eboué Kouassi",
           "Arouca"
          ],
          [
           "Billy Gilmour",
           "Brighton"
          ],
          [
           "Ali McCann",
           "Preston"
          ],
          [
           "Erhan Mašović",
           "VfL Bochum"
          ],
          [
           "Ilija Vukotić",
           "Boavista"
          ],
          [
           "Mirko Topić",
           "Famalicão"
          ],
          [
           "Pedro Chirivella",
           "Nantes"
          ],
          [
           "Aleix García",
           "Girona"
          ],
          [
           "Paik Seung-Ho",
           "Birmingham"
          ],
          [
           "Fede San Emeterio",
           "Cádiz"
          ],
          [
           "Pepelu",
           "Valencia"
          ],
          [
           "Keidi Bare",
           "Coventry"
          ],
          [
           "Fran Beltrán",
           "Celta"
          ],
          [
           "Edgar",
           "Almería"
          ],
          [
           "Martín Zubimendi",
           "Real Sociedad"
          ],
          [
           "Antonio Blanco",
           "Alavés"
          ],
          [
           "Dani Vivian",
           "Athletic"
          ],
          [
           "Hugo Guillamón",
           "Valencia"
          ],
          [
           "Jon Moncayola",
           "Osasuna"
          ],
          [
           "Rodrigo Zalazar",
           "Sp. Braga"
          ],
          [
           "Nico González",
           "FC Porto"
          ],
          [
           "Beñat Prados",
           "Athletic"
          ],
          [
           "Iker Muñoz",
           "Osasuna"
          ],
          [
           "Tyler Adams",
           "Bournemouth"
          ],
          [
           "Weston McKennie",
           "Juventus"
          ],
          [
           "Jesús Castillo",
           "Gil Vicente"
          ],
          [
           "Federico Valverde",
           "Real Madrid"
          ],
          [
           "Manuel Ugarte",
           "PSG"
          ],
          [
           "Alan Rodríguez",
           "Argentinos Jrs."
          ],
          [
           "Nicolás Acevedo",
           "BAH"
          ],
          [
           "Mathías Villasanti",
           "GRE"
          ],
          [
           "Matías Galarza",
           "Talleres"
          ],
          [
           "Daniel Bragança",
           "Sporting CP"
          ],
          [
           "Paulo Estrela",
           "Portimonense"
          ],
          [
           "Vitinha",
           "PSG"
          ],
          [
           "Tiago Dantas",
           "AZ"
          ],
          [
           "Tomás Ribeiro",
           "Vit. Guimarães"
          ],
          [
           "Jota",
           "Vizela"
          ],
          [
           "Samú",
           "Mallorca"
          ],
          [
           "Dani",
           "Hellas Verona"
          ],
          [
           "Ibrahima Camará",
           "Boavista"
          ],
          [
           "Gonçalo Franco",
           "Moreirense"
          ],
          [
           "Manu Silva",
           "Vit. Guimarães"
          ],
          [
           "Maxime Lopez",
           "Fiorentina"
          ],
          [
           "Mahdi Camara",
           "Brest"
          ],
          [
           "Yangel Herrera",
           "Girona"
          ],
          [
           "Cristian Cásseres",
           "Toulouse"
          ],
          [
           "Alan Franco",
           "ATM"
          ],
          [
           "Moisés Caicedo",
           "Chelsea"
          ],
          [
           "Vitaly Janelt",
           "Brentford"
          ],
          [
           "Niklas Dorsch",
           "Eintracht Frankfurt"
          ],
          [
           "Amos Pieper",
           "SV Werder"
          ],
          [
           "Paul Jaeckel",
           "Lyon"
          ],
          [
           "Tom Krauß",
           "Mainz 05"
          ],
          [
           "Elvis Rexhbecaj",
           "Augsburg"
          ],
          [
           "Can Bozdogan",
           "FC Utrecht"
          ],
          [
           "Angelo Stiller",
           "VfB Stuttgart"
          ],
          [
           "Leandro Barreiro",
           "Mainz 05"
          ],
          [
           "Anton Stach",
           "TSG Hoffenheim"
          ],
          [
           "Eric Martel",
           "FC Köln"
          ],
          [
           "Amadou Onana",
           "Everton"
          ],
          [
           "Michael Akoto",
           "AGF"
          ],
          [
           "Iliya Gruev",
           "Leeds"
          ],
          [
           "Simon Olsson",
           "sc Heerenveen"
          ],
          [
           "Mattias Svanberg",
           "VfL Wolfsburg"
          ],
          [
           "Jens Cajuste",
           "Napoli"
          ],
          [
           "John Björkengren",
           "Randers FC"
          ],
          [
           "Chumi",
           "Almería"
          ],
          [
           "Djibril Sow",
           "Sevilla"
          ],
          [
           "Michel Aebischer",
           "Bologna"
          ],
          [
           "Mads Enggård",
           "Randers FC"
          ],
          [
           "William Clem",
           "FC København"
          ],
          [
           "Agustín Maciel",
           "Arsenal (Sarandí)"
          ],
          [
           "Raniele",
           "COR"
          ],
          [
           "João Neves",
           "SL Benfica"
          ],
          [
           "Guilherme Madruga",
           "CUI"
          ],
          [
           "Stefano Moreyra",
           "Instituto"
          ],
          [
           "Cameron Humphreys",
           "Ipswich"
          ],
          [
           "Manuel García",
           "Central Córdoba (SdE)"
          ],
          [
           "Oussama Targhalline",
           "Havre AC"
          ],
          [
           "Agostino Spina",
           "Huracán"
          ],
          [
           "Oliver Johansen Braude",
           "sc Heerenveen"
          ],
          [
           "Elián Irala",
           "San Lorenzo"
          ],
          [
           "Zé Carlos",
           "Vit. Guimarães"
          ],
          [
           "Ramón Terrats",
           "Villarreal"
          ],
          [
           "Sadik Fofana",
           "Fortuna Sittard"
          ],
          [
           "Alexsander",
           "FLU"
          ],
          [
           "Emanuel Quinteros",
           "Godoy Cruz"
          ],
          [
           "Rodrigo Saravia",
           "Gimnasia (LP)"
          ],
          [
           "Nathan",
           "GOI"
          ],
          [
           "Rico Lewis",
           "Man City"
          ],
          [
           "Nahuel Frascone",
           "Arsenal (Sarandí)"
          ],
          [
           "Igor Jesus",
           "FLA"
          ],
          [
           "Amir Richardson",
           "Stade Reims"
          ],
          [
           "Lewis Hall",
           "Newcastle"
          ],
          [
           "Negrucci",
           "SPO"
          ],
          [
           "Kevin López",
           "Defensa y Justicia"
          ],
          [
           "Samuel Lucero",
           "Defensa y Justicia"
          ],
          [
           "Ismaël Koné",
           "Watford"
          ],
          [
           "Kobbie Mainoo",
           "Man Utd"
          ],
          [
           "Benjamín Schamine",
           "Defensa y Justicia"
          ],
          [
           "Jochem Ritmeester van de Kamp",
           "Almere City"
          ],
          [
           "Lorenzo Scipioni",
           "Tigre"
          ],
          [
           "Matheus Dias",
           "INT"
          ],
          [
           "Breno Bidon",
           "COR"
          ],
          [
           "Milton Ríos",
           "Huracán"
          ],
          [
           "João Victor Balão",
           "SAN"
          ],
          [
           "Kevin Ortiz",
           "Rosario Central"
          ],
          [
           "Carlos Baleba",
           "Brighton"
          ],
          [
           "Warren Zaïre-Emery",
           "PSG"
          ],
          [
           "Archie Gray",
           "Leeds"
          ],
          [
           "Lewis Miley",
           "Leicester"
          ],
          [
           "Gabriel Moscardo",
           "COR"
          ],
          [
           "Leonel Vega",
           "Atl. Tucumán"
          ],
          [
           "Joaquín Mosqueira",
           "Unión (SF)"
          ],
          [
           "César Amarilla",
           "Rosario Central"
          ],
          [
           "Gerónimo Heredia",
           "Belgrano"
          ],
          [
           "Lucas López",
           "Instituto"
          ],
          [
           "Fabrício Dias",
           "FOR"
          ]
         ],
         "hovertemplate": "<b>%{customdata[0]}</b><br><b>%{customdata[1]}</b><br><br>possession_lost/90: %{x}<br>possession_won/90: %{y}<br>poss+_/90: %{marker.color}<extra></extra>",
         "legendgroup": "",
         "marker": {
          "color": {
           "bdata": "KVyPwvUoDMDNzMzMzMzkvz0K16NwPQJAj8L1KFyPBkDD9Shcj8IYQOxRuB6F6/m/cT0K16NwBUDD9Shcj8LlPzMzMzMzMwNAKVyPwvUoAkC4HoXrUbgSQOF6FK5H4RTAKVyPwvUoGUCamZmZmZkHQK5H4XoUrgtAH4XrUbgeGUApXI/C9SgUwMP1KFyPwhdAAAAAAAAA6L8fhetRuB4fQJqZmZmZmRVApHA9Ctej+D/sUbgehesDwArXo3A9ChdA9ihcj8L1GMDsUbgehevBP7gehetRuBNAhetRuB6F67+PwvUoXI8TQIXrUbgehfM/pHA9CtejDkB7FK5H4XojQD0K16NwPQxAj8L1KFyP+r+F61G4HoUBwI/C9Shcj/4/mpmZmZmZ2T+uR+F6FK7zvxSuR+F6FBFAXI/C9ShcEMA9CtejcD0YQEjhehSuR/0/AAAAAAAAFEBmZmZmZmbWP+xRuB6F6/G/w/UoXI/CIEC4HoXrUbjuP+xRuB6F6x1Aw/UoXI/C/T/hehSuR+EdQAAAAAAAABVAZmZmZmZmBkBSuB6F61EmQIXrUbgehSZAmpmZmZmZuT8AAAAAAAD0v5qZmZmZmek/4XoUrkfh4j/D9Shcj8LVP9ejcD0K1xTAFK5H4XoUFMDD9Shcj8LtPxSuR+F6FPo/cT0K16NwFEDsUbgehev9P6RwPQrXo+C/4XoUrkfhF0ApXI/C9SgWQDMzMzMzMxJAzczMzMzMHEBSuB6F61Hwv3sUrkfhegLAXI/C9ShcHkC4HoXrUbjuvx+F61G4HhBAH4XrUbge8T+PwvUoXI8fQOxRuB6F6wtAzczMzMzM3D9xPQrXo3Dxv9ejcD0K1wPArkfhehSuD0BSuB6F61Hov5qZmZmZmeG/PQrXo3A94j8pXI/C9SjsvzMzMzMzMxVAPQrXo3A9DkCF61G4HoUhQOxRuB6F6xZAXI/C9ShcEEBcj8L1KFwYQB+F61G4HvE/XI/C9ShcF0A9CtejcD0IQD0K16NwPRhAFK5H4XoUE0CkcD0K16MbQAAAAAAAAABAPQrXo3A94r/Xo3A9CtfzPwAAAAAAAPg/9ihcj8L1DkAzMzMzMzMDQHE9CtejcPU/16NwPQrXCUAUrkfhehTuv83MzMzMzPS/4XoUrkfhEkDD9Shcj8LlP4/C9ShcjxbAexSuR+F6+D+4HoXrUbj2P+xRuB6F6/k/XI/C9Shc3z9xPQrXo3AWwMP1KFyPwgPAcT0K16NwB8CF61G4HoUHwOxRuB6F6+k/UrgehetR8D97FK5H4Xr8v0jhehSuRw9AFK5H4XoUEEDNzMzMzMwOwOxRuB6F67G/4XoUrkfh8r/2KFyPwvUAwOxRuB6F6wVArkfhehSu+z97FK5H4Xrkv7gehetRuAZAj8L1KFyPBEBSuB6F61H8PwAAAAAAAARAuB6F61G4vj+F61G4HoUBwOxRuB6F6+k/cT0K16Nw+T+uR+F6FK73vzMzMzMzMwNAw/UoXI/C/b+amZmZmZkBwDMzMzMzM+u/UrgehetRyD9mZmZmZmbWv+F6FK5H4QRAj8L1KFyPFEA9CtejcD0QQFK4HoXrUdg/pHA9Ctej9L+F61G4HoX3v2ZmZmZmZhVAAAAAAAAACkCPwvUoXI8dQNejcD0K1xBApHA9CtejBEAfhetRuB4LQI/C9Shcj+q/H4XrUbgeBUCkcD0K16MOwAAAAAAAAOg/4XoUrkfh2r/Xo3A9CtcFQK5H4XoUru+/AAAAAAAAAABmZmZmZmbmP4XrUbgehRZAj8L1KFyPEEApXI/C9SgIwAAAAAAAAPg/ZmZmZmZmGEAUrkfhehQSQD0K16NwPdo/w/UoXI/C/T97FK5H4Xrkv5qZmZmZmRBACtejcD0KFEBxPQrXo3D9vwrXo3A9Cu+/exSuR+F6AMBcj8L1KFzzP/YoXI/C9fA/16NwPQrX/z+4HoXrUbgAwDMzMzMzM+O/exSuR+F6/L+uR+F6FK4JQOF6FK5H4eo/H4XrUbge+T9mZmZmZmYMQDMzMzMzMx1ACtejcD0K778K16NwPQr/P4/C9ShcjwRASOF6FK5H+T97FK5H4Xr4v/YoXI/C9Q5AcT0K16NwFEAzMzMzM7MhwLgehetROCBAj8L1KFyP8j89CtejcD0CQIXrUbgehQlA9ihcj8L1CEApXI/C9SgIQD0K16NwPQbAw/UoXI/C/T89CtejcD0SQAAAAAAAAAJAUrgehetREkA9CtejcD3qv4XrUbgehds/H4XrUbgeB8C4HoXrUbj+PxSuR+F6FBDAPQrXo3A9AEC4HoXrUbgMQB+F61G4HvU/PQrXo3A9+j8AAAAAAADgPylcj8L1KA7AexSuR+F6CsB7FK5H4Xq0PxSuR+F6FO4/j8L1KFyPCEAAAAAAAAAKQGZmZmZmZvY/MzMzMzMzw7/2KFyPwvX0vzMzMzMzMxNAXI/C9ShcAUB7FK5H4Xr8PwAAAAAAAPi/4XoUrkfh4r+PwvUoXI8OwGZmZmZmZvo/9ihcj8L1DEApXI/C9SgQwMP1KFyPwgFAAAAAAAAABkCkcD0K16P0P4/C9Shcj/4/PQrXo3A9HECF61G4HoUYQMP1KFyPwvU/FK5H4XoUCsDXo3A9Ctfrv3sUrkfhegjASOF6FK5HDcDXo3A9CtcbQOF6FK5H4RZArkfhehSu9z9cj8L1KFwJQClcj8L1KLw/KVyPwvUoAkAzMzMzMzMTQFyPwvUoXPO/AAAAAAAAAABcj8L1KFz3v7gehetRuPq/pHA9CtejE0AAAAAAAAAAAClcj8L1KOy/zczMzMzM7L9SuB6F61EVQAAAAAAAABdAH4XrUbgeBUAK16NwPQr/PwAAAAAAAOi/cT0K16NwDcCkcD0K16PwPwAAAAAAAPS/AAAAAAAAEkBcj8L1KFz7P2ZmZmZmZhZAFK5H4XoU9r+amZmZmZkHwIXrUbgehQPAUrgehetRAkAAAAAAAAD0v8P1KFyPwhVAKVyPwvUo5L9xPQrXo3D1v2ZmZmZmZua/AAAAAAAAAkCPwvUoXI8MwHsUrkfherS/UrgehetR9D/D9Shcj8L5Pylcj8L1KOw/MzMzMzMz/7/sUbgehesaQAAAAAAAAAAAFK5H4XoU/j+amZmZmZkLwBSuR+F6FABApHA9Ctej/D9xPQrXo3ANwNejcD0K1xRA7FG4HoXrD0DNzMzMzMwXQI/C9Shcj/Y/rkfhehSuGECamZmZmZkZQOF6FK5H4eI/CtejcD0KBUDNzMzMzMwCwM3MzMzMzPC/j8L1KFyPHUDsUbgehesTQEjhehSuRyFAAAAAAAAA0L8pXI/C9SjcP8P1KFyPwhBAH4XrUbge1b9xPQrXo3AZwKRwPQrXowZAPQrXo3A9EUBmZmZmZmYUwArXo3A9Cu8/7FG4HoXrGEBxPQrXo3DNv65H4XoUrgfA4XoUrkfhyj9SuB6F61EGwJqZmZmZmdk/16NwPQrX07/hehSuR+EWQPYoXI/C9RRA7FG4HoXr/b+PwvUoXI8IQHsUrkfhegrA",
           "dtype": "f8"
          },
          "coloraxis": "coloraxis",
          "size": 10,
          "symbol": "circle"
         },
         "mode": "markers",
         "name": "",
         "orientation": "v",
         "showlegend": false,
         "textfont": {
          "size": 10
         },
         "textposition": "top center",
         "type": "scatter",
         "x": {
          "bdata": "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",
          "dtype": "f8"
         },
         "xaxis": "x",
         "y": {
          "bdata": "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",
          "dtype": "f8"
         },
         "yaxis": "y"
        }
       ],
       "layout": {
        "coloraxis": {
         "colorbar": {
          "title": {
           "text": "poss+_/90"
          }
         },
         "colorscale": [
          [
           0,
           "rgb(165,0,38)"
          ],
          [
           0.1,
           "rgb(215,48,39)"
          ],
          [
           0.2,
           "rgb(244,109,67)"
          ],
          [
           0.3,
           "rgb(253,174,97)"
          ],
          [
           0.4,
           "rgb(254,224,139)"
          ],
          [
           0.5,
           "rgb(255,255,191)"
          ],
          [
           0.6,
           "rgb(217,239,139)"
          ],
          [
           0.7,
           "rgb(166,217,106)"
          ],
          [
           0.8,
           "rgb(102,189,99)"
          ],
          [
           0.9,
           "rgb(26,152,80)"
          ],
          [
           1,
           "rgb(0,104,55)"
          ]
         ],
         "showscale": false
        },
        "height": 700,
        "legend": {
         "tracegroupgap": 0
        },
        "paper_bgcolor": "white",
        "plot_bgcolor": "white",
        "template": {
         "data": {
          "bar": [
           {
            "error_x": {
             "color": "#2a3f5f"
            },
            "error_y": {
             "color": "#2a3f5f"
            },
            "marker": {
             "line": {
              "color": "#E5ECF6",
              "width": 0.5
             },
             "pattern": {
              "fillmode": "overlay",
              "size": 10,
              "solidity": 0.2
             }
            },
            "type": "bar"
           }
          ],
          "barpolar": [
           {
            "marker": {
             "line": {
              "color": "#E5ECF6",
              "width": 0.5
             },
             "pattern": {
              "fillmode": "overlay",
              "size": 10,
              "solidity": 0.2
             }
            },
            "type": "barpolar"
           }
          ],
          "carpet": [
           {
            "aaxis": {
             "endlinecolor": "#2a3f5f",
             "gridcolor": "white",
             "linecolor": "white",
             "minorgridcolor": "white",
             "startlinecolor": "#2a3f5f"
            },
            "baxis": {
             "endlinecolor": "#2a3f5f",
             "gridcolor": "white",
             "linecolor": "white",
             "minorgridcolor": "white",
             "startlinecolor": "#2a3f5f"
            },
            "type": "carpet"
           }
          ],
          "choropleth": [
           {
            "colorbar": {
             "outlinewidth": 0,
             "ticks": ""
            },
            "type": "choropleth"
           }
          ],
          "contour": [
           {
            "colorbar": {
             "outlinewidth": 0,
             "ticks": ""
            },
            "colorscale": [
             [
              0,
              "#0d0887"
             ],
             [
              0.1111111111111111,
              "#46039f"
             ],
             [
              0.2222222222222222,
              "#7201a8"
             ],
             [
              0.3333333333333333,
              "#9c179e"
             ],
             [
              0.4444444444444444,
              "#bd3786"
             ],
             [
              0.5555555555555556,
              "#d8576b"
             ],
             [
              0.6666666666666666,
              "#ed7953"
             ],
             [
              0.7777777777777778,
              "#fb9f3a"
             ],
             [
              0.8888888888888888,
              "#fdca26"
             ],
             [
              1,
              "#f0f921"
             ]
            ],
            "type": "contour"
           }
          ],
          "contourcarpet": [
           {
            "colorbar": {
             "outlinewidth": 0,
             "ticks": ""
            },
            "type": "contourcarpet"
           }
          ],
          "heatmap": [
           {
            "colorbar": {
             "outlinewidth": 0,
             "ticks": ""
            },
            "colorscale": [
             [
              0,
              "#0d0887"
             ],
             [
              0.1111111111111111,
              "#46039f"
             ],
             [
              0.2222222222222222,
              "#7201a8"
             ],
             [
              0.3333333333333333,
              "#9c179e"
             ],
             [
              0.4444444444444444,
              "#bd3786"
             ],
             [
              0.5555555555555556,
              "#d8576b"
             ],
             [
              0.6666666666666666,
              "#ed7953"
             ],
             [
              0.7777777777777778,
              "#fb9f3a"
             ],
             [
              0.8888888888888888,
              "#fdca26"
             ],
             [
              1,
              "#f0f921"
             ]
            ],
            "type": "heatmap"
           }
          ],
          "histogram": [
           {
            "marker": {
             "pattern": {
              "fillmode": "overlay",
              "size": 10,
              "solidity": 0.2
             }
            },
            "type": "histogram"
           }
          ],
          "histogram2d": [
           {
            "colorbar": {
             "outlinewidth": 0,
             "ticks": ""
            },
            "colorscale": [
             [
              0,
              "#0d0887"
             ],
             [
              0.1111111111111111,
              "#46039f"
             ],
             [
              0.2222222222222222,
              "#7201a8"
             ],
             [
              0.3333333333333333,
              "#9c179e"
             ],
             [
              0.4444444444444444,
              "#bd3786"
             ],
             [
              0.5555555555555556,
              "#d8576b"
             ],
             [
              0.6666666666666666,
              "#ed7953"
             ],
             [
              0.7777777777777778,
              "#fb9f3a"
             ],
             [
              0.8888888888888888,
              "#fdca26"
             ],
             [
              1,
              "#f0f921"
             ]
            ],
            "type": "histogram2d"
           }
          ],
          "histogram2dcontour": [
           {
            "colorbar": {
             "outlinewidth": 0,
             "ticks": ""
            },
            "colorscale": [
             [
              0,
              "#0d0887"
             ],
             [
              0.1111111111111111,
              "#46039f"
             ],
             [
              0.2222222222222222,
              "#7201a8"
             ],
             [
              0.3333333333333333,
              "#9c179e"
             ],
             [
              0.4444444444444444,
              "#bd3786"
             ],
             [
              0.5555555555555556,
              "#d8576b"
             ],
             [
              0.6666666666666666,
              "#ed7953"
             ],
             [
              0.7777777777777778,
              "#fb9f3a"
             ],
             [
              0.8888888888888888,
              "#fdca26"
             ],
             [
              1,
              "#f0f921"
             ]
            ],
            "type": "histogram2dcontour"
           }
          ],
          "mesh3d": [
           {
            "colorbar": {
             "outlinewidth": 0,
             "ticks": ""
            },
            "type": "mesh3d"
           }
          ],
          "parcoords": [
           {
            "line": {
             "colorbar": {
              "outlinewidth": 0,
              "ticks": ""
             }
            },
            "type": "parcoords"
           }
          ],
          "pie": [
           {
            "automargin": true,
            "type": "pie"
           }
          ],
          "scatter": [
           {
            "fillpattern": {
             "fillmode": "overlay",
             "size": 10,
             "solidity": 0.2
            },
            "type": "scatter"
           }
          ],
          "scatter3d": [
           {
            "line": {
             "colorbar": {
              "outlinewidth": 0,
              "ticks": ""
             }
            },
            "marker": {
             "colorbar": {
              "outlinewidth": 0,
              "ticks": ""
             }
            },
            "type": "scatter3d"
           }
          ],
          "scattercarpet": [
           {
            "marker": {
             "colorbar": {
              "outlinewidth": 0,
              "ticks": ""
             }
            },
            "type": "scattercarpet"
           }
          ],
          "scattergeo": [
           {
            "marker": {
             "colorbar": {
              "outlinewidth": 0,
              "ticks": ""
             }
            },
            "type": "scattergeo"
           }
          ],
          "scattergl": [
           {
            "marker": {
             "colorbar": {
              "outlinewidth": 0,
              "ticks": ""
             }
            },
            "type": "scattergl"
           }
          ],
          "scattermap": [
           {
            "marker": {
             "colorbar": {
              "outlinewidth": 0,
              "ticks": ""
             }
            },
            "type": "scattermap"
           }
          ],
          "scattermapbox": [
           {
            "marker": {
             "colorbar": {
              "outlinewidth": 0,
              "ticks": ""
             }
            },
            "type": "scattermapbox"
           }
          ],
          "scatterpolar": [
           {
            "marker": {
             "colorbar": {
              "outlinewidth": 0,
              "ticks": ""
             }
            },
            "type": "scatterpolar"
           }
          ],
          "scatterpolargl": [
           {
            "marker": {
             "colorbar": {
              "outlinewidth": 0,
              "ticks": ""
             }
            },
            "type": "scatterpolargl"
           }
          ],
          "scatterternary": [
           {
            "marker": {
             "colorbar": {
              "outlinewidth": 0,
              "ticks": ""
             }
            },
            "type": "scatterternary"
           }
          ],
          "surface": [
           {
            "colorbar": {
             "outlinewidth": 0,
             "ticks": ""
            },
            "colorscale": [
             [
              0,
              "#0d0887"
             ],
             [
              0.1111111111111111,
              "#46039f"
             ],
             [
              0.2222222222222222,
              "#7201a8"
             ],
             [
              0.3333333333333333,
              "#9c179e"
             ],
             [
              0.4444444444444444,
              "#bd3786"
             ],
             [
              0.5555555555555556,
              "#d8576b"
             ],
             [
              0.6666666666666666,
              "#ed7953"
             ],
             [
              0.7777777777777778,
              "#fb9f3a"
             ],
             [
              0.8888888888888888,
              "#fdca26"
             ],
             [
              1,
              "#f0f921"
             ]
            ],
            "type": "surface"
           }
          ],
          "table": [
           {
            "cells": {
             "fill": {
              "color": "#EBF0F8"
             },
             "line": {
              "color": "white"
             }
            },
            "header": {
             "fill": {
              "color": "#C8D4E3"
             },
             "line": {
              "color": "white"
             }
            },
            "type": "table"
           }
          ]
         },
         "layout": {
          "annotationdefaults": {
           "arrowcolor": "#2a3f5f",
           "arrowhead": 0,
           "arrowwidth": 1
          },
          "autotypenumbers": "strict",
          "coloraxis": {
           "colorbar": {
            "outlinewidth": 0,
            "ticks": ""
           }
          },
          "colorscale": {
           "diverging": [
            [
             0,
             "#8e0152"
            ],
            [
             0.1,
             "#c51b7d"
            ],
            [
             0.2,
             "#de77ae"
            ],
            [
             0.3,
             "#f1b6da"
            ],
            [
             0.4,
             "#fde0ef"
            ],
            [
             0.5,
             "#f7f7f7"
            ],
            [
             0.6,
             "#e6f5d0"
            ],
            [
             0.7,
             "#b8e186"
            ],
            [
             0.8,
             "#7fbc41"
            ],
            [
             0.9,
             "#4d9221"
            ],
            [
             1,
             "#276419"
            ]
           ],
           "sequential": [
            [
             0,
             "#0d0887"
            ],
            [
             0.1111111111111111,
             "#46039f"
            ],
            [
             0.2222222222222222,
             "#7201a8"
            ],
            [
             0.3333333333333333,
             "#9c179e"
            ],
            [
             0.4444444444444444,
             "#bd3786"
            ],
            [
             0.5555555555555556,
             "#d8576b"
            ],
            [
             0.6666666666666666,
             "#ed7953"
            ],
            [
             0.7777777777777778,
             "#fb9f3a"
            ],
            [
             0.8888888888888888,
             "#fdca26"
            ],
            [
             1,
             "#f0f921"
            ]
           ],
           "sequentialminus": [
            [
             0,
             "#0d0887"
            ],
            [
             0.1111111111111111,
             "#46039f"
            ],
            [
             0.2222222222222222,
             "#7201a8"
            ],
            [
             0.3333333333333333,
             "#9c179e"
            ],
            [
             0.4444444444444444,
             "#bd3786"
            ],
            [
             0.5555555555555556,
             "#d8576b"
            ],
            [
             0.6666666666666666,
             "#ed7953"
            ],
            [
             0.7777777777777778,
             "#fb9f3a"
            ],
            [
             0.8888888888888888,
             "#fdca26"
            ],
            [
             1,
             "#f0f921"
            ]
           ]
          },
          "colorway": [
           "#636efa",
           "#EF553B",
           "#00cc96",
           "#ab63fa",
           "#FFA15A",
           "#19d3f3",
           "#FF6692",
           "#B6E880",
           "#FF97FF",
           "#FECB52"
          ],
          "font": {
           "color": "#2a3f5f"
          },
          "geo": {
           "bgcolor": "white",
           "lakecolor": "white",
           "landcolor": "#E5ECF6",
           "showlakes": true,
           "showland": true,
           "subunitcolor": "white"
          },
          "hoverlabel": {
           "align": "left"
          },
          "hovermode": "closest",
          "mapbox": {
           "style": "light"
          },
          "paper_bgcolor": "white",
          "plot_bgcolor": "#E5ECF6",
          "polar": {
           "angularaxis": {
            "gridcolor": "white",
            "linecolor": "white",
            "ticks": ""
           },
           "bgcolor": "#E5ECF6",
           "radialaxis": {
            "gridcolor": "white",
            "linecolor": "white",
            "ticks": ""
           }
          },
          "scene": {
           "xaxis": {
            "backgroundcolor": "#E5ECF6",
            "gridcolor": "white",
            "gridwidth": 2,
            "linecolor": "white",
            "showbackground": true,
            "ticks": "",
            "zerolinecolor": "white"
           },
           "yaxis": {
            "backgroundcolor": "#E5ECF6",
            "gridcolor": "white",
            "gridwidth": 2,
            "linecolor": "white",
            "showbackground": true,
            "ticks": "",
            "zerolinecolor": "white"
           },
           "zaxis": {
            "backgroundcolor": "#E5ECF6",
            "gridcolor": "white",
            "gridwidth": 2,
            "linecolor": "white",
            "showbackground": true,
            "ticks": "",
            "zerolinecolor": "white"
           }
          },
          "shapedefaults": {
           "line": {
            "color": "#2a3f5f"
           }
          },
          "ternary": {
           "aaxis": {
            "gridcolor": "white",
            "linecolor": "white",
            "ticks": ""
           },
           "baxis": {
            "gridcolor": "white",
            "linecolor": "white",
            "ticks": ""
           },
           "bgcolor": "#E5ECF6",
           "caxis": {
            "gridcolor": "white",
            "linecolor": "white",
            "ticks": ""
           }
          },
          "title": {
           "x": 0.05
          },
          "xaxis": {
           "automargin": true,
           "gridcolor": "white",
           "linecolor": "white",
           "ticks": "",
           "title": {
            "standoff": 15
           },
           "zerolinecolor": "white",
           "zerolinewidth": 2
          },
          "yaxis": {
           "automargin": true,
           "gridcolor": "white",
           "linecolor": "white",
           "ticks": "",
           "title": {
            "standoff": 15
           },
           "zerolinecolor": "white",
           "zerolinewidth": 2
          }
         }
        },
        "title": {
         "text": "Possesion quality ( 333)",
         "x": 0.5,
         "xanchor": "center"
        },
        "width": 1200,
        "xaxis": {
         "anchor": "y",
         "domain": [
          0,
          1
         ],
         "gridcolor": "lightgray",
         "showgrid": true,
         "title": {
          "text": "possession_lost/90"
         },
         "zeroline": false
        },
        "yaxis": {
         "anchor": "x",
         "domain": [
          0,
          1
         ],
         "gridcolor": "lightgray",
         "showgrid": true,
         "title": {
          "text": "possession_won/90"
         },
         "zeroline": false
        }
       }
      }
     },
     "metadata": {},
     "output_type": "display_data"
    }
   ],
   "source": [
    "# Full universe \n",
    "scatter_plot(df_targets,\n",
    "             x_metric='possession_lost/90', \n",
    "             y_metric='possession_won/90',\n",
    "             z_metric='poss+_/90',\n",
    "             title='Possesion quality', \n",
    "             show_name_label=False\n",
    ")"
   ]
  },
  {
   "cell_type": "code",
   "execution_count": 11,
   "id": "4647b74a",
   "metadata": {},
   "outputs": [
    {
     "data": {
      "application/vnd.plotly.v1+json": {
       "config": {
        "plotlyServerURL": "https://plot.ly"
       },
       "data": [
        {
         "customdata": [
          [
           "Houssem Mrezigue",
           "Vizela"
          ],
          [
           "Cheick Doucouré",
           "Crystal Palace"
          ],
          [
           "Edmond Tapsoba",
           "Bayer 04"
          ],
          [
           "Nicolás Domínguez",
           "Nottm Forest"
          ],
          [
           "Exequiel Palacios",
           "Bayer 04"
          ],
          [
           "Santiago Ascacíbar",
           "Estudiantes (LP)"
          ],
          [
           "Franco Moyano",
           "Argentinos Jrs."
          ],
          [
           "Leonel Picco",
           "Platense"
          ],
          [
           "Juan Ignacio Méndez",
           "Vélez"
          ],
          [
           "Carlos Villalba",
           "Platense"
          ],
          [
           "Fernando Juárez",
           "Platense"
          ],
          [
           "Agustín Cardozo",
           "Tigre"
          ],
          [
           "Fausto Vera",
           "COR"
          ],
          [
           "Santiago Sosa",
           "Racing Club"
          ],
          [
           "Juan Foyth",
           "Villarreal"
          ],
          [
           "Manuel Insaurralde",
           "Rosario Central"
          ],
          [
           "Nicolás Garayalde",
           "Vélez"
          ],
          [
           "Aníbal Moreno",
           "SEP"
          ],
          [
           "Franco Ibarra",
           "Rosario Central"
          ],
          [
           "Enzo Barrenechea",
           "Frosinone"
          ],
          [
           "Camilo Albornoz",
           "Atl. Tucumán"
          ],
          [
           "Diego Calcaterra",
           "Sarmiento (Junín)"
          ],
          [
           "Damián Fernández",
           "Vélez"
          ],
          [
           "Francisco Perruzzi",
           "San Lorenzo"
          ],
          [
           "Mateo Cáceres",
           "Tigre"
          ],
          [
           "Bautista Kociubinski",
           "Estudiantes (LP)"
          ],
          [
           "Juan Carlos Portillo",
           "Talleres"
          ],
          [
           "Agustín Toledo",
           "Huracán"
          ],
          [
           "Rodrigo Herrera",
           "Barracas Central"
          ],
          [
           "Mateo Seoane",
           "Talleres"
          ],
          [
           "Santiago Longo",
           "Belgrano"
          ],
          [
           "Alan Varela",
           "FC Porto"
          ],
          [
           "Ulises Ortegoza",
           "Talleres"
          ],
          [
           "Juan Ignacio Nardoni",
           "Racing Club"
          ],
          [
           "Bruno Leyes",
           "Godoy Cruz"
          ],
          [
           "Patricio Tanda",
           "Unión (SF)"
          ],
          [
           "Ezequiel Fernández",
           "Boca"
          ],
          [
           "Leandro Figueredo",
           "Huracán"
          ],
          [
           "Zaid Romero",
           "Estudiantes (LP)"
          ],
          [
           "Ignacio Miramón",
           "Lille"
          ],
          [
           "Xaver Schlager",
           "RB Leipzig"
          ],
          [
           "Dejan Ljubičić",
           "FC Köln"
          ],
          [
           "Amadou Haïdara",
           "RB Leipzig"
          ],
          [
           "Arno Verschueren",
           "Sparta Rotterdam"
          ],
          [
           "Casper De Norre",
           "Millwall"
          ],
          [
           "Siebe Horemans",
           "Excelsior"
          ],
          [
           "Albert Sambi Lokonga",
           "Luton"
          ],
          [
           "Thiago Maia",
           "FLA"
          ],
          [
           "Maycon",
           "COR"
          ],
          [
           "Pepê",
           "GRE"
          ],
          [
           "Andrey",
           "CTB"
          ],
          [
           "Diego Costa",
           "SPO"
          ],
          [
           "Matheus Henrique",
           "FLA"
          ],
          [
           "Pedro Augusto",
           "FOR"
          ],
          [
           "Hugo Moura",
           "Athlético Paranaense"
          ],
          [
           "Luan",
           "SPO"
          ],
          [
           "Gabriel Sara",
           "Norwich"
          ],
          [
           "Zé Gabriel",
           "Vasco da Gama"
          ],
          [
           "Jhonny Lucas",
           "GOI"
          ],
          [
           "Vitor Mendes",
           "FOR"
          ],
          [
           "Morato",
           "SL Benfica"
          ],
          [
           "Vinicius Balieiro",
           "SAN"
          ],
          [
           "Erick",
           "Athlético Paranaense"
          ],
          [
           "Edu",
           "GOI"
          ],
          [
           "Caio Alexandre",
           "BAH"
          ],
          [
           "Jadsom",
           "RB Bragantino"
          ],
          [
           "Fernando Henrique",
           "CEC"
          ],
          [
           "André",
           "FLU"
          ],
          [
           "Pablo Maia",
           "SPO"
          ],
          [
           "Bruno Gomes",
           "CTB"
          ],
          [
           "Fabinho",
           "SEP"
          ],
          [
           "Richard Ríos",
           "SEP"
          ],
          [
           "Martinelli",
           "FLU"
          ],
          [
           "Kristijan Jakić",
           "Augsburg"
          ],
          [
           "Bartol Franjić",
           "Darmstadt 98"
          ],
          [
           "Mory Gbané",
           "Gil Vicente"
          ],
          [
           "Alex Král",
           "Union Berlin"
          ],
          [
           "Ahmed Iljazovski",
           "Hvidovre IF"
          ],
          [
           "Morten Hjulmand",
           "Sporting CP"
          ],
          [
           "Ben Sheaf",
           "Coventry"
          ],
          [
           "Sean Longstaff",
           "Newcastle"
          ],
          [
           "Sam Field",
           "QPR"
          ],
          [
           "Trent Alexander-Arnold",
           "Liverpool"
          ],
          [
           "Haydon Roberts",
           "Bristol City"
          ],
          [
           "Pierre Ekwah",
           "Sunderland"
          ],
          [
           "Bashir Humphreys",
           "Swansea"
          ],
          [
           "Odel Offiah",
           "QPR"
          ],
          [
           "Jayson Molumby",
           "West Brom"
          ],
          [
           "Flynn Downes",
           "Southampton"
          ],
          [
           "Andy Rinomhota",
           "Rotherham"
          ],
          [
           "Melle Meulensteen",
           "Vitesse"
          ],
          [
           "Callum Styles",
           "Sunderland"
          ],
          [
           "David Kasumu",
           "Huddersfield"
          ],
          [
           "Ethan Ampadu",
           "Leeds"
          ],
          [
           "Regan Slater",
           "Hull"
          ],
          [
           "Adam Randell",
           "Plymouth"
          ],
          [
           "Dan Neil",
           "Sunderland"
          ],
          [
           "Calvin Verdonk",
           "N.E.C. Nijmegen"
          ],
          [
           "Noussair Mazraoui",
           "FC Bayern"
          ],
          [
           "Philippe Sandler",
           "N.E.C. Nijmegen"
          ],
          [
           "Pablo Rosario",
           "Nice"
          ],
          [
           "Jordan Teze",
           "PSV"
          ],
          [
           "Radinio Balker",
           "Huddersfield"
          ],
          [
           "Pascal Struijk",
           "Leeds"
          ],
          [
           "Jamal Amofa",
           "Go Ahead Eagles"
          ],
          [
           "Quinten Timber",
           "Feyenoord"
          ],
          [
           "Michal Sadílek",
           "FC Twente"
          ],
          [
           "Lutsharel Geertruida",
           "Feyenoord"
          ],
          [
           "Mats Wieffer",
           "Feyenoord"
          ],
          [
           "Ryan Gravenberch",
           "Leicester"
          ],
          [
           "Kenneth Taylor",
           "Ajax"
          ],
          [
           "Eliano Reijnders",
           "PEC Zwolle"
          ],
          [
           "Thomas Beelen",
           "Feyenoord"
          ],
          [
           "Nathan Tjoe-A-On",
           "sc Heerenveen"
          ],
          [
           "Youri Regeer",
           "FC Twente"
          ],
          [
           "Enzo Cornelisse",
           "Vitesse"
          ],
          [
           "Ryan Flamingo",
           "FC Utrecht"
          ],
          [
           "Calvin Twigt",
           "FC Volendam"
          ],
          [
           "Lamare Bogarde",
           "Preston"
          ],
          [
           "Serano Seymor",
           "Excelsior"
          ],
          [
           "Kolbeinn Birgir Finnsson",
           "Lyngby"
          ],
          [
           "Daniel Boloca",
           "Sassuolo"
          ],
          [
           "Tommaso Pobega",
           "Milan"
          ],
          [
           "Rodrigo Guth",
           "Fortuna Sittard"
          ],
          [
           "Samuele Ricci",
           "Torino"
          ],
          [
           "Michel Ndary Adopo",
           "Atalanta"
          ],
          [
           "Yuta Nakayama",
           "Huddersfield"
          ],
          [
           "Olivier Boscagli",
           "PSV"
          ],
          [
           "Aurélien Tchouameni",
           "Real Madrid"
          ],
          [
           "Ibrahim Sangaré",
           "Nottm Forest"
          ],
          [
           "Boubacar Kamara",
           "Aston Villa"
          ],
          [
           "Boubakary Soumaré",
           "Sevilla"
          ],
          [
           "Warmed Omari",
           "Rennes"
          ],
          [
           "Moussa Diarra",
           "Toulouse"
          ],
          [
           "Youssouf Fofana",
           "Monaco"
          ],
          [
           "Manu Koné",
           "Mönchengladbach"
          ],
          [
           "Chrislain Matsima",
           "Clermont"
          ],
          [
           "Joris Chotard",
           "Montpellier"
          ],
          [
           "Tom Lacoux",
           "Famalicão"
          ],
          [
           "Salis Abdul Samed",
           "Lens"
          ],
          [
           "Andy Diouf",
           "Lens"
          ],
          [
           "Edson Álvarez",
           "West Ham"
          ],
          [
           "Kristoffer Ajer",
           "Brentford"
          ],
          [
           "Sivert Mannsverk",
           "Ajax"
          ],
          [
           "Eboué Kouassi",
           "Arouca"
          ],
          [
           "Ali McCann",
           "Preston"
          ],
          [
           "Erhan Mašović",
           "VfL Bochum"
          ],
          [
           "Ilija Vukotić",
           "Boavista"
          ],
          [
           "Mirko Topić",
           "Famalicão"
          ],
          [
           "Pedro Chirivella",
           "Nantes"
          ],
          [
           "Fede San Emeterio",
           "Cádiz"
          ],
          [
           "Pepelu",
           "Valencia"
          ],
          [
           "Keidi Bare",
           "Coventry"
          ],
          [
           "Fran Beltrán",
           "Celta"
          ],
          [
           "Edgar",
           "Almería"
          ],
          [
           "Dani Vivian",
           "Athletic"
          ],
          [
           "Hugo Guillamón",
           "Valencia"
          ],
          [
           "Jon Moncayola",
           "Osasuna"
          ],
          [
           "Iker Muñoz",
           "Osasuna"
          ],
          [
           "Tyler Adams",
           "Bournemouth"
          ],
          [
           "Jesús Castillo",
           "Gil Vicente"
          ],
          [
           "Federico Valverde",
           "Real Madrid"
          ],
          [
           "Manuel Ugarte",
           "PSG"
          ],
          [
           "Alan Rodríguez",
           "Argentinos Jrs."
          ],
          [
           "Nicolás Acevedo",
           "BAH"
          ],
          [
           "Mathías Villasanti",
           "GRE"
          ],
          [
           "Matías Galarza",
           "Talleres"
          ],
          [
           "Tomás Ribeiro",
           "Vit. Guimarães"
          ],
          [
           "Jota",
           "Vizela"
          ],
          [
           "Samú",
           "Mallorca"
          ],
          [
           "Dani",
           "Hellas Verona"
          ],
          [
           "Ibrahima Camará",
           "Boavista"
          ],
          [
           "Gonçalo Franco",
           "Moreirense"
          ],
          [
           "Manu Silva",
           "Vit. Guimarães"
          ],
          [
           "Mahdi Camara",
           "Brest"
          ],
          [
           "Alan Franco",
           "ATM"
          ],
          [
           "Moisés Caicedo",
           "Chelsea"
          ],
          [
           "Amos Pieper",
           "SV Werder"
          ],
          [
           "Paul Jaeckel",
           "Lyon"
          ],
          [
           "Tom Krauß",
           "Mainz 05"
          ],
          [
           "Elvis Rexhbecaj",
           "Augsburg"
          ],
          [
           "Leandro Barreiro",
           "Mainz 05"
          ],
          [
           "Eric Martel",
           "FC Köln"
          ],
          [
           "Amadou Onana",
           "Everton"
          ],
          [
           "Michael Akoto",
           "AGF"
          ],
          [
           "Jens Cajuste",
           "Napoli"
          ],
          [
           "Chumi",
           "Almería"
          ],
          [
           "William Clem",
           "FC København"
          ],
          [
           "João Neves",
           "SL Benfica"
          ],
          [
           "Guilherme Madruga",
           "CUI"
          ],
          [
           "Stefano Moreyra",
           "Instituto"
          ],
          [
           "Manuel García",
           "Central Córdoba (SdE)"
          ],
          [
           "Oussama Targhalline",
           "Havre AC"
          ],
          [
           "Agostino Spina",
           "Huracán"
          ],
          [
           "Elián Irala",
           "San Lorenzo"
          ],
          [
           "Zé Carlos",
           "Vit. Guimarães"
          ],
          [
           "Sadik Fofana",
           "Fortuna Sittard"
          ],
          [
           "Alexsander",
           "FLU"
          ],
          [
           "Emanuel Quinteros",
           "Godoy Cruz"
          ],
          [
           "Rodrigo Saravia",
           "Gimnasia (LP)"
          ],
          [
           "Nathan",
           "GOI"
          ],
          [
           "Rico Lewis",
           "Man City"
          ],
          [
           "Nahuel Frascone",
           "Arsenal (Sarandí)"
          ],
          [
           "Igor Jesus",
           "FLA"
          ],
          [
           "Negrucci",
           "SPO"
          ],
          [
           "Kevin López",
           "Defensa y Justicia"
          ],
          [
           "Samuel Lucero",
           "Defensa y Justicia"
          ],
          [
           "Kobbie Mainoo",
           "Man Utd"
          ],
          [
           "Benjamín Schamine",
           "Defensa y Justicia"
          ],
          [
           "Matheus Dias",
           "INT"
          ],
          [
           "Breno Bidon",
           "COR"
          ],
          [
           "João Victor Balão",
           "SAN"
          ],
          [
           "Kevin Ortiz",
           "Rosario Central"
          ],
          [
           "Archie Gray",
           "Leeds"
          ],
          [
           "Gabriel Moscardo",
           "COR"
          ],
          [
           "Joaquín Mosqueira",
           "Unión (SF)"
          ],
          [
           "César Amarilla",
           "Rosario Central"
          ],
          [
           "Lucas López",
           "Instituto"
          ]
         ],
         "hovertemplate": "<b>%{customdata[0]}</b><br><b>%{customdata[1]}</b><br><br>possession_lost/90: %{x}<br>possession_won/90: %{y}<br>poss+_/90: %{marker.color}<extra></extra>",
         "legendgroup": "",
         "marker": {
          "color": {
           "bdata": "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",
           "dtype": "f8"
          },
          "coloraxis": "coloraxis",
          "size": 10,
          "symbol": "circle"
         },
         "mode": "markers",
         "name": "",
         "orientation": "v",
         "showlegend": false,
         "textfont": {
          "size": 10
         },
         "textposition": "top center",
         "type": "scatter",
         "x": {
          "bdata": "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",
          "dtype": "f8"
         },
         "xaxis": "x",
         "y": {
          "bdata": "PQrXo3A9H0D2KFyPwnUkQAAAAAAAgCVA9ihcj8L1IUC4HoXrUbgeQK5H4XoULiFA9ihcj8L1JEAzMzMzMzMnQI/C9ShcDylAMzMzMzOzJEAfhetRuB4nQArXo3A9iipASOF6FK7HKEC4HoXrUXgxQBSuR+F6lCpA9ihcj8L1JkAzMzMzM7MoQEjhehSuxyJAmpmZmZmZKED2KFyPwvUlQFK4HoXr0SBAPQrXo3A9I0BmZmZmZuYpQEjhehSuxydAexSuR+F6I0CuR+F6FC4jQDMzMzMzMyxAPQrXo3C9MECF61G4HgUlQKRwPQrXIylAFK5H4XoUMUB7FK5H4XoiQK5H4XoUrixAPQrXo3A9K0A9CtejcL0pQOF6FK5H4SZAuB6F61E4I0CamZmZmRksQGZmZmZmZi5APQrXo3A9H0AAAAAAAAAfQHE9Ctej8CRAAAAAAACAIUCkcD0K1yMiQFK4HoXrUSVAuB6F61E4IkApXI/C9SgjQEjhehSuRydAmpmZmZmZKECPwvUoXI8nQGZmZmZm5ipAj8L1KFyPKECuR+F6FK4kQOF6FK5H4SJAH4XrUbgeK0AAAAAAAIAmQD0K16NwPSRACtejcD2KJ0AzMzMzMzMqQNejcD0K1yVAH4XrUbieLUCamZmZmRkoQBSuR+F6FClAuB6F61G4J0Bcj8L1KFwiQFK4HoXr0SVAuB6F61E4JECkcD0K16MoQKRwPQrXIyhAj8L1KFyPK0D2KFyPwvUiQDMzMzMzsyRAZmZmZmZmI0C4HoXrUbgjQNejcD0K1yNAuB6F61E4JECkcD0K16MjQK5H4XoULihAMzMzMzMzH0AAAAAAAAAlQNejcD0KVyJAAAAAAAAAIUBxPQrXo3AoQB+F61G4HiVA16NwPQpXIUDNzMzMzMwkQJqZmZmZGSdAcT0K16PwJ0BmZmZmZmYhQIXrUbgehSJAmpmZmZmZIED2KFyPwvUdQOF6FK5H4SNA16NwPQpXIkCuR+F6FC4hQHsUrkfh+iBAFK5H4XoUIEAzMzMzM7MlQAAAAAAAgCVA7FG4HoXrJED2KFyPwvUhQMP1KFyPQidA9ihcj8L1JkDXo3A9CtcrQGZmZmZmZiFAmpmZmZkZJECamZmZmRkjQMP1KFyPwiZA4XoUrkdhJECuR+F6FK4hQIXrUbgehSFAj8L1KFyPI0CamZmZmZkkQHsUrkfhei9ArkfhehSuIUAUrkfhepQkQBSuR+F6lCZA4XoUrkfhH0AzMzMzM7MiQAAAAAAAACJAuB6F61G4LEAzMzMzMzMiQGZmZmZm5iFAexSuR+F6IUAAAAAAAIAiQOF6FK5H4SNAexSuR+H6JEAAAAAAAAArQEjhehSuRyFACtejcD2KIkDhehSuR+EkQHE9Ctej8CRAPQrXo3A9LEDXo3A9CtctQEjhehSuRyJAMzMzMzOzIECPwvUoXI8mQDMzMzMzMydAhetRuB4FJECPwvUoXI8lQB+F61G4HilAMzMzMzMzI0B7FK5H4fojQPYoXI/C9SBA16NwPQpXIED2KFyPwnUjQDMzMzMzsyJAAAAAAAAAH0AAAAAAAIAlQK5H4XoUriFAZmZmZmZmHUDD9Shcj0IhQArXo3A9CiRAexSuR+H6IEB7FK5H4XolQGZmZmZm5iNAXI/C9SjcIUBxPQrXo/AlQMP1KFyPQiBASOF6FK5HJEAK16NwPQokQMP1KFyPwiNAUrgehevRIEAzMzMzM7MkQD0K16NwvSpAKVyPwvUoKkBcj8L1KNwhQDMzMzMzMyhAZmZmZmZmJUCkcD0K16MkQKRwPQrXoyVAAAAAAACAIkDhehSuR2EjQHsUrkfh+iRApHA9CtejHkBcj8L1KFwoQM3MzMzMTCJAMzMzMzMzKEDNzMzMzEwmQK5H4XoUriVAH4XrUbieIkApXI/C9SgiQAAAAAAAgCRAXI/C9ShcJUAfhetRuJ4oQLgehetRuCNAPQrXo3C9JUDsUbgehWsiQJqZmZmZmSNAH4XrUbgeHkC4HoXrUbgiQNejcD0KVyhAKVyPwvUoIkA9CtejcL0qQIXrUbgeBSJAFK5H4XoUIUD2KFyPwvUnQBSuR+F6FCZAPQrXo3A9KkDhehSuR+EoQKRwPQrXoypAFK5H4XqUK0CkcD0K16MkQI/C9ShcDyRA7FG4HoXrK0AAAAAAAAApQD0K16NwPStAzczMzMzMIUDhehSuR2EoQHsUrkfheitAj8L1KFyPJkAzMzMzM7MoQNejcD0KVylAuB6F61G4I0DXo3A9ClciQHsUrkfh+ihApHA9CtcjJUA9CtejcL0lQA==",
          "dtype": "f8"
         },
         "yaxis": "y"
        }
       ],
       "layout": {
        "coloraxis": {
         "colorbar": {
          "title": {
           "text": "poss+_/90"
          }
         },
         "colorscale": [
          [
           0,
           "rgb(165,0,38)"
          ],
          [
           0.1,
           "rgb(215,48,39)"
          ],
          [
           0.2,
           "rgb(244,109,67)"
          ],
          [
           0.3,
           "rgb(253,174,97)"
          ],
          [
           0.4,
           "rgb(254,224,139)"
          ],
          [
           0.5,
           "rgb(255,255,191)"
          ],
          [
           0.6,
           "rgb(217,239,139)"
          ],
          [
           0.7,
           "rgb(166,217,106)"
          ],
          [
           0.8,
           "rgb(102,189,99)"
          ],
          [
           0.9,
           "rgb(26,152,80)"
          ],
          [
           1,
           "rgb(0,104,55)"
          ]
         ],
         "showscale": false
        },
        "height": 700,
        "legend": {
         "tracegroupgap": 0
        },
        "paper_bgcolor": "white",
        "plot_bgcolor": "white",
        "template": {
         "data": {
          "bar": [
           {
            "error_x": {
             "color": "#2a3f5f"
            },
            "error_y": {
             "color": "#2a3f5f"
            },
            "marker": {
             "line": {
              "color": "#E5ECF6",
              "width": 0.5
             },
             "pattern": {
              "fillmode": "overlay",
              "size": 10,
              "solidity": 0.2
             }
            },
            "type": "bar"
           }
          ],
          "barpolar": [
           {
            "marker": {
             "line": {
              "color": "#E5ECF6",
              "width": 0.5
             },
             "pattern": {
              "fillmode": "overlay",
              "size": 10,
              "solidity": 0.2
             }
            },
            "type": "barpolar"
           }
          ],
          "carpet": [
           {
            "aaxis": {
             "endlinecolor": "#2a3f5f",
             "gridcolor": "white",
             "linecolor": "white",
             "minorgridcolor": "white",
             "startlinecolor": "#2a3f5f"
            },
            "baxis": {
             "endlinecolor": "#2a3f5f",
             "gridcolor": "white",
             "linecolor": "white",
             "minorgridcolor": "white",
             "startlinecolor": "#2a3f5f"
            },
            "type": "carpet"
           }
          ],
          "choropleth": [
           {
            "colorbar": {
             "outlinewidth": 0,
             "ticks": ""
            },
            "type": "choropleth"
           }
          ],
          "contour": [
           {
            "colorbar": {
             "outlinewidth": 0,
             "ticks": ""
            },
            "colorscale": [
             [
              0,
              "#0d0887"
             ],
             [
              0.1111111111111111,
              "#46039f"
             ],
             [
              0.2222222222222222,
              "#7201a8"
             ],
             [
              0.3333333333333333,
              "#9c179e"
             ],
             [
              0.4444444444444444,
              "#bd3786"
             ],
             [
              0.5555555555555556,
              "#d8576b"
             ],
             [
              0.6666666666666666,
              "#ed7953"
             ],
             [
              0.7777777777777778,
              "#fb9f3a"
             ],
             [
              0.8888888888888888,
              "#fdca26"
             ],
             [
              1,
              "#f0f921"
             ]
            ],
            "type": "contour"
           }
          ],
          "contourcarpet": [
           {
            "colorbar": {
             "outlinewidth": 0,
             "ticks": ""
            },
            "type": "contourcarpet"
           }
          ],
          "heatmap": [
           {
            "colorbar": {
             "outlinewidth": 0,
             "ticks": ""
            },
            "colorscale": [
             [
              0,
              "#0d0887"
             ],
             [
              0.1111111111111111,
              "#46039f"
             ],
             [
              0.2222222222222222,
              "#7201a8"
             ],
             [
              0.3333333333333333,
              "#9c179e"
             ],
             [
              0.4444444444444444,
              "#bd3786"
             ],
             [
              0.5555555555555556,
              "#d8576b"
             ],
             [
              0.6666666666666666,
              "#ed7953"
             ],
             [
              0.7777777777777778,
              "#fb9f3a"
             ],
             [
              0.8888888888888888,
              "#fdca26"
             ],
             [
              1,
              "#f0f921"
             ]
            ],
            "type": "heatmap"
           }
          ],
          "histogram": [
           {
            "marker": {
             "pattern": {
              "fillmode": "overlay",
              "size": 10,
              "solidity": 0.2
             }
            },
            "type": "histogram"
           }
          ],
          "histogram2d": [
           {
            "colorbar": {
             "outlinewidth": 0,
             "ticks": ""
            },
            "colorscale": [
             [
              0,
              "#0d0887"
             ],
             [
              0.1111111111111111,
              "#46039f"
             ],
             [
              0.2222222222222222,
              "#7201a8"
             ],
             [
              0.3333333333333333,
              "#9c179e"
             ],
             [
              0.4444444444444444,
              "#bd3786"
             ],
             [
              0.5555555555555556,
              "#d8576b"
             ],
             [
              0.6666666666666666,
              "#ed7953"
             ],
             [
              0.7777777777777778,
              "#fb9f3a"
             ],
             [
              0.8888888888888888,
              "#fdca26"
             ],
             [
              1,
              "#f0f921"
             ]
            ],
            "type": "histogram2d"
           }
          ],
          "histogram2dcontour": [
           {
            "colorbar": {
             "outlinewidth": 0,
             "ticks": ""
            },
            "colorscale": [
             [
              0,
              "#0d0887"
             ],
             [
              0.1111111111111111,
              "#46039f"
             ],
             [
              0.2222222222222222,
              "#7201a8"
             ],
             [
              0.3333333333333333,
              "#9c179e"
             ],
             [
              0.4444444444444444,
              "#bd3786"
             ],
             [
              0.5555555555555556,
              "#d8576b"
             ],
             [
              0.6666666666666666,
              "#ed7953"
             ],
             [
              0.7777777777777778,
              "#fb9f3a"
             ],
             [
              0.8888888888888888,
              "#fdca26"
             ],
             [
              1,
              "#f0f921"
             ]
            ],
            "type": "histogram2dcontour"
           }
          ],
          "mesh3d": [
           {
            "colorbar": {
             "outlinewidth": 0,
             "ticks": ""
            },
            "type": "mesh3d"
           }
          ],
          "parcoords": [
           {
            "line": {
             "colorbar": {
              "outlinewidth": 0,
              "ticks": ""
             }
            },
            "type": "parcoords"
           }
          ],
          "pie": [
           {
            "automargin": true,
            "type": "pie"
           }
          ],
          "scatter": [
           {
            "fillpattern": {
             "fillmode": "overlay",
             "size": 10,
             "solidity": 0.2
            },
            "type": "scatter"
           }
          ],
          "scatter3d": [
           {
            "line": {
             "colorbar": {
              "outlinewidth": 0,
              "ticks": ""
             }
            },
            "marker": {
             "colorbar": {
              "outlinewidth": 0,
              "ticks": ""
             }
            },
            "type": "scatter3d"
           }
          ],
          "scattercarpet": [
           {
            "marker": {
             "colorbar": {
              "outlinewidth": 0,
              "ticks": ""
             }
            },
            "type": "scattercarpet"
           }
          ],
          "scattergeo": [
           {
            "marker": {
             "colorbar": {
              "outlinewidth": 0,
              "ticks": ""
             }
            },
            "type": "scattergeo"
           }
          ],
          "scattergl": [
           {
            "marker": {
             "colorbar": {
              "outlinewidth": 0,
              "ticks": ""
             }
            },
            "type": "scattergl"
           }
          ],
          "scattermap": [
           {
            "marker": {
             "colorbar": {
              "outlinewidth": 0,
              "ticks": ""
             }
            },
            "type": "scattermap"
           }
          ],
          "scattermapbox": [
           {
            "marker": {
             "colorbar": {
              "outlinewidth": 0,
              "ticks": ""
             }
            },
            "type": "scattermapbox"
           }
          ],
          "scatterpolar": [
           {
            "marker": {
             "colorbar": {
              "outlinewidth": 0,
              "ticks": ""
             }
            },
            "type": "scatterpolar"
           }
          ],
          "scatterpolargl": [
           {
            "marker": {
             "colorbar": {
              "outlinewidth": 0,
              "ticks": ""
             }
            },
            "type": "scatterpolargl"
           }
          ],
          "scatterternary": [
           {
            "marker": {
             "colorbar": {
              "outlinewidth": 0,
              "ticks": ""
             }
            },
            "type": "scatterternary"
           }
          ],
          "surface": [
           {
            "colorbar": {
             "outlinewidth": 0,
             "ticks": ""
            },
            "colorscale": [
             [
              0,
              "#0d0887"
             ],
             [
              0.1111111111111111,
              "#46039f"
             ],
             [
              0.2222222222222222,
              "#7201a8"
             ],
             [
              0.3333333333333333,
              "#9c179e"
             ],
             [
              0.4444444444444444,
              "#bd3786"
             ],
             [
              0.5555555555555556,
              "#d8576b"
             ],
             [
              0.6666666666666666,
              "#ed7953"
             ],
             [
              0.7777777777777778,
              "#fb9f3a"
             ],
             [
              0.8888888888888888,
              "#fdca26"
             ],
             [
              1,
              "#f0f921"
             ]
            ],
            "type": "surface"
           }
          ],
          "table": [
           {
            "cells": {
             "fill": {
              "color": "#EBF0F8"
             },
             "line": {
              "color": "white"
             }
            },
            "header": {
             "fill": {
              "color": "#C8D4E3"
             },
             "line": {
              "color": "white"
             }
            },
            "type": "table"
           }
          ]
         },
         "layout": {
          "annotationdefaults": {
           "arrowcolor": "#2a3f5f",
           "arrowhead": 0,
           "arrowwidth": 1
          },
          "autotypenumbers": "strict",
          "coloraxis": {
           "colorbar": {
            "outlinewidth": 0,
            "ticks": ""
           }
          },
          "colorscale": {
           "diverging": [
            [
             0,
             "#8e0152"
            ],
            [
             0.1,
             "#c51b7d"
            ],
            [
             0.2,
             "#de77ae"
            ],
            [
             0.3,
             "#f1b6da"
            ],
            [
             0.4,
             "#fde0ef"
            ],
            [
             0.5,
             "#f7f7f7"
            ],
            [
             0.6,
             "#e6f5d0"
            ],
            [
             0.7,
             "#b8e186"
            ],
            [
             0.8,
             "#7fbc41"
            ],
            [
             0.9,
             "#4d9221"
            ],
            [
             1,
             "#276419"
            ]
           ],
           "sequential": [
            [
             0,
             "#0d0887"
            ],
            [
             0.1111111111111111,
             "#46039f"
            ],
            [
             0.2222222222222222,
             "#7201a8"
            ],
            [
             0.3333333333333333,
             "#9c179e"
            ],
            [
             0.4444444444444444,
             "#bd3786"
            ],
            [
             0.5555555555555556,
             "#d8576b"
            ],
            [
             0.6666666666666666,
             "#ed7953"
            ],
            [
             0.7777777777777778,
             "#fb9f3a"
            ],
            [
             0.8888888888888888,
             "#fdca26"
            ],
            [
             1,
             "#f0f921"
            ]
           ],
           "sequentialminus": [
            [
             0,
             "#0d0887"
            ],
            [
             0.1111111111111111,
             "#46039f"
            ],
            [
             0.2222222222222222,
             "#7201a8"
            ],
            [
             0.3333333333333333,
             "#9c179e"
            ],
            [
             0.4444444444444444,
             "#bd3786"
            ],
            [
             0.5555555555555556,
             "#d8576b"
            ],
            [
             0.6666666666666666,
             "#ed7953"
            ],
            [
             0.7777777777777778,
             "#fb9f3a"
            ],
            [
             0.8888888888888888,
             "#fdca26"
            ],
            [
             1,
             "#f0f921"
            ]
           ]
          },
          "colorway": [
           "#636efa",
           "#EF553B",
           "#00cc96",
           "#ab63fa",
           "#FFA15A",
           "#19d3f3",
           "#FF6692",
           "#B6E880",
           "#FF97FF",
           "#FECB52"
          ],
          "font": {
           "color": "#2a3f5f"
          },
          "geo": {
           "bgcolor": "white",
           "lakecolor": "white",
           "landcolor": "#E5ECF6",
           "showlakes": true,
           "showland": true,
           "subunitcolor": "white"
          },
          "hoverlabel": {
           "align": "left"
          },
          "hovermode": "closest",
          "mapbox": {
           "style": "light"
          },
          "paper_bgcolor": "white",
          "plot_bgcolor": "#E5ECF6",
          "polar": {
           "angularaxis": {
            "gridcolor": "white",
            "linecolor": "white",
            "ticks": ""
           },
           "bgcolor": "#E5ECF6",
           "radialaxis": {
            "gridcolor": "white",
            "linecolor": "white",
            "ticks": ""
           }
          },
          "scene": {
           "xaxis": {
            "backgroundcolor": "#E5ECF6",
            "gridcolor": "white",
            "gridwidth": 2,
            "linecolor": "white",
            "showbackground": true,
            "ticks": "",
            "zerolinecolor": "white"
           },
           "yaxis": {
            "backgroundcolor": "#E5ECF6",
            "gridcolor": "white",
            "gridwidth": 2,
            "linecolor": "white",
            "showbackground": true,
            "ticks": "",
            "zerolinecolor": "white"
           },
           "zaxis": {
            "backgroundcolor": "#E5ECF6",
            "gridcolor": "white",
            "gridwidth": 2,
            "linecolor": "white",
            "showbackground": true,
            "ticks": "",
            "zerolinecolor": "white"
           }
          },
          "shapedefaults": {
           "line": {
            "color": "#2a3f5f"
           }
          },
          "ternary": {
           "aaxis": {
            "gridcolor": "white",
            "linecolor": "white",
            "ticks": ""
           },
           "baxis": {
            "gridcolor": "white",
            "linecolor": "white",
            "ticks": ""
           },
           "bgcolor": "#E5ECF6",
           "caxis": {
            "gridcolor": "white",
            "linecolor": "white",
            "ticks": ""
           }
          },
          "title": {
           "x": 0.05
          },
          "xaxis": {
           "automargin": true,
           "gridcolor": "white",
           "linecolor": "white",
           "ticks": "",
           "title": {
            "standoff": 15
           },
           "zerolinecolor": "white",
           "zerolinewidth": 2
          },
          "yaxis": {
           "automargin": true,
           "gridcolor": "white",
           "linecolor": "white",
           "ticks": "",
           "title": {
            "standoff": 15
           },
           "zerolinecolor": "white",
           "zerolinewidth": 2
          }
         }
        },
        "title": {
         "text": "Possesion quality ( 218)",
         "x": 0.5,
         "xanchor": "center"
        },
        "width": 1200,
        "xaxis": {
         "anchor": "y",
         "domain": [
          0,
          1
         ],
         "gridcolor": "lightgray",
         "showgrid": true,
         "title": {
          "text": "possession_lost/90"
         },
         "zeroline": false
        },
        "yaxis": {
         "anchor": "x",
         "domain": [
          0,
          1
         ],
         "gridcolor": "lightgray",
         "showgrid": true,
         "title": {
          "text": "possession_won/90"
         },
         "zeroline": false
        }
       }
      }
     },
     "metadata": {},
     "output_type": "display_data"
    }
   ],
   "source": [
    "# Filter data \n",
    "mask = (\n",
    "        (df_players['possession_lost/90'] <= 12) & \\\n",
    "        (df_players['possession_won/90'] >= 7) & \\\n",
    "        (df_players['poss+_/90'] >= 0) & \\\n",
    "        (df_players['age'] <= 26) & \\\n",
    "        (df_players['id'].isin(targets))\n",
    "        \n",
    "        \n",
    ")\n",
    "\n",
    "df_targets = df_players[mask]\n",
    "\n",
    "scatter_plot(df_targets,\n",
    "             x_metric='possession_lost/90', \n",
    "             y_metric='possession_won/90',\n",
    "             z_metric='poss+_/90',\n",
    "             title='Possesion quality', \n",
    "             show_name_label=False\n",
    ")\n",
    "\n",
    "# Keep only players that fulfill criteria\n",
    "targets = list(df_targets['id'])"
   ]
  },
  {
   "cell_type": "markdown",
   "id": "05fd5ca0",
   "metadata": {},
   "source": [
    "## Aereal/Ground Dominance "
   ]
  },
  {
   "cell_type": "code",
   "execution_count": 12,
   "id": "2d4b5cdd",
   "metadata": {},
   "outputs": [
    {
     "data": {
      "application/vnd.plotly.v1+json": {
       "config": {
        "plotlyServerURL": "https://plot.ly"
       },
       "data": [
        {
         "customdata": [
          [
           "Houssem Mrezigue",
           "Vizela"
          ],
          [
           "Cheick Doucouré",
           "Crystal Palace"
          ],
          [
           "Edmond Tapsoba",
           "Bayer 04"
          ],
          [
           "Nicolás Domínguez",
           "Nottm Forest"
          ],
          [
           "Exequiel Palacios",
           "Bayer 04"
          ],
          [
           "Santiago Ascacíbar",
           "Estudiantes (LP)"
          ],
          [
           "Franco Moyano",
           "Argentinos Jrs."
          ],
          [
           "Leonel Picco",
           "Platense"
          ],
          [
           "Juan Ignacio Méndez",
           "Vélez"
          ],
          [
           "Carlos Villalba",
           "Platense"
          ],
          [
           "Fernando Juárez",
           "Platense"
          ],
          [
           "Agustín Cardozo",
           "Tigre"
          ],
          [
           "Fausto Vera",
           "COR"
          ],
          [
           "Santiago Sosa",
           "Racing Club"
          ],
          [
           "Juan Foyth",
           "Villarreal"
          ],
          [
           "Manuel Insaurralde",
           "Rosario Central"
          ],
          [
           "Nicolás Garayalde",
           "Vélez"
          ],
          [
           "Aníbal Moreno",
           "SEP"
          ],
          [
           "Franco Ibarra",
           "Rosario Central"
          ],
          [
           "Enzo Barrenechea",
           "Frosinone"
          ],
          [
           "Camilo Albornoz",
           "Atl. Tucumán"
          ],
          [
           "Diego Calcaterra",
           "Sarmiento (Junín)"
          ],
          [
           "Damián Fernández",
           "Vélez"
          ],
          [
           "Francisco Perruzzi",
           "San Lorenzo"
          ],
          [
           "Mateo Cáceres",
           "Tigre"
          ],
          [
           "Bautista Kociubinski",
           "Estudiantes (LP)"
          ],
          [
           "Juan Carlos Portillo",
           "Talleres"
          ],
          [
           "Agustín Toledo",
           "Huracán"
          ],
          [
           "Rodrigo Herrera",
           "Barracas Central"
          ],
          [
           "Mateo Seoane",
           "Talleres"
          ],
          [
           "Santiago Longo",
           "Belgrano"
          ],
          [
           "Alan Varela",
           "FC Porto"
          ],
          [
           "Ulises Ortegoza",
           "Talleres"
          ],
          [
           "Juan Ignacio Nardoni",
           "Racing Club"
          ],
          [
           "Bruno Leyes",
           "Godoy Cruz"
          ],
          [
           "Patricio Tanda",
           "Unión (SF)"
          ],
          [
           "Ezequiel Fernández",
           "Boca"
          ],
          [
           "Leandro Figueredo",
           "Huracán"
          ],
          [
           "Zaid Romero",
           "Estudiantes (LP)"
          ],
          [
           "Ignacio Miramón",
           "Lille"
          ],
          [
           "Xaver Schlager",
           "RB Leipzig"
          ],
          [
           "Dejan Ljubičić",
           "FC Köln"
          ],
          [
           "Amadou Haïdara",
           "RB Leipzig"
          ],
          [
           "Arno Verschueren",
           "Sparta Rotterdam"
          ],
          [
           "Casper De Norre",
           "Millwall"
          ],
          [
           "Siebe Horemans",
           "Excelsior"
          ],
          [
           "Albert Sambi Lokonga",
           "Luton"
          ],
          [
           "Thiago Maia",
           "FLA"
          ],
          [
           "Maycon",
           "COR"
          ],
          [
           "Pepê",
           "GRE"
          ],
          [
           "Andrey",
           "CTB"
          ],
          [
           "Diego Costa",
           "SPO"
          ],
          [
           "Matheus Henrique",
           "FLA"
          ],
          [
           "Pedro Augusto",
           "FOR"
          ],
          [
           "Hugo Moura",
           "Athlético Paranaense"
          ],
          [
           "Luan",
           "SPO"
          ],
          [
           "Gabriel Sara",
           "Norwich"
          ],
          [
           "Zé Gabriel",
           "Vasco da Gama"
          ],
          [
           "Jhonny Lucas",
           "GOI"
          ],
          [
           "Vitor Mendes",
           "FOR"
          ],
          [
           "Morato",
           "SL Benfica"
          ],
          [
           "Vinicius Balieiro",
           "SAN"
          ],
          [
           "Erick",
           "Athlético Paranaense"
          ],
          [
           "Edu",
           "GOI"
          ],
          [
           "Caio Alexandre",
           "BAH"
          ],
          [
           "Jadsom",
           "RB Bragantino"
          ],
          [
           "Fernando Henrique",
           "CEC"
          ],
          [
           "André",
           "FLU"
          ],
          [
           "Pablo Maia",
           "SPO"
          ],
          [
           "Bruno Gomes",
           "CTB"
          ],
          [
           "Fabinho",
           "SEP"
          ],
          [
           "Richard Ríos",
           "SEP"
          ],
          [
           "Martinelli",
           "FLU"
          ],
          [
           "Kristijan Jakić",
           "Augsburg"
          ],
          [
           "Bartol Franjić",
           "Darmstadt 98"
          ],
          [
           "Mory Gbané",
           "Gil Vicente"
          ],
          [
           "Alex Král",
           "Union Berlin"
          ],
          [
           "Ahmed Iljazovski",
           "Hvidovre IF"
          ],
          [
           "Morten Hjulmand",
           "Sporting CP"
          ],
          [
           "Ben Sheaf",
           "Coventry"
          ],
          [
           "Sean Longstaff",
           "Newcastle"
          ],
          [
           "Sam Field",
           "QPR"
          ],
          [
           "Trent Alexander-Arnold",
           "Liverpool"
          ],
          [
           "Haydon Roberts",
           "Bristol City"
          ],
          [
           "Pierre Ekwah",
           "Sunderland"
          ],
          [
           "Bashir Humphreys",
           "Swansea"
          ],
          [
           "Odel Offiah",
           "QPR"
          ],
          [
           "Jayson Molumby",
           "West Brom"
          ],
          [
           "Flynn Downes",
           "Southampton"
          ],
          [
           "Andy Rinomhota",
           "Rotherham"
          ],
          [
           "Melle Meulensteen",
           "Vitesse"
          ],
          [
           "Callum Styles",
           "Sunderland"
          ],
          [
           "David Kasumu",
           "Huddersfield"
          ],
          [
           "Ethan Ampadu",
           "Leeds"
          ],
          [
           "Regan Slater",
           "Hull"
          ],
          [
           "Adam Randell",
           "Plymouth"
          ],
          [
           "Dan Neil",
           "Sunderland"
          ],
          [
           "Calvin Verdonk",
           "N.E.C. Nijmegen"
          ],
          [
           "Noussair Mazraoui",
           "FC Bayern"
          ],
          [
           "Philippe Sandler",
           "N.E.C. Nijmegen"
          ],
          [
           "Pablo Rosario",
           "Nice"
          ],
          [
           "Jordan Teze",
           "PSV"
          ],
          [
           "Radinio Balker",
           "Huddersfield"
          ],
          [
           "Pascal Struijk",
           "Leeds"
          ],
          [
           "Jamal Amofa",
           "Go Ahead Eagles"
          ],
          [
           "Quinten Timber",
           "Feyenoord"
          ],
          [
           "Michal Sadílek",
           "FC Twente"
          ],
          [
           "Lutsharel Geertruida",
           "Feyenoord"
          ],
          [
           "Mats Wieffer",
           "Feyenoord"
          ],
          [
           "Ryan Gravenberch",
           "Leicester"
          ],
          [
           "Kenneth Taylor",
           "Ajax"
          ],
          [
           "Eliano Reijnders",
           "PEC Zwolle"
          ],
          [
           "Thomas Beelen",
           "Feyenoord"
          ],
          [
           "Nathan Tjoe-A-On",
           "sc Heerenveen"
          ],
          [
           "Youri Regeer",
           "FC Twente"
          ],
          [
           "Enzo Cornelisse",
           "Vitesse"
          ],
          [
           "Ryan Flamingo",
           "FC Utrecht"
          ],
          [
           "Calvin Twigt",
           "FC Volendam"
          ],
          [
           "Lamare Bogarde",
           "Preston"
          ],
          [
           "Serano Seymor",
           "Excelsior"
          ],
          [
           "Kolbeinn Birgir Finnsson",
           "Lyngby"
          ],
          [
           "Daniel Boloca",
           "Sassuolo"
          ],
          [
           "Tommaso Pobega",
           "Milan"
          ],
          [
           "Rodrigo Guth",
           "Fortuna Sittard"
          ],
          [
           "Samuele Ricci",
           "Torino"
          ],
          [
           "Michel Ndary Adopo",
           "Atalanta"
          ],
          [
           "Yuta Nakayama",
           "Huddersfield"
          ],
          [
           "Olivier Boscagli",
           "PSV"
          ],
          [
           "Aurélien Tchouameni",
           "Real Madrid"
          ],
          [
           "Ibrahim Sangaré",
           "Nottm Forest"
          ],
          [
           "Boubacar Kamara",
           "Aston Villa"
          ],
          [
           "Boubakary Soumaré",
           "Sevilla"
          ],
          [
           "Warmed Omari",
           "Rennes"
          ],
          [
           "Moussa Diarra",
           "Toulouse"
          ],
          [
           "Youssouf Fofana",
           "Monaco"
          ],
          [
           "Manu Koné",
           "Mönchengladbach"
          ],
          [
           "Chrislain Matsima",
           "Clermont"
          ],
          [
           "Joris Chotard",
           "Montpellier"
          ],
          [
           "Tom Lacoux",
           "Famalicão"
          ],
          [
           "Salis Abdul Samed",
           "Lens"
          ],
          [
           "Andy Diouf",
           "Lens"
          ],
          [
           "Edson Álvarez",
           "West Ham"
          ],
          [
           "Kristoffer Ajer",
           "Brentford"
          ],
          [
           "Sivert Mannsverk",
           "Ajax"
          ],
          [
           "Eboué Kouassi",
           "Arouca"
          ],
          [
           "Ali McCann",
           "Preston"
          ],
          [
           "Erhan Mašović",
           "VfL Bochum"
          ],
          [
           "Ilija Vukotić",
           "Boavista"
          ],
          [
           "Mirko Topić",
           "Famalicão"
          ],
          [
           "Pedro Chirivella",
           "Nantes"
          ],
          [
           "Fede San Emeterio",
           "Cádiz"
          ],
          [
           "Pepelu",
           "Valencia"
          ],
          [
           "Keidi Bare",
           "Coventry"
          ],
          [
           "Fran Beltrán",
           "Celta"
          ],
          [
           "Edgar",
           "Almería"
          ],
          [
           "Dani Vivian",
           "Athletic"
          ],
          [
           "Hugo Guillamón",
           "Valencia"
          ],
          [
           "Jon Moncayola",
           "Osasuna"
          ],
          [
           "Iker Muñoz",
           "Osasuna"
          ],
          [
           "Tyler Adams",
           "Bournemouth"
          ],
          [
           "Jesús Castillo",
           "Gil Vicente"
          ],
          [
           "Federico Valverde",
           "Real Madrid"
          ],
          [
           "Manuel Ugarte",
           "PSG"
          ],
          [
           "Alan Rodríguez",
           "Argentinos Jrs."
          ],
          [
           "Nicolás Acevedo",
           "BAH"
          ],
          [
           "Mathías Villasanti",
           "GRE"
          ],
          [
           "Matías Galarza",
           "Talleres"
          ],
          [
           "Tomás Ribeiro",
           "Vit. Guimarães"
          ],
          [
           "Jota",
           "Vizela"
          ],
          [
           "Samú",
           "Mallorca"
          ],
          [
           "Dani",
           "Hellas Verona"
          ],
          [
           "Ibrahima Camará",
           "Boavista"
          ],
          [
           "Gonçalo Franco",
           "Moreirense"
          ],
          [
           "Manu Silva",
           "Vit. Guimarães"
          ],
          [
           "Mahdi Camara",
           "Brest"
          ],
          [
           "Alan Franco",
           "ATM"
          ],
          [
           "Moisés Caicedo",
           "Chelsea"
          ],
          [
           "Amos Pieper",
           "SV Werder"
          ],
          [
           "Paul Jaeckel",
           "Lyon"
          ],
          [
           "Tom Krauß",
           "Mainz 05"
          ],
          [
           "Elvis Rexhbecaj",
           "Augsburg"
          ],
          [
           "Leandro Barreiro",
           "Mainz 05"
          ],
          [
           "Eric Martel",
           "FC Köln"
          ],
          [
           "Amadou Onana",
           "Everton"
          ],
          [
           "Michael Akoto",
           "AGF"
          ],
          [
           "Jens Cajuste",
           "Napoli"
          ],
          [
           "Chumi",
           "Almería"
          ],
          [
           "William Clem",
           "FC København"
          ],
          [
           "João Neves",
           "SL Benfica"
          ],
          [
           "Guilherme Madruga",
           "CUI"
          ],
          [
           "Stefano Moreyra",
           "Instituto"
          ],
          [
           "Manuel García",
           "Central Córdoba (SdE)"
          ],
          [
           "Oussama Targhalline",
           "Havre AC"
          ],
          [
           "Agostino Spina",
           "Huracán"
          ],
          [
           "Elián Irala",
           "San Lorenzo"
          ],
          [
           "Zé Carlos",
           "Vit. Guimarães"
          ],
          [
           "Sadik Fofana",
           "Fortuna Sittard"
          ],
          [
           "Alexsander",
           "FLU"
          ],
          [
           "Emanuel Quinteros",
           "Godoy Cruz"
          ],
          [
           "Rodrigo Saravia",
           "Gimnasia (LP)"
          ],
          [
           "Nathan",
           "GOI"
          ],
          [
           "Rico Lewis",
           "Man City"
          ],
          [
           "Nahuel Frascone",
           "Arsenal (Sarandí)"
          ],
          [
           "Igor Jesus",
           "FLA"
          ],
          [
           "Negrucci",
           "SPO"
          ],
          [
           "Kevin López",
           "Defensa y Justicia"
          ],
          [
           "Samuel Lucero",
           "Defensa y Justicia"
          ],
          [
           "Kobbie Mainoo",
           "Man Utd"
          ],
          [
           "Benjamín Schamine",
           "Defensa y Justicia"
          ],
          [
           "Matheus Dias",
           "INT"
          ],
          [
           "Breno Bidon",
           "COR"
          ],
          [
           "João Victor Balão",
           "SAN"
          ],
          [
           "Kevin Ortiz",
           "Rosario Central"
          ],
          [
           "Archie Gray",
           "Leeds"
          ],
          [
           "Gabriel Moscardo",
           "COR"
          ],
          [
           "Joaquín Mosqueira",
           "Unión (SF)"
          ],
          [
           "César Amarilla",
           "Rosario Central"
          ],
          [
           "Lucas López",
           "Instituto"
          ]
         ],
         "hovertemplate": "<b>%{customdata[0]}</b><br><b>%{customdata[1]}</b><br><br>tackle_completion_%: %{x}<br>headers_won_%: %{y}<br>duels_win_%: %{marker.color}<extra></extra>",
         "legendgroup": "",
         "marker": {
          "color": {
           "bdata": "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",
           "dtype": "f8"
          },
          "coloraxis": "coloraxis",
          "size": 10,
          "symbol": "circle"
         },
         "mode": "markers",
         "name": "",
         "orientation": "v",
         "showlegend": false,
         "textfont": {
          "size": 10
         },
         "textposition": "top center",
         "type": "scatter",
         "x": {
          "bdata": "Q01UQk9XTUpDSk8+RE9SU0lRR0M9TF9KUlxOWENJSUhJT0VVTVpOUUdZSEtOWkZLQlBBVUhRSUxISExVTFtMSjVQUk5KSFBCUD89RUxLSU1JRUZQTFBHUU9JWE1GVURKVUxFTk1QS1FYWkRcVFNOSlBNUE9LR0RYT0tIVkROS05QS0ZFSVRQSFJAQU1JR0JHVUxbVE9JSUZMU01TOk9QO0ZRU0JJTkFGUEtSW0ZRUDxRTVhCRUdPT1JQQ0dISkdLO1FdU1xOT1JNUU9UUFFSS0lVV09GUENLWlI=",
          "dtype": "i1"
         },
         "xaxis": "x",
         "y": {
          "bdata": "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",
          "dtype": "f8"
         },
         "yaxis": "y"
        }
       ],
       "layout": {
        "coloraxis": {
         "colorbar": {
          "title": {
           "text": "duels_win_%"
          }
         },
         "colorscale": [
          [
           0,
           "rgb(165,0,38)"
          ],
          [
           0.1,
           "rgb(215,48,39)"
          ],
          [
           0.2,
           "rgb(244,109,67)"
          ],
          [
           0.3,
           "rgb(253,174,97)"
          ],
          [
           0.4,
           "rgb(254,224,139)"
          ],
          [
           0.5,
           "rgb(255,255,191)"
          ],
          [
           0.6,
           "rgb(217,239,139)"
          ],
          [
           0.7,
           "rgb(166,217,106)"
          ],
          [
           0.8,
           "rgb(102,189,99)"
          ],
          [
           0.9,
           "rgb(26,152,80)"
          ],
          [
           1,
           "rgb(0,104,55)"
          ]
         ],
         "showscale": false
        },
        "height": 700,
        "legend": {
         "tracegroupgap": 0
        },
        "paper_bgcolor": "white",
        "plot_bgcolor": "white",
        "template": {
         "data": {
          "bar": [
           {
            "error_x": {
             "color": "#2a3f5f"
            },
            "error_y": {
             "color": "#2a3f5f"
            },
            "marker": {
             "line": {
              "color": "#E5ECF6",
              "width": 0.5
             },
             "pattern": {
              "fillmode": "overlay",
              "size": 10,
              "solidity": 0.2
             }
            },
            "type": "bar"
           }
          ],
          "barpolar": [
           {
            "marker": {
             "line": {
              "color": "#E5ECF6",
              "width": 0.5
             },
             "pattern": {
              "fillmode": "overlay",
              "size": 10,
              "solidity": 0.2
             }
            },
            "type": "barpolar"
           }
          ],
          "carpet": [
           {
            "aaxis": {
             "endlinecolor": "#2a3f5f",
             "gridcolor": "white",
             "linecolor": "white",
             "minorgridcolor": "white",
             "startlinecolor": "#2a3f5f"
            },
            "baxis": {
             "endlinecolor": "#2a3f5f",
             "gridcolor": "white",
             "linecolor": "white",
             "minorgridcolor": "white",
             "startlinecolor": "#2a3f5f"
            },
            "type": "carpet"
           }
          ],
          "choropleth": [
           {
            "colorbar": {
             "outlinewidth": 0,
             "ticks": ""
            },
            "type": "choropleth"
           }
          ],
          "contour": [
           {
            "colorbar": {
             "outlinewidth": 0,
             "ticks": ""
            },
            "colorscale": [
             [
              0,
              "#0d0887"
             ],
             [
              0.1111111111111111,
              "#46039f"
             ],
             [
              0.2222222222222222,
              "#7201a8"
             ],
             [
              0.3333333333333333,
              "#9c179e"
             ],
             [
              0.4444444444444444,
              "#bd3786"
             ],
             [
              0.5555555555555556,
              "#d8576b"
             ],
             [
              0.6666666666666666,
              "#ed7953"
             ],
             [
              0.7777777777777778,
              "#fb9f3a"
             ],
             [
              0.8888888888888888,
              "#fdca26"
             ],
             [
              1,
              "#f0f921"
             ]
            ],
            "type": "contour"
           }
          ],
          "contourcarpet": [
           {
            "colorbar": {
             "outlinewidth": 0,
             "ticks": ""
            },
            "type": "contourcarpet"
           }
          ],
          "heatmap": [
           {
            "colorbar": {
             "outlinewidth": 0,
             "ticks": ""
            },
            "colorscale": [
             [
              0,
              "#0d0887"
             ],
             [
              0.1111111111111111,
              "#46039f"
             ],
             [
              0.2222222222222222,
              "#7201a8"
             ],
             [
              0.3333333333333333,
              "#9c179e"
             ],
             [
              0.4444444444444444,
              "#bd3786"
             ],
             [
              0.5555555555555556,
              "#d8576b"
             ],
             [
              0.6666666666666666,
              "#ed7953"
             ],
             [
              0.7777777777777778,
              "#fb9f3a"
             ],
             [
              0.8888888888888888,
              "#fdca26"
             ],
             [
              1,
              "#f0f921"
             ]
            ],
            "type": "heatmap"
           }
          ],
          "histogram": [
           {
            "marker": {
             "pattern": {
              "fillmode": "overlay",
              "size": 10,
              "solidity": 0.2
             }
            },
            "type": "histogram"
           }
          ],
          "histogram2d": [
           {
            "colorbar": {
             "outlinewidth": 0,
             "ticks": ""
            },
            "colorscale": [
             [
              0,
              "#0d0887"
             ],
             [
              0.1111111111111111,
              "#46039f"
             ],
             [
              0.2222222222222222,
              "#7201a8"
             ],
             [
              0.3333333333333333,
              "#9c179e"
             ],
             [
              0.4444444444444444,
              "#bd3786"
             ],
             [
              0.5555555555555556,
              "#d8576b"
             ],
             [
              0.6666666666666666,
              "#ed7953"
             ],
             [
              0.7777777777777778,
              "#fb9f3a"
             ],
             [
              0.8888888888888888,
              "#fdca26"
             ],
             [
              1,
              "#f0f921"
             ]
            ],
            "type": "histogram2d"
           }
          ],
          "histogram2dcontour": [
           {
            "colorbar": {
             "outlinewidth": 0,
             "ticks": ""
            },
            "colorscale": [
             [
              0,
              "#0d0887"
             ],
             [
              0.1111111111111111,
              "#46039f"
             ],
             [
              0.2222222222222222,
              "#7201a8"
             ],
             [
              0.3333333333333333,
              "#9c179e"
             ],
             [
              0.4444444444444444,
              "#bd3786"
             ],
             [
              0.5555555555555556,
              "#d8576b"
             ],
             [
              0.6666666666666666,
              "#ed7953"
             ],
             [
              0.7777777777777778,
              "#fb9f3a"
             ],
             [
              0.8888888888888888,
              "#fdca26"
             ],
             [
              1,
              "#f0f921"
             ]
            ],
            "type": "histogram2dcontour"
           }
          ],
          "mesh3d": [
           {
            "colorbar": {
             "outlinewidth": 0,
             "ticks": ""
            },
            "type": "mesh3d"
           }
          ],
          "parcoords": [
           {
            "line": {
             "colorbar": {
              "outlinewidth": 0,
              "ticks": ""
             }
            },
            "type": "parcoords"
           }
          ],
          "pie": [
           {
            "automargin": true,
            "type": "pie"
           }
          ],
          "scatter": [
           {
            "fillpattern": {
             "fillmode": "overlay",
             "size": 10,
             "solidity": 0.2
            },
            "type": "scatter"
           }
          ],
          "scatter3d": [
           {
            "line": {
             "colorbar": {
              "outlinewidth": 0,
              "ticks": ""
             }
            },
            "marker": {
             "colorbar": {
              "outlinewidth": 0,
              "ticks": ""
             }
            },
            "type": "scatter3d"
           }
          ],
          "scattercarpet": [
           {
            "marker": {
             "colorbar": {
              "outlinewidth": 0,
              "ticks": ""
             }
            },
            "type": "scattercarpet"
           }
          ],
          "scattergeo": [
           {
            "marker": {
             "colorbar": {
              "outlinewidth": 0,
              "ticks": ""
             }
            },
            "type": "scattergeo"
           }
          ],
          "scattergl": [
           {
            "marker": {
             "colorbar": {
              "outlinewidth": 0,
              "ticks": ""
             }
            },
            "type": "scattergl"
           }
          ],
          "scattermap": [
           {
            "marker": {
             "colorbar": {
              "outlinewidth": 0,
              "ticks": ""
             }
            },
            "type": "scattermap"
           }
          ],
          "scattermapbox": [
           {
            "marker": {
             "colorbar": {
              "outlinewidth": 0,
              "ticks": ""
             }
            },
            "type": "scattermapbox"
           }
          ],
          "scatterpolar": [
           {
            "marker": {
             "colorbar": {
              "outlinewidth": 0,
              "ticks": ""
             }
            },
            "type": "scatterpolar"
           }
          ],
          "scatterpolargl": [
           {
            "marker": {
             "colorbar": {
              "outlinewidth": 0,
              "ticks": ""
             }
            },
            "type": "scatterpolargl"
           }
          ],
          "scatterternary": [
           {
            "marker": {
             "colorbar": {
              "outlinewidth": 0,
              "ticks": ""
             }
            },
            "type": "scatterternary"
           }
          ],
          "surface": [
           {
            "colorbar": {
             "outlinewidth": 0,
             "ticks": ""
            },
            "colorscale": [
             [
              0,
              "#0d0887"
             ],
             [
              0.1111111111111111,
              "#46039f"
             ],
             [
              0.2222222222222222,
              "#7201a8"
             ],
             [
              0.3333333333333333,
              "#9c179e"
             ],
             [
              0.4444444444444444,
              "#bd3786"
             ],
             [
              0.5555555555555556,
              "#d8576b"
             ],
             [
              0.6666666666666666,
              "#ed7953"
             ],
             [
              0.7777777777777778,
              "#fb9f3a"
             ],
             [
              0.8888888888888888,
              "#fdca26"
             ],
             [
              1,
              "#f0f921"
             ]
            ],
            "type": "surface"
           }
          ],
          "table": [
           {
            "cells": {
             "fill": {
              "color": "#EBF0F8"
             },
             "line": {
              "color": "white"
             }
            },
            "header": {
             "fill": {
              "color": "#C8D4E3"
             },
             "line": {
              "color": "white"
             }
            },
            "type": "table"
           }
          ]
         },
         "layout": {
          "annotationdefaults": {
           "arrowcolor": "#2a3f5f",
           "arrowhead": 0,
           "arrowwidth": 1
          },
          "autotypenumbers": "strict",
          "coloraxis": {
           "colorbar": {
            "outlinewidth": 0,
            "ticks": ""
           }
          },
          "colorscale": {
           "diverging": [
            [
             0,
             "#8e0152"
            ],
            [
             0.1,
             "#c51b7d"
            ],
            [
             0.2,
             "#de77ae"
            ],
            [
             0.3,
             "#f1b6da"
            ],
            [
             0.4,
             "#fde0ef"
            ],
            [
             0.5,
             "#f7f7f7"
            ],
            [
             0.6,
             "#e6f5d0"
            ],
            [
             0.7,
             "#b8e186"
            ],
            [
             0.8,
             "#7fbc41"
            ],
            [
             0.9,
             "#4d9221"
            ],
            [
             1,
             "#276419"
            ]
           ],
           "sequential": [
            [
             0,
             "#0d0887"
            ],
            [
             0.1111111111111111,
             "#46039f"
            ],
            [
             0.2222222222222222,
             "#7201a8"
            ],
            [
             0.3333333333333333,
             "#9c179e"
            ],
            [
             0.4444444444444444,
             "#bd3786"
            ],
            [
             0.5555555555555556,
             "#d8576b"
            ],
            [
             0.6666666666666666,
             "#ed7953"
            ],
            [
             0.7777777777777778,
             "#fb9f3a"
            ],
            [
             0.8888888888888888,
             "#fdca26"
            ],
            [
             1,
             "#f0f921"
            ]
           ],
           "sequentialminus": [
            [
             0,
             "#0d0887"
            ],
            [
             0.1111111111111111,
             "#46039f"
            ],
            [
             0.2222222222222222,
             "#7201a8"
            ],
            [
             0.3333333333333333,
             "#9c179e"
            ],
            [
             0.4444444444444444,
             "#bd3786"
            ],
            [
             0.5555555555555556,
             "#d8576b"
            ],
            [
             0.6666666666666666,
             "#ed7953"
            ],
            [
             0.7777777777777778,
             "#fb9f3a"
            ],
            [
             0.8888888888888888,
             "#fdca26"
            ],
            [
             1,
             "#f0f921"
            ]
           ]
          },
          "colorway": [
           "#636efa",
           "#EF553B",
           "#00cc96",
           "#ab63fa",
           "#FFA15A",
           "#19d3f3",
           "#FF6692",
           "#B6E880",
           "#FF97FF",
           "#FECB52"
          ],
          "font": {
           "color": "#2a3f5f"
          },
          "geo": {
           "bgcolor": "white",
           "lakecolor": "white",
           "landcolor": "#E5ECF6",
           "showlakes": true,
           "showland": true,
           "subunitcolor": "white"
          },
          "hoverlabel": {
           "align": "left"
          },
          "hovermode": "closest",
          "mapbox": {
           "style": "light"
          },
          "paper_bgcolor": "white",
          "plot_bgcolor": "#E5ECF6",
          "polar": {
           "angularaxis": {
            "gridcolor": "white",
            "linecolor": "white",
            "ticks": ""
           },
           "bgcolor": "#E5ECF6",
           "radialaxis": {
            "gridcolor": "white",
            "linecolor": "white",
            "ticks": ""
           }
          },
          "scene": {
           "xaxis": {
            "backgroundcolor": "#E5ECF6",
            "gridcolor": "white",
            "gridwidth": 2,
            "linecolor": "white",
            "showbackground": true,
            "ticks": "",
            "zerolinecolor": "white"
           },
           "yaxis": {
            "backgroundcolor": "#E5ECF6",
            "gridcolor": "white",
            "gridwidth": 2,
            "linecolor": "white",
            "showbackground": true,
            "ticks": "",
            "zerolinecolor": "white"
           },
           "zaxis": {
            "backgroundcolor": "#E5ECF6",
            "gridcolor": "white",
            "gridwidth": 2,
            "linecolor": "white",
            "showbackground": true,
            "ticks": "",
            "zerolinecolor": "white"
           }
          },
          "shapedefaults": {
           "line": {
            "color": "#2a3f5f"
           }
          },
          "ternary": {
           "aaxis": {
            "gridcolor": "white",
            "linecolor": "white",
            "ticks": ""
           },
           "baxis": {
            "gridcolor": "white",
            "linecolor": "white",
            "ticks": ""
           },
           "bgcolor": "#E5ECF6",
           "caxis": {
            "gridcolor": "white",
            "linecolor": "white",
            "ticks": ""
           }
          },
          "title": {
           "x": 0.05
          },
          "xaxis": {
           "automargin": true,
           "gridcolor": "white",
           "linecolor": "white",
           "ticks": "",
           "title": {
            "standoff": 15
           },
           "zerolinecolor": "white",
           "zerolinewidth": 2
          },
          "yaxis": {
           "automargin": true,
           "gridcolor": "white",
           "linecolor": "white",
           "ticks": "",
           "title": {
            "standoff": 15
           },
           "zerolinecolor": "white",
           "zerolinewidth": 2
          }
         }
        },
        "title": {
         "text": "Dominance ( 218)",
         "x": 0.5,
         "xanchor": "center"
        },
        "width": 1200,
        "xaxis": {
         "anchor": "y",
         "domain": [
          0,
          1
         ],
         "gridcolor": "lightgray",
         "showgrid": true,
         "title": {
          "text": "tackle_completion_%"
         },
         "zeroline": false
        },
        "yaxis": {
         "anchor": "x",
         "domain": [
          0,
          1
         ],
         "gridcolor": "lightgray",
         "showgrid": true,
         "title": {
          "text": "headers_won_%"
         },
         "zeroline": false
        }
       }
      }
     },
     "metadata": {},
     "output_type": "display_data"
    }
   ],
   "source": [
    "# Full universe \n",
    "scatter_plot(df_targets,\n",
    "             x_metric='tackle_completion_%', \n",
    "             y_metric='headers_won_%',\n",
    "             z_metric='duels_win_%',\n",
    "             title='Dominance', \n",
    "             show_name_label=False\n",
    ")"
   ]
  },
  {
   "cell_type": "code",
   "execution_count": 13,
   "id": "04e9f933",
   "metadata": {},
   "outputs": [
    {
     "data": {
      "application/vnd.plotly.v1+json": {
       "config": {
        "plotlyServerURL": "https://plot.ly"
       },
       "data": [
        {
         "customdata": [
          [
           "Houssem Mrezigue",
           "Vizela"
          ],
          [
           "Nicolás Domínguez",
           "Nottm Forest"
          ],
          [
           "Santiago Ascacíbar",
           "Estudiantes (LP)"
          ],
          [
           "Leonel Picco",
           "Platense"
          ],
          [
           "Fernando Juárez",
           "Platense"
          ],
          [
           "Santiago Sosa",
           "Racing Club"
          ],
          [
           "Juan Foyth",
           "Villarreal"
          ],
          [
           "Manuel Insaurralde",
           "Rosario Central"
          ],
          [
           "Franco Ibarra",
           "Rosario Central"
          ],
          [
           "Enzo Barrenechea",
           "Frosinone"
          ],
          [
           "Diego Calcaterra",
           "Sarmiento (Junín)"
          ],
          [
           "Damián Fernández",
           "Vélez"
          ],
          [
           "Bautista Kociubinski",
           "Estudiantes (LP)"
          ],
          [
           "Juan Carlos Portillo",
           "Talleres"
          ],
          [
           "Agustín Toledo",
           "Huracán"
          ],
          [
           "Patricio Tanda",
           "Unión (SF)"
          ],
          [
           "Leandro Figueredo",
           "Huracán"
          ],
          [
           "Zaid Romero",
           "Estudiantes (LP)"
          ],
          [
           "Arno Verschueren",
           "Sparta Rotterdam"
          ],
          [
           "Siebe Horemans",
           "Excelsior"
          ],
          [
           "Thiago Maia",
           "FLA"
          ],
          [
           "Pepê",
           "GRE"
          ],
          [
           "Andrey",
           "CTB"
          ],
          [
           "Diego Costa",
           "SPO"
          ],
          [
           "Pedro Augusto",
           "FOR"
          ],
          [
           "Hugo Moura",
           "Athlético Paranaense"
          ],
          [
           "Luan",
           "SPO"
          ],
          [
           "Gabriel Sara",
           "Norwich"
          ],
          [
           "Zé Gabriel",
           "Vasco da Gama"
          ],
          [
           "Vitor Mendes",
           "FOR"
          ],
          [
           "Morato",
           "SL Benfica"
          ],
          [
           "Vinicius Balieiro",
           "SAN"
          ],
          [
           "Erick",
           "Athlético Paranaense"
          ],
          [
           "Edu",
           "GOI"
          ],
          [
           "Fernando Henrique",
           "CEC"
          ],
          [
           "André",
           "FLU"
          ],
          [
           "Richard Ríos",
           "SEP"
          ],
          [
           "Mory Gbané",
           "Gil Vicente"
          ],
          [
           "Alex Král",
           "Union Berlin"
          ],
          [
           "Ahmed Iljazovski",
           "Hvidovre IF"
          ],
          [
           "Ben Sheaf",
           "Coventry"
          ],
          [
           "Sean Longstaff",
           "Newcastle"
          ],
          [
           "Sam Field",
           "QPR"
          ],
          [
           "Haydon Roberts",
           "Bristol City"
          ],
          [
           "Pierre Ekwah",
           "Sunderland"
          ],
          [
           "Bashir Humphreys",
           "Swansea"
          ],
          [
           "Odel Offiah",
           "QPR"
          ],
          [
           "Jayson Molumby",
           "West Brom"
          ],
          [
           "Flynn Downes",
           "Southampton"
          ],
          [
           "Callum Styles",
           "Sunderland"
          ],
          [
           "Ethan Ampadu",
           "Leeds"
          ],
          [
           "Philippe Sandler",
           "N.E.C. Nijmegen"
          ],
          [
           "Pablo Rosario",
           "Nice"
          ],
          [
           "Radinio Balker",
           "Huddersfield"
          ],
          [
           "Pascal Struijk",
           "Leeds"
          ],
          [
           "Jamal Amofa",
           "Go Ahead Eagles"
          ],
          [
           "Thomas Beelen",
           "Feyenoord"
          ],
          [
           "Nathan Tjoe-A-On",
           "sc Heerenveen"
          ],
          [
           "Youri Regeer",
           "FC Twente"
          ],
          [
           "Enzo Cornelisse",
           "Vitesse"
          ],
          [
           "Ryan Flamingo",
           "FC Utrecht"
          ],
          [
           "Calvin Twigt",
           "FC Volendam"
          ],
          [
           "Serano Seymor",
           "Excelsior"
          ],
          [
           "Tommaso Pobega",
           "Milan"
          ],
          [
           "Michel Ndary Adopo",
           "Atalanta"
          ],
          [
           "Yuta Nakayama",
           "Huddersfield"
          ],
          [
           "Olivier Boscagli",
           "PSV"
          ],
          [
           "Warmed Omari",
           "Rennes"
          ],
          [
           "Moussa Diarra",
           "Toulouse"
          ],
          [
           "Chrislain Matsima",
           "Clermont"
          ],
          [
           "Salis Abdul Samed",
           "Lens"
          ],
          [
           "Andy Diouf",
           "Lens"
          ],
          [
           "Sivert Mannsverk",
           "Ajax"
          ],
          [
           "Eboué Kouassi",
           "Arouca"
          ],
          [
           "Erhan Mašović",
           "VfL Bochum"
          ],
          [
           "Ilija Vukotić",
           "Boavista"
          ],
          [
           "Mirko Topić",
           "Famalicão"
          ],
          [
           "Edgar",
           "Almería"
          ],
          [
           "Jon Moncayola",
           "Osasuna"
          ],
          [
           "Jesús Castillo",
           "Gil Vicente"
          ],
          [
           "Mathías Villasanti",
           "GRE"
          ],
          [
           "Tomás Ribeiro",
           "Vit. Guimarães"
          ],
          [
           "Jota",
           "Vizela"
          ],
          [
           "Samú",
           "Mallorca"
          ],
          [
           "Gonçalo Franco",
           "Moreirense"
          ],
          [
           "Manu Silva",
           "Vit. Guimarães"
          ],
          [
           "Amos Pieper",
           "SV Werder"
          ],
          [
           "Paul Jaeckel",
           "Lyon"
          ],
          [
           "Michael Akoto",
           "AGF"
          ],
          [
           "Jens Cajuste",
           "Napoli"
          ],
          [
           "Chumi",
           "Almería"
          ],
          [
           "William Clem",
           "FC København"
          ],
          [
           "Guilherme Madruga",
           "CUI"
          ],
          [
           "Elián Irala",
           "San Lorenzo"
          ],
          [
           "Sadik Fofana",
           "Fortuna Sittard"
          ],
          [
           "Alexsander",
           "FLU"
          ],
          [
           "Emanuel Quinteros",
           "Godoy Cruz"
          ],
          [
           "Kevin López",
           "Defensa y Justicia"
          ],
          [
           "Samuel Lucero",
           "Defensa y Justicia"
          ],
          [
           "Benjamín Schamine",
           "Defensa y Justicia"
          ],
          [
           "Matheus Dias",
           "INT"
          ],
          [
           "Breno Bidon",
           "COR"
          ],
          [
           "João Victor Balão",
           "SAN"
          ],
          [
           "Kevin Ortiz",
           "Rosario Central"
          ],
          [
           "Archie Gray",
           "Leeds"
          ],
          [
           "Gabriel Moscardo",
           "COR"
          ],
          [
           "Lucas López",
           "Instituto"
          ]
         ],
         "hovertemplate": "<b>%{customdata[0]}</b><br><b>%{customdata[1]}</b><br><br>tackle_completion_%: %{x}<br>headers_won_%: %{y}<br>duels_win_%: %{marker.color}<extra></extra>",
         "legendgroup": "",
         "marker": {
          "color": {
           "bdata": "j8L1KFyPT0AzMzMzM/NOQK5H4XoU/lBASOF6FK5nUUAfhetRuM5QQNejcD0Kt1BArkfhehQeU0DD9Shcj4JOQBSuR+F6tE9ACtejcD2qT0A9CtejcI1QQKRwPQrXE1JAKVyPwvUYUUAfhetRuP5QQK5H4XoUDlJArkfhehRuT0CuR+F6FK5SQK5H4XoUflJAAAAAAAAgT0B7FK5H4fpQQJqZmZmZuU5AMzMzMzMTT0CPwvUoXE9OQK5H4XoUPlFAFK5H4XoUUEBI4XoUrkdOQHsUrkfhuk5AuB6F61EoUUApXI/C9QhOQFyPwvUofFRAZmZmZmYmUUApXI/C9chVQM3MzMzMrE5Aw/UoXI+iT0ApXI/C9QhQQJqZmZmZOU9APQrXo3DdTkAUrkfhejRPQLgehetR6FBAcT0K16OQU0CuR+F6FJ5RQLgehetRWE9AuB6F61G4TkCkcD0K15NSQPYoXI/CFVBAmpmZmZmpUUBcj8L1KDxRQEjhehSuF1FArkfhehRuUUAK16NwPYpPQFyPwvUojFJAuB6F61FYVECamZmZmQlQQPYoXI/ClVFACtejcD1KU0B7FK5H4epRQHsUrkfhqlBAZmZmZmamT0AAAAAAAOBPQMP1KFyPElJAcT0K16NwT0AAAAAAAABOQHsUrkfhqlBA4XoUrkdhUECamZmZmUlQQLgehetRWE5AMzMzMzOjUkCuR+F6FO5QQGZmZmZmtlNAexSuR+EKVUDD9ShcjyJRQD0K16NwLVBA4XoUrkchT0DXo3A9CndRQMP1KFyP4lBAhetRuB7FUUBSuB6F65FQQClcj8L1+FBA9ihcj8LFUUBmZmZmZgZQQKRwPQrXE1BAMzMzMzODUEDXo3A9CudRQOF6FK5H4U5AAAAAAABAT0D2KFyPwiVRQOxRuB6FS1FAAAAAAABAU0BxPQrXo1BSQMP1KFyPslFACtejcD2aUUBmZmZmZmZSQHsUrkfhGlFApHA9CteDUEDD9Shcj7JSQFyPwvUoHE9A7FG4HoUrTkAAAAAAAEBPQOF6FK5HoU5Aj8L1KFwPTkAAAAAAAOBQQFK4HoXrEU9AFK5H4Xp0T0DNzMzMzAxOQHsUrkfhGlFArkfhehRuT0B7FK5H4apQQA==",
           "dtype": "f8"
          },
          "coloraxis": "coloraxis",
          "size": 10,
          "symbol": "circle"
         },
         "mode": "markers+text",
         "name": "",
         "orientation": "v",
         "showlegend": false,
         "text": [
          "Houssem Mrezigue",
          "Nicolás Domínguez",
          "Santiago Ascacíbar",
          "Leonel Picco",
          "Fernando Juárez",
          "Santiago Sosa",
          "Juan Foyth",
          "Manuel Insaurralde",
          "Franco Ibarra",
          "Enzo Barrenechea",
          "Diego Calcaterra",
          "Damián Fernández",
          "Bautista Kociubinski",
          "Juan Carlos Portillo",
          "Agustín Toledo",
          "Patricio Tanda",
          "Leandro Figueredo",
          "Zaid Romero",
          "Arno Verschueren",
          "Siebe Horemans",
          "Thiago Maia",
          "Pepê",
          "Andrey",
          "Diego Costa",
          "Pedro Augusto",
          "Hugo Moura",
          "Luan",
          "Gabriel Sara",
          "Zé Gabriel",
          "Vitor Mendes",
          "Morato",
          "Vinicius Balieiro",
          "Erick",
          "Edu",
          "Fernando Henrique",
          "André",
          "Richard Ríos",
          "Mory Gbané",
          "Alex Král",
          "Ahmed Iljazovski",
          "Ben Sheaf",
          "Sean Longstaff",
          "Sam Field",
          "Haydon Roberts",
          "Pierre Ekwah",
          "Bashir Humphreys",
          "Odel Offiah",
          "Jayson Molumby",
          "Flynn Downes",
          "Callum Styles",
          "Ethan Ampadu",
          "Philippe Sandler",
          "Pablo Rosario",
          "Radinio Balker",
          "Pascal Struijk",
          "Jamal Amofa",
          "Thomas Beelen",
          "Nathan Tjoe-A-On",
          "Youri Regeer",
          "Enzo Cornelisse",
          "Ryan Flamingo",
          "Calvin Twigt",
          "Serano Seymor",
          "Tommaso Pobega",
          "Michel Ndary Adopo",
          "Yuta Nakayama",
          "Olivier Boscagli",
          "Warmed Omari",
          "Moussa Diarra",
          "Chrislain Matsima",
          "Salis Abdul Samed",
          "Andy Diouf",
          "Sivert Mannsverk",
          "Eboué Kouassi",
          "Erhan Mašović",
          "Ilija Vukotić",
          "Mirko Topić",
          "Edgar",
          "Jon Moncayola",
          "Jesús Castillo",
          "Mathías Villasanti",
          "Tomás Ribeiro",
          "Jota",
          "Samú",
          "Gonçalo Franco",
          "Manu Silva",
          "Amos Pieper",
          "Paul Jaeckel",
          "Michael Akoto",
          "Jens Cajuste",
          "Chumi",
          "William Clem",
          "Guilherme Madruga",
          "Elián Irala",
          "Sadik Fofana",
          "Alexsander",
          "Emanuel Quinteros",
          "Kevin López",
          "Samuel Lucero",
          "Benjamín Schamine",
          "Matheus Dias",
          "Breno Bidon",
          "João Victor Balão",
          "Kevin Ortiz",
          "Archie Gray",
          "Gabriel Moscardo",
          "Lucas López"
         ],
         "textfont": {
          "size": 10
         },
         "textposition": "top center",
         "type": "scatter",
         "x": {
          "bdata": "Q0JXSk9PUlNHQ0xfXE5YVVpOS1pLUEFVUUlMSEhVTFtMSlJOQkVMS01JRVBMUEdRT01VTk1LUVhQTVBPS0dYSE5LTklUUk1JR1VbVE9NT0ZORlBLRlFNWFJQQ0dKXVxOT1FSSVVXT0ZQQ1I=",
          "dtype": "i1"
         },
         "xaxis": "x",
         "y": {
          "bdata": "9ihcj8JVTkDsUbgehWtLQPYoXI/CVUdAhetRuB7FUEAzMzMzM5NNQClcj8L1aE1ASOF6FK4XUkBcj8L1KJxHQK5H4XoU7kxAhetRuB6lTkAUrkfherRNQClcj8L1eFFAMzMzMzPTSUAzMzMzM1NNQFyPwvUofE1AcT0K16NwSUCkcD0K1/NRQDMzMzMzU1JAAAAAAAAATEDNzMzMzCxPQAAAAAAAAElAzczMzMysSUAAAAAAAIBMQOF6FK5H4U9A16NwPQq3SUA9CtejcL1HQHsUrkfh+kdAXI/C9Sg8UEBSuB6F61FJQArXo3A9OlRASOF6FK53UEA9CtejcA1VQClcj8L1yEZAPQrXo3DdTEAAAAAAAABJQB+F61G4nkdA16NwPQqXTUAK16NwPSpNQM3MzMzMLE9ASOF6FK7HU0DsUbgehbtQQGZmZmZmBktAUrgeheuRTEAAAAAAAIBRQHE9CtejME5AuB6F61HoUECkcD0K18NQQAAAAAAAAExAMzMzMzNzTED2KFyPwlVHQDMzMzMz81BACtejcD2aVEAAAAAAAOBMQBSuR+F6FFFAPQrXo3DtUkDsUbgehTtRQOF6FK5HgU9AzczMzMzsSkCuR+F6FI5JQKRwPQrXk1FAAAAAAACAS0AAAAAAAABKQDMzMzMzc01AAAAAAABAT0AzMzMzMxNHQM3MzMzM7EpACtejcD16UkCamZmZmZlQQD0K16NwrVJACtejcD06VUAAAAAAAABOQFK4HoXrkUxAAAAAAADgTECamZmZmQlQQAAAAAAAwExAAAAAAABgT0DsUbgehStOQK5H4XoUzk5A7FG4HoULUEDD9ShcjyJOQAAAAAAAwEpACtejcD0aUEBI4XoUrpdRQKRwPQrXA0dAAAAAAAAAS0AAAAAAAEBQQD0K16NwvVBA7FG4HoVrUkCkcD0K15NRQMP1KFyPok9AmpmZmZnpUUAAAAAAAMBSQArXo3A9OlBAcT0K16NwR0BxPQrXo7BPQK5H4XoUTkhASOF6FK6HR0CkcD0K10NIQOF6FK5HIUtAuB6F61EYSEApXI/C9ahLQHE9CtejcEdACtejcD0KS0AAAAAAAABJQEjhehSux0tAexSuR+G6TUBxPQrXozBOQA==",
          "dtype": "f8"
         },
         "yaxis": "y"
        }
       ],
       "layout": {
        "coloraxis": {
         "colorbar": {
          "title": {
           "text": "duels_win_%"
          }
         },
         "colorscale": [
          [
           0,
           "rgb(165,0,38)"
          ],
          [
           0.1,
           "rgb(215,48,39)"
          ],
          [
           0.2,
           "rgb(244,109,67)"
          ],
          [
           0.3,
           "rgb(253,174,97)"
          ],
          [
           0.4,
           "rgb(254,224,139)"
          ],
          [
           0.5,
           "rgb(255,255,191)"
          ],
          [
           0.6,
           "rgb(217,239,139)"
          ],
          [
           0.7,
           "rgb(166,217,106)"
          ],
          [
           0.8,
           "rgb(102,189,99)"
          ],
          [
           0.9,
           "rgb(26,152,80)"
          ],
          [
           1,
           "rgb(0,104,55)"
          ]
         ],
         "showscale": false
        },
        "height": 700,
        "legend": {
         "tracegroupgap": 0
        },
        "paper_bgcolor": "white",
        "plot_bgcolor": "white",
        "template": {
         "data": {
          "bar": [
           {
            "error_x": {
             "color": "#2a3f5f"
            },
            "error_y": {
             "color": "#2a3f5f"
            },
            "marker": {
             "line": {
              "color": "#E5ECF6",
              "width": 0.5
             },
             "pattern": {
              "fillmode": "overlay",
              "size": 10,
              "solidity": 0.2
             }
            },
            "type": "bar"
           }
          ],
          "barpolar": [
           {
            "marker": {
             "line": {
              "color": "#E5ECF6",
              "width": 0.5
             },
             "pattern": {
              "fillmode": "overlay",
              "size": 10,
              "solidity": 0.2
             }
            },
            "type": "barpolar"
           }
          ],
          "carpet": [
           {
            "aaxis": {
             "endlinecolor": "#2a3f5f",
             "gridcolor": "white",
             "linecolor": "white",
             "minorgridcolor": "white",
             "startlinecolor": "#2a3f5f"
            },
            "baxis": {
             "endlinecolor": "#2a3f5f",
             "gridcolor": "white",
             "linecolor": "white",
             "minorgridcolor": "white",
             "startlinecolor": "#2a3f5f"
            },
            "type": "carpet"
           }
          ],
          "choropleth": [
           {
            "colorbar": {
             "outlinewidth": 0,
             "ticks": ""
            },
            "type": "choropleth"
           }
          ],
          "contour": [
           {
            "colorbar": {
             "outlinewidth": 0,
             "ticks": ""
            },
            "colorscale": [
             [
              0,
              "#0d0887"
             ],
             [
              0.1111111111111111,
              "#46039f"
             ],
             [
              0.2222222222222222,
              "#7201a8"
             ],
             [
              0.3333333333333333,
              "#9c179e"
             ],
             [
              0.4444444444444444,
              "#bd3786"
             ],
             [
              0.5555555555555556,
              "#d8576b"
             ],
             [
              0.6666666666666666,
              "#ed7953"
             ],
             [
              0.7777777777777778,
              "#fb9f3a"
             ],
             [
              0.8888888888888888,
              "#fdca26"
             ],
             [
              1,
              "#f0f921"
             ]
            ],
            "type": "contour"
           }
          ],
          "contourcarpet": [
           {
            "colorbar": {
             "outlinewidth": 0,
             "ticks": ""
            },
            "type": "contourcarpet"
           }
          ],
          "heatmap": [
           {
            "colorbar": {
             "outlinewidth": 0,
             "ticks": ""
            },
            "colorscale": [
             [
              0,
              "#0d0887"
             ],
             [
              0.1111111111111111,
              "#46039f"
             ],
             [
              0.2222222222222222,
              "#7201a8"
             ],
             [
              0.3333333333333333,
              "#9c179e"
             ],
             [
              0.4444444444444444,
              "#bd3786"
             ],
             [
              0.5555555555555556,
              "#d8576b"
             ],
             [
              0.6666666666666666,
              "#ed7953"
             ],
             [
              0.7777777777777778,
              "#fb9f3a"
             ],
             [
              0.8888888888888888,
              "#fdca26"
             ],
             [
              1,
              "#f0f921"
             ]
            ],
            "type": "heatmap"
           }
          ],
          "histogram": [
           {
            "marker": {
             "pattern": {
              "fillmode": "overlay",
              "size": 10,
              "solidity": 0.2
             }
            },
            "type": "histogram"
           }
          ],
          "histogram2d": [
           {
            "colorbar": {
             "outlinewidth": 0,
             "ticks": ""
            },
            "colorscale": [
             [
              0,
              "#0d0887"
             ],
             [
              0.1111111111111111,
              "#46039f"
             ],
             [
              0.2222222222222222,
              "#7201a8"
             ],
             [
              0.3333333333333333,
              "#9c179e"
             ],
             [
              0.4444444444444444,
              "#bd3786"
             ],
             [
              0.5555555555555556,
              "#d8576b"
             ],
             [
              0.6666666666666666,
              "#ed7953"
             ],
             [
              0.7777777777777778,
              "#fb9f3a"
             ],
             [
              0.8888888888888888,
              "#fdca26"
             ],
             [
              1,
              "#f0f921"
             ]
            ],
            "type": "histogram2d"
           }
          ],
          "histogram2dcontour": [
           {
            "colorbar": {
             "outlinewidth": 0,
             "ticks": ""
            },
            "colorscale": [
             [
              0,
              "#0d0887"
             ],
             [
              0.1111111111111111,
              "#46039f"
             ],
             [
              0.2222222222222222,
              "#7201a8"
             ],
             [
              0.3333333333333333,
              "#9c179e"
             ],
             [
              0.4444444444444444,
              "#bd3786"
             ],
             [
              0.5555555555555556,
              "#d8576b"
             ],
             [
              0.6666666666666666,
              "#ed7953"
             ],
             [
              0.7777777777777778,
              "#fb9f3a"
             ],
             [
              0.8888888888888888,
              "#fdca26"
             ],
             [
              1,
              "#f0f921"
             ]
            ],
            "type": "histogram2dcontour"
           }
          ],
          "mesh3d": [
           {
            "colorbar": {
             "outlinewidth": 0,
             "ticks": ""
            },
            "type": "mesh3d"
           }
          ],
          "parcoords": [
           {
            "line": {
             "colorbar": {
              "outlinewidth": 0,
              "ticks": ""
             }
            },
            "type": "parcoords"
           }
          ],
          "pie": [
           {
            "automargin": true,
            "type": "pie"
           }
          ],
          "scatter": [
           {
            "fillpattern": {
             "fillmode": "overlay",
             "size": 10,
             "solidity": 0.2
            },
            "type": "scatter"
           }
          ],
          "scatter3d": [
           {
            "line": {
             "colorbar": {
              "outlinewidth": 0,
              "ticks": ""
             }
            },
            "marker": {
             "colorbar": {
              "outlinewidth": 0,
              "ticks": ""
             }
            },
            "type": "scatter3d"
           }
          ],
          "scattercarpet": [
           {
            "marker": {
             "colorbar": {
              "outlinewidth": 0,
              "ticks": ""
             }
            },
            "type": "scattercarpet"
           }
          ],
          "scattergeo": [
           {
            "marker": {
             "colorbar": {
              "outlinewidth": 0,
              "ticks": ""
             }
            },
            "type": "scattergeo"
           }
          ],
          "scattergl": [
           {
            "marker": {
             "colorbar": {
              "outlinewidth": 0,
              "ticks": ""
             }
            },
            "type": "scattergl"
           }
          ],
          "scattermap": [
           {
            "marker": {
             "colorbar": {
              "outlinewidth": 0,
              "ticks": ""
             }
            },
            "type": "scattermap"
           }
          ],
          "scattermapbox": [
           {
            "marker": {
             "colorbar": {
              "outlinewidth": 0,
              "ticks": ""
             }
            },
            "type": "scattermapbox"
           }
          ],
          "scatterpolar": [
           {
            "marker": {
             "colorbar": {
              "outlinewidth": 0,
              "ticks": ""
             }
            },
            "type": "scatterpolar"
           }
          ],
          "scatterpolargl": [
           {
            "marker": {
             "colorbar": {
              "outlinewidth": 0,
              "ticks": ""
             }
            },
            "type": "scatterpolargl"
           }
          ],
          "scatterternary": [
           {
            "marker": {
             "colorbar": {
              "outlinewidth": 0,
              "ticks": ""
             }
            },
            "type": "scatterternary"
           }
          ],
          "surface": [
           {
            "colorbar": {
             "outlinewidth": 0,
             "ticks": ""
            },
            "colorscale": [
             [
              0,
              "#0d0887"
             ],
             [
              0.1111111111111111,
              "#46039f"
             ],
             [
              0.2222222222222222,
              "#7201a8"
             ],
             [
              0.3333333333333333,
              "#9c179e"
             ],
             [
              0.4444444444444444,
              "#bd3786"
             ],
             [
              0.5555555555555556,
              "#d8576b"
             ],
             [
              0.6666666666666666,
              "#ed7953"
             ],
             [
              0.7777777777777778,
              "#fb9f3a"
             ],
             [
              0.8888888888888888,
              "#fdca26"
             ],
             [
              1,
              "#f0f921"
             ]
            ],
            "type": "surface"
           }
          ],
          "table": [
           {
            "cells": {
             "fill": {
              "color": "#EBF0F8"
             },
             "line": {
              "color": "white"
             }
            },
            "header": {
             "fill": {
              "color": "#C8D4E3"
             },
             "line": {
              "color": "white"
             }
            },
            "type": "table"
           }
          ]
         },
         "layout": {
          "annotationdefaults": {
           "arrowcolor": "#2a3f5f",
           "arrowhead": 0,
           "arrowwidth": 1
          },
          "autotypenumbers": "strict",
          "coloraxis": {
           "colorbar": {
            "outlinewidth": 0,
            "ticks": ""
           }
          },
          "colorscale": {
           "diverging": [
            [
             0,
             "#8e0152"
            ],
            [
             0.1,
             "#c51b7d"
            ],
            [
             0.2,
             "#de77ae"
            ],
            [
             0.3,
             "#f1b6da"
            ],
            [
             0.4,
             "#fde0ef"
            ],
            [
             0.5,
             "#f7f7f7"
            ],
            [
             0.6,
             "#e6f5d0"
            ],
            [
             0.7,
             "#b8e186"
            ],
            [
             0.8,
             "#7fbc41"
            ],
            [
             0.9,
             "#4d9221"
            ],
            [
             1,
             "#276419"
            ]
           ],
           "sequential": [
            [
             0,
             "#0d0887"
            ],
            [
             0.1111111111111111,
             "#46039f"
            ],
            [
             0.2222222222222222,
             "#7201a8"
            ],
            [
             0.3333333333333333,
             "#9c179e"
            ],
            [
             0.4444444444444444,
             "#bd3786"
            ],
            [
             0.5555555555555556,
             "#d8576b"
            ],
            [
             0.6666666666666666,
             "#ed7953"
            ],
            [
             0.7777777777777778,
             "#fb9f3a"
            ],
            [
             0.8888888888888888,
             "#fdca26"
            ],
            [
             1,
             "#f0f921"
            ]
           ],
           "sequentialminus": [
            [
             0,
             "#0d0887"
            ],
            [
             0.1111111111111111,
             "#46039f"
            ],
            [
             0.2222222222222222,
             "#7201a8"
            ],
            [
             0.3333333333333333,
             "#9c179e"
            ],
            [
             0.4444444444444444,
             "#bd3786"
            ],
            [
             0.5555555555555556,
             "#d8576b"
            ],
            [
             0.6666666666666666,
             "#ed7953"
            ],
            [
             0.7777777777777778,
             "#fb9f3a"
            ],
            [
             0.8888888888888888,
             "#fdca26"
            ],
            [
             1,
             "#f0f921"
            ]
           ]
          },
          "colorway": [
           "#636efa",
           "#EF553B",
           "#00cc96",
           "#ab63fa",
           "#FFA15A",
           "#19d3f3",
           "#FF6692",
           "#B6E880",
           "#FF97FF",
           "#FECB52"
          ],
          "font": {
           "color": "#2a3f5f"
          },
          "geo": {
           "bgcolor": "white",
           "lakecolor": "white",
           "landcolor": "#E5ECF6",
           "showlakes": true,
           "showland": true,
           "subunitcolor": "white"
          },
          "hoverlabel": {
           "align": "left"
          },
          "hovermode": "closest",
          "mapbox": {
           "style": "light"
          },
          "paper_bgcolor": "white",
          "plot_bgcolor": "#E5ECF6",
          "polar": {
           "angularaxis": {
            "gridcolor": "white",
            "linecolor": "white",
            "ticks": ""
           },
           "bgcolor": "#E5ECF6",
           "radialaxis": {
            "gridcolor": "white",
            "linecolor": "white",
            "ticks": ""
           }
          },
          "scene": {
           "xaxis": {
            "backgroundcolor": "#E5ECF6",
            "gridcolor": "white",
            "gridwidth": 2,
            "linecolor": "white",
            "showbackground": true,
            "ticks": "",
            "zerolinecolor": "white"
           },
           "yaxis": {
            "backgroundcolor": "#E5ECF6",
            "gridcolor": "white",
            "gridwidth": 2,
            "linecolor": "white",
            "showbackground": true,
            "ticks": "",
            "zerolinecolor": "white"
           },
           "zaxis": {
            "backgroundcolor": "#E5ECF6",
            "gridcolor": "white",
            "gridwidth": 2,
            "linecolor": "white",
            "showbackground": true,
            "ticks": "",
            "zerolinecolor": "white"
           }
          },
          "shapedefaults": {
           "line": {
            "color": "#2a3f5f"
           }
          },
          "ternary": {
           "aaxis": {
            "gridcolor": "white",
            "linecolor": "white",
            "ticks": ""
           },
           "baxis": {
            "gridcolor": "white",
            "linecolor": "white",
            "ticks": ""
           },
           "bgcolor": "#E5ECF6",
           "caxis": {
            "gridcolor": "white",
            "linecolor": "white",
            "ticks": ""
           }
          },
          "title": {
           "x": 0.05
          },
          "xaxis": {
           "automargin": true,
           "gridcolor": "white",
           "linecolor": "white",
           "ticks": "",
           "title": {
            "standoff": 15
           },
           "zerolinecolor": "white",
           "zerolinewidth": 2
          },
          "yaxis": {
           "automargin": true,
           "gridcolor": "white",
           "linecolor": "white",
           "ticks": "",
           "title": {
            "standoff": 15
           },
           "zerolinecolor": "white",
           "zerolinewidth": 2
          }
         }
        },
        "title": {
         "text": "Dominance ( 107)",
         "x": 0.5,
         "xanchor": "center"
        },
        "width": 1200,
        "xaxis": {
         "anchor": "y",
         "domain": [
          0,
          1
         ],
         "gridcolor": "lightgray",
         "showgrid": true,
         "title": {
          "text": "tackle_completion_%"
         },
         "zeroline": false
        },
        "yaxis": {
         "anchor": "x",
         "domain": [
          0,
          1
         ],
         "gridcolor": "lightgray",
         "showgrid": true,
         "title": {
          "text": "headers_won_%"
         },
         "zeroline": false
        }
       }
      }
     },
     "metadata": {},
     "output_type": "display_data"
    }
   ],
   "source": [
    "# Filter data \n",
    "mask = (\n",
    "        (df_players['tackle_completion_%'] >= 65) & \\\n",
    "        (df_players['headers_won_%'] >= 45) & \\\n",
    "        (df_players['duels_win_%'] >= 60) & \\\n",
    "        (df_players['price_estimate_M'] <= 40) & \\\n",
    "        (df_players['id'].isin(targets))\n",
    "        \n",
    "        \n",
    ")\n",
    "\n",
    "df_targets = df_players[mask]\n",
    "\n",
    "scatter_plot(df_targets,\n",
    "             x_metric='tackle_completion_%', \n",
    "             y_metric='headers_won_%',\n",
    "             z_metric='duels_win_%',\n",
    "             title='Dominance', \n",
    "             show_name_label=True\n",
    ")\n",
    "\n",
    "# Keep only players that fulfill criteria\n",
    "targets = df_targets['id']"
   ]
  },
  {
   "cell_type": "markdown",
   "id": "a76d3e76",
   "metadata": {},
   "source": [
    "## Pressure quality"
   ]
  },
  {
   "cell_type": "code",
   "execution_count": 14,
   "id": "7794f58b",
   "metadata": {},
   "outputs": [
    {
     "data": {
      "application/vnd.plotly.v1+json": {
       "config": {
        "plotlyServerURL": "https://plot.ly"
       },
       "data": [
        {
         "customdata": [
          [
           "Houssem Mrezigue",
           "Vizela"
          ],
          [
           "Nicolás Domínguez",
           "Nottm Forest"
          ],
          [
           "Santiago Ascacíbar",
           "Estudiantes (LP)"
          ],
          [
           "Leonel Picco",
           "Platense"
          ],
          [
           "Fernando Juárez",
           "Platense"
          ],
          [
           "Santiago Sosa",
           "Racing Club"
          ],
          [
           "Juan Foyth",
           "Villarreal"
          ],
          [
           "Manuel Insaurralde",
           "Rosario Central"
          ],
          [
           "Franco Ibarra",
           "Rosario Central"
          ],
          [
           "Enzo Barrenechea",
           "Frosinone"
          ],
          [
           "Diego Calcaterra",
           "Sarmiento (Junín)"
          ],
          [
           "Damián Fernández",
           "Vélez"
          ],
          [
           "Bautista Kociubinski",
           "Estudiantes (LP)"
          ],
          [
           "Juan Carlos Portillo",
           "Talleres"
          ],
          [
           "Agustín Toledo",
           "Huracán"
          ],
          [
           "Patricio Tanda",
           "Unión (SF)"
          ],
          [
           "Leandro Figueredo",
           "Huracán"
          ],
          [
           "Zaid Romero",
           "Estudiantes (LP)"
          ],
          [
           "Arno Verschueren",
           "Sparta Rotterdam"
          ],
          [
           "Siebe Horemans",
           "Excelsior"
          ],
          [
           "Thiago Maia",
           "FLA"
          ],
          [
           "Pepê",
           "GRE"
          ],
          [
           "Andrey",
           "CTB"
          ],
          [
           "Diego Costa",
           "SPO"
          ],
          [
           "Pedro Augusto",
           "FOR"
          ],
          [
           "Hugo Moura",
           "Athlético Paranaense"
          ],
          [
           "Luan",
           "SPO"
          ],
          [
           "Gabriel Sara",
           "Norwich"
          ],
          [
           "Zé Gabriel",
           "Vasco da Gama"
          ],
          [
           "Vitor Mendes",
           "FOR"
          ],
          [
           "Morato",
           "SL Benfica"
          ],
          [
           "Vinicius Balieiro",
           "SAN"
          ],
          [
           "Erick",
           "Athlético Paranaense"
          ],
          [
           "Edu",
           "GOI"
          ],
          [
           "Fernando Henrique",
           "CEC"
          ],
          [
           "André",
           "FLU"
          ],
          [
           "Richard Ríos",
           "SEP"
          ],
          [
           "Mory Gbané",
           "Gil Vicente"
          ],
          [
           "Alex Král",
           "Union Berlin"
          ],
          [
           "Ahmed Iljazovski",
           "Hvidovre IF"
          ],
          [
           "Ben Sheaf",
           "Coventry"
          ],
          [
           "Sean Longstaff",
           "Newcastle"
          ],
          [
           "Sam Field",
           "QPR"
          ],
          [
           "Haydon Roberts",
           "Bristol City"
          ],
          [
           "Pierre Ekwah",
           "Sunderland"
          ],
          [
           "Bashir Humphreys",
           "Swansea"
          ],
          [
           "Odel Offiah",
           "QPR"
          ],
          [
           "Jayson Molumby",
           "West Brom"
          ],
          [
           "Flynn Downes",
           "Southampton"
          ],
          [
           "Callum Styles",
           "Sunderland"
          ],
          [
           "Ethan Ampadu",
           "Leeds"
          ],
          [
           "Philippe Sandler",
           "N.E.C. Nijmegen"
          ],
          [
           "Pablo Rosario",
           "Nice"
          ],
          [
           "Radinio Balker",
           "Huddersfield"
          ],
          [
           "Pascal Struijk",
           "Leeds"
          ],
          [
           "Jamal Amofa",
           "Go Ahead Eagles"
          ],
          [
           "Thomas Beelen",
           "Feyenoord"
          ],
          [
           "Nathan Tjoe-A-On",
           "sc Heerenveen"
          ],
          [
           "Youri Regeer",
           "FC Twente"
          ],
          [
           "Enzo Cornelisse",
           "Vitesse"
          ],
          [
           "Ryan Flamingo",
           "FC Utrecht"
          ],
          [
           "Calvin Twigt",
           "FC Volendam"
          ],
          [
           "Serano Seymor",
           "Excelsior"
          ],
          [
           "Tommaso Pobega",
           "Milan"
          ],
          [
           "Michel Ndary Adopo",
           "Atalanta"
          ],
          [
           "Yuta Nakayama",
           "Huddersfield"
          ],
          [
           "Olivier Boscagli",
           "PSV"
          ],
          [
           "Warmed Omari",
           "Rennes"
          ],
          [
           "Moussa Diarra",
           "Toulouse"
          ],
          [
           "Chrislain Matsima",
           "Clermont"
          ],
          [
           "Salis Abdul Samed",
           "Lens"
          ],
          [
           "Andy Diouf",
           "Lens"
          ],
          [
           "Sivert Mannsverk",
           "Ajax"
          ],
          [
           "Eboué Kouassi",
           "Arouca"
          ],
          [
           "Erhan Mašović",
           "VfL Bochum"
          ],
          [
           "Ilija Vukotić",
           "Boavista"
          ],
          [
           "Mirko Topić",
           "Famalicão"
          ],
          [
           "Edgar",
           "Almería"
          ],
          [
           "Jon Moncayola",
           "Osasuna"
          ],
          [
           "Jesús Castillo",
           "Gil Vicente"
          ],
          [
           "Mathías Villasanti",
           "GRE"
          ],
          [
           "Tomás Ribeiro",
           "Vit. Guimarães"
          ],
          [
           "Jota",
           "Vizela"
          ],
          [
           "Samú",
           "Mallorca"
          ],
          [
           "Gonçalo Franco",
           "Moreirense"
          ],
          [
           "Manu Silva",
           "Vit. Guimarães"
          ],
          [
           "Amos Pieper",
           "SV Werder"
          ],
          [
           "Paul Jaeckel",
           "Lyon"
          ],
          [
           "Michael Akoto",
           "AGF"
          ],
          [
           "Jens Cajuste",
           "Napoli"
          ],
          [
           "Chumi",
           "Almería"
          ],
          [
           "William Clem",
           "FC København"
          ],
          [
           "Guilherme Madruga",
           "CUI"
          ],
          [
           "Elián Irala",
           "San Lorenzo"
          ],
          [
           "Sadik Fofana",
           "Fortuna Sittard"
          ],
          [
           "Alexsander",
           "FLU"
          ],
          [
           "Emanuel Quinteros",
           "Godoy Cruz"
          ],
          [
           "Kevin López",
           "Defensa y Justicia"
          ],
          [
           "Samuel Lucero",
           "Defensa y Justicia"
          ],
          [
           "Benjamín Schamine",
           "Defensa y Justicia"
          ],
          [
           "Matheus Dias",
           "INT"
          ],
          [
           "Breno Bidon",
           "COR"
          ],
          [
           "João Victor Balão",
           "SAN"
          ],
          [
           "Kevin Ortiz",
           "Rosario Central"
          ],
          [
           "Archie Gray",
           "Leeds"
          ],
          [
           "Gabriel Moscardo",
           "COR"
          ],
          [
           "Lucas López",
           "Instituto"
          ]
         ],
         "hovertemplate": "<b>%{customdata[0]}</b><br><b>%{customdata[1]}</b><br><br>pressures_completed/90: %{x}<br>pressure_success_%: %{y}<br>duels_win_%: %{marker.color}<extra></extra>",
         "legendgroup": "",
         "marker": {
          "color": {
           "bdata": "j8L1KFyPT0AzMzMzM/NOQK5H4XoU/lBASOF6FK5nUUAfhetRuM5QQNejcD0Kt1BArkfhehQeU0DD9Shcj4JOQBSuR+F6tE9ACtejcD2qT0A9CtejcI1QQKRwPQrXE1JAKVyPwvUYUUAfhetRuP5QQK5H4XoUDlJArkfhehRuT0CuR+F6FK5SQK5H4XoUflJAAAAAAAAgT0B7FK5H4fpQQJqZmZmZuU5AMzMzMzMTT0CPwvUoXE9OQK5H4XoUPlFAFK5H4XoUUEBI4XoUrkdOQHsUrkfhuk5AuB6F61EoUUApXI/C9QhOQFyPwvUofFRAZmZmZmYmUUApXI/C9chVQM3MzMzMrE5Aw/UoXI+iT0ApXI/C9QhQQJqZmZmZOU9APQrXo3DdTkAUrkfhejRPQLgehetR6FBAcT0K16OQU0CuR+F6FJ5RQLgehetRWE9AuB6F61G4TkCkcD0K15NSQPYoXI/CFVBAmpmZmZmpUUBcj8L1KDxRQEjhehSuF1FArkfhehRuUUAK16NwPYpPQFyPwvUojFJAuB6F61FYVECamZmZmQlQQPYoXI/ClVFACtejcD1KU0B7FK5H4epRQHsUrkfhqlBAZmZmZmamT0AAAAAAAOBPQMP1KFyPElJAcT0K16NwT0AAAAAAAABOQHsUrkfhqlBA4XoUrkdhUECamZmZmUlQQLgehetRWE5AMzMzMzOjUkCuR+F6FO5QQGZmZmZmtlNAexSuR+EKVUDD9ShcjyJRQD0K16NwLVBA4XoUrkchT0DXo3A9CndRQMP1KFyP4lBAhetRuB7FUUBSuB6F65FQQClcj8L1+FBA9ihcj8LFUUBmZmZmZgZQQKRwPQrXE1BAMzMzMzODUEDXo3A9CudRQOF6FK5H4U5AAAAAAABAT0D2KFyPwiVRQOxRuB6FS1FAAAAAAABAU0BxPQrXo1BSQMP1KFyPslFACtejcD2aUUBmZmZmZmZSQHsUrkfhGlFApHA9CteDUEDD9Shcj7JSQFyPwvUoHE9A7FG4HoUrTkAAAAAAAEBPQOF6FK5HoU5Aj8L1KFwPTkAAAAAAAOBQQFK4HoXrEU9AFK5H4Xp0T0DNzMzMzAxOQHsUrkfhGlFArkfhehRuT0B7FK5H4apQQA==",
           "dtype": "f8"
          },
          "coloraxis": "coloraxis",
          "size": 10,
          "symbol": "circle"
         },
         "mode": "markers+text",
         "name": "",
         "orientation": "v",
         "showlegend": false,
         "text": [
          "Houssem Mrezigue",
          "Nicolás Domínguez",
          "Santiago Ascacíbar",
          "Leonel Picco",
          "Fernando Juárez",
          "Santiago Sosa",
          "Juan Foyth",
          "Manuel Insaurralde",
          "Franco Ibarra",
          "Enzo Barrenechea",
          "Diego Calcaterra",
          "Damián Fernández",
          "Bautista Kociubinski",
          "Juan Carlos Portillo",
          "Agustín Toledo",
          "Patricio Tanda",
          "Leandro Figueredo",
          "Zaid Romero",
          "Arno Verschueren",
          "Siebe Horemans",
          "Thiago Maia",
          "Pepê",
          "Andrey",
          "Diego Costa",
          "Pedro Augusto",
          "Hugo Moura",
          "Luan",
          "Gabriel Sara",
          "Zé Gabriel",
          "Vitor Mendes",
          "Morato",
          "Vinicius Balieiro",
          "Erick",
          "Edu",
          "Fernando Henrique",
          "André",
          "Richard Ríos",
          "Mory Gbané",
          "Alex Král",
          "Ahmed Iljazovski",
          "Ben Sheaf",
          "Sean Longstaff",
          "Sam Field",
          "Haydon Roberts",
          "Pierre Ekwah",
          "Bashir Humphreys",
          "Odel Offiah",
          "Jayson Molumby",
          "Flynn Downes",
          "Callum Styles",
          "Ethan Ampadu",
          "Philippe Sandler",
          "Pablo Rosario",
          "Radinio Balker",
          "Pascal Struijk",
          "Jamal Amofa",
          "Thomas Beelen",
          "Nathan Tjoe-A-On",
          "Youri Regeer",
          "Enzo Cornelisse",
          "Ryan Flamingo",
          "Calvin Twigt",
          "Serano Seymor",
          "Tommaso Pobega",
          "Michel Ndary Adopo",
          "Yuta Nakayama",
          "Olivier Boscagli",
          "Warmed Omari",
          "Moussa Diarra",
          "Chrislain Matsima",
          "Salis Abdul Samed",
          "Andy Diouf",
          "Sivert Mannsverk",
          "Eboué Kouassi",
          "Erhan Mašović",
          "Ilija Vukotić",
          "Mirko Topić",
          "Edgar",
          "Jon Moncayola",
          "Jesús Castillo",
          "Mathías Villasanti",
          "Tomás Ribeiro",
          "Jota",
          "Samú",
          "Gonçalo Franco",
          "Manu Silva",
          "Amos Pieper",
          "Paul Jaeckel",
          "Michael Akoto",
          "Jens Cajuste",
          "Chumi",
          "William Clem",
          "Guilherme Madruga",
          "Elián Irala",
          "Sadik Fofana",
          "Alexsander",
          "Emanuel Quinteros",
          "Kevin López",
          "Samuel Lucero",
          "Benjamín Schamine",
          "Matheus Dias",
          "Breno Bidon",
          "João Victor Balão",
          "Kevin Ortiz",
          "Archie Gray",
          "Gabriel Moscardo",
          "Lucas López"
         ],
         "textfont": {
          "size": 10
         },
         "textposition": "top center",
         "type": "scatter",
         "x": {
          "bdata": "MzMzMzMzA0CF61G4HoUDQI/C9ShcjwZA9ihcj8L1BECuR+F6FK4HQClcj8L1KApACtejcD0K/z8AAAAAAAAKQLgehetRuAhArkfhehSuC0DhehSuR+EGQLgehetRuN4/zczMzMzMBkDNzMzMzMwIQMP1KFyPwgtAXI/C9ShcB0B7FK5H4XrwP2ZmZmZmZu4/mpmZmZmZAUAUrkfhehTuP4XrUbgehQlA4XoUrkfhBEDNzMzMzMwGQOF6FK5H4f4/16NwPQrXBUAK16NwPQoHQD0K16NwPQZApHA9CtejDEBI4XoUrkcJQHsUrkfhevw/16NwPQrX/z8pXI/C9SgGQPYoXI/C9QpAzczMzMzMAEDNzMzMzMwCQD0K16NwPQhAUrgehetREECkcD0K16MAQAAAAAAAAABAPQrXo3A99j8UrkfhehQIQClcj8L1KAJArkfhehSuA0AfhetRuB4HQFK4HoXrUQhA9ihcj8L19D/2KFyPwvUEQHsUrkfhehRAH4XrUbgeBUCF61G4HoUDQIXrUbgehQlAXI/C9Shc/z8fhetRuB4FQK5H4XoUrv8/SOF6FK5HB0BI4XoUrkfpP3E9CtejcPk/FK5H4XoUBkCamZmZmZkJQI/C9Shcj9I/UrgehetRBkAUrkfhehT6PwAAAAAAAPA/PQrXo3A9BkBcj8L1KFwFQPYoXI/C9QRAhetRuB6F8z9SuB6F61H4P5qZmZmZmQVAuB6F61G45j8UrkfhehQQQBSuR+F6FAxAKVyPwvUoBEC4HoXrUbj+P5qZmZmZmfU/H4XrUbgeA0D2KFyPwvUGQB+F61G4HgFAUrgehetRBkA9CtejcD0GQClcj8L1KAhA9ihcj8L18D+amZmZmZnpP5qZmZmZmQlAj8L1KFyPBEDsUbgehev5PwrXo3A9Cvs/XI/C9Shc8z9SuB6F61EEQOxRuB6F6wdAFK5H4XoU5j8AAAAAAAAGQIXrUbgehQFASOF6FK5HB0Bcj8L1KFwLQJqZmZmZmQlA16NwPQrXB0D2KFyPwvUKQAAAAAAAAPg/cT0K16NwC0C4HoXrUbgGQFK4HoXrUQRAMzMzMzMzB0CF61G4HoUFQOF6FK5H4QpAFK5H4XoUCkBcj8L1KFwBQA==",
          "dtype": "f8"
         },
         "xaxis": "x",
         "y": {
          "bdata": "SOF6FK6HPkBxPQrXozA7QAAAAAAAgDxAexSuR+G6OUA9CtejcD05QK5H4XoULjtAcT0K16MwPkApXI/C9ag4QEjhehSuhztAuB6F61F4QkCamZmZmVlCQBSuR+F6FDdACtejcD2KPUAUrkfhepQ/QJqZmZmZGT1AUrgehetROUCuR+F6FC5CQOF6FK5HYT5AcT0K16MwM0DsUbgehWs7QM3MzMzMDEBACtejcD0KOkAzMzMzM7M7QBSuR+F6FEFAPQrXo3D9NUDD9Shcj4I6QKRwPQrXozhACtejcD2qQECF61G4HiVAQHsUrkfhOj5AuB6F61G4QUDsUbgehSs9QGZmZmZmJjxAAAAAAADAPUD2KFyPwvU2QD0K16NwvT1AexSuR+F6QUCuR+F6FG4+QJqZmZmZGTNAAAAAAADAQkDD9Shcj8I5QAAAAAAAADRAzczMzMxMPkCF61G4HsVBQD0K16Nw/TxArkfhehQuQkB7FK5H4fo7QDMzMzMzE0FAcT0K16NwP0CF61G4HsU3QNejcD0Kd0BAPQrXo3CdQUC4HoXrUfhAQMP1KFyPIkJAcT0K16PQQUAK16NwPco9QJqZmZmZWTlAmpmZmZnZPECPwvUoXA89QK5H4XoULjJAAAAAAAAAOUDD9Shcj8I3QM3MzMzMjD1A16NwPQoXQEAAAAAAAAA5QMP1KFyPwj9AcT0K16NwQUDD9Shcj4I5QArXo3A9KkNAexSuR+G6NkBI4XoUrodAQArXo3A9ijlAhetRuB6FO0DXo3A9CndAQFyPwvUoHD1AFK5H4XqUOED2KFyPwnU8QPYoXI/CdT1AuB6F61H4OUA9CtejcH06QK5H4XoUbj1A4XoUrkfhOUAzMzMzM/M+QNejcD0KFzpAXI/C9ShcPkDNzMzMzCxAQAAAAAAA4EBAAAAAAAAAQUCkcD0K1+NAQClcj8L16D5Aj8L1KFxPNUAUrkfhehRAQMP1KFyPwjlAMzMzMzMzO0ApXI/C9QhBQM3MzMzMTD9AmpmZmZmZOUCkcD0K1wNAQOF6FK5H4T9ApHA9CtcjQECuR+F6FG44QFK4HoXrUTpApHA9CtejOkCamZmZmRk6QOF6FK5HoT1A16NwPQqXO0DsUbgehes2QA==",
          "dtype": "f8"
         },
         "yaxis": "y"
        }
       ],
       "layout": {
        "coloraxis": {
         "colorbar": {
          "title": {
           "text": "duels_win_%"
          }
         },
         "colorscale": [
          [
           0,
           "rgb(165,0,38)"
          ],
          [
           0.1,
           "rgb(215,48,39)"
          ],
          [
           0.2,
           "rgb(244,109,67)"
          ],
          [
           0.3,
           "rgb(253,174,97)"
          ],
          [
           0.4,
           "rgb(254,224,139)"
          ],
          [
           0.5,
           "rgb(255,255,191)"
          ],
          [
           0.6,
           "rgb(217,239,139)"
          ],
          [
           0.7,
           "rgb(166,217,106)"
          ],
          [
           0.8,
           "rgb(102,189,99)"
          ],
          [
           0.9,
           "rgb(26,152,80)"
          ],
          [
           1,
           "rgb(0,104,55)"
          ]
         ],
         "showscale": false
        },
        "height": 700,
        "legend": {
         "tracegroupgap": 0
        },
        "paper_bgcolor": "white",
        "plot_bgcolor": "white",
        "template": {
         "data": {
          "bar": [
           {
            "error_x": {
             "color": "#2a3f5f"
            },
            "error_y": {
             "color": "#2a3f5f"
            },
            "marker": {
             "line": {
              "color": "#E5ECF6",
              "width": 0.5
             },
             "pattern": {
              "fillmode": "overlay",
              "size": 10,
              "solidity": 0.2
             }
            },
            "type": "bar"
           }
          ],
          "barpolar": [
           {
            "marker": {
             "line": {
              "color": "#E5ECF6",
              "width": 0.5
             },
             "pattern": {
              "fillmode": "overlay",
              "size": 10,
              "solidity": 0.2
             }
            },
            "type": "barpolar"
           }
          ],
          "carpet": [
           {
            "aaxis": {
             "endlinecolor": "#2a3f5f",
             "gridcolor": "white",
             "linecolor": "white",
             "minorgridcolor": "white",
             "startlinecolor": "#2a3f5f"
            },
            "baxis": {
             "endlinecolor": "#2a3f5f",
             "gridcolor": "white",
             "linecolor": "white",
             "minorgridcolor": "white",
             "startlinecolor": "#2a3f5f"
            },
            "type": "carpet"
           }
          ],
          "choropleth": [
           {
            "colorbar": {
             "outlinewidth": 0,
             "ticks": ""
            },
            "type": "choropleth"
           }
          ],
          "contour": [
           {
            "colorbar": {
             "outlinewidth": 0,
             "ticks": ""
            },
            "colorscale": [
             [
              0,
              "#0d0887"
             ],
             [
              0.1111111111111111,
              "#46039f"
             ],
             [
              0.2222222222222222,
              "#7201a8"
             ],
             [
              0.3333333333333333,
              "#9c179e"
             ],
             [
              0.4444444444444444,
              "#bd3786"
             ],
             [
              0.5555555555555556,
              "#d8576b"
             ],
             [
              0.6666666666666666,
              "#ed7953"
             ],
             [
              0.7777777777777778,
              "#fb9f3a"
             ],
             [
              0.8888888888888888,
              "#fdca26"
             ],
             [
              1,
              "#f0f921"
             ]
            ],
            "type": "contour"
           }
          ],
          "contourcarpet": [
           {
            "colorbar": {
             "outlinewidth": 0,
             "ticks": ""
            },
            "type": "contourcarpet"
           }
          ],
          "heatmap": [
           {
            "colorbar": {
             "outlinewidth": 0,
             "ticks": ""
            },
            "colorscale": [
             [
              0,
              "#0d0887"
             ],
             [
              0.1111111111111111,
              "#46039f"
             ],
             [
              0.2222222222222222,
              "#7201a8"
             ],
             [
              0.3333333333333333,
              "#9c179e"
             ],
             [
              0.4444444444444444,
              "#bd3786"
             ],
             [
              0.5555555555555556,
              "#d8576b"
             ],
             [
              0.6666666666666666,
              "#ed7953"
             ],
             [
              0.7777777777777778,
              "#fb9f3a"
             ],
             [
              0.8888888888888888,
              "#fdca26"
             ],
             [
              1,
              "#f0f921"
             ]
            ],
            "type": "heatmap"
           }
          ],
          "histogram": [
           {
            "marker": {
             "pattern": {
              "fillmode": "overlay",
              "size": 10,
              "solidity": 0.2
             }
            },
            "type": "histogram"
           }
          ],
          "histogram2d": [
           {
            "colorbar": {
             "outlinewidth": 0,
             "ticks": ""
            },
            "colorscale": [
             [
              0,
              "#0d0887"
             ],
             [
              0.1111111111111111,
              "#46039f"
             ],
             [
              0.2222222222222222,
              "#7201a8"
             ],
             [
              0.3333333333333333,
              "#9c179e"
             ],
             [
              0.4444444444444444,
              "#bd3786"
             ],
             [
              0.5555555555555556,
              "#d8576b"
             ],
             [
              0.6666666666666666,
              "#ed7953"
             ],
             [
              0.7777777777777778,
              "#fb9f3a"
             ],
             [
              0.8888888888888888,
              "#fdca26"
             ],
             [
              1,
              "#f0f921"
             ]
            ],
            "type": "histogram2d"
           }
          ],
          "histogram2dcontour": [
           {
            "colorbar": {
             "outlinewidth": 0,
             "ticks": ""
            },
            "colorscale": [
             [
              0,
              "#0d0887"
             ],
             [
              0.1111111111111111,
              "#46039f"
             ],
             [
              0.2222222222222222,
              "#7201a8"
             ],
             [
              0.3333333333333333,
              "#9c179e"
             ],
             [
              0.4444444444444444,
              "#bd3786"
             ],
             [
              0.5555555555555556,
              "#d8576b"
             ],
             [
              0.6666666666666666,
              "#ed7953"
             ],
             [
              0.7777777777777778,
              "#fb9f3a"
             ],
             [
              0.8888888888888888,
              "#fdca26"
             ],
             [
              1,
              "#f0f921"
             ]
            ],
            "type": "histogram2dcontour"
           }
          ],
          "mesh3d": [
           {
            "colorbar": {
             "outlinewidth": 0,
             "ticks": ""
            },
            "type": "mesh3d"
           }
          ],
          "parcoords": [
           {
            "line": {
             "colorbar": {
              "outlinewidth": 0,
              "ticks": ""
             }
            },
            "type": "parcoords"
           }
          ],
          "pie": [
           {
            "automargin": true,
            "type": "pie"
           }
          ],
          "scatter": [
           {
            "fillpattern": {
             "fillmode": "overlay",
             "size": 10,
             "solidity": 0.2
            },
            "type": "scatter"
           }
          ],
          "scatter3d": [
           {
            "line": {
             "colorbar": {
              "outlinewidth": 0,
              "ticks": ""
             }
            },
            "marker": {
             "colorbar": {
              "outlinewidth": 0,
              "ticks": ""
             }
            },
            "type": "scatter3d"
           }
          ],
          "scattercarpet": [
           {
            "marker": {
             "colorbar": {
              "outlinewidth": 0,
              "ticks": ""
             }
            },
            "type": "scattercarpet"
           }
          ],
          "scattergeo": [
           {
            "marker": {
             "colorbar": {
              "outlinewidth": 0,
              "ticks": ""
             }
            },
            "type": "scattergeo"
           }
          ],
          "scattergl": [
           {
            "marker": {
             "colorbar": {
              "outlinewidth": 0,
              "ticks": ""
             }
            },
            "type": "scattergl"
           }
          ],
          "scattermap": [
           {
            "marker": {
             "colorbar": {
              "outlinewidth": 0,
              "ticks": ""
             }
            },
            "type": "scattermap"
           }
          ],
          "scattermapbox": [
           {
            "marker": {
             "colorbar": {
              "outlinewidth": 0,
              "ticks": ""
             }
            },
            "type": "scattermapbox"
           }
          ],
          "scatterpolar": [
           {
            "marker": {
             "colorbar": {
              "outlinewidth": 0,
              "ticks": ""
             }
            },
            "type": "scatterpolar"
           }
          ],
          "scatterpolargl": [
           {
            "marker": {
             "colorbar": {
              "outlinewidth": 0,
              "ticks": ""
             }
            },
            "type": "scatterpolargl"
           }
          ],
          "scatterternary": [
           {
            "marker": {
             "colorbar": {
              "outlinewidth": 0,
              "ticks": ""
             }
            },
            "type": "scatterternary"
           }
          ],
          "surface": [
           {
            "colorbar": {
             "outlinewidth": 0,
             "ticks": ""
            },
            "colorscale": [
             [
              0,
              "#0d0887"
             ],
             [
              0.1111111111111111,
              "#46039f"
             ],
             [
              0.2222222222222222,
              "#7201a8"
             ],
             [
              0.3333333333333333,
              "#9c179e"
             ],
             [
              0.4444444444444444,
              "#bd3786"
             ],
             [
              0.5555555555555556,
              "#d8576b"
             ],
             [
              0.6666666666666666,
              "#ed7953"
             ],
             [
              0.7777777777777778,
              "#fb9f3a"
             ],
             [
              0.8888888888888888,
              "#fdca26"
             ],
             [
              1,
              "#f0f921"
             ]
            ],
            "type": "surface"
           }
          ],
          "table": [
           {
            "cells": {
             "fill": {
              "color": "#EBF0F8"
             },
             "line": {
              "color": "white"
             }
            },
            "header": {
             "fill": {
              "color": "#C8D4E3"
             },
             "line": {
              "color": "white"
             }
            },
            "type": "table"
           }
          ]
         },
         "layout": {
          "annotationdefaults": {
           "arrowcolor": "#2a3f5f",
           "arrowhead": 0,
           "arrowwidth": 1
          },
          "autotypenumbers": "strict",
          "coloraxis": {
           "colorbar": {
            "outlinewidth": 0,
            "ticks": ""
           }
          },
          "colorscale": {
           "diverging": [
            [
             0,
             "#8e0152"
            ],
            [
             0.1,
             "#c51b7d"
            ],
            [
             0.2,
             "#de77ae"
            ],
            [
             0.3,
             "#f1b6da"
            ],
            [
             0.4,
             "#fde0ef"
            ],
            [
             0.5,
             "#f7f7f7"
            ],
            [
             0.6,
             "#e6f5d0"
            ],
            [
             0.7,
             "#b8e186"
            ],
            [
             0.8,
             "#7fbc41"
            ],
            [
             0.9,
             "#4d9221"
            ],
            [
             1,
             "#276419"
            ]
           ],
           "sequential": [
            [
             0,
             "#0d0887"
            ],
            [
             0.1111111111111111,
             "#46039f"
            ],
            [
             0.2222222222222222,
             "#7201a8"
            ],
            [
             0.3333333333333333,
             "#9c179e"
            ],
            [
             0.4444444444444444,
             "#bd3786"
            ],
            [
             0.5555555555555556,
             "#d8576b"
            ],
            [
             0.6666666666666666,
             "#ed7953"
            ],
            [
             0.7777777777777778,
             "#fb9f3a"
            ],
            [
             0.8888888888888888,
             "#fdca26"
            ],
            [
             1,
             "#f0f921"
            ]
           ],
           "sequentialminus": [
            [
             0,
             "#0d0887"
            ],
            [
             0.1111111111111111,
             "#46039f"
            ],
            [
             0.2222222222222222,
             "#7201a8"
            ],
            [
             0.3333333333333333,
             "#9c179e"
            ],
            [
             0.4444444444444444,
             "#bd3786"
            ],
            [
             0.5555555555555556,
             "#d8576b"
            ],
            [
             0.6666666666666666,
             "#ed7953"
            ],
            [
             0.7777777777777778,
             "#fb9f3a"
            ],
            [
             0.8888888888888888,
             "#fdca26"
            ],
            [
             1,
             "#f0f921"
            ]
           ]
          },
          "colorway": [
           "#636efa",
           "#EF553B",
           "#00cc96",
           "#ab63fa",
           "#FFA15A",
           "#19d3f3",
           "#FF6692",
           "#B6E880",
           "#FF97FF",
           "#FECB52"
          ],
          "font": {
           "color": "#2a3f5f"
          },
          "geo": {
           "bgcolor": "white",
           "lakecolor": "white",
           "landcolor": "#E5ECF6",
           "showlakes": true,
           "showland": true,
           "subunitcolor": "white"
          },
          "hoverlabel": {
           "align": "left"
          },
          "hovermode": "closest",
          "mapbox": {
           "style": "light"
          },
          "paper_bgcolor": "white",
          "plot_bgcolor": "#E5ECF6",
          "polar": {
           "angularaxis": {
            "gridcolor": "white",
            "linecolor": "white",
            "ticks": ""
           },
           "bgcolor": "#E5ECF6",
           "radialaxis": {
            "gridcolor": "white",
            "linecolor": "white",
            "ticks": ""
           }
          },
          "scene": {
           "xaxis": {
            "backgroundcolor": "#E5ECF6",
            "gridcolor": "white",
            "gridwidth": 2,
            "linecolor": "white",
            "showbackground": true,
            "ticks": "",
            "zerolinecolor": "white"
           },
           "yaxis": {
            "backgroundcolor": "#E5ECF6",
            "gridcolor": "white",
            "gridwidth": 2,
            "linecolor": "white",
            "showbackground": true,
            "ticks": "",
            "zerolinecolor": "white"
           },
           "zaxis": {
            "backgroundcolor": "#E5ECF6",
            "gridcolor": "white",
            "gridwidth": 2,
            "linecolor": "white",
            "showbackground": true,
            "ticks": "",
            "zerolinecolor": "white"
           }
          },
          "shapedefaults": {
           "line": {
            "color": "#2a3f5f"
           }
          },
          "ternary": {
           "aaxis": {
            "gridcolor": "white",
            "linecolor": "white",
            "ticks": ""
           },
           "baxis": {
            "gridcolor": "white",
            "linecolor": "white",
            "ticks": ""
           },
           "bgcolor": "#E5ECF6",
           "caxis": {
            "gridcolor": "white",
            "linecolor": "white",
            "ticks": ""
           }
          },
          "title": {
           "x": 0.05
          },
          "xaxis": {
           "automargin": true,
           "gridcolor": "white",
           "linecolor": "white",
           "ticks": "",
           "title": {
            "standoff": 15
           },
           "zerolinecolor": "white",
           "zerolinewidth": 2
          },
          "yaxis": {
           "automargin": true,
           "gridcolor": "white",
           "linecolor": "white",
           "ticks": "",
           "title": {
            "standoff": 15
           },
           "zerolinecolor": "white",
           "zerolinewidth": 2
          }
         }
        },
        "title": {
         "text": "Pressure quality ( 107)",
         "x": 0.5,
         "xanchor": "center"
        },
        "width": 1200,
        "xaxis": {
         "anchor": "y",
         "domain": [
          0,
          1
         ],
         "gridcolor": "lightgray",
         "showgrid": true,
         "title": {
          "text": "pressures_completed/90"
         },
         "zeroline": false
        },
        "yaxis": {
         "anchor": "x",
         "domain": [
          0,
          1
         ],
         "gridcolor": "lightgray",
         "showgrid": true,
         "title": {
          "text": "pressure_success_%"
         },
         "zeroline": false
        }
       }
      }
     },
     "metadata": {},
     "output_type": "display_data"
    }
   ],
   "source": [
    "# Full universe \n",
    "scatter_plot(df_targets,\n",
    "             x_metric='pressures_completed/90', \n",
    "             y_metric='pressure_success_%',\n",
    "             z_metric='duels_win_%',\n",
    "             title='Pressure quality', \n",
    "             show_name_label=True\n",
    ")"
   ]
  },
  {
   "cell_type": "code",
   "execution_count": 16,
   "id": "9856c684",
   "metadata": {},
   "outputs": [
    {
     "data": {
      "application/vnd.plotly.v1+json": {
       "config": {
        "plotlyServerURL": "https://plot.ly"
       },
       "data": [
        {
         "customdata": [
          [
           "Santiago Ascacíbar",
           "Estudiantes (LP)"
          ],
          [
           "Leonel Picco",
           "Platense"
          ],
          [
           "Fernando Juárez",
           "Platense"
          ],
          [
           "Santiago Sosa",
           "Racing Club"
          ],
          [
           "Juan Foyth",
           "Villarreal"
          ],
          [
           "Diego Calcaterra",
           "Sarmiento (Junín)"
          ],
          [
           "Bautista Kociubinski",
           "Estudiantes (LP)"
          ],
          [
           "Juan Carlos Portillo",
           "Talleres"
          ],
          [
           "Agustín Toledo",
           "Huracán"
          ],
          [
           "Diego Costa",
           "SPO"
          ],
          [
           "Gabriel Sara",
           "Norwich"
          ],
          [
           "Vitor Mendes",
           "FOR"
          ],
          [
           "Morato",
           "SL Benfica"
          ],
          [
           "Vinicius Balieiro",
           "SAN"
          ],
          [
           "Ahmed Iljazovski",
           "Hvidovre IF"
          ],
          [
           "Ben Sheaf",
           "Coventry"
          ],
          [
           "Haydon Roberts",
           "Bristol City"
          ],
          [
           "Bashir Humphreys",
           "Swansea"
          ],
          [
           "Odel Offiah",
           "QPR"
          ],
          [
           "Jayson Molumby",
           "West Brom"
          ],
          [
           "Flynn Downes",
           "Southampton"
          ],
          [
           "Ethan Ampadu",
           "Leeds"
          ],
          [
           "Philippe Sandler",
           "N.E.C. Nijmegen"
          ],
          [
           "Radinio Balker",
           "Huddersfield"
          ],
          [
           "Pascal Struijk",
           "Leeds"
          ],
          [
           "Thomas Beelen",
           "Feyenoord"
          ],
          [
           "Tommaso Pobega",
           "Milan"
          ],
          [
           "Michel Ndary Adopo",
           "Atalanta"
          ],
          [
           "Warmed Omari",
           "Rennes"
          ],
          [
           "Moussa Diarra",
           "Toulouse"
          ],
          [
           "Salis Abdul Samed",
           "Lens"
          ],
          [
           "Eboué Kouassi",
           "Arouca"
          ],
          [
           "Erhan Mašović",
           "VfL Bochum"
          ],
          [
           "Mirko Topić",
           "Famalicão"
          ],
          [
           "Edgar",
           "Almería"
          ],
          [
           "Jon Moncayola",
           "Osasuna"
          ],
          [
           "Manu Silva",
           "Vit. Guimarães"
          ],
          [
           "Amos Pieper",
           "SV Werder"
          ],
          [
           "Michael Akoto",
           "AGF"
          ],
          [
           "Jens Cajuste",
           "Napoli"
          ],
          [
           "William Clem",
           "FC København"
          ],
          [
           "Guilherme Madruga",
           "CUI"
          ],
          [
           "Elián Irala",
           "San Lorenzo"
          ],
          [
           "Sadik Fofana",
           "Fortuna Sittard"
          ],
          [
           "Archie Gray",
           "Leeds"
          ]
         ],
         "hovertemplate": "<b>%{customdata[0]}</b><br><b>%{customdata[1]}</b><br><br>pressures_completed/90: %{x}<br>pressure_success_%: %{y}<br>duels_win_%: %{marker.color}<extra></extra>",
         "legendgroup": "",
         "marker": {
          "color": {
           "bdata": "rkfhehT+UEBI4XoUrmdRQB+F61G4zlBA16NwPQq3UECuR+F6FB5TQD0K16NwjVBAKVyPwvUYUUAfhetRuP5QQK5H4XoUDlJArkfhehQ+UUC4HoXrUShRQFyPwvUofFRAZmZmZmYmUUApXI/C9chVQHE9CtejkFNArkfhehSeUUCkcD0K15NSQJqZmZmZqVFAXI/C9Sg8UUBI4XoUrhdRQK5H4XoUblFAXI/C9SiMUkC4HoXrUVhUQPYoXI/ClVFACtejcD1KU0B7FK5H4apQQOF6FK5HYVBAmpmZmZlJUECuR+F6FO5QQGZmZmZmtlNAw/UoXI8iUUDXo3A9CndRQMP1KFyP4lBAUrgeheuRUEApXI/C9fhQQPYoXI/CxVFA9ihcj8IlUUDsUbgehUtRQHE9CtejUFJAw/UoXI+yUUBmZmZmZmZSQHsUrkfhGlFApHA9CteDUEDD9Shcj7JSQHsUrkfhGlFA",
           "dtype": "f8"
          },
          "coloraxis": "coloraxis",
          "size": 10,
          "symbol": "circle"
         },
         "mode": "markers+text",
         "name": "",
         "orientation": "v",
         "showlegend": false,
         "text": [
          "Santiago Ascacíbar",
          "Leonel Picco",
          "Fernando Juárez",
          "Santiago Sosa",
          "Juan Foyth",
          "Diego Calcaterra",
          "Bautista Kociubinski",
          "Juan Carlos Portillo",
          "Agustín Toledo",
          "Diego Costa",
          "Gabriel Sara",
          "Vitor Mendes",
          "Morato",
          "Vinicius Balieiro",
          "Ahmed Iljazovski",
          "Ben Sheaf",
          "Haydon Roberts",
          "Bashir Humphreys",
          "Odel Offiah",
          "Jayson Molumby",
          "Flynn Downes",
          "Ethan Ampadu",
          "Philippe Sandler",
          "Radinio Balker",
          "Pascal Struijk",
          "Thomas Beelen",
          "Tommaso Pobega",
          "Michel Ndary Adopo",
          "Warmed Omari",
          "Moussa Diarra",
          "Salis Abdul Samed",
          "Eboué Kouassi",
          "Erhan Mašović",
          "Mirko Topić",
          "Edgar",
          "Jon Moncayola",
          "Manu Silva",
          "Amos Pieper",
          "Michael Akoto",
          "Jens Cajuste",
          "William Clem",
          "Guilherme Madruga",
          "Elián Irala",
          "Sadik Fofana",
          "Archie Gray"
         ],
         "textfont": {
          "size": 10
         },
         "textposition": "top center",
         "type": "scatter",
         "x": {
          "bdata": "j8L1KFyPBkD2KFyPwvUEQK5H4XoUrgdAKVyPwvUoCkAK16NwPQr/P+F6FK5H4QZAzczMzMzMBkDNzMzMzMwIQMP1KFyPwgtA4XoUrkfh/j+kcD0K16MMQHsUrkfhevw/16NwPQrX/z8pXI/C9SgGQD0K16NwPfY/FK5H4XoUCEAfhetRuB4HQPYoXI/C9fQ/9ihcj8L1BEB7FK5H4XoUQB+F61G4HgVAhetRuB6FCUBcj8L1KFz/P65H4XoUrv8/SOF6FK5HB0BxPQrXo3D5Pz0K16NwPQZAXI/C9ShcBUBSuB6F61H4P5qZmZmZmQVAFK5H4XoUEEC4HoXrUbj+P5qZmZmZmfU/9ihcj8L1BkAfhetRuB4BQFK4HoXrUQZA7FG4HoXr+T8K16NwPQr7P1K4HoXrUQRA7FG4HoXrB0AAAAAAAAAGQIXrUbgehQFASOF6FK5HB0Bcj8L1KFwLQOF6FK5H4QpA",
          "dtype": "f8"
         },
         "xaxis": "x",
         "y": {
          "bdata": "AAAAAACAPEB7FK5H4bo5QD0K16NwPTlArkfhehQuO0BxPQrXozA+QJqZmZmZWUJACtejcD2KPUAUrkfhepQ/QJqZmZmZGT1AFK5H4XoUQUAK16NwPapAQHsUrkfhOj5AuB6F61G4QUDsUbgehSs9QAAAAAAAwEJAw/UoXI/COUCF61G4HsVBQK5H4XoULkJAexSuR+H6O0AzMzMzMxNBQHE9CtejcD9A16NwPQp3QEA9CtejcJ1BQMP1KFyPIkJAcT0K16PQQUCamZmZmVk5QNejcD0KF0BAAAAAAAAAOUDD9Shcj4I5QArXo3A9KkNASOF6FK6HQEDXo3A9CndAQFyPwvUoHD1A9ihcj8J1PED2KFyPwnU9QLgehetR+DlAzczMzMwsQEAAAAAAAOBAQKRwPQrX40BAKVyPwvXoPkAUrkfhehRAQMP1KFyPwjlAMzMzMzMzO0ApXI/C9QhBQOF6FK5HoT1A",
          "dtype": "f8"
         },
         "yaxis": "y"
        }
       ],
       "layout": {
        "coloraxis": {
         "colorbar": {
          "title": {
           "text": "duels_win_%"
          }
         },
         "colorscale": [
          [
           0,
           "rgb(165,0,38)"
          ],
          [
           0.1,
           "rgb(215,48,39)"
          ],
          [
           0.2,
           "rgb(244,109,67)"
          ],
          [
           0.3,
           "rgb(253,174,97)"
          ],
          [
           0.4,
           "rgb(254,224,139)"
          ],
          [
           0.5,
           "rgb(255,255,191)"
          ],
          [
           0.6,
           "rgb(217,239,139)"
          ],
          [
           0.7,
           "rgb(166,217,106)"
          ],
          [
           0.8,
           "rgb(102,189,99)"
          ],
          [
           0.9,
           "rgb(26,152,80)"
          ],
          [
           1,
           "rgb(0,104,55)"
          ]
         ],
         "showscale": false
        },
        "height": 700,
        "legend": {
         "tracegroupgap": 0
        },
        "paper_bgcolor": "white",
        "plot_bgcolor": "white",
        "template": {
         "data": {
          "bar": [
           {
            "error_x": {
             "color": "#2a3f5f"
            },
            "error_y": {
             "color": "#2a3f5f"
            },
            "marker": {
             "line": {
              "color": "#E5ECF6",
              "width": 0.5
             },
             "pattern": {
              "fillmode": "overlay",
              "size": 10,
              "solidity": 0.2
             }
            },
            "type": "bar"
           }
          ],
          "barpolar": [
           {
            "marker": {
             "line": {
              "color": "#E5ECF6",
              "width": 0.5
             },
             "pattern": {
              "fillmode": "overlay",
              "size": 10,
              "solidity": 0.2
             }
            },
            "type": "barpolar"
           }
          ],
          "carpet": [
           {
            "aaxis": {
             "endlinecolor": "#2a3f5f",
             "gridcolor": "white",
             "linecolor": "white",
             "minorgridcolor": "white",
             "startlinecolor": "#2a3f5f"
            },
            "baxis": {
             "endlinecolor": "#2a3f5f",
             "gridcolor": "white",
             "linecolor": "white",
             "minorgridcolor": "white",
             "startlinecolor": "#2a3f5f"
            },
            "type": "carpet"
           }
          ],
          "choropleth": [
           {
            "colorbar": {
             "outlinewidth": 0,
             "ticks": ""
            },
            "type": "choropleth"
           }
          ],
          "contour": [
           {
            "colorbar": {
             "outlinewidth": 0,
             "ticks": ""
            },
            "colorscale": [
             [
              0,
              "#0d0887"
             ],
             [
              0.1111111111111111,
              "#46039f"
             ],
             [
              0.2222222222222222,
              "#7201a8"
             ],
             [
              0.3333333333333333,
              "#9c179e"
             ],
             [
              0.4444444444444444,
              "#bd3786"
             ],
             [
              0.5555555555555556,
              "#d8576b"
             ],
             [
              0.6666666666666666,
              "#ed7953"
             ],
             [
              0.7777777777777778,
              "#fb9f3a"
             ],
             [
              0.8888888888888888,
              "#fdca26"
             ],
             [
              1,
              "#f0f921"
             ]
            ],
            "type": "contour"
           }
          ],
          "contourcarpet": [
           {
            "colorbar": {
             "outlinewidth": 0,
             "ticks": ""
            },
            "type": "contourcarpet"
           }
          ],
          "heatmap": [
           {
            "colorbar": {
             "outlinewidth": 0,
             "ticks": ""
            },
            "colorscale": [
             [
              0,
              "#0d0887"
             ],
             [
              0.1111111111111111,
              "#46039f"
             ],
             [
              0.2222222222222222,
              "#7201a8"
             ],
             [
              0.3333333333333333,
              "#9c179e"
             ],
             [
              0.4444444444444444,
              "#bd3786"
             ],
             [
              0.5555555555555556,
              "#d8576b"
             ],
             [
              0.6666666666666666,
              "#ed7953"
             ],
             [
              0.7777777777777778,
              "#fb9f3a"
             ],
             [
              0.8888888888888888,
              "#fdca26"
             ],
             [
              1,
              "#f0f921"
             ]
            ],
            "type": "heatmap"
           }
          ],
          "histogram": [
           {
            "marker": {
             "pattern": {
              "fillmode": "overlay",
              "size": 10,
              "solidity": 0.2
             }
            },
            "type": "histogram"
           }
          ],
          "histogram2d": [
           {
            "colorbar": {
             "outlinewidth": 0,
             "ticks": ""
            },
            "colorscale": [
             [
              0,
              "#0d0887"
             ],
             [
              0.1111111111111111,
              "#46039f"
             ],
             [
              0.2222222222222222,
              "#7201a8"
             ],
             [
              0.3333333333333333,
              "#9c179e"
             ],
             [
              0.4444444444444444,
              "#bd3786"
             ],
             [
              0.5555555555555556,
              "#d8576b"
             ],
             [
              0.6666666666666666,
              "#ed7953"
             ],
             [
              0.7777777777777778,
              "#fb9f3a"
             ],
             [
              0.8888888888888888,
              "#fdca26"
             ],
             [
              1,
              "#f0f921"
             ]
            ],
            "type": "histogram2d"
           }
          ],
          "histogram2dcontour": [
           {
            "colorbar": {
             "outlinewidth": 0,
             "ticks": ""
            },
            "colorscale": [
             [
              0,
              "#0d0887"
             ],
             [
              0.1111111111111111,
              "#46039f"
             ],
             [
              0.2222222222222222,
              "#7201a8"
             ],
             [
              0.3333333333333333,
              "#9c179e"
             ],
             [
              0.4444444444444444,
              "#bd3786"
             ],
             [
              0.5555555555555556,
              "#d8576b"
             ],
             [
              0.6666666666666666,
              "#ed7953"
             ],
             [
              0.7777777777777778,
              "#fb9f3a"
             ],
             [
              0.8888888888888888,
              "#fdca26"
             ],
             [
              1,
              "#f0f921"
             ]
            ],
            "type": "histogram2dcontour"
           }
          ],
          "mesh3d": [
           {
            "colorbar": {
             "outlinewidth": 0,
             "ticks": ""
            },
            "type": "mesh3d"
           }
          ],
          "parcoords": [
           {
            "line": {
             "colorbar": {
              "outlinewidth": 0,
              "ticks": ""
             }
            },
            "type": "parcoords"
           }
          ],
          "pie": [
           {
            "automargin": true,
            "type": "pie"
           }
          ],
          "scatter": [
           {
            "fillpattern": {
             "fillmode": "overlay",
             "size": 10,
             "solidity": 0.2
            },
            "type": "scatter"
           }
          ],
          "scatter3d": [
           {
            "line": {
             "colorbar": {
              "outlinewidth": 0,
              "ticks": ""
             }
            },
            "marker": {
             "colorbar": {
              "outlinewidth": 0,
              "ticks": ""
             }
            },
            "type": "scatter3d"
           }
          ],
          "scattercarpet": [
           {
            "marker": {
             "colorbar": {
              "outlinewidth": 0,
              "ticks": ""
             }
            },
            "type": "scattercarpet"
           }
          ],
          "scattergeo": [
           {
            "marker": {
             "colorbar": {
              "outlinewidth": 0,
              "ticks": ""
             }
            },
            "type": "scattergeo"
           }
          ],
          "scattergl": [
           {
            "marker": {
             "colorbar": {
              "outlinewidth": 0,
              "ticks": ""
             }
            },
            "type": "scattergl"
           }
          ],
          "scattermap": [
           {
            "marker": {
             "colorbar": {
              "outlinewidth": 0,
              "ticks": ""
             }
            },
            "type": "scattermap"
           }
          ],
          "scattermapbox": [
           {
            "marker": {
             "colorbar": {
              "outlinewidth": 0,
              "ticks": ""
             }
            },
            "type": "scattermapbox"
           }
          ],
          "scatterpolar": [
           {
            "marker": {
             "colorbar": {
              "outlinewidth": 0,
              "ticks": ""
             }
            },
            "type": "scatterpolar"
           }
          ],
          "scatterpolargl": [
           {
            "marker": {
             "colorbar": {
              "outlinewidth": 0,
              "ticks": ""
             }
            },
            "type": "scatterpolargl"
           }
          ],
          "scatterternary": [
           {
            "marker": {
             "colorbar": {
              "outlinewidth": 0,
              "ticks": ""
             }
            },
            "type": "scatterternary"
           }
          ],
          "surface": [
           {
            "colorbar": {
             "outlinewidth": 0,
             "ticks": ""
            },
            "colorscale": [
             [
              0,
              "#0d0887"
             ],
             [
              0.1111111111111111,
              "#46039f"
             ],
             [
              0.2222222222222222,
              "#7201a8"
             ],
             [
              0.3333333333333333,
              "#9c179e"
             ],
             [
              0.4444444444444444,
              "#bd3786"
             ],
             [
              0.5555555555555556,
              "#d8576b"
             ],
             [
              0.6666666666666666,
              "#ed7953"
             ],
             [
              0.7777777777777778,
              "#fb9f3a"
             ],
             [
              0.8888888888888888,
              "#fdca26"
             ],
             [
              1,
              "#f0f921"
             ]
            ],
            "type": "surface"
           }
          ],
          "table": [
           {
            "cells": {
             "fill": {
              "color": "#EBF0F8"
             },
             "line": {
              "color": "white"
             }
            },
            "header": {
             "fill": {
              "color": "#C8D4E3"
             },
             "line": {
              "color": "white"
             }
            },
            "type": "table"
           }
          ]
         },
         "layout": {
          "annotationdefaults": {
           "arrowcolor": "#2a3f5f",
           "arrowhead": 0,
           "arrowwidth": 1
          },
          "autotypenumbers": "strict",
          "coloraxis": {
           "colorbar": {
            "outlinewidth": 0,
            "ticks": ""
           }
          },
          "colorscale": {
           "diverging": [
            [
             0,
             "#8e0152"
            ],
            [
             0.1,
             "#c51b7d"
            ],
            [
             0.2,
             "#de77ae"
            ],
            [
             0.3,
             "#f1b6da"
            ],
            [
             0.4,
             "#fde0ef"
            ],
            [
             0.5,
             "#f7f7f7"
            ],
            [
             0.6,
             "#e6f5d0"
            ],
            [
             0.7,
             "#b8e186"
            ],
            [
             0.8,
             "#7fbc41"
            ],
            [
             0.9,
             "#4d9221"
            ],
            [
             1,
             "#276419"
            ]
           ],
           "sequential": [
            [
             0,
             "#0d0887"
            ],
            [
             0.1111111111111111,
             "#46039f"
            ],
            [
             0.2222222222222222,
             "#7201a8"
            ],
            [
             0.3333333333333333,
             "#9c179e"
            ],
            [
             0.4444444444444444,
             "#bd3786"
            ],
            [
             0.5555555555555556,
             "#d8576b"
            ],
            [
             0.6666666666666666,
             "#ed7953"
            ],
            [
             0.7777777777777778,
             "#fb9f3a"
            ],
            [
             0.8888888888888888,
             "#fdca26"
            ],
            [
             1,
             "#f0f921"
            ]
           ],
           "sequentialminus": [
            [
             0,
             "#0d0887"
            ],
            [
             0.1111111111111111,
             "#46039f"
            ],
            [
             0.2222222222222222,
             "#7201a8"
            ],
            [
             0.3333333333333333,
             "#9c179e"
            ],
            [
             0.4444444444444444,
             "#bd3786"
            ],
            [
             0.5555555555555556,
             "#d8576b"
            ],
            [
             0.6666666666666666,
             "#ed7953"
            ],
            [
             0.7777777777777778,
             "#fb9f3a"
            ],
            [
             0.8888888888888888,
             "#fdca26"
            ],
            [
             1,
             "#f0f921"
            ]
           ]
          },
          "colorway": [
           "#636efa",
           "#EF553B",
           "#00cc96",
           "#ab63fa",
           "#FFA15A",
           "#19d3f3",
           "#FF6692",
           "#B6E880",
           "#FF97FF",
           "#FECB52"
          ],
          "font": {
           "color": "#2a3f5f"
          },
          "geo": {
           "bgcolor": "white",
           "lakecolor": "white",
           "landcolor": "#E5ECF6",
           "showlakes": true,
           "showland": true,
           "subunitcolor": "white"
          },
          "hoverlabel": {
           "align": "left"
          },
          "hovermode": "closest",
          "mapbox": {
           "style": "light"
          },
          "paper_bgcolor": "white",
          "plot_bgcolor": "#E5ECF6",
          "polar": {
           "angularaxis": {
            "gridcolor": "white",
            "linecolor": "white",
            "ticks": ""
           },
           "bgcolor": "#E5ECF6",
           "radialaxis": {
            "gridcolor": "white",
            "linecolor": "white",
            "ticks": ""
           }
          },
          "scene": {
           "xaxis": {
            "backgroundcolor": "#E5ECF6",
            "gridcolor": "white",
            "gridwidth": 2,
            "linecolor": "white",
            "showbackground": true,
            "ticks": "",
            "zerolinecolor": "white"
           },
           "yaxis": {
            "backgroundcolor": "#E5ECF6",
            "gridcolor": "white",
            "gridwidth": 2,
            "linecolor": "white",
            "showbackground": true,
            "ticks": "",
            "zerolinecolor": "white"
           },
           "zaxis": {
            "backgroundcolor": "#E5ECF6",
            "gridcolor": "white",
            "gridwidth": 2,
            "linecolor": "white",
            "showbackground": true,
            "ticks": "",
            "zerolinecolor": "white"
           }
          },
          "shapedefaults": {
           "line": {
            "color": "#2a3f5f"
           }
          },
          "ternary": {
           "aaxis": {
            "gridcolor": "white",
            "linecolor": "white",
            "ticks": ""
           },
           "baxis": {
            "gridcolor": "white",
            "linecolor": "white",
            "ticks": ""
           },
           "bgcolor": "#E5ECF6",
           "caxis": {
            "gridcolor": "white",
            "linecolor": "white",
            "ticks": ""
           }
          },
          "title": {
           "x": 0.05
          },
          "xaxis": {
           "automargin": true,
           "gridcolor": "white",
           "linecolor": "white",
           "ticks": "",
           "title": {
            "standoff": 15
           },
           "zerolinecolor": "white",
           "zerolinewidth": 2
          },
          "yaxis": {
           "automargin": true,
           "gridcolor": "white",
           "linecolor": "white",
           "ticks": "",
           "title": {
            "standoff": 15
           },
           "zerolinecolor": "white",
           "zerolinewidth": 2
          }
         }
        },
        "title": {
         "text": "Pressure quality ( 45)",
         "x": 0.5,
         "xanchor": "center"
        },
        "width": 1200,
        "xaxis": {
         "anchor": "y",
         "domain": [
          0,
          1
         ],
         "gridcolor": "lightgray",
         "showgrid": true,
         "title": {
          "text": "pressures_completed/90"
         },
         "zeroline": false
        },
        "yaxis": {
         "anchor": "x",
         "domain": [
          0,
          1
         ],
         "gridcolor": "lightgray",
         "showgrid": true,
         "title": {
          "text": "pressure_success_%"
         },
         "zeroline": false
        }
       }
      }
     },
     "metadata": {},
     "output_type": "display_data"
    }
   ],
   "source": [
    "# Filter data \n",
    "mask = (\n",
    "        (df_players['pressures_completed/90'] >= 1.3) & \\\n",
    "        (df_players['pressure_success_%'] >= 25) & \\\n",
    "        (df_players['duels_win_%'] >= 65) & \\\n",
    "        (df_players['price_estimate_M'] <= 40) & \\\n",
    "        (df_players['id'].isin(targets))\n",
    "        \n",
    "        \n",
    ")\n",
    "\n",
    "df_targets = df_players[mask]\n",
    "\n",
    "scatter_plot(df_targets,\n",
    "             x_metric='pressures_completed/90', \n",
    "             y_metric='pressure_success_%',\n",
    "             z_metric='duels_win_%',\n",
    "             title='Pressure quality', \n",
    "             show_name_label=True\n",
    ")\n",
    "\n",
    "# Keep only players that fulfill criteria\n",
    "targets = df_targets['id']"
   ]
  },
  {
   "cell_type": "markdown",
   "id": "6dabb355",
   "metadata": {},
   "source": [
    "## Presence"
   ]
  },
  {
   "cell_type": "code",
   "execution_count": 17,
   "id": "115f7fe2",
   "metadata": {},
   "outputs": [
    {
     "data": {
      "application/vnd.plotly.v1+json": {
       "config": {
        "plotlyServerURL": "https://plot.ly"
       },
       "data": [
        {
         "customdata": [
          [
           "Santiago Ascacíbar",
           "Estudiantes (LP)"
          ],
          [
           "Leonel Picco",
           "Platense"
          ],
          [
           "Fernando Juárez",
           "Platense"
          ],
          [
           "Santiago Sosa",
           "Racing Club"
          ],
          [
           "Juan Foyth",
           "Villarreal"
          ],
          [
           "Diego Calcaterra",
           "Sarmiento (Junín)"
          ],
          [
           "Bautista Kociubinski",
           "Estudiantes (LP)"
          ],
          [
           "Juan Carlos Portillo",
           "Talleres"
          ],
          [
           "Agustín Toledo",
           "Huracán"
          ],
          [
           "Diego Costa",
           "SPO"
          ],
          [
           "Gabriel Sara",
           "Norwich"
          ],
          [
           "Vitor Mendes",
           "FOR"
          ],
          [
           "Morato",
           "SL Benfica"
          ],
          [
           "Vinicius Balieiro",
           "SAN"
          ],
          [
           "Ahmed Iljazovski",
           "Hvidovre IF"
          ],
          [
           "Ben Sheaf",
           "Coventry"
          ],
          [
           "Haydon Roberts",
           "Bristol City"
          ],
          [
           "Bashir Humphreys",
           "Swansea"
          ],
          [
           "Odel Offiah",
           "QPR"
          ],
          [
           "Jayson Molumby",
           "West Brom"
          ],
          [
           "Flynn Downes",
           "Southampton"
          ],
          [
           "Ethan Ampadu",
           "Leeds"
          ],
          [
           "Philippe Sandler",
           "N.E.C. Nijmegen"
          ],
          [
           "Radinio Balker",
           "Huddersfield"
          ],
          [
           "Pascal Struijk",
           "Leeds"
          ],
          [
           "Thomas Beelen",
           "Feyenoord"
          ],
          [
           "Tommaso Pobega",
           "Milan"
          ],
          [
           "Michel Ndary Adopo",
           "Atalanta"
          ],
          [
           "Warmed Omari",
           "Rennes"
          ],
          [
           "Moussa Diarra",
           "Toulouse"
          ],
          [
           "Salis Abdul Samed",
           "Lens"
          ],
          [
           "Eboué Kouassi",
           "Arouca"
          ],
          [
           "Erhan Mašović",
           "VfL Bochum"
          ],
          [
           "Mirko Topić",
           "Famalicão"
          ],
          [
           "Edgar",
           "Almería"
          ],
          [
           "Jon Moncayola",
           "Osasuna"
          ],
          [
           "Manu Silva",
           "Vit. Guimarães"
          ],
          [
           "Amos Pieper",
           "SV Werder"
          ],
          [
           "Michael Akoto",
           "AGF"
          ],
          [
           "Jens Cajuste",
           "Napoli"
          ],
          [
           "William Clem",
           "FC København"
          ],
          [
           "Guilherme Madruga",
           "CUI"
          ],
          [
           "Elián Irala",
           "San Lorenzo"
          ],
          [
           "Sadik Fofana",
           "Fortuna Sittard"
          ],
          [
           "Archie Gray",
           "Leeds"
          ]
         ],
         "hovertemplate": "<b>%{customdata[0]}</b><br><b>%{customdata[1]}</b><br><br>interceptions/90: %{x}<br>blocks/90: %{y}<br>clearances/90: %{marker.color}<extra></extra>",
         "legendgroup": "",
         "marker": {
          "color": {
           "bdata": "j8L1KFyP8j+PwvUoXI/yP3E9CtejcPU/9ihcj8L16D9cj8L1KFzzPxSuR+F6FO4/PQrXo3A94j97FK5H4Xr0Px+F61G4HvE/PQrXo3A98j8AAAAAAADgP83MzMzMzPQ/PQrXo3A98j8UrkfhehTmP1yPwvUoXA9AhetRuB6F4z+F61G4HoXjP7gehetRuPI/uB6F61G4AkCamZmZmZnxP4XrUbgeheM/cT0K16Nw3T9SuB6F61H0P4XrUbgehQFAUrgehetR9D/2KFyPwvXgPwAAAAAAAOA/KVyPwvUo8D8K16NwPQrvP3sUrkfhevg/XI/C9Shc7z+amZmZmZn1P9ejcD0K1/M/zczMzMzM7D/NzMzMzMz8P3sUrkfheuw/KVyPwvUo7D8fhetRuB79P1K4HoXrUfA/ZmZmZmZm1j+amZmZmZnhP65H4XoUrvc/FK5H4XoU7j89CtejcD3qP2ZmZmZmZvI/",
           "dtype": "f8"
          },
          "coloraxis": "coloraxis",
          "size": 10,
          "symbol": "circle"
         },
         "mode": "markers+text",
         "name": "",
         "orientation": "v",
         "showlegend": false,
         "text": [
          "Santiago Ascacíbar",
          "Leonel Picco",
          "Fernando Juárez",
          "Santiago Sosa",
          "Juan Foyth",
          "Diego Calcaterra",
          "Bautista Kociubinski",
          "Juan Carlos Portillo",
          "Agustín Toledo",
          "Diego Costa",
          "Gabriel Sara",
          "Vitor Mendes",
          "Morato",
          "Vinicius Balieiro",
          "Ahmed Iljazovski",
          "Ben Sheaf",
          "Haydon Roberts",
          "Bashir Humphreys",
          "Odel Offiah",
          "Jayson Molumby",
          "Flynn Downes",
          "Ethan Ampadu",
          "Philippe Sandler",
          "Radinio Balker",
          "Pascal Struijk",
          "Thomas Beelen",
          "Tommaso Pobega",
          "Michel Ndary Adopo",
          "Warmed Omari",
          "Moussa Diarra",
          "Salis Abdul Samed",
          "Eboué Kouassi",
          "Erhan Mašović",
          "Mirko Topić",
          "Edgar",
          "Jon Moncayola",
          "Manu Silva",
          "Amos Pieper",
          "Michael Akoto",
          "Jens Cajuste",
          "William Clem",
          "Guilherme Madruga",
          "Elián Irala",
          "Sadik Fofana",
          "Archie Gray"
         ],
         "textfont": {
          "size": 10
         },
         "textposition": "top center",
         "type": "scatter",
         "x": {
          "bdata": "MzMzMzMz8z8fhetRuB79PxSuR+F6FABAexSuR+F6AEBcj8L1KFwFQHE9CtejcPU/zczMzMzM9D97FK5H4XoCQHsUrkfhevw/j8L1KFyPAkBcj8L1KFwDQHsUrkfhegBAuB6F61G49j8K16NwPQrzP6RwPQrXo/w/H4XrUbgeAUAzMzMzMzP/P4/C9Shcj/4/MzMzMzMz/z/D9Shcj8IDQOF6FK5H4fY/4XoUrkfh+j/NzMzMzMwCQK5H4XoUrv8/mpmZmZmZA0CamZmZmZn9PwrXo3A9Cvs/ZmZmZmZmAkD2KFyPwvUCQB+F61G4HgVAXI/C9Shc/z+uR+F6FK7vP3E9CtejcPk/w/UoXI/CAUAUrkfhehT6P1yPwvUoXP8/hetRuB6F+z8fhetRuB79P83MzMzMzAZAcT0K16Nw+T9mZmZmZmb6P7gehetRuPY/cT0K16Nw/T+kcD0K16MAQEjhehSuRwNA",
          "dtype": "f8"
         },
         "xaxis": "x",
         "y": {
          "bdata": "MzMzMzMz4z/2KFyPwvXYP/YoXI/C9dg/cT0K16NwzT9cj8L1KFznP3sUrkfhetQ/PQrXo3A92j8AAAAAAADwP0jhehSuR9E/ZmZmZmZm5j/hehSuR+HaP5qZmZmZmeE/9ihcj8L16D+amZmZmZm5P/YoXI/C9eA/uB6F61G48j9I4XoUrkfhP83MzMzMzOQ/hetRuB6F4z8K16NwPQrHP6RwPQrXo9A/cT0K16Nw3T9SuB6F61HgP+F6FK5H4eI/16NwPQrX6z8K16NwPQrHP5qZmZmZmdk/rkfhehSu1z+F61G4HoXbP2ZmZmZmZtY/mpmZmZmZyT/hehSuR+HKP7gehetRuOY/PQrXo3A94j9I4XoUrkfpP83MzMzMzOQ/KVyPwvUo3D8AAAAAAADgP1K4HoXrUeA/CtejcD0Kxz/NzMzMzMzcP6RwPQrXo+A/zczMzMzM3D8pXI/C9SjMPylcj8L1KOQ/",
          "dtype": "f8"
         },
         "yaxis": "y"
        }
       ],
       "layout": {
        "coloraxis": {
         "colorbar": {
          "title": {
           "text": "clearances/90"
          }
         },
         "colorscale": [
          [
           0,
           "rgb(165,0,38)"
          ],
          [
           0.1,
           "rgb(215,48,39)"
          ],
          [
           0.2,
           "rgb(244,109,67)"
          ],
          [
           0.3,
           "rgb(253,174,97)"
          ],
          [
           0.4,
           "rgb(254,224,139)"
          ],
          [
           0.5,
           "rgb(255,255,191)"
          ],
          [
           0.6,
           "rgb(217,239,139)"
          ],
          [
           0.7,
           "rgb(166,217,106)"
          ],
          [
           0.8,
           "rgb(102,189,99)"
          ],
          [
           0.9,
           "rgb(26,152,80)"
          ],
          [
           1,
           "rgb(0,104,55)"
          ]
         ],
         "showscale": false
        },
        "height": 700,
        "legend": {
         "tracegroupgap": 0
        },
        "paper_bgcolor": "white",
        "plot_bgcolor": "white",
        "template": {
         "data": {
          "bar": [
           {
            "error_x": {
             "color": "#2a3f5f"
            },
            "error_y": {
             "color": "#2a3f5f"
            },
            "marker": {
             "line": {
              "color": "#E5ECF6",
              "width": 0.5
             },
             "pattern": {
              "fillmode": "overlay",
              "size": 10,
              "solidity": 0.2
             }
            },
            "type": "bar"
           }
          ],
          "barpolar": [
           {
            "marker": {
             "line": {
              "color": "#E5ECF6",
              "width": 0.5
             },
             "pattern": {
              "fillmode": "overlay",
              "size": 10,
              "solidity": 0.2
             }
            },
            "type": "barpolar"
           }
          ],
          "carpet": [
           {
            "aaxis": {
             "endlinecolor": "#2a3f5f",
             "gridcolor": "white",
             "linecolor": "white",
             "minorgridcolor": "white",
             "startlinecolor": "#2a3f5f"
            },
            "baxis": {
             "endlinecolor": "#2a3f5f",
             "gridcolor": "white",
             "linecolor": "white",
             "minorgridcolor": "white",
             "startlinecolor": "#2a3f5f"
            },
            "type": "carpet"
           }
          ],
          "choropleth": [
           {
            "colorbar": {
             "outlinewidth": 0,
             "ticks": ""
            },
            "type": "choropleth"
           }
          ],
          "contour": [
           {
            "colorbar": {
             "outlinewidth": 0,
             "ticks": ""
            },
            "colorscale": [
             [
              0,
              "#0d0887"
             ],
             [
              0.1111111111111111,
              "#46039f"
             ],
             [
              0.2222222222222222,
              "#7201a8"
             ],
             [
              0.3333333333333333,
              "#9c179e"
             ],
             [
              0.4444444444444444,
              "#bd3786"
             ],
             [
              0.5555555555555556,
              "#d8576b"
             ],
             [
              0.6666666666666666,
              "#ed7953"
             ],
             [
              0.7777777777777778,
              "#fb9f3a"
             ],
             [
              0.8888888888888888,
              "#fdca26"
             ],
             [
              1,
              "#f0f921"
             ]
            ],
            "type": "contour"
           }
          ],
          "contourcarpet": [
           {
            "colorbar": {
             "outlinewidth": 0,
             "ticks": ""
            },
            "type": "contourcarpet"
           }
          ],
          "heatmap": [
           {
            "colorbar": {
             "outlinewidth": 0,
             "ticks": ""
            },
            "colorscale": [
             [
              0,
              "#0d0887"
             ],
             [
              0.1111111111111111,
              "#46039f"
             ],
             [
              0.2222222222222222,
              "#7201a8"
             ],
             [
              0.3333333333333333,
              "#9c179e"
             ],
             [
              0.4444444444444444,
              "#bd3786"
             ],
             [
              0.5555555555555556,
              "#d8576b"
             ],
             [
              0.6666666666666666,
              "#ed7953"
             ],
             [
              0.7777777777777778,
              "#fb9f3a"
             ],
             [
              0.8888888888888888,
              "#fdca26"
             ],
             [
              1,
              "#f0f921"
             ]
            ],
            "type": "heatmap"
           }
          ],
          "histogram": [
           {
            "marker": {
             "pattern": {
              "fillmode": "overlay",
              "size": 10,
              "solidity": 0.2
             }
            },
            "type": "histogram"
           }
          ],
          "histogram2d": [
           {
            "colorbar": {
             "outlinewidth": 0,
             "ticks": ""
            },
            "colorscale": [
             [
              0,
              "#0d0887"
             ],
             [
              0.1111111111111111,
              "#46039f"
             ],
             [
              0.2222222222222222,
              "#7201a8"
             ],
             [
              0.3333333333333333,
              "#9c179e"
             ],
             [
              0.4444444444444444,
              "#bd3786"
             ],
             [
              0.5555555555555556,
              "#d8576b"
             ],
             [
              0.6666666666666666,
              "#ed7953"
             ],
             [
              0.7777777777777778,
              "#fb9f3a"
             ],
             [
              0.8888888888888888,
              "#fdca26"
             ],
             [
              1,
              "#f0f921"
             ]
            ],
            "type": "histogram2d"
           }
          ],
          "histogram2dcontour": [
           {
            "colorbar": {
             "outlinewidth": 0,
             "ticks": ""
            },
            "colorscale": [
             [
              0,
              "#0d0887"
             ],
             [
              0.1111111111111111,
              "#46039f"
             ],
             [
              0.2222222222222222,
              "#7201a8"
             ],
             [
              0.3333333333333333,
              "#9c179e"
             ],
             [
              0.4444444444444444,
              "#bd3786"
             ],
             [
              0.5555555555555556,
              "#d8576b"
             ],
             [
              0.6666666666666666,
              "#ed7953"
             ],
             [
              0.7777777777777778,
              "#fb9f3a"
             ],
             [
              0.8888888888888888,
              "#fdca26"
             ],
             [
              1,
              "#f0f921"
             ]
            ],
            "type": "histogram2dcontour"
           }
          ],
          "mesh3d": [
           {
            "colorbar": {
             "outlinewidth": 0,
             "ticks": ""
            },
            "type": "mesh3d"
           }
          ],
          "parcoords": [
           {
            "line": {
             "colorbar": {
              "outlinewidth": 0,
              "ticks": ""
             }
            },
            "type": "parcoords"
           }
          ],
          "pie": [
           {
            "automargin": true,
            "type": "pie"
           }
          ],
          "scatter": [
           {
            "fillpattern": {
             "fillmode": "overlay",
             "size": 10,
             "solidity": 0.2
            },
            "type": "scatter"
           }
          ],
          "scatter3d": [
           {
            "line": {
             "colorbar": {
              "outlinewidth": 0,
              "ticks": ""
             }
            },
            "marker": {
             "colorbar": {
              "outlinewidth": 0,
              "ticks": ""
             }
            },
            "type": "scatter3d"
           }
          ],
          "scattercarpet": [
           {
            "marker": {
             "colorbar": {
              "outlinewidth": 0,
              "ticks": ""
             }
            },
            "type": "scattercarpet"
           }
          ],
          "scattergeo": [
           {
            "marker": {
             "colorbar": {
              "outlinewidth": 0,
              "ticks": ""
             }
            },
            "type": "scattergeo"
           }
          ],
          "scattergl": [
           {
            "marker": {
             "colorbar": {
              "outlinewidth": 0,
              "ticks": ""
             }
            },
            "type": "scattergl"
           }
          ],
          "scattermap": [
           {
            "marker": {
             "colorbar": {
              "outlinewidth": 0,
              "ticks": ""
             }
            },
            "type": "scattermap"
           }
          ],
          "scattermapbox": [
           {
            "marker": {
             "colorbar": {
              "outlinewidth": 0,
              "ticks": ""
             }
            },
            "type": "scattermapbox"
           }
          ],
          "scatterpolar": [
           {
            "marker": {
             "colorbar": {
              "outlinewidth": 0,
              "ticks": ""
             }
            },
            "type": "scatterpolar"
           }
          ],
          "scatterpolargl": [
           {
            "marker": {
             "colorbar": {
              "outlinewidth": 0,
              "ticks": ""
             }
            },
            "type": "scatterpolargl"
           }
          ],
          "scatterternary": [
           {
            "marker": {
             "colorbar": {
              "outlinewidth": 0,
              "ticks": ""
             }
            },
            "type": "scatterternary"
           }
          ],
          "surface": [
           {
            "colorbar": {
             "outlinewidth": 0,
             "ticks": ""
            },
            "colorscale": [
             [
              0,
              "#0d0887"
             ],
             [
              0.1111111111111111,
              "#46039f"
             ],
             [
              0.2222222222222222,
              "#7201a8"
             ],
             [
              0.3333333333333333,
              "#9c179e"
             ],
             [
              0.4444444444444444,
              "#bd3786"
             ],
             [
              0.5555555555555556,
              "#d8576b"
             ],
             [
              0.6666666666666666,
              "#ed7953"
             ],
             [
              0.7777777777777778,
              "#fb9f3a"
             ],
             [
              0.8888888888888888,
              "#fdca26"
             ],
             [
              1,
              "#f0f921"
             ]
            ],
            "type": "surface"
           }
          ],
          "table": [
           {
            "cells": {
             "fill": {
              "color": "#EBF0F8"
             },
             "line": {
              "color": "white"
             }
            },
            "header": {
             "fill": {
              "color": "#C8D4E3"
             },
             "line": {
              "color": "white"
             }
            },
            "type": "table"
           }
          ]
         },
         "layout": {
          "annotationdefaults": {
           "arrowcolor": "#2a3f5f",
           "arrowhead": 0,
           "arrowwidth": 1
          },
          "autotypenumbers": "strict",
          "coloraxis": {
           "colorbar": {
            "outlinewidth": 0,
            "ticks": ""
           }
          },
          "colorscale": {
           "diverging": [
            [
             0,
             "#8e0152"
            ],
            [
             0.1,
             "#c51b7d"
            ],
            [
             0.2,
             "#de77ae"
            ],
            [
             0.3,
             "#f1b6da"
            ],
            [
             0.4,
             "#fde0ef"
            ],
            [
             0.5,
             "#f7f7f7"
            ],
            [
             0.6,
             "#e6f5d0"
            ],
            [
             0.7,
             "#b8e186"
            ],
            [
             0.8,
             "#7fbc41"
            ],
            [
             0.9,
             "#4d9221"
            ],
            [
             1,
             "#276419"
            ]
           ],
           "sequential": [
            [
             0,
             "#0d0887"
            ],
            [
             0.1111111111111111,
             "#46039f"
            ],
            [
             0.2222222222222222,
             "#7201a8"
            ],
            [
             0.3333333333333333,
             "#9c179e"
            ],
            [
             0.4444444444444444,
             "#bd3786"
            ],
            [
             0.5555555555555556,
             "#d8576b"
            ],
            [
             0.6666666666666666,
             "#ed7953"
            ],
            [
             0.7777777777777778,
             "#fb9f3a"
            ],
            [
             0.8888888888888888,
             "#fdca26"
            ],
            [
             1,
             "#f0f921"
            ]
           ],
           "sequentialminus": [
            [
             0,
             "#0d0887"
            ],
            [
             0.1111111111111111,
             "#46039f"
            ],
            [
             0.2222222222222222,
             "#7201a8"
            ],
            [
             0.3333333333333333,
             "#9c179e"
            ],
            [
             0.4444444444444444,
             "#bd3786"
            ],
            [
             0.5555555555555556,
             "#d8576b"
            ],
            [
             0.6666666666666666,
             "#ed7953"
            ],
            [
             0.7777777777777778,
             "#fb9f3a"
            ],
            [
             0.8888888888888888,
             "#fdca26"
            ],
            [
             1,
             "#f0f921"
            ]
           ]
          },
          "colorway": [
           "#636efa",
           "#EF553B",
           "#00cc96",
           "#ab63fa",
           "#FFA15A",
           "#19d3f3",
           "#FF6692",
           "#B6E880",
           "#FF97FF",
           "#FECB52"
          ],
          "font": {
           "color": "#2a3f5f"
          },
          "geo": {
           "bgcolor": "white",
           "lakecolor": "white",
           "landcolor": "#E5ECF6",
           "showlakes": true,
           "showland": true,
           "subunitcolor": "white"
          },
          "hoverlabel": {
           "align": "left"
          },
          "hovermode": "closest",
          "mapbox": {
           "style": "light"
          },
          "paper_bgcolor": "white",
          "plot_bgcolor": "#E5ECF6",
          "polar": {
           "angularaxis": {
            "gridcolor": "white",
            "linecolor": "white",
            "ticks": ""
           },
           "bgcolor": "#E5ECF6",
           "radialaxis": {
            "gridcolor": "white",
            "linecolor": "white",
            "ticks": ""
           }
          },
          "scene": {
           "xaxis": {
            "backgroundcolor": "#E5ECF6",
            "gridcolor": "white",
            "gridwidth": 2,
            "linecolor": "white",
            "showbackground": true,
            "ticks": "",
            "zerolinecolor": "white"
           },
           "yaxis": {
            "backgroundcolor": "#E5ECF6",
            "gridcolor": "white",
            "gridwidth": 2,
            "linecolor": "white",
            "showbackground": true,
            "ticks": "",
            "zerolinecolor": "white"
           },
           "zaxis": {
            "backgroundcolor": "#E5ECF6",
            "gridcolor": "white",
            "gridwidth": 2,
            "linecolor": "white",
            "showbackground": true,
            "ticks": "",
            "zerolinecolor": "white"
           }
          },
          "shapedefaults": {
           "line": {
            "color": "#2a3f5f"
           }
          },
          "ternary": {
           "aaxis": {
            "gridcolor": "white",
            "linecolor": "white",
            "ticks": ""
           },
           "baxis": {
            "gridcolor": "white",
            "linecolor": "white",
            "ticks": ""
           },
           "bgcolor": "#E5ECF6",
           "caxis": {
            "gridcolor": "white",
            "linecolor": "white",
            "ticks": ""
           }
          },
          "title": {
           "x": 0.05
          },
          "xaxis": {
           "automargin": true,
           "gridcolor": "white",
           "linecolor": "white",
           "ticks": "",
           "title": {
            "standoff": 15
           },
           "zerolinecolor": "white",
           "zerolinewidth": 2
          },
          "yaxis": {
           "automargin": true,
           "gridcolor": "white",
           "linecolor": "white",
           "ticks": "",
           "title": {
            "standoff": 15
           },
           "zerolinecolor": "white",
           "zerolinewidth": 2
          }
         }
        },
        "title": {
         "text": "Presence ( 45)",
         "x": 0.5,
         "xanchor": "center"
        },
        "width": 1200,
        "xaxis": {
         "anchor": "y",
         "domain": [
          0,
          1
         ],
         "gridcolor": "lightgray",
         "showgrid": true,
         "title": {
          "text": "interceptions/90"
         },
         "zeroline": false
        },
        "yaxis": {
         "anchor": "x",
         "domain": [
          0,
          1
         ],
         "gridcolor": "lightgray",
         "showgrid": true,
         "title": {
          "text": "blocks/90"
         },
         "zeroline": false
        }
       }
      }
     },
     "metadata": {},
     "output_type": "display_data"
    }
   ],
   "source": [
    "# Full universe \n",
    "scatter_plot(df_targets,\n",
    "             x_metric='interceptions/90', \n",
    "             y_metric='blocks/90',\n",
    "             z_metric='clearances/90',\n",
    "             title='Presence', \n",
    "             show_name_label=True\n",
    ") "
   ]
  },
  {
   "cell_type": "code",
   "execution_count": 29,
   "id": "c46a6c51",
   "metadata": {},
   "outputs": [
    {
     "data": {
      "text/html": [
       "<div>\n",
       "<style scoped>\n",
       "    .dataframe tbody tr th:only-of-type {\n",
       "        vertical-align: middle;\n",
       "    }\n",
       "\n",
       "    .dataframe tbody tr th {\n",
       "        vertical-align: top;\n",
       "    }\n",
       "\n",
       "    .dataframe thead th {\n",
       "        text-align: right;\n",
       "    }\n",
       "</style>\n",
       "<table border=\"1\" class=\"dataframe\">\n",
       "  <thead>\n",
       "    <tr style=\"text-align: right;\">\n",
       "      <th></th>\n",
       "      <th>id</th>\n",
       "      <th>name</th>\n",
       "      <th>position</th>\n",
       "      <th>age</th>\n",
       "      <th>height</th>\n",
       "      <th>weight</th>\n",
       "      <th>inf</th>\n",
       "      <th>club</th>\n",
       "      <th>division</th>\n",
       "      <th>nationality</th>\n",
       "      <th>home_grown</th>\n",
       "      <th>personality</th>\n",
       "      <th>media_handling</th>\n",
       "      <th>wage</th>\n",
       "      <th>transfer_value</th>\n",
       "      <th>asking_price</th>\n",
       "      <th>preferred_foot</th>\n",
       "      <th>starts</th>\n",
       "      <th>minutes_played</th>\n",
       "      <th>average_rating</th>\n",
       "      <th>sub_appearances</th>\n",
       "      <th>minutes/game</th>\n",
       "      <th>index</th>\n",
       "      <th>passes_attempted/90</th>\n",
       "      <th>passes_completed/90</th>\n",
       "      <th>pass_completion_%</th>\n",
       "      <th>progressive_passes/90</th>\n",
       "      <th>progressive_pass_rate</th>\n",
       "      <th>key_passes/90</th>\n",
       "      <th>key_pass_%</th>\n",
       "      <th>open_play_key_passes/90</th>\n",
       "      <th>open_play_key_pass_%</th>\n",
       "      <th>chances_created/90</th>\n",
       "      <th>clear_cut_chances_created/90</th>\n",
       "      <th>pressures_attempted/90</th>\n",
       "      <th>pressures_completed/90</th>\n",
       "      <th>pressure_success_%</th>\n",
       "      <th>possession_won/90</th>\n",
       "      <th>possession_lost/90</th>\n",
       "      <th>poss+_/90</th>\n",
       "      <th>poss+__%</th>\n",
       "      <th>tackles_attempted/90</th>\n",
       "      <th>tackles_completed/90</th>\n",
       "      <th>tackle_completion_%</th>\n",
       "      <th>tackles_failed/90</th>\n",
       "      <th>key_tackles/90</th>\n",
       "      <th>tackle_quality</th>\n",
       "      <th>interceptions/90</th>\n",
       "      <th>blocks/90</th>\n",
       "      <th>shots_blocked/90</th>\n",
       "      <th>headers_attempted/90</th>\n",
       "      <th>headers_won/90</th>\n",
       "      <th>headers_won_%</th>\n",
       "      <th>headers_lost/90</th>\n",
       "      <th>headers_lost_%</th>\n",
       "      <th>key_headers/90</th>\n",
       "      <th>aerial_challenges_attempted/90</th>\n",
       "      <th>duels_win_%</th>\n",
       "      <th>fouls_won/90</th>\n",
       "      <th>fouls_committed/90</th>\n",
       "      <th>clearances/90</th>\n",
       "      <th>distance_covered/90</th>\n",
       "      <th>attacking_actions/90</th>\n",
       "      <th>creative_actions/90</th>\n",
       "      <th>defensive_actions/90</th>\n",
       "      <th>excitement_factor/90</th>\n",
       "      <th>general_performance</th>\n",
       "      <th>goalkeeping</th>\n",
       "      <th>defensive_defender</th>\n",
       "      <th>creative_defender</th>\n",
       "      <th>attacking_defender</th>\n",
       "      <th>creative_midfielder</th>\n",
       "      <th>attacking_midfielder</th>\n",
       "      <th>creative_winger</th>\n",
       "      <th>attacking_winger</th>\n",
       "      <th>creative_forward</th>\n",
       "      <th>attacking_forward</th>\n",
       "      <th>finisher</th>\n",
       "      <th>aerial_threat</th>\n",
       "      <th>reader</th>\n",
       "      <th>assister</th>\n",
       "      <th>price_estimate_M</th>\n",
       "    </tr>\n",
       "  </thead>\n",
       "  <tbody>\n",
       "    <tr>\n",
       "      <th>309</th>\n",
       "      <td>37071145</td>\n",
       "      <td>Mats Wieffer</td>\n",
       "      <td>D (C), DM, M (C)</td>\n",
       "      <td>24</td>\n",
       "      <td>188 cm</td>\n",
       "      <td>81 kg</td>\n",
       "      <td>Wnt</td>\n",
       "      <td>Feyenoord</td>\n",
       "      <td>Eredivisie</td>\n",
       "      <td>NED</td>\n",
       "      <td>-</td>\n",
       "      <td>Fairly Professional</td>\n",
       "      <td>Level-headed</td>\n",
       "      <td>$8,500 p/w</td>\n",
       "      <td>$51M - $61M</td>\n",
       "      <td>-</td>\n",
       "      <td>Right</td>\n",
       "      <td>23</td>\n",
       "      <td>1802</td>\n",
       "      <td>7.23</td>\n",
       "      <td>0</td>\n",
       "      <td>78.35</td>\n",
       "      <td>309</td>\n",
       "      <td>68.42</td>\n",
       "      <td>61.28</td>\n",
       "      <td>90</td>\n",
       "      <td>7.19</td>\n",
       "      <td>10.51</td>\n",
       "      <td>1.85</td>\n",
       "      <td>2.7</td>\n",
       "      <td>1.75</td>\n",
       "      <td>2.55</td>\n",
       "      <td>0.7</td>\n",
       "      <td>0.4</td>\n",
       "      <td>10.44</td>\n",
       "      <td>2.85</td>\n",
       "      <td>27.27</td>\n",
       "      <td>10.19</td>\n",
       "      <td>9.44</td>\n",
       "      <td>0.75</td>\n",
       "      <td>7.94</td>\n",
       "      <td>2.55</td>\n",
       "      <td>2.15</td>\n",
       "      <td>84</td>\n",
       "      <td>0.4</td>\n",
       "      <td>0.05</td>\n",
       "      <td>4.25</td>\n",
       "      <td>2.15</td>\n",
       "      <td>0.15</td>\n",
       "      <td>0.0</td>\n",
       "      <td>6.19</td>\n",
       "      <td>3.7</td>\n",
       "      <td>59.68</td>\n",
       "      <td>2.5</td>\n",
       "      <td>40.32</td>\n",
       "      <td>0.4</td>\n",
       "      <td>6.19</td>\n",
       "      <td>66.86</td>\n",
       "      <td>0.75</td>\n",
       "      <td>0.6</td>\n",
       "      <td>0.3</td>\n",
       "      <td>13.56</td>\n",
       "      <td>3.03</td>\n",
       "      <td>2.45</td>\n",
       "      <td>13.87</td>\n",
       "      <td>6.94</td>\n",
       "      <td>100</td>\n",
       "      <td>100</td>\n",
       "      <td>50</td>\n",
       "      <td>94</td>\n",
       "      <td>97</td>\n",
       "      <td>99</td>\n",
       "      <td>99</td>\n",
       "      <td>97</td>\n",
       "      <td>98</td>\n",
       "      <td>97</td>\n",
       "      <td>98</td>\n",
       "      <td>93</td>\n",
       "      <td>83</td>\n",
       "      <td>74</td>\n",
       "      <td>84</td>\n",
       "      <td>67.2</td>\n",
       "    </tr>\n",
       "  </tbody>\n",
       "</table>\n",
       "</div>"
      ],
      "text/plain": [
       "           id          name          position  age  height weight  inf  \\\n",
       "309  37071145  Mats Wieffer  D (C), DM, M (C)   24  188 cm  81 kg  Wnt   \n",
       "\n",
       "          club    division nationality home_grown          personality  \\\n",
       "309  Feyenoord  Eredivisie         NED          -  Fairly Professional   \n",
       "\n",
       "    media_handling        wage transfer_value asking_price preferred_foot  \\\n",
       "309   Level-headed  $8,500 p/w    $51M - $61M            -          Right   \n",
       "\n",
       "     starts  minutes_played  average_rating  sub_appearances  minutes/game  \\\n",
       "309      23            1802            7.23                0         78.35   \n",
       "\n",
       "     index  passes_attempted/90  passes_completed/90  pass_completion_%  \\\n",
       "309    309                68.42                61.28                 90   \n",
       "\n",
       "     progressive_passes/90  progressive_pass_rate  key_passes/90  key_pass_%  \\\n",
       "309                   7.19                  10.51           1.85         2.7   \n",
       "\n",
       "     open_play_key_passes/90  open_play_key_pass_%  chances_created/90  \\\n",
       "309                     1.75                  2.55                 0.7   \n",
       "\n",
       "     clear_cut_chances_created/90  pressures_attempted/90  \\\n",
       "309                           0.4                   10.44   \n",
       "\n",
       "     pressures_completed/90  pressure_success_%  possession_won/90  \\\n",
       "309                    2.85               27.27              10.19   \n",
       "\n",
       "     possession_lost/90  poss+_/90  poss+__%  tackles_attempted/90  \\\n",
       "309                9.44       0.75      7.94                  2.55   \n",
       "\n",
       "     tackles_completed/90  tackle_completion_%  tackles_failed/90  \\\n",
       "309                  2.15                   84                0.4   \n",
       "\n",
       "     key_tackles/90  tackle_quality  interceptions/90  blocks/90  \\\n",
       "309            0.05            4.25              2.15       0.15   \n",
       "\n",
       "     shots_blocked/90  headers_attempted/90  headers_won/90  headers_won_%  \\\n",
       "309               0.0                  6.19             3.7          59.68   \n",
       "\n",
       "     headers_lost/90  headers_lost_%  key_headers/90  \\\n",
       "309              2.5           40.32             0.4   \n",
       "\n",
       "     aerial_challenges_attempted/90  duels_win_%  fouls_won/90  \\\n",
       "309                            6.19        66.86          0.75   \n",
       "\n",
       "     fouls_committed/90  clearances/90  distance_covered/90  \\\n",
       "309                 0.6            0.3                13.56   \n",
       "\n",
       "     attacking_actions/90  creative_actions/90  defensive_actions/90  \\\n",
       "309                  3.03                 2.45                 13.87   \n",
       "\n",
       "     excitement_factor/90  general_performance  goalkeeping  \\\n",
       "309                  6.94                  100          100   \n",
       "\n",
       "     defensive_defender  creative_defender  attacking_defender  \\\n",
       "309                  50                 94                  97   \n",
       "\n",
       "     creative_midfielder  attacking_midfielder  creative_winger  \\\n",
       "309                   99                    99               97   \n",
       "\n",
       "     attacking_winger  creative_forward  attacking_forward  finisher  \\\n",
       "309                98                97                 98        93   \n",
       "\n",
       "     aerial_threat  reader  assister  price_estimate_M  \n",
       "309             83      74        84              67.2  "
      ]
     },
     "execution_count": 29,
     "metadata": {},
     "output_type": "execute_result"
    }
   ],
   "source": [
    "df_players[df_players['name'].str.contains('Wief')]"
   ]
  },
  {
   "cell_type": "code",
   "execution_count": 24,
   "id": "4b0be327",
   "metadata": {},
   "outputs": [
    {
     "data": {
      "application/vnd.plotly.v1+json": {
       "config": {
        "plotlyServerURL": "https://plot.ly"
       },
       "data": [
        {
         "customdata": [
          [
           "Abakar Sylla",
           "Strasbourg"
          ],
          [
           "Montassar Talbi",
           "Lorient"
          ],
          [
           "David Martínez",
           "River"
          ],
          [
           "Ignacio Vázquez",
           "Platense"
          ],
          [
           "Facundo Medina",
           "Lens"
          ],
          [
           "Nicolás Capraro",
           "Barracas Central"
          ],
          [
           "Juan Foyth",
           "Villarreal"
          ],
          [
           "Leonardo Balerdi",
           "Marseille"
          ],
          [
           "Adryelson",
           "Lyon"
          ],
          [
           "Pedrão",
           "Portimonense"
          ],
          [
           "Tuta",
           "Eintracht Frankfurt"
          ],
          [
           "João Victor",
           "Vasco da Gama"
          ],
          [
           "Vitão",
           "INT"
          ],
          [
           "Joseph Okumu",
           "Stade Reims"
          ],
          [
           "Ahmed Iljazovski",
           "Hvidovre IF"
          ],
          [
           "Alexander Busch",
           "Silkeborg IF"
          ],
          [
           "Ben Cabango",
           "Swansea"
          ],
          [
           "Daniel Ballard",
           "Sunderland"
          ],
          [
           "Dael Fry",
           "Middlesbrough"
          ],
          [
           "Lewis Gibson",
           "Plymouth"
          ],
          [
           "Philippe Sandler",
           "N.E.C. Nijmegen"
          ],
          [
           "Pascal Struijk",
           "Leeds"
          ],
          [
           "Perr Schuurs",
           "Torino"
          ],
          [
           "Enzo Cornelisse",
           "Vitesse"
          ],
          [
           "Caleb Okoli",
           "Frosinone"
          ],
          [
           "Bafodé Diakité",
           "Lille"
          ],
          [
           "Chrislain Matsima",
           "Clermont"
          ],
          [
           "Luke McNally",
           "Stoke"
          ],
          [
           "Jhon Lucumí",
           "Juventus"
          ],
          [
           "Jota",
           "Vizela"
          ],
          [
           "Félix Torres",
           "COR"
          ],
          [
           "Paul Jaeckel",
           "Lyon"
          ],
          [
           "Michael Akoto",
           "AGF"
          ],
          [
           "Willy Kambwala",
           "Man Utd"
          ],
          [
           "Nicolás Romero",
           "Atl. Tucumán"
          ]
         ],
         "hovertemplate": "<b>%{customdata[0]}</b><br><b>%{customdata[1]}</b><br><br>interceptions/90: %{x}<br>blocks/90: %{y}<br>clearances/90: %{marker.color}<extra></extra>",
         "legendgroup": "",
         "marker": {
          "color": {
           "bdata": "FK5H4XoU/j9cj8L1KFz7Px+F61G4HvE/16NwPQrX9z+kcD0K16P0P5qZmZmZmfk/XI/C9Shc8z9xPQrXo3DtPylcj8L1KPA/4XoUrkfh/j97FK5H4Xr0P5qZmZmZmQFAcT0K16Nw7T/D9Shcj8LtP1yPwvUoXA9ArkfhehSu+z9SuB6F61ECQArXo3A9Cu8/9ihcj8L16D/NzMzMzMz0P1K4HoXrUfQ/UrgehetR9D8pXI/C9SjwPx+F61G4HvU/hetRuB6F9z/Xo3A9CtfzP3sUrkfhegBAZmZmZmZmAkAUrkfhehT2P6RwPQrXo/Q/KVyPwvUo+D+4HoXrUbjmP1K4HoXrUfA/ZmZmZmZm/j+amZmZmZn1Pw==",
           "dtype": "f8"
          },
          "coloraxis": "coloraxis",
          "size": 10,
          "symbol": "circle"
         },
         "mode": "markers+text",
         "name": "",
         "orientation": "v",
         "showlegend": false,
         "text": [
          "Abakar Sylla",
          "Montassar Talbi",
          "David Martínez",
          "Ignacio Vázquez",
          "Facundo Medina",
          "Nicolás Capraro",
          "Juan Foyth",
          "Leonardo Balerdi",
          "Adryelson",
          "Pedrão",
          "Tuta",
          "João Victor",
          "Vitão",
          "Joseph Okumu",
          "Ahmed Iljazovski",
          "Alexander Busch",
          "Ben Cabango",
          "Daniel Ballard",
          "Dael Fry",
          "Lewis Gibson",
          "Philippe Sandler",
          "Pascal Struijk",
          "Perr Schuurs",
          "Enzo Cornelisse",
          "Caleb Okoli",
          "Bafodé Diakité",
          "Chrislain Matsima",
          "Luke McNally",
          "Jhon Lucumí",
          "Jota",
          "Félix Torres",
          "Paul Jaeckel",
          "Michael Akoto",
          "Willy Kambwala",
          "Nicolás Romero"
         ],
         "textfont": {
          "size": 10
         },
         "textposition": "top center",
         "type": "scatter",
         "x": {
          "bdata": "cT0K16NwAUAUrkfhehT+P3E9CtejcP0/AAAAAAAABED2KFyPwvX8P65H4XoUrv8/XI/C9ShcBUAUrkfhehT+P7gehetRuABAMzMzMzMzBUCamZmZmZkBQClcj8L1KARAUrgehetRAEC4HoXrUbj6P6RwPQrXo/w/CtejcD0KAUB7FK5H4Xr4P/YoXI/C9QBA9ihcj8L1AEBxPQrXo3D5P83MzMzMzAJAmpmZmZmZA0D2KFyPwvX8PwrXo3A9CgFASOF6FK5H+T9cj8L1KFz7P1K4HoXrUfw/SOF6FK5HBUAK16NwPQr/P65H4XoUrgFApHA9Ctej/D9cj8L1KFwDQM3MzMzMzAZApHA9Ctej+D/hehSuR+H+Pw==",
          "dtype": "f8"
         },
         "xaxis": "x",
         "y": {
          "bdata": "9ihcj8L14D/NzMzMzMzkP3sUrkfheuQ/exSuR+F67D/Xo3A9CtfjP7gehetRuN4/XI/C9Shc5z8pXI/C9SjsP4/C9Shcj+I/H4XrUbge5T8AAAAAAADgPx+F61G4HuU/w/UoXI/C5T8UrkfhehTeP/YoXI/C9eA/XI/C9Shc3z+4HoXrUbjeP3E9CtejcN0/cT0K16Nw5T9xPQrXo3DtP1K4HoXrUeA/16NwPQrX6z+PwvUoXI/iPylcj8L1KNw/j8L1KFyP4j+kcD0K16PgP/YoXI/C9eg/MzMzMzMz4z+amZmZmZnhP4XrUbgeheM/9ihcj8L16D97FK5H4XrkP1K4HoXrUeA/CtejcD0K5z9cj8L1KFzfPw==",
          "dtype": "f8"
         },
         "yaxis": "y"
        }
       ],
       "layout": {
        "coloraxis": {
         "colorbar": {
          "title": {
           "text": "clearances/90"
          }
         },
         "colorscale": [
          [
           0,
           "rgb(165,0,38)"
          ],
          [
           0.1,
           "rgb(215,48,39)"
          ],
          [
           0.2,
           "rgb(244,109,67)"
          ],
          [
           0.3,
           "rgb(253,174,97)"
          ],
          [
           0.4,
           "rgb(254,224,139)"
          ],
          [
           0.5,
           "rgb(255,255,191)"
          ],
          [
           0.6,
           "rgb(217,239,139)"
          ],
          [
           0.7,
           "rgb(166,217,106)"
          ],
          [
           0.8,
           "rgb(102,189,99)"
          ],
          [
           0.9,
           "rgb(26,152,80)"
          ],
          [
           1,
           "rgb(0,104,55)"
          ]
         ],
         "showscale": false
        },
        "height": 700,
        "legend": {
         "tracegroupgap": 0
        },
        "paper_bgcolor": "white",
        "plot_bgcolor": "white",
        "template": {
         "data": {
          "bar": [
           {
            "error_x": {
             "color": "#2a3f5f"
            },
            "error_y": {
             "color": "#2a3f5f"
            },
            "marker": {
             "line": {
              "color": "#E5ECF6",
              "width": 0.5
             },
             "pattern": {
              "fillmode": "overlay",
              "size": 10,
              "solidity": 0.2
             }
            },
            "type": "bar"
           }
          ],
          "barpolar": [
           {
            "marker": {
             "line": {
              "color": "#E5ECF6",
              "width": 0.5
             },
             "pattern": {
              "fillmode": "overlay",
              "size": 10,
              "solidity": 0.2
             }
            },
            "type": "barpolar"
           }
          ],
          "carpet": [
           {
            "aaxis": {
             "endlinecolor": "#2a3f5f",
             "gridcolor": "white",
             "linecolor": "white",
             "minorgridcolor": "white",
             "startlinecolor": "#2a3f5f"
            },
            "baxis": {
             "endlinecolor": "#2a3f5f",
             "gridcolor": "white",
             "linecolor": "white",
             "minorgridcolor": "white",
             "startlinecolor": "#2a3f5f"
            },
            "type": "carpet"
           }
          ],
          "choropleth": [
           {
            "colorbar": {
             "outlinewidth": 0,
             "ticks": ""
            },
            "type": "choropleth"
           }
          ],
          "contour": [
           {
            "colorbar": {
             "outlinewidth": 0,
             "ticks": ""
            },
            "colorscale": [
             [
              0,
              "#0d0887"
             ],
             [
              0.1111111111111111,
              "#46039f"
             ],
             [
              0.2222222222222222,
              "#7201a8"
             ],
             [
              0.3333333333333333,
              "#9c179e"
             ],
             [
              0.4444444444444444,
              "#bd3786"
             ],
             [
              0.5555555555555556,
              "#d8576b"
             ],
             [
              0.6666666666666666,
              "#ed7953"
             ],
             [
              0.7777777777777778,
              "#fb9f3a"
             ],
             [
              0.8888888888888888,
              "#fdca26"
             ],
             [
              1,
              "#f0f921"
             ]
            ],
            "type": "contour"
           }
          ],
          "contourcarpet": [
           {
            "colorbar": {
             "outlinewidth": 0,
             "ticks": ""
            },
            "type": "contourcarpet"
           }
          ],
          "heatmap": [
           {
            "colorbar": {
             "outlinewidth": 0,
             "ticks": ""
            },
            "colorscale": [
             [
              0,
              "#0d0887"
             ],
             [
              0.1111111111111111,
              "#46039f"
             ],
             [
              0.2222222222222222,
              "#7201a8"
             ],
             [
              0.3333333333333333,
              "#9c179e"
             ],
             [
              0.4444444444444444,
              "#bd3786"
             ],
             [
              0.5555555555555556,
              "#d8576b"
             ],
             [
              0.6666666666666666,
              "#ed7953"
             ],
             [
              0.7777777777777778,
              "#fb9f3a"
             ],
             [
              0.8888888888888888,
              "#fdca26"
             ],
             [
              1,
              "#f0f921"
             ]
            ],
            "type": "heatmap"
           }
          ],
          "histogram": [
           {
            "marker": {
             "pattern": {
              "fillmode": "overlay",
              "size": 10,
              "solidity": 0.2
             }
            },
            "type": "histogram"
           }
          ],
          "histogram2d": [
           {
            "colorbar": {
             "outlinewidth": 0,
             "ticks": ""
            },
            "colorscale": [
             [
              0,
              "#0d0887"
             ],
             [
              0.1111111111111111,
              "#46039f"
             ],
             [
              0.2222222222222222,
              "#7201a8"
             ],
             [
              0.3333333333333333,
              "#9c179e"
             ],
             [
              0.4444444444444444,
              "#bd3786"
             ],
             [
              0.5555555555555556,
              "#d8576b"
             ],
             [
              0.6666666666666666,
              "#ed7953"
             ],
             [
              0.7777777777777778,
              "#fb9f3a"
             ],
             [
              0.8888888888888888,
              "#fdca26"
             ],
             [
              1,
              "#f0f921"
             ]
            ],
            "type": "histogram2d"
           }
          ],
          "histogram2dcontour": [
           {
            "colorbar": {
             "outlinewidth": 0,
             "ticks": ""
            },
            "colorscale": [
             [
              0,
              "#0d0887"
             ],
             [
              0.1111111111111111,
              "#46039f"
             ],
             [
              0.2222222222222222,
              "#7201a8"
             ],
             [
              0.3333333333333333,
              "#9c179e"
             ],
             [
              0.4444444444444444,
              "#bd3786"
             ],
             [
              0.5555555555555556,
              "#d8576b"
             ],
             [
              0.6666666666666666,
              "#ed7953"
             ],
             [
              0.7777777777777778,
              "#fb9f3a"
             ],
             [
              0.8888888888888888,
              "#fdca26"
             ],
             [
              1,
              "#f0f921"
             ]
            ],
            "type": "histogram2dcontour"
           }
          ],
          "mesh3d": [
           {
            "colorbar": {
             "outlinewidth": 0,
             "ticks": ""
            },
            "type": "mesh3d"
           }
          ],
          "parcoords": [
           {
            "line": {
             "colorbar": {
              "outlinewidth": 0,
              "ticks": ""
             }
            },
            "type": "parcoords"
           }
          ],
          "pie": [
           {
            "automargin": true,
            "type": "pie"
           }
          ],
          "scatter": [
           {
            "fillpattern": {
             "fillmode": "overlay",
             "size": 10,
             "solidity": 0.2
            },
            "type": "scatter"
           }
          ],
          "scatter3d": [
           {
            "line": {
             "colorbar": {
              "outlinewidth": 0,
              "ticks": ""
             }
            },
            "marker": {
             "colorbar": {
              "outlinewidth": 0,
              "ticks": ""
             }
            },
            "type": "scatter3d"
           }
          ],
          "scattercarpet": [
           {
            "marker": {
             "colorbar": {
              "outlinewidth": 0,
              "ticks": ""
             }
            },
            "type": "scattercarpet"
           }
          ],
          "scattergeo": [
           {
            "marker": {
             "colorbar": {
              "outlinewidth": 0,
              "ticks": ""
             }
            },
            "type": "scattergeo"
           }
          ],
          "scattergl": [
           {
            "marker": {
             "colorbar": {
              "outlinewidth": 0,
              "ticks": ""
             }
            },
            "type": "scattergl"
           }
          ],
          "scattermap": [
           {
            "marker": {
             "colorbar": {
              "outlinewidth": 0,
              "ticks": ""
             }
            },
            "type": "scattermap"
           }
          ],
          "scattermapbox": [
           {
            "marker": {
             "colorbar": {
              "outlinewidth": 0,
              "ticks": ""
             }
            },
            "type": "scattermapbox"
           }
          ],
          "scatterpolar": [
           {
            "marker": {
             "colorbar": {
              "outlinewidth": 0,
              "ticks": ""
             }
            },
            "type": "scatterpolar"
           }
          ],
          "scatterpolargl": [
           {
            "marker": {
             "colorbar": {
              "outlinewidth": 0,
              "ticks": ""
             }
            },
            "type": "scatterpolargl"
           }
          ],
          "scatterternary": [
           {
            "marker": {
             "colorbar": {
              "outlinewidth": 0,
              "ticks": ""
             }
            },
            "type": "scatterternary"
           }
          ],
          "surface": [
           {
            "colorbar": {
             "outlinewidth": 0,
             "ticks": ""
            },
            "colorscale": [
             [
              0,
              "#0d0887"
             ],
             [
              0.1111111111111111,
              "#46039f"
             ],
             [
              0.2222222222222222,
              "#7201a8"
             ],
             [
              0.3333333333333333,
              "#9c179e"
             ],
             [
              0.4444444444444444,
              "#bd3786"
             ],
             [
              0.5555555555555556,
              "#d8576b"
             ],
             [
              0.6666666666666666,
              "#ed7953"
             ],
             [
              0.7777777777777778,
              "#fb9f3a"
             ],
             [
              0.8888888888888888,
              "#fdca26"
             ],
             [
              1,
              "#f0f921"
             ]
            ],
            "type": "surface"
           }
          ],
          "table": [
           {
            "cells": {
             "fill": {
              "color": "#EBF0F8"
             },
             "line": {
              "color": "white"
             }
            },
            "header": {
             "fill": {
              "color": "#C8D4E3"
             },
             "line": {
              "color": "white"
             }
            },
            "type": "table"
           }
          ]
         },
         "layout": {
          "annotationdefaults": {
           "arrowcolor": "#2a3f5f",
           "arrowhead": 0,
           "arrowwidth": 1
          },
          "autotypenumbers": "strict",
          "coloraxis": {
           "colorbar": {
            "outlinewidth": 0,
            "ticks": ""
           }
          },
          "colorscale": {
           "diverging": [
            [
             0,
             "#8e0152"
            ],
            [
             0.1,
             "#c51b7d"
            ],
            [
             0.2,
             "#de77ae"
            ],
            [
             0.3,
             "#f1b6da"
            ],
            [
             0.4,
             "#fde0ef"
            ],
            [
             0.5,
             "#f7f7f7"
            ],
            [
             0.6,
             "#e6f5d0"
            ],
            [
             0.7,
             "#b8e186"
            ],
            [
             0.8,
             "#7fbc41"
            ],
            [
             0.9,
             "#4d9221"
            ],
            [
             1,
             "#276419"
            ]
           ],
           "sequential": [
            [
             0,
             "#0d0887"
            ],
            [
             0.1111111111111111,
             "#46039f"
            ],
            [
             0.2222222222222222,
             "#7201a8"
            ],
            [
             0.3333333333333333,
             "#9c179e"
            ],
            [
             0.4444444444444444,
             "#bd3786"
            ],
            [
             0.5555555555555556,
             "#d8576b"
            ],
            [
             0.6666666666666666,
             "#ed7953"
            ],
            [
             0.7777777777777778,
             "#fb9f3a"
            ],
            [
             0.8888888888888888,
             "#fdca26"
            ],
            [
             1,
             "#f0f921"
            ]
           ],
           "sequentialminus": [
            [
             0,
             "#0d0887"
            ],
            [
             0.1111111111111111,
             "#46039f"
            ],
            [
             0.2222222222222222,
             "#7201a8"
            ],
            [
             0.3333333333333333,
             "#9c179e"
            ],
            [
             0.4444444444444444,
             "#bd3786"
            ],
            [
             0.5555555555555556,
             "#d8576b"
            ],
            [
             0.6666666666666666,
             "#ed7953"
            ],
            [
             0.7777777777777778,
             "#fb9f3a"
            ],
            [
             0.8888888888888888,
             "#fdca26"
            ],
            [
             1,
             "#f0f921"
            ]
           ]
          },
          "colorway": [
           "#636efa",
           "#EF553B",
           "#00cc96",
           "#ab63fa",
           "#FFA15A",
           "#19d3f3",
           "#FF6692",
           "#B6E880",
           "#FF97FF",
           "#FECB52"
          ],
          "font": {
           "color": "#2a3f5f"
          },
          "geo": {
           "bgcolor": "white",
           "lakecolor": "white",
           "landcolor": "#E5ECF6",
           "showlakes": true,
           "showland": true,
           "subunitcolor": "white"
          },
          "hoverlabel": {
           "align": "left"
          },
          "hovermode": "closest",
          "mapbox": {
           "style": "light"
          },
          "paper_bgcolor": "white",
          "plot_bgcolor": "#E5ECF6",
          "polar": {
           "angularaxis": {
            "gridcolor": "white",
            "linecolor": "white",
            "ticks": ""
           },
           "bgcolor": "#E5ECF6",
           "radialaxis": {
            "gridcolor": "white",
            "linecolor": "white",
            "ticks": ""
           }
          },
          "scene": {
           "xaxis": {
            "backgroundcolor": "#E5ECF6",
            "gridcolor": "white",
            "gridwidth": 2,
            "linecolor": "white",
            "showbackground": true,
            "ticks": "",
            "zerolinecolor": "white"
           },
           "yaxis": {
            "backgroundcolor": "#E5ECF6",
            "gridcolor": "white",
            "gridwidth": 2,
            "linecolor": "white",
            "showbackground": true,
            "ticks": "",
            "zerolinecolor": "white"
           },
           "zaxis": {
            "backgroundcolor": "#E5ECF6",
            "gridcolor": "white",
            "gridwidth": 2,
            "linecolor": "white",
            "showbackground": true,
            "ticks": "",
            "zerolinecolor": "white"
           }
          },
          "shapedefaults": {
           "line": {
            "color": "#2a3f5f"
           }
          },
          "ternary": {
           "aaxis": {
            "gridcolor": "white",
            "linecolor": "white",
            "ticks": ""
           },
           "baxis": {
            "gridcolor": "white",
            "linecolor": "white",
            "ticks": ""
           },
           "bgcolor": "#E5ECF6",
           "caxis": {
            "gridcolor": "white",
            "linecolor": "white",
            "ticks": ""
           }
          },
          "title": {
           "x": 0.05
          },
          "xaxis": {
           "automargin": true,
           "gridcolor": "white",
           "linecolor": "white",
           "ticks": "",
           "title": {
            "standoff": 15
           },
           "zerolinecolor": "white",
           "zerolinewidth": 2
          },
          "yaxis": {
           "automargin": true,
           "gridcolor": "white",
           "linecolor": "white",
           "ticks": "",
           "title": {
            "standoff": 15
           },
           "zerolinecolor": "white",
           "zerolinewidth": 2
          }
         }
        },
        "title": {
         "text": "Presence ( 35)",
         "x": 0.5,
         "xanchor": "center"
        },
        "width": 1200,
        "xaxis": {
         "anchor": "y",
         "domain": [
          0,
          1
         ],
         "gridcolor": "lightgray",
         "showgrid": true,
         "title": {
          "text": "interceptions/90"
         },
         "zeroline": false
        },
        "yaxis": {
         "anchor": "x",
         "domain": [
          0,
          1
         ],
         "gridcolor": "lightgray",
         "showgrid": true,
         "title": {
          "text": "blocks/90"
         },
         "zeroline": false
        }
       }
      }
     },
     "metadata": {},
     "output_type": "display_data"
    }
   ],
   "source": [
    "# Filter data \n",
    "mask = (\n",
    "        (df_players['interceptions/90'] >= 1.5) & \\\n",
    "        (df_players['blocks/90'] >= 0.4) & \\\n",
    "        (df_players['clearances/90'] >= 0.5) & \\\n",
    "        (df_players['price_estimate_M'] <= 40) & \\\n",
    "        (df_players['id'].isin(targets))\n",
    "        \n",
    "        \n",
    ")\n",
    "\n",
    "df_targets = df_players[mask]\n",
    "\n",
    "scatter_plot(df_targets,\n",
    "             x_metric='interceptions/90', \n",
    "             y_metric='blocks/90',\n",
    "             z_metric='clearances/90',\n",
    "             title='Presence', \n",
    "             show_name_label=True\n",
    ")\n",
    "\n",
    "#df_targets = df_players[mask]"
   ]
  },
  {
   "cell_type": "code",
   "execution_count": 19,
   "id": "c367b34a",
   "metadata": {},
   "outputs": [
    {
     "data": {
      "text/plain": [
       "division\n",
       "3F Superliga                            3\n",
       "Bundesliga                              2\n",
       "Campeonato Brasileiro Série A Assaí     4\n",
       "Eredivisie                              3\n",
       "LaLiga EA Sports                        3\n",
       "Liga Portugal Betclic                   4\n",
       "Liga Profesional de Fútbol              9\n",
       "Ligue 1 Uber Eats                       3\n",
       "Serie A TIM                             3\n",
       "Sky Bet Championship                   11\n",
       "Name: id, dtype: int64"
      ]
     },
     "execution_count": 19,
     "metadata": {},
     "output_type": "execute_result"
    }
   ],
   "source": [
    "df_targets.groupby('division')['id'].count()"
   ]
  },
  {
   "cell_type": "code",
   "execution_count": 21,
   "id": "baaaccaa",
   "metadata": {},
   "outputs": [
    {
     "data": {
      "text/html": [
       "<div>\n",
       "<style scoped>\n",
       "    .dataframe tbody tr th:only-of-type {\n",
       "        vertical-align: middle;\n",
       "    }\n",
       "\n",
       "    .dataframe tbody tr th {\n",
       "        vertical-align: top;\n",
       "    }\n",
       "\n",
       "    .dataframe thead th {\n",
       "        text-align: right;\n",
       "    }\n",
       "</style>\n",
       "<table border=\"1\" class=\"dataframe\">\n",
       "  <thead>\n",
       "    <tr style=\"text-align: right;\">\n",
       "      <th></th>\n",
       "      <th>id</th>\n",
       "      <th>name</th>\n",
       "      <th>position</th>\n",
       "      <th>age</th>\n",
       "      <th>height</th>\n",
       "      <th>weight</th>\n",
       "      <th>inf</th>\n",
       "      <th>club</th>\n",
       "      <th>division</th>\n",
       "      <th>nationality</th>\n",
       "      <th>home_grown</th>\n",
       "      <th>personality</th>\n",
       "      <th>media_handling</th>\n",
       "      <th>wage</th>\n",
       "      <th>transfer_value</th>\n",
       "      <th>asking_price</th>\n",
       "      <th>preferred_foot</th>\n",
       "      <th>starts</th>\n",
       "      <th>minutes_played</th>\n",
       "      <th>average_rating</th>\n",
       "      <th>sub_appearances</th>\n",
       "      <th>minutes/game</th>\n",
       "      <th>index</th>\n",
       "      <th>passes_attempted/90</th>\n",
       "      <th>passes_completed/90</th>\n",
       "      <th>pass_completion_%</th>\n",
       "      <th>progressive_passes/90</th>\n",
       "      <th>progressive_pass_rate</th>\n",
       "      <th>key_passes/90</th>\n",
       "      <th>key_pass_%</th>\n",
       "      <th>open_play_key_passes/90</th>\n",
       "      <th>open_play_key_pass_%</th>\n",
       "      <th>chances_created/90</th>\n",
       "      <th>clear_cut_chances_created/90</th>\n",
       "      <th>pressures_attempted/90</th>\n",
       "      <th>pressures_completed/90</th>\n",
       "      <th>pressure_success_%</th>\n",
       "      <th>possession_won/90</th>\n",
       "      <th>possession_lost/90</th>\n",
       "      <th>poss+_/90</th>\n",
       "      <th>poss+__%</th>\n",
       "      <th>tackles_attempted/90</th>\n",
       "      <th>tackles_completed/90</th>\n",
       "      <th>tackle_completion_%</th>\n",
       "      <th>tackles_failed/90</th>\n",
       "      <th>key_tackles/90</th>\n",
       "      <th>tackle_quality</th>\n",
       "      <th>interceptions/90</th>\n",
       "      <th>blocks/90</th>\n",
       "      <th>shots_blocked/90</th>\n",
       "      <th>headers_attempted/90</th>\n",
       "      <th>headers_won/90</th>\n",
       "      <th>headers_won_%</th>\n",
       "      <th>headers_lost/90</th>\n",
       "      <th>headers_lost_%</th>\n",
       "      <th>key_headers/90</th>\n",
       "      <th>aerial_challenges_attempted/90</th>\n",
       "      <th>duels_win_%</th>\n",
       "      <th>fouls_won/90</th>\n",
       "      <th>fouls_committed/90</th>\n",
       "      <th>clearances/90</th>\n",
       "      <th>distance_covered/90</th>\n",
       "      <th>attacking_actions/90</th>\n",
       "      <th>creative_actions/90</th>\n",
       "      <th>defensive_actions/90</th>\n",
       "      <th>excitement_factor/90</th>\n",
       "      <th>general_performance</th>\n",
       "      <th>goalkeeping</th>\n",
       "      <th>defensive_defender</th>\n",
       "      <th>creative_defender</th>\n",
       "      <th>attacking_defender</th>\n",
       "      <th>creative_midfielder</th>\n",
       "      <th>attacking_midfielder</th>\n",
       "      <th>creative_winger</th>\n",
       "      <th>attacking_winger</th>\n",
       "      <th>creative_forward</th>\n",
       "      <th>attacking_forward</th>\n",
       "      <th>finisher</th>\n",
       "      <th>aerial_threat</th>\n",
       "      <th>reader</th>\n",
       "      <th>assister</th>\n",
       "      <th>price_estimate_M</th>\n",
       "    </tr>\n",
       "  </thead>\n",
       "  <tbody>\n",
       "    <tr>\n",
       "      <th>621</th>\n",
       "      <td>2000182795</td>\n",
       "      <td>Archie Gray</td>\n",
       "      <td>DM, M (C)</td>\n",
       "      <td>17</td>\n",
       "      <td>182 cm</td>\n",
       "      <td>72 kg</td>\n",
       "      <td>-</td>\n",
       "      <td>Leeds</td>\n",
       "      <td>Sky Bet Championship</td>\n",
       "      <td>ENG (SCO)</td>\n",
       "      <td>Trained in nation (15-21)</td>\n",
       "      <td>-</td>\n",
       "      <td>Scouting Required</td>\n",
       "      <td>$10,000 p/w</td>\n",
       "      <td>$15M - $19.5M</td>\n",
       "      <td>-</td>\n",
       "      <td>Right</td>\n",
       "      <td>8</td>\n",
       "      <td>858</td>\n",
       "      <td>7.10</td>\n",
       "      <td>12</td>\n",
       "      <td>42.90</td>\n",
       "      <td>621</td>\n",
       "      <td>67.97</td>\n",
       "      <td>60.63</td>\n",
       "      <td>89</td>\n",
       "      <td>6.08</td>\n",
       "      <td>8.95</td>\n",
       "      <td>1.47</td>\n",
       "      <td>2.16</td>\n",
       "      <td>1.36</td>\n",
       "      <td>2.01</td>\n",
       "      <td>0.23</td>\n",
       "      <td>0.21</td>\n",
       "      <td>11.33</td>\n",
       "      <td>3.36</td>\n",
       "      <td>29.63</td>\n",
       "      <td>9.86</td>\n",
       "      <td>9.65</td>\n",
       "      <td>0.21</td>\n",
       "      <td>2.18</td>\n",
       "      <td>3.15</td>\n",
       "      <td>2.52</td>\n",
       "      <td>80</td>\n",
       "      <td>0.63</td>\n",
       "      <td>0.42</td>\n",
       "      <td>4.29</td>\n",
       "      <td>2.41</td>\n",
       "      <td>0.63</td>\n",
       "      <td>0.42</td>\n",
       "      <td>2.83</td>\n",
       "      <td>1.57</td>\n",
       "      <td>55.56</td>\n",
       "      <td>1.26</td>\n",
       "      <td>44.44</td>\n",
       "      <td>0.00</td>\n",
       "      <td>2.83</td>\n",
       "      <td>68.42</td>\n",
       "      <td>0.84</td>\n",
       "      <td>0.73</td>\n",
       "      <td>1.15</td>\n",
       "      <td>14.15</td>\n",
       "      <td>2.54</td>\n",
       "      <td>1.89</td>\n",
       "      <td>15.52</td>\n",
       "      <td>5.45</td>\n",
       "      <td>69</td>\n",
       "      <td>100</td>\n",
       "      <td>96</td>\n",
       "      <td>91</td>\n",
       "      <td>89</td>\n",
       "      <td>87</td>\n",
       "      <td>81</td>\n",
       "      <td>87</td>\n",
       "      <td>88</td>\n",
       "      <td>95</td>\n",
       "      <td>83</td>\n",
       "      <td>96</td>\n",
       "      <td>21</td>\n",
       "      <td>86</td>\n",
       "      <td>28</td>\n",
       "      <td>20.700</td>\n",
       "    </tr>\n",
       "    <tr>\n",
       "      <th>623</th>\n",
       "      <td>2000189871</td>\n",
       "      <td>Lewis Miley</td>\n",
       "      <td>DM, M/AM (C)</td>\n",
       "      <td>17</td>\n",
       "      <td>185 cm</td>\n",
       "      <td>72 kg</td>\n",
       "      <td>-</td>\n",
       "      <td>Leicester</td>\n",
       "      <td>Sky Bet Championship</td>\n",
       "      <td>ENG</td>\n",
       "      <td>Trained in nation (15-21)</td>\n",
       "      <td>-</td>\n",
       "      <td>Scouting Required</td>\n",
       "      <td>$25,000 p/w</td>\n",
       "      <td>$36M - $46M</td>\n",
       "      <td>-</td>\n",
       "      <td>Right</td>\n",
       "      <td>10</td>\n",
       "      <td>933</td>\n",
       "      <td>6.92</td>\n",
       "      <td>4</td>\n",
       "      <td>66.64</td>\n",
       "      <td>623</td>\n",
       "      <td>53.15</td>\n",
       "      <td>48.14</td>\n",
       "      <td>91</td>\n",
       "      <td>3.47</td>\n",
       "      <td>6.53</td>\n",
       "      <td>1.74</td>\n",
       "      <td>3.27</td>\n",
       "      <td>1.74</td>\n",
       "      <td>3.27</td>\n",
       "      <td>0.77</td>\n",
       "      <td>0.77</td>\n",
       "      <td>9.65</td>\n",
       "      <td>2.41</td>\n",
       "      <td>25.00</td>\n",
       "      <td>6.08</td>\n",
       "      <td>8.87</td>\n",
       "      <td>-2.79</td>\n",
       "      <td>-31.45</td>\n",
       "      <td>1.83</td>\n",
       "      <td>1.54</td>\n",
       "      <td>84</td>\n",
       "      <td>0.29</td>\n",
       "      <td>0.10</td>\n",
       "      <td>2.71</td>\n",
       "      <td>1.35</td>\n",
       "      <td>0.29</td>\n",
       "      <td>0.10</td>\n",
       "      <td>3.95</td>\n",
       "      <td>2.80</td>\n",
       "      <td>70.73</td>\n",
       "      <td>1.16</td>\n",
       "      <td>29.27</td>\n",
       "      <td>0.68</td>\n",
       "      <td>3.95</td>\n",
       "      <td>75.00</td>\n",
       "      <td>0.87</td>\n",
       "      <td>0.68</td>\n",
       "      <td>0.48</td>\n",
       "      <td>13.18</td>\n",
       "      <td>3.90</td>\n",
       "      <td>2.89</td>\n",
       "      <td>14.14</td>\n",
       "      <td>7.43</td>\n",
       "      <td>53</td>\n",
       "      <td>100</td>\n",
       "      <td>36</td>\n",
       "      <td>82</td>\n",
       "      <td>81</td>\n",
       "      <td>88</td>\n",
       "      <td>88</td>\n",
       "      <td>84</td>\n",
       "      <td>88</td>\n",
       "      <td>80</td>\n",
       "      <td>85</td>\n",
       "      <td>73</td>\n",
       "      <td>81</td>\n",
       "      <td>46</td>\n",
       "      <td>52</td>\n",
       "      <td>49.200</td>\n",
       "    </tr>\n",
       "    <tr>\n",
       "      <th>624</th>\n",
       "      <td>2000205927</td>\n",
       "      <td>Jobe Bellingham</td>\n",
       "      <td>DM, M/AM (C), ST (C)</td>\n",
       "      <td>18</td>\n",
       "      <td>188 cm</td>\n",
       "      <td>80 kg</td>\n",
       "      <td>Inj</td>\n",
       "      <td>Sunderland</td>\n",
       "      <td>Sky Bet Championship</td>\n",
       "      <td>ENG (IRL)</td>\n",
       "      <td>Trained in nation (15-21)</td>\n",
       "      <td>-</td>\n",
       "      <td>Scouting Required</td>\n",
       "      <td>$9,250 p/w</td>\n",
       "      <td>$8.4M - $11M</td>\n",
       "      <td>-</td>\n",
       "      <td>Right</td>\n",
       "      <td>19</td>\n",
       "      <td>1381</td>\n",
       "      <td>7.00</td>\n",
       "      <td>1</td>\n",
       "      <td>69.05</td>\n",
       "      <td>624</td>\n",
       "      <td>54.87</td>\n",
       "      <td>47.44</td>\n",
       "      <td>86</td>\n",
       "      <td>3.06</td>\n",
       "      <td>5.58</td>\n",
       "      <td>1.37</td>\n",
       "      <td>2.49</td>\n",
       "      <td>1.37</td>\n",
       "      <td>2.49</td>\n",
       "      <td>0.42</td>\n",
       "      <td>0.39</td>\n",
       "      <td>12.84</td>\n",
       "      <td>3.39</td>\n",
       "      <td>26.40</td>\n",
       "      <td>8.80</td>\n",
       "      <td>11.40</td>\n",
       "      <td>-2.60</td>\n",
       "      <td>-22.81</td>\n",
       "      <td>3.32</td>\n",
       "      <td>2.87</td>\n",
       "      <td>86</td>\n",
       "      <td>0.46</td>\n",
       "      <td>0.07</td>\n",
       "      <td>6.38</td>\n",
       "      <td>1.17</td>\n",
       "      <td>0.72</td>\n",
       "      <td>0.07</td>\n",
       "      <td>5.67</td>\n",
       "      <td>3.39</td>\n",
       "      <td>59.77</td>\n",
       "      <td>2.28</td>\n",
       "      <td>40.23</td>\n",
       "      <td>0.98</td>\n",
       "      <td>5.67</td>\n",
       "      <td>69.57</td>\n",
       "      <td>0.59</td>\n",
       "      <td>0.52</td>\n",
       "      <td>0.85</td>\n",
       "      <td>12.81</td>\n",
       "      <td>2.29</td>\n",
       "      <td>2.02</td>\n",
       "      <td>19.39</td>\n",
       "      <td>4.95</td>\n",
       "      <td>51</td>\n",
       "      <td>100</td>\n",
       "      <td>72</td>\n",
       "      <td>24</td>\n",
       "      <td>63</td>\n",
       "      <td>61</td>\n",
       "      <td>61</td>\n",
       "      <td>49</td>\n",
       "      <td>71</td>\n",
       "      <td>76</td>\n",
       "      <td>74</td>\n",
       "      <td>95</td>\n",
       "      <td>94</td>\n",
       "      <td>63</td>\n",
       "      <td>39</td>\n",
       "      <td>11.640</td>\n",
       "    </tr>\n",
       "    <tr>\n",
       "      <th>322</th>\n",
       "      <td>37085322</td>\n",
       "      <td>Lamare Bogarde</td>\n",
       "      <td>D (LC), DM, M (C)</td>\n",
       "      <td>19</td>\n",
       "      <td>183 cm</td>\n",
       "      <td>76 kg</td>\n",
       "      <td>-</td>\n",
       "      <td>Preston</td>\n",
       "      <td>Sky Bet Championship</td>\n",
       "      <td>NED (SUR)</td>\n",
       "      <td>Trained in nation (15-21)</td>\n",
       "      <td>Balanced</td>\n",
       "      <td>Media-friendly</td>\n",
       "      <td>$5,000 p/w</td>\n",
       "      <td>$10.5M - $15.5M</td>\n",
       "      <td>-</td>\n",
       "      <td>Right</td>\n",
       "      <td>16</td>\n",
       "      <td>1213</td>\n",
       "      <td>6.90</td>\n",
       "      <td>1</td>\n",
       "      <td>71.35</td>\n",
       "      <td>322</td>\n",
       "      <td>53.79</td>\n",
       "      <td>47.78</td>\n",
       "      <td>89</td>\n",
       "      <td>4.38</td>\n",
       "      <td>8.14</td>\n",
       "      <td>0.74</td>\n",
       "      <td>1.38</td>\n",
       "      <td>0.74</td>\n",
       "      <td>1.38</td>\n",
       "      <td>0.22</td>\n",
       "      <td>0.22</td>\n",
       "      <td>12.39</td>\n",
       "      <td>2.52</td>\n",
       "      <td>20.36</td>\n",
       "      <td>9.35</td>\n",
       "      <td>7.49</td>\n",
       "      <td>1.86</td>\n",
       "      <td>24.83</td>\n",
       "      <td>3.71</td>\n",
       "      <td>2.52</td>\n",
       "      <td>68</td>\n",
       "      <td>1.19</td>\n",
       "      <td>0.22</td>\n",
       "      <td>2.38</td>\n",
       "      <td>2.15</td>\n",
       "      <td>0.59</td>\n",
       "      <td>0.15</td>\n",
       "      <td>3.71</td>\n",
       "      <td>1.71</td>\n",
       "      <td>46.00</td>\n",
       "      <td>2.00</td>\n",
       "      <td>54.00</td>\n",
       "      <td>0.15</td>\n",
       "      <td>3.71</td>\n",
       "      <td>57.00</td>\n",
       "      <td>0.30</td>\n",
       "      <td>1.56</td>\n",
       "      <td>1.41</td>\n",
       "      <td>13.51</td>\n",
       "      <td>1.45</td>\n",
       "      <td>1.11</td>\n",
       "      <td>13.79</td>\n",
       "      <td>2.30</td>\n",
       "      <td>44</td>\n",
       "      <td>100</td>\n",
       "      <td>87</td>\n",
       "      <td>42</td>\n",
       "      <td>54</td>\n",
       "      <td>46</td>\n",
       "      <td>66</td>\n",
       "      <td>28</td>\n",
       "      <td>44</td>\n",
       "      <td>47</td>\n",
       "      <td>59</td>\n",
       "      <td>86</td>\n",
       "      <td>45</td>\n",
       "      <td>76</td>\n",
       "      <td>30</td>\n",
       "      <td>15.600</td>\n",
       "    </tr>\n",
       "    <tr>\n",
       "      <th>588</th>\n",
       "      <td>2000045039</td>\n",
       "      <td>Jordan James</td>\n",
       "      <td>DM, M (C)</td>\n",
       "      <td>19</td>\n",
       "      <td>178 cm</td>\n",
       "      <td>64 kg</td>\n",
       "      <td>-</td>\n",
       "      <td>Birmingham</td>\n",
       "      <td>Sky Bet Championship</td>\n",
       "      <td>WAL (ENG)</td>\n",
       "      <td>Trained in nation (15-21)</td>\n",
       "      <td>-</td>\n",
       "      <td>Scouting Required</td>\n",
       "      <td>$12,000 p/w</td>\n",
       "      <td>$8.4M - $11M</td>\n",
       "      <td>-</td>\n",
       "      <td>Right</td>\n",
       "      <td>6</td>\n",
       "      <td>854</td>\n",
       "      <td>6.82</td>\n",
       "      <td>14</td>\n",
       "      <td>42.70</td>\n",
       "      <td>588</td>\n",
       "      <td>42.68</td>\n",
       "      <td>38.04</td>\n",
       "      <td>89</td>\n",
       "      <td>1.79</td>\n",
       "      <td>4.20</td>\n",
       "      <td>0.95</td>\n",
       "      <td>2.22</td>\n",
       "      <td>0.95</td>\n",
       "      <td>2.22</td>\n",
       "      <td>0.59</td>\n",
       "      <td>0.53</td>\n",
       "      <td>11.49</td>\n",
       "      <td>2.53</td>\n",
       "      <td>22.02</td>\n",
       "      <td>7.80</td>\n",
       "      <td>8.22</td>\n",
       "      <td>-0.42</td>\n",
       "      <td>-5.11</td>\n",
       "      <td>3.06</td>\n",
       "      <td>2.21</td>\n",
       "      <td>72</td>\n",
       "      <td>0.84</td>\n",
       "      <td>0.11</td>\n",
       "      <td>2.23</td>\n",
       "      <td>1.90</td>\n",
       "      <td>0.42</td>\n",
       "      <td>0.21</td>\n",
       "      <td>4.43</td>\n",
       "      <td>1.90</td>\n",
       "      <td>42.86</td>\n",
       "      <td>2.53</td>\n",
       "      <td>57.14</td>\n",
       "      <td>0.63</td>\n",
       "      <td>4.43</td>\n",
       "      <td>54.93</td>\n",
       "      <td>0.84</td>\n",
       "      <td>1.37</td>\n",
       "      <td>0.95</td>\n",
       "      <td>13.46</td>\n",
       "      <td>2.44</td>\n",
       "      <td>1.58</td>\n",
       "      <td>15.24</td>\n",
       "      <td>4.53</td>\n",
       "      <td>47</td>\n",
       "      <td>100</td>\n",
       "      <td>56</td>\n",
       "      <td>31</td>\n",
       "      <td>54</td>\n",
       "      <td>75</td>\n",
       "      <td>83</td>\n",
       "      <td>61</td>\n",
       "      <td>71</td>\n",
       "      <td>70</td>\n",
       "      <td>78</td>\n",
       "      <td>94</td>\n",
       "      <td>77</td>\n",
       "      <td>73</td>\n",
       "      <td>53</td>\n",
       "      <td>11.640</td>\n",
       "    </tr>\n",
       "    <tr>\n",
       "      <th>...</th>\n",
       "      <td>...</td>\n",
       "      <td>...</td>\n",
       "      <td>...</td>\n",
       "      <td>...</td>\n",
       "      <td>...</td>\n",
       "      <td>...</td>\n",
       "      <td>...</td>\n",
       "      <td>...</td>\n",
       "      <td>...</td>\n",
       "      <td>...</td>\n",
       "      <td>...</td>\n",
       "      <td>...</td>\n",
       "      <td>...</td>\n",
       "      <td>...</td>\n",
       "      <td>...</td>\n",
       "      <td>...</td>\n",
       "      <td>...</td>\n",
       "      <td>...</td>\n",
       "      <td>...</td>\n",
       "      <td>...</td>\n",
       "      <td>...</td>\n",
       "      <td>...</td>\n",
       "      <td>...</td>\n",
       "      <td>...</td>\n",
       "      <td>...</td>\n",
       "      <td>...</td>\n",
       "      <td>...</td>\n",
       "      <td>...</td>\n",
       "      <td>...</td>\n",
       "      <td>...</td>\n",
       "      <td>...</td>\n",
       "      <td>...</td>\n",
       "      <td>...</td>\n",
       "      <td>...</td>\n",
       "      <td>...</td>\n",
       "      <td>...</td>\n",
       "      <td>...</td>\n",
       "      <td>...</td>\n",
       "      <td>...</td>\n",
       "      <td>...</td>\n",
       "      <td>...</td>\n",
       "      <td>...</td>\n",
       "      <td>...</td>\n",
       "      <td>...</td>\n",
       "      <td>...</td>\n",
       "      <td>...</td>\n",
       "      <td>...</td>\n",
       "      <td>...</td>\n",
       "      <td>...</td>\n",
       "      <td>...</td>\n",
       "      <td>...</td>\n",
       "      <td>...</td>\n",
       "      <td>...</td>\n",
       "      <td>...</td>\n",
       "      <td>...</td>\n",
       "      <td>...</td>\n",
       "      <td>...</td>\n",
       "      <td>...</td>\n",
       "      <td>...</td>\n",
       "      <td>...</td>\n",
       "      <td>...</td>\n",
       "      <td>...</td>\n",
       "      <td>...</td>\n",
       "      <td>...</td>\n",
       "      <td>...</td>\n",
       "      <td>...</td>\n",
       "      <td>...</td>\n",
       "      <td>...</td>\n",
       "      <td>...</td>\n",
       "      <td>...</td>\n",
       "      <td>...</td>\n",
       "      <td>...</td>\n",
       "      <td>...</td>\n",
       "      <td>...</td>\n",
       "      <td>...</td>\n",
       "      <td>...</td>\n",
       "      <td>...</td>\n",
       "      <td>...</td>\n",
       "      <td>...</td>\n",
       "      <td>...</td>\n",
       "      <td>...</td>\n",
       "      <td>...</td>\n",
       "    </tr>\n",
       "    <tr>\n",
       "      <th>238</th>\n",
       "      <td>29040682</td>\n",
       "      <td>Liam Palmer</td>\n",
       "      <td>D (RLC), WB (R), DM</td>\n",
       "      <td>32</td>\n",
       "      <td>178 cm</td>\n",
       "      <td>69 kg</td>\n",
       "      <td>-</td>\n",
       "      <td>Sheffield Wednesday</td>\n",
       "      <td>Sky Bet Championship</td>\n",
       "      <td>SCO (ENG)</td>\n",
       "      <td>Trained in nation (15-21)</td>\n",
       "      <td>-</td>\n",
       "      <td>Scouting Required</td>\n",
       "      <td>$18,750 p/w</td>\n",
       "      <td>$140K - $1.4M</td>\n",
       "      <td>-</td>\n",
       "      <td>Right</td>\n",
       "      <td>26</td>\n",
       "      <td>2093</td>\n",
       "      <td>6.85</td>\n",
       "      <td>0</td>\n",
       "      <td>80.50</td>\n",
       "      <td>238</td>\n",
       "      <td>49.54</td>\n",
       "      <td>44.89</td>\n",
       "      <td>91</td>\n",
       "      <td>5.93</td>\n",
       "      <td>11.98</td>\n",
       "      <td>1.08</td>\n",
       "      <td>2.17</td>\n",
       "      <td>1.08</td>\n",
       "      <td>2.17</td>\n",
       "      <td>1.15</td>\n",
       "      <td>0.39</td>\n",
       "      <td>10.28</td>\n",
       "      <td>2.49</td>\n",
       "      <td>24.27</td>\n",
       "      <td>9.68</td>\n",
       "      <td>10.36</td>\n",
       "      <td>-0.68</td>\n",
       "      <td>-6.56</td>\n",
       "      <td>2.58</td>\n",
       "      <td>1.94</td>\n",
       "      <td>75</td>\n",
       "      <td>0.65</td>\n",
       "      <td>0.13</td>\n",
       "      <td>2.40</td>\n",
       "      <td>2.11</td>\n",
       "      <td>0.43</td>\n",
       "      <td>0.17</td>\n",
       "      <td>3.18</td>\n",
       "      <td>1.33</td>\n",
       "      <td>41.89</td>\n",
       "      <td>1.85</td>\n",
       "      <td>58.11</td>\n",
       "      <td>0.04</td>\n",
       "      <td>3.18</td>\n",
       "      <td>56.72</td>\n",
       "      <td>0.77</td>\n",
       "      <td>1.08</td>\n",
       "      <td>0.99</td>\n",
       "      <td>13.63</td>\n",
       "      <td>3.94</td>\n",
       "      <td>2.06</td>\n",
       "      <td>10.66</td>\n",
       "      <td>8.90</td>\n",
       "      <td>88</td>\n",
       "      <td>100</td>\n",
       "      <td>69</td>\n",
       "      <td>88</td>\n",
       "      <td>79</td>\n",
       "      <td>76</td>\n",
       "      <td>81</td>\n",
       "      <td>93</td>\n",
       "      <td>84</td>\n",
       "      <td>87</td>\n",
       "      <td>72</td>\n",
       "      <td>74</td>\n",
       "      <td>19</td>\n",
       "      <td>34</td>\n",
       "      <td>65</td>\n",
       "      <td>0.924</td>\n",
       "    </tr>\n",
       "    <tr>\n",
       "      <th>197</th>\n",
       "      <td>28000909</td>\n",
       "      <td>Matty James</td>\n",
       "      <td>DM, M (C)</td>\n",
       "      <td>32</td>\n",
       "      <td>181 cm</td>\n",
       "      <td>85 kg</td>\n",
       "      <td>-</td>\n",
       "      <td>Bristol City</td>\n",
       "      <td>Sky Bet Championship</td>\n",
       "      <td>ENG</td>\n",
       "      <td>Trained at club (0-21)</td>\n",
       "      <td>-</td>\n",
       "      <td>Scouting Required</td>\n",
       "      <td>$18,500 p/w</td>\n",
       "      <td>$1.5M - $3.3M</td>\n",
       "      <td>-</td>\n",
       "      <td>Right</td>\n",
       "      <td>20</td>\n",
       "      <td>1810</td>\n",
       "      <td>6.99</td>\n",
       "      <td>1</td>\n",
       "      <td>86.19</td>\n",
       "      <td>197</td>\n",
       "      <td>58.03</td>\n",
       "      <td>51.76</td>\n",
       "      <td>89</td>\n",
       "      <td>5.12</td>\n",
       "      <td>8.83</td>\n",
       "      <td>1.19</td>\n",
       "      <td>2.06</td>\n",
       "      <td>1.09</td>\n",
       "      <td>1.89</td>\n",
       "      <td>0.55</td>\n",
       "      <td>0.55</td>\n",
       "      <td>9.55</td>\n",
       "      <td>3.28</td>\n",
       "      <td>34.38</td>\n",
       "      <td>7.86</td>\n",
       "      <td>8.70</td>\n",
       "      <td>-0.84</td>\n",
       "      <td>-9.66</td>\n",
       "      <td>2.44</td>\n",
       "      <td>1.89</td>\n",
       "      <td>78</td>\n",
       "      <td>0.55</td>\n",
       "      <td>0.10</td>\n",
       "      <td>3.06</td>\n",
       "      <td>1.24</td>\n",
       "      <td>0.35</td>\n",
       "      <td>0.05</td>\n",
       "      <td>2.73</td>\n",
       "      <td>1.29</td>\n",
       "      <td>47.27</td>\n",
       "      <td>1.44</td>\n",
       "      <td>52.73</td>\n",
       "      <td>0.15</td>\n",
       "      <td>2.73</td>\n",
       "      <td>61.54</td>\n",
       "      <td>0.55</td>\n",
       "      <td>0.80</td>\n",
       "      <td>0.94</td>\n",
       "      <td>13.32</td>\n",
       "      <td>2.06</td>\n",
       "      <td>1.94</td>\n",
       "      <td>10.76</td>\n",
       "      <td>4.03</td>\n",
       "      <td>80</td>\n",
       "      <td>100</td>\n",
       "      <td>26</td>\n",
       "      <td>57</td>\n",
       "      <td>80</td>\n",
       "      <td>79</td>\n",
       "      <td>84</td>\n",
       "      <td>75</td>\n",
       "      <td>76</td>\n",
       "      <td>70</td>\n",
       "      <td>82</td>\n",
       "      <td>78</td>\n",
       "      <td>33</td>\n",
       "      <td>14</td>\n",
       "      <td>66</td>\n",
       "      <td>2.880</td>\n",
       "    </tr>\n",
       "    <tr>\n",
       "      <th>237</th>\n",
       "      <td>29036830</td>\n",
       "      <td>Sam Morsy</td>\n",
       "      <td>DM, M (C)</td>\n",
       "      <td>32</td>\n",
       "      <td>176 cm</td>\n",
       "      <td>79 kg</td>\n",
       "      <td>-</td>\n",
       "      <td>Ipswich</td>\n",
       "      <td>Sky Bet Championship</td>\n",
       "      <td>EGY (ENG)</td>\n",
       "      <td>Trained in nation (15-21)</td>\n",
       "      <td>-</td>\n",
       "      <td>Scouting Required</td>\n",
       "      <td>$18,750 p/w</td>\n",
       "      <td>Not for Sale</td>\n",
       "      <td>-</td>\n",
       "      <td>Right Only</td>\n",
       "      <td>25</td>\n",
       "      <td>2058</td>\n",
       "      <td>6.97</td>\n",
       "      <td>0</td>\n",
       "      <td>82.32</td>\n",
       "      <td>237</td>\n",
       "      <td>55.63</td>\n",
       "      <td>50.25</td>\n",
       "      <td>90</td>\n",
       "      <td>4.37</td>\n",
       "      <td>7.86</td>\n",
       "      <td>0.92</td>\n",
       "      <td>1.65</td>\n",
       "      <td>0.92</td>\n",
       "      <td>1.65</td>\n",
       "      <td>0.54</td>\n",
       "      <td>0.52</td>\n",
       "      <td>6.30</td>\n",
       "      <td>2.32</td>\n",
       "      <td>36.81</td>\n",
       "      <td>8.18</td>\n",
       "      <td>8.83</td>\n",
       "      <td>-0.65</td>\n",
       "      <td>-7.36</td>\n",
       "      <td>2.45</td>\n",
       "      <td>1.66</td>\n",
       "      <td>68</td>\n",
       "      <td>0.79</td>\n",
       "      <td>0.04</td>\n",
       "      <td>1.75</td>\n",
       "      <td>1.75</td>\n",
       "      <td>0.39</td>\n",
       "      <td>0.22</td>\n",
       "      <td>2.27</td>\n",
       "      <td>0.57</td>\n",
       "      <td>25.00</td>\n",
       "      <td>1.71</td>\n",
       "      <td>75.00</td>\n",
       "      <td>0.22</td>\n",
       "      <td>2.27</td>\n",
       "      <td>47.22</td>\n",
       "      <td>1.01</td>\n",
       "      <td>1.40</td>\n",
       "      <td>0.79</td>\n",
       "      <td>13.92</td>\n",
       "      <td>2.20</td>\n",
       "      <td>1.79</td>\n",
       "      <td>9.55</td>\n",
       "      <td>4.20</td>\n",
       "      <td>89</td>\n",
       "      <td>100</td>\n",
       "      <td>10</td>\n",
       "      <td>68</td>\n",
       "      <td>81</td>\n",
       "      <td>73</td>\n",
       "      <td>80</td>\n",
       "      <td>81</td>\n",
       "      <td>77</td>\n",
       "      <td>77</td>\n",
       "      <td>70</td>\n",
       "      <td>64</td>\n",
       "      <td>29</td>\n",
       "      <td>16</td>\n",
       "      <td>88</td>\n",
       "      <td>NaN</td>\n",
       "    </tr>\n",
       "    <tr>\n",
       "      <th>200</th>\n",
       "      <td>28027622</td>\n",
       "      <td>Adam Forshaw</td>\n",
       "      <td>DM, M (C)</td>\n",
       "      <td>32</td>\n",
       "      <td>177 cm</td>\n",
       "      <td>70 kg</td>\n",
       "      <td>-</td>\n",
       "      <td>Plymouth</td>\n",
       "      <td>Sky Bet Championship</td>\n",
       "      <td>ENG</td>\n",
       "      <td>Trained in nation (15-21)</td>\n",
       "      <td>-</td>\n",
       "      <td>Scouting Required</td>\n",
       "      <td>$9,250 p/w</td>\n",
       "      <td>$70K - $700K</td>\n",
       "      <td>-</td>\n",
       "      <td>Right</td>\n",
       "      <td>13</td>\n",
       "      <td>1405</td>\n",
       "      <td>6.90</td>\n",
       "      <td>12</td>\n",
       "      <td>56.20</td>\n",
       "      <td>200</td>\n",
       "      <td>62.26</td>\n",
       "      <td>54.90</td>\n",
       "      <td>88</td>\n",
       "      <td>5.19</td>\n",
       "      <td>8.33</td>\n",
       "      <td>1.79</td>\n",
       "      <td>2.88</td>\n",
       "      <td>1.02</td>\n",
       "      <td>1.65</td>\n",
       "      <td>1.38</td>\n",
       "      <td>0.45</td>\n",
       "      <td>14.73</td>\n",
       "      <td>3.52</td>\n",
       "      <td>23.91</td>\n",
       "      <td>10.06</td>\n",
       "      <td>9.93</td>\n",
       "      <td>0.13</td>\n",
       "      <td>1.31</td>\n",
       "      <td>2.63</td>\n",
       "      <td>2.24</td>\n",
       "      <td>85</td>\n",
       "      <td>0.38</td>\n",
       "      <td>0.13</td>\n",
       "      <td>2.05</td>\n",
       "      <td>1.99</td>\n",
       "      <td>0.45</td>\n",
       "      <td>0.13</td>\n",
       "      <td>2.95</td>\n",
       "      <td>1.35</td>\n",
       "      <td>45.65</td>\n",
       "      <td>1.60</td>\n",
       "      <td>54.35</td>\n",
       "      <td>0.13</td>\n",
       "      <td>2.95</td>\n",
       "      <td>64.37</td>\n",
       "      <td>0.26</td>\n",
       "      <td>1.28</td>\n",
       "      <td>0.77</td>\n",
       "      <td>14.14</td>\n",
       "      <td>1.64</td>\n",
       "      <td>1.54</td>\n",
       "      <td>12.25</td>\n",
       "      <td>3.65</td>\n",
       "      <td>41</td>\n",
       "      <td>100</td>\n",
       "      <td>64</td>\n",
       "      <td>44</td>\n",
       "      <td>30</td>\n",
       "      <td>72</td>\n",
       "      <td>71</td>\n",
       "      <td>55</td>\n",
       "      <td>67</td>\n",
       "      <td>59</td>\n",
       "      <td>80</td>\n",
       "      <td>79</td>\n",
       "      <td>33</td>\n",
       "      <td>53</td>\n",
       "      <td>38</td>\n",
       "      <td>0.462</td>\n",
       "    </tr>\n",
       "    <tr>\n",
       "      <th>3</th>\n",
       "      <td>12021720</td>\n",
       "      <td>Jean Michaël Séri</td>\n",
       "      <td>DM, M (C)</td>\n",
       "      <td>32</td>\n",
       "      <td>168 cm</td>\n",
       "      <td>69 kg</td>\n",
       "      <td>-</td>\n",
       "      <td>Hull</td>\n",
       "      <td>Sky Bet Championship</td>\n",
       "      <td>CIV</td>\n",
       "      <td>-</td>\n",
       "      <td>-</td>\n",
       "      <td>Scouting Required</td>\n",
       "      <td>$27,500 p/w</td>\n",
       "      <td>$325K - $3.2M</td>\n",
       "      <td>-</td>\n",
       "      <td>Right</td>\n",
       "      <td>15</td>\n",
       "      <td>1379</td>\n",
       "      <td>6.79</td>\n",
       "      <td>5</td>\n",
       "      <td>68.95</td>\n",
       "      <td>3</td>\n",
       "      <td>56.78</td>\n",
       "      <td>50.51</td>\n",
       "      <td>89</td>\n",
       "      <td>5.81</td>\n",
       "      <td>10.23</td>\n",
       "      <td>2.22</td>\n",
       "      <td>3.91</td>\n",
       "      <td>1.04</td>\n",
       "      <td>1.84</td>\n",
       "      <td>0.46</td>\n",
       "      <td>0.46</td>\n",
       "      <td>7.83</td>\n",
       "      <td>2.68</td>\n",
       "      <td>34.17</td>\n",
       "      <td>7.24</td>\n",
       "      <td>9.01</td>\n",
       "      <td>-1.77</td>\n",
       "      <td>-19.64</td>\n",
       "      <td>2.48</td>\n",
       "      <td>1.63</td>\n",
       "      <td>66</td>\n",
       "      <td>0.85</td>\n",
       "      <td>0.13</td>\n",
       "      <td>2.53</td>\n",
       "      <td>1.37</td>\n",
       "      <td>0.26</td>\n",
       "      <td>0.13</td>\n",
       "      <td>1.89</td>\n",
       "      <td>0.26</td>\n",
       "      <td>13.79</td>\n",
       "      <td>1.63</td>\n",
       "      <td>86.21</td>\n",
       "      <td>0.00</td>\n",
       "      <td>1.89</td>\n",
       "      <td>43.28</td>\n",
       "      <td>0.33</td>\n",
       "      <td>0.98</td>\n",
       "      <td>0.65</td>\n",
       "      <td>13.37</td>\n",
       "      <td>1.68</td>\n",
       "      <td>1.63</td>\n",
       "      <td>8.11</td>\n",
       "      <td>3.65</td>\n",
       "      <td>38</td>\n",
       "      <td>100</td>\n",
       "      <td>3</td>\n",
       "      <td>66</td>\n",
       "      <td>59</td>\n",
       "      <td>79</td>\n",
       "      <td>79</td>\n",
       "      <td>69</td>\n",
       "      <td>73</td>\n",
       "      <td>69</td>\n",
       "      <td>83</td>\n",
       "      <td>50</td>\n",
       "      <td>1</td>\n",
       "      <td>4</td>\n",
       "      <td>31</td>\n",
       "      <td>2.115</td>\n",
       "    </tr>\n",
       "  </tbody>\n",
       "</table>\n",
       "<p>78 rows × 82 columns</p>\n",
       "</div>"
      ],
      "text/plain": [
       "             id               name              position  age  height weight  \\\n",
       "621  2000182795        Archie Gray             DM, M (C)   17  182 cm  72 kg   \n",
       "623  2000189871        Lewis Miley          DM, M/AM (C)   17  185 cm  72 kg   \n",
       "624  2000205927    Jobe Bellingham  DM, M/AM (C), ST (C)   18  188 cm  80 kg   \n",
       "322    37085322     Lamare Bogarde     D (LC), DM, M (C)   19  183 cm  76 kg   \n",
       "588  2000045039       Jordan James             DM, M (C)   19  178 cm  64 kg   \n",
       "..          ...                ...                   ...  ...     ...    ...   \n",
       "238    29040682        Liam Palmer   D (RLC), WB (R), DM   32  178 cm  69 kg   \n",
       "197    28000909        Matty James             DM, M (C)   32  181 cm  85 kg   \n",
       "237    29036830          Sam Morsy             DM, M (C)   32  176 cm  79 kg   \n",
       "200    28027622       Adam Forshaw             DM, M (C)   32  177 cm  70 kg   \n",
       "3      12021720  Jean Michaël Séri             DM, M (C)   32  168 cm  69 kg   \n",
       "\n",
       "     inf                 club              division nationality  \\\n",
       "621    -                Leeds  Sky Bet Championship   ENG (SCO)   \n",
       "623    -            Leicester  Sky Bet Championship         ENG   \n",
       "624  Inj           Sunderland  Sky Bet Championship   ENG (IRL)   \n",
       "322    -              Preston  Sky Bet Championship   NED (SUR)   \n",
       "588    -           Birmingham  Sky Bet Championship   WAL (ENG)   \n",
       "..   ...                  ...                   ...         ...   \n",
       "238    -  Sheffield Wednesday  Sky Bet Championship   SCO (ENG)   \n",
       "197    -         Bristol City  Sky Bet Championship         ENG   \n",
       "237    -              Ipswich  Sky Bet Championship   EGY (ENG)   \n",
       "200    -             Plymouth  Sky Bet Championship         ENG   \n",
       "3      -                 Hull  Sky Bet Championship         CIV   \n",
       "\n",
       "                    home_grown personality     media_handling         wage  \\\n",
       "621  Trained in nation (15-21)           -  Scouting Required  $10,000 p/w   \n",
       "623  Trained in nation (15-21)           -  Scouting Required  $25,000 p/w   \n",
       "624  Trained in nation (15-21)           -  Scouting Required   $9,250 p/w   \n",
       "322  Trained in nation (15-21)    Balanced     Media-friendly   $5,000 p/w   \n",
       "588  Trained in nation (15-21)           -  Scouting Required  $12,000 p/w   \n",
       "..                         ...         ...                ...          ...   \n",
       "238  Trained in nation (15-21)           -  Scouting Required  $18,750 p/w   \n",
       "197     Trained at club (0-21)           -  Scouting Required  $18,500 p/w   \n",
       "237  Trained in nation (15-21)           -  Scouting Required  $18,750 p/w   \n",
       "200  Trained in nation (15-21)           -  Scouting Required   $9,250 p/w   \n",
       "3                            -           -  Scouting Required  $27,500 p/w   \n",
       "\n",
       "      transfer_value asking_price preferred_foot  starts  minutes_played  \\\n",
       "621    $15M - $19.5M            -          Right       8             858   \n",
       "623      $36M - $46M            -          Right      10             933   \n",
       "624     $8.4M - $11M            -          Right      19            1381   \n",
       "322  $10.5M - $15.5M            -          Right      16            1213   \n",
       "588     $8.4M - $11M            -          Right       6             854   \n",
       "..               ...          ...            ...     ...             ...   \n",
       "238    $140K - $1.4M            -          Right      26            2093   \n",
       "197    $1.5M - $3.3M            -          Right      20            1810   \n",
       "237     Not for Sale            -     Right Only      25            2058   \n",
       "200     $70K - $700K            -          Right      13            1405   \n",
       "3      $325K - $3.2M            -          Right      15            1379   \n",
       "\n",
       "     average_rating  sub_appearances  minutes/game  index  \\\n",
       "621            7.10               12         42.90    621   \n",
       "623            6.92                4         66.64    623   \n",
       "624            7.00                1         69.05    624   \n",
       "322            6.90                1         71.35    322   \n",
       "588            6.82               14         42.70    588   \n",
       "..              ...              ...           ...    ...   \n",
       "238            6.85                0         80.50    238   \n",
       "197            6.99                1         86.19    197   \n",
       "237            6.97                0         82.32    237   \n",
       "200            6.90               12         56.20    200   \n",
       "3              6.79                5         68.95      3   \n",
       "\n",
       "     passes_attempted/90  passes_completed/90  pass_completion_%  \\\n",
       "621                67.97                60.63                 89   \n",
       "623                53.15                48.14                 91   \n",
       "624                54.87                47.44                 86   \n",
       "322                53.79                47.78                 89   \n",
       "588                42.68                38.04                 89   \n",
       "..                   ...                  ...                ...   \n",
       "238                49.54                44.89                 91   \n",
       "197                58.03                51.76                 89   \n",
       "237                55.63                50.25                 90   \n",
       "200                62.26                54.90                 88   \n",
       "3                  56.78                50.51                 89   \n",
       "\n",
       "     progressive_passes/90  progressive_pass_rate  key_passes/90  key_pass_%  \\\n",
       "621                   6.08                   8.95           1.47        2.16   \n",
       "623                   3.47                   6.53           1.74        3.27   \n",
       "624                   3.06                   5.58           1.37        2.49   \n",
       "322                   4.38                   8.14           0.74        1.38   \n",
       "588                   1.79                   4.20           0.95        2.22   \n",
       "..                     ...                    ...            ...         ...   \n",
       "238                   5.93                  11.98           1.08        2.17   \n",
       "197                   5.12                   8.83           1.19        2.06   \n",
       "237                   4.37                   7.86           0.92        1.65   \n",
       "200                   5.19                   8.33           1.79        2.88   \n",
       "3                     5.81                  10.23           2.22        3.91   \n",
       "\n",
       "     open_play_key_passes/90  open_play_key_pass_%  chances_created/90  \\\n",
       "621                     1.36                  2.01                0.23   \n",
       "623                     1.74                  3.27                0.77   \n",
       "624                     1.37                  2.49                0.42   \n",
       "322                     0.74                  1.38                0.22   \n",
       "588                     0.95                  2.22                0.59   \n",
       "..                       ...                   ...                 ...   \n",
       "238                     1.08                  2.17                1.15   \n",
       "197                     1.09                  1.89                0.55   \n",
       "237                     0.92                  1.65                0.54   \n",
       "200                     1.02                  1.65                1.38   \n",
       "3                       1.04                  1.84                0.46   \n",
       "\n",
       "     clear_cut_chances_created/90  pressures_attempted/90  \\\n",
       "621                          0.21                   11.33   \n",
       "623                          0.77                    9.65   \n",
       "624                          0.39                   12.84   \n",
       "322                          0.22                   12.39   \n",
       "588                          0.53                   11.49   \n",
       "..                            ...                     ...   \n",
       "238                          0.39                   10.28   \n",
       "197                          0.55                    9.55   \n",
       "237                          0.52                    6.30   \n",
       "200                          0.45                   14.73   \n",
       "3                            0.46                    7.83   \n",
       "\n",
       "     pressures_completed/90  pressure_success_%  possession_won/90  \\\n",
       "621                    3.36               29.63               9.86   \n",
       "623                    2.41               25.00               6.08   \n",
       "624                    3.39               26.40               8.80   \n",
       "322                    2.52               20.36               9.35   \n",
       "588                    2.53               22.02               7.80   \n",
       "..                      ...                 ...                ...   \n",
       "238                    2.49               24.27               9.68   \n",
       "197                    3.28               34.38               7.86   \n",
       "237                    2.32               36.81               8.18   \n",
       "200                    3.52               23.91              10.06   \n",
       "3                      2.68               34.17               7.24   \n",
       "\n",
       "     possession_lost/90  poss+_/90  poss+__%  tackles_attempted/90  \\\n",
       "621                9.65       0.21      2.18                  3.15   \n",
       "623                8.87      -2.79    -31.45                  1.83   \n",
       "624               11.40      -2.60    -22.81                  3.32   \n",
       "322                7.49       1.86     24.83                  3.71   \n",
       "588                8.22      -0.42     -5.11                  3.06   \n",
       "..                  ...        ...       ...                   ...   \n",
       "238               10.36      -0.68     -6.56                  2.58   \n",
       "197                8.70      -0.84     -9.66                  2.44   \n",
       "237                8.83      -0.65     -7.36                  2.45   \n",
       "200                9.93       0.13      1.31                  2.63   \n",
       "3                  9.01      -1.77    -19.64                  2.48   \n",
       "\n",
       "     tackles_completed/90  tackle_completion_%  tackles_failed/90  \\\n",
       "621                  2.52                   80               0.63   \n",
       "623                  1.54                   84               0.29   \n",
       "624                  2.87                   86               0.46   \n",
       "322                  2.52                   68               1.19   \n",
       "588                  2.21                   72               0.84   \n",
       "..                    ...                  ...                ...   \n",
       "238                  1.94                   75               0.65   \n",
       "197                  1.89                   78               0.55   \n",
       "237                  1.66                   68               0.79   \n",
       "200                  2.24                   85               0.38   \n",
       "3                    1.63                   66               0.85   \n",
       "\n",
       "     key_tackles/90  tackle_quality  interceptions/90  blocks/90  \\\n",
       "621            0.42            4.29              2.41       0.63   \n",
       "623            0.10            2.71              1.35       0.29   \n",
       "624            0.07            6.38              1.17       0.72   \n",
       "322            0.22            2.38              2.15       0.59   \n",
       "588            0.11            2.23              1.90       0.42   \n",
       "..              ...             ...               ...        ...   \n",
       "238            0.13            2.40              2.11       0.43   \n",
       "197            0.10            3.06              1.24       0.35   \n",
       "237            0.04            1.75              1.75       0.39   \n",
       "200            0.13            2.05              1.99       0.45   \n",
       "3              0.13            2.53              1.37       0.26   \n",
       "\n",
       "     shots_blocked/90  headers_attempted/90  headers_won/90  headers_won_%  \\\n",
       "621              0.42                  2.83            1.57          55.56   \n",
       "623              0.10                  3.95            2.80          70.73   \n",
       "624              0.07                  5.67            3.39          59.77   \n",
       "322              0.15                  3.71            1.71          46.00   \n",
       "588              0.21                  4.43            1.90          42.86   \n",
       "..                ...                   ...             ...            ...   \n",
       "238              0.17                  3.18            1.33          41.89   \n",
       "197              0.05                  2.73            1.29          47.27   \n",
       "237              0.22                  2.27            0.57          25.00   \n",
       "200              0.13                  2.95            1.35          45.65   \n",
       "3                0.13                  1.89            0.26          13.79   \n",
       "\n",
       "     headers_lost/90  headers_lost_%  key_headers/90  \\\n",
       "621             1.26           44.44            0.00   \n",
       "623             1.16           29.27            0.68   \n",
       "624             2.28           40.23            0.98   \n",
       "322             2.00           54.00            0.15   \n",
       "588             2.53           57.14            0.63   \n",
       "..               ...             ...             ...   \n",
       "238             1.85           58.11            0.04   \n",
       "197             1.44           52.73            0.15   \n",
       "237             1.71           75.00            0.22   \n",
       "200             1.60           54.35            0.13   \n",
       "3               1.63           86.21            0.00   \n",
       "\n",
       "     aerial_challenges_attempted/90  duels_win_%  fouls_won/90  \\\n",
       "621                            2.83        68.42          0.84   \n",
       "623                            3.95        75.00          0.87   \n",
       "624                            5.67        69.57          0.59   \n",
       "322                            3.71        57.00          0.30   \n",
       "588                            4.43        54.93          0.84   \n",
       "..                              ...          ...           ...   \n",
       "238                            3.18        56.72          0.77   \n",
       "197                            2.73        61.54          0.55   \n",
       "237                            2.27        47.22          1.01   \n",
       "200                            2.95        64.37          0.26   \n",
       "3                              1.89        43.28          0.33   \n",
       "\n",
       "     fouls_committed/90  clearances/90  distance_covered/90  \\\n",
       "621                0.73           1.15                14.15   \n",
       "623                0.68           0.48                13.18   \n",
       "624                0.52           0.85                12.81   \n",
       "322                1.56           1.41                13.51   \n",
       "588                1.37           0.95                13.46   \n",
       "..                  ...            ...                  ...   \n",
       "238                1.08           0.99                13.63   \n",
       "197                0.80           0.94                13.32   \n",
       "237                1.40           0.79                13.92   \n",
       "200                1.28           0.77                14.14   \n",
       "3                  0.98           0.65                13.37   \n",
       "\n",
       "     attacking_actions/90  creative_actions/90  defensive_actions/90  \\\n",
       "621                  2.54                 1.89                 15.52   \n",
       "623                  3.90                 2.89                 14.14   \n",
       "624                  2.29                 2.02                 19.39   \n",
       "322                  1.45                 1.11                 13.79   \n",
       "588                  2.44                 1.58                 15.24   \n",
       "..                    ...                  ...                   ...   \n",
       "238                  3.94                 2.06                 10.66   \n",
       "197                  2.06                 1.94                 10.76   \n",
       "237                  2.20                 1.79                  9.55   \n",
       "200                  1.64                 1.54                 12.25   \n",
       "3                    1.68                 1.63                  8.11   \n",
       "\n",
       "     excitement_factor/90  general_performance  goalkeeping  \\\n",
       "621                  5.45                   69          100   \n",
       "623                  7.43                   53          100   \n",
       "624                  4.95                   51          100   \n",
       "322                  2.30                   44          100   \n",
       "588                  4.53                   47          100   \n",
       "..                    ...                  ...          ...   \n",
       "238                  8.90                   88          100   \n",
       "197                  4.03                   80          100   \n",
       "237                  4.20                   89          100   \n",
       "200                  3.65                   41          100   \n",
       "3                    3.65                   38          100   \n",
       "\n",
       "     defensive_defender  creative_defender  attacking_defender  \\\n",
       "621                  96                 91                  89   \n",
       "623                  36                 82                  81   \n",
       "624                  72                 24                  63   \n",
       "322                  87                 42                  54   \n",
       "588                  56                 31                  54   \n",
       "..                  ...                ...                 ...   \n",
       "238                  69                 88                  79   \n",
       "197                  26                 57                  80   \n",
       "237                  10                 68                  81   \n",
       "200                  64                 44                  30   \n",
       "3                     3                 66                  59   \n",
       "\n",
       "     creative_midfielder  attacking_midfielder  creative_winger  \\\n",
       "621                   87                    81               87   \n",
       "623                   88                    88               84   \n",
       "624                   61                    61               49   \n",
       "322                   46                    66               28   \n",
       "588                   75                    83               61   \n",
       "..                   ...                   ...              ...   \n",
       "238                   76                    81               93   \n",
       "197                   79                    84               75   \n",
       "237                   73                    80               81   \n",
       "200                   72                    71               55   \n",
       "3                     79                    79               69   \n",
       "\n",
       "     attacking_winger  creative_forward  attacking_forward  finisher  \\\n",
       "621                88                95                 83        96   \n",
       "623                88                80                 85        73   \n",
       "624                71                76                 74        95   \n",
       "322                44                47                 59        86   \n",
       "588                71                70                 78        94   \n",
       "..                ...               ...                ...       ...   \n",
       "238                84                87                 72        74   \n",
       "197                76                70                 82        78   \n",
       "237                77                77                 70        64   \n",
       "200                67                59                 80        79   \n",
       "3                  73                69                 83        50   \n",
       "\n",
       "     aerial_threat  reader  assister  price_estimate_M  \n",
       "621             21      86        28            20.700  \n",
       "623             81      46        52            49.200  \n",
       "624             94      63        39            11.640  \n",
       "322             45      76        30            15.600  \n",
       "588             77      73        53            11.640  \n",
       "..             ...     ...       ...               ...  \n",
       "238             19      34        65             0.924  \n",
       "197             33      14        66             2.880  \n",
       "237             29      16        88               NaN  \n",
       "200             33      53        38             0.462  \n",
       "3                1       4        31             2.115  \n",
       "\n",
       "[78 rows x 82 columns]"
      ]
     },
     "execution_count": 21,
     "metadata": {},
     "output_type": "execute_result"
    }
   ],
   "source": [
    "df_players.groupby('division').get_group('Sky Bet Championship').sort_values('age')"
   ]
  },
  {
   "cell_type": "code",
   "execution_count": null,
   "id": "8d3f5bf1",
   "metadata": {},
   "outputs": [],
   "source": []
  }
 ],
 "metadata": {
  "kernelspec": {
   "display_name": ".venv",
   "language": "python",
   "name": "python3"
  },
  "language_info": {
   "codemirror_mode": {
    "name": "ipython",
    "version": 3
   },
   "file_extension": ".py",
   "mimetype": "text/x-python",
   "name": "python",
   "nbconvert_exporter": "python",
   "pygments_lexer": "ipython3",
   "version": "3.12.7"
  }
 },
 "nbformat": 4,
 "nbformat_minor": 5
}
