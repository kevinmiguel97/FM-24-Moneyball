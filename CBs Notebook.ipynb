{
 "cells": [
  {
   "cell_type": "markdown",
   "id": "b1df530d",
   "metadata": {},
   "source": [
    "# FM 24 Moneyball"
   ]
  },
  {
   "cell_type": "code",
   "execution_count": 1,
   "id": "a0d6d750",
   "metadata": {},
   "outputs": [],
   "source": [
    "import numpy as np\n",
    "import pandas as pd \n",
    "import matplotlib.pyplot as plt\n",
    "import plotly.express as px\n",
    "\n",
    "# Ignore warnings\n",
    "import warnings\n",
    "warnings.filterwarnings('ignore')\n",
    "\n",
    "# Show all columns in pandas\n",
    "pd.set_option('display.max_columns', 500) \n",
    "\n",
    "%matplotlib inline"
   ]
  },
  {
   "cell_type": "markdown",
   "id": "bd53e3cd",
   "metadata": {},
   "source": [
    "## Ingest and clean data"
   ]
  },
  {
   "cell_type": "code",
   "execution_count": 2,
   "id": "7355e71f",
   "metadata": {},
   "outputs": [],
   "source": [
    "### Read raw data\n",
    "\n",
    "# Select file path for raw data\n",
    "path = r\"C:\\Users\\kevmi\\Documents\\FM 24 Moneyball\\FM Data Lab\\Man Utd\\FM 24 exports\\Winter 2023\\Center Backs.html\"\n",
    "\n",
    "# Ingest in a dataframe\n",
    "df_players_raw = pd.read_html(path, encoding='utf-8')[0]\n",
    "\n",
    "# Format column names \n",
    "df_players_raw.columns = [x.lower().strip().replace(' ', '_').replace('-', '_') for x in df_players_raw.columns]\n",
    "\n",
    "# ---------------------------------------------------------------------------------------------------------------------\n",
    "\n",
    "### Read processed Data lab data\n",
    "\n",
    "# Select file path for processed data\n",
    "path = r\"C:\\Users\\kevmi\\Documents\\FM 24 Moneyball\\FM Data Lab\\Man Utd\\FM Data Lab outputs\\Winter 2023\\Center Backs.csv\"\n",
    "\n",
    "# Ingest in a dataframe \n",
    "df_players = pd.read_csv(path)   \n",
    "\n",
    "# Format column names \n",
    "df_players.columns = [x.lower().strip().replace(' ', '_').replace('-', '_') for x in df_players.columns]\n",
    "\n",
    "# Bring ID from raw data\n",
    "df_players = df_players.merge(df_players_raw[['name', 'age', 'height', 'weight', 'uid']], \n",
    "                 left_on=['name', 'age', 'height', 'weight'], \n",
    "                 right_on=['name', 'age', 'height', 'weight']).reset_index().rename(columns={'level_0': 'id'})\n",
    "\n",
    "df_players['id'] = df_players['uid']\n",
    "\n",
    "df_players.drop(columns='uid', inplace=True)"
   ]
  },
  {
   "cell_type": "markdown",
   "id": "a4833287",
   "metadata": {},
   "source": [
    "## Data cleaning"
   ]
  },
  {
   "cell_type": "code",
   "execution_count": 3,
   "id": "82372a19",
   "metadata": {},
   "outputs": [
    {
     "data": {
      "text/html": [
       "<div>\n",
       "<style scoped>\n",
       "    .dataframe tbody tr th:only-of-type {\n",
       "        vertical-align: middle;\n",
       "    }\n",
       "\n",
       "    .dataframe tbody tr th {\n",
       "        vertical-align: top;\n",
       "    }\n",
       "\n",
       "    .dataframe thead th {\n",
       "        text-align: right;\n",
       "    }\n",
       "</style>\n",
       "<table border=\"1\" class=\"dataframe\">\n",
       "  <thead>\n",
       "    <tr style=\"text-align: right;\">\n",
       "      <th></th>\n",
       "      <th>id</th>\n",
       "      <th>name</th>\n",
       "      <th>position</th>\n",
       "      <th>age</th>\n",
       "      <th>height</th>\n",
       "      <th>weight</th>\n",
       "      <th>inf</th>\n",
       "      <th>club</th>\n",
       "      <th>division</th>\n",
       "      <th>nationality</th>\n",
       "      <th>home_grown</th>\n",
       "      <th>personality</th>\n",
       "      <th>media_handling</th>\n",
       "      <th>wage</th>\n",
       "      <th>transfer_value</th>\n",
       "      <th>asking_price</th>\n",
       "      <th>preferred_foot</th>\n",
       "      <th>starts</th>\n",
       "      <th>minutes_played</th>\n",
       "      <th>average_rating</th>\n",
       "      <th>sub_appearances</th>\n",
       "      <th>minutes/game</th>\n",
       "      <th>index</th>\n",
       "      <th>passes_attempted/90</th>\n",
       "      <th>passes_completed/90</th>\n",
       "      <th>pass_completion_%</th>\n",
       "      <th>progressive_passes/90</th>\n",
       "      <th>progressive_pass_rate</th>\n",
       "      <th>key_passes/90</th>\n",
       "      <th>key_pass_%</th>\n",
       "      <th>open_play_key_passes/90</th>\n",
       "      <th>open_play_key_pass_%</th>\n",
       "      <th>tackles_attempted/90</th>\n",
       "      <th>tackles_completed/90</th>\n",
       "      <th>tackle_completion_%</th>\n",
       "      <th>tackles_failed/90</th>\n",
       "      <th>key_tackles/90</th>\n",
       "      <th>tackle_quality</th>\n",
       "      <th>interceptions/90</th>\n",
       "      <th>blocks/90</th>\n",
       "      <th>shots_blocked/90</th>\n",
       "      <th>headers_attempted/90</th>\n",
       "      <th>headers_won/90</th>\n",
       "      <th>headers_won_%</th>\n",
       "      <th>headers_lost/90</th>\n",
       "      <th>headers_lost_%</th>\n",
       "      <th>key_headers/90</th>\n",
       "      <th>aerial_challenges_attempted/90</th>\n",
       "      <th>duels_win_%</th>\n",
       "      <th>fouls_won/90</th>\n",
       "      <th>fouls_committed/90</th>\n",
       "      <th>clearances/90</th>\n",
       "      <th>attacking_actions/90</th>\n",
       "      <th>creative_actions/90</th>\n",
       "      <th>defensive_actions/90</th>\n",
       "      <th>excitement_factor/90</th>\n",
       "      <th>general_performance</th>\n",
       "      <th>goalkeeping</th>\n",
       "      <th>defensive_defender</th>\n",
       "      <th>creative_defender</th>\n",
       "      <th>attacking_defender</th>\n",
       "      <th>creative_midfielder</th>\n",
       "      <th>attacking_midfielder</th>\n",
       "      <th>creative_winger</th>\n",
       "      <th>attacking_winger</th>\n",
       "      <th>creative_forward</th>\n",
       "      <th>attacking_forward</th>\n",
       "      <th>finisher</th>\n",
       "      <th>aerial_threat</th>\n",
       "      <th>reader</th>\n",
       "      <th>assister</th>\n",
       "    </tr>\n",
       "  </thead>\n",
       "  <tbody>\n",
       "    <tr>\n",
       "      <th>0</th>\n",
       "      <td>168288</td>\n",
       "      <td>Robin Pröpper</td>\n",
       "      <td>D (C)</td>\n",
       "      <td>30</td>\n",
       "      <td>190 cm</td>\n",
       "      <td>80 kg</td>\n",
       "      <td>-</td>\n",
       "      <td>FC Twente</td>\n",
       "      <td>Eredivisie</td>\n",
       "      <td>NED</td>\n",
       "      <td>-</td>\n",
       "      <td>-</td>\n",
       "      <td>Scouting Required</td>\n",
       "      <td>$2,700 p/w</td>\n",
       "      <td>$850K - $8.4M</td>\n",
       "      <td>-</td>\n",
       "      <td>Right</td>\n",
       "      <td>17</td>\n",
       "      <td>1575</td>\n",
       "      <td>6.69</td>\n",
       "      <td>1</td>\n",
       "      <td>87.50</td>\n",
       "      <td>0</td>\n",
       "      <td>56.17</td>\n",
       "      <td>47.20</td>\n",
       "      <td>84</td>\n",
       "      <td>4.69</td>\n",
       "      <td>8.34</td>\n",
       "      <td>0.23</td>\n",
       "      <td>0.41</td>\n",
       "      <td>0.23</td>\n",
       "      <td>0.41</td>\n",
       "      <td>0.86</td>\n",
       "      <td>0.57</td>\n",
       "      <td>67</td>\n",
       "      <td>0.29</td>\n",
       "      <td>0.17</td>\n",
       "      <td>1.50</td>\n",
       "      <td>1.09</td>\n",
       "      <td>0.23</td>\n",
       "      <td>0.23</td>\n",
       "      <td>7.54</td>\n",
       "      <td>4.57</td>\n",
       "      <td>60.61</td>\n",
       "      <td>2.97</td>\n",
       "      <td>39.39</td>\n",
       "      <td>1.03</td>\n",
       "      <td>7.54</td>\n",
       "      <td>61.22</td>\n",
       "      <td>0.00</td>\n",
       "      <td>0.57</td>\n",
       "      <td>1.71</td>\n",
       "      <td>0.11</td>\n",
       "      <td>0.29</td>\n",
       "      <td>17.69</td>\n",
       "      <td>0.74</td>\n",
       "      <td>4</td>\n",
       "      <td>100</td>\n",
       "      <td>1</td>\n",
       "      <td>3</td>\n",
       "      <td>11</td>\n",
       "      <td>6</td>\n",
       "      <td>4</td>\n",
       "      <td>5</td>\n",
       "      <td>7</td>\n",
       "      <td>12</td>\n",
       "      <td>9</td>\n",
       "      <td>15</td>\n",
       "      <td>73</td>\n",
       "      <td>13</td>\n",
       "      <td>16</td>\n",
       "    </tr>\n",
       "    <tr>\n",
       "      <th>1</th>\n",
       "      <td>211232</td>\n",
       "      <td>Djéné Dakonam</td>\n",
       "      <td>D (RC), DM</td>\n",
       "      <td>31</td>\n",
       "      <td>178 cm</td>\n",
       "      <td>71 kg</td>\n",
       "      <td>-</td>\n",
       "      <td>Getafe</td>\n",
       "      <td>LaLiga EA Sports</td>\n",
       "      <td>TOG (BEN)</td>\n",
       "      <td>-</td>\n",
       "      <td>-</td>\n",
       "      <td>Scouting Required</td>\n",
       "      <td>$20,500 p/w</td>\n",
       "      <td>$150K - $10.5M</td>\n",
       "      <td>-</td>\n",
       "      <td>Right</td>\n",
       "      <td>17</td>\n",
       "      <td>1496</td>\n",
       "      <td>6.56</td>\n",
       "      <td>0</td>\n",
       "      <td>88.00</td>\n",
       "      <td>1</td>\n",
       "      <td>43.38</td>\n",
       "      <td>38.08</td>\n",
       "      <td>88</td>\n",
       "      <td>4.03</td>\n",
       "      <td>9.29</td>\n",
       "      <td>0.48</td>\n",
       "      <td>1.11</td>\n",
       "      <td>0.48</td>\n",
       "      <td>1.11</td>\n",
       "      <td>3.73</td>\n",
       "      <td>3.07</td>\n",
       "      <td>82</td>\n",
       "      <td>0.66</td>\n",
       "      <td>0.24</td>\n",
       "      <td>2.07</td>\n",
       "      <td>1.93</td>\n",
       "      <td>0.78</td>\n",
       "      <td>0.42</td>\n",
       "      <td>3.79</td>\n",
       "      <td>2.35</td>\n",
       "      <td>61.90</td>\n",
       "      <td>1.44</td>\n",
       "      <td>38.10</td>\n",
       "      <td>0.24</td>\n",
       "      <td>3.79</td>\n",
       "      <td>72.00</td>\n",
       "      <td>0.24</td>\n",
       "      <td>1.80</td>\n",
       "      <td>1.56</td>\n",
       "      <td>0.59</td>\n",
       "      <td>0.78</td>\n",
       "      <td>16.00</td>\n",
       "      <td>2.29</td>\n",
       "      <td>44</td>\n",
       "      <td>100</td>\n",
       "      <td>73</td>\n",
       "      <td>52</td>\n",
       "      <td>44</td>\n",
       "      <td>30</td>\n",
       "      <td>27</td>\n",
       "      <td>42</td>\n",
       "      <td>54</td>\n",
       "      <td>42</td>\n",
       "      <td>43</td>\n",
       "      <td>20</td>\n",
       "      <td>5</td>\n",
       "      <td>23</td>\n",
       "      <td>67</td>\n",
       "    </tr>\n",
       "    <tr>\n",
       "      <th>2</th>\n",
       "      <td>11023165</td>\n",
       "      <td>Amir Rrahmani</td>\n",
       "      <td>D (C)</td>\n",
       "      <td>29</td>\n",
       "      <td>192 cm</td>\n",
       "      <td>83 kg</td>\n",
       "      <td>nEU</td>\n",
       "      <td>Napoli</td>\n",
       "      <td>Serie A TIM</td>\n",
       "      <td>KOS (ALB)</td>\n",
       "      <td>-</td>\n",
       "      <td>-</td>\n",
       "      <td>Scouting Required</td>\n",
       "      <td>$66,000 p/w</td>\n",
       "      <td>$46M - $57M</td>\n",
       "      <td>-</td>\n",
       "      <td>Right</td>\n",
       "      <td>19</td>\n",
       "      <td>1552</td>\n",
       "      <td>6.85</td>\n",
       "      <td>0</td>\n",
       "      <td>81.68</td>\n",
       "      <td>2</td>\n",
       "      <td>64.19</td>\n",
       "      <td>57.70</td>\n",
       "      <td>90</td>\n",
       "      <td>6.55</td>\n",
       "      <td>10.21</td>\n",
       "      <td>0.23</td>\n",
       "      <td>0.36</td>\n",
       "      <td>0.23</td>\n",
       "      <td>0.36</td>\n",
       "      <td>1.45</td>\n",
       "      <td>0.93</td>\n",
       "      <td>64</td>\n",
       "      <td>0.52</td>\n",
       "      <td>0.00</td>\n",
       "      <td>2.27</td>\n",
       "      <td>1.62</td>\n",
       "      <td>0.46</td>\n",
       "      <td>0.23</td>\n",
       "      <td>7.94</td>\n",
       "      <td>5.86</td>\n",
       "      <td>73.72</td>\n",
       "      <td>2.09</td>\n",
       "      <td>26.28</td>\n",
       "      <td>0.64</td>\n",
       "      <td>7.94</td>\n",
       "      <td>72.22</td>\n",
       "      <td>0.17</td>\n",
       "      <td>0.64</td>\n",
       "      <td>1.10</td>\n",
       "      <td>0.55</td>\n",
       "      <td>0.23</td>\n",
       "      <td>14.85</td>\n",
       "      <td>0.93</td>\n",
       "      <td>32</td>\n",
       "      <td>100</td>\n",
       "      <td>3</td>\n",
       "      <td>35</td>\n",
       "      <td>44</td>\n",
       "      <td>64</td>\n",
       "      <td>79</td>\n",
       "      <td>54</td>\n",
       "      <td>68</td>\n",
       "      <td>62</td>\n",
       "      <td>75</td>\n",
       "      <td>84</td>\n",
       "      <td>64</td>\n",
       "      <td>11</td>\n",
       "      <td>32</td>\n",
       "    </tr>\n",
       "    <tr>\n",
       "      <th>3</th>\n",
       "      <td>12038706</td>\n",
       "      <td>Ramy Bensebaïni</td>\n",
       "      <td>D (LC), WB (L)</td>\n",
       "      <td>28</td>\n",
       "      <td>187 cm</td>\n",
       "      <td>85 kg</td>\n",
       "      <td>-</td>\n",
       "      <td>Borussia Dortmund</td>\n",
       "      <td>Bundesliga</td>\n",
       "      <td>ALG</td>\n",
       "      <td>-</td>\n",
       "      <td>-</td>\n",
       "      <td>Scouting Required</td>\n",
       "      <td>$125,000 p/w</td>\n",
       "      <td>$36M - $57M</td>\n",
       "      <td>-</td>\n",
       "      <td>Left</td>\n",
       "      <td>12</td>\n",
       "      <td>1058</td>\n",
       "      <td>7.04</td>\n",
       "      <td>8</td>\n",
       "      <td>52.90</td>\n",
       "      <td>3</td>\n",
       "      <td>59.80</td>\n",
       "      <td>53.17</td>\n",
       "      <td>89</td>\n",
       "      <td>6.21</td>\n",
       "      <td>10.38</td>\n",
       "      <td>1.45</td>\n",
       "      <td>2.42</td>\n",
       "      <td>1.19</td>\n",
       "      <td>1.99</td>\n",
       "      <td>3.23</td>\n",
       "      <td>2.47</td>\n",
       "      <td>76</td>\n",
       "      <td>0.77</td>\n",
       "      <td>0.09</td>\n",
       "      <td>2.00</td>\n",
       "      <td>2.30</td>\n",
       "      <td>0.94</td>\n",
       "      <td>0.34</td>\n",
       "      <td>8.51</td>\n",
       "      <td>6.98</td>\n",
       "      <td>82.00</td>\n",
       "      <td>1.53</td>\n",
       "      <td>18.00</td>\n",
       "      <td>1.19</td>\n",
       "      <td>8.51</td>\n",
       "      <td>80.43</td>\n",
       "      <td>1.02</td>\n",
       "      <td>1.62</td>\n",
       "      <td>0.51</td>\n",
       "      <td>2.33</td>\n",
       "      <td>2.21</td>\n",
       "      <td>24.11</td>\n",
       "      <td>4.76</td>\n",
       "      <td>96</td>\n",
       "      <td>100</td>\n",
       "      <td>69</td>\n",
       "      <td>99</td>\n",
       "      <td>99</td>\n",
       "      <td>96</td>\n",
       "      <td>97</td>\n",
       "      <td>98</td>\n",
       "      <td>99</td>\n",
       "      <td>99</td>\n",
       "      <td>98</td>\n",
       "      <td>90</td>\n",
       "      <td>94</td>\n",
       "      <td>96</td>\n",
       "      <td>96</td>\n",
       "    </tr>\n",
       "    <tr>\n",
       "      <th>4</th>\n",
       "      <td>12078947</td>\n",
       "      <td>Wilfried Singo</td>\n",
       "      <td>D (RC), WB/M (R)</td>\n",
       "      <td>23</td>\n",
       "      <td>190 cm</td>\n",
       "      <td>79 kg</td>\n",
       "      <td>-</td>\n",
       "      <td>Monaco</td>\n",
       "      <td>Ligue 1 Uber Eats</td>\n",
       "      <td>CIV</td>\n",
       "      <td>-</td>\n",
       "      <td>-</td>\n",
       "      <td>Scouting Required</td>\n",
       "      <td>$33,000 p/w</td>\n",
       "      <td>$26M - $34M</td>\n",
       "      <td>-</td>\n",
       "      <td>Right</td>\n",
       "      <td>15</td>\n",
       "      <td>1312</td>\n",
       "      <td>7.32</td>\n",
       "      <td>0</td>\n",
       "      <td>87.47</td>\n",
       "      <td>4</td>\n",
       "      <td>72.03</td>\n",
       "      <td>67.16</td>\n",
       "      <td>93</td>\n",
       "      <td>5.69</td>\n",
       "      <td>7.90</td>\n",
       "      <td>1.10</td>\n",
       "      <td>1.52</td>\n",
       "      <td>1.10</td>\n",
       "      <td>1.52</td>\n",
       "      <td>2.47</td>\n",
       "      <td>2.13</td>\n",
       "      <td>86</td>\n",
       "      <td>0.34</td>\n",
       "      <td>0.00</td>\n",
       "      <td>1.57</td>\n",
       "      <td>2.74</td>\n",
       "      <td>0.41</td>\n",
       "      <td>0.21</td>\n",
       "      <td>5.42</td>\n",
       "      <td>3.36</td>\n",
       "      <td>62.03</td>\n",
       "      <td>2.06</td>\n",
       "      <td>37.97</td>\n",
       "      <td>0.41</td>\n",
       "      <td>5.42</td>\n",
       "      <td>69.57</td>\n",
       "      <td>1.10</td>\n",
       "      <td>1.58</td>\n",
       "      <td>1.17</td>\n",
       "      <td>3.25</td>\n",
       "      <td>2.13</td>\n",
       "      <td>14.57</td>\n",
       "      <td>10.02</td>\n",
       "      <td>99</td>\n",
       "      <td>100</td>\n",
       "      <td>59</td>\n",
       "      <td>99</td>\n",
       "      <td>98</td>\n",
       "      <td>98</td>\n",
       "      <td>99</td>\n",
       "      <td>99</td>\n",
       "      <td>98</td>\n",
       "      <td>98</td>\n",
       "      <td>98</td>\n",
       "      <td>91</td>\n",
       "      <td>20</td>\n",
       "      <td>20</td>\n",
       "      <td>99</td>\n",
       "    </tr>\n",
       "  </tbody>\n",
       "</table>\n",
       "</div>"
      ],
      "text/plain": [
       "         id             name          position  age  height weight  inf  \\\n",
       "0    168288    Robin Pröpper             D (C)   30  190 cm  80 kg    -   \n",
       "1    211232    Djéné Dakonam        D (RC), DM   31  178 cm  71 kg    -   \n",
       "2  11023165    Amir Rrahmani             D (C)   29  192 cm  83 kg  nEU   \n",
       "3  12038706  Ramy Bensebaïni    D (LC), WB (L)   28  187 cm  85 kg    -   \n",
       "4  12078947   Wilfried Singo  D (RC), WB/M (R)   23  190 cm  79 kg    -   \n",
       "\n",
       "                club           division nationality home_grown personality  \\\n",
       "0          FC Twente         Eredivisie         NED          -           -   \n",
       "1             Getafe   LaLiga EA Sports   TOG (BEN)          -           -   \n",
       "2             Napoli        Serie A TIM   KOS (ALB)          -           -   \n",
       "3  Borussia Dortmund         Bundesliga         ALG          -           -   \n",
       "4             Monaco  Ligue 1 Uber Eats         CIV          -           -   \n",
       "\n",
       "      media_handling          wage  transfer_value asking_price  \\\n",
       "0  Scouting Required    $2,700 p/w   $850K - $8.4M            -   \n",
       "1  Scouting Required   $20,500 p/w  $150K - $10.5M            -   \n",
       "2  Scouting Required   $66,000 p/w     $46M - $57M            -   \n",
       "3  Scouting Required  $125,000 p/w     $36M - $57M            -   \n",
       "4  Scouting Required   $33,000 p/w     $26M - $34M            -   \n",
       "\n",
       "  preferred_foot  starts  minutes_played  average_rating  sub_appearances  \\\n",
       "0          Right      17            1575            6.69                1   \n",
       "1          Right      17            1496            6.56                0   \n",
       "2          Right      19            1552            6.85                0   \n",
       "3           Left      12            1058            7.04                8   \n",
       "4          Right      15            1312            7.32                0   \n",
       "\n",
       "   minutes/game  index  passes_attempted/90  passes_completed/90  \\\n",
       "0         87.50      0                56.17                47.20   \n",
       "1         88.00      1                43.38                38.08   \n",
       "2         81.68      2                64.19                57.70   \n",
       "3         52.90      3                59.80                53.17   \n",
       "4         87.47      4                72.03                67.16   \n",
       "\n",
       "   pass_completion_%  progressive_passes/90  progressive_pass_rate  \\\n",
       "0                 84                   4.69                   8.34   \n",
       "1                 88                   4.03                   9.29   \n",
       "2                 90                   6.55                  10.21   \n",
       "3                 89                   6.21                  10.38   \n",
       "4                 93                   5.69                   7.90   \n",
       "\n",
       "   key_passes/90  key_pass_%  open_play_key_passes/90  open_play_key_pass_%  \\\n",
       "0           0.23        0.41                     0.23                  0.41   \n",
       "1           0.48        1.11                     0.48                  1.11   \n",
       "2           0.23        0.36                     0.23                  0.36   \n",
       "3           1.45        2.42                     1.19                  1.99   \n",
       "4           1.10        1.52                     1.10                  1.52   \n",
       "\n",
       "   tackles_attempted/90  tackles_completed/90  tackle_completion_%  \\\n",
       "0                  0.86                  0.57                   67   \n",
       "1                  3.73                  3.07                   82   \n",
       "2                  1.45                  0.93                   64   \n",
       "3                  3.23                  2.47                   76   \n",
       "4                  2.47                  2.13                   86   \n",
       "\n",
       "   tackles_failed/90  key_tackles/90  tackle_quality  interceptions/90  \\\n",
       "0               0.29            0.17            1.50              1.09   \n",
       "1               0.66            0.24            2.07              1.93   \n",
       "2               0.52            0.00            2.27              1.62   \n",
       "3               0.77            0.09            2.00              2.30   \n",
       "4               0.34            0.00            1.57              2.74   \n",
       "\n",
       "   blocks/90  shots_blocked/90  headers_attempted/90  headers_won/90  \\\n",
       "0       0.23              0.23                  7.54            4.57   \n",
       "1       0.78              0.42                  3.79            2.35   \n",
       "2       0.46              0.23                  7.94            5.86   \n",
       "3       0.94              0.34                  8.51            6.98   \n",
       "4       0.41              0.21                  5.42            3.36   \n",
       "\n",
       "   headers_won_%  headers_lost/90  headers_lost_%  key_headers/90  \\\n",
       "0          60.61             2.97           39.39            1.03   \n",
       "1          61.90             1.44           38.10            0.24   \n",
       "2          73.72             2.09           26.28            0.64   \n",
       "3          82.00             1.53           18.00            1.19   \n",
       "4          62.03             2.06           37.97            0.41   \n",
       "\n",
       "   aerial_challenges_attempted/90  duels_win_%  fouls_won/90  \\\n",
       "0                            7.54        61.22          0.00   \n",
       "1                            3.79        72.00          0.24   \n",
       "2                            7.94        72.22          0.17   \n",
       "3                            8.51        80.43          1.02   \n",
       "4                            5.42        69.57          1.10   \n",
       "\n",
       "   fouls_committed/90  clearances/90  attacking_actions/90  \\\n",
       "0                0.57           1.71                  0.11   \n",
       "1                1.80           1.56                  0.59   \n",
       "2                0.64           1.10                  0.55   \n",
       "3                1.62           0.51                  2.33   \n",
       "4                1.58           1.17                  3.25   \n",
       "\n",
       "   creative_actions/90  defensive_actions/90  excitement_factor/90  \\\n",
       "0                 0.29                 17.69                  0.74   \n",
       "1                 0.78                 16.00                  2.29   \n",
       "2                 0.23                 14.85                  0.93   \n",
       "3                 2.21                 24.11                  4.76   \n",
       "4                 2.13                 14.57                 10.02   \n",
       "\n",
       "   general_performance  goalkeeping  defensive_defender  creative_defender  \\\n",
       "0                    4          100                   1                  3   \n",
       "1                   44          100                  73                 52   \n",
       "2                   32          100                   3                 35   \n",
       "3                   96          100                  69                 99   \n",
       "4                   99          100                  59                 99   \n",
       "\n",
       "   attacking_defender  creative_midfielder  attacking_midfielder  \\\n",
       "0                  11                    6                     4   \n",
       "1                  44                   30                    27   \n",
       "2                  44                   64                    79   \n",
       "3                  99                   96                    97   \n",
       "4                  98                   98                    99   \n",
       "\n",
       "   creative_winger  attacking_winger  creative_forward  attacking_forward  \\\n",
       "0                5                 7                12                  9   \n",
       "1               42                54                42                 43   \n",
       "2               54                68                62                 75   \n",
       "3               98                99                99                 98   \n",
       "4               99                98                98                 98   \n",
       "\n",
       "   finisher  aerial_threat  reader  assister  \n",
       "0        15             73      13        16  \n",
       "1        20              5      23        67  \n",
       "2        84             64      11        32  \n",
       "3        90             94      96        96  \n",
       "4        91             20      20        99  "
      ]
     },
     "execution_count": 3,
     "metadata": {},
     "output_type": "execute_result"
    }
   ],
   "source": [
    "df_players.head()"
   ]
  },
  {
   "cell_type": "markdown",
   "id": "1fcc54e7",
   "metadata": {},
   "source": [
    "## Pass quality"
   ]
  },
  {
   "cell_type": "code",
   "execution_count": 4,
   "id": "125bd65d",
   "metadata": {},
   "outputs": [
    {
     "data": {
      "application/vnd.plotly.v1+json": {
       "config": {
        "plotlyServerURL": "https://plot.ly"
       },
       "data": [
        {
         "hovertemplate": "<b>%{text}</b><br><br>Passes Attempted/90: %{x}<br>Progressive Passes/90: %{y}<br>Pass Completion %: %{marker.color}<extra></extra>",
         "legendgroup": "",
         "marker": {
          "color": {
           "bdata": "VFhaWV1bXVxfXlxbWlpgXVtYXVVWWFxYWVlbXVtSWFpeWF5YVVdYXl5bWVtaWltbWVxbWlFcXFtaWlZZXFdcX1VaWl9eWl1WWmBZWFtYWlxbWFxXWlVcW1pcVF1bXV5aXVtWXF5cWF1bXVpaU1xSXV1dWFlcXl1cXF1WX1NcXVxbV1leXFhWWFpdW1ddXVxZXVpbVF5dVlheXF5aXVBaW1teXV1cW1xZX1xSWVdbW1ldXFBaWVdcXFldWVRdXlhaXFhdXllfXFVXWlhZW1lZVlpcWFxWW1VbWVFYWlhdX1tNWl1bVk1fXVZTVV1ZXFxeWlteVV1cXllYWV1bXE9cWl5YUl9aWFlZVV1eXFZdW1xZW1hgW1ddVVlTWltVXV1bW11eWFxZXV1TWVRcW1lbVFldXVNeXFlWW1tWVV5eVltZX1tfVl1gXllaWVhaXlpfV11eVV9dXVhbXl1cXFlYWl5aWVdUVF9eWFteWFpdWVtVXltVXF9aX19ZXVJYWldOXl5fUl1eXFxbVl1RXlldXFlUX19eXl5aWF9eXlxdW15TXFtZXF1eXVtfXVhaWVNeV1xZWlhZXVpcX1peXFRcWl1fWlxfWlpdWVxaXl5ZYFlgXl9eVV9gX11bXVZdW1ZaWF5dX1pZXVpdXVZfXVtdV1hXWVNWV1pbWlpVVl5YXVxbV1hbU11YXFhXV1xZVFtbXF1aWl5WU1laWlxZTFtcXlxbXFhbUl1aV1xaYVhaW1teXV9fUFZdVl1VW11dW1xcYFRcXltaWl1YWlpbXV5UXVFZXF5aWlNbWVpeWF5fVVtcV1taVVVeWFtZX1RdW1xZWVtcWVpaW1tXVVZXWVRVWlZcXlpbW1tYX1heWl1aVFtcW1lcWFpVWlhXXFxcXVhaVVdeWVJdX19ZVlZWXVlWWlVVVVs=",
           "dtype": "i1"
          },
          "coloraxis": "coloraxis",
          "size": 10,
          "symbol": "circle"
         },
         "mode": "markers+text",
         "name": "",
         "orientation": "v",
         "showlegend": false,
         "text": [
          "Robin Pröpper",
          "Djéné Dakonam",
          "Amir Rrahmani",
          "Ramy Bensebaïni",
          "Wilfried Singo",
          "Formose Mendy",
          "Abakar Sylla",
          "Kiki Kouyaté",
          "Edmond Tapsoba",
          "Montassar Talbi",
          "Nayef Aguerd",
          "Nicolás Tagliafico",
          "Leonardo Jara",
          "Federico Rasmussen",
          "Germán Pezzella",
          "Walter Kannemann",
          "Ramiro Funes Mori",
          "Guillermo Ortiz",
          "Gastón Campi",
          "Gastón Suso",
          "Juan Rodríguez",
          "Agustín García Basso",
          "Abel Luciatti",
          "Matías Catalán",
          "Lautaro Giannetti",
          "Emanuel Brítez",
          "Jonathan Galván",
          "Emanuel Mammana",
          "Lucas Villalba",
          "Yonathan Cabral",
          "Nicolás Tripichio",
          "Marcos Senesi",
          "Nicolás Figal",
          "Néstor Breitenbruch",
          "Lucas Martínez Quarta",
          "Nicolás Thaller",
          "Lucas Suárez",
          "Gustavo Canto",
          "Fernando Alarcón",
          "Lucas Carrizo",
          "Cristian Romero",
          "Gonzalo Goñi",
          "Alejandro Maciel",
          "David Martínez",
          "Gonzalo Maffini",
          "Manuel Capasso",
          "Nicolás Zalazar",
          "Lucas Faggioli",
          "Miguel Brizuela",
          "Lisandro Martínez",
          "Ignacio Vázquez",
          "Sebastián Valdez",
          "Nehuén Pérez",
          "Leonardo Morales",
          "Oscar Salomón",
          "Alan Franco",
          "Facundo Medina",
          "Santiago Sosa",
          "Franco Paredes",
          "Nicolás Capraro",
          "Juan Foyth",
          "Facundo Garcés",
          "Gastón Hernández",
          "Leonardo Balerdi",
          "Valentín Benítez",
          "Nicolás Demartini",
          "Dardo Torres",
          "Gastón Ávila",
          "Elías Calderón",
          "Nicolás Paz",
          "Agustín Quiroga",
          "Juan Cáceres",
          "Francisco Flores",
          "Santiago Ramos Mingo",
          "Agustín Sández",
          "Camilo Albornoz",
          "Aarón Quiros",
          "Tomás Cavanagh",
          "Damián Fernández",
          "Facundo Giacopuzzi",
          "Santiago Flores",
          "Juan Carlos Portillo",
          "Ian Glavinovich",
          "Rodrigo Herrera",
          "Santiago Laquidain",
          "Tomás Kummer",
          "Nicolás Valentini",
          "Juan Cruz Guasone",
          "Leandro Figueredo",
          "Zaid Romero",
          "Balthazar Bernardi",
          "Pablo Minissale",
          "Gonzalo Luján",
          "David Alaba",
          "Gernot Trauner",
          "Florian Grillitsch",
          "Philipp Lienhart",
          "Stefan Posch",
          "Attila Szalai",
          "Maximilian Wöber",
          "Dayot Upamecano",
          "Emanuel Aiwu",
          "Eliaquim Mangala",
          "Chancel Mbemba",
          "Dario Van Den Buijs",
          "Siebe Horemans",
          "Ahmed Touba",
          "Hannes Delcroix",
          "Shawn Adewoye",
          "Arthur Theate",
          "Koni De Winter",
          "Alec Van Hoorenbeeck",
          "Juan Jesus",
          "Bruno Uvini",
          "Sidimar",
          "Dodô",
          "Danilo",
          "Bruno Alves",
          "Pablo",
          "Marllon",
          "Ricardo Silva",
          "Rodrigo Caio",
          "Néris",
          "Marquinhos",
          "Bruno Pirri",
          "Luan",
          "Gustavo Henrique",
          "Antônio Carlos",
          "Matheus Reis",
          "Tinga",
          "Diego Carlos",
          "Marlon",
          "Jemerson",
          "Marcão",
          "Maracás",
          "Danilo Barbosa",
          "Igor Rabello",
          "Léo Pereira",
          "Eduardo Bauermann",
          "Nogueira",
          "Marcelo Benevenuto",
          "Fabrício Bruno",
          "Éder",
          "Robson Bambu",
          "Léo",
          "Pedro Henrique",
          "Zé Ivaldo",
          "Juninho",
          "Gabriel",
          "Adryelson",
          "Jaílson",
          "Nicolas",
          "Léo Ortiz",
          "Diego Costa",
          "Patrick William",
          "Pedrão",
          "Bremer",
          "Bernardo",
          "Bruno Melo",
          "Reynaldo",
          "Rezende",
          "João Basso",
          "Alex Nascimento",
          "Tuta",
          "João Victor",
          "Miranda",
          "Vitão",
          "Zé Gabriel",
          "Kanu",
          "Lucas Halter",
          "Kaíque Rocha",
          "De Lucca",
          "Vitor Mendes",
          "Morato",
          "Bruno Fuchs",
          "Edu",
          "Natan",
          "Caetano",
          "Riccieli",
          "Luan Patrick",
          "Luizão",
          "Vinicius Kauê",
          "Gabriel Pereira",
          "Naves",
          "Vanderlan",
          "Joseph Okumu",
          "Nermin Zolotić",
          "Denis Kolinger",
          "Nino Galović",
          "Duje Ćaleta-Car",
          "Kristijan Jakić",
          "Ardian Ismajli",
          "Hrvoje Smolčić",
          "Bartol Franjić",
          "Josip Šutalo",
          "Joško Gvardiol",
          "Vladimír Coufal",
          "Jannik Vestergaard",
          "Nicolai Boilesen",
          "Jores Okore",
          "Pascal Gregor",
          "Frederik Tingager",
          "Jeppe Tverskov",
          "Matti Olsen",
          "Joachim Andersen",
          "Rasmus Lauritsen",
          "Malte Kiilerich",
          "Kristian Pedersen",
          "Mads Andersen",
          "Rasmus Nicolaisen",
          "Jacob Rasmussen",
          "Joel Felix",
          "Tobias Mølgaard",
          "Mads Bech Sørensen",
          "Daniel Anyembe",
          "Abdul Mumin",
          "Ahmed Iljazovski",
          "Niklas Vesterlund",
          "Oliver Provstgaard",
          "Alexander Busch",
          "Luke Ayling",
          "Steve Cook",
          "Liam Cooper",
          "Ignasi Miquel",
          "Shane Duffy",
          "Ryan Leonard",
          "Ben Gibson",
          "John Egan",
          "Matty Pearson",
          "Jake Bidwell",
          "Conor Coady",
          "Jack Robinson",
          "Tyler Blackett",
          "Charlie Taylor",
          "Reece James",
          "John Stones",
          "Paddy McNair",
          "Darragh Lenihan",
          "Dominic Hyam",
          "Cameron Burgess",
          "Wes Harding",
          "Julio Pleguezuelo",
          "Fikayo Tomori",
          "Ben Sheaf",
          "Cédric Kipré",
          "Alfie Jones",
          "Joe Rodon",
          "Cameron Humphreys",
          "Declan Rice",
          "Japhet Tanganga",
          "Marc Guéhi",
          "Reece James",
          "Ben Cabango",
          "Christoph Klarer",
          "Daniel Ballard",
          "Jacob Greaves",
          "Di'Shon Bernard",
          "Harry Clarke",
          "Mark McGuinness",
          "Eric García",
          "Taylor Harwood-Bellis",
          "Haydon Roberts",
          "Teden Mengi",
          "Luis Binks",
          "Dennis Cirkin",
          "Bashir Humphreys",
          "Levi Colwill",
          "Odel Offiah",
          "Sean Morrison",
          "Lewis Dunk",
          "Liam Palmer",
          "Liam Moore",
          "James Tarkowski",
          "Dan Burn",
          "Morgan Fox",
          "Jack Stephens",
          "Calum Chambers",
          "Luke Shaw",
          "Luke O'Nien",
          "Jake Cooper",
          "Amari'i Bell",
          "Perry Ng",
          "Corentin Tolisso",
          "Joe Gomez",
          "Nathaniel Phillips",
          "Dael Fry",
          "Zak Vyner",
          "Jean-Kevin Duverne",
          "James Justin",
          "Benjamin White",
          "Ezri Konsa",
          "Max Kilman",
          "Scott Wharton",
          "Ben Godfrey",
          "Luke Woolfenden",
          "Akin Famewo",
          "Harry Pickering",
          "Lloyd Kelly",
          "Peter Kioso",
          "Melle Meulensteen",
          "Jordan Storey",
          "Lewis Gibson",
          "Ben Wilmot",
          "Jordan Williams",
          "Ethan Ampadu",
          "Dion Sanderson",
          "Harry Darling",
          "Josh Flint",
          "Nathan Wood",
          "Andrew Omobamidele",
          "Jarrad Branthwaite",
          "Frederik Alves",
          "Gerrit Nauber",
          "Kostas Manolas",
          "Charalampos Lykogiannis",
          "Dimitris Goutas",
          "Jordy Clasie",
          "Bruno Martins Indi",
          "Bart Vriends",
          "Wesley Hoedt",
          "Thomas Lam",
          "Virgil van Dijk",
          "Joël Veltman",
          "Nathan Aké",
          "Mike van der Hoorn",
          "Wessel Dammers",
          "Damian van Bruggen",
          "Sven van Beek",
          "Damon Mirani",
          "Hidde ter Avest",
          "Joris Kramer",
          "Calvin Verdonk",
          "Danilho Doekhi",
          "Philippe Sandler",
          "Mats Knoester",
          "Matthijs de Ligt",
          "Mats Deijl",
          "Pablo Rosario",
          "Jordan Teze",
          "Radinio Balker",
          "Justin Hoogma",
          "Pascal Struijk",
          "Jamal Amofa",
          "Quinten Timber",
          "Perr Schuurs",
          "Sven Botman",
          "Sam Beukema",
          "Peer Koopmeiners",
          "Justin de Haas",
          "Lutsharel Geertruida",
          "Ramon Hendriks",
          "Redouan El Yaakoubi",
          "Christopher Mamengi",
          "Mats Wieffer",
          "Denzel Hall",
          "Devyne Rensch",
          "Ki-Jana Hoever",
          "Brian Plat",
          "Jan Paul van Hecke",
          "Thomas Beelen",
          "Nathan Tjoe-A-On",
          "Mees Hilgers",
          "Enzo Cornelisse",
          "Xavier Mbuyamba",
          "Ryan Flamingo",
          "Micky van de Ven",
          "Lamare Bogarde",
          "Serano Seymor",
          "Kolbeinn Birgir Finnsson",
          "Luca Caldirola",
          "Alan Empereur",
          "Juan Cruz",
          "Gian Marco Ferrari",
          "Rodrigo Ely",
          "Mattia Bani",
          "Alessio Romagnoli",
          "Gianluca Mancini",
          "Sebastiano Luperto",
          "Paweł Bochniewicz",
          "Giangiacomo Magnani",
          "Federico Dimarco",
          "Martin Valjent",
          "Federico Baschirotto",
          "Alberto Dossena",
          "Nicolò Casale",
          "Martin Erlić",
          "Alessandro Bastoni",
          "Enrico Delprato",
          "Matteo Gabbia",
          "Luca Ranieri",
          "Alessandro Buongiorno",
          "Caleb Okoli",
          "Rodrigo Guth",
          "Alessandro Zanoli",
          "Riccardo Calafiori",
          "Adam Obert",
          "Giorgio Scalvini",
          "Yuta Nakayama",
          "Ko Itakura",
          "Takehiro Tomiyasu",
          "Hiroki Ito",
          "Zach Muscat",
          "Samuel Gigot",
          "Olivier Boscagli",
          "Evan N'Dicka",
          "Anthony Briançon",
          "Jules Koundé",
          "Modibo Sagnan",
          "Mouctar Diakhaby",
          "Robin Le Normand",
          "Moussa Niakhaté",
          "Ibrahima Konaté",
          "Théo Barbet",
          "Dan-Axel Zagadou",
          "Lilian Brassier",
          "Jean-Clair Todibo",
          "Anthony Caci",
          "Sikou Niakaté",
          "Nicolas Cozza",
          "Warmed Omari",
          "Bafodé Diakité",
          "Logan Costa",
          "William Saliba",
          "Andy Pelmard",
          "Moussa Diarra",
          "Pierre Kalulu",
          "Mohamed Simakan",
          "Tanguy Nianzou",
          "Kiliann Sildillia",
          "Chrislain Matsima",
          "Youte",
          "Castello Lukeba",
          "Arouna Sanganté",
          "Alidu Seidu",
          "Edson Álvarez",
          "César Montes",
          "Johan Felipe Vásquez",
          "Luke McNally",
          "Kristoffer Ajer",
          "Leo Østigård",
          "Fábio Cardoso",
          "Josué Sá",
          "Domingos Duarte",
          "Rúben Dias",
          "Kal Naismith",
          "Kenny McLean",
          "Murray Wallace",
          "Michael Rose",
          "Liam Lindsay",
          "Scott McKenna",
          "Kieran Tierney",
          "Ryan Porteous",
          "Stefan Savić",
          "Nemanja Gudelj",
          "Erhan Mašović",
          "Nikola Milenković",
          "Jaka Bijol",
          "Žan Zaletel",
          "Norbert Gyömbér",
          "Milan Škriniar",
          "Dávid Hancko",
          "Cafú Phete",
          "Marc Bartra",
          "Hugo Mallo",
          "Patric",
          "Antonio Raíllo",
          "Fali",
          "Pablo Marí",
          "Rubén Duarte",
          "Aritz Elustondo",
          "Yeray",
          "Jesús Vallejo",
          "Mario Hermoso",
          "Lucas Hernández",
          "Unai Núñez",
          "David García",
          "Pau Torres",
          "Rodri",
          "Edgar",
          "Javi Hernández",
          "Óscar Mingueza",
          "Álex Suárez",
          "Jorge Cuenca",
          "Dani Vivian",
          "José Manuel Copete",
          "Abdelkabir Abqar",
          "Víctor Chust",
          "Hugo Guillamón",
          "Mohammed Salisu",
          "Carlos Domínguez",
          "Alejandro Francés",
          "Mika Mármol",
          "Filip Helander",
          "Ozan Kabak",
          "Youssouf Ndayishimiye",
          "Ivan Ordets",
          "Illia Zabarnyi",
          "Rodrigo Echeverría",
          "Paulo Díaz",
          "Benjamín Kuscevic",
          "Francisco Sierralta",
          "Thomas Galdames",
          "Camilo Saíz",
          "Felipe Aguilar",
          "Jhon Lucumí",
          "Nicolás Hernández",
          "Juan David Cabal",
          "Rodrigo Abascal",
          "José Giménez",
          "Federico Andueza",
          "Ronald Araujo",
          "Edgar Elizalde",
          "Pablo Adorno",
          "Gastón Álvarez",
          "Emanuel Hernández",
          "Gustavo Gómez",
          "Alberto Espínola",
          "Gustavo Velázquez",
          "Omar Alderete",
          "José Canale",
          "Robert Rojas",
          "Jhohan Romaña",
          "Rodrigo Escoval",
          "Diogo Leite",
          "Pedro Barcelos",
          "Cláudio Falcão",
          "Fali Candé",
          "Tomás Ribeiro",
          "Jota",
          "Alexandre Penetra",
          "Toti",
          "Bernardo Vital",
          "Gonçalo Inácio",
          "João Ferreira",
          "Bruno Onyemaechi",
          "Filipe Relvas",
          "Bruno Rodrigues",
          "Manu Silva",
          "António Silva",
          "Gabriel Xavier",
          "Chidozie Awaziem",
          "Nicolas Isimat-Mirin",
          "Jonathan Gradit",
          "Samuel Umtiti",
          "Florian Lejeune",
          "Kurt Zouma",
          "Raphaël Varane",
          "Christophe Hérelle",
          "Aïssa Mandi",
          "Gautier Lloris",
          "Benjamin Pavard",
          "Kévin N'Doram",
          "Matthieu Udol",
          "Brendan Chardonnet",
          "Issa Diop",
          "Lucas Perrin",
          "Robert Arboleda",
          "Mikel Villanueva",
          "Luis Segovia",
          "Félix Torres",
          "Leonardo Realpe",
          "Willian Pacho",
          "Ethan Pinnock",
          "Kim Min-Jae",
          "Dan Scarr",
          "Keven Schlotterbeck",
          "Kevin Vogt",
          "Stefan Bell",
          "Willi Orbán",
          "Robin Knoche",
          "Niklas Süle",
          "Matthias Ginter",
          "Robert Andrich",
          "Kevin Akpoguma",
          "Niklas Stark",
          "Jonathan Tah",
          "Thilo Kehrer",
          "Benedikt Gimber",
          "Lukas Klostermann",
          "Waldemar Anton",
          "Marco Friedl",
          "Felix Uduokhai",
          "Kevin Danso",
          "Robin Koch",
          "Timo Hübers",
          "Tim Siersleben",
          "Jordan Beyer",
          "Amos Pieper",
          "Marin Pongračić",
          "Paul Jaeckel",
          "Maximilian Bauer",
          "Josip Stanišić",
          "Matej Maglica",
          "Jannik Müller",
          "Emre Can",
          "Antonio Rüdiger",
          "John Brooks",
          "Sead Kolašinac",
          "Patrick Mainka",
          "Pascal Stenzel",
          "Michael Akoto",
          "Maxim Leitsch",
          "Nico Schlotterbeck",
          "Lennard Maloney",
          "Armel Bella-Kotchap",
          "Victor Lindelöf",
          "Gustav Granath",
          "Hugo Andersson",
          "Odilon Kossounou",
          "Cameron Pring",
          "Chumi",
          "Murilo",
          "Kialonda Gaspar",
          "Paweł Dawidowicz",
          "Jan Bednarek",
          "Michał Helik",
          "Krystian Bielik",
          "Ricardo Rodríguez",
          "Fabian Schär",
          "Silvan Widmer",
          "Berat Djimsiti",
          "Edimilson Fernandes",
          "Manuel Akanji",
          "Nico Elvedi",
          "Nicolas Bürgy",
          "Eray Cömert",
          "Cédric Zesiger",
          "Silvan Hefti",
          "Isaak Touré",
          "Willy Kambwala",
          "Nicolás Romero",
          "Rav van den Berg",
          "Ayrton Costa",
          "Rodrigo Morales",
          "Alfie Gilchrist",
          "Juan Cruz Vázquez",
          "João Marcelo",
          "Gian Nardelli",
          "Adamo Nagalo",
          "Raniele",
          "Jordy Makengo",
          "Cristhian Mosquera",
          "Callum Doyle",
          "Serdar Saatçı",
          "Raul Gustavo",
          "Joaquim",
          "Nahuel Génez",
          "Rafa Marín",
          "Chadi Riad",
          "Michel",
          "Arnau Martínez",
          "Sadik Fofana",
          "Anselmo García Mac Nulty",
          "Joaquín Pombo",
          "Felipe Andrade",
          "Alemão",
          "Valentín Gómez",
          "Nicolás Fernández",
          "Lee Han-Beom",
          "Gustavo Martins",
          "Kevin Silva",
          "Jorrel Hato",
          "Lewis Hall",
          "Rafael Profini",
          "Matheus Belém",
          "Ythallo",
          "Jeremías James Griffiths",
          "Jeanuël Belocian",
          "Samuel Lucero",
          "Robert Renan",
          "Ashley Phillips",
          "Felipe Sánchez",
          "Kauan",
          "Gabriel Vareta",
          "Ousmane Diomande",
          "Alan González",
          "Lautaro Maside",
          "Tobias Slotsager",
          "Noël Atom",
          "Leny Yoro",
          "Renato",
          "João Pedro Tchoca",
          "Vitor Reis",
          "Marcos Victor",
          "Stijn Bultman",
          "Yan Souto",
          "Tomás Fernández",
          "Santiago Quiros",
          "Jean Pedroso",
          "Gerónimo Heredia",
          "Geilson",
          "Tobías Palacio"
         ],
         "textfont": {
          "size": 10
         },
         "textposition": "top center",
         "type": "scatter",
         "x": {
          "bdata": "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",
          "dtype": "f8"
         },
         "xaxis": "x",
         "y": {
          "bdata": "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",
          "dtype": "f8"
         },
         "yaxis": "y"
        }
       ],
       "layout": {
        "coloraxis": {
         "colorbar": {
          "title": {
           "text": "pass_completion_%"
          }
         },
         "colorscale": [
          [
           0,
           "rgb(165,0,38)"
          ],
          [
           0.1,
           "rgb(215,48,39)"
          ],
          [
           0.2,
           "rgb(244,109,67)"
          ],
          [
           0.3,
           "rgb(253,174,97)"
          ],
          [
           0.4,
           "rgb(254,224,139)"
          ],
          [
           0.5,
           "rgb(255,255,191)"
          ],
          [
           0.6,
           "rgb(217,239,139)"
          ],
          [
           0.7,
           "rgb(166,217,106)"
          ],
          [
           0.8,
           "rgb(102,189,99)"
          ],
          [
           0.9,
           "rgb(26,152,80)"
          ],
          [
           1,
           "rgb(0,104,55)"
          ]
         ]
        },
        "height": 700,
        "legend": {
         "tracegroupgap": 0
        },
        "paper_bgcolor": "white",
        "plot_bgcolor": "white",
        "template": {
         "data": {
          "bar": [
           {
            "error_x": {
             "color": "#2a3f5f"
            },
            "error_y": {
             "color": "#2a3f5f"
            },
            "marker": {
             "line": {
              "color": "#E5ECF6",
              "width": 0.5
             },
             "pattern": {
              "fillmode": "overlay",
              "size": 10,
              "solidity": 0.2
             }
            },
            "type": "bar"
           }
          ],
          "barpolar": [
           {
            "marker": {
             "line": {
              "color": "#E5ECF6",
              "width": 0.5
             },
             "pattern": {
              "fillmode": "overlay",
              "size": 10,
              "solidity": 0.2
             }
            },
            "type": "barpolar"
           }
          ],
          "carpet": [
           {
            "aaxis": {
             "endlinecolor": "#2a3f5f",
             "gridcolor": "white",
             "linecolor": "white",
             "minorgridcolor": "white",
             "startlinecolor": "#2a3f5f"
            },
            "baxis": {
             "endlinecolor": "#2a3f5f",
             "gridcolor": "white",
             "linecolor": "white",
             "minorgridcolor": "white",
             "startlinecolor": "#2a3f5f"
            },
            "type": "carpet"
           }
          ],
          "choropleth": [
           {
            "colorbar": {
             "outlinewidth": 0,
             "ticks": ""
            },
            "type": "choropleth"
           }
          ],
          "contour": [
           {
            "colorbar": {
             "outlinewidth": 0,
             "ticks": ""
            },
            "colorscale": [
             [
              0,
              "#0d0887"
             ],
             [
              0.1111111111111111,
              "#46039f"
             ],
             [
              0.2222222222222222,
              "#7201a8"
             ],
             [
              0.3333333333333333,
              "#9c179e"
             ],
             [
              0.4444444444444444,
              "#bd3786"
             ],
             [
              0.5555555555555556,
              "#d8576b"
             ],
             [
              0.6666666666666666,
              "#ed7953"
             ],
             [
              0.7777777777777778,
              "#fb9f3a"
             ],
             [
              0.8888888888888888,
              "#fdca26"
             ],
             [
              1,
              "#f0f921"
             ]
            ],
            "type": "contour"
           }
          ],
          "contourcarpet": [
           {
            "colorbar": {
             "outlinewidth": 0,
             "ticks": ""
            },
            "type": "contourcarpet"
           }
          ],
          "heatmap": [
           {
            "colorbar": {
             "outlinewidth": 0,
             "ticks": ""
            },
            "colorscale": [
             [
              0,
              "#0d0887"
             ],
             [
              0.1111111111111111,
              "#46039f"
             ],
             [
              0.2222222222222222,
              "#7201a8"
             ],
             [
              0.3333333333333333,
              "#9c179e"
             ],
             [
              0.4444444444444444,
              "#bd3786"
             ],
             [
              0.5555555555555556,
              "#d8576b"
             ],
             [
              0.6666666666666666,
              "#ed7953"
             ],
             [
              0.7777777777777778,
              "#fb9f3a"
             ],
             [
              0.8888888888888888,
              "#fdca26"
             ],
             [
              1,
              "#f0f921"
             ]
            ],
            "type": "heatmap"
           }
          ],
          "histogram": [
           {
            "marker": {
             "pattern": {
              "fillmode": "overlay",
              "size": 10,
              "solidity": 0.2
             }
            },
            "type": "histogram"
           }
          ],
          "histogram2d": [
           {
            "colorbar": {
             "outlinewidth": 0,
             "ticks": ""
            },
            "colorscale": [
             [
              0,
              "#0d0887"
             ],
             [
              0.1111111111111111,
              "#46039f"
             ],
             [
              0.2222222222222222,
              "#7201a8"
             ],
             [
              0.3333333333333333,
              "#9c179e"
             ],
             [
              0.4444444444444444,
              "#bd3786"
             ],
             [
              0.5555555555555556,
              "#d8576b"
             ],
             [
              0.6666666666666666,
              "#ed7953"
             ],
             [
              0.7777777777777778,
              "#fb9f3a"
             ],
             [
              0.8888888888888888,
              "#fdca26"
             ],
             [
              1,
              "#f0f921"
             ]
            ],
            "type": "histogram2d"
           }
          ],
          "histogram2dcontour": [
           {
            "colorbar": {
             "outlinewidth": 0,
             "ticks": ""
            },
            "colorscale": [
             [
              0,
              "#0d0887"
             ],
             [
              0.1111111111111111,
              "#46039f"
             ],
             [
              0.2222222222222222,
              "#7201a8"
             ],
             [
              0.3333333333333333,
              "#9c179e"
             ],
             [
              0.4444444444444444,
              "#bd3786"
             ],
             [
              0.5555555555555556,
              "#d8576b"
             ],
             [
              0.6666666666666666,
              "#ed7953"
             ],
             [
              0.7777777777777778,
              "#fb9f3a"
             ],
             [
              0.8888888888888888,
              "#fdca26"
             ],
             [
              1,
              "#f0f921"
             ]
            ],
            "type": "histogram2dcontour"
           }
          ],
          "mesh3d": [
           {
            "colorbar": {
             "outlinewidth": 0,
             "ticks": ""
            },
            "type": "mesh3d"
           }
          ],
          "parcoords": [
           {
            "line": {
             "colorbar": {
              "outlinewidth": 0,
              "ticks": ""
             }
            },
            "type": "parcoords"
           }
          ],
          "pie": [
           {
            "automargin": true,
            "type": "pie"
           }
          ],
          "scatter": [
           {
            "fillpattern": {
             "fillmode": "overlay",
             "size": 10,
             "solidity": 0.2
            },
            "type": "scatter"
           }
          ],
          "scatter3d": [
           {
            "line": {
             "colorbar": {
              "outlinewidth": 0,
              "ticks": ""
             }
            },
            "marker": {
             "colorbar": {
              "outlinewidth": 0,
              "ticks": ""
             }
            },
            "type": "scatter3d"
           }
          ],
          "scattercarpet": [
           {
            "marker": {
             "colorbar": {
              "outlinewidth": 0,
              "ticks": ""
             }
            },
            "type": "scattercarpet"
           }
          ],
          "scattergeo": [
           {
            "marker": {
             "colorbar": {
              "outlinewidth": 0,
              "ticks": ""
             }
            },
            "type": "scattergeo"
           }
          ],
          "scattergl": [
           {
            "marker": {
             "colorbar": {
              "outlinewidth": 0,
              "ticks": ""
             }
            },
            "type": "scattergl"
           }
          ],
          "scattermap": [
           {
            "marker": {
             "colorbar": {
              "outlinewidth": 0,
              "ticks": ""
             }
            },
            "type": "scattermap"
           }
          ],
          "scattermapbox": [
           {
            "marker": {
             "colorbar": {
              "outlinewidth": 0,
              "ticks": ""
             }
            },
            "type": "scattermapbox"
           }
          ],
          "scatterpolar": [
           {
            "marker": {
             "colorbar": {
              "outlinewidth": 0,
              "ticks": ""
             }
            },
            "type": "scatterpolar"
           }
          ],
          "scatterpolargl": [
           {
            "marker": {
             "colorbar": {
              "outlinewidth": 0,
              "ticks": ""
             }
            },
            "type": "scatterpolargl"
           }
          ],
          "scatterternary": [
           {
            "marker": {
             "colorbar": {
              "outlinewidth": 0,
              "ticks": ""
             }
            },
            "type": "scatterternary"
           }
          ],
          "surface": [
           {
            "colorbar": {
             "outlinewidth": 0,
             "ticks": ""
            },
            "colorscale": [
             [
              0,
              "#0d0887"
             ],
             [
              0.1111111111111111,
              "#46039f"
             ],
             [
              0.2222222222222222,
              "#7201a8"
             ],
             [
              0.3333333333333333,
              "#9c179e"
             ],
             [
              0.4444444444444444,
              "#bd3786"
             ],
             [
              0.5555555555555556,
              "#d8576b"
             ],
             [
              0.6666666666666666,
              "#ed7953"
             ],
             [
              0.7777777777777778,
              "#fb9f3a"
             ],
             [
              0.8888888888888888,
              "#fdca26"
             ],
             [
              1,
              "#f0f921"
             ]
            ],
            "type": "surface"
           }
          ],
          "table": [
           {
            "cells": {
             "fill": {
              "color": "#EBF0F8"
             },
             "line": {
              "color": "white"
             }
            },
            "header": {
             "fill": {
              "color": "#C8D4E3"
             },
             "line": {
              "color": "white"
             }
            },
            "type": "table"
           }
          ]
         },
         "layout": {
          "annotationdefaults": {
           "arrowcolor": "#2a3f5f",
           "arrowhead": 0,
           "arrowwidth": 1
          },
          "autotypenumbers": "strict",
          "coloraxis": {
           "colorbar": {
            "outlinewidth": 0,
            "ticks": ""
           }
          },
          "colorscale": {
           "diverging": [
            [
             0,
             "#8e0152"
            ],
            [
             0.1,
             "#c51b7d"
            ],
            [
             0.2,
             "#de77ae"
            ],
            [
             0.3,
             "#f1b6da"
            ],
            [
             0.4,
             "#fde0ef"
            ],
            [
             0.5,
             "#f7f7f7"
            ],
            [
             0.6,
             "#e6f5d0"
            ],
            [
             0.7,
             "#b8e186"
            ],
            [
             0.8,
             "#7fbc41"
            ],
            [
             0.9,
             "#4d9221"
            ],
            [
             1,
             "#276419"
            ]
           ],
           "sequential": [
            [
             0,
             "#0d0887"
            ],
            [
             0.1111111111111111,
             "#46039f"
            ],
            [
             0.2222222222222222,
             "#7201a8"
            ],
            [
             0.3333333333333333,
             "#9c179e"
            ],
            [
             0.4444444444444444,
             "#bd3786"
            ],
            [
             0.5555555555555556,
             "#d8576b"
            ],
            [
             0.6666666666666666,
             "#ed7953"
            ],
            [
             0.7777777777777778,
             "#fb9f3a"
            ],
            [
             0.8888888888888888,
             "#fdca26"
            ],
            [
             1,
             "#f0f921"
            ]
           ],
           "sequentialminus": [
            [
             0,
             "#0d0887"
            ],
            [
             0.1111111111111111,
             "#46039f"
            ],
            [
             0.2222222222222222,
             "#7201a8"
            ],
            [
             0.3333333333333333,
             "#9c179e"
            ],
            [
             0.4444444444444444,
             "#bd3786"
            ],
            [
             0.5555555555555556,
             "#d8576b"
            ],
            [
             0.6666666666666666,
             "#ed7953"
            ],
            [
             0.7777777777777778,
             "#fb9f3a"
            ],
            [
             0.8888888888888888,
             "#fdca26"
            ],
            [
             1,
             "#f0f921"
            ]
           ]
          },
          "colorway": [
           "#636efa",
           "#EF553B",
           "#00cc96",
           "#ab63fa",
           "#FFA15A",
           "#19d3f3",
           "#FF6692",
           "#B6E880",
           "#FF97FF",
           "#FECB52"
          ],
          "font": {
           "color": "#2a3f5f"
          },
          "geo": {
           "bgcolor": "white",
           "lakecolor": "white",
           "landcolor": "#E5ECF6",
           "showlakes": true,
           "showland": true,
           "subunitcolor": "white"
          },
          "hoverlabel": {
           "align": "left"
          },
          "hovermode": "closest",
          "mapbox": {
           "style": "light"
          },
          "paper_bgcolor": "white",
          "plot_bgcolor": "#E5ECF6",
          "polar": {
           "angularaxis": {
            "gridcolor": "white",
            "linecolor": "white",
            "ticks": ""
           },
           "bgcolor": "#E5ECF6",
           "radialaxis": {
            "gridcolor": "white",
            "linecolor": "white",
            "ticks": ""
           }
          },
          "scene": {
           "xaxis": {
            "backgroundcolor": "#E5ECF6",
            "gridcolor": "white",
            "gridwidth": 2,
            "linecolor": "white",
            "showbackground": true,
            "ticks": "",
            "zerolinecolor": "white"
           },
           "yaxis": {
            "backgroundcolor": "#E5ECF6",
            "gridcolor": "white",
            "gridwidth": 2,
            "linecolor": "white",
            "showbackground": true,
            "ticks": "",
            "zerolinecolor": "white"
           },
           "zaxis": {
            "backgroundcolor": "#E5ECF6",
            "gridcolor": "white",
            "gridwidth": 2,
            "linecolor": "white",
            "showbackground": true,
            "ticks": "",
            "zerolinecolor": "white"
           }
          },
          "shapedefaults": {
           "line": {
            "color": "#2a3f5f"
           }
          },
          "ternary": {
           "aaxis": {
            "gridcolor": "white",
            "linecolor": "white",
            "ticks": ""
           },
           "baxis": {
            "gridcolor": "white",
            "linecolor": "white",
            "ticks": ""
           },
           "bgcolor": "#E5ECF6",
           "caxis": {
            "gridcolor": "white",
            "linecolor": "white",
            "ticks": ""
           }
          },
          "title": {
           "x": 0.05
          },
          "xaxis": {
           "automargin": true,
           "gridcolor": "white",
           "linecolor": "white",
           "ticks": "",
           "title": {
            "standoff": 15
           },
           "zerolinecolor": "white",
           "zerolinewidth": 2
          },
          "yaxis": {
           "automargin": true,
           "gridcolor": "white",
           "linecolor": "white",
           "ticks": "",
           "title": {
            "standoff": 15
           },
           "zerolinecolor": "white",
           "zerolinewidth": 2
          }
         }
        },
        "title": {
         "text": "Pass Completion vs Progressive Passing"
        },
        "width": 1200,
        "xaxis": {
         "anchor": "y",
         "domain": [
          0,
          1
         ],
         "gridcolor": "lightgray",
         "showgrid": true,
         "title": {
          "text": "passes_attempted/90"
         },
         "zeroline": false
        },
        "yaxis": {
         "anchor": "x",
         "domain": [
          0,
          1
         ],
         "gridcolor": "lightgray",
         "showgrid": true,
         "title": {
          "text": "progressive_passes/90"
         },
         "zeroline": false
        }
       }
      }
     },
     "metadata": {},
     "output_type": "display_data"
    }
   ],
   "source": [
    "# Create plotly figure\n",
    "fig = px.scatter(\n",
    "    df_players,\n",
    "    x='passes_attempted/90',\n",
    "    y='progressive_passes/90',\n",
    "    color='pass_completion_%',\n",
    "    text='name',\n",
    "    color_continuous_scale='RdYlGn',\n",
    "    labels={'pass_completion_%': 'Color Scale (pass_completion_%)'},\n",
    "    title='Pass Completion vs Progressive Passing',\n",
    "    width=1200, \n",
    "    height=700    \n",
    ")\n",
    "\n",
    "# Format traces\n",
    "fig.update_traces(marker=dict(size=10), \n",
    "                  textposition='top center',\n",
    "                  textfont=dict(size=10),\n",
    "                  hovertemplate=(\n",
    "                    \"<b>%{text}</b><br><br>\" +\n",
    "                    \"Passes Attempted/90: %{x}<br>\" +\n",
    "                    \"Progressive Passes/90: %{y}<br>\" +\n",
    "                    \"Pass Completion %: %{marker.color}<extra></extra>\"\n",
    "                )\n",
    ")\n",
    "\n",
    "fig.update_layout(\n",
    "    coloraxis_colorbar=dict(title='pass_completion_%'),\n",
    "    plot_bgcolor='white',\n",
    "    paper_bgcolor='white',\n",
    "    xaxis=dict(showgrid=True, gridcolor='lightgray', zeroline=False),\n",
    "    yaxis=dict(showgrid=True, gridcolor='lightgray', zeroline=False)\n",
    ")\n",
    "\n",
    "fig.show()\n"
   ]
  },
  {
   "cell_type": "code",
   "execution_count": null,
   "id": "96f60abe",
   "metadata": {},
   "outputs": [],
   "source": []
  }
 ],
 "metadata": {
  "kernelspec": {
   "display_name": ".venv",
   "language": "python",
   "name": "python3"
  },
  "language_info": {
   "codemirror_mode": {
    "name": "ipython",
    "version": 3
   },
   "file_extension": ".py",
   "mimetype": "text/x-python",
   "name": "python",
   "nbconvert_exporter": "python",
   "pygments_lexer": "ipython3",
   "version": "3.12.7"
  }
 },
 "nbformat": 4,
 "nbformat_minor": 5
}
