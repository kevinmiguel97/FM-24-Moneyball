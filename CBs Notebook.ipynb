{
 "cells": [
  {
   "cell_type": "markdown",
   "id": "b1df530d",
   "metadata": {},
   "source": [
    "# FM 24 Moneyball"
   ]
  },
  {
   "cell_type": "code",
   "execution_count": 101,
   "id": "a0d6d750",
   "metadata": {},
   "outputs": [],
   "source": [
    "import numpy as np\n",
    "import pandas as pd \n",
    "import matplotlib.pyplot as plt\n",
    "import plotly.express as px\n",
    "import re\n",
    "\n",
    "# Ignore warnings\n",
    "import warnings\n",
    "warnings.filterwarnings('ignore')\n",
    "\n",
    "# Show all columns in pandas\n",
    "pd.set_option('display.max_columns', 500) \n",
    "\n",
    "%matplotlib inline"
   ]
  },
  {
   "cell_type": "markdown",
   "id": "bd53e3cd",
   "metadata": {},
   "source": [
    "## Ingest and clean data"
   ]
  },
  {
   "cell_type": "code",
   "execution_count": 102,
   "id": "7355e71f",
   "metadata": {},
   "outputs": [],
   "source": [
    "### Read raw data\n",
    "\n",
    "# Select file path for raw data\n",
    "path = r\"C:\\Users\\kevmi\\Documents\\FM 24 Moneyball\\FM Data Lab\\Man Utd\\FM 24 exports\\Winter 2023\\Center Backs.html\"\n",
    "\n",
    "# Ingest in a dataframe\n",
    "df_players_raw = pd.read_html(path, encoding='utf-8')[0]\n",
    "\n",
    "# Format column names \n",
    "df_players_raw.columns = [x.lower().strip().replace(' ', '_').replace('-', '_') for x in df_players_raw.columns]\n",
    "\n",
    "# ---------------------------------------------------------------------------------------------------------------------\n",
    "\n",
    "### Read processed Data lab data\n",
    "\n",
    "# Select file path for processed data\n",
    "path = r\"C:\\Users\\kevmi\\Documents\\FM 24 Moneyball\\FM Data Lab\\Man Utd\\FM Data Lab outputs\\Winter 2023\\Center Backs.csv\"\n",
    "\n",
    "# Ingest in a dataframe \n",
    "df_players = pd.read_csv(path)   \n",
    "\n",
    "# Format column names \n",
    "df_players.columns = [x.lower().strip().replace(' ', '_').replace('-', '_') for x in df_players.columns]\n",
    "\n",
    "# Bring ID from raw data\n",
    "df_players = df_players.merge(df_players_raw[['name', 'age', 'height', 'weight', 'uid']], \n",
    "                 left_on=['name', 'age', 'height', 'weight'], \n",
    "                 right_on=['name', 'age', 'height', 'weight']).reset_index().rename(columns={'level_0': 'id'})\n",
    "\n",
    "df_players['id'] = df_players['uid']\n",
    "\n",
    "df_players.drop(columns='uid', inplace=True)"
   ]
  },
  {
   "cell_type": "markdown",
   "id": "a4833287",
   "metadata": {},
   "source": [
    "## Data cleaning"
   ]
  },
  {
   "cell_type": "code",
   "execution_count": 103,
   "id": "82372a19",
   "metadata": {},
   "outputs": [
    {
     "data": {
      "text/html": [
       "<div>\n",
       "<style scoped>\n",
       "    .dataframe tbody tr th:only-of-type {\n",
       "        vertical-align: middle;\n",
       "    }\n",
       "\n",
       "    .dataframe tbody tr th {\n",
       "        vertical-align: top;\n",
       "    }\n",
       "\n",
       "    .dataframe thead th {\n",
       "        text-align: right;\n",
       "    }\n",
       "</style>\n",
       "<table border=\"1\" class=\"dataframe\">\n",
       "  <thead>\n",
       "    <tr style=\"text-align: right;\">\n",
       "      <th></th>\n",
       "      <th>id</th>\n",
       "      <th>name</th>\n",
       "      <th>position</th>\n",
       "      <th>age</th>\n",
       "      <th>height</th>\n",
       "      <th>weight</th>\n",
       "      <th>inf</th>\n",
       "      <th>club</th>\n",
       "      <th>division</th>\n",
       "      <th>nationality</th>\n",
       "      <th>home_grown</th>\n",
       "      <th>personality</th>\n",
       "      <th>media_handling</th>\n",
       "      <th>wage</th>\n",
       "      <th>transfer_value</th>\n",
       "      <th>asking_price</th>\n",
       "      <th>preferred_foot</th>\n",
       "      <th>starts</th>\n",
       "      <th>minutes_played</th>\n",
       "      <th>average_rating</th>\n",
       "      <th>sub_appearances</th>\n",
       "      <th>minutes/game</th>\n",
       "      <th>index</th>\n",
       "      <th>passes_attempted/90</th>\n",
       "      <th>passes_completed/90</th>\n",
       "      <th>pass_completion_%</th>\n",
       "      <th>progressive_passes/90</th>\n",
       "      <th>progressive_pass_rate</th>\n",
       "      <th>key_passes/90</th>\n",
       "      <th>key_pass_%</th>\n",
       "      <th>open_play_key_passes/90</th>\n",
       "      <th>open_play_key_pass_%</th>\n",
       "      <th>pressures_attempted</th>\n",
       "      <th>pressures_attempted/90</th>\n",
       "      <th>pressures_completed</th>\n",
       "      <th>pressures_completed/90</th>\n",
       "      <th>pressure_success_%</th>\n",
       "      <th>possession_won/90</th>\n",
       "      <th>possession_lost/90</th>\n",
       "      <th>poss+_/90</th>\n",
       "      <th>poss+__%</th>\n",
       "      <th>tackles_attempted/90</th>\n",
       "      <th>tackles_completed/90</th>\n",
       "      <th>tackle_completion_%</th>\n",
       "      <th>tackles_failed/90</th>\n",
       "      <th>key_tackles/90</th>\n",
       "      <th>tackle_quality</th>\n",
       "      <th>interceptions/90</th>\n",
       "      <th>blocks/90</th>\n",
       "      <th>shots_blocked/90</th>\n",
       "      <th>headers_attempted/90</th>\n",
       "      <th>headers_won/90</th>\n",
       "      <th>headers_won_%</th>\n",
       "      <th>headers_lost/90</th>\n",
       "      <th>headers_lost_%</th>\n",
       "      <th>key_headers/90</th>\n",
       "      <th>aerial_challenges_attempted/90</th>\n",
       "      <th>duels_win_%</th>\n",
       "      <th>fouls_won/90</th>\n",
       "      <th>fouls_committed/90</th>\n",
       "      <th>clearances/90</th>\n",
       "      <th>attacking_actions/90</th>\n",
       "      <th>creative_actions/90</th>\n",
       "      <th>defensive_actions/90</th>\n",
       "      <th>excitement_factor/90</th>\n",
       "      <th>general_performance</th>\n",
       "      <th>goalkeeping</th>\n",
       "      <th>defensive_defender</th>\n",
       "      <th>creative_defender</th>\n",
       "      <th>attacking_defender</th>\n",
       "      <th>creative_midfielder</th>\n",
       "      <th>attacking_midfielder</th>\n",
       "      <th>creative_winger</th>\n",
       "      <th>attacking_winger</th>\n",
       "      <th>creative_forward</th>\n",
       "      <th>attacking_forward</th>\n",
       "      <th>finisher</th>\n",
       "      <th>aerial_threat</th>\n",
       "      <th>reader</th>\n",
       "      <th>assister</th>\n",
       "      <th>ones</th>\n",
       "    </tr>\n",
       "  </thead>\n",
       "  <tbody>\n",
       "    <tr>\n",
       "      <th>0</th>\n",
       "      <td>168288</td>\n",
       "      <td>Robin Pröpper</td>\n",
       "      <td>D (C)</td>\n",
       "      <td>30</td>\n",
       "      <td>190 cm</td>\n",
       "      <td>80 kg</td>\n",
       "      <td>-</td>\n",
       "      <td>FC Twente</td>\n",
       "      <td>Eredivisie</td>\n",
       "      <td>NED</td>\n",
       "      <td>-</td>\n",
       "      <td>-</td>\n",
       "      <td>Scouting Required</td>\n",
       "      <td>$2,700 p/w</td>\n",
       "      <td>$850K - $8.4M</td>\n",
       "      <td>-</td>\n",
       "      <td>Right</td>\n",
       "      <td>17</td>\n",
       "      <td>1575</td>\n",
       "      <td>6.69</td>\n",
       "      <td>1</td>\n",
       "      <td>87.50</td>\n",
       "      <td>0</td>\n",
       "      <td>56.17</td>\n",
       "      <td>47.20</td>\n",
       "      <td>84</td>\n",
       "      <td>4.69</td>\n",
       "      <td>8.34</td>\n",
       "      <td>0.23</td>\n",
       "      <td>0.41</td>\n",
       "      <td>0.23</td>\n",
       "      <td>0.41</td>\n",
       "      <td>58</td>\n",
       "      <td>3.31</td>\n",
       "      <td>22</td>\n",
       "      <td>1.26</td>\n",
       "      <td>37.93</td>\n",
       "      <td>9.77</td>\n",
       "      <td>8.51</td>\n",
       "      <td>1.26</td>\n",
       "      <td>14.81</td>\n",
       "      <td>0.86</td>\n",
       "      <td>0.57</td>\n",
       "      <td>67</td>\n",
       "      <td>0.29</td>\n",
       "      <td>0.17</td>\n",
       "      <td>1.50</td>\n",
       "      <td>1.09</td>\n",
       "      <td>0.23</td>\n",
       "      <td>0.23</td>\n",
       "      <td>7.54</td>\n",
       "      <td>4.57</td>\n",
       "      <td>60.61</td>\n",
       "      <td>2.97</td>\n",
       "      <td>39.39</td>\n",
       "      <td>1.03</td>\n",
       "      <td>7.54</td>\n",
       "      <td>61.22</td>\n",
       "      <td>0.00</td>\n",
       "      <td>0.57</td>\n",
       "      <td>1.71</td>\n",
       "      <td>0.11</td>\n",
       "      <td>0.29</td>\n",
       "      <td>17.69</td>\n",
       "      <td>0.74</td>\n",
       "      <td>4</td>\n",
       "      <td>100</td>\n",
       "      <td>1</td>\n",
       "      <td>3</td>\n",
       "      <td>11</td>\n",
       "      <td>6</td>\n",
       "      <td>4</td>\n",
       "      <td>5</td>\n",
       "      <td>7</td>\n",
       "      <td>12</td>\n",
       "      <td>9</td>\n",
       "      <td>15</td>\n",
       "      <td>73</td>\n",
       "      <td>13</td>\n",
       "      <td>16</td>\n",
       "      <td>1</td>\n",
       "    </tr>\n",
       "    <tr>\n",
       "      <th>1</th>\n",
       "      <td>211232</td>\n",
       "      <td>Djéné Dakonam</td>\n",
       "      <td>D (RC), DM</td>\n",
       "      <td>31</td>\n",
       "      <td>178 cm</td>\n",
       "      <td>71 kg</td>\n",
       "      <td>-</td>\n",
       "      <td>Getafe</td>\n",
       "      <td>LaLiga EA Sports</td>\n",
       "      <td>TOG (BEN)</td>\n",
       "      <td>-</td>\n",
       "      <td>-</td>\n",
       "      <td>Scouting Required</td>\n",
       "      <td>$20,500 p/w</td>\n",
       "      <td>$150K - $10.5M</td>\n",
       "      <td>-</td>\n",
       "      <td>Right</td>\n",
       "      <td>17</td>\n",
       "      <td>1496</td>\n",
       "      <td>6.56</td>\n",
       "      <td>0</td>\n",
       "      <td>88.00</td>\n",
       "      <td>1</td>\n",
       "      <td>43.38</td>\n",
       "      <td>38.08</td>\n",
       "      <td>88</td>\n",
       "      <td>4.03</td>\n",
       "      <td>9.29</td>\n",
       "      <td>0.48</td>\n",
       "      <td>1.11</td>\n",
       "      <td>0.48</td>\n",
       "      <td>1.11</td>\n",
       "      <td>136</td>\n",
       "      <td>8.18</td>\n",
       "      <td>41</td>\n",
       "      <td>2.47</td>\n",
       "      <td>30.15</td>\n",
       "      <td>11.37</td>\n",
       "      <td>6.98</td>\n",
       "      <td>4.39</td>\n",
       "      <td>62.89</td>\n",
       "      <td>3.73</td>\n",
       "      <td>3.07</td>\n",
       "      <td>82</td>\n",
       "      <td>0.66</td>\n",
       "      <td>0.24</td>\n",
       "      <td>2.07</td>\n",
       "      <td>1.93</td>\n",
       "      <td>0.78</td>\n",
       "      <td>0.42</td>\n",
       "      <td>3.79</td>\n",
       "      <td>2.35</td>\n",
       "      <td>61.90</td>\n",
       "      <td>1.44</td>\n",
       "      <td>38.10</td>\n",
       "      <td>0.24</td>\n",
       "      <td>3.79</td>\n",
       "      <td>72.00</td>\n",
       "      <td>0.24</td>\n",
       "      <td>1.80</td>\n",
       "      <td>1.56</td>\n",
       "      <td>0.59</td>\n",
       "      <td>0.78</td>\n",
       "      <td>16.00</td>\n",
       "      <td>2.29</td>\n",
       "      <td>44</td>\n",
       "      <td>100</td>\n",
       "      <td>73</td>\n",
       "      <td>52</td>\n",
       "      <td>44</td>\n",
       "      <td>30</td>\n",
       "      <td>27</td>\n",
       "      <td>42</td>\n",
       "      <td>54</td>\n",
       "      <td>42</td>\n",
       "      <td>43</td>\n",
       "      <td>20</td>\n",
       "      <td>5</td>\n",
       "      <td>23</td>\n",
       "      <td>67</td>\n",
       "      <td>1</td>\n",
       "    </tr>\n",
       "    <tr>\n",
       "      <th>2</th>\n",
       "      <td>11023165</td>\n",
       "      <td>Amir Rrahmani</td>\n",
       "      <td>D (C)</td>\n",
       "      <td>29</td>\n",
       "      <td>192 cm</td>\n",
       "      <td>83 kg</td>\n",
       "      <td>nEU</td>\n",
       "      <td>Napoli</td>\n",
       "      <td>Serie A TIM</td>\n",
       "      <td>KOS (ALB)</td>\n",
       "      <td>-</td>\n",
       "      <td>-</td>\n",
       "      <td>Scouting Required</td>\n",
       "      <td>$66,000 p/w</td>\n",
       "      <td>$46M - $57M</td>\n",
       "      <td>-</td>\n",
       "      <td>Right</td>\n",
       "      <td>19</td>\n",
       "      <td>1552</td>\n",
       "      <td>6.85</td>\n",
       "      <td>0</td>\n",
       "      <td>81.68</td>\n",
       "      <td>2</td>\n",
       "      <td>64.19</td>\n",
       "      <td>57.70</td>\n",
       "      <td>90</td>\n",
       "      <td>6.55</td>\n",
       "      <td>10.21</td>\n",
       "      <td>0.23</td>\n",
       "      <td>0.36</td>\n",
       "      <td>0.23</td>\n",
       "      <td>0.36</td>\n",
       "      <td>51</td>\n",
       "      <td>2.96</td>\n",
       "      <td>21</td>\n",
       "      <td>1.22</td>\n",
       "      <td>41.18</td>\n",
       "      <td>12.12</td>\n",
       "      <td>6.96</td>\n",
       "      <td>5.16</td>\n",
       "      <td>74.14</td>\n",
       "      <td>1.45</td>\n",
       "      <td>0.93</td>\n",
       "      <td>64</td>\n",
       "      <td>0.52</td>\n",
       "      <td>0.00</td>\n",
       "      <td>2.27</td>\n",
       "      <td>1.62</td>\n",
       "      <td>0.46</td>\n",
       "      <td>0.23</td>\n",
       "      <td>7.94</td>\n",
       "      <td>5.86</td>\n",
       "      <td>73.72</td>\n",
       "      <td>2.09</td>\n",
       "      <td>26.28</td>\n",
       "      <td>0.64</td>\n",
       "      <td>7.94</td>\n",
       "      <td>72.22</td>\n",
       "      <td>0.17</td>\n",
       "      <td>0.64</td>\n",
       "      <td>1.10</td>\n",
       "      <td>0.55</td>\n",
       "      <td>0.23</td>\n",
       "      <td>14.85</td>\n",
       "      <td>0.93</td>\n",
       "      <td>32</td>\n",
       "      <td>100</td>\n",
       "      <td>3</td>\n",
       "      <td>35</td>\n",
       "      <td>44</td>\n",
       "      <td>64</td>\n",
       "      <td>79</td>\n",
       "      <td>54</td>\n",
       "      <td>68</td>\n",
       "      <td>62</td>\n",
       "      <td>75</td>\n",
       "      <td>84</td>\n",
       "      <td>64</td>\n",
       "      <td>11</td>\n",
       "      <td>32</td>\n",
       "      <td>1</td>\n",
       "    </tr>\n",
       "    <tr>\n",
       "      <th>3</th>\n",
       "      <td>12038706</td>\n",
       "      <td>Ramy Bensebaïni</td>\n",
       "      <td>D (LC), WB (L)</td>\n",
       "      <td>28</td>\n",
       "      <td>187 cm</td>\n",
       "      <td>85 kg</td>\n",
       "      <td>-</td>\n",
       "      <td>Borussia Dortmund</td>\n",
       "      <td>Bundesliga</td>\n",
       "      <td>ALG</td>\n",
       "      <td>-</td>\n",
       "      <td>-</td>\n",
       "      <td>Scouting Required</td>\n",
       "      <td>$125,000 p/w</td>\n",
       "      <td>$36M - $57M</td>\n",
       "      <td>-</td>\n",
       "      <td>Left</td>\n",
       "      <td>12</td>\n",
       "      <td>1058</td>\n",
       "      <td>7.04</td>\n",
       "      <td>8</td>\n",
       "      <td>52.90</td>\n",
       "      <td>3</td>\n",
       "      <td>59.80</td>\n",
       "      <td>53.17</td>\n",
       "      <td>89</td>\n",
       "      <td>6.21</td>\n",
       "      <td>10.38</td>\n",
       "      <td>1.45</td>\n",
       "      <td>2.42</td>\n",
       "      <td>1.19</td>\n",
       "      <td>1.99</td>\n",
       "      <td>88</td>\n",
       "      <td>7.49</td>\n",
       "      <td>31</td>\n",
       "      <td>2.64</td>\n",
       "      <td>35.23</td>\n",
       "      <td>14.80</td>\n",
       "      <td>8.93</td>\n",
       "      <td>5.87</td>\n",
       "      <td>65.73</td>\n",
       "      <td>3.23</td>\n",
       "      <td>2.47</td>\n",
       "      <td>76</td>\n",
       "      <td>0.77</td>\n",
       "      <td>0.09</td>\n",
       "      <td>2.00</td>\n",
       "      <td>2.30</td>\n",
       "      <td>0.94</td>\n",
       "      <td>0.34</td>\n",
       "      <td>8.51</td>\n",
       "      <td>6.98</td>\n",
       "      <td>82.00</td>\n",
       "      <td>1.53</td>\n",
       "      <td>18.00</td>\n",
       "      <td>1.19</td>\n",
       "      <td>8.51</td>\n",
       "      <td>80.43</td>\n",
       "      <td>1.02</td>\n",
       "      <td>1.62</td>\n",
       "      <td>0.51</td>\n",
       "      <td>2.33</td>\n",
       "      <td>2.21</td>\n",
       "      <td>24.11</td>\n",
       "      <td>4.76</td>\n",
       "      <td>96</td>\n",
       "      <td>100</td>\n",
       "      <td>69</td>\n",
       "      <td>99</td>\n",
       "      <td>99</td>\n",
       "      <td>96</td>\n",
       "      <td>97</td>\n",
       "      <td>98</td>\n",
       "      <td>99</td>\n",
       "      <td>99</td>\n",
       "      <td>98</td>\n",
       "      <td>90</td>\n",
       "      <td>94</td>\n",
       "      <td>96</td>\n",
       "      <td>96</td>\n",
       "      <td>1</td>\n",
       "    </tr>\n",
       "    <tr>\n",
       "      <th>4</th>\n",
       "      <td>12078947</td>\n",
       "      <td>Wilfried Singo</td>\n",
       "      <td>D (RC), WB/M (R)</td>\n",
       "      <td>23</td>\n",
       "      <td>190 cm</td>\n",
       "      <td>79 kg</td>\n",
       "      <td>-</td>\n",
       "      <td>Monaco</td>\n",
       "      <td>Ligue 1 Uber Eats</td>\n",
       "      <td>CIV</td>\n",
       "      <td>-</td>\n",
       "      <td>-</td>\n",
       "      <td>Scouting Required</td>\n",
       "      <td>$33,000 p/w</td>\n",
       "      <td>$26M - $34M</td>\n",
       "      <td>-</td>\n",
       "      <td>Right</td>\n",
       "      <td>15</td>\n",
       "      <td>1312</td>\n",
       "      <td>7.32</td>\n",
       "      <td>0</td>\n",
       "      <td>87.47</td>\n",
       "      <td>4</td>\n",
       "      <td>72.03</td>\n",
       "      <td>67.16</td>\n",
       "      <td>93</td>\n",
       "      <td>5.69</td>\n",
       "      <td>7.90</td>\n",
       "      <td>1.10</td>\n",
       "      <td>1.52</td>\n",
       "      <td>1.10</td>\n",
       "      <td>1.52</td>\n",
       "      <td>127</td>\n",
       "      <td>8.71</td>\n",
       "      <td>33</td>\n",
       "      <td>2.26</td>\n",
       "      <td>25.98</td>\n",
       "      <td>11.46</td>\n",
       "      <td>12.83</td>\n",
       "      <td>-1.37</td>\n",
       "      <td>-10.68</td>\n",
       "      <td>2.47</td>\n",
       "      <td>2.13</td>\n",
       "      <td>86</td>\n",
       "      <td>0.34</td>\n",
       "      <td>0.00</td>\n",
       "      <td>1.57</td>\n",
       "      <td>2.74</td>\n",
       "      <td>0.41</td>\n",
       "      <td>0.21</td>\n",
       "      <td>5.42</td>\n",
       "      <td>3.36</td>\n",
       "      <td>62.03</td>\n",
       "      <td>2.06</td>\n",
       "      <td>37.97</td>\n",
       "      <td>0.41</td>\n",
       "      <td>5.42</td>\n",
       "      <td>69.57</td>\n",
       "      <td>1.10</td>\n",
       "      <td>1.58</td>\n",
       "      <td>1.17</td>\n",
       "      <td>3.25</td>\n",
       "      <td>2.13</td>\n",
       "      <td>14.57</td>\n",
       "      <td>10.02</td>\n",
       "      <td>99</td>\n",
       "      <td>100</td>\n",
       "      <td>59</td>\n",
       "      <td>99</td>\n",
       "      <td>98</td>\n",
       "      <td>98</td>\n",
       "      <td>99</td>\n",
       "      <td>99</td>\n",
       "      <td>98</td>\n",
       "      <td>98</td>\n",
       "      <td>98</td>\n",
       "      <td>91</td>\n",
       "      <td>20</td>\n",
       "      <td>20</td>\n",
       "      <td>99</td>\n",
       "      <td>1</td>\n",
       "    </tr>\n",
       "  </tbody>\n",
       "</table>\n",
       "</div>"
      ],
      "text/plain": [
       "         id             name          position  age  height weight  inf  \\\n",
       "0    168288    Robin Pröpper             D (C)   30  190 cm  80 kg    -   \n",
       "1    211232    Djéné Dakonam        D (RC), DM   31  178 cm  71 kg    -   \n",
       "2  11023165    Amir Rrahmani             D (C)   29  192 cm  83 kg  nEU   \n",
       "3  12038706  Ramy Bensebaïni    D (LC), WB (L)   28  187 cm  85 kg    -   \n",
       "4  12078947   Wilfried Singo  D (RC), WB/M (R)   23  190 cm  79 kg    -   \n",
       "\n",
       "                club           division nationality home_grown personality  \\\n",
       "0          FC Twente         Eredivisie         NED          -           -   \n",
       "1             Getafe   LaLiga EA Sports   TOG (BEN)          -           -   \n",
       "2             Napoli        Serie A TIM   KOS (ALB)          -           -   \n",
       "3  Borussia Dortmund         Bundesliga         ALG          -           -   \n",
       "4             Monaco  Ligue 1 Uber Eats         CIV          -           -   \n",
       "\n",
       "      media_handling          wage  transfer_value asking_price  \\\n",
       "0  Scouting Required    $2,700 p/w   $850K - $8.4M            -   \n",
       "1  Scouting Required   $20,500 p/w  $150K - $10.5M            -   \n",
       "2  Scouting Required   $66,000 p/w     $46M - $57M            -   \n",
       "3  Scouting Required  $125,000 p/w     $36M - $57M            -   \n",
       "4  Scouting Required   $33,000 p/w     $26M - $34M            -   \n",
       "\n",
       "  preferred_foot  starts  minutes_played  average_rating  sub_appearances  \\\n",
       "0          Right      17            1575            6.69                1   \n",
       "1          Right      17            1496            6.56                0   \n",
       "2          Right      19            1552            6.85                0   \n",
       "3           Left      12            1058            7.04                8   \n",
       "4          Right      15            1312            7.32                0   \n",
       "\n",
       "   minutes/game  index  passes_attempted/90  passes_completed/90  \\\n",
       "0         87.50      0                56.17                47.20   \n",
       "1         88.00      1                43.38                38.08   \n",
       "2         81.68      2                64.19                57.70   \n",
       "3         52.90      3                59.80                53.17   \n",
       "4         87.47      4                72.03                67.16   \n",
       "\n",
       "   pass_completion_%  progressive_passes/90  progressive_pass_rate  \\\n",
       "0                 84                   4.69                   8.34   \n",
       "1                 88                   4.03                   9.29   \n",
       "2                 90                   6.55                  10.21   \n",
       "3                 89                   6.21                  10.38   \n",
       "4                 93                   5.69                   7.90   \n",
       "\n",
       "   key_passes/90  key_pass_%  open_play_key_passes/90  open_play_key_pass_%  \\\n",
       "0           0.23        0.41                     0.23                  0.41   \n",
       "1           0.48        1.11                     0.48                  1.11   \n",
       "2           0.23        0.36                     0.23                  0.36   \n",
       "3           1.45        2.42                     1.19                  1.99   \n",
       "4           1.10        1.52                     1.10                  1.52   \n",
       "\n",
       "   pressures_attempted  pressures_attempted/90  pressures_completed  \\\n",
       "0                   58                    3.31                   22   \n",
       "1                  136                    8.18                   41   \n",
       "2                   51                    2.96                   21   \n",
       "3                   88                    7.49                   31   \n",
       "4                  127                    8.71                   33   \n",
       "\n",
       "   pressures_completed/90  pressure_success_%  possession_won/90  \\\n",
       "0                    1.26               37.93               9.77   \n",
       "1                    2.47               30.15              11.37   \n",
       "2                    1.22               41.18              12.12   \n",
       "3                    2.64               35.23              14.80   \n",
       "4                    2.26               25.98              11.46   \n",
       "\n",
       "   possession_lost/90  poss+_/90  poss+__%  tackles_attempted/90  \\\n",
       "0                8.51       1.26     14.81                  0.86   \n",
       "1                6.98       4.39     62.89                  3.73   \n",
       "2                6.96       5.16     74.14                  1.45   \n",
       "3                8.93       5.87     65.73                  3.23   \n",
       "4               12.83      -1.37    -10.68                  2.47   \n",
       "\n",
       "   tackles_completed/90  tackle_completion_%  tackles_failed/90  \\\n",
       "0                  0.57                   67               0.29   \n",
       "1                  3.07                   82               0.66   \n",
       "2                  0.93                   64               0.52   \n",
       "3                  2.47                   76               0.77   \n",
       "4                  2.13                   86               0.34   \n",
       "\n",
       "   key_tackles/90  tackle_quality  interceptions/90  blocks/90  \\\n",
       "0            0.17            1.50              1.09       0.23   \n",
       "1            0.24            2.07              1.93       0.78   \n",
       "2            0.00            2.27              1.62       0.46   \n",
       "3            0.09            2.00              2.30       0.94   \n",
       "4            0.00            1.57              2.74       0.41   \n",
       "\n",
       "   shots_blocked/90  headers_attempted/90  headers_won/90  headers_won_%  \\\n",
       "0              0.23                  7.54            4.57          60.61   \n",
       "1              0.42                  3.79            2.35          61.90   \n",
       "2              0.23                  7.94            5.86          73.72   \n",
       "3              0.34                  8.51            6.98          82.00   \n",
       "4              0.21                  5.42            3.36          62.03   \n",
       "\n",
       "   headers_lost/90  headers_lost_%  key_headers/90  \\\n",
       "0             2.97           39.39            1.03   \n",
       "1             1.44           38.10            0.24   \n",
       "2             2.09           26.28            0.64   \n",
       "3             1.53           18.00            1.19   \n",
       "4             2.06           37.97            0.41   \n",
       "\n",
       "   aerial_challenges_attempted/90  duels_win_%  fouls_won/90  \\\n",
       "0                            7.54        61.22          0.00   \n",
       "1                            3.79        72.00          0.24   \n",
       "2                            7.94        72.22          0.17   \n",
       "3                            8.51        80.43          1.02   \n",
       "4                            5.42        69.57          1.10   \n",
       "\n",
       "   fouls_committed/90  clearances/90  attacking_actions/90  \\\n",
       "0                0.57           1.71                  0.11   \n",
       "1                1.80           1.56                  0.59   \n",
       "2                0.64           1.10                  0.55   \n",
       "3                1.62           0.51                  2.33   \n",
       "4                1.58           1.17                  3.25   \n",
       "\n",
       "   creative_actions/90  defensive_actions/90  excitement_factor/90  \\\n",
       "0                 0.29                 17.69                  0.74   \n",
       "1                 0.78                 16.00                  2.29   \n",
       "2                 0.23                 14.85                  0.93   \n",
       "3                 2.21                 24.11                  4.76   \n",
       "4                 2.13                 14.57                 10.02   \n",
       "\n",
       "   general_performance  goalkeeping  defensive_defender  creative_defender  \\\n",
       "0                    4          100                   1                  3   \n",
       "1                   44          100                  73                 52   \n",
       "2                   32          100                   3                 35   \n",
       "3                   96          100                  69                 99   \n",
       "4                   99          100                  59                 99   \n",
       "\n",
       "   attacking_defender  creative_midfielder  attacking_midfielder  \\\n",
       "0                  11                    6                     4   \n",
       "1                  44                   30                    27   \n",
       "2                  44                   64                    79   \n",
       "3                  99                   96                    97   \n",
       "4                  98                   98                    99   \n",
       "\n",
       "   creative_winger  attacking_winger  creative_forward  attacking_forward  \\\n",
       "0                5                 7                12                  9   \n",
       "1               42                54                42                 43   \n",
       "2               54                68                62                 75   \n",
       "3               98                99                99                 98   \n",
       "4               99                98                98                 98   \n",
       "\n",
       "   finisher  aerial_threat  reader  assister  ones  \n",
       "0        15             73      13        16     1  \n",
       "1        20              5      23        67     1  \n",
       "2        84             64      11        32     1  \n",
       "3        90             94      96        96     1  \n",
       "4        91             20      20        99     1  "
      ]
     },
     "execution_count": 103,
     "metadata": {},
     "output_type": "execute_result"
    }
   ],
   "source": [
    "# Create a column of 1s\n",
    "df_players['ones'] = 1\n",
    "df_players.head()"
   ]
  },
  {
   "cell_type": "markdown",
   "id": "e917f304",
   "metadata": {},
   "source": [
    "## Plot function"
   ]
  },
  {
   "cell_type": "code",
   "execution_count": 104,
   "id": "f94ec5bb",
   "metadata": {},
   "outputs": [],
   "source": [
    "def scatter_plot(df, x_metric, y_metric, z_metric, \n",
    "                 title, show_color_bar=False, show_name_label=True): \n",
    "    # Set text to 'name' if show_name_label is True, else empty string\n",
    "    text_col = 'name' if show_name_label else None\n",
    "\n",
    "    # Create plotly figure\n",
    "    fig = px.scatter(\n",
    "        df,\n",
    "        x=x_metric,\n",
    "        y=y_metric,\n",
    "        color=z_metric,\n",
    "        text=text_col,\n",
    "        color_continuous_scale='RdYlGn',\n",
    "        labels={z_metric: f'Color Scale ({z_metric})'},\n",
    "        title=title,\n",
    "        width=1200, \n",
    "        height=700    \n",
    "    )\n",
    "\n",
    "    # Format traces\n",
    "    fig.update_traces(\n",
    "        marker=dict(size=10), \n",
    "        textposition='top center',\n",
    "        textfont=dict(size=10),\n",
    "        customdata=df[['name', 'club']],  # Always pass 'name' for hovertemplate\n",
    "        hovertemplate=(\n",
    "            \"<b>%{customdata[0]}</b><br>\" +\n",
    "            \"<b>%{customdata[1]}</b><br><br>\" +\n",
    "            f\"{x_metric}: \" + \"%{x}<br>\" +\n",
    "            f\"{y_metric}: \" + \"%{y}<br>\" +\n",
    "            f\"{z_metric}: \" + \"%{marker.color}<extra></extra>\"\n",
    "        )\n",
    "    )\n",
    "\n",
    "    fig.update_layout(\n",
    "        title={\n",
    "            'text': f'{title} ({len(df): ,.0f})',\n",
    "            'x': 0.5,\n",
    "            'xanchor': 'center'\n",
    "        },\n",
    "        coloraxis_colorbar=dict(title=z_metric),\n",
    "        coloraxis_showscale=show_color_bar,  # Show or hide the color bar\n",
    "        plot_bgcolor='white',\n",
    "        paper_bgcolor='white',\n",
    "        xaxis=dict(showgrid=True, gridcolor='lightgray', zeroline=False),\n",
    "        yaxis=dict(showgrid=True, gridcolor='lightgray', zeroline=False)\n",
    "    )\n",
    "\n",
    "    fig.show()\n"
   ]
  },
  {
   "cell_type": "markdown",
   "id": "22683d93",
   "metadata": {},
   "source": [
    "## Passing analysis"
   ]
  },
  {
   "cell_type": "markdown",
   "id": "5c2da36b",
   "metadata": {},
   "source": [
    "### Full universe"
   ]
  },
  {
   "cell_type": "code",
   "execution_count": 105,
   "id": "c953fb7b",
   "metadata": {},
   "outputs": [
    {
     "data": {
      "application/vnd.plotly.v1+json": {
       "config": {
        "plotlyServerURL": "https://plot.ly"
       },
       "data": [
        {
         "customdata": [
          [
           "Robin Pröpper",
           "FC Twente"
          ],
          [
           "Djéné Dakonam",
           "Getafe"
          ],
          [
           "Amir Rrahmani",
           "Napoli"
          ],
          [
           "Ramy Bensebaïni",
           "Borussia Dortmund"
          ],
          [
           "Wilfried Singo",
           "Monaco"
          ],
          [
           "Formose Mendy",
           "Lorient"
          ],
          [
           "Abakar Sylla",
           "Strasbourg"
          ],
          [
           "Kiki Kouyaté",
           "Montpellier"
          ],
          [
           "Edmond Tapsoba",
           "Bayer 04"
          ],
          [
           "Montassar Talbi",
           "Lorient"
          ],
          [
           "Nayef Aguerd",
           "West Ham"
          ],
          [
           "Nicolás Tagliafico",
           "Lyon"
          ],
          [
           "Leonardo Jara",
           "Vélez"
          ],
          [
           "Federico Rasmussen",
           "Godoy Cruz"
          ],
          [
           "Germán Pezzella",
           "Real Betis"
          ],
          [
           "Walter Kannemann",
           "GRE"
          ],
          [
           "Ramiro Funes Mori",
           "River"
          ],
          [
           "Guillermo Ortiz",
           "Godoy Cruz"
          ],
          [
           "Gastón Campi",
           "San Lorenzo"
          ],
          [
           "Gastón Suso",
           "Platense"
          ],
          [
           "Juan Rodríguez",
           "Talleres"
          ],
          [
           "Agustín García Basso",
           "Racing Club"
          ],
          [
           "Abel Luciatti",
           "Lanús"
          ],
          [
           "Matías Catalán",
           "Talleres"
          ],
          [
           "Lautaro Giannetti",
           "Udinese"
          ],
          [
           "Emanuel Brítez",
           "FOR"
          ],
          [
           "Jonathan Galván",
           "Argentinos Jrs."
          ],
          [
           "Emanuel Mammana",
           "Vélez"
          ],
          [
           "Lucas Villalba",
           "CEC"
          ],
          [
           "Yonathan Cabral",
           "Gimnasia (LP)"
          ],
          [
           "Nicolás Tripichio",
           "Defensa y Justicia"
          ],
          [
           "Marcos Senesi",
           "Bournemouth"
          ],
          [
           "Nicolás Figal",
           "Boca"
          ],
          [
           "Néstor Breitenbruch",
           "Atl. Tucumán"
          ],
          [
           "Lucas Martínez Quarta",
           "Fiorentina"
          ],
          [
           "Nicolás Thaller",
           "Lanús"
          ],
          [
           "Lucas Suárez",
           "Talleres"
          ],
          [
           "Gustavo Canto",
           "Gimnasia (LP)"
          ],
          [
           "Fernando Alarcón",
           "Instituto"
          ],
          [
           "Lucas Carrizo",
           "Huracán"
          ],
          [
           "Cristian Romero",
           "Tottenham"
          ],
          [
           "Gonzalo Goñi",
           "Barracas Central"
          ],
          [
           "Alejandro Maciel",
           "Banfield"
          ],
          [
           "David Martínez",
           "River"
          ],
          [
           "Gonzalo Maffini",
           "Belgrano"
          ],
          [
           "Manuel Capasso",
           "Vasco da Gama"
          ],
          [
           "Nicolás Zalazar",
           "Defensa y Justicia"
          ],
          [
           "Lucas Faggioli",
           "Barracas Central"
          ],
          [
           "Miguel Brizuela",
           "Instituto"
          ],
          [
           "Lisandro Martínez",
           "Man Utd"
          ],
          [
           "Ignacio Vázquez",
           "Platense"
          ],
          [
           "Sebastián Valdez",
           "Central Córdoba (SdE)"
          ],
          [
           "Nehuén Pérez",
           "Udinese"
          ],
          [
           "Leonardo Morales",
           "Gimnasia (LP)"
          ],
          [
           "Oscar Salomón",
           "Platense"
          ],
          [
           "Alan Franco",
           "SPO"
          ],
          [
           "Facundo Medina",
           "Lens"
          ],
          [
           "Santiago Sosa",
           "Racing Club"
          ],
          [
           "Franco Paredes",
           "Sarmiento (Junín)"
          ],
          [
           "Nicolás Capraro",
           "Barracas Central"
          ],
          [
           "Juan Foyth",
           "Villarreal"
          ],
          [
           "Facundo Garcés",
           "Colón"
          ],
          [
           "Gastón Hernández",
           "San Lorenzo"
          ],
          [
           "Leonardo Balerdi",
           "Marseille"
          ],
          [
           "Valentín Benítez",
           "Newell's"
          ],
          [
           "Nicolás Demartini",
           "Barracas Central"
          ],
          [
           "Dardo Torres",
           "Argentinos Jrs."
          ],
          [
           "Gastón Ávila",
           "Ajax"
          ],
          [
           "Elías Calderón",
           "Defensa y Justicia"
          ],
          [
           "Nicolás Paz",
           "Unión (SF)"
          ],
          [
           "Agustín Quiroga",
           "Platense"
          ],
          [
           "Juan Cáceres",
           "Lanús"
          ],
          [
           "Francisco Flores",
           "Atl. Tucumán"
          ],
          [
           "Santiago Ramos Mingo",
           "Defensa y Justicia"
          ],
          [
           "Agustín Sández",
           "Rosario Central"
          ],
          [
           "Camilo Albornoz",
           "Atl. Tucumán"
          ],
          [
           "Aarón Quiros",
           "Banfield"
          ],
          [
           "Tomás Cavanagh",
           "Vélez"
          ],
          [
           "Damián Fernández",
           "Vélez"
          ],
          [
           "Facundo Giacopuzzi",
           "Tigre"
          ],
          [
           "Santiago Flores",
           "Estudiantes (LP)"
          ],
          [
           "Juan Carlos Portillo",
           "Talleres"
          ],
          [
           "Ian Glavinovich",
           "Newell's"
          ],
          [
           "Rodrigo Herrera",
           "Barracas Central"
          ],
          [
           "Santiago Laquidain",
           "Central Córdoba (SdE)"
          ],
          [
           "Tomás Kummer",
           "Talleres"
          ],
          [
           "Nicolás Valentini",
           "Boca"
          ],
          [
           "Juan Cruz Guasone",
           "Sarmiento (Junín)"
          ],
          [
           "Leandro Figueredo",
           "Huracán"
          ],
          [
           "Zaid Romero",
           "Estudiantes (LP)"
          ],
          [
           "Balthazar Bernardi",
           "Arsenal (Sarandí)"
          ],
          [
           "Pablo Minissale",
           "Central Córdoba (SdE)"
          ],
          [
           "Gonzalo Luján",
           "San Lorenzo"
          ],
          [
           "David Alaba",
           "Real Madrid"
          ],
          [
           "Gernot Trauner",
           "Feyenoord"
          ],
          [
           "Florian Grillitsch",
           "TSG Hoffenheim"
          ],
          [
           "Philipp Lienhart",
           "SC Freiburg"
          ],
          [
           "Stefan Posch",
           "Bologna"
          ],
          [
           "Attila Szalai",
           "SC Freiburg"
          ],
          [
           "Maximilian Wöber",
           "Mönchengladbach"
          ],
          [
           "Dayot Upamecano",
           "FC Bayern"
          ],
          [
           "Emanuel Aiwu",
           "Birmingham"
          ],
          [
           "Eliaquim Mangala",
           "Estoril Praia"
          ],
          [
           "Chancel Mbemba",
           "Marseille"
          ],
          [
           "Dario Van Den Buijs",
           "RKC Waalwijk"
          ],
          [
           "Siebe Horemans",
           "Excelsior"
          ],
          [
           "Ahmed Touba",
           "Lecce"
          ],
          [
           "Hannes Delcroix",
           "Burnley"
          ],
          [
           "Shawn Adewoye",
           "RKC Waalwijk"
          ],
          [
           "Arthur Theate",
           "Rennes"
          ],
          [
           "Koni De Winter",
           "Genoa"
          ],
          [
           "Alec Van Hoorenbeeck",
           "FC Twente"
          ],
          [
           "Juan Jesus",
           "Napoli"
          ],
          [
           "Bruno Uvini",
           "GRE"
          ],
          [
           "Sidimar",
           "GOI"
          ],
          [
           "Dodô",
           "SAN"
          ],
          [
           "Danilo",
           "Juventus"
          ],
          [
           "Bruno Alves",
           "CUI"
          ],
          [
           "Pablo",
           "BOT"
          ],
          [
           "Marllon",
           "CUI"
          ],
          [
           "Ricardo Silva",
           "AMG"
          ],
          [
           "Rodrigo Caio",
           "FLU"
          ],
          [
           "Néris",
           "CEC"
          ],
          [
           "Marquinhos",
           "PSG"
          ],
          [
           "Bruno Pirri",
           "GOI"
          ],
          [
           "Luan",
           "SEP"
          ],
          [
           "Gustavo Henrique",
           "COR"
          ],
          [
           "Antônio Carlos",
           "FLU"
          ],
          [
           "Matheus Reis",
           "Sporting CP"
          ],
          [
           "Tinga",
           "FOR"
          ],
          [
           "Diego Carlos",
           "Aston Villa"
          ],
          [
           "Marlon",
           "FLU"
          ],
          [
           "Jemerson",
           "ATM"
          ],
          [
           "Marcão",
           "Sevilla"
          ],
          [
           "Maracás",
           "Moreirense"
          ],
          [
           "Danilo Barbosa",
           "BOT"
          ],
          [
           "Igor Rabello",
           "ATM"
          ],
          [
           "Léo Pereira",
           "FLA"
          ],
          [
           "Eduardo Bauermann",
           "Athlético Paranaense"
          ],
          [
           "Nogueira",
           "Desp. Chaves"
          ],
          [
           "Marcelo Benevenuto",
           "CTB"
          ],
          [
           "Fabrício Bruno",
           "FLA"
          ],
          [
           "Éder",
           "AMG"
          ],
          [
           "Robson Bambu",
           "Arouca"
          ],
          [
           "Léo",
           "Vasco da Gama"
          ],
          [
           "Pedro Henrique",
           "Athlético Paranaense"
          ],
          [
           "Zé Ivaldo",
           "CEC"
          ],
          [
           "Juninho",
           "FC Midtjylland"
          ],
          [
           "Gabriel",
           "Arsenal"
          ],
          [
           "Adryelson",
           "Lyon"
          ],
          [
           "Jaílson",
           "Celta"
          ],
          [
           "Nicolas",
           "AMG"
          ],
          [
           "Léo Ortiz",
           "RB Bragantino"
          ],
          [
           "Diego Costa",
           "SPO"
          ],
          [
           "Patrick William",
           "Rio Ave"
          ],
          [
           "Pedrão",
           "Portimonense"
          ],
          [
           "Bremer",
           "Juventus"
          ],
          [
           "Bernardo",
           "VfL Bochum"
          ],
          [
           "Bruno Melo",
           "CTB"
          ],
          [
           "Reynaldo",
           "CTB"
          ],
          [
           "Rezende",
           "BAH"
          ],
          [
           "João Basso",
           "Estoril Praia"
          ],
          [
           "Alex Nascimento",
           "SAN"
          ],
          [
           "Tuta",
           "Eintracht Frankfurt"
          ],
          [
           "João Victor",
           "Vasco da Gama"
          ],
          [
           "Miranda",
           "Vasco da Gama"
          ],
          [
           "Vitão",
           "INT"
          ],
          [
           "Zé Gabriel",
           "Vasco da Gama"
          ],
          [
           "Kanu",
           "BAH"
          ],
          [
           "Lucas Halter",
           "BOT"
          ],
          [
           "Kaíque Rocha",
           "Athlético Paranaense"
          ],
          [
           "De Lucca",
           "Vasco da Gama"
          ],
          [
           "Vitor Mendes",
           "FOR"
          ],
          [
           "Morato",
           "SL Benfica"
          ],
          [
           "Bruno Fuchs",
           "ATM"
          ],
          [
           "Edu",
           "GOI"
          ],
          [
           "Natan",
           "Napoli"
          ],
          [
           "Caetano",
           "COR"
          ],
          [
           "Riccieli",
           "Famalicão"
          ],
          [
           "Luan Patrick",
           "Athlético Paranaense"
          ],
          [
           "Luizão",
           "Preston"
          ],
          [
           "Vinicius Kauê",
           "Athlético Paranaense"
          ],
          [
           "Gabriel Pereira",
           "Gil Vicente"
          ],
          [
           "Naves",
           "SEP"
          ],
          [
           "Vanderlan",
           "SEP"
          ],
          [
           "Joseph Okumu",
           "Stade Reims"
          ],
          [
           "Nermin Zolotić",
           "Casa Pia"
          ],
          [
           "Denis Kolinger",
           "Vejle"
          ],
          [
           "Nino Galović",
           "Arouca"
          ],
          [
           "Duje Ćaleta-Car",
           "Lyon"
          ],
          [
           "Kristijan Jakić",
           "Augsburg"
          ],
          [
           "Ardian Ismajli",
           "Empoli"
          ],
          [
           "Hrvoje Smolčić",
           "Eintracht Frankfurt"
          ],
          [
           "Bartol Franjić",
           "Darmstadt 98"
          ],
          [
           "Josip Šutalo",
           "Ajax"
          ],
          [
           "Joško Gvardiol",
           "Man City"
          ],
          [
           "Vladimír Coufal",
           "West Ham"
          ],
          [
           "Jannik Vestergaard",
           "Leicester"
          ],
          [
           "Nicolai Boilesen",
           "FC København"
          ],
          [
           "Jores Okore",
           "Coventry"
          ],
          [
           "Pascal Gregor",
           "Lyngby"
          ],
          [
           "Frederik Tingager",
           "AGF"
          ],
          [
           "Jeppe Tverskov",
           "FC Nordsjælland"
          ],
          [
           "Matti Olsen",
           "Hvidovre IF"
          ],
          [
           "Joachim Andersen",
           "Crystal Palace"
          ],
          [
           "Rasmus Lauritsen",
           "Brøndby IF"
          ],
          [
           "Malte Kiilerich",
           "Hvidovre IF"
          ],
          [
           "Kristian Pedersen",
           "Sheffield Wednesday"
          ],
          [
           "Mads Andersen",
           "Luton"
          ],
          [
           "Rasmus Nicolaisen",
           "Toulouse"
          ],
          [
           "Jacob Rasmussen",
           "Brøndby IF"
          ],
          [
           "Joel Felix",
           "Silkeborg IF"
          ],
          [
           "Tobias Mølgaard",
           "AGF"
          ],
          [
           "Mads Bech Sørensen",
           "FC Midtjylland"
          ],
          [
           "Daniel Anyembe",
           "Viborg FF"
          ],
          [
           "Abdul Mumin",
           "Rayo Vallecano"
          ],
          [
           "Ahmed Iljazovski",
           "Hvidovre IF"
          ],
          [
           "Niklas Vesterlund",
           "FC Utrecht"
          ],
          [
           "Oliver Provstgaard",
           "Vejle"
          ],
          [
           "Alexander Busch",
           "Silkeborg IF"
          ],
          [
           "Luke Ayling",
           "Middlesbrough"
          ],
          [
           "Steve Cook",
           "QPR"
          ],
          [
           "Liam Cooper",
           "Leeds"
          ],
          [
           "Ignasi Miquel",
           "Granada"
          ],
          [
           "Shane Duffy",
           "Norwich"
          ],
          [
           "Ryan Leonard",
           "Millwall"
          ],
          [
           "Ben Gibson",
           "Norwich"
          ],
          [
           "John Egan",
           "Sheff Utd"
          ],
          [
           "Matty Pearson",
           "Huddersfield"
          ],
          [
           "Jake Bidwell",
           "Coventry"
          ],
          [
           "Conor Coady",
           "Leicester"
          ],
          [
           "Jack Robinson",
           "Sheff Utd"
          ],
          [
           "Tyler Blackett",
           "Rotherham"
          ],
          [
           "Charlie Taylor",
           "Burnley"
          ],
          [
           "Reece James",
           "Sheffield Wednesday"
          ],
          [
           "John Stones",
           "Man City"
          ],
          [
           "Paddy McNair",
           "Middlesbrough"
          ],
          [
           "Darragh Lenihan",
           "Middlesbrough"
          ],
          [
           "Dominic Hyam",
           "Blackburn"
          ],
          [
           "Cameron Burgess",
           "Ipswich"
          ],
          [
           "Wes Harding",
           "Millwall"
          ],
          [
           "Julio Pleguezuelo",
           "Plymouth"
          ],
          [
           "Fikayo Tomori",
           "Milan"
          ],
          [
           "Ben Sheaf",
           "Coventry"
          ],
          [
           "Cédric Kipré",
           "West Brom"
          ],
          [
           "Alfie Jones",
           "Hull"
          ],
          [
           "Joe Rodon",
           "Leeds"
          ],
          [
           "Cameron Humphreys",
           "Rotherham"
          ],
          [
           "Declan Rice",
           "Arsenal"
          ],
          [
           "Japhet Tanganga",
           "Millwall"
          ],
          [
           "Marc Guéhi",
           "Crystal Palace"
          ],
          [
           "Reece James",
           "Chelsea"
          ],
          [
           "Ben Cabango",
           "Swansea"
          ],
          [
           "Christoph Klarer",
           "Darmstadt 98"
          ],
          [
           "Daniel Ballard",
           "Sunderland"
          ],
          [
           "Jacob Greaves",
           "Hull"
          ],
          [
           "Di'Shon Bernard",
           "Sheffield Wednesday"
          ],
          [
           "Harry Clarke",
           "Ipswich"
          ],
          [
           "Mark McGuinness",
           "Cardiff"
          ],
          [
           "Eric García",
           "Girona"
          ],
          [
           "Taylor Harwood-Bellis",
           "Southampton"
          ],
          [
           "Haydon Roberts",
           "Bristol City"
          ],
          [
           "Teden Mengi",
           "Luton"
          ],
          [
           "Luis Binks",
           "Coventry"
          ],
          [
           "Dennis Cirkin",
           "Sunderland"
          ],
          [
           "Bashir Humphreys",
           "Swansea"
          ],
          [
           "Levi Colwill",
           "Chelsea"
          ],
          [
           "Odel Offiah",
           "QPR"
          ],
          [
           "Sean Morrison",
           "Rotherham"
          ],
          [
           "Lewis Dunk",
           "Brighton"
          ],
          [
           "Liam Palmer",
           "Sheffield Wednesday"
          ],
          [
           "Liam Moore",
           "AGF"
          ],
          [
           "James Tarkowski",
           "Everton"
          ],
          [
           "Dan Burn",
           "Newcastle"
          ],
          [
           "Morgan Fox",
           "QPR"
          ],
          [
           "Jack Stephens",
           "Southampton"
          ],
          [
           "Calum Chambers",
           "Aston Villa"
          ],
          [
           "Luke Shaw",
           "Man Utd"
          ],
          [
           "Luke O'Nien",
           "Sunderland"
          ],
          [
           "Jake Cooper",
           "Millwall"
          ],
          [
           "Amari'i Bell",
           "Luton"
          ],
          [
           "Perry Ng",
           "Cardiff"
          ],
          [
           "Corentin Tolisso",
           "Lyon"
          ],
          [
           "Joe Gomez",
           "Liverpool"
          ],
          [
           "Nathaniel Phillips",
           "Cardiff"
          ],
          [
           "Dael Fry",
           "Middlesbrough"
          ],
          [
           "Zak Vyner",
           "Bristol City"
          ],
          [
           "Jean-Kevin Duverne",
           "Nantes"
          ],
          [
           "James Justin",
           "Leicester"
          ],
          [
           "Benjamin White",
           "Arsenal"
          ],
          [
           "Ezri Konsa",
           "Aston Villa"
          ],
          [
           "Max Kilman",
           "Wolves"
          ],
          [
           "Scott Wharton",
           "Blackburn"
          ],
          [
           "Ben Godfrey",
           "Everton"
          ],
          [
           "Luke Woolfenden",
           "Ipswich"
          ],
          [
           "Akin Famewo",
           "Sheffield Wednesday"
          ],
          [
           "Harry Pickering",
           "Blackburn"
          ],
          [
           "Lloyd Kelly",
           "Bournemouth"
          ],
          [
           "Peter Kioso",
           "Rotherham"
          ],
          [
           "Melle Meulensteen",
           "Vitesse"
          ],
          [
           "Jordan Storey",
           "Preston"
          ],
          [
           "Lewis Gibson",
           "Plymouth"
          ],
          [
           "Ben Wilmot",
           "Stoke"
          ],
          [
           "Jordan Williams",
           "Bristol City"
          ],
          [
           "Ethan Ampadu",
           "Leeds"
          ],
          [
           "Dion Sanderson",
           "Birmingham"
          ],
          [
           "Harry Darling",
           "Swansea"
          ],
          [
           "Josh Flint",
           "FC Volendam"
          ],
          [
           "Nathan Wood",
           "Swansea"
          ],
          [
           "Andrew Omobamidele",
           "Nottm Forest"
          ],
          [
           "Jarrad Branthwaite",
           "Everton"
          ],
          [
           "Frederik Alves",
           "Brøndby IF"
          ],
          [
           "Gerrit Nauber",
           "Go Ahead Eagles"
          ],
          [
           "Kostas Manolas",
           "Salernitana"
          ],
          [
           "Charalampos Lykogiannis",
           "Havre AC"
          ],
          [
           "Dimitris Goutas",
           "Cardiff"
          ],
          [
           "Jordy Clasie",
           "AZ"
          ],
          [
           "Bruno Martins Indi",
           "AZ"
          ],
          [
           "Bart Vriends",
           "Sparta Rotterdam"
          ],
          [
           "Wesley Hoedt",
           "Watford"
          ],
          [
           "Thomas Lam",
           "PEC Zwolle"
          ],
          [
           "Virgil van Dijk",
           "Liverpool"
          ],
          [
           "Joël Veltman",
           "Brighton"
          ],
          [
           "Nathan Aké",
           "Man City"
          ],
          [
           "Mike van der Hoorn",
           "FC Utrecht"
          ],
          [
           "Wessel Dammers",
           "Randers FC"
          ],
          [
           "Damian van Bruggen",
           "Almere City"
          ],
          [
           "Sven van Beek",
           "sc Heerenveen"
          ],
          [
           "Damon Mirani",
           "FC Volendam"
          ],
          [
           "Hidde ter Avest",
           "FC Utrecht"
          ],
          [
           "Joris Kramer",
           "Go Ahead Eagles"
          ],
          [
           "Calvin Verdonk",
           "N.E.C. Nijmegen"
          ],
          [
           "Danilho Doekhi",
           "Union Berlin"
          ],
          [
           "Philippe Sandler",
           "N.E.C. Nijmegen"
          ],
          [
           "Mats Knoester",
           "AGF"
          ],
          [
           "Matthijs de Ligt",
           "FC Bayern"
          ],
          [
           "Mats Deijl",
           "Go Ahead Eagles"
          ],
          [
           "Pablo Rosario",
           "Nice"
          ],
          [
           "Jordan Teze",
           "PSV"
          ],
          [
           "Radinio Balker",
           "Huddersfield"
          ],
          [
           "Justin Hoogma",
           "Heracles Almelo"
          ],
          [
           "Pascal Struijk",
           "Leeds"
          ],
          [
           "Jamal Amofa",
           "Go Ahead Eagles"
          ],
          [
           "Quinten Timber",
           "Feyenoord"
          ],
          [
           "Perr Schuurs",
           "Torino"
          ],
          [
           "Sven Botman",
           "Newcastle"
          ],
          [
           "Sam Beukema",
           "Bologna"
          ],
          [
           "Peer Koopmeiners",
           "Almere City"
          ],
          [
           "Justin de Haas",
           "Famalicão"
          ],
          [
           "Lutsharel Geertruida",
           "Feyenoord"
          ],
          [
           "Ramon Hendriks",
           "Vitesse"
          ],
          [
           "Redouan El Yaakoubi",
           "Excelsior"
          ],
          [
           "Christopher Mamengi",
           "Almere City"
          ],
          [
           "Mats Wieffer",
           "Feyenoord"
          ],
          [
           "Denzel Hall",
           "sc Heerenveen"
          ],
          [
           "Devyne Rensch",
           "Ajax"
          ],
          [
           "Ki-Jana Hoever",
           "Stoke"
          ],
          [
           "Brian Plat",
           "FC Volendam"
          ],
          [
           "Jan Paul van Hecke",
           "Brighton"
          ],
          [
           "Thomas Beelen",
           "Feyenoord"
          ],
          [
           "Nathan Tjoe-A-On",
           "sc Heerenveen"
          ],
          [
           "Mees Hilgers",
           "FC Twente"
          ],
          [
           "Enzo Cornelisse",
           "Vitesse"
          ],
          [
           "Xavier Mbuyamba",
           "FC Volendam"
          ],
          [
           "Ryan Flamingo",
           "FC Utrecht"
          ],
          [
           "Micky van de Ven",
           "Tottenham"
          ],
          [
           "Lamare Bogarde",
           "Preston"
          ],
          [
           "Serano Seymor",
           "Excelsior"
          ],
          [
           "Kolbeinn Birgir Finnsson",
           "Lyngby"
          ],
          [
           "Luca Caldirola",
           "Monza"
          ],
          [
           "Alan Empereur",
           "CUI"
          ],
          [
           "Juan Cruz",
           "Osasuna"
          ],
          [
           "Gian Marco Ferrari",
           "Sassuolo"
          ],
          [
           "Rodrigo Ely",
           "GRE"
          ],
          [
           "Mattia Bani",
           "Genoa"
          ],
          [
           "Alessio Romagnoli",
           "Lazio"
          ],
          [
           "Gianluca Mancini",
           "Roma"
          ],
          [
           "Sebastiano Luperto",
           "Empoli"
          ],
          [
           "Paweł Bochniewicz",
           "sc Heerenveen"
          ],
          [
           "Giangiacomo Magnani",
           "Hellas Verona"
          ],
          [
           "Federico Dimarco",
           "Inter"
          ],
          [
           "Martin Valjent",
           "Mallorca"
          ],
          [
           "Federico Baschirotto",
           "Lecce"
          ],
          [
           "Alberto Dossena",
           "Cagliari"
          ],
          [
           "Nicolò Casale",
           "Lazio"
          ],
          [
           "Martin Erlić",
           "Sassuolo"
          ],
          [
           "Alessandro Bastoni",
           "Inter"
          ],
          [
           "Enrico Delprato",
           "Empoli"
          ],
          [
           "Matteo Gabbia",
           "VfL Wolfsburg"
          ],
          [
           "Luca Ranieri",
           "Fiorentina"
          ],
          [
           "Alessandro Buongiorno",
           "Torino"
          ],
          [
           "Caleb Okoli",
           "Frosinone"
          ],
          [
           "Rodrigo Guth",
           "Fortuna Sittard"
          ],
          [
           "Alessandro Zanoli",
           "Salernitana"
          ],
          [
           "Riccardo Calafiori",
           "Bologna"
          ],
          [
           "Adam Obert",
           "Cagliari"
          ],
          [
           "Giorgio Scalvini",
           "Atalanta"
          ],
          [
           "Yuta Nakayama",
           "Huddersfield"
          ],
          [
           "Ko Itakura",
           "Mönchengladbach"
          ],
          [
           "Takehiro Tomiyasu",
           "Arsenal"
          ],
          [
           "Hiroki Ito",
           "VfB Stuttgart"
          ],
          [
           "Zach Muscat",
           "Sp. Farense"
          ],
          [
           "Samuel Gigot",
           "Marseille"
          ],
          [
           "Olivier Boscagli",
           "PSV"
          ],
          [
           "Evan N'Dicka",
           "Roma"
          ],
          [
           "Anthony Briançon",
           "Brest"
          ],
          [
           "Jules Koundé",
           "Barcelona"
          ],
          [
           "Modibo Sagnan",
           "Montpellier"
          ],
          [
           "Mouctar Diakhaby",
           "Valencia"
          ],
          [
           "Robin Le Normand",
           "Real Sociedad"
          ],
          [
           "Moussa Niakhaté",
           "Nottm Forest"
          ],
          [
           "Ibrahima Konaté",
           "Liverpool"
          ],
          [
           "Théo Barbet",
           "Almere City"
          ],
          [
           "Dan-Axel Zagadou",
           "VfB Stuttgart"
          ],
          [
           "Lilian Brassier",
           "West Brom"
          ],
          [
           "Jean-Clair Todibo",
           "Nice"
          ],
          [
           "Anthony Caci",
           "Mainz 05"
          ],
          [
           "Sikou Niakaté",
           "Sp. Braga"
          ],
          [
           "Nicolas Cozza",
           "Nantes"
          ],
          [
           "Warmed Omari",
           "Rennes"
          ],
          [
           "Bafodé Diakité",
           "Lille"
          ],
          [
           "Logan Costa",
           "Toulouse"
          ],
          [
           "William Saliba",
           "Arsenal"
          ],
          [
           "Andy Pelmard",
           "Clermont"
          ],
          [
           "Moussa Diarra",
           "Toulouse"
          ],
          [
           "Pierre Kalulu",
           "Milan"
          ],
          [
           "Mohamed Simakan",
           "RB Leipzig"
          ],
          [
           "Tanguy Nianzou",
           "Sevilla"
          ],
          [
           "Kiliann Sildillia",
           "SC Freiburg"
          ],
          [
           "Chrislain Matsima",
           "Clermont"
          ],
          [
           "Youte",
           "Havre AC"
          ],
          [
           "Castello Lukeba",
           "RB Leipzig"
          ],
          [
           "Arouna Sanganté",
           "Havre AC"
          ],
          [
           "Alidu Seidu",
           "Rennes"
          ],
          [
           "Edson Álvarez",
           "West Ham"
          ],
          [
           "César Montes",
           "Almería"
          ],
          [
           "Johan Felipe Vásquez",
           "Genoa"
          ],
          [
           "Luke McNally",
           "Stoke"
          ],
          [
           "Kristoffer Ajer",
           "Brentford"
          ],
          [
           "Leo Østigård",
           "Napoli"
          ],
          [
           "Fábio Cardoso",
           "FC Porto"
          ],
          [
           "Josué Sá",
           "Rio Ave"
          ],
          [
           "Domingos Duarte",
           "Getafe"
          ],
          [
           "Rúben Dias",
           "Man City"
          ],
          [
           "Kal Naismith",
           "Bristol City"
          ],
          [
           "Kenny McLean",
           "Norwich"
          ],
          [
           "Murray Wallace",
           "Millwall"
          ],
          [
           "Michael Rose",
           "Stoke"
          ],
          [
           "Liam Lindsay",
           "Preston"
          ],
          [
           "Scott McKenna",
           "FC København"
          ],
          [
           "Kieran Tierney",
           "Real Sociedad"
          ],
          [
           "Ryan Porteous",
           "Watford"
          ],
          [
           "Stefan Savić",
           "Atlético"
          ],
          [
           "Nemanja Gudelj",
           "Sevilla"
          ],
          [
           "Erhan Mašović",
           "VfL Bochum"
          ],
          [
           "Nikola Milenković",
           "Fiorentina"
          ],
          [
           "Jaka Bijol",
           "Udinese"
          ],
          [
           "Žan Zaletel",
           "Viborg FF"
          ],
          [
           "Norbert Gyömbér",
           "Luton"
          ],
          [
           "Milan Škriniar",
           "PSG"
          ],
          [
           "Dávid Hancko",
           "Feyenoord"
          ],
          [
           "Cafú Phete",
           "Desp. Chaves"
          ],
          [
           "Marc Bartra",
           "Real Betis"
          ],
          [
           "Hugo Mallo",
           "INT"
          ],
          [
           "Patric",
           "Lazio"
          ],
          [
           "Antonio Raíllo",
           "Mallorca"
          ],
          [
           "Fali",
           "Cádiz"
          ],
          [
           "Pablo Marí",
           "Monza"
          ],
          [
           "Rubén Duarte",
           "Alavés"
          ],
          [
           "Aritz Elustondo",
           "Real Sociedad"
          ],
          [
           "Yeray",
           "Athletic"
          ],
          [
           "Jesús Vallejo",
           "Granada"
          ],
          [
           "Mario Hermoso",
           "Atlético"
          ],
          [
           "Lucas Hernández",
           "PSG"
          ],
          [
           "Unai Núñez",
           "Celta"
          ],
          [
           "David García",
           "Osasuna"
          ],
          [
           "Pau Torres",
           "Aston Villa"
          ],
          [
           "Rodri",
           "Man City"
          ],
          [
           "Edgar",
           "Almería"
          ],
          [
           "Javi Hernández",
           "Cádiz"
          ],
          [
           "Óscar Mingueza",
           "Celta"
          ],
          [
           "Álex Suárez",
           "Las Palmas"
          ],
          [
           "Jorge Cuenca",
           "Villarreal"
          ],
          [
           "Dani Vivian",
           "Athletic"
          ],
          [
           "José Manuel Copete",
           "Mallorca"
          ],
          [
           "Abdelkabir Abqar",
           "Alavés"
          ],
          [
           "Víctor Chust",
           "Cádiz"
          ],
          [
           "Hugo Guillamón",
           "Valencia"
          ],
          [
           "Mohammed Salisu",
           "Monaco"
          ],
          [
           "Carlos Domínguez",
           "Celta"
          ],
          [
           "Alejandro Francés",
           "Valencia"
          ],
          [
           "Mika Mármol",
           "Las Palmas"
          ],
          [
           "Filip Helander",
           "OB"
          ],
          [
           "Ozan Kabak",
           "TSG Hoffenheim"
          ],
          [
           "Youssouf Ndayishimiye",
           "Nice"
          ],
          [
           "Ivan Ordets",
           "VfL Bochum"
          ],
          [
           "Illia Zabarnyi",
           "Bournemouth"
          ],
          [
           "Rodrigo Echeverría",
           "Huracán"
          ],
          [
           "Paulo Díaz",
           "River"
          ],
          [
           "Benjamín Kuscevic",
           "FOR"
          ],
          [
           "Francisco Sierralta",
           "Watford"
          ],
          [
           "Thomas Galdames",
           "Godoy Cruz"
          ],
          [
           "Camilo Saíz",
           "Arsenal (Sarandí)"
          ],
          [
           "Felipe Aguilar",
           "Independiente"
          ],
          [
           "Jhon Lucumí",
           "Juventus"
          ],
          [
           "Nicolás Hernández",
           "San Lorenzo"
          ],
          [
           "Juan David Cabal",
           "Hellas Verona"
          ],
          [
           "Rodrigo Abascal",
           "Boavista"
          ],
          [
           "José Giménez",
           "Atlético"
          ],
          [
           "Federico Andueza",
           "Central Córdoba (SdE)"
          ],
          [
           "Ronald Araujo",
           "Barcelona"
          ],
          [
           "Edgar Elizalde",
           "Independiente"
          ],
          [
           "Pablo Adorno",
           "Tigre"
          ],
          [
           "Gastón Álvarez",
           "Getafe"
          ],
          [
           "Emanuel Hernández",
           "Sarmiento (Junín)"
          ],
          [
           "Gustavo Gómez",
           "SEP"
          ],
          [
           "Alberto Espínola",
           "Banfield"
          ],
          [
           "Gustavo Velázquez",
           "Newell's"
          ],
          [
           "Omar Alderete",
           "Getafe"
          ],
          [
           "José Canale",
           "Lanús"
          ],
          [
           "Robert Rojas",
           "Vasco da Gama"
          ],
          [
           "Jhohan Romaña",
           "San Lorenzo"
          ],
          [
           "Rodrigo Escoval",
           "Vizela"
          ],
          [
           "Diogo Leite",
           "Union Berlin"
          ],
          [
           "Pedro Barcelos",
           "AMG"
          ],
          [
           "Cláudio Falcão",
           "Sp. Farense"
          ],
          [
           "Fali Candé",
           "Metz"
          ],
          [
           "Tomás Ribeiro",
           "Vit. Guimarães"
          ],
          [
           "Jota",
           "Vizela"
          ],
          [
           "Alexandre Penetra",
           "AZ"
          ],
          [
           "Toti",
           "Wolves"
          ],
          [
           "Bernardo Vital",
           "Estoril Praia"
          ],
          [
           "Gonçalo Inácio",
           "Sporting CP"
          ],
          [
           "João Ferreira",
           "Udinese"
          ],
          [
           "Bruno Onyemaechi",
           "Boavista"
          ],
          [
           "Filipe Relvas",
           "Portimonense"
          ],
          [
           "Bruno Rodrigues",
           "Desp. Chaves"
          ],
          [
           "Manu Silva",
           "Vit. Guimarães"
          ],
          [
           "António Silva",
           "SL Benfica"
          ],
          [
           "Gabriel Xavier",
           "BAH"
          ],
          [
           "Chidozie Awaziem",
           "Boavista"
          ],
          [
           "Nicolas Isimat-Mirin",
           "Vitesse"
          ],
          [
           "Jonathan Gradit",
           "Lens"
          ],
          [
           "Samuel Umtiti",
           "Lille"
          ],
          [
           "Florian Lejeune",
           "Rayo Vallecano"
          ],
          [
           "Kurt Zouma",
           "West Ham"
          ],
          [
           "Raphaël Varane",
           "Man Utd"
          ],
          [
           "Christophe Hérelle",
           "Metz"
          ],
          [
           "Aïssa Mandi",
           "Villarreal"
          ],
          [
           "Gautier Lloris",
           "Havre AC"
          ],
          [
           "Benjamin Pavard",
           "Inter"
          ],
          [
           "Kévin N'Doram",
           "Metz"
          ],
          [
           "Matthieu Udol",
           "Metz"
          ],
          [
           "Brendan Chardonnet",
           "Brest"
          ],
          [
           "Issa Diop",
           "Fulham"
          ],
          [
           "Lucas Perrin",
           "Strasbourg"
          ],
          [
           "Robert Arboleda",
           "SPO"
          ],
          [
           "Mikel Villanueva",
           "Vit. Guimarães"
          ],
          [
           "Luis Segovia",
           "BOT"
          ],
          [
           "Félix Torres",
           "COR"
          ],
          [
           "Leonardo Realpe",
           "RB Bragantino"
          ],
          [
           "Willian Pacho",
           "Eintracht Frankfurt"
          ],
          [
           "Ethan Pinnock",
           "Brentford"
          ],
          [
           "Kim Min-Jae",
           "FC Bayern"
          ],
          [
           "Dan Scarr",
           "Plymouth"
          ],
          [
           "Keven Schlotterbeck",
           "VfL Bochum"
          ],
          [
           "Kevin Vogt",
           "Union Berlin"
          ],
          [
           "Stefan Bell",
           "Mainz 05"
          ],
          [
           "Willi Orbán",
           "RB Leipzig"
          ],
          [
           "Robin Knoche",
           "Union Berlin"
          ],
          [
           "Niklas Süle",
           "Borussia Dortmund"
          ],
          [
           "Matthias Ginter",
           "SC Freiburg"
          ],
          [
           "Robert Andrich",
           "Bayer 04"
          ],
          [
           "Kevin Akpoguma",
           "TSG Hoffenheim"
          ],
          [
           "Niklas Stark",
           "SV Werder"
          ],
          [
           "Jonathan Tah",
           "Bayer 04"
          ],
          [
           "Thilo Kehrer",
           "Monaco"
          ],
          [
           "Benedikt Gimber",
           "FC Heidenheim"
          ],
          [
           "Lukas Klostermann",
           "RB Leipzig"
          ],
          [
           "Waldemar Anton",
           "VfB Stuttgart"
          ],
          [
           "Marco Friedl",
           "SV Werder"
          ],
          [
           "Felix Uduokhai",
           "Augsburg"
          ],
          [
           "Kevin Danso",
           "Lens"
          ],
          [
           "Robin Koch",
           "Eintracht Frankfurt"
          ],
          [
           "Timo Hübers",
           "FC Köln"
          ],
          [
           "Tim Siersleben",
           "FC Heidenheim"
          ],
          [
           "Jordan Beyer",
           "Burnley"
          ],
          [
           "Amos Pieper",
           "SV Werder"
          ],
          [
           "Marin Pongračić",
           "Lecce"
          ],
          [
           "Paul Jaeckel",
           "Lyon"
          ],
          [
           "Maximilian Bauer",
           "Augsburg"
          ],
          [
           "Josip Stanišić",
           "Bayer 04"
          ],
          [
           "Matej Maglica",
           "Darmstadt 98"
          ],
          [
           "Jannik Müller",
           "Darmstadt 98"
          ],
          [
           "Emre Can",
           "Borussia Dortmund"
          ],
          [
           "Antonio Rüdiger",
           "Real Madrid"
          ],
          [
           "John Brooks",
           "TSG Hoffenheim"
          ],
          [
           "Sead Kolašinac",
           "Atalanta"
          ],
          [
           "Patrick Mainka",
           "FC Heidenheim"
          ],
          [
           "Pascal Stenzel",
           "VfB Stuttgart"
          ],
          [
           "Michael Akoto",
           "AGF"
          ],
          [
           "Maxim Leitsch",
           "Mainz 05"
          ],
          [
           "Nico Schlotterbeck",
           "Borussia Dortmund"
          ],
          [
           "Lennard Maloney",
           "FC Heidenheim"
          ],
          [
           "Armel Bella-Kotchap",
           "PSV"
          ],
          [
           "Victor Lindelöf",
           "Newcastle"
          ],
          [
           "Gustav Granath",
           "Vejle"
          ],
          [
           "Hugo Andersson",
           "Randers FC"
          ],
          [
           "Odilon Kossounou",
           "Bayer 04"
          ],
          [
           "Cameron Pring",
           "Bristol City"
          ],
          [
           "Chumi",
           "Almería"
          ],
          [
           "Murilo",
           "SEP"
          ],
          [
           "Kialonda Gaspar",
           "CF Estrela Amadora"
          ],
          [
           "Paweł Dawidowicz",
           "Hellas Verona"
          ],
          [
           "Jan Bednarek",
           "Southampton"
          ],
          [
           "Michał Helik",
           "Huddersfield"
          ],
          [
           "Krystian Bielik",
           "Birmingham"
          ],
          [
           "Ricardo Rodríguez",
           "Torino"
          ],
          [
           "Fabian Schär",
           "Newcastle"
          ],
          [
           "Silvan Widmer",
           "Mainz 05"
          ],
          [
           "Berat Djimsiti",
           "Atalanta"
          ],
          [
           "Edimilson Fernandes",
           "Mainz 05"
          ],
          [
           "Manuel Akanji",
           "Man City"
          ],
          [
           "Nico Elvedi",
           "Mönchengladbach"
          ],
          [
           "Nicolas Bürgy",
           "Viborg FF"
          ],
          [
           "Eray Cömert",
           "Nantes"
          ],
          [
           "Cédric Zesiger",
           "VfL Wolfsburg"
          ],
          [
           "Silvan Hefti",
           "Montpellier"
          ],
          [
           "Isaak Touré",
           "Lorient"
          ],
          [
           "Willy Kambwala",
           "Man Utd"
          ],
          [
           "Nicolás Romero",
           "Atl. Tucumán"
          ],
          [
           "Rav van den Berg",
           "Middlesbrough"
          ],
          [
           "Ayrton Costa",
           "Independiente"
          ],
          [
           "Rodrigo Morales",
           "Atl. Tucumán"
          ],
          [
           "Alfie Gilchrist",
           "Coventry"
          ],
          [
           "Juan Cruz Vázquez",
           "Estudiantes (LP)"
          ],
          [
           "João Marcelo",
           "CEC"
          ],
          [
           "Gian Nardelli",
           "Tigre"
          ],
          [
           "Adamo Nagalo",
           "FC Nordsjælland"
          ],
          [
           "Raniele",
           "COR"
          ],
          [
           "Jordy Makengo",
           "SC Freiburg"
          ],
          [
           "Cristhian Mosquera",
           "Valencia"
          ],
          [
           "Callum Doyle",
           "Leicester"
          ],
          [
           "Serdar Saatçı",
           "Sp. Braga"
          ],
          [
           "Raul Gustavo",
           "COR"
          ],
          [
           "Joaquim",
           "SAN"
          ],
          [
           "Nahuel Génez",
           "Tigre"
          ],
          [
           "Rafa Marín",
           "Alavés"
          ],
          [
           "Chadi Riad",
           "Real Betis"
          ],
          [
           "Michel",
           "SEP"
          ],
          [
           "Arnau Martínez",
           "Girona"
          ],
          [
           "Sadik Fofana",
           "Fortuna Sittard"
          ],
          [
           "Anselmo García Mac Nulty",
           "PEC Zwolle"
          ],
          [
           "Joaquín Pombo",
           "Arsenal (Sarandí)"
          ],
          [
           "Felipe Andrade",
           "FLU"
          ],
          [
           "Alemão",
           "Portimonense"
          ],
          [
           "Valentín Gómez",
           "Vélez"
          ],
          [
           "Nicolás Fernández",
           "Estudiantes (LP)"
          ],
          [
           "Lee Han-Beom",
           "FC Midtjylland"
          ],
          [
           "Gustavo Martins",
           "GRE"
          ],
          [
           "Kevin Silva",
           "Rosario Central"
          ],
          [
           "Jorrel Hato",
           "Ajax"
          ],
          [
           "Lewis Hall",
           "Newcastle"
          ],
          [
           "Rafael Profini",
           "Unión (SF)"
          ],
          [
           "Matheus Belém",
           "SPO"
          ],
          [
           "Ythallo",
           "SPO"
          ],
          [
           "Jeremías James Griffiths",
           "San Lorenzo"
          ],
          [
           "Jeanuël Belocian",
           "Rennes"
          ],
          [
           "Samuel Lucero",
           "Defensa y Justicia"
          ],
          [
           "Robert Renan",
           "INT"
          ],
          [
           "Ashley Phillips",
           "Plymouth"
          ],
          [
           "Felipe Sánchez",
           "Gimnasia (LP)"
          ],
          [
           "Kauan",
           "RB Bragantino"
          ],
          [
           "Gabriel Vareta",
           "SEP"
          ],
          [
           "Ousmane Diomande",
           "Sporting CP"
          ],
          [
           "Alan González",
           "Huracán"
          ],
          [
           "Lautaro Maside",
           "Arsenal (Sarandí)"
          ],
          [
           "Tobias Slotsager",
           "OB"
          ],
          [
           "Noël Atom",
           "QPR"
          ],
          [
           "Leny Yoro",
           "Lille"
          ],
          [
           "Renato",
           "COR"
          ],
          [
           "João Pedro Tchoca",
           "COR"
          ],
          [
           "Vitor Reis",
           "SEP"
          ],
          [
           "Marcos Victor",
           "BAH"
          ],
          [
           "Stijn Bultman",
           "Heracles Almelo"
          ],
          [
           "Yan Souto",
           "GOI"
          ],
          [
           "Tomás Fernández",
           "Tigre"
          ],
          [
           "Santiago Quiros",
           "Racing Club"
          ],
          [
           "Jean Pedroso",
           "CTB"
          ],
          [
           "Gerónimo Heredia",
           "Belgrano"
          ],
          [
           "Geilson",
           "FOR"
          ],
          [
           "Tobías Palacio",
           "Argentinos Jrs."
          ]
         ],
         "hovertemplate": "<b>%{customdata[0]}</b><br><b>%{customdata[1]}</b><br><br>passes_attempted/90: %{x}<br>progressive_pass_rate: %{y}<br>pass_completion_%: %{marker.color}<extra></extra>",
         "legendgroup": "",
         "marker": {
          "color": {
           "bdata": "VFhaWV1bXVxfXlxbWlpgXVtYXVVWWFxYWVlbXVtSWFpeWF5YVVdYXl5bWVtaWltbWVxbWlFcXFtaWlZZXFdcX1VaWl9eWl1WWmBZWFtYWlxbWFxXWlVcW1pcVF1bXV5aXVtWXF5cWF1bXVpaU1xSXV1dWFlcXl1cXF1WX1NcXVxbV1leXFhWWFpdW1ddXVxZXVpbVF5dVlheXF5aXVBaW1teXV1cW1xZX1xSWVdbW1ldXFBaWVdcXFldWVRdXlhaXFhdXllfXFVXWlhZW1lZVlpcWFxWW1VbWVFYWlhdX1tNWl1bVk1fXVZTVV1ZXFxeWlteVV1cXllYWV1bXE9cWl5YUl9aWFlZVV1eXFZdW1xZW1hgW1ddVVlTWltVXV1bW11eWFxZXV1TWVRcW1lbVFldXVNeXFlWW1tWVV5eVltZX1tfVl1gXllaWVhaXlpfV11eVV9dXVhbXl1cXFlYWl5aWVdUVF9eWFteWFpdWVtVXltVXF9aX19ZXVJYWldOXl5fUl1eXFxbVl1RXlldXFlUX19eXl5aWF9eXlxdW15TXFtZXF1eXVtfXVhaWVNeV1xZWlhZXVpcX1peXFRcWl1fWlxfWlpdWVxaXl5ZYFlgXl9eVV9gX11bXVZdW1ZaWF5dX1pZXVpdXVZfXVtdV1hXWVNWV1pbWlpVVl5YXVxbV1hbU11YXFhXV1xZVFtbXF1aWl5WU1laWlxZTFtcXlxbXFhbUl1aV1xaYVhaW1teXV9fUFZdVl1VW11dW1xcYFRcXltaWl1YWlpbXV5UXVFZXF5aWlNbWVpeWF5fVVtcV1taVVVeWFtZX1RdW1xZWVtcWVpaW1tXVVZXWVRVWlZcXlpbW1tYX1heWl1aVFtcW1lcWFpVWlhXXFxcXVhaVVdeWVJdX19ZVlZWXVlWWlVVVVs=",
           "dtype": "i1"
          },
          "coloraxis": "coloraxis",
          "size": 10,
          "symbol": "circle"
         },
         "mode": "markers",
         "name": "",
         "orientation": "v",
         "showlegend": false,
         "textfont": {
          "size": 10
         },
         "textposition": "top center",
         "type": "scatter",
         "x": {
          "bdata": "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",
          "dtype": "f8"
         },
         "xaxis": "x",
         "y": {
          "bdata": "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",
          "dtype": "f8"
         },
         "yaxis": "y"
        }
       ],
       "layout": {
        "coloraxis": {
         "colorbar": {
          "title": {
           "text": "pass_completion_%"
          }
         },
         "colorscale": [
          [
           0,
           "rgb(165,0,38)"
          ],
          [
           0.1,
           "rgb(215,48,39)"
          ],
          [
           0.2,
           "rgb(244,109,67)"
          ],
          [
           0.3,
           "rgb(253,174,97)"
          ],
          [
           0.4,
           "rgb(254,224,139)"
          ],
          [
           0.5,
           "rgb(255,255,191)"
          ],
          [
           0.6,
           "rgb(217,239,139)"
          ],
          [
           0.7,
           "rgb(166,217,106)"
          ],
          [
           0.8,
           "rgb(102,189,99)"
          ],
          [
           0.9,
           "rgb(26,152,80)"
          ],
          [
           1,
           "rgb(0,104,55)"
          ]
         ],
         "showscale": false
        },
        "height": 700,
        "legend": {
         "tracegroupgap": 0
        },
        "paper_bgcolor": "white",
        "plot_bgcolor": "white",
        "template": {
         "data": {
          "bar": [
           {
            "error_x": {
             "color": "#2a3f5f"
            },
            "error_y": {
             "color": "#2a3f5f"
            },
            "marker": {
             "line": {
              "color": "#E5ECF6",
              "width": 0.5
             },
             "pattern": {
              "fillmode": "overlay",
              "size": 10,
              "solidity": 0.2
             }
            },
            "type": "bar"
           }
          ],
          "barpolar": [
           {
            "marker": {
             "line": {
              "color": "#E5ECF6",
              "width": 0.5
             },
             "pattern": {
              "fillmode": "overlay",
              "size": 10,
              "solidity": 0.2
             }
            },
            "type": "barpolar"
           }
          ],
          "carpet": [
           {
            "aaxis": {
             "endlinecolor": "#2a3f5f",
             "gridcolor": "white",
             "linecolor": "white",
             "minorgridcolor": "white",
             "startlinecolor": "#2a3f5f"
            },
            "baxis": {
             "endlinecolor": "#2a3f5f",
             "gridcolor": "white",
             "linecolor": "white",
             "minorgridcolor": "white",
             "startlinecolor": "#2a3f5f"
            },
            "type": "carpet"
           }
          ],
          "choropleth": [
           {
            "colorbar": {
             "outlinewidth": 0,
             "ticks": ""
            },
            "type": "choropleth"
           }
          ],
          "contour": [
           {
            "colorbar": {
             "outlinewidth": 0,
             "ticks": ""
            },
            "colorscale": [
             [
              0,
              "#0d0887"
             ],
             [
              0.1111111111111111,
              "#46039f"
             ],
             [
              0.2222222222222222,
              "#7201a8"
             ],
             [
              0.3333333333333333,
              "#9c179e"
             ],
             [
              0.4444444444444444,
              "#bd3786"
             ],
             [
              0.5555555555555556,
              "#d8576b"
             ],
             [
              0.6666666666666666,
              "#ed7953"
             ],
             [
              0.7777777777777778,
              "#fb9f3a"
             ],
             [
              0.8888888888888888,
              "#fdca26"
             ],
             [
              1,
              "#f0f921"
             ]
            ],
            "type": "contour"
           }
          ],
          "contourcarpet": [
           {
            "colorbar": {
             "outlinewidth": 0,
             "ticks": ""
            },
            "type": "contourcarpet"
           }
          ],
          "heatmap": [
           {
            "colorbar": {
             "outlinewidth": 0,
             "ticks": ""
            },
            "colorscale": [
             [
              0,
              "#0d0887"
             ],
             [
              0.1111111111111111,
              "#46039f"
             ],
             [
              0.2222222222222222,
              "#7201a8"
             ],
             [
              0.3333333333333333,
              "#9c179e"
             ],
             [
              0.4444444444444444,
              "#bd3786"
             ],
             [
              0.5555555555555556,
              "#d8576b"
             ],
             [
              0.6666666666666666,
              "#ed7953"
             ],
             [
              0.7777777777777778,
              "#fb9f3a"
             ],
             [
              0.8888888888888888,
              "#fdca26"
             ],
             [
              1,
              "#f0f921"
             ]
            ],
            "type": "heatmap"
           }
          ],
          "histogram": [
           {
            "marker": {
             "pattern": {
              "fillmode": "overlay",
              "size": 10,
              "solidity": 0.2
             }
            },
            "type": "histogram"
           }
          ],
          "histogram2d": [
           {
            "colorbar": {
             "outlinewidth": 0,
             "ticks": ""
            },
            "colorscale": [
             [
              0,
              "#0d0887"
             ],
             [
              0.1111111111111111,
              "#46039f"
             ],
             [
              0.2222222222222222,
              "#7201a8"
             ],
             [
              0.3333333333333333,
              "#9c179e"
             ],
             [
              0.4444444444444444,
              "#bd3786"
             ],
             [
              0.5555555555555556,
              "#d8576b"
             ],
             [
              0.6666666666666666,
              "#ed7953"
             ],
             [
              0.7777777777777778,
              "#fb9f3a"
             ],
             [
              0.8888888888888888,
              "#fdca26"
             ],
             [
              1,
              "#f0f921"
             ]
            ],
            "type": "histogram2d"
           }
          ],
          "histogram2dcontour": [
           {
            "colorbar": {
             "outlinewidth": 0,
             "ticks": ""
            },
            "colorscale": [
             [
              0,
              "#0d0887"
             ],
             [
              0.1111111111111111,
              "#46039f"
             ],
             [
              0.2222222222222222,
              "#7201a8"
             ],
             [
              0.3333333333333333,
              "#9c179e"
             ],
             [
              0.4444444444444444,
              "#bd3786"
             ],
             [
              0.5555555555555556,
              "#d8576b"
             ],
             [
              0.6666666666666666,
              "#ed7953"
             ],
             [
              0.7777777777777778,
              "#fb9f3a"
             ],
             [
              0.8888888888888888,
              "#fdca26"
             ],
             [
              1,
              "#f0f921"
             ]
            ],
            "type": "histogram2dcontour"
           }
          ],
          "mesh3d": [
           {
            "colorbar": {
             "outlinewidth": 0,
             "ticks": ""
            },
            "type": "mesh3d"
           }
          ],
          "parcoords": [
           {
            "line": {
             "colorbar": {
              "outlinewidth": 0,
              "ticks": ""
             }
            },
            "type": "parcoords"
           }
          ],
          "pie": [
           {
            "automargin": true,
            "type": "pie"
           }
          ],
          "scatter": [
           {
            "fillpattern": {
             "fillmode": "overlay",
             "size": 10,
             "solidity": 0.2
            },
            "type": "scatter"
           }
          ],
          "scatter3d": [
           {
            "line": {
             "colorbar": {
              "outlinewidth": 0,
              "ticks": ""
             }
            },
            "marker": {
             "colorbar": {
              "outlinewidth": 0,
              "ticks": ""
             }
            },
            "type": "scatter3d"
           }
          ],
          "scattercarpet": [
           {
            "marker": {
             "colorbar": {
              "outlinewidth": 0,
              "ticks": ""
             }
            },
            "type": "scattercarpet"
           }
          ],
          "scattergeo": [
           {
            "marker": {
             "colorbar": {
              "outlinewidth": 0,
              "ticks": ""
             }
            },
            "type": "scattergeo"
           }
          ],
          "scattergl": [
           {
            "marker": {
             "colorbar": {
              "outlinewidth": 0,
              "ticks": ""
             }
            },
            "type": "scattergl"
           }
          ],
          "scattermap": [
           {
            "marker": {
             "colorbar": {
              "outlinewidth": 0,
              "ticks": ""
             }
            },
            "type": "scattermap"
           }
          ],
          "scattermapbox": [
           {
            "marker": {
             "colorbar": {
              "outlinewidth": 0,
              "ticks": ""
             }
            },
            "type": "scattermapbox"
           }
          ],
          "scatterpolar": [
           {
            "marker": {
             "colorbar": {
              "outlinewidth": 0,
              "ticks": ""
             }
            },
            "type": "scatterpolar"
           }
          ],
          "scatterpolargl": [
           {
            "marker": {
             "colorbar": {
              "outlinewidth": 0,
              "ticks": ""
             }
            },
            "type": "scatterpolargl"
           }
          ],
          "scatterternary": [
           {
            "marker": {
             "colorbar": {
              "outlinewidth": 0,
              "ticks": ""
             }
            },
            "type": "scatterternary"
           }
          ],
          "surface": [
           {
            "colorbar": {
             "outlinewidth": 0,
             "ticks": ""
            },
            "colorscale": [
             [
              0,
              "#0d0887"
             ],
             [
              0.1111111111111111,
              "#46039f"
             ],
             [
              0.2222222222222222,
              "#7201a8"
             ],
             [
              0.3333333333333333,
              "#9c179e"
             ],
             [
              0.4444444444444444,
              "#bd3786"
             ],
             [
              0.5555555555555556,
              "#d8576b"
             ],
             [
              0.6666666666666666,
              "#ed7953"
             ],
             [
              0.7777777777777778,
              "#fb9f3a"
             ],
             [
              0.8888888888888888,
              "#fdca26"
             ],
             [
              1,
              "#f0f921"
             ]
            ],
            "type": "surface"
           }
          ],
          "table": [
           {
            "cells": {
             "fill": {
              "color": "#EBF0F8"
             },
             "line": {
              "color": "white"
             }
            },
            "header": {
             "fill": {
              "color": "#C8D4E3"
             },
             "line": {
              "color": "white"
             }
            },
            "type": "table"
           }
          ]
         },
         "layout": {
          "annotationdefaults": {
           "arrowcolor": "#2a3f5f",
           "arrowhead": 0,
           "arrowwidth": 1
          },
          "autotypenumbers": "strict",
          "coloraxis": {
           "colorbar": {
            "outlinewidth": 0,
            "ticks": ""
           }
          },
          "colorscale": {
           "diverging": [
            [
             0,
             "#8e0152"
            ],
            [
             0.1,
             "#c51b7d"
            ],
            [
             0.2,
             "#de77ae"
            ],
            [
             0.3,
             "#f1b6da"
            ],
            [
             0.4,
             "#fde0ef"
            ],
            [
             0.5,
             "#f7f7f7"
            ],
            [
             0.6,
             "#e6f5d0"
            ],
            [
             0.7,
             "#b8e186"
            ],
            [
             0.8,
             "#7fbc41"
            ],
            [
             0.9,
             "#4d9221"
            ],
            [
             1,
             "#276419"
            ]
           ],
           "sequential": [
            [
             0,
             "#0d0887"
            ],
            [
             0.1111111111111111,
             "#46039f"
            ],
            [
             0.2222222222222222,
             "#7201a8"
            ],
            [
             0.3333333333333333,
             "#9c179e"
            ],
            [
             0.4444444444444444,
             "#bd3786"
            ],
            [
             0.5555555555555556,
             "#d8576b"
            ],
            [
             0.6666666666666666,
             "#ed7953"
            ],
            [
             0.7777777777777778,
             "#fb9f3a"
            ],
            [
             0.8888888888888888,
             "#fdca26"
            ],
            [
             1,
             "#f0f921"
            ]
           ],
           "sequentialminus": [
            [
             0,
             "#0d0887"
            ],
            [
             0.1111111111111111,
             "#46039f"
            ],
            [
             0.2222222222222222,
             "#7201a8"
            ],
            [
             0.3333333333333333,
             "#9c179e"
            ],
            [
             0.4444444444444444,
             "#bd3786"
            ],
            [
             0.5555555555555556,
             "#d8576b"
            ],
            [
             0.6666666666666666,
             "#ed7953"
            ],
            [
             0.7777777777777778,
             "#fb9f3a"
            ],
            [
             0.8888888888888888,
             "#fdca26"
            ],
            [
             1,
             "#f0f921"
            ]
           ]
          },
          "colorway": [
           "#636efa",
           "#EF553B",
           "#00cc96",
           "#ab63fa",
           "#FFA15A",
           "#19d3f3",
           "#FF6692",
           "#B6E880",
           "#FF97FF",
           "#FECB52"
          ],
          "font": {
           "color": "#2a3f5f"
          },
          "geo": {
           "bgcolor": "white",
           "lakecolor": "white",
           "landcolor": "#E5ECF6",
           "showlakes": true,
           "showland": true,
           "subunitcolor": "white"
          },
          "hoverlabel": {
           "align": "left"
          },
          "hovermode": "closest",
          "mapbox": {
           "style": "light"
          },
          "paper_bgcolor": "white",
          "plot_bgcolor": "#E5ECF6",
          "polar": {
           "angularaxis": {
            "gridcolor": "white",
            "linecolor": "white",
            "ticks": ""
           },
           "bgcolor": "#E5ECF6",
           "radialaxis": {
            "gridcolor": "white",
            "linecolor": "white",
            "ticks": ""
           }
          },
          "scene": {
           "xaxis": {
            "backgroundcolor": "#E5ECF6",
            "gridcolor": "white",
            "gridwidth": 2,
            "linecolor": "white",
            "showbackground": true,
            "ticks": "",
            "zerolinecolor": "white"
           },
           "yaxis": {
            "backgroundcolor": "#E5ECF6",
            "gridcolor": "white",
            "gridwidth": 2,
            "linecolor": "white",
            "showbackground": true,
            "ticks": "",
            "zerolinecolor": "white"
           },
           "zaxis": {
            "backgroundcolor": "#E5ECF6",
            "gridcolor": "white",
            "gridwidth": 2,
            "linecolor": "white",
            "showbackground": true,
            "ticks": "",
            "zerolinecolor": "white"
           }
          },
          "shapedefaults": {
           "line": {
            "color": "#2a3f5f"
           }
          },
          "ternary": {
           "aaxis": {
            "gridcolor": "white",
            "linecolor": "white",
            "ticks": ""
           },
           "baxis": {
            "gridcolor": "white",
            "linecolor": "white",
            "ticks": ""
           },
           "bgcolor": "#E5ECF6",
           "caxis": {
            "gridcolor": "white",
            "linecolor": "white",
            "ticks": ""
           }
          },
          "title": {
           "x": 0.05
          },
          "xaxis": {
           "automargin": true,
           "gridcolor": "white",
           "linecolor": "white",
           "ticks": "",
           "title": {
            "standoff": 15
           },
           "zerolinecolor": "white",
           "zerolinewidth": 2
          },
          "yaxis": {
           "automargin": true,
           "gridcolor": "white",
           "linecolor": "white",
           "ticks": "",
           "title": {
            "standoff": 15
           },
           "zerolinecolor": "white",
           "zerolinewidth": 2
          }
         }
        },
        "title": {
         "text": "Passing quality ( 692)",
         "x": 0.5,
         "xanchor": "center"
        },
        "width": 1200,
        "xaxis": {
         "anchor": "y",
         "domain": [
          0,
          1
         ],
         "gridcolor": "lightgray",
         "showgrid": true,
         "title": {
          "text": "passes_attempted/90"
         },
         "zeroline": false
        },
        "yaxis": {
         "anchor": "x",
         "domain": [
          0,
          1
         ],
         "gridcolor": "lightgray",
         "showgrid": true,
         "title": {
          "text": "progressive_pass_rate"
         },
         "zeroline": false
        }
       }
      }
     },
     "metadata": {},
     "output_type": "display_data"
    }
   ],
   "source": [
    "# Initialize list of targets\n",
    "targets = df_players['id']\n",
    "\n",
    "scatter_plot(df_players,\n",
    "             x_metric='passes_attempted/90', \n",
    "             y_metric='progressive_pass_rate',\n",
    "             z_metric='pass_completion_%',\n",
    "             title='Passing quality', \n",
    "             show_name_label=False\n",
    ")"
   ]
  },
  {
   "cell_type": "code",
   "execution_count": 106,
   "id": "a312cf0a",
   "metadata": {},
   "outputs": [
    {
     "data": {
      "application/vnd.plotly.v1+json": {
       "config": {
        "plotlyServerURL": "https://plot.ly"
       },
       "data": [
        {
         "customdata": [
          [
           "Wilfried Singo",
           "Monaco"
          ],
          [
           "Formose Mendy",
           "Lorient"
          ],
          [
           "Abakar Sylla",
           "Strasbourg"
          ],
          [
           "Edmond Tapsoba",
           "Bayer 04"
          ],
          [
           "Montassar Talbi",
           "Lorient"
          ],
          [
           "Lucas Carrizo",
           "Huracán"
          ],
          [
           "Cristian Romero",
           "Tottenham"
          ],
          [
           "Alejandro Maciel",
           "Banfield"
          ],
          [
           "David Martínez",
           "River"
          ],
          [
           "Lucas Faggioli",
           "Barracas Central"
          ],
          [
           "Miguel Brizuela",
           "Instituto"
          ],
          [
           "Lisandro Martínez",
           "Man Utd"
          ],
          [
           "Ignacio Vázquez",
           "Platense"
          ],
          [
           "Facundo Medina",
           "Lens"
          ],
          [
           "Nicolás Capraro",
           "Barracas Central"
          ],
          [
           "Juan Foyth",
           "Villarreal"
          ],
          [
           "Leonardo Balerdi",
           "Marseille"
          ],
          [
           "Gastón Ávila",
           "Ajax"
          ],
          [
           "Nicolás Paz",
           "Unión (SF)"
          ],
          [
           "Aarón Quiros",
           "Banfield"
          ],
          [
           "Facundo Giacopuzzi",
           "Tigre"
          ],
          [
           "Santiago Laquidain",
           "Central Córdoba (SdE)"
          ],
          [
           "Nicolás Valentini",
           "Boca"
          ],
          [
           "Pablo Minissale",
           "Central Córdoba (SdE)"
          ],
          [
           "Stefan Posch",
           "Bologna"
          ],
          [
           "Ahmed Touba",
           "Lecce"
          ],
          [
           "Arthur Theate",
           "Rennes"
          ],
          [
           "Alec Van Hoorenbeeck",
           "FC Twente"
          ],
          [
           "Robson Bambu",
           "Arouca"
          ],
          [
           "Gabriel",
           "Arsenal"
          ],
          [
           "Adryelson",
           "Lyon"
          ],
          [
           "Diego Costa",
           "SPO"
          ],
          [
           "Pedrão",
           "Portimonense"
          ],
          [
           "Bremer",
           "Juventus"
          ],
          [
           "Reynaldo",
           "CTB"
          ],
          [
           "Tuta",
           "Eintracht Frankfurt"
          ],
          [
           "João Victor",
           "Vasco da Gama"
          ],
          [
           "Vitão",
           "INT"
          ],
          [
           "Zé Gabriel",
           "Vasco da Gama"
          ],
          [
           "Morato",
           "SL Benfica"
          ],
          [
           "Edu",
           "GOI"
          ],
          [
           "Natan",
           "Napoli"
          ],
          [
           "Luizão",
           "Preston"
          ],
          [
           "Gabriel Pereira",
           "Gil Vicente"
          ],
          [
           "Vanderlan",
           "SEP"
          ],
          [
           "Joseph Okumu",
           "Stade Reims"
          ],
          [
           "Hrvoje Smolčić",
           "Eintracht Frankfurt"
          ],
          [
           "Josip Šutalo",
           "Ajax"
          ],
          [
           "Joško Gvardiol",
           "Man City"
          ],
          [
           "Rasmus Nicolaisen",
           "Toulouse"
          ],
          [
           "Mads Bech Sørensen",
           "FC Midtjylland"
          ],
          [
           "Ahmed Iljazovski",
           "Hvidovre IF"
          ],
          [
           "Alexander Busch",
           "Silkeborg IF"
          ],
          [
           "Fikayo Tomori",
           "Milan"
          ],
          [
           "Japhet Tanganga",
           "Millwall"
          ],
          [
           "Reece James",
           "Chelsea"
          ],
          [
           "Ben Cabango",
           "Swansea"
          ],
          [
           "Daniel Ballard",
           "Sunderland"
          ],
          [
           "Jacob Greaves",
           "Hull"
          ],
          [
           "Taylor Harwood-Bellis",
           "Southampton"
          ],
          [
           "Teden Mengi",
           "Luton"
          ],
          [
           "Luis Binks",
           "Coventry"
          ],
          [
           "Levi Colwill",
           "Chelsea"
          ],
          [
           "Odel Offiah",
           "QPR"
          ],
          [
           "Joe Gomez",
           "Liverpool"
          ],
          [
           "Dael Fry",
           "Middlesbrough"
          ],
          [
           "Jean-Kevin Duverne",
           "Nantes"
          ],
          [
           "James Justin",
           "Leicester"
          ],
          [
           "Benjamin White",
           "Arsenal"
          ],
          [
           "Ezri Konsa",
           "Aston Villa"
          ],
          [
           "Melle Meulensteen",
           "Vitesse"
          ],
          [
           "Jordan Storey",
           "Preston"
          ],
          [
           "Lewis Gibson",
           "Plymouth"
          ],
          [
           "Ben Wilmot",
           "Stoke"
          ],
          [
           "Ethan Ampadu",
           "Leeds"
          ],
          [
           "Nathan Wood",
           "Swansea"
          ],
          [
           "Philippe Sandler",
           "N.E.C. Nijmegen"
          ],
          [
           "Mats Knoester",
           "AGF"
          ],
          [
           "Pablo Rosario",
           "Nice"
          ],
          [
           "Pascal Struijk",
           "Leeds"
          ],
          [
           "Jamal Amofa",
           "Go Ahead Eagles"
          ],
          [
           "Perr Schuurs",
           "Torino"
          ],
          [
           "Peer Koopmeiners",
           "Almere City"
          ],
          [
           "Lutsharel Geertruida",
           "Feyenoord"
          ],
          [
           "Christopher Mamengi",
           "Almere City"
          ],
          [
           "Mats Wieffer",
           "Feyenoord"
          ],
          [
           "Denzel Hall",
           "sc Heerenveen"
          ],
          [
           "Thomas Beelen",
           "Feyenoord"
          ],
          [
           "Enzo Cornelisse",
           "Vitesse"
          ],
          [
           "Ryan Flamingo",
           "FC Utrecht"
          ],
          [
           "Micky van de Ven",
           "Tottenham"
          ],
          [
           "Lamare Bogarde",
           "Preston"
          ],
          [
           "Martin Erlić",
           "Sassuolo"
          ],
          [
           "Alessandro Bastoni",
           "Inter"
          ],
          [
           "Luca Ranieri",
           "Fiorentina"
          ],
          [
           "Alessandro Buongiorno",
           "Torino"
          ],
          [
           "Caleb Okoli",
           "Frosinone"
          ],
          [
           "Takehiro Tomiyasu",
           "Arsenal"
          ],
          [
           "Hiroki Ito",
           "VfB Stuttgart"
          ],
          [
           "Jules Koundé",
           "Barcelona"
          ],
          [
           "Ibrahima Konaté",
           "Liverpool"
          ],
          [
           "Théo Barbet",
           "Almere City"
          ],
          [
           "Jean-Clair Todibo",
           "Nice"
          ],
          [
           "Nicolas Cozza",
           "Nantes"
          ],
          [
           "Warmed Omari",
           "Rennes"
          ],
          [
           "Bafodé Diakité",
           "Lille"
          ],
          [
           "Logan Costa",
           "Toulouse"
          ],
          [
           "William Saliba",
           "Arsenal"
          ],
          [
           "Moussa Diarra",
           "Toulouse"
          ],
          [
           "Pierre Kalulu",
           "Milan"
          ],
          [
           "Mohamed Simakan",
           "RB Leipzig"
          ],
          [
           "Kiliann Sildillia",
           "SC Freiburg"
          ],
          [
           "Chrislain Matsima",
           "Clermont"
          ],
          [
           "Castello Lukeba",
           "RB Leipzig"
          ],
          [
           "Alidu Seidu",
           "Rennes"
          ],
          [
           "Edson Álvarez",
           "West Ham"
          ],
          [
           "Luke McNally",
           "Stoke"
          ],
          [
           "Kristoffer Ajer",
           "Brentford"
          ],
          [
           "Leo Østigård",
           "Napoli"
          ],
          [
           "Rúben Dias",
           "Man City"
          ],
          [
           "Kieran Tierney",
           "Real Sociedad"
          ],
          [
           "Ryan Porteous",
           "Watford"
          ],
          [
           "Nikola Milenković",
           "Fiorentina"
          ],
          [
           "Jaka Bijol",
           "Udinese"
          ],
          [
           "Dávid Hancko",
           "Feyenoord"
          ],
          [
           "Jesús Vallejo",
           "Granada"
          ],
          [
           "Pau Torres",
           "Aston Villa"
          ],
          [
           "Javi Hernández",
           "Cádiz"
          ],
          [
           "Jorge Cuenca",
           "Villarreal"
          ],
          [
           "Dani Vivian",
           "Athletic"
          ],
          [
           "José Manuel Copete",
           "Mallorca"
          ],
          [
           "Hugo Guillamón",
           "Valencia"
          ],
          [
           "Ozan Kabak",
           "TSG Hoffenheim"
          ],
          [
           "Jhon Lucumí",
           "Juventus"
          ],
          [
           "Nicolás Hernández",
           "San Lorenzo"
          ],
          [
           "Fali Candé",
           "Metz"
          ],
          [
           "Tomás Ribeiro",
           "Vit. Guimarães"
          ],
          [
           "Jota",
           "Vizela"
          ],
          [
           "Alexandre Penetra",
           "AZ"
          ],
          [
           "Bernardo Vital",
           "Estoril Praia"
          ],
          [
           "Gonçalo Inácio",
           "Sporting CP"
          ],
          [
           "António Silva",
           "SL Benfica"
          ],
          [
           "Gabriel Xavier",
           "BAH"
          ],
          [
           "Félix Torres",
           "COR"
          ],
          [
           "Leonardo Realpe",
           "RB Bragantino"
          ],
          [
           "Willian Pacho",
           "Eintracht Frankfurt"
          ],
          [
           "Marco Friedl",
           "SV Werder"
          ],
          [
           "Kevin Danso",
           "Lens"
          ],
          [
           "Amos Pieper",
           "SV Werder"
          ],
          [
           "Paul Jaeckel",
           "Lyon"
          ],
          [
           "Josip Stanišić",
           "Bayer 04"
          ],
          [
           "Michael Akoto",
           "AGF"
          ],
          [
           "Hugo Andersson",
           "Randers FC"
          ],
          [
           "Odilon Kossounou",
           "Bayer 04"
          ],
          [
           "Murilo",
           "SEP"
          ],
          [
           "Eray Cömert",
           "Nantes"
          ],
          [
           "Isaak Touré",
           "Lorient"
          ],
          [
           "Willy Kambwala",
           "Man Utd"
          ],
          [
           "Nicolás Romero",
           "Atl. Tucumán"
          ],
          [
           "Rav van den Berg",
           "Middlesbrough"
          ],
          [
           "João Marcelo",
           "CEC"
          ],
          [
           "Raniele",
           "COR"
          ],
          [
           "Cristhian Mosquera",
           "Valencia"
          ],
          [
           "Callum Doyle",
           "Leicester"
          ],
          [
           "Serdar Saatçı",
           "Sp. Braga"
          ],
          [
           "Arnau Martínez",
           "Girona"
          ],
          [
           "Joaquín Pombo",
           "Arsenal (Sarandí)"
          ],
          [
           "Nicolás Fernández",
           "Estudiantes (LP)"
          ],
          [
           "Jorrel Hato",
           "Ajax"
          ],
          [
           "Jeremías James Griffiths",
           "San Lorenzo"
          ],
          [
           "Jeanuël Belocian",
           "Rennes"
          ],
          [
           "Samuel Lucero",
           "Defensa y Justicia"
          ],
          [
           "Ousmane Diomande",
           "Sporting CP"
          ],
          [
           "Alan González",
           "Huracán"
          ],
          [
           "Stijn Bultman",
           "Heracles Almelo"
          ],
          [
           "Santiago Quiros",
           "Racing Club"
          ]
         ],
         "hovertemplate": "<b>%{customdata[0]}</b><br><b>%{customdata[1]}</b><br><br>passes_attempted/90: %{x}<br>progressive_pass_rate: %{y}<br>pass_completion_%: %{marker.color}<extra></extra>",
         "legendgroup": "",
         "marker": {
          "color": {
           "bdata": "XVtdX15eXllbW1lcW1pZXF9fWltcWlxdW1pcXVleXVxaXVtdXFxZW1ldWVxZXVxdXlxbWVpeWVtcXFpaWVleXFtdW1tdXlxbWVtZXl5aXV1dW1xZXlpZXl5aXVleX15cXFxZXl5cXltZXF1eW19dWlleXFlZXVpeWlxdWV5fXVpdX1paW1paW1tcXVpeXFlbXl1bWlteXVlbXFpbWlpbW1laXF5aXlpbWlxcXF5ZXVo=",
           "dtype": "i1"
          },
          "coloraxis": "coloraxis",
          "size": 10,
          "symbol": "circle"
         },
         "mode": "markers",
         "name": "",
         "orientation": "v",
         "showlegend": false,
         "textfont": {
          "size": 10
         },
         "textposition": "top center",
         "type": "scatter",
         "x": {
          "bdata": "UrgehesBUkAUrkfhegRRQOxRuB6FS1NASOF6FK6HVEC4HoXrUfhLQKRwPQrXA1BACtejcD2qT0A9CtejcP1JQMP1KFyPwk9ArkfhehRuTEDsUbgehetKQJqZmZmZmU1A9ihcj8J1SkDD9Shcj+JOQOF6FK5HYUxAmpmZmZkJUEBI4XoUrudQQD0K16NwfU9AcT0K16MQSkDsUbgehStKQArXo3A9ikxAPQrXo3DdTEBmZmZmZtZQQHE9Ctej8EtAzczMzMw8UkAAAAAAAMBJQFyPwvUo7FBA4XoUrkchSkCkcD0K16NPQDMzMzMzc1RAPQrXo3B9U0AAAAAAAMBOQD0K16NwnUlArkfhehQ+UEBxPQrXo9BLQGZmZmZmxlFACtejcD2aUkBI4XoUrldRQPYoXI/CdUpAXI/C9Sj8S0CPwvUoXI9KQHE9CtejIFFAhetRuB4lTUCF61G4HiVJQFK4HoXrsUlAmpmZmZmZTkCkcD0K17NRQClcj8L1CFFAPQrXo3C9VUDNzMzMzMxJQB+F61G4PklAcT0K16MQS0A9CtejcN1KQIXrUbgehVBA4XoUrkchS0C4HoXrUfhPQKRwPQrXU1RAcT0K16PQUECamZmZmZlOQHsUrkfhOlVAhetRuB6lSkApXI/C9ShKQOF6FK5HQVRASOF6FK7nTUAK16NwPepSQMP1KFyPslBAw/UoXI8iSkAK16NwPQpSQEjhehSup1BAZmZmZmaWUUCamZmZmflJQIXrUbgeRU1AzczMzMysSkCuR+F6FA5MQEjhehSu11FAuB6F61FYVUCPwvUoXE9PQIXrUbgexUxACtejcD1KTEBxPQrXozBSQKRwPQrXY0lApHA9CtfjTkAAAAAAAHBSQK5H4XoULk5AUrgeheshU0B7FK5H4RpRQOF6FK5H4UtApHA9CtdTUUBSuB6F6zFQQHsUrkfhOktAAAAAAADATkCF61G4HuVKQHE9CtejEExA7FG4HoXLUUCamZmZmXlTQB+F61G4Xk9AAAAAAABgSUDD9Shcj6JQQEjhehSuJ0xApHA9CtfTVUDNzMzMzNxUQK5H4XoUzlRAuB6F61H4T0C4HoXrUXhJQClcj8L1uFFAZmZmZmbmUUBmZmZmZqZLQFK4HoXrYVNAH4XrUbj+SkBmZmZmZrZRQJqZmZmZWVBAZmZmZmYmTUCamZmZmTlMQB+F61G4XlJAMzMzMzPzTEAK16NwPSpLQFK4HoXrUUtAUrgeheuRTUB7FK5H4QpQQBSuR+F61FNArkfhehRuU0Bcj8L1KNxLQFK4HoXrQVJASOF6FK6HSUCPwvUoXE9SQLgehetRGFBAPQrXo3ANUEAUrkfhehROQI/C9Shcv1BAAAAAAAAwUkBmZmZmZkZJQJqZmZmZ+UlAXI/C9SjcUEBmZmZmZkZQQNejcD0Kl0tASOF6FK6nSUCF61G4HkVJQGZmZmZmpkpA7FG4HoVrUEA9CtejcL1QQMP1KFyPwlNAhetRuB7FT0AfhetRuB5MQOxRuB6Fi09A9ihcj8K1T0BmZmZmZrZQQPYoXI/CdUtAPQrXo3D9TUCkcD0K12NPQNejcD0Kp1RAexSuR+H6U0CamZmZmXlMQDMzMzMz01BAzczMzMysVEApXI/C9ehPQPYoXI/CdUpA16NwPQqXTUDD9Shcj+JLQEjhehSu50pAFK5H4XpEUEDNzMzMzAxKQI/C9ShcP1RAAAAAAACASUCuR+F6FB5TQIXrUbgeBU9AuB6F61FYTkCkcD0K12NOQHE9CtejYFFAmpmZmZk5TkBxPQrXo/BOQJqZmZmZeVBAcT0K16MwTkAfhetRuP5TQEjhehSu50tAPQrXo3ANVUDXo3A9CndMQA==",
          "dtype": "f8"
         },
         "xaxis": "x",
         "y": {
          "bdata": "mpmZmZmZH0DsUbgehesiQClcj8L1KCBAhetRuB6FHUCamZmZmZkcQIXrUbgeBSRAFK5H4XoUIkD2KFyPwnUgQAAAAAAAACBACtejcD2KKEB7FK5H4XocQPYoXI/CdSFAUrgehetRIUBxPQrXo3AcQHsUrkfheh1AmpmZmZmZKEAUrkfhehQgQD0K16NwPR1Aw/UoXI/CHkCPwvUoXA8gQBSuR+F6FB5AFK5H4XoUHkBcj8L1KNwiQBSuR+F6FB9Aj8L1KFyPI0B7FK5H4XoeQNejcD0KVyJAzczMzMxMIkBmZmZmZuYiQI/C9Shcjx1APQrXo3A9HUCF61G4HoUcQHsUrkfheh9AzczMzMzMHUBxPQrXo3AcQOxRuB6F6xxAw/UoXI9CIUCF61G4HoUfQM3MzMzMzB9AZmZmZmbmJkBSuB6F61EfQLgehetRuCNArkfhehSuHkD2KFyPwvUeQKRwPQrXoyZAuB6F61E4IUCF61G4HoUfQFyPwvUoXCRApHA9CtejJUBxPQrXo3AcQB+F61G4niNAKVyPwvWoIUBSuB6F61EfQKRwPQrXoxxArkfhehSuHUCamZmZmdkwQIXrUbgeBSFApHA9CtejHEDXo3A9CtceQMP1KFyPwiVAw/UoXI/CHkBxPQrXo3AeQM3MzMzMzB9AexSuR+H6IEDXo3A9CtcrQArXo3A9Ch9A16NwPQpXKkBcj8L1KNwrQGZmZmZmZidAXI/C9SjcIEBcj8L1KFwgQB+F61G4niJA7FG4HoVrIUBI4XoUrscgQOF6FK5H4R5A16NwPQpXIUBcj8L1KFweQOxRuB6F6yNAZmZmZmbmI0CF61G4HoUhQClcj8L1KB1AXI/C9ShcKEAK16NwPQofQIXrUbgeBSxApHA9CtejIkCF61G4HgUlQD0K16NwPShASOF6FK7HIUAfhetRuB4gQBSuR+F6lCBAw/UoXI9CIEBI4XoUrkcgQHsUrkfhehxA4XoUrkdhIEC4HoXrUbgdQIXrUbgehR1AzczMzMzMHUC4HoXrUbgjQGZmZmZmZiRAUrgehetRHUApXI/C9agmQOF6FK5HYSVAAAAAAAAAIUCamZmZmZkcQHsUrkfh+iVAFK5H4XoUHEAfhetRuJ4gQAAAAAAAAB5A9ihcj8J1KUAfhetRuB4kQClcj8L1qCFApHA9CtejJECkcD0K16MeQLgehetRuB9Aw/UoXI9CIUAAAAAAAAAjQBSuR+F6lCBAzczMzMzMHEBSuB6F69EjQBSuR+F6FCJA7FG4HoXrIUB7FK5H4XohQOxRuB6F6ydAmpmZmZkZIECF61G4HoUeQB+F61G4Hh5AcT0K16PwIkCamZmZmRkkQAAAAAAAACBAXI/C9SjcIEApXI/C9SgfQLgehetRuClAcT0K16NwIEDhehSuR2EnQD0K16NwPSNAUrgehetRIEAfhetRuB4cQHE9CtejcB5AUrgehevRJkDD9Shcj0IhQArXo3A9Ch9Aj8L1KFyPJ0DNzMzMzMweQHE9Ctej8CJAmpmZmZmZIUAzMzMzMzMcQKRwPQrXIyVAexSuR+F6HEBI4XoUrschQMP1KFyPQiNAKVyPwvUoIEC4HoXrUTgiQNejcD0KVyFApHA9CtejHUC4HoXrUbgeQOF6FK5HYSFA7FG4HoXrIEBI4XoUrsckQArXo3A9Ch5AKVyPwvWoJUDhehSuR+EdQHE9Ctej8CRAH4XrUbgeIECPwvUoXA8nQArXo3A9CiNAj8L1KFwPKkAzMzMzMzMfQMP1KFyPQiFAcT0K16NwJkA9CtejcD0fQHsUrkfheiNApHA9CtejHUDhehSuR2EjQClcj8L1KB1AAAAAAAAAIUB7FK5H4XoeQA==",
          "dtype": "f8"
         },
         "yaxis": "y"
        }
       ],
       "layout": {
        "coloraxis": {
         "colorbar": {
          "title": {
           "text": "pass_completion_%"
          }
         },
         "colorscale": [
          [
           0,
           "rgb(165,0,38)"
          ],
          [
           0.1,
           "rgb(215,48,39)"
          ],
          [
           0.2,
           "rgb(244,109,67)"
          ],
          [
           0.3,
           "rgb(253,174,97)"
          ],
          [
           0.4,
           "rgb(254,224,139)"
          ],
          [
           0.5,
           "rgb(255,255,191)"
          ],
          [
           0.6,
           "rgb(217,239,139)"
          ],
          [
           0.7,
           "rgb(166,217,106)"
          ],
          [
           0.8,
           "rgb(102,189,99)"
          ],
          [
           0.9,
           "rgb(26,152,80)"
          ],
          [
           1,
           "rgb(0,104,55)"
          ]
         ],
         "showscale": false
        },
        "height": 700,
        "legend": {
         "tracegroupgap": 0
        },
        "paper_bgcolor": "white",
        "plot_bgcolor": "white",
        "template": {
         "data": {
          "bar": [
           {
            "error_x": {
             "color": "#2a3f5f"
            },
            "error_y": {
             "color": "#2a3f5f"
            },
            "marker": {
             "line": {
              "color": "#E5ECF6",
              "width": 0.5
             },
             "pattern": {
              "fillmode": "overlay",
              "size": 10,
              "solidity": 0.2
             }
            },
            "type": "bar"
           }
          ],
          "barpolar": [
           {
            "marker": {
             "line": {
              "color": "#E5ECF6",
              "width": 0.5
             },
             "pattern": {
              "fillmode": "overlay",
              "size": 10,
              "solidity": 0.2
             }
            },
            "type": "barpolar"
           }
          ],
          "carpet": [
           {
            "aaxis": {
             "endlinecolor": "#2a3f5f",
             "gridcolor": "white",
             "linecolor": "white",
             "minorgridcolor": "white",
             "startlinecolor": "#2a3f5f"
            },
            "baxis": {
             "endlinecolor": "#2a3f5f",
             "gridcolor": "white",
             "linecolor": "white",
             "minorgridcolor": "white",
             "startlinecolor": "#2a3f5f"
            },
            "type": "carpet"
           }
          ],
          "choropleth": [
           {
            "colorbar": {
             "outlinewidth": 0,
             "ticks": ""
            },
            "type": "choropleth"
           }
          ],
          "contour": [
           {
            "colorbar": {
             "outlinewidth": 0,
             "ticks": ""
            },
            "colorscale": [
             [
              0,
              "#0d0887"
             ],
             [
              0.1111111111111111,
              "#46039f"
             ],
             [
              0.2222222222222222,
              "#7201a8"
             ],
             [
              0.3333333333333333,
              "#9c179e"
             ],
             [
              0.4444444444444444,
              "#bd3786"
             ],
             [
              0.5555555555555556,
              "#d8576b"
             ],
             [
              0.6666666666666666,
              "#ed7953"
             ],
             [
              0.7777777777777778,
              "#fb9f3a"
             ],
             [
              0.8888888888888888,
              "#fdca26"
             ],
             [
              1,
              "#f0f921"
             ]
            ],
            "type": "contour"
           }
          ],
          "contourcarpet": [
           {
            "colorbar": {
             "outlinewidth": 0,
             "ticks": ""
            },
            "type": "contourcarpet"
           }
          ],
          "heatmap": [
           {
            "colorbar": {
             "outlinewidth": 0,
             "ticks": ""
            },
            "colorscale": [
             [
              0,
              "#0d0887"
             ],
             [
              0.1111111111111111,
              "#46039f"
             ],
             [
              0.2222222222222222,
              "#7201a8"
             ],
             [
              0.3333333333333333,
              "#9c179e"
             ],
             [
              0.4444444444444444,
              "#bd3786"
             ],
             [
              0.5555555555555556,
              "#d8576b"
             ],
             [
              0.6666666666666666,
              "#ed7953"
             ],
             [
              0.7777777777777778,
              "#fb9f3a"
             ],
             [
              0.8888888888888888,
              "#fdca26"
             ],
             [
              1,
              "#f0f921"
             ]
            ],
            "type": "heatmap"
           }
          ],
          "histogram": [
           {
            "marker": {
             "pattern": {
              "fillmode": "overlay",
              "size": 10,
              "solidity": 0.2
             }
            },
            "type": "histogram"
           }
          ],
          "histogram2d": [
           {
            "colorbar": {
             "outlinewidth": 0,
             "ticks": ""
            },
            "colorscale": [
             [
              0,
              "#0d0887"
             ],
             [
              0.1111111111111111,
              "#46039f"
             ],
             [
              0.2222222222222222,
              "#7201a8"
             ],
             [
              0.3333333333333333,
              "#9c179e"
             ],
             [
              0.4444444444444444,
              "#bd3786"
             ],
             [
              0.5555555555555556,
              "#d8576b"
             ],
             [
              0.6666666666666666,
              "#ed7953"
             ],
             [
              0.7777777777777778,
              "#fb9f3a"
             ],
             [
              0.8888888888888888,
              "#fdca26"
             ],
             [
              1,
              "#f0f921"
             ]
            ],
            "type": "histogram2d"
           }
          ],
          "histogram2dcontour": [
           {
            "colorbar": {
             "outlinewidth": 0,
             "ticks": ""
            },
            "colorscale": [
             [
              0,
              "#0d0887"
             ],
             [
              0.1111111111111111,
              "#46039f"
             ],
             [
              0.2222222222222222,
              "#7201a8"
             ],
             [
              0.3333333333333333,
              "#9c179e"
             ],
             [
              0.4444444444444444,
              "#bd3786"
             ],
             [
              0.5555555555555556,
              "#d8576b"
             ],
             [
              0.6666666666666666,
              "#ed7953"
             ],
             [
              0.7777777777777778,
              "#fb9f3a"
             ],
             [
              0.8888888888888888,
              "#fdca26"
             ],
             [
              1,
              "#f0f921"
             ]
            ],
            "type": "histogram2dcontour"
           }
          ],
          "mesh3d": [
           {
            "colorbar": {
             "outlinewidth": 0,
             "ticks": ""
            },
            "type": "mesh3d"
           }
          ],
          "parcoords": [
           {
            "line": {
             "colorbar": {
              "outlinewidth": 0,
              "ticks": ""
             }
            },
            "type": "parcoords"
           }
          ],
          "pie": [
           {
            "automargin": true,
            "type": "pie"
           }
          ],
          "scatter": [
           {
            "fillpattern": {
             "fillmode": "overlay",
             "size": 10,
             "solidity": 0.2
            },
            "type": "scatter"
           }
          ],
          "scatter3d": [
           {
            "line": {
             "colorbar": {
              "outlinewidth": 0,
              "ticks": ""
             }
            },
            "marker": {
             "colorbar": {
              "outlinewidth": 0,
              "ticks": ""
             }
            },
            "type": "scatter3d"
           }
          ],
          "scattercarpet": [
           {
            "marker": {
             "colorbar": {
              "outlinewidth": 0,
              "ticks": ""
             }
            },
            "type": "scattercarpet"
           }
          ],
          "scattergeo": [
           {
            "marker": {
             "colorbar": {
              "outlinewidth": 0,
              "ticks": ""
             }
            },
            "type": "scattergeo"
           }
          ],
          "scattergl": [
           {
            "marker": {
             "colorbar": {
              "outlinewidth": 0,
              "ticks": ""
             }
            },
            "type": "scattergl"
           }
          ],
          "scattermap": [
           {
            "marker": {
             "colorbar": {
              "outlinewidth": 0,
              "ticks": ""
             }
            },
            "type": "scattermap"
           }
          ],
          "scattermapbox": [
           {
            "marker": {
             "colorbar": {
              "outlinewidth": 0,
              "ticks": ""
             }
            },
            "type": "scattermapbox"
           }
          ],
          "scatterpolar": [
           {
            "marker": {
             "colorbar": {
              "outlinewidth": 0,
              "ticks": ""
             }
            },
            "type": "scatterpolar"
           }
          ],
          "scatterpolargl": [
           {
            "marker": {
             "colorbar": {
              "outlinewidth": 0,
              "ticks": ""
             }
            },
            "type": "scatterpolargl"
           }
          ],
          "scatterternary": [
           {
            "marker": {
             "colorbar": {
              "outlinewidth": 0,
              "ticks": ""
             }
            },
            "type": "scatterternary"
           }
          ],
          "surface": [
           {
            "colorbar": {
             "outlinewidth": 0,
             "ticks": ""
            },
            "colorscale": [
             [
              0,
              "#0d0887"
             ],
             [
              0.1111111111111111,
              "#46039f"
             ],
             [
              0.2222222222222222,
              "#7201a8"
             ],
             [
              0.3333333333333333,
              "#9c179e"
             ],
             [
              0.4444444444444444,
              "#bd3786"
             ],
             [
              0.5555555555555556,
              "#d8576b"
             ],
             [
              0.6666666666666666,
              "#ed7953"
             ],
             [
              0.7777777777777778,
              "#fb9f3a"
             ],
             [
              0.8888888888888888,
              "#fdca26"
             ],
             [
              1,
              "#f0f921"
             ]
            ],
            "type": "surface"
           }
          ],
          "table": [
           {
            "cells": {
             "fill": {
              "color": "#EBF0F8"
             },
             "line": {
              "color": "white"
             }
            },
            "header": {
             "fill": {
              "color": "#C8D4E3"
             },
             "line": {
              "color": "white"
             }
            },
            "type": "table"
           }
          ]
         },
         "layout": {
          "annotationdefaults": {
           "arrowcolor": "#2a3f5f",
           "arrowhead": 0,
           "arrowwidth": 1
          },
          "autotypenumbers": "strict",
          "coloraxis": {
           "colorbar": {
            "outlinewidth": 0,
            "ticks": ""
           }
          },
          "colorscale": {
           "diverging": [
            [
             0,
             "#8e0152"
            ],
            [
             0.1,
             "#c51b7d"
            ],
            [
             0.2,
             "#de77ae"
            ],
            [
             0.3,
             "#f1b6da"
            ],
            [
             0.4,
             "#fde0ef"
            ],
            [
             0.5,
             "#f7f7f7"
            ],
            [
             0.6,
             "#e6f5d0"
            ],
            [
             0.7,
             "#b8e186"
            ],
            [
             0.8,
             "#7fbc41"
            ],
            [
             0.9,
             "#4d9221"
            ],
            [
             1,
             "#276419"
            ]
           ],
           "sequential": [
            [
             0,
             "#0d0887"
            ],
            [
             0.1111111111111111,
             "#46039f"
            ],
            [
             0.2222222222222222,
             "#7201a8"
            ],
            [
             0.3333333333333333,
             "#9c179e"
            ],
            [
             0.4444444444444444,
             "#bd3786"
            ],
            [
             0.5555555555555556,
             "#d8576b"
            ],
            [
             0.6666666666666666,
             "#ed7953"
            ],
            [
             0.7777777777777778,
             "#fb9f3a"
            ],
            [
             0.8888888888888888,
             "#fdca26"
            ],
            [
             1,
             "#f0f921"
            ]
           ],
           "sequentialminus": [
            [
             0,
             "#0d0887"
            ],
            [
             0.1111111111111111,
             "#46039f"
            ],
            [
             0.2222222222222222,
             "#7201a8"
            ],
            [
             0.3333333333333333,
             "#9c179e"
            ],
            [
             0.4444444444444444,
             "#bd3786"
            ],
            [
             0.5555555555555556,
             "#d8576b"
            ],
            [
             0.6666666666666666,
             "#ed7953"
            ],
            [
             0.7777777777777778,
             "#fb9f3a"
            ],
            [
             0.8888888888888888,
             "#fdca26"
            ],
            [
             1,
             "#f0f921"
            ]
           ]
          },
          "colorway": [
           "#636efa",
           "#EF553B",
           "#00cc96",
           "#ab63fa",
           "#FFA15A",
           "#19d3f3",
           "#FF6692",
           "#B6E880",
           "#FF97FF",
           "#FECB52"
          ],
          "font": {
           "color": "#2a3f5f"
          },
          "geo": {
           "bgcolor": "white",
           "lakecolor": "white",
           "landcolor": "#E5ECF6",
           "showlakes": true,
           "showland": true,
           "subunitcolor": "white"
          },
          "hoverlabel": {
           "align": "left"
          },
          "hovermode": "closest",
          "mapbox": {
           "style": "light"
          },
          "paper_bgcolor": "white",
          "plot_bgcolor": "#E5ECF6",
          "polar": {
           "angularaxis": {
            "gridcolor": "white",
            "linecolor": "white",
            "ticks": ""
           },
           "bgcolor": "#E5ECF6",
           "radialaxis": {
            "gridcolor": "white",
            "linecolor": "white",
            "ticks": ""
           }
          },
          "scene": {
           "xaxis": {
            "backgroundcolor": "#E5ECF6",
            "gridcolor": "white",
            "gridwidth": 2,
            "linecolor": "white",
            "showbackground": true,
            "ticks": "",
            "zerolinecolor": "white"
           },
           "yaxis": {
            "backgroundcolor": "#E5ECF6",
            "gridcolor": "white",
            "gridwidth": 2,
            "linecolor": "white",
            "showbackground": true,
            "ticks": "",
            "zerolinecolor": "white"
           },
           "zaxis": {
            "backgroundcolor": "#E5ECF6",
            "gridcolor": "white",
            "gridwidth": 2,
            "linecolor": "white",
            "showbackground": true,
            "ticks": "",
            "zerolinecolor": "white"
           }
          },
          "shapedefaults": {
           "line": {
            "color": "#2a3f5f"
           }
          },
          "ternary": {
           "aaxis": {
            "gridcolor": "white",
            "linecolor": "white",
            "ticks": ""
           },
           "baxis": {
            "gridcolor": "white",
            "linecolor": "white",
            "ticks": ""
           },
           "bgcolor": "#E5ECF6",
           "caxis": {
            "gridcolor": "white",
            "linecolor": "white",
            "ticks": ""
           }
          },
          "title": {
           "x": 0.05
          },
          "xaxis": {
           "automargin": true,
           "gridcolor": "white",
           "linecolor": "white",
           "ticks": "",
           "title": {
            "standoff": 15
           },
           "zerolinecolor": "white",
           "zerolinewidth": 2
          },
          "yaxis": {
           "automargin": true,
           "gridcolor": "white",
           "linecolor": "white",
           "ticks": "",
           "title": {
            "standoff": 15
           },
           "zerolinecolor": "white",
           "zerolinewidth": 2
          }
         }
        },
        "title": {
         "text": "Passing quality ( 176)",
         "x": 0.5,
         "xanchor": "center"
        },
        "width": 1200,
        "xaxis": {
         "anchor": "y",
         "domain": [
          0,
          1
         ],
         "gridcolor": "lightgray",
         "showgrid": true,
         "title": {
          "text": "passes_attempted/90"
         },
         "zeroline": false
        },
        "yaxis": {
         "anchor": "x",
         "domain": [
          0,
          1
         ],
         "gridcolor": "lightgray",
         "showgrid": true,
         "title": {
          "text": "progressive_pass_rate"
         },
         "zeroline": false
        }
       }
      }
     },
     "metadata": {},
     "output_type": "display_data"
    }
   ],
   "source": [
    "# Filter data \n",
    "mask = (\n",
    "        (df_players['passes_attempted/90'] >= 50) & \\\n",
    "        (df_players['progressive_pass_rate'] >= 7) & \\\n",
    "        (df_players['pass_completion_%'] >= 89) & \\\n",
    "        (df_players['age'] <= 26) & \\\n",
    "        (df_players['id'].isin(targets))\n",
    "        \n",
    "        \n",
    ")\n",
    "\n",
    "df_targets = df_players[mask]\n",
    "\n",
    "scatter_plot(df_targets,\n",
    "             x_metric='passes_attempted/90', \n",
    "             y_metric='progressive_pass_rate',\n",
    "             z_metric='pass_completion_%',\n",
    "             title='Passing quality', \n",
    "             show_name_label=False\n",
    ")\n",
    "\n",
    "# Keep only players that fulfill criteria\n",
    "targets = list(df_targets['id'])"
   ]
  },
  {
   "cell_type": "markdown",
   "id": "db5f786f",
   "metadata": {},
   "source": [
    "## Possession Analysis"
   ]
  },
  {
   "cell_type": "code",
   "execution_count": 107,
   "id": "c382547d",
   "metadata": {},
   "outputs": [
    {
     "data": {
      "application/vnd.plotly.v1+json": {
       "config": {
        "plotlyServerURL": "https://plot.ly"
       },
       "data": [
        {
         "customdata": [
          [
           "Wilfried Singo",
           "Monaco"
          ],
          [
           "Formose Mendy",
           "Lorient"
          ],
          [
           "Abakar Sylla",
           "Strasbourg"
          ],
          [
           "Edmond Tapsoba",
           "Bayer 04"
          ],
          [
           "Montassar Talbi",
           "Lorient"
          ],
          [
           "Lucas Carrizo",
           "Huracán"
          ],
          [
           "Cristian Romero",
           "Tottenham"
          ],
          [
           "Alejandro Maciel",
           "Banfield"
          ],
          [
           "David Martínez",
           "River"
          ],
          [
           "Lucas Faggioli",
           "Barracas Central"
          ],
          [
           "Miguel Brizuela",
           "Instituto"
          ],
          [
           "Lisandro Martínez",
           "Man Utd"
          ],
          [
           "Ignacio Vázquez",
           "Platense"
          ],
          [
           "Facundo Medina",
           "Lens"
          ],
          [
           "Nicolás Capraro",
           "Barracas Central"
          ],
          [
           "Juan Foyth",
           "Villarreal"
          ],
          [
           "Leonardo Balerdi",
           "Marseille"
          ],
          [
           "Gastón Ávila",
           "Ajax"
          ],
          [
           "Nicolás Paz",
           "Unión (SF)"
          ],
          [
           "Aarón Quiros",
           "Banfield"
          ],
          [
           "Facundo Giacopuzzi",
           "Tigre"
          ],
          [
           "Santiago Laquidain",
           "Central Córdoba (SdE)"
          ],
          [
           "Nicolás Valentini",
           "Boca"
          ],
          [
           "Pablo Minissale",
           "Central Córdoba (SdE)"
          ],
          [
           "Stefan Posch",
           "Bologna"
          ],
          [
           "Ahmed Touba",
           "Lecce"
          ],
          [
           "Arthur Theate",
           "Rennes"
          ],
          [
           "Alec Van Hoorenbeeck",
           "FC Twente"
          ],
          [
           "Robson Bambu",
           "Arouca"
          ],
          [
           "Gabriel",
           "Arsenal"
          ],
          [
           "Adryelson",
           "Lyon"
          ],
          [
           "Diego Costa",
           "SPO"
          ],
          [
           "Pedrão",
           "Portimonense"
          ],
          [
           "Bremer",
           "Juventus"
          ],
          [
           "Reynaldo",
           "CTB"
          ],
          [
           "Tuta",
           "Eintracht Frankfurt"
          ],
          [
           "João Victor",
           "Vasco da Gama"
          ],
          [
           "Vitão",
           "INT"
          ],
          [
           "Zé Gabriel",
           "Vasco da Gama"
          ],
          [
           "Morato",
           "SL Benfica"
          ],
          [
           "Edu",
           "GOI"
          ],
          [
           "Natan",
           "Napoli"
          ],
          [
           "Luizão",
           "Preston"
          ],
          [
           "Gabriel Pereira",
           "Gil Vicente"
          ],
          [
           "Vanderlan",
           "SEP"
          ],
          [
           "Joseph Okumu",
           "Stade Reims"
          ],
          [
           "Hrvoje Smolčić",
           "Eintracht Frankfurt"
          ],
          [
           "Josip Šutalo",
           "Ajax"
          ],
          [
           "Joško Gvardiol",
           "Man City"
          ],
          [
           "Rasmus Nicolaisen",
           "Toulouse"
          ],
          [
           "Mads Bech Sørensen",
           "FC Midtjylland"
          ],
          [
           "Ahmed Iljazovski",
           "Hvidovre IF"
          ],
          [
           "Alexander Busch",
           "Silkeborg IF"
          ],
          [
           "Fikayo Tomori",
           "Milan"
          ],
          [
           "Japhet Tanganga",
           "Millwall"
          ],
          [
           "Reece James",
           "Chelsea"
          ],
          [
           "Ben Cabango",
           "Swansea"
          ],
          [
           "Daniel Ballard",
           "Sunderland"
          ],
          [
           "Jacob Greaves",
           "Hull"
          ],
          [
           "Taylor Harwood-Bellis",
           "Southampton"
          ],
          [
           "Teden Mengi",
           "Luton"
          ],
          [
           "Luis Binks",
           "Coventry"
          ],
          [
           "Levi Colwill",
           "Chelsea"
          ],
          [
           "Odel Offiah",
           "QPR"
          ],
          [
           "Joe Gomez",
           "Liverpool"
          ],
          [
           "Dael Fry",
           "Middlesbrough"
          ],
          [
           "Jean-Kevin Duverne",
           "Nantes"
          ],
          [
           "James Justin",
           "Leicester"
          ],
          [
           "Benjamin White",
           "Arsenal"
          ],
          [
           "Ezri Konsa",
           "Aston Villa"
          ],
          [
           "Melle Meulensteen",
           "Vitesse"
          ],
          [
           "Jordan Storey",
           "Preston"
          ],
          [
           "Lewis Gibson",
           "Plymouth"
          ],
          [
           "Ben Wilmot",
           "Stoke"
          ],
          [
           "Ethan Ampadu",
           "Leeds"
          ],
          [
           "Nathan Wood",
           "Swansea"
          ],
          [
           "Philippe Sandler",
           "N.E.C. Nijmegen"
          ],
          [
           "Mats Knoester",
           "AGF"
          ],
          [
           "Pablo Rosario",
           "Nice"
          ],
          [
           "Pascal Struijk",
           "Leeds"
          ],
          [
           "Jamal Amofa",
           "Go Ahead Eagles"
          ],
          [
           "Perr Schuurs",
           "Torino"
          ],
          [
           "Peer Koopmeiners",
           "Almere City"
          ],
          [
           "Lutsharel Geertruida",
           "Feyenoord"
          ],
          [
           "Christopher Mamengi",
           "Almere City"
          ],
          [
           "Mats Wieffer",
           "Feyenoord"
          ],
          [
           "Denzel Hall",
           "sc Heerenveen"
          ],
          [
           "Thomas Beelen",
           "Feyenoord"
          ],
          [
           "Enzo Cornelisse",
           "Vitesse"
          ],
          [
           "Ryan Flamingo",
           "FC Utrecht"
          ],
          [
           "Micky van de Ven",
           "Tottenham"
          ],
          [
           "Lamare Bogarde",
           "Preston"
          ],
          [
           "Martin Erlić",
           "Sassuolo"
          ],
          [
           "Alessandro Bastoni",
           "Inter"
          ],
          [
           "Luca Ranieri",
           "Fiorentina"
          ],
          [
           "Alessandro Buongiorno",
           "Torino"
          ],
          [
           "Caleb Okoli",
           "Frosinone"
          ],
          [
           "Takehiro Tomiyasu",
           "Arsenal"
          ],
          [
           "Hiroki Ito",
           "VfB Stuttgart"
          ],
          [
           "Jules Koundé",
           "Barcelona"
          ],
          [
           "Ibrahima Konaté",
           "Liverpool"
          ],
          [
           "Théo Barbet",
           "Almere City"
          ],
          [
           "Jean-Clair Todibo",
           "Nice"
          ],
          [
           "Nicolas Cozza",
           "Nantes"
          ],
          [
           "Warmed Omari",
           "Rennes"
          ],
          [
           "Bafodé Diakité",
           "Lille"
          ],
          [
           "Logan Costa",
           "Toulouse"
          ],
          [
           "William Saliba",
           "Arsenal"
          ],
          [
           "Moussa Diarra",
           "Toulouse"
          ],
          [
           "Pierre Kalulu",
           "Milan"
          ],
          [
           "Mohamed Simakan",
           "RB Leipzig"
          ],
          [
           "Kiliann Sildillia",
           "SC Freiburg"
          ],
          [
           "Chrislain Matsima",
           "Clermont"
          ],
          [
           "Castello Lukeba",
           "RB Leipzig"
          ],
          [
           "Alidu Seidu",
           "Rennes"
          ],
          [
           "Edson Álvarez",
           "West Ham"
          ],
          [
           "Luke McNally",
           "Stoke"
          ],
          [
           "Kristoffer Ajer",
           "Brentford"
          ],
          [
           "Leo Østigård",
           "Napoli"
          ],
          [
           "Rúben Dias",
           "Man City"
          ],
          [
           "Kieran Tierney",
           "Real Sociedad"
          ],
          [
           "Ryan Porteous",
           "Watford"
          ],
          [
           "Nikola Milenković",
           "Fiorentina"
          ],
          [
           "Jaka Bijol",
           "Udinese"
          ],
          [
           "Dávid Hancko",
           "Feyenoord"
          ],
          [
           "Jesús Vallejo",
           "Granada"
          ],
          [
           "Pau Torres",
           "Aston Villa"
          ],
          [
           "Javi Hernández",
           "Cádiz"
          ],
          [
           "Jorge Cuenca",
           "Villarreal"
          ],
          [
           "Dani Vivian",
           "Athletic"
          ],
          [
           "José Manuel Copete",
           "Mallorca"
          ],
          [
           "Hugo Guillamón",
           "Valencia"
          ],
          [
           "Ozan Kabak",
           "TSG Hoffenheim"
          ],
          [
           "Jhon Lucumí",
           "Juventus"
          ],
          [
           "Nicolás Hernández",
           "San Lorenzo"
          ],
          [
           "Fali Candé",
           "Metz"
          ],
          [
           "Tomás Ribeiro",
           "Vit. Guimarães"
          ],
          [
           "Jota",
           "Vizela"
          ],
          [
           "Alexandre Penetra",
           "AZ"
          ],
          [
           "Bernardo Vital",
           "Estoril Praia"
          ],
          [
           "Gonçalo Inácio",
           "Sporting CP"
          ],
          [
           "António Silva",
           "SL Benfica"
          ],
          [
           "Gabriel Xavier",
           "BAH"
          ],
          [
           "Félix Torres",
           "COR"
          ],
          [
           "Leonardo Realpe",
           "RB Bragantino"
          ],
          [
           "Willian Pacho",
           "Eintracht Frankfurt"
          ],
          [
           "Marco Friedl",
           "SV Werder"
          ],
          [
           "Kevin Danso",
           "Lens"
          ],
          [
           "Amos Pieper",
           "SV Werder"
          ],
          [
           "Paul Jaeckel",
           "Lyon"
          ],
          [
           "Josip Stanišić",
           "Bayer 04"
          ],
          [
           "Michael Akoto",
           "AGF"
          ],
          [
           "Hugo Andersson",
           "Randers FC"
          ],
          [
           "Odilon Kossounou",
           "Bayer 04"
          ],
          [
           "Murilo",
           "SEP"
          ],
          [
           "Eray Cömert",
           "Nantes"
          ],
          [
           "Isaak Touré",
           "Lorient"
          ],
          [
           "Willy Kambwala",
           "Man Utd"
          ],
          [
           "Nicolás Romero",
           "Atl. Tucumán"
          ],
          [
           "Rav van den Berg",
           "Middlesbrough"
          ],
          [
           "João Marcelo",
           "CEC"
          ],
          [
           "Raniele",
           "COR"
          ],
          [
           "Cristhian Mosquera",
           "Valencia"
          ],
          [
           "Callum Doyle",
           "Leicester"
          ],
          [
           "Serdar Saatçı",
           "Sp. Braga"
          ],
          [
           "Arnau Martínez",
           "Girona"
          ],
          [
           "Joaquín Pombo",
           "Arsenal (Sarandí)"
          ],
          [
           "Nicolás Fernández",
           "Estudiantes (LP)"
          ],
          [
           "Jorrel Hato",
           "Ajax"
          ],
          [
           "Jeremías James Griffiths",
           "San Lorenzo"
          ],
          [
           "Jeanuël Belocian",
           "Rennes"
          ],
          [
           "Samuel Lucero",
           "Defensa y Justicia"
          ],
          [
           "Ousmane Diomande",
           "Sporting CP"
          ],
          [
           "Alan González",
           "Huracán"
          ],
          [
           "Stijn Bultman",
           "Heracles Almelo"
          ],
          [
           "Santiago Quiros",
           "Racing Club"
          ]
         ],
         "hovertemplate": "<b>%{customdata[0]}</b><br><b>%{customdata[1]}</b><br><br>possession_lost/90: %{x}<br>possession_won/90: %{y}<br>poss+_/90: %{marker.color}<extra></extra>",
         "legendgroup": "",
         "marker": {
          "color": {
           "bdata": "7FG4HoXr9b+PwvUoXI8UQI/C9Shcjw5Aw/UoXI/CGEAfhetRuB4WQOxRuB6F6xtASOF6FK7HIUAK16NwPYonQDMzMzMzMydACtejcD0KGECuR+F6FC4kQHE9CtejcBRA16NwPQrXFkDhehSuR+EKQI/C9ShcjyRAmpmZmZmZFUD2KFyPwvUcQClcj8L1KBNAj8L1KFyPKUA9CtejcD0lQArXo3A9CiJAj8L1KFyPIkD2KFyPwnUkQLgehetRuChAFK5H4XoUEUB7FK5H4XoKQAAAAAAAABdA4XoUrkfhFUBmZmZmZmYGQNejcD0K1xdAj8L1KFyPDkBcj8L1KFweQLgehetRuBpAuB6F61G4FkB7FK5H4XoMQHsUrkfhehdAMzMzMzMzD0ApXI/C9SgtQK5H4XoUrg9AhetRuB6FIUBcj8L1KFwYQAAAAAAAABRAhetRuB6FBUApXI/C9SgbQDMzMzMzMxBAMzMzMzMzE0C4HoXrUbgXQClcj8L1KB5A7FG4HoXrHUApXI/C9SgTQI/C9ShcDyFA4XoUrkfhEkCF61G4HoUbQLgehetRuCBAuB6F61G4EUDD9Shcj8INQLgehetRuApA9ihcj8L1G0DXo3A9CtcNQEjhehSuRx9Aw/UoXI/CD0CamZmZmZkVQOxRuB6F6x9AFK5H4XoUEEDXo3A9CtcXQOF6FK5H4R5AXI/C9ShcGUApXI/C9SgQQHsUrkfhehNAexSuR+F6H0CPwvUoXI8EQI/C9ShcjxNAFK5H4XoUEUCuR+F6FK4UQLgehetRuL4/exSuR+F6FUCPwvUoXI8UQD0K16NwPRtAPQrXo3A9EECPwvUoXI8dQNejcD0K1xBAzczMzMzMHUCPwvUoXI/qvx+F61G4HgVA16NwPQrXDUAAAAAAAADoP2ZmZmZmZvI/hetRuB6FFkBmZmZmZmYYQBSuR+F6FBJAhetRuB6FIEDD9Shcj8L9P5qZmZmZmRhAhetRuB6FHUAUrkfhehQaQNejcD0K1xxAexSuR+F6FkAzMzMzMzMTQIXrUbgehds/4XoUrkfhHUDXo3A9CtcfQMP1KFyPwgFAexSuR+F6H0AfhetRuB4NQHE9CtejcBRAzczMzMzMEEBI4XoUrkcUQNejcD0K1xdAuB6F61E4IEDNzMzMzMwfQJqZmZmZmRJAFK5H4XoUBkCF61G4HoUJQKRwPQrXoxxACtejcD0KA0AAAAAAAAACQI/C9ShcjxNAUrgehetREkBI4XoUrkcWQD0K16NwPRRAcT0K16NwB0C4HoXrUbgaQKRwPQrXIyFAuB6F61G4EECamZmZmZkgQClcj8L1KAxAmpmZmZmZHEDsUbgehevpP65H4XoULiFAMzMzMzMzE0AK16NwPQoNQFyPwvUoXAFAw/UoXI/CDUDNzMzMzMwCQEjhehSuRwlA7FG4HoXr8T/Xo3A9CtcbQOF6FK5H4RZAXI/C9ShcEUA9CtejcD0KQBSuR+F6FCNA16NwPQpXIkB7FK5H4foqQD0K16NwPRlAPQrXo3A9I0AAAAAAAAAWQPYoXI/C9QxAAAAAAAAAFEBSuB6F61EVQAAAAAAAABdApHA9CtejEUBmZmZmZmYWQM3MzMzMzBBAAAAAAAAAFkCF61G4HoUkQFyPwvUoXBFAPQrXo3A9FkBI4XoUrkcQQOF6FK5HYSNArkfhehSuEkAzMzMzMzMfQHsUrkfherS/cT0K16NwFEAzMzMzMzMSQB+F61G4Hh9ApHA9CtejF0BI4XoUrsclQFyPwvUoXB9A16NwPQrXEkBSuB6F61EhQOF6FK5H4RtASOF6FK5HIUBI4XoUrkccQGZmZmZm5iBAcT0K16NwB0Bcj8L1KFwkQA==",
           "dtype": "f8"
          },
          "coloraxis": "coloraxis",
          "size": 10,
          "symbol": "circle"
         },
         "mode": "markers",
         "name": "",
         "orientation": "v",
         "showlegend": false,
         "textfont": {
          "size": 10
         },
         "textposition": "top center",
         "type": "scatter",
         "x": {
          "bdata": "KVyPwvWoKUA9CtejcD0bQJqZmZmZmRpAPQrXo3A9EkAzMzMzMzMNQLgehetRuBVAAAAAAAAAEECkcD0K16MOQClcj8L1KA5AMzMzMzMzHUAzMzMzMzMSQHsUrkfhehRAAAAAAAAAGUDD9Shcj8IcQArXo3A9ChNAj8L1KFyPH0DD9Shcj8IPQDMzMzMzMw1ACtejcD0KD0DD9Shcj8IPQIXrUbgehRBA7FG4HoXrFEDXo3A9CtcRQNejcD0K1wdAexSuR+H6IUBI4XoUrkcWQKRwPQrXoxpAuB6F61G4EECuR+F6FK4dQOxRuB6F6xZApHA9CtejFUDD9Shcj8ISQD0K16NwPRpAKVyPwvUoFUD2KFyPwvUXQEjhehSuRxVAuB6F61G4HkDhehSuR+EMQD0K16NwPR9AMzMzMzMzGEAUrkfhehQXQBSuR+F6FBdAw/UoXI9CIECF61G4HoUNQM3MzMzMzCJAuB6F61G4E0ApXI/C9SgaQMP1KFyPwhRAZmZmZmZmGkCPwvUoXI8SQEjhehSuRxhAexSuR+F6HUCPwvUoXI8XQFK4HoXrURFAAAAAAAAAHEBxPQrXo3AjQArXo3A9CiBA9ihcj8L1GEB7FK5H4fogQGZmZmZm5iNAKVyPwvUoHECPwvUoXI8YQClcj8L1KBVAH4XrUbgeHkBSuB6F69EhQMP1KFyPwhVAhetRuB6FG0D2KFyPwvUdQM3MzMzMzBpAuB6F61G4EUDsUbgehesWQM3MzMzMzBZAH4XrUbgeG0B7FK5H4XoZQJqZmZmZGSJA4XoUrkfhGUBI4XoUrkcVQI/C9ShcjxpArkfhehSuE0AfhetRuB4aQPYoXI/C9RFAmpmZmZmZGEAfhetRuB4eQHsUrkfheiFAFK5H4XoUGUDhehSuR+EiQFK4HoXr0SRArkfhehSuEkDD9Shcj8IQQBSuR+F6FBtAAAAAAAAAFED2KFyPwvUdQLgehetRuA5AexSuR+F6EEDhehSuR+ETQOF6FK5H4RVASOF6FK5HEkDXo3A9CtcgQFyPwvUo3CJAKVyPwvUoGEAAAAAAAAAZQI/C9Shcjx9AAAAAAAAAE0AfhetRuB4YQIXrUbgeBSJArkfhehSuHkApXI/C9SgSQOF6FK5H4RRAPQrXo3A9G0A9CtejcD0OQJqZmZmZmR9A4XoUrkdhI0CuR+F6FC4gQK5H4XoUrhNACtejcD0KIUBmZmZmZmYdQM3MzMzMzBtApHA9CtejFUDNzMzMzMwbQOF6FK5H4RZAhetRuB4FJUDXo3A9CtcSQB+F61G4HhpAUrgehetRGUAzMzMzMzMUQK5H4XoUrgtAFK5H4XoUFUAAAAAAAAAkQOF6FK5H4RRAmpmZmZmZFEAfhetRuB4XQArXo3A9ChtAPQrXo3A9G0ApXI/C9SgeQHE9CtejcCBAhetRuB6FHUCPwvUoXI8UQOxRuB6F6xNAcT0K16NwFUDsUbgehWsgQFK4HoXrURRAzczMzMzMFkApXI/C9SgKQD0K16NwPRlAUrgehetRDECamZmZmZkTQLgehetRuBpAZmZmZmZmHEAUrkfhehQbQJqZmZmZmRVArkfhehSuG0DXo3A9CtcaQB+F61G4HhlAhetRuB6FH0BxPQrXo3AQQKRwPQrXoxNAKVyPwvUoHEAUrkfhehQeQD0K16NwPRFAUrgehetRI0C4HoXrUbgOQIXrUbgeBSJAAAAAAAAAFEAUrkfhehQVQI/C9ShcjxlApHA9CtejFkBxPQrXo3ARQEjhehSuRxdAZmZmZmZmH0CamZmZmZkTQClcj8L1KB9A7FG4HoXrE0CPwvUoXI8WQEjhehSuRxNAzczMzMzMGEAK16NwPQoLQA==",
          "dtype": "f8"
         },
         "xaxis": "x",
         "y": {
          "bdata": "7FG4HoXrJkBmZmZmZuYnQHE9Ctej8CRAAAAAAACAJUBcj8L1KFwiQFK4HoXr0ShASOF6FK7HKUAzMzMzMzMvQD0K16NwvS5AH4XrUbieKkBI4XoUrkctQPYoXI/CdSRA7FG4HoXrJ0CamZmZmRklQBSuR+F6FC5AFK5H4XqUKkDsUbgehWsmQOF6FK5H4SBAKVyPwvWoMECuR+F6FC4tQM3MzMzMTCpAhetRuB4FLUDhehSuR2EtQK5H4XoUri5AhetRuB6FKkDD9Shcj8IhQFK4HoXr0ShAzczMzMxMI0BxPQrXo3AkQOF6FK5HYSdA9ihcj8J1IkCPwvUoXI8oQHsUrkfheipAcT0K16PwJUCamZmZmRkjQOF6FK5HYSZAKVyPwvUoJ0BxPQrXozAyQArXo3A9iidAH4XrUbieLUC4HoXrUbgnQArXo3A9iiVApHA9CtejJUD2KFyPwvUkQGZmZmZm5ipA9ihcj8J1I0BxPQrXo/AoQPYoXI/CdSlAKVyPwvUoLEBcj8L1KNwiQDMzMzMzMy1ArkfhehQuKEAK16NwPYopQOF6FK5HYSlAXI/C9SjcJkDhehSuR+EqQLgehetRuCZA9ihcj8J1KkBxPQrXo3AoQIXrUbgexTFAhetRuB4FJkAUrkfhehQnQArXo3A9iipAmpmZmZkZJ0A9CtejcL0tQFK4HoXrUSpAcT0K16NwKkCPwvUoXA8nQKRwPQrXIydAmpmZmZmZKECamZmZmZkgQK5H4XoULiVAmpmZmZkZJkAUrkfhehQnQNejcD0KVyJArkfhehSuJ0DsUbgeheskQGZmZmZm5ipA9ihcj8L1IUDXo3A9CtcrQGZmZmZmZiFAMzMzMzMzK0DNzMzMzMwaQMP1KFyPwiZAAAAAAAAAJEDhehSuR2EkQB+F61G4HidAmpmZmZmZJEAUrkfhepQkQBSuR+F6lCZAhetRuB6FKkAzMzMzM7MiQHsUrkfh+iNAAAAAAAAAJ0B7FK5H4fomQFyPwvUoXClA4XoUrkdhJEBxPQrXo3AqQLgehetRuCNAhetRuB4FK0DsUbgehWssQLgehetROCRAPQrXo3A9KUDXo3A9ClcjQD0K16NwPSxAPQrXo3C9J0C4HoXrUTgjQFyPwvUoXCZA16NwPQrXLUD2KFyPwnUnQJqZmZmZGSlAZmZmZmbmKECPwvUoXI8mQClcj8L1KChAzczMzMzMJUAzMzMzMzMjQK5H4XoUridAexSuR+H6I0AK16NwPQopQI/C9ShcjyVA4XoUrkfhKkBI4XoUrscmQDMzMzMzMy5AhetRuB4FJUAzMzMzM7MqQOxRuB6F6xtA16NwPQrXKEAfhetRuJ4lQB+F61G4nitAZmZmZmbmI0BSuB6F69EiQFyPwvUo3CFAj8L1KFwPJUBI4XoUrscjQMP1KFyPwiZAAAAAAAAAIUAzMzMzMzMoQGZmZmZmZiVAZmZmZmZmI0B7FK5H4fomQD0K16NwPS1APQrXo3C9LUDD9Shcj8IwQD0K16NwPSlAUrgehetRKkDNzMzMzMwkQJqZmZmZmSRAMzMzMzMzKEAzMzMzMzMoQM3MzMzMTCZAKVyPwvWoJkAfhetRuJ4oQPYoXI/C9SRAw/UoXI/CKkA9CtejcL0sQAAAAAAAgCJAMzMzMzMzKUCuR+F6FC4nQAAAAAAAACxAKVyPwvWoLEBI4XoUrkcnQFyPwvUo3CFAuB6F61E4JECkcD0K16MjQNejcD0KVyxApHA9CtcjJ0AAAAAAAIAuQFK4HoXrUStAH4XrUbgeKUAfhetRuB4rQIXrUbgehS1APQrXo3A9K0DsUbgehWspQArXo3A9iipAw/UoXI9CIkAfhetRuB4rQA==",
          "dtype": "f8"
         },
         "yaxis": "y"
        }
       ],
       "layout": {
        "coloraxis": {
         "colorbar": {
          "title": {
           "text": "poss+_/90"
          }
         },
         "colorscale": [
          [
           0,
           "rgb(165,0,38)"
          ],
          [
           0.1,
           "rgb(215,48,39)"
          ],
          [
           0.2,
           "rgb(244,109,67)"
          ],
          [
           0.3,
           "rgb(253,174,97)"
          ],
          [
           0.4,
           "rgb(254,224,139)"
          ],
          [
           0.5,
           "rgb(255,255,191)"
          ],
          [
           0.6,
           "rgb(217,239,139)"
          ],
          [
           0.7,
           "rgb(166,217,106)"
          ],
          [
           0.8,
           "rgb(102,189,99)"
          ],
          [
           0.9,
           "rgb(26,152,80)"
          ],
          [
           1,
           "rgb(0,104,55)"
          ]
         ],
         "showscale": false
        },
        "height": 700,
        "legend": {
         "tracegroupgap": 0
        },
        "paper_bgcolor": "white",
        "plot_bgcolor": "white",
        "template": {
         "data": {
          "bar": [
           {
            "error_x": {
             "color": "#2a3f5f"
            },
            "error_y": {
             "color": "#2a3f5f"
            },
            "marker": {
             "line": {
              "color": "#E5ECF6",
              "width": 0.5
             },
             "pattern": {
              "fillmode": "overlay",
              "size": 10,
              "solidity": 0.2
             }
            },
            "type": "bar"
           }
          ],
          "barpolar": [
           {
            "marker": {
             "line": {
              "color": "#E5ECF6",
              "width": 0.5
             },
             "pattern": {
              "fillmode": "overlay",
              "size": 10,
              "solidity": 0.2
             }
            },
            "type": "barpolar"
           }
          ],
          "carpet": [
           {
            "aaxis": {
             "endlinecolor": "#2a3f5f",
             "gridcolor": "white",
             "linecolor": "white",
             "minorgridcolor": "white",
             "startlinecolor": "#2a3f5f"
            },
            "baxis": {
             "endlinecolor": "#2a3f5f",
             "gridcolor": "white",
             "linecolor": "white",
             "minorgridcolor": "white",
             "startlinecolor": "#2a3f5f"
            },
            "type": "carpet"
           }
          ],
          "choropleth": [
           {
            "colorbar": {
             "outlinewidth": 0,
             "ticks": ""
            },
            "type": "choropleth"
           }
          ],
          "contour": [
           {
            "colorbar": {
             "outlinewidth": 0,
             "ticks": ""
            },
            "colorscale": [
             [
              0,
              "#0d0887"
             ],
             [
              0.1111111111111111,
              "#46039f"
             ],
             [
              0.2222222222222222,
              "#7201a8"
             ],
             [
              0.3333333333333333,
              "#9c179e"
             ],
             [
              0.4444444444444444,
              "#bd3786"
             ],
             [
              0.5555555555555556,
              "#d8576b"
             ],
             [
              0.6666666666666666,
              "#ed7953"
             ],
             [
              0.7777777777777778,
              "#fb9f3a"
             ],
             [
              0.8888888888888888,
              "#fdca26"
             ],
             [
              1,
              "#f0f921"
             ]
            ],
            "type": "contour"
           }
          ],
          "contourcarpet": [
           {
            "colorbar": {
             "outlinewidth": 0,
             "ticks": ""
            },
            "type": "contourcarpet"
           }
          ],
          "heatmap": [
           {
            "colorbar": {
             "outlinewidth": 0,
             "ticks": ""
            },
            "colorscale": [
             [
              0,
              "#0d0887"
             ],
             [
              0.1111111111111111,
              "#46039f"
             ],
             [
              0.2222222222222222,
              "#7201a8"
             ],
             [
              0.3333333333333333,
              "#9c179e"
             ],
             [
              0.4444444444444444,
              "#bd3786"
             ],
             [
              0.5555555555555556,
              "#d8576b"
             ],
             [
              0.6666666666666666,
              "#ed7953"
             ],
             [
              0.7777777777777778,
              "#fb9f3a"
             ],
             [
              0.8888888888888888,
              "#fdca26"
             ],
             [
              1,
              "#f0f921"
             ]
            ],
            "type": "heatmap"
           }
          ],
          "histogram": [
           {
            "marker": {
             "pattern": {
              "fillmode": "overlay",
              "size": 10,
              "solidity": 0.2
             }
            },
            "type": "histogram"
           }
          ],
          "histogram2d": [
           {
            "colorbar": {
             "outlinewidth": 0,
             "ticks": ""
            },
            "colorscale": [
             [
              0,
              "#0d0887"
             ],
             [
              0.1111111111111111,
              "#46039f"
             ],
             [
              0.2222222222222222,
              "#7201a8"
             ],
             [
              0.3333333333333333,
              "#9c179e"
             ],
             [
              0.4444444444444444,
              "#bd3786"
             ],
             [
              0.5555555555555556,
              "#d8576b"
             ],
             [
              0.6666666666666666,
              "#ed7953"
             ],
             [
              0.7777777777777778,
              "#fb9f3a"
             ],
             [
              0.8888888888888888,
              "#fdca26"
             ],
             [
              1,
              "#f0f921"
             ]
            ],
            "type": "histogram2d"
           }
          ],
          "histogram2dcontour": [
           {
            "colorbar": {
             "outlinewidth": 0,
             "ticks": ""
            },
            "colorscale": [
             [
              0,
              "#0d0887"
             ],
             [
              0.1111111111111111,
              "#46039f"
             ],
             [
              0.2222222222222222,
              "#7201a8"
             ],
             [
              0.3333333333333333,
              "#9c179e"
             ],
             [
              0.4444444444444444,
              "#bd3786"
             ],
             [
              0.5555555555555556,
              "#d8576b"
             ],
             [
              0.6666666666666666,
              "#ed7953"
             ],
             [
              0.7777777777777778,
              "#fb9f3a"
             ],
             [
              0.8888888888888888,
              "#fdca26"
             ],
             [
              1,
              "#f0f921"
             ]
            ],
            "type": "histogram2dcontour"
           }
          ],
          "mesh3d": [
           {
            "colorbar": {
             "outlinewidth": 0,
             "ticks": ""
            },
            "type": "mesh3d"
           }
          ],
          "parcoords": [
           {
            "line": {
             "colorbar": {
              "outlinewidth": 0,
              "ticks": ""
             }
            },
            "type": "parcoords"
           }
          ],
          "pie": [
           {
            "automargin": true,
            "type": "pie"
           }
          ],
          "scatter": [
           {
            "fillpattern": {
             "fillmode": "overlay",
             "size": 10,
             "solidity": 0.2
            },
            "type": "scatter"
           }
          ],
          "scatter3d": [
           {
            "line": {
             "colorbar": {
              "outlinewidth": 0,
              "ticks": ""
             }
            },
            "marker": {
             "colorbar": {
              "outlinewidth": 0,
              "ticks": ""
             }
            },
            "type": "scatter3d"
           }
          ],
          "scattercarpet": [
           {
            "marker": {
             "colorbar": {
              "outlinewidth": 0,
              "ticks": ""
             }
            },
            "type": "scattercarpet"
           }
          ],
          "scattergeo": [
           {
            "marker": {
             "colorbar": {
              "outlinewidth": 0,
              "ticks": ""
             }
            },
            "type": "scattergeo"
           }
          ],
          "scattergl": [
           {
            "marker": {
             "colorbar": {
              "outlinewidth": 0,
              "ticks": ""
             }
            },
            "type": "scattergl"
           }
          ],
          "scattermap": [
           {
            "marker": {
             "colorbar": {
              "outlinewidth": 0,
              "ticks": ""
             }
            },
            "type": "scattermap"
           }
          ],
          "scattermapbox": [
           {
            "marker": {
             "colorbar": {
              "outlinewidth": 0,
              "ticks": ""
             }
            },
            "type": "scattermapbox"
           }
          ],
          "scatterpolar": [
           {
            "marker": {
             "colorbar": {
              "outlinewidth": 0,
              "ticks": ""
             }
            },
            "type": "scatterpolar"
           }
          ],
          "scatterpolargl": [
           {
            "marker": {
             "colorbar": {
              "outlinewidth": 0,
              "ticks": ""
             }
            },
            "type": "scatterpolargl"
           }
          ],
          "scatterternary": [
           {
            "marker": {
             "colorbar": {
              "outlinewidth": 0,
              "ticks": ""
             }
            },
            "type": "scatterternary"
           }
          ],
          "surface": [
           {
            "colorbar": {
             "outlinewidth": 0,
             "ticks": ""
            },
            "colorscale": [
             [
              0,
              "#0d0887"
             ],
             [
              0.1111111111111111,
              "#46039f"
             ],
             [
              0.2222222222222222,
              "#7201a8"
             ],
             [
              0.3333333333333333,
              "#9c179e"
             ],
             [
              0.4444444444444444,
              "#bd3786"
             ],
             [
              0.5555555555555556,
              "#d8576b"
             ],
             [
              0.6666666666666666,
              "#ed7953"
             ],
             [
              0.7777777777777778,
              "#fb9f3a"
             ],
             [
              0.8888888888888888,
              "#fdca26"
             ],
             [
              1,
              "#f0f921"
             ]
            ],
            "type": "surface"
           }
          ],
          "table": [
           {
            "cells": {
             "fill": {
              "color": "#EBF0F8"
             },
             "line": {
              "color": "white"
             }
            },
            "header": {
             "fill": {
              "color": "#C8D4E3"
             },
             "line": {
              "color": "white"
             }
            },
            "type": "table"
           }
          ]
         },
         "layout": {
          "annotationdefaults": {
           "arrowcolor": "#2a3f5f",
           "arrowhead": 0,
           "arrowwidth": 1
          },
          "autotypenumbers": "strict",
          "coloraxis": {
           "colorbar": {
            "outlinewidth": 0,
            "ticks": ""
           }
          },
          "colorscale": {
           "diverging": [
            [
             0,
             "#8e0152"
            ],
            [
             0.1,
             "#c51b7d"
            ],
            [
             0.2,
             "#de77ae"
            ],
            [
             0.3,
             "#f1b6da"
            ],
            [
             0.4,
             "#fde0ef"
            ],
            [
             0.5,
             "#f7f7f7"
            ],
            [
             0.6,
             "#e6f5d0"
            ],
            [
             0.7,
             "#b8e186"
            ],
            [
             0.8,
             "#7fbc41"
            ],
            [
             0.9,
             "#4d9221"
            ],
            [
             1,
             "#276419"
            ]
           ],
           "sequential": [
            [
             0,
             "#0d0887"
            ],
            [
             0.1111111111111111,
             "#46039f"
            ],
            [
             0.2222222222222222,
             "#7201a8"
            ],
            [
             0.3333333333333333,
             "#9c179e"
            ],
            [
             0.4444444444444444,
             "#bd3786"
            ],
            [
             0.5555555555555556,
             "#d8576b"
            ],
            [
             0.6666666666666666,
             "#ed7953"
            ],
            [
             0.7777777777777778,
             "#fb9f3a"
            ],
            [
             0.8888888888888888,
             "#fdca26"
            ],
            [
             1,
             "#f0f921"
            ]
           ],
           "sequentialminus": [
            [
             0,
             "#0d0887"
            ],
            [
             0.1111111111111111,
             "#46039f"
            ],
            [
             0.2222222222222222,
             "#7201a8"
            ],
            [
             0.3333333333333333,
             "#9c179e"
            ],
            [
             0.4444444444444444,
             "#bd3786"
            ],
            [
             0.5555555555555556,
             "#d8576b"
            ],
            [
             0.6666666666666666,
             "#ed7953"
            ],
            [
             0.7777777777777778,
             "#fb9f3a"
            ],
            [
             0.8888888888888888,
             "#fdca26"
            ],
            [
             1,
             "#f0f921"
            ]
           ]
          },
          "colorway": [
           "#636efa",
           "#EF553B",
           "#00cc96",
           "#ab63fa",
           "#FFA15A",
           "#19d3f3",
           "#FF6692",
           "#B6E880",
           "#FF97FF",
           "#FECB52"
          ],
          "font": {
           "color": "#2a3f5f"
          },
          "geo": {
           "bgcolor": "white",
           "lakecolor": "white",
           "landcolor": "#E5ECF6",
           "showlakes": true,
           "showland": true,
           "subunitcolor": "white"
          },
          "hoverlabel": {
           "align": "left"
          },
          "hovermode": "closest",
          "mapbox": {
           "style": "light"
          },
          "paper_bgcolor": "white",
          "plot_bgcolor": "#E5ECF6",
          "polar": {
           "angularaxis": {
            "gridcolor": "white",
            "linecolor": "white",
            "ticks": ""
           },
           "bgcolor": "#E5ECF6",
           "radialaxis": {
            "gridcolor": "white",
            "linecolor": "white",
            "ticks": ""
           }
          },
          "scene": {
           "xaxis": {
            "backgroundcolor": "#E5ECF6",
            "gridcolor": "white",
            "gridwidth": 2,
            "linecolor": "white",
            "showbackground": true,
            "ticks": "",
            "zerolinecolor": "white"
           },
           "yaxis": {
            "backgroundcolor": "#E5ECF6",
            "gridcolor": "white",
            "gridwidth": 2,
            "linecolor": "white",
            "showbackground": true,
            "ticks": "",
            "zerolinecolor": "white"
           },
           "zaxis": {
            "backgroundcolor": "#E5ECF6",
            "gridcolor": "white",
            "gridwidth": 2,
            "linecolor": "white",
            "showbackground": true,
            "ticks": "",
            "zerolinecolor": "white"
           }
          },
          "shapedefaults": {
           "line": {
            "color": "#2a3f5f"
           }
          },
          "ternary": {
           "aaxis": {
            "gridcolor": "white",
            "linecolor": "white",
            "ticks": ""
           },
           "baxis": {
            "gridcolor": "white",
            "linecolor": "white",
            "ticks": ""
           },
           "bgcolor": "#E5ECF6",
           "caxis": {
            "gridcolor": "white",
            "linecolor": "white",
            "ticks": ""
           }
          },
          "title": {
           "x": 0.05
          },
          "xaxis": {
           "automargin": true,
           "gridcolor": "white",
           "linecolor": "white",
           "ticks": "",
           "title": {
            "standoff": 15
           },
           "zerolinecolor": "white",
           "zerolinewidth": 2
          },
          "yaxis": {
           "automargin": true,
           "gridcolor": "white",
           "linecolor": "white",
           "ticks": "",
           "title": {
            "standoff": 15
           },
           "zerolinecolor": "white",
           "zerolinewidth": 2
          }
         }
        },
        "title": {
         "text": "Possesion quality ( 176)",
         "x": 0.5,
         "xanchor": "center"
        },
        "width": 1200,
        "xaxis": {
         "anchor": "y",
         "domain": [
          0,
          1
         ],
         "gridcolor": "lightgray",
         "showgrid": true,
         "title": {
          "text": "possession_lost/90"
         },
         "zeroline": false
        },
        "yaxis": {
         "anchor": "x",
         "domain": [
          0,
          1
         ],
         "gridcolor": "lightgray",
         "showgrid": true,
         "title": {
          "text": "possession_won/90"
         },
         "zeroline": false
        }
       }
      }
     },
     "metadata": {},
     "output_type": "display_data"
    }
   ],
   "source": [
    "# Full universe \n",
    "scatter_plot(df_targets,\n",
    "             x_metric='possession_lost/90', \n",
    "             y_metric='possession_won/90',\n",
    "             z_metric='poss+_/90',\n",
    "             title='Possesion quality', \n",
    "             show_name_label=False\n",
    ")"
   ]
  },
  {
   "cell_type": "code",
   "execution_count": 108,
   "id": "4647b74a",
   "metadata": {},
   "outputs": [
    {
     "data": {
      "application/vnd.plotly.v1+json": {
       "config": {
        "plotlyServerURL": "https://plot.ly"
       },
       "data": [
        {
         "customdata": [
          [
           "Formose Mendy",
           "Lorient"
          ],
          [
           "Abakar Sylla",
           "Strasbourg"
          ],
          [
           "Edmond Tapsoba",
           "Bayer 04"
          ],
          [
           "Montassar Talbi",
           "Lorient"
          ],
          [
           "Lucas Carrizo",
           "Huracán"
          ],
          [
           "Cristian Romero",
           "Tottenham"
          ],
          [
           "Alejandro Maciel",
           "Banfield"
          ],
          [
           "David Martínez",
           "River"
          ],
          [
           "Lucas Faggioli",
           "Barracas Central"
          ],
          [
           "Miguel Brizuela",
           "Instituto"
          ],
          [
           "Lisandro Martínez",
           "Man Utd"
          ],
          [
           "Ignacio Vázquez",
           "Platense"
          ],
          [
           "Facundo Medina",
           "Lens"
          ],
          [
           "Nicolás Capraro",
           "Barracas Central"
          ],
          [
           "Juan Foyth",
           "Villarreal"
          ],
          [
           "Leonardo Balerdi",
           "Marseille"
          ],
          [
           "Nicolás Paz",
           "Unión (SF)"
          ],
          [
           "Aarón Quiros",
           "Banfield"
          ],
          [
           "Facundo Giacopuzzi",
           "Tigre"
          ],
          [
           "Santiago Laquidain",
           "Central Córdoba (SdE)"
          ],
          [
           "Nicolás Valentini",
           "Boca"
          ],
          [
           "Pablo Minissale",
           "Central Córdoba (SdE)"
          ],
          [
           "Stefan Posch",
           "Bologna"
          ],
          [
           "Arthur Theate",
           "Rennes"
          ],
          [
           "Alec Van Hoorenbeeck",
           "FC Twente"
          ],
          [
           "Robson Bambu",
           "Arouca"
          ],
          [
           "Gabriel",
           "Arsenal"
          ],
          [
           "Adryelson",
           "Lyon"
          ],
          [
           "Diego Costa",
           "SPO"
          ],
          [
           "Pedrão",
           "Portimonense"
          ],
          [
           "Bremer",
           "Juventus"
          ],
          [
           "Reynaldo",
           "CTB"
          ],
          [
           "Tuta",
           "Eintracht Frankfurt"
          ],
          [
           "João Victor",
           "Vasco da Gama"
          ],
          [
           "Vitão",
           "INT"
          ],
          [
           "Zé Gabriel",
           "Vasco da Gama"
          ],
          [
           "Morato",
           "SL Benfica"
          ],
          [
           "Edu",
           "GOI"
          ],
          [
           "Natan",
           "Napoli"
          ],
          [
           "Luizão",
           "Preston"
          ],
          [
           "Gabriel Pereira",
           "Gil Vicente"
          ],
          [
           "Joseph Okumu",
           "Stade Reims"
          ],
          [
           "Hrvoje Smolčić",
           "Eintracht Frankfurt"
          ],
          [
           "Josip Šutalo",
           "Ajax"
          ],
          [
           "Joško Gvardiol",
           "Man City"
          ],
          [
           "Rasmus Nicolaisen",
           "Toulouse"
          ],
          [
           "Mads Bech Sørensen",
           "FC Midtjylland"
          ],
          [
           "Ahmed Iljazovski",
           "Hvidovre IF"
          ],
          [
           "Alexander Busch",
           "Silkeborg IF"
          ],
          [
           "Fikayo Tomori",
           "Milan"
          ],
          [
           "Japhet Tanganga",
           "Millwall"
          ],
          [
           "Ben Cabango",
           "Swansea"
          ],
          [
           "Daniel Ballard",
           "Sunderland"
          ],
          [
           "Jacob Greaves",
           "Hull"
          ],
          [
           "Teden Mengi",
           "Luton"
          ],
          [
           "Luis Binks",
           "Coventry"
          ],
          [
           "Levi Colwill",
           "Chelsea"
          ],
          [
           "Odel Offiah",
           "QPR"
          ],
          [
           "Joe Gomez",
           "Liverpool"
          ],
          [
           "Dael Fry",
           "Middlesbrough"
          ],
          [
           "Jean-Kevin Duverne",
           "Nantes"
          ],
          [
           "James Justin",
           "Leicester"
          ],
          [
           "Benjamin White",
           "Arsenal"
          ],
          [
           "Ezri Konsa",
           "Aston Villa"
          ],
          [
           "Jordan Storey",
           "Preston"
          ],
          [
           "Lewis Gibson",
           "Plymouth"
          ],
          [
           "Ben Wilmot",
           "Stoke"
          ],
          [
           "Nathan Wood",
           "Swansea"
          ],
          [
           "Philippe Sandler",
           "N.E.C. Nijmegen"
          ],
          [
           "Mats Knoester",
           "AGF"
          ],
          [
           "Pascal Struijk",
           "Leeds"
          ],
          [
           "Perr Schuurs",
           "Torino"
          ],
          [
           "Lutsharel Geertruida",
           "Feyenoord"
          ],
          [
           "Christopher Mamengi",
           "Almere City"
          ],
          [
           "Thomas Beelen",
           "Feyenoord"
          ],
          [
           "Enzo Cornelisse",
           "Vitesse"
          ],
          [
           "Ryan Flamingo",
           "FC Utrecht"
          ],
          [
           "Micky van de Ven",
           "Tottenham"
          ],
          [
           "Lamare Bogarde",
           "Preston"
          ],
          [
           "Martin Erlić",
           "Sassuolo"
          ],
          [
           "Alessandro Bastoni",
           "Inter"
          ],
          [
           "Luca Ranieri",
           "Fiorentina"
          ],
          [
           "Alessandro Buongiorno",
           "Torino"
          ],
          [
           "Caleb Okoli",
           "Frosinone"
          ],
          [
           "Takehiro Tomiyasu",
           "Arsenal"
          ],
          [
           "Jules Koundé",
           "Barcelona"
          ],
          [
           "Ibrahima Konaté",
           "Liverpool"
          ],
          [
           "Théo Barbet",
           "Almere City"
          ],
          [
           "Jean-Clair Todibo",
           "Nice"
          ],
          [
           "Nicolas Cozza",
           "Nantes"
          ],
          [
           "Bafodé Diakité",
           "Lille"
          ],
          [
           "Logan Costa",
           "Toulouse"
          ],
          [
           "William Saliba",
           "Arsenal"
          ],
          [
           "Moussa Diarra",
           "Toulouse"
          ],
          [
           "Pierre Kalulu",
           "Milan"
          ],
          [
           "Mohamed Simakan",
           "RB Leipzig"
          ],
          [
           "Chrislain Matsima",
           "Clermont"
          ],
          [
           "Castello Lukeba",
           "RB Leipzig"
          ],
          [
           "Alidu Seidu",
           "Rennes"
          ],
          [
           "Edson Álvarez",
           "West Ham"
          ],
          [
           "Luke McNally",
           "Stoke"
          ],
          [
           "Kristoffer Ajer",
           "Brentford"
          ],
          [
           "Leo Østigård",
           "Napoli"
          ],
          [
           "Rúben Dias",
           "Man City"
          ],
          [
           "Ryan Porteous",
           "Watford"
          ],
          [
           "Nikola Milenković",
           "Fiorentina"
          ],
          [
           "Jaka Bijol",
           "Udinese"
          ],
          [
           "Dávid Hancko",
           "Feyenoord"
          ],
          [
           "Pau Torres",
           "Aston Villa"
          ],
          [
           "Jorge Cuenca",
           "Villarreal"
          ],
          [
           "Dani Vivian",
           "Athletic"
          ],
          [
           "José Manuel Copete",
           "Mallorca"
          ],
          [
           "Ozan Kabak",
           "TSG Hoffenheim"
          ],
          [
           "Jhon Lucumí",
           "Juventus"
          ],
          [
           "Nicolás Hernández",
           "San Lorenzo"
          ],
          [
           "Tomás Ribeiro",
           "Vit. Guimarães"
          ],
          [
           "Jota",
           "Vizela"
          ],
          [
           "Alexandre Penetra",
           "AZ"
          ],
          [
           "Bernardo Vital",
           "Estoril Praia"
          ],
          [
           "Gonçalo Inácio",
           "Sporting CP"
          ],
          [
           "António Silva",
           "SL Benfica"
          ],
          [
           "Gabriel Xavier",
           "BAH"
          ],
          [
           "Félix Torres",
           "COR"
          ],
          [
           "Leonardo Realpe",
           "RB Bragantino"
          ],
          [
           "Willian Pacho",
           "Eintracht Frankfurt"
          ],
          [
           "Marco Friedl",
           "SV Werder"
          ],
          [
           "Kevin Danso",
           "Lens"
          ],
          [
           "Amos Pieper",
           "SV Werder"
          ],
          [
           "Paul Jaeckel",
           "Lyon"
          ],
          [
           "Josip Stanišić",
           "Bayer 04"
          ],
          [
           "Michael Akoto",
           "AGF"
          ],
          [
           "Hugo Andersson",
           "Randers FC"
          ],
          [
           "Odilon Kossounou",
           "Bayer 04"
          ],
          [
           "Murilo",
           "SEP"
          ],
          [
           "Eray Cömert",
           "Nantes"
          ],
          [
           "Isaak Touré",
           "Lorient"
          ],
          [
           "Willy Kambwala",
           "Man Utd"
          ],
          [
           "Nicolás Romero",
           "Atl. Tucumán"
          ],
          [
           "João Marcelo",
           "CEC"
          ],
          [
           "Cristhian Mosquera",
           "Valencia"
          ],
          [
           "Callum Doyle",
           "Leicester"
          ],
          [
           "Serdar Saatçı",
           "Sp. Braga"
          ],
          [
           "Arnau Martínez",
           "Girona"
          ],
          [
           "Joaquín Pombo",
           "Arsenal (Sarandí)"
          ],
          [
           "Nicolás Fernández",
           "Estudiantes (LP)"
          ],
          [
           "Jorrel Hato",
           "Ajax"
          ],
          [
           "Jeremías James Griffiths",
           "San Lorenzo"
          ],
          [
           "Jeanuël Belocian",
           "Rennes"
          ],
          [
           "Samuel Lucero",
           "Defensa y Justicia"
          ],
          [
           "Ousmane Diomande",
           "Sporting CP"
          ],
          [
           "Alan González",
           "Huracán"
          ],
          [
           "Stijn Bultman",
           "Heracles Almelo"
          ],
          [
           "Santiago Quiros",
           "Racing Club"
          ]
         ],
         "hovertemplate": "<b>%{customdata[0]}</b><br><b>%{customdata[1]}</b><br><br>possession_lost/90: %{x}<br>possession_won/90: %{y}<br>poss+_/90: %{marker.color}<extra></extra>",
         "legendgroup": "",
         "marker": {
          "color": {
           "bdata": "j8L1KFyPFECPwvUoXI8OQMP1KFyPwhhAH4XrUbgeFkDsUbgehesbQEjhehSuxyFACtejcD2KJ0AzMzMzMzMnQArXo3A9ChhArkfhehQuJEBxPQrXo3AUQNejcD0K1xZA4XoUrkfhCkCPwvUoXI8kQJqZmZmZmRVA9ihcj8L1HECPwvUoXI8pQD0K16NwPSVACtejcD0KIkCPwvUoXI8iQPYoXI/CdSRAuB6F61G4KEAUrkfhehQRQAAAAAAAABdA4XoUrkfhFUBmZmZmZmYGQNejcD0K1xdAj8L1KFyPDkBcj8L1KFweQLgehetRuBpAuB6F61G4FkB7FK5H4XoMQHsUrkfhehdAMzMzMzMzD0ApXI/C9SgtQK5H4XoUrg9AhetRuB6FIUBcj8L1KFwYQAAAAAAAABRAhetRuB6FBUApXI/C9SgbQDMzMzMzMxNAuB6F61G4F0ApXI/C9SgeQOxRuB6F6x1AKVyPwvUoE0CPwvUoXA8hQOF6FK5H4RJAhetRuB6FG0C4HoXrUbggQLgehetRuBFAuB6F61G4CkD2KFyPwvUbQNejcD0K1w1Aw/UoXI/CD0CamZmZmZkVQOxRuB6F6x9AFK5H4XoUEEDXo3A9CtcXQOF6FK5H4R5AXI/C9ShcGUApXI/C9SgQQHsUrkfhehNAexSuR+F6H0CPwvUoXI8TQBSuR+F6FBFArkfhehSuFEB7FK5H4XoVQI/C9ShcjxRAPQrXo3A9G0CPwvUoXI8dQM3MzMzMzB1AH4XrUbgeBUDXo3A9CtcNQIXrUbgehRZAZmZmZmZmGEAUrkfhehQSQIXrUbgehSBAw/UoXI/C/T+amZmZmZkYQIXrUbgehR1AFK5H4XoUGkDXo3A9CtccQHsUrkfhehZAMzMzMzMzE0DhehSuR+EdQNejcD0K1x9Aw/UoXI/CAUB7FK5H4XofQB+F61G4Hg1AzczMzMzMEEBI4XoUrkcUQNejcD0K1xdAuB6F61E4IEDNzMzMzMwfQJqZmZmZmRJAhetRuB6FCUCkcD0K16McQArXo3A9CgNAAAAAAAAAAkCPwvUoXI8TQFK4HoXrURJASOF6FK5HFkA9CtejcD0UQLgehetRuBpApHA9CtcjIUC4HoXrUbgQQJqZmZmZmSBAmpmZmZmZHECuR+F6FC4hQDMzMzMzMxNACtejcD0KDUDD9Shcj8INQM3MzMzMzAJASOF6FK5HCUDXo3A9CtcbQOF6FK5H4RZAXI/C9ShcEUA9CtejcD0KQBSuR+F6FCNA16NwPQpXIkB7FK5H4foqQD0K16NwPRlAPQrXo3A9I0AAAAAAAAAWQPYoXI/C9QxAAAAAAAAAFEBSuB6F61EVQAAAAAAAABdApHA9CtejEUBmZmZmZmYWQM3MzMzMzBBAAAAAAAAAFkCF61G4HoUkQFyPwvUoXBFAPQrXo3A9FkBI4XoUrkcQQOF6FK5HYSNAMzMzMzMzH0BxPQrXo3AUQDMzMzMzMxJAH4XrUbgeH0CkcD0K16MXQEjhehSuxyVAXI/C9ShcH0DXo3A9CtcSQFK4HoXrUSFA4XoUrkfhG0BI4XoUrkchQEjhehSuRxxAZmZmZmbmIEBxPQrXo3AHQFyPwvUoXCRA",
           "dtype": "f8"
          },
          "coloraxis": "coloraxis",
          "size": 10,
          "symbol": "circle"
         },
         "mode": "markers",
         "name": "",
         "orientation": "v",
         "showlegend": false,
         "textfont": {
          "size": 10
         },
         "textposition": "top center",
         "type": "scatter",
         "x": {
          "bdata": "PQrXo3A9G0CamZmZmZkaQD0K16NwPRJAMzMzMzMzDUC4HoXrUbgVQAAAAAAAABBApHA9CtejDkApXI/C9SgOQDMzMzMzMx1AMzMzMzMzEkB7FK5H4XoUQAAAAAAAABlAw/UoXI/CHEAK16NwPQoTQI/C9Shcjx9Aw/UoXI/CD0AK16NwPQoPQMP1KFyPwg9AhetRuB6FEEDsUbgehesUQNejcD0K1xFA16NwPQrXB0B7FK5H4fohQKRwPQrXoxpAuB6F61G4EECuR+F6FK4dQOxRuB6F6xZApHA9CtejFUDD9Shcj8ISQD0K16NwPRpAKVyPwvUoFUD2KFyPwvUXQEjhehSuRxVAuB6F61G4HkDhehSuR+EMQD0K16NwPR9AMzMzMzMzGEAUrkfhehQXQBSuR+F6FBdAw/UoXI9CIECF61G4HoUNQLgehetRuBNAKVyPwvUoGkDD9Shcj8IUQGZmZmZmZhpAj8L1KFyPEkBI4XoUrkcYQHsUrkfheh1Aj8L1KFyPF0BSuB6F61ERQAAAAAAAABxACtejcD0KIED2KFyPwvUYQHsUrkfh+iBAKVyPwvUoHECPwvUoXI8YQClcj8L1KBVAH4XrUbgeHkBSuB6F69EhQMP1KFyPwhVAhetRuB6FG0D2KFyPwvUdQM3MzMzMzBpAuB6F61G4EUDNzMzMzMwWQB+F61G4HhtAexSuR+F6GUDhehSuR+EZQEjhehSuRxVAj8L1KFyPGkAfhetRuB4aQJqZmZmZmRhAexSuR+F6IUAUrkfhehQZQK5H4XoUrhJAw/UoXI/CEEAUrkfhehQbQAAAAAAAABRA9ihcj8L1HUC4HoXrUbgOQHsUrkfhehBA4XoUrkfhE0DhehSuR+EVQEjhehSuRxJA16NwPQrXIEApXI/C9SgYQAAAAAAAABlAj8L1KFyPH0AAAAAAAAATQB+F61G4HhhArkfhehSuHkApXI/C9SgSQOF6FK5H4RRAPQrXo3A9G0A9CtejcD0OQJqZmZmZmR9ArkfhehQuIECuR+F6FK4TQArXo3A9CiFAZmZmZmZmHUDNzMzMzMwbQKRwPQrXoxVAzczMzMzMG0DhehSuR+EWQNejcD0K1xJAH4XrUbgeGkBSuB6F61EZQDMzMzMzMxRAFK5H4XoUFUDhehSuR+EUQJqZmZmZmRRAH4XrUbgeF0A9CtejcD0bQClcj8L1KB5AcT0K16NwIECPwvUoXI8UQOxRuB6F6xNAcT0K16NwFUDsUbgehWsgQFK4HoXrURRAzczMzMzMFkApXI/C9SgKQD0K16NwPRlAUrgehetRDECamZmZmZkTQLgehetRuBpAZmZmZmZmHEAUrkfhehQbQJqZmZmZmRVArkfhehSuG0DXo3A9CtcaQB+F61G4HhlAhetRuB6FH0BxPQrXo3AQQKRwPQrXoxNAKVyPwvUoHEAUrkfhehQeQD0K16NwPRFAuB6F61G4DkAAAAAAAAAUQBSuR+F6FBVAj8L1KFyPGUCkcD0K16MWQHE9CtejcBFASOF6FK5HF0BmZmZmZmYfQJqZmZmZmRNAKVyPwvUoH0DsUbgehesTQI/C9ShcjxZASOF6FK5HE0DNzMzMzMwYQArXo3A9CgtA",
          "dtype": "f8"
         },
         "xaxis": "x",
         "y": {
          "bdata": "ZmZmZmbmJ0BxPQrXo/AkQAAAAAAAgCVAXI/C9ShcIkBSuB6F69EoQEjhehSuxylAMzMzMzMzL0A9CtejcL0uQB+F61G4nipASOF6FK5HLUD2KFyPwnUkQOxRuB6F6ydAmpmZmZkZJUAUrkfhehQuQBSuR+F6lCpA7FG4HoVrJkApXI/C9agwQK5H4XoULi1AzczMzMxMKkCF61G4HgUtQOF6FK5HYS1ArkfhehSuLkCF61G4HoUqQFK4HoXr0ShAzczMzMxMI0BxPQrXo3AkQOF6FK5HYSdA9ihcj8J1IkCPwvUoXI8oQHsUrkfheipAcT0K16PwJUCamZmZmRkjQOF6FK5HYSZAKVyPwvUoJ0BxPQrXozAyQArXo3A9iidAH4XrUbieLUC4HoXrUbgnQArXo3A9iiVApHA9CtejJUD2KFyPwvUkQPYoXI/CdSNAcT0K16PwKED2KFyPwnUpQClcj8L1KCxAXI/C9SjcIkAzMzMzMzMtQK5H4XoULihACtejcD2KKUDhehSuR2EpQFyPwvUo3CZAuB6F61G4JkD2KFyPwnUqQHE9CtejcChAhetRuB4FJkAUrkfhehQnQArXo3A9iipAmpmZmZkZJ0A9CtejcL0tQFK4HoXrUSpAcT0K16NwKkCPwvUoXA8nQKRwPQrXIydAmpmZmZmZKECuR+F6FC4lQJqZmZmZGSZAFK5H4XoUJ0CuR+F6FK4nQOxRuB6F6yRAZmZmZmbmKkDXo3A9CtcrQDMzMzMzMytAw/UoXI/CJkAAAAAAAAAkQJqZmZmZmSRAFK5H4XqUJEAUrkfhepQmQIXrUbgehSpAMzMzMzOzIkB7FK5H4fojQAAAAAAAACdAexSuR+H6JkBcj8L1KFwpQOF6FK5HYSRAcT0K16NwKkCF61G4HgUrQOxRuB6FayxAuB6F61E4JEA9CtejcD0pQNejcD0KVyNAPQrXo3C9J0C4HoXrUTgjQFyPwvUoXCZA16NwPQrXLUD2KFyPwnUnQJqZmZmZGSlAj8L1KFyPJkApXI/C9SgoQM3MzMzMzCVAMzMzMzMzI0CuR+F6FK4nQHsUrkfh+iNACtejcD0KKUCPwvUoXI8lQEjhehSuxyZAMzMzMzMzLkCF61G4HgUlQDMzMzMzsypA16NwPQrXKEAfhetRuJ4rQGZmZmZm5iNAUrgehevRIkCPwvUoXA8lQEjhehSuxyNAw/UoXI/CJkAzMzMzMzMoQGZmZmZmZiVAZmZmZmZmI0B7FK5H4fomQD0K16NwPS1APQrXo3C9LUDD9Shcj8IwQD0K16NwPSlAUrgehetRKkDNzMzMzMwkQJqZmZmZmSRAMzMzMzMzKEAzMzMzMzMoQM3MzMzMTCZAKVyPwvWoJkAfhetRuJ4oQPYoXI/C9SRAw/UoXI/CKkA9CtejcL0sQAAAAAAAgCJAMzMzMzMzKUCuR+F6FC4nQAAAAAAAACxASOF6FK5HJ0C4HoXrUTgkQKRwPQrXoyNA16NwPQpXLECkcD0K1yMnQAAAAAAAgC5AUrgehetRK0AfhetRuB4pQB+F61G4HitAhetRuB6FLUA9CtejcD0rQOxRuB6FaylACtejcD2KKkDD9Shcj0IiQB+F61G4HitA",
          "dtype": "f8"
         },
         "yaxis": "y"
        }
       ],
       "layout": {
        "coloraxis": {
         "colorbar": {
          "title": {
           "text": "poss+_/90"
          }
         },
         "colorscale": [
          [
           0,
           "rgb(165,0,38)"
          ],
          [
           0.1,
           "rgb(215,48,39)"
          ],
          [
           0.2,
           "rgb(244,109,67)"
          ],
          [
           0.3,
           "rgb(253,174,97)"
          ],
          [
           0.4,
           "rgb(254,224,139)"
          ],
          [
           0.5,
           "rgb(255,255,191)"
          ],
          [
           0.6,
           "rgb(217,239,139)"
          ],
          [
           0.7,
           "rgb(166,217,106)"
          ],
          [
           0.8,
           "rgb(102,189,99)"
          ],
          [
           0.9,
           "rgb(26,152,80)"
          ],
          [
           1,
           "rgb(0,104,55)"
          ]
         ],
         "showscale": false
        },
        "height": 700,
        "legend": {
         "tracegroupgap": 0
        },
        "paper_bgcolor": "white",
        "plot_bgcolor": "white",
        "template": {
         "data": {
          "bar": [
           {
            "error_x": {
             "color": "#2a3f5f"
            },
            "error_y": {
             "color": "#2a3f5f"
            },
            "marker": {
             "line": {
              "color": "#E5ECF6",
              "width": 0.5
             },
             "pattern": {
              "fillmode": "overlay",
              "size": 10,
              "solidity": 0.2
             }
            },
            "type": "bar"
           }
          ],
          "barpolar": [
           {
            "marker": {
             "line": {
              "color": "#E5ECF6",
              "width": 0.5
             },
             "pattern": {
              "fillmode": "overlay",
              "size": 10,
              "solidity": 0.2
             }
            },
            "type": "barpolar"
           }
          ],
          "carpet": [
           {
            "aaxis": {
             "endlinecolor": "#2a3f5f",
             "gridcolor": "white",
             "linecolor": "white",
             "minorgridcolor": "white",
             "startlinecolor": "#2a3f5f"
            },
            "baxis": {
             "endlinecolor": "#2a3f5f",
             "gridcolor": "white",
             "linecolor": "white",
             "minorgridcolor": "white",
             "startlinecolor": "#2a3f5f"
            },
            "type": "carpet"
           }
          ],
          "choropleth": [
           {
            "colorbar": {
             "outlinewidth": 0,
             "ticks": ""
            },
            "type": "choropleth"
           }
          ],
          "contour": [
           {
            "colorbar": {
             "outlinewidth": 0,
             "ticks": ""
            },
            "colorscale": [
             [
              0,
              "#0d0887"
             ],
             [
              0.1111111111111111,
              "#46039f"
             ],
             [
              0.2222222222222222,
              "#7201a8"
             ],
             [
              0.3333333333333333,
              "#9c179e"
             ],
             [
              0.4444444444444444,
              "#bd3786"
             ],
             [
              0.5555555555555556,
              "#d8576b"
             ],
             [
              0.6666666666666666,
              "#ed7953"
             ],
             [
              0.7777777777777778,
              "#fb9f3a"
             ],
             [
              0.8888888888888888,
              "#fdca26"
             ],
             [
              1,
              "#f0f921"
             ]
            ],
            "type": "contour"
           }
          ],
          "contourcarpet": [
           {
            "colorbar": {
             "outlinewidth": 0,
             "ticks": ""
            },
            "type": "contourcarpet"
           }
          ],
          "heatmap": [
           {
            "colorbar": {
             "outlinewidth": 0,
             "ticks": ""
            },
            "colorscale": [
             [
              0,
              "#0d0887"
             ],
             [
              0.1111111111111111,
              "#46039f"
             ],
             [
              0.2222222222222222,
              "#7201a8"
             ],
             [
              0.3333333333333333,
              "#9c179e"
             ],
             [
              0.4444444444444444,
              "#bd3786"
             ],
             [
              0.5555555555555556,
              "#d8576b"
             ],
             [
              0.6666666666666666,
              "#ed7953"
             ],
             [
              0.7777777777777778,
              "#fb9f3a"
             ],
             [
              0.8888888888888888,
              "#fdca26"
             ],
             [
              1,
              "#f0f921"
             ]
            ],
            "type": "heatmap"
           }
          ],
          "histogram": [
           {
            "marker": {
             "pattern": {
              "fillmode": "overlay",
              "size": 10,
              "solidity": 0.2
             }
            },
            "type": "histogram"
           }
          ],
          "histogram2d": [
           {
            "colorbar": {
             "outlinewidth": 0,
             "ticks": ""
            },
            "colorscale": [
             [
              0,
              "#0d0887"
             ],
             [
              0.1111111111111111,
              "#46039f"
             ],
             [
              0.2222222222222222,
              "#7201a8"
             ],
             [
              0.3333333333333333,
              "#9c179e"
             ],
             [
              0.4444444444444444,
              "#bd3786"
             ],
             [
              0.5555555555555556,
              "#d8576b"
             ],
             [
              0.6666666666666666,
              "#ed7953"
             ],
             [
              0.7777777777777778,
              "#fb9f3a"
             ],
             [
              0.8888888888888888,
              "#fdca26"
             ],
             [
              1,
              "#f0f921"
             ]
            ],
            "type": "histogram2d"
           }
          ],
          "histogram2dcontour": [
           {
            "colorbar": {
             "outlinewidth": 0,
             "ticks": ""
            },
            "colorscale": [
             [
              0,
              "#0d0887"
             ],
             [
              0.1111111111111111,
              "#46039f"
             ],
             [
              0.2222222222222222,
              "#7201a8"
             ],
             [
              0.3333333333333333,
              "#9c179e"
             ],
             [
              0.4444444444444444,
              "#bd3786"
             ],
             [
              0.5555555555555556,
              "#d8576b"
             ],
             [
              0.6666666666666666,
              "#ed7953"
             ],
             [
              0.7777777777777778,
              "#fb9f3a"
             ],
             [
              0.8888888888888888,
              "#fdca26"
             ],
             [
              1,
              "#f0f921"
             ]
            ],
            "type": "histogram2dcontour"
           }
          ],
          "mesh3d": [
           {
            "colorbar": {
             "outlinewidth": 0,
             "ticks": ""
            },
            "type": "mesh3d"
           }
          ],
          "parcoords": [
           {
            "line": {
             "colorbar": {
              "outlinewidth": 0,
              "ticks": ""
             }
            },
            "type": "parcoords"
           }
          ],
          "pie": [
           {
            "automargin": true,
            "type": "pie"
           }
          ],
          "scatter": [
           {
            "fillpattern": {
             "fillmode": "overlay",
             "size": 10,
             "solidity": 0.2
            },
            "type": "scatter"
           }
          ],
          "scatter3d": [
           {
            "line": {
             "colorbar": {
              "outlinewidth": 0,
              "ticks": ""
             }
            },
            "marker": {
             "colorbar": {
              "outlinewidth": 0,
              "ticks": ""
             }
            },
            "type": "scatter3d"
           }
          ],
          "scattercarpet": [
           {
            "marker": {
             "colorbar": {
              "outlinewidth": 0,
              "ticks": ""
             }
            },
            "type": "scattercarpet"
           }
          ],
          "scattergeo": [
           {
            "marker": {
             "colorbar": {
              "outlinewidth": 0,
              "ticks": ""
             }
            },
            "type": "scattergeo"
           }
          ],
          "scattergl": [
           {
            "marker": {
             "colorbar": {
              "outlinewidth": 0,
              "ticks": ""
             }
            },
            "type": "scattergl"
           }
          ],
          "scattermap": [
           {
            "marker": {
             "colorbar": {
              "outlinewidth": 0,
              "ticks": ""
             }
            },
            "type": "scattermap"
           }
          ],
          "scattermapbox": [
           {
            "marker": {
             "colorbar": {
              "outlinewidth": 0,
              "ticks": ""
             }
            },
            "type": "scattermapbox"
           }
          ],
          "scatterpolar": [
           {
            "marker": {
             "colorbar": {
              "outlinewidth": 0,
              "ticks": ""
             }
            },
            "type": "scatterpolar"
           }
          ],
          "scatterpolargl": [
           {
            "marker": {
             "colorbar": {
              "outlinewidth": 0,
              "ticks": ""
             }
            },
            "type": "scatterpolargl"
           }
          ],
          "scatterternary": [
           {
            "marker": {
             "colorbar": {
              "outlinewidth": 0,
              "ticks": ""
             }
            },
            "type": "scatterternary"
           }
          ],
          "surface": [
           {
            "colorbar": {
             "outlinewidth": 0,
             "ticks": ""
            },
            "colorscale": [
             [
              0,
              "#0d0887"
             ],
             [
              0.1111111111111111,
              "#46039f"
             ],
             [
              0.2222222222222222,
              "#7201a8"
             ],
             [
              0.3333333333333333,
              "#9c179e"
             ],
             [
              0.4444444444444444,
              "#bd3786"
             ],
             [
              0.5555555555555556,
              "#d8576b"
             ],
             [
              0.6666666666666666,
              "#ed7953"
             ],
             [
              0.7777777777777778,
              "#fb9f3a"
             ],
             [
              0.8888888888888888,
              "#fdca26"
             ],
             [
              1,
              "#f0f921"
             ]
            ],
            "type": "surface"
           }
          ],
          "table": [
           {
            "cells": {
             "fill": {
              "color": "#EBF0F8"
             },
             "line": {
              "color": "white"
             }
            },
            "header": {
             "fill": {
              "color": "#C8D4E3"
             },
             "line": {
              "color": "white"
             }
            },
            "type": "table"
           }
          ]
         },
         "layout": {
          "annotationdefaults": {
           "arrowcolor": "#2a3f5f",
           "arrowhead": 0,
           "arrowwidth": 1
          },
          "autotypenumbers": "strict",
          "coloraxis": {
           "colorbar": {
            "outlinewidth": 0,
            "ticks": ""
           }
          },
          "colorscale": {
           "diverging": [
            [
             0,
             "#8e0152"
            ],
            [
             0.1,
             "#c51b7d"
            ],
            [
             0.2,
             "#de77ae"
            ],
            [
             0.3,
             "#f1b6da"
            ],
            [
             0.4,
             "#fde0ef"
            ],
            [
             0.5,
             "#f7f7f7"
            ],
            [
             0.6,
             "#e6f5d0"
            ],
            [
             0.7,
             "#b8e186"
            ],
            [
             0.8,
             "#7fbc41"
            ],
            [
             0.9,
             "#4d9221"
            ],
            [
             1,
             "#276419"
            ]
           ],
           "sequential": [
            [
             0,
             "#0d0887"
            ],
            [
             0.1111111111111111,
             "#46039f"
            ],
            [
             0.2222222222222222,
             "#7201a8"
            ],
            [
             0.3333333333333333,
             "#9c179e"
            ],
            [
             0.4444444444444444,
             "#bd3786"
            ],
            [
             0.5555555555555556,
             "#d8576b"
            ],
            [
             0.6666666666666666,
             "#ed7953"
            ],
            [
             0.7777777777777778,
             "#fb9f3a"
            ],
            [
             0.8888888888888888,
             "#fdca26"
            ],
            [
             1,
             "#f0f921"
            ]
           ],
           "sequentialminus": [
            [
             0,
             "#0d0887"
            ],
            [
             0.1111111111111111,
             "#46039f"
            ],
            [
             0.2222222222222222,
             "#7201a8"
            ],
            [
             0.3333333333333333,
             "#9c179e"
            ],
            [
             0.4444444444444444,
             "#bd3786"
            ],
            [
             0.5555555555555556,
             "#d8576b"
            ],
            [
             0.6666666666666666,
             "#ed7953"
            ],
            [
             0.7777777777777778,
             "#fb9f3a"
            ],
            [
             0.8888888888888888,
             "#fdca26"
            ],
            [
             1,
             "#f0f921"
            ]
           ]
          },
          "colorway": [
           "#636efa",
           "#EF553B",
           "#00cc96",
           "#ab63fa",
           "#FFA15A",
           "#19d3f3",
           "#FF6692",
           "#B6E880",
           "#FF97FF",
           "#FECB52"
          ],
          "font": {
           "color": "#2a3f5f"
          },
          "geo": {
           "bgcolor": "white",
           "lakecolor": "white",
           "landcolor": "#E5ECF6",
           "showlakes": true,
           "showland": true,
           "subunitcolor": "white"
          },
          "hoverlabel": {
           "align": "left"
          },
          "hovermode": "closest",
          "mapbox": {
           "style": "light"
          },
          "paper_bgcolor": "white",
          "plot_bgcolor": "#E5ECF6",
          "polar": {
           "angularaxis": {
            "gridcolor": "white",
            "linecolor": "white",
            "ticks": ""
           },
           "bgcolor": "#E5ECF6",
           "radialaxis": {
            "gridcolor": "white",
            "linecolor": "white",
            "ticks": ""
           }
          },
          "scene": {
           "xaxis": {
            "backgroundcolor": "#E5ECF6",
            "gridcolor": "white",
            "gridwidth": 2,
            "linecolor": "white",
            "showbackground": true,
            "ticks": "",
            "zerolinecolor": "white"
           },
           "yaxis": {
            "backgroundcolor": "#E5ECF6",
            "gridcolor": "white",
            "gridwidth": 2,
            "linecolor": "white",
            "showbackground": true,
            "ticks": "",
            "zerolinecolor": "white"
           },
           "zaxis": {
            "backgroundcolor": "#E5ECF6",
            "gridcolor": "white",
            "gridwidth": 2,
            "linecolor": "white",
            "showbackground": true,
            "ticks": "",
            "zerolinecolor": "white"
           }
          },
          "shapedefaults": {
           "line": {
            "color": "#2a3f5f"
           }
          },
          "ternary": {
           "aaxis": {
            "gridcolor": "white",
            "linecolor": "white",
            "ticks": ""
           },
           "baxis": {
            "gridcolor": "white",
            "linecolor": "white",
            "ticks": ""
           },
           "bgcolor": "#E5ECF6",
           "caxis": {
            "gridcolor": "white",
            "linecolor": "white",
            "ticks": ""
           }
          },
          "title": {
           "x": 0.05
          },
          "xaxis": {
           "automargin": true,
           "gridcolor": "white",
           "linecolor": "white",
           "ticks": "",
           "title": {
            "standoff": 15
           },
           "zerolinecolor": "white",
           "zerolinewidth": 2
          },
          "yaxis": {
           "automargin": true,
           "gridcolor": "white",
           "linecolor": "white",
           "ticks": "",
           "title": {
            "standoff": 15
           },
           "zerolinecolor": "white",
           "zerolinewidth": 2
          }
         }
        },
        "title": {
         "text": "Possesion quality ( 153)",
         "x": 0.5,
         "xanchor": "center"
        },
        "width": 1200,
        "xaxis": {
         "anchor": "y",
         "domain": [
          0,
          1
         ],
         "gridcolor": "lightgray",
         "showgrid": true,
         "title": {
          "text": "possession_lost/90"
         },
         "zeroline": false
        },
        "yaxis": {
         "anchor": "x",
         "domain": [
          0,
          1
         ],
         "gridcolor": "lightgray",
         "showgrid": true,
         "title": {
          "text": "possession_won/90"
         },
         "zeroline": false
        }
       }
      }
     },
     "metadata": {},
     "output_type": "display_data"
    }
   ],
   "source": [
    "# Filter data \n",
    "mask = (\n",
    "        (df_players['possession_lost/90'] <= 9) & \\\n",
    "        (df_players['possession_won/90'] >= 9) & \\\n",
    "        (df_players['poss+_/90'] >= 0) & \\\n",
    "        (df_players['age'] <= 26) & \\\n",
    "        (df_players['id'].isin(targets))\n",
    "        \n",
    "        \n",
    ")\n",
    "\n",
    "df_targets = df_players[mask]\n",
    "\n",
    "scatter_plot(df_targets,\n",
    "             x_metric='possession_lost/90', \n",
    "             y_metric='possession_won/90',\n",
    "             z_metric='poss+_/90',\n",
    "             title='Possesion quality', \n",
    "             show_name_label=False\n",
    ")\n",
    "\n",
    "# Keep only players that fulfill criteria\n",
    "targets = list(df_targets['id'])"
   ]
  },
  {
   "cell_type": "markdown",
   "id": "05fd5ca0",
   "metadata": {},
   "source": [
    "## Aereal/Ground Dominance "
   ]
  },
  {
   "cell_type": "code",
   "execution_count": 117,
   "id": "884b325e",
   "metadata": {},
   "outputs": [],
   "source": [
    "# Remove levi cowil outlyer\n",
    "df_targets = df_targets[df_targets['id'] != 28124573]"
   ]
  },
  {
   "cell_type": "code",
   "execution_count": 116,
   "id": "2d4b5cdd",
   "metadata": {},
   "outputs": [
    {
     "data": {
      "application/vnd.plotly.v1+json": {
       "config": {
        "plotlyServerURL": "https://plot.ly"
       },
       "data": [
        {
         "customdata": [
          [
           "Formose Mendy",
           "Lorient"
          ],
          [
           "Abakar Sylla",
           "Strasbourg"
          ],
          [
           "Edmond Tapsoba",
           "Bayer 04"
          ],
          [
           "Montassar Talbi",
           "Lorient"
          ],
          [
           "Lucas Carrizo",
           "Huracán"
          ],
          [
           "Cristian Romero",
           "Tottenham"
          ],
          [
           "Alejandro Maciel",
           "Banfield"
          ],
          [
           "David Martínez",
           "River"
          ],
          [
           "Lucas Faggioli",
           "Barracas Central"
          ],
          [
           "Miguel Brizuela",
           "Instituto"
          ],
          [
           "Lisandro Martínez",
           "Man Utd"
          ],
          [
           "Ignacio Vázquez",
           "Platense"
          ],
          [
           "Facundo Medina",
           "Lens"
          ],
          [
           "Nicolás Capraro",
           "Barracas Central"
          ],
          [
           "Juan Foyth",
           "Villarreal"
          ],
          [
           "Leonardo Balerdi",
           "Marseille"
          ],
          [
           "Nicolás Paz",
           "Unión (SF)"
          ],
          [
           "Aarón Quiros",
           "Banfield"
          ],
          [
           "Facundo Giacopuzzi",
           "Tigre"
          ],
          [
           "Santiago Laquidain",
           "Central Córdoba (SdE)"
          ],
          [
           "Nicolás Valentini",
           "Boca"
          ],
          [
           "Pablo Minissale",
           "Central Córdoba (SdE)"
          ],
          [
           "Stefan Posch",
           "Bologna"
          ],
          [
           "Arthur Theate",
           "Rennes"
          ],
          [
           "Alec Van Hoorenbeeck",
           "FC Twente"
          ],
          [
           "Robson Bambu",
           "Arouca"
          ],
          [
           "Gabriel",
           "Arsenal"
          ],
          [
           "Adryelson",
           "Lyon"
          ],
          [
           "Diego Costa",
           "SPO"
          ],
          [
           "Pedrão",
           "Portimonense"
          ],
          [
           "Bremer",
           "Juventus"
          ],
          [
           "Reynaldo",
           "CTB"
          ],
          [
           "Tuta",
           "Eintracht Frankfurt"
          ],
          [
           "João Victor",
           "Vasco da Gama"
          ],
          [
           "Vitão",
           "INT"
          ],
          [
           "Zé Gabriel",
           "Vasco da Gama"
          ],
          [
           "Morato",
           "SL Benfica"
          ],
          [
           "Edu",
           "GOI"
          ],
          [
           "Natan",
           "Napoli"
          ],
          [
           "Luizão",
           "Preston"
          ],
          [
           "Gabriel Pereira",
           "Gil Vicente"
          ],
          [
           "Joseph Okumu",
           "Stade Reims"
          ],
          [
           "Hrvoje Smolčić",
           "Eintracht Frankfurt"
          ],
          [
           "Josip Šutalo",
           "Ajax"
          ],
          [
           "Joško Gvardiol",
           "Man City"
          ],
          [
           "Rasmus Nicolaisen",
           "Toulouse"
          ],
          [
           "Mads Bech Sørensen",
           "FC Midtjylland"
          ],
          [
           "Ahmed Iljazovski",
           "Hvidovre IF"
          ],
          [
           "Alexander Busch",
           "Silkeborg IF"
          ],
          [
           "Fikayo Tomori",
           "Milan"
          ],
          [
           "Japhet Tanganga",
           "Millwall"
          ],
          [
           "Ben Cabango",
           "Swansea"
          ],
          [
           "Daniel Ballard",
           "Sunderland"
          ],
          [
           "Jacob Greaves",
           "Hull"
          ],
          [
           "Teden Mengi",
           "Luton"
          ],
          [
           "Luis Binks",
           "Coventry"
          ],
          [
           "Odel Offiah",
           "QPR"
          ],
          [
           "Joe Gomez",
           "Liverpool"
          ],
          [
           "Dael Fry",
           "Middlesbrough"
          ],
          [
           "Jean-Kevin Duverne",
           "Nantes"
          ],
          [
           "James Justin",
           "Leicester"
          ],
          [
           "Benjamin White",
           "Arsenal"
          ],
          [
           "Ezri Konsa",
           "Aston Villa"
          ],
          [
           "Jordan Storey",
           "Preston"
          ],
          [
           "Lewis Gibson",
           "Plymouth"
          ],
          [
           "Ben Wilmot",
           "Stoke"
          ],
          [
           "Nathan Wood",
           "Swansea"
          ],
          [
           "Philippe Sandler",
           "N.E.C. Nijmegen"
          ],
          [
           "Mats Knoester",
           "AGF"
          ],
          [
           "Pascal Struijk",
           "Leeds"
          ],
          [
           "Perr Schuurs",
           "Torino"
          ],
          [
           "Lutsharel Geertruida",
           "Feyenoord"
          ],
          [
           "Christopher Mamengi",
           "Almere City"
          ],
          [
           "Thomas Beelen",
           "Feyenoord"
          ],
          [
           "Enzo Cornelisse",
           "Vitesse"
          ],
          [
           "Ryan Flamingo",
           "FC Utrecht"
          ],
          [
           "Micky van de Ven",
           "Tottenham"
          ],
          [
           "Lamare Bogarde",
           "Preston"
          ],
          [
           "Martin Erlić",
           "Sassuolo"
          ],
          [
           "Alessandro Bastoni",
           "Inter"
          ],
          [
           "Luca Ranieri",
           "Fiorentina"
          ],
          [
           "Alessandro Buongiorno",
           "Torino"
          ],
          [
           "Caleb Okoli",
           "Frosinone"
          ],
          [
           "Takehiro Tomiyasu",
           "Arsenal"
          ],
          [
           "Jules Koundé",
           "Barcelona"
          ],
          [
           "Ibrahima Konaté",
           "Liverpool"
          ],
          [
           "Théo Barbet",
           "Almere City"
          ],
          [
           "Jean-Clair Todibo",
           "Nice"
          ],
          [
           "Nicolas Cozza",
           "Nantes"
          ],
          [
           "Bafodé Diakité",
           "Lille"
          ],
          [
           "Logan Costa",
           "Toulouse"
          ],
          [
           "William Saliba",
           "Arsenal"
          ],
          [
           "Moussa Diarra",
           "Toulouse"
          ],
          [
           "Pierre Kalulu",
           "Milan"
          ],
          [
           "Mohamed Simakan",
           "RB Leipzig"
          ],
          [
           "Chrislain Matsima",
           "Clermont"
          ],
          [
           "Castello Lukeba",
           "RB Leipzig"
          ],
          [
           "Alidu Seidu",
           "Rennes"
          ],
          [
           "Edson Álvarez",
           "West Ham"
          ],
          [
           "Luke McNally",
           "Stoke"
          ],
          [
           "Kristoffer Ajer",
           "Brentford"
          ],
          [
           "Leo Østigård",
           "Napoli"
          ],
          [
           "Rúben Dias",
           "Man City"
          ],
          [
           "Ryan Porteous",
           "Watford"
          ],
          [
           "Nikola Milenković",
           "Fiorentina"
          ],
          [
           "Jaka Bijol",
           "Udinese"
          ],
          [
           "Dávid Hancko",
           "Feyenoord"
          ],
          [
           "Pau Torres",
           "Aston Villa"
          ],
          [
           "Jorge Cuenca",
           "Villarreal"
          ],
          [
           "Dani Vivian",
           "Athletic"
          ],
          [
           "José Manuel Copete",
           "Mallorca"
          ],
          [
           "Ozan Kabak",
           "TSG Hoffenheim"
          ],
          [
           "Jhon Lucumí",
           "Juventus"
          ],
          [
           "Nicolás Hernández",
           "San Lorenzo"
          ],
          [
           "Tomás Ribeiro",
           "Vit. Guimarães"
          ],
          [
           "Jota",
           "Vizela"
          ],
          [
           "Alexandre Penetra",
           "AZ"
          ],
          [
           "Bernardo Vital",
           "Estoril Praia"
          ],
          [
           "Gonçalo Inácio",
           "Sporting CP"
          ],
          [
           "António Silva",
           "SL Benfica"
          ],
          [
           "Gabriel Xavier",
           "BAH"
          ],
          [
           "Félix Torres",
           "COR"
          ],
          [
           "Leonardo Realpe",
           "RB Bragantino"
          ],
          [
           "Willian Pacho",
           "Eintracht Frankfurt"
          ],
          [
           "Marco Friedl",
           "SV Werder"
          ],
          [
           "Kevin Danso",
           "Lens"
          ],
          [
           "Amos Pieper",
           "SV Werder"
          ],
          [
           "Paul Jaeckel",
           "Lyon"
          ],
          [
           "Josip Stanišić",
           "Bayer 04"
          ],
          [
           "Michael Akoto",
           "AGF"
          ],
          [
           "Hugo Andersson",
           "Randers FC"
          ],
          [
           "Odilon Kossounou",
           "Bayer 04"
          ],
          [
           "Murilo",
           "SEP"
          ],
          [
           "Eray Cömert",
           "Nantes"
          ],
          [
           "Isaak Touré",
           "Lorient"
          ],
          [
           "Willy Kambwala",
           "Man Utd"
          ],
          [
           "Nicolás Romero",
           "Atl. Tucumán"
          ],
          [
           "João Marcelo",
           "CEC"
          ],
          [
           "Cristhian Mosquera",
           "Valencia"
          ],
          [
           "Callum Doyle",
           "Leicester"
          ],
          [
           "Serdar Saatçı",
           "Sp. Braga"
          ],
          [
           "Arnau Martínez",
           "Girona"
          ],
          [
           "Joaquín Pombo",
           "Arsenal (Sarandí)"
          ],
          [
           "Nicolás Fernández",
           "Estudiantes (LP)"
          ],
          [
           "Jorrel Hato",
           "Ajax"
          ],
          [
           "Jeremías James Griffiths",
           "San Lorenzo"
          ],
          [
           "Jeanuël Belocian",
           "Rennes"
          ],
          [
           "Samuel Lucero",
           "Defensa y Justicia"
          ],
          [
           "Ousmane Diomande",
           "Sporting CP"
          ],
          [
           "Alan González",
           "Huracán"
          ],
          [
           "Stijn Bultman",
           "Heracles Almelo"
          ],
          [
           "Santiago Quiros",
           "Racing Club"
          ]
         ],
         "hovertemplate": "<b>%{customdata[0]}</b><br><b>%{customdata[1]}</b><br><br>tackle_completion_%: %{x}<br>headers_won_%: %{y}<br>duels_win_%: %{marker.color}<extra></extra>",
         "legendgroup": "",
         "marker": {
          "color": {
           "bdata": "AAAAAABgU0CF61G4HkVTQClcj8L1uFFAAAAAAADAUkAUrkfhepRPQDMzMzMzQ1FAFK5H4XpEUUAAAAAAAABUQLgehetRSFFAH4XrUbgOUEAAAAAAAMBSQDMzMzMzE1NACtejcD16UkBxPQrXo8BRQK5H4XoUHlNAXI/C9ShMU0DD9Shcj8JQQK5H4XoUDk5AH4XrUbjuUEAfhetRuC5SQArXo3A9SlNAAAAAAAAAUUCF61G4HlVSQEjhehSul1FACtejcD1KRkAAAAAAACBSQJqZmZmZyVRA7FG4HoXbUUCuR+F6FD5RQDMzMzMzE1NAw/UoXI9SVEAAAAAAAMBSQHsUrkfhOlJAUrgeheuBUkAK16NwPZpSQClcj8L1CE5AZmZmZmYmUUDD9Shcj6JPQB+F61G4TlFAUrgehetxUEDXo3A9CkdRQBSuR+F6lFNA4XoUrkcxU0CamZmZmTlUQHsUrkfhWlFAKVyPwvVIUUAK16NwPepRQHE9CtejkFNAuB6F61EYU0BmZmZmZqZSQAAAAAAA0FNAhetRuB7FU0AAAAAAAFBTQFK4HoXrcVNAuB6F61GoUkDNzMzMzMxQQFyPwvUoPFFACtejcD2qU0C4HoXrUThTQHsUrkfhmlFAH4XrUbjOUUBSuB6F63FTQJqZmZmZOVBAKVyPwvXoUUAAAAAAAOBSQBSuR+F65FBAPQrXo3BtUEC4HoXrUVhUQJqZmZmZyVJACtejcD1KU0DhehSuRyFSQJqZmZmZ2VJA9ihcj8I1UEB7FK5H4apQQMP1KFyPElJAcT0K16NwT0B7FK5H4ZpQQAAAAAAAgExA16NwPQpXUUBxPQrXo6BSQM3MzMzM/FBASOF6FK6nUUCPwvUoXN9TQArXo3A9GlRA16NwPQrnUkAK16NwPdpTQArXo3A9Kk1A16NwPQp3U0CamZmZmTlSQPYoXI/C9VFA16NwPQqHUUCkcD0K1yNSQGZmZmZmtlNAuB6F61GYT0DNzMzMzKxPQHsUrkfhClVA9ihcj8JlUUCamZmZmblPQOxRuB6FC1JAexSuR+E6UkApXI/C9YhRQBSuR+F6xFBAcT0K16NgVEAfhetRuB5RQAAAAAAAAFVASOF6FK43UUD2KFyPwtVRQI/C9Shcv1RASOF6FK7HUEDsUbgehYtRQI/C9Shc71NAzczMzMzMUEAfhetRuM5SQI/C9Shcb1RAMzMzMzODUEDXo3A9CudRQMP1KFyPokxAj8L1KFwvVEBmZmZmZjZUQPYoXI/CNVBAj8L1KFw/U0AAAAAAAJBUQAAAAAAAoE9A9ihcj8JFUECkcD0K13NQQArXo3A9ilNA7FG4HoVLUUAAAAAAAEBTQClcj8L1KFFAcT0K16NQUkBmZmZmZnZSQKRwPQrXg1NAH4XrUbjuUECPwvUoXG9QQMP1KFyPYlZArkfhehQeVUA9CtejcG1SQHsUrkfhulFAPQrXo3CNUkB7FK5H4XpRQNejcD0Kh1BAKVyPwvVIU0DD9Shcj7JTQClcj8L1aE1AKVyPwvVIUUB7FK5H4cpTQK5H4XoUHlNA4XoUrkehTkDsUbgehYtTQClcj8L1+FBAFK5H4Xo0UkB7FK5H4apRQA==",
           "dtype": "f8"
          },
          "coloraxis": "coloraxis",
          "size": 10,
          "symbol": "circle"
         },
         "mode": "markers",
         "name": "",
         "orientation": "v",
         "showlegend": false,
         "textfont": {
          "size": 10
         },
         "textposition": "top center",
         "type": "scatter",
         "x": {
          "bdata": "VVFUTUxQR1pSS1NYTktSSUtKSFpKRVVPXEZRTFVWUlZHR1BITEpURl1SR1BGRURLUVNNU1RPTElHTFZMT008TVJPRE5eUUdcTVBPSztET0VUVE5STlNDTU5MUkpURkpSW0dHU0JDTU08PFFOVFNHPUpVRlA9UlNOUE9CUE1DTVhLUjZKQk9YWU9MP0tHU1E2SUFRUlY2TFA=",
          "dtype": "i1"
         },
         "xaxis": "x",
         "y": {
          "bdata": "4XoUrkfRUkA9CtejcO1SQHsUrkfhqlBAj8L1KFyPUkCamZmZmTlMQLgehetRyFBAMzMzMzMjUUDXo3A9CodTQB+F61G4Hk9AH4XrUbi+TkD2KFyPwqVRQJqZmZmZqVFAzczMzMzsUUCPwvUoXI9RQEjhehSuF1JAcT0K16OQU0BSuB6F61FQQHsUrkfh+ktA4XoUrkehUECamZmZmelQQB+F61G4jlNAhetRuB71UECuR+F6FD5RQK5H4XoUDlFAexSuR+HaQUAAAAAAAEBSQArXo3A96lRAAAAAAACAUUDhehSuR+FPQArXo3A9elJAmpmZmZlJVEDD9Shcj/JRQFK4HoXrUVJAj8L1KFzPUkCPwvUoXD9SQFK4HoXrUUlASOF6FK53UEA9CtejcN1MQDMzMzMzM09AuB6F61EoUECPwvUoXE9QQKRwPQrXQ1NAMzMzMzODU0CF61G4HkVUQDMzMzMzQ1FAH4XrUbhOUUBmZmZmZiZSQEjhehSux1NAZmZmZmbmUkBSuB6F6wFSQJqZmZmZKVRAexSuR+F6U0CkcD0K1wNTQDMzMzMzY1NAw/UoXI+SUkDhehSuR3FQQKRwPQrXw1BAmpmZmZkpVEDXo3A9CudSQDMzMzMzw1BACtejcD16UEAzMzMzM4NTQB+F61G4blBAmpmZmZl5UUBmZmZmZoZSQBSuR+F6JFBAXI/C9Sg8UEAK16NwPZpUQAAAAAAAgFFAPQrXo3DtUkB7FK5H4TpSQBSuR+F69FBAw/UoXI+CTUDhehSuR4FPQKRwPQrXk1FAAAAAAACAS0AAAAAAAEBRQAAAAAAAAEdACtejcD26UECkcD0K1/NSQFyPwvUobFBApHA9CtfTUEAAAAAAABBUQJqZmZmZuVNAKVyPwvWYUkDhehSuR7FTQKRwPQrXY0pArkfhehSOU0BmZmZmZjZRQKRwPQrXs1FACtejcD26UED2KFyPwgVSQD0K16NwrVJAhetRuB7FTkBI4XoUrkdNQArXo3A9OlVAH4XrUbgOUEC4HoXrURhOQI/C9ShcT1JASOF6FK6nUUDsUbgehdtRQArXo3A9ylBArkfhehSeVEB7FK5H4ZpQQBSuR+F6JFZAFK5H4XrEUUDsUbgehXtRQOxRuB6FC1VAMzMzMzPzTkBSuB6F68FQQIXrUbge1VRArkfhehQOUUCF61G4HuVSQB+F61G47lNACtejcD0aUEBI4XoUrpdRQGZmZmZmRktAKVyPwvUYVEDXo3A9CidUQB+F61G4vk5ArkfhehQeU0A9CtejcP1UQB+F61G4Xk9AH4XrUbg+TkDhehSuRyFOQGZmZmZmNlRAPQrXo3C9UEDsUbgehWtSQHsUrkfhqlBApHA9CteTUUB7FK5H4TpTQMP1KFyPslNApHA9CtcDUUApXI/C9UhNQOF6FK5HkVZAFK5H4Xp0VECamZmZmSlSQOxRuB6Fe1FAmpmZmZmJU0AUrkfhehRRQIXrUbgeNVBAXI/C9ShcUkC4HoXrUZhTQBSuR+F6VE5Aj8L1KFzPUECuR+F6FJ5UQKRwPQrX01JA4XoUrkchS0ApXI/C9ShTQLgehetReFFA9ihcj8IFUkCamZmZmflQQA==",
          "dtype": "f8"
         },
         "yaxis": "y"
        }
       ],
       "layout": {
        "coloraxis": {
         "colorbar": {
          "title": {
           "text": "duels_win_%"
          }
         },
         "colorscale": [
          [
           0,
           "rgb(165,0,38)"
          ],
          [
           0.1,
           "rgb(215,48,39)"
          ],
          [
           0.2,
           "rgb(244,109,67)"
          ],
          [
           0.3,
           "rgb(253,174,97)"
          ],
          [
           0.4,
           "rgb(254,224,139)"
          ],
          [
           0.5,
           "rgb(255,255,191)"
          ],
          [
           0.6,
           "rgb(217,239,139)"
          ],
          [
           0.7,
           "rgb(166,217,106)"
          ],
          [
           0.8,
           "rgb(102,189,99)"
          ],
          [
           0.9,
           "rgb(26,152,80)"
          ],
          [
           1,
           "rgb(0,104,55)"
          ]
         ],
         "showscale": false
        },
        "height": 700,
        "legend": {
         "tracegroupgap": 0
        },
        "paper_bgcolor": "white",
        "plot_bgcolor": "white",
        "template": {
         "data": {
          "bar": [
           {
            "error_x": {
             "color": "#2a3f5f"
            },
            "error_y": {
             "color": "#2a3f5f"
            },
            "marker": {
             "line": {
              "color": "#E5ECF6",
              "width": 0.5
             },
             "pattern": {
              "fillmode": "overlay",
              "size": 10,
              "solidity": 0.2
             }
            },
            "type": "bar"
           }
          ],
          "barpolar": [
           {
            "marker": {
             "line": {
              "color": "#E5ECF6",
              "width": 0.5
             },
             "pattern": {
              "fillmode": "overlay",
              "size": 10,
              "solidity": 0.2
             }
            },
            "type": "barpolar"
           }
          ],
          "carpet": [
           {
            "aaxis": {
             "endlinecolor": "#2a3f5f",
             "gridcolor": "white",
             "linecolor": "white",
             "minorgridcolor": "white",
             "startlinecolor": "#2a3f5f"
            },
            "baxis": {
             "endlinecolor": "#2a3f5f",
             "gridcolor": "white",
             "linecolor": "white",
             "minorgridcolor": "white",
             "startlinecolor": "#2a3f5f"
            },
            "type": "carpet"
           }
          ],
          "choropleth": [
           {
            "colorbar": {
             "outlinewidth": 0,
             "ticks": ""
            },
            "type": "choropleth"
           }
          ],
          "contour": [
           {
            "colorbar": {
             "outlinewidth": 0,
             "ticks": ""
            },
            "colorscale": [
             [
              0,
              "#0d0887"
             ],
             [
              0.1111111111111111,
              "#46039f"
             ],
             [
              0.2222222222222222,
              "#7201a8"
             ],
             [
              0.3333333333333333,
              "#9c179e"
             ],
             [
              0.4444444444444444,
              "#bd3786"
             ],
             [
              0.5555555555555556,
              "#d8576b"
             ],
             [
              0.6666666666666666,
              "#ed7953"
             ],
             [
              0.7777777777777778,
              "#fb9f3a"
             ],
             [
              0.8888888888888888,
              "#fdca26"
             ],
             [
              1,
              "#f0f921"
             ]
            ],
            "type": "contour"
           }
          ],
          "contourcarpet": [
           {
            "colorbar": {
             "outlinewidth": 0,
             "ticks": ""
            },
            "type": "contourcarpet"
           }
          ],
          "heatmap": [
           {
            "colorbar": {
             "outlinewidth": 0,
             "ticks": ""
            },
            "colorscale": [
             [
              0,
              "#0d0887"
             ],
             [
              0.1111111111111111,
              "#46039f"
             ],
             [
              0.2222222222222222,
              "#7201a8"
             ],
             [
              0.3333333333333333,
              "#9c179e"
             ],
             [
              0.4444444444444444,
              "#bd3786"
             ],
             [
              0.5555555555555556,
              "#d8576b"
             ],
             [
              0.6666666666666666,
              "#ed7953"
             ],
             [
              0.7777777777777778,
              "#fb9f3a"
             ],
             [
              0.8888888888888888,
              "#fdca26"
             ],
             [
              1,
              "#f0f921"
             ]
            ],
            "type": "heatmap"
           }
          ],
          "histogram": [
           {
            "marker": {
             "pattern": {
              "fillmode": "overlay",
              "size": 10,
              "solidity": 0.2
             }
            },
            "type": "histogram"
           }
          ],
          "histogram2d": [
           {
            "colorbar": {
             "outlinewidth": 0,
             "ticks": ""
            },
            "colorscale": [
             [
              0,
              "#0d0887"
             ],
             [
              0.1111111111111111,
              "#46039f"
             ],
             [
              0.2222222222222222,
              "#7201a8"
             ],
             [
              0.3333333333333333,
              "#9c179e"
             ],
             [
              0.4444444444444444,
              "#bd3786"
             ],
             [
              0.5555555555555556,
              "#d8576b"
             ],
             [
              0.6666666666666666,
              "#ed7953"
             ],
             [
              0.7777777777777778,
              "#fb9f3a"
             ],
             [
              0.8888888888888888,
              "#fdca26"
             ],
             [
              1,
              "#f0f921"
             ]
            ],
            "type": "histogram2d"
           }
          ],
          "histogram2dcontour": [
           {
            "colorbar": {
             "outlinewidth": 0,
             "ticks": ""
            },
            "colorscale": [
             [
              0,
              "#0d0887"
             ],
             [
              0.1111111111111111,
              "#46039f"
             ],
             [
              0.2222222222222222,
              "#7201a8"
             ],
             [
              0.3333333333333333,
              "#9c179e"
             ],
             [
              0.4444444444444444,
              "#bd3786"
             ],
             [
              0.5555555555555556,
              "#d8576b"
             ],
             [
              0.6666666666666666,
              "#ed7953"
             ],
             [
              0.7777777777777778,
              "#fb9f3a"
             ],
             [
              0.8888888888888888,
              "#fdca26"
             ],
             [
              1,
              "#f0f921"
             ]
            ],
            "type": "histogram2dcontour"
           }
          ],
          "mesh3d": [
           {
            "colorbar": {
             "outlinewidth": 0,
             "ticks": ""
            },
            "type": "mesh3d"
           }
          ],
          "parcoords": [
           {
            "line": {
             "colorbar": {
              "outlinewidth": 0,
              "ticks": ""
             }
            },
            "type": "parcoords"
           }
          ],
          "pie": [
           {
            "automargin": true,
            "type": "pie"
           }
          ],
          "scatter": [
           {
            "fillpattern": {
             "fillmode": "overlay",
             "size": 10,
             "solidity": 0.2
            },
            "type": "scatter"
           }
          ],
          "scatter3d": [
           {
            "line": {
             "colorbar": {
              "outlinewidth": 0,
              "ticks": ""
             }
            },
            "marker": {
             "colorbar": {
              "outlinewidth": 0,
              "ticks": ""
             }
            },
            "type": "scatter3d"
           }
          ],
          "scattercarpet": [
           {
            "marker": {
             "colorbar": {
              "outlinewidth": 0,
              "ticks": ""
             }
            },
            "type": "scattercarpet"
           }
          ],
          "scattergeo": [
           {
            "marker": {
             "colorbar": {
              "outlinewidth": 0,
              "ticks": ""
             }
            },
            "type": "scattergeo"
           }
          ],
          "scattergl": [
           {
            "marker": {
             "colorbar": {
              "outlinewidth": 0,
              "ticks": ""
             }
            },
            "type": "scattergl"
           }
          ],
          "scattermap": [
           {
            "marker": {
             "colorbar": {
              "outlinewidth": 0,
              "ticks": ""
             }
            },
            "type": "scattermap"
           }
          ],
          "scattermapbox": [
           {
            "marker": {
             "colorbar": {
              "outlinewidth": 0,
              "ticks": ""
             }
            },
            "type": "scattermapbox"
           }
          ],
          "scatterpolar": [
           {
            "marker": {
             "colorbar": {
              "outlinewidth": 0,
              "ticks": ""
             }
            },
            "type": "scatterpolar"
           }
          ],
          "scatterpolargl": [
           {
            "marker": {
             "colorbar": {
              "outlinewidth": 0,
              "ticks": ""
             }
            },
            "type": "scatterpolargl"
           }
          ],
          "scatterternary": [
           {
            "marker": {
             "colorbar": {
              "outlinewidth": 0,
              "ticks": ""
             }
            },
            "type": "scatterternary"
           }
          ],
          "surface": [
           {
            "colorbar": {
             "outlinewidth": 0,
             "ticks": ""
            },
            "colorscale": [
             [
              0,
              "#0d0887"
             ],
             [
              0.1111111111111111,
              "#46039f"
             ],
             [
              0.2222222222222222,
              "#7201a8"
             ],
             [
              0.3333333333333333,
              "#9c179e"
             ],
             [
              0.4444444444444444,
              "#bd3786"
             ],
             [
              0.5555555555555556,
              "#d8576b"
             ],
             [
              0.6666666666666666,
              "#ed7953"
             ],
             [
              0.7777777777777778,
              "#fb9f3a"
             ],
             [
              0.8888888888888888,
              "#fdca26"
             ],
             [
              1,
              "#f0f921"
             ]
            ],
            "type": "surface"
           }
          ],
          "table": [
           {
            "cells": {
             "fill": {
              "color": "#EBF0F8"
             },
             "line": {
              "color": "white"
             }
            },
            "header": {
             "fill": {
              "color": "#C8D4E3"
             },
             "line": {
              "color": "white"
             }
            },
            "type": "table"
           }
          ]
         },
         "layout": {
          "annotationdefaults": {
           "arrowcolor": "#2a3f5f",
           "arrowhead": 0,
           "arrowwidth": 1
          },
          "autotypenumbers": "strict",
          "coloraxis": {
           "colorbar": {
            "outlinewidth": 0,
            "ticks": ""
           }
          },
          "colorscale": {
           "diverging": [
            [
             0,
             "#8e0152"
            ],
            [
             0.1,
             "#c51b7d"
            ],
            [
             0.2,
             "#de77ae"
            ],
            [
             0.3,
             "#f1b6da"
            ],
            [
             0.4,
             "#fde0ef"
            ],
            [
             0.5,
             "#f7f7f7"
            ],
            [
             0.6,
             "#e6f5d0"
            ],
            [
             0.7,
             "#b8e186"
            ],
            [
             0.8,
             "#7fbc41"
            ],
            [
             0.9,
             "#4d9221"
            ],
            [
             1,
             "#276419"
            ]
           ],
           "sequential": [
            [
             0,
             "#0d0887"
            ],
            [
             0.1111111111111111,
             "#46039f"
            ],
            [
             0.2222222222222222,
             "#7201a8"
            ],
            [
             0.3333333333333333,
             "#9c179e"
            ],
            [
             0.4444444444444444,
             "#bd3786"
            ],
            [
             0.5555555555555556,
             "#d8576b"
            ],
            [
             0.6666666666666666,
             "#ed7953"
            ],
            [
             0.7777777777777778,
             "#fb9f3a"
            ],
            [
             0.8888888888888888,
             "#fdca26"
            ],
            [
             1,
             "#f0f921"
            ]
           ],
           "sequentialminus": [
            [
             0,
             "#0d0887"
            ],
            [
             0.1111111111111111,
             "#46039f"
            ],
            [
             0.2222222222222222,
             "#7201a8"
            ],
            [
             0.3333333333333333,
             "#9c179e"
            ],
            [
             0.4444444444444444,
             "#bd3786"
            ],
            [
             0.5555555555555556,
             "#d8576b"
            ],
            [
             0.6666666666666666,
             "#ed7953"
            ],
            [
             0.7777777777777778,
             "#fb9f3a"
            ],
            [
             0.8888888888888888,
             "#fdca26"
            ],
            [
             1,
             "#f0f921"
            ]
           ]
          },
          "colorway": [
           "#636efa",
           "#EF553B",
           "#00cc96",
           "#ab63fa",
           "#FFA15A",
           "#19d3f3",
           "#FF6692",
           "#B6E880",
           "#FF97FF",
           "#FECB52"
          ],
          "font": {
           "color": "#2a3f5f"
          },
          "geo": {
           "bgcolor": "white",
           "lakecolor": "white",
           "landcolor": "#E5ECF6",
           "showlakes": true,
           "showland": true,
           "subunitcolor": "white"
          },
          "hoverlabel": {
           "align": "left"
          },
          "hovermode": "closest",
          "mapbox": {
           "style": "light"
          },
          "paper_bgcolor": "white",
          "plot_bgcolor": "#E5ECF6",
          "polar": {
           "angularaxis": {
            "gridcolor": "white",
            "linecolor": "white",
            "ticks": ""
           },
           "bgcolor": "#E5ECF6",
           "radialaxis": {
            "gridcolor": "white",
            "linecolor": "white",
            "ticks": ""
           }
          },
          "scene": {
           "xaxis": {
            "backgroundcolor": "#E5ECF6",
            "gridcolor": "white",
            "gridwidth": 2,
            "linecolor": "white",
            "showbackground": true,
            "ticks": "",
            "zerolinecolor": "white"
           },
           "yaxis": {
            "backgroundcolor": "#E5ECF6",
            "gridcolor": "white",
            "gridwidth": 2,
            "linecolor": "white",
            "showbackground": true,
            "ticks": "",
            "zerolinecolor": "white"
           },
           "zaxis": {
            "backgroundcolor": "#E5ECF6",
            "gridcolor": "white",
            "gridwidth": 2,
            "linecolor": "white",
            "showbackground": true,
            "ticks": "",
            "zerolinecolor": "white"
           }
          },
          "shapedefaults": {
           "line": {
            "color": "#2a3f5f"
           }
          },
          "ternary": {
           "aaxis": {
            "gridcolor": "white",
            "linecolor": "white",
            "ticks": ""
           },
           "baxis": {
            "gridcolor": "white",
            "linecolor": "white",
            "ticks": ""
           },
           "bgcolor": "#E5ECF6",
           "caxis": {
            "gridcolor": "white",
            "linecolor": "white",
            "ticks": ""
           }
          },
          "title": {
           "x": 0.05
          },
          "xaxis": {
           "automargin": true,
           "gridcolor": "white",
           "linecolor": "white",
           "ticks": "",
           "title": {
            "standoff": 15
           },
           "zerolinecolor": "white",
           "zerolinewidth": 2
          },
          "yaxis": {
           "automargin": true,
           "gridcolor": "white",
           "linecolor": "white",
           "ticks": "",
           "title": {
            "standoff": 15
           },
           "zerolinecolor": "white",
           "zerolinewidth": 2
          }
         }
        },
        "title": {
         "text": "Dominance ( 152)",
         "x": 0.5,
         "xanchor": "center"
        },
        "width": 1200,
        "xaxis": {
         "anchor": "y",
         "domain": [
          0,
          1
         ],
         "gridcolor": "lightgray",
         "showgrid": true,
         "title": {
          "text": "tackle_completion_%"
         },
         "zeroline": false
        },
        "yaxis": {
         "anchor": "x",
         "domain": [
          0,
          1
         ],
         "gridcolor": "lightgray",
         "showgrid": true,
         "title": {
          "text": "headers_won_%"
         },
         "zeroline": false
        }
       }
      }
     },
     "metadata": {},
     "output_type": "display_data"
    }
   ],
   "source": [
    "# Full universe \n",
    "scatter_plot(df_targets,\n",
    "             x_metric='tackle_completion_%', \n",
    "             y_metric='headers_won_%',\n",
    "             z_metric='duels_win_%',\n",
    "             title='Dominance', \n",
    "             show_name_label=False\n",
    ")"
   ]
  },
  {
   "cell_type": "code",
   "execution_count": 121,
   "id": "04e9f933",
   "metadata": {},
   "outputs": [
    {
     "data": {
      "application/vnd.plotly.v1+json": {
       "config": {
        "plotlyServerURL": "https://plot.ly"
       },
       "data": [
        {
         "customdata": [
          [
           "Formose Mendy",
           "Lorient"
          ],
          [
           "Abakar Sylla",
           "Strasbourg"
          ],
          [
           "Montassar Talbi",
           "Lorient"
          ],
          [
           "David Martínez",
           "River"
          ],
          [
           "Lisandro Martínez",
           "Man Utd"
          ],
          [
           "Ignacio Vázquez",
           "Platense"
          ],
          [
           "Facundo Medina",
           "Lens"
          ],
          [
           "Nicolás Capraro",
           "Barracas Central"
          ],
          [
           "Juan Foyth",
           "Villarreal"
          ],
          [
           "Leonardo Balerdi",
           "Marseille"
          ],
          [
           "Nicolás Valentini",
           "Boca"
          ],
          [
           "Robson Bambu",
           "Arouca"
          ],
          [
           "Gabriel",
           "Arsenal"
          ],
          [
           "Adryelson",
           "Lyon"
          ],
          [
           "Pedrão",
           "Portimonense"
          ],
          [
           "Bremer",
           "Juventus"
          ],
          [
           "Reynaldo",
           "CTB"
          ],
          [
           "Tuta",
           "Eintracht Frankfurt"
          ],
          [
           "João Victor",
           "Vasco da Gama"
          ],
          [
           "Vitão",
           "INT"
          ],
          [
           "Joseph Okumu",
           "Stade Reims"
          ],
          [
           "Hrvoje Smolčić",
           "Eintracht Frankfurt"
          ],
          [
           "Josip Šutalo",
           "Ajax"
          ],
          [
           "Ahmed Iljazovski",
           "Hvidovre IF"
          ],
          [
           "Alexander Busch",
           "Silkeborg IF"
          ],
          [
           "Fikayo Tomori",
           "Milan"
          ],
          [
           "Japhet Tanganga",
           "Millwall"
          ],
          [
           "Ben Cabango",
           "Swansea"
          ],
          [
           "Daniel Ballard",
           "Sunderland"
          ],
          [
           "Jacob Greaves",
           "Hull"
          ],
          [
           "Teden Mengi",
           "Luton"
          ],
          [
           "Joe Gomez",
           "Liverpool"
          ],
          [
           "Dael Fry",
           "Middlesbrough"
          ],
          [
           "Benjamin White",
           "Arsenal"
          ],
          [
           "Lewis Gibson",
           "Plymouth"
          ],
          [
           "Philippe Sandler",
           "N.E.C. Nijmegen"
          ],
          [
           "Mats Knoester",
           "AGF"
          ],
          [
           "Pascal Struijk",
           "Leeds"
          ],
          [
           "Perr Schuurs",
           "Torino"
          ],
          [
           "Enzo Cornelisse",
           "Vitesse"
          ],
          [
           "Caleb Okoli",
           "Frosinone"
          ],
          [
           "Takehiro Tomiyasu",
           "Arsenal"
          ],
          [
           "Jules Koundé",
           "Barcelona"
          ],
          [
           "Ibrahima Konaté",
           "Liverpool"
          ],
          [
           "Jean-Clair Todibo",
           "Nice"
          ],
          [
           "Bafodé Diakité",
           "Lille"
          ],
          [
           "William Saliba",
           "Arsenal"
          ],
          [
           "Moussa Diarra",
           "Toulouse"
          ],
          [
           "Chrislain Matsima",
           "Clermont"
          ],
          [
           "Edson Álvarez",
           "West Ham"
          ],
          [
           "Luke McNally",
           "Stoke"
          ],
          [
           "Rúben Dias",
           "Man City"
          ],
          [
           "Pau Torres",
           "Aston Villa"
          ],
          [
           "José Manuel Copete",
           "Mallorca"
          ],
          [
           "Jhon Lucumí",
           "Juventus"
          ],
          [
           "Nicolás Hernández",
           "San Lorenzo"
          ],
          [
           "Jota",
           "Vizela"
          ],
          [
           "Bernardo Vital",
           "Estoril Praia"
          ],
          [
           "Gonçalo Inácio",
           "Sporting CP"
          ],
          [
           "Gabriel Xavier",
           "BAH"
          ],
          [
           "Félix Torres",
           "COR"
          ],
          [
           "Paul Jaeckel",
           "Lyon"
          ],
          [
           "Michael Akoto",
           "AGF"
          ],
          [
           "Odilon Kossounou",
           "Bayer 04"
          ],
          [
           "Isaak Touré",
           "Lorient"
          ],
          [
           "Willy Kambwala",
           "Man Utd"
          ],
          [
           "Nicolás Romero",
           "Atl. Tucumán"
          ],
          [
           "Arnau Martínez",
           "Girona"
          ],
          [
           "Joaquín Pombo",
           "Arsenal (Sarandí)"
          ],
          [
           "Jeanuël Belocian",
           "Rennes"
          ],
          [
           "Ousmane Diomande",
           "Sporting CP"
          ],
          [
           "Stijn Bultman",
           "Heracles Almelo"
          ]
         ],
         "hovertemplate": "<b>%{customdata[0]}</b><br><b>%{customdata[1]}</b><br><br>tackle_completion_%: %{x}<br>headers_won_%: %{y}<br>duels_win_%: %{marker.color}<extra></extra>",
         "legendgroup": "",
         "marker": {
          "color": {
           "bdata": "AAAAAABgU0CF61G4HkVTQAAAAAAAwFJAAAAAAAAAVEAAAAAAAMBSQDMzMzMzE1NACtejcD16UkBxPQrXo8BRQK5H4XoUHlNAXI/C9ShMU0AK16NwPUpTQAAAAAAAIFJAmpmZmZnJVEDsUbgehdtRQDMzMzMzE1NAw/UoXI9SVEAAAAAAAMBSQHsUrkfhOlJAUrgeheuBUkAK16NwPZpSQBSuR+F6lFNA4XoUrkcxU0CamZmZmTlUQHE9CtejkFNAuB6F61EYU0BmZmZmZqZSQAAAAAAA0FNAhetRuB7FU0AAAAAAAFBTQFK4HoXrcVNAuB6F61GoUkAK16NwPapTQLgehetROFNAUrgehetxU0AAAAAAAOBSQLgehetRWFRAmpmZmZnJUkAK16NwPUpTQOF6FK5HIVJAw/UoXI8SUkCPwvUoXN9TQArXo3A9GlRA16NwPQrnUkAK16NwPdpTQNejcD0Kd1NA9ihcj8L1UUCkcD0K1yNSQGZmZmZmtlNAexSuR+EKVUDsUbgehQtSQHsUrkfhOlJAcT0K16NgVECPwvUoXL9UQI/C9Shc71NAH4XrUbjOUkCPwvUoXG9UQNejcD0K51FAj8L1KFwvVEBmZmZmZjZUQI/C9ShcP1NAAAAAAACQVEAAAAAAAEBTQHE9CtejUFJApHA9CteDU0DD9Shcj2JWQK5H4XoUHlVAPQrXo3BtUkApXI/C9UhTQMP1KFyPslNArkfhehQeU0DsUbgehYtTQBSuR+F6NFJA",
           "dtype": "f8"
          },
          "coloraxis": "coloraxis",
          "size": 10,
          "symbol": "circle"
         },
         "mode": "markers",
         "name": "",
         "orientation": "v",
         "showlegend": false,
         "textfont": {
          "size": 10
         },
         "textposition": "top center",
         "type": "scatter",
         "x": {
          "bdata": "VVFNWlNYTktSSUpGUUxWUlZHR1BSR1BLUVNNU1RPTExWTVJOXlFHT05STlNNTEpUUkdTTU5HSlVQUlNQT1hSSlhZT1NRUVZM",
          "dtype": "i1"
         },
         "xaxis": "x",
         "y": {
          "bdata": "4XoUrkfRUkA9CtejcO1SQI/C9Shcj1JA16NwPQqHU0D2KFyPwqVRQJqZmZmZqVFAzczMzMzsUUCPwvUoXI9RQEjhehSuF1JAcT0K16OQU0AfhetRuI5TQAAAAAAAQFJACtejcD3qVEAAAAAAAIBRQArXo3A9elJAmpmZmZlJVEDD9Shcj/JRQFK4HoXrUVJAj8L1KFzPUkCPwvUoXD9SQKRwPQrXQ1NAMzMzMzODU0CF61G4HkVUQEjhehSux1NAZmZmZmbmUkBSuB6F6wFSQJqZmZmZKVRAexSuR+F6U0CkcD0K1wNTQDMzMzMzY1NAw/UoXI+SUkCamZmZmSlUQNejcD0K51JAMzMzMzODU0BmZmZmZoZSQArXo3A9mlRAAAAAAACAUUA9CtejcO1SQHsUrkfhOlJApHA9CteTUUAAAAAAABBUQJqZmZmZuVNAKVyPwvWYUkDhehSuR7FTQK5H4XoUjlNApHA9CtezUUD2KFyPwgVSQD0K16NwrVJACtejcD06VUCPwvUoXE9SQEjhehSup1FArkfhehSeVEDsUbgehQtVQIXrUbge1VRAhetRuB7lUkAfhetRuO5TQEjhehSul1FAKVyPwvUYVEDXo3A9CidUQK5H4XoUHlNAPQrXo3D9VEDsUbgehWtSQKRwPQrXk1FAw/UoXI+yU0DhehSuR5FWQBSuR+F6dFRAmpmZmZkpUkBcj8L1KFxSQLgehetRmFNApHA9CtfTUkApXI/C9ShTQPYoXI/CBVJA",
          "dtype": "f8"
         },
         "yaxis": "y"
        }
       ],
       "layout": {
        "coloraxis": {
         "colorbar": {
          "title": {
           "text": "duels_win_%"
          }
         },
         "colorscale": [
          [
           0,
           "rgb(165,0,38)"
          ],
          [
           0.1,
           "rgb(215,48,39)"
          ],
          [
           0.2,
           "rgb(244,109,67)"
          ],
          [
           0.3,
           "rgb(253,174,97)"
          ],
          [
           0.4,
           "rgb(254,224,139)"
          ],
          [
           0.5,
           "rgb(255,255,191)"
          ],
          [
           0.6,
           "rgb(217,239,139)"
          ],
          [
           0.7,
           "rgb(166,217,106)"
          ],
          [
           0.8,
           "rgb(102,189,99)"
          ],
          [
           0.9,
           "rgb(26,152,80)"
          ],
          [
           1,
           "rgb(0,104,55)"
          ]
         ],
         "showscale": false
        },
        "height": 700,
        "legend": {
         "tracegroupgap": 0
        },
        "paper_bgcolor": "white",
        "plot_bgcolor": "white",
        "template": {
         "data": {
          "bar": [
           {
            "error_x": {
             "color": "#2a3f5f"
            },
            "error_y": {
             "color": "#2a3f5f"
            },
            "marker": {
             "line": {
              "color": "#E5ECF6",
              "width": 0.5
             },
             "pattern": {
              "fillmode": "overlay",
              "size": 10,
              "solidity": 0.2
             }
            },
            "type": "bar"
           }
          ],
          "barpolar": [
           {
            "marker": {
             "line": {
              "color": "#E5ECF6",
              "width": 0.5
             },
             "pattern": {
              "fillmode": "overlay",
              "size": 10,
              "solidity": 0.2
             }
            },
            "type": "barpolar"
           }
          ],
          "carpet": [
           {
            "aaxis": {
             "endlinecolor": "#2a3f5f",
             "gridcolor": "white",
             "linecolor": "white",
             "minorgridcolor": "white",
             "startlinecolor": "#2a3f5f"
            },
            "baxis": {
             "endlinecolor": "#2a3f5f",
             "gridcolor": "white",
             "linecolor": "white",
             "minorgridcolor": "white",
             "startlinecolor": "#2a3f5f"
            },
            "type": "carpet"
           }
          ],
          "choropleth": [
           {
            "colorbar": {
             "outlinewidth": 0,
             "ticks": ""
            },
            "type": "choropleth"
           }
          ],
          "contour": [
           {
            "colorbar": {
             "outlinewidth": 0,
             "ticks": ""
            },
            "colorscale": [
             [
              0,
              "#0d0887"
             ],
             [
              0.1111111111111111,
              "#46039f"
             ],
             [
              0.2222222222222222,
              "#7201a8"
             ],
             [
              0.3333333333333333,
              "#9c179e"
             ],
             [
              0.4444444444444444,
              "#bd3786"
             ],
             [
              0.5555555555555556,
              "#d8576b"
             ],
             [
              0.6666666666666666,
              "#ed7953"
             ],
             [
              0.7777777777777778,
              "#fb9f3a"
             ],
             [
              0.8888888888888888,
              "#fdca26"
             ],
             [
              1,
              "#f0f921"
             ]
            ],
            "type": "contour"
           }
          ],
          "contourcarpet": [
           {
            "colorbar": {
             "outlinewidth": 0,
             "ticks": ""
            },
            "type": "contourcarpet"
           }
          ],
          "heatmap": [
           {
            "colorbar": {
             "outlinewidth": 0,
             "ticks": ""
            },
            "colorscale": [
             [
              0,
              "#0d0887"
             ],
             [
              0.1111111111111111,
              "#46039f"
             ],
             [
              0.2222222222222222,
              "#7201a8"
             ],
             [
              0.3333333333333333,
              "#9c179e"
             ],
             [
              0.4444444444444444,
              "#bd3786"
             ],
             [
              0.5555555555555556,
              "#d8576b"
             ],
             [
              0.6666666666666666,
              "#ed7953"
             ],
             [
              0.7777777777777778,
              "#fb9f3a"
             ],
             [
              0.8888888888888888,
              "#fdca26"
             ],
             [
              1,
              "#f0f921"
             ]
            ],
            "type": "heatmap"
           }
          ],
          "histogram": [
           {
            "marker": {
             "pattern": {
              "fillmode": "overlay",
              "size": 10,
              "solidity": 0.2
             }
            },
            "type": "histogram"
           }
          ],
          "histogram2d": [
           {
            "colorbar": {
             "outlinewidth": 0,
             "ticks": ""
            },
            "colorscale": [
             [
              0,
              "#0d0887"
             ],
             [
              0.1111111111111111,
              "#46039f"
             ],
             [
              0.2222222222222222,
              "#7201a8"
             ],
             [
              0.3333333333333333,
              "#9c179e"
             ],
             [
              0.4444444444444444,
              "#bd3786"
             ],
             [
              0.5555555555555556,
              "#d8576b"
             ],
             [
              0.6666666666666666,
              "#ed7953"
             ],
             [
              0.7777777777777778,
              "#fb9f3a"
             ],
             [
              0.8888888888888888,
              "#fdca26"
             ],
             [
              1,
              "#f0f921"
             ]
            ],
            "type": "histogram2d"
           }
          ],
          "histogram2dcontour": [
           {
            "colorbar": {
             "outlinewidth": 0,
             "ticks": ""
            },
            "colorscale": [
             [
              0,
              "#0d0887"
             ],
             [
              0.1111111111111111,
              "#46039f"
             ],
             [
              0.2222222222222222,
              "#7201a8"
             ],
             [
              0.3333333333333333,
              "#9c179e"
             ],
             [
              0.4444444444444444,
              "#bd3786"
             ],
             [
              0.5555555555555556,
              "#d8576b"
             ],
             [
              0.6666666666666666,
              "#ed7953"
             ],
             [
              0.7777777777777778,
              "#fb9f3a"
             ],
             [
              0.8888888888888888,
              "#fdca26"
             ],
             [
              1,
              "#f0f921"
             ]
            ],
            "type": "histogram2dcontour"
           }
          ],
          "mesh3d": [
           {
            "colorbar": {
             "outlinewidth": 0,
             "ticks": ""
            },
            "type": "mesh3d"
           }
          ],
          "parcoords": [
           {
            "line": {
             "colorbar": {
              "outlinewidth": 0,
              "ticks": ""
             }
            },
            "type": "parcoords"
           }
          ],
          "pie": [
           {
            "automargin": true,
            "type": "pie"
           }
          ],
          "scatter": [
           {
            "fillpattern": {
             "fillmode": "overlay",
             "size": 10,
             "solidity": 0.2
            },
            "type": "scatter"
           }
          ],
          "scatter3d": [
           {
            "line": {
             "colorbar": {
              "outlinewidth": 0,
              "ticks": ""
             }
            },
            "marker": {
             "colorbar": {
              "outlinewidth": 0,
              "ticks": ""
             }
            },
            "type": "scatter3d"
           }
          ],
          "scattercarpet": [
           {
            "marker": {
             "colorbar": {
              "outlinewidth": 0,
              "ticks": ""
             }
            },
            "type": "scattercarpet"
           }
          ],
          "scattergeo": [
           {
            "marker": {
             "colorbar": {
              "outlinewidth": 0,
              "ticks": ""
             }
            },
            "type": "scattergeo"
           }
          ],
          "scattergl": [
           {
            "marker": {
             "colorbar": {
              "outlinewidth": 0,
              "ticks": ""
             }
            },
            "type": "scattergl"
           }
          ],
          "scattermap": [
           {
            "marker": {
             "colorbar": {
              "outlinewidth": 0,
              "ticks": ""
             }
            },
            "type": "scattermap"
           }
          ],
          "scattermapbox": [
           {
            "marker": {
             "colorbar": {
              "outlinewidth": 0,
              "ticks": ""
             }
            },
            "type": "scattermapbox"
           }
          ],
          "scatterpolar": [
           {
            "marker": {
             "colorbar": {
              "outlinewidth": 0,
              "ticks": ""
             }
            },
            "type": "scatterpolar"
           }
          ],
          "scatterpolargl": [
           {
            "marker": {
             "colorbar": {
              "outlinewidth": 0,
              "ticks": ""
             }
            },
            "type": "scatterpolargl"
           }
          ],
          "scatterternary": [
           {
            "marker": {
             "colorbar": {
              "outlinewidth": 0,
              "ticks": ""
             }
            },
            "type": "scatterternary"
           }
          ],
          "surface": [
           {
            "colorbar": {
             "outlinewidth": 0,
             "ticks": ""
            },
            "colorscale": [
             [
              0,
              "#0d0887"
             ],
             [
              0.1111111111111111,
              "#46039f"
             ],
             [
              0.2222222222222222,
              "#7201a8"
             ],
             [
              0.3333333333333333,
              "#9c179e"
             ],
             [
              0.4444444444444444,
              "#bd3786"
             ],
             [
              0.5555555555555556,
              "#d8576b"
             ],
             [
              0.6666666666666666,
              "#ed7953"
             ],
             [
              0.7777777777777778,
              "#fb9f3a"
             ],
             [
              0.8888888888888888,
              "#fdca26"
             ],
             [
              1,
              "#f0f921"
             ]
            ],
            "type": "surface"
           }
          ],
          "table": [
           {
            "cells": {
             "fill": {
              "color": "#EBF0F8"
             },
             "line": {
              "color": "white"
             }
            },
            "header": {
             "fill": {
              "color": "#C8D4E3"
             },
             "line": {
              "color": "white"
             }
            },
            "type": "table"
           }
          ]
         },
         "layout": {
          "annotationdefaults": {
           "arrowcolor": "#2a3f5f",
           "arrowhead": 0,
           "arrowwidth": 1
          },
          "autotypenumbers": "strict",
          "coloraxis": {
           "colorbar": {
            "outlinewidth": 0,
            "ticks": ""
           }
          },
          "colorscale": {
           "diverging": [
            [
             0,
             "#8e0152"
            ],
            [
             0.1,
             "#c51b7d"
            ],
            [
             0.2,
             "#de77ae"
            ],
            [
             0.3,
             "#f1b6da"
            ],
            [
             0.4,
             "#fde0ef"
            ],
            [
             0.5,
             "#f7f7f7"
            ],
            [
             0.6,
             "#e6f5d0"
            ],
            [
             0.7,
             "#b8e186"
            ],
            [
             0.8,
             "#7fbc41"
            ],
            [
             0.9,
             "#4d9221"
            ],
            [
             1,
             "#276419"
            ]
           ],
           "sequential": [
            [
             0,
             "#0d0887"
            ],
            [
             0.1111111111111111,
             "#46039f"
            ],
            [
             0.2222222222222222,
             "#7201a8"
            ],
            [
             0.3333333333333333,
             "#9c179e"
            ],
            [
             0.4444444444444444,
             "#bd3786"
            ],
            [
             0.5555555555555556,
             "#d8576b"
            ],
            [
             0.6666666666666666,
             "#ed7953"
            ],
            [
             0.7777777777777778,
             "#fb9f3a"
            ],
            [
             0.8888888888888888,
             "#fdca26"
            ],
            [
             1,
             "#f0f921"
            ]
           ],
           "sequentialminus": [
            [
             0,
             "#0d0887"
            ],
            [
             0.1111111111111111,
             "#46039f"
            ],
            [
             0.2222222222222222,
             "#7201a8"
            ],
            [
             0.3333333333333333,
             "#9c179e"
            ],
            [
             0.4444444444444444,
             "#bd3786"
            ],
            [
             0.5555555555555556,
             "#d8576b"
            ],
            [
             0.6666666666666666,
             "#ed7953"
            ],
            [
             0.7777777777777778,
             "#fb9f3a"
            ],
            [
             0.8888888888888888,
             "#fdca26"
            ],
            [
             1,
             "#f0f921"
            ]
           ]
          },
          "colorway": [
           "#636efa",
           "#EF553B",
           "#00cc96",
           "#ab63fa",
           "#FFA15A",
           "#19d3f3",
           "#FF6692",
           "#B6E880",
           "#FF97FF",
           "#FECB52"
          ],
          "font": {
           "color": "#2a3f5f"
          },
          "geo": {
           "bgcolor": "white",
           "lakecolor": "white",
           "landcolor": "#E5ECF6",
           "showlakes": true,
           "showland": true,
           "subunitcolor": "white"
          },
          "hoverlabel": {
           "align": "left"
          },
          "hovermode": "closest",
          "mapbox": {
           "style": "light"
          },
          "paper_bgcolor": "white",
          "plot_bgcolor": "#E5ECF6",
          "polar": {
           "angularaxis": {
            "gridcolor": "white",
            "linecolor": "white",
            "ticks": ""
           },
           "bgcolor": "#E5ECF6",
           "radialaxis": {
            "gridcolor": "white",
            "linecolor": "white",
            "ticks": ""
           }
          },
          "scene": {
           "xaxis": {
            "backgroundcolor": "#E5ECF6",
            "gridcolor": "white",
            "gridwidth": 2,
            "linecolor": "white",
            "showbackground": true,
            "ticks": "",
            "zerolinecolor": "white"
           },
           "yaxis": {
            "backgroundcolor": "#E5ECF6",
            "gridcolor": "white",
            "gridwidth": 2,
            "linecolor": "white",
            "showbackground": true,
            "ticks": "",
            "zerolinecolor": "white"
           },
           "zaxis": {
            "backgroundcolor": "#E5ECF6",
            "gridcolor": "white",
            "gridwidth": 2,
            "linecolor": "white",
            "showbackground": true,
            "ticks": "",
            "zerolinecolor": "white"
           }
          },
          "shapedefaults": {
           "line": {
            "color": "#2a3f5f"
           }
          },
          "ternary": {
           "aaxis": {
            "gridcolor": "white",
            "linecolor": "white",
            "ticks": ""
           },
           "baxis": {
            "gridcolor": "white",
            "linecolor": "white",
            "ticks": ""
           },
           "bgcolor": "#E5ECF6",
           "caxis": {
            "gridcolor": "white",
            "linecolor": "white",
            "ticks": ""
           }
          },
          "title": {
           "x": 0.05
          },
          "xaxis": {
           "automargin": true,
           "gridcolor": "white",
           "linecolor": "white",
           "ticks": "",
           "title": {
            "standoff": 15
           },
           "zerolinecolor": "white",
           "zerolinewidth": 2
          },
          "yaxis": {
           "automargin": true,
           "gridcolor": "white",
           "linecolor": "white",
           "ticks": "",
           "title": {
            "standoff": 15
           },
           "zerolinecolor": "white",
           "zerolinewidth": 2
          }
         }
        },
        "title": {
         "text": "Dominance ( 72)",
         "x": 0.5,
         "xanchor": "center"
        },
        "width": 1200,
        "xaxis": {
         "anchor": "y",
         "domain": [
          0,
          1
         ],
         "gridcolor": "lightgray",
         "showgrid": true,
         "title": {
          "text": "tackle_completion_%"
         },
         "zeroline": false
        },
        "yaxis": {
         "anchor": "x",
         "domain": [
          0,
          1
         ],
         "gridcolor": "lightgray",
         "showgrid": true,
         "title": {
          "text": "headers_won_%"
         },
         "zeroline": false
        }
       }
      }
     },
     "metadata": {},
     "output_type": "display_data"
    }
   ],
   "source": [
    "# Filter data \n",
    "mask = (\n",
    "        (df_players['tackle_completion_%'] >= 70) & \\\n",
    "        (df_players['headers_won_%'] >= 70) & \\\n",
    "        (df_players['duels_win_%'] >= 65) & \\\n",
    "        (df_players['age'] <= 26) & \\\n",
    "        (df_players['id'].isin(targets))\n",
    "        \n",
    "        \n",
    ")\n",
    "\n",
    "df_targets = df_players[mask]\n",
    "\n",
    "scatter_plot(df_targets,\n",
    "             x_metric='tackle_completion_%', \n",
    "             y_metric='headers_won_%',\n",
    "             z_metric='duels_win_%',\n",
    "             title='Dominance', \n",
    "             show_name_label=False\n",
    ")\n",
    "\n",
    "# Keep only players that fulfill criteria\n",
    "#targets = df_targets['id']"
   ]
  },
  {
   "cell_type": "code",
   "execution_count": 84,
   "id": "def08500",
   "metadata": {},
   "outputs": [
    {
     "data": {
      "text/html": [
       "<div>\n",
       "<style scoped>\n",
       "    .dataframe tbody tr th:only-of-type {\n",
       "        vertical-align: middle;\n",
       "    }\n",
       "\n",
       "    .dataframe tbody tr th {\n",
       "        vertical-align: top;\n",
       "    }\n",
       "\n",
       "    .dataframe thead th {\n",
       "        text-align: right;\n",
       "    }\n",
       "</style>\n",
       "<table border=\"1\" class=\"dataframe\">\n",
       "  <thead>\n",
       "    <tr style=\"text-align: right;\">\n",
       "      <th></th>\n",
       "      <th>id</th>\n",
       "      <th>name</th>\n",
       "      <th>position</th>\n",
       "      <th>age</th>\n",
       "      <th>height</th>\n",
       "      <th>weight</th>\n",
       "      <th>inf</th>\n",
       "      <th>club</th>\n",
       "      <th>division</th>\n",
       "      <th>nationality</th>\n",
       "      <th>home_grown</th>\n",
       "      <th>personality</th>\n",
       "      <th>media_handling</th>\n",
       "      <th>wage</th>\n",
       "      <th>transfer_value</th>\n",
       "      <th>asking_price</th>\n",
       "      <th>preferred_foot</th>\n",
       "      <th>starts</th>\n",
       "      <th>minutes_played</th>\n",
       "      <th>average_rating</th>\n",
       "      <th>sub_appearances</th>\n",
       "      <th>minutes/game</th>\n",
       "      <th>index</th>\n",
       "      <th>passes_attempted/90</th>\n",
       "      <th>passes_completed/90</th>\n",
       "      <th>pass_completion_%</th>\n",
       "      <th>progressive_passes/90</th>\n",
       "      <th>progressive_pass_rate</th>\n",
       "      <th>key_passes/90</th>\n",
       "      <th>key_pass_%</th>\n",
       "      <th>open_play_key_passes/90</th>\n",
       "      <th>open_play_key_pass_%</th>\n",
       "      <th>pressures_attempted</th>\n",
       "      <th>pressures_attempted/90</th>\n",
       "      <th>pressures_completed</th>\n",
       "      <th>pressures_completed/90</th>\n",
       "      <th>pressure_success_%</th>\n",
       "      <th>possession_won/90</th>\n",
       "      <th>possession_lost/90</th>\n",
       "      <th>poss+_/90</th>\n",
       "      <th>poss+__%</th>\n",
       "      <th>tackles_attempted/90</th>\n",
       "      <th>tackles_completed/90</th>\n",
       "      <th>tackle_completion_%</th>\n",
       "      <th>tackles_failed/90</th>\n",
       "      <th>key_tackles/90</th>\n",
       "      <th>tackle_quality</th>\n",
       "      <th>interceptions/90</th>\n",
       "      <th>blocks/90</th>\n",
       "      <th>shots_blocked/90</th>\n",
       "      <th>headers_attempted/90</th>\n",
       "      <th>headers_won/90</th>\n",
       "      <th>headers_won_%</th>\n",
       "      <th>headers_lost/90</th>\n",
       "      <th>headers_lost_%</th>\n",
       "      <th>key_headers/90</th>\n",
       "      <th>aerial_challenges_attempted/90</th>\n",
       "      <th>duels_win_%</th>\n",
       "      <th>fouls_won/90</th>\n",
       "      <th>fouls_committed/90</th>\n",
       "      <th>clearances/90</th>\n",
       "      <th>attacking_actions/90</th>\n",
       "      <th>creative_actions/90</th>\n",
       "      <th>defensive_actions/90</th>\n",
       "      <th>excitement_factor/90</th>\n",
       "      <th>general_performance</th>\n",
       "      <th>goalkeeping</th>\n",
       "      <th>defensive_defender</th>\n",
       "      <th>creative_defender</th>\n",
       "      <th>attacking_defender</th>\n",
       "      <th>creative_midfielder</th>\n",
       "      <th>attacking_midfielder</th>\n",
       "      <th>creative_winger</th>\n",
       "      <th>attacking_winger</th>\n",
       "      <th>creative_forward</th>\n",
       "      <th>attacking_forward</th>\n",
       "      <th>finisher</th>\n",
       "      <th>aerial_threat</th>\n",
       "      <th>reader</th>\n",
       "      <th>assister</th>\n",
       "      <th>ones</th>\n",
       "    </tr>\n",
       "  </thead>\n",
       "  <tbody>\n",
       "    <tr>\n",
       "      <th>266</th>\n",
       "      <td>28124573</td>\n",
       "      <td>Levi Colwill</td>\n",
       "      <td>D (LC)</td>\n",
       "      <td>20</td>\n",
       "      <td>187 cm</td>\n",
       "      <td>88 kg</td>\n",
       "      <td>-</td>\n",
       "      <td>Chelsea</td>\n",
       "      <td>Premier League</td>\n",
       "      <td>ENG</td>\n",
       "      <td>Trained in nation (15-21)</td>\n",
       "      <td>-</td>\n",
       "      <td>Scouting Required</td>\n",
       "      <td>$94,000 p/w</td>\n",
       "      <td>$153M - $189M</td>\n",
       "      <td>-</td>\n",
       "      <td>Left</td>\n",
       "      <td>13</td>\n",
       "      <td>1173</td>\n",
       "      <td>6.95</td>\n",
       "      <td>1</td>\n",
       "      <td>83.79</td>\n",
       "      <td>266</td>\n",
       "      <td>81.02</td>\n",
       "      <td>76.42</td>\n",
       "      <td>94</td>\n",
       "      <td>6.45</td>\n",
       "      <td>7.95</td>\n",
       "      <td>0.08</td>\n",
       "      <td>0.09</td>\n",
       "      <td>0.08</td>\n",
       "      <td>0.09</td>\n",
       "      <td>31</td>\n",
       "      <td>2.38</td>\n",
       "      <td>9</td>\n",
       "      <td>0.69</td>\n",
       "      <td>29.03</td>\n",
       "      <td>13.27</td>\n",
       "      <td>5.29</td>\n",
       "      <td>7.98</td>\n",
       "      <td>150.85</td>\n",
       "      <td>0.69</td>\n",
       "      <td>0.54</td>\n",
       "      <td>78</td>\n",
       "      <td>0.15</td>\n",
       "      <td>0.08</td>\n",
       "      <td>3.0</td>\n",
       "      <td>2.3</td>\n",
       "      <td>0.38</td>\n",
       "      <td>0.31</td>\n",
       "      <td>6.91</td>\n",
       "      <td>5.37</td>\n",
       "      <td>77.78</td>\n",
       "      <td>1.53</td>\n",
       "      <td>22.22</td>\n",
       "      <td>0.77</td>\n",
       "      <td>6.91</td>\n",
       "      <td>0.0</td>\n",
       "      <td>0.23</td>\n",
       "      <td>0.23</td>\n",
       "      <td>1.07</td>\n",
       "      <td>0.29</td>\n",
       "      <td>0.08</td>\n",
       "      <td>15.81</td>\n",
       "      <td>0.92</td>\n",
       "      <td>37</td>\n",
       "      <td>100</td>\n",
       "      <td>27</td>\n",
       "      <td>35</td>\n",
       "      <td>27</td>\n",
       "      <td>44</td>\n",
       "      <td>56</td>\n",
       "      <td>38</td>\n",
       "      <td>22</td>\n",
       "      <td>17</td>\n",
       "      <td>36</td>\n",
       "      <td>44</td>\n",
       "      <td>62</td>\n",
       "      <td>40</td>\n",
       "      <td>0</td>\n",
       "      <td>1</td>\n",
       "    </tr>\n",
       "  </tbody>\n",
       "</table>\n",
       "</div>"
      ],
      "text/plain": [
       "           id          name position  age  height weight inf     club  \\\n",
       "266  28124573  Levi Colwill   D (LC)   20  187 cm  88 kg   -  Chelsea   \n",
       "\n",
       "           division nationality                 home_grown personality  \\\n",
       "266  Premier League         ENG  Trained in nation (15-21)           -   \n",
       "\n",
       "        media_handling         wage transfer_value asking_price  \\\n",
       "266  Scouting Required  $94,000 p/w  $153M - $189M            -   \n",
       "\n",
       "    preferred_foot  starts  minutes_played  average_rating  sub_appearances  \\\n",
       "266           Left      13            1173            6.95                1   \n",
       "\n",
       "     minutes/game  index  passes_attempted/90  passes_completed/90  \\\n",
       "266         83.79    266                81.02                76.42   \n",
       "\n",
       "     pass_completion_%  progressive_passes/90  progressive_pass_rate  \\\n",
       "266                 94                   6.45                   7.95   \n",
       "\n",
       "     key_passes/90  key_pass_%  open_play_key_passes/90  open_play_key_pass_%  \\\n",
       "266           0.08        0.09                     0.08                  0.09   \n",
       "\n",
       "     pressures_attempted  pressures_attempted/90  pressures_completed  \\\n",
       "266                   31                    2.38                    9   \n",
       "\n",
       "     pressures_completed/90  pressure_success_%  possession_won/90  \\\n",
       "266                    0.69               29.03              13.27   \n",
       "\n",
       "     possession_lost/90  poss+_/90  poss+__%  tackles_attempted/90  \\\n",
       "266                5.29       7.98    150.85                  0.69   \n",
       "\n",
       "     tackles_completed/90  tackle_completion_%  tackles_failed/90  \\\n",
       "266                  0.54                   78               0.15   \n",
       "\n",
       "     key_tackles/90  tackle_quality  interceptions/90  blocks/90  \\\n",
       "266            0.08             3.0               2.3       0.38   \n",
       "\n",
       "     shots_blocked/90  headers_attempted/90  headers_won/90  headers_won_%  \\\n",
       "266              0.31                  6.91            5.37          77.78   \n",
       "\n",
       "     headers_lost/90  headers_lost_%  key_headers/90  \\\n",
       "266             1.53           22.22            0.77   \n",
       "\n",
       "     aerial_challenges_attempted/90  duels_win_%  fouls_won/90  \\\n",
       "266                            6.91          0.0          0.23   \n",
       "\n",
       "     fouls_committed/90  clearances/90  attacking_actions/90  \\\n",
       "266                0.23           1.07                  0.29   \n",
       "\n",
       "     creative_actions/90  defensive_actions/90  excitement_factor/90  \\\n",
       "266                 0.08                 15.81                  0.92   \n",
       "\n",
       "     general_performance  goalkeeping  defensive_defender  creative_defender  \\\n",
       "266                   37          100                  27                 35   \n",
       "\n",
       "     attacking_defender  creative_midfielder  attacking_midfielder  \\\n",
       "266                  27                   44                    56   \n",
       "\n",
       "     creative_winger  attacking_winger  creative_forward  attacking_forward  \\\n",
       "266               38                22                17                 36   \n",
       "\n",
       "     finisher  aerial_threat  reader  assister  ones  \n",
       "266        44             62      40         0     1  "
      ]
     },
     "execution_count": 84,
     "metadata": {},
     "output_type": "execute_result"
    }
   ],
   "source": [
    "df_targets[df_targets['name'].str.contains('Levi')]"
   ]
  },
  {
   "cell_type": "code",
   "execution_count": null,
   "id": "9856c684",
   "metadata": {},
   "outputs": [],
   "source": []
  }
 ],
 "metadata": {
  "kernelspec": {
   "display_name": ".venv",
   "language": "python",
   "name": "python3"
  },
  "language_info": {
   "codemirror_mode": {
    "name": "ipython",
    "version": 3
   },
   "file_extension": ".py",
   "mimetype": "text/x-python",
   "name": "python",
   "nbconvert_exporter": "python",
   "pygments_lexer": "ipython3",
   "version": "3.12.7"
  }
 },
 "nbformat": 4,
 "nbformat_minor": 5
}
