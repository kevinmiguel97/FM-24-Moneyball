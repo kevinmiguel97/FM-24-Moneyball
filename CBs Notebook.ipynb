{
 "cells": [
  {
   "cell_type": "markdown",
   "id": "b1df530d",
   "metadata": {},
   "source": [
    "# FM 24 Moneyball"
   ]
  },
  {
   "cell_type": "code",
   "execution_count": null,
   "id": "a0d6d750",
   "metadata": {},
   "outputs": [],
   "source": [
    "import numpy as np\n",
    "import pandas as pd \n",
    "import matplotlib.pyplot as plt\n",
    "import plotly.express as px\n",
    "import re\n",
    "\n",
    "# Ignore warnings\n",
    "import warnings\n",
    "warnings.filterwarnings('ignore')\n",
    "\n",
    "# Show all columns in pandas\n",
    "pd.set_option('display.max_columns', 500) \n",
    "\n",
    "%matplotlib inline"
   ]
  },
  {
   "cell_type": "markdown",
   "id": "bd53e3cd",
   "metadata": {},
   "source": [
    "## Ingest and clean data"
   ]
  },
  {
   "cell_type": "code",
   "execution_count": 2,
   "id": "7355e71f",
   "metadata": {},
   "outputs": [],
   "source": [
    "### Read raw data\n",
    "\n",
    "# Select file path for raw data\n",
    "path = r\"C:\\Users\\kevmi\\Documents\\FM 24 Moneyball\\FM Data Lab\\Man Utd\\FM 24 exports\\Winter 2023\\Center Backs.html\"\n",
    "\n",
    "# Ingest in a dataframe\n",
    "df_players_raw = pd.read_html(path, encoding='utf-8')[0]\n",
    "\n",
    "# Format column names \n",
    "df_players_raw.columns = [x.lower().strip().replace(' ', '_').replace('-', '_') for x in df_players_raw.columns]\n",
    "\n",
    "# ---------------------------------------------------------------------------------------------------------------------\n",
    "\n",
    "### Read processed Data lab data\n",
    "\n",
    "# Select file path for processed data\n",
    "path = r\"C:\\Users\\kevmi\\Documents\\FM 24 Moneyball\\FM Data Lab\\Man Utd\\FM Data Lab outputs\\Winter 2023\\Center Backs.csv\"\n",
    "\n",
    "# Ingest in a dataframe \n",
    "df_players = pd.read_csv(path)   \n",
    "\n",
    "# Format column names \n",
    "df_players.columns = [x.lower().strip().replace(' ', '_').replace('-', '_') for x in df_players.columns]\n",
    "\n",
    "# Bring ID from raw data\n",
    "df_players = df_players.merge(df_players_raw[['name', 'age', 'height', 'weight', 'uid']], \n",
    "                 left_on=['name', 'age', 'height', 'weight'], \n",
    "                 right_on=['name', 'age', 'height', 'weight']).reset_index().rename(columns={'level_0': 'id'})\n",
    "\n",
    "df_players['id'] = df_players['uid']\n",
    "\n",
    "df_players.drop(columns='uid', inplace=True)"
   ]
  },
  {
   "cell_type": "markdown",
   "id": "a4833287",
   "metadata": {},
   "source": [
    "## Data cleaning"
   ]
  },
  {
   "cell_type": "code",
   "execution_count": 3,
   "id": "82372a19",
   "metadata": {},
   "outputs": [
    {
     "data": {
      "text/html": [
       "<div>\n",
       "<style scoped>\n",
       "    .dataframe tbody tr th:only-of-type {\n",
       "        vertical-align: middle;\n",
       "    }\n",
       "\n",
       "    .dataframe tbody tr th {\n",
       "        vertical-align: top;\n",
       "    }\n",
       "\n",
       "    .dataframe thead th {\n",
       "        text-align: right;\n",
       "    }\n",
       "</style>\n",
       "<table border=\"1\" class=\"dataframe\">\n",
       "  <thead>\n",
       "    <tr style=\"text-align: right;\">\n",
       "      <th></th>\n",
       "      <th>id</th>\n",
       "      <th>name</th>\n",
       "      <th>position</th>\n",
       "      <th>age</th>\n",
       "      <th>height</th>\n",
       "      <th>weight</th>\n",
       "      <th>inf</th>\n",
       "      <th>club</th>\n",
       "      <th>division</th>\n",
       "      <th>nationality</th>\n",
       "      <th>home_grown</th>\n",
       "      <th>personality</th>\n",
       "      <th>media_handling</th>\n",
       "      <th>wage</th>\n",
       "      <th>transfer_value</th>\n",
       "      <th>asking_price</th>\n",
       "      <th>preferred_foot</th>\n",
       "      <th>starts</th>\n",
       "      <th>minutes_played</th>\n",
       "      <th>average_rating</th>\n",
       "      <th>sub_appearances</th>\n",
       "      <th>minutes/game</th>\n",
       "      <th>index</th>\n",
       "      <th>passes_attempted/90</th>\n",
       "      <th>passes_completed/90</th>\n",
       "      <th>pass_completion_%</th>\n",
       "      <th>progressive_passes/90</th>\n",
       "      <th>progressive_pass_rate</th>\n",
       "      <th>key_passes/90</th>\n",
       "      <th>key_pass_%</th>\n",
       "      <th>open_play_key_passes/90</th>\n",
       "      <th>open_play_key_pass_%</th>\n",
       "      <th>tackles_attempted/90</th>\n",
       "      <th>tackles_completed/90</th>\n",
       "      <th>tackle_completion_%</th>\n",
       "      <th>tackles_failed/90</th>\n",
       "      <th>key_tackles/90</th>\n",
       "      <th>tackle_quality</th>\n",
       "      <th>interceptions/90</th>\n",
       "      <th>blocks/90</th>\n",
       "      <th>shots_blocked/90</th>\n",
       "      <th>headers_attempted/90</th>\n",
       "      <th>headers_won/90</th>\n",
       "      <th>headers_won_%</th>\n",
       "      <th>headers_lost/90</th>\n",
       "      <th>headers_lost_%</th>\n",
       "      <th>key_headers/90</th>\n",
       "      <th>aerial_challenges_attempted/90</th>\n",
       "      <th>duels_win_%</th>\n",
       "      <th>fouls_won/90</th>\n",
       "      <th>fouls_committed/90</th>\n",
       "      <th>clearances/90</th>\n",
       "      <th>attacking_actions/90</th>\n",
       "      <th>creative_actions/90</th>\n",
       "      <th>defensive_actions/90</th>\n",
       "      <th>excitement_factor/90</th>\n",
       "      <th>general_performance</th>\n",
       "      <th>goalkeeping</th>\n",
       "      <th>defensive_defender</th>\n",
       "      <th>creative_defender</th>\n",
       "      <th>attacking_defender</th>\n",
       "      <th>creative_midfielder</th>\n",
       "      <th>attacking_midfielder</th>\n",
       "      <th>creative_winger</th>\n",
       "      <th>attacking_winger</th>\n",
       "      <th>creative_forward</th>\n",
       "      <th>attacking_forward</th>\n",
       "      <th>finisher</th>\n",
       "      <th>aerial_threat</th>\n",
       "      <th>reader</th>\n",
       "      <th>assister</th>\n",
       "    </tr>\n",
       "  </thead>\n",
       "  <tbody>\n",
       "    <tr>\n",
       "      <th>0</th>\n",
       "      <td>168288</td>\n",
       "      <td>Robin Pröpper</td>\n",
       "      <td>D (C)</td>\n",
       "      <td>30</td>\n",
       "      <td>190 cm</td>\n",
       "      <td>80 kg</td>\n",
       "      <td>-</td>\n",
       "      <td>FC Twente</td>\n",
       "      <td>Eredivisie</td>\n",
       "      <td>NED</td>\n",
       "      <td>-</td>\n",
       "      <td>-</td>\n",
       "      <td>Scouting Required</td>\n",
       "      <td>$2,700 p/w</td>\n",
       "      <td>$850K - $8.4M</td>\n",
       "      <td>-</td>\n",
       "      <td>Right</td>\n",
       "      <td>17</td>\n",
       "      <td>1575</td>\n",
       "      <td>6.69</td>\n",
       "      <td>1</td>\n",
       "      <td>87.50</td>\n",
       "      <td>0</td>\n",
       "      <td>56.17</td>\n",
       "      <td>47.20</td>\n",
       "      <td>84</td>\n",
       "      <td>4.69</td>\n",
       "      <td>8.34</td>\n",
       "      <td>0.23</td>\n",
       "      <td>0.41</td>\n",
       "      <td>0.23</td>\n",
       "      <td>0.41</td>\n",
       "      <td>0.86</td>\n",
       "      <td>0.57</td>\n",
       "      <td>67</td>\n",
       "      <td>0.29</td>\n",
       "      <td>0.17</td>\n",
       "      <td>1.50</td>\n",
       "      <td>1.09</td>\n",
       "      <td>0.23</td>\n",
       "      <td>0.23</td>\n",
       "      <td>7.54</td>\n",
       "      <td>4.57</td>\n",
       "      <td>60.61</td>\n",
       "      <td>2.97</td>\n",
       "      <td>39.39</td>\n",
       "      <td>1.03</td>\n",
       "      <td>7.54</td>\n",
       "      <td>61.22</td>\n",
       "      <td>0.00</td>\n",
       "      <td>0.57</td>\n",
       "      <td>1.71</td>\n",
       "      <td>0.11</td>\n",
       "      <td>0.29</td>\n",
       "      <td>17.69</td>\n",
       "      <td>0.74</td>\n",
       "      <td>4</td>\n",
       "      <td>100</td>\n",
       "      <td>1</td>\n",
       "      <td>3</td>\n",
       "      <td>11</td>\n",
       "      <td>6</td>\n",
       "      <td>4</td>\n",
       "      <td>5</td>\n",
       "      <td>7</td>\n",
       "      <td>12</td>\n",
       "      <td>9</td>\n",
       "      <td>15</td>\n",
       "      <td>73</td>\n",
       "      <td>13</td>\n",
       "      <td>16</td>\n",
       "    </tr>\n",
       "    <tr>\n",
       "      <th>1</th>\n",
       "      <td>211232</td>\n",
       "      <td>Djéné Dakonam</td>\n",
       "      <td>D (RC), DM</td>\n",
       "      <td>31</td>\n",
       "      <td>178 cm</td>\n",
       "      <td>71 kg</td>\n",
       "      <td>-</td>\n",
       "      <td>Getafe</td>\n",
       "      <td>LaLiga EA Sports</td>\n",
       "      <td>TOG (BEN)</td>\n",
       "      <td>-</td>\n",
       "      <td>-</td>\n",
       "      <td>Scouting Required</td>\n",
       "      <td>$20,500 p/w</td>\n",
       "      <td>$150K - $10.5M</td>\n",
       "      <td>-</td>\n",
       "      <td>Right</td>\n",
       "      <td>17</td>\n",
       "      <td>1496</td>\n",
       "      <td>6.56</td>\n",
       "      <td>0</td>\n",
       "      <td>88.00</td>\n",
       "      <td>1</td>\n",
       "      <td>43.38</td>\n",
       "      <td>38.08</td>\n",
       "      <td>88</td>\n",
       "      <td>4.03</td>\n",
       "      <td>9.29</td>\n",
       "      <td>0.48</td>\n",
       "      <td>1.11</td>\n",
       "      <td>0.48</td>\n",
       "      <td>1.11</td>\n",
       "      <td>3.73</td>\n",
       "      <td>3.07</td>\n",
       "      <td>82</td>\n",
       "      <td>0.66</td>\n",
       "      <td>0.24</td>\n",
       "      <td>2.07</td>\n",
       "      <td>1.93</td>\n",
       "      <td>0.78</td>\n",
       "      <td>0.42</td>\n",
       "      <td>3.79</td>\n",
       "      <td>2.35</td>\n",
       "      <td>61.90</td>\n",
       "      <td>1.44</td>\n",
       "      <td>38.10</td>\n",
       "      <td>0.24</td>\n",
       "      <td>3.79</td>\n",
       "      <td>72.00</td>\n",
       "      <td>0.24</td>\n",
       "      <td>1.80</td>\n",
       "      <td>1.56</td>\n",
       "      <td>0.59</td>\n",
       "      <td>0.78</td>\n",
       "      <td>16.00</td>\n",
       "      <td>2.29</td>\n",
       "      <td>44</td>\n",
       "      <td>100</td>\n",
       "      <td>73</td>\n",
       "      <td>52</td>\n",
       "      <td>44</td>\n",
       "      <td>30</td>\n",
       "      <td>27</td>\n",
       "      <td>42</td>\n",
       "      <td>54</td>\n",
       "      <td>42</td>\n",
       "      <td>43</td>\n",
       "      <td>20</td>\n",
       "      <td>5</td>\n",
       "      <td>23</td>\n",
       "      <td>67</td>\n",
       "    </tr>\n",
       "    <tr>\n",
       "      <th>2</th>\n",
       "      <td>11023165</td>\n",
       "      <td>Amir Rrahmani</td>\n",
       "      <td>D (C)</td>\n",
       "      <td>29</td>\n",
       "      <td>192 cm</td>\n",
       "      <td>83 kg</td>\n",
       "      <td>nEU</td>\n",
       "      <td>Napoli</td>\n",
       "      <td>Serie A TIM</td>\n",
       "      <td>KOS (ALB)</td>\n",
       "      <td>-</td>\n",
       "      <td>-</td>\n",
       "      <td>Scouting Required</td>\n",
       "      <td>$66,000 p/w</td>\n",
       "      <td>$46M - $57M</td>\n",
       "      <td>-</td>\n",
       "      <td>Right</td>\n",
       "      <td>19</td>\n",
       "      <td>1552</td>\n",
       "      <td>6.85</td>\n",
       "      <td>0</td>\n",
       "      <td>81.68</td>\n",
       "      <td>2</td>\n",
       "      <td>64.19</td>\n",
       "      <td>57.70</td>\n",
       "      <td>90</td>\n",
       "      <td>6.55</td>\n",
       "      <td>10.21</td>\n",
       "      <td>0.23</td>\n",
       "      <td>0.36</td>\n",
       "      <td>0.23</td>\n",
       "      <td>0.36</td>\n",
       "      <td>1.45</td>\n",
       "      <td>0.93</td>\n",
       "      <td>64</td>\n",
       "      <td>0.52</td>\n",
       "      <td>0.00</td>\n",
       "      <td>2.27</td>\n",
       "      <td>1.62</td>\n",
       "      <td>0.46</td>\n",
       "      <td>0.23</td>\n",
       "      <td>7.94</td>\n",
       "      <td>5.86</td>\n",
       "      <td>73.72</td>\n",
       "      <td>2.09</td>\n",
       "      <td>26.28</td>\n",
       "      <td>0.64</td>\n",
       "      <td>7.94</td>\n",
       "      <td>72.22</td>\n",
       "      <td>0.17</td>\n",
       "      <td>0.64</td>\n",
       "      <td>1.10</td>\n",
       "      <td>0.55</td>\n",
       "      <td>0.23</td>\n",
       "      <td>14.85</td>\n",
       "      <td>0.93</td>\n",
       "      <td>32</td>\n",
       "      <td>100</td>\n",
       "      <td>3</td>\n",
       "      <td>35</td>\n",
       "      <td>44</td>\n",
       "      <td>64</td>\n",
       "      <td>79</td>\n",
       "      <td>54</td>\n",
       "      <td>68</td>\n",
       "      <td>62</td>\n",
       "      <td>75</td>\n",
       "      <td>84</td>\n",
       "      <td>64</td>\n",
       "      <td>11</td>\n",
       "      <td>32</td>\n",
       "    </tr>\n",
       "    <tr>\n",
       "      <th>3</th>\n",
       "      <td>12038706</td>\n",
       "      <td>Ramy Bensebaïni</td>\n",
       "      <td>D (LC), WB (L)</td>\n",
       "      <td>28</td>\n",
       "      <td>187 cm</td>\n",
       "      <td>85 kg</td>\n",
       "      <td>-</td>\n",
       "      <td>Borussia Dortmund</td>\n",
       "      <td>Bundesliga</td>\n",
       "      <td>ALG</td>\n",
       "      <td>-</td>\n",
       "      <td>-</td>\n",
       "      <td>Scouting Required</td>\n",
       "      <td>$125,000 p/w</td>\n",
       "      <td>$36M - $57M</td>\n",
       "      <td>-</td>\n",
       "      <td>Left</td>\n",
       "      <td>12</td>\n",
       "      <td>1058</td>\n",
       "      <td>7.04</td>\n",
       "      <td>8</td>\n",
       "      <td>52.90</td>\n",
       "      <td>3</td>\n",
       "      <td>59.80</td>\n",
       "      <td>53.17</td>\n",
       "      <td>89</td>\n",
       "      <td>6.21</td>\n",
       "      <td>10.38</td>\n",
       "      <td>1.45</td>\n",
       "      <td>2.42</td>\n",
       "      <td>1.19</td>\n",
       "      <td>1.99</td>\n",
       "      <td>3.23</td>\n",
       "      <td>2.47</td>\n",
       "      <td>76</td>\n",
       "      <td>0.77</td>\n",
       "      <td>0.09</td>\n",
       "      <td>2.00</td>\n",
       "      <td>2.30</td>\n",
       "      <td>0.94</td>\n",
       "      <td>0.34</td>\n",
       "      <td>8.51</td>\n",
       "      <td>6.98</td>\n",
       "      <td>82.00</td>\n",
       "      <td>1.53</td>\n",
       "      <td>18.00</td>\n",
       "      <td>1.19</td>\n",
       "      <td>8.51</td>\n",
       "      <td>80.43</td>\n",
       "      <td>1.02</td>\n",
       "      <td>1.62</td>\n",
       "      <td>0.51</td>\n",
       "      <td>2.33</td>\n",
       "      <td>2.21</td>\n",
       "      <td>24.11</td>\n",
       "      <td>4.76</td>\n",
       "      <td>96</td>\n",
       "      <td>100</td>\n",
       "      <td>69</td>\n",
       "      <td>99</td>\n",
       "      <td>99</td>\n",
       "      <td>96</td>\n",
       "      <td>97</td>\n",
       "      <td>98</td>\n",
       "      <td>99</td>\n",
       "      <td>99</td>\n",
       "      <td>98</td>\n",
       "      <td>90</td>\n",
       "      <td>94</td>\n",
       "      <td>96</td>\n",
       "      <td>96</td>\n",
       "    </tr>\n",
       "    <tr>\n",
       "      <th>4</th>\n",
       "      <td>12078947</td>\n",
       "      <td>Wilfried Singo</td>\n",
       "      <td>D (RC), WB/M (R)</td>\n",
       "      <td>23</td>\n",
       "      <td>190 cm</td>\n",
       "      <td>79 kg</td>\n",
       "      <td>-</td>\n",
       "      <td>Monaco</td>\n",
       "      <td>Ligue 1 Uber Eats</td>\n",
       "      <td>CIV</td>\n",
       "      <td>-</td>\n",
       "      <td>-</td>\n",
       "      <td>Scouting Required</td>\n",
       "      <td>$33,000 p/w</td>\n",
       "      <td>$26M - $34M</td>\n",
       "      <td>-</td>\n",
       "      <td>Right</td>\n",
       "      <td>15</td>\n",
       "      <td>1312</td>\n",
       "      <td>7.32</td>\n",
       "      <td>0</td>\n",
       "      <td>87.47</td>\n",
       "      <td>4</td>\n",
       "      <td>72.03</td>\n",
       "      <td>67.16</td>\n",
       "      <td>93</td>\n",
       "      <td>5.69</td>\n",
       "      <td>7.90</td>\n",
       "      <td>1.10</td>\n",
       "      <td>1.52</td>\n",
       "      <td>1.10</td>\n",
       "      <td>1.52</td>\n",
       "      <td>2.47</td>\n",
       "      <td>2.13</td>\n",
       "      <td>86</td>\n",
       "      <td>0.34</td>\n",
       "      <td>0.00</td>\n",
       "      <td>1.57</td>\n",
       "      <td>2.74</td>\n",
       "      <td>0.41</td>\n",
       "      <td>0.21</td>\n",
       "      <td>5.42</td>\n",
       "      <td>3.36</td>\n",
       "      <td>62.03</td>\n",
       "      <td>2.06</td>\n",
       "      <td>37.97</td>\n",
       "      <td>0.41</td>\n",
       "      <td>5.42</td>\n",
       "      <td>69.57</td>\n",
       "      <td>1.10</td>\n",
       "      <td>1.58</td>\n",
       "      <td>1.17</td>\n",
       "      <td>3.25</td>\n",
       "      <td>2.13</td>\n",
       "      <td>14.57</td>\n",
       "      <td>10.02</td>\n",
       "      <td>99</td>\n",
       "      <td>100</td>\n",
       "      <td>59</td>\n",
       "      <td>99</td>\n",
       "      <td>98</td>\n",
       "      <td>98</td>\n",
       "      <td>99</td>\n",
       "      <td>99</td>\n",
       "      <td>98</td>\n",
       "      <td>98</td>\n",
       "      <td>98</td>\n",
       "      <td>91</td>\n",
       "      <td>20</td>\n",
       "      <td>20</td>\n",
       "      <td>99</td>\n",
       "    </tr>\n",
       "  </tbody>\n",
       "</table>\n",
       "</div>"
      ],
      "text/plain": [
       "         id             name          position  age  height weight  inf  \\\n",
       "0    168288    Robin Pröpper             D (C)   30  190 cm  80 kg    -   \n",
       "1    211232    Djéné Dakonam        D (RC), DM   31  178 cm  71 kg    -   \n",
       "2  11023165    Amir Rrahmani             D (C)   29  192 cm  83 kg  nEU   \n",
       "3  12038706  Ramy Bensebaïni    D (LC), WB (L)   28  187 cm  85 kg    -   \n",
       "4  12078947   Wilfried Singo  D (RC), WB/M (R)   23  190 cm  79 kg    -   \n",
       "\n",
       "                club           division nationality home_grown personality  \\\n",
       "0          FC Twente         Eredivisie         NED          -           -   \n",
       "1             Getafe   LaLiga EA Sports   TOG (BEN)          -           -   \n",
       "2             Napoli        Serie A TIM   KOS (ALB)          -           -   \n",
       "3  Borussia Dortmund         Bundesliga         ALG          -           -   \n",
       "4             Monaco  Ligue 1 Uber Eats         CIV          -           -   \n",
       "\n",
       "      media_handling          wage  transfer_value asking_price  \\\n",
       "0  Scouting Required    $2,700 p/w   $850K - $8.4M            -   \n",
       "1  Scouting Required   $20,500 p/w  $150K - $10.5M            -   \n",
       "2  Scouting Required   $66,000 p/w     $46M - $57M            -   \n",
       "3  Scouting Required  $125,000 p/w     $36M - $57M            -   \n",
       "4  Scouting Required   $33,000 p/w     $26M - $34M            -   \n",
       "\n",
       "  preferred_foot  starts  minutes_played  average_rating  sub_appearances  \\\n",
       "0          Right      17            1575            6.69                1   \n",
       "1          Right      17            1496            6.56                0   \n",
       "2          Right      19            1552            6.85                0   \n",
       "3           Left      12            1058            7.04                8   \n",
       "4          Right      15            1312            7.32                0   \n",
       "\n",
       "   minutes/game  index  passes_attempted/90  passes_completed/90  \\\n",
       "0         87.50      0                56.17                47.20   \n",
       "1         88.00      1                43.38                38.08   \n",
       "2         81.68      2                64.19                57.70   \n",
       "3         52.90      3                59.80                53.17   \n",
       "4         87.47      4                72.03                67.16   \n",
       "\n",
       "   pass_completion_%  progressive_passes/90  progressive_pass_rate  \\\n",
       "0                 84                   4.69                   8.34   \n",
       "1                 88                   4.03                   9.29   \n",
       "2                 90                   6.55                  10.21   \n",
       "3                 89                   6.21                  10.38   \n",
       "4                 93                   5.69                   7.90   \n",
       "\n",
       "   key_passes/90  key_pass_%  open_play_key_passes/90  open_play_key_pass_%  \\\n",
       "0           0.23        0.41                     0.23                  0.41   \n",
       "1           0.48        1.11                     0.48                  1.11   \n",
       "2           0.23        0.36                     0.23                  0.36   \n",
       "3           1.45        2.42                     1.19                  1.99   \n",
       "4           1.10        1.52                     1.10                  1.52   \n",
       "\n",
       "   tackles_attempted/90  tackles_completed/90  tackle_completion_%  \\\n",
       "0                  0.86                  0.57                   67   \n",
       "1                  3.73                  3.07                   82   \n",
       "2                  1.45                  0.93                   64   \n",
       "3                  3.23                  2.47                   76   \n",
       "4                  2.47                  2.13                   86   \n",
       "\n",
       "   tackles_failed/90  key_tackles/90  tackle_quality  interceptions/90  \\\n",
       "0               0.29            0.17            1.50              1.09   \n",
       "1               0.66            0.24            2.07              1.93   \n",
       "2               0.52            0.00            2.27              1.62   \n",
       "3               0.77            0.09            2.00              2.30   \n",
       "4               0.34            0.00            1.57              2.74   \n",
       "\n",
       "   blocks/90  shots_blocked/90  headers_attempted/90  headers_won/90  \\\n",
       "0       0.23              0.23                  7.54            4.57   \n",
       "1       0.78              0.42                  3.79            2.35   \n",
       "2       0.46              0.23                  7.94            5.86   \n",
       "3       0.94              0.34                  8.51            6.98   \n",
       "4       0.41              0.21                  5.42            3.36   \n",
       "\n",
       "   headers_won_%  headers_lost/90  headers_lost_%  key_headers/90  \\\n",
       "0          60.61             2.97           39.39            1.03   \n",
       "1          61.90             1.44           38.10            0.24   \n",
       "2          73.72             2.09           26.28            0.64   \n",
       "3          82.00             1.53           18.00            1.19   \n",
       "4          62.03             2.06           37.97            0.41   \n",
       "\n",
       "   aerial_challenges_attempted/90  duels_win_%  fouls_won/90  \\\n",
       "0                            7.54        61.22          0.00   \n",
       "1                            3.79        72.00          0.24   \n",
       "2                            7.94        72.22          0.17   \n",
       "3                            8.51        80.43          1.02   \n",
       "4                            5.42        69.57          1.10   \n",
       "\n",
       "   fouls_committed/90  clearances/90  attacking_actions/90  \\\n",
       "0                0.57           1.71                  0.11   \n",
       "1                1.80           1.56                  0.59   \n",
       "2                0.64           1.10                  0.55   \n",
       "3                1.62           0.51                  2.33   \n",
       "4                1.58           1.17                  3.25   \n",
       "\n",
       "   creative_actions/90  defensive_actions/90  excitement_factor/90  \\\n",
       "0                 0.29                 17.69                  0.74   \n",
       "1                 0.78                 16.00                  2.29   \n",
       "2                 0.23                 14.85                  0.93   \n",
       "3                 2.21                 24.11                  4.76   \n",
       "4                 2.13                 14.57                 10.02   \n",
       "\n",
       "   general_performance  goalkeeping  defensive_defender  creative_defender  \\\n",
       "0                    4          100                   1                  3   \n",
       "1                   44          100                  73                 52   \n",
       "2                   32          100                   3                 35   \n",
       "3                   96          100                  69                 99   \n",
       "4                   99          100                  59                 99   \n",
       "\n",
       "   attacking_defender  creative_midfielder  attacking_midfielder  \\\n",
       "0                  11                    6                     4   \n",
       "1                  44                   30                    27   \n",
       "2                  44                   64                    79   \n",
       "3                  99                   96                    97   \n",
       "4                  98                   98                    99   \n",
       "\n",
       "   creative_winger  attacking_winger  creative_forward  attacking_forward  \\\n",
       "0                5                 7                12                  9   \n",
       "1               42                54                42                 43   \n",
       "2               54                68                62                 75   \n",
       "3               98                99                99                 98   \n",
       "4               99                98                98                 98   \n",
       "\n",
       "   finisher  aerial_threat  reader  assister  \n",
       "0        15             73      13        16  \n",
       "1        20              5      23        67  \n",
       "2        84             64      11        32  \n",
       "3        90             94      96        96  \n",
       "4        91             20      20        99  "
      ]
     },
     "execution_count": 3,
     "metadata": {},
     "output_type": "execute_result"
    }
   ],
   "source": [
    "df_players.head()"
   ]
  },
  {
   "cell_type": "code",
   "execution_count": 26,
   "id": "736f536a",
   "metadata": {},
   "outputs": [],
   "source": [
    "def scatter_plot(df, x_metric, y_metric, z_metric, \n",
    "                 title, show_color_bar=False): \n",
    "    # Create plotly figure\n",
    "    fig = px.scatter(\n",
    "        df,\n",
    "        x=x_metric,\n",
    "        y=y_metric,\n",
    "        color=z_metric,\n",
    "        text='name',\n",
    "        color_continuous_scale='RdYlGn',\n",
    "        labels={z_metric: f'Color Scale ({z_metric})'},\n",
    "        title=title,\n",
    "        width=1200, \n",
    "        height=700    \n",
    "    )\n",
    "\n",
    "    # Format traces\n",
    "    fig.update_traces(marker=dict(size=10), \n",
    "                    textposition='top center',\n",
    "                    textfont=dict(size=10),\n",
    "                    hovertemplate=(\n",
    "                        \"<b>%{text}</b><br><br>\" +\n",
    "                        f\"{x_metric}: \" + \"%{x}<br>\" +\n",
    "                        f\"{y_metric}: \" + \"%{y}<br>\" +\n",
    "                        f\"{z_metric}: \" + \"%{marker.color}<extra></extra>\"\n",
    "                    )\n",
    "    )\n",
    "\n",
    "    fig.update_layout(\n",
    "        title={\n",
    "            'text': f'{title} ({len(df): ,.0f})',\n",
    "            'x': 0.5,\n",
    "            'xanchor': 'center'\n",
    "        },\n",
    "        coloraxis_colorbar=dict(title=z_metric),\n",
    "        coloraxis_showscale=show_color_bar,  # Hides the color bar\n",
    "        plot_bgcolor='white',\n",
    "        paper_bgcolor='white',\n",
    "        xaxis=dict(showgrid=True, gridcolor='lightgray', zeroline=False),\n",
    "        yaxis=dict(showgrid=True, gridcolor='lightgray', zeroline=False)\n",
    "    )\n",
    "\n",
    "    fig.show()\n"
   ]
  },
  {
   "cell_type": "code",
   "execution_count": 34,
   "id": "a312cf0a",
   "metadata": {},
   "outputs": [
    {
     "data": {
      "application/vnd.plotly.v1+json": {
       "config": {
        "plotlyServerURL": "https://plot.ly"
       },
       "data": [
        {
         "hovertemplate": "<b>%{text}</b><br><br>passes_attempted/90: %{x}<br>progressive_passes/90: %{y}<br>headers_won_%: %{marker.color}<extra></extra>",
         "legendgroup": "",
         "marker": {
          "color": {
           "bdata": "pHA9CtcDT0DhehSuR9FSQD0K16Nw7VJAexSuR+GqUECPwvUoXI9SQLgehetRyFBA16NwPQqHU0D2KFyPwqVRQM3MzMzM7FFASOF6FK4XUkBxPQrXo5BTQOxRuB6FO1JAUrgehetRUEAUrkfheuRRQOF6FK5HoVBAmpmZmZnpUEAfhetRuI5TQDMzMzMzU1JAhetRuB71UECkcD0K15NTQHsUrkfhelNArkfhehQOUUAAAAAAAIBRQOF6FK5H4U9AUrgehetRUkCPwvUoXM9SQI/C9ShcP1JASOF6FK53UEAzMzMzMzNPQDMzMzMzg1NAhetRuB5FVEAzMzMzM0NRQGZmZmZmJlJAZmZmZmbmUkB7FK5H4XpTQKRwPQrXA1NAMzMzMzNjU0DNzMzMzKxPQFK4HoXrcVNAuB6F61HoUEBSuB6F63FTQKRwPQrXw1BACtejcD16UEAUrkfheiRQQOxRuB6F61JAXI/C9Sg8UEAzMzMzM2NSQAAAAAAAgFFASOF6FK43UUA9CtejcC1QQBSuR+F6hFJAPQrXo3DtUkB7FK5H4TpSQDMzMzMzM1NASOF6FK5XU0DhehSuR4FPQKRwPQrXk1FAAAAAAABAUUDhehSuR8FPQArXo3A9ulBApHA9CtfzUkBcj8L1KGxQQKRwPQrX01BAmpmZmZm5U0ApXI/C9ZhSQOF6FK5HsVNAXI/C9SiMUkCuR+F6FI5TQKRwPQrXs1FACtejcD26UED2KFyPwgVSQD0K16NwrVJAhetRuB7FTkCuR+F6FD5SQB+F61G4DlBAuB6F61EYTkDsUbgehdtRQArXo3A9ylBAexSuR+GaUEC4HoXrUdhSQDMzMzMz805AUrgehevBUEC4HoXrUXhRQK5H4XoUDlFAj8L1KFyfUUCuR+F6FA5RQIXrUbge5VJAH4XrUbjuU0AUrkfhehRTQEjhehSul1FAKVyPwvUYVEDXo3A9CidUQB+F61G4vk5ArkfhehS+UUAfhetRuF5PQB+F61G4Pk5A4XoUrkchTkBmZmZmZjZUQD0K16NwvVBA7FG4HoVrUkB7FK5H4apQQM3MzMzMTFJAexSuR+E6U0DD9Shcj7JTQOF6FK5HkVZAFK5H4Xp0VECamZmZmSlSQI/C9Shc31JAmpmZmZmJU0AUrkfhehRRQIXrUbgeNVBApHA9CtdTUUBcj8L1KFxSQHE9CtejsE9ArkfhehS+UUC4HoXrUZhTQBSuR+F6VE5Aj8L1KFzPUECuR+F6FJ5UQKRwPQrX01JA4XoUrkehT0ApXI/C9ShTQOxRuB6FK1VAUrgehevhUkD2KFyPwgVSQJqZmZmZ+VBA",
           "dtype": "f8"
          },
          "coloraxis": "coloraxis",
          "size": 10,
          "symbol": "circle"
         },
         "mode": "markers+text",
         "name": "",
         "orientation": "v",
         "showlegend": false,
         "text": [
          "Wilfried Singo",
          "Formose Mendy",
          "Abakar Sylla",
          "Edmond Tapsoba",
          "Montassar Talbi",
          "Cristian Romero",
          "David Martínez",
          "Lisandro Martínez",
          "Facundo Medina",
          "Juan Foyth",
          "Leonardo Balerdi",
          "Elías Calderón",
          "Nicolás Paz",
          "Santiago Ramos Mingo",
          "Facundo Giacopuzzi",
          "Santiago Laquidain",
          "Nicolás Valentini",
          "Zaid Romero",
          "Pablo Minissale",
          "Dayot Upamecano",
          "Emanuel Aiwu",
          "Arthur Theate",
          "Adryelson",
          "Diego Costa",
          "Tuta",
          "João Victor",
          "Vitão",
          "Morato",
          "Natan",
          "Hrvoje Smolčić",
          "Josip Šutalo",
          "Joško Gvardiol",
          "Mads Bech Sørensen",
          "Alexander Busch",
          "Ben Cabango",
          "Daniel Ballard",
          "Jacob Greaves",
          "Di'Shon Bernard",
          "Taylor Harwood-Bellis",
          "Bashir Humphreys",
          "Levi Colwill",
          "Odel Offiah",
          "James Justin",
          "Ben Wilmot",
          "Harry Darling",
          "Nathan Wood",
          "Danilho Doekhi",
          "Mats Knoester",
          "Matthijs de Ligt",
          "Jordan Teze",
          "Justin Hoogma",
          "Pascal Struijk",
          "Perr Schuurs",
          "Sam Beukema",
          "Jan Paul van Hecke",
          "Thomas Beelen",
          "Enzo Cornelisse",
          "Micky van de Ven",
          "Nicolò Casale",
          "Martin Erlić",
          "Alessandro Bastoni",
          "Luca Ranieri",
          "Alessandro Buongiorno",
          "Takehiro Tomiyasu",
          "Jules Koundé",
          "Ibrahima Konaté",
          "Dan-Axel Zagadou",
          "Jean-Clair Todibo",
          "Bafodé Diakité",
          "Logan Costa",
          "William Saliba",
          "Moussa Diarra",
          "Pierre Kalulu",
          "Kiliann Sildillia",
          "Castello Lukeba",
          "Alidu Seidu",
          "Kristoffer Ajer",
          "Leo Østigård",
          "Ryan Porteous",
          "Javi Hernández",
          "Jorge Cuenca",
          "Dani Vivian",
          "Víctor Chust",
          "Mohammed Salisu",
          "Mika Mármol",
          "Ozan Kabak",
          "Jhon Lucumí",
          "Nicolás Hernández",
          "Ronald Araujo",
          "Jota",
          "Bernardo Vital",
          "Gonçalo Inácio",
          "António Silva",
          "Lucas Perrin",
          "Leonardo Realpe",
          "Willian Pacho",
          "Marco Friedl",
          "Kevin Danso",
          "Amos Pieper",
          "Paul Jaeckel",
          "Josip Stanišić",
          "Armel Bella-Kotchap",
          "Hugo Andersson",
          "Odilon Kossounou",
          "Isaak Touré",
          "Willy Kambwala",
          "Nicolás Romero",
          "Rav van den Berg",
          "Cristhian Mosquera",
          "Callum Doyle",
          "Serdar Saatçı",
          "Chadi Riad",
          "Arnau Martínez",
          "Sadik Fofana",
          "Anselmo García Mac Nulty",
          "Joaquín Pombo",
          "Nicolás Fernández",
          "Jorrel Hato",
          "Jeremías James Griffiths",
          "Jeanuël Belocian",
          "Robert Renan",
          "Ousmane Diomande",
          "Tobias Slotsager",
          "Leny Yoro",
          "Stijn Bultman",
          "Santiago Quiros"
         ],
         "textfont": {
          "size": 10
         },
         "textposition": "top center",
         "type": "scatter",
         "x": {
          "bdata": "UrgehesBUkAUrkfhegRRQOxRuB6FS1NASOF6FK6HVEC4HoXrUfhLQArXo3A9qk9Aw/UoXI/CT0CamZmZmZlNQMP1KFyP4k5AmpmZmZkJUEBI4XoUrudQQAAAAAAAgFNAcT0K16MQSkAK16NwPVpVQArXo3A9ikxAPQrXo3DdTEBmZmZmZtZQQEjhehSut1FAcT0K16PwS0A9CtejcB1UQGZmZmZmBlFAXI/C9SjsUEA9CtejcH1TQAAAAAAAwE5AZmZmZmbGUUAK16NwPZpSQEjhehSuV1FAXI/C9Sj8S0BxPQrXoyBRQKRwPQrXs1FAKVyPwvUIUUA9CtejcL1VQB+F61G4PklAPQrXo3DdSkCkcD0K11NUQHE9Ctej0FBAmpmZmZmZTkDhehSuR4FTQHsUrkfhOlVAmpmZmZm5U0DhehSuR0FUQEjhehSu501ACtejcD0KUkCuR+F6FA5MQEjhehSut1NAuB6F61FYVUApXI/C9WhIQIXrUbgexUxAZmZmZmZmVEBcj8L1KIxVQNejcD0K51JAcT0K16MwUkCkcD0K1+NOQMP1KFyPYlNACtejcD0aU0CkcD0K11NRQFK4HoXrMVBAAAAAAADATkBmZmZmZnZVQHE9CtejEExA7FG4HoXLUUCamZmZmXlTQB+F61G4Xk9Aw/UoXI+iUECkcD0K19NVQM3MzMzM3FRA9ihcj8J1TkC4HoXrUfhPQGZmZmZm5lFAZmZmZmamS0BSuB6F62FTQB+F61G4/kpAZmZmZma2UUBmZmZmZiZNQB+F61G4XlJAMzMzMzPzTEBSuB6F65FNQHsUrkfhClBAXI/C9SjcS0AUrkfhehROQI/C9Shcv1BAAAAAAAAwUkAzMzMzMxNQQBSuR+F6FFRAj8L1KFzPVkBcj8L1KNxQQGZmZmZmRlBA16NwPQqXS0BI4XoUrmdXQGZmZmZmpkpAPQrXo3C9UEDD9Shcj8JTQIXrUbgexU9AZmZmZmaWU0D2KFyPwrVPQGZmZmZmtlBA9ihcj8J1S0A9CtejcP1NQKRwPQrXY09A16NwPQqnVEB7FK5H4fpTQAAAAAAAkFVAMzMzMzPTUEDNzMzMzKxUQNejcD0Kl01Aw/UoXI/iS0BI4XoUrudKQBSuR+F6RFBAAAAAAACASUCuR+F6FB5TQIXrUbgeBU9AUrgehevhVUC4HoXrUVhOQBSuR+F69EhAAAAAAABAT0CkcD0K12NOQHE9CtejYFFAmpmZmZk5TkBxPQrXo/BOQJqZmZmZeVBAUrgehethUUAfhetRuP5TQK5H4XoUDlRAhetRuB51VEA9CtejcA1VQNejcD0Kd0xA",
          "dtype": "f8"
         },
         "xaxis": "x",
         "y": {
          "bdata": "w/UoXI/CFkDD9Shcj8IZQPYoXI/C9RhAPQrXo3A9GEAAAAAAAAAQQOF6FK5H4RZAUrgehetRFECuR+F6FK4UQI/C9ShcjxFAj8L1KFyPH0DD9Shcj8IVQArXo3A9ChVACtejcD0KEEDsUbgehesRQDMzMzMzMxFAXI/C9ShcEUBmZmZmZmYZQI/C9ShcjxNAXI/C9ShcEUBmZmZmZmYTQFyPwvUoXBFAzczMzMzMGEDNzMzMzMwWQIXrUbgehRFAj8L1KFyPFECuR+F6FK4ZQOF6FK5H4RVApHA9CtejGUAK16NwPQobQFK4HoXrURZAw/UoXI/CG0BSuB6F69EiQM3MzMzMzBNA16NwPQrXEECuR+F6FK4bQD0K16NwPRNA4XoUrkfhEkCPwvUoXI8UQHsUrkfheiJAuB6F61G4FEDNzMzMzMwZQFK4HoXrURRAmpmZmZkZJEDXo3A9CtcSQNejcD0K1xJAmpmZmZmZHUCkcD0K16MRQOxRuB6F6xZAzczMzMzME0ApXI/C9SgXQOF6FK5H4RRAexSuR+F6GUAUrkfhehQeQBSuR+F6FBFASOF6FK5HEkCkcD0K16MYQOF6FK5H4RRAAAAAAAAAFEDD9Shcj8IWQAAAAAAAABBAUrgehetRF0ApXI/C9SgXQIXrUbgehRJAPQrXo3A9GkCamZmZmZkZQOxRuB6F6yJArkfhehSuEEDD9Shcj8IVQB+F61G4HhRAZmZmZmZmEkA9CtejcD0XQHsUrkfhehtAhetRuB6FHEAK16NwPQoYQEjhehSuRxdAAAAAAAAAFEAK16NwPQoRQHE9CtejcBlAexSuR+F6E0AzMzMzMzMYQHE9CtejcBVAj8L1KFyPGEDNzMzMzMwQQOF6FK5H4RVA9ihcj8L1FEAzMzMzMzMWQHE9CtejcB5APQrXo3A9FUDD9Shcj8IZQD0K16NwPRBAH4XrUbgeF0CF61G4HoUYQOxRuB6F6x1AuB6F61G4EEBSuB6F61EWQNejcD0K1xJAMzMzMzMzF0AUrkfhehQRQFK4HoXrURZA16NwPQrXH0DXo3A9CtcZQDMzMzMzMxJAXI/C9ShcF0CF61G4HoUYQAAAAAAAABRAKVyPwvUoF0ApXI/C9SgQQClcj8L1KBxAcT0K16NwEECkcD0K16MhQJqZmZmZmRdAmpmZmZmZF0CkcD0K16MfQIXrUbgehRRAPQrXo3A9EUD2KFyPwvUSQAAAAAAAABhAKVyPwvUoG0BSuB6F61ETQK5H4XoUrhlAuB6F61G4EkAAAAAAAAAfQBSuR+F6FBRAhetRuB6FE0CamZmZmZkcQFyPwvUoXBFA",
          "dtype": "f8"
         },
         "yaxis": "y"
        }
       ],
       "layout": {
        "coloraxis": {
         "colorbar": {
          "title": {
           "text": "headers_won_%"
          }
         },
         "colorscale": [
          [
           0,
           "rgb(165,0,38)"
          ],
          [
           0.1,
           "rgb(215,48,39)"
          ],
          [
           0.2,
           "rgb(244,109,67)"
          ],
          [
           0.3,
           "rgb(253,174,97)"
          ],
          [
           0.4,
           "rgb(254,224,139)"
          ],
          [
           0.5,
           "rgb(255,255,191)"
          ],
          [
           0.6,
           "rgb(217,239,139)"
          ],
          [
           0.7,
           "rgb(166,217,106)"
          ],
          [
           0.8,
           "rgb(102,189,99)"
          ],
          [
           0.9,
           "rgb(26,152,80)"
          ],
          [
           1,
           "rgb(0,104,55)"
          ]
         ],
         "showscale": false
        },
        "height": 700,
        "legend": {
         "tracegroupgap": 0
        },
        "paper_bgcolor": "white",
        "plot_bgcolor": "white",
        "template": {
         "data": {
          "bar": [
           {
            "error_x": {
             "color": "#2a3f5f"
            },
            "error_y": {
             "color": "#2a3f5f"
            },
            "marker": {
             "line": {
              "color": "#E5ECF6",
              "width": 0.5
             },
             "pattern": {
              "fillmode": "overlay",
              "size": 10,
              "solidity": 0.2
             }
            },
            "type": "bar"
           }
          ],
          "barpolar": [
           {
            "marker": {
             "line": {
              "color": "#E5ECF6",
              "width": 0.5
             },
             "pattern": {
              "fillmode": "overlay",
              "size": 10,
              "solidity": 0.2
             }
            },
            "type": "barpolar"
           }
          ],
          "carpet": [
           {
            "aaxis": {
             "endlinecolor": "#2a3f5f",
             "gridcolor": "white",
             "linecolor": "white",
             "minorgridcolor": "white",
             "startlinecolor": "#2a3f5f"
            },
            "baxis": {
             "endlinecolor": "#2a3f5f",
             "gridcolor": "white",
             "linecolor": "white",
             "minorgridcolor": "white",
             "startlinecolor": "#2a3f5f"
            },
            "type": "carpet"
           }
          ],
          "choropleth": [
           {
            "colorbar": {
             "outlinewidth": 0,
             "ticks": ""
            },
            "type": "choropleth"
           }
          ],
          "contour": [
           {
            "colorbar": {
             "outlinewidth": 0,
             "ticks": ""
            },
            "colorscale": [
             [
              0,
              "#0d0887"
             ],
             [
              0.1111111111111111,
              "#46039f"
             ],
             [
              0.2222222222222222,
              "#7201a8"
             ],
             [
              0.3333333333333333,
              "#9c179e"
             ],
             [
              0.4444444444444444,
              "#bd3786"
             ],
             [
              0.5555555555555556,
              "#d8576b"
             ],
             [
              0.6666666666666666,
              "#ed7953"
             ],
             [
              0.7777777777777778,
              "#fb9f3a"
             ],
             [
              0.8888888888888888,
              "#fdca26"
             ],
             [
              1,
              "#f0f921"
             ]
            ],
            "type": "contour"
           }
          ],
          "contourcarpet": [
           {
            "colorbar": {
             "outlinewidth": 0,
             "ticks": ""
            },
            "type": "contourcarpet"
           }
          ],
          "heatmap": [
           {
            "colorbar": {
             "outlinewidth": 0,
             "ticks": ""
            },
            "colorscale": [
             [
              0,
              "#0d0887"
             ],
             [
              0.1111111111111111,
              "#46039f"
             ],
             [
              0.2222222222222222,
              "#7201a8"
             ],
             [
              0.3333333333333333,
              "#9c179e"
             ],
             [
              0.4444444444444444,
              "#bd3786"
             ],
             [
              0.5555555555555556,
              "#d8576b"
             ],
             [
              0.6666666666666666,
              "#ed7953"
             ],
             [
              0.7777777777777778,
              "#fb9f3a"
             ],
             [
              0.8888888888888888,
              "#fdca26"
             ],
             [
              1,
              "#f0f921"
             ]
            ],
            "type": "heatmap"
           }
          ],
          "histogram": [
           {
            "marker": {
             "pattern": {
              "fillmode": "overlay",
              "size": 10,
              "solidity": 0.2
             }
            },
            "type": "histogram"
           }
          ],
          "histogram2d": [
           {
            "colorbar": {
             "outlinewidth": 0,
             "ticks": ""
            },
            "colorscale": [
             [
              0,
              "#0d0887"
             ],
             [
              0.1111111111111111,
              "#46039f"
             ],
             [
              0.2222222222222222,
              "#7201a8"
             ],
             [
              0.3333333333333333,
              "#9c179e"
             ],
             [
              0.4444444444444444,
              "#bd3786"
             ],
             [
              0.5555555555555556,
              "#d8576b"
             ],
             [
              0.6666666666666666,
              "#ed7953"
             ],
             [
              0.7777777777777778,
              "#fb9f3a"
             ],
             [
              0.8888888888888888,
              "#fdca26"
             ],
             [
              1,
              "#f0f921"
             ]
            ],
            "type": "histogram2d"
           }
          ],
          "histogram2dcontour": [
           {
            "colorbar": {
             "outlinewidth": 0,
             "ticks": ""
            },
            "colorscale": [
             [
              0,
              "#0d0887"
             ],
             [
              0.1111111111111111,
              "#46039f"
             ],
             [
              0.2222222222222222,
              "#7201a8"
             ],
             [
              0.3333333333333333,
              "#9c179e"
             ],
             [
              0.4444444444444444,
              "#bd3786"
             ],
             [
              0.5555555555555556,
              "#d8576b"
             ],
             [
              0.6666666666666666,
              "#ed7953"
             ],
             [
              0.7777777777777778,
              "#fb9f3a"
             ],
             [
              0.8888888888888888,
              "#fdca26"
             ],
             [
              1,
              "#f0f921"
             ]
            ],
            "type": "histogram2dcontour"
           }
          ],
          "mesh3d": [
           {
            "colorbar": {
             "outlinewidth": 0,
             "ticks": ""
            },
            "type": "mesh3d"
           }
          ],
          "parcoords": [
           {
            "line": {
             "colorbar": {
              "outlinewidth": 0,
              "ticks": ""
             }
            },
            "type": "parcoords"
           }
          ],
          "pie": [
           {
            "automargin": true,
            "type": "pie"
           }
          ],
          "scatter": [
           {
            "fillpattern": {
             "fillmode": "overlay",
             "size": 10,
             "solidity": 0.2
            },
            "type": "scatter"
           }
          ],
          "scatter3d": [
           {
            "line": {
             "colorbar": {
              "outlinewidth": 0,
              "ticks": ""
             }
            },
            "marker": {
             "colorbar": {
              "outlinewidth": 0,
              "ticks": ""
             }
            },
            "type": "scatter3d"
           }
          ],
          "scattercarpet": [
           {
            "marker": {
             "colorbar": {
              "outlinewidth": 0,
              "ticks": ""
             }
            },
            "type": "scattercarpet"
           }
          ],
          "scattergeo": [
           {
            "marker": {
             "colorbar": {
              "outlinewidth": 0,
              "ticks": ""
             }
            },
            "type": "scattergeo"
           }
          ],
          "scattergl": [
           {
            "marker": {
             "colorbar": {
              "outlinewidth": 0,
              "ticks": ""
             }
            },
            "type": "scattergl"
           }
          ],
          "scattermap": [
           {
            "marker": {
             "colorbar": {
              "outlinewidth": 0,
              "ticks": ""
             }
            },
            "type": "scattermap"
           }
          ],
          "scattermapbox": [
           {
            "marker": {
             "colorbar": {
              "outlinewidth": 0,
              "ticks": ""
             }
            },
            "type": "scattermapbox"
           }
          ],
          "scatterpolar": [
           {
            "marker": {
             "colorbar": {
              "outlinewidth": 0,
              "ticks": ""
             }
            },
            "type": "scatterpolar"
           }
          ],
          "scatterpolargl": [
           {
            "marker": {
             "colorbar": {
              "outlinewidth": 0,
              "ticks": ""
             }
            },
            "type": "scatterpolargl"
           }
          ],
          "scatterternary": [
           {
            "marker": {
             "colorbar": {
              "outlinewidth": 0,
              "ticks": ""
             }
            },
            "type": "scatterternary"
           }
          ],
          "surface": [
           {
            "colorbar": {
             "outlinewidth": 0,
             "ticks": ""
            },
            "colorscale": [
             [
              0,
              "#0d0887"
             ],
             [
              0.1111111111111111,
              "#46039f"
             ],
             [
              0.2222222222222222,
              "#7201a8"
             ],
             [
              0.3333333333333333,
              "#9c179e"
             ],
             [
              0.4444444444444444,
              "#bd3786"
             ],
             [
              0.5555555555555556,
              "#d8576b"
             ],
             [
              0.6666666666666666,
              "#ed7953"
             ],
             [
              0.7777777777777778,
              "#fb9f3a"
             ],
             [
              0.8888888888888888,
              "#fdca26"
             ],
             [
              1,
              "#f0f921"
             ]
            ],
            "type": "surface"
           }
          ],
          "table": [
           {
            "cells": {
             "fill": {
              "color": "#EBF0F8"
             },
             "line": {
              "color": "white"
             }
            },
            "header": {
             "fill": {
              "color": "#C8D4E3"
             },
             "line": {
              "color": "white"
             }
            },
            "type": "table"
           }
          ]
         },
         "layout": {
          "annotationdefaults": {
           "arrowcolor": "#2a3f5f",
           "arrowhead": 0,
           "arrowwidth": 1
          },
          "autotypenumbers": "strict",
          "coloraxis": {
           "colorbar": {
            "outlinewidth": 0,
            "ticks": ""
           }
          },
          "colorscale": {
           "diverging": [
            [
             0,
             "#8e0152"
            ],
            [
             0.1,
             "#c51b7d"
            ],
            [
             0.2,
             "#de77ae"
            ],
            [
             0.3,
             "#f1b6da"
            ],
            [
             0.4,
             "#fde0ef"
            ],
            [
             0.5,
             "#f7f7f7"
            ],
            [
             0.6,
             "#e6f5d0"
            ],
            [
             0.7,
             "#b8e186"
            ],
            [
             0.8,
             "#7fbc41"
            ],
            [
             0.9,
             "#4d9221"
            ],
            [
             1,
             "#276419"
            ]
           ],
           "sequential": [
            [
             0,
             "#0d0887"
            ],
            [
             0.1111111111111111,
             "#46039f"
            ],
            [
             0.2222222222222222,
             "#7201a8"
            ],
            [
             0.3333333333333333,
             "#9c179e"
            ],
            [
             0.4444444444444444,
             "#bd3786"
            ],
            [
             0.5555555555555556,
             "#d8576b"
            ],
            [
             0.6666666666666666,
             "#ed7953"
            ],
            [
             0.7777777777777778,
             "#fb9f3a"
            ],
            [
             0.8888888888888888,
             "#fdca26"
            ],
            [
             1,
             "#f0f921"
            ]
           ],
           "sequentialminus": [
            [
             0,
             "#0d0887"
            ],
            [
             0.1111111111111111,
             "#46039f"
            ],
            [
             0.2222222222222222,
             "#7201a8"
            ],
            [
             0.3333333333333333,
             "#9c179e"
            ],
            [
             0.4444444444444444,
             "#bd3786"
            ],
            [
             0.5555555555555556,
             "#d8576b"
            ],
            [
             0.6666666666666666,
             "#ed7953"
            ],
            [
             0.7777777777777778,
             "#fb9f3a"
            ],
            [
             0.8888888888888888,
             "#fdca26"
            ],
            [
             1,
             "#f0f921"
            ]
           ]
          },
          "colorway": [
           "#636efa",
           "#EF553B",
           "#00cc96",
           "#ab63fa",
           "#FFA15A",
           "#19d3f3",
           "#FF6692",
           "#B6E880",
           "#FF97FF",
           "#FECB52"
          ],
          "font": {
           "color": "#2a3f5f"
          },
          "geo": {
           "bgcolor": "white",
           "lakecolor": "white",
           "landcolor": "#E5ECF6",
           "showlakes": true,
           "showland": true,
           "subunitcolor": "white"
          },
          "hoverlabel": {
           "align": "left"
          },
          "hovermode": "closest",
          "mapbox": {
           "style": "light"
          },
          "paper_bgcolor": "white",
          "plot_bgcolor": "#E5ECF6",
          "polar": {
           "angularaxis": {
            "gridcolor": "white",
            "linecolor": "white",
            "ticks": ""
           },
           "bgcolor": "#E5ECF6",
           "radialaxis": {
            "gridcolor": "white",
            "linecolor": "white",
            "ticks": ""
           }
          },
          "scene": {
           "xaxis": {
            "backgroundcolor": "#E5ECF6",
            "gridcolor": "white",
            "gridwidth": 2,
            "linecolor": "white",
            "showbackground": true,
            "ticks": "",
            "zerolinecolor": "white"
           },
           "yaxis": {
            "backgroundcolor": "#E5ECF6",
            "gridcolor": "white",
            "gridwidth": 2,
            "linecolor": "white",
            "showbackground": true,
            "ticks": "",
            "zerolinecolor": "white"
           },
           "zaxis": {
            "backgroundcolor": "#E5ECF6",
            "gridcolor": "white",
            "gridwidth": 2,
            "linecolor": "white",
            "showbackground": true,
            "ticks": "",
            "zerolinecolor": "white"
           }
          },
          "shapedefaults": {
           "line": {
            "color": "#2a3f5f"
           }
          },
          "ternary": {
           "aaxis": {
            "gridcolor": "white",
            "linecolor": "white",
            "ticks": ""
           },
           "baxis": {
            "gridcolor": "white",
            "linecolor": "white",
            "ticks": ""
           },
           "bgcolor": "#E5ECF6",
           "caxis": {
            "gridcolor": "white",
            "linecolor": "white",
            "ticks": ""
           }
          },
          "title": {
           "x": 0.05
          },
          "xaxis": {
           "automargin": true,
           "gridcolor": "white",
           "linecolor": "white",
           "ticks": "",
           "title": {
            "standoff": 15
           },
           "zerolinecolor": "white",
           "zerolinewidth": 2
          },
          "yaxis": {
           "automargin": true,
           "gridcolor": "white",
           "linecolor": "white",
           "ticks": "",
           "title": {
            "standoff": 15
           },
           "zerolinecolor": "white",
           "zerolinewidth": 2
          }
         }
        },
        "title": {
         "text": "Passing quality & Aerial dominance ( 126)",
         "x": 0.5,
         "xanchor": "center"
        },
        "width": 1200,
        "xaxis": {
         "anchor": "y",
         "domain": [
          0,
          1
         ],
         "gridcolor": "lightgray",
         "showgrid": true,
         "title": {
          "text": "passes_attempted/90"
         },
         "zeroline": false
        },
        "yaxis": {
         "anchor": "x",
         "domain": [
          0,
          1
         ],
         "gridcolor": "lightgray",
         "showgrid": true,
         "title": {
          "text": "progressive_passes/90"
         },
         "zeroline": false
        }
       }
      }
     },
     "metadata": {},
     "output_type": "display_data"
    }
   ],
   "source": [
    "# Pre filter data \n",
    "mask = (df_players['pass_completion_%'] >= 90) & \\\n",
    "        (df_players['progressive_passes/90'] >= 4) & \\\n",
    "        (df_players['age'] <= 25) & \\\n",
    "        (df_players['headers_won_%'] >= 60)\n",
    "\n",
    "df_plot = df_players[mask]\n",
    "\n",
    "scatter_plot(df_plot,\n",
    "             x_metric='passes_attempted/90', \n",
    "             y_metric='progressive_passes/90',\n",
    "             z_metric='headers_won_%',\n",
    "             title='Passing quality & Aerial dominance'\n",
    ")"
   ]
  },
  {
   "cell_type": "code",
   "execution_count": 45,
   "id": "137e65bd",
   "metadata": {},
   "outputs": [
    {
     "data": {
      "text/html": [
       "<div>\n",
       "<style scoped>\n",
       "    .dataframe tbody tr th:only-of-type {\n",
       "        vertical-align: middle;\n",
       "    }\n",
       "\n",
       "    .dataframe tbody tr th {\n",
       "        vertical-align: top;\n",
       "    }\n",
       "\n",
       "    .dataframe thead th {\n",
       "        text-align: right;\n",
       "    }\n",
       "</style>\n",
       "<table border=\"1\" class=\"dataframe\">\n",
       "  <thead>\n",
       "    <tr style=\"text-align: right;\">\n",
       "      <th></th>\n",
       "      <th>id</th>\n",
       "      <th>name</th>\n",
       "      <th>position</th>\n",
       "      <th>age</th>\n",
       "      <th>height</th>\n",
       "      <th>weight</th>\n",
       "      <th>inf</th>\n",
       "      <th>club</th>\n",
       "      <th>division</th>\n",
       "      <th>nationality</th>\n",
       "      <th>home_grown</th>\n",
       "      <th>personality</th>\n",
       "      <th>media_handling</th>\n",
       "      <th>wage</th>\n",
       "      <th>transfer_value</th>\n",
       "      <th>asking_price</th>\n",
       "      <th>preferred_foot</th>\n",
       "      <th>starts</th>\n",
       "      <th>minutes_played</th>\n",
       "      <th>average_rating</th>\n",
       "      <th>sub_appearances</th>\n",
       "      <th>minutes/game</th>\n",
       "      <th>index</th>\n",
       "      <th>passes_attempted/90</th>\n",
       "      <th>passes_completed/90</th>\n",
       "      <th>pass_completion_%</th>\n",
       "      <th>progressive_passes/90</th>\n",
       "      <th>progressive_pass_rate</th>\n",
       "      <th>key_passes/90</th>\n",
       "      <th>key_pass_%</th>\n",
       "      <th>open_play_key_passes/90</th>\n",
       "      <th>open_play_key_pass_%</th>\n",
       "      <th>tackles_attempted/90</th>\n",
       "      <th>tackles_completed/90</th>\n",
       "      <th>tackle_completion_%</th>\n",
       "      <th>tackles_failed/90</th>\n",
       "      <th>key_tackles/90</th>\n",
       "      <th>tackle_quality</th>\n",
       "      <th>interceptions/90</th>\n",
       "      <th>blocks/90</th>\n",
       "      <th>shots_blocked/90</th>\n",
       "      <th>headers_attempted/90</th>\n",
       "      <th>headers_won/90</th>\n",
       "      <th>headers_won_%</th>\n",
       "      <th>headers_lost/90</th>\n",
       "      <th>headers_lost_%</th>\n",
       "      <th>key_headers/90</th>\n",
       "      <th>aerial_challenges_attempted/90</th>\n",
       "      <th>duels_win_%</th>\n",
       "      <th>fouls_won/90</th>\n",
       "      <th>fouls_committed/90</th>\n",
       "      <th>clearances/90</th>\n",
       "      <th>attacking_actions/90</th>\n",
       "      <th>creative_actions/90</th>\n",
       "      <th>defensive_actions/90</th>\n",
       "      <th>excitement_factor/90</th>\n",
       "      <th>general_performance</th>\n",
       "      <th>goalkeeping</th>\n",
       "      <th>defensive_defender</th>\n",
       "      <th>creative_defender</th>\n",
       "      <th>attacking_defender</th>\n",
       "      <th>creative_midfielder</th>\n",
       "      <th>attacking_midfielder</th>\n",
       "      <th>creative_winger</th>\n",
       "      <th>attacking_winger</th>\n",
       "      <th>creative_forward</th>\n",
       "      <th>attacking_forward</th>\n",
       "      <th>finisher</th>\n",
       "      <th>aerial_threat</th>\n",
       "      <th>reader</th>\n",
       "      <th>assister</th>\n",
       "    </tr>\n",
       "  </thead>\n",
       "  <tbody>\n",
       "    <tr>\n",
       "      <th>192</th>\n",
       "      <td>24057195</td>\n",
       "      <td>Hrvoje Smolčić</td>\n",
       "      <td>D (LC)</td>\n",
       "      <td>23</td>\n",
       "      <td>183 cm</td>\n",
       "      <td>80 kg</td>\n",
       "      <td>Wnt</td>\n",
       "      <td>Eintracht Frankfurt</td>\n",
       "      <td>Bundesliga</td>\n",
       "      <td>CRO</td>\n",
       "      <td>-</td>\n",
       "      <td>-</td>\n",
       "      <td>Scouting Required</td>\n",
       "      <td>$25,500 p/w</td>\n",
       "      <td>$400K - $3.9M</td>\n",
       "      <td>-</td>\n",
       "      <td>Left</td>\n",
       "      <td>12</td>\n",
       "      <td>1032</td>\n",
       "      <td>6.96</td>\n",
       "      <td>2</td>\n",
       "      <td>73.71</td>\n",
       "      <td>192</td>\n",
       "      <td>70.81</td>\n",
       "      <td>65.41</td>\n",
       "      <td>92</td>\n",
       "      <td>5.58</td>\n",
       "      <td>7.88</td>\n",
       "      <td>0.17</td>\n",
       "      <td>0.25</td>\n",
       "      <td>0.17</td>\n",
       "      <td>0.25</td>\n",
       "      <td>1.48</td>\n",
       "      <td>1.05</td>\n",
       "      <td>71</td>\n",
       "      <td>0.44</td>\n",
       "      <td>0.17</td>\n",
       "      <td>3.40</td>\n",
       "      <td>1.40</td>\n",
       "      <td>0.70</td>\n",
       "      <td>0.35</td>\n",
       "      <td>7.15</td>\n",
       "      <td>5.58</td>\n",
       "      <td>78.05</td>\n",
       "      <td>1.57</td>\n",
       "      <td>21.95</td>\n",
       "      <td>0.87</td>\n",
       "      <td>7.15</td>\n",
       "      <td>76.77</td>\n",
       "      <td>0.09</td>\n",
       "      <td>0.44</td>\n",
       "      <td>0.44</td>\n",
       "      <td>0.65</td>\n",
       "      <td>0.35</td>\n",
       "      <td>17.37</td>\n",
       "      <td>1.31</td>\n",
       "      <td>71</td>\n",
       "      <td>100</td>\n",
       "      <td>13</td>\n",
       "      <td>54</td>\n",
       "      <td>78</td>\n",
       "      <td>69</td>\n",
       "      <td>80</td>\n",
       "      <td>67</td>\n",
       "      <td>65</td>\n",
       "      <td>68</td>\n",
       "      <td>69</td>\n",
       "      <td>78</td>\n",
       "      <td>72</td>\n",
       "      <td>25</td>\n",
       "      <td>74</td>\n",
       "    </tr>\n",
       "    <tr>\n",
       "      <th>546</th>\n",
       "      <td>85075627</td>\n",
       "      <td>Raphaël Varane</td>\n",
       "      <td>D (C)</td>\n",
       "      <td>30</td>\n",
       "      <td>191 cm</td>\n",
       "      <td>81 kg</td>\n",
       "      <td>Wnt</td>\n",
       "      <td>Man Utd</td>\n",
       "      <td>Premier League</td>\n",
       "      <td>FRA (MTQ)</td>\n",
       "      <td>-</td>\n",
       "      <td>Light-Hearted</td>\n",
       "      <td>Unflappable</td>\n",
       "      <td>$425,000 p/w</td>\n",
       "      <td>$42M</td>\n",
       "      <td>-</td>\n",
       "      <td>Right</td>\n",
       "      <td>21</td>\n",
       "      <td>1934</td>\n",
       "      <td>7.00</td>\n",
       "      <td>2</td>\n",
       "      <td>84.09</td>\n",
       "      <td>546</td>\n",
       "      <td>58.96</td>\n",
       "      <td>54.07</td>\n",
       "      <td>92</td>\n",
       "      <td>3.35</td>\n",
       "      <td>5.68</td>\n",
       "      <td>0.09</td>\n",
       "      <td>0.16</td>\n",
       "      <td>0.09</td>\n",
       "      <td>0.16</td>\n",
       "      <td>0.84</td>\n",
       "      <td>0.56</td>\n",
       "      <td>67</td>\n",
       "      <td>0.28</td>\n",
       "      <td>0.19</td>\n",
       "      <td>1.80</td>\n",
       "      <td>1.72</td>\n",
       "      <td>0.70</td>\n",
       "      <td>0.42</td>\n",
       "      <td>7.72</td>\n",
       "      <td>6.28</td>\n",
       "      <td>81.33</td>\n",
       "      <td>1.44</td>\n",
       "      <td>18.67</td>\n",
       "      <td>0.98</td>\n",
       "      <td>7.72</td>\n",
       "      <td>79.89</td>\n",
       "      <td>0.19</td>\n",
       "      <td>0.47</td>\n",
       "      <td>1.77</td>\n",
       "      <td>0.68</td>\n",
       "      <td>0.14</td>\n",
       "      <td>19.51</td>\n",
       "      <td>1.16</td>\n",
       "      <td>46</td>\n",
       "      <td>100</td>\n",
       "      <td>46</td>\n",
       "      <td>6</td>\n",
       "      <td>44</td>\n",
       "      <td>61</td>\n",
       "      <td>76</td>\n",
       "      <td>48</td>\n",
       "      <td>46</td>\n",
       "      <td>51</td>\n",
       "      <td>63</td>\n",
       "      <td>94</td>\n",
       "      <td>85</td>\n",
       "      <td>55</td>\n",
       "      <td>0</td>\n",
       "    </tr>\n",
       "    <tr>\n",
       "      <th>628</th>\n",
       "      <td>2000006106</td>\n",
       "      <td>Isaak Touré</td>\n",
       "      <td>D (C)</td>\n",
       "      <td>20</td>\n",
       "      <td>204 cm</td>\n",
       "      <td>99 kg</td>\n",
       "      <td>-</td>\n",
       "      <td>Lorient</td>\n",
       "      <td>Ligue 1 Uber Eats</td>\n",
       "      <td>FRA (CIV)</td>\n",
       "      <td>-</td>\n",
       "      <td>-</td>\n",
       "      <td>Scouting Required</td>\n",
       "      <td>$6,000 p/w</td>\n",
       "      <td>$300K - $10.5M</td>\n",
       "      <td>-</td>\n",
       "      <td>Left</td>\n",
       "      <td>17</td>\n",
       "      <td>1457</td>\n",
       "      <td>7.19</td>\n",
       "      <td>0</td>\n",
       "      <td>85.71</td>\n",
       "      <td>628</td>\n",
       "      <td>59.18</td>\n",
       "      <td>53.18</td>\n",
       "      <td>90</td>\n",
       "      <td>5.00</td>\n",
       "      <td>8.46</td>\n",
       "      <td>0.49</td>\n",
       "      <td>0.84</td>\n",
       "      <td>0.43</td>\n",
       "      <td>0.73</td>\n",
       "      <td>2.47</td>\n",
       "      <td>2.16</td>\n",
       "      <td>88</td>\n",
       "      <td>0.31</td>\n",
       "      <td>0.43</td>\n",
       "      <td>8.00</td>\n",
       "      <td>2.53</td>\n",
       "      <td>0.37</td>\n",
       "      <td>0.19</td>\n",
       "      <td>6.98</td>\n",
       "      <td>6.30</td>\n",
       "      <td>90.27</td>\n",
       "      <td>0.68</td>\n",
       "      <td>9.73</td>\n",
       "      <td>1.24</td>\n",
       "      <td>6.98</td>\n",
       "      <td>89.54</td>\n",
       "      <td>0.19</td>\n",
       "      <td>0.31</td>\n",
       "      <td>1.24</td>\n",
       "      <td>0.79</td>\n",
       "      <td>0.56</td>\n",
       "      <td>25.80</td>\n",
       "      <td>1.67</td>\n",
       "      <td>85</td>\n",
       "      <td>100</td>\n",
       "      <td>96</td>\n",
       "      <td>55</td>\n",
       "      <td>68</td>\n",
       "      <td>88</td>\n",
       "      <td>91</td>\n",
       "      <td>67</td>\n",
       "      <td>79</td>\n",
       "      <td>79</td>\n",
       "      <td>91</td>\n",
       "      <td>93</td>\n",
       "      <td>88</td>\n",
       "      <td>98</td>\n",
       "      <td>67</td>\n",
       "    </tr>\n",
       "    <tr>\n",
       "      <th>677</th>\n",
       "      <td>2000178532</td>\n",
       "      <td>Tobias Slotsager</td>\n",
       "      <td>D (RC)</td>\n",
       "      <td>17</td>\n",
       "      <td>190 cm</td>\n",
       "      <td>82 kg</td>\n",
       "      <td>-</td>\n",
       "      <td>OB</td>\n",
       "      <td>3F Superliga</td>\n",
       "      <td>DEN</td>\n",
       "      <td>-</td>\n",
       "      <td>-</td>\n",
       "      <td>Scouting Required</td>\n",
       "      <td>$3,800 p/w</td>\n",
       "      <td>$230K - $11.5M</td>\n",
       "      <td>-</td>\n",
       "      <td>Right</td>\n",
       "      <td>15</td>\n",
       "      <td>1344</td>\n",
       "      <td>6.95</td>\n",
       "      <td>1</td>\n",
       "      <td>84.00</td>\n",
       "      <td>677</td>\n",
       "      <td>80.22</td>\n",
       "      <td>75.00</td>\n",
       "      <td>93</td>\n",
       "      <td>5.02</td>\n",
       "      <td>6.26</td>\n",
       "      <td>0.27</td>\n",
       "      <td>0.33</td>\n",
       "      <td>0.27</td>\n",
       "      <td>0.33</td>\n",
       "      <td>0.87</td>\n",
       "      <td>0.60</td>\n",
       "      <td>69</td>\n",
       "      <td>0.27</td>\n",
       "      <td>0.33</td>\n",
       "      <td>3.25</td>\n",
       "      <td>1.67</td>\n",
       "      <td>0.74</td>\n",
       "      <td>0.60</td>\n",
       "      <td>7.43</td>\n",
       "      <td>6.29</td>\n",
       "      <td>84.68</td>\n",
       "      <td>1.14</td>\n",
       "      <td>15.32</td>\n",
       "      <td>1.07</td>\n",
       "      <td>7.43</td>\n",
       "      <td>83.06</td>\n",
       "      <td>0.07</td>\n",
       "      <td>0.27</td>\n",
       "      <td>0.94</td>\n",
       "      <td>0.40</td>\n",
       "      <td>0.33</td>\n",
       "      <td>21.39</td>\n",
       "      <td>0.67</td>\n",
       "      <td>45</td>\n",
       "      <td>100</td>\n",
       "      <td>45</td>\n",
       "      <td>25</td>\n",
       "      <td>34</td>\n",
       "      <td>57</td>\n",
       "      <td>68</td>\n",
       "      <td>39</td>\n",
       "      <td>49</td>\n",
       "      <td>57</td>\n",
       "      <td>61</td>\n",
       "      <td>73</td>\n",
       "      <td>87</td>\n",
       "      <td>80</td>\n",
       "      <td>16</td>\n",
       "    </tr>\n",
       "  </tbody>\n",
       "</table>\n",
       "</div>"
      ],
      "text/plain": [
       "             id              name position  age  height weight  inf  \\\n",
       "192    24057195    Hrvoje Smolčić   D (LC)   23  183 cm  80 kg  Wnt   \n",
       "546    85075627    Raphaël Varane    D (C)   30  191 cm  81 kg  Wnt   \n",
       "628  2000006106       Isaak Touré    D (C)   20  204 cm  99 kg    -   \n",
       "677  2000178532  Tobias Slotsager   D (RC)   17  190 cm  82 kg    -   \n",
       "\n",
       "                    club           division nationality home_grown  \\\n",
       "192  Eintracht Frankfurt         Bundesliga         CRO          -   \n",
       "546              Man Utd     Premier League   FRA (MTQ)          -   \n",
       "628              Lorient  Ligue 1 Uber Eats   FRA (CIV)          -   \n",
       "677                   OB       3F Superliga         DEN          -   \n",
       "\n",
       "       personality     media_handling          wage  transfer_value  \\\n",
       "192              -  Scouting Required   $25,500 p/w   $400K - $3.9M   \n",
       "546  Light-Hearted        Unflappable  $425,000 p/w            $42M   \n",
       "628              -  Scouting Required    $6,000 p/w  $300K - $10.5M   \n",
       "677              -  Scouting Required    $3,800 p/w  $230K - $11.5M   \n",
       "\n",
       "    asking_price preferred_foot  starts  minutes_played  average_rating  \\\n",
       "192            -           Left      12            1032            6.96   \n",
       "546            -          Right      21            1934            7.00   \n",
       "628            -           Left      17            1457            7.19   \n",
       "677            -          Right      15            1344            6.95   \n",
       "\n",
       "     sub_appearances  minutes/game  index  passes_attempted/90  \\\n",
       "192                2         73.71    192                70.81   \n",
       "546                2         84.09    546                58.96   \n",
       "628                0         85.71    628                59.18   \n",
       "677                1         84.00    677                80.22   \n",
       "\n",
       "     passes_completed/90  pass_completion_%  progressive_passes/90  \\\n",
       "192                65.41                 92                   5.58   \n",
       "546                54.07                 92                   3.35   \n",
       "628                53.18                 90                   5.00   \n",
       "677                75.00                 93                   5.02   \n",
       "\n",
       "     progressive_pass_rate  key_passes/90  key_pass_%  \\\n",
       "192                   7.88           0.17        0.25   \n",
       "546                   5.68           0.09        0.16   \n",
       "628                   8.46           0.49        0.84   \n",
       "677                   6.26           0.27        0.33   \n",
       "\n",
       "     open_play_key_passes/90  open_play_key_pass_%  tackles_attempted/90  \\\n",
       "192                     0.17                  0.25                  1.48   \n",
       "546                     0.09                  0.16                  0.84   \n",
       "628                     0.43                  0.73                  2.47   \n",
       "677                     0.27                  0.33                  0.87   \n",
       "\n",
       "     tackles_completed/90  tackle_completion_%  tackles_failed/90  \\\n",
       "192                  1.05                   71               0.44   \n",
       "546                  0.56                   67               0.28   \n",
       "628                  2.16                   88               0.31   \n",
       "677                  0.60                   69               0.27   \n",
       "\n",
       "     key_tackles/90  tackle_quality  interceptions/90  blocks/90  \\\n",
       "192            0.17            3.40              1.40       0.70   \n",
       "546            0.19            1.80              1.72       0.70   \n",
       "628            0.43            8.00              2.53       0.37   \n",
       "677            0.33            3.25              1.67       0.74   \n",
       "\n",
       "     shots_blocked/90  headers_attempted/90  headers_won/90  headers_won_%  \\\n",
       "192              0.35                  7.15            5.58          78.05   \n",
       "546              0.42                  7.72            6.28          81.33   \n",
       "628              0.19                  6.98            6.30          90.27   \n",
       "677              0.60                  7.43            6.29          84.68   \n",
       "\n",
       "     headers_lost/90  headers_lost_%  key_headers/90  \\\n",
       "192             1.57           21.95            0.87   \n",
       "546             1.44           18.67            0.98   \n",
       "628             0.68            9.73            1.24   \n",
       "677             1.14           15.32            1.07   \n",
       "\n",
       "     aerial_challenges_attempted/90  duels_win_%  fouls_won/90  \\\n",
       "192                            7.15        76.77          0.09   \n",
       "546                            7.72        79.89          0.19   \n",
       "628                            6.98        89.54          0.19   \n",
       "677                            7.43        83.06          0.07   \n",
       "\n",
       "     fouls_committed/90  clearances/90  attacking_actions/90  \\\n",
       "192                0.44           0.44                  0.65   \n",
       "546                0.47           1.77                  0.68   \n",
       "628                0.31           1.24                  0.79   \n",
       "677                0.27           0.94                  0.40   \n",
       "\n",
       "     creative_actions/90  defensive_actions/90  excitement_factor/90  \\\n",
       "192                 0.35                 17.37                  1.31   \n",
       "546                 0.14                 19.51                  1.16   \n",
       "628                 0.56                 25.80                  1.67   \n",
       "677                 0.33                 21.39                  0.67   \n",
       "\n",
       "     general_performance  goalkeeping  defensive_defender  creative_defender  \\\n",
       "192                   71          100                  13                 54   \n",
       "546                   46          100                  46                  6   \n",
       "628                   85          100                  96                 55   \n",
       "677                   45          100                  45                 25   \n",
       "\n",
       "     attacking_defender  creative_midfielder  attacking_midfielder  \\\n",
       "192                  78                   69                    80   \n",
       "546                  44                   61                    76   \n",
       "628                  68                   88                    91   \n",
       "677                  34                   57                    68   \n",
       "\n",
       "     creative_winger  attacking_winger  creative_forward  attacking_forward  \\\n",
       "192               67                65                68                 69   \n",
       "546               48                46                51                 63   \n",
       "628               67                79                79                 91   \n",
       "677               39                49                57                 61   \n",
       "\n",
       "     finisher  aerial_threat  reader  assister  \n",
       "192        78             72      25        74  \n",
       "546        94             85      55         0  \n",
       "628        93             88      98        67  \n",
       "677        73             87      80        16  "
      ]
     },
     "execution_count": 45,
     "metadata": {},
     "output_type": "execute_result"
    }
   ],
   "source": [
    "targets = [\n",
    "    'Tobias Slotsager', \n",
    "    'Isaak Touré',\n",
    "    'Hrvoj', \n",
    "    'Varane'\n",
    "]\n",
    "\n",
    "pattern = '|'.join(re.escape(name) for name in targets)  # escape in case names have special characters\n",
    "df_players[df_players['name'].str.contains(pattern, regex=True)]"
   ]
  },
  {
   "cell_type": "code",
   "execution_count": null,
   "id": "fa6ee01a",
   "metadata": {},
   "outputs": [],
   "source": []
  },
  {
   "cell_type": "code",
   "execution_count": null,
   "id": "7c787ccc",
   "metadata": {},
   "outputs": [],
   "source": []
  }
 ],
 "metadata": {
  "kernelspec": {
   "display_name": ".venv",
   "language": "python",
   "name": "python3"
  },
  "language_info": {
   "codemirror_mode": {
    "name": "ipython",
    "version": 3
   },
   "file_extension": ".py",
   "mimetype": "text/x-python",
   "name": "python",
   "nbconvert_exporter": "python",
   "pygments_lexer": "ipython3",
   "version": "3.12.7"
  }
 },
 "nbformat": 4,
 "nbformat_minor": 5
}
