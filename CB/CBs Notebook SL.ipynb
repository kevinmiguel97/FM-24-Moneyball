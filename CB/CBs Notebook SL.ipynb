{
 "cells": [
  {
   "cell_type": "markdown",
   "id": "b1df530d",
   "metadata": {},
   "source": [
    "# FM 24 Moneyball"
   ]
  },
  {
   "cell_type": "code",
   "execution_count": 1,
   "id": "a0d6d750",
   "metadata": {},
   "outputs": [],
   "source": [
    "import numpy as np\n",
    "import pandas as pd \n",
    "import matplotlib.pyplot as plt\n",
    "import plotly.express as px\n",
    "import re\n",
    "\n",
    "# Ignore warnings\n",
    "import warnings\n",
    "warnings.filterwarnings('ignore')\n",
    "\n",
    "# Show all columns in pandas\n",
    "pd.set_option('display.max_columns', 500) \n",
    "\n",
    "%matplotlib inline"
   ]
  },
  {
   "cell_type": "markdown",
   "id": "bd53e3cd",
   "metadata": {},
   "source": [
    "## Ingest and clean data"
   ]
  },
  {
   "cell_type": "code",
   "execution_count": 2,
   "id": "7355e71f",
   "metadata": {},
   "outputs": [],
   "source": [
    "### Read raw data\n",
    "\n",
    "# Select file path for raw data\n",
    "path = r\"C:\\Users\\kevmi\\Documents\\FM 24 Moneyball\\FM Data Lab\\Man Utd\\FM 24 exports\\Winter 2023\\Center Backs - SL.html\"\n",
    "\n",
    "# Ingest in a dataframe\n",
    "df_players_raw = pd.read_html(path, encoding='utf-8')[0]\n",
    "\n",
    "# Format column names \n",
    "df_players_raw.columns = [x.lower().strip().replace(' ', '_').replace('-', '_') for x in df_players_raw.columns]\n",
    "\n",
    "# ---------------------------------------------------------------------------------------------------------------------\n",
    "\n",
    "### Read processed Data lab data\n",
    "\n",
    "# Select file path for processed data\n",
    "path = r\"C:\\Users\\kevmi\\Documents\\FM 24 Moneyball\\FM Data Lab\\Man Utd\\FM Data Lab outputs\\Winter 2023\\Center Backs - SL.csv\"\n",
    "\n",
    "# Ingest in a dataframe \n",
    "df_players = pd.read_csv(path)   \n",
    "\n",
    "# Format column names \n",
    "df_players.columns = [x.lower().strip().replace(' ', '_').replace('-', '_') for x in df_players.columns]\n",
    "\n",
    "# Bring ID from raw data\n",
    "df_players = df_players.merge(df_players_raw[['name', 'age', 'height', 'weight', 'uid']], \n",
    "                 left_on=['name', 'age', 'height', 'weight'], \n",
    "                 right_on=['name', 'age', 'height', 'weight']).reset_index().rename(columns={'level_0': 'id'})\n",
    "\n",
    "df_players['id'] = df_players['uid']\n",
    "\n",
    "df_players.drop(columns='uid', inplace=True)"
   ]
  },
  {
   "cell_type": "markdown",
   "id": "a4833287",
   "metadata": {},
   "source": [
    "## Data cleaning"
   ]
  },
  {
   "cell_type": "code",
   "execution_count": 3,
   "id": "103e9075",
   "metadata": {},
   "outputs": [
    {
     "data": {
      "text/html": [
       "<div>\n",
       "<style scoped>\n",
       "    .dataframe tbody tr th:only-of-type {\n",
       "        vertical-align: middle;\n",
       "    }\n",
       "\n",
       "    .dataframe tbody tr th {\n",
       "        vertical-align: top;\n",
       "    }\n",
       "\n",
       "    .dataframe thead th {\n",
       "        text-align: right;\n",
       "    }\n",
       "</style>\n",
       "<table border=\"1\" class=\"dataframe\">\n",
       "  <thead>\n",
       "    <tr style=\"text-align: right;\">\n",
       "      <th></th>\n",
       "      <th>id</th>\n",
       "      <th>name</th>\n",
       "      <th>position</th>\n",
       "      <th>age</th>\n",
       "      <th>height</th>\n",
       "      <th>weight</th>\n",
       "      <th>inf</th>\n",
       "      <th>club</th>\n",
       "      <th>division</th>\n",
       "      <th>nationality</th>\n",
       "      <th>home_grown</th>\n",
       "      <th>personality</th>\n",
       "      <th>media_handling</th>\n",
       "      <th>wage</th>\n",
       "      <th>transfer_value</th>\n",
       "      <th>asking_price</th>\n",
       "      <th>preferred_foot</th>\n",
       "      <th>starts</th>\n",
       "      <th>minutes_played</th>\n",
       "      <th>average_rating</th>\n",
       "      <th>sub_appearances</th>\n",
       "      <th>minutes/game</th>\n",
       "      <th>index</th>\n",
       "      <th>passes_attempted/90</th>\n",
       "      <th>passes_completed/90</th>\n",
       "      <th>pass_completion_%</th>\n",
       "      <th>progressive_passes/90</th>\n",
       "      <th>progressive_pass_rate</th>\n",
       "      <th>key_passes/90</th>\n",
       "      <th>key_pass_%</th>\n",
       "      <th>open_play_key_passes/90</th>\n",
       "      <th>open_play_key_pass_%</th>\n",
       "      <th>pressures_attempted</th>\n",
       "      <th>pressures_attempted/90</th>\n",
       "      <th>pressures_completed</th>\n",
       "      <th>pressures_completed/90</th>\n",
       "      <th>pressure_success_%</th>\n",
       "      <th>possession_won/90</th>\n",
       "      <th>possession_lost/90</th>\n",
       "      <th>poss+_/90</th>\n",
       "      <th>poss+__%</th>\n",
       "      <th>tackles_attempted/90</th>\n",
       "      <th>tackles_completed/90</th>\n",
       "      <th>tackle_completion_%</th>\n",
       "      <th>tackles_failed/90</th>\n",
       "      <th>key_tackles/90</th>\n",
       "      <th>tackle_quality</th>\n",
       "      <th>interceptions/90</th>\n",
       "      <th>blocks/90</th>\n",
       "      <th>shots_blocked/90</th>\n",
       "      <th>headers_attempted/90</th>\n",
       "      <th>headers_won/90</th>\n",
       "      <th>headers_won_%</th>\n",
       "      <th>headers_lost/90</th>\n",
       "      <th>headers_lost_%</th>\n",
       "      <th>key_headers/90</th>\n",
       "      <th>aerial_challenges_attempted/90</th>\n",
       "      <th>duels_win_%</th>\n",
       "      <th>fouls_won/90</th>\n",
       "      <th>fouls_committed/90</th>\n",
       "      <th>clearances/90</th>\n",
       "      <th>attacking_actions/90</th>\n",
       "      <th>creative_actions/90</th>\n",
       "      <th>defensive_actions/90</th>\n",
       "      <th>excitement_factor/90</th>\n",
       "      <th>general_performance</th>\n",
       "      <th>goalkeeping</th>\n",
       "      <th>defensive_defender</th>\n",
       "      <th>creative_defender</th>\n",
       "      <th>attacking_defender</th>\n",
       "      <th>creative_midfielder</th>\n",
       "      <th>attacking_midfielder</th>\n",
       "      <th>creative_winger</th>\n",
       "      <th>attacking_winger</th>\n",
       "      <th>creative_forward</th>\n",
       "      <th>attacking_forward</th>\n",
       "      <th>finisher</th>\n",
       "      <th>aerial_threat</th>\n",
       "      <th>reader</th>\n",
       "      <th>assister</th>\n",
       "      <th>price_estimate_M</th>\n",
       "    </tr>\n",
       "  </thead>\n",
       "  <tbody>\n",
       "    <tr>\n",
       "      <th>0</th>\n",
       "      <td>2000226646</td>\n",
       "      <td>Stijn Bultman</td>\n",
       "      <td>D (RC)</td>\n",
       "      <td>18</td>\n",
       "      <td>187 cm</td>\n",
       "      <td>80 kg</td>\n",
       "      <td>Sct</td>\n",
       "      <td>Heracles Almelo</td>\n",
       "      <td>Eredivisie</td>\n",
       "      <td>NED</td>\n",
       "      <td>-</td>\n",
       "      <td>-</td>\n",
       "      <td>Scouting Required</td>\n",
       "      <td>$1,100 p/w</td>\n",
       "      <td>$275K - $10M</td>\n",
       "      <td>-</td>\n",
       "      <td>Right Only</td>\n",
       "      <td>15</td>\n",
       "      <td>1321</td>\n",
       "      <td>6.94</td>\n",
       "      <td>1</td>\n",
       "      <td>82.56</td>\n",
       "      <td>0</td>\n",
       "      <td>84.21</td>\n",
       "      <td>78.55</td>\n",
       "      <td>93</td>\n",
       "      <td>7.15</td>\n",
       "      <td>8.50</td>\n",
       "      <td>0.14</td>\n",
       "      <td>0.16</td>\n",
       "      <td>0.07</td>\n",
       "      <td>0.08</td>\n",
       "      <td>46</td>\n",
       "      <td>3.13</td>\n",
       "      <td>19</td>\n",
       "      <td>1.29</td>\n",
       "      <td>41.30</td>\n",
       "      <td>9.13</td>\n",
       "      <td>6.20</td>\n",
       "      <td>2.93</td>\n",
       "      <td>47.26</td>\n",
       "      <td>1.16</td>\n",
       "      <td>0.89</td>\n",
       "      <td>76</td>\n",
       "      <td>0.27</td>\n",
       "      <td>0.00</td>\n",
       "      <td>1.13</td>\n",
       "      <td>1.02</td>\n",
       "      <td>0.61</td>\n",
       "      <td>0.55</td>\n",
       "      <td>5.86</td>\n",
       "      <td>4.22</td>\n",
       "      <td>72.09</td>\n",
       "      <td>1.64</td>\n",
       "      <td>27.91</td>\n",
       "      <td>0.82</td>\n",
       "      <td>5.86</td>\n",
       "      <td>72.82</td>\n",
       "      <td>0.00</td>\n",
       "      <td>1.02</td>\n",
       "      <td>1.57</td>\n",
       "      <td>0.25</td>\n",
       "      <td>0.14</td>\n",
       "      <td>15.19</td>\n",
       "      <td>0.48</td>\n",
       "      <td>20</td>\n",
       "      <td>100</td>\n",
       "      <td>0</td>\n",
       "      <td>47</td>\n",
       "      <td>53</td>\n",
       "      <td>13</td>\n",
       "      <td>13</td>\n",
       "      <td>20</td>\n",
       "      <td>7</td>\n",
       "      <td>13</td>\n",
       "      <td>0</td>\n",
       "      <td>13</td>\n",
       "      <td>13</td>\n",
       "      <td>0</td>\n",
       "      <td>0</td>\n",
       "      <td>6.165</td>\n",
       "    </tr>\n",
       "    <tr>\n",
       "      <th>1</th>\n",
       "      <td>2000178532</td>\n",
       "      <td>Tobias Slotsager</td>\n",
       "      <td>D (RC)</td>\n",
       "      <td>17</td>\n",
       "      <td>190 cm</td>\n",
       "      <td>82 kg</td>\n",
       "      <td>Wnt</td>\n",
       "      <td>OB</td>\n",
       "      <td>3F Superliga</td>\n",
       "      <td>DEN</td>\n",
       "      <td>-</td>\n",
       "      <td>-</td>\n",
       "      <td>Scouting Required</td>\n",
       "      <td>$3,800 p/w</td>\n",
       "      <td>$250K - $11.5M</td>\n",
       "      <td>-</td>\n",
       "      <td>Right</td>\n",
       "      <td>15</td>\n",
       "      <td>1344</td>\n",
       "      <td>6.95</td>\n",
       "      <td>1</td>\n",
       "      <td>84.00</td>\n",
       "      <td>1</td>\n",
       "      <td>80.22</td>\n",
       "      <td>75.00</td>\n",
       "      <td>93</td>\n",
       "      <td>5.02</td>\n",
       "      <td>6.26</td>\n",
       "      <td>0.27</td>\n",
       "      <td>0.33</td>\n",
       "      <td>0.27</td>\n",
       "      <td>0.33</td>\n",
       "      <td>47</td>\n",
       "      <td>3.15</td>\n",
       "      <td>16</td>\n",
       "      <td>1.07</td>\n",
       "      <td>34.04</td>\n",
       "      <td>13.06</td>\n",
       "      <td>5.56</td>\n",
       "      <td>7.50</td>\n",
       "      <td>134.89</td>\n",
       "      <td>0.87</td>\n",
       "      <td>0.60</td>\n",
       "      <td>69</td>\n",
       "      <td>0.27</td>\n",
       "      <td>0.33</td>\n",
       "      <td>3.25</td>\n",
       "      <td>1.67</td>\n",
       "      <td>0.74</td>\n",
       "      <td>0.60</td>\n",
       "      <td>7.43</td>\n",
       "      <td>6.29</td>\n",
       "      <td>84.68</td>\n",
       "      <td>1.14</td>\n",
       "      <td>15.32</td>\n",
       "      <td>1.07</td>\n",
       "      <td>7.43</td>\n",
       "      <td>83.06</td>\n",
       "      <td>0.07</td>\n",
       "      <td>0.27</td>\n",
       "      <td>0.94</td>\n",
       "      <td>0.40</td>\n",
       "      <td>0.33</td>\n",
       "      <td>21.39</td>\n",
       "      <td>0.67</td>\n",
       "      <td>40</td>\n",
       "      <td>100</td>\n",
       "      <td>20</td>\n",
       "      <td>27</td>\n",
       "      <td>40</td>\n",
       "      <td>53</td>\n",
       "      <td>60</td>\n",
       "      <td>47</td>\n",
       "      <td>47</td>\n",
       "      <td>60</td>\n",
       "      <td>40</td>\n",
       "      <td>60</td>\n",
       "      <td>67</td>\n",
       "      <td>53</td>\n",
       "      <td>13</td>\n",
       "      <td>7.050</td>\n",
       "    </tr>\n",
       "    <tr>\n",
       "      <th>2</th>\n",
       "      <td>2000163579</td>\n",
       "      <td>Aleksander Hammer Kjelsen</td>\n",
       "      <td>D (C)</td>\n",
       "      <td>17</td>\n",
       "      <td>185 cm</td>\n",
       "      <td>78 kg</td>\n",
       "      <td>Wnt</td>\n",
       "      <td>Vålerenga</td>\n",
       "      <td>Eliteserien</td>\n",
       "      <td>NOR</td>\n",
       "      <td>-</td>\n",
       "      <td>Fairly Determined</td>\n",
       "      <td>Level-headed</td>\n",
       "      <td>$900 p/w</td>\n",
       "      <td>$210K - $2.1M</td>\n",
       "      <td>-</td>\n",
       "      <td>Right</td>\n",
       "      <td>30</td>\n",
       "      <td>2691</td>\n",
       "      <td>6.95</td>\n",
       "      <td>0</td>\n",
       "      <td>89.70</td>\n",
       "      <td>2</td>\n",
       "      <td>53.75</td>\n",
       "      <td>47.89</td>\n",
       "      <td>89</td>\n",
       "      <td>4.25</td>\n",
       "      <td>7.90</td>\n",
       "      <td>0.33</td>\n",
       "      <td>0.62</td>\n",
       "      <td>0.33</td>\n",
       "      <td>0.62</td>\n",
       "      <td>96</td>\n",
       "      <td>3.21</td>\n",
       "      <td>38</td>\n",
       "      <td>1.27</td>\n",
       "      <td>39.58</td>\n",
       "      <td>12.88</td>\n",
       "      <td>4.88</td>\n",
       "      <td>8.00</td>\n",
       "      <td>163.93</td>\n",
       "      <td>1.40</td>\n",
       "      <td>1.10</td>\n",
       "      <td>79</td>\n",
       "      <td>0.30</td>\n",
       "      <td>0.30</td>\n",
       "      <td>2.80</td>\n",
       "      <td>1.64</td>\n",
       "      <td>0.27</td>\n",
       "      <td>0.27</td>\n",
       "      <td>8.66</td>\n",
       "      <td>6.69</td>\n",
       "      <td>77.22</td>\n",
       "      <td>1.97</td>\n",
       "      <td>22.78</td>\n",
       "      <td>0.90</td>\n",
       "      <td>8.66</td>\n",
       "      <td>77.41</td>\n",
       "      <td>0.10</td>\n",
       "      <td>0.50</td>\n",
       "      <td>1.47</td>\n",
       "      <td>0.25</td>\n",
       "      <td>0.37</td>\n",
       "      <td>20.58</td>\n",
       "      <td>1.10</td>\n",
       "      <td>47</td>\n",
       "      <td>100</td>\n",
       "      <td>13</td>\n",
       "      <td>13</td>\n",
       "      <td>47</td>\n",
       "      <td>7</td>\n",
       "      <td>0</td>\n",
       "      <td>0</td>\n",
       "      <td>13</td>\n",
       "      <td>7</td>\n",
       "      <td>13</td>\n",
       "      <td>0</td>\n",
       "      <td>80</td>\n",
       "      <td>40</td>\n",
       "      <td>47</td>\n",
       "      <td>1.386</td>\n",
       "    </tr>\n",
       "    <tr>\n",
       "      <th>3</th>\n",
       "      <td>2000182819</td>\n",
       "      <td>Leny Yoro</td>\n",
       "      <td>D (C)</td>\n",
       "      <td>18</td>\n",
       "      <td>191 cm</td>\n",
       "      <td>86 kg</td>\n",
       "      <td>-</td>\n",
       "      <td>Lille</td>\n",
       "      <td>Ligue 1 Uber Eats</td>\n",
       "      <td>FRA</td>\n",
       "      <td>-</td>\n",
       "      <td>Resolute</td>\n",
       "      <td>Level-headed</td>\n",
       "      <td>$23,500 p/w</td>\n",
       "      <td>$91M - $115M</td>\n",
       "      <td>-</td>\n",
       "      <td>Right</td>\n",
       "      <td>10</td>\n",
       "      <td>1124</td>\n",
       "      <td>6.83</td>\n",
       "      <td>12</td>\n",
       "      <td>51.09</td>\n",
       "      <td>3</td>\n",
       "      <td>81.83</td>\n",
       "      <td>77.35</td>\n",
       "      <td>95</td>\n",
       "      <td>4.88</td>\n",
       "      <td>5.97</td>\n",
       "      <td>0.08</td>\n",
       "      <td>0.10</td>\n",
       "      <td>0.08</td>\n",
       "      <td>0.10</td>\n",
       "      <td>43</td>\n",
       "      <td>3.44</td>\n",
       "      <td>15</td>\n",
       "      <td>1.20</td>\n",
       "      <td>34.88</td>\n",
       "      <td>12.17</td>\n",
       "      <td>4.80</td>\n",
       "      <td>7.37</td>\n",
       "      <td>153.54</td>\n",
       "      <td>1.44</td>\n",
       "      <td>1.04</td>\n",
       "      <td>72</td>\n",
       "      <td>0.40</td>\n",
       "      <td>0.48</td>\n",
       "      <td>2.25</td>\n",
       "      <td>1.52</td>\n",
       "      <td>0.64</td>\n",
       "      <td>0.64</td>\n",
       "      <td>7.53</td>\n",
       "      <td>5.69</td>\n",
       "      <td>75.53</td>\n",
       "      <td>1.84</td>\n",
       "      <td>24.47</td>\n",
       "      <td>0.40</td>\n",
       "      <td>7.53</td>\n",
       "      <td>75.00</td>\n",
       "      <td>0.08</td>\n",
       "      <td>0.64</td>\n",
       "      <td>0.80</td>\n",
       "      <td>0.53</td>\n",
       "      <td>0.16</td>\n",
       "      <td>17.60</td>\n",
       "      <td>0.80</td>\n",
       "      <td>33</td>\n",
       "      <td>100</td>\n",
       "      <td>40</td>\n",
       "      <td>40</td>\n",
       "      <td>20</td>\n",
       "      <td>33</td>\n",
       "      <td>53</td>\n",
       "      <td>60</td>\n",
       "      <td>33</td>\n",
       "      <td>27</td>\n",
       "      <td>33</td>\n",
       "      <td>40</td>\n",
       "      <td>20</td>\n",
       "      <td>7</td>\n",
       "      <td>13</td>\n",
       "      <td>123.600</td>\n",
       "    </tr>\n",
       "    <tr>\n",
       "      <th>4</th>\n",
       "      <td>27161052</td>\n",
       "      <td>Alexander Busch</td>\n",
       "      <td>D (C)</td>\n",
       "      <td>20</td>\n",
       "      <td>190 cm</td>\n",
       "      <td>75 kg</td>\n",
       "      <td>-</td>\n",
       "      <td>Silkeborg IF</td>\n",
       "      <td>3F Superliga</td>\n",
       "      <td>DEN</td>\n",
       "      <td>-</td>\n",
       "      <td>Balanced</td>\n",
       "      <td>Media-friendly</td>\n",
       "      <td>$5,000 p/w</td>\n",
       "      <td>$5.6M - $8.2M</td>\n",
       "      <td>-</td>\n",
       "      <td>Right</td>\n",
       "      <td>21</td>\n",
       "      <td>1819</td>\n",
       "      <td>6.80</td>\n",
       "      <td>0</td>\n",
       "      <td>86.62</td>\n",
       "      <td>4</td>\n",
       "      <td>53.73</td>\n",
       "      <td>48.34</td>\n",
       "      <td>90</td>\n",
       "      <td>4.21</td>\n",
       "      <td>7.83</td>\n",
       "      <td>0.35</td>\n",
       "      <td>0.64</td>\n",
       "      <td>0.35</td>\n",
       "      <td>0.64</td>\n",
       "      <td>74</td>\n",
       "      <td>3.66</td>\n",
       "      <td>21</td>\n",
       "      <td>1.04</td>\n",
       "      <td>28.38</td>\n",
       "      <td>12.77</td>\n",
       "      <td>5.89</td>\n",
       "      <td>6.88</td>\n",
       "      <td>116.81</td>\n",
       "      <td>1.53</td>\n",
       "      <td>1.24</td>\n",
       "      <td>81</td>\n",
       "      <td>0.30</td>\n",
       "      <td>0.49</td>\n",
       "      <td>2.38</td>\n",
       "      <td>2.13</td>\n",
       "      <td>0.49</td>\n",
       "      <td>0.35</td>\n",
       "      <td>8.31</td>\n",
       "      <td>6.28</td>\n",
       "      <td>75.60</td>\n",
       "      <td>2.03</td>\n",
       "      <td>24.40</td>\n",
       "      <td>0.89</td>\n",
       "      <td>8.31</td>\n",
       "      <td>76.38</td>\n",
       "      <td>0.05</td>\n",
       "      <td>0.64</td>\n",
       "      <td>1.73</td>\n",
       "      <td>0.57</td>\n",
       "      <td>0.45</td>\n",
       "      <td>22.87</td>\n",
       "      <td>1.53</td>\n",
       "      <td>60</td>\n",
       "      <td>100</td>\n",
       "      <td>73</td>\n",
       "      <td>53</td>\n",
       "      <td>60</td>\n",
       "      <td>60</td>\n",
       "      <td>33</td>\n",
       "      <td>40</td>\n",
       "      <td>53</td>\n",
       "      <td>47</td>\n",
       "      <td>60</td>\n",
       "      <td>80</td>\n",
       "      <td>60</td>\n",
       "      <td>73</td>\n",
       "      <td>80</td>\n",
       "      <td>8.280</td>\n",
       "    </tr>\n",
       "  </tbody>\n",
       "</table>\n",
       "</div>"
      ],
      "text/plain": [
       "           id                       name position  age  height weight  inf  \\\n",
       "0  2000226646              Stijn Bultman   D (RC)   18  187 cm  80 kg  Sct   \n",
       "1  2000178532           Tobias Slotsager   D (RC)   17  190 cm  82 kg  Wnt   \n",
       "2  2000163579  Aleksander Hammer Kjelsen    D (C)   17  185 cm  78 kg  Wnt   \n",
       "3  2000182819                  Leny Yoro    D (C)   18  191 cm  86 kg    -   \n",
       "4    27161052            Alexander Busch    D (C)   20  190 cm  75 kg    -   \n",
       "\n",
       "              club           division nationality home_grown  \\\n",
       "0  Heracles Almelo         Eredivisie         NED          -   \n",
       "1               OB       3F Superliga         DEN          -   \n",
       "2        Vålerenga        Eliteserien         NOR          -   \n",
       "3            Lille  Ligue 1 Uber Eats         FRA          -   \n",
       "4     Silkeborg IF       3F Superliga         DEN          -   \n",
       "\n",
       "         personality     media_handling         wage  transfer_value  \\\n",
       "0                  -  Scouting Required   $1,100 p/w    $275K - $10M   \n",
       "1                  -  Scouting Required   $3,800 p/w  $250K - $11.5M   \n",
       "2  Fairly Determined       Level-headed     $900 p/w   $210K - $2.1M   \n",
       "3           Resolute       Level-headed  $23,500 p/w    $91M - $115M   \n",
       "4           Balanced     Media-friendly   $5,000 p/w   $5.6M - $8.2M   \n",
       "\n",
       "  asking_price preferred_foot  starts  minutes_played  average_rating  \\\n",
       "0            -     Right Only      15            1321            6.94   \n",
       "1            -          Right      15            1344            6.95   \n",
       "2            -          Right      30            2691            6.95   \n",
       "3            -          Right      10            1124            6.83   \n",
       "4            -          Right      21            1819            6.80   \n",
       "\n",
       "   sub_appearances  minutes/game  index  passes_attempted/90  \\\n",
       "0                1         82.56      0                84.21   \n",
       "1                1         84.00      1                80.22   \n",
       "2                0         89.70      2                53.75   \n",
       "3               12         51.09      3                81.83   \n",
       "4                0         86.62      4                53.73   \n",
       "\n",
       "   passes_completed/90  pass_completion_%  progressive_passes/90  \\\n",
       "0                78.55                 93                   7.15   \n",
       "1                75.00                 93                   5.02   \n",
       "2                47.89                 89                   4.25   \n",
       "3                77.35                 95                   4.88   \n",
       "4                48.34                 90                   4.21   \n",
       "\n",
       "   progressive_pass_rate  key_passes/90  key_pass_%  open_play_key_passes/90  \\\n",
       "0                   8.50           0.14        0.16                     0.07   \n",
       "1                   6.26           0.27        0.33                     0.27   \n",
       "2                   7.90           0.33        0.62                     0.33   \n",
       "3                   5.97           0.08        0.10                     0.08   \n",
       "4                   7.83           0.35        0.64                     0.35   \n",
       "\n",
       "   open_play_key_pass_%  pressures_attempted  pressures_attempted/90  \\\n",
       "0                  0.08                   46                    3.13   \n",
       "1                  0.33                   47                    3.15   \n",
       "2                  0.62                   96                    3.21   \n",
       "3                  0.10                   43                    3.44   \n",
       "4                  0.64                   74                    3.66   \n",
       "\n",
       "   pressures_completed  pressures_completed/90  pressure_success_%  \\\n",
       "0                   19                    1.29               41.30   \n",
       "1                   16                    1.07               34.04   \n",
       "2                   38                    1.27               39.58   \n",
       "3                   15                    1.20               34.88   \n",
       "4                   21                    1.04               28.38   \n",
       "\n",
       "   possession_won/90  possession_lost/90  poss+_/90  poss+__%  \\\n",
       "0               9.13                6.20       2.93     47.26   \n",
       "1              13.06                5.56       7.50    134.89   \n",
       "2              12.88                4.88       8.00    163.93   \n",
       "3              12.17                4.80       7.37    153.54   \n",
       "4              12.77                5.89       6.88    116.81   \n",
       "\n",
       "   tackles_attempted/90  tackles_completed/90  tackle_completion_%  \\\n",
       "0                  1.16                  0.89                   76   \n",
       "1                  0.87                  0.60                   69   \n",
       "2                  1.40                  1.10                   79   \n",
       "3                  1.44                  1.04                   72   \n",
       "4                  1.53                  1.24                   81   \n",
       "\n",
       "   tackles_failed/90  key_tackles/90  tackle_quality  interceptions/90  \\\n",
       "0               0.27            0.00            1.13              1.02   \n",
       "1               0.27            0.33            3.25              1.67   \n",
       "2               0.30            0.30            2.80              1.64   \n",
       "3               0.40            0.48            2.25              1.52   \n",
       "4               0.30            0.49            2.38              2.13   \n",
       "\n",
       "   blocks/90  shots_blocked/90  headers_attempted/90  headers_won/90  \\\n",
       "0       0.61              0.55                  5.86            4.22   \n",
       "1       0.74              0.60                  7.43            6.29   \n",
       "2       0.27              0.27                  8.66            6.69   \n",
       "3       0.64              0.64                  7.53            5.69   \n",
       "4       0.49              0.35                  8.31            6.28   \n",
       "\n",
       "   headers_won_%  headers_lost/90  headers_lost_%  key_headers/90  \\\n",
       "0          72.09             1.64           27.91            0.82   \n",
       "1          84.68             1.14           15.32            1.07   \n",
       "2          77.22             1.97           22.78            0.90   \n",
       "3          75.53             1.84           24.47            0.40   \n",
       "4          75.60             2.03           24.40            0.89   \n",
       "\n",
       "   aerial_challenges_attempted/90  duels_win_%  fouls_won/90  \\\n",
       "0                            5.86        72.82          0.00   \n",
       "1                            7.43        83.06          0.07   \n",
       "2                            8.66        77.41          0.10   \n",
       "3                            7.53        75.00          0.08   \n",
       "4                            8.31        76.38          0.05   \n",
       "\n",
       "   fouls_committed/90  clearances/90  attacking_actions/90  \\\n",
       "0                1.02           1.57                  0.25   \n",
       "1                0.27           0.94                  0.40   \n",
       "2                0.50           1.47                  0.25   \n",
       "3                0.64           0.80                  0.53   \n",
       "4                0.64           1.73                  0.57   \n",
       "\n",
       "   creative_actions/90  defensive_actions/90  excitement_factor/90  \\\n",
       "0                 0.14                 15.19                  0.48   \n",
       "1                 0.33                 21.39                  0.67   \n",
       "2                 0.37                 20.58                  1.10   \n",
       "3                 0.16                 17.60                  0.80   \n",
       "4                 0.45                 22.87                  1.53   \n",
       "\n",
       "   general_performance  goalkeeping  defensive_defender  creative_defender  \\\n",
       "0                   20          100                   0                 47   \n",
       "1                   40          100                  20                 27   \n",
       "2                   47          100                  13                 13   \n",
       "3                   33          100                  40                 40   \n",
       "4                   60          100                  73                 53   \n",
       "\n",
       "   attacking_defender  creative_midfielder  attacking_midfielder  \\\n",
       "0                  53                   13                    13   \n",
       "1                  40                   53                    60   \n",
       "2                  47                    7                     0   \n",
       "3                  20                   33                    53   \n",
       "4                  60                   60                    33   \n",
       "\n",
       "   creative_winger  attacking_winger  creative_forward  attacking_forward  \\\n",
       "0               20                 7                13                  0   \n",
       "1               47                47                60                 40   \n",
       "2                0                13                 7                 13   \n",
       "3               60                33                27                 33   \n",
       "4               40                53                47                 60   \n",
       "\n",
       "   finisher  aerial_threat  reader  assister  price_estimate_M  \n",
       "0        13             13       0         0             6.165  \n",
       "1        60             67      53        13             7.050  \n",
       "2         0             80      40        47             1.386  \n",
       "3        40             20       7        13           123.600  \n",
       "4        80             60      73        80             8.280  "
      ]
     },
     "execution_count": 3,
     "metadata": {},
     "output_type": "execute_result"
    }
   ],
   "source": [
    "# Get transfer valuation estimation\n",
    "def parse_transfer_value(val):\n",
    "    if pd.isnull(val):\n",
    "        return None\n",
    "\n",
    "    # Remove dollar signs and spaces\n",
    "    val = val.replace('$', '').replace(' ', '')\n",
    "\n",
    "    # If it's a range like \"850K-8.4M\"\n",
    "    if '-' in val:\n",
    "        low_str, high_str = val.split('-')\n",
    "        low = parse_single_value(low_str)\n",
    "        high = parse_single_value(high_str)\n",
    "        if low is not None and high is not None:\n",
    "            return (low + high) * (6/10)\n",
    "    else:\n",
    "        return parse_single_value(val)\n",
    "\n",
    "    return None  # fallback\n",
    "\n",
    "def parse_single_value(s):\n",
    "    try:\n",
    "        if s.endswith('M'):\n",
    "            return float(s[:-1]) * 1_000_000\n",
    "        elif s.endswith('K'):\n",
    "            return float(s[:-1]) * 1_000\n",
    "        else:\n",
    "            return float(s)  # just in case it's a plain number\n",
    "    except:\n",
    "        return None\n",
    "\n",
    "# Apply to your DataFrame\n",
    "df_players['price_estimate_M'] = df_players['transfer_value'].apply(parse_transfer_value) / 1000000\n",
    "\n",
    "df_players.head()"
   ]
  },
  {
   "cell_type": "markdown",
   "id": "e917f304",
   "metadata": {},
   "source": [
    "## Plot function"
   ]
  },
  {
   "cell_type": "code",
   "execution_count": 4,
   "id": "f94ec5bb",
   "metadata": {},
   "outputs": [],
   "source": [
    "def scatter_plot(df, x_metric, y_metric, z_metric, \n",
    "                 title, show_color_bar=False, show_name_label=True): \n",
    "    # Set text to 'name' if show_name_label is True, else empty string\n",
    "    text_col = 'name' if show_name_label else None\n",
    "\n",
    "    # Create plotly figure\n",
    "    fig = px.scatter(\n",
    "        df,\n",
    "        x=x_metric,\n",
    "        y=y_metric,\n",
    "        color=z_metric,\n",
    "        text=text_col,\n",
    "        color_continuous_scale='RdYlGn',\n",
    "        labels={z_metric: f'Color Scale ({z_metric})'},\n",
    "        title=title,\n",
    "        width=1200, \n",
    "        height=700    \n",
    "    )\n",
    "\n",
    "    # Format traces\n",
    "    fig.update_traces(\n",
    "        marker=dict(size=10), \n",
    "        textposition='top center',\n",
    "        textfont=dict(size=10),\n",
    "        customdata=df[['name', 'club']],  # Always pass 'name' for hovertemplate\n",
    "        hovertemplate=(\n",
    "            \"<b>%{customdata[0]}</b><br>\" +\n",
    "            \"<b>%{customdata[1]}</b><br><br>\" +\n",
    "            f\"{x_metric}: \" + \"%{x}<br>\" +\n",
    "            f\"{y_metric}: \" + \"%{y}<br>\" +\n",
    "            f\"{z_metric}: \" + \"%{marker.color}<extra></extra>\"\n",
    "        )\n",
    "    )\n",
    "\n",
    "    fig.update_layout(\n",
    "        title={\n",
    "            'text': f'{title} ({len(df): ,.0f})',\n",
    "            'x': 0.5,\n",
    "            'xanchor': 'center'\n",
    "        },\n",
    "        coloraxis_colorbar=dict(title=z_metric),\n",
    "        coloraxis_showscale=show_color_bar,  # Show or hide the color bar\n",
    "        plot_bgcolor='white',\n",
    "        paper_bgcolor='white',\n",
    "        xaxis=dict(showgrid=True, gridcolor='lightgray', zeroline=False),\n",
    "        yaxis=dict(showgrid=True, gridcolor='lightgray', zeroline=False)\n",
    "    )\n",
    "\n",
    "    fig.show()\n"
   ]
  },
  {
   "cell_type": "markdown",
   "id": "22683d93",
   "metadata": {},
   "source": [
    "## Passing analysis"
   ]
  },
  {
   "cell_type": "markdown",
   "id": "5c2da36b",
   "metadata": {},
   "source": [
    "### Full universe"
   ]
  },
  {
   "cell_type": "code",
   "execution_count": 37,
   "id": "c953fb7b",
   "metadata": {},
   "outputs": [
    {
     "data": {
      "application/vnd.plotly.v1+json": {
       "config": {
        "plotlyServerURL": "https://plot.ly"
       },
       "data": [
        {
         "customdata": [
          [
           "Stijn Bultman",
           "Heracles Almelo"
          ],
          [
           "Tobias Slotsager",
           "OB"
          ],
          [
           "Aleksander Hammer Kjelsen",
           "Vålerenga"
          ],
          [
           "Alexander Busch",
           "Silkeborg IF"
          ],
          [
           "Pedro Henrique",
           "Athlético Paranaense"
          ],
          [
           "Kevin Danso",
           "Lens"
          ],
          [
           "Bafodé Diakité",
           "Lille"
          ],
          [
           "Perr Schuurs",
           "Torino"
          ],
          [
           "Modibo Sagnan",
           "Montpellier"
          ]
         ],
         "hovertemplate": "<b>%{customdata[0]}</b><br><b>%{customdata[1]}</b><br><br>passes_attempted/90: %{x}<br>progressive_pass_rate: %{y}<br>pass_completion_%: %{marker.color}<extra></extra>",
         "legendgroup": "",
         "marker": {
          "color": {
           "bdata": "XV1ZWlpaXFta",
           "dtype": "i1"
          },
          "coloraxis": "coloraxis",
          "size": 10,
          "symbol": "circle"
         },
         "mode": "markers+text",
         "name": "",
         "orientation": "v",
         "showlegend": false,
         "text": [
          "Stijn Bultman",
          "Tobias Slotsager",
          "Aleksander Hammer Kjelsen",
          "Alexander Busch",
          "Pedro Henrique",
          "Kevin Danso",
          "Bafodé Diakité",
          "Perr Schuurs",
          "Modibo Sagnan"
         ],
         "textfont": {
          "size": 10
         },
         "textposition": "top center",
         "type": "scatter",
         "x": {
          "bdata": "PQrXo3ANVUCuR+F6FA5UQAAAAAAA4EpAPQrXo3DdSkBcj8L1KJxMQD0K16Nw/U1AZmZmZmbmUUCkcD0K1+NOQEjhehSuB0dA",
          "dtype": "f8"
         },
         "xaxis": "x",
         "y": {
          "bdata": "AAAAAAAAIUAK16NwPQoZQJqZmZmZmR9AUrgehetRH0AAAAAAAAAZQHsUrkfhehxAFK5H4XoUHEBcj8L1KFwoQClcj8L1KB9A",
          "dtype": "f8"
         },
         "yaxis": "y"
        }
       ],
       "layout": {
        "coloraxis": {
         "colorbar": {
          "title": {
           "text": "pass_completion_%"
          }
         },
         "colorscale": [
          [
           0,
           "rgb(165,0,38)"
          ],
          [
           0.1,
           "rgb(215,48,39)"
          ],
          [
           0.2,
           "rgb(244,109,67)"
          ],
          [
           0.3,
           "rgb(253,174,97)"
          ],
          [
           0.4,
           "rgb(254,224,139)"
          ],
          [
           0.5,
           "rgb(255,255,191)"
          ],
          [
           0.6,
           "rgb(217,239,139)"
          ],
          [
           0.7,
           "rgb(166,217,106)"
          ],
          [
           0.8,
           "rgb(102,189,99)"
          ],
          [
           0.9,
           "rgb(26,152,80)"
          ],
          [
           1,
           "rgb(0,104,55)"
          ]
         ],
         "showscale": false
        },
        "height": 700,
        "legend": {
         "tracegroupgap": 0
        },
        "paper_bgcolor": "white",
        "plot_bgcolor": "white",
        "template": {
         "data": {
          "bar": [
           {
            "error_x": {
             "color": "#2a3f5f"
            },
            "error_y": {
             "color": "#2a3f5f"
            },
            "marker": {
             "line": {
              "color": "#E5ECF6",
              "width": 0.5
             },
             "pattern": {
              "fillmode": "overlay",
              "size": 10,
              "solidity": 0.2
             }
            },
            "type": "bar"
           }
          ],
          "barpolar": [
           {
            "marker": {
             "line": {
              "color": "#E5ECF6",
              "width": 0.5
             },
             "pattern": {
              "fillmode": "overlay",
              "size": 10,
              "solidity": 0.2
             }
            },
            "type": "barpolar"
           }
          ],
          "carpet": [
           {
            "aaxis": {
             "endlinecolor": "#2a3f5f",
             "gridcolor": "white",
             "linecolor": "white",
             "minorgridcolor": "white",
             "startlinecolor": "#2a3f5f"
            },
            "baxis": {
             "endlinecolor": "#2a3f5f",
             "gridcolor": "white",
             "linecolor": "white",
             "minorgridcolor": "white",
             "startlinecolor": "#2a3f5f"
            },
            "type": "carpet"
           }
          ],
          "choropleth": [
           {
            "colorbar": {
             "outlinewidth": 0,
             "ticks": ""
            },
            "type": "choropleth"
           }
          ],
          "contour": [
           {
            "colorbar": {
             "outlinewidth": 0,
             "ticks": ""
            },
            "colorscale": [
             [
              0,
              "#0d0887"
             ],
             [
              0.1111111111111111,
              "#46039f"
             ],
             [
              0.2222222222222222,
              "#7201a8"
             ],
             [
              0.3333333333333333,
              "#9c179e"
             ],
             [
              0.4444444444444444,
              "#bd3786"
             ],
             [
              0.5555555555555556,
              "#d8576b"
             ],
             [
              0.6666666666666666,
              "#ed7953"
             ],
             [
              0.7777777777777778,
              "#fb9f3a"
             ],
             [
              0.8888888888888888,
              "#fdca26"
             ],
             [
              1,
              "#f0f921"
             ]
            ],
            "type": "contour"
           }
          ],
          "contourcarpet": [
           {
            "colorbar": {
             "outlinewidth": 0,
             "ticks": ""
            },
            "type": "contourcarpet"
           }
          ],
          "heatmap": [
           {
            "colorbar": {
             "outlinewidth": 0,
             "ticks": ""
            },
            "colorscale": [
             [
              0,
              "#0d0887"
             ],
             [
              0.1111111111111111,
              "#46039f"
             ],
             [
              0.2222222222222222,
              "#7201a8"
             ],
             [
              0.3333333333333333,
              "#9c179e"
             ],
             [
              0.4444444444444444,
              "#bd3786"
             ],
             [
              0.5555555555555556,
              "#d8576b"
             ],
             [
              0.6666666666666666,
              "#ed7953"
             ],
             [
              0.7777777777777778,
              "#fb9f3a"
             ],
             [
              0.8888888888888888,
              "#fdca26"
             ],
             [
              1,
              "#f0f921"
             ]
            ],
            "type": "heatmap"
           }
          ],
          "histogram": [
           {
            "marker": {
             "pattern": {
              "fillmode": "overlay",
              "size": 10,
              "solidity": 0.2
             }
            },
            "type": "histogram"
           }
          ],
          "histogram2d": [
           {
            "colorbar": {
             "outlinewidth": 0,
             "ticks": ""
            },
            "colorscale": [
             [
              0,
              "#0d0887"
             ],
             [
              0.1111111111111111,
              "#46039f"
             ],
             [
              0.2222222222222222,
              "#7201a8"
             ],
             [
              0.3333333333333333,
              "#9c179e"
             ],
             [
              0.4444444444444444,
              "#bd3786"
             ],
             [
              0.5555555555555556,
              "#d8576b"
             ],
             [
              0.6666666666666666,
              "#ed7953"
             ],
             [
              0.7777777777777778,
              "#fb9f3a"
             ],
             [
              0.8888888888888888,
              "#fdca26"
             ],
             [
              1,
              "#f0f921"
             ]
            ],
            "type": "histogram2d"
           }
          ],
          "histogram2dcontour": [
           {
            "colorbar": {
             "outlinewidth": 0,
             "ticks": ""
            },
            "colorscale": [
             [
              0,
              "#0d0887"
             ],
             [
              0.1111111111111111,
              "#46039f"
             ],
             [
              0.2222222222222222,
              "#7201a8"
             ],
             [
              0.3333333333333333,
              "#9c179e"
             ],
             [
              0.4444444444444444,
              "#bd3786"
             ],
             [
              0.5555555555555556,
              "#d8576b"
             ],
             [
              0.6666666666666666,
              "#ed7953"
             ],
             [
              0.7777777777777778,
              "#fb9f3a"
             ],
             [
              0.8888888888888888,
              "#fdca26"
             ],
             [
              1,
              "#f0f921"
             ]
            ],
            "type": "histogram2dcontour"
           }
          ],
          "mesh3d": [
           {
            "colorbar": {
             "outlinewidth": 0,
             "ticks": ""
            },
            "type": "mesh3d"
           }
          ],
          "parcoords": [
           {
            "line": {
             "colorbar": {
              "outlinewidth": 0,
              "ticks": ""
             }
            },
            "type": "parcoords"
           }
          ],
          "pie": [
           {
            "automargin": true,
            "type": "pie"
           }
          ],
          "scatter": [
           {
            "fillpattern": {
             "fillmode": "overlay",
             "size": 10,
             "solidity": 0.2
            },
            "type": "scatter"
           }
          ],
          "scatter3d": [
           {
            "line": {
             "colorbar": {
              "outlinewidth": 0,
              "ticks": ""
             }
            },
            "marker": {
             "colorbar": {
              "outlinewidth": 0,
              "ticks": ""
             }
            },
            "type": "scatter3d"
           }
          ],
          "scattercarpet": [
           {
            "marker": {
             "colorbar": {
              "outlinewidth": 0,
              "ticks": ""
             }
            },
            "type": "scattercarpet"
           }
          ],
          "scattergeo": [
           {
            "marker": {
             "colorbar": {
              "outlinewidth": 0,
              "ticks": ""
             }
            },
            "type": "scattergeo"
           }
          ],
          "scattergl": [
           {
            "marker": {
             "colorbar": {
              "outlinewidth": 0,
              "ticks": ""
             }
            },
            "type": "scattergl"
           }
          ],
          "scattermap": [
           {
            "marker": {
             "colorbar": {
              "outlinewidth": 0,
              "ticks": ""
             }
            },
            "type": "scattermap"
           }
          ],
          "scattermapbox": [
           {
            "marker": {
             "colorbar": {
              "outlinewidth": 0,
              "ticks": ""
             }
            },
            "type": "scattermapbox"
           }
          ],
          "scatterpolar": [
           {
            "marker": {
             "colorbar": {
              "outlinewidth": 0,
              "ticks": ""
             }
            },
            "type": "scatterpolar"
           }
          ],
          "scatterpolargl": [
           {
            "marker": {
             "colorbar": {
              "outlinewidth": 0,
              "ticks": ""
             }
            },
            "type": "scatterpolargl"
           }
          ],
          "scatterternary": [
           {
            "marker": {
             "colorbar": {
              "outlinewidth": 0,
              "ticks": ""
             }
            },
            "type": "scatterternary"
           }
          ],
          "surface": [
           {
            "colorbar": {
             "outlinewidth": 0,
             "ticks": ""
            },
            "colorscale": [
             [
              0,
              "#0d0887"
             ],
             [
              0.1111111111111111,
              "#46039f"
             ],
             [
              0.2222222222222222,
              "#7201a8"
             ],
             [
              0.3333333333333333,
              "#9c179e"
             ],
             [
              0.4444444444444444,
              "#bd3786"
             ],
             [
              0.5555555555555556,
              "#d8576b"
             ],
             [
              0.6666666666666666,
              "#ed7953"
             ],
             [
              0.7777777777777778,
              "#fb9f3a"
             ],
             [
              0.8888888888888888,
              "#fdca26"
             ],
             [
              1,
              "#f0f921"
             ]
            ],
            "type": "surface"
           }
          ],
          "table": [
           {
            "cells": {
             "fill": {
              "color": "#EBF0F8"
             },
             "line": {
              "color": "white"
             }
            },
            "header": {
             "fill": {
              "color": "#C8D4E3"
             },
             "line": {
              "color": "white"
             }
            },
            "type": "table"
           }
          ]
         },
         "layout": {
          "annotationdefaults": {
           "arrowcolor": "#2a3f5f",
           "arrowhead": 0,
           "arrowwidth": 1
          },
          "autotypenumbers": "strict",
          "coloraxis": {
           "colorbar": {
            "outlinewidth": 0,
            "ticks": ""
           }
          },
          "colorscale": {
           "diverging": [
            [
             0,
             "#8e0152"
            ],
            [
             0.1,
             "#c51b7d"
            ],
            [
             0.2,
             "#de77ae"
            ],
            [
             0.3,
             "#f1b6da"
            ],
            [
             0.4,
             "#fde0ef"
            ],
            [
             0.5,
             "#f7f7f7"
            ],
            [
             0.6,
             "#e6f5d0"
            ],
            [
             0.7,
             "#b8e186"
            ],
            [
             0.8,
             "#7fbc41"
            ],
            [
             0.9,
             "#4d9221"
            ],
            [
             1,
             "#276419"
            ]
           ],
           "sequential": [
            [
             0,
             "#0d0887"
            ],
            [
             0.1111111111111111,
             "#46039f"
            ],
            [
             0.2222222222222222,
             "#7201a8"
            ],
            [
             0.3333333333333333,
             "#9c179e"
            ],
            [
             0.4444444444444444,
             "#bd3786"
            ],
            [
             0.5555555555555556,
             "#d8576b"
            ],
            [
             0.6666666666666666,
             "#ed7953"
            ],
            [
             0.7777777777777778,
             "#fb9f3a"
            ],
            [
             0.8888888888888888,
             "#fdca26"
            ],
            [
             1,
             "#f0f921"
            ]
           ],
           "sequentialminus": [
            [
             0,
             "#0d0887"
            ],
            [
             0.1111111111111111,
             "#46039f"
            ],
            [
             0.2222222222222222,
             "#7201a8"
            ],
            [
             0.3333333333333333,
             "#9c179e"
            ],
            [
             0.4444444444444444,
             "#bd3786"
            ],
            [
             0.5555555555555556,
             "#d8576b"
            ],
            [
             0.6666666666666666,
             "#ed7953"
            ],
            [
             0.7777777777777778,
             "#fb9f3a"
            ],
            [
             0.8888888888888888,
             "#fdca26"
            ],
            [
             1,
             "#f0f921"
            ]
           ]
          },
          "colorway": [
           "#636efa",
           "#EF553B",
           "#00cc96",
           "#ab63fa",
           "#FFA15A",
           "#19d3f3",
           "#FF6692",
           "#B6E880",
           "#FF97FF",
           "#FECB52"
          ],
          "font": {
           "color": "#2a3f5f"
          },
          "geo": {
           "bgcolor": "white",
           "lakecolor": "white",
           "landcolor": "#E5ECF6",
           "showlakes": true,
           "showland": true,
           "subunitcolor": "white"
          },
          "hoverlabel": {
           "align": "left"
          },
          "hovermode": "closest",
          "mapbox": {
           "style": "light"
          },
          "paper_bgcolor": "white",
          "plot_bgcolor": "#E5ECF6",
          "polar": {
           "angularaxis": {
            "gridcolor": "white",
            "linecolor": "white",
            "ticks": ""
           },
           "bgcolor": "#E5ECF6",
           "radialaxis": {
            "gridcolor": "white",
            "linecolor": "white",
            "ticks": ""
           }
          },
          "scene": {
           "xaxis": {
            "backgroundcolor": "#E5ECF6",
            "gridcolor": "white",
            "gridwidth": 2,
            "linecolor": "white",
            "showbackground": true,
            "ticks": "",
            "zerolinecolor": "white"
           },
           "yaxis": {
            "backgroundcolor": "#E5ECF6",
            "gridcolor": "white",
            "gridwidth": 2,
            "linecolor": "white",
            "showbackground": true,
            "ticks": "",
            "zerolinecolor": "white"
           },
           "zaxis": {
            "backgroundcolor": "#E5ECF6",
            "gridcolor": "white",
            "gridwidth": 2,
            "linecolor": "white",
            "showbackground": true,
            "ticks": "",
            "zerolinecolor": "white"
           }
          },
          "shapedefaults": {
           "line": {
            "color": "#2a3f5f"
           }
          },
          "ternary": {
           "aaxis": {
            "gridcolor": "white",
            "linecolor": "white",
            "ticks": ""
           },
           "baxis": {
            "gridcolor": "white",
            "linecolor": "white",
            "ticks": ""
           },
           "bgcolor": "#E5ECF6",
           "caxis": {
            "gridcolor": "white",
            "linecolor": "white",
            "ticks": ""
           }
          },
          "title": {
           "x": 0.05
          },
          "xaxis": {
           "automargin": true,
           "gridcolor": "white",
           "linecolor": "white",
           "ticks": "",
           "title": {
            "standoff": 15
           },
           "zerolinecolor": "white",
           "zerolinewidth": 2
          },
          "yaxis": {
           "automargin": true,
           "gridcolor": "white",
           "linecolor": "white",
           "ticks": "",
           "title": {
            "standoff": 15
           },
           "zerolinecolor": "white",
           "zerolinewidth": 2
          }
         }
        },
        "title": {
         "text": "Passing quality ( 9)",
         "x": 0.5,
         "xanchor": "center"
        },
        "width": 1200,
        "xaxis": {
         "anchor": "y",
         "domain": [
          0,
          1
         ],
         "gridcolor": "lightgray",
         "showgrid": true,
         "title": {
          "text": "passes_attempted/90"
         },
         "zeroline": false
        },
        "yaxis": {
         "anchor": "x",
         "domain": [
          0,
          1
         ],
         "gridcolor": "lightgray",
         "showgrid": true,
         "title": {
          "text": "progressive_pass_rate"
         },
         "zeroline": false
        }
       }
      }
     },
     "metadata": {},
     "output_type": "display_data"
    }
   ],
   "source": [
    "# Initialize list of targets\n",
    "targets = df_players['id']\n",
    "\n",
    "scatter_plot(df_players,\n",
    "             x_metric='passes_attempted/90', \n",
    "             y_metric='progressive_pass_rate',\n",
    "             z_metric='pass_completion_%',\n",
    "             title='Passing quality', \n",
    "             show_name_label=True\n",
    ")"
   ]
  },
  {
   "cell_type": "code",
   "execution_count": 38,
   "id": "ecd3f0b3",
   "metadata": {},
   "outputs": [
    {
     "data": {
      "text/html": [
       "<div>\n",
       "<style scoped>\n",
       "    .dataframe tbody tr th:only-of-type {\n",
       "        vertical-align: middle;\n",
       "    }\n",
       "\n",
       "    .dataframe tbody tr th {\n",
       "        vertical-align: top;\n",
       "    }\n",
       "\n",
       "    .dataframe thead th {\n",
       "        text-align: right;\n",
       "    }\n",
       "</style>\n",
       "<table border=\"1\" class=\"dataframe\">\n",
       "  <thead>\n",
       "    <tr style=\"text-align: right;\">\n",
       "      <th></th>\n",
       "      <th>id</th>\n",
       "      <th>name</th>\n",
       "      <th>position</th>\n",
       "      <th>age</th>\n",
       "      <th>height</th>\n",
       "      <th>weight</th>\n",
       "      <th>inf</th>\n",
       "      <th>club</th>\n",
       "      <th>division</th>\n",
       "      <th>nationality</th>\n",
       "      <th>home_grown</th>\n",
       "      <th>personality</th>\n",
       "      <th>media_handling</th>\n",
       "      <th>wage</th>\n",
       "      <th>transfer_value</th>\n",
       "      <th>asking_price</th>\n",
       "      <th>preferred_foot</th>\n",
       "      <th>starts</th>\n",
       "      <th>minutes_played</th>\n",
       "      <th>average_rating</th>\n",
       "      <th>sub_appearances</th>\n",
       "      <th>minutes/game</th>\n",
       "      <th>index</th>\n",
       "      <th>passes_attempted/90</th>\n",
       "      <th>passes_completed/90</th>\n",
       "      <th>pass_completion_%</th>\n",
       "      <th>progressive_passes/90</th>\n",
       "      <th>progressive_pass_rate</th>\n",
       "      <th>key_passes/90</th>\n",
       "      <th>key_pass_%</th>\n",
       "      <th>open_play_key_passes/90</th>\n",
       "      <th>open_play_key_pass_%</th>\n",
       "      <th>pressures_attempted</th>\n",
       "      <th>pressures_attempted/90</th>\n",
       "      <th>pressures_completed</th>\n",
       "      <th>pressures_completed/90</th>\n",
       "      <th>pressure_success_%</th>\n",
       "      <th>possession_won/90</th>\n",
       "      <th>possession_lost/90</th>\n",
       "      <th>poss+_/90</th>\n",
       "      <th>poss+__%</th>\n",
       "      <th>tackles_attempted/90</th>\n",
       "      <th>tackles_completed/90</th>\n",
       "      <th>tackle_completion_%</th>\n",
       "      <th>tackles_failed/90</th>\n",
       "      <th>key_tackles/90</th>\n",
       "      <th>tackle_quality</th>\n",
       "      <th>interceptions/90</th>\n",
       "      <th>blocks/90</th>\n",
       "      <th>shots_blocked/90</th>\n",
       "      <th>headers_attempted/90</th>\n",
       "      <th>headers_won/90</th>\n",
       "      <th>headers_won_%</th>\n",
       "      <th>headers_lost/90</th>\n",
       "      <th>headers_lost_%</th>\n",
       "      <th>key_headers/90</th>\n",
       "      <th>aerial_challenges_attempted/90</th>\n",
       "      <th>duels_win_%</th>\n",
       "      <th>fouls_won/90</th>\n",
       "      <th>fouls_committed/90</th>\n",
       "      <th>clearances/90</th>\n",
       "      <th>attacking_actions/90</th>\n",
       "      <th>creative_actions/90</th>\n",
       "      <th>defensive_actions/90</th>\n",
       "      <th>excitement_factor/90</th>\n",
       "      <th>general_performance</th>\n",
       "      <th>goalkeeping</th>\n",
       "      <th>defensive_defender</th>\n",
       "      <th>creative_defender</th>\n",
       "      <th>attacking_defender</th>\n",
       "      <th>creative_midfielder</th>\n",
       "      <th>attacking_midfielder</th>\n",
       "      <th>creative_winger</th>\n",
       "      <th>attacking_winger</th>\n",
       "      <th>creative_forward</th>\n",
       "      <th>attacking_forward</th>\n",
       "      <th>finisher</th>\n",
       "      <th>aerial_threat</th>\n",
       "      <th>reader</th>\n",
       "      <th>assister</th>\n",
       "      <th>price_estimate_M</th>\n",
       "    </tr>\n",
       "  </thead>\n",
       "  <tbody>\n",
       "  </tbody>\n",
       "</table>\n",
       "</div>"
      ],
      "text/plain": [
       "Empty DataFrame\n",
       "Columns: [id, name, position, age, height, weight, inf, club, division, nationality, home_grown, personality, media_handling, wage, transfer_value, asking_price, preferred_foot, starts, minutes_played, average_rating, sub_appearances, minutes/game, index, passes_attempted/90, passes_completed/90, pass_completion_%, progressive_passes/90, progressive_pass_rate, key_passes/90, key_pass_%, open_play_key_passes/90, open_play_key_pass_%, pressures_attempted, pressures_attempted/90, pressures_completed, pressures_completed/90, pressure_success_%, possession_won/90, possession_lost/90, poss+_/90, poss+__%, tackles_attempted/90, tackles_completed/90, tackle_completion_%, tackles_failed/90, key_tackles/90, tackle_quality, interceptions/90, blocks/90, shots_blocked/90, headers_attempted/90, headers_won/90, headers_won_%, headers_lost/90, headers_lost_%, key_headers/90, aerial_challenges_attempted/90, duels_win_%, fouls_won/90, fouls_committed/90, clearances/90, attacking_actions/90, creative_actions/90, defensive_actions/90, excitement_factor/90, general_performance, goalkeeping, defensive_defender, creative_defender, attacking_defender, creative_midfielder, attacking_midfielder, creative_winger, attacking_winger, creative_forward, attacking_forward, finisher, aerial_threat, reader, assister, price_estimate_M]\n",
       "Index: []"
      ]
     },
     "execution_count": 38,
     "metadata": {},
     "output_type": "execute_result"
    }
   ],
   "source": [
    "# Players to drop\n",
    "drop_list = [\n",
    "    2000182819, \n",
    "    16147700\n",
    "]\n",
    "\n",
    "df_players = df_players[~df_players['id'].isin(drop_list)]\n",
    "\n",
    "df_players[df_players['name'].str.contains('Yoro')]"
   ]
  },
  {
   "cell_type": "markdown",
   "id": "db5f786f",
   "metadata": {},
   "source": [
    "## Possession Analysis"
   ]
  },
  {
   "cell_type": "code",
   "execution_count": 39,
   "id": "c382547d",
   "metadata": {},
   "outputs": [
    {
     "data": {
      "application/vnd.plotly.v1+json": {
       "config": {
        "plotlyServerURL": "https://plot.ly"
       },
       "data": [
        {
         "customdata": [
          [
           "Stijn Bultman",
           "Heracles Almelo"
          ],
          [
           "Tobias Slotsager",
           "OB"
          ],
          [
           "Aleksander Hammer Kjelsen",
           "Vålerenga"
          ],
          [
           "Alexander Busch",
           "Silkeborg IF"
          ],
          [
           "Pedro Henrique",
           "Athlético Paranaense"
          ],
          [
           "Kevin Danso",
           "Lens"
          ],
          [
           "Bafodé Diakité",
           "Lille"
          ],
          [
           "Perr Schuurs",
           "Torino"
          ],
          [
           "Modibo Sagnan",
           "Montpellier"
          ]
         ],
         "hovertemplate": "<b>%{customdata[0]}</b><br><b>%{customdata[1]}</b><br><br>possession_lost/90: %{x}<br>possession_won/90: %{y}<br>poss+_/90: %{marker.color}<extra></extra>",
         "legendgroup": "",
         "marker": {
          "color": {
           "bdata": "cT0K16NwB0AAAAAAAAAeQAAAAAAAACBAhetRuB6FG0CF61G4HgUlQAAAAAAAABRAzczMzMzMEEDNzMzMzMwdQK5H4XoUrhRA",
           "dtype": "f8"
          },
          "coloraxis": "coloraxis",
          "size": 10,
          "symbol": "circle"
         },
         "mode": "markers+text",
         "name": "",
         "orientation": "v",
         "showlegend": false,
         "text": [
          "Stijn Bultman",
          "Tobias Slotsager",
          "Aleksander Hammer Kjelsen",
          "Alexander Busch",
          "Pedro Henrique",
          "Kevin Danso",
          "Bafodé Diakité",
          "Perr Schuurs",
          "Modibo Sagnan"
         ],
         "textfont": {
          "size": 10
         },
         "textposition": "top center",
         "type": "scatter",
         "x": {
          "bdata": "zczMzMzMGEA9CtejcD0WQIXrUbgehRNAj8L1KFyPF0DhehSuR+EQQGZmZmZmZhxArkfhehSuHkCamZmZmZkYQJqZmZmZmRZA",
          "dtype": "f8"
         },
         "xaxis": "x",
         "y": {
          "bdata": "w/UoXI9CIkAfhetRuB4qQMP1KFyPwilACtejcD2KKUD2KFyPwnUtQDMzMzMzMyhAPQrXo3C9J0AzMzMzMzMrQKRwPQrXoyVA",
          "dtype": "f8"
         },
         "yaxis": "y"
        }
       ],
       "layout": {
        "coloraxis": {
         "colorbar": {
          "title": {
           "text": "poss+_/90"
          }
         },
         "colorscale": [
          [
           0,
           "rgb(165,0,38)"
          ],
          [
           0.1,
           "rgb(215,48,39)"
          ],
          [
           0.2,
           "rgb(244,109,67)"
          ],
          [
           0.3,
           "rgb(253,174,97)"
          ],
          [
           0.4,
           "rgb(254,224,139)"
          ],
          [
           0.5,
           "rgb(255,255,191)"
          ],
          [
           0.6,
           "rgb(217,239,139)"
          ],
          [
           0.7,
           "rgb(166,217,106)"
          ],
          [
           0.8,
           "rgb(102,189,99)"
          ],
          [
           0.9,
           "rgb(26,152,80)"
          ],
          [
           1,
           "rgb(0,104,55)"
          ]
         ],
         "showscale": false
        },
        "height": 700,
        "legend": {
         "tracegroupgap": 0
        },
        "paper_bgcolor": "white",
        "plot_bgcolor": "white",
        "template": {
         "data": {
          "bar": [
           {
            "error_x": {
             "color": "#2a3f5f"
            },
            "error_y": {
             "color": "#2a3f5f"
            },
            "marker": {
             "line": {
              "color": "#E5ECF6",
              "width": 0.5
             },
             "pattern": {
              "fillmode": "overlay",
              "size": 10,
              "solidity": 0.2
             }
            },
            "type": "bar"
           }
          ],
          "barpolar": [
           {
            "marker": {
             "line": {
              "color": "#E5ECF6",
              "width": 0.5
             },
             "pattern": {
              "fillmode": "overlay",
              "size": 10,
              "solidity": 0.2
             }
            },
            "type": "barpolar"
           }
          ],
          "carpet": [
           {
            "aaxis": {
             "endlinecolor": "#2a3f5f",
             "gridcolor": "white",
             "linecolor": "white",
             "minorgridcolor": "white",
             "startlinecolor": "#2a3f5f"
            },
            "baxis": {
             "endlinecolor": "#2a3f5f",
             "gridcolor": "white",
             "linecolor": "white",
             "minorgridcolor": "white",
             "startlinecolor": "#2a3f5f"
            },
            "type": "carpet"
           }
          ],
          "choropleth": [
           {
            "colorbar": {
             "outlinewidth": 0,
             "ticks": ""
            },
            "type": "choropleth"
           }
          ],
          "contour": [
           {
            "colorbar": {
             "outlinewidth": 0,
             "ticks": ""
            },
            "colorscale": [
             [
              0,
              "#0d0887"
             ],
             [
              0.1111111111111111,
              "#46039f"
             ],
             [
              0.2222222222222222,
              "#7201a8"
             ],
             [
              0.3333333333333333,
              "#9c179e"
             ],
             [
              0.4444444444444444,
              "#bd3786"
             ],
             [
              0.5555555555555556,
              "#d8576b"
             ],
             [
              0.6666666666666666,
              "#ed7953"
             ],
             [
              0.7777777777777778,
              "#fb9f3a"
             ],
             [
              0.8888888888888888,
              "#fdca26"
             ],
             [
              1,
              "#f0f921"
             ]
            ],
            "type": "contour"
           }
          ],
          "contourcarpet": [
           {
            "colorbar": {
             "outlinewidth": 0,
             "ticks": ""
            },
            "type": "contourcarpet"
           }
          ],
          "heatmap": [
           {
            "colorbar": {
             "outlinewidth": 0,
             "ticks": ""
            },
            "colorscale": [
             [
              0,
              "#0d0887"
             ],
             [
              0.1111111111111111,
              "#46039f"
             ],
             [
              0.2222222222222222,
              "#7201a8"
             ],
             [
              0.3333333333333333,
              "#9c179e"
             ],
             [
              0.4444444444444444,
              "#bd3786"
             ],
             [
              0.5555555555555556,
              "#d8576b"
             ],
             [
              0.6666666666666666,
              "#ed7953"
             ],
             [
              0.7777777777777778,
              "#fb9f3a"
             ],
             [
              0.8888888888888888,
              "#fdca26"
             ],
             [
              1,
              "#f0f921"
             ]
            ],
            "type": "heatmap"
           }
          ],
          "histogram": [
           {
            "marker": {
             "pattern": {
              "fillmode": "overlay",
              "size": 10,
              "solidity": 0.2
             }
            },
            "type": "histogram"
           }
          ],
          "histogram2d": [
           {
            "colorbar": {
             "outlinewidth": 0,
             "ticks": ""
            },
            "colorscale": [
             [
              0,
              "#0d0887"
             ],
             [
              0.1111111111111111,
              "#46039f"
             ],
             [
              0.2222222222222222,
              "#7201a8"
             ],
             [
              0.3333333333333333,
              "#9c179e"
             ],
             [
              0.4444444444444444,
              "#bd3786"
             ],
             [
              0.5555555555555556,
              "#d8576b"
             ],
             [
              0.6666666666666666,
              "#ed7953"
             ],
             [
              0.7777777777777778,
              "#fb9f3a"
             ],
             [
              0.8888888888888888,
              "#fdca26"
             ],
             [
              1,
              "#f0f921"
             ]
            ],
            "type": "histogram2d"
           }
          ],
          "histogram2dcontour": [
           {
            "colorbar": {
             "outlinewidth": 0,
             "ticks": ""
            },
            "colorscale": [
             [
              0,
              "#0d0887"
             ],
             [
              0.1111111111111111,
              "#46039f"
             ],
             [
              0.2222222222222222,
              "#7201a8"
             ],
             [
              0.3333333333333333,
              "#9c179e"
             ],
             [
              0.4444444444444444,
              "#bd3786"
             ],
             [
              0.5555555555555556,
              "#d8576b"
             ],
             [
              0.6666666666666666,
              "#ed7953"
             ],
             [
              0.7777777777777778,
              "#fb9f3a"
             ],
             [
              0.8888888888888888,
              "#fdca26"
             ],
             [
              1,
              "#f0f921"
             ]
            ],
            "type": "histogram2dcontour"
           }
          ],
          "mesh3d": [
           {
            "colorbar": {
             "outlinewidth": 0,
             "ticks": ""
            },
            "type": "mesh3d"
           }
          ],
          "parcoords": [
           {
            "line": {
             "colorbar": {
              "outlinewidth": 0,
              "ticks": ""
             }
            },
            "type": "parcoords"
           }
          ],
          "pie": [
           {
            "automargin": true,
            "type": "pie"
           }
          ],
          "scatter": [
           {
            "fillpattern": {
             "fillmode": "overlay",
             "size": 10,
             "solidity": 0.2
            },
            "type": "scatter"
           }
          ],
          "scatter3d": [
           {
            "line": {
             "colorbar": {
              "outlinewidth": 0,
              "ticks": ""
             }
            },
            "marker": {
             "colorbar": {
              "outlinewidth": 0,
              "ticks": ""
             }
            },
            "type": "scatter3d"
           }
          ],
          "scattercarpet": [
           {
            "marker": {
             "colorbar": {
              "outlinewidth": 0,
              "ticks": ""
             }
            },
            "type": "scattercarpet"
           }
          ],
          "scattergeo": [
           {
            "marker": {
             "colorbar": {
              "outlinewidth": 0,
              "ticks": ""
             }
            },
            "type": "scattergeo"
           }
          ],
          "scattergl": [
           {
            "marker": {
             "colorbar": {
              "outlinewidth": 0,
              "ticks": ""
             }
            },
            "type": "scattergl"
           }
          ],
          "scattermap": [
           {
            "marker": {
             "colorbar": {
              "outlinewidth": 0,
              "ticks": ""
             }
            },
            "type": "scattermap"
           }
          ],
          "scattermapbox": [
           {
            "marker": {
             "colorbar": {
              "outlinewidth": 0,
              "ticks": ""
             }
            },
            "type": "scattermapbox"
           }
          ],
          "scatterpolar": [
           {
            "marker": {
             "colorbar": {
              "outlinewidth": 0,
              "ticks": ""
             }
            },
            "type": "scatterpolar"
           }
          ],
          "scatterpolargl": [
           {
            "marker": {
             "colorbar": {
              "outlinewidth": 0,
              "ticks": ""
             }
            },
            "type": "scatterpolargl"
           }
          ],
          "scatterternary": [
           {
            "marker": {
             "colorbar": {
              "outlinewidth": 0,
              "ticks": ""
             }
            },
            "type": "scatterternary"
           }
          ],
          "surface": [
           {
            "colorbar": {
             "outlinewidth": 0,
             "ticks": ""
            },
            "colorscale": [
             [
              0,
              "#0d0887"
             ],
             [
              0.1111111111111111,
              "#46039f"
             ],
             [
              0.2222222222222222,
              "#7201a8"
             ],
             [
              0.3333333333333333,
              "#9c179e"
             ],
             [
              0.4444444444444444,
              "#bd3786"
             ],
             [
              0.5555555555555556,
              "#d8576b"
             ],
             [
              0.6666666666666666,
              "#ed7953"
             ],
             [
              0.7777777777777778,
              "#fb9f3a"
             ],
             [
              0.8888888888888888,
              "#fdca26"
             ],
             [
              1,
              "#f0f921"
             ]
            ],
            "type": "surface"
           }
          ],
          "table": [
           {
            "cells": {
             "fill": {
              "color": "#EBF0F8"
             },
             "line": {
              "color": "white"
             }
            },
            "header": {
             "fill": {
              "color": "#C8D4E3"
             },
             "line": {
              "color": "white"
             }
            },
            "type": "table"
           }
          ]
         },
         "layout": {
          "annotationdefaults": {
           "arrowcolor": "#2a3f5f",
           "arrowhead": 0,
           "arrowwidth": 1
          },
          "autotypenumbers": "strict",
          "coloraxis": {
           "colorbar": {
            "outlinewidth": 0,
            "ticks": ""
           }
          },
          "colorscale": {
           "diverging": [
            [
             0,
             "#8e0152"
            ],
            [
             0.1,
             "#c51b7d"
            ],
            [
             0.2,
             "#de77ae"
            ],
            [
             0.3,
             "#f1b6da"
            ],
            [
             0.4,
             "#fde0ef"
            ],
            [
             0.5,
             "#f7f7f7"
            ],
            [
             0.6,
             "#e6f5d0"
            ],
            [
             0.7,
             "#b8e186"
            ],
            [
             0.8,
             "#7fbc41"
            ],
            [
             0.9,
             "#4d9221"
            ],
            [
             1,
             "#276419"
            ]
           ],
           "sequential": [
            [
             0,
             "#0d0887"
            ],
            [
             0.1111111111111111,
             "#46039f"
            ],
            [
             0.2222222222222222,
             "#7201a8"
            ],
            [
             0.3333333333333333,
             "#9c179e"
            ],
            [
             0.4444444444444444,
             "#bd3786"
            ],
            [
             0.5555555555555556,
             "#d8576b"
            ],
            [
             0.6666666666666666,
             "#ed7953"
            ],
            [
             0.7777777777777778,
             "#fb9f3a"
            ],
            [
             0.8888888888888888,
             "#fdca26"
            ],
            [
             1,
             "#f0f921"
            ]
           ],
           "sequentialminus": [
            [
             0,
             "#0d0887"
            ],
            [
             0.1111111111111111,
             "#46039f"
            ],
            [
             0.2222222222222222,
             "#7201a8"
            ],
            [
             0.3333333333333333,
             "#9c179e"
            ],
            [
             0.4444444444444444,
             "#bd3786"
            ],
            [
             0.5555555555555556,
             "#d8576b"
            ],
            [
             0.6666666666666666,
             "#ed7953"
            ],
            [
             0.7777777777777778,
             "#fb9f3a"
            ],
            [
             0.8888888888888888,
             "#fdca26"
            ],
            [
             1,
             "#f0f921"
            ]
           ]
          },
          "colorway": [
           "#636efa",
           "#EF553B",
           "#00cc96",
           "#ab63fa",
           "#FFA15A",
           "#19d3f3",
           "#FF6692",
           "#B6E880",
           "#FF97FF",
           "#FECB52"
          ],
          "font": {
           "color": "#2a3f5f"
          },
          "geo": {
           "bgcolor": "white",
           "lakecolor": "white",
           "landcolor": "#E5ECF6",
           "showlakes": true,
           "showland": true,
           "subunitcolor": "white"
          },
          "hoverlabel": {
           "align": "left"
          },
          "hovermode": "closest",
          "mapbox": {
           "style": "light"
          },
          "paper_bgcolor": "white",
          "plot_bgcolor": "#E5ECF6",
          "polar": {
           "angularaxis": {
            "gridcolor": "white",
            "linecolor": "white",
            "ticks": ""
           },
           "bgcolor": "#E5ECF6",
           "radialaxis": {
            "gridcolor": "white",
            "linecolor": "white",
            "ticks": ""
           }
          },
          "scene": {
           "xaxis": {
            "backgroundcolor": "#E5ECF6",
            "gridcolor": "white",
            "gridwidth": 2,
            "linecolor": "white",
            "showbackground": true,
            "ticks": "",
            "zerolinecolor": "white"
           },
           "yaxis": {
            "backgroundcolor": "#E5ECF6",
            "gridcolor": "white",
            "gridwidth": 2,
            "linecolor": "white",
            "showbackground": true,
            "ticks": "",
            "zerolinecolor": "white"
           },
           "zaxis": {
            "backgroundcolor": "#E5ECF6",
            "gridcolor": "white",
            "gridwidth": 2,
            "linecolor": "white",
            "showbackground": true,
            "ticks": "",
            "zerolinecolor": "white"
           }
          },
          "shapedefaults": {
           "line": {
            "color": "#2a3f5f"
           }
          },
          "ternary": {
           "aaxis": {
            "gridcolor": "white",
            "linecolor": "white",
            "ticks": ""
           },
           "baxis": {
            "gridcolor": "white",
            "linecolor": "white",
            "ticks": ""
           },
           "bgcolor": "#E5ECF6",
           "caxis": {
            "gridcolor": "white",
            "linecolor": "white",
            "ticks": ""
           }
          },
          "title": {
           "x": 0.05
          },
          "xaxis": {
           "automargin": true,
           "gridcolor": "white",
           "linecolor": "white",
           "ticks": "",
           "title": {
            "standoff": 15
           },
           "zerolinecolor": "white",
           "zerolinewidth": 2
          },
          "yaxis": {
           "automargin": true,
           "gridcolor": "white",
           "linecolor": "white",
           "ticks": "",
           "title": {
            "standoff": 15
           },
           "zerolinecolor": "white",
           "zerolinewidth": 2
          }
         }
        },
        "title": {
         "text": "Possesion quality ( 9)",
         "x": 0.5,
         "xanchor": "center"
        },
        "width": 1200,
        "xaxis": {
         "anchor": "y",
         "domain": [
          0,
          1
         ],
         "gridcolor": "lightgray",
         "showgrid": true,
         "title": {
          "text": "possession_lost/90"
         },
         "zeroline": false
        },
        "yaxis": {
         "anchor": "x",
         "domain": [
          0,
          1
         ],
         "gridcolor": "lightgray",
         "showgrid": true,
         "title": {
          "text": "possession_won/90"
         },
         "zeroline": false
        }
       }
      }
     },
     "metadata": {},
     "output_type": "display_data"
    }
   ],
   "source": [
    "# Full universe \n",
    "scatter_plot(df_players,\n",
    "             x_metric='possession_lost/90', \n",
    "             y_metric='possession_won/90',\n",
    "             z_metric='poss+_/90',\n",
    "             title='Possesion quality', \n",
    "             show_name_label=True\n",
    ")"
   ]
  },
  {
   "cell_type": "code",
   "execution_count": 40,
   "id": "78abc754",
   "metadata": {},
   "outputs": [
    {
     "data": {
      "text/html": [
       "<div>\n",
       "<style scoped>\n",
       "    .dataframe tbody tr th:only-of-type {\n",
       "        vertical-align: middle;\n",
       "    }\n",
       "\n",
       "    .dataframe tbody tr th {\n",
       "        vertical-align: top;\n",
       "    }\n",
       "\n",
       "    .dataframe thead th {\n",
       "        text-align: right;\n",
       "    }\n",
       "</style>\n",
       "<table border=\"1\" class=\"dataframe\">\n",
       "  <thead>\n",
       "    <tr style=\"text-align: right;\">\n",
       "      <th></th>\n",
       "      <th>id</th>\n",
       "      <th>name</th>\n",
       "      <th>position</th>\n",
       "      <th>age</th>\n",
       "      <th>height</th>\n",
       "      <th>weight</th>\n",
       "      <th>inf</th>\n",
       "      <th>club</th>\n",
       "      <th>division</th>\n",
       "      <th>nationality</th>\n",
       "      <th>home_grown</th>\n",
       "      <th>personality</th>\n",
       "      <th>media_handling</th>\n",
       "      <th>wage</th>\n",
       "      <th>transfer_value</th>\n",
       "      <th>asking_price</th>\n",
       "      <th>preferred_foot</th>\n",
       "      <th>starts</th>\n",
       "      <th>minutes_played</th>\n",
       "      <th>average_rating</th>\n",
       "      <th>sub_appearances</th>\n",
       "      <th>minutes/game</th>\n",
       "      <th>index</th>\n",
       "      <th>passes_attempted/90</th>\n",
       "      <th>passes_completed/90</th>\n",
       "      <th>pass_completion_%</th>\n",
       "      <th>progressive_passes/90</th>\n",
       "      <th>progressive_pass_rate</th>\n",
       "      <th>key_passes/90</th>\n",
       "      <th>key_pass_%</th>\n",
       "      <th>open_play_key_passes/90</th>\n",
       "      <th>open_play_key_pass_%</th>\n",
       "      <th>pressures_attempted</th>\n",
       "      <th>pressures_attempted/90</th>\n",
       "      <th>pressures_completed</th>\n",
       "      <th>pressures_completed/90</th>\n",
       "      <th>pressure_success_%</th>\n",
       "      <th>possession_won/90</th>\n",
       "      <th>possession_lost/90</th>\n",
       "      <th>poss+_/90</th>\n",
       "      <th>poss+__%</th>\n",
       "      <th>tackles_attempted/90</th>\n",
       "      <th>tackles_completed/90</th>\n",
       "      <th>tackle_completion_%</th>\n",
       "      <th>tackles_failed/90</th>\n",
       "      <th>key_tackles/90</th>\n",
       "      <th>tackle_quality</th>\n",
       "      <th>interceptions/90</th>\n",
       "      <th>blocks/90</th>\n",
       "      <th>shots_blocked/90</th>\n",
       "      <th>headers_attempted/90</th>\n",
       "      <th>headers_won/90</th>\n",
       "      <th>headers_won_%</th>\n",
       "      <th>headers_lost/90</th>\n",
       "      <th>headers_lost_%</th>\n",
       "      <th>key_headers/90</th>\n",
       "      <th>aerial_challenges_attempted/90</th>\n",
       "      <th>duels_win_%</th>\n",
       "      <th>fouls_won/90</th>\n",
       "      <th>fouls_committed/90</th>\n",
       "      <th>clearances/90</th>\n",
       "      <th>attacking_actions/90</th>\n",
       "      <th>creative_actions/90</th>\n",
       "      <th>defensive_actions/90</th>\n",
       "      <th>excitement_factor/90</th>\n",
       "      <th>general_performance</th>\n",
       "      <th>goalkeeping</th>\n",
       "      <th>defensive_defender</th>\n",
       "      <th>creative_defender</th>\n",
       "      <th>attacking_defender</th>\n",
       "      <th>creative_midfielder</th>\n",
       "      <th>attacking_midfielder</th>\n",
       "      <th>creative_winger</th>\n",
       "      <th>attacking_winger</th>\n",
       "      <th>creative_forward</th>\n",
       "      <th>attacking_forward</th>\n",
       "      <th>finisher</th>\n",
       "      <th>aerial_threat</th>\n",
       "      <th>reader</th>\n",
       "      <th>assister</th>\n",
       "      <th>price_estimate_M</th>\n",
       "    </tr>\n",
       "  </thead>\n",
       "  <tbody>\n",
       "  </tbody>\n",
       "</table>\n",
       "</div>"
      ],
      "text/plain": [
       "Empty DataFrame\n",
       "Columns: [id, name, position, age, height, weight, inf, club, division, nationality, home_grown, personality, media_handling, wage, transfer_value, asking_price, preferred_foot, starts, minutes_played, average_rating, sub_appearances, minutes/game, index, passes_attempted/90, passes_completed/90, pass_completion_%, progressive_passes/90, progressive_pass_rate, key_passes/90, key_pass_%, open_play_key_passes/90, open_play_key_pass_%, pressures_attempted, pressures_attempted/90, pressures_completed, pressures_completed/90, pressure_success_%, possession_won/90, possession_lost/90, poss+_/90, poss+__%, tackles_attempted/90, tackles_completed/90, tackle_completion_%, tackles_failed/90, key_tackles/90, tackle_quality, interceptions/90, blocks/90, shots_blocked/90, headers_attempted/90, headers_won/90, headers_won_%, headers_lost/90, headers_lost_%, key_headers/90, aerial_challenges_attempted/90, duels_win_%, fouls_won/90, fouls_committed/90, clearances/90, attacking_actions/90, creative_actions/90, defensive_actions/90, excitement_factor/90, general_performance, goalkeeping, defensive_defender, creative_defender, attacking_defender, creative_midfielder, attacking_midfielder, creative_winger, attacking_winger, creative_forward, attacking_forward, finisher, aerial_threat, reader, assister, price_estimate_M]\n",
       "Index: []"
      ]
     },
     "execution_count": 40,
     "metadata": {},
     "output_type": "execute_result"
    }
   ],
   "source": [
    "# Players to drop\n",
    "drop_list = [\n",
    "    2000182819, # Wober - Not progressive enough / Age\n",
    "    16147700, # Yoro - Not progressive enough / High price\n",
    "    49048468, # Matsima - Propensity to lose the ball\n",
    "]\n",
    "\n",
    "df_players = df_players[~df_players['id'].isin(drop_list)]\n",
    "\n",
    "df_players[df_players['name'].str.contains('Mats')]"
   ]
  },
  {
   "cell_type": "markdown",
   "id": "05fd5ca0",
   "metadata": {},
   "source": [
    "## Aereal/Ground Dominance "
   ]
  },
  {
   "cell_type": "code",
   "execution_count": 41,
   "id": "2d4b5cdd",
   "metadata": {},
   "outputs": [
    {
     "data": {
      "application/vnd.plotly.v1+json": {
       "config": {
        "plotlyServerURL": "https://plot.ly"
       },
       "data": [
        {
         "customdata": [
          [
           "Stijn Bultman",
           "Heracles Almelo"
          ],
          [
           "Tobias Slotsager",
           "OB"
          ],
          [
           "Aleksander Hammer Kjelsen",
           "Vålerenga"
          ],
          [
           "Alexander Busch",
           "Silkeborg IF"
          ],
          [
           "Pedro Henrique",
           "Athlético Paranaense"
          ],
          [
           "Kevin Danso",
           "Lens"
          ],
          [
           "Bafodé Diakité",
           "Lille"
          ],
          [
           "Perr Schuurs",
           "Torino"
          ],
          [
           "Modibo Sagnan",
           "Montpellier"
          ]
         ],
         "hovertemplate": "<b>%{customdata[0]}</b><br><b>%{customdata[1]}</b><br><br>tackle_completion_%: %{x}<br>headers_won_%: %{y}<br>duels_win_%: %{marker.color}<extra></extra>",
         "legendgroup": "",
         "marker": {
          "color": {
           "bdata": "FK5H4Xo0UkCkcD0K18NUQArXo3A9WlNAuB6F61EYU0CamZmZmclTQArXo3A9ilNA9ihcj8L1UUDhehSuRyFSQAAAAAAAAFRA",
           "dtype": "f8"
          },
          "coloraxis": "coloraxis",
          "size": 10,
          "symbol": "circle"
         },
         "mode": "markers+text",
         "name": "",
         "orientation": "v",
         "showlegend": false,
         "text": [
          "Stijn Bultman",
          "Tobias Slotsager",
          "Aleksander Hammer Kjelsen",
          "Alexander Busch",
          "Pedro Henrique",
          "Kevin Danso",
          "Bafodé Diakité",
          "Perr Schuurs",
          "Modibo Sagnan"
         ],
         "textfont": {
          "size": 10
         },
         "textposition": "top center",
         "type": "scatter",
         "x": {
          "bdata": "TEVPUVJDTEdJ",
          "dtype": "i1"
         },
         "xaxis": "x",
         "y": {
          "bdata": "9ihcj8IFUkDsUbgehStVQK5H4XoUTlNAZmZmZmbmUkBSuB6F66FTQGZmZmZmNlRApHA9CtezUUB7FK5H4TpSQPYoXI/CVVRA",
          "dtype": "f8"
         },
         "yaxis": "y"
        }
       ],
       "layout": {
        "coloraxis": {
         "colorbar": {
          "title": {
           "text": "duels_win_%"
          }
         },
         "colorscale": [
          [
           0,
           "rgb(165,0,38)"
          ],
          [
           0.1,
           "rgb(215,48,39)"
          ],
          [
           0.2,
           "rgb(244,109,67)"
          ],
          [
           0.3,
           "rgb(253,174,97)"
          ],
          [
           0.4,
           "rgb(254,224,139)"
          ],
          [
           0.5,
           "rgb(255,255,191)"
          ],
          [
           0.6,
           "rgb(217,239,139)"
          ],
          [
           0.7,
           "rgb(166,217,106)"
          ],
          [
           0.8,
           "rgb(102,189,99)"
          ],
          [
           0.9,
           "rgb(26,152,80)"
          ],
          [
           1,
           "rgb(0,104,55)"
          ]
         ],
         "showscale": false
        },
        "height": 700,
        "legend": {
         "tracegroupgap": 0
        },
        "paper_bgcolor": "white",
        "plot_bgcolor": "white",
        "template": {
         "data": {
          "bar": [
           {
            "error_x": {
             "color": "#2a3f5f"
            },
            "error_y": {
             "color": "#2a3f5f"
            },
            "marker": {
             "line": {
              "color": "#E5ECF6",
              "width": 0.5
             },
             "pattern": {
              "fillmode": "overlay",
              "size": 10,
              "solidity": 0.2
             }
            },
            "type": "bar"
           }
          ],
          "barpolar": [
           {
            "marker": {
             "line": {
              "color": "#E5ECF6",
              "width": 0.5
             },
             "pattern": {
              "fillmode": "overlay",
              "size": 10,
              "solidity": 0.2
             }
            },
            "type": "barpolar"
           }
          ],
          "carpet": [
           {
            "aaxis": {
             "endlinecolor": "#2a3f5f",
             "gridcolor": "white",
             "linecolor": "white",
             "minorgridcolor": "white",
             "startlinecolor": "#2a3f5f"
            },
            "baxis": {
             "endlinecolor": "#2a3f5f",
             "gridcolor": "white",
             "linecolor": "white",
             "minorgridcolor": "white",
             "startlinecolor": "#2a3f5f"
            },
            "type": "carpet"
           }
          ],
          "choropleth": [
           {
            "colorbar": {
             "outlinewidth": 0,
             "ticks": ""
            },
            "type": "choropleth"
           }
          ],
          "contour": [
           {
            "colorbar": {
             "outlinewidth": 0,
             "ticks": ""
            },
            "colorscale": [
             [
              0,
              "#0d0887"
             ],
             [
              0.1111111111111111,
              "#46039f"
             ],
             [
              0.2222222222222222,
              "#7201a8"
             ],
             [
              0.3333333333333333,
              "#9c179e"
             ],
             [
              0.4444444444444444,
              "#bd3786"
             ],
             [
              0.5555555555555556,
              "#d8576b"
             ],
             [
              0.6666666666666666,
              "#ed7953"
             ],
             [
              0.7777777777777778,
              "#fb9f3a"
             ],
             [
              0.8888888888888888,
              "#fdca26"
             ],
             [
              1,
              "#f0f921"
             ]
            ],
            "type": "contour"
           }
          ],
          "contourcarpet": [
           {
            "colorbar": {
             "outlinewidth": 0,
             "ticks": ""
            },
            "type": "contourcarpet"
           }
          ],
          "heatmap": [
           {
            "colorbar": {
             "outlinewidth": 0,
             "ticks": ""
            },
            "colorscale": [
             [
              0,
              "#0d0887"
             ],
             [
              0.1111111111111111,
              "#46039f"
             ],
             [
              0.2222222222222222,
              "#7201a8"
             ],
             [
              0.3333333333333333,
              "#9c179e"
             ],
             [
              0.4444444444444444,
              "#bd3786"
             ],
             [
              0.5555555555555556,
              "#d8576b"
             ],
             [
              0.6666666666666666,
              "#ed7953"
             ],
             [
              0.7777777777777778,
              "#fb9f3a"
             ],
             [
              0.8888888888888888,
              "#fdca26"
             ],
             [
              1,
              "#f0f921"
             ]
            ],
            "type": "heatmap"
           }
          ],
          "histogram": [
           {
            "marker": {
             "pattern": {
              "fillmode": "overlay",
              "size": 10,
              "solidity": 0.2
             }
            },
            "type": "histogram"
           }
          ],
          "histogram2d": [
           {
            "colorbar": {
             "outlinewidth": 0,
             "ticks": ""
            },
            "colorscale": [
             [
              0,
              "#0d0887"
             ],
             [
              0.1111111111111111,
              "#46039f"
             ],
             [
              0.2222222222222222,
              "#7201a8"
             ],
             [
              0.3333333333333333,
              "#9c179e"
             ],
             [
              0.4444444444444444,
              "#bd3786"
             ],
             [
              0.5555555555555556,
              "#d8576b"
             ],
             [
              0.6666666666666666,
              "#ed7953"
             ],
             [
              0.7777777777777778,
              "#fb9f3a"
             ],
             [
              0.8888888888888888,
              "#fdca26"
             ],
             [
              1,
              "#f0f921"
             ]
            ],
            "type": "histogram2d"
           }
          ],
          "histogram2dcontour": [
           {
            "colorbar": {
             "outlinewidth": 0,
             "ticks": ""
            },
            "colorscale": [
             [
              0,
              "#0d0887"
             ],
             [
              0.1111111111111111,
              "#46039f"
             ],
             [
              0.2222222222222222,
              "#7201a8"
             ],
             [
              0.3333333333333333,
              "#9c179e"
             ],
             [
              0.4444444444444444,
              "#bd3786"
             ],
             [
              0.5555555555555556,
              "#d8576b"
             ],
             [
              0.6666666666666666,
              "#ed7953"
             ],
             [
              0.7777777777777778,
              "#fb9f3a"
             ],
             [
              0.8888888888888888,
              "#fdca26"
             ],
             [
              1,
              "#f0f921"
             ]
            ],
            "type": "histogram2dcontour"
           }
          ],
          "mesh3d": [
           {
            "colorbar": {
             "outlinewidth": 0,
             "ticks": ""
            },
            "type": "mesh3d"
           }
          ],
          "parcoords": [
           {
            "line": {
             "colorbar": {
              "outlinewidth": 0,
              "ticks": ""
             }
            },
            "type": "parcoords"
           }
          ],
          "pie": [
           {
            "automargin": true,
            "type": "pie"
           }
          ],
          "scatter": [
           {
            "fillpattern": {
             "fillmode": "overlay",
             "size": 10,
             "solidity": 0.2
            },
            "type": "scatter"
           }
          ],
          "scatter3d": [
           {
            "line": {
             "colorbar": {
              "outlinewidth": 0,
              "ticks": ""
             }
            },
            "marker": {
             "colorbar": {
              "outlinewidth": 0,
              "ticks": ""
             }
            },
            "type": "scatter3d"
           }
          ],
          "scattercarpet": [
           {
            "marker": {
             "colorbar": {
              "outlinewidth": 0,
              "ticks": ""
             }
            },
            "type": "scattercarpet"
           }
          ],
          "scattergeo": [
           {
            "marker": {
             "colorbar": {
              "outlinewidth": 0,
              "ticks": ""
             }
            },
            "type": "scattergeo"
           }
          ],
          "scattergl": [
           {
            "marker": {
             "colorbar": {
              "outlinewidth": 0,
              "ticks": ""
             }
            },
            "type": "scattergl"
           }
          ],
          "scattermap": [
           {
            "marker": {
             "colorbar": {
              "outlinewidth": 0,
              "ticks": ""
             }
            },
            "type": "scattermap"
           }
          ],
          "scattermapbox": [
           {
            "marker": {
             "colorbar": {
              "outlinewidth": 0,
              "ticks": ""
             }
            },
            "type": "scattermapbox"
           }
          ],
          "scatterpolar": [
           {
            "marker": {
             "colorbar": {
              "outlinewidth": 0,
              "ticks": ""
             }
            },
            "type": "scatterpolar"
           }
          ],
          "scatterpolargl": [
           {
            "marker": {
             "colorbar": {
              "outlinewidth": 0,
              "ticks": ""
             }
            },
            "type": "scatterpolargl"
           }
          ],
          "scatterternary": [
           {
            "marker": {
             "colorbar": {
              "outlinewidth": 0,
              "ticks": ""
             }
            },
            "type": "scatterternary"
           }
          ],
          "surface": [
           {
            "colorbar": {
             "outlinewidth": 0,
             "ticks": ""
            },
            "colorscale": [
             [
              0,
              "#0d0887"
             ],
             [
              0.1111111111111111,
              "#46039f"
             ],
             [
              0.2222222222222222,
              "#7201a8"
             ],
             [
              0.3333333333333333,
              "#9c179e"
             ],
             [
              0.4444444444444444,
              "#bd3786"
             ],
             [
              0.5555555555555556,
              "#d8576b"
             ],
             [
              0.6666666666666666,
              "#ed7953"
             ],
             [
              0.7777777777777778,
              "#fb9f3a"
             ],
             [
              0.8888888888888888,
              "#fdca26"
             ],
             [
              1,
              "#f0f921"
             ]
            ],
            "type": "surface"
           }
          ],
          "table": [
           {
            "cells": {
             "fill": {
              "color": "#EBF0F8"
             },
             "line": {
              "color": "white"
             }
            },
            "header": {
             "fill": {
              "color": "#C8D4E3"
             },
             "line": {
              "color": "white"
             }
            },
            "type": "table"
           }
          ]
         },
         "layout": {
          "annotationdefaults": {
           "arrowcolor": "#2a3f5f",
           "arrowhead": 0,
           "arrowwidth": 1
          },
          "autotypenumbers": "strict",
          "coloraxis": {
           "colorbar": {
            "outlinewidth": 0,
            "ticks": ""
           }
          },
          "colorscale": {
           "diverging": [
            [
             0,
             "#8e0152"
            ],
            [
             0.1,
             "#c51b7d"
            ],
            [
             0.2,
             "#de77ae"
            ],
            [
             0.3,
             "#f1b6da"
            ],
            [
             0.4,
             "#fde0ef"
            ],
            [
             0.5,
             "#f7f7f7"
            ],
            [
             0.6,
             "#e6f5d0"
            ],
            [
             0.7,
             "#b8e186"
            ],
            [
             0.8,
             "#7fbc41"
            ],
            [
             0.9,
             "#4d9221"
            ],
            [
             1,
             "#276419"
            ]
           ],
           "sequential": [
            [
             0,
             "#0d0887"
            ],
            [
             0.1111111111111111,
             "#46039f"
            ],
            [
             0.2222222222222222,
             "#7201a8"
            ],
            [
             0.3333333333333333,
             "#9c179e"
            ],
            [
             0.4444444444444444,
             "#bd3786"
            ],
            [
             0.5555555555555556,
             "#d8576b"
            ],
            [
             0.6666666666666666,
             "#ed7953"
            ],
            [
             0.7777777777777778,
             "#fb9f3a"
            ],
            [
             0.8888888888888888,
             "#fdca26"
            ],
            [
             1,
             "#f0f921"
            ]
           ],
           "sequentialminus": [
            [
             0,
             "#0d0887"
            ],
            [
             0.1111111111111111,
             "#46039f"
            ],
            [
             0.2222222222222222,
             "#7201a8"
            ],
            [
             0.3333333333333333,
             "#9c179e"
            ],
            [
             0.4444444444444444,
             "#bd3786"
            ],
            [
             0.5555555555555556,
             "#d8576b"
            ],
            [
             0.6666666666666666,
             "#ed7953"
            ],
            [
             0.7777777777777778,
             "#fb9f3a"
            ],
            [
             0.8888888888888888,
             "#fdca26"
            ],
            [
             1,
             "#f0f921"
            ]
           ]
          },
          "colorway": [
           "#636efa",
           "#EF553B",
           "#00cc96",
           "#ab63fa",
           "#FFA15A",
           "#19d3f3",
           "#FF6692",
           "#B6E880",
           "#FF97FF",
           "#FECB52"
          ],
          "font": {
           "color": "#2a3f5f"
          },
          "geo": {
           "bgcolor": "white",
           "lakecolor": "white",
           "landcolor": "#E5ECF6",
           "showlakes": true,
           "showland": true,
           "subunitcolor": "white"
          },
          "hoverlabel": {
           "align": "left"
          },
          "hovermode": "closest",
          "mapbox": {
           "style": "light"
          },
          "paper_bgcolor": "white",
          "plot_bgcolor": "#E5ECF6",
          "polar": {
           "angularaxis": {
            "gridcolor": "white",
            "linecolor": "white",
            "ticks": ""
           },
           "bgcolor": "#E5ECF6",
           "radialaxis": {
            "gridcolor": "white",
            "linecolor": "white",
            "ticks": ""
           }
          },
          "scene": {
           "xaxis": {
            "backgroundcolor": "#E5ECF6",
            "gridcolor": "white",
            "gridwidth": 2,
            "linecolor": "white",
            "showbackground": true,
            "ticks": "",
            "zerolinecolor": "white"
           },
           "yaxis": {
            "backgroundcolor": "#E5ECF6",
            "gridcolor": "white",
            "gridwidth": 2,
            "linecolor": "white",
            "showbackground": true,
            "ticks": "",
            "zerolinecolor": "white"
           },
           "zaxis": {
            "backgroundcolor": "#E5ECF6",
            "gridcolor": "white",
            "gridwidth": 2,
            "linecolor": "white",
            "showbackground": true,
            "ticks": "",
            "zerolinecolor": "white"
           }
          },
          "shapedefaults": {
           "line": {
            "color": "#2a3f5f"
           }
          },
          "ternary": {
           "aaxis": {
            "gridcolor": "white",
            "linecolor": "white",
            "ticks": ""
           },
           "baxis": {
            "gridcolor": "white",
            "linecolor": "white",
            "ticks": ""
           },
           "bgcolor": "#E5ECF6",
           "caxis": {
            "gridcolor": "white",
            "linecolor": "white",
            "ticks": ""
           }
          },
          "title": {
           "x": 0.05
          },
          "xaxis": {
           "automargin": true,
           "gridcolor": "white",
           "linecolor": "white",
           "ticks": "",
           "title": {
            "standoff": 15
           },
           "zerolinecolor": "white",
           "zerolinewidth": 2
          },
          "yaxis": {
           "automargin": true,
           "gridcolor": "white",
           "linecolor": "white",
           "ticks": "",
           "title": {
            "standoff": 15
           },
           "zerolinecolor": "white",
           "zerolinewidth": 2
          }
         }
        },
        "title": {
         "text": "Dominance ( 9)",
         "x": 0.5,
         "xanchor": "center"
        },
        "width": 1200,
        "xaxis": {
         "anchor": "y",
         "domain": [
          0,
          1
         ],
         "gridcolor": "lightgray",
         "showgrid": true,
         "title": {
          "text": "tackle_completion_%"
         },
         "zeroline": false
        },
        "yaxis": {
         "anchor": "x",
         "domain": [
          0,
          1
         ],
         "gridcolor": "lightgray",
         "showgrid": true,
         "title": {
          "text": "headers_won_%"
         },
         "zeroline": false
        }
       }
      }
     },
     "metadata": {},
     "output_type": "display_data"
    }
   ],
   "source": [
    "# Full universe \n",
    "scatter_plot(df_players,\n",
    "             x_metric='tackle_completion_%', \n",
    "             y_metric='headers_won_%',\n",
    "             z_metric='duels_win_%',\n",
    "             title='Dominance', \n",
    "             show_name_label=True\n",
    ")"
   ]
  },
  {
   "cell_type": "code",
   "execution_count": 42,
   "id": "3fb17570",
   "metadata": {},
   "outputs": [
    {
     "data": {
      "text/html": [
       "<div>\n",
       "<style scoped>\n",
       "    .dataframe tbody tr th:only-of-type {\n",
       "        vertical-align: middle;\n",
       "    }\n",
       "\n",
       "    .dataframe tbody tr th {\n",
       "        vertical-align: top;\n",
       "    }\n",
       "\n",
       "    .dataframe thead th {\n",
       "        text-align: right;\n",
       "    }\n",
       "</style>\n",
       "<table border=\"1\" class=\"dataframe\">\n",
       "  <thead>\n",
       "    <tr style=\"text-align: right;\">\n",
       "      <th></th>\n",
       "      <th>id</th>\n",
       "      <th>name</th>\n",
       "      <th>position</th>\n",
       "      <th>age</th>\n",
       "      <th>height</th>\n",
       "      <th>weight</th>\n",
       "      <th>inf</th>\n",
       "      <th>club</th>\n",
       "      <th>division</th>\n",
       "      <th>nationality</th>\n",
       "      <th>home_grown</th>\n",
       "      <th>personality</th>\n",
       "      <th>media_handling</th>\n",
       "      <th>wage</th>\n",
       "      <th>transfer_value</th>\n",
       "      <th>asking_price</th>\n",
       "      <th>preferred_foot</th>\n",
       "      <th>starts</th>\n",
       "      <th>minutes_played</th>\n",
       "      <th>average_rating</th>\n",
       "      <th>sub_appearances</th>\n",
       "      <th>minutes/game</th>\n",
       "      <th>index</th>\n",
       "      <th>passes_attempted/90</th>\n",
       "      <th>passes_completed/90</th>\n",
       "      <th>pass_completion_%</th>\n",
       "      <th>progressive_passes/90</th>\n",
       "      <th>progressive_pass_rate</th>\n",
       "      <th>key_passes/90</th>\n",
       "      <th>key_pass_%</th>\n",
       "      <th>open_play_key_passes/90</th>\n",
       "      <th>open_play_key_pass_%</th>\n",
       "      <th>pressures_attempted</th>\n",
       "      <th>pressures_attempted/90</th>\n",
       "      <th>pressures_completed</th>\n",
       "      <th>pressures_completed/90</th>\n",
       "      <th>pressure_success_%</th>\n",
       "      <th>possession_won/90</th>\n",
       "      <th>possession_lost/90</th>\n",
       "      <th>poss+_/90</th>\n",
       "      <th>poss+__%</th>\n",
       "      <th>tackles_attempted/90</th>\n",
       "      <th>tackles_completed/90</th>\n",
       "      <th>tackle_completion_%</th>\n",
       "      <th>tackles_failed/90</th>\n",
       "      <th>key_tackles/90</th>\n",
       "      <th>tackle_quality</th>\n",
       "      <th>interceptions/90</th>\n",
       "      <th>blocks/90</th>\n",
       "      <th>shots_blocked/90</th>\n",
       "      <th>headers_attempted/90</th>\n",
       "      <th>headers_won/90</th>\n",
       "      <th>headers_won_%</th>\n",
       "      <th>headers_lost/90</th>\n",
       "      <th>headers_lost_%</th>\n",
       "      <th>key_headers/90</th>\n",
       "      <th>aerial_challenges_attempted/90</th>\n",
       "      <th>duels_win_%</th>\n",
       "      <th>fouls_won/90</th>\n",
       "      <th>fouls_committed/90</th>\n",
       "      <th>clearances/90</th>\n",
       "      <th>attacking_actions/90</th>\n",
       "      <th>creative_actions/90</th>\n",
       "      <th>defensive_actions/90</th>\n",
       "      <th>excitement_factor/90</th>\n",
       "      <th>general_performance</th>\n",
       "      <th>goalkeeping</th>\n",
       "      <th>defensive_defender</th>\n",
       "      <th>creative_defender</th>\n",
       "      <th>attacking_defender</th>\n",
       "      <th>creative_midfielder</th>\n",
       "      <th>attacking_midfielder</th>\n",
       "      <th>creative_winger</th>\n",
       "      <th>attacking_winger</th>\n",
       "      <th>creative_forward</th>\n",
       "      <th>attacking_forward</th>\n",
       "      <th>finisher</th>\n",
       "      <th>aerial_threat</th>\n",
       "      <th>reader</th>\n",
       "      <th>assister</th>\n",
       "      <th>price_estimate_M</th>\n",
       "    </tr>\n",
       "  </thead>\n",
       "  <tbody>\n",
       "  </tbody>\n",
       "</table>\n",
       "</div>"
      ],
      "text/plain": [
       "Empty DataFrame\n",
       "Columns: [id, name, position, age, height, weight, inf, club, division, nationality, home_grown, personality, media_handling, wage, transfer_value, asking_price, preferred_foot, starts, minutes_played, average_rating, sub_appearances, minutes/game, index, passes_attempted/90, passes_completed/90, pass_completion_%, progressive_passes/90, progressive_pass_rate, key_passes/90, key_pass_%, open_play_key_passes/90, open_play_key_pass_%, pressures_attempted, pressures_attempted/90, pressures_completed, pressures_completed/90, pressure_success_%, possession_won/90, possession_lost/90, poss+_/90, poss+__%, tackles_attempted/90, tackles_completed/90, tackle_completion_%, tackles_failed/90, key_tackles/90, tackle_quality, interceptions/90, blocks/90, shots_blocked/90, headers_attempted/90, headers_won/90, headers_won_%, headers_lost/90, headers_lost_%, key_headers/90, aerial_challenges_attempted/90, duels_win_%, fouls_won/90, fouls_committed/90, clearances/90, attacking_actions/90, creative_actions/90, defensive_actions/90, excitement_factor/90, general_performance, goalkeeping, defensive_defender, creative_defender, attacking_defender, creative_midfielder, attacking_midfielder, creative_winger, attacking_winger, creative_forward, attacking_forward, finisher, aerial_threat, reader, assister, price_estimate_M]\n",
       "Index: []"
      ]
     },
     "execution_count": 42,
     "metadata": {},
     "output_type": "execute_result"
    }
   ],
   "source": [
    "# Players to drop\n",
    "drop_list = [\n",
    "    2000182819, # Wober - Not progressive enough / Age\n",
    "    16147700, # Yoro - Not progressive enough / High price\n",
    "    49048468, # Matsima - Propensity to lose the ball\n",
    "    83320135, # Silva - Lack of aereal dominance\n",
    "    16130398, # Lienhart - Age / Tackle dominance / Price\n",
    "    12094339, # Sylla - Price\n",
    "]\n",
    "\n",
    "df_players = df_players[~df_players['id'].isin(drop_list)]\n",
    "\n",
    "df_players[df_players['name'].str.contains('Lie')]"
   ]
  },
  {
   "cell_type": "markdown",
   "id": "1bc59609",
   "metadata": {},
   "source": [
    "## Pressure quality"
   ]
  },
  {
   "cell_type": "code",
   "execution_count": 43,
   "id": "a12b948b",
   "metadata": {},
   "outputs": [
    {
     "data": {
      "application/vnd.plotly.v1+json": {
       "config": {
        "plotlyServerURL": "https://plot.ly"
       },
       "data": [
        {
         "customdata": [
          [
           "Stijn Bultman",
           "Heracles Almelo"
          ],
          [
           "Tobias Slotsager",
           "OB"
          ],
          [
           "Aleksander Hammer Kjelsen",
           "Vålerenga"
          ],
          [
           "Alexander Busch",
           "Silkeborg IF"
          ],
          [
           "Pedro Henrique",
           "Athlético Paranaense"
          ],
          [
           "Kevin Danso",
           "Lens"
          ],
          [
           "Bafodé Diakité",
           "Lille"
          ],
          [
           "Perr Schuurs",
           "Torino"
          ],
          [
           "Modibo Sagnan",
           "Montpellier"
          ]
         ],
         "hovertemplate": "<b>%{customdata[0]}</b><br><b>%{customdata[1]}</b><br><br>pressures_completed/90: %{x}<br>pressure_success_%: %{y}<br>duels_win_%: %{marker.color}<extra></extra>",
         "legendgroup": "",
         "marker": {
          "color": {
           "bdata": "FK5H4Xo0UkCkcD0K18NUQArXo3A9WlNAuB6F61EYU0CamZmZmclTQArXo3A9ilNA9ihcj8L1UUDhehSuRyFSQAAAAAAAAFRA",
           "dtype": "f8"
          },
          "coloraxis": "coloraxis",
          "size": 10,
          "symbol": "circle"
         },
         "mode": "markers+text",
         "name": "",
         "orientation": "v",
         "showlegend": false,
         "text": [
          "Stijn Bultman",
          "Tobias Slotsager",
          "Aleksander Hammer Kjelsen",
          "Alexander Busch",
          "Pedro Henrique",
          "Kevin Danso",
          "Bafodé Diakité",
          "Perr Schuurs",
          "Modibo Sagnan"
         ],
         "textfont": {
          "size": 10
         },
         "textposition": "top center",
         "type": "scatter",
         "x": {
          "bdata": "pHA9Ctej9D8fhetRuB7xP1K4HoXrUfQ/pHA9Ctej8D+4HoXrUbj6P3sUrkfhevQ/zczMzMzM9D+uR+F6FK7zP7gehetRuOY/",
          "dtype": "f8"
         },
         "xaxis": "x",
         "y": {
          "bdata": "ZmZmZmamRECF61G4HgVBQArXo3A9ykNA4XoUrkdhPEAAAAAAAABEQArXo3A9qkBACtejcD0KOkCPwvUoXI86QIXrUbgepUFA",
          "dtype": "f8"
         },
         "yaxis": "y"
        }
       ],
       "layout": {
        "coloraxis": {
         "colorbar": {
          "title": {
           "text": "duels_win_%"
          }
         },
         "colorscale": [
          [
           0,
           "rgb(165,0,38)"
          ],
          [
           0.1,
           "rgb(215,48,39)"
          ],
          [
           0.2,
           "rgb(244,109,67)"
          ],
          [
           0.3,
           "rgb(253,174,97)"
          ],
          [
           0.4,
           "rgb(254,224,139)"
          ],
          [
           0.5,
           "rgb(255,255,191)"
          ],
          [
           0.6,
           "rgb(217,239,139)"
          ],
          [
           0.7,
           "rgb(166,217,106)"
          ],
          [
           0.8,
           "rgb(102,189,99)"
          ],
          [
           0.9,
           "rgb(26,152,80)"
          ],
          [
           1,
           "rgb(0,104,55)"
          ]
         ],
         "showscale": false
        },
        "height": 700,
        "legend": {
         "tracegroupgap": 0
        },
        "paper_bgcolor": "white",
        "plot_bgcolor": "white",
        "template": {
         "data": {
          "bar": [
           {
            "error_x": {
             "color": "#2a3f5f"
            },
            "error_y": {
             "color": "#2a3f5f"
            },
            "marker": {
             "line": {
              "color": "#E5ECF6",
              "width": 0.5
             },
             "pattern": {
              "fillmode": "overlay",
              "size": 10,
              "solidity": 0.2
             }
            },
            "type": "bar"
           }
          ],
          "barpolar": [
           {
            "marker": {
             "line": {
              "color": "#E5ECF6",
              "width": 0.5
             },
             "pattern": {
              "fillmode": "overlay",
              "size": 10,
              "solidity": 0.2
             }
            },
            "type": "barpolar"
           }
          ],
          "carpet": [
           {
            "aaxis": {
             "endlinecolor": "#2a3f5f",
             "gridcolor": "white",
             "linecolor": "white",
             "minorgridcolor": "white",
             "startlinecolor": "#2a3f5f"
            },
            "baxis": {
             "endlinecolor": "#2a3f5f",
             "gridcolor": "white",
             "linecolor": "white",
             "minorgridcolor": "white",
             "startlinecolor": "#2a3f5f"
            },
            "type": "carpet"
           }
          ],
          "choropleth": [
           {
            "colorbar": {
             "outlinewidth": 0,
             "ticks": ""
            },
            "type": "choropleth"
           }
          ],
          "contour": [
           {
            "colorbar": {
             "outlinewidth": 0,
             "ticks": ""
            },
            "colorscale": [
             [
              0,
              "#0d0887"
             ],
             [
              0.1111111111111111,
              "#46039f"
             ],
             [
              0.2222222222222222,
              "#7201a8"
             ],
             [
              0.3333333333333333,
              "#9c179e"
             ],
             [
              0.4444444444444444,
              "#bd3786"
             ],
             [
              0.5555555555555556,
              "#d8576b"
             ],
             [
              0.6666666666666666,
              "#ed7953"
             ],
             [
              0.7777777777777778,
              "#fb9f3a"
             ],
             [
              0.8888888888888888,
              "#fdca26"
             ],
             [
              1,
              "#f0f921"
             ]
            ],
            "type": "contour"
           }
          ],
          "contourcarpet": [
           {
            "colorbar": {
             "outlinewidth": 0,
             "ticks": ""
            },
            "type": "contourcarpet"
           }
          ],
          "heatmap": [
           {
            "colorbar": {
             "outlinewidth": 0,
             "ticks": ""
            },
            "colorscale": [
             [
              0,
              "#0d0887"
             ],
             [
              0.1111111111111111,
              "#46039f"
             ],
             [
              0.2222222222222222,
              "#7201a8"
             ],
             [
              0.3333333333333333,
              "#9c179e"
             ],
             [
              0.4444444444444444,
              "#bd3786"
             ],
             [
              0.5555555555555556,
              "#d8576b"
             ],
             [
              0.6666666666666666,
              "#ed7953"
             ],
             [
              0.7777777777777778,
              "#fb9f3a"
             ],
             [
              0.8888888888888888,
              "#fdca26"
             ],
             [
              1,
              "#f0f921"
             ]
            ],
            "type": "heatmap"
           }
          ],
          "histogram": [
           {
            "marker": {
             "pattern": {
              "fillmode": "overlay",
              "size": 10,
              "solidity": 0.2
             }
            },
            "type": "histogram"
           }
          ],
          "histogram2d": [
           {
            "colorbar": {
             "outlinewidth": 0,
             "ticks": ""
            },
            "colorscale": [
             [
              0,
              "#0d0887"
             ],
             [
              0.1111111111111111,
              "#46039f"
             ],
             [
              0.2222222222222222,
              "#7201a8"
             ],
             [
              0.3333333333333333,
              "#9c179e"
             ],
             [
              0.4444444444444444,
              "#bd3786"
             ],
             [
              0.5555555555555556,
              "#d8576b"
             ],
             [
              0.6666666666666666,
              "#ed7953"
             ],
             [
              0.7777777777777778,
              "#fb9f3a"
             ],
             [
              0.8888888888888888,
              "#fdca26"
             ],
             [
              1,
              "#f0f921"
             ]
            ],
            "type": "histogram2d"
           }
          ],
          "histogram2dcontour": [
           {
            "colorbar": {
             "outlinewidth": 0,
             "ticks": ""
            },
            "colorscale": [
             [
              0,
              "#0d0887"
             ],
             [
              0.1111111111111111,
              "#46039f"
             ],
             [
              0.2222222222222222,
              "#7201a8"
             ],
             [
              0.3333333333333333,
              "#9c179e"
             ],
             [
              0.4444444444444444,
              "#bd3786"
             ],
             [
              0.5555555555555556,
              "#d8576b"
             ],
             [
              0.6666666666666666,
              "#ed7953"
             ],
             [
              0.7777777777777778,
              "#fb9f3a"
             ],
             [
              0.8888888888888888,
              "#fdca26"
             ],
             [
              1,
              "#f0f921"
             ]
            ],
            "type": "histogram2dcontour"
           }
          ],
          "mesh3d": [
           {
            "colorbar": {
             "outlinewidth": 0,
             "ticks": ""
            },
            "type": "mesh3d"
           }
          ],
          "parcoords": [
           {
            "line": {
             "colorbar": {
              "outlinewidth": 0,
              "ticks": ""
             }
            },
            "type": "parcoords"
           }
          ],
          "pie": [
           {
            "automargin": true,
            "type": "pie"
           }
          ],
          "scatter": [
           {
            "fillpattern": {
             "fillmode": "overlay",
             "size": 10,
             "solidity": 0.2
            },
            "type": "scatter"
           }
          ],
          "scatter3d": [
           {
            "line": {
             "colorbar": {
              "outlinewidth": 0,
              "ticks": ""
             }
            },
            "marker": {
             "colorbar": {
              "outlinewidth": 0,
              "ticks": ""
             }
            },
            "type": "scatter3d"
           }
          ],
          "scattercarpet": [
           {
            "marker": {
             "colorbar": {
              "outlinewidth": 0,
              "ticks": ""
             }
            },
            "type": "scattercarpet"
           }
          ],
          "scattergeo": [
           {
            "marker": {
             "colorbar": {
              "outlinewidth": 0,
              "ticks": ""
             }
            },
            "type": "scattergeo"
           }
          ],
          "scattergl": [
           {
            "marker": {
             "colorbar": {
              "outlinewidth": 0,
              "ticks": ""
             }
            },
            "type": "scattergl"
           }
          ],
          "scattermap": [
           {
            "marker": {
             "colorbar": {
              "outlinewidth": 0,
              "ticks": ""
             }
            },
            "type": "scattermap"
           }
          ],
          "scattermapbox": [
           {
            "marker": {
             "colorbar": {
              "outlinewidth": 0,
              "ticks": ""
             }
            },
            "type": "scattermapbox"
           }
          ],
          "scatterpolar": [
           {
            "marker": {
             "colorbar": {
              "outlinewidth": 0,
              "ticks": ""
             }
            },
            "type": "scatterpolar"
           }
          ],
          "scatterpolargl": [
           {
            "marker": {
             "colorbar": {
              "outlinewidth": 0,
              "ticks": ""
             }
            },
            "type": "scatterpolargl"
           }
          ],
          "scatterternary": [
           {
            "marker": {
             "colorbar": {
              "outlinewidth": 0,
              "ticks": ""
             }
            },
            "type": "scatterternary"
           }
          ],
          "surface": [
           {
            "colorbar": {
             "outlinewidth": 0,
             "ticks": ""
            },
            "colorscale": [
             [
              0,
              "#0d0887"
             ],
             [
              0.1111111111111111,
              "#46039f"
             ],
             [
              0.2222222222222222,
              "#7201a8"
             ],
             [
              0.3333333333333333,
              "#9c179e"
             ],
             [
              0.4444444444444444,
              "#bd3786"
             ],
             [
              0.5555555555555556,
              "#d8576b"
             ],
             [
              0.6666666666666666,
              "#ed7953"
             ],
             [
              0.7777777777777778,
              "#fb9f3a"
             ],
             [
              0.8888888888888888,
              "#fdca26"
             ],
             [
              1,
              "#f0f921"
             ]
            ],
            "type": "surface"
           }
          ],
          "table": [
           {
            "cells": {
             "fill": {
              "color": "#EBF0F8"
             },
             "line": {
              "color": "white"
             }
            },
            "header": {
             "fill": {
              "color": "#C8D4E3"
             },
             "line": {
              "color": "white"
             }
            },
            "type": "table"
           }
          ]
         },
         "layout": {
          "annotationdefaults": {
           "arrowcolor": "#2a3f5f",
           "arrowhead": 0,
           "arrowwidth": 1
          },
          "autotypenumbers": "strict",
          "coloraxis": {
           "colorbar": {
            "outlinewidth": 0,
            "ticks": ""
           }
          },
          "colorscale": {
           "diverging": [
            [
             0,
             "#8e0152"
            ],
            [
             0.1,
             "#c51b7d"
            ],
            [
             0.2,
             "#de77ae"
            ],
            [
             0.3,
             "#f1b6da"
            ],
            [
             0.4,
             "#fde0ef"
            ],
            [
             0.5,
             "#f7f7f7"
            ],
            [
             0.6,
             "#e6f5d0"
            ],
            [
             0.7,
             "#b8e186"
            ],
            [
             0.8,
             "#7fbc41"
            ],
            [
             0.9,
             "#4d9221"
            ],
            [
             1,
             "#276419"
            ]
           ],
           "sequential": [
            [
             0,
             "#0d0887"
            ],
            [
             0.1111111111111111,
             "#46039f"
            ],
            [
             0.2222222222222222,
             "#7201a8"
            ],
            [
             0.3333333333333333,
             "#9c179e"
            ],
            [
             0.4444444444444444,
             "#bd3786"
            ],
            [
             0.5555555555555556,
             "#d8576b"
            ],
            [
             0.6666666666666666,
             "#ed7953"
            ],
            [
             0.7777777777777778,
             "#fb9f3a"
            ],
            [
             0.8888888888888888,
             "#fdca26"
            ],
            [
             1,
             "#f0f921"
            ]
           ],
           "sequentialminus": [
            [
             0,
             "#0d0887"
            ],
            [
             0.1111111111111111,
             "#46039f"
            ],
            [
             0.2222222222222222,
             "#7201a8"
            ],
            [
             0.3333333333333333,
             "#9c179e"
            ],
            [
             0.4444444444444444,
             "#bd3786"
            ],
            [
             0.5555555555555556,
             "#d8576b"
            ],
            [
             0.6666666666666666,
             "#ed7953"
            ],
            [
             0.7777777777777778,
             "#fb9f3a"
            ],
            [
             0.8888888888888888,
             "#fdca26"
            ],
            [
             1,
             "#f0f921"
            ]
           ]
          },
          "colorway": [
           "#636efa",
           "#EF553B",
           "#00cc96",
           "#ab63fa",
           "#FFA15A",
           "#19d3f3",
           "#FF6692",
           "#B6E880",
           "#FF97FF",
           "#FECB52"
          ],
          "font": {
           "color": "#2a3f5f"
          },
          "geo": {
           "bgcolor": "white",
           "lakecolor": "white",
           "landcolor": "#E5ECF6",
           "showlakes": true,
           "showland": true,
           "subunitcolor": "white"
          },
          "hoverlabel": {
           "align": "left"
          },
          "hovermode": "closest",
          "mapbox": {
           "style": "light"
          },
          "paper_bgcolor": "white",
          "plot_bgcolor": "#E5ECF6",
          "polar": {
           "angularaxis": {
            "gridcolor": "white",
            "linecolor": "white",
            "ticks": ""
           },
           "bgcolor": "#E5ECF6",
           "radialaxis": {
            "gridcolor": "white",
            "linecolor": "white",
            "ticks": ""
           }
          },
          "scene": {
           "xaxis": {
            "backgroundcolor": "#E5ECF6",
            "gridcolor": "white",
            "gridwidth": 2,
            "linecolor": "white",
            "showbackground": true,
            "ticks": "",
            "zerolinecolor": "white"
           },
           "yaxis": {
            "backgroundcolor": "#E5ECF6",
            "gridcolor": "white",
            "gridwidth": 2,
            "linecolor": "white",
            "showbackground": true,
            "ticks": "",
            "zerolinecolor": "white"
           },
           "zaxis": {
            "backgroundcolor": "#E5ECF6",
            "gridcolor": "white",
            "gridwidth": 2,
            "linecolor": "white",
            "showbackground": true,
            "ticks": "",
            "zerolinecolor": "white"
           }
          },
          "shapedefaults": {
           "line": {
            "color": "#2a3f5f"
           }
          },
          "ternary": {
           "aaxis": {
            "gridcolor": "white",
            "linecolor": "white",
            "ticks": ""
           },
           "baxis": {
            "gridcolor": "white",
            "linecolor": "white",
            "ticks": ""
           },
           "bgcolor": "#E5ECF6",
           "caxis": {
            "gridcolor": "white",
            "linecolor": "white",
            "ticks": ""
           }
          },
          "title": {
           "x": 0.05
          },
          "xaxis": {
           "automargin": true,
           "gridcolor": "white",
           "linecolor": "white",
           "ticks": "",
           "title": {
            "standoff": 15
           },
           "zerolinecolor": "white",
           "zerolinewidth": 2
          },
          "yaxis": {
           "automargin": true,
           "gridcolor": "white",
           "linecolor": "white",
           "ticks": "",
           "title": {
            "standoff": 15
           },
           "zerolinecolor": "white",
           "zerolinewidth": 2
          }
         }
        },
        "title": {
         "text": "Pressure quality ( 9)",
         "x": 0.5,
         "xanchor": "center"
        },
        "width": 1200,
        "xaxis": {
         "anchor": "y",
         "domain": [
          0,
          1
         ],
         "gridcolor": "lightgray",
         "showgrid": true,
         "title": {
          "text": "pressures_completed/90"
         },
         "zeroline": false
        },
        "yaxis": {
         "anchor": "x",
         "domain": [
          0,
          1
         ],
         "gridcolor": "lightgray",
         "showgrid": true,
         "title": {
          "text": "pressure_success_%"
         },
         "zeroline": false
        }
       }
      }
     },
     "metadata": {},
     "output_type": "display_data"
    }
   ],
   "source": [
    "# Full universe \n",
    "scatter_plot(df_players,\n",
    "             x_metric='pressures_completed/90', \n",
    "             y_metric='pressure_success_%',\n",
    "             z_metric='duels_win_%',\n",
    "             title='Pressure quality', \n",
    "             show_name_label=True\n",
    ")"
   ]
  },
  {
   "cell_type": "code",
   "execution_count": 44,
   "id": "97fd1aca",
   "metadata": {},
   "outputs": [
    {
     "data": {
      "application/vnd.plotly.v1+json": {
       "config": {
        "plotlyServerURL": "https://plot.ly"
       },
       "data": [
        {
         "customdata": [
          [
           "Stijn Bultman",
           "Heracles Almelo"
          ],
          [
           "Tobias Slotsager",
           "OB"
          ],
          [
           "Aleksander Hammer Kjelsen",
           "Vålerenga"
          ],
          [
           "Alexander Busch",
           "Silkeborg IF"
          ],
          [
           "Pedro Henrique",
           "Athlético Paranaense"
          ],
          [
           "Kevin Danso",
           "Lens"
          ],
          [
           "Bafodé Diakité",
           "Lille"
          ],
          [
           "Perr Schuurs",
           "Torino"
          ],
          [
           "Modibo Sagnan",
           "Montpellier"
          ]
         ],
         "hovertemplate": "<b>%{customdata[0]}</b><br><b>%{customdata[1]}</b><br><br>interceptions/90: %{x}<br>blocks/90: %{y}<br>clearances/90: %{marker.color}<extra></extra>",
         "legendgroup": "",
         "marker": {
          "color": {
           "bdata": "H4XrUbge+T8UrkfhehTuP4XrUbgehfc/rkfhehSu+z/NzMzMzMzwPwAAAAAAAARA16NwPQrX8z8pXI/C9SjwP8P1KFyPwgNA",
           "dtype": "f8"
          },
          "coloraxis": "coloraxis",
          "size": 10,
          "symbol": "circle"
         },
         "mode": "markers+text",
         "name": "",
         "orientation": "v",
         "showlegend": false,
         "text": [
          "Stijn Bultman",
          "Tobias Slotsager",
          "Aleksander Hammer Kjelsen",
          "Alexander Busch",
          "Pedro Henrique",
          "Kevin Danso",
          "Bafodé Diakité",
          "Perr Schuurs",
          "Modibo Sagnan"
         ],
         "textfont": {
          "size": 10
         },
         "textposition": "top center",
         "type": "scatter",
         "x": {
          "bdata": "UrgehetR8D+4HoXrUbj6Pz0K16NwPfo/CtejcD0KAUCkcD0K16P8P2ZmZmZmZgBAXI/C9Shc+z/2KFyPwvX8P6RwPQrXo/Q/",
          "dtype": "f8"
         },
         "xaxis": "x",
         "y": {
          "bdata": "hetRuB6F4z+uR+F6FK7nP0jhehSuR9E/XI/C9Shc3z+4HoXrUbjePxSuR+F6FO4/pHA9Ctej4D+PwvUoXI/iPxSuR+F6FN4/",
          "dtype": "f8"
         },
         "yaxis": "y"
        }
       ],
       "layout": {
        "coloraxis": {
         "colorbar": {
          "title": {
           "text": "clearances/90"
          }
         },
         "colorscale": [
          [
           0,
           "rgb(165,0,38)"
          ],
          [
           0.1,
           "rgb(215,48,39)"
          ],
          [
           0.2,
           "rgb(244,109,67)"
          ],
          [
           0.3,
           "rgb(253,174,97)"
          ],
          [
           0.4,
           "rgb(254,224,139)"
          ],
          [
           0.5,
           "rgb(255,255,191)"
          ],
          [
           0.6,
           "rgb(217,239,139)"
          ],
          [
           0.7,
           "rgb(166,217,106)"
          ],
          [
           0.8,
           "rgb(102,189,99)"
          ],
          [
           0.9,
           "rgb(26,152,80)"
          ],
          [
           1,
           "rgb(0,104,55)"
          ]
         ],
         "showscale": false
        },
        "height": 700,
        "legend": {
         "tracegroupgap": 0
        },
        "paper_bgcolor": "white",
        "plot_bgcolor": "white",
        "template": {
         "data": {
          "bar": [
           {
            "error_x": {
             "color": "#2a3f5f"
            },
            "error_y": {
             "color": "#2a3f5f"
            },
            "marker": {
             "line": {
              "color": "#E5ECF6",
              "width": 0.5
             },
             "pattern": {
              "fillmode": "overlay",
              "size": 10,
              "solidity": 0.2
             }
            },
            "type": "bar"
           }
          ],
          "barpolar": [
           {
            "marker": {
             "line": {
              "color": "#E5ECF6",
              "width": 0.5
             },
             "pattern": {
              "fillmode": "overlay",
              "size": 10,
              "solidity": 0.2
             }
            },
            "type": "barpolar"
           }
          ],
          "carpet": [
           {
            "aaxis": {
             "endlinecolor": "#2a3f5f",
             "gridcolor": "white",
             "linecolor": "white",
             "minorgridcolor": "white",
             "startlinecolor": "#2a3f5f"
            },
            "baxis": {
             "endlinecolor": "#2a3f5f",
             "gridcolor": "white",
             "linecolor": "white",
             "minorgridcolor": "white",
             "startlinecolor": "#2a3f5f"
            },
            "type": "carpet"
           }
          ],
          "choropleth": [
           {
            "colorbar": {
             "outlinewidth": 0,
             "ticks": ""
            },
            "type": "choropleth"
           }
          ],
          "contour": [
           {
            "colorbar": {
             "outlinewidth": 0,
             "ticks": ""
            },
            "colorscale": [
             [
              0,
              "#0d0887"
             ],
             [
              0.1111111111111111,
              "#46039f"
             ],
             [
              0.2222222222222222,
              "#7201a8"
             ],
             [
              0.3333333333333333,
              "#9c179e"
             ],
             [
              0.4444444444444444,
              "#bd3786"
             ],
             [
              0.5555555555555556,
              "#d8576b"
             ],
             [
              0.6666666666666666,
              "#ed7953"
             ],
             [
              0.7777777777777778,
              "#fb9f3a"
             ],
             [
              0.8888888888888888,
              "#fdca26"
             ],
             [
              1,
              "#f0f921"
             ]
            ],
            "type": "contour"
           }
          ],
          "contourcarpet": [
           {
            "colorbar": {
             "outlinewidth": 0,
             "ticks": ""
            },
            "type": "contourcarpet"
           }
          ],
          "heatmap": [
           {
            "colorbar": {
             "outlinewidth": 0,
             "ticks": ""
            },
            "colorscale": [
             [
              0,
              "#0d0887"
             ],
             [
              0.1111111111111111,
              "#46039f"
             ],
             [
              0.2222222222222222,
              "#7201a8"
             ],
             [
              0.3333333333333333,
              "#9c179e"
             ],
             [
              0.4444444444444444,
              "#bd3786"
             ],
             [
              0.5555555555555556,
              "#d8576b"
             ],
             [
              0.6666666666666666,
              "#ed7953"
             ],
             [
              0.7777777777777778,
              "#fb9f3a"
             ],
             [
              0.8888888888888888,
              "#fdca26"
             ],
             [
              1,
              "#f0f921"
             ]
            ],
            "type": "heatmap"
           }
          ],
          "histogram": [
           {
            "marker": {
             "pattern": {
              "fillmode": "overlay",
              "size": 10,
              "solidity": 0.2
             }
            },
            "type": "histogram"
           }
          ],
          "histogram2d": [
           {
            "colorbar": {
             "outlinewidth": 0,
             "ticks": ""
            },
            "colorscale": [
             [
              0,
              "#0d0887"
             ],
             [
              0.1111111111111111,
              "#46039f"
             ],
             [
              0.2222222222222222,
              "#7201a8"
             ],
             [
              0.3333333333333333,
              "#9c179e"
             ],
             [
              0.4444444444444444,
              "#bd3786"
             ],
             [
              0.5555555555555556,
              "#d8576b"
             ],
             [
              0.6666666666666666,
              "#ed7953"
             ],
             [
              0.7777777777777778,
              "#fb9f3a"
             ],
             [
              0.8888888888888888,
              "#fdca26"
             ],
             [
              1,
              "#f0f921"
             ]
            ],
            "type": "histogram2d"
           }
          ],
          "histogram2dcontour": [
           {
            "colorbar": {
             "outlinewidth": 0,
             "ticks": ""
            },
            "colorscale": [
             [
              0,
              "#0d0887"
             ],
             [
              0.1111111111111111,
              "#46039f"
             ],
             [
              0.2222222222222222,
              "#7201a8"
             ],
             [
              0.3333333333333333,
              "#9c179e"
             ],
             [
              0.4444444444444444,
              "#bd3786"
             ],
             [
              0.5555555555555556,
              "#d8576b"
             ],
             [
              0.6666666666666666,
              "#ed7953"
             ],
             [
              0.7777777777777778,
              "#fb9f3a"
             ],
             [
              0.8888888888888888,
              "#fdca26"
             ],
             [
              1,
              "#f0f921"
             ]
            ],
            "type": "histogram2dcontour"
           }
          ],
          "mesh3d": [
           {
            "colorbar": {
             "outlinewidth": 0,
             "ticks": ""
            },
            "type": "mesh3d"
           }
          ],
          "parcoords": [
           {
            "line": {
             "colorbar": {
              "outlinewidth": 0,
              "ticks": ""
             }
            },
            "type": "parcoords"
           }
          ],
          "pie": [
           {
            "automargin": true,
            "type": "pie"
           }
          ],
          "scatter": [
           {
            "fillpattern": {
             "fillmode": "overlay",
             "size": 10,
             "solidity": 0.2
            },
            "type": "scatter"
           }
          ],
          "scatter3d": [
           {
            "line": {
             "colorbar": {
              "outlinewidth": 0,
              "ticks": ""
             }
            },
            "marker": {
             "colorbar": {
              "outlinewidth": 0,
              "ticks": ""
             }
            },
            "type": "scatter3d"
           }
          ],
          "scattercarpet": [
           {
            "marker": {
             "colorbar": {
              "outlinewidth": 0,
              "ticks": ""
             }
            },
            "type": "scattercarpet"
           }
          ],
          "scattergeo": [
           {
            "marker": {
             "colorbar": {
              "outlinewidth": 0,
              "ticks": ""
             }
            },
            "type": "scattergeo"
           }
          ],
          "scattergl": [
           {
            "marker": {
             "colorbar": {
              "outlinewidth": 0,
              "ticks": ""
             }
            },
            "type": "scattergl"
           }
          ],
          "scattermap": [
           {
            "marker": {
             "colorbar": {
              "outlinewidth": 0,
              "ticks": ""
             }
            },
            "type": "scattermap"
           }
          ],
          "scattermapbox": [
           {
            "marker": {
             "colorbar": {
              "outlinewidth": 0,
              "ticks": ""
             }
            },
            "type": "scattermapbox"
           }
          ],
          "scatterpolar": [
           {
            "marker": {
             "colorbar": {
              "outlinewidth": 0,
              "ticks": ""
             }
            },
            "type": "scatterpolar"
           }
          ],
          "scatterpolargl": [
           {
            "marker": {
             "colorbar": {
              "outlinewidth": 0,
              "ticks": ""
             }
            },
            "type": "scatterpolargl"
           }
          ],
          "scatterternary": [
           {
            "marker": {
             "colorbar": {
              "outlinewidth": 0,
              "ticks": ""
             }
            },
            "type": "scatterternary"
           }
          ],
          "surface": [
           {
            "colorbar": {
             "outlinewidth": 0,
             "ticks": ""
            },
            "colorscale": [
             [
              0,
              "#0d0887"
             ],
             [
              0.1111111111111111,
              "#46039f"
             ],
             [
              0.2222222222222222,
              "#7201a8"
             ],
             [
              0.3333333333333333,
              "#9c179e"
             ],
             [
              0.4444444444444444,
              "#bd3786"
             ],
             [
              0.5555555555555556,
              "#d8576b"
             ],
             [
              0.6666666666666666,
              "#ed7953"
             ],
             [
              0.7777777777777778,
              "#fb9f3a"
             ],
             [
              0.8888888888888888,
              "#fdca26"
             ],
             [
              1,
              "#f0f921"
             ]
            ],
            "type": "surface"
           }
          ],
          "table": [
           {
            "cells": {
             "fill": {
              "color": "#EBF0F8"
             },
             "line": {
              "color": "white"
             }
            },
            "header": {
             "fill": {
              "color": "#C8D4E3"
             },
             "line": {
              "color": "white"
             }
            },
            "type": "table"
           }
          ]
         },
         "layout": {
          "annotationdefaults": {
           "arrowcolor": "#2a3f5f",
           "arrowhead": 0,
           "arrowwidth": 1
          },
          "autotypenumbers": "strict",
          "coloraxis": {
           "colorbar": {
            "outlinewidth": 0,
            "ticks": ""
           }
          },
          "colorscale": {
           "diverging": [
            [
             0,
             "#8e0152"
            ],
            [
             0.1,
             "#c51b7d"
            ],
            [
             0.2,
             "#de77ae"
            ],
            [
             0.3,
             "#f1b6da"
            ],
            [
             0.4,
             "#fde0ef"
            ],
            [
             0.5,
             "#f7f7f7"
            ],
            [
             0.6,
             "#e6f5d0"
            ],
            [
             0.7,
             "#b8e186"
            ],
            [
             0.8,
             "#7fbc41"
            ],
            [
             0.9,
             "#4d9221"
            ],
            [
             1,
             "#276419"
            ]
           ],
           "sequential": [
            [
             0,
             "#0d0887"
            ],
            [
             0.1111111111111111,
             "#46039f"
            ],
            [
             0.2222222222222222,
             "#7201a8"
            ],
            [
             0.3333333333333333,
             "#9c179e"
            ],
            [
             0.4444444444444444,
             "#bd3786"
            ],
            [
             0.5555555555555556,
             "#d8576b"
            ],
            [
             0.6666666666666666,
             "#ed7953"
            ],
            [
             0.7777777777777778,
             "#fb9f3a"
            ],
            [
             0.8888888888888888,
             "#fdca26"
            ],
            [
             1,
             "#f0f921"
            ]
           ],
           "sequentialminus": [
            [
             0,
             "#0d0887"
            ],
            [
             0.1111111111111111,
             "#46039f"
            ],
            [
             0.2222222222222222,
             "#7201a8"
            ],
            [
             0.3333333333333333,
             "#9c179e"
            ],
            [
             0.4444444444444444,
             "#bd3786"
            ],
            [
             0.5555555555555556,
             "#d8576b"
            ],
            [
             0.6666666666666666,
             "#ed7953"
            ],
            [
             0.7777777777777778,
             "#fb9f3a"
            ],
            [
             0.8888888888888888,
             "#fdca26"
            ],
            [
             1,
             "#f0f921"
            ]
           ]
          },
          "colorway": [
           "#636efa",
           "#EF553B",
           "#00cc96",
           "#ab63fa",
           "#FFA15A",
           "#19d3f3",
           "#FF6692",
           "#B6E880",
           "#FF97FF",
           "#FECB52"
          ],
          "font": {
           "color": "#2a3f5f"
          },
          "geo": {
           "bgcolor": "white",
           "lakecolor": "white",
           "landcolor": "#E5ECF6",
           "showlakes": true,
           "showland": true,
           "subunitcolor": "white"
          },
          "hoverlabel": {
           "align": "left"
          },
          "hovermode": "closest",
          "mapbox": {
           "style": "light"
          },
          "paper_bgcolor": "white",
          "plot_bgcolor": "#E5ECF6",
          "polar": {
           "angularaxis": {
            "gridcolor": "white",
            "linecolor": "white",
            "ticks": ""
           },
           "bgcolor": "#E5ECF6",
           "radialaxis": {
            "gridcolor": "white",
            "linecolor": "white",
            "ticks": ""
           }
          },
          "scene": {
           "xaxis": {
            "backgroundcolor": "#E5ECF6",
            "gridcolor": "white",
            "gridwidth": 2,
            "linecolor": "white",
            "showbackground": true,
            "ticks": "",
            "zerolinecolor": "white"
           },
           "yaxis": {
            "backgroundcolor": "#E5ECF6",
            "gridcolor": "white",
            "gridwidth": 2,
            "linecolor": "white",
            "showbackground": true,
            "ticks": "",
            "zerolinecolor": "white"
           },
           "zaxis": {
            "backgroundcolor": "#E5ECF6",
            "gridcolor": "white",
            "gridwidth": 2,
            "linecolor": "white",
            "showbackground": true,
            "ticks": "",
            "zerolinecolor": "white"
           }
          },
          "shapedefaults": {
           "line": {
            "color": "#2a3f5f"
           }
          },
          "ternary": {
           "aaxis": {
            "gridcolor": "white",
            "linecolor": "white",
            "ticks": ""
           },
           "baxis": {
            "gridcolor": "white",
            "linecolor": "white",
            "ticks": ""
           },
           "bgcolor": "#E5ECF6",
           "caxis": {
            "gridcolor": "white",
            "linecolor": "white",
            "ticks": ""
           }
          },
          "title": {
           "x": 0.05
          },
          "xaxis": {
           "automargin": true,
           "gridcolor": "white",
           "linecolor": "white",
           "ticks": "",
           "title": {
            "standoff": 15
           },
           "zerolinecolor": "white",
           "zerolinewidth": 2
          },
          "yaxis": {
           "automargin": true,
           "gridcolor": "white",
           "linecolor": "white",
           "ticks": "",
           "title": {
            "standoff": 15
           },
           "zerolinecolor": "white",
           "zerolinewidth": 2
          }
         }
        },
        "title": {
         "text": "Presence ( 9)",
         "x": 0.5,
         "xanchor": "center"
        },
        "width": 1200,
        "xaxis": {
         "anchor": "y",
         "domain": [
          0,
          1
         ],
         "gridcolor": "lightgray",
         "showgrid": true,
         "title": {
          "text": "interceptions/90"
         },
         "zeroline": false
        },
        "yaxis": {
         "anchor": "x",
         "domain": [
          0,
          1
         ],
         "gridcolor": "lightgray",
         "showgrid": true,
         "title": {
          "text": "blocks/90"
         },
         "zeroline": false
        }
       }
      }
     },
     "metadata": {},
     "output_type": "display_data"
    }
   ],
   "source": [
    "# Full universe \n",
    "scatter_plot(df_players,\n",
    "             x_metric='interceptions/90', \n",
    "             y_metric='blocks/90',\n",
    "             z_metric='clearances/90',\n",
    "             title='Presence', \n",
    "             show_name_label=True\n",
    ")"
   ]
  },
  {
   "cell_type": "code",
   "execution_count": 45,
   "id": "dfbef085",
   "metadata": {},
   "outputs": [
    {
     "data": {
      "text/html": [
       "<div>\n",
       "<style scoped>\n",
       "    .dataframe tbody tr th:only-of-type {\n",
       "        vertical-align: middle;\n",
       "    }\n",
       "\n",
       "    .dataframe tbody tr th {\n",
       "        vertical-align: top;\n",
       "    }\n",
       "\n",
       "    .dataframe thead th {\n",
       "        text-align: right;\n",
       "    }\n",
       "</style>\n",
       "<table border=\"1\" class=\"dataframe\">\n",
       "  <thead>\n",
       "    <tr style=\"text-align: right;\">\n",
       "      <th></th>\n",
       "      <th>id</th>\n",
       "      <th>name</th>\n",
       "      <th>position</th>\n",
       "      <th>age</th>\n",
       "      <th>height</th>\n",
       "      <th>weight</th>\n",
       "      <th>inf</th>\n",
       "      <th>club</th>\n",
       "      <th>division</th>\n",
       "      <th>nationality</th>\n",
       "      <th>home_grown</th>\n",
       "      <th>personality</th>\n",
       "      <th>media_handling</th>\n",
       "      <th>wage</th>\n",
       "      <th>transfer_value</th>\n",
       "      <th>asking_price</th>\n",
       "      <th>preferred_foot</th>\n",
       "      <th>starts</th>\n",
       "      <th>minutes_played</th>\n",
       "      <th>average_rating</th>\n",
       "      <th>sub_appearances</th>\n",
       "      <th>minutes/game</th>\n",
       "      <th>index</th>\n",
       "      <th>passes_attempted/90</th>\n",
       "      <th>passes_completed/90</th>\n",
       "      <th>pass_completion_%</th>\n",
       "      <th>progressive_passes/90</th>\n",
       "      <th>progressive_pass_rate</th>\n",
       "      <th>key_passes/90</th>\n",
       "      <th>key_pass_%</th>\n",
       "      <th>open_play_key_passes/90</th>\n",
       "      <th>open_play_key_pass_%</th>\n",
       "      <th>pressures_attempted</th>\n",
       "      <th>pressures_attempted/90</th>\n",
       "      <th>pressures_completed</th>\n",
       "      <th>pressures_completed/90</th>\n",
       "      <th>pressure_success_%</th>\n",
       "      <th>possession_won/90</th>\n",
       "      <th>possession_lost/90</th>\n",
       "      <th>poss+_/90</th>\n",
       "      <th>poss+__%</th>\n",
       "      <th>tackles_attempted/90</th>\n",
       "      <th>tackles_completed/90</th>\n",
       "      <th>tackle_completion_%</th>\n",
       "      <th>tackles_failed/90</th>\n",
       "      <th>key_tackles/90</th>\n",
       "      <th>tackle_quality</th>\n",
       "      <th>interceptions/90</th>\n",
       "      <th>blocks/90</th>\n",
       "      <th>shots_blocked/90</th>\n",
       "      <th>headers_attempted/90</th>\n",
       "      <th>headers_won/90</th>\n",
       "      <th>headers_won_%</th>\n",
       "      <th>headers_lost/90</th>\n",
       "      <th>headers_lost_%</th>\n",
       "      <th>key_headers/90</th>\n",
       "      <th>aerial_challenges_attempted/90</th>\n",
       "      <th>duels_win_%</th>\n",
       "      <th>fouls_won/90</th>\n",
       "      <th>fouls_committed/90</th>\n",
       "      <th>clearances/90</th>\n",
       "      <th>attacking_actions/90</th>\n",
       "      <th>creative_actions/90</th>\n",
       "      <th>defensive_actions/90</th>\n",
       "      <th>excitement_factor/90</th>\n",
       "      <th>general_performance</th>\n",
       "      <th>goalkeeping</th>\n",
       "      <th>defensive_defender</th>\n",
       "      <th>creative_defender</th>\n",
       "      <th>attacking_defender</th>\n",
       "      <th>creative_midfielder</th>\n",
       "      <th>attacking_midfielder</th>\n",
       "      <th>creative_winger</th>\n",
       "      <th>attacking_winger</th>\n",
       "      <th>creative_forward</th>\n",
       "      <th>attacking_forward</th>\n",
       "      <th>finisher</th>\n",
       "      <th>aerial_threat</th>\n",
       "      <th>reader</th>\n",
       "      <th>assister</th>\n",
       "      <th>price_estimate_M</th>\n",
       "    </tr>\n",
       "  </thead>\n",
       "  <tbody>\n",
       "    <tr>\n",
       "      <th>0</th>\n",
       "      <td>2000226646</td>\n",
       "      <td>Stijn Bultman</td>\n",
       "      <td>D (RC)</td>\n",
       "      <td>18</td>\n",
       "      <td>187 cm</td>\n",
       "      <td>80 kg</td>\n",
       "      <td>Sct</td>\n",
       "      <td>Heracles Almelo</td>\n",
       "      <td>Eredivisie</td>\n",
       "      <td>NED</td>\n",
       "      <td>-</td>\n",
       "      <td>-</td>\n",
       "      <td>Scouting Required</td>\n",
       "      <td>$1,100 p/w</td>\n",
       "      <td>$275K - $10M</td>\n",
       "      <td>-</td>\n",
       "      <td>Right Only</td>\n",
       "      <td>15</td>\n",
       "      <td>1321</td>\n",
       "      <td>6.94</td>\n",
       "      <td>1</td>\n",
       "      <td>82.56</td>\n",
       "      <td>0</td>\n",
       "      <td>84.21</td>\n",
       "      <td>78.55</td>\n",
       "      <td>93</td>\n",
       "      <td>7.15</td>\n",
       "      <td>8.50</td>\n",
       "      <td>0.14</td>\n",
       "      <td>0.16</td>\n",
       "      <td>0.07</td>\n",
       "      <td>0.08</td>\n",
       "      <td>46</td>\n",
       "      <td>3.13</td>\n",
       "      <td>19</td>\n",
       "      <td>1.29</td>\n",
       "      <td>41.30</td>\n",
       "      <td>9.13</td>\n",
       "      <td>6.20</td>\n",
       "      <td>2.93</td>\n",
       "      <td>47.26</td>\n",
       "      <td>1.16</td>\n",
       "      <td>0.89</td>\n",
       "      <td>76</td>\n",
       "      <td>0.27</td>\n",
       "      <td>0.00</td>\n",
       "      <td>1.13</td>\n",
       "      <td>1.02</td>\n",
       "      <td>0.61</td>\n",
       "      <td>0.55</td>\n",
       "      <td>5.86</td>\n",
       "      <td>4.22</td>\n",
       "      <td>72.09</td>\n",
       "      <td>1.64</td>\n",
       "      <td>27.91</td>\n",
       "      <td>0.82</td>\n",
       "      <td>5.86</td>\n",
       "      <td>72.82</td>\n",
       "      <td>0.00</td>\n",
       "      <td>1.02</td>\n",
       "      <td>1.57</td>\n",
       "      <td>0.25</td>\n",
       "      <td>0.14</td>\n",
       "      <td>15.19</td>\n",
       "      <td>0.48</td>\n",
       "      <td>20</td>\n",
       "      <td>100</td>\n",
       "      <td>0</td>\n",
       "      <td>47</td>\n",
       "      <td>53</td>\n",
       "      <td>13</td>\n",
       "      <td>13</td>\n",
       "      <td>20</td>\n",
       "      <td>7</td>\n",
       "      <td>13</td>\n",
       "      <td>0</td>\n",
       "      <td>13</td>\n",
       "      <td>13</td>\n",
       "      <td>0</td>\n",
       "      <td>0</td>\n",
       "      <td>6.165</td>\n",
       "    </tr>\n",
       "    <tr>\n",
       "      <th>1</th>\n",
       "      <td>2000178532</td>\n",
       "      <td>Tobias Slotsager</td>\n",
       "      <td>D (RC)</td>\n",
       "      <td>17</td>\n",
       "      <td>190 cm</td>\n",
       "      <td>82 kg</td>\n",
       "      <td>Wnt</td>\n",
       "      <td>OB</td>\n",
       "      <td>3F Superliga</td>\n",
       "      <td>DEN</td>\n",
       "      <td>-</td>\n",
       "      <td>-</td>\n",
       "      <td>Scouting Required</td>\n",
       "      <td>$3,800 p/w</td>\n",
       "      <td>$250K - $11.5M</td>\n",
       "      <td>-</td>\n",
       "      <td>Right</td>\n",
       "      <td>15</td>\n",
       "      <td>1344</td>\n",
       "      <td>6.95</td>\n",
       "      <td>1</td>\n",
       "      <td>84.00</td>\n",
       "      <td>1</td>\n",
       "      <td>80.22</td>\n",
       "      <td>75.00</td>\n",
       "      <td>93</td>\n",
       "      <td>5.02</td>\n",
       "      <td>6.26</td>\n",
       "      <td>0.27</td>\n",
       "      <td>0.33</td>\n",
       "      <td>0.27</td>\n",
       "      <td>0.33</td>\n",
       "      <td>47</td>\n",
       "      <td>3.15</td>\n",
       "      <td>16</td>\n",
       "      <td>1.07</td>\n",
       "      <td>34.04</td>\n",
       "      <td>13.06</td>\n",
       "      <td>5.56</td>\n",
       "      <td>7.50</td>\n",
       "      <td>134.89</td>\n",
       "      <td>0.87</td>\n",
       "      <td>0.60</td>\n",
       "      <td>69</td>\n",
       "      <td>0.27</td>\n",
       "      <td>0.33</td>\n",
       "      <td>3.25</td>\n",
       "      <td>1.67</td>\n",
       "      <td>0.74</td>\n",
       "      <td>0.60</td>\n",
       "      <td>7.43</td>\n",
       "      <td>6.29</td>\n",
       "      <td>84.68</td>\n",
       "      <td>1.14</td>\n",
       "      <td>15.32</td>\n",
       "      <td>1.07</td>\n",
       "      <td>7.43</td>\n",
       "      <td>83.06</td>\n",
       "      <td>0.07</td>\n",
       "      <td>0.27</td>\n",
       "      <td>0.94</td>\n",
       "      <td>0.40</td>\n",
       "      <td>0.33</td>\n",
       "      <td>21.39</td>\n",
       "      <td>0.67</td>\n",
       "      <td>40</td>\n",
       "      <td>100</td>\n",
       "      <td>20</td>\n",
       "      <td>27</td>\n",
       "      <td>40</td>\n",
       "      <td>53</td>\n",
       "      <td>60</td>\n",
       "      <td>47</td>\n",
       "      <td>47</td>\n",
       "      <td>60</td>\n",
       "      <td>40</td>\n",
       "      <td>60</td>\n",
       "      <td>67</td>\n",
       "      <td>53</td>\n",
       "      <td>13</td>\n",
       "      <td>7.050</td>\n",
       "    </tr>\n",
       "    <tr>\n",
       "      <th>2</th>\n",
       "      <td>2000163579</td>\n",
       "      <td>Aleksander Hammer Kjelsen</td>\n",
       "      <td>D (C)</td>\n",
       "      <td>17</td>\n",
       "      <td>185 cm</td>\n",
       "      <td>78 kg</td>\n",
       "      <td>Wnt</td>\n",
       "      <td>Vålerenga</td>\n",
       "      <td>Eliteserien</td>\n",
       "      <td>NOR</td>\n",
       "      <td>-</td>\n",
       "      <td>Fairly Determined</td>\n",
       "      <td>Level-headed</td>\n",
       "      <td>$900 p/w</td>\n",
       "      <td>$210K - $2.1M</td>\n",
       "      <td>-</td>\n",
       "      <td>Right</td>\n",
       "      <td>30</td>\n",
       "      <td>2691</td>\n",
       "      <td>6.95</td>\n",
       "      <td>0</td>\n",
       "      <td>89.70</td>\n",
       "      <td>2</td>\n",
       "      <td>53.75</td>\n",
       "      <td>47.89</td>\n",
       "      <td>89</td>\n",
       "      <td>4.25</td>\n",
       "      <td>7.90</td>\n",
       "      <td>0.33</td>\n",
       "      <td>0.62</td>\n",
       "      <td>0.33</td>\n",
       "      <td>0.62</td>\n",
       "      <td>96</td>\n",
       "      <td>3.21</td>\n",
       "      <td>38</td>\n",
       "      <td>1.27</td>\n",
       "      <td>39.58</td>\n",
       "      <td>12.88</td>\n",
       "      <td>4.88</td>\n",
       "      <td>8.00</td>\n",
       "      <td>163.93</td>\n",
       "      <td>1.40</td>\n",
       "      <td>1.10</td>\n",
       "      <td>79</td>\n",
       "      <td>0.30</td>\n",
       "      <td>0.30</td>\n",
       "      <td>2.80</td>\n",
       "      <td>1.64</td>\n",
       "      <td>0.27</td>\n",
       "      <td>0.27</td>\n",
       "      <td>8.66</td>\n",
       "      <td>6.69</td>\n",
       "      <td>77.22</td>\n",
       "      <td>1.97</td>\n",
       "      <td>22.78</td>\n",
       "      <td>0.90</td>\n",
       "      <td>8.66</td>\n",
       "      <td>77.41</td>\n",
       "      <td>0.10</td>\n",
       "      <td>0.50</td>\n",
       "      <td>1.47</td>\n",
       "      <td>0.25</td>\n",
       "      <td>0.37</td>\n",
       "      <td>20.58</td>\n",
       "      <td>1.10</td>\n",
       "      <td>47</td>\n",
       "      <td>100</td>\n",
       "      <td>13</td>\n",
       "      <td>13</td>\n",
       "      <td>47</td>\n",
       "      <td>7</td>\n",
       "      <td>0</td>\n",
       "      <td>0</td>\n",
       "      <td>13</td>\n",
       "      <td>7</td>\n",
       "      <td>13</td>\n",
       "      <td>0</td>\n",
       "      <td>80</td>\n",
       "      <td>40</td>\n",
       "      <td>47</td>\n",
       "      <td>1.386</td>\n",
       "    </tr>\n",
       "    <tr>\n",
       "      <th>4</th>\n",
       "      <td>27161052</td>\n",
       "      <td>Alexander Busch</td>\n",
       "      <td>D (C)</td>\n",
       "      <td>20</td>\n",
       "      <td>190 cm</td>\n",
       "      <td>75 kg</td>\n",
       "      <td>-</td>\n",
       "      <td>Silkeborg IF</td>\n",
       "      <td>3F Superliga</td>\n",
       "      <td>DEN</td>\n",
       "      <td>-</td>\n",
       "      <td>Balanced</td>\n",
       "      <td>Media-friendly</td>\n",
       "      <td>$5,000 p/w</td>\n",
       "      <td>$5.6M - $8.2M</td>\n",
       "      <td>-</td>\n",
       "      <td>Right</td>\n",
       "      <td>21</td>\n",
       "      <td>1819</td>\n",
       "      <td>6.80</td>\n",
       "      <td>0</td>\n",
       "      <td>86.62</td>\n",
       "      <td>4</td>\n",
       "      <td>53.73</td>\n",
       "      <td>48.34</td>\n",
       "      <td>90</td>\n",
       "      <td>4.21</td>\n",
       "      <td>7.83</td>\n",
       "      <td>0.35</td>\n",
       "      <td>0.64</td>\n",
       "      <td>0.35</td>\n",
       "      <td>0.64</td>\n",
       "      <td>74</td>\n",
       "      <td>3.66</td>\n",
       "      <td>21</td>\n",
       "      <td>1.04</td>\n",
       "      <td>28.38</td>\n",
       "      <td>12.77</td>\n",
       "      <td>5.89</td>\n",
       "      <td>6.88</td>\n",
       "      <td>116.81</td>\n",
       "      <td>1.53</td>\n",
       "      <td>1.24</td>\n",
       "      <td>81</td>\n",
       "      <td>0.30</td>\n",
       "      <td>0.49</td>\n",
       "      <td>2.38</td>\n",
       "      <td>2.13</td>\n",
       "      <td>0.49</td>\n",
       "      <td>0.35</td>\n",
       "      <td>8.31</td>\n",
       "      <td>6.28</td>\n",
       "      <td>75.60</td>\n",
       "      <td>2.03</td>\n",
       "      <td>24.40</td>\n",
       "      <td>0.89</td>\n",
       "      <td>8.31</td>\n",
       "      <td>76.38</td>\n",
       "      <td>0.05</td>\n",
       "      <td>0.64</td>\n",
       "      <td>1.73</td>\n",
       "      <td>0.57</td>\n",
       "      <td>0.45</td>\n",
       "      <td>22.87</td>\n",
       "      <td>1.53</td>\n",
       "      <td>60</td>\n",
       "      <td>100</td>\n",
       "      <td>73</td>\n",
       "      <td>53</td>\n",
       "      <td>60</td>\n",
       "      <td>60</td>\n",
       "      <td>33</td>\n",
       "      <td>40</td>\n",
       "      <td>53</td>\n",
       "      <td>47</td>\n",
       "      <td>60</td>\n",
       "      <td>80</td>\n",
       "      <td>60</td>\n",
       "      <td>73</td>\n",
       "      <td>80</td>\n",
       "      <td>8.280</td>\n",
       "    </tr>\n",
       "    <tr>\n",
       "      <th>6</th>\n",
       "      <td>19232517</td>\n",
       "      <td>Pedro Henrique</td>\n",
       "      <td>D (C)</td>\n",
       "      <td>28</td>\n",
       "      <td>188 cm</td>\n",
       "      <td>82 kg</td>\n",
       "      <td>Wnt</td>\n",
       "      <td>Athlético Paranaense</td>\n",
       "      <td>Campeonato Brasileiro Série A Assaí</td>\n",
       "      <td>BRA</td>\n",
       "      <td>-</td>\n",
       "      <td>-</td>\n",
       "      <td>Scouting Required</td>\n",
       "      <td>$9,000 p/w</td>\n",
       "      <td>$9.2M - $11M</td>\n",
       "      <td>-</td>\n",
       "      <td>Right</td>\n",
       "      <td>44</td>\n",
       "      <td>3775</td>\n",
       "      <td>7.03</td>\n",
       "      <td>2</td>\n",
       "      <td>82.07</td>\n",
       "      <td>6</td>\n",
       "      <td>57.22</td>\n",
       "      <td>51.52</td>\n",
       "      <td>90</td>\n",
       "      <td>3.58</td>\n",
       "      <td>6.25</td>\n",
       "      <td>0.21</td>\n",
       "      <td>0.38</td>\n",
       "      <td>0.21</td>\n",
       "      <td>0.38</td>\n",
       "      <td>175</td>\n",
       "      <td>4.17</td>\n",
       "      <td>70</td>\n",
       "      <td>1.67</td>\n",
       "      <td>40.00</td>\n",
       "      <td>14.73</td>\n",
       "      <td>4.22</td>\n",
       "      <td>10.51</td>\n",
       "      <td>249.05</td>\n",
       "      <td>1.72</td>\n",
       "      <td>1.41</td>\n",
       "      <td>82</td>\n",
       "      <td>0.31</td>\n",
       "      <td>0.36</td>\n",
       "      <td>4.50</td>\n",
       "      <td>1.79</td>\n",
       "      <td>0.48</td>\n",
       "      <td>0.31</td>\n",
       "      <td>7.77</td>\n",
       "      <td>6.10</td>\n",
       "      <td>78.53</td>\n",
       "      <td>1.67</td>\n",
       "      <td>21.47</td>\n",
       "      <td>1.26</td>\n",
       "      <td>7.77</td>\n",
       "      <td>79.15</td>\n",
       "      <td>0.14</td>\n",
       "      <td>0.38</td>\n",
       "      <td>1.05</td>\n",
       "      <td>0.81</td>\n",
       "      <td>0.36</td>\n",
       "      <td>23.90</td>\n",
       "      <td>1.79</td>\n",
       "      <td>53</td>\n",
       "      <td>100</td>\n",
       "      <td>53</td>\n",
       "      <td>27</td>\n",
       "      <td>33</td>\n",
       "      <td>67</td>\n",
       "      <td>73</td>\n",
       "      <td>67</td>\n",
       "      <td>67</td>\n",
       "      <td>67</td>\n",
       "      <td>73</td>\n",
       "      <td>87</td>\n",
       "      <td>73</td>\n",
       "      <td>80</td>\n",
       "      <td>67</td>\n",
       "      <td>12.120</td>\n",
       "    </tr>\n",
       "    <tr>\n",
       "      <th>8</th>\n",
       "      <td>91144914</td>\n",
       "      <td>Kevin Danso</td>\n",
       "      <td>D (C)</td>\n",
       "      <td>25</td>\n",
       "      <td>190 cm</td>\n",
       "      <td>85 kg</td>\n",
       "      <td>Wnt</td>\n",
       "      <td>Lens</td>\n",
       "      <td>Ligue 1 Uber Eats</td>\n",
       "      <td>AUT (GHA)</td>\n",
       "      <td>Trained in nation (0-21)</td>\n",
       "      <td>-</td>\n",
       "      <td>Scouting Required</td>\n",
       "      <td>$21,500 p/w</td>\n",
       "      <td>$29M - $45M</td>\n",
       "      <td>-</td>\n",
       "      <td>Right</td>\n",
       "      <td>20</td>\n",
       "      <td>1622</td>\n",
       "      <td>7.08</td>\n",
       "      <td>0</td>\n",
       "      <td>81.10</td>\n",
       "      <td>8</td>\n",
       "      <td>59.98</td>\n",
       "      <td>54.16</td>\n",
       "      <td>90</td>\n",
       "      <td>4.27</td>\n",
       "      <td>7.12</td>\n",
       "      <td>0.11</td>\n",
       "      <td>0.19</td>\n",
       "      <td>0.11</td>\n",
       "      <td>0.19</td>\n",
       "      <td>69</td>\n",
       "      <td>3.83</td>\n",
       "      <td>23</td>\n",
       "      <td>1.28</td>\n",
       "      <td>33.33</td>\n",
       "      <td>12.10</td>\n",
       "      <td>7.10</td>\n",
       "      <td>5.00</td>\n",
       "      <td>70.42</td>\n",
       "      <td>1.83</td>\n",
       "      <td>1.22</td>\n",
       "      <td>67</td>\n",
       "      <td>0.61</td>\n",
       "      <td>0.22</td>\n",
       "      <td>2.20</td>\n",
       "      <td>2.05</td>\n",
       "      <td>0.94</td>\n",
       "      <td>0.78</td>\n",
       "      <td>7.82</td>\n",
       "      <td>6.33</td>\n",
       "      <td>80.85</td>\n",
       "      <td>1.50</td>\n",
       "      <td>19.15</td>\n",
       "      <td>1.50</td>\n",
       "      <td>7.82</td>\n",
       "      <td>78.16</td>\n",
       "      <td>0.17</td>\n",
       "      <td>0.83</td>\n",
       "      <td>2.50</td>\n",
       "      <td>0.38</td>\n",
       "      <td>0.11</td>\n",
       "      <td>26.61</td>\n",
       "      <td>0.89</td>\n",
       "      <td>7</td>\n",
       "      <td>100</td>\n",
       "      <td>60</td>\n",
       "      <td>20</td>\n",
       "      <td>0</td>\n",
       "      <td>20</td>\n",
       "      <td>20</td>\n",
       "      <td>13</td>\n",
       "      <td>20</td>\n",
       "      <td>20</td>\n",
       "      <td>27</td>\n",
       "      <td>67</td>\n",
       "      <td>100</td>\n",
       "      <td>87</td>\n",
       "      <td>13</td>\n",
       "      <td>44.400</td>\n",
       "    </tr>\n",
       "    <tr>\n",
       "      <th>12</th>\n",
       "      <td>49038967</td>\n",
       "      <td>Bafodé Diakité</td>\n",
       "      <td>D (RC)</td>\n",
       "      <td>22</td>\n",
       "      <td>185 cm</td>\n",
       "      <td>74 kg</td>\n",
       "      <td>Sct</td>\n",
       "      <td>Lille</td>\n",
       "      <td>Ligue 1 Uber Eats</td>\n",
       "      <td>FRA (GUI)</td>\n",
       "      <td>-</td>\n",
       "      <td>-</td>\n",
       "      <td>Scouting Required</td>\n",
       "      <td>$27,000 p/w</td>\n",
       "      <td>$14.5M - $18.5M</td>\n",
       "      <td>-</td>\n",
       "      <td>Right</td>\n",
       "      <td>20</td>\n",
       "      <td>1736</td>\n",
       "      <td>6.92</td>\n",
       "      <td>2</td>\n",
       "      <td>78.91</td>\n",
       "      <td>12</td>\n",
       "      <td>71.60</td>\n",
       "      <td>65.94</td>\n",
       "      <td>92</td>\n",
       "      <td>5.03</td>\n",
       "      <td>7.02</td>\n",
       "      <td>0.41</td>\n",
       "      <td>0.58</td>\n",
       "      <td>0.41</td>\n",
       "      <td>0.58</td>\n",
       "      <td>96</td>\n",
       "      <td>4.98</td>\n",
       "      <td>25</td>\n",
       "      <td>1.30</td>\n",
       "      <td>26.04</td>\n",
       "      <td>11.87</td>\n",
       "      <td>7.67</td>\n",
       "      <td>4.20</td>\n",
       "      <td>54.76</td>\n",
       "      <td>2.33</td>\n",
       "      <td>1.76</td>\n",
       "      <td>76</td>\n",
       "      <td>0.57</td>\n",
       "      <td>0.10</td>\n",
       "      <td>4.50</td>\n",
       "      <td>1.71</td>\n",
       "      <td>0.52</td>\n",
       "      <td>0.31</td>\n",
       "      <td>8.35</td>\n",
       "      <td>5.91</td>\n",
       "      <td>70.81</td>\n",
       "      <td>2.44</td>\n",
       "      <td>29.19</td>\n",
       "      <td>0.83</td>\n",
       "      <td>8.35</td>\n",
       "      <td>71.84</td>\n",
       "      <td>0.21</td>\n",
       "      <td>0.52</td>\n",
       "      <td>1.24</td>\n",
       "      <td>1.09</td>\n",
       "      <td>0.73</td>\n",
       "      <td>18.48</td>\n",
       "      <td>2.59</td>\n",
       "      <td>100</td>\n",
       "      <td>100</td>\n",
       "      <td>33</td>\n",
       "      <td>87</td>\n",
       "      <td>87</td>\n",
       "      <td>100</td>\n",
       "      <td>80</td>\n",
       "      <td>80</td>\n",
       "      <td>100</td>\n",
       "      <td>100</td>\n",
       "      <td>80</td>\n",
       "      <td>7</td>\n",
       "      <td>53</td>\n",
       "      <td>20</td>\n",
       "      <td>100</td>\n",
       "      <td>19.800</td>\n",
       "    </tr>\n",
       "    <tr>\n",
       "      <th>13</th>\n",
       "      <td>37062161</td>\n",
       "      <td>Perr Schuurs</td>\n",
       "      <td>D (C)</td>\n",
       "      <td>24</td>\n",
       "      <td>191 cm</td>\n",
       "      <td>87 kg</td>\n",
       "      <td>Inj</td>\n",
       "      <td>Torino</td>\n",
       "      <td>Serie A TIM</td>\n",
       "      <td>NED</td>\n",
       "      <td>-</td>\n",
       "      <td>-</td>\n",
       "      <td>Scouting Required</td>\n",
       "      <td>$46,000 p/w</td>\n",
       "      <td>$12M - $15M</td>\n",
       "      <td>-</td>\n",
       "      <td>Right</td>\n",
       "      <td>14</td>\n",
       "      <td>1244</td>\n",
       "      <td>6.94</td>\n",
       "      <td>0</td>\n",
       "      <td>88.86</td>\n",
       "      <td>13</td>\n",
       "      <td>61.78</td>\n",
       "      <td>56.14</td>\n",
       "      <td>91</td>\n",
       "      <td>7.52</td>\n",
       "      <td>12.18</td>\n",
       "      <td>0.58</td>\n",
       "      <td>0.94</td>\n",
       "      <td>0.43</td>\n",
       "      <td>0.70</td>\n",
       "      <td>64</td>\n",
       "      <td>4.63</td>\n",
       "      <td>17</td>\n",
       "      <td>1.23</td>\n",
       "      <td>26.56</td>\n",
       "      <td>13.60</td>\n",
       "      <td>6.15</td>\n",
       "      <td>7.45</td>\n",
       "      <td>121.14</td>\n",
       "      <td>2.53</td>\n",
       "      <td>1.81</td>\n",
       "      <td>71</td>\n",
       "      <td>0.72</td>\n",
       "      <td>0.51</td>\n",
       "      <td>5.83</td>\n",
       "      <td>1.81</td>\n",
       "      <td>0.58</td>\n",
       "      <td>0.29</td>\n",
       "      <td>6.95</td>\n",
       "      <td>5.06</td>\n",
       "      <td>72.92</td>\n",
       "      <td>1.88</td>\n",
       "      <td>27.08</td>\n",
       "      <td>0.22</td>\n",
       "      <td>6.95</td>\n",
       "      <td>72.52</td>\n",
       "      <td>0.07</td>\n",
       "      <td>0.43</td>\n",
       "      <td>1.01</td>\n",
       "      <td>0.59</td>\n",
       "      <td>0.58</td>\n",
       "      <td>16.90</td>\n",
       "      <td>1.45</td>\n",
       "      <td>67</td>\n",
       "      <td>100</td>\n",
       "      <td>47</td>\n",
       "      <td>80</td>\n",
       "      <td>80</td>\n",
       "      <td>80</td>\n",
       "      <td>67</td>\n",
       "      <td>73</td>\n",
       "      <td>80</td>\n",
       "      <td>73</td>\n",
       "      <td>87</td>\n",
       "      <td>27</td>\n",
       "      <td>7</td>\n",
       "      <td>27</td>\n",
       "      <td>53</td>\n",
       "      <td>16.200</td>\n",
       "    </tr>\n",
       "    <tr>\n",
       "      <th>14</th>\n",
       "      <td>48036568</td>\n",
       "      <td>Modibo Sagnan</td>\n",
       "      <td>D (C)</td>\n",
       "      <td>24</td>\n",
       "      <td>187 cm</td>\n",
       "      <td>83 kg</td>\n",
       "      <td>-</td>\n",
       "      <td>Montpellier</td>\n",
       "      <td>Ligue 1 Uber Eats</td>\n",
       "      <td>BFA (MLI)</td>\n",
       "      <td>-</td>\n",
       "      <td>Balanced</td>\n",
       "      <td>Level-headed</td>\n",
       "      <td>$6,000 p/w</td>\n",
       "      <td>$130K - $4.6M</td>\n",
       "      <td>-</td>\n",
       "      <td>Left</td>\n",
       "      <td>17</td>\n",
       "      <td>1530</td>\n",
       "      <td>6.84</td>\n",
       "      <td>0</td>\n",
       "      <td>90.00</td>\n",
       "      <td>14</td>\n",
       "      <td>46.06</td>\n",
       "      <td>41.59</td>\n",
       "      <td>90</td>\n",
       "      <td>3.59</td>\n",
       "      <td>7.79</td>\n",
       "      <td>0.24</td>\n",
       "      <td>0.51</td>\n",
       "      <td>0.24</td>\n",
       "      <td>0.51</td>\n",
       "      <td>34</td>\n",
       "      <td>2.00</td>\n",
       "      <td>12</td>\n",
       "      <td>0.71</td>\n",
       "      <td>35.29</td>\n",
       "      <td>10.82</td>\n",
       "      <td>5.65</td>\n",
       "      <td>5.17</td>\n",
       "      <td>91.50</td>\n",
       "      <td>1.53</td>\n",
       "      <td>1.12</td>\n",
       "      <td>73</td>\n",
       "      <td>0.41</td>\n",
       "      <td>0.35</td>\n",
       "      <td>2.89</td>\n",
       "      <td>1.29</td>\n",
       "      <td>0.47</td>\n",
       "      <td>0.41</td>\n",
       "      <td>7.88</td>\n",
       "      <td>6.41</td>\n",
       "      <td>81.34</td>\n",
       "      <td>1.47</td>\n",
       "      <td>18.66</td>\n",
       "      <td>1.47</td>\n",
       "      <td>7.88</td>\n",
       "      <td>80.00</td>\n",
       "      <td>0.06</td>\n",
       "      <td>0.53</td>\n",
       "      <td>2.47</td>\n",
       "      <td>0.86</td>\n",
       "      <td>0.29</td>\n",
       "      <td>25.36</td>\n",
       "      <td>1.59</td>\n",
       "      <td>13</td>\n",
       "      <td>100</td>\n",
       "      <td>27</td>\n",
       "      <td>7</td>\n",
       "      <td>27</td>\n",
       "      <td>47</td>\n",
       "      <td>47</td>\n",
       "      <td>27</td>\n",
       "      <td>40</td>\n",
       "      <td>33</td>\n",
       "      <td>53</td>\n",
       "      <td>100</td>\n",
       "      <td>87</td>\n",
       "      <td>67</td>\n",
       "      <td>13</td>\n",
       "      <td>2.838</td>\n",
       "    </tr>\n",
       "  </tbody>\n",
       "</table>\n",
       "</div>"
      ],
      "text/plain": [
       "            id                       name position  age  height weight  inf  \\\n",
       "0   2000226646              Stijn Bultman   D (RC)   18  187 cm  80 kg  Sct   \n",
       "1   2000178532           Tobias Slotsager   D (RC)   17  190 cm  82 kg  Wnt   \n",
       "2   2000163579  Aleksander Hammer Kjelsen    D (C)   17  185 cm  78 kg  Wnt   \n",
       "4     27161052            Alexander Busch    D (C)   20  190 cm  75 kg    -   \n",
       "6     19232517             Pedro Henrique    D (C)   28  188 cm  82 kg  Wnt   \n",
       "8     91144914                Kevin Danso    D (C)   25  190 cm  85 kg  Wnt   \n",
       "12    49038967             Bafodé Diakité   D (RC)   22  185 cm  74 kg  Sct   \n",
       "13    37062161               Perr Schuurs    D (C)   24  191 cm  87 kg  Inj   \n",
       "14    48036568              Modibo Sagnan    D (C)   24  187 cm  83 kg    -   \n",
       "\n",
       "                    club                             division nationality  \\\n",
       "0        Heracles Almelo                           Eredivisie         NED   \n",
       "1                     OB                         3F Superliga         DEN   \n",
       "2              Vålerenga                          Eliteserien         NOR   \n",
       "4           Silkeborg IF                         3F Superliga         DEN   \n",
       "6   Athlético Paranaense  Campeonato Brasileiro Série A Assaí         BRA   \n",
       "8                   Lens                    Ligue 1 Uber Eats   AUT (GHA)   \n",
       "12                 Lille                    Ligue 1 Uber Eats   FRA (GUI)   \n",
       "13                Torino                          Serie A TIM         NED   \n",
       "14           Montpellier                    Ligue 1 Uber Eats   BFA (MLI)   \n",
       "\n",
       "                  home_grown        personality     media_handling  \\\n",
       "0                          -                  -  Scouting Required   \n",
       "1                          -                  -  Scouting Required   \n",
       "2                          -  Fairly Determined       Level-headed   \n",
       "4                          -           Balanced     Media-friendly   \n",
       "6                          -                  -  Scouting Required   \n",
       "8   Trained in nation (0-21)                  -  Scouting Required   \n",
       "12                         -                  -  Scouting Required   \n",
       "13                         -                  -  Scouting Required   \n",
       "14                         -           Balanced       Level-headed   \n",
       "\n",
       "           wage   transfer_value asking_price preferred_foot  starts  \\\n",
       "0    $1,100 p/w     $275K - $10M            -     Right Only      15   \n",
       "1    $3,800 p/w   $250K - $11.5M            -          Right      15   \n",
       "2      $900 p/w    $210K - $2.1M            -          Right      30   \n",
       "4    $5,000 p/w    $5.6M - $8.2M            -          Right      21   \n",
       "6    $9,000 p/w     $9.2M - $11M            -          Right      44   \n",
       "8   $21,500 p/w      $29M - $45M            -          Right      20   \n",
       "12  $27,000 p/w  $14.5M - $18.5M            -          Right      20   \n",
       "13  $46,000 p/w      $12M - $15M            -          Right      14   \n",
       "14   $6,000 p/w    $130K - $4.6M            -           Left      17   \n",
       "\n",
       "    minutes_played  average_rating  sub_appearances  minutes/game  index  \\\n",
       "0             1321            6.94                1         82.56      0   \n",
       "1             1344            6.95                1         84.00      1   \n",
       "2             2691            6.95                0         89.70      2   \n",
       "4             1819            6.80                0         86.62      4   \n",
       "6             3775            7.03                2         82.07      6   \n",
       "8             1622            7.08                0         81.10      8   \n",
       "12            1736            6.92                2         78.91     12   \n",
       "13            1244            6.94                0         88.86     13   \n",
       "14            1530            6.84                0         90.00     14   \n",
       "\n",
       "    passes_attempted/90  passes_completed/90  pass_completion_%  \\\n",
       "0                 84.21                78.55                 93   \n",
       "1                 80.22                75.00                 93   \n",
       "2                 53.75                47.89                 89   \n",
       "4                 53.73                48.34                 90   \n",
       "6                 57.22                51.52                 90   \n",
       "8                 59.98                54.16                 90   \n",
       "12                71.60                65.94                 92   \n",
       "13                61.78                56.14                 91   \n",
       "14                46.06                41.59                 90   \n",
       "\n",
       "    progressive_passes/90  progressive_pass_rate  key_passes/90  key_pass_%  \\\n",
       "0                    7.15                   8.50           0.14        0.16   \n",
       "1                    5.02                   6.26           0.27        0.33   \n",
       "2                    4.25                   7.90           0.33        0.62   \n",
       "4                    4.21                   7.83           0.35        0.64   \n",
       "6                    3.58                   6.25           0.21        0.38   \n",
       "8                    4.27                   7.12           0.11        0.19   \n",
       "12                   5.03                   7.02           0.41        0.58   \n",
       "13                   7.52                  12.18           0.58        0.94   \n",
       "14                   3.59                   7.79           0.24        0.51   \n",
       "\n",
       "    open_play_key_passes/90  open_play_key_pass_%  pressures_attempted  \\\n",
       "0                      0.07                  0.08                   46   \n",
       "1                      0.27                  0.33                   47   \n",
       "2                      0.33                  0.62                   96   \n",
       "4                      0.35                  0.64                   74   \n",
       "6                      0.21                  0.38                  175   \n",
       "8                      0.11                  0.19                   69   \n",
       "12                     0.41                  0.58                   96   \n",
       "13                     0.43                  0.70                   64   \n",
       "14                     0.24                  0.51                   34   \n",
       "\n",
       "    pressures_attempted/90  pressures_completed  pressures_completed/90  \\\n",
       "0                     3.13                   19                    1.29   \n",
       "1                     3.15                   16                    1.07   \n",
       "2                     3.21                   38                    1.27   \n",
       "4                     3.66                   21                    1.04   \n",
       "6                     4.17                   70                    1.67   \n",
       "8                     3.83                   23                    1.28   \n",
       "12                    4.98                   25                    1.30   \n",
       "13                    4.63                   17                    1.23   \n",
       "14                    2.00                   12                    0.71   \n",
       "\n",
       "    pressure_success_%  possession_won/90  possession_lost/90  poss+_/90  \\\n",
       "0                41.30               9.13                6.20       2.93   \n",
       "1                34.04              13.06                5.56       7.50   \n",
       "2                39.58              12.88                4.88       8.00   \n",
       "4                28.38              12.77                5.89       6.88   \n",
       "6                40.00              14.73                4.22      10.51   \n",
       "8                33.33              12.10                7.10       5.00   \n",
       "12               26.04              11.87                7.67       4.20   \n",
       "13               26.56              13.60                6.15       7.45   \n",
       "14               35.29              10.82                5.65       5.17   \n",
       "\n",
       "    poss+__%  tackles_attempted/90  tackles_completed/90  tackle_completion_%  \\\n",
       "0      47.26                  1.16                  0.89                   76   \n",
       "1     134.89                  0.87                  0.60                   69   \n",
       "2     163.93                  1.40                  1.10                   79   \n",
       "4     116.81                  1.53                  1.24                   81   \n",
       "6     249.05                  1.72                  1.41                   82   \n",
       "8      70.42                  1.83                  1.22                   67   \n",
       "12     54.76                  2.33                  1.76                   76   \n",
       "13    121.14                  2.53                  1.81                   71   \n",
       "14     91.50                  1.53                  1.12                   73   \n",
       "\n",
       "    tackles_failed/90  key_tackles/90  tackle_quality  interceptions/90  \\\n",
       "0                0.27            0.00            1.13              1.02   \n",
       "1                0.27            0.33            3.25              1.67   \n",
       "2                0.30            0.30            2.80              1.64   \n",
       "4                0.30            0.49            2.38              2.13   \n",
       "6                0.31            0.36            4.50              1.79   \n",
       "8                0.61            0.22            2.20              2.05   \n",
       "12               0.57            0.10            4.50              1.71   \n",
       "13               0.72            0.51            5.83              1.81   \n",
       "14               0.41            0.35            2.89              1.29   \n",
       "\n",
       "    blocks/90  shots_blocked/90  headers_attempted/90  headers_won/90  \\\n",
       "0        0.61              0.55                  5.86            4.22   \n",
       "1        0.74              0.60                  7.43            6.29   \n",
       "2        0.27              0.27                  8.66            6.69   \n",
       "4        0.49              0.35                  8.31            6.28   \n",
       "6        0.48              0.31                  7.77            6.10   \n",
       "8        0.94              0.78                  7.82            6.33   \n",
       "12       0.52              0.31                  8.35            5.91   \n",
       "13       0.58              0.29                  6.95            5.06   \n",
       "14       0.47              0.41                  7.88            6.41   \n",
       "\n",
       "    headers_won_%  headers_lost/90  headers_lost_%  key_headers/90  \\\n",
       "0           72.09             1.64           27.91            0.82   \n",
       "1           84.68             1.14           15.32            1.07   \n",
       "2           77.22             1.97           22.78            0.90   \n",
       "4           75.60             2.03           24.40            0.89   \n",
       "6           78.53             1.67           21.47            1.26   \n",
       "8           80.85             1.50           19.15            1.50   \n",
       "12          70.81             2.44           29.19            0.83   \n",
       "13          72.92             1.88           27.08            0.22   \n",
       "14          81.34             1.47           18.66            1.47   \n",
       "\n",
       "    aerial_challenges_attempted/90  duels_win_%  fouls_won/90  \\\n",
       "0                             5.86        72.82          0.00   \n",
       "1                             7.43        83.06          0.07   \n",
       "2                             8.66        77.41          0.10   \n",
       "4                             8.31        76.38          0.05   \n",
       "6                             7.77        79.15          0.14   \n",
       "8                             7.82        78.16          0.17   \n",
       "12                            8.35        71.84          0.21   \n",
       "13                            6.95        72.52          0.07   \n",
       "14                            7.88        80.00          0.06   \n",
       "\n",
       "    fouls_committed/90  clearances/90  attacking_actions/90  \\\n",
       "0                 1.02           1.57                  0.25   \n",
       "1                 0.27           0.94                  0.40   \n",
       "2                 0.50           1.47                  0.25   \n",
       "4                 0.64           1.73                  0.57   \n",
       "6                 0.38           1.05                  0.81   \n",
       "8                 0.83           2.50                  0.38   \n",
       "12                0.52           1.24                  1.09   \n",
       "13                0.43           1.01                  0.59   \n",
       "14                0.53           2.47                  0.86   \n",
       "\n",
       "    creative_actions/90  defensive_actions/90  excitement_factor/90  \\\n",
       "0                  0.14                 15.19                  0.48   \n",
       "1                  0.33                 21.39                  0.67   \n",
       "2                  0.37                 20.58                  1.10   \n",
       "4                  0.45                 22.87                  1.53   \n",
       "6                  0.36                 23.90                  1.79   \n",
       "8                  0.11                 26.61                  0.89   \n",
       "12                 0.73                 18.48                  2.59   \n",
       "13                 0.58                 16.90                  1.45   \n",
       "14                 0.29                 25.36                  1.59   \n",
       "\n",
       "    general_performance  goalkeeping  defensive_defender  creative_defender  \\\n",
       "0                    20          100                   0                 47   \n",
       "1                    40          100                  20                 27   \n",
       "2                    47          100                  13                 13   \n",
       "4                    60          100                  73                 53   \n",
       "6                    53          100                  53                 27   \n",
       "8                     7          100                  60                 20   \n",
       "12                  100          100                  33                 87   \n",
       "13                   67          100                  47                 80   \n",
       "14                   13          100                  27                  7   \n",
       "\n",
       "    attacking_defender  creative_midfielder  attacking_midfielder  \\\n",
       "0                   53                   13                    13   \n",
       "1                   40                   53                    60   \n",
       "2                   47                    7                     0   \n",
       "4                   60                   60                    33   \n",
       "6                   33                   67                    73   \n",
       "8                    0                   20                    20   \n",
       "12                  87                  100                    80   \n",
       "13                  80                   80                    67   \n",
       "14                  27                   47                    47   \n",
       "\n",
       "    creative_winger  attacking_winger  creative_forward  attacking_forward  \\\n",
       "0                20                 7                13                  0   \n",
       "1                47                47                60                 40   \n",
       "2                 0                13                 7                 13   \n",
       "4                40                53                47                 60   \n",
       "6                67                67                67                 73   \n",
       "8                13                20                20                 27   \n",
       "12               80               100               100                 80   \n",
       "13               73                80                73                 87   \n",
       "14               27                40                33                 53   \n",
       "\n",
       "    finisher  aerial_threat  reader  assister  price_estimate_M  \n",
       "0         13             13       0         0             6.165  \n",
       "1         60             67      53        13             7.050  \n",
       "2          0             80      40        47             1.386  \n",
       "4         80             60      73        80             8.280  \n",
       "6         87             73      80        67            12.120  \n",
       "8         67            100      87        13            44.400  \n",
       "12         7             53      20       100            19.800  \n",
       "13        27              7      27        53            16.200  \n",
       "14       100             87      67        13             2.838  "
      ]
     },
     "execution_count": 45,
     "metadata": {},
     "output_type": "execute_result"
    }
   ],
   "source": [
    "df_players.head(10)"
   ]
  },
  {
   "cell_type": "code",
   "execution_count": 46,
   "id": "c367b34a",
   "metadata": {},
   "outputs": [
    {
     "data": {
      "text/plain": [
       "division\n",
       "3F Superliga                           2\n",
       "Campeonato Brasileiro Série A Assaí    1\n",
       "Eliteserien                            1\n",
       "Eredivisie                             1\n",
       "Ligue 1 Uber Eats                      3\n",
       "Serie A TIM                            1\n",
       "Name: id, dtype: int64"
      ]
     },
     "execution_count": 46,
     "metadata": {},
     "output_type": "execute_result"
    }
   ],
   "source": [
    "df_players.groupby('division')['id'].count()"
   ]
  },
  {
   "cell_type": "code",
   "execution_count": 47,
   "id": "baaaccaa",
   "metadata": {},
   "outputs": [
    {
     "data": {
      "text/html": [
       "<div>\n",
       "<style scoped>\n",
       "    .dataframe tbody tr th:only-of-type {\n",
       "        vertical-align: middle;\n",
       "    }\n",
       "\n",
       "    .dataframe tbody tr th {\n",
       "        vertical-align: top;\n",
       "    }\n",
       "\n",
       "    .dataframe thead th {\n",
       "        text-align: right;\n",
       "    }\n",
       "</style>\n",
       "<table border=\"1\" class=\"dataframe\">\n",
       "  <thead>\n",
       "    <tr style=\"text-align: right;\">\n",
       "      <th></th>\n",
       "      <th>id</th>\n",
       "      <th>name</th>\n",
       "      <th>position</th>\n",
       "      <th>age</th>\n",
       "      <th>height</th>\n",
       "      <th>weight</th>\n",
       "      <th>inf</th>\n",
       "      <th>club</th>\n",
       "      <th>division</th>\n",
       "      <th>nationality</th>\n",
       "      <th>home_grown</th>\n",
       "      <th>personality</th>\n",
       "      <th>media_handling</th>\n",
       "      <th>wage</th>\n",
       "      <th>transfer_value</th>\n",
       "      <th>asking_price</th>\n",
       "      <th>preferred_foot</th>\n",
       "      <th>starts</th>\n",
       "      <th>minutes_played</th>\n",
       "      <th>average_rating</th>\n",
       "      <th>sub_appearances</th>\n",
       "      <th>minutes/game</th>\n",
       "      <th>index</th>\n",
       "      <th>passes_attempted/90</th>\n",
       "      <th>passes_completed/90</th>\n",
       "      <th>pass_completion_%</th>\n",
       "      <th>progressive_passes/90</th>\n",
       "      <th>progressive_pass_rate</th>\n",
       "      <th>key_passes/90</th>\n",
       "      <th>key_pass_%</th>\n",
       "      <th>open_play_key_passes/90</th>\n",
       "      <th>open_play_key_pass_%</th>\n",
       "      <th>pressures_attempted</th>\n",
       "      <th>pressures_attempted/90</th>\n",
       "      <th>pressures_completed</th>\n",
       "      <th>pressures_completed/90</th>\n",
       "      <th>pressure_success_%</th>\n",
       "      <th>possession_won/90</th>\n",
       "      <th>possession_lost/90</th>\n",
       "      <th>poss+_/90</th>\n",
       "      <th>poss+__%</th>\n",
       "      <th>tackles_attempted/90</th>\n",
       "      <th>tackles_completed/90</th>\n",
       "      <th>tackle_completion_%</th>\n",
       "      <th>tackles_failed/90</th>\n",
       "      <th>key_tackles/90</th>\n",
       "      <th>tackle_quality</th>\n",
       "      <th>interceptions/90</th>\n",
       "      <th>blocks/90</th>\n",
       "      <th>shots_blocked/90</th>\n",
       "      <th>headers_attempted/90</th>\n",
       "      <th>headers_won/90</th>\n",
       "      <th>headers_won_%</th>\n",
       "      <th>headers_lost/90</th>\n",
       "      <th>headers_lost_%</th>\n",
       "      <th>key_headers/90</th>\n",
       "      <th>aerial_challenges_attempted/90</th>\n",
       "      <th>duels_win_%</th>\n",
       "      <th>fouls_won/90</th>\n",
       "      <th>fouls_committed/90</th>\n",
       "      <th>clearances/90</th>\n",
       "      <th>attacking_actions/90</th>\n",
       "      <th>creative_actions/90</th>\n",
       "      <th>defensive_actions/90</th>\n",
       "      <th>excitement_factor/90</th>\n",
       "      <th>general_performance</th>\n",
       "      <th>goalkeeping</th>\n",
       "      <th>defensive_defender</th>\n",
       "      <th>creative_defender</th>\n",
       "      <th>attacking_defender</th>\n",
       "      <th>creative_midfielder</th>\n",
       "      <th>attacking_midfielder</th>\n",
       "      <th>creative_winger</th>\n",
       "      <th>attacking_winger</th>\n",
       "      <th>creative_forward</th>\n",
       "      <th>attacking_forward</th>\n",
       "      <th>finisher</th>\n",
       "      <th>aerial_threat</th>\n",
       "      <th>reader</th>\n",
       "      <th>assister</th>\n",
       "      <th>price_estimate_M</th>\n",
       "    </tr>\n",
       "  </thead>\n",
       "  <tbody>\n",
       "    <tr>\n",
       "      <th>6</th>\n",
       "      <td>19232517</td>\n",
       "      <td>Pedro Henrique</td>\n",
       "      <td>D (C)</td>\n",
       "      <td>28</td>\n",
       "      <td>188 cm</td>\n",
       "      <td>82 kg</td>\n",
       "      <td>Wnt</td>\n",
       "      <td>Athlético Paranaense</td>\n",
       "      <td>Campeonato Brasileiro Série A Assaí</td>\n",
       "      <td>BRA</td>\n",
       "      <td>-</td>\n",
       "      <td>-</td>\n",
       "      <td>Scouting Required</td>\n",
       "      <td>$9,000 p/w</td>\n",
       "      <td>$9.2M - $11M</td>\n",
       "      <td>-</td>\n",
       "      <td>Right</td>\n",
       "      <td>44</td>\n",
       "      <td>3775</td>\n",
       "      <td>7.03</td>\n",
       "      <td>2</td>\n",
       "      <td>82.07</td>\n",
       "      <td>6</td>\n",
       "      <td>57.22</td>\n",
       "      <td>51.52</td>\n",
       "      <td>90</td>\n",
       "      <td>3.58</td>\n",
       "      <td>6.25</td>\n",
       "      <td>0.21</td>\n",
       "      <td>0.38</td>\n",
       "      <td>0.21</td>\n",
       "      <td>0.38</td>\n",
       "      <td>175</td>\n",
       "      <td>4.17</td>\n",
       "      <td>70</td>\n",
       "      <td>1.67</td>\n",
       "      <td>40.0</td>\n",
       "      <td>14.73</td>\n",
       "      <td>4.22</td>\n",
       "      <td>10.51</td>\n",
       "      <td>249.05</td>\n",
       "      <td>1.72</td>\n",
       "      <td>1.41</td>\n",
       "      <td>82</td>\n",
       "      <td>0.31</td>\n",
       "      <td>0.36</td>\n",
       "      <td>4.5</td>\n",
       "      <td>1.79</td>\n",
       "      <td>0.48</td>\n",
       "      <td>0.31</td>\n",
       "      <td>7.77</td>\n",
       "      <td>6.1</td>\n",
       "      <td>78.53</td>\n",
       "      <td>1.67</td>\n",
       "      <td>21.47</td>\n",
       "      <td>1.26</td>\n",
       "      <td>7.77</td>\n",
       "      <td>79.15</td>\n",
       "      <td>0.14</td>\n",
       "      <td>0.38</td>\n",
       "      <td>1.05</td>\n",
       "      <td>0.81</td>\n",
       "      <td>0.36</td>\n",
       "      <td>23.9</td>\n",
       "      <td>1.79</td>\n",
       "      <td>53</td>\n",
       "      <td>100</td>\n",
       "      <td>53</td>\n",
       "      <td>27</td>\n",
       "      <td>33</td>\n",
       "      <td>67</td>\n",
       "      <td>73</td>\n",
       "      <td>67</td>\n",
       "      <td>67</td>\n",
       "      <td>67</td>\n",
       "      <td>73</td>\n",
       "      <td>87</td>\n",
       "      <td>73</td>\n",
       "      <td>80</td>\n",
       "      <td>67</td>\n",
       "      <td>12.12</td>\n",
       "    </tr>\n",
       "  </tbody>\n",
       "</table>\n",
       "</div>"
      ],
      "text/plain": [
       "         id            name position  age  height weight  inf  \\\n",
       "6  19232517  Pedro Henrique    D (C)   28  188 cm  82 kg  Wnt   \n",
       "\n",
       "                   club                             division nationality  \\\n",
       "6  Athlético Paranaense  Campeonato Brasileiro Série A Assaí         BRA   \n",
       "\n",
       "  home_grown personality     media_handling        wage transfer_value  \\\n",
       "6          -           -  Scouting Required  $9,000 p/w   $9.2M - $11M   \n",
       "\n",
       "  asking_price preferred_foot  starts  minutes_played  average_rating  \\\n",
       "6            -          Right      44            3775            7.03   \n",
       "\n",
       "   sub_appearances  minutes/game  index  passes_attempted/90  \\\n",
       "6                2         82.07      6                57.22   \n",
       "\n",
       "   passes_completed/90  pass_completion_%  progressive_passes/90  \\\n",
       "6                51.52                 90                   3.58   \n",
       "\n",
       "   progressive_pass_rate  key_passes/90  key_pass_%  open_play_key_passes/90  \\\n",
       "6                   6.25           0.21        0.38                     0.21   \n",
       "\n",
       "   open_play_key_pass_%  pressures_attempted  pressures_attempted/90  \\\n",
       "6                  0.38                  175                    4.17   \n",
       "\n",
       "   pressures_completed  pressures_completed/90  pressure_success_%  \\\n",
       "6                   70                    1.67                40.0   \n",
       "\n",
       "   possession_won/90  possession_lost/90  poss+_/90  poss+__%  \\\n",
       "6              14.73                4.22      10.51    249.05   \n",
       "\n",
       "   tackles_attempted/90  tackles_completed/90  tackle_completion_%  \\\n",
       "6                  1.72                  1.41                   82   \n",
       "\n",
       "   tackles_failed/90  key_tackles/90  tackle_quality  interceptions/90  \\\n",
       "6               0.31            0.36             4.5              1.79   \n",
       "\n",
       "   blocks/90  shots_blocked/90  headers_attempted/90  headers_won/90  \\\n",
       "6       0.48              0.31                  7.77             6.1   \n",
       "\n",
       "   headers_won_%  headers_lost/90  headers_lost_%  key_headers/90  \\\n",
       "6          78.53             1.67           21.47            1.26   \n",
       "\n",
       "   aerial_challenges_attempted/90  duels_win_%  fouls_won/90  \\\n",
       "6                            7.77        79.15          0.14   \n",
       "\n",
       "   fouls_committed/90  clearances/90  attacking_actions/90  \\\n",
       "6                0.38           1.05                  0.81   \n",
       "\n",
       "   creative_actions/90  defensive_actions/90  excitement_factor/90  \\\n",
       "6                 0.36                  23.9                  1.79   \n",
       "\n",
       "   general_performance  goalkeeping  defensive_defender  creative_defender  \\\n",
       "6                   53          100                  53                 27   \n",
       "\n",
       "   attacking_defender  creative_midfielder  attacking_midfielder  \\\n",
       "6                  33                   67                    73   \n",
       "\n",
       "   creative_winger  attacking_winger  creative_forward  attacking_forward  \\\n",
       "6               67                67                67                 73   \n",
       "\n",
       "   finisher  aerial_threat  reader  assister  price_estimate_M  \n",
       "6        87             73      80        67             12.12  "
      ]
     },
     "execution_count": 47,
     "metadata": {},
     "output_type": "execute_result"
    }
   ],
   "source": [
    "df_players.groupby('division').get_group('Campeonato Brasileiro Série A Assaí').sort_values('age')"
   ]
  },
  {
   "cell_type": "code",
   "execution_count": null,
   "id": "8d3f5bf1",
   "metadata": {},
   "outputs": [],
   "source": []
  }
 ],
 "metadata": {
  "kernelspec": {
   "display_name": ".venv",
   "language": "python",
   "name": "python3"
  },
  "language_info": {
   "codemirror_mode": {
    "name": "ipython",
    "version": 3
   },
   "file_extension": ".py",
   "mimetype": "text/x-python",
   "name": "python",
   "nbconvert_exporter": "python",
   "pygments_lexer": "ipython3",
   "version": "3.12.7"
  }
 },
 "nbformat": 4,
 "nbformat_minor": 5
}
